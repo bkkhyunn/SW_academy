{
 "cells": [
  {
   "cell_type": "code",
   "execution_count": 2,
   "id": "cbf58cf4",
   "metadata": {},
   "outputs": [],
   "source": [
    "a = 1\n",
    "# 좌변(a)은 '이름(name)' 또는 '식별자(identifier)' 라고 한다.\n",
    "# '변수'라고 안하는 이유는, 우변에는 값 이나 식 등등 expression이 올 수 있기 때문.\n",
    "# ! 여기서 식이란 하나의 결과값으로 축약할 수 있는 것을 말한다.\n",
    "# a = 1 에서 '='을 '할당(assignment)'이라고 하고, 우변을 표현식(expression)이라고 함\n",
    "# 식이란?\n",
    "# 하나의 결과값으로 축약할 수 있는 것.\n",
    "# ex. 1 + 1\n",
    "# lambda는 표현식.\n",
    "# 따라서 a 에는 표현식도 할당될 수 있기 때문에 '변수'가 아니라 '이름' 또는 '식별자' 라고 한다."
   ]
  },
  {
   "cell_type": "code",
   "execution_count": 2,
   "id": "2e513d4c",
   "metadata": {},
   "outputs": [],
   "source": [
    "import antigravity\n",
    "# 파이썬 만화를 풀러오는 것"
   ]
  },
  {
   "attachments": {},
   "cell_type": "markdown",
   "id": "90a181ec",
   "metadata": {
    "notebookRunGroups": {
     "groupValue": ""
    }
   },
   "source": [
    "**파이썬의 특징**"
   ]
  },
  {
   "cell_type": "code",
   "execution_count": null,
   "id": "28bceef4",
   "metadata": {},
   "outputs": [],
   "source": [
    "# 동적 언어(Dynamic)\n",
    "\n",
    "# literal 이란?\n",
    "# -> 데이터 타입을 결정하는 특수문자 같은 것들.\n",
    "\n",
    "# python 에서는 literal 개념을 제공하기 때문에 타입을 따로 정해주지 않아도 python이 확인을 함\n",
    "# -> 따라서 속도적 측면에서 조금 늦음(한번 더 확인하기 때문)\n",
    "# 할당하는 순간 일어나는 과정\n",
    "# -> literal을 보고 데이터 타입을 결정함 (첫번째)\n",
    "# -> 메모리 번지를 결정해줌 (두번째)"
   ]
  },
  {
   "cell_type": "code",
   "execution_count": 3,
   "id": "7fc0a952",
   "metadata": {},
   "outputs": [
    {
     "data": {
      "text/plain": [
       "140491199119600"
      ]
     },
     "execution_count": 3,
     "metadata": {},
     "output_type": "execute_result"
    }
   ],
   "source": [
    "id(a)"
   ]
  },
  {
   "cell_type": "code",
   "execution_count": 2,
   "id": "eea6cc85",
   "metadata": {},
   "outputs": [
    {
     "ename": "NameError",
     "evalue": "name 'b' is not defined",
     "output_type": "error",
     "traceback": [
      "\u001b[0;31m---------------------------------------------------------------------------\u001b[0m",
      "\u001b[0;31mNameError\u001b[0m                                 Traceback (most recent call last)",
      "Cell \u001b[0;32mIn[2], line 1\u001b[0m\n\u001b[0;32m----> 1\u001b[0m \u001b[43mb\u001b[49m\n",
      "\u001b[0;31mNameError\u001b[0m: name 'b' is not defined"
     ]
    }
   ],
   "source": [
    "b"
   ]
  },
  {
   "cell_type": "code",
   "execution_count": null,
   "id": "3aaea7a1",
   "metadata": {},
   "outputs": [],
   "source": [
    "# Number\n",
    "# '수'의 특징은 atomic -> 더이상 쪼개질 수 없는 것. 숫자는 쪼개지면 의미가 달라지기 때문\n",
    "# 파이썬의 숫자는 몇가지 종류? 4가지\n",
    "# 1. 정수(integer, literal이 없는 숫자는 다 정수)\n",
    "# 2. 부동소수점(float) -> . 과 e\n",
    "# 3. 복소수(complex) -> literal이 j가 들어갈 때 복소수\n",
    "# 4. Ture/False(bool) -> True는 파이썬에서 무조건 1, False는 무조건 0\n",
    "#   -> 편의성을 위해서 만듦. int를 상속해서 숫자로 만든 것이 bool type"
   ]
  },
  {
   "cell_type": "code",
   "execution_count": 4,
   "id": "b30cb6b3",
   "metadata": {},
   "outputs": [],
   "source": [
    "a = 1e2"
   ]
  },
  {
   "cell_type": "code",
   "execution_count": 5,
   "id": "a6162566",
   "metadata": {},
   "outputs": [
    {
     "data": {
      "text/plain": [
       "100.0"
      ]
     },
     "execution_count": 5,
     "metadata": {},
     "output_type": "execute_result"
    }
   ],
   "source": [
    "a"
   ]
  },
  {
   "cell_type": "code",
   "execution_count": 6,
   "id": "ac885780",
   "metadata": {},
   "outputs": [
    {
     "data": {
      "text/plain": [
       "0.30000000000000004"
      ]
     },
     "execution_count": 6,
     "metadata": {},
     "output_type": "execute_result"
    }
   ],
   "source": [
    "# int vs float 어느게 더 빠르고 정확할까?\n",
    "0.1 + 0.1 + 0.1"
   ]
  },
  {
   "cell_type": "code",
   "execution_count": null,
   "id": "13362b11",
   "metadata": {},
   "outputs": [],
   "source": [
    "# 위가 0.3 이 아닌 이유\n",
    "# 부동소수점은 정확히 계산하는 것이 아니라 근사적으로 '빠르게' 계산함\n",
    "# 상황에 따라서 데이터 타입을 결정해야 하기 때문에 숫자타입이 여러개 있는 것.    "
   ]
  },
  {
   "cell_type": "code",
   "execution_count": 7,
   "id": "71e14475",
   "metadata": {},
   "outputs": [
    {
     "data": {
      "text/plain": [
       "complex"
      ]
     },
     "execution_count": 7,
     "metadata": {},
     "output_type": "execute_result"
    }
   ],
   "source": [
    "a = 1 + 3j\n",
    "type(a)"
   ]
  },
  {
   "cell_type": "code",
   "execution_count": 8,
   "id": "9a041d66",
   "metadata": {},
   "outputs": [
    {
     "data": {
      "text/plain": [
       "True"
      ]
     },
     "execution_count": 8,
     "metadata": {},
     "output_type": "execute_result"
    }
   ],
   "source": [
    "issubclass(bool, int)"
   ]
  },
  {
   "cell_type": "code",
   "execution_count": null,
   "id": "1c0bcae4",
   "metadata": {},
   "outputs": [],
   "source": [
    "# int의 종류\n",
    "# 2진법  0b\n",
    "# 8진법  0o\n",
    "# 10진법\n",
    "# 16진법 0x\n",
    "\n",
    "# 파이썬에서 int의 크기는 무한대. 파이썬에는 오버플로우가 없음. 그러나 maxsize를 넘어가면 속도가 줄어듦."
   ]
  },
  {
   "cell_type": "code",
   "execution_count": 17,
   "id": "0b55821e",
   "metadata": {},
   "outputs": [
    {
     "data": {
      "text/plain": [
       "0"
      ]
     },
     "execution_count": 17,
     "metadata": {},
     "output_type": "execute_result"
    }
   ],
   "source": [
    "a = 0b0\n",
    "a"
   ]
  },
  {
   "cell_type": "code",
   "execution_count": 18,
   "id": "02f3c2cb",
   "metadata": {},
   "outputs": [
    {
     "data": {
      "text/plain": [
       "9223372036854775807"
      ]
     },
     "execution_count": 18,
     "metadata": {},
     "output_type": "execute_result"
    }
   ],
   "source": [
    "import sys\n",
    "sys.maxsize"
   ]
  },
  {
   "cell_type": "code",
   "execution_count": 19,
   "id": "e193eb6b",
   "metadata": {},
   "outputs": [
    {
     "data": {
      "text/plain": [
       "10000"
      ]
     },
     "execution_count": 19,
     "metadata": {},
     "output_type": "execute_result"
    }
   ],
   "source": [
    "a = 100_00\n",
    "# _는 아무 의미도 없지만 사람이 확인하려는 용도(예를 들어 띄어쓰기)로 만드는 것.\n",
    "# big한 것들을 다룰 때는 파이썬이 너무 느려서 numpy를 이용\n",
    "a"
   ]
  },
  {
   "cell_type": "code",
   "execution_count": 20,
   "id": "bed4130a",
   "metadata": {},
   "outputs": [
    {
     "data": {
      "text/plain": [
       "sys.float_info(max=1.7976931348623157e+308, max_exp=1024, max_10_exp=308, min=2.2250738585072014e-308, min_exp=-1021, min_10_exp=-307, dig=15, mant_dig=53, epsilon=2.220446049250313e-16, radix=2, rounds=1)"
      ]
     },
     "execution_count": 20,
     "metadata": {},
     "output_type": "execute_result"
    }
   ],
   "source": [
    "#float\n",
    "# 근사적으로 계산\n",
    "sys.float_info"
   ]
  },
  {
   "cell_type": "code",
   "execution_count": 21,
   "id": "e86d7ea8",
   "metadata": {},
   "outputs": [],
   "source": [
    "a = 1.7976931348623157e+308\n",
    "b = a + 1"
   ]
  },
  {
   "cell_type": "code",
   "execution_count": 22,
   "id": "d40baf60",
   "metadata": {},
   "outputs": [
    {
     "data": {
      "text/plain": [
       "True"
      ]
     },
     "execution_count": 22,
     "metadata": {},
     "output_type": "execute_result"
    }
   ],
   "source": [
    "a == b"
   ]
  },
  {
   "cell_type": "code",
   "execution_count": 23,
   "id": "386f2169",
   "metadata": {},
   "outputs": [
    {
     "data": {
      "text/plain": [
       "0.9999999999999999"
      ]
     },
     "execution_count": 23,
     "metadata": {},
     "output_type": "execute_result"
    }
   ],
   "source": [
    "0.7 + 0.1 + 0.1 + 0.1"
   ]
  },
  {
   "cell_type": "code",
   "execution_count": 24,
   "id": "af67cf5e",
   "metadata": {},
   "outputs": [],
   "source": [
    "a = 1.7976931348623157e+309"
   ]
  },
  {
   "cell_type": "code",
   "execution_count": 25,
   "id": "1cd8447f",
   "metadata": {},
   "outputs": [
    {
     "data": {
      "text/plain": [
       "inf"
      ]
     },
     "execution_count": 25,
     "metadata": {},
     "output_type": "execute_result"
    }
   ],
   "source": [
    "a # 무한대\n",
    "# 파이썬에서 무한대는 데이터 타입이 float인 것을 확인할 수 있음."
   ]
  },
  {
   "cell_type": "code",
   "execution_count": null,
   "id": "b4c1cd87",
   "metadata": {},
   "outputs": [],
   "source": [
    "# float('inf')\n",
    "# 이러한 방식을 instance 방식이라고 함."
   ]
  },
  {
   "cell_type": "code",
   "execution_count": null,
   "id": "fcc994be",
   "metadata": {},
   "outputs": [],
   "source": [
    "# 값을 만드는 방식은 두 가지.\n",
    "# literal 방식과 instance 방식\n",
    "#! literal 방식은 위에서 보았듯 데이터 타입을 결정하는 특수문자.\n",
    "#! instance 방식은 int(), float() 과 같은 방식."
   ]
  },
  {
   "cell_type": "code",
   "execution_count": 26,
   "id": "d8b15bc5",
   "metadata": {},
   "outputs": [
    {
     "data": {
      "text/plain": [
       "nan"
      ]
     },
     "execution_count": 26,
     "metadata": {},
     "output_type": "execute_result"
    }
   ],
   "source": [
    "float('nan')\n",
    "# 숫자가 아닌 것도 숫자로 만들어 버림."
   ]
  },
  {
   "cell_type": "code",
   "execution_count": null,
   "id": "116828e9",
   "metadata": {},
   "outputs": [],
   "source": [
    "# 문자열\n",
    "#! container <-> automic(수)\n",
    "# container 는 여러 개를 묶는 것.(쪼갤 수 있다는 것)\n",
    "# 문자는 쪼갤 수 있다."
   ]
  },
  {
   "cell_type": "code",
   "execution_count": 27,
   "id": "b504ee81",
   "metadata": {},
   "outputs": [
    {
     "name": "stdout",
     "output_type": "stream",
     "text": [
      "The Zen of Python, by Tim Peters\n",
      "\n",
      "Beautiful is better than ugly.\n",
      "Explicit is better than implicit.\n",
      "Simple is better than complex.\n",
      "Complex is better than complicated.\n",
      "Flat is better than nested.\n",
      "Sparse is better than dense.\n",
      "Readability counts.\n",
      "Special cases aren't special enough to break the rules.\n",
      "Although practicality beats purity.\n",
      "Errors should never pass silently.\n",
      "Unless explicitly silenced.\n",
      "In the face of ambiguity, refuse the temptation to guess.\n",
      "There should be one-- and preferably only one --obvious way to do it.\n",
      "Although that way may not be obvious at first unless you're Dutch.\n",
      "Now is better than never.\n",
      "Although never is often better than *right* now.\n",
      "If the implementation is hard to explain, it's a bad idea.\n",
      "If the implementation is easy to explain, it may be a good idea.\n",
      "Namespaces are one honking great idea -- let's do more of those!\n"
     ]
    }
   ],
   "source": [
    "import this\n",
    "# 파이썬의 최고경지"
   ]
  },
  {
   "cell_type": "code",
   "execution_count": null,
   "id": "c3d23dcc",
   "metadata": {},
   "outputs": [],
   "source": [
    "# 문자열의 데이터 타입 3개 or 4개"
   ]
  },
  {
   "cell_type": "code",
   "execution_count": 28,
   "id": "721e945a",
   "metadata": {},
   "outputs": [
    {
     "data": {
      "text/plain": [
       "str"
      ]
     },
     "execution_count": 28,
     "metadata": {},
     "output_type": "execute_result"
    }
   ],
   "source": [
    "a = \"문근영\"\n",
    "type(a)"
   ]
  },
  {
   "cell_type": "code",
   "execution_count": 48,
   "id": "51cf15b2",
   "metadata": {},
   "outputs": [],
   "source": [
    "# literal 중에 b\n",
    "# byte는 2의 8승"
   ]
  },
  {
   "cell_type": "code",
   "execution_count": 49,
   "id": "999c3c3e",
   "metadata": {},
   "outputs": [
    {
     "ename": "SyntaxError",
     "evalue": "bytes can only contain ASCII literal characters (2618086120.py, line 1)",
     "output_type": "error",
     "traceback": [
      "\u001b[0;36m  Cell \u001b[0;32mIn[49], line 1\u001b[0;36m\u001b[0m\n\u001b[0;31m    a = b\"문근영\"\u001b[0m\n\u001b[0m              ^\u001b[0m\n\u001b[0;31mSyntaxError\u001b[0m\u001b[0;31m:\u001b[0m bytes can only contain ASCII literal characters\n"
     ]
    }
   ],
   "source": [
    "a = b\"문근영\""
   ]
  },
  {
   "cell_type": "code",
   "execution_count": null,
   "id": "c2a28d6b",
   "metadata": {},
   "outputs": [],
   "source": [
    "# 바이트라는 문자열은 유니코드(한글)는 못쓰고 ASCII 를 씀"
   ]
  },
  {
   "cell_type": "code",
   "execution_count": 31,
   "id": "09331bb7",
   "metadata": {},
   "outputs": [
    {
     "data": {
      "text/plain": [
       "b'abc'"
      ]
     },
     "execution_count": 31,
     "metadata": {},
     "output_type": "execute_result"
    }
   ],
   "source": [
    "a = b\"abc\"\n",
    "a"
   ]
  },
  {
   "cell_type": "code",
   "execution_count": null,
   "id": "62b51cdd",
   "metadata": {},
   "outputs": [],
   "source": [
    "# byte array\n",
    "# memory"
   ]
  },
  {
   "cell_type": "code",
   "execution_count": null,
   "id": "076e69ad",
   "metadata": {},
   "outputs": [],
   "source": [
    "# container 는 collection이라고도 함.\n",
    "# container 는 쪼갤 수 있음.\n",
    "# container 도 두 개가 있음. #! homo 와 hetero"
   ]
  },
  {
   "cell_type": "code",
   "execution_count": 32,
   "id": "150e8dc2",
   "metadata": {},
   "outputs": [
    {
     "data": {
      "text/plain": [
       "list"
      ]
     },
     "execution_count": 32,
     "metadata": {},
     "output_type": "execute_result"
    }
   ],
   "source": [
    "a = [1, '1']\n",
    "type(a)\n",
    "# list 는 hetero기 때문에 데이터 타입이 어떤 것이든 상관 없음.\n",
    "# 문자는 homo."
   ]
  },
  {
   "cell_type": "code",
   "execution_count": null,
   "id": "db5c4a03",
   "metadata": {},
   "outputs": [],
   "source": [
    "\n",
    "#! 즉 homo 는 데이터 타입이 동일해야 하는 것. ex. str\n",
    "#! hetero는 데이터 타입이 다른 것도 포함될 수 있음. ex. list"
   ]
  },
  {
   "cell_type": "code",
   "execution_count": 33,
   "id": "9939edaf",
   "metadata": {},
   "outputs": [
    {
     "data": {
      "text/plain": [
       "array(['1', '1'], dtype='<U21')"
      ]
     },
     "execution_count": 33,
     "metadata": {},
     "output_type": "execute_result"
    }
   ],
   "source": [
    "import numpy as np\n",
    "np.array([1, '1'])\n",
    "# 호모 데이터 타입이기 때문에 데이터 타입을 다 같은 것으로 바꿔줌. 아래를 보면 다 str 으로 바뀜"
   ]
  },
  {
   "cell_type": "code",
   "execution_count": 56,
   "id": "118d17ef",
   "metadata": {},
   "outputs": [],
   "source": [
    "# container는 호모와 헤테로를 알아야 함.\n",
    "# 호모는 속도가 빠름. 데이터 타입이 똑같으니까 하나하나 체크하지 않음.\n",
    "# 빠른 성능을 요구할 때 대부분 호모 타입을 씀."
   ]
  },
  {
   "cell_type": "code",
   "execution_count": 34,
   "id": "bb2a3445",
   "metadata": {},
   "outputs": [],
   "source": [
    "import array\n",
    "# 성능차이가 확연함."
   ]
  },
  {
   "cell_type": "code",
   "execution_count": 58,
   "id": "4a34d0ea",
   "metadata": {},
   "outputs": [],
   "source": [
    "# 순서가 있거나 없거나는 sequencial 이거나 non_sequencial 이거나.\n",
    "# 순서가 중요하지 않은 것\n",
    "# set(집합)"
   ]
  },
  {
   "cell_type": "code",
   "execution_count": 35,
   "id": "2352cfc8",
   "metadata": {},
   "outputs": [
    {
     "data": {
      "text/plain": [
       "{1, 2, 3, 4}"
      ]
     },
     "execution_count": 35,
     "metadata": {},
     "output_type": "execute_result"
    }
   ],
   "source": [
    "a = {1, 1, 2, 3, 4, 2, 3}\n",
    "a\n",
    "# 내부적으로는 순서를 정하지만 우리가 순서를 정하지 못함.\n",
    "# set은 순서를 우리가 정하지 못하고 중복 못함"
   ]
  },
  {
   "cell_type": "code",
   "execution_count": 36,
   "id": "cff216c3",
   "metadata": {},
   "outputs": [
    {
     "data": {
      "text/plain": [
       "'문'"
      ]
     },
     "execution_count": 36,
     "metadata": {},
     "output_type": "execute_result"
    }
   ],
   "source": [
    "# 순서가 있으면(우리가 정할 수 있으면) indexing을 할 수 있다.\n",
    "a = '문근영 예뻐요'\n",
    "a[0]"
   ]
  },
  {
   "cell_type": "code",
   "execution_count": 37,
   "id": "e9d9e6c9",
   "metadata": {},
   "outputs": [
    {
     "ename": "IndexError",
     "evalue": "string index out of range",
     "output_type": "error",
     "traceback": [
      "\u001b[0;31m---------------------------------------------------------------------------\u001b[0m",
      "\u001b[0;31mIndexError\u001b[0m                                Traceback (most recent call last)",
      "Cell \u001b[0;32mIn[37], line 1\u001b[0m\n\u001b[0;32m----> 1\u001b[0m a[\u001b[39m19\u001b[39;49m]\n",
      "\u001b[0;31mIndexError\u001b[0m: string index out of range"
     ]
    }
   ],
   "source": [
    "a[19]\n",
    "# index 수를 넘어가거나 없는 애들은 IndexError가 남.\n"
   ]
  },
  {
   "cell_type": "code",
   "execution_count": 39,
   "id": "72c8135d",
   "metadata": {},
   "outputs": [
    {
     "data": {
      "text/plain": [
       "'영 예뻐요'"
      ]
     },
     "execution_count": 39,
     "metadata": {},
     "output_type": "execute_result"
    }
   ],
   "source": [
    "# 한 개만 뽑는 것이 아니라 여러 개 뽑는 것을 slicing 이라고 함\n",
    "a[2:19]\n",
    "# slice 는 에러가 없음. 전통적인 프로그래밍 습관 때문에."
   ]
  },
  {
   "cell_type": "code",
   "execution_count": 40,
   "id": "988f9d36",
   "metadata": {},
   "outputs": [
    {
     "data": {
      "text/plain": [
       "[1, 2, 3]"
      ]
     },
     "execution_count": 40,
     "metadata": {},
     "output_type": "execute_result"
    }
   ],
   "source": [
    "a = [1, 2, 3]\n",
    "b = a\n",
    "b"
   ]
  },
  {
   "cell_type": "code",
   "execution_count": 41,
   "id": "5294102c",
   "metadata": {},
   "outputs": [
    {
     "data": {
      "text/plain": [
       "[1, 2, 3]"
      ]
     },
     "execution_count": 41,
     "metadata": {},
     "output_type": "execute_result"
    }
   ],
   "source": [
    "c = a[:]\n",
    "# copy의 기능\n",
    "a"
   ]
  },
  {
   "cell_type": "code",
   "execution_count": null,
   "id": "26606a9f",
   "metadata": {},
   "outputs": [],
   "source": [
    "# string(homo, sequence, immutable)\n",
    "# 문자열의 4가지 형태\n",
    "# str\n",
    "# byte\n",
    "# bytearray\n",
    "# memoryview\n",
    "# 중요한 것은 numeric은 automic 이고 str은 container"
   ]
  },
  {
   "cell_type": "code",
   "execution_count": null,
   "id": "1eddd500",
   "metadata": {},
   "outputs": [],
   "source": [
    "# container 의 중요한 특징\n",
    "# 즉 이것은 automic이 아니면 분류되는 3가지.\n",
    "# 1. homo vs hetero (데이터 종류가 같은가)\n",
    "# 2. sequence vs non-sequence (순서가 정해져 있는가)\n",
    "# 3. mmutable vs immutable (값을 수정할 수 있는가)"
   ]
  },
  {
   "cell_type": "code",
   "execution_count": 42,
   "id": "5db244b0",
   "metadata": {},
   "outputs": [
    {
     "data": {
      "text/plain": [
       "range(0, 10)"
      ]
     },
     "execution_count": 42,
     "metadata": {},
     "output_type": "execute_result"
    }
   ],
   "source": [
    "range(10)\n",
    "# 대표적 호모. 숫자로만 가능함."
   ]
  },
  {
   "cell_type": "code",
   "execution_count": 43,
   "id": "15daaf89",
   "metadata": {},
   "outputs": [
    {
     "data": {
      "text/plain": [
       "0"
      ]
     },
     "execution_count": 43,
     "metadata": {},
     "output_type": "execute_result"
    }
   ],
   "source": [
    "range(10)[0] # 순서가 있으니까 인덱싱이 가능"
   ]
  },
  {
   "cell_type": "code",
   "execution_count": null,
   "id": "3895ceca",
   "metadata": {},
   "outputs": [],
   "source": [
    "# list와 tuple -> mutable이냐 immutable이냐로 갈림.\n",
    "# list 는 실무에서 문제점이 많음"
   ]
  },
  {
   "cell_type": "code",
   "execution_count": null,
   "id": "8b931c76",
   "metadata": {},
   "outputs": [],
   "source": [
    "# mutable 이란?\n",
    "# 상수의 개념부터 정리해야 함."
   ]
  },
  {
   "cell_type": "code",
   "execution_count": null,
   "id": "74851776",
   "metadata": {},
   "outputs": [],
   "source": [
    "# variable, constant\n",
    "# => 변수는 뭐고 상수는 뭘까. tensor에도 이 개념이 나옴.\n",
    "# 맨 위의 a는 변수가 아니라 name 과 identifier 라고 했음.\n",
    "# 그렇다면 변수가 뭘까?\n",
    "# 파이썬에서는 상수(constant)가 없음. 상수처럼 취급은 할 수 있지만 상수가 없음."
   ]
  },
  {
   "cell_type": "code",
   "execution_count": 73,
   "id": "9beda662",
   "metadata": {},
   "outputs": [],
   "source": [
    "# 변수는 재할당이 가능함.\n",
    "a = 1\n",
    "a = 2"
   ]
  },
  {
   "cell_type": "code",
   "execution_count": 74,
   "id": "f66ffd29",
   "metadata": {},
   "outputs": [
    {
     "data": {
      "text/plain": [
       "2"
      ]
     },
     "execution_count": 74,
     "metadata": {},
     "output_type": "execute_result"
    }
   ],
   "source": [
    "a\n",
    "# 즉 a는 변할 수 있음. 그래서 변수라고 함."
   ]
  },
  {
   "cell_type": "code",
   "execution_count": null,
   "id": "dfeb3d18",
   "metadata": {},
   "outputs": [],
   "source": [
    "# 자바에서는 final int a = 1이라 하고\n",
    "# a =2 라고 하면 오류가 남. 한 번 고정시키면 바꿀 수 없기 때문에 상수."
   ]
  },
  {
   "cell_type": "code",
   "execution_count": 75,
   "id": "fdfd2f68",
   "metadata": {},
   "outputs": [],
   "source": [
    "# 그러나 파이썬에서는 모든 게 변수. 상수가 없음. 상수처럼 취급하는 것."
   ]
  },
  {
   "cell_type": "code",
   "execution_count": null,
   "id": "340c8bcd",
   "metadata": {},
   "outputs": [],
   "source": [
    "# 아래와 같이 변수는 재할당할 때마다 메모리가 달라짐."
   ]
  },
  {
   "cell_type": "code",
   "execution_count": 44,
   "id": "26e3d7dc",
   "metadata": {},
   "outputs": [
    {
     "data": {
      "text/plain": [
       "140491199119600"
      ]
     },
     "execution_count": 44,
     "metadata": {},
     "output_type": "execute_result"
    }
   ],
   "source": [
    "a = 1\n",
    "id(a)"
   ]
  },
  {
   "cell_type": "code",
   "execution_count": 45,
   "id": "5eda6fa7",
   "metadata": {},
   "outputs": [
    {
     "data": {
      "text/plain": [
       "140491199119632"
      ]
     },
     "execution_count": 45,
     "metadata": {},
     "output_type": "execute_result"
    }
   ],
   "source": [
    "a = 2\n",
    "id(a)"
   ]
  },
  {
   "cell_type": "code",
   "execution_count": 46,
   "id": "9bfa15e6",
   "metadata": {},
   "outputs": [
    {
     "data": {
      "text/plain": [
       "140491209295616"
      ]
     },
     "execution_count": 46,
     "metadata": {},
     "output_type": "execute_result"
    }
   ],
   "source": [
    "a = [1,2,3]\n",
    "id(a)"
   ]
  },
  {
   "cell_type": "code",
   "execution_count": 47,
   "id": "b923a417",
   "metadata": {},
   "outputs": [
    {
     "data": {
      "text/plain": [
       "140491209295616"
      ]
     },
     "execution_count": 47,
     "metadata": {},
     "output_type": "execute_result"
    }
   ],
   "source": [
    "a.append(4)\n",
    "id(a)"
   ]
  },
  {
   "cell_type": "code",
   "execution_count": null,
   "id": "122f1f57",
   "metadata": {},
   "outputs": [],
   "source": [
    "# 위처럼 값을 바꿔도 메모리 값이 바뀌지 않는 것이 mutable 이라고 한다."
   ]
  },
  {
   "cell_type": "code",
   "execution_count": 48,
   "id": "a9c37640",
   "metadata": {},
   "outputs": [],
   "source": [
    "a = [1,2,3]\n",
    "b = a"
   ]
  },
  {
   "cell_type": "code",
   "execution_count": 49,
   "id": "50abb830",
   "metadata": {},
   "outputs": [],
   "source": [
    "b.append(4)"
   ]
  },
  {
   "cell_type": "code",
   "execution_count": 50,
   "id": "13b83c2d",
   "metadata": {},
   "outputs": [
    {
     "data": {
      "text/plain": [
       "[1, 2, 3, 4]"
      ]
     },
     "execution_count": 50,
     "metadata": {},
     "output_type": "execute_result"
    }
   ],
   "source": [
    "b"
   ]
  },
  {
   "cell_type": "code",
   "execution_count": 51,
   "id": "44ed9f0e",
   "metadata": {},
   "outputs": [
    {
     "data": {
      "text/plain": [
       "[1, 2, 3, 4]"
      ]
     },
     "execution_count": 51,
     "metadata": {},
     "output_type": "execute_result"
    }
   ],
   "source": [
    "a"
   ]
  },
  {
   "cell_type": "code",
   "execution_count": null,
   "id": "67def9f7",
   "metadata": {},
   "outputs": [],
   "source": [
    "# 위에서 보여주는 것이 바로 mubtable의 특징. '공유'를 한다는 것.\n",
    "# b가 바뀔 때 a가 안 바뀌게 하기 위해서 copy개념을 씀"
   ]
  },
  {
   "cell_type": "code",
   "execution_count": 90,
   "id": "fb2e96e0",
   "metadata": {},
   "outputs": [],
   "source": [
    "b = a[:]"
   ]
  },
  {
   "cell_type": "code",
   "execution_count": 94,
   "id": "6fcbf7b6",
   "metadata": {},
   "outputs": [],
   "source": [
    "# 이 테크닉은 쓰지 말라고 함. 그냥\n",
    "b = a.copy()\n",
    "# 를 쓰게 함"
   ]
  },
  {
   "cell_type": "code",
   "execution_count": 95,
   "id": "898ce1d4",
   "metadata": {},
   "outputs": [],
   "source": [
    "# = 을 시켜놨는데, 한 개 바꿨더니 다 바뀜. 되돌리기 할 때마다 쓰는 구문이 .copy()\n",
    "# copy는 2가지가 있음. deepcopy와 블라블라"
   ]
  },
  {
   "cell_type": "code",
   "execution_count": null,
   "id": "e39d1bd4",
   "metadata": {},
   "outputs": [],
   "source": [
    "# mutable은 코드의 양은 줄이지만 복잡도는 증가시킴. 그래서 고수들은 mutable data type을 쓰는 걸 싫어함.\n",
    "# 함수형 패러다임에서는 아예 mutable 데이터 타입을 안씀. 실수를 많이하기 때문에."
   ]
  },
  {
   "cell_type": "code",
   "execution_count": null,
   "id": "dbb9d413",
   "metadata": {},
   "outputs": [],
   "source": [
    "# 텐서는 불변성(immutable)을 가짐. 우리는 immutable 을 기본적으로 씀. 실수를 줄여야 하기 때문."
   ]
  },
  {
   "attachments": {},
   "cell_type": "markdown",
   "id": "d8400e50",
   "metadata": {},
   "source": [
    "**list**\n",
    "\n",
    "hetero, sequencial, mutable"
   ]
  },
  {
   "attachments": {},
   "cell_type": "markdown",
   "id": "b40dd037",
   "metadata": {},
   "source": [
    "**tuple**\n",
    "\n",
    "hetero, sequencial, immutable"
   ]
  },
  {
   "attachments": {},
   "cell_type": "markdown",
   "id": "05971872",
   "metadata": {},
   "source": [
    "**문자열**\n",
    "\n",
    "str - immutable\n",
    "\n",
    "bytearray - mutable\n",
    "\n",
    "byte - immutable"
   ]
  },
  {
   "cell_type": "code",
   "execution_count": null,
   "id": "5923b2d1",
   "metadata": {},
   "outputs": [],
   "source": [
    "# set\n",
    "# forzenset (서로 짝)\n",
    "# set 은 mutable\n",
    "# frozenset 은 immutable\n",
    "# 수학적 개념과 달리, 순서가 있기는 함.\n",
    "# 그러나 내가 정할 수 없는 순서.\n",
    "# 내부적으로는 순서를 가지는 것.\n",
    "# 그리고 set은 hetero"
   ]
  },
  {
   "cell_type": "code",
   "execution_count": 52,
   "id": "82703a7b",
   "metadata": {},
   "outputs": [
    {
     "data": {
      "text/plain": [
       "{1, '1'}"
      ]
     },
     "execution_count": 52,
     "metadata": {},
     "output_type": "execute_result"
    }
   ],
   "source": [
    "{1, '1'}\n",
    "# hetero는 이런 게 가능함."
   ]
  },
  {
   "cell_type": "code",
   "execution_count": 53,
   "id": "1af4f422",
   "metadata": {},
   "outputs": [
    {
     "ename": "TypeError",
     "evalue": "unhashable type: 'list'",
     "output_type": "error",
     "traceback": [
      "\u001b[0;31m---------------------------------------------------------------------------\u001b[0m",
      "\u001b[0;31mTypeError\u001b[0m                                 Traceback (most recent call last)",
      "Cell \u001b[0;32mIn[53], line 2\u001b[0m\n\u001b[1;32m      1\u001b[0m \u001b[39m# 그러나 set 은 immutable 해야 함\u001b[39;00m\n\u001b[0;32m----> 2\u001b[0m {\u001b[39m1\u001b[39m, [\u001b[39m1\u001b[39m,\u001b[39m2\u001b[39m,\u001b[39m3\u001b[39m]}\n",
      "\u001b[0;31mTypeError\u001b[0m: unhashable type: 'list'"
     ]
    }
   ],
   "source": [
    "# 그러나 set 은 immutable 해야 함\n",
    "{1, [1,2,3]}"
   ]
  },
  {
   "cell_type": "code",
   "execution_count": null,
   "id": "c3badea9",
   "metadata": {},
   "outputs": [],
   "source": [
    "# 위에서 나타나는 unhashable이 뜻하는 것은 무엇일까? -> hash 가 가능하지 않다.\n",
    "# hash라는 데이터 타입은 고유한 데이터 타입이어야 한다는 것(주민등록번호 처럼)\n",
    "# 그러나 mutable은 고유하지 않음.\n",
    "# 프로그래밍 상에서 나의 identity는 메모리 주소.\n",
    "# 그러나 mutable은 메모리 주소가 같아도 데이터가 다를 수 있었음.\n",
    "# 그래서 hash 하지 않은 것.\n",
    "# 또한 immutable 안에 mutable이 들어가도 안됨. 순수하게 immutable 해야 함"
   ]
  },
  {
   "cell_type": "code",
   "execution_count": null,
   "id": "c3224acf",
   "metadata": {},
   "outputs": [],
   "source": [
    "# set은 중복 데이터 걸러낼 때 사용함."
   ]
  },
  {
   "cell_type": "code",
   "execution_count": 54,
   "id": "92ca363f",
   "metadata": {},
   "outputs": [
    {
     "data": {
      "text/plain": [
       "dict"
      ]
     },
     "execution_count": 54,
     "metadata": {},
     "output_type": "execute_result"
    }
   ],
   "source": [
    "a = {}\n",
    "# 이것은 비어있는 dict\n",
    "type(a)"
   ]
  },
  {
   "cell_type": "code",
   "execution_count": null,
   "id": "c79c2327",
   "metadata": {},
   "outputs": [],
   "source": [
    "# 위와 같은 이유는 dict가 먼저 있고 나서 set이 만들어졌기 때문."
   ]
  },
  {
   "cell_type": "code",
   "execution_count": null,
   "id": "4b76f1bb",
   "metadata": {},
   "outputs": [],
   "source": [
    "# 값을 만드는 방식은 두가지. literal / instance 방식."
   ]
  },
  {
   "cell_type": "code",
   "execution_count": 99,
   "id": "3a5dc227",
   "metadata": {},
   "outputs": [
    {
     "data": {
      "text/plain": [
       "set()"
      ]
     },
     "execution_count": 99,
     "metadata": {},
     "output_type": "execute_result"
    }
   ],
   "source": [
    "set()\n",
    "# 이것이 공집합(instance 방식)"
   ]
  },
  {
   "cell_type": "code",
   "execution_count": null,
   "id": "6e9f5b3a",
   "metadata": {},
   "outputs": [],
   "source": [
    "# set은 활용가치가 높음"
   ]
  },
  {
   "cell_type": "code",
   "execution_count": null,
   "id": "58c2f9f6",
   "metadata": {},
   "outputs": [],
   "source": [
    "# dict 은 매핑 데이터 타입. key 와 value\n",
    "# dict 는 mutable"
   ]
  },
  {
   "cell_type": "code",
   "execution_count": 55,
   "id": "fc326312",
   "metadata": {},
   "outputs": [],
   "source": [
    "a = {'a':1}"
   ]
  },
  {
   "cell_type": "code",
   "execution_count": 56,
   "id": "e0855b7e",
   "metadata": {},
   "outputs": [
    {
     "ename": "TypeError",
     "evalue": "unhashable type: 'list'",
     "output_type": "error",
     "traceback": [
      "\u001b[0;31m---------------------------------------------------------------------------\u001b[0m",
      "\u001b[0;31mTypeError\u001b[0m                                 Traceback (most recent call last)",
      "Cell \u001b[0;32mIn[56], line 1\u001b[0m\n\u001b[0;32m----> 1\u001b[0m a \u001b[39m=\u001b[39m {[\u001b[39m1\u001b[39m,\u001b[39m2\u001b[39m,\u001b[39m3\u001b[39m] : \u001b[39m1\u001b[39m}\n",
      "\u001b[0;31mTypeError\u001b[0m: unhashable type: 'list'"
     ]
    }
   ],
   "source": [
    "a = {[1,2,3] : 1}\n",
    "# hashable 주목"
   ]
  },
  {
   "cell_type": "code",
   "execution_count": null,
   "id": "2909ed65",
   "metadata": {},
   "outputs": [],
   "source": [
    "# key에는 immutable 데이터 타입만 들어가야 함. list는 안됨.\n",
    "# dict에서는 key가 hash 데이터 타입이라 아주 중요함."
   ]
  },
  {
   "cell_type": "code",
   "execution_count": 59,
   "id": "27604f72",
   "metadata": {},
   "outputs": [
    {
     "name": "stdout",
     "output_type": "stream",
     "text": [
      "a\n",
      "b\n"
     ]
    }
   ],
   "source": [
    "for i in {'a':1, 'b':2}:\n",
    "    print(i)\n",
    "# for 문에서 key만 찍힘. key는 hashable만 올 수 있음. set 과 똑같음.\n",
    "# 내부적으로 보면 dict 기반으로 set을 만든 것."
   ]
  },
  {
   "attachments": {},
   "cell_type": "markdown",
   "id": "b2751908",
   "metadata": {},
   "source": [
    "다시 정리!!"
   ]
  },
  {
   "cell_type": "code",
   "execution_count": 103,
   "id": "e67ed748",
   "metadata": {},
   "outputs": [],
   "source": [
    "a = 1"
   ]
  },
  {
   "cell_type": "code",
   "execution_count": null,
   "id": "eaaf2ece",
   "metadata": {},
   "outputs": [],
   "source": [
    "# 우변에는 식.\n",
    "# 식은 하나의 결과값으로 축약할 수 있는 것. 식 = 값이 될 수 있음.\n",
    "# 값은 무엇이 중요?\n",
    "# 데이터와 value의 차이점은 무엇? -> 데이터는 로우의 개념이 들어가 있음. 날 것\n",
    "# 프로그램에서 값(value0은 타입에 의해서 해석된 값임. 그래서 \"데이터 타입\"이 중요함"
   ]
  },
  {
   "cell_type": "code",
   "execution_count": null,
   "id": "aea8cba6",
   "metadata": {},
   "outputs": [],
   "source": [
    "97\n",
    "# 이를 숫자로 보는 사람도 있고 문자로 볼 수도 있음."
   ]
  },
  {
   "cell_type": "code",
   "execution_count": null,
   "id": "d116d7b7",
   "metadata": {},
   "outputs": [],
   "source": [
    "# 그렇다면 하나의 결과값으로 축약하기 위한 과정은 어떤 것에 의해서 하나의 결과값으로 축약?\n",
    "# 바로 연산"
   ]
  },
  {
   "cell_type": "code",
   "execution_count": 60,
   "id": "72f3143a",
   "metadata": {},
   "outputs": [
    {
     "data": {
      "text/plain": [
       "4"
      ]
     },
     "execution_count": 60,
     "metadata": {},
     "output_type": "execute_result"
    }
   ],
   "source": [
    "a = 3 and 4\n",
    "a"
   ]
  },
  {
   "cell_type": "code",
   "execution_count": null,
   "id": "73bb6a16",
   "metadata": {},
   "outputs": [],
   "source": [
    "# 연산자\n",
    "# 숫자에 관한 연산 (복소수 제외)"
   ]
  },
  {
   "cell_type": "code",
   "execution_count": 61,
   "id": "dda38f74",
   "metadata": {},
   "outputs": [
    {
     "data": {
      "text/plain": [
       "2"
      ]
     },
     "execution_count": 61,
     "metadata": {},
     "output_type": "execute_result"
    }
   ],
   "source": [
    "a = True + True\n",
    "a\n",
    "# True는 파이썬에서 무조건 1"
   ]
  },
  {
   "cell_type": "code",
   "execution_count": 62,
   "id": "0c029d3e",
   "metadata": {},
   "outputs": [
    {
     "data": {
      "text/plain": [
       "True"
      ]
     },
     "execution_count": 62,
     "metadata": {},
     "output_type": "execute_result"
    }
   ],
   "source": [
    "True == 1\n",
    "# 연산자 \"==\""
   ]
  },
  {
   "cell_type": "code",
   "execution_count": 63,
   "id": "b39d8fea",
   "metadata": {},
   "outputs": [
    {
     "data": {
      "text/plain": [
       "True"
      ]
     },
     "execution_count": 63,
     "metadata": {},
     "output_type": "execute_result"
    }
   ],
   "source": [
    "a = True == 1\n",
    "a"
   ]
  },
  {
   "cell_type": "code",
   "execution_count": null,
   "id": "af98b844",
   "metadata": {},
   "outputs": [],
   "source": [
    "3 / 4   # 나누기\n",
    "3 // 4  # 몫\n",
    "3 % 4   # 나머지"
   ]
  },
  {
   "cell_type": "code",
   "execution_count": 64,
   "id": "9eb7990b",
   "metadata": {},
   "outputs": [
    {
     "data": {
      "text/plain": [
       "-0.75"
      ]
     },
     "execution_count": 64,
     "metadata": {},
     "output_type": "execute_result"
    }
   ],
   "source": [
    "3 / -4"
   ]
  },
  {
   "cell_type": "code",
   "execution_count": 68,
   "id": "34a82ddb",
   "metadata": {},
   "outputs": [
    {
     "data": {
      "text/plain": [
       "-1"
      ]
     },
     "execution_count": 68,
     "metadata": {},
     "output_type": "execute_result"
    }
   ],
   "source": [
    "3 // -4"
   ]
  },
  {
   "cell_type": "code",
   "execution_count": 71,
   "id": "4bb8b912",
   "metadata": {},
   "outputs": [
    {
     "data": {
      "text/plain": [
       "-1"
      ]
     },
     "execution_count": 71,
     "metadata": {},
     "output_type": "execute_result"
    }
   ],
   "source": [
    "-3 // 4"
   ]
  },
  {
   "cell_type": "code",
   "execution_count": 67,
   "id": "7294ef3d",
   "metadata": {},
   "outputs": [],
   "source": [
    "# 왜 위의 값이 -1 일까?\n",
    "# -0.75 = -1 + 0.25 그래서 -1"
   ]
  },
  {
   "cell_type": "code",
   "execution_count": 75,
   "id": "5b08e700",
   "metadata": {},
   "outputs": [
    {
     "data": {
      "text/plain": [
       "-2"
      ]
     },
     "execution_count": 75,
     "metadata": {},
     "output_type": "execute_result"
    }
   ],
   "source": [
    "5 // -4"
   ]
  },
  {
   "cell_type": "code",
   "execution_count": 76,
   "id": "d7da0a8e",
   "metadata": {},
   "outputs": [
    {
     "data": {
      "text/plain": [
       "-3"
      ]
     },
     "execution_count": 76,
     "metadata": {},
     "output_type": "execute_result"
    }
   ],
   "source": [
    "5 % -4"
   ]
  },
  {
   "cell_type": "code",
   "execution_count": 73,
   "id": "b200a161",
   "metadata": {},
   "outputs": [
    {
     "data": {
      "text/plain": [
       "3"
      ]
     },
     "execution_count": 73,
     "metadata": {},
     "output_type": "execute_result"
    }
   ],
   "source": [
    "-5 % 4"
   ]
  },
  {
   "cell_type": "code",
   "execution_count": null,
   "id": "1b0576e8",
   "metadata": {},
   "outputs": [],
   "source": [
    "# 위의 것이 뜻하는 바는?\n",
    "# -로 나누면 나머지가 -, +로 나누면 +로 나머지"
   ]
  },
  {
   "cell_type": "code",
   "execution_count": null,
   "id": "e1d4c173",
   "metadata": {},
   "outputs": [],
   "source": [
    "# 곱하기는 내부적으로 처리하는 방식이 다름"
   ]
  },
  {
   "cell_type": "code",
   "execution_count": 77,
   "id": "2611b918",
   "metadata": {},
   "outputs": [
    {
     "data": {
      "text/plain": [
       "8"
      ]
     },
     "execution_count": 77,
     "metadata": {},
     "output_type": "execute_result"
    }
   ],
   "source": [
    "2 * 2 * 2"
   ]
  },
  {
   "cell_type": "code",
   "execution_count": 78,
   "id": "cbaef2a6",
   "metadata": {},
   "outputs": [
    {
     "data": {
      "text/plain": [
       "8"
      ]
     },
     "execution_count": 78,
     "metadata": {},
     "output_type": "execute_result"
    }
   ],
   "source": [
    "2 ** 3"
   ]
  },
  {
   "cell_type": "code",
   "execution_count": 125,
   "id": "368c5191",
   "metadata": {},
   "outputs": [],
   "source": [
    "# 어떤 연산자를 사용하느냐에 따라서 속도가 다름"
   ]
  },
  {
   "cell_type": "code",
   "execution_count": null,
   "id": "56c292fe",
   "metadata": {},
   "outputs": [],
   "source": [
    "# 같은 결과값이 나온다고 해서 연산 속도가 같은 것이 아님"
   ]
  },
  {
   "cell_type": "code",
   "execution_count": 79,
   "id": "2c925bfc",
   "metadata": {},
   "outputs": [
    {
     "name": "stdout",
     "output_type": "stream",
     "text": [
      "3.37 ms ± 19.6 µs per loop (mean ± std. dev. of 7 runs, 100 loops each)\n"
     ]
    }
   ],
   "source": [
    "%timeit [x for x in range(100000)]"
   ]
  },
  {
   "cell_type": "code",
   "execution_count": 80,
   "id": "dcbd5c34",
   "metadata": {},
   "outputs": [
    {
     "name": "stdout",
     "output_type": "stream",
     "text": [
      "5.72 ms ± 26.2 µs per loop (mean ± std. dev. of 7 runs, 100 loops each)\n"
     ]
    }
   ],
   "source": [
    "%%timeit\n",
    "temp = []\n",
    "for i in range(100000):\n",
    "    temp.append(i)"
   ]
  },
  {
   "cell_type": "code",
   "execution_count": null,
   "id": "79352530",
   "metadata": {},
   "outputs": [],
   "source": [
    "# 같은 연산자인데 속도가 다름\n",
    "#! 즉!!\n",
    "# 데이터 타입마다 연산자가 다르다! 성능도 다르다!\n",
    "# 그 뜻은, str에 곱하기가 안되는 것과 같음. 이는,\n",
    "# 데이터 타입에서 지원하지 않는 기능은 TypeError가 튀어나옴"
   ]
  },
  {
   "cell_type": "code",
   "execution_count": 128,
   "id": "0c7b7582",
   "metadata": {},
   "outputs": [
    {
     "ename": "TypeError",
     "evalue": "can't multiply sequence by non-int of type 'str'",
     "output_type": "error",
     "traceback": [
      "\u001b[0;31m---------------------------------------------------------------------------\u001b[0m",
      "\u001b[0;31mTypeError\u001b[0m                                 Traceback (most recent call last)",
      "Cell \u001b[0;32mIn[128], line 1\u001b[0m\n\u001b[0;32m----> 1\u001b[0m \u001b[38;5;124;43m'\u001b[39;49m\u001b[38;5;124;43mabc\u001b[39;49m\u001b[38;5;124;43m'\u001b[39;49m\u001b[43m \u001b[49m\u001b[38;5;241;43m*\u001b[39;49m\u001b[43m \u001b[49m\u001b[38;5;124;43m'\u001b[39;49m\u001b[38;5;124;43mabc\u001b[39;49m\u001b[38;5;124;43m'\u001b[39;49m\n",
      "\u001b[0;31mTypeError\u001b[0m: can't multiply sequence by non-int of type 'str'"
     ]
    }
   ],
   "source": [
    "'abc' * 'abc'"
   ]
  },
  {
   "cell_type": "code",
   "execution_count": 81,
   "id": "71c81009",
   "metadata": {},
   "outputs": [
    {
     "data": {
      "text/plain": [
       "'abcabcabcabc'"
      ]
     },
     "execution_count": 81,
     "metadata": {},
     "output_type": "execute_result"
    }
   ],
   "source": [
    "# 그러나 문자열 곱하기 숫자는 반복을 함.\n",
    "'abc' * 4"
   ]
  },
  {
   "cell_type": "code",
   "execution_count": 82,
   "id": "edab17a6",
   "metadata": {},
   "outputs": [
    {
     "data": {
      "text/plain": [
       "[1, 2, 3, 1, 2, 3, 1, 2, 3, 1, 2, 3]"
      ]
     },
     "execution_count": 82,
     "metadata": {},
     "output_type": "execute_result"
    }
   ],
   "source": [
    "[1,2,3] * 4\n",
    "# 반복이 일어남.\n",
    "# 'abc'와 [1,2,3] 같은 sequence data type의 숫자 곱하기는 '반복'"
   ]
  },
  {
   "cell_type": "code",
   "execution_count": 83,
   "id": "5e1c1fbb",
   "metadata": {},
   "outputs": [
    {
     "ename": "TypeError",
     "evalue": "can only concatenate str (not \"int\") to str",
     "output_type": "error",
     "traceback": [
      "\u001b[0;31m---------------------------------------------------------------------------\u001b[0m",
      "\u001b[0;31mTypeError\u001b[0m                                 Traceback (most recent call last)",
      "Cell \u001b[0;32mIn[83], line 1\u001b[0m\n\u001b[0;32m----> 1\u001b[0m \u001b[39m'\u001b[39;49m\u001b[39mabc\u001b[39;49m\u001b[39m'\u001b[39;49m \u001b[39m+\u001b[39;49m \u001b[39m4\u001b[39;49m\n",
      "\u001b[0;31mTypeError\u001b[0m: can only concatenate str (not \"int\") to str"
     ]
    }
   ],
   "source": [
    "'abc' + 4\n",
    "# 문자열 더하기 숫자는 파이썬에서 안됨. 문자열 더하기 문자열은 됨"
   ]
  },
  {
   "cell_type": "code",
   "execution_count": 84,
   "id": "24c7dcd9",
   "metadata": {},
   "outputs": [
    {
     "data": {
      "text/plain": [
       "'문근영예뻐요'"
      ]
     },
     "execution_count": 84,
     "metadata": {},
     "output_type": "execute_result"
    }
   ],
   "source": [
    "'문근영' + '예뻐요'\n",
    "# 데이터 타입에 따라서 연산 다르고 성능 다름"
   ]
  },
  {
   "cell_type": "code",
   "execution_count": 133,
   "id": "adde7862",
   "metadata": {},
   "outputs": [
    {
     "data": {
      "text/plain": [
       "[1, 2, 3, 2, 3, 4]"
      ]
     },
     "execution_count": 133,
     "metadata": {},
     "output_type": "execute_result"
    }
   ],
   "source": [
    "[1,2,3] + [2,3,4]"
   ]
  },
  {
   "cell_type": "code",
   "execution_count": 134,
   "id": "b1409494",
   "metadata": {},
   "outputs": [
    {
     "data": {
      "text/plain": [
       "(1, 2, 3, 2, 3, 4)"
      ]
     },
     "execution_count": 134,
     "metadata": {},
     "output_type": "execute_result"
    }
   ],
   "source": [
    "(1,2,3) + (2,3,4)"
   ]
  },
  {
   "cell_type": "code",
   "execution_count": 135,
   "id": "c8bd3406",
   "metadata": {},
   "outputs": [],
   "source": [
    "# 위의 것들은 자기 자신이 변하는 것이 아니라 가능함(tuple)의 경우."
   ]
  },
  {
   "cell_type": "code",
   "execution_count": 85,
   "id": "6bab3cd3",
   "metadata": {},
   "outputs": [
    {
     "ename": "TypeError",
     "evalue": "can only concatenate tuple (not \"list\") to tuple",
     "output_type": "error",
     "traceback": [
      "\u001b[0;31m---------------------------------------------------------------------------\u001b[0m",
      "\u001b[0;31mTypeError\u001b[0m                                 Traceback (most recent call last)",
      "Cell \u001b[0;32mIn[85], line 2\u001b[0m\n\u001b[1;32m      1\u001b[0m \u001b[39m# concatnate는 tuple끼리만 가능함. 한 개는 mutable, 나머지는 immutable이라면 안됨.\u001b[39;00m\n\u001b[0;32m----> 2\u001b[0m (\u001b[39m1\u001b[39;49m, \u001b[39m2\u001b[39;49m, \u001b[39m3\u001b[39;49m) \u001b[39m+\u001b[39;49m [\u001b[39m1\u001b[39;49m, \u001b[39m2\u001b[39;49m, \u001b[39m3\u001b[39;49m]\n",
      "\u001b[0;31mTypeError\u001b[0m: can only concatenate tuple (not \"list\") to tuple"
     ]
    }
   ],
   "source": [
    "# concatnate는 tuple끼리만 가능함. 한 개는 mutable, 나머지는 immutable이라면 안됨.\n",
    "(1, 2, 3) + [1, 2, 3]"
   ]
  },
  {
   "cell_type": "code",
   "execution_count": null,
   "id": "252d1136",
   "metadata": {},
   "outputs": [],
   "source": [
    "# 연산은 같은 결과값을 가져도 퍼포먼스가 다를 수 있음\n",
    "# 또 데이터 타입에 따라서 연산 결과가 다름\n",
    "# 파이썬에서 퍼포먼스는 속도. 속도가 빠른 기법을 알아야 함. 경쟁력은 속도!!"
   ]
  },
  {
   "cell_type": "code",
   "execution_count": 86,
   "id": "5a816c95",
   "metadata": {},
   "outputs": [
    {
     "data": {
      "text/plain": [
       "6.1"
      ]
     },
     "execution_count": 86,
     "metadata": {},
     "output_type": "execute_result"
    }
   ],
   "source": [
    "3 + 3.1\n",
    "# 이것이 되는 개념은, corecion (묵시적 형변환)\n",
    "# 같은 형의 두 인자를 수반하는 연산이 일어나는 동안, 한 형의 인스턴스를 다른 형으로 묵시적으로\n",
    "# 변환하는 것. 예를 들어, int(3.15)는 실수를 정수 3으로 변환. 하지만, 3+4.5 에서,\n",
    "# 각 인자는 다른 형이고 (하나는 int, 다른 하나는 float), 둘을 더하기 전에 같은 형으로\n",
    "# 변환해야함. 그렇지 않으면 TypeError를 일으킨다. 코어션 없이는, 호환되는 형들조차도\n",
    "# 프로그래머가 같은 형으로 정규화해주어야 함. 예를 들어, 그냥 3+4.5 하는 대신 float(3)+4.5 해야 하는 것\n",
    "\n",
    "# 즉, 편의기능으로 파이썬 자체적으로 만들어놓은 것."
   ]
  },
  {
   "cell_type": "code",
   "execution_count": 139,
   "id": "14a35889",
   "metadata": {},
   "outputs": [],
   "source": [
    "# 산술연산자 (곱하기는 나중에 할 것) 했고\n",
    "# 아래부터 비교연산자 "
   ]
  },
  {
   "cell_type": "code",
   "execution_count": 87,
   "id": "202b4433",
   "metadata": {},
   "outputs": [
    {
     "data": {
      "text/plain": [
       "True"
      ]
     },
     "execution_count": 87,
     "metadata": {},
     "output_type": "execute_result"
    }
   ],
   "source": [
    "'a' > 'A'\n",
    "# 문자열도 비교가 된다. 소문자가 대문자 뒤에 있음.\n",
    "# 이는 ASCII 코드, 즉 숫자로 바꿔서 비교함."
   ]
  },
  {
   "cell_type": "code",
   "execution_count": 88,
   "id": "aa971318",
   "metadata": {},
   "outputs": [
    {
     "data": {
      "text/plain": [
       "True"
      ]
     },
     "execution_count": 88,
     "metadata": {},
     "output_type": "execute_result"
    }
   ],
   "source": [
    "'a' > 'Aa'\n",
    "# 파이썬은 일기토 방식으로 비교한다. 즉, 첫번째끼리 비교하고 뒤에는 안 봄.\n",
    "# 첫번째가 같으면 뒤를 비교"
   ]
  },
  {
   "cell_type": "code",
   "execution_count": 89,
   "id": "267d2771",
   "metadata": {},
   "outputs": [
    {
     "data": {
      "text/plain": [
       "False"
      ]
     },
     "execution_count": 89,
     "metadata": {},
     "output_type": "execute_result"
    }
   ],
   "source": [
    "[1,2,3] > [4]\n",
    "# list도 비교가 가능.\n",
    "# 1과 4를 먼저 비교했기 때문에 False"
   ]
  },
  {
   "cell_type": "code",
   "execution_count": 98,
   "id": "19a5cbcf",
   "metadata": {},
   "outputs": [
    {
     "data": {
      "text/plain": [
       "False"
      ]
     },
     "execution_count": 98,
     "metadata": {},
     "output_type": "execute_result"
    }
   ],
   "source": [
    "{1,2,3} > {0}\n",
    "# set은 내부적으로 순서를 정하기 때문에, container 애들도 비교가 가능함."
   ]
  },
  {
   "cell_type": "code",
   "execution_count": 99,
   "id": "d8f97145",
   "metadata": {},
   "outputs": [
    {
     "data": {
      "text/plain": [
       "True"
      ]
     },
     "execution_count": 99,
     "metadata": {},
     "output_type": "execute_result"
    }
   ],
   "source": [
    "a = 1000\n",
    "b = 1000\n",
    "a == b"
   ]
  },
  {
   "cell_type": "code",
   "execution_count": null,
   "id": "e3575fc0",
   "metadata": {},
   "outputs": [],
   "source": [
    "# 비교 연산자 equal 는 2개 있음.\n",
    "# '==' 와 is"
   ]
  },
  {
   "cell_type": "code",
   "execution_count": 100,
   "id": "69f4353d",
   "metadata": {},
   "outputs": [
    {
     "data": {
      "text/plain": [
       "False"
      ]
     },
     "execution_count": 100,
     "metadata": {},
     "output_type": "execute_result"
    }
   ],
   "source": [
    "a is b"
   ]
  },
  {
   "cell_type": "code",
   "execution_count": 148,
   "id": "b87224cd",
   "metadata": {},
   "outputs": [],
   "source": [
    "# is 는 메모리값(주소)을 비교함. 더 강력한 도구.\n",
    "# 메모리값을 비교한다는 뜻은, id(a) == id(b)라는 것. 즉 단축표현이 is"
   ]
  },
  {
   "cell_type": "code",
   "execution_count": 101,
   "id": "817c24fc",
   "metadata": {},
   "outputs": [
    {
     "data": {
      "text/plain": [
       "True"
      ]
     },
     "execution_count": 101,
     "metadata": {},
     "output_type": "execute_result"
    }
   ],
   "source": [
    "a = 255\n",
    "b = 255\n",
    "a == b"
   ]
  },
  {
   "cell_type": "code",
   "execution_count": 102,
   "id": "978d4b4e",
   "metadata": {},
   "outputs": [
    {
     "data": {
      "text/plain": [
       "True"
      ]
     },
     "execution_count": 102,
     "metadata": {},
     "output_type": "execute_result"
    }
   ],
   "source": [
    "a is b"
   ]
  },
  {
   "cell_type": "code",
   "execution_count": 152,
   "id": "5c7769db",
   "metadata": {},
   "outputs": [],
   "source": [
    "# 위에가 True가 나오는 이유는, 1~256까지 같은 메모리 주소를 가지고 있기 때문.\n",
    "# 연산자 마다 특징이 있고, 파이썬은 아주 느린 프로그래밍 언어.\n",
    "# 그래서 256 까지는 동일한 메모리를 사용함(interning 이라는 테크닉)\n",
    "# interning => -5 ~ 256\n",
    "# 문자열도 interning을 씀.\n",
    "# 파이썬은 느려서 조금이라도 속도를 빠르게 하기 위해서"
   ]
  },
  {
   "cell_type": "code",
   "execution_count": 103,
   "id": "8bcdeaed",
   "metadata": {},
   "outputs": [
    {
     "data": {
      "text/plain": [
       "<function sys.intern(string, /)>"
      ]
     },
     "execution_count": 103,
     "metadata": {},
     "output_type": "execute_result"
    }
   ],
   "source": [
    "import sys\n",
    "sys.intern"
   ]
  },
  {
   "cell_type": "code",
   "execution_count": null,
   "id": "3680fc17",
   "metadata": {},
   "outputs": [],
   "source": [
    "# and 와 or [비교연산자]"
   ]
  },
  {
   "cell_type": "code",
   "execution_count": 104,
   "id": "2ebbbadf",
   "metadata": {},
   "outputs": [
    {
     "data": {
      "text/plain": [
       "4"
      ]
     },
     "execution_count": 104,
     "metadata": {},
     "output_type": "execute_result"
    }
   ],
   "source": [
    "a = 3 and 4\n",
    "a"
   ]
  },
  {
   "cell_type": "code",
   "execution_count": 105,
   "id": "3d2109d0",
   "metadata": {},
   "outputs": [
    {
     "name": "stdout",
     "output_type": "stream",
     "text": [
      "F\n"
     ]
    }
   ],
   "source": [
    "if []:\n",
    "    print('T')\n",
    "else:\n",
    "    print('F')"
   ]
  },
  {
   "cell_type": "code",
   "execution_count": null,
   "id": "dbdb72ad",
   "metadata": {},
   "outputs": [],
   "source": [
    "# 파이썬에서는 True는 숫자(1). False는 0\n",
    "# 그러나 참과 거짓을 체크할 때는 '존재론적 관점'으로 접근함.\n",
    "# ==> 정수에 '없다'를 표현할 수 있는 것은 0"
   ]
  },
  {
   "cell_type": "code",
   "execution_count": 106,
   "id": "4b3ab1f1",
   "metadata": {},
   "outputs": [
    {
     "name": "stdout",
     "output_type": "stream",
     "text": [
      "F\n"
     ]
    }
   ],
   "source": [
    "if '':\n",
    "    print('T')\n",
    "else:\n",
    "    print('F')"
   ]
  },
  {
   "cell_type": "code",
   "execution_count": 107,
   "id": "feb6fc35",
   "metadata": {},
   "outputs": [
    {
     "name": "stdout",
     "output_type": "stream",
     "text": [
      "T\n"
     ]
    }
   ],
   "source": [
    "if '뮤':\n",
    "    print('T')\n",
    "else:\n",
    "    print('F')"
   ]
  },
  {
   "cell_type": "code",
   "execution_count": 108,
   "id": "0307530c",
   "metadata": {},
   "outputs": [
    {
     "name": "stdout",
     "output_type": "stream",
     "text": [
      "T\n"
     ]
    }
   ],
   "source": [
    "if {''}:\n",
    "    print('T')\n",
    "else:\n",
    "    print('F')"
   ]
  },
  {
   "cell_type": "code",
   "execution_count": 109,
   "id": "39b22b7f",
   "metadata": {},
   "outputs": [
    {
     "data": {
      "text/plain": [
       "1"
      ]
     },
     "execution_count": 109,
     "metadata": {},
     "output_type": "execute_result"
    }
   ],
   "source": [
    "# 위가 T로 되는 이유.\n",
    "len({''})"
   ]
  },
  {
   "cell_type": "code",
   "execution_count": 110,
   "id": "2ff47f7c",
   "metadata": {},
   "outputs": [
    {
     "data": {
      "text/plain": [
       "False"
      ]
     },
     "execution_count": 110,
     "metadata": {},
     "output_type": "execute_result"
    }
   ],
   "source": [
    "set() == {''}"
   ]
  },
  {
   "cell_type": "code",
   "execution_count": 111,
   "id": "6c929807",
   "metadata": {},
   "outputs": [
    {
     "data": {
      "text/plain": [
       "set"
      ]
     },
     "execution_count": 111,
     "metadata": {},
     "output_type": "execute_result"
    }
   ],
   "source": [
    "type({''})"
   ]
  },
  {
   "cell_type": "code",
   "execution_count": 162,
   "id": "b7f595b6",
   "metadata": {},
   "outputs": [],
   "source": [
    "# 즉, len(a)=0 이면 거짓. -> 존재하지 않는 것."
   ]
  },
  {
   "cell_type": "code",
   "execution_count": 112,
   "id": "e3796f0e",
   "metadata": {},
   "outputs": [
    {
     "name": "stdout",
     "output_type": "stream",
     "text": [
      "F\n"
     ]
    }
   ],
   "source": [
    "if None:\n",
    "    print('T')\n",
    "else:\n",
    "    print('F')"
   ]
  },
  {
   "cell_type": "code",
   "execution_count": 115,
   "id": "9122a21a",
   "metadata": {},
   "outputs": [
    {
     "data": {
      "text/plain": [
       "False"
      ]
     },
     "execution_count": 115,
     "metadata": {},
     "output_type": "execute_result"
    }
   ],
   "source": [
    "None == False\n",
    "# 없는 것 == 0 과 같은 뜻"
   ]
  },
  {
   "cell_type": "code",
   "execution_count": null,
   "id": "2b7cc254",
   "metadata": {},
   "outputs": [],
   "source": [
    "# and\n",
    "# 앞의 것이 참이면, 뒤에 것을 반환함.\n",
    "# 앞의 것이 거짓이면 앞의 것을 반환"
   ]
  },
  {
   "cell_type": "code",
   "execution_count": 116,
   "id": "1a7b23c4",
   "metadata": {},
   "outputs": [
    {
     "data": {
      "text/plain": [
       "[]"
      ]
     },
     "execution_count": 116,
     "metadata": {},
     "output_type": "execute_result"
    }
   ],
   "source": [
    "[] and 4"
   ]
  },
  {
   "cell_type": "code",
   "execution_count": 120,
   "id": "1c9f1292",
   "metadata": {},
   "outputs": [
    {
     "data": {
      "text/plain": [
       "5"
      ]
     },
     "execution_count": 120,
     "metadata": {},
     "output_type": "execute_result"
    }
   ],
   "source": [
    "4 and 5"
   ]
  },
  {
   "cell_type": "code",
   "execution_count": 117,
   "id": "ec710e5c",
   "metadata": {},
   "outputs": [
    {
     "data": {
      "text/plain": [
       "0"
      ]
     },
     "execution_count": 117,
     "metadata": {},
     "output_type": "execute_result"
    }
   ],
   "source": [
    "len([])"
   ]
  },
  {
   "cell_type": "code",
   "execution_count": 171,
   "id": "8480bc4e",
   "metadata": {},
   "outputs": [],
   "source": [
    "# and 와 or 은 반대\n",
    "# 즉 or은\n",
    "# 앞의 것이 참이면 앞의 것을 반환, 앞의 것이 거짓이면 뒤의 것을 반환"
   ]
  },
  {
   "cell_type": "code",
   "execution_count": 118,
   "id": "e4d26b09",
   "metadata": {},
   "outputs": [
    {
     "data": {
      "text/plain": [
       "4"
      ]
     },
     "execution_count": 118,
     "metadata": {},
     "output_type": "execute_result"
    }
   ],
   "source": [
    "[] or 4"
   ]
  },
  {
   "cell_type": "code",
   "execution_count": 119,
   "id": "e3050967",
   "metadata": {},
   "outputs": [
    {
     "data": {
      "text/plain": [
       "[1]"
      ]
     },
     "execution_count": 119,
     "metadata": {},
     "output_type": "execute_result"
    }
   ],
   "source": [
    "[1] or 4"
   ]
  },
  {
   "cell_type": "code",
   "execution_count": 121,
   "id": "57136e02",
   "metadata": {},
   "outputs": [
    {
     "data": {
      "text/plain": [
       "3"
      ]
     },
     "execution_count": 121,
     "metadata": {},
     "output_type": "execute_result"
    }
   ],
   "source": [
    "3 or 1/0\n",
    "# 1/0 은 원래 에러를 가져옴\n",
    "# 즉, or은 앞의 것이 참이면 뒤의 것은 안봄. 그래서 에러가 안생김."
   ]
  },
  {
   "cell_type": "code",
   "execution_count": 175,
   "id": "79f9eb99",
   "metadata": {},
   "outputs": [
    {
     "ename": "ZeroDivisionError",
     "evalue": "division by zero",
     "output_type": "error",
     "traceback": [
      "\u001b[0;31m---------------------------------------------------------------------------\u001b[0m",
      "\u001b[0;31mZeroDivisionError\u001b[0m                         Traceback (most recent call last)",
      "Cell \u001b[0;32mIn[175], line 1\u001b[0m\n\u001b[0;32m----> 1\u001b[0m \u001b[38;5;241m3\u001b[39m \u001b[38;5;129;01mand\u001b[39;00m \u001b[38;5;241;43m1\u001b[39;49m\u001b[38;5;241;43m/\u001b[39;49m\u001b[38;5;241;43m0\u001b[39;49m\n",
      "\u001b[0;31mZeroDivisionError\u001b[0m: division by zero"
     ]
    }
   ],
   "source": [
    "3 and 1/0 # 이것은 에러가 생김"
   ]
  },
  {
   "cell_type": "code",
   "execution_count": 176,
   "id": "4caf1918",
   "metadata": {},
   "outputs": [],
   "source": [
    "# short circuit -> 앞의 것이 조건에 맞으면 뒤에 것을 안보는 테크닉."
   ]
  },
  {
   "cell_type": "code",
   "execution_count": null,
   "id": "3030a279",
   "metadata": {},
   "outputs": [],
   "source": [
    "# 참과 거짓를 비교연산자. "
   ]
  },
  {
   "cell_type": "code",
   "execution_count": 177,
   "id": "0795d26c",
   "metadata": {},
   "outputs": [],
   "source": [
    "# 데이터 타입에 따라 값이 다 다른 것을 'Operator overloading'"
   ]
  },
  {
   "cell_type": "code",
   "execution_count": 122,
   "id": "2024b764",
   "metadata": {},
   "outputs": [],
   "source": [
    "import keyword"
   ]
  },
  {
   "cell_type": "code",
   "execution_count": 179,
   "id": "9ebde6af",
   "metadata": {},
   "outputs": [
    {
     "data": {
      "text/plain": [
       "['False',\n",
       " 'None',\n",
       " 'True',\n",
       " 'and',\n",
       " 'as',\n",
       " 'assert',\n",
       " 'async',\n",
       " 'await',\n",
       " 'break',\n",
       " 'class',\n",
       " 'continue',\n",
       " 'def',\n",
       " 'del',\n",
       " 'elif',\n",
       " 'else',\n",
       " 'except',\n",
       " 'finally',\n",
       " 'for',\n",
       " 'from',\n",
       " 'global',\n",
       " 'if',\n",
       " 'import',\n",
       " 'in',\n",
       " 'is',\n",
       " 'lambda',\n",
       " 'nonlocal',\n",
       " 'not',\n",
       " 'or',\n",
       " 'pass',\n",
       " 'raise',\n",
       " 'return',\n",
       " 'try',\n",
       " 'while',\n",
       " 'with',\n",
       " 'yield']"
      ]
     },
     "execution_count": 179,
     "metadata": {},
     "output_type": "execute_result"
    }
   ],
   "source": [
    "keyword.kwlist\n",
    "# 키워드는 두꺼운 초록색(jupyter 화면에서).\n",
    "and # and는 키워드\n",
    "len # 얇은 초록색. 이것은 함수"
   ]
  },
  {
   "cell_type": "code",
   "execution_count": 180,
   "id": "563f14bc",
   "metadata": {},
   "outputs": [
    {
     "name": "stdout",
     "output_type": "stream",
     "text": [
      "Boolean operations\n",
      "******************\n",
      "\n",
      "   or_test  ::= and_test | or_test \"or\" and_test\n",
      "   and_test ::= not_test | and_test \"and\" not_test\n",
      "   not_test ::= comparison | \"not\" not_test\n",
      "\n",
      "In the context of Boolean operations, and also when expressions are\n",
      "used by control flow statements, the following values are interpreted\n",
      "as false: \"False\", \"None\", numeric zero of all types, and empty\n",
      "strings and containers (including strings, tuples, lists,\n",
      "dictionaries, sets and frozensets).  All other values are interpreted\n",
      "as true.  User-defined objects can customize their truth value by\n",
      "providing a \"__bool__()\" method.\n",
      "\n",
      "The operator \"not\" yields \"True\" if its argument is false, \"False\"\n",
      "otherwise.\n",
      "\n",
      "The expression \"x and y\" first evaluates *x*; if *x* is false, its\n",
      "value is returned; otherwise, *y* is evaluated and the resulting value\n",
      "is returned.\n",
      "\n",
      "The expression \"x or y\" first evaluates *x*; if *x* is true, its value\n",
      "is returned; otherwise, *y* is evaluated and the resulting value is\n",
      "returned.\n",
      "\n",
      "Note that neither \"and\" nor \"or\" restrict the value and type they\n",
      "return to \"False\" and \"True\", but rather return the last evaluated\n",
      "argument.  This is sometimes useful, e.g., if \"s\" is a string that\n",
      "should be replaced by a default value if it is empty, the expression\n",
      "\"s or 'foo'\" yields the desired value.  Because \"not\" has to create a\n",
      "new value, it returns a boolean value regardless of the type of its\n",
      "argument (for example, \"not 'foo'\" produces \"False\" rather than \"''\".)\n",
      "\n",
      "Related help topics: EXPRESSIONS, TRUTHVALUE\n",
      "\n"
     ]
    }
   ],
   "source": [
    "# and의 용법을 자세히 알고 싶을 때.\n",
    "help('and')"
   ]
  }
 ],
 "metadata": {
  "kernelspec": {
   "display_name": "Python 3 (ipykernel)",
   "language": "python",
   "name": "python3"
  },
  "language_info": {
   "codemirror_mode": {
    "name": "ipython",
    "version": 3
   },
   "file_extension": ".py",
   "mimetype": "text/x-python",
   "name": "python",
   "nbconvert_exporter": "python",
   "pygments_lexer": "ipython3",
   "version": "3.10.9"
  }
 },
 "nbformat": 4,
 "nbformat_minor": 5
}
