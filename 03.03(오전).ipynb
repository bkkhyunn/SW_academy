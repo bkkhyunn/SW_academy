{
 "cells": [
  {
   "cell_type": "code",
   "execution_count": 1,
   "id": "c06c1664",
   "metadata": {},
   "outputs": [],
   "source": [
    "import sqlite3"
   ]
  },
  {
   "cell_type": "code",
   "execution_count": 2,
   "id": "b09e5889",
   "metadata": {},
   "outputs": [],
   "source": [
    "conn = sqlite3.connect(':memory:')\n",
    "# 커서를 통해서 sql문을 날리는 것.\n",
    "# 커넥션을 만들고 커서를 부여받고 작업을 시작하는 것\n",
    "# 커서에게 일을 시키는 것"
   ]
  },
  {
   "cell_type": "code",
   "execution_count": 3,
   "id": "13559bf1",
   "metadata": {},
   "outputs": [],
   "source": [
    "# Cursor 생성\n",
    "cur = conn.cursor()"
   ]
  },
  {
   "cell_type": "code",
   "execution_count": 4,
   "id": "c0b7bec6",
   "metadata": {},
   "outputs": [
    {
     "data": {
      "text/plain": [
       "<sqlite3.Cursor at 0x7f7c21027840>"
      ]
     },
     "execution_count": 4,
     "metadata": {},
     "output_type": "execute_result"
    }
   ],
   "source": [
    "cur.execute('CREATE TABLE temp (name, age)')"
   ]
  },
  {
   "cell_type": "code",
   "execution_count": null,
   "id": "d3fd7a4c",
   "metadata": {},
   "outputs": [],
   "source": [
    "# 위 output은 cursor의 위치가 바뀐 것을 알려줌. 아무런 제약조건을 넣지 않음"
   ]
  },
  {
   "cell_type": "code",
   "execution_count": 5,
   "id": "398a3cd3",
   "metadata": {},
   "outputs": [
    {
     "data": {
      "text/plain": [
       "<sqlite3.Cursor at 0x7f7c21027840>"
      ]
     },
     "execution_count": 5,
     "metadata": {},
     "output_type": "execute_result"
    }
   ],
   "source": [
    "cur.execute('INSERT INTO temp (name, age) VALUES (1, 2)')"
   ]
  },
  {
   "cell_type": "code",
   "execution_count": 6,
   "id": "2f8b09d2",
   "metadata": {},
   "outputs": [
    {
     "data": {
      "text/plain": [
       "<sqlite3.Cursor at 0x7f7c21027840>"
      ]
     },
     "execution_count": 6,
     "metadata": {},
     "output_type": "execute_result"
    }
   ],
   "source": [
    "cur.execute('SELECT * FROM temp')"
   ]
  },
  {
   "cell_type": "code",
   "execution_count": 7,
   "id": "b6ec35f5",
   "metadata": {},
   "outputs": [
    {
     "data": {
      "text/plain": [
       "[(1, 2)]"
      ]
     },
     "execution_count": 7,
     "metadata": {},
     "output_type": "execute_result"
    }
   ],
   "source": [
    "cur.fetchall()\n",
    "# 반환값을 보여주는 것"
   ]
  },
  {
   "cell_type": "code",
   "execution_count": 11,
   "id": "0609dfcf",
   "metadata": {},
   "outputs": [],
   "source": [
    "# qmark, named 방식\n"
   ]
  },
  {
   "cell_type": "code",
   "execution_count": 10,
   "id": "07ba1b00",
   "metadata": {},
   "outputs": [
    {
     "data": {
      "text/plain": [
       "<sqlite3.Cursor at 0x7f7c21027840>"
      ]
     },
     "execution_count": 10,
     "metadata": {},
     "output_type": "execute_result"
    }
   ],
   "source": [
    "# qmark 방식\n",
    "cur.execute('INSERT INTO temp VALUES(?, ?)', ['hi', 'hello'])\n",
    "# 모든 컬럼에 값을 넣기 위해 컬럼명을 따로 안 씀"
   ]
  },
  {
   "cell_type": "code",
   "execution_count": 9,
   "id": "cb4a96b8",
   "metadata": {},
   "outputs": [
    {
     "data": {
      "text/plain": [
       "[(1, 2), ('hi', 'hello')]"
      ]
     },
     "execution_count": 9,
     "metadata": {},
     "output_type": "execute_result"
    }
   ],
   "source": [
    "cur.execute('SELECT * FROM temp')\n",
    "cur.fetchall()"
   ]
  },
  {
   "cell_type": "code",
   "execution_count": 12,
   "id": "d1bf1dab",
   "metadata": {},
   "outputs": [
    {
     "data": {
      "text/plain": [
       "<sqlite3.Cursor at 0x7f7c21027840>"
      ]
     },
     "execution_count": 12,
     "metadata": {},
     "output_type": "execute_result"
    }
   ],
   "source": [
    "# named 방식\n",
    "cur.execute('INSERT INTO temp VALUES(:name, :age)',\n",
    "            {'name':'이름','age':4})\n"
   ]
  },
  {
   "cell_type": "code",
   "execution_count": 13,
   "id": "8242933e",
   "metadata": {},
   "outputs": [
    {
     "data": {
      "text/plain": [
       "[(1, 2), ('hi', 'hello'), ('hi', 'hello'), ('이름', 4)]"
      ]
     },
     "execution_count": 13,
     "metadata": {},
     "output_type": "execute_result"
    }
   ],
   "source": [
    "cur.execute('SELECT * FROM temp')\n",
    "cur.fetchall()"
   ]
  },
  {
   "cell_type": "code",
   "execution_count": 14,
   "id": "dc74b799",
   "metadata": {},
   "outputs": [
    {
     "data": {
      "text/plain": [
       "[(1, 2),\n",
       " ('hi', 'hello'),\n",
       " ('hi', 'hello'),\n",
       " ('이름', 4),\n",
       " (1, 'A'),\n",
       " (2, 'B'),\n",
       " (3, 'C')]"
      ]
     },
     "execution_count": 14,
     "metadata": {},
     "output_type": "execute_result"
    }
   ],
   "source": [
    "data = [(1, 'A'), (2, 'B'), (3, 'C')]\n",
    "cur.executemany('INSERT INTO temp VALUES(?, ?)', data)\n",
    "cur.execute('SELECT * FROM temp')\n",
    "cur.fetchall()\n",
    "# executemany => SQL 문을 반복해서 execute 시켜줄 때"
   ]
  },
  {
   "cell_type": "code",
   "execution_count": 15,
   "id": "18ea64e7",
   "metadata": {},
   "outputs": [],
   "source": [
    "# named 스타일도 가능함.\n",
    "# executemany 는 iterable한 애로 묶어주면 여러번 반복 됨"
   ]
  },
  {
   "cell_type": "code",
   "execution_count": 16,
   "id": "c65bfe2d",
   "metadata": {},
   "outputs": [
    {
     "data": {
      "text/plain": [
       "['__add__',\n",
       " '__class__',\n",
       " '__class_getitem__',\n",
       " '__contains__',\n",
       " '__delattr__',\n",
       " '__delitem__',\n",
       " '__dir__',\n",
       " '__doc__',\n",
       " '__eq__',\n",
       " '__format__',\n",
       " '__ge__',\n",
       " '__getattribute__',\n",
       " '__getitem__',\n",
       " '__gt__',\n",
       " '__hash__',\n",
       " '__iadd__',\n",
       " '__imul__',\n",
       " '__init__',\n",
       " '__init_subclass__',\n",
       " '__iter__',\n",
       " '__le__',\n",
       " '__len__',\n",
       " '__lt__',\n",
       " '__mul__',\n",
       " '__ne__',\n",
       " '__new__',\n",
       " '__reduce__',\n",
       " '__reduce_ex__',\n",
       " '__repr__',\n",
       " '__reversed__',\n",
       " '__rmul__',\n",
       " '__setattr__',\n",
       " '__setitem__',\n",
       " '__sizeof__',\n",
       " '__str__',\n",
       " '__subclasshook__',\n",
       " 'append',\n",
       " 'clear',\n",
       " 'copy',\n",
       " 'count',\n",
       " 'extend',\n",
       " 'index',\n",
       " 'insert',\n",
       " 'pop',\n",
       " 'remove',\n",
       " 'reverse',\n",
       " 'sort']"
      ]
     },
     "execution_count": 16,
     "metadata": {},
     "output_type": "execute_result"
    }
   ],
   "source": [
    "dir(list)"
   ]
  },
  {
   "cell_type": "code",
   "execution_count": 17,
   "id": "52c9141e",
   "metadata": {},
   "outputs": [
    {
     "data": {
      "text/plain": [
       "['__add__',\n",
       " '__class__',\n",
       " '__class_getitem__',\n",
       " '__contains__',\n",
       " '__delattr__',\n",
       " '__dir__',\n",
       " '__doc__',\n",
       " '__eq__',\n",
       " '__format__',\n",
       " '__ge__',\n",
       " '__getattribute__',\n",
       " '__getitem__',\n",
       " '__getnewargs__',\n",
       " '__gt__',\n",
       " '__hash__',\n",
       " '__init__',\n",
       " '__init_subclass__',\n",
       " '__iter__',\n",
       " '__le__',\n",
       " '__len__',\n",
       " '__lt__',\n",
       " '__mul__',\n",
       " '__ne__',\n",
       " '__new__',\n",
       " '__reduce__',\n",
       " '__reduce_ex__',\n",
       " '__repr__',\n",
       " '__rmul__',\n",
       " '__setattr__',\n",
       " '__sizeof__',\n",
       " '__str__',\n",
       " '__subclasshook__',\n",
       " 'count',\n",
       " 'index']"
      ]
     },
     "execution_count": 17,
     "metadata": {},
     "output_type": "execute_result"
    }
   ],
   "source": [
    "dir(tuple)"
   ]
  },
  {
   "cell_type": "code",
   "execution_count": 19,
   "id": "7cd74221",
   "metadata": {},
   "outputs": [
    {
     "data": {
      "text/plain": [
       "['__add__',\n",
       " '__class__',\n",
       " '__contains__',\n",
       " '__delattr__',\n",
       " '__dir__',\n",
       " '__doc__',\n",
       " '__eq__',\n",
       " '__format__',\n",
       " '__ge__',\n",
       " '__getattribute__',\n",
       " '__getitem__',\n",
       " '__getnewargs__',\n",
       " '__gt__',\n",
       " '__hash__',\n",
       " '__init__',\n",
       " '__init_subclass__',\n",
       " '__iter__',\n",
       " '__le__',\n",
       " '__len__',\n",
       " '__lt__',\n",
       " '__mod__',\n",
       " '__mul__',\n",
       " '__ne__',\n",
       " '__new__',\n",
       " '__reduce__',\n",
       " '__reduce_ex__',\n",
       " '__repr__',\n",
       " '__rmod__',\n",
       " '__rmul__',\n",
       " '__setattr__',\n",
       " '__sizeof__',\n",
       " '__str__',\n",
       " '__subclasshook__',\n",
       " 'capitalize',\n",
       " 'casefold',\n",
       " 'center',\n",
       " 'count',\n",
       " 'encode',\n",
       " 'endswith',\n",
       " 'expandtabs',\n",
       " 'find',\n",
       " 'format',\n",
       " 'format_map',\n",
       " 'index',\n",
       " 'isalnum',\n",
       " 'isalpha',\n",
       " 'isascii',\n",
       " 'isdecimal',\n",
       " 'isdigit',\n",
       " 'isidentifier',\n",
       " 'islower',\n",
       " 'isnumeric',\n",
       " 'isprintable',\n",
       " 'isspace',\n",
       " 'istitle',\n",
       " 'isupper',\n",
       " 'join',\n",
       " 'ljust',\n",
       " 'lower',\n",
       " 'lstrip',\n",
       " 'maketrans',\n",
       " 'partition',\n",
       " 'removeprefix',\n",
       " 'removesuffix',\n",
       " 'replace',\n",
       " 'rfind',\n",
       " 'rindex',\n",
       " 'rjust',\n",
       " 'rpartition',\n",
       " 'rsplit',\n",
       " 'rstrip',\n",
       " 'split',\n",
       " 'splitlines',\n",
       " 'startswith',\n",
       " 'strip',\n",
       " 'swapcase',\n",
       " 'title',\n",
       " 'translate',\n",
       " 'upper',\n",
       " 'zfill']"
      ]
     },
     "execution_count": 19,
     "metadata": {},
     "output_type": "execute_result"
    }
   ],
   "source": [
    "dir(str)"
   ]
  },
  {
   "cell_type": "code",
   "execution_count": 18,
   "id": "49215b2f",
   "metadata": {},
   "outputs": [
    {
     "data": {
      "text/plain": [
       "['__class__',\n",
       " '__class_getitem__',\n",
       " '__contains__',\n",
       " '__delattr__',\n",
       " '__delitem__',\n",
       " '__dir__',\n",
       " '__doc__',\n",
       " '__eq__',\n",
       " '__format__',\n",
       " '__ge__',\n",
       " '__getattribute__',\n",
       " '__getitem__',\n",
       " '__gt__',\n",
       " '__hash__',\n",
       " '__init__',\n",
       " '__init_subclass__',\n",
       " '__ior__',\n",
       " '__iter__',\n",
       " '__le__',\n",
       " '__len__',\n",
       " '__lt__',\n",
       " '__ne__',\n",
       " '__new__',\n",
       " '__or__',\n",
       " '__reduce__',\n",
       " '__reduce_ex__',\n",
       " '__repr__',\n",
       " '__reversed__',\n",
       " '__ror__',\n",
       " '__setattr__',\n",
       " '__setitem__',\n",
       " '__sizeof__',\n",
       " '__str__',\n",
       " '__subclasshook__',\n",
       " 'clear',\n",
       " 'copy',\n",
       " 'fromkeys',\n",
       " 'get',\n",
       " 'items',\n",
       " 'keys',\n",
       " 'pop',\n",
       " 'popitem',\n",
       " 'setdefault',\n",
       " 'update',\n",
       " 'values']"
      ]
     },
     "execution_count": 18,
     "metadata": {},
     "output_type": "execute_result"
    }
   ],
   "source": [
    "dir(dict)"
   ]
  },
  {
   "cell_type": "code",
   "execution_count": 20,
   "id": "aa6b8612",
   "metadata": {},
   "outputs": [
    {
     "data": {
      "text/plain": [
       "[(1, 2),\n",
       " ('hi', 'hello'),\n",
       " ('hi', 'hello'),\n",
       " ('이름', 4),\n",
       " (1, 'A'),\n",
       " (2, 'B'),\n",
       " (3, 'C'),\n",
       " (4, 'A'),\n",
       " (5, 'B'),\n",
       " (6, 'C')]"
      ]
     },
     "execution_count": 20,
     "metadata": {},
     "output_type": "execute_result"
    }
   ],
   "source": [
    "data = [{'name':4, 'age':'A'}, {'name':5, 'age':'B'}, {'name':6, 'age':'C'}]\n",
    "cur.executemany('INSERT INTO temp VALUES(:name, :age)', data)\n",
    "cur.execute('SELECT * FROM temp')\n",
    "cur.fetchall()"
   ]
  },
  {
   "cell_type": "code",
   "execution_count": 32,
   "id": "c5518cbf",
   "metadata": {},
   "outputs": [
    {
     "data": {
      "text/plain": [
       "(1, 2)"
      ]
     },
     "execution_count": 32,
     "metadata": {},
     "output_type": "execute_result"
    }
   ],
   "source": [
    "# fetch 에 대해 알아보자\n",
    "cur.execute('SELECT * FROM temp')\n",
    "cur.fetchone()"
   ]
  },
  {
   "cell_type": "code",
   "execution_count": 33,
   "id": "56a3c476",
   "metadata": {},
   "outputs": [
    {
     "data": {
      "text/plain": [
       "[(1, 2), ('hi', 'hello'), ('hi', 'hello')]"
      ]
     },
     "execution_count": 33,
     "metadata": {},
     "output_type": "execute_result"
    }
   ],
   "source": [
    "cur.execute('SELECT * FROM temp')\n",
    "cur.fetchmany(3)"
   ]
  },
  {
   "cell_type": "code",
   "execution_count": 34,
   "id": "54098744",
   "metadata": {},
   "outputs": [
    {
     "data": {
      "text/plain": [
       "[('hi', 'hello'), ('hi', 'hello'), ('이름', 4), (1, 'A')]"
      ]
     },
     "execution_count": 34,
     "metadata": {},
     "output_type": "execute_result"
    }
   ],
   "source": [
    "# LIMIT 사용\n",
    "cur.execute('SELECT * FROM temp LIMIT 1,4')\n",
    "cur.fetchall()"
   ]
  },
  {
   "cell_type": "code",
   "execution_count": 45,
   "id": "17fa07aa",
   "metadata": {},
   "outputs": [
    {
     "data": {
      "text/plain": [
       "<sqlite3.Cursor at 0x7f7c21027840>"
      ]
     },
     "execution_count": 45,
     "metadata": {},
     "output_type": "execute_result"
    }
   ],
   "source": [
    "cur.execute('DROP table temp2')"
   ]
  },
  {
   "cell_type": "code",
   "execution_count": 46,
   "id": "f759c103",
   "metadata": {},
   "outputs": [
    {
     "data": {
      "text/plain": [
       "<sqlite3.Cursor at 0x7f7c21027840>"
      ]
     },
     "execution_count": 46,
     "metadata": {},
     "output_type": "execute_result"
    }
   ],
   "source": [
    "cur.executescript('''\n",
    "    CREATE TABLE temp2 (\n",
    "        pk INTEGER PRIMARY KEY AUTOINCREMENT,\n",
    "        name TEXT\n",
    "    );\n",
    "    \n",
    "    INSERT INTO temp2 (name) VALUES ('이름1');\n",
    "    INSERT INTO temp2 VALUES (NULL, '이름2');\n",
    "''')\n",
    "# 한번에 multiple 실행"
   ]
  },
  {
   "cell_type": "code",
   "execution_count": null,
   "id": "5af1895a",
   "metadata": {},
   "outputs": [],
   "source": [
    "# INSERT INTO temp2 (name) VALUES ('이름1'); => pk x 자동 1\n",
    "# INSERT INTO temp2 VALUES (NULL, '이름2'); => null 자동 2"
   ]
  },
  {
   "cell_type": "code",
   "execution_count": 47,
   "id": "b84c01e4",
   "metadata": {},
   "outputs": [
    {
     "data": {
      "text/plain": [
       "[(1, '이름1'), (2, '이름2')]"
      ]
     },
     "execution_count": 47,
     "metadata": {},
     "output_type": "execute_result"
    }
   ],
   "source": [
    "cur.execute('SELECT * FROM temp2')\n",
    "cur.fetchall()"
   ]
  },
  {
   "cell_type": "code",
   "execution_count": 31,
   "id": "9561eeca",
   "metadata": {},
   "outputs": [
    {
     "data": {
      "text/plain": [
       "<sqlite3.Cursor at 0x7fe8b19aa6c0>"
      ]
     },
     "execution_count": 31,
     "metadata": {},
     "output_type": "execute_result"
    }
   ],
   "source": [
    "cur.execute('DROP TABLE temp2')"
   ]
  },
  {
   "cell_type": "code",
   "execution_count": 48,
   "id": "5c5b4646",
   "metadata": {},
   "outputs": [
    {
     "ename": "IntegrityError",
     "evalue": "UNIQUE constraint failed: temp2.pk",
     "output_type": "error",
     "traceback": [
      "\u001b[0;31m---------------------------------------------------------------------------\u001b[0m",
      "\u001b[0;31mIntegrityError\u001b[0m                            Traceback (most recent call last)",
      "Cell \u001b[0;32mIn[48], line 1\u001b[0m\n\u001b[0;32m----> 1\u001b[0m cur\u001b[39m.\u001b[39;49mexecute(\u001b[39m'\u001b[39;49m\u001b[39mINSERT INTO temp2 VALUES(1, 1)\u001b[39;49m\u001b[39m'\u001b[39;49m)\n",
      "\u001b[0;31mIntegrityError\u001b[0m: UNIQUE constraint failed: temp2.pk"
     ]
    }
   ],
   "source": [
    "cur.execute('INSERT INTO temp2 VALUES(1, 1)')\n",
    "\n",
    "# 오류가 뜨는 이유는 이미 PK 값에 1이 존재하기 떄문\n",
    "# 아래 unique 참고"
   ]
  },
  {
   "cell_type": "code",
   "execution_count": 49,
   "id": "4177d258",
   "metadata": {},
   "outputs": [],
   "source": [
    "# DB 를 닫을 때\n",
    "conn.close()\n",
    "# 메모리에서 작업을 했으니 닫혔는지 안 닫혔는지 알 수 없음."
   ]
  },
  {
   "cell_type": "code",
   "execution_count": 50,
   "id": "e7f8978e",
   "metadata": {},
   "outputs": [
    {
     "name": "stdout",
     "output_type": "stream",
     "text": [
      "/Users/baekkwanghyun/Desktop/SW_academy\n"
     ]
    }
   ],
   "source": [
    "# 다시 열기\n",
    "# file에 생성해보기\n",
    "# 나의 현재 폴더 확인\n",
    "!pwd"
   ]
  },
  {
   "cell_type": "code",
   "execution_count": 51,
   "id": "30dbfe2a",
   "metadata": {},
   "outputs": [],
   "source": [
    "con = sqlite3.connect('test2.db')\n",
    "# 확장자는 사람이 구분하기 위한 역할이지, 확장자가 하는 역할은 없음"
   ]
  },
  {
   "cell_type": "code",
   "execution_count": 52,
   "id": "ba43942a",
   "metadata": {},
   "outputs": [],
   "source": [
    "cur = con.cursor()"
   ]
  },
  {
   "cell_type": "code",
   "execution_count": 53,
   "id": "a6c83942",
   "metadata": {},
   "outputs": [
    {
     "data": {
      "text/plain": [
       "<sqlite3.Cursor at 0x7f7bf2036140>"
      ]
     },
     "execution_count": 53,
     "metadata": {},
     "output_type": "execute_result"
    }
   ],
   "source": [
    "cur.executescript('''\n",
    "    DROP TABLE IF EXISTS temp1;\n",
    "    CREATE TABLE temp1 (\n",
    "        pk INTEGER PRIMARY KEY,\n",
    "        name TEXT\n",
    "    );\n",
    "    \n",
    "    INSERT INTO temp1 VALUES(1, '이름1');\n",
    "    INSERT INTO temp1 VALUES(2, '이름2');\n",
    "''')\n",
    "\n",
    "# 모든 언어는 띄어쓰기는 한번 이상되는 것은 한번으로 무시됨"
   ]
  },
  {
   "cell_type": "code",
   "execution_count": null,
   "id": "e575f1a9",
   "metadata": {},
   "outputs": [],
   "source": [
    "#DROP TABLE IF EXISTS temp1; => 만약 temp1이 기존에 있으면 drop\n",
    "#    => 매번 초기화되기 때문에 연습할 때만 쓸 것"
   ]
  },
  {
   "cell_type": "code",
   "execution_count": 54,
   "id": "bd0ee6a2",
   "metadata": {},
   "outputs": [
    {
     "data": {
      "text/plain": [
       "[(1, '이름1'), (2, '이름2')]"
      ]
     },
     "execution_count": 54,
     "metadata": {},
     "output_type": "execute_result"
    }
   ],
   "source": [
    "cur.execute('SELECT * FROM temp1')\n",
    "cur.fetchall()"
   ]
  },
  {
   "cell_type": "code",
   "execution_count": null,
   "id": "65731f3b",
   "metadata": {},
   "outputs": [],
   "source": [
    "# AUTOINCREMENT 가 없으면 내가 PK를 관리해주어야 함"
   ]
  },
  {
   "cell_type": "code",
   "execution_count": 55,
   "id": "ddd8df14",
   "metadata": {},
   "outputs": [
    {
     "data": {
      "text/plain": [
       "[(1, '이름1'), (2, '이름2'), (3, '111')]"
      ]
     },
     "execution_count": 55,
     "metadata": {},
     "output_type": "execute_result"
    }
   ],
   "source": [
    "cur.execute('INSERT INTO temp1 (name) VALUES (111)')\n",
    "cur.execute('SELECT * FROM temp1')\n",
    "cur.fetchall()"
   ]
  },
  {
   "cell_type": "code",
   "execution_count": 47,
   "id": "504db62a",
   "metadata": {},
   "outputs": [],
   "source": [
    "# COMMIT 을 보자"
   ]
  },
  {
   "cell_type": "markdown",
   "id": "4c0dcf2c",
   "metadata": {},
   "source": [
    "DB Browser for SQLite3 -> Download -> Not install"
   ]
  },
  {
   "cell_type": "code",
   "execution_count": 56,
   "id": "79dfa6a0",
   "metadata": {},
   "outputs": [
    {
     "data": {
      "text/plain": [
       "<sqlite3.Cursor at 0x7f7bf2036140>"
      ]
     },
     "execution_count": 56,
     "metadata": {},
     "output_type": "execute_result"
    }
   ],
   "source": [
    "cur.execute('INSERT INTO temp1 VALUES(NULL, \"보이나\")')\n",
    "# Browser 로 값이 들어있는지 확인 - 안보이는게 정상\n",
    "# 데이터의 무결성을 RDB가 증명해야 하기 때문에 내가 입력했다고 해서 바로 반영하는 것이 아님\n",
    "# COMMIT 을 해주어야 물리적으로 반영이 된다."
   ]
  },
  {
   "cell_type": "code",
   "execution_count": 57,
   "id": "f94da19e",
   "metadata": {},
   "outputs": [],
   "source": [
    "con.commit()\n",
    "# 그래야 물리적으로 반영됨.\n",
    "# insert와 관련된 것들은 중간에 어떤 오류, 중간에 어디서 다시 rollback을 해야할지 시점을 잡아줬지 않았기 때문에\n",
    "# 항상 데이터베이스에는 항상 원본이 유지되어야 함.\n",
    "# 따라서 물리적 DB에 반영을 할지 말지를 명시적으로 전달해줘야 함(COMMIT)\n",
    "# executescirpt 는 묵시적으로 commit 함"
   ]
  },
  {
   "cell_type": "code",
   "execution_count": null,
   "id": "6406379a",
   "metadata": {},
   "outputs": [],
   "source": [
    "# DROP, DELETE, INSERT, UPDATE 는 COMMIT으로 기록을 해줘야 반영됨.\n",
    "# begin transaction을 사용하면, 하나 끝나면 commit 하게 해줌."
   ]
  },
  {
   "cell_type": "code",
   "execution_count": 58,
   "id": "577684f9",
   "metadata": {},
   "outputs": [
    {
     "data": {
      "text/plain": [
       "4"
      ]
     },
     "execution_count": 58,
     "metadata": {},
     "output_type": "execute_result"
    }
   ],
   "source": [
    "cur.lastrowid\n",
    "# 마지막에 insert된 pk 값"
   ]
  },
  {
   "cell_type": "code",
   "execution_count": 59,
   "id": "c376e69a",
   "metadata": {},
   "outputs": [],
   "source": [
    "con.close()"
   ]
  },
  {
   "cell_type": "code",
   "execution_count": null,
   "id": "2baf3660",
   "metadata": {},
   "outputs": [],
   "source": [
    "# 예제 - 프렌차이즈 전산실\n",
    "# CITY, SUPPLIER, PART, SELLS(관계를 나타내는 TABLE)\n",
    "# CITY: PK, NAME\n",
    "# SUPLLIER: PK, NAME, FK(CITY.PK)\n",
    "# PART: PK, NAME\n",
    "# SELLS: FK(S.PK), FK(P.PK), PRICE"
   ]
  },
  {
   "cell_type": "code",
   "execution_count": 60,
   "id": "8edf8be0",
   "metadata": {},
   "outputs": [],
   "source": [
    "con = sqlite3.connect('example2.db')\n",
    "cur = con.cursor()"
   ]
  },
  {
   "cell_type": "code",
   "execution_count": 61,
   "id": "68f55613",
   "metadata": {},
   "outputs": [
    {
     "data": {
      "text/plain": [
       "<sqlite3.Cursor at 0x7f7bf1fb41c0>"
      ]
     },
     "execution_count": 61,
     "metadata": {},
     "output_type": "execute_result"
    }
   ],
   "source": [
    "cur.executescript('''\n",
    "    CREATE TABLE city (\n",
    "        pk INTEGER PRIMARY KEY,\n",
    "        name TEXT\n",
    "    );\n",
    "    CREATE TABLE supplier (\n",
    "        pk INTEGER PRIMARY KEY,\n",
    "        name TEXT,\n",
    "        fk INTEGER NOT NULL\n",
    "    );\n",
    "    CREATE TABLE part (\n",
    "        pk INTEGER PRIMARY KEY,\n",
    "        name TEXT\n",
    "    );\n",
    "    CREATE TABLE sells (\n",
    "        fk1 INTEGER NOT NULL,\n",
    "        fk2 INTEGER NOT NULL,\n",
    "        price INTEGER NOT NULL\n",
    "    );\n",
    "''')"
   ]
  },
  {
   "cell_type": "code",
   "execution_count": 64,
   "id": "bd58acee",
   "metadata": {},
   "outputs": [
    {
     "data": {
      "text/plain": [
       "<sqlite3.Cursor at 0x7f7bf1fb41c0>"
      ]
     },
     "execution_count": 64,
     "metadata": {},
     "output_type": "execute_result"
    }
   ],
   "source": [
    "data = [('성북구',), ('중구',), ('강북구',), ('어쩌구',), ('저쩌구',)]\n",
    "cur.executemany('INSERT INTO city(name) VALUES (?)', data)"
   ]
  },
  {
   "cell_type": "code",
   "execution_count": 63,
   "id": "cd937cd6",
   "metadata": {},
   "outputs": [
    {
     "ename": "ProgrammingError",
     "evalue": "Incorrect number of bindings supplied. The current statement uses 1, and there are 3 supplied.",
     "output_type": "error",
     "traceback": [
      "\u001b[0;31m---------------------------------------------------------------------------\u001b[0m",
      "\u001b[0;31mProgrammingError\u001b[0m                          Traceback (most recent call last)",
      "Cell \u001b[0;32mIn[63], line 2\u001b[0m\n\u001b[1;32m      1\u001b[0m data \u001b[39m=\u001b[39m [(\u001b[39m'\u001b[39m\u001b[39m성북구\u001b[39m\u001b[39m'\u001b[39m), (\u001b[39m'\u001b[39m\u001b[39m중구\u001b[39m\u001b[39m'\u001b[39m), (\u001b[39m'\u001b[39m\u001b[39m강북구\u001b[39m\u001b[39m'\u001b[39m), (\u001b[39m'\u001b[39m\u001b[39m어쩌구\u001b[39m\u001b[39m'\u001b[39m), (\u001b[39m'\u001b[39m\u001b[39m저쩌구\u001b[39m\u001b[39m'\u001b[39m)]\n\u001b[0;32m----> 2\u001b[0m cur\u001b[39m.\u001b[39;49mexecutemany(\u001b[39m'\u001b[39;49m\u001b[39mINSERT INTO city(name) VALUES (?)\u001b[39;49m\u001b[39m'\u001b[39;49m, data)\n",
      "\u001b[0;31mProgrammingError\u001b[0m: Incorrect number of bindings supplied. The current statement uses 1, and there are 3 supplied."
     ]
    }
   ],
   "source": [
    "data = [('성북구'), ('중구'), ('강북구'), ('어쩌구'), ('저쩌구')]\n",
    "cur.executemany('INSERT INTO city(name) VALUES (?)', data)\n",
    "# 튜플 형태 (value, ) 로 묶어줘야 함."
   ]
  },
  {
   "cell_type": "code",
   "execution_count": 65,
   "id": "37ccaeda",
   "metadata": {},
   "outputs": [
    {
     "data": {
      "text/plain": [
       "[(1, '성북구'), (2, '중구'), (3, '강북구'), (4, '어쩌구'), (5, '저쩌구')]"
      ]
     },
     "execution_count": 65,
     "metadata": {},
     "output_type": "execute_result"
    }
   ],
   "source": [
    "cur.execute('SELECT * FROM city')\n",
    "cur.fetchall()"
   ]
  },
  {
   "cell_type": "code",
   "execution_count": 66,
   "id": "3e7be32c",
   "metadata": {},
   "outputs": [
    {
     "data": {
      "text/plain": [
       "<sqlite3.Cursor at 0x7f7bf1fb41c0>"
      ]
     },
     "execution_count": 66,
     "metadata": {},
     "output_type": "execute_result"
    }
   ],
   "source": [
    "data = [('메뉴1',), ('메뉴2',), ('메뉴3',), ('메뉴4',), ('메뉴5',)]\n",
    "cur.executemany('INSERT INTO part(name) VALUES (?)', data)"
   ]
  },
  {
   "cell_type": "code",
   "execution_count": 67,
   "id": "9c152b41",
   "metadata": {},
   "outputs": [
    {
     "data": {
      "text/plain": [
       "[(1, '메뉴1'), (2, '메뉴2'), (3, '메뉴3'), (4, '메뉴4'), (5, '메뉴5')]"
      ]
     },
     "execution_count": 67,
     "metadata": {},
     "output_type": "execute_result"
    }
   ],
   "source": [
    "cur.execute('SELECT * FROM part')\n",
    "cur.fetchall()"
   ]
  },
  {
   "cell_type": "code",
   "execution_count": 68,
   "id": "b2a83a3e",
   "metadata": {},
   "outputs": [
    {
     "name": "stdout",
     "output_type": "stream",
     "text": [
      "1\n"
     ]
    }
   ],
   "source": [
    "# FK 를 위해 어느 도시에 속했는지\n",
    "cur.execute('SELECT * FROM city')\n",
    "for row in cur.fetchall():\n",
    "    if row[1] == '성북구':\n",
    "        print(row[0])"
   ]
  },
  {
   "cell_type": "code",
   "execution_count": 71,
   "id": "9efa3e4c",
   "metadata": {},
   "outputs": [
    {
     "data": {
      "text/plain": [
       "1"
      ]
     },
     "execution_count": 71,
     "metadata": {},
     "output_type": "execute_result"
    }
   ],
   "source": [
    "cur.execute('SELECT * FROM city WHERE name=:name', {'name':'성북구'})\n",
    "cur.fetchone()[0]"
   ]
  },
  {
   "cell_type": "code",
   "execution_count": 73,
   "id": "0eced0c5",
   "metadata": {},
   "outputs": [
    {
     "data": {
      "text/plain": [
       "(1, '성북구')"
      ]
     },
     "execution_count": 73,
     "metadata": {},
     "output_type": "execute_result"
    }
   ],
   "source": [
    "cur.execute('SELECT * FROM city WHERE name LIKE :name', {'name':'%성북%'})\n",
    "cur.fetchone()"
   ]
  },
  {
   "cell_type": "code",
   "execution_count": 74,
   "id": "43434bd2",
   "metadata": {},
   "outputs": [
    {
     "data": {
      "text/plain": [
       "[(1,)]"
      ]
     },
     "execution_count": 74,
     "metadata": {},
     "output_type": "execute_result"
    }
   ],
   "source": [
    "cur.execute('SELECT * FROM (SELECT pk FROM city WHERE name LIKE :name)',\n",
    "            {'name':'%성북%'})\n",
    "cur.fetchall()"
   ]
  },
  {
   "cell_type": "code",
   "execution_count": 75,
   "id": "7ab25901",
   "metadata": {},
   "outputs": [],
   "source": [
    "cur.execute('SELECT * FROM city')\n",
    "for row in cur.fetchall():\n",
    "    if row[1] == '성북구':\n",
    "        pk = row[0]\n",
    "        cur.execute('INSERT INTO supplier (name, fk) VALUES(?, ?)',\n",
    "                   ['안암 1호점', pk])\n",
    "        break"
   ]
  },
  {
   "cell_type": "code",
   "execution_count": 76,
   "id": "203e434b",
   "metadata": {},
   "outputs": [
    {
     "data": {
      "text/plain": [
       "[(1, '안암 1호점', 1)]"
      ]
     },
     "execution_count": 76,
     "metadata": {},
     "output_type": "execute_result"
    }
   ],
   "source": [
    "cur.execute('SELECT * FROM supplier')\n",
    "cur.fetchall()"
   ]
  },
  {
   "cell_type": "code",
   "execution_count": 77,
   "id": "c34b72ec",
   "metadata": {},
   "outputs": [
    {
     "data": {
      "text/plain": [
       "[(1, '성북구', 1, '안암 1호점', 1),\n",
       " (2, '중구', 1, '안암 1호점', 1),\n",
       " (3, '강북구', 1, '안암 1호점', 1),\n",
       " (4, '어쩌구', 1, '안암 1호점', 1),\n",
       " (5, '저쩌구', 1, '안암 1호점', 1)]"
      ]
     },
     "execution_count": 77,
     "metadata": {},
     "output_type": "execute_result"
    }
   ],
   "source": [
    "# 이렇게 쓰면 안 좋음\n",
    "cur.execute('SELECT * FROM city, supplier')\n",
    "cur.fetchall()"
   ]
  },
  {
   "cell_type": "code",
   "execution_count": 78,
   "id": "1d2d4c69",
   "metadata": {},
   "outputs": [
    {
     "data": {
      "text/plain": [
       "<sqlite3.Cursor at 0x7f7bf1fb41c0>"
      ]
     },
     "execution_count": 78,
     "metadata": {},
     "output_type": "execute_result"
    }
   ],
   "source": [
    "cur.execute('SELECT pk FROM city WHERE name LIKE :name', {'name':'%성북%'})\n",
    "pk = cur.fetchone()[0]\n",
    "cur.execute('INSERT INTO supplier (name, fk) VALUES(?, ?)',\n",
    "           ['안암 2호점', pk])"
   ]
  },
  {
   "cell_type": "code",
   "execution_count": 79,
   "id": "3d3d0c35",
   "metadata": {},
   "outputs": [
    {
     "data": {
      "text/plain": [
       "[(1, '안암 1호점', 1), (2, '안암 2호점', 1)]"
      ]
     },
     "execution_count": 79,
     "metadata": {},
     "output_type": "execute_result"
    }
   ],
   "source": [
    "cur.execute('SELECT * FROM supplier')\n",
    "cur.fetchall()"
   ]
  },
  {
   "cell_type": "code",
   "execution_count": 80,
   "id": "692f19de",
   "metadata": {},
   "outputs": [
    {
     "data": {
      "text/plain": [
       "<sqlite3.Cursor at 0x7f7bf1fb41c0>"
      ]
     },
     "execution_count": 80,
     "metadata": {},
     "output_type": "execute_result"
    }
   ],
   "source": [
    "# 쿼리문 중첩 방법\n",
    "cur.execute('''\n",
    "    INSERT INTO supplier(name, fk)\n",
    "    VALUES(?,(SELECT pk FROM city WHERE name LIKE ? LIMIT 0,1))\n",
    "    ''', ['종암 1호점','%성북%'])"
   ]
  },
  {
   "cell_type": "code",
   "execution_count": 81,
   "id": "86ec5079",
   "metadata": {},
   "outputs": [
    {
     "data": {
      "text/plain": [
       "[(1, '안암 1호점', 1), (2, '안암 2호점', 1), (3, '종암 1호점', 1)]"
      ]
     },
     "execution_count": 81,
     "metadata": {},
     "output_type": "execute_result"
    }
   ],
   "source": [
    "cur.execute('SELECT * FROM supplier')\n",
    "cur.fetchall()"
   ]
  },
  {
   "cell_type": "code",
   "execution_count": 82,
   "id": "c4f9ad97",
   "metadata": {},
   "outputs": [],
   "source": [
    "con.commit()"
   ]
  },
  {
   "cell_type": "code",
   "execution_count": 83,
   "id": "2dbd299d",
   "metadata": {},
   "outputs": [
    {
     "data": {
      "text/plain": [
       "<sqlite3.Cursor at 0x7f7bf1fb41c0>"
      ]
     },
     "execution_count": 83,
     "metadata": {},
     "output_type": "execute_result"
    }
   ],
   "source": [
    "data = ['%안암%1호%', '%메뉴1%', 4500]\n",
    "\n",
    "cur.execute('''\n",
    "    INSERT INTO sells(fk1, fk2, price)\n",
    "    VALUES((SELECT pk FROM supplier WHERE name LIKE ? LIMIT 0,1),\n",
    "           (SELECT pk FROM part WHERE name LIKE ? LIMIT 0,1),\n",
    "           ?)\n",
    "    ''', data)"
   ]
  },
  {
   "cell_type": "code",
   "execution_count": 84,
   "id": "f790604d",
   "metadata": {},
   "outputs": [
    {
     "data": {
      "text/plain": [
       "<sqlite3.Cursor at 0x7f7bf1fb41c0>"
      ]
     },
     "execution_count": 84,
     "metadata": {},
     "output_type": "execute_result"
    }
   ],
   "source": [
    "data = [['%안암%1호%', '%메뉴2%', 4500],\n",
    "        ['%안암%1호%', '%메뉴2%', 5000],\n",
    "        ['%안암%2호%', '%메뉴1%', 4700],\n",
    "        ['%안암%2호%', '%메뉴2%', 4900],\n",
    "        ['%종암%1호%', '%메뉴4%', 5300],\n",
    "        ['%종암%1호%', '%메뉴5%', 2300],\n",
    "        ['%종암%1호%', '%메뉴1%', 900]]\n",
    "\n",
    "cur.executemany('''\n",
    "    INSERT INTO sells(fk1, fk2, price)\n",
    "    VALUES((SELECT pk FROM supplier WHERE name LIKE ? LIMIT 0,1),\n",
    "           (SELECT pk FROM part WHERE name LIKE ? LIMIT 0,1),\n",
    "           ?)\n",
    "    ''', data)"
   ]
  },
  {
   "cell_type": "code",
   "execution_count": 85,
   "id": "3d9fbcd0",
   "metadata": {},
   "outputs": [
    {
     "data": {
      "text/plain": [
       "[(1, 1, 4500),\n",
       " (1, 2, 4500),\n",
       " (1, 2, 5000),\n",
       " (2, 1, 4700),\n",
       " (2, 2, 4900),\n",
       " (3, 4, 5300),\n",
       " (3, 5, 2300),\n",
       " (3, 1, 900)]"
      ]
     },
     "execution_count": 85,
     "metadata": {},
     "output_type": "execute_result"
    }
   ],
   "source": [
    "cur.execute('SELECT * FROM sells')\n",
    "cur.fetchall()"
   ]
  },
  {
   "cell_type": "code",
   "execution_count": 86,
   "id": "d404f58c",
   "metadata": {},
   "outputs": [
    {
     "data": {
      "text/plain": [
       "[('성북구', '안암 1호점'), ('성북구', '안암 2호점'), ('성북구', '종암 1호점')]"
      ]
     },
     "execution_count": 86,
     "metadata": {},
     "output_type": "execute_result"
    }
   ],
   "source": [
    "# JOIN 연산\n",
    "# INNER JOIN\n",
    "cur.execute('''\n",
    "    SELECT city.name, supplier.name FROM city\n",
    "    INNER JOIN supplier\n",
    "    ON city.pk = supplier.fk\n",
    "    ''')\n",
    "cur.fetchall()"
   ]
  }
 ],
 "metadata": {
  "kernelspec": {
   "display_name": "Python 3 (ipykernel)",
   "language": "python",
   "name": "python3"
  },
  "language_info": {
   "codemirror_mode": {
    "name": "ipython",
    "version": 3
   },
   "file_extension": ".py",
   "mimetype": "text/x-python",
   "name": "python",
   "nbconvert_exporter": "python",
   "pygments_lexer": "ipython3",
   "version": "3.10.9"
  }
 },
 "nbformat": 4,
 "nbformat_minor": 5
}
