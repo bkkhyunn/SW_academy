{
 "cells": [
  {
   "cell_type": "code",
   "execution_count": 2,
   "id": "33abbcb0",
   "metadata": {},
   "outputs": [],
   "source": [
    "a = 1"
   ]
  },
  {
   "cell_type": "code",
   "execution_count": null,
   "id": "b4ae6d6b",
   "metadata": {},
   "outputs": [],
   "source": [
    "# 반복문\n",
    "# 반복문은 2가지 종류 => while / for\n",
    "# while 보다 for 를 쓰라고 배우는 이유는?\n",
    "# 반복문의 개념을 알기 위해서 iterable 을 알고 있어야 함"
   ]
  },
  {
   "cell_type": "code",
   "execution_count": null,
   "id": "b1efbfdb",
   "metadata": {},
   "outputs": [],
   "source": [
    "# dir\n",
    "# type() 과 id() 함수\n",
    "# 사총사라고 불리는 dir\n",
    "# 객체지향의 진수 -> 모든 attribute를 나열하는 dir"
   ]
  },
  {
   "cell_type": "code",
   "execution_count": 2,
   "id": "b3e94d39",
   "metadata": {
    "collapsed": true
   },
   "outputs": [
    {
     "data": {
      "text/plain": [
       "['__abs__',\n",
       " '__add__',\n",
       " '__and__',\n",
       " '__bool__',\n",
       " '__ceil__',\n",
       " '__class__',\n",
       " '__delattr__',\n",
       " '__dir__',\n",
       " '__divmod__',\n",
       " '__doc__',\n",
       " '__eq__',\n",
       " '__float__',\n",
       " '__floor__',\n",
       " '__floordiv__',\n",
       " '__format__',\n",
       " '__ge__',\n",
       " '__getattribute__',\n",
       " '__getnewargs__',\n",
       " '__gt__',\n",
       " '__hash__',\n",
       " '__index__',\n",
       " '__init__',\n",
       " '__init_subclass__',\n",
       " '__int__',\n",
       " '__invert__',\n",
       " '__le__',\n",
       " '__lshift__',\n",
       " '__lt__',\n",
       " '__mod__',\n",
       " '__mul__',\n",
       " '__ne__',\n",
       " '__neg__',\n",
       " '__new__',\n",
       " '__or__',\n",
       " '__pos__',\n",
       " '__pow__',\n",
       " '__radd__',\n",
       " '__rand__',\n",
       " '__rdivmod__',\n",
       " '__reduce__',\n",
       " '__reduce_ex__',\n",
       " '__repr__',\n",
       " '__rfloordiv__',\n",
       " '__rlshift__',\n",
       " '__rmod__',\n",
       " '__rmul__',\n",
       " '__ror__',\n",
       " '__round__',\n",
       " '__rpow__',\n",
       " '__rrshift__',\n",
       " '__rshift__',\n",
       " '__rsub__',\n",
       " '__rtruediv__',\n",
       " '__rxor__',\n",
       " '__setattr__',\n",
       " '__sizeof__',\n",
       " '__str__',\n",
       " '__sub__',\n",
       " '__subclasshook__',\n",
       " '__truediv__',\n",
       " '__trunc__',\n",
       " '__xor__',\n",
       " 'as_integer_ratio',\n",
       " 'bit_count',\n",
       " 'bit_length',\n",
       " 'conjugate',\n",
       " 'denominator',\n",
       " 'from_bytes',\n",
       " 'imag',\n",
       " 'numerator',\n",
       " 'real',\n",
       " 'to_bytes']"
      ]
     },
     "execution_count": 2,
     "metadata": {},
     "output_type": "execute_result"
    }
   ],
   "source": [
    "dir(a)\n",
    "# 객체 안에 정의된 모든 것들을 attribute\n",
    "# dir 해서 나오는 것들은 접근이 가능함"
   ]
  },
  {
   "cell_type": "code",
   "execution_count": 3,
   "id": "ae461b3a",
   "metadata": {},
   "outputs": [
    {
     "data": {
      "text/plain": [
       "<method-wrapper '__abs__' of int object at 0x7f86a00480f0>"
      ]
     },
     "execution_count": 3,
     "metadata": {},
     "output_type": "execute_result"
    }
   ],
   "source": [
    "a.__abs__\n",
    "# attribute 이기 때문에 점(.)으로 접근할 수 있음\n",
    "# 점으로 접근했을 때 무엇을 사용할 수 있는지 알기 위해서 dir을 사용하면 됨"
   ]
  },
  {
   "cell_type": "code",
   "execution_count": 3,
   "id": "7c2acb77",
   "metadata": {},
   "outputs": [],
   "source": [
    "a = [1, 2, 3]"
   ]
  },
  {
   "cell_type": "code",
   "execution_count": 5,
   "id": "acb54777",
   "metadata": {
    "collapsed": true
   },
   "outputs": [
    {
     "data": {
      "text/plain": [
       "['__add__',\n",
       " '__class__',\n",
       " '__class_getitem__',\n",
       " '__contains__',\n",
       " '__delattr__',\n",
       " '__delitem__',\n",
       " '__dir__',\n",
       " '__doc__',\n",
       " '__eq__',\n",
       " '__format__',\n",
       " '__ge__',\n",
       " '__getattribute__',\n",
       " '__getitem__',\n",
       " '__gt__',\n",
       " '__hash__',\n",
       " '__iadd__',\n",
       " '__imul__',\n",
       " '__init__',\n",
       " '__init_subclass__',\n",
       " '__iter__',\n",
       " '__le__',\n",
       " '__len__',\n",
       " '__lt__',\n",
       " '__mul__',\n",
       " '__ne__',\n",
       " '__new__',\n",
       " '__reduce__',\n",
       " '__reduce_ex__',\n",
       " '__repr__',\n",
       " '__reversed__',\n",
       " '__rmul__',\n",
       " '__setattr__',\n",
       " '__setitem__',\n",
       " '__sizeof__',\n",
       " '__str__',\n",
       " '__subclasshook__',\n",
       " 'append',\n",
       " 'clear',\n",
       " 'copy',\n",
       " 'count',\n",
       " 'extend',\n",
       " 'index',\n",
       " 'insert',\n",
       " 'pop',\n",
       " 'remove',\n",
       " 'reverse',\n",
       " 'sort']"
      ]
     },
     "execution_count": 5,
     "metadata": {},
     "output_type": "execute_result"
    }
   ],
   "source": [
    "dir(a)\n",
    "# 아래의 것들이 기능을 가짐.\n",
    "# 덕 타이핑 - 오리처럼 보이는 것은 오리다. 이런 특징을 파이썬이 가짐.\n",
    "# __iter__와 __len__이 있으면 iterable 이기 때문에 for안에 들어갈 수 있음."
   ]
  },
  {
   "cell_type": "code",
   "execution_count": null,
   "id": "7771f909",
   "metadata": {},
   "outputs": [],
   "source": [
    "# iterable -> iterater 가 될 수 있는 것.\n",
    "# 순회가능, 반복해서 순회가능 => 이것은 정확하게 말하면 틀린 말"
   ]
  },
  {
   "cell_type": "code",
   "execution_count": 6,
   "id": "3523a7ad",
   "metadata": {},
   "outputs": [
    {
     "name": "stdout",
     "output_type": "stream",
     "text": [
      "1\n",
      "2\n",
      "3\n"
     ]
    }
   ],
   "source": [
    "for i in a:\n",
    "    print(i)\n",
    "# 내부적으로 for 다음의 a 자리에는 iterable 한 애들만 들어갈 수 있다."
   ]
  },
  {
   "cell_type": "code",
   "execution_count": 4,
   "id": "7bf55825",
   "metadata": {},
   "outputs": [
    {
     "ename": "TypeError",
     "evalue": "'int' object is not iterable",
     "output_type": "error",
     "traceback": [
      "\u001b[0;31m---------------------------------------------------------------------------\u001b[0m",
      "\u001b[0;31mTypeError\u001b[0m                                 Traceback (most recent call last)",
      "Cell \u001b[0;32mIn[4], line 3\u001b[0m\n\u001b[1;32m      1\u001b[0m \u001b[39m# __iter__ 와 __len__ 이 없으면 iterable이 아님.\u001b[39;00m\n\u001b[1;32m      2\u001b[0m b \u001b[39m=\u001b[39m \u001b[39m1\u001b[39m\n\u001b[0;32m----> 3\u001b[0m \u001b[39mfor\u001b[39;00m i \u001b[39min\u001b[39;00m b:\n\u001b[1;32m      4\u001b[0m     \u001b[39mprint\u001b[39m(i)\n",
      "\u001b[0;31mTypeError\u001b[0m: 'int' object is not iterable"
     ]
    }
   ],
   "source": [
    "# __iter__ 와 __len__ 이 없으면 iterable이 아님.\n",
    "b = 1\n",
    "for i in b:\n",
    "    print(i)"
   ]
  },
  {
   "cell_type": "code",
   "execution_count": 5,
   "id": "480f8925",
   "metadata": {},
   "outputs": [],
   "source": [
    "class A:\n",
    "    def __iter__(self):\n",
    "        return 1"
   ]
  },
  {
   "cell_type": "code",
   "execution_count": 6,
   "id": "4fdc7b44",
   "metadata": {},
   "outputs": [],
   "source": [
    "a = A()"
   ]
  },
  {
   "cell_type": "code",
   "execution_count": 7,
   "id": "b7ec9a14",
   "metadata": {},
   "outputs": [
    {
     "ename": "TypeError",
     "evalue": "iter() returned non-iterator of type 'int'",
     "output_type": "error",
     "traceback": [
      "\u001b[0;31m---------------------------------------------------------------------------\u001b[0m",
      "\u001b[0;31mTypeError\u001b[0m                                 Traceback (most recent call last)",
      "Cell \u001b[0;32mIn[7], line 1\u001b[0m\n\u001b[0;32m----> 1\u001b[0m \u001b[39mfor\u001b[39;00m i \u001b[39min\u001b[39;00m a:\n\u001b[1;32m      2\u001b[0m     \u001b[39mprint\u001b[39m(i)\n",
      "\u001b[0;31mTypeError\u001b[0m: iter() returned non-iterator of type 'int'"
     ]
    }
   ],
   "source": [
    "for i in a:\n",
    "    print(i)"
   ]
  },
  {
   "cell_type": "code",
   "execution_count": null,
   "id": "c3a8a6bb",
   "metadata": {},
   "outputs": [],
   "source": [
    "# 위는 iter 가 iterator를 반환하지 않는다는 에러"
   ]
  },
  {
   "cell_type": "code",
   "execution_count": 8,
   "id": "68cb3e3a",
   "metadata": {},
   "outputs": [],
   "source": [
    "class A:\n",
    "    def __iter__(self):\n",
    "        return iter([1,2,3])"
   ]
  },
  {
   "cell_type": "code",
   "execution_count": 9,
   "id": "315867a4",
   "metadata": {},
   "outputs": [
    {
     "name": "stdout",
     "output_type": "stream",
     "text": [
      "1\n",
      "2\n",
      "3\n"
     ]
    }
   ],
   "source": [
    "a = A()\n",
    "for i in a:\n",
    "    print(i)"
   ]
  },
  {
   "cell_type": "code",
   "execution_count": null,
   "id": "51dd2f66",
   "metadata": {},
   "outputs": [],
   "source": [
    "# __iter__ 의 역할은? 이것이 있으면 for 다음 in 에 집어넣을 수 있음(iterable이 된다는 것)\n",
    "# in 다음에 들어갈 것은 iterable -> __iter__가 정의되어 있는 것"
   ]
  },
  {
   "cell_type": "code",
   "execution_count": null,
   "id": "2e60e012",
   "metadata": {},
   "outputs": [],
   "source": [
    "in # 두꺼운 초록. in은 membership(있는지 없는지 체크하는 것) 이라고 함"
   ]
  },
  {
   "cell_type": "code",
   "execution_count": 10,
   "id": "0210bf35",
   "metadata": {},
   "outputs": [
    {
     "data": {
      "text/plain": [
       "False"
      ]
     },
     "execution_count": 10,
     "metadata": {},
     "output_type": "execute_result"
    }
   ],
   "source": [
    "3 not in [1,2,3]"
   ]
  },
  {
   "cell_type": "code",
   "execution_count": null,
   "id": "613d8e1c",
   "metadata": {},
   "outputs": [],
   "source": [
    "help('in')"
   ]
  },
  {
   "cell_type": "code",
   "execution_count": 11,
   "id": "bb4240a5",
   "metadata": {},
   "outputs": [],
   "source": [
    "a = 3"
   ]
  },
  {
   "cell_type": "code",
   "execution_count": 12,
   "id": "0f6fa019",
   "metadata": {},
   "outputs": [
    {
     "name": "stdout",
     "output_type": "stream",
     "text": [
      "T\n"
     ]
    }
   ],
   "source": [
    "if a==3 or a==4 or a==5:\n",
    "    print('T')"
   ]
  },
  {
   "cell_type": "code",
   "execution_count": 13,
   "id": "9f911e73",
   "metadata": {},
   "outputs": [
    {
     "data": {
      "text/plain": [
       "True"
      ]
     },
     "execution_count": 13,
     "metadata": {},
     "output_type": "execute_result"
    }
   ],
   "source": [
    "a in [3, 4, 5]\n",
    "# or 여러개와 똑같은 의미임.\n",
    "# 위는 3 또는 4 또는 5 라는 것"
   ]
  },
  {
   "cell_type": "code",
   "execution_count": 14,
   "id": "d70f1357",
   "metadata": {},
   "outputs": [
    {
     "ename": "SyntaxError",
     "evalue": "invalid syntax (1447312919.py, line 1)",
     "output_type": "error",
     "traceback": [
      "\u001b[0;36m  Cell \u001b[0;32mIn[14], line 1\u001b[0;36m\u001b[0m\n\u001b[0;31m    for i not in b:\u001b[0m\n\u001b[0m          ^\u001b[0m\n\u001b[0;31mSyntaxError\u001b[0m\u001b[0;31m:\u001b[0m invalid syntax\n"
     ]
    }
   ],
   "source": [
    "for i not in b:\n",
    "    print(i)\n",
    "# not in 은 for 문에는 쓸 수 없음"
   ]
  },
  {
   "cell_type": "code",
   "execution_count": 15,
   "id": "b47dfdff",
   "metadata": {},
   "outputs": [
    {
     "name": "stdout",
     "output_type": "stream",
     "text": [
      "a\n",
      "b\n",
      "c\n",
      "d\n"
     ]
    }
   ],
   "source": [
    "# iterable은 실제 행동하는 애가 아니고, in 다음으로 위치하면 내부적으로 iterator로 변화하게 됨.\n",
    "# 그러면 할 수 있는 역할은?\n",
    "#! iterator는 한개씩 원소를 뽑아서 주는 애. \n",
    "# 그래서 아래와 같은 결과값이 나옴.\n",
    "# 여기에는 메모리 구조에 대한 이해도 필요함\n",
    "for i in 'abcd':\n",
    "    print(i)"
   ]
  },
  {
   "cell_type": "code",
   "execution_count": 1,
   "id": "f37f5033",
   "metadata": {},
   "outputs": [
    {
     "data": {
      "text/plain": [
       "['__add__',\n",
       " '__class__',\n",
       " '__contains__',\n",
       " '__delattr__',\n",
       " '__dir__',\n",
       " '__doc__',\n",
       " '__eq__',\n",
       " '__format__',\n",
       " '__ge__',\n",
       " '__getattribute__',\n",
       " '__getitem__',\n",
       " '__getnewargs__',\n",
       " '__gt__',\n",
       " '__hash__',\n",
       " '__init__',\n",
       " '__init_subclass__',\n",
       " '__iter__',\n",
       " '__le__',\n",
       " '__len__',\n",
       " '__lt__',\n",
       " '__mod__',\n",
       " '__mul__',\n",
       " '__ne__',\n",
       " '__new__',\n",
       " '__reduce__',\n",
       " '__reduce_ex__',\n",
       " '__repr__',\n",
       " '__rmod__',\n",
       " '__rmul__',\n",
       " '__setattr__',\n",
       " '__sizeof__',\n",
       " '__str__',\n",
       " '__subclasshook__',\n",
       " 'capitalize',\n",
       " 'casefold',\n",
       " 'center',\n",
       " 'count',\n",
       " 'encode',\n",
       " 'endswith',\n",
       " 'expandtabs',\n",
       " 'find',\n",
       " 'format',\n",
       " 'format_map',\n",
       " 'index',\n",
       " 'isalnum',\n",
       " 'isalpha',\n",
       " 'isascii',\n",
       " 'isdecimal',\n",
       " 'isdigit',\n",
       " 'isidentifier',\n",
       " 'islower',\n",
       " 'isnumeric',\n",
       " 'isprintable',\n",
       " 'isspace',\n",
       " 'istitle',\n",
       " 'isupper',\n",
       " 'join',\n",
       " 'ljust',\n",
       " 'lower',\n",
       " 'lstrip',\n",
       " 'maketrans',\n",
       " 'partition',\n",
       " 'removeprefix',\n",
       " 'removesuffix',\n",
       " 'replace',\n",
       " 'rfind',\n",
       " 'rindex',\n",
       " 'rjust',\n",
       " 'rpartition',\n",
       " 'rsplit',\n",
       " 'rstrip',\n",
       " 'split',\n",
       " 'splitlines',\n",
       " 'startswith',\n",
       " 'strip',\n",
       " 'swapcase',\n",
       " 'title',\n",
       " 'translate',\n",
       " 'upper',\n",
       " 'zfill']"
      ]
     },
     "execution_count": 1,
     "metadata": {},
     "output_type": "execute_result"
    }
   ],
   "source": [
    "b = 'abcd'\n",
    "dir(b)"
   ]
  },
  {
   "cell_type": "code",
   "execution_count": 2,
   "id": "d0acf35a",
   "metadata": {},
   "outputs": [],
   "source": [
    "c = iter(b) # iterator로 바꾸기 위해서"
   ]
  },
  {
   "cell_type": "code",
   "execution_count": 19,
   "id": "51d9867e",
   "metadata": {},
   "outputs": [
    {
     "data": {
      "text/plain": [
       "['__class__',\n",
       " '__delattr__',\n",
       " '__dir__',\n",
       " '__doc__',\n",
       " '__eq__',\n",
       " '__format__',\n",
       " '__ge__',\n",
       " '__getattribute__',\n",
       " '__gt__',\n",
       " '__hash__',\n",
       " '__init__',\n",
       " '__init_subclass__',\n",
       " '__iter__',\n",
       " '__le__',\n",
       " '__length_hint__',\n",
       " '__lt__',\n",
       " '__ne__',\n",
       " '__new__',\n",
       " '__next__',\n",
       " '__reduce__',\n",
       " '__reduce_ex__',\n",
       " '__repr__',\n",
       " '__setattr__',\n",
       " '__setstate__',\n",
       " '__sizeof__',\n",
       " '__str__',\n",
       " '__subclasshook__']"
      ]
     },
     "execution_count": 19,
     "metadata": {},
     "output_type": "execute_result"
    }
   ],
   "source": [
    "dir(c)  # __next__가 생김."
   ]
  },
  {
   "cell_type": "code",
   "execution_count": 5,
   "id": "4077cc83",
   "metadata": {},
   "outputs": [
    {
     "data": {
      "text/plain": [
       "'c'"
      ]
     },
     "execution_count": 5,
     "metadata": {},
     "output_type": "execute_result"
    }
   ],
   "source": [
    "next(c)\n",
    "# 한개씩 한개씩 element를 뽑아서 실행시켜 줌."
   ]
  },
  {
   "cell_type": "code",
   "execution_count": 20,
   "id": "378bb758",
   "metadata": {},
   "outputs": [],
   "source": [
    "def t():\n",
    "    for i in 'abcd':\n",
    "        print(i)\n",
    "        \n",
    "# iterable(__iter__로 정의된 것)이 들어가면 원소를 하나씩 뽑아주는 애(iterator)로 바뀌어서 실행이 됨"
   ]
  },
  {
   "cell_type": "code",
   "execution_count": 21,
   "id": "6e53694a",
   "metadata": {},
   "outputs": [],
   "source": [
    "import dis"
   ]
  },
  {
   "cell_type": "code",
   "execution_count": 22,
   "id": "60c0dc20",
   "metadata": {},
   "outputs": [
    {
     "name": "stdout",
     "output_type": "stream",
     "text": [
      "  2           0 LOAD_CONST               1 ('abcd')\n",
      "              2 GET_ITER\n",
      "        >>    4 FOR_ITER                 6 (to 18)\n",
      "              6 STORE_FAST               0 (i)\n",
      "\n",
      "  3           8 LOAD_GLOBAL              0 (print)\n",
      "             10 LOAD_FAST                0 (i)\n",
      "             12 CALL_FUNCTION            1\n",
      "             14 POP_TOP\n",
      "             16 JUMP_ABSOLUTE            2 (to 4)\n",
      "\n",
      "  2     >>   18 LOAD_CONST               0 (None)\n",
      "             20 RETURN_VALUE\n"
     ]
    }
   ],
   "source": [
    "dis.dis(t)\n",
    "# 내부구조가 보임."
   ]
  },
  {
   "cell_type": "code",
   "execution_count": 23,
   "id": "7d883732",
   "metadata": {},
   "outputs": [
    {
     "data": {
      "text/plain": [
       "['a', 'b', 'c', 'd']"
      ]
     },
     "execution_count": 23,
     "metadata": {},
     "output_type": "execute_result"
    }
   ],
   "source": [
    "list('abcd')\n",
    "# iterable을 받는 모든 애들은(list 포함), iterator로 바꾸고 한개씩 뽑아줌"
   ]
  },
  {
   "cell_type": "code",
   "execution_count": 25,
   "id": "0051b078",
   "metadata": {},
   "outputs": [
    {
     "data": {
      "text/plain": [
       "('a', 'b', 'c', 'd')"
      ]
     },
     "execution_count": 25,
     "metadata": {},
     "output_type": "execute_result"
    }
   ],
   "source": [
    "tuple('abcd')"
   ]
  },
  {
   "cell_type": "code",
   "execution_count": 36,
   "id": "cd36969d",
   "metadata": {},
   "outputs": [
    {
     "data": {
      "text/plain": [
       "'abcd'"
      ]
     },
     "execution_count": 36,
     "metadata": {},
     "output_type": "execute_result"
    }
   ],
   "source": [
    "str('abcd')"
   ]
  },
  {
   "cell_type": "code",
   "execution_count": 26,
   "id": "1b20571b",
   "metadata": {},
   "outputs": [
    {
     "data": {
      "text/plain": [
       "['__add__',\n",
       " '__class__',\n",
       " '__class_getitem__',\n",
       " '__contains__',\n",
       " '__delattr__',\n",
       " '__delitem__',\n",
       " '__dir__',\n",
       " '__doc__',\n",
       " '__eq__',\n",
       " '__format__',\n",
       " '__ge__',\n",
       " '__getattribute__',\n",
       " '__getitem__',\n",
       " '__gt__',\n",
       " '__hash__',\n",
       " '__iadd__',\n",
       " '__imul__',\n",
       " '__init__',\n",
       " '__init_subclass__',\n",
       " '__iter__',\n",
       " '__le__',\n",
       " '__len__',\n",
       " '__lt__',\n",
       " '__mul__',\n",
       " '__ne__',\n",
       " '__new__',\n",
       " '__reduce__',\n",
       " '__reduce_ex__',\n",
       " '__repr__',\n",
       " '__reversed__',\n",
       " '__rmul__',\n",
       " '__setattr__',\n",
       " '__setitem__',\n",
       " '__sizeof__',\n",
       " '__str__',\n",
       " '__subclasshook__',\n",
       " 'append',\n",
       " 'clear',\n",
       " 'copy',\n",
       " 'count',\n",
       " 'extend',\n",
       " 'index',\n",
       " 'insert',\n",
       " 'pop',\n",
       " 'remove',\n",
       " 'reverse',\n",
       " 'sort']"
      ]
     },
     "execution_count": 26,
     "metadata": {},
     "output_type": "execute_result"
    }
   ],
   "source": [
    "dir(list)"
   ]
  },
  {
   "cell_type": "code",
   "execution_count": 27,
   "id": "d1be18d0",
   "metadata": {},
   "outputs": [
    {
     "data": {
      "text/plain": [
       "['__add__',\n",
       " '__class__',\n",
       " '__class_getitem__',\n",
       " '__contains__',\n",
       " '__delattr__',\n",
       " '__dir__',\n",
       " '__doc__',\n",
       " '__eq__',\n",
       " '__format__',\n",
       " '__ge__',\n",
       " '__getattribute__',\n",
       " '__getitem__',\n",
       " '__getnewargs__',\n",
       " '__gt__',\n",
       " '__hash__',\n",
       " '__init__',\n",
       " '__init_subclass__',\n",
       " '__iter__',\n",
       " '__le__',\n",
       " '__len__',\n",
       " '__lt__',\n",
       " '__mul__',\n",
       " '__ne__',\n",
       " '__new__',\n",
       " '__reduce__',\n",
       " '__reduce_ex__',\n",
       " '__repr__',\n",
       " '__rmul__',\n",
       " '__setattr__',\n",
       " '__sizeof__',\n",
       " '__str__',\n",
       " '__subclasshook__',\n",
       " 'count',\n",
       " 'index']"
      ]
     },
     "execution_count": 27,
     "metadata": {},
     "output_type": "execute_result"
    }
   ],
   "source": [
    "dir(tuple)"
   ]
  },
  {
   "cell_type": "code",
   "execution_count": 28,
   "id": "c7dbfb49",
   "metadata": {},
   "outputs": [
    {
     "data": {
      "text/plain": [
       "['__add__',\n",
       " '__class__',\n",
       " '__contains__',\n",
       " '__delattr__',\n",
       " '__dir__',\n",
       " '__doc__',\n",
       " '__eq__',\n",
       " '__format__',\n",
       " '__ge__',\n",
       " '__getattribute__',\n",
       " '__getitem__',\n",
       " '__getnewargs__',\n",
       " '__gt__',\n",
       " '__hash__',\n",
       " '__init__',\n",
       " '__init_subclass__',\n",
       " '__iter__',\n",
       " '__le__',\n",
       " '__len__',\n",
       " '__lt__',\n",
       " '__mod__',\n",
       " '__mul__',\n",
       " '__ne__',\n",
       " '__new__',\n",
       " '__reduce__',\n",
       " '__reduce_ex__',\n",
       " '__repr__',\n",
       " '__rmod__',\n",
       " '__rmul__',\n",
       " '__setattr__',\n",
       " '__sizeof__',\n",
       " '__str__',\n",
       " '__subclasshook__',\n",
       " 'capitalize',\n",
       " 'casefold',\n",
       " 'center',\n",
       " 'count',\n",
       " 'encode',\n",
       " 'endswith',\n",
       " 'expandtabs',\n",
       " 'find',\n",
       " 'format',\n",
       " 'format_map',\n",
       " 'index',\n",
       " 'isalnum',\n",
       " 'isalpha',\n",
       " 'isascii',\n",
       " 'isdecimal',\n",
       " 'isdigit',\n",
       " 'isidentifier',\n",
       " 'islower',\n",
       " 'isnumeric',\n",
       " 'isprintable',\n",
       " 'isspace',\n",
       " 'istitle',\n",
       " 'isupper',\n",
       " 'join',\n",
       " 'ljust',\n",
       " 'lower',\n",
       " 'lstrip',\n",
       " 'maketrans',\n",
       " 'partition',\n",
       " 'removeprefix',\n",
       " 'removesuffix',\n",
       " 'replace',\n",
       " 'rfind',\n",
       " 'rindex',\n",
       " 'rjust',\n",
       " 'rpartition',\n",
       " 'rsplit',\n",
       " 'rstrip',\n",
       " 'split',\n",
       " 'splitlines',\n",
       " 'startswith',\n",
       " 'strip',\n",
       " 'swapcase',\n",
       " 'title',\n",
       " 'translate',\n",
       " 'upper',\n",
       " 'zfill']"
      ]
     },
     "execution_count": 28,
     "metadata": {},
     "output_type": "execute_result"
    }
   ],
   "source": [
    "dir(str)"
   ]
  },
  {
   "cell_type": "code",
   "execution_count": 33,
   "id": "555b6575",
   "metadata": {},
   "outputs": [
    {
     "data": {
      "text/plain": [
       "{'a', 'b', 'c', 'd'}"
      ]
     },
     "execution_count": 33,
     "metadata": {},
     "output_type": "execute_result"
    }
   ],
   "source": [
    "set('abcd')"
   ]
  },
  {
   "cell_type": "code",
   "execution_count": 38,
   "id": "7d81aec0",
   "metadata": {},
   "outputs": [
    {
     "data": {
      "text/plain": [
       "False"
      ]
     },
     "execution_count": 38,
     "metadata": {},
     "output_type": "execute_result"
    }
   ],
   "source": [
    "all([1, 2, ''])\n",
    "# 안에 있는게 모두 True 면 True.\n",
    "# 존재론적 관점도 마찬가지\n",
    "# 내부적으로는 iterable이기 때문에 하나씩 True/False 확인함\n",
    "# 이는 속도적으로 효율적이지 못함"
   ]
  },
  {
   "cell_type": "code",
   "execution_count": null,
   "id": "72faee2a",
   "metadata": {},
   "outputs": [],
   "source": [
    "sum() # 이것도 iterable 들어감. 한개씩 더함. 연산속도 느리다는 것."
   ]
  },
  {
   "cell_type": "code",
   "execution_count": 37,
   "id": "a23d0e02",
   "metadata": {},
   "outputs": [
    {
     "name": "stdout",
     "output_type": "stream",
     "text": [
      "a\n",
      "b\n",
      "c\n",
      "d\n"
     ]
    }
   ],
   "source": [
    "for i in 'a', 'b', 'c', 'd':\n",
    "    print(i)"
   ]
  },
  {
   "cell_type": "code",
   "execution_count": 38,
   "id": "9db5aeac",
   "metadata": {},
   "outputs": [
    {
     "name": "stdout",
     "output_type": "stream",
     "text": [
      "1\n",
      "2\n",
      "3\n",
      "4\n"
     ]
    }
   ],
   "source": [
    "for i in 1,2,3,4:\n",
    "    print(i)"
   ]
  },
  {
   "cell_type": "code",
   "execution_count": 43,
   "id": "9eab2f62",
   "metadata": {},
   "outputs": [
    {
     "data": {
      "text/plain": [
       "(1, 2, 3, 4)"
      ]
     },
     "execution_count": 43,
     "metadata": {},
     "output_type": "execute_result"
    }
   ],
   "source": [
    "# 위 for문들이 정상적으로 작동되는 이유는,\n",
    "# 내부적으로 이상한 애들은 튜플로 정의됨\n",
    "# 튜플은 iterable. 그래서 위의 것이 가능한 것. 개념적 충돌이 일어나지 않음.\n",
    "b = 1,2,3,4\n",
    "b"
   ]
  },
  {
   "cell_type": "code",
   "execution_count": 44,
   "id": "ca78894b",
   "metadata": {},
   "outputs": [
    {
     "data": {
      "text/plain": [
       "False"
      ]
     },
     "execution_count": 44,
     "metadata": {},
     "output_type": "execute_result"
    }
   ],
   "source": [
    "1 in {'a':1, 'b':1}\n",
    "# key 가 중요하기 때문에 false"
   ]
  },
  {
   "cell_type": "code",
   "execution_count": 39,
   "id": "a13ab7ba",
   "metadata": {},
   "outputs": [
    {
     "name": "stdout",
     "output_type": "stream",
     "text": [
      "a\n",
      "b\n"
     ]
    }
   ],
   "source": [
    "for i in {'a':1, 'b':1}:\n",
    "    print(i)\n",
    "    \n",
    "# key가 중요하기 때문에 key를 뽑아줌"
   ]
  },
  {
   "cell_type": "code",
   "execution_count": 41,
   "id": "a235c2b3",
   "metadata": {},
   "outputs": [
    {
     "data": {
      "text/plain": [
       "False"
      ]
     },
     "execution_count": 41,
     "metadata": {},
     "output_type": "execute_result"
    }
   ],
   "source": [
    "'1' in 'abcd'\n",
    "# string 은 homo 라서 다 똑같은 것들만 비교함\n",
    "# 파이썬이 느려서 numpy 같은 속도 빠른 기법을 쓰는 것\n",
    "# 그러나 파이썬은 내부적으로 간단한 알고리즘"
   ]
  },
  {
   "cell_type": "code",
   "execution_count": 48,
   "id": "f10e1022",
   "metadata": {},
   "outputs": [],
   "source": [
    "# while을 써야하는 경우는 딱 한가지\n",
    "# => 무한루프를 쓰기 위해서. 무한루프는 실무에서 정말 사용 많이 함."
   ]
  },
  {
   "cell_type": "code",
   "execution_count": 49,
   "id": "b56a3259",
   "metadata": {},
   "outputs": [
    {
     "name": "stdout",
     "output_type": "stream",
     "text": [
      "3\n"
     ]
    }
   ],
   "source": [
    "a = input()"
   ]
  },
  {
   "cell_type": "code",
   "execution_count": 50,
   "id": "ae3826e2",
   "metadata": {},
   "outputs": [
    {
     "ename": "TypeError",
     "evalue": "can only concatenate str (not \"int\") to str",
     "output_type": "error",
     "traceback": [
      "\u001b[0;31m---------------------------------------------------------------------------\u001b[0m",
      "\u001b[0;31mTypeError\u001b[0m                                 Traceback (most recent call last)",
      "Cell \u001b[0;32mIn[50], line 1\u001b[0m\n\u001b[0;32m----> 1\u001b[0m b \u001b[38;5;241m=\u001b[39m \u001b[43ma\u001b[49m\u001b[43m \u001b[49m\u001b[38;5;241;43m+\u001b[39;49m\u001b[43m \u001b[49m\u001b[38;5;241;43m3\u001b[39;49m\n",
      "\u001b[0;31mTypeError\u001b[0m: can only concatenate str (not \"int\") to str"
     ]
    }
   ],
   "source": [
    "b = a + 3\n",
    "# 연산자는 데이터타입에 따라 다른데, 파이썬에서는 문자와 숫자를 더할 수 없음.\n",
    "# 위를 계산하기 위해서, 내부적으로 파이썬에서 특별한 경우에 스스로 데이터 형변환을 시켜주는데, 그것을 corecion. \n",
    "# corecion을 위에서 안 시켜주기 때문에 우리가 명시적으로 지정해서 돌려야 함."
   ]
  },
  {
   "cell_type": "code",
   "execution_count": 51,
   "id": "9fac3649",
   "metadata": {},
   "outputs": [
    {
     "data": {
      "text/plain": [
       "6"
      ]
     },
     "execution_count": 51,
     "metadata": {},
     "output_type": "execute_result"
    }
   ],
   "source": [
    "b = int(a) + 3\n",
    "b"
   ]
  },
  {
   "cell_type": "code",
   "execution_count": 52,
   "id": "ac1b6c13",
   "metadata": {},
   "outputs": [
    {
     "name": "stdout",
     "output_type": "stream",
     "text": [
      "a\n"
     ]
    },
    {
     "ename": "ValueError",
     "evalue": "invalid literal for int() with base 10: 'a'",
     "output_type": "error",
     "traceback": [
      "\u001b[0;31m---------------------------------------------------------------------------\u001b[0m",
      "\u001b[0;31mValueError\u001b[0m                                Traceback (most recent call last)",
      "Cell \u001b[0;32mIn[52], line 6\u001b[0m\n\u001b[1;32m      4\u001b[0m \u001b[38;5;28;01mexcept\u001b[39;00m:\n\u001b[1;32m      5\u001b[0m     a \u001b[38;5;241m=\u001b[39m \u001b[38;5;28minput\u001b[39m()\n\u001b[0;32m----> 6\u001b[0m b \u001b[38;5;241m=\u001b[39m \u001b[38;5;28;43mint\u001b[39;49m\u001b[43m(\u001b[49m\u001b[43ma\u001b[49m\u001b[43m)\u001b[49m \u001b[38;5;241m+\u001b[39m \u001b[38;5;241m3\u001b[39m\n",
      "\u001b[0;31mValueError\u001b[0m: invalid literal for int() with base 10: 'a'"
     ]
    }
   ],
   "source": [
    "# input 값으로 문자열이 들어온다면?\n",
    "try:\n",
    "    a = input()\n",
    "except:\n",
    "    a = input()\n",
    "b = int(a) + 3\n",
    "# 무한정으로 할 수 없음. 따라서 아래 무한루프"
   ]
  },
  {
   "cell_type": "code",
   "execution_count": 53,
   "id": "a120faff",
   "metadata": {},
   "outputs": [
    {
     "name": "stdout",
     "output_type": "stream",
     "text": [
      "a\n",
      "i\n",
      "iiiii\n",
      "r\n",
      "3\n"
     ]
    }
   ],
   "source": [
    "while True:\n",
    "    try:\n",
    "        a = input()\n",
    "        b = int(a) + 3\n",
    "    except:\n",
    "        continue\n",
    "    else:\n",
    "        break"
   ]
  },
  {
   "cell_type": "code",
   "execution_count": 54,
   "id": "0a106119",
   "metadata": {},
   "outputs": [],
   "source": [
    "# 파이썬에서는 for 가 while 보다 빠름."
   ]
  },
  {
   "cell_type": "code",
   "execution_count": 55,
   "id": "7eb2f412",
   "metadata": {},
   "outputs": [
    {
     "name": "stdout",
     "output_type": "stream",
     "text": [
      "0\n",
      "1\n",
      "2\n",
      "3\n",
      "4\n",
      "6\n",
      "7\n",
      "8\n",
      "9\n"
     ]
    }
   ],
   "source": [
    "# continue 와 break\n",
    "for i in range(10):\n",
    "    if i == 5:\n",
    "        continue\n",
    "    print(i)\n",
    "# continue는 위에 있는 거 만족했을 때, 아래로 가지 않고 다시 반복문으로 가는게 continue.\n",
    "# continue 의 짝지는 break. break는 멈춰버림."
   ]
  },
  {
   "cell_type": "code",
   "execution_count": 57,
   "id": "2fd4c5ff",
   "metadata": {},
   "outputs": [
    {
     "name": "stdout",
     "output_type": "stream",
     "text": [
      "0\n",
      "1\n",
      "2\n",
      "3\n",
      "4\n",
      "5\n",
      "6\n",
      "7\n",
      "8\n",
      "9\n",
      "end\n"
     ]
    }
   ],
   "source": [
    "# 반복문에 else 쓸 수 있다 없다? => 있다!\n",
    "for i in range(10):\n",
    "    print(i)\n",
    "else:\n",
    "    print('end')"
   ]
  },
  {
   "cell_type": "code",
   "execution_count": 42,
   "id": "4dde681b",
   "metadata": {},
   "outputs": [],
   "source": [
    "# 조건문, 반복문, 예외처리 <= else는 이렇게 총 3가지에서 사용할 수 있음\n",
    "# 반복문의 else는 위의 for 구문이 완전히 돌면 else가 찍힘. 그렇다면, break가 들어가면 else가 안찍힘.\n",
    "for i in range(10):\n",
    "    if i ==5:\n",
    "        break\n",
    "else:\n",
    "    print('end')\n",
    "\n",
    "# 중단시키는 코드가 있는지 없는지를 알기 위해서 이 테크닉을 사용함\n",
    "# break가 들어간 곳에 continue를 사용하면 else가 찍힘. 즉, break 를 사용하지 않으면 else가 찍힘."
   ]
  },
  {
   "cell_type": "code",
   "execution_count": 61,
   "id": "ab2d65bc",
   "metadata": {},
   "outputs": [
    {
     "name": "stdout",
     "output_type": "stream",
     "text": [
      "end\n"
     ]
    }
   ],
   "source": [
    "# while 에서도 else가 찍힘\n",
    "a = 4\n",
    "while a > 5:\n",
    "    print(a)\n",
    "    a = a-1\n",
    "else:\n",
    "    print('end')\n",
    "\n",
    "# a=4일 때 반복문은 안돌지만 end가 찍힘. => break가 되지 않았고, 0번 돌린 것도 돌아간 것이기 떄문\n",
    "# while 다음의 else는 반복 끝났다고 알려주는 것\n",
    "# 파이썬은 0부터 시작. 0도 존재하는 것"
   ]
  },
  {
   "cell_type": "code",
   "execution_count": null,
   "id": "a01e21c6",
   "metadata": {},
   "outputs": [],
   "source": [
    "# a = a-1 은 a -= 1\n",
    "# 다른 프로그래밍 언어에서는 가능한 ++a, a++이 파이썬에는 다 없다.\n",
    "# 문법에 맞지 않는 에러가 날 때는 syntax error"
   ]
  },
  {
   "cell_type": "code",
   "execution_count": 64,
   "id": "7a2e16e1",
   "metadata": {},
   "outputs": [
    {
     "data": {
      "text/plain": [
       "4"
      ]
     },
     "execution_count": 64,
     "metadata": {},
     "output_type": "execute_result"
    }
   ],
   "source": [
    "++a\n",
    "# 이거는 에러가 안남. 이것은 +4 에 또 +"
   ]
  },
  {
   "cell_type": "code",
   "execution_count": 66,
   "id": "9e2f8e5a",
   "metadata": {},
   "outputs": [
    {
     "data": {
      "text/plain": [
       "4"
      ]
     },
     "execution_count": 66,
     "metadata": {},
     "output_type": "execute_result"
    }
   ],
   "source": [
    "--a # -(-4)와 같음"
   ]
  },
  {
   "cell_type": "code",
   "execution_count": 63,
   "id": "09cd09cb",
   "metadata": {},
   "outputs": [
    {
     "ename": "SyntaxError",
     "evalue": "invalid syntax (1277751513.py, line 1)",
     "output_type": "error",
     "traceback": [
      "\u001b[0;36m  Cell \u001b[0;32mIn[63], line 1\u001b[0;36m\u001b[0m\n\u001b[0;31m    a++\u001b[0m\n\u001b[0m       ^\u001b[0m\n\u001b[0;31mSyntaxError\u001b[0m\u001b[0;31m:\u001b[0m invalid syntax\n"
     ]
    }
   ],
   "source": [
    "a++"
   ]
  },
  {
   "cell_type": "code",
   "execution_count": 67,
   "id": "aa01b5ad",
   "metadata": {},
   "outputs": [],
   "source": [
    "# 파이썬이 없는 것은 상수, switch 등"
   ]
  },
  {
   "attachments": {},
   "cell_type": "markdown",
   "id": "d8a1c0d7",
   "metadata": {},
   "source": [
    "### = 의 쓰임"
   ]
  },
  {
   "cell_type": "code",
   "execution_count": 68,
   "id": "3a7a18dd",
   "metadata": {},
   "outputs": [],
   "source": [
    "# 5개 혹은 6개로 배움\n",
    "# 1\n",
    "a = 1 # 할당"
   ]
  },
  {
   "cell_type": "code",
   "execution_count": 69,
   "id": "1285e31b",
   "metadata": {},
   "outputs": [],
   "source": [
    "# 2\n",
    "a += 1 # incremental assign"
   ]
  },
  {
   "cell_type": "code",
   "execution_count": 43,
   "id": "e0376fa1",
   "metadata": {},
   "outputs": [
    {
     "data": {
      "text/plain": [
       "[5, 2, 3]"
      ]
     },
     "execution_count": 43,
     "metadata": {},
     "output_type": "execute_result"
    }
   ],
   "source": [
    "# 3\n",
    "a = b = 1 # 이것은 mutable 쓸 때는 주의해야 함\n",
    "a = b = [1,2,3]\n",
    "a[0] = 5\n",
    "b # b도 바뀌어 버림."
   ]
  },
  {
   "cell_type": "code",
   "execution_count": 44,
   "id": "440d95a7",
   "metadata": {},
   "outputs": [
    {
     "data": {
      "text/plain": [
       "2"
      ]
     },
     "execution_count": 44,
     "metadata": {},
     "output_type": "execute_result"
    }
   ],
   "source": [
    "# 4\n",
    "a, b = 2, 3 \n",
    "a\n",
    "# 2,3은 사실 튜플인 것. \n",
    "#a, b = (2, 3) 과 같은 것\n",
    "# 이것을 unpacking 이라고 함."
   ]
  },
  {
   "cell_type": "code",
   "execution_count": 76,
   "id": "7df8eabf",
   "metadata": {},
   "outputs": [
    {
     "ename": "ValueError",
     "evalue": "too many values to unpack (expected 2)",
     "output_type": "error",
     "traceback": [
      "\u001b[0;31m---------------------------------------------------------------------------\u001b[0m",
      "\u001b[0;31mValueError\u001b[0m                                Traceback (most recent call last)",
      "Cell \u001b[0;32mIn[76], line 1\u001b[0m\n\u001b[0;32m----> 1\u001b[0m a, b \u001b[38;5;241m=\u001b[39m (\u001b[38;5;241m2\u001b[39m, \u001b[38;5;241m3\u001b[39m, \u001b[38;5;241m4\u001b[39m)\n",
      "\u001b[0;31mValueError\u001b[0m: too many values to unpack (expected 2)"
     ]
    }
   ],
   "source": [
    "a, b = (2, 3, 4) # valueerror가 남"
   ]
  },
  {
   "cell_type": "code",
   "execution_count": 45,
   "id": "6a3f4603",
   "metadata": {},
   "outputs": [
    {
     "data": {
      "text/plain": [
       "1"
      ]
     },
     "execution_count": 45,
     "metadata": {},
     "output_type": "execute_result"
    }
   ],
   "source": [
    "# 5\n",
    "a, *b = 1,2,3,4\n",
    "a"
   ]
  },
  {
   "cell_type": "code",
   "execution_count": 46,
   "id": "8a70b11b",
   "metadata": {},
   "outputs": [
    {
     "data": {
      "text/plain": [
       "list"
      ]
     },
     "execution_count": 46,
     "metadata": {},
     "output_type": "execute_result"
    }
   ],
   "source": [
    "b\n",
    "type(b)\n",
    "# 왜 b 가 list가 나올까? 나머지는 '가변적'(mutable)이기 때문에. 그래서 tuple 이 아닌 list가 나오는 것."
   ]
  },
  {
   "cell_type": "code",
   "execution_count": 47,
   "id": "93431d86",
   "metadata": {},
   "outputs": [
    {
     "data": {
      "text/plain": [
       "[2, 3]"
      ]
     },
     "execution_count": 47,
     "metadata": {},
     "output_type": "execute_result"
    }
   ],
   "source": [
    "a, *b, c = 1, 2, 3, 4\n",
    "b"
   ]
  },
  {
   "cell_type": "code",
   "execution_count": 83,
   "id": "af390602",
   "metadata": {},
   "outputs": [],
   "source": [
    "# 활용해서 꼼수 사용 가능\n",
    "b = (1, 2, 3, 4, 5)"
   ]
  },
  {
   "cell_type": "code",
   "execution_count": 49,
   "id": "4e2be75a",
   "metadata": {},
   "outputs": [
    {
     "data": {
      "text/plain": [
       "[1, 2, 3, 4, 5]"
      ]
     },
     "execution_count": 49,
     "metadata": {},
     "output_type": "execute_result"
    }
   ],
   "source": [
    "*b, = (1, 2, 3, 4, 5) # 별표가 한개있으면 나머지가 없음. 그래서 에러가 생김. 이 때 뒤에 콤마(,) 찍어주면 에러 안생기고 b 는 list가 됨\n",
    "# tuple을 list로 바꿀 때 쓰는 테크닉\n",
    "b"
   ]
  },
  {
   "cell_type": "code",
   "execution_count": null,
   "id": "3bc46106",
   "metadata": {},
   "outputs": [],
   "source": [
    "# 6번째는 gloal, not local 이 있는데 나중에 함수 파트에서 배울 것."
   ]
  },
  {
   "cell_type": "markdown",
   "id": "1fdf92fd",
   "metadata": {},
   "source": [
    "## 예외처리 (try, except)"
   ]
  },
  {
   "cell_type": "code",
   "execution_count": null,
   "id": "6e9fa9df",
   "metadata": {},
   "outputs": [],
   "source": [
    "# 파이썬은 에러가 나면 그 다음 문장이 실행이 안되는데, 시스템을 계속 돌려야 하는 경우, 그를 위해서 예외처리를 하면 계속 돌아갈 수 있음.\n",
    "# 또 하나는 일부로 에러를 만들어서 중단 시킬 경우."
   ]
  },
  {
   "cell_type": "code",
   "execution_count": null,
   "id": "ca114c7c",
   "metadata": {},
   "outputs": [],
   "source": [
    "# EAFP -> 허락보다는 용서가 쉽다(Python). LBYL -> 돌다리도 두드려보고 건너라(C, JAVA)\n",
    "# 파이썬은 대표적인 EAFP 언어. 그래서 예외처리, 에러에 관련된 문법이 굉장히 많음."
   ]
  },
  {
   "cell_type": "code",
   "execution_count": 50,
   "id": "7a6cbb41",
   "metadata": {},
   "outputs": [],
   "source": [
    "import keyword"
   ]
  },
  {
   "cell_type": "code",
   "execution_count": 51,
   "id": "442b0243",
   "metadata": {},
   "outputs": [
    {
     "data": {
      "text/plain": [
       "['False',\n",
       " 'None',\n",
       " 'True',\n",
       " 'and',\n",
       " 'as',\n",
       " 'assert',\n",
       " 'async',\n",
       " 'await',\n",
       " 'break',\n",
       " 'class',\n",
       " 'continue',\n",
       " 'def',\n",
       " 'del',\n",
       " 'elif',\n",
       " 'else',\n",
       " 'except',\n",
       " 'finally',\n",
       " 'for',\n",
       " 'from',\n",
       " 'global',\n",
       " 'if',\n",
       " 'import',\n",
       " 'in',\n",
       " 'is',\n",
       " 'lambda',\n",
       " 'nonlocal',\n",
       " 'not',\n",
       " 'or',\n",
       " 'pass',\n",
       " 'raise',\n",
       " 'return',\n",
       " 'try',\n",
       " 'while',\n",
       " 'with',\n",
       " 'yield']"
      ]
     },
     "execution_count": 51,
     "metadata": {},
     "output_type": "execute_result"
    }
   ],
   "source": [
    "keyword.kwlist\n",
    "# 에러 처리에 관련되어 있는 것\n",
    "# 1. assert - 강제로 true/false를 발생\n",
    "# 2. else - \n",
    "# 3. except - \n",
    "# 4. finally - \n",
    "# 5. raise\n",
    "# 6. try\n",
    "# 총 6개가 있음. 모든 문에서 가장 키워드를 많이 사용하는 것이 예외처리.\n",
    "# 실제 분석하는 사람들은 예외처리 모름. 한줄한줄 실행하기 때문."
   ]
  },
  {
   "cell_type": "code",
   "execution_count": 91,
   "id": "3b869a73",
   "metadata": {},
   "outputs": [
    {
     "ename": "ZeroDivisionError",
     "evalue": "division by zero",
     "output_type": "error",
     "traceback": [
      "\u001b[0;31m---------------------------------------------------------------------------\u001b[0m",
      "\u001b[0;31mZeroDivisionError\u001b[0m                         Traceback (most recent call last)",
      "Cell \u001b[0;32mIn[91], line 2\u001b[0m\n\u001b[1;32m      1\u001b[0m a \u001b[38;5;241m=\u001b[39m \u001b[38;5;241m1\u001b[39m\n\u001b[0;32m----> 2\u001b[0m b \u001b[38;5;241m=\u001b[39m \u001b[38;5;241;43m1\u001b[39;49m\u001b[38;5;241;43m/\u001b[39;49m\u001b[38;5;241;43m0\u001b[39;49m\n",
      "\u001b[0;31mZeroDivisionError\u001b[0m: division by zero"
     ]
    }
   ],
   "source": [
    "a = 1\n",
    "b = 1/0\n",
    "c = 0"
   ]
  },
  {
   "cell_type": "code",
   "execution_count": 92,
   "id": "a90f6f8d",
   "metadata": {},
   "outputs": [
    {
     "name": "stdout",
     "output_type": "stream",
     "text": [
      "end\n"
     ]
    }
   ],
   "source": [
    "# 연속적인 실행을 하기 위해서 error가 날 만한 곳에 try, 에러 날 때 처리할 구문을 except에\n",
    "try:\n",
    "    b = 1\n",
    "except:\n",
    "    print('a')\n",
    "else:\n",
    "    print('end')\n",
    "\n",
    "# 조건, 반복, 예외처리 (else 가 사용될 수 있는 곳)"
   ]
  },
  {
   "cell_type": "code",
   "execution_count": 93,
   "id": "18245b53",
   "metadata": {},
   "outputs": [
    {
     "name": "stdout",
     "output_type": "stream",
     "text": [
      "end\n",
      "c\n"
     ]
    }
   ],
   "source": [
    "# 연속적인 실행을 하기 위해서 error가 날 만한 곳에 try, 에러 날 때 처리할 구문을 except에\n",
    "try:\n",
    "    b = 1\n",
    "except:\n",
    "    print('a')\n",
    "else:\n",
    "    print('end')\n",
    "finally:\n",
    "    print('c')\n",
    "\n",
    "# 조건, 반복, 예외처리 (else 가 사용될 수 있는 곳)\n",
    "# finally는 에러가 나든 안나든 무조건 실행하는 것"
   ]
  },
  {
   "cell_type": "code",
   "execution_count": null,
   "id": "7450f75c",
   "metadata": {},
   "outputs": [],
   "source": [
    "# control flow -> 조건, 반복, 예외처리"
   ]
  },
  {
   "cell_type": "markdown",
   "id": "613427f7",
   "metadata": {},
   "source": [
    "--------------------------------------------------------------------------------------"
   ]
  },
  {
   "cell_type": "markdown",
   "id": "475c60d0",
   "metadata": {},
   "source": [
    "### 여기서부터 함수(fuction)"
   ]
  },
  {
   "cell_type": "code",
   "execution_count": null,
   "id": "714cb4cd",
   "metadata": {},
   "outputs": [],
   "source": [
    "# 함수는 반복적인 행동을 하나로 묶어서 유지보수하기 쉽고, 관리하기 쉬워서 사용."
   ]
  },
  {
   "attachments": {},
   "cell_type": "markdown",
   "id": "d6e77d8f",
   "metadata": {},
   "source": [
    "### 선언(여러번 사용하기 위해서 사용)\n"
   ]
  },
  {
   "cell_type": "code",
   "execution_count": null,
   "id": "7c106d04",
   "metadata": {},
   "outputs": [],
   "source": [
    "# declaration\n",
    "# 파이썬에서는 함수의 def는 정의."
   ]
  },
  {
   "attachments": {},
   "cell_type": "markdown",
   "id": "013fb0bb",
   "metadata": {},
   "source": [
    "### 정의"
   ]
  },
  {
   "cell_type": "code",
   "execution_count": null,
   "id": "153669e1",
   "metadata": {},
   "outputs": [],
   "source": [
    "# definition\n",
    "# ==> 이것들은 계속 사용하기 위해서, 한번 선언하거나 정의하면 계속 사용할 수 있음.\n",
    "# 그렇다면 선언, 정의하는 애는 파이썬에서 몇 가지나 있을까?"
   ]
  },
  {
   "cell_type": "code",
   "execution_count": null,
   "id": "9c8e8f8a",
   "metadata": {},
   "outputs": [],
   "source": [
    "# 파이썬에서는 두가지 있음\n",
    "#! 함수와 클래스"
   ]
  },
  {
   "cell_type": "code",
   "execution_count": null,
   "id": "86b41bbf",
   "metadata": {},
   "outputs": [],
   "source": [
    "# assignment (=) 도 사실 계속 사용하기 위한 것.\n",
    "# 그러나 할당은 그냥 이름과 식별자를 정하는 것이고,\n",
    "# 선언과 정의는 '행위'를 정하는 것 -> 반복되는 행위를 정하는 것. 실제 프로그래밍할 때 함수만 가지고도 프로그래밍 하는 방법이 있음. 그것이 #!함수형 패러다임\n",
    "# 파이썬은 기본적으로 객체지향 프로그래밍 언어.\n",
    "# 관점에 따라서 저 두 개를 적절하게 사용해야 함."
   ]
  },
  {
   "cell_type": "code",
   "execution_count": 95,
   "id": "e2ef9dba",
   "metadata": {},
   "outputs": [],
   "source": [
    "# lambda ? => lambda는 익명함수. 이름을 붙히지 않은 함수. lambda는 1회성으로 사용하기 때문에 영역이 내부적으로 spam 영역에 정의되고,\n",
    "# 똑같이 실행하면 그냥 함수보다 lambda가 속도가 느림. 1회성이기 때문에.\n",
    "# 즉, lambda는 딱 한번만 사용할 때 사용하는 것. 굳이 정의해서 메모리 용량에 할당할 필요가 없을 때."
   ]
  },
  {
   "cell_type": "code",
   "execution_count": null,
   "id": "23b06655",
   "metadata": {},
   "outputs": [],
   "source": [
    "# assignment 는 또 다르게 binding.\n",
    "# 나중에 unbound local Error 이런 게 나옴."
   ]
  },
  {
   "cell_type": "code",
   "execution_count": null,
   "id": "2a68c692",
   "metadata": {},
   "outputs": [],
   "source": [
    "# 함수는 반복적인 것을 하기 위해서 정의부터 시작한다."
   ]
  },
  {
   "cell_type": "code",
   "execution_count": null,
   "id": "57863175",
   "metadata": {},
   "outputs": [],
   "source": [
    "def \n",
    "\n",
    "# def는 함수정의할 때 말고도, generator를 사용할 때도 쓴다.\n",
    "# 이름을 만드는 규칙이 있음. PEP8"
   ]
  },
  {
   "attachments": {},
   "cell_type": "markdown",
   "id": "e6c5a8b8",
   "metadata": {},
   "source": [
    "### 이름을 만드는 규칙"
   ]
  },
  {
   "cell_type": "code",
   "execution_count": null,
   "id": "2b22260d",
   "metadata": {},
   "outputs": [],
   "source": [
    "# 첫번째 명명 규칙\n",
    "- snake : moon_beauty # 두 단어가 띄어질 때 언더바(_)만 사용하는 것. snake 방식은 fuction 이름에 씀.\n",
    "    # 함수 이름은 snake 방식으로 쓰는 것.\n",
    "- camel : moonBeauty # 낙타등 처럼. 두번째 단어를 대문자로 씀.\n",
    "- caps / pascal : MoonBeauty # 첫 단어도 대문자로 씀. 그러나 파이썬에서는 이것도 camel 방식이라고 함.\n",
    "    # 다른 프로그래밍 언어에서는 camel 과 pascal을 분리해서 씀"
   ]
  },
  {
   "cell_type": "code",
   "execution_count": null,
   "id": "37876e7e",
   "metadata": {},
   "outputs": [],
   "source": [
    "# sklearn 에서 알 수 있는데, 모든 이름을 보고 유추를 할 수 있음."
   ]
  },
  {
   "cell_type": "code",
   "execution_count": null,
   "id": "5d8f3230",
   "metadata": {},
   "outputs": [],
   "source": [
    "from sklearn.preprocessing import m\n",
    "# 대문자로 시작하는 것은 클래스방식. 클래스는 instance(ex. int()) 로 씀.\n",
    "# 함수는 바로 불러와서 사용 가능.\n",
    "# 즉, 모양만 보면 무엇인지 알 수 있음."
   ]
  },
  {
   "cell_type": "code",
   "execution_count": null,
   "id": "eed12d00",
   "metadata": {},
   "outputs": [],
   "source": [
    "# 그렇다면 PEP8이 왜 중요할까? 협업할 때 규칙이 필요하기 때문. 공통되는 이름을 짓는 능력. PEP8이 입사 문제의 단골로 되어있는 것."
   ]
  },
  {
   "cell_type": "code",
   "execution_count": null,
   "id": "8b81cccb",
   "metadata": {},
   "outputs": [],
   "source": [
    "# 즉 camel 방식은 class\n",
    "# 함수는 snake 방식."
   ]
  },
  {
   "attachments": {},
   "cell_type": "markdown",
   "id": "4b3d9130",
   "metadata": {},
   "source": [
    "### 매개변수(parameter)와 인자(argument)"
   ]
  },
  {
   "cell_type": "code",
   "execution_count": null,
   "id": "c27120ec",
   "metadata": {},
   "outputs": [],
   "source": [
    "# parameter 와 argument의 차이는?\n",
    "# 매개변수 와 인자의 차이점.\n",
    "# parameter 는 함수 정의할 때 ()에 들어가는 것을 parameter\n",
    "# argument는 이 함수를 실행하는 것을 call한다고 하는데 그 값을 argument라고 함"
   ]
  },
  {
   "cell_type": "code",
   "execution_count": 52,
   "id": "af3177a3",
   "metadata": {},
   "outputs": [],
   "source": [
    "def a_b(a):\n",
    "    print(a)   # 여기서 a는 parameter(매개변수)"
   ]
  },
  {
   "cell_type": "code",
   "execution_count": 53,
   "id": "badb1f2c",
   "metadata": {},
   "outputs": [
    {
     "name": "stdout",
     "output_type": "stream",
     "text": [
      "3\n"
     ]
    }
   ],
   "source": [
    "a_b(3)   # argument 3"
   ]
  },
  {
   "cell_type": "code",
   "execution_count": null,
   "id": "a7a70aa8",
   "metadata": {},
   "outputs": [],
   "source": [
    "# 이름이 다르면 행동과 역할이 다르다는 것. parameter와 argument는 사용법과 만드는 방법이 다름"
   ]
  },
  {
   "cell_type": "code",
   "execution_count": null,
   "id": "3890367d",
   "metadata": {},
   "outputs": [],
   "source": [
    "a_b(a)  # 이 형태(def 다음에 오는 것) 시그니처라고 함. 설명에 보면 나와있음."
   ]
  },
  {
   "cell_type": "code",
   "execution_count": 96,
   "id": "2118ff3a",
   "metadata": {},
   "outputs": [],
   "source": [
    "# 함수를 구별할 때는 이름과 매개변수로 구분함. 매개변수는 5가지 종류가 있음(parameter)."
   ]
  },
  {
   "cell_type": "code",
   "execution_count": null,
   "id": "a6671b6c",
   "metadata": {},
   "outputs": [],
   "source": [
    "# 함수는 항상 반환값이 있어야함. 그것이 return\n",
    "# 그러나 return 없어도 함수가 만들어짐.\n",
    "# return 값이 없는 것은 결과 옆에 \"out[]\"이 없음\n",
    "# 그것은 return 이 None으로 반환한다는 것.\n",
    "# return이 무조건 있어야 하지만 return 을 생략하면 자동적으로 None이 붙음"
   ]
  },
  {
   "cell_type": "code",
   "execution_count": 54,
   "id": "4af87cd2",
   "metadata": {},
   "outputs": [],
   "source": [
    "def a_b(x):\n",
    "    print(x)\n",
    "    return None"
   ]
  },
  {
   "cell_type": "code",
   "execution_count": 55,
   "id": "65748844",
   "metadata": {},
   "outputs": [
    {
     "name": "stdout",
     "output_type": "stream",
     "text": [
      "3\n"
     ]
    }
   ],
   "source": [
    "a_b(3)"
   ]
  },
  {
   "cell_type": "code",
   "execution_count": 58,
   "id": "30650ef1",
   "metadata": {},
   "outputs": [],
   "source": [
    "def c_d(x):\n",
    "    print(x)\n",
    "    return x"
   ]
  },
  {
   "cell_type": "code",
   "execution_count": 59,
   "id": "2042aac1",
   "metadata": {},
   "outputs": [
    {
     "name": "stdout",
     "output_type": "stream",
     "text": [
      "4\n"
     ]
    },
    {
     "data": {
      "text/plain": [
       "4"
      ]
     },
     "execution_count": 59,
     "metadata": {},
     "output_type": "execute_result"
    }
   ],
   "source": [
    "c_d(4)"
   ]
  },
  {
   "cell_type": "markdown",
   "id": "d0d5b347",
   "metadata": {},
   "source": [
    "## Parameter (매개변수)"
   ]
  },
  {
   "cell_type": "code",
   "execution_count": null,
   "id": "c59eb6a7",
   "metadata": {},
   "outputs": [],
   "source": [
    "# 5가지라고 되어 있는데(공식문서), 실제 7가지 형태\n",
    "# 우선 크게 2가지.\n",
    "#   - positional 방식\n",
    "#   - keyword 방식"
   ]
  },
  {
   "cell_type": "code",
   "execution_count": 60,
   "id": "5353ee23",
   "metadata": {},
   "outputs": [],
   "source": [
    "# 1. positional 방식\n",
    "def a_b(x, y):\n",
    "    return x+y"
   ]
  },
  {
   "cell_type": "code",
   "execution_count": 61,
   "id": "5d9e5cab",
   "metadata": {},
   "outputs": [
    {
     "data": {
      "text/plain": [
       "7"
      ]
     },
     "execution_count": 61,
     "metadata": {},
     "output_type": "execute_result"
    }
   ],
   "source": [
    "a_b(3, 4)\n",
    "# x = 3, y = 4\n",
    "# 기본적인 것이 positional 방식"
   ]
  },
  {
   "cell_type": "code",
   "execution_count": 62,
   "id": "13ed2eca",
   "metadata": {},
   "outputs": [
    {
     "data": {
      "text/plain": [
       "7"
      ]
     },
     "execution_count": 62,
     "metadata": {},
     "output_type": "execute_result"
    }
   ],
   "source": [
    "# keyword 방식\n",
    "a_b(x=3, y=4)"
   ]
  },
  {
   "cell_type": "code",
   "execution_count": 63,
   "id": "9e884dc2",
   "metadata": {},
   "outputs": [
    {
     "data": {
      "text/plain": [
       "7"
      ]
     },
     "execution_count": 63,
     "metadata": {},
     "output_type": "execute_result"
    }
   ],
   "source": [
    "# keyword 방식은 귀찮지만, 매개변수를 정해놨기 때문에 순서와 상관없이 쓸 수 있는 장점이 있음.\n",
    "a_b(y=4, x=3)\n"
   ]
  },
  {
   "cell_type": "code",
   "execution_count": null,
   "id": "14dd40cf",
   "metadata": {},
   "outputs": [],
   "source": [
    "# keyword 방식의 장점 중 또 하나는 내가 default 값을 주고, 내가 원하는 것만 바꿀 수 있음.\n",
    "# 이것이 필요한 이유는 파이썬 객체 지향 언어에서 제공하지 않는 기법 하나가 있기 때문.\n",
    "# function overload를 지원하지 않기 때문에, default 테크닉을 지원하는 것."
   ]
  },
  {
   "attachments": {},
   "cell_type": "markdown",
   "id": "db9db6cc",
   "metadata": {},
   "source": [
    "function overload를 기본적으로 지원하지 않음"
   ]
  },
  {
   "cell_type": "code",
   "execution_count": null,
   "id": "d89d7569",
   "metadata": {},
   "outputs": [],
   "source": [
    "# 그 뜻은\n",
    "def a():\n",
    "    pass\n",
    "\n",
    "def a(x):\n",
    "    pass\n",
    "\n",
    "# 시그니처가 다르면 다른 함수로 간주함. -> function overload\n",
    "# 파이썬에서는 함수의 이름만 봄.\n",
    "# 따라서 저 위의 함수는 같은 것. 파이썬에서는 함수를 이름 하나로 지정했기 때문.\n",
    "# 그래서 시그니처 보다는 이름으로 결정하기 때문에 함수 오버로드를 지원하지 않음"
   ]
  },
  {
   "cell_type": "code",
   "execution_count": 68,
   "id": "9a93db98",
   "metadata": {},
   "outputs": [],
   "source": [
    "def a_b(x, y):\n",
    "    return x+y\n",
    "\n",
    "# 이것은 함수가 아니라 함수 정의"
   ]
  },
  {
   "cell_type": "code",
   "execution_count": 65,
   "id": "064d7b21",
   "metadata": {},
   "outputs": [
    {
     "data": {
      "text/plain": [
       "<function __main__.a_b(x, y)>"
      ]
     },
     "execution_count": 65,
     "metadata": {},
     "output_type": "execute_result"
    }
   ],
   "source": [
    "a_b # 이것이 함수임."
   ]
  },
  {
   "cell_type": "code",
   "execution_count": 69,
   "id": "76b70c78",
   "metadata": {},
   "outputs": [
    {
     "ename": "TypeError",
     "evalue": "a_b() missing 1 required positional argument: 'y'",
     "output_type": "error",
     "traceback": [
      "\u001b[0;31m---------------------------------------------------------------------------\u001b[0m",
      "\u001b[0;31mTypeError\u001b[0m                                 Traceback (most recent call last)",
      "Cell \u001b[0;32mIn[69], line 1\u001b[0m\n\u001b[0;32m----> 1\u001b[0m a_b(\u001b[39m3\u001b[39;49m)\n",
      "\u001b[0;31mTypeError\u001b[0m: a_b() missing 1 required positional argument: 'y'"
     ]
    }
   ],
   "source": [
    "a_b(3)"
   ]
  },
  {
   "cell_type": "code",
   "execution_count": 70,
   "id": "2d30e6bf",
   "metadata": {},
   "outputs": [],
   "source": [
    "# 함수 오버로드를 지원하지 않는 언어들은,\n",
    "def a_b(x, y=4):\n",
    "    return x+y\n",
    "\n",
    "# 즉 파이썬에서는 디폴트 값을 줌."
   ]
  },
  {
   "cell_type": "code",
   "execution_count": 71,
   "id": "c8e954e6",
   "metadata": {},
   "outputs": [
    {
     "data": {
      "text/plain": [
       "7"
      ]
     },
     "execution_count": 71,
     "metadata": {},
     "output_type": "execute_result"
    }
   ],
   "source": [
    "a_b(3)\n",
    "# 한개만 집어넣으면 y는 기본적으로 4가 됨. 함수 오버로딩을 보완하는 것으로 디폴트 기능을 주는 것."
   ]
  },
  {
   "cell_type": "code",
   "execution_count": 108,
   "id": "386d1628",
   "metadata": {},
   "outputs": [],
   "source": [
    "def a_b(x, y):\n",
    "    return x+y"
   ]
  },
  {
   "cell_type": "code",
   "execution_count": 109,
   "id": "8902ed51",
   "metadata": {},
   "outputs": [
    {
     "ename": "TypeError",
     "evalue": "a_b() missing 1 required positional argument: 'y'",
     "output_type": "error",
     "traceback": [
      "\u001b[0;31m---------------------------------------------------------------------------\u001b[0m",
      "\u001b[0;31mTypeError\u001b[0m                                 Traceback (most recent call last)",
      "Cell \u001b[0;32mIn[109], line 1\u001b[0m\n\u001b[0;32m----> 1\u001b[0m \u001b[43ma_b\u001b[49m\u001b[43m(\u001b[49m\u001b[38;5;241;43m3\u001b[39;49m\u001b[43m)\u001b[49m\n",
      "\u001b[0;31mTypeError\u001b[0m: a_b() missing 1 required positional argument: 'y'"
     ]
    }
   ],
   "source": [
    "a_b(3)\n",
    "# 개수가 안맞으면 positional 에러가 있고, default 값이 있으면 개수가 안맞아도 됨"
   ]
  },
  {
   "cell_type": "code",
   "execution_count": 72,
   "id": "d501dac8",
   "metadata": {},
   "outputs": [
    {
     "ename": "SyntaxError",
     "evalue": "non-default argument follows default argument (2277754467.py, line 2)",
     "output_type": "error",
     "traceback": [
      "\u001b[0;36m  Cell \u001b[0;32mIn[72], line 2\u001b[0;36m\u001b[0m\n\u001b[0;31m    def a_b(x=4, y):\u001b[0m\n\u001b[0m                 ^\u001b[0m\n\u001b[0;31mSyntaxError\u001b[0m\u001b[0;31m:\u001b[0m non-default argument follows default argument\n"
     ]
    }
   ],
   "source": [
    "# 디폴트 규칙\n",
    "def a_b(x=4, y):\n",
    "    return x+y\n",
    "\n",
    "#! 디폴트 값은 만들 때 뒤에서 부터 지정해야 함.\n",
    "#! 내가 인자를 몇 개 집어넣어야 하는가는 맨 뒤에 디폴트 값이 몇 개 있는가를 보면 됨."
   ]
  },
  {
   "cell_type": "code",
   "execution_count": null,
   "id": "1ca372a2",
   "metadata": {},
   "outputs": [],
   "source": [
    "# keyword 방식이 있기 때문에 디폴트값과 같이 내가 필요한 애만 콕 찍어서 바꿀 수 있음.\n",
    "# 다른 남이 만든 것은 keyword 방식이 더 편함"
   ]
  },
  {
   "cell_type": "code",
   "execution_count": 73,
   "id": "eb12135b",
   "metadata": {},
   "outputs": [],
   "source": [
    "def a_b(x, y=2, z=3):\n",
    "    return x+y+z"
   ]
  },
  {
   "cell_type": "code",
   "execution_count": 115,
   "id": "3329cd46",
   "metadata": {},
   "outputs": [
    {
     "data": {
      "text/plain": [
       "9"
      ]
     },
     "execution_count": 115,
     "metadata": {},
     "output_type": "execute_result"
    }
   ],
   "source": [
    "a_b(3, 2, 4)\n",
    "# keyword 방식은 하나하나 다 지정해줘야 함."
   ]
  },
  {
   "cell_type": "code",
   "execution_count": 116,
   "id": "edad7dfc",
   "metadata": {},
   "outputs": [
    {
     "data": {
      "text/plain": [
       "9"
      ]
     },
     "execution_count": 116,
     "metadata": {},
     "output_type": "execute_result"
    }
   ],
   "source": [
    "a_b(3, z=4)"
   ]
  },
  {
   "cell_type": "code",
   "execution_count": 74,
   "id": "b49eaad1",
   "metadata": {},
   "outputs": [
    {
     "ename": "SyntaxError",
     "evalue": "positional argument follows keyword argument (2222093113.py, line 1)",
     "output_type": "error",
     "traceback": [
      "\u001b[0;36m  Cell \u001b[0;32mIn[74], line 1\u001b[0;36m\u001b[0m\n\u001b[0;31m    a_b(3, y=4, 5)\u001b[0m\n\u001b[0m                 ^\u001b[0m\n\u001b[0;31mSyntaxError\u001b[0m\u001b[0;31m:\u001b[0m positional argument follows keyword argument\n"
     ]
    }
   ],
   "source": [
    "a_b(3, y=4, 5)\n",
    "# 한 번 keyword 방식 사용하면 끝까지 keyword 방식 사용해야 함.\n",
    "# 에러를 보면, 포지셔널 방식은 키워드 뒤에 사용할 수 없음."
   ]
  },
  {
   "cell_type": "code",
   "execution_count": 75,
   "id": "7b750d7d",
   "metadata": {},
   "outputs": [],
   "source": [
    "import matplotlib.pyplot as plt"
   ]
  },
  {
   "cell_type": "code",
   "execution_count": null,
   "id": "e2297134",
   "metadata": {},
   "outputs": [],
   "source": [
    "# 디폴트 값은 뒤에서부터 보여야 하고, 키워드 방식은 앞에 한번 시작하면 뒤까지 계속 되어야 함.\n",
    "# 한 번 =(keyword) 방식이 들어가면 끝까지 들어가야 한다는 것."
   ]
  },
  {
   "cell_type": "code",
   "execution_count": null,
   "id": "613c7341",
   "metadata": {},
   "outputs": [],
   "source": [
    "# 키워드, 포지셔널, 혼용방식 배움"
   ]
  },
  {
   "cell_type": "code",
   "execution_count": 76,
   "id": "ff523ee7",
   "metadata": {},
   "outputs": [
    {
     "ename": "TypeError",
     "evalue": "len() takes no keyword arguments",
     "output_type": "error",
     "traceback": [
      "\u001b[0;31m---------------------------------------------------------------------------\u001b[0m",
      "\u001b[0;31mTypeError\u001b[0m                                 Traceback (most recent call last)",
      "Cell \u001b[0;32mIn[76], line 2\u001b[0m\n\u001b[1;32m      1\u001b[0m \u001b[39m# len(obj, /) => / 앞에 있는 애들은 무조건 포지셔널 방식만 사용해야 함\u001b[39;00m\n\u001b[0;32m----> 2\u001b[0m \u001b[39mlen\u001b[39;49m(obj\u001b[39m=\u001b[39;49m[\u001b[39m1\u001b[39;49m,\u001b[39m2\u001b[39;49m,\u001b[39m3\u001b[39;49m])\n",
      "\u001b[0;31mTypeError\u001b[0m: len() takes no keyword arguments"
     ]
    }
   ],
   "source": [
    "# len(obj, /) => / 앞에 있는 애들은 무조건 포지셔널 방식만 사용해야 함\n",
    "len(obj=[1,2,3])"
   ]
  },
  {
   "cell_type": "code",
   "execution_count": 77,
   "id": "0dc986bf",
   "metadata": {},
   "outputs": [
    {
     "data": {
      "text/plain": [
       "3"
      ]
     },
     "execution_count": 77,
     "metadata": {},
     "output_type": "execute_result"
    }
   ],
   "source": [
    "len([1,2,3])\n",
    "# 이것을 positional only 라고 말함."
   ]
  },
  {
   "cell_type": "code",
   "execution_count": 78,
   "id": "04082bac",
   "metadata": {},
   "outputs": [
    {
     "data": {
      "text/plain": [
       "<function matplotlib.pyplot.hist(x, bins=None, range=None, density=False, weights=None, cumulative=False, bottom=None, histtype='bar', align='mid', orientation='vertical', rwidth=None, log=False, color=None, label=None, stacked=False, *, data=None, **kwargs)>"
      ]
     },
     "execution_count": 78,
     "metadata": {},
     "output_type": "execute_result"
    }
   ],
   "source": [
    "plt.hist"
   ]
  },
  {
   "cell_type": "code",
   "execution_count": null,
   "id": "07083ed8",
   "metadata": {},
   "outputs": [
    {
     "data": {
      "text/plain": [
       "<sqlite3.Cursor at 0x7f7bf1fb41c0>"
      ]
     },
     "metadata": {},
     "output_type": "display_data"
    }
   ],
   "source": [
    "plt.hist(1, 1, weights=, density=True...)"
   ]
  },
  {
   "cell_type": "code",
   "execution_count": null,
   "id": "1469ad71",
   "metadata": {},
   "outputs": [],
   "source": [
    "# 위의 이름없는 * => 이름 없는 * 뒤에는 무조건 keyword를 사용해야 함."
   ]
  },
  {
   "cell_type": "code",
   "execution_count": 79,
   "id": "0f5e0711",
   "metadata": {},
   "outputs": [],
   "source": [
    "def x(a, *, b):\n",
    "    return a+b"
   ]
  },
  {
   "cell_type": "code",
   "execution_count": 81,
   "id": "64e6409c",
   "metadata": {},
   "outputs": [
    {
     "ename": "TypeError",
     "evalue": "x() takes 1 positional argument but 2 were given",
     "output_type": "error",
     "traceback": [
      "\u001b[0;31m---------------------------------------------------------------------------\u001b[0m",
      "\u001b[0;31mTypeError\u001b[0m                                 Traceback (most recent call last)",
      "Cell \u001b[0;32mIn[81], line 1\u001b[0m\n\u001b[0;32m----> 1\u001b[0m x(\u001b[39m3\u001b[39;49m, \u001b[39m4\u001b[39;49m)\n",
      "\u001b[0;31mTypeError\u001b[0m: x() takes 1 positional argument but 2 were given"
     ]
    }
   ],
   "source": [
    "x(3, 4)"
   ]
  },
  {
   "cell_type": "code",
   "execution_count": 82,
   "id": "44a38783",
   "metadata": {},
   "outputs": [
    {
     "data": {
      "text/plain": [
       "7"
      ]
     },
     "execution_count": 82,
     "metadata": {},
     "output_type": "execute_result"
    }
   ],
   "source": [
    "x(3, b=4)"
   ]
  },
  {
   "cell_type": "code",
   "execution_count": null,
   "id": "52f78db7",
   "metadata": {},
   "outputs": [],
   "source": [
    "# / 앞에는 포지셔널 방식만 !!!!!\n",
    "# * 뒤에는 키워드 방식만 !!!!!"
   ]
  },
  {
   "attachments": {},
   "cell_type": "markdown",
   "id": "f24d399c",
   "metadata": {},
   "source": [
    "#### *의 기능"
   ]
  },
  {
   "cell_type": "code",
   "execution_count": null,
   "id": "6bef56b9",
   "metadata": {},
   "outputs": [],
   "source": [
    "# * 가 파이썬에서 9개의 기능을 한다.\n",
    "1. 2 * 3 => 6 # 곱하기 연산\n",
    "2. 2**3 => 8 # 제곱 연산\n",
    "3. a, *b => # tuple 등에서 나머지 받는 것\n",
    "4. * => 파라미터에 쓰이는 별표 # 파라미터 중 * 뒤에는 다 키워드 방식 ex. len(..., ..., ..., *, data=...)\n",
    "5. 파라미터 이름에 들어가는 * / ** -> *arg, **kwarg\n",
    "6. argument에 들어가는 * -> unpacking"
   ]
  },
  {
   "cell_type": "code",
   "execution_count": 83,
   "id": "85f75a7d",
   "metadata": {},
   "outputs": [],
   "source": [
    "def b(*a):\n",
    "    return a"
   ]
  },
  {
   "cell_type": "code",
   "execution_count": null,
   "id": "609e5bc0",
   "metadata": {},
   "outputs": [],
   "source": [
    "# 이름에 별표가 붙은 것을 가변 포지셔널 방식.\n",
    "# 하나도 집어넣지 않아도 됨\n",
    "# 개수와 상관없이 집어넣을 수 있는 것.\n",
    "# tuple로 반환\n",
    "# 내가 입력받는 숫자에 따라서 평균값을 구할 때 매우 쉽게 할 수 있음."
   ]
  },
  {
   "cell_type": "code",
   "execution_count": 84,
   "id": "8db29d7f",
   "metadata": {},
   "outputs": [
    {
     "data": {
      "text/plain": [
       "(1, 2, 3, 4)"
      ]
     },
     "execution_count": 84,
     "metadata": {},
     "output_type": "execute_result"
    }
   ],
   "source": [
    "b(1,2,3,4)"
   ]
  },
  {
   "cell_type": "code",
   "execution_count": 85,
   "id": "a24673dc",
   "metadata": {},
   "outputs": [
    {
     "data": {
      "text/plain": [
       "(1, 2)"
      ]
     },
     "execution_count": 85,
     "metadata": {},
     "output_type": "execute_result"
    }
   ],
   "source": [
    "a = 1\n",
    "b = (2, )\n",
    "a, *b"
   ]
  },
  {
   "cell_type": "code",
   "execution_count": 86,
   "id": "e7b57310",
   "metadata": {},
   "outputs": [],
   "source": [
    "# 별표 두개 -> dict로 반환\n",
    "def b(**a):\n",
    "    return a"
   ]
  },
  {
   "cell_type": "code",
   "execution_count": 87,
   "id": "4770594f",
   "metadata": {},
   "outputs": [
    {
     "data": {
      "text/plain": [
       "{}"
      ]
     },
     "execution_count": 87,
     "metadata": {},
     "output_type": "execute_result"
    }
   ],
   "source": [
    "b()\n",
    "# dict 가 나옴"
   ]
  },
  {
   "cell_type": "code",
   "execution_count": 88,
   "id": "78eaa386",
   "metadata": {},
   "outputs": [
    {
     "data": {
      "text/plain": [
       "{'a': 1}"
      ]
     },
     "execution_count": 88,
     "metadata": {},
     "output_type": "execute_result"
    }
   ],
   "source": [
    "b(a=1)"
   ]
  },
  {
   "cell_type": "code",
   "execution_count": null,
   "id": "ed0937a5",
   "metadata": {},
   "outputs": [],
   "source": [
    "# 별표 한개와 별표 두개를 조합하면 세상에 모든 가능한 조합을 만들 수 있음."
   ]
  },
  {
   "cell_type": "code",
   "execution_count": null,
   "id": "8db42c3d",
   "metadata": {},
   "outputs": [],
   "source": [
    "# int signature : int(self, /, *args, **kwargs)\n",
    "# 왜 이렇게 표현되었을까\n",
    "# 이렇게 정의해놓으면 인자를 몇개를 받든 문제가 없음\n",
    "# ** 가 왜 뒤로 갈까?"
   ]
  },
  {
   "cell_type": "code",
   "execution_count": 91,
   "id": "7f6f9695",
   "metadata": {},
   "outputs": [],
   "source": [
    "def b(*a):\n",
    "    return a"
   ]
  },
  {
   "cell_type": "code",
   "execution_count": 92,
   "id": "8ffbd707",
   "metadata": {},
   "outputs": [],
   "source": [
    "x = [1,2,3,4,5]"
   ]
  },
  {
   "cell_type": "code",
   "execution_count": 93,
   "id": "01879bf0",
   "metadata": {},
   "outputs": [
    {
     "data": {
      "text/plain": [
       "([1, 2, 3, 4, 5],)"
      ]
     },
     "execution_count": 93,
     "metadata": {},
     "output_type": "execute_result"
    }
   ],
   "source": [
    "b(x)"
   ]
  },
  {
   "cell_type": "code",
   "execution_count": null,
   "id": "400f52af",
   "metadata": {},
   "outputs": [],
   "source": [
    "# 위를 한 개씩 집어넣고 싶을 때는?\n",
    "# argument 앞에 별표를 붙히면 쪼개져서 들어감"
   ]
  },
  {
   "cell_type": "code",
   "execution_count": 94,
   "id": "1a87713a",
   "metadata": {},
   "outputs": [
    {
     "data": {
      "text/plain": [
       "(1, 2, 3, 4, 5)"
      ]
     },
     "execution_count": 94,
     "metadata": {},
     "output_type": "execute_result"
    }
   ],
   "source": [
    "b(*x)"
   ]
  },
  {
   "cell_type": "code",
   "execution_count": 1,
   "id": "77c596bc",
   "metadata": {},
   "outputs": [],
   "source": [
    "x = {'a':1, 'b':2}"
   ]
  },
  {
   "cell_type": "code",
   "execution_count": 2,
   "id": "68f98641",
   "metadata": {},
   "outputs": [
    {
     "name": "stdout",
     "output_type": "stream",
     "text": [
      "a b\n"
     ]
    }
   ],
   "source": [
    "print(*x)"
   ]
  },
  {
   "cell_type": "code",
   "execution_count": 3,
   "id": "8734ee7e",
   "metadata": {},
   "outputs": [
    {
     "ename": "TypeError",
     "evalue": "'a' is an invalid keyword argument for print()",
     "output_type": "error",
     "traceback": [
      "\u001b[0;31m---------------------------------------------------------------------------\u001b[0m",
      "\u001b[0;31mTypeError\u001b[0m                                 Traceback (most recent call last)",
      "Cell \u001b[0;32mIn[3], line 1\u001b[0m\n\u001b[0;32m----> 1\u001b[0m \u001b[39mprint\u001b[39;49m(\u001b[39m*\u001b[39;49m\u001b[39m*\u001b[39;49mx)\n",
      "\u001b[0;31mTypeError\u001b[0m: 'a' is an invalid keyword argument for print()"
     ]
    }
   ],
   "source": [
    "\n",
    "#? 질문!!\n",
    "print(**x)"
   ]
  },
  {
   "cell_type": "code",
   "execution_count": 96,
   "id": "dfd94d67",
   "metadata": {},
   "outputs": [
    {
     "data": {
      "text/plain": [
       "({'a': 1, 'b': 2},)"
      ]
     },
     "execution_count": 96,
     "metadata": {},
     "output_type": "execute_result"
    }
   ],
   "source": [
    "b(x)"
   ]
  },
  {
   "cell_type": "code",
   "execution_count": 97,
   "id": "9d51e6af",
   "metadata": {},
   "outputs": [
    {
     "data": {
      "text/plain": [
       "('a', 'b')"
      ]
     },
     "execution_count": 97,
     "metadata": {},
     "output_type": "execute_result"
    }
   ],
   "source": [
    "b(*x)\n",
    "# unpacking 의 일종"
   ]
  },
  {
   "cell_type": "code",
   "execution_count": 4,
   "id": "02deb55f",
   "metadata": {},
   "outputs": [],
   "source": [
    "def b(**a):\n",
    "    return a"
   ]
  },
  {
   "cell_type": "code",
   "execution_count": 5,
   "id": "e96cb689",
   "metadata": {},
   "outputs": [
    {
     "ename": "TypeError",
     "evalue": "b() takes 0 positional arguments but 2 were given",
     "output_type": "error",
     "traceback": [
      "\u001b[0;31m---------------------------------------------------------------------------\u001b[0m",
      "\u001b[0;31mTypeError\u001b[0m                                 Traceback (most recent call last)",
      "Cell \u001b[0;32mIn[5], line 1\u001b[0m\n\u001b[0;32m----> 1\u001b[0m b(\u001b[39m*\u001b[39;49mx)\n",
      "\u001b[0;31mTypeError\u001b[0m: b() takes 0 positional arguments but 2 were given"
     ]
    }
   ],
   "source": [
    "b(*x)\n",
    "# 별표 한개는 key 값만 나와서 positional이 되기 때문에 에러가 일어나는 것."
   ]
  },
  {
   "cell_type": "code",
   "execution_count": 6,
   "id": "1e54964c",
   "metadata": {},
   "outputs": [
    {
     "data": {
      "text/plain": [
       "{'a': 1, 'b': 2}"
      ]
     },
     "execution_count": 6,
     "metadata": {},
     "output_type": "execute_result"
    }
   ],
   "source": [
    "b(**x)"
   ]
  },
  {
   "cell_type": "code",
   "execution_count": 105,
   "id": "15ca76d7",
   "metadata": {},
   "outputs": [],
   "source": [
    "x = {'a':1, 'b':2}\n",
    "y = {'c':3, 'a':2}"
   ]
  },
  {
   "cell_type": "code",
   "execution_count": 150,
   "id": "952bbdb8",
   "metadata": {},
   "outputs": [
    {
     "data": {
      "text/plain": [
       "{'a': 2, 'b': 2, 'c': 3}"
      ]
     },
     "execution_count": 150,
     "metadata": {},
     "output_type": "execute_result"
    }
   ],
   "source": [
    "{**x, **y}\n",
    "# hash 이기 때문에 똑같은 것이 존재할 수 없음. 웹에서 많이 쓰이는 테크닉"
   ]
  },
  {
   "cell_type": "code",
   "execution_count": 154,
   "id": "ce5af224",
   "metadata": {},
   "outputs": [],
   "source": [
    "# 실전"
   ]
  },
  {
   "cell_type": "code",
   "execution_count": 155,
   "id": "1e14fb16",
   "metadata": {},
   "outputs": [],
   "source": [
    "import matplotlib.pyplot as plt"
   ]
  },
  {
   "cell_type": "code",
   "execution_count": 156,
   "id": "9f57145a",
   "metadata": {},
   "outputs": [
    {
     "data": {
      "text/plain": [
       "(array([3., 0., 1., 0., 0., 1., 0., 1., 0., 1.]),\n",
       " array([1. , 1.4, 1.8, 2.2, 2.6, 3. , 3.4, 3.8, 4.2, 4.6, 5. ]),\n",
       " <BarContainer object of 10 artists>)"
      ]
     },
     "execution_count": 156,
     "metadata": {},
     "output_type": "execute_result"
    },
    {
     "data": {
      "image/png": "[encoded data removed]",
      "text/plain": [
       "<Figure size 640x480 with 1 Axes>"
      ]
     },
     "metadata": {},
     "output_type": "display_data"
    }
   ],
   "source": [
    "plt.hist([1, 2, 1, 3, 1, 5, 4]) # 필수적으로 실행되기 위해서 1개만 넣으면 됨"
   ]
  },
  {
   "cell_type": "code",
   "execution_count": 157,
   "id": "ea286e1b",
   "metadata": {},
   "outputs": [
    {
     "data": {
      "text/plain": [
       "(array([3., 0., 1., 0., 0., 1., 0., 1., 0., 1.]),\n",
       " array([1. , 1.4, 1.8, 2.2, 2.6, 3. , 3.4, 3.8, 4.2, 4.6, 5. ]),\n",
       " <BarContainer object of 10 artists>)"
      ]
     },
     "execution_count": 157,
     "metadata": {},
     "output_type": "execute_result"
    },
    {
     "data": {
      "image/png": "[encoded data removed]",
      "text/plain": [
       "<Figure size 640x480 with 1 Axes>"
      ]
     },
     "metadata": {},
     "output_type": "display_data"
    }
   ],
   "source": [
    "plt.hist([1, 2, 1, 3, 1, 5, 4], color='pink')"
   ]
  },
  {
   "cell_type": "code",
   "execution_count": 210,
   "id": "abf8d4a2",
   "metadata": {},
   "outputs": [
    {
     "data": {
      "text/plain": [
       "(array([3., 0., 0., 0., 0., 0., 0., 0., 0., 0., 0., 0., 0., 0., 0., 0., 0.,\n",
       "        0., 0., 0., 0., 0., 0., 0., 0., 1., 0., 0., 0., 0., 0., 0., 0., 0.,\n",
       "        0., 0., 0., 0., 0., 0., 0., 0., 0., 0., 0., 0., 0., 0., 0., 0., 1.,\n",
       "        0., 0., 0., 0., 0., 0., 0., 0., 0., 0., 0., 0., 0., 0., 0., 0., 0.,\n",
       "        0., 0., 0., 0., 0., 0., 0., 1., 0., 0., 0., 0., 0., 0., 0., 0., 0.,\n",
       "        0., 0., 0., 0., 0., 0., 0., 0., 0., 0., 0., 0., 0., 0., 1.]),\n",
       " array([1.  , 1.04, 1.08, 1.12, 1.16, 1.2 , 1.24, 1.28, 1.32, 1.36, 1.4 ,\n",
       "        1.44, 1.48, 1.52, 1.56, 1.6 , 1.64, 1.68, 1.72, 1.76, 1.8 , 1.84,\n",
       "        1.88, 1.92, 1.96, 2.  , 2.04, 2.08, 2.12, 2.16, 2.2 , 2.24, 2.28,\n",
       "        2.32, 2.36, 2.4 , 2.44, 2.48, 2.52, 2.56, 2.6 , 2.64, 2.68, 2.72,\n",
       "        2.76, 2.8 , 2.84, 2.88, 2.92, 2.96, 3.  , 3.04, 3.08, 3.12, 3.16,\n",
       "        3.2 , 3.24, 3.28, 3.32, 3.36, 3.4 , 3.44, 3.48, 3.52, 3.56, 3.6 ,\n",
       "        3.64, 3.68, 3.72, 3.76, 3.8 , 3.84, 3.88, 3.92, 3.96, 4.  , 4.04,\n",
       "        4.08, 4.12, 4.16, 4.2 , 4.24, 4.28, 4.32, 4.36, 4.4 , 4.44, 4.48,\n",
       "        4.52, 4.56, 4.6 , 4.64, 4.68, 4.72, 4.76, 4.8 , 4.84, 4.88, 4.92,\n",
       "        4.96, 5.  ]),\n",
       " <BarContainer object of 100 artists>)"
      ]
     },
     "execution_count": 210,
     "metadata": {},
     "output_type": "execute_result"
    },
    {
     "data": {
      "image/png": "[encoded data removed]",
      "text/plain": [
       "<Figure size 640x480 with 1 Axes>"
      ]
     },
     "metadata": {},
     "output_type": "display_data"
    }
   ],
   "source": [
    "plt.hist([1, 2, 1, 3, 1, 5, 4], color='pink', bins=100)"
   ]
  },
  {
   "cell_type": "code",
   "execution_count": 159,
   "id": "d83d60ed",
   "metadata": {},
   "outputs": [
    {
     "data": {
      "text/plain": [
       "0"
      ]
     },
     "execution_count": 159,
     "metadata": {},
     "output_type": "execute_result"
    }
   ],
   "source": [
    "int() # 설명에 나오는 대괄호[]는 써도되고 안써도된다는 것. list가 아님"
   ]
  },
  {
   "cell_type": "code",
   "execution_count": 165,
   "id": "9ea8e812",
   "metadata": {},
   "outputs": [
    {
     "data": {
      "text/plain": [
       "[<matplotlib.lines.Line2D at 0x7f8661c0e710>]"
      ]
     },
     "execution_count": 165,
     "metadata": {},
     "output_type": "execute_result"
    },
    {
     "data": {
      "image/png": "[encoded data removed]",
      "text/plain": [
       "<Figure size 640x480 with 1 Axes>"
      ]
     },
     "metadata": {},
     "output_type": "display_data"
    }
   ],
   "source": [
    "plt.plot([1,2,3,4], [4,5,6,7], color='pink')"
   ]
  },
  {
   "cell_type": "code",
   "execution_count": 107,
   "id": "f1e0ad86",
   "metadata": {},
   "outputs": [],
   "source": [
    "# 위에는 Out[] 이 있음.\n",
    "# return으로 돌아가보자\n",
    "def x(a):\n",
    "    print(a+1)\n",
    "    return a"
   ]
  },
  {
   "cell_type": "code",
   "execution_count": 108,
   "id": "230e7469",
   "metadata": {},
   "outputs": [
    {
     "name": "stdout",
     "output_type": "stream",
     "text": [
      "4\n"
     ]
    }
   ],
   "source": [
    "b = x(3)"
   ]
  },
  {
   "cell_type": "code",
   "execution_count": 109,
   "id": "2988a10c",
   "metadata": {},
   "outputs": [
    {
     "data": {
      "text/plain": [
       "3"
      ]
     },
     "execution_count": 109,
     "metadata": {},
     "output_type": "execute_result"
    }
   ],
   "source": [
    "b"
   ]
  },
  {
   "cell_type": "code",
   "execution_count": null,
   "id": "29fc16e7",
   "metadata": {},
   "outputs": [],
   "source": [
    "# print는 값이 아니라 보여주는 것."
   ]
  },
  {
   "cell_type": "code",
   "execution_count": null,
   "id": "93b0264d",
   "metadata": {},
   "outputs": [],
   "source": [
    "# 함수형 패러다임에서 사이드 이팩트. 아웃풋 외의 있는 것"
   ]
  },
  {
   "cell_type": "code",
   "execution_count": 110,
   "id": "871cea24",
   "metadata": {},
   "outputs": [],
   "source": [
    "def x(**t):\n",
    "    if 'color' in t:\n",
    "        print('color')"
   ]
  },
  {
   "cell_type": "code",
   "execution_count": 111,
   "id": "fc731773",
   "metadata": {},
   "outputs": [
    {
     "name": "stdout",
     "output_type": "stream",
     "text": [
      "color\n"
     ]
    }
   ],
   "source": [
    "x(color=3)\n",
    "# 이것처럼 버전업 할 때 ** 의 기능이 유용하다"
   ]
  },
  {
   "cell_type": "code",
   "execution_count": 112,
   "id": "cdcab7b9",
   "metadata": {},
   "outputs": [],
   "source": [
    "from sklearn.preprocessing import add_dummy_feature"
   ]
  },
  {
   "cell_type": "code",
   "execution_count": 113,
   "id": "b076826c",
   "metadata": {},
   "outputs": [],
   "source": [
    "import inspect"
   ]
  },
  {
   "cell_type": "code",
   "execution_count": 114,
   "id": "ad2656bb",
   "metadata": {},
   "outputs": [
    {
     "name": "stdout",
     "output_type": "stream",
     "text": [
      "def add_dummy_feature(X, value=1.0):\n",
      "    \"\"\"Augment dataset with an additional dummy feature.\n",
      "\n",
      "    This is useful for fitting an intercept term with implementations which\n",
      "    cannot otherwise fit it directly.\n",
      "\n",
      "    Parameters\n",
      "    ----------\n",
      "    X : {array-like, sparse matrix} of shape (n_samples, n_features)\n",
      "        Data.\n",
      "\n",
      "    value : float\n",
      "        Value to use for the dummy feature.\n",
      "\n",
      "    Returns\n",
      "    -------\n",
      "    X : {ndarray, sparse matrix} of shape (n_samples, n_features + 1)\n",
      "        Same data with dummy feature added as first column.\n",
      "\n",
      "    Examples\n",
      "    --------\n",
      "    >>> from sklearn.preprocessing import add_dummy_feature\n",
      "    >>> add_dummy_feature([[0, 1], [1, 0]])\n",
      "    array([[1., 0., 1.],\n",
      "           [1., 1., 0.]])\n",
      "    \"\"\"\n",
      "    X = check_array(X, accept_sparse=[\"csc\", \"csr\", \"coo\"], dtype=FLOAT_DTYPES)\n",
      "    n_samples, n_features = X.shape\n",
      "    shape = (n_samples, n_features + 1)\n",
      "    if sparse.issparse(X):\n",
      "        if sparse.isspmatrix_coo(X):\n",
      "            # Shift columns to the right.\n",
      "            col = X.col + 1\n",
      "            # Column indices of dummy feature are 0 everywhere.\n",
      "            col = np.concatenate((np.zeros(n_samples), col))\n",
      "            # Row indices of dummy feature are 0, ..., n_samples-1.\n",
      "            row = np.concatenate((np.arange(n_samples), X.row))\n",
      "            # Prepend the dummy feature n_samples times.\n",
      "            data = np.concatenate((np.full(n_samples, value), X.data))\n",
      "            return sparse.coo_matrix((data, (row, col)), shape)\n",
      "        elif sparse.isspmatrix_csc(X):\n",
      "            # Shift index pointers since we need to add n_samples elements.\n",
      "            indptr = X.indptr + n_samples\n",
      "            # indptr[0] must be 0.\n",
      "            indptr = np.concatenate((np.array([0]), indptr))\n",
      "            # Row indices of dummy feature are 0, ..., n_samples-1.\n",
      "            indices = np.concatenate((np.arange(n_samples), X.indices))\n",
      "            # Prepend the dummy feature n_samples times.\n",
      "            data = np.concatenate((np.full(n_samples, value), X.data))\n",
      "            return sparse.csc_matrix((data, indices, indptr), shape)\n",
      "        else:\n",
      "            klass = X.__class__\n",
      "            return klass(add_dummy_feature(X.tocoo(), value))\n",
      "    else:\n",
      "        return np.hstack((np.full((n_samples, 1), value), X))\n",
      "\n"
     ]
    }
   ],
   "source": [
    "# 함수의 소스 보기\n",
    "print(inspect.getsource(add_dummy_feature))"
   ]
  },
  {
   "cell_type": "code",
   "execution_count": 178,
   "id": "a07501b2",
   "metadata": {},
   "outputs": [
    {
     "data": {
      "text/plain": [
       "<BarContainer object of 5 artists>"
      ]
     },
     "execution_count": 178,
     "metadata": {},
     "output_type": "execute_result"
    },
    {
     "data": {
      "image/png": "[encoded data removed]",
      "text/plain": [
       "<Figure size 640x480 with 1 Axes>"
      ]
     },
     "metadata": {},
     "output_type": "display_data"
    }
   ],
   "source": [
    "plt.bar([1,2,3,4,5], [5, 6, 7, 5, 4])"
   ]
  },
  {
   "cell_type": "code",
   "execution_count": null,
   "id": "aea446a4",
   "metadata": {},
   "outputs": [],
   "source": [
    "# 남이 만든 것을 혼자서 사용할 수 있도록, 매개변수의 사용법을 익혀야 함. 5가지 방식을 숙달"
   ]
  },
  {
   "cell_type": "code",
   "execution_count": null,
   "id": "dc169698",
   "metadata": {},
   "outputs": [],
   "source": [
    "# 다시 함수로 돌아와서,"
   ]
  },
  {
   "cell_type": "code",
   "execution_count": null,
   "id": "c801875a",
   "metadata": {},
   "outputs": [],
   "source": [
    "# 함수를 실행하는 것을 call 이라고 함. call 하면 항상 return 값이 존재해야 하는데,\n",
    "# return 값이 없으면 return 이 None."
   ]
  },
  {
   "cell_type": "code",
   "execution_count": null,
   "id": "c96c0a11",
   "metadata": {},
   "outputs": [],
   "source": [
    "len()\n",
    "# builtin_function_or_method 은 뭘까?\n",
    "# dir 에 나오는 attribute 중에 클래스에 정의된 함수를 메소드라고 하자 지금은!!\n",
    "# 함수 사용하는 연습을 하면서 mutable 연습"
   ]
  },
  {
   "cell_type": "code",
   "execution_count": 115,
   "id": "c9e03dca",
   "metadata": {},
   "outputs": [],
   "source": [
    "a = [1,2,3]"
   ]
  },
  {
   "cell_type": "code",
   "execution_count": 185,
   "id": "26b7945b",
   "metadata": {},
   "outputs": [
    {
     "data": {
      "text/plain": [
       "['__add__',\n",
       " '__class__',\n",
       " '__class_getitem__',\n",
       " '__contains__',\n",
       " '__delattr__',\n",
       " '__delitem__',\n",
       " '__dir__',\n",
       " '__doc__',\n",
       " '__eq__',\n",
       " '__format__',\n",
       " '__ge__',\n",
       " '__getattribute__',\n",
       " '__getitem__',\n",
       " '__gt__',\n",
       " '__hash__',\n",
       " '__iadd__',\n",
       " '__imul__',\n",
       " '__init__',\n",
       " '__init_subclass__',\n",
       " '__iter__',\n",
       " '__le__',\n",
       " '__len__',\n",
       " '__lt__',\n",
       " '__mul__',\n",
       " '__ne__',\n",
       " '__new__',\n",
       " '__reduce__',\n",
       " '__reduce_ex__',\n",
       " '__repr__',\n",
       " '__reversed__',\n",
       " '__rmul__',\n",
       " '__setattr__',\n",
       " '__setitem__',\n",
       " '__sizeof__',\n",
       " '__str__',\n",
       " '__subclasshook__',\n",
       " 'append',\n",
       " 'clear',\n",
       " 'copy',\n",
       " 'count',\n",
       " 'extend',\n",
       " 'index',\n",
       " 'insert',\n",
       " 'pop',\n",
       " 'remove',\n",
       " 'reverse',\n",
       " 'sort']"
      ]
     },
     "execution_count": 185,
     "metadata": {},
     "output_type": "execute_result"
    }
   ],
   "source": [
    "# 위에 쓰이는 메소드를 dir 을 쓰면 알 수 있음\n",
    "dir(a)"
   ]
  },
  {
   "cell_type": "code",
   "execution_count": 191,
   "id": "53807d18",
   "metadata": {},
   "outputs": [
    {
     "data": {
      "text/plain": [
       "0"
      ]
     },
     "execution_count": 191,
     "metadata": {},
     "output_type": "execute_result"
    }
   ],
   "source": [
    "a.count(5)\n",
    "# Signature: a.count(value, /)"
   ]
  },
  {
   "cell_type": "code",
   "execution_count": 116,
   "id": "5afa8ace",
   "metadata": {},
   "outputs": [],
   "source": [
    "a = [1, 1, 1, 2, 3, 4]"
   ]
  },
  {
   "cell_type": "code",
   "execution_count": 117,
   "id": "8bade395",
   "metadata": {},
   "outputs": [
    {
     "data": {
      "text/plain": [
       "3"
      ]
     },
     "execution_count": 117,
     "metadata": {},
     "output_type": "execute_result"
    }
   ],
   "source": [
    "a.count(1)\n",
    "# 원소의 개수를 세주는 것"
   ]
  },
  {
   "cell_type": "code",
   "execution_count": 118,
   "id": "13f9d288",
   "metadata": {},
   "outputs": [
    {
     "data": {
      "text/plain": [
       "0"
      ]
     },
     "execution_count": 118,
     "metadata": {},
     "output_type": "execute_result"
    }
   ],
   "source": [
    "a.index(1)\n",
    "# Signature: a.index(value, start=0, stop=9223372036854775807, /)\n"
   ]
  },
  {
   "cell_type": "code",
   "execution_count": 119,
   "id": "c3be6d29",
   "metadata": {},
   "outputs": [
    {
     "data": {
      "text/plain": [
       "3"
      ]
     },
     "execution_count": 119,
     "metadata": {},
     "output_type": "execute_result"
    }
   ],
   "source": [
    "a.index(2)\n",
    "# index는 해당 원소가 나타난 첫번째 위치"
   ]
  },
  {
   "cell_type": "code",
   "execution_count": 120,
   "id": "a0836d04",
   "metadata": {},
   "outputs": [],
   "source": [
    "a.append(4)\n",
    "# 얘는 왜 out 이 없지? out 이 없을 수 있음. return None 붙으면 out 이 없음\n",
    "# 그렇다면 return 값 없으면 결과물이 없는 것인가?\n",
    "# 이것이 mutable의 미친점"
   ]
  },
  {
   "cell_type": "code",
   "execution_count": 202,
   "id": "99184eca",
   "metadata": {},
   "outputs": [
    {
     "data": {
      "text/plain": [
       "[1, 1, 1, 2, 3, 4, 4]"
      ]
     },
     "execution_count": 202,
     "metadata": {},
     "output_type": "execute_result"
    }
   ],
   "source": [
    "a"
   ]
  },
  {
   "cell_type": "code",
   "execution_count": null,
   "id": "fa0d0ea1",
   "metadata": {},
   "outputs": [],
   "source": [
    "# 위 대상은 바뀌는데 return 값이 없음.\n",
    "# 그래서 함수형 패러다임에서는 흐름이 바뀜.\n",
    "# 리턴이 없는데 원 결과값이 바뀜."
   ]
  },
  {
   "cell_type": "code",
   "execution_count": 203,
   "id": "5ef2d2c2",
   "metadata": {},
   "outputs": [
    {
     "data": {
      "text/plain": [
       "4"
      ]
     },
     "execution_count": 203,
     "metadata": {},
     "output_type": "execute_result"
    }
   ],
   "source": [
    "a.pop()"
   ]
  },
  {
   "cell_type": "code",
   "execution_count": 204,
   "id": "270b9e9a",
   "metadata": {},
   "outputs": [
    {
     "data": {
      "text/plain": [
       "[1, 1, 1, 2, 3, 4]"
      ]
     },
     "execution_count": 204,
     "metadata": {},
     "output_type": "execute_result"
    }
   ],
   "source": [
    "a"
   ]
  },
  {
   "cell_type": "code",
   "execution_count": null,
   "id": "c1be0f1c",
   "metadata": {},
   "outputs": [],
   "source": [
    "# mutable인 데이터일 때는 3가지를 고려\n",
    "1. return 값이 있고 원값이 변하지 않을 때\n",
    "2. return 값이 없고 원값이 변할 때\n",
    "3. return 도 있고 원값도 변할 때"
   ]
  },
  {
   "cell_type": "code",
   "execution_count": 205,
   "id": "4de958fa",
   "metadata": {},
   "outputs": [],
   "source": [
    "c = a.pop()\n",
    "# 이게 왜 가능할까? = 오른쪽, 우변에는 식, 즉 하나의 결과값으로 축약할 수 있는 것으로 올 수 있음"
   ]
  },
  {
   "cell_type": "code",
   "execution_count": 206,
   "id": "18331d9b",
   "metadata": {},
   "outputs": [
    {
     "data": {
      "text/plain": [
       "4"
      ]
     },
     "execution_count": 206,
     "metadata": {},
     "output_type": "execute_result"
    }
   ],
   "source": [
    "c"
   ]
  },
  {
   "cell_type": "code",
   "execution_count": null,
   "id": "3b847fb2",
   "metadata": {},
   "outputs": [],
   "source": [
    "# 편안하게 하기 위해서 함수를 많이 만들어야 함. 반복되는 것을 함수만 실행시키면 되기 때문에.\n",
    "# 함수 사용하는 방법. shift + tab 으로 설명 보면서 사용하기"
   ]
  }
 ],
 "metadata": {
  "kernelspec": {
   "display_name": "Python 3 (ipykernel)",
   "language": "python",
   "name": "python3"
  },
  "language_info": {
   "codemirror_mode": {
    "name": "ipython",
    "version": 3
   },
   "file_extension": ".py",
   "mimetype": "text/x-python",
   "name": "python",
   "nbconvert_exporter": "python",
   "pygments_lexer": "ipython3",
   "version": "3.10.9"
  }
 },
 "nbformat": 4,
 "nbformat_minor": 5
}
