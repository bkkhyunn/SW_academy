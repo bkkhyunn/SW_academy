{
 "cells": [
  {
   "cell_type": "code",
   "execution_count": 1,
   "metadata": {},
   "outputs": [],
   "source": [
    "# 저번시간\n",
    "# SQLite 를 이용해서 파이썬을 통해 코딩해봤음\n",
    "# 커넥션 개체를 통해 데이터베이스에 접근한 뒤 커서를 부여 받아 작업을 시작함.\n",
    "# 실제 작업을 시킬 때는 execute, executemany(iterable한 객체를 이용해서 반복적으로 수행할 때), executescript(여러 개 수행할 때)\n",
    "# 데이터를 가져올 때는 fetchone() -> 한 개 값 리턴 해줌, fetchall() -> list에 담아서 리턴을 해줌\n",
    "#! fetch를 한 번 하면 커서의 위치가 바뀜. 다른 작업을 해야하기 때문에. 따라서 두 번 fetch하면 두번째는 아무것도 없는 것을 확인 가능함"
   ]
  },
  {
   "cell_type": "code",
   "execution_count": 2,
   "metadata": {},
   "outputs": [],
   "source": [
    "import sqlite3"
   ]
  },
  {
   "cell_type": "code",
   "execution_count": 3,
   "metadata": {},
   "outputs": [],
   "source": [
    "# dump file. -> 나중에 한 번 해보기"
   ]
  },
  {
   "cell_type": "code",
   "execution_count": null,
   "metadata": {},
   "outputs": [],
   "source": [
    "# 예제 - 프렌차이즈 전산실\n",
    "# CITY, SUPPLIER, PART, SELLS(관계를 나타내는 TABLE)\n",
    "# CITY: PK, NAME\n",
    "# SUPLLIER: PK, NAME, FK(CITY.PK)\n",
    "# PART: PK, NAME\n",
    "# SELLS: FK(S.PK), FK(P.PK), PRICE"
   ]
  },
  {
   "cell_type": "code",
   "execution_count": 3,
   "metadata": {},
   "outputs": [],
   "source": [
    "con = sqlite3.connect('example3.db')\n",
    "cur = con.cursor()"
   ]
  },
  {
   "cell_type": "code",
   "execution_count": 4,
   "metadata": {},
   "outputs": [
    {
     "data": {
      "text/plain": [
       "<sqlite3.Cursor at 0x7fb6b943f840>"
      ]
     },
     "execution_count": 4,
     "metadata": {},
     "output_type": "execute_result"
    }
   ],
   "source": [
    "cur.executescript('''\n",
    "    CREATE TABLE city (\n",
    "        pk INTEGER PRIMARY KEY,\n",
    "        name TEXT\n",
    "    );\n",
    "    CREATE TABLE supplier (\n",
    "        pk INTEGER PRIMARY KEY,\n",
    "        name TEXT,\n",
    "        fk INTEGER NOT NULL\n",
    "    );\n",
    "    CREATE TABLE part (\n",
    "        pk INTEGER PRIMARY KEY,\n",
    "        name TEXT\n",
    "    );\n",
    "    CREATE TABLE sells (\n",
    "        fk1 INTEGER NOT NULL,\n",
    "        fk2 INTEGER NOT NULL,\n",
    "        price INTEGER NOT NULL\n",
    "    );\n",
    "''')"
   ]
  },
  {
   "cell_type": "code",
   "execution_count": 5,
   "metadata": {},
   "outputs": [
    {
     "data": {
      "text/plain": [
       "<sqlite3.Cursor at 0x7fb6b943f840>"
      ]
     },
     "execution_count": 5,
     "metadata": {},
     "output_type": "execute_result"
    }
   ],
   "source": [
    "data = [('성북구',), ('중구',), ('강북구',), ('어쩌구',), ('저쩌구',)]\n",
    "cur.executemany('INSERT INTO city(name) VALUES (?)', data)"
   ]
  },
  {
   "cell_type": "code",
   "execution_count": 6,
   "metadata": {},
   "outputs": [
    {
     "data": {
      "text/plain": [
       "[(1, '성북구'), (2, '중구'), (3, '강북구'), (4, '어쩌구'), (5, '저쩌구')]"
      ]
     },
     "execution_count": 6,
     "metadata": {},
     "output_type": "execute_result"
    }
   ],
   "source": [
    "cur.execute('SELECT * FROM city')\n",
    "cur.fetchall()"
   ]
  },
  {
   "cell_type": "code",
   "execution_count": 7,
   "metadata": {},
   "outputs": [
    {
     "data": {
      "text/plain": [
       "<sqlite3.Cursor at 0x7fb6b943f840>"
      ]
     },
     "execution_count": 7,
     "metadata": {},
     "output_type": "execute_result"
    }
   ],
   "source": [
    "data = [('메뉴1',), ('메뉴2',), ('메뉴3',), ('메뉴4',), ('메뉴5',)]\n",
    "cur.executemany('INSERT INTO part(name) VALUES (?)', data)"
   ]
  },
  {
   "cell_type": "code",
   "execution_count": 8,
   "metadata": {},
   "outputs": [
    {
     "data": {
      "text/plain": [
       "[(1, '메뉴1'), (2, '메뉴2'), (3, '메뉴3'), (4, '메뉴4'), (5, '메뉴5')]"
      ]
     },
     "execution_count": 8,
     "metadata": {},
     "output_type": "execute_result"
    }
   ],
   "source": [
    "cur.execute('SELECT * FROM part')\n",
    "cur.fetchall()"
   ]
  },
  {
   "cell_type": "code",
   "execution_count": 9,
   "metadata": {},
   "outputs": [
    {
     "name": "stdout",
     "output_type": "stream",
     "text": [
      "1\n"
     ]
    }
   ],
   "source": [
    "# FK 를 위해 어느 도시에 속했는지\n",
    "cur.execute('SELECT * FROM city')\n",
    "for row in cur.fetchall():\n",
    "    if row[1] == '성북구':\n",
    "        print(row[0])"
   ]
  },
  {
   "cell_type": "code",
   "execution_count": 10,
   "metadata": {},
   "outputs": [],
   "source": [
    "cur.execute('SELECT * FROM city')\n",
    "for row in cur.fetchall():\n",
    "    if row[1] == '성북구':\n",
    "        pk = row[0]\n",
    "        cur.execute('INSERT INTO supplier (name, fk) VALUES(?, ?)',\n",
    "                   ['안암 1호점', pk])\n",
    "        break"
   ]
  },
  {
   "cell_type": "code",
   "execution_count": 11,
   "metadata": {},
   "outputs": [
    {
     "data": {
      "text/plain": [
       "[(1, '안암 1호점', 1)]"
      ]
     },
     "execution_count": 11,
     "metadata": {},
     "output_type": "execute_result"
    }
   ],
   "source": [
    "cur.execute('SELECT * FROM supplier')\n",
    "cur.fetchall()"
   ]
  },
  {
   "cell_type": "code",
   "execution_count": 12,
   "metadata": {},
   "outputs": [
    {
     "data": {
      "text/plain": [
       "<sqlite3.Cursor at 0x7fb6b943f840>"
      ]
     },
     "execution_count": 12,
     "metadata": {},
     "output_type": "execute_result"
    }
   ],
   "source": [
    "cur.execute('SELECT pk FROM city WHERE name LIKE :name', {'name':'%성북%'})\n",
    "pk = cur.fetchone()[0]\n",
    "cur.execute('INSERT INTO supplier (name, fk) VALUES(?, ?)',\n",
    "           ['안암 2호점', pk])"
   ]
  },
  {
   "cell_type": "code",
   "execution_count": 13,
   "metadata": {},
   "outputs": [
    {
     "data": {
      "text/plain": [
       "[(1, '안암 1호점', 1), (2, '안암 2호점', 1)]"
      ]
     },
     "execution_count": 13,
     "metadata": {},
     "output_type": "execute_result"
    }
   ],
   "source": [
    "cur.execute('SELECT * FROM supplier')\n",
    "cur.fetchall()"
   ]
  },
  {
   "cell_type": "code",
   "execution_count": 14,
   "metadata": {},
   "outputs": [
    {
     "data": {
      "text/plain": [
       "<sqlite3.Cursor at 0x7fb6b943f840>"
      ]
     },
     "execution_count": 14,
     "metadata": {},
     "output_type": "execute_result"
    }
   ],
   "source": [
    "# 쿼리문 중첩 방법\n",
    "cur.execute('''\n",
    "    INSERT INTO supplier(name, fk)\n",
    "    VALUES(?,(SELECT pk FROM city WHERE name LIKE ? LIMIT 0,1))\n",
    "    ''', ['종암 1호점','%성북%'])"
   ]
  },
  {
   "cell_type": "code",
   "execution_count": 15,
   "metadata": {},
   "outputs": [
    {
     "data": {
      "text/plain": [
       "[(1, '안암 1호점', 1), (2, '안암 2호점', 1), (3, '종암 1호점', 1)]"
      ]
     },
     "execution_count": 15,
     "metadata": {},
     "output_type": "execute_result"
    }
   ],
   "source": [
    "cur.execute('SELECT * FROM supplier')\n",
    "cur.fetchall()"
   ]
  },
  {
   "cell_type": "code",
   "execution_count": 25,
   "metadata": {},
   "outputs": [],
   "source": [
    "con.commit()"
   ]
  },
  {
   "cell_type": "code",
   "execution_count": 17,
   "metadata": {},
   "outputs": [
    {
     "data": {
      "text/plain": [
       "<sqlite3.Cursor at 0x7fb6b943f840>"
      ]
     },
     "execution_count": 17,
     "metadata": {},
     "output_type": "execute_result"
    }
   ],
   "source": [
    "data = ['%안암%1호%', '%메뉴1%', 4500]\n",
    "\n",
    "cur.execute('''\n",
    "    INSERT INTO sells(fk1, fk2, price)\n",
    "    VALUES((SELECT pk FROM supplier WHERE name LIKE ? LIMIT 0,1),\n",
    "           (SELECT pk FROM part WHERE name LIKE ? LIMIT 0,1),\n",
    "           ?)\n",
    "    ''', data)"
   ]
  },
  {
   "cell_type": "code",
   "execution_count": 18,
   "metadata": {},
   "outputs": [
    {
     "data": {
      "text/plain": [
       "<sqlite3.Cursor at 0x7fb6b943f840>"
      ]
     },
     "execution_count": 18,
     "metadata": {},
     "output_type": "execute_result"
    }
   ],
   "source": [
    "data = [['%안암%1호%', '%메뉴2%', 4500],\n",
    "        ['%안암%1호%', '%메뉴2%', 5000],\n",
    "        ['%안암%2호%', '%메뉴1%', 4700],\n",
    "        ['%안암%2호%', '%메뉴2%', 4900],\n",
    "        ['%종암%1호%', '%메뉴4%', 5300],\n",
    "        ['%종암%1호%', '%메뉴5%', 2300],\n",
    "        ['%종암%1호%', '%메뉴1%', 900]]\n",
    "\n",
    "cur.executemany('''\n",
    "    INSERT INTO sells(fk1, fk2, price)\n",
    "    VALUES((SELECT pk FROM supplier WHERE name LIKE ? LIMIT 0,1),\n",
    "           (SELECT pk FROM part WHERE name LIKE ? LIMIT 0,1),\n",
    "           ?)\n",
    "    ''', data)"
   ]
  },
  {
   "cell_type": "code",
   "execution_count": 19,
   "metadata": {},
   "outputs": [
    {
     "data": {
      "text/plain": [
       "[(1, 1, 4500),\n",
       " (1, 2, 4500),\n",
       " (1, 2, 5000),\n",
       " (2, 1, 4700),\n",
       " (2, 2, 4900),\n",
       " (3, 4, 5300),\n",
       " (3, 5, 2300),\n",
       " (3, 1, 900)]"
      ]
     },
     "execution_count": 19,
     "metadata": {},
     "output_type": "execute_result"
    }
   ],
   "source": [
    "cur.execute('SELECT * FROM sells')\n",
    "cur.fetchall()"
   ]
  },
  {
   "cell_type": "code",
   "execution_count": 20,
   "metadata": {},
   "outputs": [
    {
     "data": {
      "text/plain": [
       "[('성북구', '안암 1호점'), ('성북구', '안암 2호점'), ('성북구', '종암 1호점')]"
      ]
     },
     "execution_count": 20,
     "metadata": {},
     "output_type": "execute_result"
    }
   ],
   "source": [
    "# JOIN 연산\n",
    "# INNER JOIN\n",
    "cur.execute('''\n",
    "    SELECT city.name, supplier.name FROM city\n",
    "    INNER JOIN supplier\n",
    "    ON city.pk = supplier.fk\n",
    "    ''')\n",
    "cur.fetchall()"
   ]
  },
  {
   "cell_type": "code",
   "execution_count": 21,
   "metadata": {},
   "outputs": [
    {
     "data": {
      "text/plain": [
       "[('성북구', '안암 1호점'),\n",
       " ('성북구', '안암 2호점'),\n",
       " ('성북구', '종암 1호점'),\n",
       " ('중구', None),\n",
       " ('강북구', None),\n",
       " ('어쩌구', None),\n",
       " ('저쩌구', None)]"
      ]
     },
     "execution_count": 21,
     "metadata": {},
     "output_type": "execute_result"
    }
   ],
   "source": [
    "# JOIN 연산\n",
    "# LEFT JOIN\n",
    "# city 가 기준\n",
    "cur.execute('''\n",
    "    SELECT city.name, supplier.name FROM city\n",
    "    LEFT JOIN supplier\n",
    "    ON city.pk = supplier.fk\n",
    "    ''')\n",
    "cur.fetchall()"
   ]
  },
  {
   "cell_type": "code",
   "execution_count": 22,
   "metadata": {},
   "outputs": [
    {
     "data": {
      "text/plain": [
       "[(1, '성북구'), (2, '중구'), (3, '강북구'), (4, '어쩌구'), (5, '저쩌구')]"
      ]
     },
     "execution_count": 22,
     "metadata": {},
     "output_type": "execute_result"
    }
   ],
   "source": [
    "cur.execute('SELECT * FROM city')\n",
    "cur.fetchall()"
   ]
  },
  {
   "cell_type": "code",
   "execution_count": 23,
   "metadata": {},
   "outputs": [
    {
     "data": {
      "text/plain": [
       "[]"
      ]
     },
     "execution_count": 23,
     "metadata": {},
     "output_type": "execute_result"
    }
   ],
   "source": [
    "cur.fetchall()\n",
    "# fetch 는 위 select 문 커서를 수행하고 끄집어 냈고, 다음 작업을 위해 커서 위치가 바뀜. 그 상태에서 fetch(빈 작업 리스트에서) 했으니 당연히 비어 있는 것"
   ]
  },
  {
   "cell_type": "code",
   "execution_count": 24,
   "metadata": {},
   "outputs": [
    {
     "data": {
      "text/plain": [
       "[('성북구', '안암 1호점'), ('성북구', '안암 2호점'), ('성북구', '종암 1호점')]"
      ]
     },
     "execution_count": 24,
     "metadata": {},
     "output_type": "execute_result"
    }
   ],
   "source": [
    "# JOIN 연산\n",
    "# RIGHT JOIN\n",
    "# supplier 가 기준\n",
    "cur.execute('''\n",
    "    SELECT city.name, supplier.name FROM city\n",
    "    RIGHT JOIN supplier\n",
    "    ON city.pk = supplier.fk\n",
    "    ''')\n",
    "cur.fetchall()"
   ]
  },
  {
   "cell_type": "code",
   "execution_count": 26,
   "metadata": {},
   "outputs": [],
   "source": [
    "con.close()"
   ]
  },
  {
   "cell_type": "markdown",
   "metadata": {},
   "source": [
    "------------------------------------------------------------------------------"
   ]
  },
  {
   "cell_type": "code",
   "execution_count": 129,
   "metadata": {},
   "outputs": [],
   "source": [
    "# 다시 시작한다면 기존의 db를 불러오는 것부터!\n",
    "import sqlite3\n",
    "\n",
    "con = sqlite3.connect('example3.db')\n",
    "cur = con.cursor()"
   ]
  },
  {
   "cell_type": "code",
   "execution_count": 130,
   "metadata": {},
   "outputs": [
    {
     "data": {
      "text/plain": [
       "[('성북구', '안암 1호점'), ('성북구', '안암 2호점'), ('성북구', '종암 1호점')]"
      ]
     },
     "execution_count": 130,
     "metadata": {},
     "output_type": "execute_result"
    }
   ],
   "source": [
    "# JOIN 연산\n",
    "# INNER JOIN\n",
    "cur.execute('''\n",
    "    SELECT city.name, supplier.name FROM city\n",
    "    INNER JOIN supplier\n",
    "    ON city.pk = supplier.fk\n",
    "    ''')\n",
    "cur.fetchall()"
   ]
  },
  {
   "cell_type": "code",
   "execution_count": 35,
   "metadata": {},
   "outputs": [
    {
     "data": {
      "text/plain": [
       "[('성북구', '안암 1호점'),\n",
       " ('성북구', '안암 2호점'),\n",
       " ('성북구', '종암 1호점'),\n",
       " ('중구', None),\n",
       " ('강북구', None),\n",
       " ('어쩌구', None),\n",
       " ('저쩌구', None)]"
      ]
     },
     "execution_count": 35,
     "metadata": {},
     "output_type": "execute_result"
    }
   ],
   "source": [
    "# JOIN 연산\n",
    "# LEFT JOIN\n",
    "# city 가 기준\n",
    "cur.execute('''\n",
    "    SELECT city.name, supplier.name FROM city\n",
    "    LEFT JOIN supplier\n",
    "    ON city.pk = supplier.fk\n",
    "    ''')\n",
    "cur.fetchall()"
   ]
  },
  {
   "cell_type": "code",
   "execution_count": 133,
   "metadata": {},
   "outputs": [
    {
     "data": {
      "text/plain": [
       "[('성북구', '안암 1호점'),\n",
       " ('성북구', '안암 2호점'),\n",
       " ('성북구', '종암 1호점'),\n",
       " ('중구', None),\n",
       " ('강북구', None),\n",
       " ('어쩌구', None),\n",
       " ('저쩌구', None)]"
      ]
     },
     "execution_count": 133,
     "metadata": {},
     "output_type": "execute_result"
    }
   ],
   "source": [
    "# JOIN 연산\n",
    "# 기준만 알고 있으면 LEFT, RIGHT JOIN 헷갈일 일 없음.\n",
    "cur.execute('''\n",
    "    SELECT city.name, supplier.name FROM supplier\n",
    "    RIGHT JOIN city\n",
    "    ON city.pk = supplier.fk\n",
    "    ''')\n",
    "cur.fetchall()"
   ]
  },
  {
   "cell_type": "code",
   "execution_count": 132,
   "metadata": {},
   "outputs": [
    {
     "data": {
      "text/plain": [
       "[('성북구', '안암 1호점'), ('성북구', '안암 2호점'), ('성북구', '종암 1호점')]"
      ]
     },
     "execution_count": 132,
     "metadata": {},
     "output_type": "execute_result"
    }
   ],
   "source": [
    "# JOIN 연산\n",
    "# RIGHT JOIN\n",
    "# supplier 가 기준\n",
    "cur.execute('''\n",
    "    SELECT city.name, supplier.name FROM city\n",
    "    RIGHT JOIN supplier\n",
    "    ON city.pk = supplier.fk\n",
    "    ''')\n",
    "cur.fetchall()"
   ]
  },
  {
   "cell_type": "code",
   "execution_count": null,
   "metadata": {},
   "outputs": [],
   "source": [
    "# 기준만 알고 있다면 LEFT, RIGHT 완전히 같은 커리일 수 있음"
   ]
  },
  {
   "cell_type": "code",
   "execution_count": 37,
   "metadata": {},
   "outputs": [
    {
     "ename": "OperationalError",
     "evalue": "unknown join type: OUTER",
     "output_type": "error",
     "traceback": [
      "\u001b[0;31m---------------------------------------------------------------------------\u001b[0m",
      "\u001b[0;31mOperationalError\u001b[0m                          Traceback (most recent call last)",
      "Cell \u001b[0;32mIn[37], line 4\u001b[0m\n\u001b[1;32m      1\u001b[0m \u001b[39m# JOIN 연산\u001b[39;00m\n\u001b[1;32m      2\u001b[0m \u001b[39m# OUTER JOIN\u001b[39;00m\n\u001b[1;32m      3\u001b[0m \u001b[39m# supplier 가 기준\u001b[39;00m\n\u001b[0;32m----> 4\u001b[0m cur\u001b[39m.\u001b[39;49mexecute(\u001b[39m'''\u001b[39;49m\n\u001b[1;32m      5\u001b[0m \u001b[39m    SELECT city.name, supplier.name FROM city\u001b[39;49m\n\u001b[1;32m      6\u001b[0m \u001b[39m    OUTER JOIN supplier\u001b[39;49m\n\u001b[1;32m      7\u001b[0m \u001b[39m    ON city.pk = supplier.fk\u001b[39;49m\n\u001b[1;32m      8\u001b[0m \u001b[39m    \u001b[39;49m\u001b[39m'''\u001b[39;49m)\n\u001b[1;32m      9\u001b[0m cur\u001b[39m.\u001b[39mfetchall()\n",
      "\u001b[0;31mOperationalError\u001b[0m: unknown join type: OUTER"
     ]
    }
   ],
   "source": [
    "# JOIN 연산\n",
    "# OUTER JOIN\n",
    "# supplier 가 기준\n",
    "cur.execute('''\n",
    "    SELECT city.name, supplier.name FROM city\n",
    "    OUTER JOIN supplier\n",
    "    ON city.pk = supplier.fk\n",
    "    ''')\n",
    "cur.fetchall()\n",
    "# SQLite 는 OUTER JOIN 지원 x\n",
    "# -> 따라서 에러가 뜸."
   ]
  },
  {
   "cell_type": "code",
   "execution_count": 134,
   "metadata": {},
   "outputs": [],
   "source": [
    "con.close()\n",
    "# DB 닫기"
   ]
  },
  {
   "attachments": {},
   "cell_type": "markdown",
   "metadata": {},
   "source": [
    "### 데이터베이스 설계 구조 짜보는 예제 (아이튠즈)"
   ]
  },
  {
   "cell_type": "code",
   "execution_count": null,
   "metadata": {},
   "outputs": [],
   "source": [
    "# 겹치는 애들 안 겹치는 애들 보면서 엔티티 후보\n",
    "# 속성, 개별 테이블\n",
    "#! 어디가 겹치는 정보고, 어디가 누구에게 속하는 정보인지를 확인."
   ]
  },
  {
   "cell_type": "code",
   "execution_count": null,
   "metadata": {},
   "outputs": [],
   "source": [
    "# Track -> 겹치는 것 없음. 곡에 대한 정보. 별도의 엔티티로 동작함을 알 수 있음\n",
    "# Length -> 곡에 붙어 있는 것. 곡에 하나의 attribute로 동작해야 할 것.\n",
    "# Rating -> 곡에 걸려 있을 것. 하나의 attribute\n",
    "# Count -> 몇 번 플레이 했는지도 attribute"
   ]
  },
  {
   "cell_type": "code",
   "execution_count": 39,
   "metadata": {},
   "outputs": [],
   "source": [
    "# Track Relation 은 저 위의 4개로 이루어져 있을 것. 하나의 엔티티가 됨.\n",
    "# 이 엔티티와 상관없이 중복적으로 값이 생길 수 있는 것은\n",
    "# Artist, Album, Genre\n",
    "# 트랙과 다른 엔티티"
   ]
  },
  {
   "cell_type": "code",
   "execution_count": null,
   "metadata": {},
   "outputs": [],
   "source": [
    "# 앨범은 아티스트에 종속됨. 곡 -> 앨범 -> 가수\n",
    "# 장르는 앨범보다는 곡에 붙는 것이 맞음\n",
    "# 이를 바탕으로 엔티티를 뽑아냄."
   ]
  },
  {
   "cell_type": "code",
   "execution_count": null,
   "metadata": {},
   "outputs": [],
   "source": [
    "# 이번 예제에서는 뷰 테이블을 별도로 생성해볼 것(관계를 보여줌)\n",
    "# Track - id(PK, 각각의 트랙을 구분할 수 있는), title, length, rating, count, album_id(FK), genre_id(FK)\n",
    "# Album - id(PK), title, artist_id(FK)\n",
    "# Genre - id(PK), name(CHAR - SQLite에서는 TEXT로 지원함)\n",
    "# Artist - id(PK), name"
   ]
  },
  {
   "cell_type": "code",
   "execution_count": 3,
   "metadata": {},
   "outputs": [],
   "source": [
    "con = sqlite3.connect('playlist4.db')\n",
    "cur = con.cursor()"
   ]
  },
  {
   "cell_type": "code",
   "execution_count": 4,
   "metadata": {},
   "outputs": [
    {
     "data": {
      "text/plain": [
       "<sqlite3.Cursor at 0x7fd429008840>"
      ]
     },
     "execution_count": 4,
     "metadata": {},
     "output_type": "execute_result"
    }
   ],
   "source": [
    "cur.executescript('''\n",
    "    CREATE TABLE artist (\n",
    "            pk INTEGER PRIMARY KEY,\n",
    "            name TEXT DEFAULT '무명'\n",
    "        );\n",
    "    CREATE TABLE album (\n",
    "            pk INTEGER PRIMARY KEY,\n",
    "            name TEXT DEFAULT '무제',\n",
    "            fk INTEGER NOT NULL\n",
    "        );\n",
    "    CREATE TABLE genre (\n",
    "            pk INTEGER PRIMARY KEY,\n",
    "            name TEXT DEFAULT '장르없음'\n",
    "        );\n",
    "    CREATE TABLE track (\n",
    "            pk INTEGER PRIMARY KEY,\n",
    "            name TEXT DEFAULT 'Track',\n",
    "            length INTEGER DEFAULT 0,\n",
    "            rating INTEGER DEFAULT 0,\n",
    "            count INTEGER DEFAULT 0,\n",
    "            fk1 INTEGER NOT NULL,\n",
    "            fk2 INTEGER NOT NULL\n",
    "        );\n",
    "''')"
   ]
  },
  {
   "cell_type": "code",
   "execution_count": 5,
   "metadata": {},
   "outputs": [
    {
     "data": {
      "text/plain": [
       "[(1, '가수1')]"
      ]
     },
     "execution_count": 5,
     "metadata": {},
     "output_type": "execute_result"
    }
   ],
   "source": [
    "cur.execute('INSERT INTO artist VALUES(?,?)', [None, '가수1'])\n",
    "cur.execute('SELECT * FROM artist')\n",
    "cur.fetchall()"
   ]
  },
  {
   "cell_type": "code",
   "execution_count": 6,
   "metadata": {},
   "outputs": [
    {
     "data": {
      "text/plain": [
       "[(1, '가수1'), (2, '가수2')]"
      ]
     },
     "execution_count": 6,
     "metadata": {},
     "output_type": "execute_result"
    }
   ],
   "source": [
    "# named 스타일\n",
    "cur.execute('INSERT INTO artist VALUES(:pk, :name)',\n",
    "            {'pk':None, 'name':'가수2'})\n",
    "cur.execute('SELECT * FROM artist')\n",
    "cur.fetchall()"
   ]
  },
  {
   "cell_type": "code",
   "execution_count": 7,
   "metadata": {},
   "outputs": [
    {
     "data": {
      "text/plain": [
       "[(1, '가수1'), (2, '가수2'), (3, '가수3'), (4, '가수4')]"
      ]
     },
     "execution_count": 7,
     "metadata": {},
     "output_type": "execute_result"
    }
   ],
   "source": [
    "# executemany 가지고 pk 값 없이 입력\n",
    "data = [['가수3'], ['가수4']]\n",
    "cur.executemany('INSERT INTO artist (name) VALUES (?)', data)\n",
    "# 왜 리스트로 한 번 더 감싸는지? -> executemany 이기 떄문\n",
    "cur.execute('SELECT * FROM artist')\n",
    "cur.fetchall()"
   ]
  },
  {
   "cell_type": "code",
   "execution_count": 8,
   "metadata": {},
   "outputs": [
    {
     "data": {
      "text/plain": [
       "4"
      ]
     },
     "execution_count": 8,
     "metadata": {},
     "output_type": "execute_result"
    }
   ],
   "source": [
    "cur.lastrowid\n",
    "# 제일 마지막 "
   ]
  },
  {
   "cell_type": "code",
   "execution_count": 9,
   "metadata": {},
   "outputs": [
    {
     "data": {
      "text/plain": [
       "<sqlite3.Cursor at 0x7fd429008840>"
      ]
     },
     "execution_count": 9,
     "metadata": {},
     "output_type": "execute_result"
    }
   ],
   "source": [
    "cur.executescript('''\n",
    "    INSERT INTO genre(pk, name) VALUES (NULL, '장르1');\n",
    "    INSERT INTO genre(name) VALUES ('장르2');\n",
    "    INSERT INTO genre VALUES (NULL, '장르3');\n",
    "    INSERT INTO genre VALUES (NULL, '장르4');\n",
    "''')"
   ]
  },
  {
   "cell_type": "code",
   "execution_count": 10,
   "metadata": {},
   "outputs": [
    {
     "data": {
      "text/plain": [
       "[(1, '장르1'), (2, '장르2'), (3, '장르3'), (4, '장르4')]"
      ]
     },
     "execution_count": 10,
     "metadata": {},
     "output_type": "execute_result"
    }
   ],
   "source": [
    "cur.execute('SELECT * FROM genre')\n",
    "cur.fetchall()"
   ]
  },
  {
   "cell_type": "code",
   "execution_count": 11,
   "metadata": {},
   "outputs": [],
   "source": [
    "cur.execute('SELECT * FROM artist')\n",
    "artist = cur.fetchall()\n",
    "# artist 사용 가능하도록 만듦"
   ]
  },
  {
   "cell_type": "code",
   "execution_count": 12,
   "metadata": {},
   "outputs": [
    {
     "data": {
      "text/plain": [
       "[(1, '가수1')]"
      ]
     },
     "execution_count": 12,
     "metadata": {},
     "output_type": "execute_result"
    }
   ],
   "source": [
    "cur.execute('SELECT * FROM artist WHERE name=?', ['가수1'])\n",
    "cur.fetchall()"
   ]
  },
  {
   "cell_type": "code",
   "execution_count": 13,
   "metadata": {},
   "outputs": [
    {
     "data": {
      "text/plain": [
       "[(1, '가수1')]"
      ]
     },
     "execution_count": 13,
     "metadata": {},
     "output_type": "execute_result"
    }
   ],
   "source": [
    "cur.execute('SELECT * FROM artist WHERE name LIKE ?', ['%1'])\n",
    "cur.fetchall()"
   ]
  },
  {
   "cell_type": "code",
   "execution_count": 14,
   "metadata": {},
   "outputs": [],
   "source": [
    "data = ['1', '2', '3', '4']\n",
    "#? list 2개로 안 묶어줘도 되는건지?\n",
    "\n",
    "for val in data:\n",
    "    cur.execute('SELECT pk FROM artist WHERE name LIKE ?', ['%'+val])\n",
    "    pk = cur.fetchall()\n",
    "    if len(pk) > 0:\n",
    "        # cur.execute('INSERT INTO album(pk, name, fk) VALUES (?, ?, ?)')\n",
    "        # cur.execute('INSERT INTO album VALUES (NULL, ?, ?)')\n",
    "        # cur.execute('INSERT INTO album(name, fk) VALUES (?, ?)')\n",
    "        cur.execute('INSERT INTO album VALUES (NULL, ?, ?)',\n",
    "                    ['앨범' + val, pk[0][0]])"
   ]
  },
  {
   "cell_type": "code",
   "execution_count": 15,
   "metadata": {},
   "outputs": [
    {
     "data": {
      "text/plain": [
       "[(4,)]"
      ]
     },
     "execution_count": 15,
     "metadata": {},
     "output_type": "execute_result"
    }
   ],
   "source": [
    "pk  # 리스트로 묶여 있고 그 안에 튜플로 묶여있음. 따라서 위에서 [0][0] 으로 인덱싱 해준 것."
   ]
  },
  {
   "cell_type": "code",
   "execution_count": 16,
   "metadata": {},
   "outputs": [
    {
     "data": {
      "text/plain": [
       "[(1, '앨범1', 1), (2, '앨범2', 2), (3, '앨범3', 3), (4, '앨범4', 4)]"
      ]
     },
     "execution_count": 16,
     "metadata": {},
     "output_type": "execute_result"
    }
   ],
   "source": [
    "cur.execute('SELECT * FROM album')\n",
    "cur.fetchall()"
   ]
  },
  {
   "cell_type": "code",
   "execution_count": 17,
   "metadata": {},
   "outputs": [
    {
     "data": {
      "text/plain": [
       "[(1, '가수1'), (2, '가수2'), (3, '가수3'), (4, '가수4')]"
      ]
     },
     "execution_count": 17,
     "metadata": {},
     "output_type": "execute_result"
    }
   ],
   "source": [
    "cur.execute('SELECT * FROM artist')\n",
    "cur.fetchall()"
   ]
  },
  {
   "cell_type": "code",
   "execution_count": 18,
   "metadata": {},
   "outputs": [
    {
     "data": {
      "text/plain": [
       "<sqlite3.Cursor at 0x7fd429008840>"
      ]
     },
     "execution_count": 18,
     "metadata": {},
     "output_type": "execute_result"
    }
   ],
   "source": [
    "data = [('싱글1', '%1'), ('싱글2', '%2'), ('싱글3', '%3'), ('싱글4', '%4')]\n",
    "\n",
    "cur.executemany('''\n",
    "    INSERT INTO album(name, fk) VALUES (?, (\n",
    "        SELECT pk FROM artist WHERE name LIKE ?\n",
    "    ))\n",
    "''', data)\n",
    "# '?' 의 개수대로 있어야 함"
   ]
  },
  {
   "cell_type": "code",
   "execution_count": 19,
   "metadata": {},
   "outputs": [
    {
     "data": {
      "text/plain": [
       "[(1, '앨범1', 1),\n",
       " (2, '앨범2', 2),\n",
       " (3, '앨범3', 3),\n",
       " (4, '앨범4', 4),\n",
       " (5, '싱글1', 1),\n",
       " (6, '싱글2', 2),\n",
       " (7, '싱글3', 3),\n",
       " (8, '싱글4', 4)]"
      ]
     },
     "execution_count": 19,
     "metadata": {},
     "output_type": "execute_result"
    }
   ],
   "source": [
    "cur.execute('SELECT * FROM album')\n",
    "cur.fetchall()"
   ]
  },
  {
   "cell_type": "code",
   "execution_count": 20,
   "metadata": {},
   "outputs": [],
   "source": [
    "cur.execute('SELECT * FROM album')\n",
    "FK1 = cur.fetchall()\n",
    "\n",
    "cur.execute('SELECT * FROM genre')\n",
    "FK2 = cur.fetchall()"
   ]
  },
  {
   "cell_type": "code",
   "execution_count": 21,
   "metadata": {},
   "outputs": [
    {
     "data": {
      "text/plain": [
       "[(1, '앨범1', 1),\n",
       " (2, '앨범2', 2),\n",
       " (3, '앨범3', 3),\n",
       " (4, '앨범4', 4),\n",
       " (5, '싱글1', 1),\n",
       " (6, '싱글2', 2),\n",
       " (7, '싱글3', 3),\n",
       " (8, '싱글4', 4)]"
      ]
     },
     "execution_count": 21,
     "metadata": {},
     "output_type": "execute_result"
    }
   ],
   "source": [
    "FK1"
   ]
  },
  {
   "cell_type": "code",
   "execution_count": 22,
   "metadata": {},
   "outputs": [
    {
     "data": {
      "text/plain": [
       "5"
      ]
     },
     "execution_count": 22,
     "metadata": {},
     "output_type": "execute_result"
    }
   ],
   "source": [
    "for row in FK1:\n",
    "    if row[1] == '싱글1':\n",
    "        fk1 = row[0]\n",
    "        break\n",
    "fk1"
   ]
  },
  {
   "cell_type": "code",
   "execution_count": 23,
   "metadata": {},
   "outputs": [
    {
     "data": {
      "text/plain": [
       "3"
      ]
     },
     "execution_count": 23,
     "metadata": {},
     "output_type": "execute_result"
    }
   ],
   "source": [
    "for row in FK2:\n",
    "    if row[1] == '장르3':\n",
    "        fk2 = row[0]\n",
    "        break\n",
    "fk2"
   ]
  },
  {
   "cell_type": "code",
   "execution_count": 24,
   "metadata": {},
   "outputs": [
    {
     "data": {
      "text/plain": [
       "<sqlite3.Cursor at 0x7fd429008840>"
      ]
     },
     "execution_count": 24,
     "metadata": {},
     "output_type": "execute_result"
    }
   ],
   "source": [
    "cur.execute('''\n",
    "    INSERT INTO track (pk, name, length, rating, count, fk1, fk2)\n",
    "    VALUES(NULL, ?, ?, ?, ?, ?, ?)\n",
    "''', ['노래1', 270, 5, 100, fk1, fk2])\n",
    "\n",
    "# map, filter 나중에 사용할 것"
   ]
  },
  {
   "cell_type": "code",
   "execution_count": 25,
   "metadata": {},
   "outputs": [
    {
     "data": {
      "text/plain": [
       "[(1, '노래1', 270, 5, 100, 5, 3)]"
      ]
     },
     "execution_count": 25,
     "metadata": {},
     "output_type": "execute_result"
    }
   ],
   "source": [
    "cur.execute('SELECT * FROM track')\n",
    "cur.fetchall()"
   ]
  },
  {
   "cell_type": "code",
   "execution_count": 26,
   "metadata": {},
   "outputs": [
    {
     "data": {
      "text/plain": [
       "<sqlite3.Cursor at 0x7fd429008840>"
      ]
     },
     "execution_count": 26,
     "metadata": {},
     "output_type": "execute_result"
    }
   ],
   "source": [
    "# 디폴트 활용\n",
    "cur.execute('''\n",
    "    INSERT INTO track (name, fk1, fk2)\n",
    "    VALUES(?, ?, ?)\n",
    "''', ['노래2', fk1, fk2])\n",
    "\n",
    "# map, filter 나중에 사용할 것"
   ]
  },
  {
   "cell_type": "code",
   "execution_count": 27,
   "metadata": {},
   "outputs": [
    {
     "data": {
      "text/plain": [
       "[(1, '노래1', 270, 5, 100, 5, 3), (2, '노래2', 0, 0, 0, 5, 3)]"
      ]
     },
     "execution_count": 27,
     "metadata": {},
     "output_type": "execute_result"
    }
   ],
   "source": [
    "cur.execute('SELECT * FROM track')\n",
    "cur.fetchall()"
   ]
  },
  {
   "cell_type": "code",
   "execution_count": 28,
   "metadata": {},
   "outputs": [
    {
     "data": {
      "text/plain": [
       "<sqlite3.Cursor at 0x7fd429008840>"
      ]
     },
     "execution_count": 28,
     "metadata": {},
     "output_type": "execute_result"
    }
   ],
   "source": [
    "cur.execute('DELETE FROM track WHERE pk = 2')"
   ]
  },
  {
   "cell_type": "code",
   "execution_count": 29,
   "metadata": {},
   "outputs": [
    {
     "data": {
      "text/plain": [
       "[(1, '노래1', 270, 5, 100, 5, 3)]"
      ]
     },
     "execution_count": 29,
     "metadata": {},
     "output_type": "execute_result"
    }
   ],
   "source": [
    "cur.execute('SELECT * FROM track')\n",
    "cur.fetchall()"
   ]
  },
  {
   "cell_type": "code",
   "execution_count": 30,
   "metadata": {},
   "outputs": [
    {
     "data": {
      "text/plain": [
       "<sqlite3.Cursor at 0x7fd429008840>"
      ]
     },
     "execution_count": 30,
     "metadata": {},
     "output_type": "execute_result"
    }
   ],
   "source": [
    "cur.execute('INSERT INTO track(name, fk1, fk2) VALUES (?, ?, ?)',\n",
    "            ['노래2', 1, 2])"
   ]
  },
  {
   "cell_type": "code",
   "execution_count": 31,
   "metadata": {},
   "outputs": [
    {
     "data": {
      "text/plain": [
       "[(1, '노래1', 270, 5, 100, 5, 3), (2, '노래2', 0, 0, 0, 1, 2)]"
      ]
     },
     "execution_count": 31,
     "metadata": {},
     "output_type": "execute_result"
    }
   ],
   "source": [
    "cur.execute('SELECT * FROM track')\n",
    "cur.fetchall()\n",
    "# 만약 PK 설정 할 떄, AUTOINCREMENT 가 PK에 있으면 지금 추가한 것이 3이 될 것."
   ]
  },
  {
   "cell_type": "code",
   "execution_count": 32,
   "metadata": {},
   "outputs": [
    {
     "data": {
      "text/plain": [
       "<sqlite3.Cursor at 0x7fd429008840>"
      ]
     },
     "execution_count": 32,
     "metadata": {},
     "output_type": "execute_result"
    }
   ],
   "source": [
    "cur.execute('''\n",
    "    INSERT INTO track(name, fk1, fk2) VALUES (?, ?, (\n",
    "        SELECT pk FROM genre WHERE name LIKE ?\n",
    "    ))\n",
    "    ''', ['노래3', 2, '%4'])"
   ]
  },
  {
   "cell_type": "code",
   "execution_count": 33,
   "metadata": {},
   "outputs": [
    {
     "data": {
      "text/plain": [
       "[(1, '노래1', 270, 5, 100, 5, 3),\n",
       " (2, '노래2', 0, 0, 0, 1, 2),\n",
       " (3, '노래3', 0, 0, 0, 2, 4)]"
      ]
     },
     "execution_count": 33,
     "metadata": {},
     "output_type": "execute_result"
    }
   ],
   "source": [
    "cur.execute('SELECT * FROM track')\n",
    "cur.fetchall()"
   ]
  },
  {
   "cell_type": "code",
   "execution_count": 34,
   "metadata": {},
   "outputs": [
    {
     "data": {
      "text/plain": [
       "<sqlite3.Cursor at 0x7fd429008840>"
      ]
     },
     "execution_count": 34,
     "metadata": {},
     "output_type": "execute_result"
    }
   ],
   "source": [
    "cur.execute('''\n",
    "    INSERT INTO track(name, fk1, fk2) VALUES(?,(\n",
    "        SELECT pk FROM album WHERE name LIKE ?\n",
    "    ),(\n",
    "        SELECT pk FROM genre WHERE name LIKE ?\n",
    "    ))\n",
    "''', ['노래4', '%싱글1%', '%장르3%'])"
   ]
  },
  {
   "cell_type": "code",
   "execution_count": 35,
   "metadata": {},
   "outputs": [
    {
     "data": {
      "text/plain": [
       "<sqlite3.Cursor at 0x7fd429008840>"
      ]
     },
     "execution_count": 35,
     "metadata": {},
     "output_type": "execute_result"
    }
   ],
   "source": [
    "data = [\n",
    "    ['노래5', '%싱글3%', '%장르4%'],\n",
    "    ['노래6', '%앨범1%', '%장르1%'],\n",
    "    ['노래7', '%앨범2%', '%장르2%'],\n",
    "    ['노래8', '%앨범3%', '%장르3%'],\n",
    "    ['노래9', '%앨범4%', '%장르4%'],\n",
    "    ['노래10', '%싱글4%', '%장르3%'],\n",
    "    ['노래11', '%싱글3%', '%장르2%'],\n",
    "    ['노래12', '%싱글2%', '%장르1%'],\n",
    "]\n",
    "cur.executemany('''\n",
    "    INSERT INTO track(name, fk1, fk2) VALUES(?,(\n",
    "        SELECT pk FROM album WHERE name LIKE ?\n",
    "    ),(\n",
    "        SELECT pk FROM genre WHERE name LIKE ?\n",
    "    ))\n",
    "''', data)"
   ]
  },
  {
   "cell_type": "code",
   "execution_count": 36,
   "metadata": {},
   "outputs": [
    {
     "data": {
      "text/plain": [
       "[(1, '노래1', 270, 5, 100, 5, 3),\n",
       " (2, '노래2', 0, 0, 0, 1, 2),\n",
       " (3, '노래3', 0, 0, 0, 2, 4),\n",
       " (4, '노래4', 0, 0, 0, 5, 3),\n",
       " (5, '노래5', 0, 0, 0, 7, 4),\n",
       " (6, '노래6', 0, 0, 0, 1, 1),\n",
       " (7, '노래7', 0, 0, 0, 2, 2),\n",
       " (8, '노래8', 0, 0, 0, 3, 3),\n",
       " (9, '노래9', 0, 0, 0, 4, 4),\n",
       " (10, '노래10', 0, 0, 0, 8, 3),\n",
       " (11, '노래11', 0, 0, 0, 7, 2),\n",
       " (12, '노래12', 0, 0, 0, 6, 1)]"
      ]
     },
     "execution_count": 36,
     "metadata": {},
     "output_type": "execute_result"
    }
   ],
   "source": [
    "cur.execute('SELECT * FROM track')\n",
    "cur.fetchall()"
   ]
  },
  {
   "cell_type": "code",
   "execution_count": null,
   "metadata": {},
   "outputs": [],
   "source": []
  },
  {
   "attachments": {},
   "cell_type": "markdown",
   "metadata": {},
   "source": [
    "##### 어떤 테이블에서 어떤 값을 가져오는지 집중해서 입력하기!"
   ]
  },
  {
   "attachments": {},
   "cell_type": "markdown",
   "metadata": {},
   "source": [
    "### **집계함수** 등 사용"
   ]
  },
  {
   "cell_type": "code",
   "execution_count": 176,
   "metadata": {},
   "outputs": [
    {
     "data": {
      "text/plain": [
       "[(1, '노래1', 270, 5, 100, 5, 3),\n",
       " (2, '노래2', 0, 0, 0, 1, 2),\n",
       " (3, '노래3', 0, 0, 0, 2, 4),\n",
       " (4, '노래4', 0, 0, 0, 5, 3),\n",
       " (5, '노래5', 0, 0, 0, 7, 4),\n",
       " (6, '노래6', 0, 0, 0, 1, 1),\n",
       " (7, '노래7', 0, 0, 0, 2, 2),\n",
       " (8, '노래8', 0, 0, 0, 3, 3),\n",
       " (9, '노래9', 0, 0, 0, 4, 4),\n",
       " (10, '노래10', 0, 0, 0, 8, 3),\n",
       " (11, '노래11', 0, 0, 0, 7, 2),\n",
       " (12, '노래12', 0, 0, 0, 6, 1)]"
      ]
     },
     "execution_count": 176,
     "metadata": {},
     "output_type": "execute_result"
    }
   ],
   "source": [
    "cur.execute('SELECT * FROM track')\n",
    "cur.fetchall()"
   ]
  },
  {
   "cell_type": "code",
   "execution_count": 175,
   "metadata": {},
   "outputs": [
    {
     "data": {
      "text/plain": [
       "[(12,)]"
      ]
     },
     "execution_count": 175,
     "metadata": {},
     "output_type": "execute_result"
    }
   ],
   "source": [
    "# 집계함수 COUNT\n",
    "cur.execute('SELECT COUNT(*) FROM track')\n",
    "cur.fetchall()"
   ]
  },
  {
   "cell_type": "code",
   "execution_count": 178,
   "metadata": {},
   "outputs": [
    {
     "data": {
      "text/plain": [
       "[(1, 2), (2, 3), (3, 4), (4, 3)]"
      ]
     },
     "execution_count": 178,
     "metadata": {},
     "output_type": "execute_result"
    }
   ],
   "source": [
    "cur.execute('SELECT fk2, COUNT(*) FROM track GROUP BY fk2')\n",
    "cur.fetchall()"
   ]
  },
  {
   "cell_type": "code",
   "execution_count": 179,
   "metadata": {},
   "outputs": [
    {
     "data": {
      "text/plain": [
       "[(1, '장르1', 2), (2, '장르2', 3), (3, '장르3', 4), (4, '장르4', 3)]"
      ]
     },
     "execution_count": 179,
     "metadata": {},
     "output_type": "execute_result"
    }
   ],
   "source": [
    "cur.execute('''\n",
    "    SELECT T_B.pk, T_B.name, T_A.B name FROM genre AS T_B\n",
    "    INNER JOIN\n",
    "    (SELECT fk2 AS A, COUNT(*) AS B FROM track GROUP BY fk2) AS T_A\n",
    "    ON T_A.A = T_B.pk\n",
    "''')\n",
    "cur.fetchall()"
   ]
  },
  {
   "cell_type": "code",
   "execution_count": 180,
   "metadata": {},
   "outputs": [
    {
     "data": {
      "text/plain": [
       "[(4, '장르4', 3), (3, '장르3', 4)]"
      ]
     },
     "execution_count": 180,
     "metadata": {},
     "output_type": "execute_result"
    }
   ],
   "source": [
    "cur.execute('''\n",
    "    SELECT T_B.pk, T_B.name, T_A.B name FROM genre AS T_B\n",
    "    INNER JOIN\n",
    "    (SELECT fk2 AS A, COUNT(*) AS B FROM track GROUP BY fk2) AS T_A\n",
    "    ON T_A.A = T_B.pk\n",
    "    WHERE T_A.B > 2\n",
    "    ORDER BY T_B.pk DESC\n",
    "    LIMIT 0, 2\n",
    "''')\n",
    "cur.fetchall()\n",
    "\n",
    "# LIMIT 는 상위 몇 개 필요한 지(DESC 이기 때문)"
   ]
  },
  {
   "cell_type": "code",
   "execution_count": null,
   "metadata": {},
   "outputs": [],
   "source": [
    "# 가수, 가수의 앨범 수 <- 출력하시오."
   ]
  },
  {
   "cell_type": "code",
   "execution_count": 81,
   "metadata": {},
   "outputs": [
    {
     "data": {
      "text/plain": [
       "[(1, '가수1'), (2, '가수2'), (3, '가수3'), (4, '가수4')]"
      ]
     },
     "execution_count": 81,
     "metadata": {},
     "output_type": "execute_result"
    }
   ],
   "source": [
    "cur.execute('SELECT * FROM artist')\n",
    "cur.fetchall()"
   ]
  },
  {
   "cell_type": "code",
   "execution_count": 82,
   "metadata": {},
   "outputs": [
    {
     "data": {
      "text/plain": [
       "[(1, '앨범1', 1),\n",
       " (2, '앨범2', 2),\n",
       " (3, '앨범3', 3),\n",
       " (4, '앨범4', 4),\n",
       " (5, '싱글1', 1),\n",
       " (6, '싱글2', 2),\n",
       " (7, '싱글3', 3),\n",
       " (8, '싱글4', 4)]"
      ]
     },
     "execution_count": 82,
     "metadata": {},
     "output_type": "execute_result"
    }
   ],
   "source": [
    "cur.execute('SELECT * FROM album')\n",
    "cur.fetchall()"
   ]
  },
  {
   "cell_type": "code",
   "execution_count": 86,
   "metadata": {},
   "outputs": [
    {
     "data": {
      "text/plain": [
       "[('가수1', 2), ('가수2', 2), ('가수3', 2), ('가수4', 2)]"
      ]
     },
     "execution_count": 86,
     "metadata": {},
     "output_type": "execute_result"
    }
   ],
   "source": [
    "# 내가 작성해 본 Query\n",
    "cur.execute('''\n",
    "        SELECT T_B.name, T_A.B FROM artist AS T_B\n",
    "        INNER JOIN\n",
    "        (SELECT fk AS A, COUNT(*) AS B FROM album GROUP BY fk) AS T_A\n",
    "        ON T_A.A = T_B.pk\n",
    "''')\n",
    "cur.fetchall()"
   ]
  },
  {
   "cell_type": "code",
   "execution_count": 87,
   "metadata": {},
   "outputs": [
    {
     "data": {
      "text/plain": [
       "[(1, '가수1', 2), (2, '가수2', 2), (3, '가수3', 2), (4, '가수4', 2)]"
      ]
     },
     "execution_count": 87,
     "metadata": {},
     "output_type": "execute_result"
    }
   ],
   "source": [
    "# 류기곤 선생님 Query\n",
    "cur.execute('''\n",
    "    SELECT T_A.pk, T_A.name, T_B.CNT FROM artist AS T_A\n",
    "    INNER JOIN\n",
    "    (SELECT fk, COUNT(*) AS CNT FROM album GROUP BY fk) AS T_B\n",
    "    ON T_B.fk = T_A.pk\n",
    "    \n",
    "''')\n",
    "cur.fetchall()"
   ]
  },
  {
   "cell_type": "code",
   "execution_count": 88,
   "metadata": {},
   "outputs": [
    {
     "data": {
      "text/plain": [
       "[(1, '노래1', '장르3'),\n",
       " (2, '노래2', '장르2'),\n",
       " (3, '노래3', '장르4'),\n",
       " (4, '노래4', '장르3'),\n",
       " (5, '노래5', '장르4'),\n",
       " (6, '노래6', '장르1'),\n",
       " (7, '노래7', '장르2'),\n",
       " (8, '노래8', '장르3'),\n",
       " (9, '노래9', '장르4'),\n",
       " (10, '노래10', '장르3'),\n",
       " (11, '노래11', '장르2'),\n",
       " (12, '노래12', '장르1')]"
      ]
     },
     "execution_count": 88,
     "metadata": {},
     "output_type": "execute_result"
    }
   ],
   "source": [
    "cur.execute('''\n",
    "    SELECT track.pk, track.name, genre.name FROM track\n",
    "    INNER JOIN genre ON genre.pk = track.fk2\n",
    "''')\n",
    "cur.fetchall()"
   ]
  },
  {
   "cell_type": "code",
   "execution_count": 89,
   "metadata": {},
   "outputs": [
    {
     "data": {
      "text/plain": [
       "[(6, '노래6', '장르1'),\n",
       " (12, '노래12', '장르1'),\n",
       " (2, '노래2', '장르2'),\n",
       " (7, '노래7', '장르2'),\n",
       " (11, '노래11', '장르2'),\n",
       " (1, '노래1', '장르3'),\n",
       " (4, '노래4', '장르3'),\n",
       " (8, '노래8', '장르3'),\n",
       " (10, '노래10', '장르3'),\n",
       " (3, '노래3', '장르4'),\n",
       " (5, '노래5', '장르4'),\n",
       " (9, '노래9', '장르4')]"
      ]
     },
     "execution_count": 89,
     "metadata": {},
     "output_type": "execute_result"
    }
   ],
   "source": [
    "# genre 별로 sorting\n",
    "cur.execute('''\n",
    "    SELECT track.pk, track.name, genre.name FROM track\n",
    "    INNER JOIN genre ON genre.pk = track.fk2\n",
    "    ORDER BY genre.name ASC\n",
    "''')\n",
    "cur.fetchall()"
   ]
  },
  {
   "cell_type": "code",
   "execution_count": 90,
   "metadata": {},
   "outputs": [
    {
     "data": {
      "text/plain": [
       "[(1, '노래1', '싱글1', '장르3'),\n",
       " (4, '노래4', '싱글1', '장르3'),\n",
       " (12, '노래12', '싱글2', '장르1'),\n",
       " (11, '노래11', '싱글3', '장르2'),\n",
       " (5, '노래5', '싱글3', '장르4'),\n",
       " (10, '노래10', '싱글4', '장르3'),\n",
       " (6, '노래6', '앨범1', '장르1'),\n",
       " (2, '노래2', '앨범1', '장르2'),\n",
       " (7, '노래7', '앨범2', '장르2'),\n",
       " (3, '노래3', '앨범2', '장르4'),\n",
       " (8, '노래8', '앨범3', '장르3'),\n",
       " (9, '노래9', '앨범4', '장르4')]"
      ]
     },
     "execution_count": 90,
     "metadata": {},
     "output_type": "execute_result"
    }
   ],
   "source": [
    "# 먼저 album 별로 sorting하고\n",
    "# 겹치는 것이 있으면 genre 별로 sorting\n",
    "cur.execute('''\n",
    "    SELECT track.pk, track.name, album.name, genre.name FROM track\n",
    "    INNER JOIN genre ON genre.pk = track.fk2\n",
    "    INNER JOIN album ON album.pk = track.fk1\n",
    "    ORDER BY album.name, genre.name\n",
    "''')\n",
    "cur.fetchall()"
   ]
  },
  {
   "cell_type": "code",
   "execution_count": 91,
   "metadata": {},
   "outputs": [
    {
     "data": {
      "text/plain": [
       "[(1, '가수1', '노래1', '싱글1', '장르3'),\n",
       " (4, '가수1', '노래4', '싱글1', '장르3'),\n",
       " (6, '가수1', '노래6', '앨범1', '장르1'),\n",
       " (2, '가수1', '노래2', '앨범1', '장르2'),\n",
       " (12, '가수2', '노래12', '싱글2', '장르1'),\n",
       " (7, '가수2', '노래7', '앨범2', '장르2'),\n",
       " (3, '가수2', '노래3', '앨범2', '장르4'),\n",
       " (11, '가수3', '노래11', '싱글3', '장르2'),\n",
       " (5, '가수3', '노래5', '싱글3', '장르4'),\n",
       " (8, '가수3', '노래8', '앨범3', '장르3'),\n",
       " (10, '가수4', '노래10', '싱글4', '장르3'),\n",
       " (9, '가수4', '노래9', '앨범4', '장르4')]"
      ]
     },
     "execution_count": 91,
     "metadata": {},
     "output_type": "execute_result"
    }
   ],
   "source": [
    "cur.execute('''\n",
    "    SELECT track.pk, artist.name, track.name, album.name, genre.name FROM track\n",
    "    INNER JOIN genre ON genre.pk = track.fk2\n",
    "    INNER JOIN album ON album.pk = track.fk1\n",
    "    INNER JOIN artist ON artist.pk = album.fk\n",
    "    ORDER BY artist.name, album.name, genre.name\n",
    "''')\n",
    "cur.fetchall()"
   ]
  },
  {
   "cell_type": "code",
   "execution_count": 92,
   "metadata": {},
   "outputs": [
    {
     "data": {
      "text/plain": [
       "[(1, '가수1', '노래1', '싱글1', '장르3'),\n",
       " (4, '가수1', '노래4', '싱글1', '장르3'),\n",
       " (6, '가수1', '노래6', '앨범1', '장르1'),\n",
       " (2, '가수1', '노래2', '앨범1', '장르2')]"
      ]
     },
     "execution_count": 92,
     "metadata": {},
     "output_type": "execute_result"
    }
   ],
   "source": [
    "cur.execute('''\n",
    "    SELECT track.pk, artist.name, track.name, album.name, genre.name FROM track\n",
    "    INNER JOIN genre ON genre.pk = track.fk2\n",
    "    INNER JOIN album ON album.pk = track.fk1\n",
    "    INNER JOIN artist ON artist.pk = album.fk\n",
    "    WHERE artist.name LIKE '%1'\n",
    "    ORDER BY artist.name, album.name, genre.name\n",
    "''')\n",
    "cur.fetchall()"
   ]
  },
  {
   "cell_type": "code",
   "execution_count": 181,
   "metadata": {},
   "outputs": [
    {
     "data": {
      "text/plain": [
       "[(1, '가수1', '노래1', '싱글1', '장르3'),\n",
       " (4, '가수1', '노래4', '싱글1', '장르3'),\n",
       " (6, '가수1', '노래6', '앨범1', '장르1'),\n",
       " (2, '가수1', '노래2', '앨범1', '장르2'),\n",
       " (12, '가수2', '노래12', '싱글2', '장르1'),\n",
       " (7, '가수2', '노래7', '앨범2', '장르2'),\n",
       " (3, '가수2', '노래3', '앨범2', '장르4'),\n",
       " (11, '가수3', '노래11', '싱글3', '장르2'),\n",
       " (5, '가수3', '노래5', '싱글3', '장르4'),\n",
       " (8, '가수3', '노래8', '앨범3', '장르3'),\n",
       " (10, '가수4', '노래10', '싱글4', '장르3'),\n",
       " (9, '가수4', '노래9', '앨범4', '장르4')]"
      ]
     },
     "execution_count": 181,
     "metadata": {},
     "output_type": "execute_result"
    }
   ],
   "source": [
    "# WHERE 조건절이 없을 때.\n",
    "cur.execute('''\n",
    "    SELECT track.pk, artist.name, track.name, album.name, genre.name FROM track\n",
    "    INNER JOIN genre ON genre.pk = track.fk2\n",
    "    INNER JOIN album ON album.pk = track.fk1\n",
    "    INNER JOIN artist ON artist.pk = album.fk\n",
    "    ORDER BY artist.name, album.name, genre.name\n",
    "''')\n",
    "cur.fetchall()"
   ]
  },
  {
   "cell_type": "code",
   "execution_count": 93,
   "metadata": {},
   "outputs": [
    {
     "data": {
      "text/plain": [
       "[(1, '가수1', '노래1', '싱글1', '장르3'),\n",
       " (4, '가수1', '노래4', '싱글1', '장르3'),\n",
       " (6, '가수1', '노래6', '앨범1', '장르1'),\n",
       " (2, '가수1', '노래2', '앨범1', '장르2')]"
      ]
     },
     "execution_count": 93,
     "metadata": {},
     "output_type": "execute_result"
    }
   ],
   "source": [
    "# 위와 같은 구문 -> ON 절에 조건이 붙음.\n",
    "cur.execute('''\n",
    "    SELECT track.pk, artist.name, track.name, album.name, genre.name FROM track\n",
    "    INNER JOIN genre ON genre.pk = track.fk2\n",
    "    INNER JOIN album ON album.pk = track.fk1\n",
    "    INNER JOIN artist ON artist.pk = album.fk and artist.name LIKE '%1'\n",
    "    ORDER BY artist.name, album.name, genre.name\n",
    "''')\n",
    "cur.fetchall()"
   ]
  },
  {
   "cell_type": "code",
   "execution_count": null,
   "metadata": {},
   "outputs": [
    {
     "data": {
      "text/plain": [
       "[(1, '가수1', '노래1', '싱글1', '장르3'),\n",
       " (4, '가수1', '노래4', '싱글1', '장르3'),\n",
       " (6, '가수1', '노래6', '앨범1', '장르1'),\n",
       " (2, '가수1', '노래2', '앨범1', '장르2')]"
      ]
     },
     "metadata": {},
     "output_type": "display_data"
    }
   ],
   "source": [
    "cur.execute('''\n",
    "    SELECT track.pk, artist.name, track.name, album.name, genre.name FROM track\n",
    "    INNER JOIN genre ON genre.pk = track.fk2\n",
    "    INNER JOIN album ON album.pk = track.fk1\n",
    "    INNER JOIN artist ON artist.pk = album.fk\n",
    "    WHERE track.count < 10\n",
    "    ORDER BY artist.name, album.name, genre.name\n",
    "''')\n",
    "cur.fetchall()"
   ]
  },
  {
   "cell_type": "code",
   "execution_count": null,
   "metadata": {},
   "outputs": [],
   "source": [
    "# 기억해야 할 것\n",
    "#! 조인. 누굴 기준으로 해서 합칠 것이냐. INNER JOIN 부분집합을 어떻게 구할 것이냐.\n",
    "#! 그렇게 부분집합 걸어넣고 내가 원하는 데이터를 얼만큼 가져올 것이냐 (WHERE 조건)\n",
    "#! 정렬은 어떻게 할 것이냐.\n",
    "#! 현재 어디에 속한 누가 얼마나 있는지 (집계함수)"
   ]
  },
  {
   "attachments": {},
   "cell_type": "markdown",
   "metadata": {},
   "source": [
    "## **ORM**"
   ]
  },
  {
   "cell_type": "code",
   "execution_count": null,
   "metadata": {},
   "outputs": [],
   "source": [
    "# ORM 이란?\n",
    "# Object Relational Mapping\n",
    "# programming 테크닉. 즉, DB랑 상관없음.\n",
    "# 그런데 데이터베이스와 비즈니스 로직이 서로 다르다는 점에서 필요성이 드러남.\n",
    "# ORM은 OOP(객체지향)관점에서 데이터들을 오브젝트로 매핑해줌."
   ]
  },
  {
   "cell_type": "code",
   "execution_count": null,
   "metadata": {},
   "outputs": [],
   "source": [
    "# ERD -> 엔티티, 관계를 나타낸 다이어그램\n",
    "# 이것만 보고는 테이블이 어떻게 이루어져 있는지는 모름.\n",
    "# 2개, 3개(관계까지 테이블로 만들어서) 테이블이 될 수 있음. 방법은 여러가지. ERD만 보고 테이블이 어떻게 구성될 지 판단하기 어려움.\n",
    "# 데이터 관점에서 봤을 떄 고객과 은행계좌는 다른 엔티티."
   ]
  },
  {
   "cell_type": "code",
   "execution_count": null,
   "metadata": {},
   "outputs": [],
   "source": [
    "# ORM 은 접근하는 방식이 다름. 객체지향 프로그램 처럼 프로퍼티 사용 등 특징이 있음.\n",
    "# DB에 구현해놓은 것과 우리가 이용하는 방식이 다르기 떄문에, 코드도 복잡해지고 시간도 많이 걸리게 되는데,\n",
    "# 그것을 줄여보자는 취지에서 ORM을 사용하게 됨.\n",
    "# 즉 미스매치. 실제 RDB에 저장되어 있는 것들과 우리가 사용하는 것이 미스매치.\n",
    "# ORM이란 기능/테크닉은 데이터베이스와 비즈니스 오브젝트 사이에 매핑을 해줌.\n",
    "# 즉 이제 우리는 관계형 DB를 할 줄 알기 때문에 ORM 을 배울 것."
   ]
  },
  {
   "cell_type": "code",
   "execution_count": null,
   "metadata": {},
   "outputs": [],
   "source": [
    "\n",
    "#! ORM을 쓰는 근본적인 이유\n",
    "# 프로그래머들이 데이터베이스를 어떻게 관리하고 이용하는지 보다는 로직 별로 프로그래밍 하는데 더 집중할 수 있도록 필요함\n",
    "# 단점으로는 overhead가 있음.\n",
    "# 내가 object를 건들면 ORM이 query로 처리해줌. 그걸 또 처리하는 한단계가 더 있어서 overhead가 존재함."
   ]
  },
  {
   "cell_type": "code",
   "execution_count": null,
   "metadata": {},
   "outputs": [],
   "source": [
    "# 모델과 실제 구현 결과물은 얼마든지 다를 수 있다!!!\n",
    "# 사용자 태그 예시(인스타그램과 유사)"
   ]
  },
  {
   "cell_type": "code",
   "execution_count": null,
   "metadata": {},
   "outputs": [],
   "source": [
    "1. 새 게시물 생성\n",
    "2. 생성 시, 생성자는 사용자태그를 0 ~ N개 만들 수 있음\n",
    "    -3. 사용자태그가 해시태그 풀에 있는지 확인\n",
    "    -4. 확인이 됐으면, 새 게시물과 해시태그 관계 만들어주기\n",
    "    -5. 해시태그 풀에 있는 빈도정보 +1\n",
    "[여기까지 게시물 하나 작성하는 상황]"
   ]
  },
  {
   "cell_type": "code",
   "execution_count": null,
   "metadata": {},
   "outputs": [],
   "source": [
    "<<정보>>\n",
    "\n",
    "posting - pk, title, content, date\n",
    "\n",
    "hashtag - pk, name, count\n",
    "\n",
    "posting - hashtag : posting.pk, hashtag.pk"
   ]
  },
  {
   "cell_type": "code",
   "execution_count": 182,
   "metadata": {},
   "outputs": [
    {
     "data": {
      "text/plain": [
       "<function Connection.close()>"
      ]
     },
     "execution_count": 182,
     "metadata": {},
     "output_type": "execute_result"
    }
   ],
   "source": [
    "con.close # 기존 거 (플레이리스트 DB) 닫기"
   ]
  },
  {
   "cell_type": "code",
   "execution_count": 183,
   "metadata": {},
   "outputs": [],
   "source": [
    "con = sqlite3.connect('sns2.db')\n",
    "cur = con.cursor()"
   ]
  },
  {
   "cell_type": "code",
   "execution_count": 184,
   "metadata": {},
   "outputs": [
    {
     "data": {
      "text/plain": [
       "[('2023-03-06 11:57:23',)]"
      ]
     },
     "execution_count": 184,
     "metadata": {},
     "output_type": "execute_result"
    }
   ],
   "source": [
    "cur.execute('SELECT CURRENT_TIMESTAMP')\n",
    "cur.fetchall()"
   ]
  },
  {
   "cell_type": "code",
   "execution_count": 185,
   "metadata": {},
   "outputs": [
    {
     "data": {
      "text/plain": [
       "<sqlite3.Cursor at 0x7fa5319b83c0>"
      ]
     },
     "execution_count": 185,
     "metadata": {},
     "output_type": "execute_result"
    }
   ],
   "source": [
    "cur.executescript('''\n",
    "    DROP TABLE IF EXISTS posting;\n",
    "    CREATE TABLE posting(\n",
    "        pk INTEGER PRIMARY KEY,\n",
    "        title TEXT,\n",
    "        content TEXT,\n",
    "        regdate DATE DEFAULT CURRENT_TIMESTAMP\n",
    "    );\n",
    "    DROP TABLE IF EXISTS hashtag;\n",
    "    CREATE TABLE hashtag(\n",
    "        pk INTEGER PRIMARY KEY,\n",
    "        name TEXT,\n",
    "        count INTEGER DEFAULT 0\n",
    "    );\n",
    "    DROP TABLE IF EXISTS poshas;\n",
    "    CREATE TABLE poshas(\n",
    "        fk1 INTEGER NOT NULL,\n",
    "        fk2 INTEGER NOT NULL\n",
    "    );\n",
    "''')"
   ]
  },
  {
   "cell_type": "code",
   "execution_count": 186,
   "metadata": {},
   "outputs": [
    {
     "data": {
      "text/plain": [
       "1"
      ]
     },
     "execution_count": 186,
     "metadata": {},
     "output_type": "execute_result"
    }
   ],
   "source": [
    "# def addPosting(title, content, *hashtag) -> ORM을 위해 나중에(commit으로 잘 돌아가는지 확인 후) 감싸줄 것.\n",
    "\n",
    "# 1단계 - 새 게시물 생성\n",
    "cur.execute('INSERT INTO posting(title, content) VALUES(?, ?)',\n",
    "            ['제목1', '내용1'])\n",
    "pid = cur.lastrowid\n",
    "pid"
   ]
  },
  {
   "cell_type": "code",
   "execution_count": 187,
   "metadata": {},
   "outputs": [
    {
     "data": {
      "text/plain": [
       "[(1, '제목1', '내용1', '2023-03-06 12:01:32')]"
      ]
     },
     "execution_count": 187,
     "metadata": {},
     "output_type": "execute_result"
    }
   ],
   "source": [
    "cur.execute('SELECT * FROM posting')\n",
    "cur.fetchall()"
   ]
  },
  {
   "cell_type": "code",
   "execution_count": 191,
   "metadata": {},
   "outputs": [
    {
     "data": {
      "text/plain": [
       "[1, 2]"
      ]
     },
     "execution_count": 191,
     "metadata": {},
     "output_type": "execute_result"
    }
   ],
   "source": [
    "hashtag = ['태그1', '태그2']\n",
    "tagids = list()\n",
    "\n",
    "# 2단계 - 사용자 태그 만들기\n",
    "#   3단계 - 사용자 태그가 해시태그 풀에 있는지 확인\n",
    "for tag in hashtag:\n",
    "    cur.execute('SELECT pk FROM hashtag WHERE name=?', [tag])\n",
    "    # print(cur.fetchone())   --> 없으면 None\n",
    "    tid = cur.fetchone()\n",
    "    if tid is not None:\n",
    "        tagids.append(tid[0])\n",
    "\n",
    "tagids"
   ]
  },
  {
   "cell_type": "code",
   "execution_count": 192,
   "metadata": {},
   "outputs": [
    {
     "data": {
      "text/plain": [
       "(2,)"
      ]
     },
     "execution_count": 192,
     "metadata": {},
     "output_type": "execute_result"
    }
   ],
   "source": [
    "tid"
   ]
  },
  {
   "cell_type": "code",
   "execution_count": 193,
   "metadata": {},
   "outputs": [],
   "source": [
    "#   4단계 - 확인이 됐으면, 새 게시물과 해시태그 관계 만들어주기\n",
    "#   5단계 - 해시태그 풀에 있는 빈도정보 +1\n",
    "\n",
    "for tid in tagids:  \n",
    "    cur.execute('''\n",
    "        INSERT INTO poshas VALUES(?,?)\n",
    "    ''', [pid, tid])\n",
    "    \n",
    "    cur.execute('''\n",
    "        UPDATE hashtag\n",
    "        SET count = count + 1\n",
    "        WHERE pk = ?                \n",
    "    ''', [tid])"
   ]
  },
  {
   "cell_type": "code",
   "execution_count": 190,
   "metadata": {},
   "outputs": [
    {
     "data": {
      "text/plain": [
       "<sqlite3.Cursor at 0x7fa5319b83c0>"
      ]
     },
     "execution_count": 190,
     "metadata": {},
     "output_type": "execute_result"
    }
   ],
   "source": [
    "# 태그풀 생성\n",
    "tags = [['태그1'], ['태그2'], ['태그3']]\n",
    "cur.executemany('INSERT INTO hashtag(name) VALUES(?)', tags)"
   ]
  },
  {
   "cell_type": "code",
   "execution_count": 37,
   "metadata": {},
   "outputs": [],
   "source": [
    "con.commit()\n",
    "#! 여기까지 잘 돌아감을 확인(실제 내 DB에 반영이 되면)하면, 함수로 감싸주면 됨"
   ]
  },
  {
   "cell_type": "code",
   "execution_count": null,
   "metadata": {},
   "outputs": [],
   "source": [
    "# 여기까지 생성. 이제는 수정"
   ]
  },
  {
   "cell_type": "code",
   "execution_count": 195,
   "metadata": {},
   "outputs": [
    {
     "data": {
      "text/plain": [
       "[(1, 1), (1, 2)]"
      ]
     },
     "execution_count": 195,
     "metadata": {},
     "output_type": "execute_result"
    }
   ],
   "source": [
    "cur.execute('SELECT * FROM poshas')\n",
    "cur.fetchall()"
   ]
  },
  {
   "cell_type": "code",
   "execution_count": 196,
   "metadata": {},
   "outputs": [
    {
     "data": {
      "text/plain": [
       "[(1, '제목1', '내용1', '2023-03-06 12:01:32')]"
      ]
     },
     "execution_count": 196,
     "metadata": {},
     "output_type": "execute_result"
    }
   ],
   "source": [
    "cur.execute('SELECT * FROM posting')\n",
    "cur.fetchall()"
   ]
  },
  {
   "cell_type": "code",
   "execution_count": 197,
   "metadata": {},
   "outputs": [
    {
     "data": {
      "text/plain": [
       "[(1, '태그1', 1), (2, '태그2', 1), (3, '태그3', 0)]"
      ]
     },
     "execution_count": 197,
     "metadata": {},
     "output_type": "execute_result"
    }
   ],
   "source": [
    "cur.execute('SELECT * FROM hashtag')\n",
    "cur.fetchall()"
   ]
  },
  {
   "cell_type": "code",
   "execution_count": 194,
   "metadata": {},
   "outputs": [
    {
     "data": {
      "text/plain": [
       "[('제목1', '내용1', '2023-03-06 12:01:32', '태그1'),\n",
       " ('제목1', '내용1', '2023-03-06 12:01:32', '태그2')]"
      ]
     },
     "execution_count": 194,
     "metadata": {},
     "output_type": "execute_result"
    }
   ],
   "source": [
    "cur.execute('''\n",
    "    SELECT posting.title, posting.content, posting.regdate, hashtag.name FROM poshas\n",
    "    INNER JOIN posting ON posting.pk = fk1\n",
    "    INNER JOIN hashtag ON hashtag.pk = fk2\n",
    "''')\n",
    "cur.fetchall()"
   ]
  },
  {
   "cell_type": "code",
   "execution_count": 116,
   "metadata": {},
   "outputs": [
    {
     "data": {
      "text/plain": [
       "[(4,)]"
      ]
     },
     "execution_count": 116,
     "metadata": {},
     "output_type": "execute_result"
    }
   ],
   "source": [
    "pk"
   ]
  },
  {
   "cell_type": "code",
   "execution_count": 199,
   "metadata": {},
   "outputs": [
    {
     "data": {
      "text/plain": [
       "1"
      ]
     },
     "execution_count": 199,
     "metadata": {},
     "output_type": "execute_result"
    }
   ],
   "source": [
    "pid"
   ]
  },
  {
   "cell_type": "code",
   "execution_count": 198,
   "metadata": {},
   "outputs": [
    {
     "data": {
      "text/plain": [
       "[('태그1',), ('태그2',)]"
      ]
     },
     "execution_count": 198,
     "metadata": {},
     "output_type": "execute_result"
    }
   ],
   "source": [
    "# 태그 정보만 필요하다면,\n",
    "cur.execute('''\n",
    "    SELECT hashtag.name\n",
    "    FROM poshas\n",
    "    INNER JOIN posting ON posting.pk = fk1\n",
    "    INNER JOIN hashtag ON hashtag.pk = fk2\n",
    "    WHERE fk1 = ?\n",
    "''', [pid])\n",
    "cur.fetchall()\n",
    "# 1번 포스팅에 해당되는 태그들만 가져올 수 있음. 위에서 WHERE 절만 추가한 것."
   ]
  },
  {
   "cell_type": "code",
   "execution_count": null,
   "metadata": {},
   "outputs": [],
   "source": [
    "# 제목1, 내용1, 태그1, 태그2\n",
    "# -> 제목1-1, 내용1, 태그1, 태그3\n",
    "# 이렇게 바꿔보자!"
   ]
  },
  {
   "cell_type": "code",
   "execution_count": 200,
   "metadata": {},
   "outputs": [
    {
     "data": {
      "text/plain": [
       "<sqlite3.Cursor at 0x7fa5319b83c0>"
      ]
     },
     "execution_count": 200,
     "metadata": {},
     "output_type": "execute_result"
    }
   ],
   "source": [
    "cur.execute('UPDATE posting SET title=?, content=?',\n",
    "            ['제목1-1', '내용1'])"
   ]
  },
  {
   "cell_type": "code",
   "execution_count": 201,
   "metadata": {},
   "outputs": [
    {
     "data": {
      "text/plain": [
       "1"
      ]
     },
     "execution_count": 201,
     "metadata": {},
     "output_type": "execute_result"
    }
   ],
   "source": [
    "cur.rowcount"
   ]
  },
  {
   "cell_type": "code",
   "execution_count": 202,
   "metadata": {},
   "outputs": [
    {
     "data": {
      "text/plain": [
       "([1, 2], [1, 3])"
      ]
     },
     "execution_count": 202,
     "metadata": {},
     "output_type": "execute_result"
    }
   ],
   "source": [
    "hashtag = ['태그1', '태그3']\n",
    "oldtag = list()\n",
    "tagids = list()\n",
    "\n",
    "cur.execute('SELECT fk2 FROM poshas WHERE fk1=?', [pid])\n",
    "for row in cur.fetchall():\n",
    "    oldtag.append(row[0])\n",
    "    # 기존의 태그 목록\n",
    "    \n",
    "for tag in hashtag:\n",
    "    cur.execute('SELECT pk FROM hashtag WHERE name=?', [tag])\n",
    "    # print(cur.fetchone())   --> 없으면 None\n",
    "    tid = cur.fetchone()\n",
    "    if tid is not None:\n",
    "        tagids.append(tid[0])\n",
    "\n",
    "oldtag, tagids"
   ]
  },
  {
   "cell_type": "code",
   "execution_count": 203,
   "metadata": {},
   "outputs": [],
   "source": [
    "for tid in oldtag:\n",
    "    if tid not in tagids:  # 없으면\n",
    "        cur.execute('DELETE FROM poshas WHERE fk1=? AND fk2=?',\n",
    "                    [pid, tid])\n",
    "        \n",
    "        cur.execute('UPDATE hashtag SET count = count - 1 WHERE pk=?',\n",
    "                    [tid])\n",
    "        \n",
    "        "
   ]
  },
  {
   "cell_type": "code",
   "execution_count": 205,
   "metadata": {},
   "outputs": [],
   "source": [
    "for tid in tagids:\n",
    "    if tid not in oldtag:  # 없으면\n",
    "        cur.execute('INSERT INTO poshas VALUES(?,?)',\n",
    "                    [pid, tid])\n",
    "        \n",
    "        cur.execute('UPDATE hashtag SET count = count + 1 WHERE pk=?',\n",
    "                    [tid])\n",
    "        \n",
    "        "
   ]
  },
  {
   "cell_type": "code",
   "execution_count": 206,
   "metadata": {},
   "outputs": [
    {
     "data": {
      "text/plain": [
       "[(1, 1), (1, 3), (1, 3)]"
      ]
     },
     "execution_count": 206,
     "metadata": {},
     "output_type": "execute_result"
    }
   ],
   "source": [
    "cur.execute('SELECT * FROM poshas')\n",
    "cur.fetchall()"
   ]
  },
  {
   "cell_type": "code",
   "execution_count": 207,
   "metadata": {},
   "outputs": [
    {
     "data": {
      "text/plain": [
       "[(1, '태그1', 1), (2, '태그2', 0), (3, '태그3', 2)]"
      ]
     },
     "execution_count": 207,
     "metadata": {},
     "output_type": "execute_result"
    }
   ],
   "source": [
    "cur.execute('SELECT * FROM hashtag')\n",
    "cur.fetchall()"
   ]
  },
  {
   "cell_type": "code",
   "execution_count": 208,
   "metadata": {},
   "outputs": [],
   "source": [
    "con.close()"
   ]
  }
 ],
 "metadata": {
  "kernelspec": {
   "display_name": "base",
   "language": "python",
   "name": "python3"
  },
  "language_info": {
   "codemirror_mode": {
    "name": "ipython",
    "version": 3
   },
   "file_extension": ".py",
   "mimetype": "text/x-python",
   "name": "python",
   "nbconvert_exporter": "python",
   "pygments_lexer": "ipython3",
   "version": "3.10.9"
  },
  "orig_nbformat": 4
 },
 "nbformat": 4,
 "nbformat_minor": 2
}
