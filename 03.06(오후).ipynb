{
 "cells": [
  {
   "attachments": {},
   "cell_type": "markdown",
   "metadata": {},
   "source": [
    "### **함수형 패러다임**"
   ]
  },
  {
   "cell_type": "code",
   "execution_count": null,
   "metadata": {},
   "outputs": [],
   "source": [
    "# tensorflow, numpy, pytorch 모두 다 함수형 패러다임을 사용함\n",
    "# 따라서 함수형 패러다임을 잘 배워야 함"
   ]
  },
  {
   "cell_type": "code",
   "execution_count": 15,
   "metadata": {},
   "outputs": [],
   "source": [
    "# 함수형 기법 또는 함수형 패러다임은,\n",
    "# \"수학 함수\"를 가지고 프로그래밍 하는 것. 수학 함수의 이론적 근거는 수학이 됨.\n",
    "# 함수형 프로그래밍의 특징은, 함수인데 수학함수. 그렇기 때문에 형식적 증명(수학의 특징)이 가능한 방식임.\n",
    "# 그래서 딥러닝 등 이론과 관련된 프로그래밍은 함수형 프로그래밍을 씀"
   ]
  },
  {
   "cell_type": "code",
   "execution_count": null,
   "metadata": {},
   "outputs": [],
   "source": [
    "# Lisp. 최초의 인공지능 언어"
   ]
  },
  {
   "attachments": {},
   "cell_type": "markdown",
   "metadata": {},
   "source": [
    "#### 함수형 패러다임의 대략적 특징"
   ]
  },
  {
   "cell_type": "code",
   "execution_count": 18,
   "metadata": {},
   "outputs": [],
   "source": [
    "# 파이썬에서는 함수형 패러다임을 지원함\n",
    "#! 첫번째 함수형 프로그래밍의 특징은, 파이썬에서 함수는 퍼스트 클래트. 즉 함수는 값으로 활용될 수 있다는 것.\n",
    "# 값을 집어넣을 수 있는 곳에 함수가 들어갈 수 있다는 것은 우변에도 함수가 들어갈 수 있다는 것\n",
    "# 즉 함수의 인자가 될 수 있고 함수의 리턴값이 될 수 있음. -> 고차함수, #! higher order(함수를 인자로 가질 수 있는 함수)"
   ]
  },
  {
   "cell_type": "code",
   "execution_count": null,
   "metadata": {},
   "outputs": [],
   "source": [
    "# 다시 higher order 란, 함수를 인자로 받을 수 있고, 함수를 리턴값으로 둘 수 있음 -> map(lambda) 가 예시\n",
    "# 자바는 세컨드 클래스\n",
    "# 정리하면, #! 파이썬에서 함수는 first class, higher order 함수이다."
   ]
  },
  {
   "cell_type": "code",
   "execution_count": 16,
   "metadata": {},
   "outputs": [],
   "source": [
    "# 우변에 함수가 올 수 있음.\n",
    "a = print"
   ]
  },
  {
   "cell_type": "code",
   "execution_count": 17,
   "metadata": {},
   "outputs": [
    {
     "name": "stdout",
     "output_type": "stream",
     "text": [
      "문근영\n"
     ]
    }
   ],
   "source": [
    "a('문근영')"
   ]
  },
  {
   "cell_type": "code",
   "execution_count": 19,
   "metadata": {},
   "outputs": [],
   "source": [
    "# 함수형 프로그래밍 두번째 특징\n",
    "#! 프로그래밍을 recursion 방식으로 한다.\n",
    "# 피보나치 수열 등을 풀 때 recursion(재귀)을 사용한다.\n",
    "# 그러나, 파이썬에서는 tail recursion elimination(꼬리재귀)을 지원하지 않음.\n",
    "# 그래서 파이썬에서 recursion을 사용해서 문제를 풀어야 할 때는, DP로 풀어야 함(dynamic programming) -> 이는 코딩테스트를 잘 하기 위해서 필수적이다!\n",
    "# 즉, 보통 함수형 패러다임에서는 recursion을 많이 쓰지만, 파이썬에서는 잘 안 씀\n",
    "# (tail recursion elimination 꼬리재귀 기능)"
   ]
  },
  {
   "cell_type": "code",
   "execution_count": 20,
   "metadata": {},
   "outputs": [],
   "source": [
    "# 함수형 프로그래밍 세번째 특징\n",
    "#! 리스트 프로세싱.\n",
    "# 리스트 - 여러 개의 데이터 구조를 가질 수 있는 것(unhashable) -> 또한 mutable\n",
    "# 함수는 반복처리에 용이함. 그래서 파이썬은 여러 개의 데이터를 처리하는데 최적화 되어 있음\n",
    "# 여러개의 데이터를 처리한다. comprehension도 함수형 패러다임 언어에서 가져온 것"
   ]
  },
  {
   "cell_type": "code",
   "execution_count": 21,
   "metadata": {},
   "outputs": [],
   "source": [
    "# 함수형 프로그래밍 네번째 특징\n",
    "#! 사이드 이팩트(side effect)\n",
    "# 수학함수란?"
   ]
  },
  {
   "cell_type": "code",
   "execution_count": 22,
   "metadata": {},
   "outputs": [],
   "source": [
    "def x():\n",
    "    return 1"
   ]
  },
  {
   "cell_type": "code",
   "execution_count": null,
   "metadata": {},
   "outputs": [],
   "source": [
    "# 위는 수학적 함수가 아니다. 수학적 함수는 특정한 값이 있어야 하기 때문"
   ]
  },
  {
   "cell_type": "code",
   "execution_count": 23,
   "metadata": {},
   "outputs": [],
   "source": [
    "def x(a):\n",
    "    print(a)"
   ]
  },
  {
   "cell_type": "code",
   "execution_count": null,
   "metadata": {},
   "outputs": [],
   "source": [
    "# 위는 수학적 함수가 아니다. 리턴이 하나의 값에 하나로 떨어져야 하기 떄문"
   ]
  },
  {
   "cell_type": "code",
   "execution_count": null,
   "metadata": {},
   "outputs": [],
   "source": [
    "# 그렇다면 함수형 프로그램은 완전 수학적 함수로 이루어짐을 알 수 있다.\n",
    "# 그 이외의 값을 Side Effect, 즉 부작용(부산물)이라고 함.\n",
    "# 함수형 패러다임은 코드가 명확함. 부산물들을 없애기 위해서"
   ]
  },
  {
   "cell_type": "code",
   "execution_count": null,
   "metadata": {},
   "outputs": [],
   "source": [
    "# 수학의 특징은 간결하다. 군더더기 없다.\n",
    "# 함수형 프로그래밍의 다섯번째 특징\n",
    "# 그래서 프로그램상에서 군더더기 없다는 것은 -> #! expression 을 사용해서 프로그래밍을 함.\n",
    "# 즉 \"문 보다 식\"을 더 좋아함. 그래서 코드의 압축성이 있음.\n",
    "# 코드가 이해하기 쉬울 수도 어려울 수도 있다는 것."
   ]
  },
  {
   "cell_type": "code",
   "execution_count": null,
   "metadata": {},
   "outputs": [],
   "source": [
    "# 함수형 프로그래밍의 여섯번째 특징\n",
    "#! 함수는 '어떻게' 보다 '무엇을' 에 집중한다."
   ]
  },
  {
   "cell_type": "code",
   "execution_count": null,
   "metadata": {},
   "outputs": [],
   "source": [
    "# 함수형 프로그래밍의 일곱번째 특징\n",
    "#! 위에서 보았듯, 파이썬에서 함수는 higher order function 이다.\n",
    "# 즉 파이썬에서 함수는 higher order 함수이고, first class 이다."
   ]
  },
  {
   "cell_type": "code",
   "execution_count": 24,
   "metadata": {},
   "outputs": [],
   "source": [
    "# 결론!\n",
    "#! 우리는 1차적으로 함수형 패러다임을 활용하는데 집중하고 실력이 늘어나면 이해하는데 집중할 것. 사실 활용만 해도 충분함."
   ]
  },
  {
   "attachments": {},
   "cell_type": "markdown",
   "metadata": {},
   "source": [
    "### 책의 **흐름**에 주목하며 개념을 전개해보자"
   ]
  },
  {
   "attachments": {},
   "cell_type": "markdown",
   "metadata": {},
   "source": [
    "#### **Encapsulation**\n",
    "\n",
    "-> 파이썬 함수가 '어떻게' 보다 '무엇을'에 집중함을 보여주는 개념"
   ]
  },
  {
   "cell_type": "code",
   "execution_count": null,
   "metadata": {},
   "outputs": [],
   "source": [
    "# 금요일 복습 -> 함수 사용하기 전에 '선언'을 함\n",
    "# 함수 만드는 것 -> 계속 사용하기 위해서 만드는 것.\n",
    "# 여러 줄을 하나로 묶음.\n",
    "# 이름이 제일 중요함 -> #! Signiture 가 제일 중요.\n",
    "# 함수를 만든다 -> 이것을 감싼다고 해서 -> 캡슐화 라고 한다."
   ]
  },
  {
   "cell_type": "code",
   "execution_count": null,
   "metadata": {},
   "outputs": [],
   "source": [
    "# 캡슐화는 객체지향에서 배웠을 것\n",
    "# not local, global -> 이 개념에서 캡슐화가 나옴.\n",
    "# 파이썬 캡슐화는 상당히 어려움"
   ]
  },
  {
   "cell_type": "code",
   "execution_count": null,
   "metadata": {},
   "outputs": [],
   "source": [
    "# 함수를 만들어 놓고, 파라미터 / 아규먼트 를 잘 이용하면 변형판 사용이나 수정도 수월함!\n",
    "# 책은 함수는 좋은 것이니 encapsulation 을 잘 해보자고 권유하는 것."
   ]
  },
  {
   "cell_type": "code",
   "execution_count": 77,
   "metadata": {},
   "outputs": [
    {
     "ename": "NameError",
     "evalue": "name 'yyyyy' is not defined",
     "output_type": "error",
     "traceback": [
      "\u001b[0;31m---------------------------------------------------------------------------\u001b[0m",
      "\u001b[0;31mNameError\u001b[0m                                 Traceback (most recent call last)",
      "Cell \u001b[0;32mIn[77], line 5\u001b[0m\n\u001b[1;32m      3\u001b[0m     \u001b[39mreturn\u001b[39;00m b\n\u001b[1;32m      4\u001b[0m \u001b[39m# 저 식에서 yyyyy는 무엇일까?\u001b[39;00m\n\u001b[0;32m----> 5\u001b[0m yyyyy\n",
      "\u001b[0;31mNameError\u001b[0m: name 'yyyyy' is not defined"
     ]
    }
   ],
   "source": [
    "def y(b):\n",
    "    yyyyy = 1\n",
    "    return b\n",
    "# 저 식에서 yyyyy는 무엇일까?\n",
    "yyyyy"
   ]
  },
  {
   "cell_type": "code",
   "execution_count": null,
   "metadata": {},
   "outputs": [],
   "source": [
    "# 지정되어 있지 않으면 NameError 가 나옴.\n",
    "# 즉, 함수 안에 묶여 있으므로, 밖에서 안으로 접근 불가함"
   ]
  },
  {
   "cell_type": "code",
   "execution_count": 76,
   "metadata": {},
   "outputs": [
    {
     "data": {
      "text/plain": [
       "3"
      ]
     },
     "execution_count": 76,
     "metadata": {},
     "output_type": "execute_result"
    }
   ],
   "source": [
    "def x(a):\n",
    "    print(a)\n",
    "xxxxx = 1\n",
    "y(3)"
   ]
  },
  {
   "cell_type": "code",
   "execution_count": null,
   "metadata": {},
   "outputs": [],
   "source": [
    "# 그러나 안에 있는 애들은 밖에 것을 접근할 수 있음.\n",
    "#! 함수 내에서 선언한 지역변수(L)가 없으면 그 함수를 내포한 함수에 선언된 변수(E)가 있는지 보고, 그래도 없으면 전역변수(G)로 접근.\n",
    "# 그것을 LEGB 룰 이라고 함.\n",
    "# 묶어놨기 때문에 어떻게 접근하는지에 성격이 달라짐"
   ]
  },
  {
   "cell_type": "code",
   "execution_count": null,
   "metadata": {},
   "outputs": [],
   "source": [
    "# 파이썬 변수의 유효 범위 => scope"
   ]
  },
  {
   "cell_type": "code",
   "execution_count": null,
   "metadata": {},
   "outputs": [],
   "source": [
    "# LEGB -> 파이썬에서 이름 공간 찾는 규칙\n",
    "# Local\n",
    "# Enclosing\n",
    "# Global\n",
    "# Built-in\n",
    "# 묶여 있는 애는 밖에 접근 가능하지만 밖에서는 안으로 접근 불가\n",
    "# 그냥 묶어서 그 이름 하나로 사용할 수 있다 말고도 부가적인 기능이 추가됨"
   ]
  },
  {
   "attachments": {},
   "cell_type": "markdown",
   "metadata": {},
   "source": [
    "#### **Comprehesion**"
   ]
  },
  {
   "cell_type": "code",
   "execution_count": null,
   "metadata": {},
   "outputs": [],
   "source": [
    "# comprehension 은 간결함. 하나의 식, expression 이다.\n",
    "# 데이터 한 개보다 여러 개 쓰는게 함수형 패러다임의 기본"
   ]
  },
  {
   "cell_type": "code",
   "execution_count": 30,
   "metadata": {},
   "outputs": [],
   "source": [
    "a = [1, 2, 3, 4] # 이런 게 함수형 패러다임에서 기본적 데이터 -> 이런 데이터 생성을 많이 할 것"
   ]
  },
  {
   "cell_type": "code",
   "execution_count": 32,
   "metadata": {},
   "outputs": [
    {
     "data": {
      "text/plain": [
       "[0, 1, 2, 3, 4, 5, 6, 7, 8, 9]"
      ]
     },
     "execution_count": 32,
     "metadata": {},
     "output_type": "execute_result"
    }
   ],
   "source": [
    "# 그러나 저렇게 하나하나 입력하기에는 손가락이 아프니 로직을 활용\n",
    "a = [x for x in range(10)]\n",
    "# in 다음에 있는 것은 iterable\n",
    "a\n",
    "#! 함수형 패러다임에서 데이터를 생성하거나 변화시킬 때 기본 구문이 \"comprehension\" 이라는 것"
   ]
  },
  {
   "cell_type": "code",
   "execution_count": 33,
   "metadata": {},
   "outputs": [],
   "source": [
    "# 변형판은 뒤에 if 를 붙힐 수 있음\n",
    "aa = [x for x in range(10) if x%2==0]\n",
    "aa"
   ]
  },
  {
   "cell_type": "code",
   "execution_count": 36,
   "metadata": {},
   "outputs": [
    {
     "data": {
      "text/plain": [
       "[0, 2, 4, 6, 8, 10, 12, 14, 16, 18]"
      ]
     },
     "execution_count": 36,
     "metadata": {},
     "output_type": "execute_result"
    }
   ],
   "source": [
    "# 맨 앞의 x는 다양한 형태기 가능함\n",
    "aaa = [2*x for x in range(10)]\n",
    "aaa"
   ]
  },
  {
   "cell_type": "code",
   "execution_count": 37,
   "metadata": {},
   "outputs": [
    {
     "data": {
      "text/plain": [
       "3"
      ]
     },
     "execution_count": 37,
     "metadata": {},
     "output_type": "execute_result"
    }
   ],
   "source": [
    "# 파이썬에서 if 도 식이 있음 -> 바로 '조건식'\n",
    "b = 1\n",
    "3 if b>0 else 4 # 이것이 조건식임. -> 하나의 값으로 떨어지기 때문에\n",
    "# 즉 if 구문도 식으로 사용 가능하다는 것.\n",
    "# 함수형 패러다임에서 유리함"
   ]
  },
  {
   "cell_type": "code",
   "execution_count": 39,
   "metadata": {},
   "outputs": [
    {
     "data": {
      "text/plain": [
       "[0, '', 2, '', 4, '', 6, '', 8, '']"
      ]
     },
     "execution_count": 39,
     "metadata": {},
     "output_type": "execute_result"
    }
   ],
   "source": [
    "# if 위치 주목 -> 앞에 위치함.\n",
    "aab = [x if x%2==0 else '' for x in range(10)]\n",
    "aab\n",
    "# else도 있기 때문에 ''이 출력에 찍힘"
   ]
  },
  {
   "cell_type": "code",
   "execution_count": 40,
   "metadata": {},
   "outputs": [
    {
     "data": {
      "text/plain": [
       "[(0, 6),\n",
       " (0, 7),\n",
       " (0, 8),\n",
       " (0, 9),\n",
       " (1, 6),\n",
       " (1, 7),\n",
       " (1, 8),\n",
       " (1, 9),\n",
       " (2, 6),\n",
       " (2, 7),\n",
       " (2, 8),\n",
       " (2, 9),\n",
       " (3, 6),\n",
       " (3, 7),\n",
       " (3, 8),\n",
       " (3, 9),\n",
       " (4, 6),\n",
       " (4, 7),\n",
       " (4, 8),\n",
       " (4, 9)]"
      ]
     },
     "execution_count": 40,
     "metadata": {},
     "output_type": "execute_result"
    }
   ],
   "source": [
    "# 두 개 중첩도 가능\n",
    "aae = [(x,y) for x in range(5) for y in range(6,10)]\n",
    "aae"
   ]
  },
  {
   "cell_type": "code",
   "execution_count": null,
   "metadata": {},
   "outputs": [],
   "source": [
    "# 함수형 패러다임에 제일 먼저 배우는 구문 중 하나가 바로 이 comprehension\n",
    "# 왜 이걸 써야 하는가?"
   ]
  },
  {
   "cell_type": "code",
   "execution_count": 78,
   "metadata": {},
   "outputs": [],
   "source": [
    "# comprehension 구문의 좋은 점\n",
    "#! 내부적인 테크닉\n",
    "# 성능 측정을 해보자"
   ]
  },
  {
   "cell_type": "code",
   "execution_count": 79,
   "metadata": {},
   "outputs": [
    {
     "name": "stdout",
     "output_type": "stream",
     "text": [
      "559 ms ± 14.6 ms per loop (mean ± std. dev. of 7 runs, 1 loop each)\n"
     ]
    }
   ],
   "source": [
    "%%timeit\n",
    "temp = []\n",
    "for i in range(10000000):\n",
    "    temp.append(i)\n",
    "temp"
   ]
  },
  {
   "cell_type": "code",
   "execution_count": 80,
   "metadata": {},
   "outputs": [
    {
     "name": "stdout",
     "output_type": "stream",
     "text": [
      "420 ms ± 10.2 ms per loop (mean ± std. dev. of 7 runs, 1 loop each)\n"
     ]
    }
   ],
   "source": [
    "%timeit [i for i in range(10000000)]"
   ]
  },
  {
   "cell_type": "code",
   "execution_count": null,
   "metadata": {},
   "outputs": [],
   "source": [
    "# 속도가 빠름. 그러나 단점도 있음\n",
    "#! comprehension구문은 메모리에 데이터를 한번에 올려버림.\n",
    "# 그것은 딥러닝에서 사용하는 이미지나 사운드같은 큰 데이터셋을 comprehension 구문을 사용하면 메모리가 터져버림.\n",
    "# 따라서 big한 데이터 셋에서 딥러닝을 잘 보지 못할 것.\n",
    "# 속도는 굉장히 빠르지만 메모리 용량적 측면에서 문제가 있음.\n",
    "# 딥러닝에서는 map 사용 -> 관점에 따라 기능을 쓰라 쓰지 말라가 있음."
   ]
  },
  {
   "cell_type": "code",
   "execution_count": null,
   "metadata": {},
   "outputs": [],
   "source": [
    "# 정리하면, comprehesion 은 메모리에 한번에 처리하기 때문에 이미지 같은 큰 데이터를 돌릴 때는 터져버림.\n",
    "# 따라서 기본적으로 메모리가 커야 함 -> 돈이 장땡이다 :)\n",
    "# 파이썬 코딩의 기술(책)"
   ]
  },
  {
   "cell_type": "code",
   "execution_count": null,
   "metadata": {},
   "outputs": [],
   "source": [
    "# 여러 데이터를 생성하거나 변화시킨다고 하면 제일 먼저 옵션 1이 comprehension\n",
    "# comprehension 종류는 3가지\n",
    "# list\n",
    "# set\n",
    "# dict\n",
    "# list, set, dict의 공통점은 mutable data set(수정가능)이다. \n",
    "# 이것과 상반되는 immutable인 tuple은 어떤 애를 뜻하나? -> 수정 불가. 바뀐다는 것은 메모리 주소가 바뀐다는 것"
   ]
  },
  {
   "cell_type": "code",
   "execution_count": 83,
   "metadata": {},
   "outputs": [
    {
     "data": {
      "text/plain": [
       "{1, 2, 3, 4, 8}"
      ]
     },
     "execution_count": 83,
     "metadata": {},
     "output_type": "execute_result"
    }
   ],
   "source": [
    "a = {1, 2, 3, 4, 4, 1, 2}\n",
    "a.add(8) # mutable\n",
    "a"
   ]
  },
  {
   "cell_type": "code",
   "execution_count": 84,
   "metadata": {},
   "outputs": [
    {
     "data": {
      "text/plain": [
       "<generator object <genexpr> at 0x7fb07df3e180>"
      ]
     },
     "execution_count": 84,
     "metadata": {},
     "output_type": "execute_result"
    }
   ],
   "source": [
    "b = (x for x in range(10))\n",
    "b\n",
    "# comprehension 과 동일한 구문인데 tuple로 감싸줌\n",
    "# 이름이 generator가 됨. generator는 중요한 개념.\n",
    "# 딥러닝에서는 익숙함. 무엇인가 생성해주는 애.\n",
    "# expr은 expression의 줄임말. -> 함수형 패러다임 애들은 expression을 좋아함.\n",
    "#! generator와 iterator는 사촌지간. 하는 행동은 똑같은데, 만드는 방법이 다름."
   ]
  },
  {
   "cell_type": "code",
   "execution_count": 85,
   "metadata": {},
   "outputs": [
    {
     "data": {
      "text/plain": [
       "<list_iterator at 0x7fb0380625f0>"
      ]
     },
     "execution_count": 85,
     "metadata": {},
     "output_type": "execute_result"
    }
   ],
   "source": [
    "# iterable\n",
    "iter([1,2,3,4])\n",
    "# 이렇게 하면 iterator가 되고 next 쓸 수 있음"
   ]
  },
  {
   "cell_type": "code",
   "execution_count": 86,
   "metadata": {},
   "outputs": [
    {
     "data": {
      "text/plain": [
       "['__class__',\n",
       " '__del__',\n",
       " '__delattr__',\n",
       " '__dir__',\n",
       " '__doc__',\n",
       " '__eq__',\n",
       " '__format__',\n",
       " '__ge__',\n",
       " '__getattribute__',\n",
       " '__gt__',\n",
       " '__hash__',\n",
       " '__init__',\n",
       " '__init_subclass__',\n",
       " '__iter__',\n",
       " '__le__',\n",
       " '__lt__',\n",
       " '__name__',\n",
       " '__ne__',\n",
       " '__new__',\n",
       " '__next__',\n",
       " '__qualname__',\n",
       " '__reduce__',\n",
       " '__reduce_ex__',\n",
       " '__repr__',\n",
       " '__setattr__',\n",
       " '__sizeof__',\n",
       " '__str__',\n",
       " '__subclasshook__',\n",
       " 'close',\n",
       " 'gi_code',\n",
       " 'gi_frame',\n",
       " 'gi_running',\n",
       " 'gi_yieldfrom',\n",
       " 'send',\n",
       " 'throw']"
      ]
     },
     "execution_count": 86,
     "metadata": {},
     "output_type": "execute_result"
    }
   ],
   "source": [
    "dir(b)\n",
    "# generator도 next가 있음"
   ]
  },
  {
   "cell_type": "code",
   "execution_count": 51,
   "metadata": {},
   "outputs": [
    {
     "data": {
      "text/plain": [
       "0"
      ]
     },
     "execution_count": 51,
     "metadata": {},
     "output_type": "execute_result"
    }
   ],
   "source": [
    "# 파이썬의 함수형 패러다임에서는 'mutable'이 절대적임. -> 다른 언어는 mutable이 스스로 바뀌기 때문에 그렇지 않음.\n",
    "#! generator는 iterator와 마찬가지로 한번에 메모리에 올리지 않고 next를 부를 때에만 데이터에 올림.\n",
    "next(b)"
   ]
  },
  {
   "cell_type": "code",
   "execution_count": null,
   "metadata": {},
   "outputs": [],
   "source": [
    "# next 할 때마다 데이터에 올리기 때문에 딥러닝에 많이 씀.\n",
    "# comprehension은 인공지능 쓰는 사람은 잘 안씀. 그러나 iterator, generator는 굉장히 많이 씀.\n",
    "# iterator는 iter()로 만든다.\n",
    "# generator는 만드는 방식이 2가지.\n",
    "# 첫 번째가 comprehension 문법인데 tuple로 사용하는 것.\n",
    "# 두 번째가 yield 를 써서 만드는 방식이 있음."
   ]
  },
  {
   "cell_type": "code",
   "execution_count": null,
   "metadata": {},
   "outputs": [],
   "source": [
    "# next(iter()) -> 데이터가 크니까 한번에 올리지 않고 하나씩 부르는 것(iterator)"
   ]
  },
  {
   "cell_type": "code",
   "execution_count": 87,
   "metadata": {},
   "outputs": [
    {
     "ename": "TypeError",
     "evalue": "'generator' object is not subscriptable",
     "output_type": "error",
     "traceback": [
      "\u001b[0;31m---------------------------------------------------------------------------\u001b[0m",
      "\u001b[0;31mTypeError\u001b[0m                                 Traceback (most recent call last)",
      "Cell \u001b[0;32mIn[87], line 2\u001b[0m\n\u001b[1;32m      1\u001b[0m b \u001b[39m=\u001b[39m (x \u001b[39mfor\u001b[39;00m x \u001b[39min\u001b[39;00m \u001b[39mrange\u001b[39m(\u001b[39m10\u001b[39m))  \u001b[39m# 이것은 내용적으로 뭐가 뭔지 모름. generator이기 때문. next 하기 전에는 메모리에 안 올리기 때문.\u001b[39;00m\n\u001b[0;32m----> 2\u001b[0m b[\u001b[39m0\u001b[39;49m]\n",
      "\u001b[0;31mTypeError\u001b[0m: 'generator' object is not subscriptable"
     ]
    }
   ],
   "source": [
    "b = (x for x in range(10))  # 이것은 내용적으로 뭐가 뭔지 모름. generator이기 때문. next 하기 전에는 메모리에 안 올리기 때문.\n",
    "b[0]\n",
    "# indexing 과 slicing 이 안됨. 내가 있는지 없는지 모르기 때문에.\n",
    "# 프로그래밍 쪽에서는 부를 때 전까지는, 시키기 전까지는 하지 않는 것을 -> 'lazy 테크닉'이라고 함"
   ]
  },
  {
   "cell_type": "code",
   "execution_count": 88,
   "metadata": {},
   "outputs": [
    {
     "data": {
      "text/plain": [
       "0"
      ]
     },
     "execution_count": 88,
     "metadata": {},
     "output_type": "execute_result"
    }
   ],
   "source": [
    "next(b)"
   ]
  },
  {
   "cell_type": "code",
   "execution_count": null,
   "metadata": {},
   "outputs": [],
   "source": [
    "# 딥러닝 할 때 작은 데이터를 쓸 수도 있는데, 작은 데이터를 쓸 때 인덱싱, 슬라이싱을 못 쓰는 것은 불편할 수 있음.\n",
    "# 딥러닝이라고 무조건 데이터 많이 필요한 것은 아님."
   ]
  },
  {
   "cell_type": "code",
   "execution_count": 54,
   "metadata": {},
   "outputs": [],
   "source": [
    "# comprehension <-> iterator, generator 는 서로 대척점에 있음\n",
    "# '한번에 메모리에 올리냐 마냐' 로 판단 가능"
   ]
  },
  {
   "cell_type": "code",
   "execution_count": 89,
   "metadata": {},
   "outputs": [],
   "source": [
    "# generator 만드는 방법 두 번째 -> yield 로 만드는 방법.\n",
    "def x():\n",
    "    yield 1\n",
    "    yield 2\n",
    "    yield 3"
   ]
  },
  {
   "cell_type": "code",
   "execution_count": 90,
   "metadata": {},
   "outputs": [
    {
     "data": {
      "text/plain": [
       "<generator object x at 0x7fb07df4bca0>"
      ]
     },
     "execution_count": 90,
     "metadata": {},
     "output_type": "execute_result"
    }
   ],
   "source": [
    "a = x()\n",
    "a\n",
    "# yield가 함수 구문 안에 들어있으니 generator\n",
    "# iterator는 iterable이라는 조건과 iter() 내지는 반복문 in 뒤.\n",
    "# generator는 yield 라는 조건 -> 훨씬 더 복잡한 일들을 할 수 있음."
   ]
  },
  {
   "cell_type": "code",
   "execution_count": 60,
   "metadata": {},
   "outputs": [
    {
     "ename": "StopIteration",
     "evalue": "",
     "output_type": "error",
     "traceback": [
      "\u001b[0;31m---------------------------------------------------------------------------\u001b[0m",
      "\u001b[0;31mStopIteration\u001b[0m                             Traceback (most recent call last)",
      "Cell \u001b[0;32mIn[60], line 1\u001b[0m\n\u001b[0;32m----> 1\u001b[0m \u001b[39mnext\u001b[39;49m(a)\n",
      "\u001b[0;31mStopIteration\u001b[0m: "
     ]
    }
   ],
   "source": [
    "next(a) # iterator 처럼 똑같음 -> 다 돌면 stopiteration 에러 뜸.\n",
    "# 고수들은 genertor 에 yield 를 잘 사용함"
   ]
  },
  {
   "cell_type": "code",
   "execution_count": null,
   "metadata": {},
   "outputs": [],
   "source": [
    "# yield 와 from\n",
    "# else 용법 세가지 -> 반복문(for), 조건문(if), 예외처리(try, execpt)\n",
    "# 여기에도 from 붙힐 수 있는데, from 도 3가지 용법"
   ]
  },
  {
   "cell_type": "code",
   "execution_count": null,
   "metadata": {},
   "outputs": [],
   "source": [
    "def x():\n",
    "    yield from [1,2,3]\n",
    "# yield 와 from이 가지는 글씨체는 help('')에서 사용이 가능하다.\n",
    "# from 다음에 iterable 들어감"
   ]
  },
  {
   "cell_type": "code",
   "execution_count": 61,
   "metadata": {},
   "outputs": [
    {
     "name": "stdout",
     "output_type": "stream",
     "text": [
      "The \"import\" statement\n",
      "**********************\n",
      "\n",
      "   import_stmt     ::= \"import\" module [\"as\" identifier] (\",\" module [\"as\" identifier])*\n",
      "                   | \"from\" relative_module \"import\" identifier [\"as\" identifier]\n",
      "                   (\",\" identifier [\"as\" identifier])*\n",
      "                   | \"from\" relative_module \"import\" \"(\" identifier [\"as\" identifier]\n",
      "                   (\",\" identifier [\"as\" identifier])* [\",\"] \")\"\n",
      "                   | \"from\" relative_module \"import\" \"*\"\n",
      "   module          ::= (identifier \".\")* identifier\n",
      "   relative_module ::= \".\"* module | \".\"+\n",
      "\n",
      "The basic import statement (no \"from\" clause) is executed in two\n",
      "steps:\n",
      "\n",
      "1. find a module, loading and initializing it if necessary\n",
      "\n",
      "2. define a name or names in the local namespace for the scope where\n",
      "   the \"import\" statement occurs.\n",
      "\n",
      "When the statement contains multiple clauses (separated by commas) the\n",
      "two steps are carried out separately for each clause, just as though\n",
      "the clauses had been separated out into individual import statements.\n",
      "\n",
      "The details of the first step, finding and loading modules, are\n",
      "described in greater detail in the section on the import system, which\n",
      "also describes the various types of packages and modules that can be\n",
      "imported, as well as all the hooks that can be used to customize the\n",
      "import system. Note that failures in this step may indicate either\n",
      "that the module could not be located, *or* that an error occurred\n",
      "while initializing the module, which includes execution of the\n",
      "module’s code.\n",
      "\n",
      "If the requested module is retrieved successfully, it will be made\n",
      "available in the local namespace in one of three ways:\n",
      "\n",
      "* If the module name is followed by \"as\", then the name following \"as\"\n",
      "  is bound directly to the imported module.\n",
      "\n",
      "* If no other name is specified, and the module being imported is a\n",
      "  top level module, the module’s name is bound in the local namespace\n",
      "  as a reference to the imported module\n",
      "\n",
      "* If the module being imported is *not* a top level module, then the\n",
      "  name of the top level package that contains the module is bound in\n",
      "  the local namespace as a reference to the top level package. The\n",
      "  imported module must be accessed using its full qualified name\n",
      "  rather than directly\n",
      "\n",
      "The \"from\" form uses a slightly more complex process:\n",
      "\n",
      "1. find the module specified in the \"from\" clause, loading and\n",
      "   initializing it if necessary;\n",
      "\n",
      "2. for each of the identifiers specified in the \"import\" clauses:\n",
      "\n",
      "   1. check if the imported module has an attribute by that name\n",
      "\n",
      "   2. if not, attempt to import a submodule with that name and then\n",
      "      check the imported module again for that attribute\n",
      "\n",
      "   3. if the attribute is not found, \"ImportError\" is raised.\n",
      "\n",
      "   4. otherwise, a reference to that value is stored in the local\n",
      "      namespace, using the name in the \"as\" clause if it is present,\n",
      "      otherwise using the attribute name\n",
      "\n",
      "Examples:\n",
      "\n",
      "   import foo                 # foo imported and bound locally\n",
      "   import foo.bar.baz         # foo, foo.bar, and foo.bar.baz imported, foo bound locally\n",
      "   import foo.bar.baz as fbb  # foo, foo.bar, and foo.bar.baz imported, foo.bar.baz bound as fbb\n",
      "   from foo.bar import baz    # foo, foo.bar, and foo.bar.baz imported, foo.bar.baz bound as baz\n",
      "   from foo import attr       # foo imported and foo.attr bound as attr\n",
      "\n",
      "If the list of identifiers is replaced by a star (\"'*'\"), all public\n",
      "names defined in the module are bound in the local namespace for the\n",
      "scope where the \"import\" statement occurs.\n",
      "\n",
      "The *public names* defined by a module are determined by checking the\n",
      "module’s namespace for a variable named \"__all__\"; if defined, it must\n",
      "be a sequence of strings which are names defined or imported by that\n",
      "module.  The names given in \"__all__\" are all considered public and\n",
      "are required to exist.  If \"__all__\" is not defined, the set of public\n",
      "names includes all names found in the module’s namespace which do not\n",
      "begin with an underscore character (\"'_'\").  \"__all__\" should contain\n",
      "the entire public API. It is intended to avoid accidentally exporting\n",
      "items that are not part of the API (such as library modules which were\n",
      "imported and used within the module).\n",
      "\n",
      "The wild card form of import — \"from module import *\" — is only\n",
      "allowed at the module level.  Attempting to use it in class or\n",
      "function definitions will raise a \"SyntaxError\".\n",
      "\n",
      "When specifying what module to import you do not have to specify the\n",
      "absolute name of the module. When a module or package is contained\n",
      "within another package it is possible to make a relative import within\n",
      "the same top package without having to mention the package name. By\n",
      "using leading dots in the specified module or package after \"from\" you\n",
      "can specify how high to traverse up the current package hierarchy\n",
      "without specifying exact names. One leading dot means the current\n",
      "package where the module making the import exists. Two dots means up\n",
      "one package level. Three dots is up two levels, etc. So if you execute\n",
      "\"from . import mod\" from a module in the \"pkg\" package then you will\n",
      "end up importing \"pkg.mod\". If you execute \"from ..subpkg2 import mod\"\n",
      "from within \"pkg.subpkg1\" you will import \"pkg.subpkg2.mod\". The\n",
      "specification for relative imports is contained in the Package\n",
      "Relative Imports section.\n",
      "\n",
      "\"importlib.import_module()\" is provided to support applications that\n",
      "determine dynamically the modules to be loaded.\n",
      "\n",
      "Raises an auditing event \"import\" with arguments \"module\", \"filename\",\n",
      "\"sys.path\", \"sys.meta_path\", \"sys.path_hooks\".\n",
      "\n",
      "\n",
      "Future statements\n",
      "=================\n",
      "\n",
      "A *future statement* is a directive to the compiler that a particular\n",
      "module should be compiled using syntax or semantics that will be\n",
      "available in a specified future release of Python where the feature\n",
      "becomes standard.\n",
      "\n",
      "The future statement is intended to ease migration to future versions\n",
      "of Python that introduce incompatible changes to the language.  It\n",
      "allows use of the new features on a per-module basis before the\n",
      "release in which the feature becomes standard.\n",
      "\n",
      "   future_stmt ::= \"from\" \"__future__\" \"import\" feature [\"as\" identifier]\n",
      "                   (\",\" feature [\"as\" identifier])*\n",
      "                   | \"from\" \"__future__\" \"import\" \"(\" feature [\"as\" identifier]\n",
      "                   (\",\" feature [\"as\" identifier])* [\",\"] \")\"\n",
      "   feature     ::= identifier\n",
      "\n",
      "A future statement must appear near the top of the module.  The only\n",
      "lines that can appear before a future statement are:\n",
      "\n",
      "* the module docstring (if any),\n",
      "\n",
      "* comments,\n",
      "\n",
      "* blank lines, and\n",
      "\n",
      "* other future statements.\n",
      "\n",
      "The only feature that requires using the future statement is\n",
      "\"annotations\" (see **PEP 563**).\n",
      "\n",
      "All historical features enabled by the future statement are still\n",
      "recognized by Python 3.  The list includes \"absolute_import\",\n",
      "\"division\", \"generators\", \"generator_stop\", \"unicode_literals\",\n",
      "\"print_function\", \"nested_scopes\" and \"with_statement\".  They are all\n",
      "redundant because they are always enabled, and only kept for backwards\n",
      "compatibility.\n",
      "\n",
      "A future statement is recognized and treated specially at compile\n",
      "time: Changes to the semantics of core constructs are often\n",
      "implemented by generating different code.  It may even be the case\n",
      "that a new feature introduces new incompatible syntax (such as a new\n",
      "reserved word), in which case the compiler may need to parse the\n",
      "module differently.  Such decisions cannot be pushed off until\n",
      "runtime.\n",
      "\n",
      "For any given release, the compiler knows which feature names have\n",
      "been defined, and raises a compile-time error if a future statement\n",
      "contains a feature not known to it.\n",
      "\n",
      "The direct runtime semantics are the same as for any import statement:\n",
      "there is a standard module \"__future__\", described later, and it will\n",
      "be imported in the usual way at the time the future statement is\n",
      "executed.\n",
      "\n",
      "The interesting runtime semantics depend on the specific feature\n",
      "enabled by the future statement.\n",
      "\n",
      "Note that there is nothing special about the statement:\n",
      "\n",
      "   import __future__ [as name]\n",
      "\n",
      "That is not a future statement; it’s an ordinary import statement with\n",
      "no special semantics or syntax restrictions.\n",
      "\n",
      "Code compiled by calls to the built-in functions \"exec()\" and\n",
      "\"compile()\" that occur in a module \"M\" containing a future statement\n",
      "will, by default, use the new syntax or semantics associated with the\n",
      "future statement.  This can be controlled by optional arguments to\n",
      "\"compile()\" — see the documentation of that function for details.\n",
      "\n",
      "A future statement typed at an interactive interpreter prompt will\n",
      "take effect for the rest of the interpreter session.  If an\n",
      "interpreter is started with the \"-i\" option, is passed a script name\n",
      "to execute, and the script includes a future statement, it will be in\n",
      "effect in the interactive session started after the script is\n",
      "executed.\n",
      "\n",
      "See also:\n",
      "\n",
      "  **PEP 236** - Back to the __future__\n",
      "     The original proposal for the __future__ mechanism.\n",
      "\n",
      "Related help topics: MODULES\n",
      "\n"
     ]
    }
   ],
   "source": [
    "help('from')"
   ]
  },
  {
   "cell_type": "code",
   "execution_count": null,
   "metadata": {},
   "outputs": [],
   "source": [
    "# for 와 while의 차이점 -> while 은 무한루프\n",
    "# def get_log_lines(log_file):\n",
    "#  line = read_line(log_file)\n",
    "#  while True:\n",
    "#  try:\n",
    "#  if complex_condition(line):\n",
    "#  yield line\n",
    "#  line = read_line(log_file)\n",
    "#  except StopIteration:\n",
    "#  raise\n",
    "\n",
    "# 위 기법을 나중에 많이 볼 것."
   ]
  },
  {
   "cell_type": "code",
   "execution_count": null,
   "metadata": {},
   "outputs": [],
   "source": [
    "# 지금까지!\n",
    "# 함수 -> 함수형 패러다임 -> comprehension -> generator -> (comprehension 구문으로 이어짐)dict and set"
   ]
  },
  {
   "attachments": {},
   "cell_type": "markdown",
   "metadata": {},
   "source": [
    "### **Recursion (재귀)**"
   ]
  },
  {
   "cell_type": "code",
   "execution_count": 62,
   "metadata": {},
   "outputs": [],
   "source": [
    "# 파이썬에서 tail recursion elimination 을 지원하지 않기 때문에 우리가 잘 쓰지 않음\n",
    "# 그러나 함수형 패러다임의 핵심\n",
    "# 함수형 패러다임은 수학함수.\n",
    "# 수학적 귀납법 = 재귀"
   ]
  },
  {
   "cell_type": "code",
   "execution_count": 63,
   "metadata": {},
   "outputs": [],
   "source": [
    "# 등차수열 코딩\n",
    "def f(n):\n",
    "    if n == 1:\n",
    "        return 1\n",
    "    return f(n-1) + 2\n",
    "#! 자기가 자기 자신을 부름. 그래서 재귀."
   ]
  },
  {
   "cell_type": "code",
   "execution_count": 64,
   "metadata": {},
   "outputs": [],
   "source": [
    "# 피보나치 수열\n",
    "def fib(n):\n",
    "    if n==1 or n==2:\n",
    "        return 1\n",
    "    return f(n-1) + f(n-2)\n",
    "\n",
    "# 즉 귀납적인 특성을 가지면 코드로 만들 수 있음"
   ]
  },
  {
   "cell_type": "code",
   "execution_count": 65,
   "metadata": {},
   "outputs": [],
   "source": [
    "# tail recursion elimination 은 무엇인가?\n",
    "# 안 쓸거지만 한번 보자\n",
    "# stack 영역 사용 -> 메모리보다 stack 영역이 더 커버리면 stack overflow가 뜬다.\n",
    "# 꼬리에서 중복되는 거 다 지우고 한번에 계산\n",
    "# 파이썬을 제외한 함수형 패러다임 언어에서는 다 지원해줌. 그래서 속도가 아주 빠름"
   ]
  },
  {
   "cell_type": "code",
   "execution_count": null,
   "metadata": {},
   "outputs": [],
   "source": [
    "# 파이썬에서 이런 기능을 제공해주지 않기 때문에 dynamic programming 을 좀 깊게 공부해야 함 -> 코딩테스트\n",
    "# 팩토리얼도 귀납법으로 표현 가능. 파이썬에서 recursion 은 안씀(꼬리재귀 지원 x 라서)."
   ]
  },
  {
   "cell_type": "code",
   "execution_count": null,
   "metadata": {},
   "outputs": [],
   "source": [
    "# map, filter, reduce -> 우리가 자세히 해야 할 문제\n",
    "# reduction\n",
    "# reduce - 축약, 감소\n",
    "# 프로그래밍 쪽에서는 reduction이란?\n",
    "# expression은 하나의 결과값으로 축약할 수 있는 것. 즉 하나의 결과값으로 reduction 하는 것.\n",
    "# 가장 대표적인 reduction 학문은 통계 -> 100명을 하나의 통계값으로 표현하기 떄문\n",
    "#! 즉, reduce 는 하나의 결과값으로 축약시키는 것."
   ]
  },
  {
   "cell_type": "code",
   "execution_count": 71,
   "metadata": {},
   "outputs": [],
   "source": [
    "# high-order fuction -> 함수가 함수를 인자로 삼음\n",
    "# 대표적으로 map 함수가 있음\n",
    "a = map(lambda x: x+1, [1,2,3,4,5])\n",
    "# iterable(리스트) - 하나 뽑아서 함수에 집어넣음\n",
    "# iterable 되면 iterator 또는 generator 로 바뀜"
   ]
  },
  {
   "cell_type": "code",
   "execution_count": null,
   "metadata": {},
   "outputs": [
    {
     "data": {
      "text/plain": [
       "4"
      ]
     },
     "metadata": {},
     "output_type": "display_data"
    }
   ],
   "source": [
    "next(a)"
   ]
  },
  {
   "cell_type": "code",
   "execution_count": 72,
   "metadata": {},
   "outputs": [
    {
     "data": {
      "text/plain": [
       "[2, 3, 4, 5, 6]"
      ]
     },
     "execution_count": 72,
     "metadata": {},
     "output_type": "execute_result"
    }
   ],
   "source": [
    "list(map(lambda x: x+1, [1,2,3,4,5]))"
   ]
  },
  {
   "cell_type": "code",
   "execution_count": null,
   "metadata": {},
   "outputs": [],
   "source": [
    "# 이것은 메모리가 작을 때.\n",
    "# iterable, map 은 파이토치에서 잘 쓰임. "
   ]
  },
  {
   "cell_type": "code",
   "execution_count": null,
   "metadata": {},
   "outputs": [],
   "source": [
    "# 오늘 배운 책 1장에 관련된 것들이 파이썬에서 함수형 패러다임에서 많이 쓰는 애들에 대해 이야기 한 것.\n",
    "# 이 흐름은 파이썬 HOWTO 에서도 이야기 함.\n",
    "# map 을 이해하면 다 이해할 수 있음."
   ]
  }
 ],
 "metadata": {
  "kernelspec": {
   "display_name": "base",
   "language": "python",
   "name": "python3"
  },
  "language_info": {
   "codemirror_mode": {
    "name": "ipython",
    "version": 3
   },
   "file_extension": ".py",
   "mimetype": "text/x-python",
   "name": "python",
   "nbconvert_exporter": "python",
   "pygments_lexer": "ipython3",
   "version": "3.10.9"
  },
  "orig_nbformat": 4
 },
 "nbformat": 4,
 "nbformat_minor": 2
}
