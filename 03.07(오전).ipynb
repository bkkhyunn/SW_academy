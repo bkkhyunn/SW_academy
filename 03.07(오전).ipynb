{
 "cells": [
  {
   "cell_type": "markdown",
   "metadata": {},
   "source": [
    "## **ORM**"
   ]
  },
  {
   "cell_type": "code",
   "execution_count": null,
   "metadata": {},
   "outputs": [],
   "source": [
    "# RDBMS의 단점\n",
    "# 원래 데이터의 흐름보다는 테이블에 더 관점을 주고, 그로 인해서 데이터를 조작하는데 있어서 수많은 sql 문들이 필요함을 봤음."
   ]
  },
  {
   "cell_type": "code",
   "execution_count": null,
   "metadata": {},
   "outputs": [],
   "source": [
    "# ORM 이란?\n",
    "# Object Relational Mapping\n",
    "# programming 테크닉. 즉, DB랑 상관없음.\n",
    "# 그런데 데이터베이스와 비즈니스 로직이 서로 다르다는 점에서 필요성이 드러남.\n",
    "# ORM은 OOP(객체지향)관점에서 데이터들을 오브젝트로 매핑해줌.\n",
    "# 엔티티간의 관계를 오브젝트화 해서 데이터 관점에서 바라보게 해준다"
   ]
  },
  {
   "cell_type": "code",
   "execution_count": null,
   "metadata": {},
   "outputs": [],
   "source": [
    "# ERD -> 엔티티, 관계를 나타낸 다이어그램\n",
    "# 이것만 보고는 테이블이 어떻게 이루어져 있는지는 모름.\n",
    "# 2개, 3개(관계까지 테이블로 만들어서) 테이블이 될 수 있음. 방법은 여러가지. ERD만 보고 테이블이 어떻게 구성될 지 판단하기 어려움.\n",
    "# 데이터 관점에서 봤을 떄 고객과 은행계좌는 다른 엔티티."
   ]
  },
  {
   "cell_type": "code",
   "execution_count": null,
   "metadata": {},
   "outputs": [],
   "source": [
    "# ORM 은 접근하는 방식이 다름. 객체지향 프로그램 처럼 프로퍼티 사용 등 특징이 있음.\n",
    "# DB에 구현해놓은 것과 우리가 이용하는 방식이 다르기 떄문에, 코드도 복잡해지고 시간도 많이 걸리게 되는데,\n",
    "# 그것을 줄여보자는 취지에서 ORM을 사용하게 됨.\n",
    "# 즉 미스매치. 실제 RDB에 저장되어 있는 것들과 우리가 사용하는 것이 미스매치.\n",
    "# ORM이란 기능/테크닉은 데이터베이스와 비즈니스 오브젝트 사이에 매핑을 해줌.\n",
    "# 즉 이제 우리는 관계형 DB를 할 줄 알기 때문에 ORM 을 배울 것."
   ]
  },
  {
   "cell_type": "code",
   "execution_count": null,
   "metadata": {},
   "outputs": [],
   "source": [
    "\n",
    "#! ORM을 쓰는 근본적인 이유\n",
    "# 프로그래머들이 데이터베이스를 어떻게 관리하고 이용하는지 보다는 로직 별로 프로그래밍 하는데 더 집중할 수 있도록 필요함\n",
    "# 단점으로는 overhead가 있음.\n",
    "# 내가 object를 건들면 ORM이 query로 처리해줌. 그걸 또 처리하는 한단계가 더 있어서 overhead가 존재함."
   ]
  },
  {
   "cell_type": "code",
   "execution_count": null,
   "metadata": {},
   "outputs": [],
   "source": [
    "# 모델과 실제 구현 결과물은 얼마든지 다를 수 있다!!!\n",
    "# 사용자 태그 예시(인스타그램과 유사)"
   ]
  },
  {
   "cell_type": "code",
   "execution_count": null,
   "metadata": {},
   "outputs": [],
   "source": [
    "!ls"
   ]
  },
  {
   "cell_type": "code",
   "execution_count": null,
   "metadata": {},
   "outputs": [],
   "source": [
    "1. 새 게시물 생성\n",
    "2. 생성 시, 생성자는 사용자태그를 0 ~ N개 만들 수 있음\n",
    "    -3. 사용자태그가 해시태그 풀에 있는지 확인\n",
    "    -4. 확인이 됐으면, 새 게시물과 해시태그 관계 만들어주기\n",
    "    -5. 해시태그 풀에 있는 빈도정보 +1\n",
    "[여기까지 게시물 하나 작성하는 상황]"
   ]
  },
  {
   "cell_type": "code",
   "execution_count": null,
   "metadata": {},
   "outputs": [],
   "source": [
    "<<정보>>\n",
    "\n",
    "posting - pk, title, content, date\n",
    "\n",
    "hashtag - pk, name, count\n",
    "\n",
    "posting - hashtag : posting.pk, hashtag.pk"
   ]
  },
  {
   "cell_type": "code",
   "execution_count": null,
   "metadata": {},
   "outputs": [],
   "source": [
    "import sqlite3"
   ]
  },
  {
   "cell_type": "code",
   "execution_count": null,
   "metadata": {},
   "outputs": [],
   "source": [
    "con = sqlite3.connect('sns2.db')\n",
    "cur = con.cursor()"
   ]
  },
  {
   "cell_type": "code",
   "execution_count": null,
   "metadata": {},
   "outputs": [],
   "source": [
    "cur.execute('SELECT CURRENT_TIMESTAMP')\n",
    "cur.fetchall()"
   ]
  },
  {
   "cell_type": "code",
   "execution_count": null,
   "metadata": {},
   "outputs": [],
   "source": [
    "cur.executescript('''\n",
    "    DROP TABLE IF EXISTS posting;\n",
    "    CREATE TABLE posting(\n",
    "        pk INTEGER PRIMARY KEY,\n",
    "        title TEXT,\n",
    "        content TEXT,\n",
    "        regdate DATE DEFAULT CURRENT_TIMESTAMP\n",
    "    );\n",
    "    DROP TABLE IF EXISTS hashtag;\n",
    "    CREATE TABLE hashtag(\n",
    "        pk INTEGER PRIMARY KEY,\n",
    "        name TEXT,\n",
    "        count INTEGER DEFAULT 0\n",
    "    );\n",
    "    DROP TABLE IF EXISTS poshas;\n",
    "    CREATE TABLE poshas(\n",
    "        fk1 INTEGER NOT NULL,\n",
    "        fk2 INTEGER NOT NULL\n",
    "    );\n",
    "''')"
   ]
  },
  {
   "cell_type": "code",
   "execution_count": null,
   "metadata": {},
   "outputs": [],
   "source": [
    "# def addPosting(title, content, *hashtag) -> ORM을 위해 나중에(commit으로 잘 돌아가는지 확인 후) 감싸줄 것.\n",
    "\n",
    "# 1단계 - 새 게시물 생성\n",
    "cur.execute('INSERT INTO posting(title, content) VALUES(?, ?)',\n",
    "            ['제목1', '내용1'])\n",
    "pid = cur.lastrowid\n",
    "pid"
   ]
  },
  {
   "cell_type": "code",
   "execution_count": null,
   "metadata": {},
   "outputs": [],
   "source": [
    "cur.execute('SELECT * FROM posting')\n",
    "cur.fetchall()"
   ]
  },
  {
   "cell_type": "code",
   "execution_count": null,
   "metadata": {},
   "outputs": [],
   "source": [
    "hashtag = ['태그1', '태그2']\n",
    "tagids = list()\n",
    "\n",
    "# 2단계 - 사용자 태그 만들기\n",
    "#   3단계 - 사용자 태그가 해시태그 풀에 있는지 확인\n",
    "for tag in hashtag:\n",
    "    cur.execute('SELECT pk FROM hashtag WHERE name=?', [tag])\n",
    "    # print(cur.fetchone())   --> 없으면 None\n",
    "    tid = cur.fetchone()\n",
    "    if tid is not None:\n",
    "        tagids.append(tid[0])\n",
    "\n",
    "tagids"
   ]
  },
  {
   "cell_type": "code",
   "execution_count": null,
   "metadata": {},
   "outputs": [],
   "source": [
    "tid"
   ]
  },
  {
   "cell_type": "code",
   "execution_count": null,
   "metadata": {},
   "outputs": [],
   "source": [
    "#   4단계 - 확인이 됐으면, 새 게시물과 해시태그 관계 만들어주기\n",
    "#   5단계 - 해시태그 풀에 있는 빈도정보 +1\n",
    "\n",
    "for tid in tagids:  \n",
    "    cur.execute('''\n",
    "        INSERT INTO poshas VALUES(?,?)\n",
    "    ''', [pid, tid])\n",
    "    \n",
    "    cur.execute('''\n",
    "        UPDATE hashtag\n",
    "        SET count = count + 1\n",
    "        WHERE pk = ?                \n",
    "    ''', [tid])"
   ]
  },
  {
   "cell_type": "code",
   "execution_count": null,
   "metadata": {},
   "outputs": [],
   "source": [
    "# 태그풀 생성\n",
    "tags = [['태그1'], ['태그2'], ['태그3']]\n",
    "cur.executemany('INSERT INTO hashtag(name) VALUES(?)', tags)"
   ]
  },
  {
   "cell_type": "code",
   "execution_count": null,
   "metadata": {},
   "outputs": [],
   "source": [
    "con.commit()\n",
    "#! 여기까지 잘 돌아감을 확인(실제 내 DB에 반영이 되면)하면, 함수로 감싸주면 됨\n",
    "# 꼭 Query문을 다 작성해서 확인을 했으면, 물리적으로 DB에 반영해주어야 한다. 그것이 COMMIT"
   ]
  },
  {
   "cell_type": "code",
   "execution_count": null,
   "metadata": {},
   "outputs": [],
   "source": [
    "# 여기까지 생성. 이제는 수정"
   ]
  },
  {
   "cell_type": "code",
   "execution_count": null,
   "metadata": {},
   "outputs": [],
   "source": [
    "cur.execute('SELECT * FROM poshas')\n",
    "cur.fetchall()"
   ]
  },
  {
   "cell_type": "code",
   "execution_count": null,
   "metadata": {},
   "outputs": [],
   "source": [
    "cur.execute('SELECT * FROM posting')\n",
    "cur.fetchall()"
   ]
  },
  {
   "cell_type": "code",
   "execution_count": null,
   "metadata": {},
   "outputs": [],
   "source": [
    "cur.execute('SELECT * FROM hashtag')\n",
    "cur.fetchall()"
   ]
  },
  {
   "cell_type": "code",
   "execution_count": null,
   "metadata": {},
   "outputs": [],
   "source": [
    "cur.execute('''\n",
    "    SELECT posting.title, posting.content, posting.regdate, hashtag.name FROM poshas\n",
    "    INNER JOIN posting ON posting.pk = fk1\n",
    "    INNER JOIN hashtag ON hashtag.pk = fk2\n",
    "''')\n",
    "cur.fetchall()"
   ]
  },
  {
   "cell_type": "code",
   "execution_count": null,
   "metadata": {},
   "outputs": [],
   "source": [
    "pk"
   ]
  },
  {
   "cell_type": "code",
   "execution_count": null,
   "metadata": {},
   "outputs": [],
   "source": [
    "pid"
   ]
  },
  {
   "cell_type": "code",
   "execution_count": null,
   "metadata": {},
   "outputs": [],
   "source": [
    "# 태그 정보만 필요하다면,\n",
    "cur.execute('''\n",
    "    SELECT hashtag.name\n",
    "    FROM poshas\n",
    "    INNER JOIN posting ON posting.pk = fk1\n",
    "    INNER JOIN hashtag ON hashtag.pk = fk2\n",
    "    WHERE fk1 = ?\n",
    "''', [pid])\n",
    "cur.fetchall()\n",
    "# 1번 포스팅에 해당되는 태그들만 가져올 수 있음. 위에서 WHERE 절만 추가한 것."
   ]
  },
  {
   "cell_type": "code",
   "execution_count": null,
   "metadata": {},
   "outputs": [],
   "source": [
    "# 제목1, 내용1, 태그1, 태그2\n",
    "# -> 제목1-1, 내용1, 태그1, 태그3\n",
    "# 이렇게 바꿔보자!"
   ]
  },
  {
   "cell_type": "code",
   "execution_count": null,
   "metadata": {},
   "outputs": [],
   "source": [
    "cur.execute('UPDATE posting SET title=?, content=?',\n",
    "            ['제목1-1', '내용1'])"
   ]
  },
  {
   "cell_type": "code",
   "execution_count": null,
   "metadata": {},
   "outputs": [],
   "source": [
    "cur.rowcount"
   ]
  },
  {
   "cell_type": "code",
   "execution_count": null,
   "metadata": {},
   "outputs": [],
   "source": [
    "hashtag = ['태그1', '태그3']\n",
    "oldtag = list()\n",
    "tagids = list()\n",
    "\n",
    "cur.execute('SELECT fk2 FROM poshas WHERE fk1=?', [pid])\n",
    "for row in cur.fetchall():\n",
    "    oldtag.append(row[0])\n",
    "    # 기존의 태그 목록\n",
    "    \n",
    "for tag in hashtag:\n",
    "    cur.execute('SELECT pk FROM hashtag WHERE name=?', [tag])\n",
    "    # print(cur.fetchone())   --> 없으면 None\n",
    "    tid = cur.fetchone()\n",
    "    if tid is not None:\n",
    "        tagids.append(tid[0])\n",
    "\n",
    "oldtag, tagids"
   ]
  },
  {
   "cell_type": "code",
   "execution_count": null,
   "metadata": {},
   "outputs": [],
   "source": [
    "for tid in oldtag:\n",
    "    if tid not in tagids:  # 없으면\n",
    "        cur.execute('DELETE FROM poshas WHERE fk1=? AND fk2=?',\n",
    "                    [pid, tid])\n",
    "        \n",
    "        cur.execute('UPDATE hashtag SET count = count - 1 WHERE pk=?',\n",
    "                    [tid])\n",
    "        \n",
    "        "
   ]
  },
  {
   "cell_type": "code",
   "execution_count": null,
   "metadata": {},
   "outputs": [],
   "source": [
    "for tid in tagids:\n",
    "    if tid not in oldtag:  # 없으면\n",
    "        cur.execute('INSERT INTO poshas VALUES(?,?)',\n",
    "                    [pid, tid])\n",
    "        \n",
    "        cur.execute('UPDATE hashtag SET count = count + 1 WHERE pk=?',\n",
    "                    [tid])\n",
    "        \n",
    "        "
   ]
  },
  {
   "cell_type": "code",
   "execution_count": null,
   "metadata": {},
   "outputs": [],
   "source": [
    "cur.execute('SELECT * FROM poshas')\n",
    "cur.fetchall()"
   ]
  },
  {
   "cell_type": "code",
   "execution_count": null,
   "metadata": {},
   "outputs": [],
   "source": [
    "cur.execute('SELECT * FROM hashtag')\n",
    "cur.fetchall()"
   ]
  },
  {
   "cell_type": "code",
   "execution_count": null,
   "metadata": {},
   "outputs": [],
   "source": [
    "con.close()"
   ]
  },
  {
   "attachments": {},
   "cell_type": "markdown",
   "metadata": {},
   "source": [
    "#### **뷰**"
   ]
  },
  {
   "cell_type": "code",
   "execution_count": null,
   "metadata": {},
   "outputs": [],
   "source": [
    "CREATE VIEW 뷰 이름 AS\n",
    "SQL문 -> JOIN\n",
    "프랜차이즈 -> 지점별 매출현황 -> JOIN(CITY, SUPPLIER, SELLS, PART)\n",
    "# 이런 것들을 계속 조회할 필요가 있을 때 뷰로 만들어 놓으면 테이블 select 하듯이 하면 실시간으로 검색 결과가 나옴.\n",
    "# 너무 많은 뷰를 만들지만 않으면 상관 없음."
   ]
  },
  {
   "cell_type": "code",
   "execution_count": null,
   "metadata": {},
   "outputs": [],
   "source": [
    "# 지금까지는 우리가 SQL문을 알아야 했지만, 이제는 그럴 필요가 없음. 파이썬 코드를 통해 접근할 것.\n",
    "# 인스턴스를 생성하고 값을 집어넣으면 DB에 적용되도록.\n",
    "# 각각의 인스턴스는 테이블의 개별 로우를 의미. 데이터베이스에서 데이터를 꺼낼 때 로우 단위로 꺼내기 떄문.\n",
    "# 우리는 SQLAlchemy 를 사용할 것임.\n",
    "# ORM을 이용하면 동일한 코드로 여러 DB를 사용 가능함."
   ]
  },
  {
   "attachments": {},
   "cell_type": "markdown",
   "metadata": {},
   "source": [
    "## **SQLAlchemy**"
   ]
  },
  {
   "cell_type": "code",
   "execution_count": null,
   "metadata": {},
   "outputs": [],
   "source": [
    "# 파이썬으로 만들어짐.\n",
    "# SQLAlchemy의 구조 -> DBAPI(각 DB 종류마다에 붙는 API) -> Dialect는 그 DBAPI와 통신 \n",
    "# -> 대화형으로 주고받기 위해 connection pooling -> 그 위의 engine은 실제 오브젝트를 통해서 코드레벨로 접근\n",
    "# 했을 때 객체에 조작이 일어난 행위를 sql문으로 해석을 함 -> 객체와 sql문을 연결지어주는 애들이 바로\n",
    "# '스키마/타입' 과 'SQL Expression Language' -> 이제부터 인스턴스를 받아서 객체 단위(하나의 로우를 나타냄)로\n",
    "# 접근하면 됨. 이 전체가 Core 단. 이 core 단을 감싸는 mapper 가 ORM. 이를 이해하기 위해서 밑에 있는 core 부분을 다뤄보자\n",
    "# 우리가 ORM을 사용하지 않으면 DB를 바꿀 때마다 여러가지를 바꿔야함."
   ]
  },
  {
   "cell_type": "code",
   "execution_count": null,
   "metadata": {},
   "outputs": [],
   "source": [
    "# 자료 참고. -> 꼭 읽어보기\n",
    "# 항상 engine 부터 시작함. 커서, 커넥션 등 총괄함\n",
    "# engine 이 starting point"
   ]
  },
  {
   "cell_type": "code",
   "execution_count": null,
   "metadata": {},
   "outputs": [],
   "source": [
    "# Engine - 스타팅 포인트\n",
    "# Dialect - 일반적인 SQL문과 DB 커맨드를 특정한 DBAPI에 관점에 맞춰 해석한다.\n",
    "# Connection Pool - 메모리에 DB로부터 가져온 것들을 모아둔 Pool"
   ]
  },
  {
   "cell_type": "code",
   "execution_count": null,
   "metadata": {},
   "outputs": [],
   "source": [
    "# create_engine 형식에 대한 설명!!\n",
    "# sqlite3는 단일 fileDB -> port(서버 리스이기 때문)/database/사용자 계정(혼자 사용하기 때문) 없음.\n",
    "# path(file이기 때문)는 필요\n",
    "# sqlite://<nohostname>/<path> 식으로 쓰면됨\n",
    "# 'echo = True' -> 에코 옵션은 중간의 히스토리를 보여줌. 어느 순간에 물리적인 DB로 기록되는지 볼 거기 때문에 켜 놓을 것.\n",
    "# 'lazy connecting' -> 저장 시 접근 일어나는 것 아님. 지금부터 하는 작업은 DB로부터 가져온 데이터로 하는 것 같지만\n",
    "# 실질적으로는 인스턴스 형태를 띈 객체를 통해 데이터로 접근. 따라서 객체가 insert가 되는 그 시점에 connecting 이 이루어짐."
   ]
  },
  {
   "cell_type": "code",
   "execution_count": null,
   "metadata": {},
   "outputs": [],
   "source": [
    "# table, column, MetaData(메모리에서 객체로 관리하기 때문에 그 객체가 등록된 곳이 메타데이터. 가장 중요함)\n",
    "# 메타데이터를 엔진에 바인딩 시킴.\n",
    "# 메타데이터에 변화가 일어나 정보 갱신을 요구하면 -> 엔진에서 값의 변화를 인지하고 커넥션 풀을 통해 접근하고 \n",
    "# -> dialect로 해석하여 값을 보냄."
   ]
  },
  {
   "cell_type": "code",
   "execution_count": null,
   "metadata": {},
   "outputs": [],
   "source": [
    "# 따라서 기존 RDB의 테이블을 알아야 하고, 메타데이터에 등록된 인스턴스들도 알아야 함.\n",
    "# 싱크가 맞아야 하고 그렇지 않으면 오류가 나게 됨"
   ]
  },
  {
   "attachments": {},
   "cell_type": "markdown",
   "metadata": {},
   "source": [
    "##### 예제 시작"
   ]
  },
  {
   "cell_type": "code",
   "execution_count": null,
   "metadata": {},
   "outputs": [],
   "source": [
    "# '스키마'에 table, column, metadata가 정의되어 있음\n",
    "# '타입'에 integer / string 등 정의되어 있음 => 즉 ORM에서 정의된 것\n",
    "# 먼저 engine 만들어 줘야 함.\n",
    "# lazy connecting이라 아무 일도 일어나지 않음."
   ]
  },
  {
   "cell_type": "code",
   "execution_count": null,
   "metadata": {},
   "outputs": [],
   "source": [
    "# ORM에서는 FK를 꼭 설정해줘야 함(여러 RDB를 관리해야 하기 때문에 엄격)"
   ]
  },
  {
   "cell_type": "code",
   "execution_count": 1,
   "metadata": {},
   "outputs": [],
   "source": [
    "import sqlalchemy"
   ]
  },
  {
   "cell_type": "code",
   "execution_count": 2,
   "metadata": {},
   "outputs": [
    {
     "data": {
      "text/plain": [
       "'2.0.5.post1'"
      ]
     },
     "execution_count": 2,
     "metadata": {},
     "output_type": "execute_result"
    }
   ],
   "source": [
    "sqlalchemy.__version__"
   ]
  },
  {
   "cell_type": "code",
   "execution_count": 276,
   "metadata": {},
   "outputs": [],
   "source": [
    "from sqlalchemy import create_engine\n",
    "from sqlalchemy.schema import MetaData, Table, Column, ForeignKey\n",
    "from sqlalchemy.types import Integer, String\n",
    "# 위에서 설명한 개념을 볼 수 있다..!"
   ]
  },
  {
   "cell_type": "code",
   "execution_count": 277,
   "metadata": {},
   "outputs": [],
   "source": [
    "# starting point -> 항상 엔진 생성!!\n",
    "engine = create_engine('sqlite:///orm2.db', echo=True)\n",
    "# echo=True 때문에 로고가 남을 것.\n",
    "# 엔진 생성은 아무 작업이 아니라 로고가 안남음"
   ]
  },
  {
   "cell_type": "code",
   "execution_count": 3,
   "metadata": {},
   "outputs": [],
   "source": [
    "# 엔진을 닫는 명령어\n",
    "engine.dispose()"
   ]
  },
  {
   "cell_type": "code",
   "execution_count": 275,
   "metadata": {},
   "outputs": [
    {
     "name": "stdout",
     "output_type": "stream",
     "text": [
      "2023-03-08 00:37:04,499 INFO sqlalchemy.engine.Engine ROLLBACK\n"
     ]
    }
   ],
   "source": [
    "# 초기화\n",
    "con.close()\n",
    "meta.clear()\n",
    "engine.dispose()"
   ]
  },
  {
   "cell_type": "code",
   "execution_count": 169,
   "metadata": {},
   "outputs": [
    {
     "name": "stdout",
     "output_type": "stream",
     "text": [
      "03.02(오후).ipynb           playlist.db\n",
      "03.03(오전).ipynb           playlist2.db\n",
      "03.03(오후).ipynb           playlist4.db\n",
      "03.06(오전).ipynb           project_exercise.py\n",
      "03.06(오후).ipynb           sns.db\n",
      "03.07(오전).ipynb           sns2.db\n",
      "03.07(오후).ipynb           test.db\n",
      "example1.db                 test1.db\n",
      "example2.db                 \u001b[1m\u001b[36m강의자료\u001b[m\u001b[m\n",
      "example3.db\n"
     ]
    }
   ],
   "source": [
    "!ls\n",
    "# 위에서 커넥트 한순간 DB가 생성되었어야 하는데 없음. -> lazy connecting"
   ]
  },
  {
   "cell_type": "code",
   "execution_count": 278,
   "metadata": {},
   "outputs": [],
   "source": [
    "# meta = MetaData(engine) -> 엔진을 연결한 사례\n",
    "# MetaData 는 테이블 객체의 집합\n",
    "# engine 혹은 connection 을 선택적으로 바인딩 할 수 있음.\n",
    "# 바인딩 되면 SQL문을 실행할 수 있음\n",
    "meta = MetaData()"
   ]
  },
  {
   "cell_type": "code",
   "execution_count": 279,
   "metadata": {},
   "outputs": [
    {
     "data": {
      "text/plain": [
       "FacadeDict({})"
      ]
     },
     "execution_count": 279,
     "metadata": {},
     "output_type": "execute_result"
    }
   ],
   "source": [
    "meta.tables"
   ]
  },
  {
   "cell_type": "code",
   "execution_count": 280,
   "metadata": {},
   "outputs": [
    {
     "data": {
      "text/plain": [
       "Table('T_USER', MetaData(), Column('PK', Integer(), table=<T_USER>, primary_key=True, nullable=False), Column('NAME', String(), table=<T_USER>, nullable=False), schema=None)"
      ]
     },
     "execution_count": 280,
     "metadata": {},
     "output_type": "execute_result"
    }
   ],
   "source": [
    "Table('T_USER', meta,\n",
    "      Column('PK', Integer, primary_key=True),\n",
    "      Column('NAME', String, nullable=False),extend_existing=True)"
   ]
  },
  {
   "cell_type": "code",
   "execution_count": 173,
   "metadata": {},
   "outputs": [
    {
     "name": "stdout",
     "output_type": "stream",
     "text": [
      "03.02(오후).ipynb           playlist.db\n",
      "03.03(오전).ipynb           playlist2.db\n",
      "03.03(오후).ipynb           playlist4.db\n",
      "03.06(오전).ipynb           project_exercise.py\n",
      "03.06(오후).ipynb           sns.db\n",
      "03.07(오전).ipynb           sns2.db\n",
      "03.07(오후).ipynb           test.db\n",
      "example1.db                 test1.db\n",
      "example2.db                 \u001b[1m\u001b[36m강의자료\u001b[m\u001b[m\n",
      "example3.db\n"
     ]
    }
   ],
   "source": [
    "# 테이블 객체를 하나 생성 -> meta 등록 -> 아직은 실제 물리적 DB 반영 X\n",
    "!ls # 테이블을 만들었는데 여전히 DB가 없음"
   ]
  },
  {
   "cell_type": "code",
   "execution_count": 282,
   "metadata": {},
   "outputs": [
    {
     "data": {
      "text/plain": [
       "FacadeDict({'T_USER': Table('T_USER', MetaData(), Column('PK', Integer(), table=<T_USER>, primary_key=True, nullable=False), Column('NAME', String(), table=<T_USER>, nullable=False), schema=None)})"
      ]
     },
     "execution_count": 282,
     "metadata": {},
     "output_type": "execute_result"
    }
   ],
   "source": [
    "meta.tables\n",
    "# MetaData에는 들어가 있음"
   ]
  },
  {
   "cell_type": "code",
   "execution_count": 281,
   "metadata": {},
   "outputs": [],
   "source": [
    "meta.bind = engine   # 바인드 시키기"
   ]
  },
  {
   "cell_type": "code",
   "execution_count": 283,
   "metadata": {},
   "outputs": [
    {
     "name": "stdout",
     "output_type": "stream",
     "text": [
      "2023-03-08 00:37:42,450 INFO sqlalchemy.engine.Engine BEGIN (implicit)\n",
      "2023-03-08 00:37:42,451 INFO sqlalchemy.engine.Engine PRAGMA main.table_info(\"T_USER\")\n",
      "2023-03-08 00:37:42,451 INFO sqlalchemy.engine.Engine [raw sql] ()\n",
      "2023-03-08 00:37:42,452 INFO sqlalchemy.engine.Engine PRAGMA temp.table_info(\"T_USER\")\n",
      "2023-03-08 00:37:42,453 INFO sqlalchemy.engine.Engine [raw sql] ()\n",
      "2023-03-08 00:37:42,454 INFO sqlalchemy.engine.Engine \n",
      "CREATE TABLE \"T_USER\" (\n",
      "\t\"PK\" INTEGER NOT NULL, \n",
      "\t\"NAME\" VARCHAR NOT NULL, \n",
      "\tPRIMARY KEY (\"PK\")\n",
      ")\n",
      "\n",
      "\n",
      "2023-03-08 00:37:42,454 INFO sqlalchemy.engine.Engine [no key 0.00034s] ()\n",
      "2023-03-08 00:37:42,456 INFO sqlalchemy.engine.Engine COMMIT\n"
     ]
    }
   ],
   "source": [
    "meta.create_all(engine)\n",
    "# 물리적으로 등록"
   ]
  },
  {
   "cell_type": "code",
   "execution_count": 177,
   "metadata": {},
   "outputs": [
    {
     "name": "stdout",
     "output_type": "stream",
     "text": [
      "03.02(오후).ipynb           orm1.db\n",
      "03.03(오전).ipynb           playlist.db\n",
      "03.03(오후).ipynb           playlist2.db\n",
      "03.06(오전).ipynb           playlist4.db\n",
      "03.06(오후).ipynb           project_exercise.py\n",
      "03.07(오전).ipynb           sns.db\n",
      "03.07(오후).ipynb           sns2.db\n",
      "example1.db                 test.db\n",
      "example2.db                 test1.db\n",
      "example3.db                 \u001b[1m\u001b[36m강의자료\u001b[m\u001b[m\n"
     ]
    }
   ],
   "source": [
    "!ls"
   ]
  },
  {
   "cell_type": "code",
   "execution_count": 178,
   "metadata": {},
   "outputs": [
    {
     "data": {
      "text/plain": [
       "Table('T_USER', MetaData(), Column('PK', Integer(), table=<T_USER>, primary_key=True, nullable=False), Column('NAME', String(), table=<T_USER>, nullable=False), schema=None)"
      ]
     },
     "execution_count": 178,
     "metadata": {},
     "output_type": "execute_result"
    }
   ],
   "source": [
    "meta.tables['T_USER'] # 테이블"
   ]
  },
  {
   "cell_type": "code",
   "execution_count": 284,
   "metadata": {},
   "outputs": [],
   "source": [
    "from sqlalchemy.sql import select, insert, update"
   ]
  },
  {
   "cell_type": "code",
   "execution_count": 285,
   "metadata": {},
   "outputs": [
    {
     "name": "stdout",
     "output_type": "stream",
     "text": [
      "SELECT \"T_USER\".\"PK\", \"T_USER\".\"NAME\" \n",
      "FROM \"T_USER\"\n"
     ]
    }
   ],
   "source": [
    "print(select(meta.tables['T_USER']))\n",
    "# 이것은 메모리에서 일어난 작업."
   ]
  },
  {
   "cell_type": "code",
   "execution_count": 286,
   "metadata": {},
   "outputs": [
    {
     "name": "stdout",
     "output_type": "stream",
     "text": [
      "INSERT INTO \"T_USER\" (\"PK\", \"NAME\") VALUES (:PK, :NAME)\n"
     ]
    }
   ],
   "source": [
    "print(meta.tables['T_USER'].insert())"
   ]
  },
  {
   "cell_type": "code",
   "execution_count": 287,
   "metadata": {},
   "outputs": [],
   "source": [
    "User = meta.tables['T_USER'] # 객체 만들어주기"
   ]
  },
  {
   "cell_type": "code",
   "execution_count": 288,
   "metadata": {},
   "outputs": [
    {
     "name": "stdout",
     "output_type": "stream",
     "text": [
      "INSERT INTO \"T_USER\" (\"PK\", \"NAME\") VALUES (:PK, :NAME) SELECT \"T_USER\".\"PK\", \"T_USER\".\"NAME\" \n",
      "FROM \"T_USER\" UPDATE \"T_USER\" SET \"PK\"=:PK, \"NAME\"=:NAME\n"
     ]
    }
   ],
   "source": [
    "print(insert(User), select(User), User.update())\n",
    "# 사용 방식이 2가지가 있음을 알려줌"
   ]
  },
  {
   "cell_type": "code",
   "execution_count": 289,
   "metadata": {},
   "outputs": [
    {
     "name": "stdout",
     "output_type": "stream",
     "text": [
      "INSERT INTO \"T_USER\" (\"PK\", \"NAME\") VALUES (:PK, :NAME) SELECT \"T_USER\".\"PK\", \"T_USER\".\"NAME\" \n",
      "FROM \"T_USER\" UPDATE \"T_USER\" SET \"PK\"=:PK, \"NAME\"=:NAME\n"
     ]
    }
   ],
   "source": [
    "print(User.insert(), User.select(), update(User))"
   ]
  },
  {
   "cell_type": "code",
   "execution_count": 15,
   "metadata": {},
   "outputs": [],
   "source": [
    "# 여기까지는 DB랑 관련 없음. 메모리에서 객체만 다룬 것 -> 후에 뭔가 일어나야 함"
   ]
  },
  {
   "cell_type": "code",
   "execution_count": 290,
   "metadata": {},
   "outputs": [
    {
     "name": "stdout",
     "output_type": "stream",
     "text": [
      "INSERT INTO \"T_USER\" (\"NAME\") VALUES (:NAME)\n"
     ]
    }
   ],
   "source": [
    "print(meta.tables['T_USER'].insert().values(NAME='아무나'))"
   ]
  },
  {
   "cell_type": "code",
   "execution_count": 291,
   "metadata": {},
   "outputs": [
    {
     "name": "stdout",
     "output_type": "stream",
     "text": [
      "INSERT INTO \"T_USER\" (\"NAME\") VALUES (:NAME)\n"
     ]
    }
   ],
   "source": [
    "# 위와 같은 방식임\n",
    "print(insert(User).values(NAME='아무나'))"
   ]
  },
  {
   "cell_type": "code",
   "execution_count": 292,
   "metadata": {},
   "outputs": [
    {
     "name": "stdout",
     "output_type": "stream",
     "text": [
      "INSERT INTO \"T_USER\" (\"NAME\") VALUES (:NAME)\n"
     ]
    }
   ],
   "source": [
    "print(User.insert().values(NAME='아무나').compile())"
   ]
  },
  {
   "cell_type": "code",
   "execution_count": 293,
   "metadata": {},
   "outputs": [
    {
     "name": "stdout",
     "output_type": "stream",
     "text": [
      "{'NAME': '아무나'}\n"
     ]
    }
   ],
   "source": [
    "print(User.insert().values(NAME='아무나').compile().params)"
   ]
  },
  {
   "cell_type": "code",
   "execution_count": 294,
   "metadata": {},
   "outputs": [],
   "source": [
    "con = engine.connect()\n",
    "# Connection\n",
    "# 실제로 DBAPI 에 연결하는 것"
   ]
  },
  {
   "cell_type": "code",
   "execution_count": 295,
   "metadata": {},
   "outputs": [
    {
     "name": "stdout",
     "output_type": "stream",
     "text": [
      "2023-03-08 00:38:26,369 INFO sqlalchemy.engine.Engine BEGIN (implicit)\n",
      "2023-03-08 00:38:26,370 INFO sqlalchemy.engine.Engine INSERT INTO \"T_USER\" (\"NAME\") VALUES (?)\n",
      "2023-03-08 00:38:26,371 INFO sqlalchemy.engine.Engine [generated in 0.00162s] ('아무나',)\n"
     ]
    },
    {
     "data": {
      "text/plain": [
       "(1,)"
      ]
     },
     "execution_count": 295,
     "metadata": {},
     "output_type": "execute_result"
    }
   ],
   "source": [
    "cur = con.execute(insert(User).values(NAME='아무나'))\n",
    "# DB 에 반영하느라 COMMIT 이 뜸\n",
    "cur.inserted_primary_key"
   ]
  },
  {
   "cell_type": "code",
   "execution_count": 296,
   "metadata": {},
   "outputs": [
    {
     "name": "stdout",
     "output_type": "stream",
     "text": [
      "2023-03-08 00:38:35,157 INFO sqlalchemy.engine.Engine SELECT \"T_USER\".\"PK\", \"T_USER\".\"NAME\" \n",
      "FROM \"T_USER\"\n",
      "2023-03-08 00:38:35,158 INFO sqlalchemy.engine.Engine [generated in 0.00114s] ()\n"
     ]
    },
    {
     "data": {
      "text/plain": [
       "[(1, '아무나')]"
      ]
     },
     "execution_count": 296,
     "metadata": {},
     "output_type": "execute_result"
    }
   ],
   "source": [
    "con.execute(User.select()).fetchall()\n",
    "# 로그가 뜨는 것을 보면 데이터 베이스를 왔다갔다 하는 것"
   ]
  },
  {
   "cell_type": "code",
   "execution_count": null,
   "metadata": {},
   "outputs": [],
   "source": [
    "# ResultProxy -> 각 DB의 cursor 행위를 함\n",
    "# fetchone(), fetchall()"
   ]
  },
  {
   "cell_type": "code",
   "execution_count": null,
   "metadata": {},
   "outputs": [],
   "source": [
    "# 로그를 봐야 한다!!!"
   ]
  },
  {
   "cell_type": "code",
   "execution_count": 191,
   "metadata": {},
   "outputs": [
    {
     "name": "stdout",
     "output_type": "stream",
     "text": [
      "\"T_USER\".\"PK\" = :PK_1\n"
     ]
    }
   ],
   "source": [
    "print(User.c.PK == 1)\n",
    "# 파이썬 코드로 치는 비교연산 -> 그 결과물은 실제 sql 문에 들어가는 where절을 서술한 부분이 됨."
   ]
  },
  {
   "cell_type": "code",
   "execution_count": 192,
   "metadata": {},
   "outputs": [],
   "source": [
    "from sqlalchemy.sql import and_, or_, between"
   ]
  },
  {
   "cell_type": "code",
   "execution_count": 297,
   "metadata": {},
   "outputs": [
    {
     "name": "stdout",
     "output_type": "stream",
     "text": [
      "\"T_USER\".\"PK\" = :PK_1 AND \"T_USER\".\"NAME\" = :NAME_1\n"
     ]
    }
   ],
   "source": [
    "print(and_(User.c.PK == 1, User.c.NAME == 1))\n",
    "# AND 를 쓰고 싶을 때 -> SQL 문에서 이렇게 해석함을 보면 됨."
   ]
  },
  {
   "cell_type": "code",
   "execution_count": null,
   "metadata": {},
   "outputs": [],
   "source": [
    "# 이들을 이용해서 USER 클래스에서 부여받은 객체에 사용할 수 있음."
   ]
  },
  {
   "cell_type": "code",
   "execution_count": 307,
   "metadata": {},
   "outputs": [
    {
     "data": {
      "text/plain": [
       "Table('T_ADDRESS', MetaData(), Column('PK', Integer(), table=<T_ADDRESS>, primary_key=True, nullable=False), Column('ADDR', String(), table=<T_ADDRESS>), Column('FK', Integer(), table=<T_ADDRESS>, nullable=False), schema=None)"
      ]
     },
     "execution_count": 307,
     "metadata": {},
     "output_type": "execute_result"
    }
   ],
   "source": [
    "Table('T_ADDRESS', meta, \n",
    "      Column('PK', Integer, primary_key=True),\n",
    "      Column('ADDR', String),\n",
    "      Column('FK', Integer, nullable=False),\n",
    "      extend_existing=True)"
   ]
  },
  {
   "cell_type": "code",
   "execution_count": 299,
   "metadata": {},
   "outputs": [
    {
     "data": {
      "text/plain": [
       "(2,\n",
       " FacadeDict({'T_USER': Table('T_USER', MetaData(), Column('PK', Integer(), table=<T_USER>, primary_key=True, nullable=False), Column('NAME', String(), table=<T_USER>, nullable=False), schema=None), 'T_ADDRESS': Table('T_ADDRESS', MetaData(), Column('PK', Integer(), table=<T_ADDRESS>, primary_key=True, nullable=False), Column('ADDR', String(), table=<T_ADDRESS>), Column('FK', Integer(), table=<T_ADDRESS>, nullable=False), schema=None)}))"
      ]
     },
     "execution_count": 299,
     "metadata": {},
     "output_type": "execute_result"
    }
   ],
   "source": [
    "len(meta.tables), meta.tables"
   ]
  },
  {
   "cell_type": "code",
   "execution_count": 300,
   "metadata": {},
   "outputs": [
    {
     "data": {
      "text/plain": [
       "Engine(sqlite:///orm2.db)"
      ]
     },
     "execution_count": 300,
     "metadata": {},
     "output_type": "execute_result"
    }
   ],
   "source": [
    "meta.bind"
   ]
  },
  {
   "cell_type": "code",
   "execution_count": 302,
   "metadata": {},
   "outputs": [
    {
     "name": "stdout",
     "output_type": "stream",
     "text": [
      "2023-03-08 00:39:25,758 INFO sqlalchemy.engine.Engine ROLLBACK\n"
     ]
    }
   ],
   "source": [
    "# 이거를 해줘야 아래에서 오류가 안 뜸. SQLite를 조회하고 있던 프로그램을 끄는 것.\n",
    "con.close()\n",
    "#con = engine.connect()"
   ]
  },
  {
   "cell_type": "code",
   "execution_count": 304,
   "metadata": {},
   "outputs": [],
   "source": [
    "con = engine.connect()"
   ]
  },
  {
   "cell_type": "code",
   "execution_count": 308,
   "metadata": {},
   "outputs": [
    {
     "name": "stdout",
     "output_type": "stream",
     "text": [
      "2023-03-08 00:41:01,974 INFO sqlalchemy.engine.Engine BEGIN (implicit)\n",
      "2023-03-08 00:41:01,975 INFO sqlalchemy.engine.Engine PRAGMA main.table_info(\"T_USER\")\n",
      "2023-03-08 00:41:01,976 INFO sqlalchemy.engine.Engine [raw sql] ()\n",
      "2023-03-08 00:41:01,976 INFO sqlalchemy.engine.Engine PRAGMA main.table_info(\"T_ADDRESS\")\n",
      "2023-03-08 00:41:01,977 INFO sqlalchemy.engine.Engine [raw sql] ()\n",
      "2023-03-08 00:41:01,978 INFO sqlalchemy.engine.Engine COMMIT\n"
     ]
    }
   ],
   "source": [
    "meta.create_all(engine)"
   ]
  },
  {
   "cell_type": "code",
   "execution_count": 309,
   "metadata": {},
   "outputs": [],
   "source": [
    "Addr = meta.tables['T_ADDRESS']"
   ]
  },
  {
   "cell_type": "code",
   "execution_count": 310,
   "metadata": {},
   "outputs": [
    {
     "data": {
      "text/plain": [
       "(sqlalchemy.sql.schema.Table, sqlalchemy.sql.schema.Table)"
      ]
     },
     "execution_count": 310,
     "metadata": {},
     "output_type": "execute_result"
    }
   ],
   "source": [
    "type(User), type(Addr)"
   ]
  },
  {
   "cell_type": "code",
   "execution_count": 311,
   "metadata": {},
   "outputs": [
    {
     "name": "stdout",
     "output_type": "stream",
     "text": [
      "SELECT \"T_USER\".\"PK\", \"T_USER\".\"NAME\", \"T_ADDRESS\".\"PK\" AS \"PK_1\", \"T_ADDRESS\".\"ADDR\", \"T_ADDRESS\".\"FK\" \n",
      "FROM \"T_USER\", \"T_ADDRESS\"\n"
     ]
    }
   ],
   "source": [
    "print(select(User, Addr))\n",
    "# cross join 형태"
   ]
  },
  {
   "cell_type": "code",
   "execution_count": 312,
   "metadata": {},
   "outputs": [],
   "source": [
    "from sqlalchemy.sql import join"
   ]
  },
  {
   "cell_type": "code",
   "execution_count": 313,
   "metadata": {},
   "outputs": [
    {
     "name": "stdout",
     "output_type": "stream",
     "text": [
      "\"T_USER\" JOIN \"T_ADDRESS\" ON \"T_USER\".\"PK\" = \"T_ADDRESS\".\"FK\"\n"
     ]
    }
   ],
   "source": [
    "print(join(User, Addr, User.c.PK == Addr.c.FK))"
   ]
  },
  {
   "cell_type": "code",
   "execution_count": 314,
   "metadata": {},
   "outputs": [
    {
     "name": "stdout",
     "output_type": "stream",
     "text": [
      "SELECT \"T_USER\".\"PK\", \"T_USER\".\"NAME\" \n",
      "FROM \"T_USER\" JOIN \"T_ADDRESS\" ON \"T_USER\".\"PK\" = \"T_ADDRESS\".\"FK\"\n"
     ]
    }
   ],
   "source": [
    "print(select(User).join(Addr, User.c.PK == Addr.c.FK))\n",
    "# 위 구문과 합쳐야 함"
   ]
  },
  {
   "cell_type": "code",
   "execution_count": 315,
   "metadata": {},
   "outputs": [
    {
     "name": "stdout",
     "output_type": "stream",
     "text": [
      "SELECT \"T_USER\".\"NAME\", \"T_ADDRESS\".\"ADDR\" \n",
      "FROM \"T_USER\", \"T_ADDRESS\"\n"
     ]
    }
   ],
   "source": [
    "print(select(User.c.NAME, Addr.c.ADDR))"
   ]
  },
  {
   "cell_type": "code",
   "execution_count": 316,
   "metadata": {},
   "outputs": [
    {
     "name": "stdout",
     "output_type": "stream",
     "text": [
      "SELECT \"T_USER\".\"NAME\", \"T_ADDRESS\".\"ADDR\" \n",
      "FROM \"T_USER\" JOIN \"T_ADDRESS\" ON \"T_USER\".\"PK\" = \"T_ADDRESS\".\"FK\"\n"
     ]
    }
   ],
   "source": [
    "print(select(User.c.NAME, Addr.c.ADDR)\\\n",
    "    .select_from(join(User, Addr, User.c.PK==Addr.c.FK)))\n",
    "# ON 절이 자동적으로 생성됨"
   ]
  },
  {
   "cell_type": "code",
   "execution_count": 255,
   "metadata": {},
   "outputs": [],
   "source": [
    "# 위에서 끊었기 떄문에 다시 엔진에 연결\n",
    "con = engine.connect()"
   ]
  },
  {
   "cell_type": "code",
   "execution_count": 317,
   "metadata": {},
   "outputs": [
    {
     "name": "stdout",
     "output_type": "stream",
     "text": [
      "2023-03-08 00:41:36,781 INFO sqlalchemy.engine.Engine BEGIN (implicit)\n",
      "2023-03-08 00:41:36,782 INFO sqlalchemy.engine.Engine SELECT \"T_USER\".\"NAME\", \"T_ADDRESS\".\"ADDR\" \n",
      "FROM \"T_USER\" JOIN \"T_ADDRESS\" ON \"T_USER\".\"PK\" = \"T_ADDRESS\".\"FK\"\n",
      "2023-03-08 00:41:36,782 INFO sqlalchemy.engine.Engine [generated in 0.00173s] ()\n"
     ]
    },
    {
     "data": {
      "text/plain": [
       "[]"
      ]
     },
     "execution_count": 317,
     "metadata": {},
     "output_type": "execute_result"
    }
   ],
   "source": [
    "sql = select(User.c.NAME, Addr.c.ADDR)\\\n",
    "    .select_from(join(User, Addr, User.c.PK==Addr.c.FK))\n",
    "cur = con.execute(sql)\n",
    "cur.fetchall()\n",
    "# 로그를 보고 정상적으로 수행이 됐음을 확인하면 됨."
   ]
  },
  {
   "cell_type": "code",
   "execution_count": 318,
   "metadata": {},
   "outputs": [
    {
     "name": "stdout",
     "output_type": "stream",
     "text": [
      "SELECT \"T_USER\".\"NAME\", \"T_ADDRESS\".\"ADDR\" \n",
      "FROM \"T_USER\" JOIN \"T_ADDRESS\" ON \"T_USER\".\"PK\" = \"T_ADDRESS\".\"FK\" \n",
      "WHERE \"T_USER\".\"PK\" = :PK_1\n"
     ]
    }
   ],
   "source": [
    "print(select(User.c.NAME, Addr.c.ADDR)\\\n",
    "    .select_from(join(User, Addr, User.c.PK==Addr.c.FK))\\\n",
    "    .where(User.c.PK==1))"
   ]
  },
  {
   "cell_type": "code",
   "execution_count": 226,
   "metadata": {},
   "outputs": [
    {
     "name": "stdout",
     "output_type": "stream",
     "text": [
      "INSERT INTO \"T_ADDRESS\" (\"PK\", \"ADDR\", \"FK\") VALUES (:PK, :ADDR, :FK)\n"
     ]
    }
   ],
   "source": [
    "print(insert(Addr))"
   ]
  },
  {
   "cell_type": "code",
   "execution_count": 319,
   "metadata": {},
   "outputs": [
    {
     "name": "stdout",
     "output_type": "stream",
     "text": [
      "{'ADDR': '아무거나', 'FK': 1}\n"
     ]
    }
   ],
   "source": [
    "print(insert(Addr).values(ADDR='아무거나', FK=1).compile().params)"
   ]
  },
  {
   "cell_type": "code",
   "execution_count": 320,
   "metadata": {},
   "outputs": [
    {
     "name": "stdout",
     "output_type": "stream",
     "text": [
      "SELECT \"T_USER\".\"PK\", \"T_USER\".\"NAME\" \n",
      "FROM \"T_USER\" \n",
      "WHERE \"T_USER\".\"PK\" = :PK_1\n",
      "\n",
      "SELECT \"T_USER\".\"PK\", \"T_USER\".\"NAME\" \n",
      "FROM \"T_USER\"\n"
     ]
    }
   ],
   "source": [
    "print(User.select().where(User.c.PK==1))\n",
    "print('')\n",
    "print(select(User))"
   ]
  },
  {
   "cell_type": "code",
   "execution_count": 321,
   "metadata": {},
   "outputs": [
    {
     "name": "stdout",
     "output_type": "stream",
     "text": [
      "2023-03-08 00:42:50,555 INFO sqlalchemy.engine.Engine INSERT INTO \"T_ADDRESS\" (\"ADDR\", \"FK\") VALUES (?, ?)\n",
      "2023-03-08 00:42:50,556 INFO sqlalchemy.engine.Engine [generated in 0.00099s] ('아무거나', 1)\n"
     ]
    },
    {
     "data": {
      "text/plain": [
       "<sqlalchemy.engine.cursor.CursorResult at 0x7fef7ab68fa0>"
      ]
     },
     "execution_count": 321,
     "metadata": {},
     "output_type": "execute_result"
    }
   ],
   "source": [
    "con.execute(insert(Addr).values(ADDR='아무거나', FK=1))"
   ]
  },
  {
   "cell_type": "code",
   "execution_count": 325,
   "metadata": {},
   "outputs": [
    {
     "name": "stdout",
     "output_type": "stream",
     "text": [
      "2023-03-08 00:43:54,591 INFO sqlalchemy.engine.Engine INSERT INTO \"T_USER\" (\"NAME\") VALUES (?)\n",
      "2023-03-08 00:43:54,592 INFO sqlalchemy.engine.Engine [cached since 328.2s ago] ('아무나',)\n"
     ]
    },
    {
     "data": {
      "text/plain": [
       "<sqlalchemy.engine.cursor.CursorResult at 0x7fef7ab68ee0>"
      ]
     },
     "execution_count": 325,
     "metadata": {},
     "output_type": "execute_result"
    }
   ],
   "source": [
    "con.execute(insert(User).values(NAME='아무나'))"
   ]
  },
  {
   "cell_type": "code",
   "execution_count": 330,
   "metadata": {},
   "outputs": [
    {
     "name": "stdout",
     "output_type": "stream",
     "text": [
      "2023-03-08 00:44:20,767 INFO sqlalchemy.engine.Engine BEGIN (implicit)\n",
      "2023-03-08 00:44:20,768 INFO sqlalchemy.engine.Engine PRAGMA main.table_info(\"T_USER\")\n",
      "2023-03-08 00:44:20,768 INFO sqlalchemy.engine.Engine [raw sql] ()\n",
      "2023-03-08 00:44:20,769 INFO sqlalchemy.engine.Engine PRAGMA main.table_info(\"T_ADDRESS\")\n",
      "2023-03-08 00:44:20,769 INFO sqlalchemy.engine.Engine [raw sql] ()\n",
      "2023-03-08 00:44:20,770 INFO sqlalchemy.engine.Engine COMMIT\n"
     ]
    }
   ],
   "source": [
    "meta.create_all(engine)"
   ]
  },
  {
   "cell_type": "code",
   "execution_count": 327,
   "metadata": {},
   "outputs": [
    {
     "name": "stdout",
     "output_type": "stream",
     "text": [
      "2023-03-08 00:43:59,011 INFO sqlalchemy.engine.Engine SELECT \"T_USER\".\"PK\", \"T_USER\".\"NAME\" \n",
      "FROM \"T_USER\"\n",
      "2023-03-08 00:43:59,012 INFO sqlalchemy.engine.Engine [cached since 323.9s ago] ()\n",
      "[(1, '아무나')]\n"
     ]
    }
   ],
   "source": [
    "print(con.execute(select(User)).fetchall())\n",
    "# 아무것도 안 들어가 있음"
   ]
  },
  {
   "cell_type": "code",
   "execution_count": 328,
   "metadata": {},
   "outputs": [
    {
     "name": "stdout",
     "output_type": "stream",
     "text": [
      "2023-03-08 00:44:03,987 INFO sqlalchemy.engine.Engine SELECT \"T_USER\".\"PK\", \"T_USER\".\"NAME\" \n",
      "FROM \"T_USER\" \n",
      "WHERE \"T_USER\".\"PK\" = ?\n",
      "2023-03-08 00:44:03,992 INFO sqlalchemy.engine.Engine [generated in 0.00449s] (1,)\n"
     ]
    }
   ],
   "source": [
    "FK = con.execute(User.select().where(User.c.PK == 1)).fetchone()[0]\n",
    "# 1. User객체 - SELECT - WHERE => SQL문\n",
    "# 2. engine의 connection pool onnection -> con -> con.execute 실행\n",
    "# 3. 2번의 결과가 resultproxy -> cursor\n",
    "# 4. 3의 결과를(커서가 가리키는 곳에 DB 결과가 있음, DB의 실제 데이터) fetchone(1행의 1열 가져온 것 = PK 값)"
   ]
  },
  {
   "cell_type": "code",
   "execution_count": 329,
   "metadata": {},
   "outputs": [
    {
     "name": "stdout",
     "output_type": "stream",
     "text": [
      "2023-03-08 00:44:08,345 INFO sqlalchemy.engine.Engine INSERT INTO \"T_ADDRESS\" (\"ADDR\", \"FK\") VALUES (?, ?)\n",
      "2023-03-08 00:44:08,346 INFO sqlalchemy.engine.Engine [cached since 77.79s ago] ('아무거나', 1)\n"
     ]
    },
    {
     "data": {
      "text/plain": [
       "2"
      ]
     },
     "execution_count": 329,
     "metadata": {},
     "output_type": "execute_result"
    }
   ],
   "source": [
    "cur = con.execute(insert(Addr).values(ADDR='아무거나', FK=FK))\n",
    "cur.lastrowid"
   ]
  },
  {
   "cell_type": "code",
   "execution_count": 331,
   "metadata": {},
   "outputs": [
    {
     "name": "stdout",
     "output_type": "stream",
     "text": [
      "2023-03-08 00:44:44,212 INFO sqlalchemy.engine.Engine COMMIT\n"
     ]
    }
   ],
   "source": [
    "con.commit()\n",
    "# 이게 있어야 실제 DB에 반영이 됨"
   ]
  },
  {
   "cell_type": "code",
   "execution_count": 332,
   "metadata": {},
   "outputs": [],
   "source": [
    "con.close()\n",
    "meta.clear()\n",
    "engine.dispose()"
   ]
  },
  {
   "cell_type": "code",
   "execution_count": 333,
   "metadata": {},
   "outputs": [],
   "source": [
    "engine = create_engine('sqlite:///orm2.db', echo=True) # 기존에 작업해놓은 DB\n",
    "meta = MetaData() # bind\n",
    "con = engine.connect()"
   ]
  },
  {
   "cell_type": "code",
   "execution_count": 334,
   "metadata": {},
   "outputs": [
    {
     "name": "stdout",
     "output_type": "stream",
     "text": [
      "2023-03-08 00:45:09,722 INFO sqlalchemy.engine.Engine BEGIN (implicit)\n",
      "2023-03-08 00:45:09,723 INFO sqlalchemy.engine.Engine COMMIT\n"
     ]
    }
   ],
   "source": [
    "meta.create_all(engine)"
   ]
  },
  {
   "cell_type": "code",
   "execution_count": 143,
   "metadata": {},
   "outputs": [],
   "source": [
    "# con.close()\n",
    "# con = engine.connect()"
   ]
  },
  {
   "cell_type": "code",
   "execution_count": 335,
   "metadata": {},
   "outputs": [
    {
     "data": {
      "text/plain": [
       "FacadeDict({})"
      ]
     },
     "execution_count": 335,
     "metadata": {},
     "output_type": "execute_result"
    }
   ],
   "source": [
    "meta.tables"
   ]
  },
  {
   "cell_type": "code",
   "execution_count": 336,
   "metadata": {},
   "outputs": [
    {
     "data": {
      "text/plain": [
       "Table('T_USER', MetaData(), Column('PK', Integer(), table=<T_USER>), schema=None)"
      ]
     },
     "execution_count": 336,
     "metadata": {},
     "output_type": "execute_result"
    }
   ],
   "source": [
    "Table('T_USER', meta,\n",
    "      Column('PK', Integer))"
   ]
  },
  {
   "cell_type": "code",
   "execution_count": 337,
   "metadata": {},
   "outputs": [
    {
     "name": "stdout",
     "output_type": "stream",
     "text": [
      "2023-03-08 00:45:16,690 INFO sqlalchemy.engine.Engine BEGIN (implicit)\n",
      "2023-03-08 00:45:16,691 INFO sqlalchemy.engine.Engine PRAGMA main.table_info(\"T_USER\")\n",
      "2023-03-08 00:45:16,691 INFO sqlalchemy.engine.Engine [raw sql] ()\n",
      "2023-03-08 00:45:16,692 INFO sqlalchemy.engine.Engine COMMIT\n"
     ]
    }
   ],
   "source": [
    "meta.create_all(engine)\n",
    "# 나는 engine 줘야 함"
   ]
  },
  {
   "cell_type": "code",
   "execution_count": 338,
   "metadata": {},
   "outputs": [
    {
     "name": "stdout",
     "output_type": "stream",
     "text": [
      "2023-03-08 00:45:18,588 INFO sqlalchemy.engine.Engine BEGIN (implicit)\n",
      "2023-03-08 00:45:18,591 INFO sqlalchemy.engine.Engine SELECT \"T_USER\".\"PK\" \n",
      "FROM \"T_USER\"\n",
      "2023-03-08 00:45:18,592 INFO sqlalchemy.engine.Engine [generated in 0.00356s] ()\n"
     ]
    },
    {
     "data": {
      "text/plain": [
       "[(1,)]"
      ]
     },
     "execution_count": 338,
     "metadata": {},
     "output_type": "execute_result"
    }
   ],
   "source": [
    "con.execute(meta.tables['T_USER'].select()).fetchall()"
   ]
  },
  {
   "cell_type": "code",
   "execution_count": 339,
   "metadata": {},
   "outputs": [
    {
     "data": {
      "text/plain": [
       "Table('T_USER', MetaData(), Column('PK', Integer(), table=<T_USER>, primary_key=True, nullable=False), Column('NAME', String(), table=<T_USER>, nullable=False), schema=None)"
      ]
     },
     "execution_count": 339,
     "metadata": {},
     "output_type": "execute_result"
    }
   ],
   "source": [
    "User"
   ]
  },
  {
   "cell_type": "code",
   "execution_count": 346,
   "metadata": {},
   "outputs": [
    {
     "data": {
      "text/plain": [
       "Table('T_USER', MetaData(), Column('PK', Integer(), table=<T_USER>), Column('TEST', String(), table=<T_USER>), schema=None)"
      ]
     },
     "execution_count": 346,
     "metadata": {},
     "output_type": "execute_result"
    }
   ],
   "source": [
    "# 원래는 안되는게 맞는 것\n",
    "Table('T_USER', meta,\n",
    "      Column('PK', Integer),\n",
    "      Column('TEST', String),\n",
    "      extend_existing=True)\n",
    "\n",
    "# 메모리에서 관리하는 db 를 수정할 수 있다는 것"
   ]
  },
  {
   "cell_type": "code",
   "execution_count": 347,
   "metadata": {},
   "outputs": [],
   "source": [
    "meta.bind = engine"
   ]
  },
  {
   "cell_type": "code",
   "execution_count": 348,
   "metadata": {},
   "outputs": [
    {
     "name": "stdout",
     "output_type": "stream",
     "text": [
      "2023-03-08 00:46:35,642 INFO sqlalchemy.engine.Engine BEGIN (implicit)\n",
      "2023-03-08 00:46:35,643 INFO sqlalchemy.engine.Engine PRAGMA main.table_info(\"T_USER\")\n",
      "2023-03-08 00:46:35,643 INFO sqlalchemy.engine.Engine [raw sql] ()\n",
      "2023-03-08 00:46:35,645 INFO sqlalchemy.engine.Engine COMMIT\n"
     ]
    }
   ],
   "source": [
    "meta.create_all(engine)\n",
    "# 나는 engine 줘야 함"
   ]
  },
  {
   "cell_type": "code",
   "execution_count": 349,
   "metadata": {},
   "outputs": [
    {
     "name": "stdout",
     "output_type": "stream",
     "text": [
      "2023-03-08 00:46:44,808 INFO sqlalchemy.engine.Engine COMMIT\n"
     ]
    }
   ],
   "source": [
    "con.commit()"
   ]
  },
  {
   "cell_type": "code",
   "execution_count": 350,
   "metadata": {},
   "outputs": [
    {
     "data": {
      "text/plain": [
       "Engine(sqlite:///orm2.db)"
      ]
     },
     "execution_count": 350,
     "metadata": {},
     "output_type": "execute_result"
    }
   ],
   "source": [
    "meta.bind"
   ]
  },
  {
   "cell_type": "code",
   "execution_count": 351,
   "metadata": {},
   "outputs": [
    {
     "data": {
      "text/plain": [
       "FacadeDict({'T_USER': Table('T_USER', MetaData(), Column('PK', Integer(), table=<T_USER>), Column('TEST', String(), table=<T_USER>), schema=None)})"
      ]
     },
     "execution_count": 351,
     "metadata": {},
     "output_type": "execute_result"
    }
   ],
   "source": [
    "meta.tables"
   ]
  },
  {
   "cell_type": "code",
   "execution_count": 352,
   "metadata": {},
   "outputs": [
    {
     "name": "stdout",
     "output_type": "stream",
     "text": [
      "2023-03-08 00:46:56,227 INFO sqlalchemy.engine.Engine BEGIN (implicit)\n",
      "2023-03-08 00:46:56,231 INFO sqlalchemy.engine.Engine SELECT \"T_USER\".\"PK\" \n",
      "FROM \"T_USER\"\n",
      "2023-03-08 00:46:56,234 INFO sqlalchemy.engine.Engine [cached since 97.65s ago] ()\n"
     ]
    },
    {
     "data": {
      "text/plain": [
       "[(1,)]"
      ]
     },
     "execution_count": 352,
     "metadata": {},
     "output_type": "execute_result"
    }
   ],
   "source": [
    "con.execute(select(meta.tables['T_USER'])).fetchall()"
   ]
  },
  {
   "cell_type": "code",
   "execution_count": 87,
   "metadata": {},
   "outputs": [
    {
     "name": "stdout",
     "output_type": "stream",
     "text": [
      "2023-03-07 13:58:27,502 INFO sqlalchemy.engine.Engine BEGIN (implicit)\n",
      "2023-03-07 13:58:27,503 INFO sqlalchemy.engine.Engine PRAGMA main.table_info(\"T_USER\")\n",
      "2023-03-07 13:58:27,503 INFO sqlalchemy.engine.Engine [raw sql] ()\n",
      "2023-03-07 13:58:27,504 INFO sqlalchemy.engine.Engine COMMIT\n"
     ]
    }
   ],
   "source": [
    "meta.create_all(engine)"
   ]
  },
  {
   "cell_type": "code",
   "execution_count": null,
   "metadata": {},
   "outputs": [],
   "source": [
    "# 이런 과정들이 헷갈리는 이유\n",
    "물리적 DB <----------> in memory Class-Instance 가 달라서.\n",
    "            ORM - Core\n",
    "                            MetaData\n",
    "engine-dialect\n",
    "T_USER                      T_USER(meta) (없는 Column)"
   ]
  },
  {
   "attachments": {},
   "cell_type": "markdown",
   "metadata": {},
   "source": [
    "#### 예제 시작"
   ]
  },
  {
   "cell_type": "code",
   "execution_count": 353,
   "metadata": {},
   "outputs": [
    {
     "name": "stdout",
     "output_type": "stream",
     "text": [
      "2023-03-08 00:48:16,222 INFO sqlalchemy.engine.Engine ROLLBACK\n"
     ]
    }
   ],
   "source": [
    "con.close()\n",
    "meta.clear()\n",
    "engine.dispose()"
   ]
  },
  {
   "cell_type": "code",
   "execution_count": 354,
   "metadata": {},
   "outputs": [
    {
     "name": "stdout",
     "output_type": "stream",
     "text": [
      "03.02(오후).ipynb           orm2.db\n",
      "03.03(오전).ipynb           playlist.db\n",
      "03.03(오후).ipynb           playlist2.db\n",
      "03.06(오전).ipynb           playlist4.db\n",
      "03.06(오후).ipynb           project_exercise.py\n",
      "03.07(오전).ipynb           sns.db\n",
      "03.07(오후).ipynb           sns2.db\n",
      "example1.db                 test.db\n",
      "example2.db                 test1.db\n",
      "example3.db                 \u001b[1m\u001b[36m강의자료\u001b[m\u001b[m\n",
      "orm1.db\n"
     ]
    }
   ],
   "source": [
    "!ls"
   ]
  },
  {
   "cell_type": "code",
   "execution_count": 355,
   "metadata": {},
   "outputs": [],
   "source": [
    "engine = create_engine('sqlite:///example3.db', echo=True) # 기존에 작업해놓은 DB\n",
    "meta = MetaData() # bind\n",
    "con = engine.connect()"
   ]
  },
  {
   "cell_type": "code",
   "execution_count": 356,
   "metadata": {},
   "outputs": [
    {
     "data": {
      "text/plain": [
       "Table('sells', MetaData(), Column('fk1', Integer(), table=<sells>), Column('fk2', Integer(), table=<sells>), Column('price', Integer(), table=<sells>), schema=None)"
      ]
     },
     "execution_count": 356,
     "metadata": {},
     "output_type": "execute_result"
    }
   ],
   "source": [
    "# 구조\n",
    "# city, part, sells, supplier\n",
    "# pk, name      fk1,fk2,price       fk\n",
    "Table('city', meta,\n",
    "      Column('pk', Integer, primary_key=True),\n",
    "      Column('name', String), extend_existing=True)\n",
    "Table('part', meta,\n",
    "      Column('pk', Integer, primary_key=True),\n",
    "      Column('name', String), extend_existing=True)\n",
    "Table('supplier', meta,\n",
    "      Column('pk', Integer, primary_key=True),\n",
    "      Column('name', String),\n",
    "      Column('fk', Integer), extend_existing=True)\n",
    "Table('sells', meta,\n",
    "      Column('fk1', Integer),\n",
    "      Column('fk2', Integer),\n",
    "      Column('price', Integer), extend_existing=True)"
   ]
  },
  {
   "cell_type": "code",
   "execution_count": 357,
   "metadata": {},
   "outputs": [
    {
     "name": "stdout",
     "output_type": "stream",
     "text": [
      "2023-03-08 00:48:57,459 INFO sqlalchemy.engine.Engine BEGIN (implicit)\n",
      "2023-03-08 00:48:57,460 INFO sqlalchemy.engine.Engine PRAGMA main.table_info(\"city\")\n",
      "2023-03-08 00:48:57,460 INFO sqlalchemy.engine.Engine [raw sql] ()\n",
      "2023-03-08 00:48:57,462 INFO sqlalchemy.engine.Engine PRAGMA main.table_info(\"part\")\n",
      "2023-03-08 00:48:57,463 INFO sqlalchemy.engine.Engine [raw sql] ()\n",
      "2023-03-08 00:48:57,464 INFO sqlalchemy.engine.Engine PRAGMA main.table_info(\"supplier\")\n",
      "2023-03-08 00:48:57,464 INFO sqlalchemy.engine.Engine [raw sql] ()\n",
      "2023-03-08 00:48:57,465 INFO sqlalchemy.engine.Engine PRAGMA main.table_info(\"sells\")\n",
      "2023-03-08 00:48:57,465 INFO sqlalchemy.engine.Engine [raw sql] ()\n",
      "2023-03-08 00:48:57,466 INFO sqlalchemy.engine.Engine COMMIT\n"
     ]
    }
   ],
   "source": [
    "meta.create_all(engine)"
   ]
  },
  {
   "cell_type": "code",
   "execution_count": 358,
   "metadata": {},
   "outputs": [
    {
     "name": "stdout",
     "output_type": "stream",
     "text": [
      "2023-03-08 00:49:01,038 INFO sqlalchemy.engine.Engine BEGIN (implicit)\n",
      "2023-03-08 00:49:01,039 INFO sqlalchemy.engine.Engine SELECT sells.fk1, sells.fk2, sells.price \n",
      "FROM sells\n",
      "2023-03-08 00:49:01,039 INFO sqlalchemy.engine.Engine [generated in 0.00176s] ()\n"
     ]
    },
    {
     "data": {
      "text/plain": [
       "[(1, 1, 4500),\n",
       " (1, 2, 4500),\n",
       " (1, 2, 5000),\n",
       " (2, 1, 4700),\n",
       " (2, 2, 4900),\n",
       " (3, 4, 5300),\n",
       " (3, 5, 2300),\n",
       " (3, 1, 900)]"
      ]
     },
     "execution_count": 358,
     "metadata": {},
     "output_type": "execute_result"
    }
   ],
   "source": [
    "con.execute(select(meta.tables['sells'])).fetchall() # sells 에 아무것도 없음"
   ]
  },
  {
   "cell_type": "code",
   "execution_count": 359,
   "metadata": {},
   "outputs": [],
   "source": [
    "city = meta.tables['city']\n",
    "supplier = meta.tables['supplier']\n",
    "part = meta.tables['part']\n",
    "sells = meta.tables['sells']"
   ]
  },
  {
   "cell_type": "code",
   "execution_count": 360,
   "metadata": {},
   "outputs": [
    {
     "name": "stdout",
     "output_type": "stream",
     "text": [
      "2023-03-08 00:49:23,131 INFO sqlalchemy.engine.Engine SELECT city.name, supplier.name AS name_1 \n",
      "FROM city JOIN supplier ON city.pk = supplier.fk\n",
      "2023-03-08 00:49:23,132 INFO sqlalchemy.engine.Engine [generated in 0.00130s] ()\n"
     ]
    },
    {
     "data": {
      "text/plain": [
       "[('성북구', '안암 1호점'), ('성북구', '안암 2호점'), ('성북구', '종암 1호점')]"
      ]
     },
     "execution_count": 360,
     "metadata": {},
     "output_type": "execute_result"
    }
   ],
   "source": [
    "sql = select(city.c.name, supplier.c.name)\\\n",
    "    .select_from(join(city, supplier, city.c.pk == supplier.c.fk))\n",
    "con.execute(sql).fetchall()"
   ]
  },
  {
   "cell_type": "code",
   "execution_count": null,
   "metadata": {},
   "outputs": [],
   "source": [
    "# supplier - sells - part 3개 조인\n",
    "# city - supplier - sells - part 4개 조인\n",
    "# select 할 columns 지정도 해보고\n",
    "# where 조건도 표현해보고\n",
    "# groupby, orderby => 할 수 있음 해보고(PPT에 있음)\n",
    "\n",
    "#! 여기까지 코어를 실행한 것"
   ]
  },
  {
   "cell_type": "code",
   "execution_count": 361,
   "metadata": {},
   "outputs": [],
   "source": [
    "# 플레이리스트 예제\n",
    "engine = create_engine('sqlite:///playlist4.db', echo=True)\n",
    "meta = MetaData()\n",
    "con = engine.connect()"
   ]
  },
  {
   "cell_type": "code",
   "execution_count": 362,
   "metadata": {},
   "outputs": [
    {
     "name": "stdout",
     "output_type": "stream",
     "text": [
      "2023-03-08 00:50:20,160 INFO sqlalchemy.engine.Engine BEGIN (implicit)\n",
      "2023-03-08 00:50:20,161 INFO sqlalchemy.engine.Engine SELECT name FROM sqlite_master WHERE type='table' AND name NOT LIKE 'sqlite~_%' ESCAPE '~' ORDER BY name\n",
      "2023-03-08 00:50:20,161 INFO sqlalchemy.engine.Engine [raw sql] ()\n",
      "2023-03-08 00:50:20,163 INFO sqlalchemy.engine.Engine SELECT name FROM sqlite_temp_master WHERE type='table' AND name NOT LIKE 'sqlite~_%' ESCAPE '~' ORDER BY name\n",
      "2023-03-08 00:50:20,164 INFO sqlalchemy.engine.Engine [raw sql] ()\n",
      "2023-03-08 00:50:20,164 INFO sqlalchemy.engine.Engine PRAGMA main.table_xinfo(\"album\")\n",
      "2023-03-08 00:50:20,165 INFO sqlalchemy.engine.Engine [raw sql] ()\n",
      "2023-03-08 00:50:20,166 INFO sqlalchemy.engine.Engine PRAGMA main.table_xinfo(\"artist\")\n",
      "2023-03-08 00:50:20,166 INFO sqlalchemy.engine.Engine [raw sql] ()\n",
      "2023-03-08 00:50:20,167 INFO sqlalchemy.engine.Engine PRAGMA main.table_xinfo(\"genre\")\n",
      "2023-03-08 00:50:20,167 INFO sqlalchemy.engine.Engine [raw sql] ()\n",
      "2023-03-08 00:50:20,168 INFO sqlalchemy.engine.Engine PRAGMA main.table_xinfo(\"track\")\n",
      "2023-03-08 00:50:20,169 INFO sqlalchemy.engine.Engine [raw sql] ()\n",
      "2023-03-08 00:50:20,169 INFO sqlalchemy.engine.Engine SELECT sql FROM  (SELECT * FROM sqlite_master UNION ALL   SELECT * FROM sqlite_temp_master) WHERE name = ? AND type in ('table', 'view')\n",
      "2023-03-08 00:50:20,170 INFO sqlalchemy.engine.Engine [raw sql] ('album',)\n",
      "2023-03-08 00:50:20,171 INFO sqlalchemy.engine.Engine SELECT sql FROM  (SELECT * FROM sqlite_master UNION ALL   SELECT * FROM sqlite_temp_master) WHERE name = ? AND type in ('table', 'view')\n",
      "2023-03-08 00:50:20,171 INFO sqlalchemy.engine.Engine [raw sql] ('artist',)\n",
      "2023-03-08 00:50:20,172 INFO sqlalchemy.engine.Engine SELECT sql FROM  (SELECT * FROM sqlite_master UNION ALL   SELECT * FROM sqlite_temp_master) WHERE name = ? AND type in ('table', 'view')\n",
      "2023-03-08 00:50:20,172 INFO sqlalchemy.engine.Engine [raw sql] ('genre',)\n",
      "2023-03-08 00:50:20,173 INFO sqlalchemy.engine.Engine SELECT sql FROM  (SELECT * FROM sqlite_master UNION ALL   SELECT * FROM sqlite_temp_master) WHERE name = ? AND type in ('table', 'view')\n",
      "2023-03-08 00:50:20,174 INFO sqlalchemy.engine.Engine [raw sql] ('track',)\n",
      "2023-03-08 00:50:20,175 INFO sqlalchemy.engine.Engine PRAGMA main.foreign_key_list(\"album\")\n",
      "2023-03-08 00:50:20,175 INFO sqlalchemy.engine.Engine [raw sql] ()\n",
      "2023-03-08 00:50:20,176 INFO sqlalchemy.engine.Engine PRAGMA temp.foreign_key_list(\"album\")\n",
      "2023-03-08 00:50:20,177 INFO sqlalchemy.engine.Engine [raw sql] ()\n",
      "2023-03-08 00:50:20,178 INFO sqlalchemy.engine.Engine SELECT sql FROM  (SELECT * FROM sqlite_master UNION ALL   SELECT * FROM sqlite_temp_master) WHERE name = ? AND type in ('table', 'view')\n",
      "2023-03-08 00:50:20,179 INFO sqlalchemy.engine.Engine [raw sql] ('album',)\n",
      "2023-03-08 00:50:20,180 INFO sqlalchemy.engine.Engine PRAGMA main.foreign_key_list(\"artist\")\n",
      "2023-03-08 00:50:20,181 INFO sqlalchemy.engine.Engine [raw sql] ()\n",
      "2023-03-08 00:50:20,181 INFO sqlalchemy.engine.Engine PRAGMA temp.foreign_key_list(\"artist\")\n",
      "2023-03-08 00:50:20,182 INFO sqlalchemy.engine.Engine [raw sql] ()\n",
      "2023-03-08 00:50:20,183 INFO sqlalchemy.engine.Engine SELECT sql FROM  (SELECT * FROM sqlite_master UNION ALL   SELECT * FROM sqlite_temp_master) WHERE name = ? AND type in ('table', 'view')\n",
      "2023-03-08 00:50:20,183 INFO sqlalchemy.engine.Engine [raw sql] ('artist',)\n",
      "2023-03-08 00:50:20,184 INFO sqlalchemy.engine.Engine PRAGMA main.foreign_key_list(\"genre\")\n",
      "2023-03-08 00:50:20,185 INFO sqlalchemy.engine.Engine [raw sql] ()\n",
      "2023-03-08 00:50:20,186 INFO sqlalchemy.engine.Engine PRAGMA temp.foreign_key_list(\"genre\")\n",
      "2023-03-08 00:50:20,187 INFO sqlalchemy.engine.Engine [raw sql] ()\n",
      "2023-03-08 00:50:20,188 INFO sqlalchemy.engine.Engine SELECT sql FROM  (SELECT * FROM sqlite_master UNION ALL   SELECT * FROM sqlite_temp_master) WHERE name = ? AND type in ('table', 'view')\n",
      "2023-03-08 00:50:20,188 INFO sqlalchemy.engine.Engine [raw sql] ('genre',)\n",
      "2023-03-08 00:50:20,189 INFO sqlalchemy.engine.Engine PRAGMA main.foreign_key_list(\"track\")\n",
      "2023-03-08 00:50:20,190 INFO sqlalchemy.engine.Engine [raw sql] ()\n",
      "2023-03-08 00:50:20,190 INFO sqlalchemy.engine.Engine PRAGMA temp.foreign_key_list(\"track\")\n",
      "2023-03-08 00:50:20,191 INFO sqlalchemy.engine.Engine [raw sql] ()\n",
      "2023-03-08 00:50:20,191 INFO sqlalchemy.engine.Engine SELECT sql FROM  (SELECT * FROM sqlite_master UNION ALL   SELECT * FROM sqlite_temp_master) WHERE name = ? AND type in ('table', 'view')\n",
      "2023-03-08 00:50:20,192 INFO sqlalchemy.engine.Engine [raw sql] ('track',)\n",
      "2023-03-08 00:50:20,193 INFO sqlalchemy.engine.Engine PRAGMA main.index_list(\"album\")\n",
      "2023-03-08 00:50:20,194 INFO sqlalchemy.engine.Engine [raw sql] ()\n",
      "2023-03-08 00:50:20,195 INFO sqlalchemy.engine.Engine PRAGMA temp.index_list(\"album\")\n",
      "2023-03-08 00:50:20,195 INFO sqlalchemy.engine.Engine [raw sql] ()\n",
      "2023-03-08 00:50:20,196 INFO sqlalchemy.engine.Engine PRAGMA main.table_info(\"album\")\n",
      "2023-03-08 00:50:20,197 INFO sqlalchemy.engine.Engine [raw sql] ()\n",
      "2023-03-08 00:50:20,198 INFO sqlalchemy.engine.Engine PRAGMA main.index_list(\"artist\")\n",
      "2023-03-08 00:50:20,198 INFO sqlalchemy.engine.Engine [raw sql] ()\n",
      "2023-03-08 00:50:20,199 INFO sqlalchemy.engine.Engine PRAGMA temp.index_list(\"artist\")\n",
      "2023-03-08 00:50:20,199 INFO sqlalchemy.engine.Engine [raw sql] ()\n",
      "2023-03-08 00:50:20,200 INFO sqlalchemy.engine.Engine PRAGMA main.table_info(\"artist\")\n",
      "2023-03-08 00:50:20,200 INFO sqlalchemy.engine.Engine [raw sql] ()\n",
      "2023-03-08 00:50:20,201 INFO sqlalchemy.engine.Engine PRAGMA main.index_list(\"genre\")\n",
      "2023-03-08 00:50:20,201 INFO sqlalchemy.engine.Engine [raw sql] ()\n",
      "2023-03-08 00:50:20,202 INFO sqlalchemy.engine.Engine PRAGMA temp.index_list(\"genre\")\n",
      "2023-03-08 00:50:20,203 INFO sqlalchemy.engine.Engine [raw sql] ()\n",
      "2023-03-08 00:50:20,204 INFO sqlalchemy.engine.Engine PRAGMA main.table_info(\"genre\")\n",
      "2023-03-08 00:50:20,204 INFO sqlalchemy.engine.Engine [raw sql] ()\n",
      "2023-03-08 00:50:20,205 INFO sqlalchemy.engine.Engine PRAGMA main.index_list(\"track\")\n",
      "2023-03-08 00:50:20,205 INFO sqlalchemy.engine.Engine [raw sql] ()\n",
      "2023-03-08 00:50:20,206 INFO sqlalchemy.engine.Engine PRAGMA temp.index_list(\"track\")\n",
      "2023-03-08 00:50:20,206 INFO sqlalchemy.engine.Engine [raw sql] ()\n",
      "2023-03-08 00:50:20,207 INFO sqlalchemy.engine.Engine PRAGMA main.table_info(\"track\")\n",
      "2023-03-08 00:50:20,207 INFO sqlalchemy.engine.Engine [raw sql] ()\n",
      "2023-03-08 00:50:20,209 INFO sqlalchemy.engine.Engine PRAGMA main.index_list(\"album\")\n",
      "2023-03-08 00:50:20,211 INFO sqlalchemy.engine.Engine [raw sql] ()\n",
      "2023-03-08 00:50:20,212 INFO sqlalchemy.engine.Engine PRAGMA temp.index_list(\"album\")\n",
      "2023-03-08 00:50:20,214 INFO sqlalchemy.engine.Engine [raw sql] ()\n",
      "2023-03-08 00:50:20,215 INFO sqlalchemy.engine.Engine PRAGMA main.table_info(\"album\")\n",
      "2023-03-08 00:50:20,216 INFO sqlalchemy.engine.Engine [raw sql] ()\n",
      "2023-03-08 00:50:20,218 INFO sqlalchemy.engine.Engine SELECT sql FROM  (SELECT * FROM sqlite_master UNION ALL   SELECT * FROM sqlite_temp_master) WHERE name = ? AND type in ('table', 'view')\n",
      "2023-03-08 00:50:20,220 INFO sqlalchemy.engine.Engine [raw sql] ('album',)\n",
      "2023-03-08 00:50:20,222 INFO sqlalchemy.engine.Engine PRAGMA main.index_list(\"artist\")\n",
      "2023-03-08 00:50:20,222 INFO sqlalchemy.engine.Engine [raw sql] ()\n",
      "2023-03-08 00:50:20,223 INFO sqlalchemy.engine.Engine PRAGMA temp.index_list(\"artist\")\n",
      "2023-03-08 00:50:20,224 INFO sqlalchemy.engine.Engine [raw sql] ()\n",
      "2023-03-08 00:50:20,225 INFO sqlalchemy.engine.Engine PRAGMA main.table_info(\"artist\")\n",
      "2023-03-08 00:50:20,226 INFO sqlalchemy.engine.Engine [raw sql] ()\n",
      "2023-03-08 00:50:20,227 INFO sqlalchemy.engine.Engine SELECT sql FROM  (SELECT * FROM sqlite_master UNION ALL   SELECT * FROM sqlite_temp_master) WHERE name = ? AND type in ('table', 'view')\n",
      "2023-03-08 00:50:20,228 INFO sqlalchemy.engine.Engine [raw sql] ('artist',)\n",
      "2023-03-08 00:50:20,228 INFO sqlalchemy.engine.Engine PRAGMA main.index_list(\"genre\")\n",
      "2023-03-08 00:50:20,229 INFO sqlalchemy.engine.Engine [raw sql] ()\n",
      "2023-03-08 00:50:20,230 INFO sqlalchemy.engine.Engine PRAGMA temp.index_list(\"genre\")\n",
      "2023-03-08 00:50:20,231 INFO sqlalchemy.engine.Engine [raw sql] ()\n",
      "2023-03-08 00:50:20,232 INFO sqlalchemy.engine.Engine PRAGMA main.table_info(\"genre\")\n",
      "2023-03-08 00:50:20,238 INFO sqlalchemy.engine.Engine [raw sql] ()\n",
      "2023-03-08 00:50:20,245 INFO sqlalchemy.engine.Engine SELECT sql FROM  (SELECT * FROM sqlite_master UNION ALL   SELECT * FROM sqlite_temp_master) WHERE name = ? AND type in ('table', 'view')\n",
      "2023-03-08 00:50:20,251 INFO sqlalchemy.engine.Engine [raw sql] ('genre',)\n",
      "2023-03-08 00:50:20,258 INFO sqlalchemy.engine.Engine PRAGMA main.index_list(\"track\")\n",
      "2023-03-08 00:50:20,269 INFO sqlalchemy.engine.Engine [raw sql] ()\n",
      "2023-03-08 00:50:20,277 INFO sqlalchemy.engine.Engine PRAGMA temp.index_list(\"track\")\n",
      "2023-03-08 00:50:20,283 INFO sqlalchemy.engine.Engine [raw sql] ()\n",
      "2023-03-08 00:50:20,287 INFO sqlalchemy.engine.Engine PRAGMA main.table_info(\"track\")\n",
      "2023-03-08 00:50:20,289 INFO sqlalchemy.engine.Engine [raw sql] ()\n",
      "2023-03-08 00:50:20,291 INFO sqlalchemy.engine.Engine SELECT sql FROM  (SELECT * FROM sqlite_master UNION ALL   SELECT * FROM sqlite_temp_master) WHERE name = ? AND type in ('table', 'view')\n",
      "2023-03-08 00:50:20,293 INFO sqlalchemy.engine.Engine [raw sql] ('track',)\n",
      "2023-03-08 00:50:20,296 INFO sqlalchemy.engine.Engine ROLLBACK\n"
     ]
    }
   ],
   "source": [
    "# 기존에 있던 DB 불러오는 것\n",
    "meta.reflect(engine)"
   ]
  },
  {
   "cell_type": "code",
   "execution_count": 363,
   "metadata": {},
   "outputs": [
    {
     "data": {
      "text/plain": [
       "dict_keys(['album', 'artist', 'genre', 'track'])"
      ]
     },
     "execution_count": 363,
     "metadata": {},
     "output_type": "execute_result"
    }
   ],
   "source": [
    "meta.tables.keys()"
   ]
  },
  {
   "cell_type": "code",
   "execution_count": 364,
   "metadata": {},
   "outputs": [],
   "source": [
    "album = meta.tables['album']\n",
    "artist = meta.tables['artist']"
   ]
  },
  {
   "cell_type": "code",
   "execution_count": 365,
   "metadata": {},
   "outputs": [
    {
     "name": "stdout",
     "output_type": "stream",
     "text": [
      "2023-03-08 00:50:53,795 INFO sqlalchemy.engine.Engine BEGIN (implicit)\n",
      "2023-03-08 00:50:53,796 INFO sqlalchemy.engine.Engine SELECT album.name, artist.name AS name_1 \n",
      "FROM album JOIN artist ON album.fk = artist.pk\n",
      "2023-03-08 00:50:53,796 INFO sqlalchemy.engine.Engine [generated in 0.00135s] ()\n"
     ]
    },
    {
     "data": {
      "text/plain": [
       "[('앨범1', '가수1'),\n",
       " ('앨범2', '가수2'),\n",
       " ('앨범3', '가수3'),\n",
       " ('앨범4', '가수4'),\n",
       " ('싱글1', '가수1'),\n",
       " ('싱글2', '가수2'),\n",
       " ('싱글3', '가수3'),\n",
       " ('싱글4', '가수4')]"
      ]
     },
     "execution_count": 365,
     "metadata": {},
     "output_type": "execute_result"
    }
   ],
   "source": [
    "sql = select(album.c.name, artist.c.name)\\\n",
    "    .select_from(join(album, artist, album.c.fk==artist.c.pk))\n",
    "con.execute(sql).fetchall()"
   ]
  },
  {
   "cell_type": "code",
   "execution_count": 366,
   "metadata": {},
   "outputs": [
    {
     "data": {
      "text/plain": [
       "(['pk', 'name', 'fk'], ['pk', 'name'])"
      ]
     },
     "execution_count": 366,
     "metadata": {},
     "output_type": "execute_result"
    }
   ],
   "source": [
    "album.columns.keys(), artist.columns.keys()\n",
    "# 전 수업에서 commit 안해서 데이터가 없음"
   ]
  },
  {
   "cell_type": "code",
   "execution_count": 367,
   "metadata": {},
   "outputs": [
    {
     "name": "stdout",
     "output_type": "stream",
     "text": [
      "2023-03-08 00:51:05,978 INFO sqlalchemy.engine.Engine SELECT album.pk, album.name, album.fk \n",
      "FROM album\n",
      "2023-03-08 00:51:05,979 INFO sqlalchemy.engine.Engine [generated in 0.00094s] ()\n"
     ]
    },
    {
     "data": {
      "text/plain": [
       "[(1, '앨범1', 1),\n",
       " (2, '앨범2', 2),\n",
       " (3, '앨범3', 3),\n",
       " (4, '앨범4', 4),\n",
       " (5, '싱글1', 1),\n",
       " (6, '싱글2', 2),\n",
       " (7, '싱글3', 3),\n",
       " (8, '싱글4', 4)]"
      ]
     },
     "execution_count": 367,
     "metadata": {},
     "output_type": "execute_result"
    }
   ],
   "source": [
    "con.execute(album.select()).fetchall()"
   ]
  },
  {
   "cell_type": "code",
   "execution_count": 370,
   "metadata": {},
   "outputs": [
    {
     "name": "stdout",
     "output_type": "stream",
     "text": [
      "2023-03-08 00:54:05,420 INFO sqlalchemy.engine.Engine INSERT INTO album (name, fk) VALUES (?, ?), (?, ?)\n",
      "2023-03-08 00:54:05,420 INFO sqlalchemy.engine.Engine [no key 0.00083s] ('아무개1', 1, '아무개2', 2)\n"
     ]
    },
    {
     "data": {
      "text/plain": [
       "<sqlalchemy.engine.cursor.CursorResult at 0x7fefab87b640>"
      ]
     },
     "execution_count": 370,
     "metadata": {},
     "output_type": "execute_result"
    }
   ],
   "source": [
    "# 데이터 넣어주기!!\n",
    "con.execute(insert(album).values([{'name':'아무개1', 'fk':1}, {'name':'아무개2', 'fk':2}]))\n",
    "#con.execute(insert(album).values({'name':'아무개2', 'fk':2}))"
   ]
  },
  {
   "cell_type": "code",
   "execution_count": 371,
   "metadata": {},
   "outputs": [
    {
     "name": "stdout",
     "output_type": "stream",
     "text": [
      "2023-03-08 00:54:45,020 INFO sqlalchemy.engine.Engine INSERT INTO artist (name) VALUES (?), (?)\n",
      "2023-03-08 00:54:45,020 INFO sqlalchemy.engine.Engine [no key 0.00084s] ('가수1', '가수2')\n"
     ]
    },
    {
     "data": {
      "text/plain": [
       "<sqlalchemy.engine.cursor.CursorResult at 0x7fefaa737520>"
      ]
     },
     "execution_count": 371,
     "metadata": {},
     "output_type": "execute_result"
    }
   ],
   "source": [
    "# 데이터 넣어주기!!\n",
    "con.execute(insert(artist).values([{'name':'가수1'},{'name':'가수2'}]))\n",
    "#con.execute(insert(artist).values({'name':'가수2'}))"
   ]
  },
  {
   "cell_type": "code",
   "execution_count": 372,
   "metadata": {},
   "outputs": [
    {
     "name": "stdout",
     "output_type": "stream",
     "text": [
      "2023-03-08 00:54:51,772 INFO sqlalchemy.engine.Engine SELECT album.name, artist.name AS name_1 \n",
      "FROM album JOIN artist ON album.fk = artist.pk\n",
      "2023-03-08 00:54:51,772 INFO sqlalchemy.engine.Engine [cached since 238s ago] ()\n"
     ]
    },
    {
     "data": {
      "text/plain": [
       "[('앨범1', '가수1'),\n",
       " ('앨범2', '가수2'),\n",
       " ('앨범3', '가수3'),\n",
       " ('앨범4', '가수4'),\n",
       " ('싱글1', '가수1'),\n",
       " ('싱글2', '가수2'),\n",
       " ('싱글3', '가수3'),\n",
       " ('싱글4', '가수4'),\n",
       " ('아무개1', '가수1'),\n",
       " ('아무개2', '가수2')]"
      ]
     },
     "execution_count": 372,
     "metadata": {},
     "output_type": "execute_result"
    }
   ],
   "source": [
    "sql = select(album.c.name, artist.c.name)\\\n",
    "    .select_from(join(album, artist, album.c.fk==artist.c.pk))\n",
    "con.execute(sql).fetchall()"
   ]
  },
  {
   "cell_type": "code",
   "execution_count": 105,
   "metadata": {},
   "outputs": [
    {
     "name": "stdout",
     "output_type": "stream",
     "text": [
      "2023-03-07 14:03:21,574 INFO sqlalchemy.engine.Engine ROLLBACK\n"
     ]
    }
   ],
   "source": [
    "con.close()\n",
    "meta.clear()\n",
    "engine.dispose()"
   ]
  },
  {
   "cell_type": "code",
   "execution_count": null,
   "metadata": {},
   "outputs": [],
   "source": [
    "# 기본적인 CORE 에서의 사용법을 배웠음 (지금까지)"
   ]
  },
  {
   "cell_type": "code",
   "execution_count": null,
   "metadata": {},
   "outputs": [],
   "source": [
    "# 항상 DB 만들면 COMMIT 해주기!!"
   ]
  },
  {
   "cell_type": "code",
   "execution_count": 373,
   "metadata": {},
   "outputs": [
    {
     "name": "stdout",
     "output_type": "stream",
     "text": [
      "INSERT INTO artist (pk, name) VALUES (:pk, :name)\n"
     ]
    }
   ],
   "source": [
    "print(insert(artist))\n",
    "# 이것은 실제 적용되는 것이 아니라, 전달되는 SQL 문이라는 것을 알아야 함."
   ]
  },
  {
   "cell_type": "code",
   "execution_count": 374,
   "metadata": {},
   "outputs": [
    {
     "name": "stdout",
     "output_type": "stream",
     "text": [
      "INSERT INTO artist (name) VALUES (:name)\n",
      "{'name': 'hjahaha'}\n"
     ]
    },
    {
     "data": {
      "text/plain": [
       "(None, None)"
      ]
     },
     "execution_count": 374,
     "metadata": {},
     "output_type": "execute_result"
    }
   ],
   "source": [
    "print(insert(artist).values(name='hjahaha')),\\\n",
    "print(insert(artist).values(name='hjahaha').compile().params)"
   ]
  },
  {
   "cell_type": "code",
   "execution_count": null,
   "metadata": {},
   "outputs": [],
   "source": [
    "# 파라미터 수에 따라 컬럼이 결정됨."
   ]
  },
  {
   "cell_type": "code",
   "execution_count": 375,
   "metadata": {},
   "outputs": [
    {
     "name": "stdout",
     "output_type": "stream",
     "text": [
      "2023-03-08 00:55:25,745 INFO sqlalchemy.engine.Engine UPDATE artist SET name=? WHERE artist.pk = ?\n",
      "2023-03-08 00:55:25,746 INFO sqlalchemy.engine.Engine [generated in 0.00102s] ('가수1', 1)\n"
     ]
    },
    {
     "data": {
      "text/plain": [
       "<sqlalchemy.engine.cursor.CursorResult at 0x7fefaa734b80>"
      ]
     },
     "execution_count": 375,
     "metadata": {},
     "output_type": "execute_result"
    }
   ],
   "source": [
    "con.execute(artist.update().values(name='가수1').where(artist.c.pk==1))"
   ]
  },
  {
   "cell_type": "code",
   "execution_count": 376,
   "metadata": {},
   "outputs": [
    {
     "name": "stdout",
     "output_type": "stream",
     "text": [
      "2023-03-08 00:55:30,096 INFO sqlalchemy.engine.Engine UPDATE artist SET name=? WHERE artist.pk = ?\n",
      "2023-03-08 00:55:30,097 INFO sqlalchemy.engine.Engine [cached since 4.352s ago] ('가수1', 1)\n",
      "<sqlalchemy.engine.cursor.CursorResult object at 0x7fefab87bb80>\n"
     ]
    }
   ],
   "source": [
    "print(con.execute(artist.update().values(name='가수1').where(artist.c.pk==1)))"
   ]
  },
  {
   "cell_type": "code",
   "execution_count": null,
   "metadata": {},
   "outputs": [],
   "source": [
    "# 실제 커넥션 풀에서 왔다갔다 해야 DB에 적용되는 것을 기억"
   ]
  },
  {
   "cell_type": "code",
   "execution_count": 119,
   "metadata": {},
   "outputs": [
    {
     "name": "stdout",
     "output_type": "stream",
     "text": [
      "2023-03-07 15:05:12,469 INFO sqlalchemy.engine.Engine SELECT artist.pk, artist.name \n",
      "FROM artist\n",
      "2023-03-07 15:05:12,473 INFO sqlalchemy.engine.Engine [generated in 0.00380s] ()\n"
     ]
    },
    {
     "data": {
      "text/plain": [
       "[(1, '가수1'), (2, '가수2'), (3, '가수3'), (4, '가수4')]"
      ]
     },
     "execution_count": 119,
     "metadata": {},
     "output_type": "execute_result"
    }
   ],
   "source": [
    "con.execute(artist.select()).fetchall()"
   ]
  },
  {
   "cell_type": "code",
   "execution_count": null,
   "metadata": {},
   "outputs": [],
   "source": [
    "sqlalchemy.__version__"
   ]
  },
  {
   "cell_type": "code",
   "execution_count": 120,
   "metadata": {},
   "outputs": [
    {
     "name": "stdout",
     "output_type": "stream",
     "text": [
      "artist JOIN album ON artist.pk = album.fk\n"
     ]
    }
   ],
   "source": [
    "print(artist.join(album, artist.c.pk==album.c.fk))"
   ]
  },
  {
   "cell_type": "code",
   "execution_count": null,
   "metadata": {},
   "outputs": [],
   "source": [
    "# 131p 그림에 주목할 것.\n",
    "# 이제부터는 위의 단을 만질 것. \n",
    "# 매핑"
   ]
  },
  {
   "cell_type": "code",
   "execution_count": null,
   "metadata": {},
   "outputs": [],
   "source": [
    "from sqlalchemy.ext.declarative import declarative_base"
   ]
  },
  {
   "cell_type": "code",
   "execution_count": null,
   "metadata": {},
   "outputs": [],
   "source": [
    "base = declarative_base()"
   ]
  },
  {
   "cell_type": "code",
   "execution_count": null,
   "metadata": {},
   "outputs": [],
   "source": [
    "base.metadata.tables"
   ]
  },
  {
   "cell_type": "code",
   "execution_count": null,
   "metadata": {},
   "outputs": [],
   "source": [
    "# 이제부터 코어단이 알아서 해주기 때문에 우리는 완전 편해진다.\n",
    "# 인스턴스만 생성해주면 됨.\n",
    "# Session 이 감시 -> 값의 변화가 있을 때."
   ]
  },
  {
   "cell_type": "code",
   "execution_count": null,
   "metadata": {},
   "outputs": [],
   "source": [
    "# 엔진이 커넥션 풀이랑 dialect를 들고 있음."
   ]
  }
 ],
 "metadata": {
  "kernelspec": {
   "display_name": "base",
   "language": "python",
   "name": "python3"
  },
  "language_info": {
   "codemirror_mode": {
    "name": "ipython",
    "version": 3
   },
   "file_extension": ".py",
   "mimetype": "text/x-python",
   "name": "python",
   "nbconvert_exporter": "python",
   "pygments_lexer": "ipython3",
   "version": "3.10.9"
  },
  "orig_nbformat": 4
 },
 "nbformat": 4,
 "nbformat_minor": 2
}
