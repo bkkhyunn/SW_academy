{
 "cells": [
  {
   "cell_type": "markdown",
   "metadata": {},
   "source": [
    "### **함수형 패러다임**"
   ]
  },
  {
   "cell_type": "code",
   "execution_count": null,
   "metadata": {},
   "outputs": [],
   "source": [
    "# 객채지향 + 함수형 패러다임의 결합"
   ]
  },
  {
   "cell_type": "code",
   "execution_count": null,
   "metadata": {},
   "outputs": [],
   "source": [
    "# Callables\n",
    "# Call 이란? -> 함수를 호출할 때 call 이라고 했음\n",
    "# 그렇다면 callable 은 쉽게 얘기해서 괄호() 를 붙힐 수 있는 것"
   ]
  },
  {
   "cell_type": "code",
   "execution_count": 1,
   "metadata": {},
   "outputs": [],
   "source": [
    "def x(a):\n",
    "    return a"
   ]
  },
  {
   "cell_type": "code",
   "execution_count": 2,
   "metadata": {},
   "outputs": [
    {
     "data": {
      "text/plain": [
       "<function __main__.x(a)>"
      ]
     },
     "execution_count": 2,
     "metadata": {},
     "output_type": "execute_result"
    }
   ],
   "source": [
    "# 여기서 함수는 x\n",
    "x"
   ]
  },
  {
   "cell_type": "code",
   "execution_count": null,
   "metadata": {},
   "outputs": [],
   "source": [
    "# 그렇다면 위에서 x 옆 ()는 무엇을 뜻할까?\n",
    "# 이 ()를 '연산자'라고 함."
   ]
  },
  {
   "cell_type": "code",
   "execution_count": 3,
   "metadata": {},
   "outputs": [
    {
     "data": {
      "text/plain": [
       "True"
      ]
     },
     "execution_count": 3,
     "metadata": {},
     "output_type": "execute_result"
    }
   ],
   "source": [
    "callable(x) # 이것이 뜻하는 바는 call 할 수 있나요?\n",
    "# ()는 정확한 용어는 아님. 사실\n",
    "# 밑에 True가 나오는 순간 괄호 붙힐 수 있음"
   ]
  },
  {
   "cell_type": "code",
   "execution_count": 4,
   "metadata": {},
   "outputs": [
    {
     "ename": "TypeError",
     "evalue": "'int' object is not callable",
     "output_type": "error",
     "traceback": [
      "\u001b[0;31m---------------------------------------------------------------------------\u001b[0m",
      "\u001b[0;31mTypeError\u001b[0m                                 Traceback (most recent call last)",
      "Cell \u001b[0;32mIn[4], line 2\u001b[0m\n\u001b[1;32m      1\u001b[0m a \u001b[39m=\u001b[39m \u001b[39m1\u001b[39m\n\u001b[0;32m----> 2\u001b[0m a()\n",
      "\u001b[0;31mTypeError\u001b[0m: 'int' object is not callable"
     ]
    }
   ],
   "source": [
    "a = 1\n",
    "a()\n",
    "# not callable -> ()를 붙힐 수 없다.\n",
    "# ()를 붙힐 수 있는지 확인하는 방법이다.\n",
    "# 그런데 매번 하기에는 귀찮음."
   ]
  },
  {
   "cell_type": "code",
   "execution_count": null,
   "metadata": {},
   "outputs": [],
   "source": [
    "# 우선 암기!\n",
    "#! 파이썬에 괄호를 붙힐 수 있는 것은 대표적으로 3가지\n",
    "#! 1. fuction과 method\n",
    "#! 2. class에 괄호 -> 인스턴스화 가능\n",
    "#! 3. 가장 범용적인 애 __call__이 정의되어 있는 것\n",
    "# 이들 3가지는 괄호를 붙힐 수 있음"
   ]
  },
  {
   "cell_type": "code",
   "execution_count": null,
   "metadata": {},
   "outputs": [],
   "source": [
    "len()\n",
    "# builtin_function_or_method 는 무엇을 뜻할까?"
   ]
  },
  {
   "cell_type": "code",
   "execution_count": 5,
   "metadata": {},
   "outputs": [],
   "source": [
    "class A:\n",
    "    pass"
   ]
  },
  {
   "cell_type": "code",
   "execution_count": 6,
   "metadata": {},
   "outputs": [
    {
     "data": {
      "text/plain": [
       "['__class__',\n",
       " '__delattr__',\n",
       " '__dict__',\n",
       " '__dir__',\n",
       " '__doc__',\n",
       " '__eq__',\n",
       " '__format__',\n",
       " '__ge__',\n",
       " '__getattribute__',\n",
       " '__gt__',\n",
       " '__hash__',\n",
       " '__init__',\n",
       " '__init_subclass__',\n",
       " '__le__',\n",
       " '__lt__',\n",
       " '__module__',\n",
       " '__ne__',\n",
       " '__new__',\n",
       " '__reduce__',\n",
       " '__reduce_ex__',\n",
       " '__repr__',\n",
       " '__setattr__',\n",
       " '__sizeof__',\n",
       " '__str__',\n",
       " '__subclasshook__',\n",
       " '__weakref__']"
      ]
     },
     "execution_count": 6,
     "metadata": {},
     "output_type": "execute_result"
    }
   ],
   "source": [
    "# class에 dir 하면 __call__이 없음\n",
    "dir(A)"
   ]
  },
  {
   "cell_type": "code",
   "execution_count": 7,
   "metadata": {},
   "outputs": [
    {
     "data": {
      "text/plain": [
       "['__abstractmethods__',\n",
       " '__annotations__',\n",
       " '__base__',\n",
       " '__bases__',\n",
       " '__basicsize__',\n",
       " '__call__',\n",
       " '__class__',\n",
       " '__delattr__',\n",
       " '__dict__',\n",
       " '__dictoffset__',\n",
       " '__dir__',\n",
       " '__doc__',\n",
       " '__eq__',\n",
       " '__flags__',\n",
       " '__format__',\n",
       " '__ge__',\n",
       " '__getattribute__',\n",
       " '__gt__',\n",
       " '__hash__',\n",
       " '__init__',\n",
       " '__init_subclass__',\n",
       " '__instancecheck__',\n",
       " '__itemsize__',\n",
       " '__le__',\n",
       " '__lt__',\n",
       " '__module__',\n",
       " '__mro__',\n",
       " '__name__',\n",
       " '__ne__',\n",
       " '__new__',\n",
       " '__or__',\n",
       " '__prepare__',\n",
       " '__qualname__',\n",
       " '__reduce__',\n",
       " '__reduce_ex__',\n",
       " '__repr__',\n",
       " '__ror__',\n",
       " '__setattr__',\n",
       " '__sizeof__',\n",
       " '__str__',\n",
       " '__subclasscheck__',\n",
       " '__subclasses__',\n",
       " '__subclasshook__',\n",
       " '__text_signature__',\n",
       " '__weakrefoffset__',\n",
       " 'mro']"
      ]
     },
     "execution_count": 7,
     "metadata": {},
     "output_type": "execute_result"
    }
   ],
   "source": [
    "dir(type)\n",
    "# __call__ 이 있음."
   ]
  },
  {
   "cell_type": "code",
   "execution_count": null,
   "metadata": {},
   "outputs": [],
   "source": [
    "# type은 메타 클래스\n",
    "# 파이썬에서 가장 어려운 것이 decorator\n",
    "# 두번째가 meta class\n",
    "# 세번째가 discription"
   ]
  },
  {
   "cell_type": "code",
   "execution_count": null,
   "metadata": {},
   "outputs": [],
   "source": [
    "# 파이썬의 메타클래스는 범위가 좁음\n",
    "# class 에는 __call__ 이 없는데 괄호 가능\n",
    "# 그런데 type에는 __call__이 있음.\n",
    "# 이것이 가능한 이유가 meta class\n",
    "# type은 메타클래스 -> 클래스를 만드는 클래스 (type을 동적으로 사용하거나 type(...,...,...), 클래스 내에서 상속하거나)"
   ]
  },
  {
   "cell_type": "code",
   "execution_count": 8,
   "metadata": {},
   "outputs": [
    {
     "data": {
      "text/plain": [
       "['__call__',\n",
       " '__class__',\n",
       " '__delattr__',\n",
       " '__dir__',\n",
       " '__doc__',\n",
       " '__eq__',\n",
       " '__format__',\n",
       " '__ge__',\n",
       " '__getattribute__',\n",
       " '__gt__',\n",
       " '__hash__',\n",
       " '__init__',\n",
       " '__init_subclass__',\n",
       " '__le__',\n",
       " '__lt__',\n",
       " '__module__',\n",
       " '__name__',\n",
       " '__ne__',\n",
       " '__new__',\n",
       " '__qualname__',\n",
       " '__reduce__',\n",
       " '__reduce_ex__',\n",
       " '__repr__',\n",
       " '__self__',\n",
       " '__setattr__',\n",
       " '__sizeof__',\n",
       " '__str__',\n",
       " '__subclasshook__',\n",
       " '__text_signature__']"
      ]
     },
     "execution_count": 8,
     "metadata": {},
     "output_type": "execute_result"
    }
   ],
   "source": [
    "dir(print)\n",
    "# 범용적인 __call__이 있음"
   ]
  },
  {
   "cell_type": "code",
   "execution_count": 1,
   "metadata": {},
   "outputs": [],
   "source": [
    "# 덕 타이핑\n",
    "class AA:\n",
    "    pass"
   ]
  },
  {
   "cell_type": "code",
   "execution_count": 2,
   "metadata": {},
   "outputs": [],
   "source": [
    "a = AA()"
   ]
  },
  {
   "cell_type": "code",
   "execution_count": 3,
   "metadata": {},
   "outputs": [
    {
     "ename": "TypeError",
     "evalue": "'AA' object is not callable",
     "output_type": "error",
     "traceback": [
      "\u001b[0;31m---------------------------------------------------------------------------\u001b[0m",
      "\u001b[0;31mTypeError\u001b[0m                                 Traceback (most recent call last)",
      "Cell \u001b[0;32mIn[3], line 1\u001b[0m\n\u001b[0;32m----> 1\u001b[0m a()\n",
      "\u001b[0;31mTypeError\u001b[0m: 'AA' object is not callable"
     ]
    }
   ],
   "source": [
    "a()"
   ]
  },
  {
   "cell_type": "code",
   "execution_count": 4,
   "metadata": {},
   "outputs": [],
   "source": [
    "# 덕 타이핑 -> 2번쨰 인스턴스화\n",
    "class AA:\n",
    "    def __call__(self):\n",
    "        print('A')"
   ]
  },
  {
   "cell_type": "code",
   "execution_count": 5,
   "metadata": {},
   "outputs": [],
   "source": [
    "a = AA()"
   ]
  },
  {
   "cell_type": "code",
   "execution_count": 6,
   "metadata": {},
   "outputs": [
    {
     "name": "stdout",
     "output_type": "stream",
     "text": [
      "A\n"
     ]
    }
   ],
   "source": [
    "a()\n",
    "# 이것이 덕 타이핑\n",
    "# 클래스 내에서 call을 정의했기 때문에 괄호를 사용 가능"
   ]
  },
  {
   "cell_type": "code",
   "execution_count": null,
   "metadata": {},
   "outputs": [],
   "source": [
    "# 파이썬에서는 모든 것을 함수처럼 변화시킬 수 있다 => __call__ 만 정의하면.\n",
    "# 그러면 객체지향과 함수가 유연하게 혼합됨.\n",
    "# 그렇다는 것은 함수형 패러다임을 더 잘하기 위해서는 객체지향을 잘해야 함을 알 수 있음. -> (목)부터 수업. pycharm을 이용"
   ]
  },
  {
   "cell_type": "code",
   "execution_count": null,
   "metadata": {},
   "outputs": [],
   "source": [
    "# lambda -> 메모리 영역이 다르기 때문에 1회성. 함수 카테고리에 들어감"
   ]
  },
  {
   "cell_type": "code",
   "execution_count": null,
   "metadata": {},
   "outputs": [],
   "source": [
    "# Closure\n",
    "# argument 가 지속되서 두번째 영역에도 영향을 미치는 것."
   ]
  },
  {
   "cell_type": "code",
   "execution_count": null,
   "metadata": {},
   "outputs": [],
   "source": [
    "# StaticMethod -> 이런 것들이 데코레이터 => web 에 정말 많이 씀"
   ]
  },
  {
   "cell_type": "code",
   "execution_count": null,
   "metadata": {},
   "outputs": [],
   "source": [
    "# generator"
   ]
  },
  {
   "cell_type": "code",
   "execution_count": null,
   "metadata": {},
   "outputs": [],
   "source": [
    "# 괄호를 붙힐 수 있는 것이 이정도. 위에서 정의한 3개 관점에서 하나씩 보자"
   ]
  },
  {
   "cell_type": "markdown",
   "metadata": {},
   "source": [
    "### 이름있는 함수, lambda"
   ]
  },
  {
   "cell_type": "code",
   "execution_count": null,
   "metadata": {},
   "outputs": [],
   "source": [
    "# LEGB"
   ]
  },
  {
   "cell_type": "code",
   "execution_count": 15,
   "metadata": {},
   "outputs": [],
   "source": [
    "def x():\n",
    "    print('a')"
   ]
  },
  {
   "cell_type": "code",
   "execution_count": 16,
   "metadata": {},
   "outputs": [
    {
     "data": {
      "text/plain": [
       "'x'"
      ]
     },
     "execution_count": 16,
     "metadata": {},
     "output_type": "execute_result"
    }
   ],
   "source": [
    "x.__name__"
   ]
  },
  {
   "cell_type": "code",
   "execution_count": 17,
   "metadata": {},
   "outputs": [],
   "source": [
    "# 파이썬 가명 쓸 수 있다?\n",
    "b = x\n",
    "# 이게 가명 쓴다고 할 수 있음"
   ]
  },
  {
   "cell_type": "code",
   "execution_count": 18,
   "metadata": {},
   "outputs": [
    {
     "data": {
      "text/plain": [
       "'x'"
      ]
     },
     "execution_count": 18,
     "metadata": {},
     "output_type": "execute_result"
    }
   ],
   "source": [
    "b.__name__\n",
    "# 진짜 이름을 알려줌"
   ]
  },
  {
   "cell_type": "code",
   "execution_count": 19,
   "metadata": {},
   "outputs": [
    {
     "data": {
      "text/plain": [
       "'<lambda>'"
      ]
     },
     "execution_count": 19,
     "metadata": {},
     "output_type": "execute_result"
    }
   ],
   "source": [
    "# lambda\n",
    "c = lambda x:x+1\n",
    "c.__name__\n",
    "# 이름이 없다.\n",
    "# 그러나 lambda를 쓰는 이유-> 함수를 선언하는 즉시 메모리 영역에 올라감. 오래동안 지속됨. 효율적이지 않은 관리\n",
    "# 딱 1회성 lambda 는 메모리적으로 효율적. 그러나 실행속도는 def 로 정의된 함수가 더 빠름."
   ]
  },
  {
   "cell_type": "code",
   "execution_count": null,
   "metadata": {},
   "outputs": [],
   "source": [
    "# __qualname__ -> 경로까지 다 알려줌. 요즘에는 잘 안씀\n",
    "# 언더바 2개 붙은 것을 무엇이라고 할까?\n",
    "# __ㅁㅁ__ => dunder\n",
    "# 파이썬에 더블 언더바가 붙어 있으면 2가지 의미\n",
    "# 1. 시스템에서 미리 정의되어있던 파이쏘닉한 시스템 정의 명령어가 됨.\n",
    "# 2. 맹글링 기법 => private"
   ]
  },
  {
   "cell_type": "code",
   "execution_count": 7,
   "metadata": {},
   "outputs": [],
   "source": [
    "# 앞에 __ 붙어 있으면 내부적으로 맹글링이 일어나 이름을 내부적으로 바꿔버림\n",
    "class A:\n",
    "    __a =1\n",
    "    b = 2"
   ]
  },
  {
   "cell_type": "code",
   "execution_count": 8,
   "metadata": {},
   "outputs": [
    {
     "ename": "AttributeError",
     "evalue": "type object 'A' has no attribute 'a'",
     "output_type": "error",
     "traceback": [
      "\u001b[0;31m---------------------------------------------------------------------------\u001b[0m",
      "\u001b[0;31mAttributeError\u001b[0m                            Traceback (most recent call last)",
      "Cell \u001b[0;32mIn[8], line 1\u001b[0m\n\u001b[0;32m----> 1\u001b[0m A\u001b[39m.\u001b[39;49ma\n",
      "\u001b[0;31mAttributeError\u001b[0m: type object 'A' has no attribute 'a'"
     ]
    }
   ],
   "source": [
    "A.a"
   ]
  },
  {
   "cell_type": "code",
   "execution_count": 9,
   "metadata": {},
   "outputs": [
    {
     "data": {
      "text/plain": [
       "2"
      ]
     },
     "execution_count": 9,
     "metadata": {},
     "output_type": "execute_result"
    }
   ],
   "source": [
    "A.b"
   ]
  },
  {
   "cell_type": "code",
   "execution_count": 10,
   "metadata": {},
   "outputs": [
    {
     "data": {
      "text/plain": [
       "1"
      ]
     },
     "execution_count": 10,
     "metadata": {},
     "output_type": "execute_result"
    }
   ],
   "source": [
    "A._A__a"
   ]
  },
  {
   "cell_type": "code",
   "execution_count": null,
   "metadata": {},
   "outputs": [],
   "source": [
    "# __가 양 옆쪽에 있는 애들은 => 시스템에 있는 기능이나 특별한 기능이 있음.\n",
    "#! special 또는 magic method 라고 함.\n",
    "# __iter__\n",
    "# __next__\n",
    "# __call__\n",
    "# __name__ 등등. 파이썬에서는 300개가 넘음. import 빼면 60개."
   ]
  },
  {
   "cell_type": "code",
   "execution_count": null,
   "metadata": {},
   "outputs": [],
   "source": [
    "# LEGB => 책에 나와서 하는 것\n",
    "# Local 변수 -> 함수 안에 정의 됨. encapsulation 에서 언급. 밖에서 안에 접근할 수 없음.\n",
    "# Enclosing 변수\n",
    "# Global 변수\n",
    "# Built in 변수\n",
    "# 각각 영역이 있음"
   ]
  },
  {
   "cell_type": "code",
   "execution_count": 11,
   "metadata": {},
   "outputs": [],
   "source": [
    "# local\n",
    "xx = 1\n",
    "def aa():\n",
    "    return xx"
   ]
  },
  {
   "cell_type": "code",
   "execution_count": 12,
   "metadata": {},
   "outputs": [
    {
     "data": {
      "text/plain": [
       "1"
      ]
     },
     "execution_count": 12,
     "metadata": {},
     "output_type": "execute_result"
    }
   ],
   "source": [
    "# 위에는 local 안에 정의된 것 아님.\n",
    "# definition, binding\n",
    "# local에 없으면 enclosing(중첩)을 찾음. => L에 없으면 E에, 없으면 G\n",
    "# Global 은 현재 작업하고 있는 공간\n",
    "aa()\n",
    "# global 에 있어서 1을 출력하는 것."
   ]
  },
  {
   "cell_type": "code",
   "execution_count": 13,
   "metadata": {},
   "outputs": [
    {
     "data": {
      "text/plain": [
       "2"
      ]
     },
     "execution_count": 13,
     "metadata": {},
     "output_type": "execute_result"
    }
   ],
   "source": [
    "def aa():\n",
    "    xx = 2\n",
    "    return xx\n",
    "aa()\n",
    "# local 에 있음"
   ]
  },
  {
   "cell_type": "code",
   "execution_count": null,
   "metadata": {},
   "outputs": [],
   "source": [
    "# a = 1 -> assignment 또는 binding\n",
    "# binding은 나중에도 나옴."
   ]
  },
  {
   "cell_type": "code",
   "execution_count": 24,
   "metadata": {},
   "outputs": [
    {
     "data": {
      "text/plain": [
       "{'__name__': '__main__',\n",
       " '__doc__': 'Automatically created module for IPython interactive environment',\n",
       " '__package__': None,\n",
       " '__loader__': None,\n",
       " '__spec__': None,\n",
       " '__builtin__': <module 'builtins' (built-in)>,\n",
       " '__builtins__': <module 'builtins' (built-in)>,\n",
       " '_ih': ['',\n",
       "  'def x(a):\\n    return a',\n",
       "  '# 여기서 함수는 x\\nx',\n",
       "  'callable(x) # call 할 수 있나요?\\n# ()는 정확한 용어는 아님. 사실',\n",
       "  'a = 1\\na()',\n",
       "  'class A:\\n    pass',\n",
       "  '# class에 dir 하면 __call__이 없음\\ndir(A)',\n",
       "  'dir(type)',\n",
       "  'dir(print)',\n",
       "  '# 덕 타이핑\\nclass AA:\\n    pass',\n",
       "  'a = AA()',\n",
       "  'a()',\n",
       "  \"# 덕 타이핑\\nclass AA:\\n    def __call__(self):\\n        print('A')\",\n",
       "  'a = AA()',\n",
       "  'a()',\n",
       "  \"def x():\\n    print('a')\",\n",
       "  'x.__name__',\n",
       "  '# 파이썬 가명 쓸 수 있다?\\nb = x',\n",
       "  'b.__name__',\n",
       "  '# lambda\\nc = lambda x:x+1\\nc.__name__',\n",
       "  'class A:\\n    __a =1\\n    b = 2',\n",
       "  'A.b',\n",
       "  'A._A__a',\n",
       "  '# local\\nxx = 1\\ndef aa():\\n    return xx',\n",
       "  'globals()'],\n",
       " '_oh': {2: <function __main__.x(a)>,\n",
       "  3: True,\n",
       "  6: ['__class__',\n",
       "   '__delattr__',\n",
       "   '__dict__',\n",
       "   '__dir__',\n",
       "   '__doc__',\n",
       "   '__eq__',\n",
       "   '__format__',\n",
       "   '__ge__',\n",
       "   '__getattribute__',\n",
       "   '__gt__',\n",
       "   '__hash__',\n",
       "   '__init__',\n",
       "   '__init_subclass__',\n",
       "   '__le__',\n",
       "   '__lt__',\n",
       "   '__module__',\n",
       "   '__ne__',\n",
       "   '__new__',\n",
       "   '__reduce__',\n",
       "   '__reduce_ex__',\n",
       "   '__repr__',\n",
       "   '__setattr__',\n",
       "   '__sizeof__',\n",
       "   '__str__',\n",
       "   '__subclasshook__',\n",
       "   '__weakref__'],\n",
       "  7: ['__abstractmethods__',\n",
       "   '__annotations__',\n",
       "   '__base__',\n",
       "   '__bases__',\n",
       "   '__basicsize__',\n",
       "   '__call__',\n",
       "   '__class__',\n",
       "   '__delattr__',\n",
       "   '__dict__',\n",
       "   '__dictoffset__',\n",
       "   '__dir__',\n",
       "   '__doc__',\n",
       "   '__eq__',\n",
       "   '__flags__',\n",
       "   '__format__',\n",
       "   '__ge__',\n",
       "   '__getattribute__',\n",
       "   '__gt__',\n",
       "   '__hash__',\n",
       "   '__init__',\n",
       "   '__init_subclass__',\n",
       "   '__instancecheck__',\n",
       "   '__itemsize__',\n",
       "   '__le__',\n",
       "   '__lt__',\n",
       "   '__module__',\n",
       "   '__mro__',\n",
       "   '__name__',\n",
       "   '__ne__',\n",
       "   '__new__',\n",
       "   '__or__',\n",
       "   '__prepare__',\n",
       "   '__qualname__',\n",
       "   '__reduce__',\n",
       "   '__reduce_ex__',\n",
       "   '__repr__',\n",
       "   '__ror__',\n",
       "   '__setattr__',\n",
       "   '__sizeof__',\n",
       "   '__str__',\n",
       "   '__subclasscheck__',\n",
       "   '__subclasses__',\n",
       "   '__subclasshook__',\n",
       "   '__text_signature__',\n",
       "   '__weakrefoffset__',\n",
       "   'mro'],\n",
       "  8: ['__call__',\n",
       "   '__class__',\n",
       "   '__delattr__',\n",
       "   '__dir__',\n",
       "   '__doc__',\n",
       "   '__eq__',\n",
       "   '__format__',\n",
       "   '__ge__',\n",
       "   '__getattribute__',\n",
       "   '__gt__',\n",
       "   '__hash__',\n",
       "   '__init__',\n",
       "   '__init_subclass__',\n",
       "   '__le__',\n",
       "   '__lt__',\n",
       "   '__module__',\n",
       "   '__name__',\n",
       "   '__ne__',\n",
       "   '__new__',\n",
       "   '__qualname__',\n",
       "   '__reduce__',\n",
       "   '__reduce_ex__',\n",
       "   '__repr__',\n",
       "   '__self__',\n",
       "   '__setattr__',\n",
       "   '__sizeof__',\n",
       "   '__str__',\n",
       "   '__subclasshook__',\n",
       "   '__text_signature__'],\n",
       "  16: 'x',\n",
       "  18: 'x',\n",
       "  19: '<lambda>',\n",
       "  21: 2,\n",
       "  22: 1},\n",
       " '_dh': [PosixPath('/Users/baekkwanghyun/Desktop/SW_academy'),\n",
       "  PosixPath('/Users/baekkwanghyun/Desktop/SW_academy')],\n",
       " 'In': ['',\n",
       "  'def x(a):\\n    return a',\n",
       "  '# 여기서 함수는 x\\nx',\n",
       "  'callable(x) # call 할 수 있나요?\\n# ()는 정확한 용어는 아님. 사실',\n",
       "  'a = 1\\na()',\n",
       "  'class A:\\n    pass',\n",
       "  '# class에 dir 하면 __call__이 없음\\ndir(A)',\n",
       "  'dir(type)',\n",
       "  'dir(print)',\n",
       "  '# 덕 타이핑\\nclass AA:\\n    pass',\n",
       "  'a = AA()',\n",
       "  'a()',\n",
       "  \"# 덕 타이핑\\nclass AA:\\n    def __call__(self):\\n        print('A')\",\n",
       "  'a = AA()',\n",
       "  'a()',\n",
       "  \"def x():\\n    print('a')\",\n",
       "  'x.__name__',\n",
       "  '# 파이썬 가명 쓸 수 있다?\\nb = x',\n",
       "  'b.__name__',\n",
       "  '# lambda\\nc = lambda x:x+1\\nc.__name__',\n",
       "  'class A:\\n    __a =1\\n    b = 2',\n",
       "  'A.b',\n",
       "  'A._A__a',\n",
       "  '# local\\nxx = 1\\ndef aa():\\n    return xx',\n",
       "  'globals()'],\n",
       " 'Out': {2: <function __main__.x(a)>,\n",
       "  3: True,\n",
       "  6: ['__class__',\n",
       "   '__delattr__',\n",
       "   '__dict__',\n",
       "   '__dir__',\n",
       "   '__doc__',\n",
       "   '__eq__',\n",
       "   '__format__',\n",
       "   '__ge__',\n",
       "   '__getattribute__',\n",
       "   '__gt__',\n",
       "   '__hash__',\n",
       "   '__init__',\n",
       "   '__init_subclass__',\n",
       "   '__le__',\n",
       "   '__lt__',\n",
       "   '__module__',\n",
       "   '__ne__',\n",
       "   '__new__',\n",
       "   '__reduce__',\n",
       "   '__reduce_ex__',\n",
       "   '__repr__',\n",
       "   '__setattr__',\n",
       "   '__sizeof__',\n",
       "   '__str__',\n",
       "   '__subclasshook__',\n",
       "   '__weakref__'],\n",
       "  7: ['__abstractmethods__',\n",
       "   '__annotations__',\n",
       "   '__base__',\n",
       "   '__bases__',\n",
       "   '__basicsize__',\n",
       "   '__call__',\n",
       "   '__class__',\n",
       "   '__delattr__',\n",
       "   '__dict__',\n",
       "   '__dictoffset__',\n",
       "   '__dir__',\n",
       "   '__doc__',\n",
       "   '__eq__',\n",
       "   '__flags__',\n",
       "   '__format__',\n",
       "   '__ge__',\n",
       "   '__getattribute__',\n",
       "   '__gt__',\n",
       "   '__hash__',\n",
       "   '__init__',\n",
       "   '__init_subclass__',\n",
       "   '__instancecheck__',\n",
       "   '__itemsize__',\n",
       "   '__le__',\n",
       "   '__lt__',\n",
       "   '__module__',\n",
       "   '__mro__',\n",
       "   '__name__',\n",
       "   '__ne__',\n",
       "   '__new__',\n",
       "   '__or__',\n",
       "   '__prepare__',\n",
       "   '__qualname__',\n",
       "   '__reduce__',\n",
       "   '__reduce_ex__',\n",
       "   '__repr__',\n",
       "   '__ror__',\n",
       "   '__setattr__',\n",
       "   '__sizeof__',\n",
       "   '__str__',\n",
       "   '__subclasscheck__',\n",
       "   '__subclasses__',\n",
       "   '__subclasshook__',\n",
       "   '__text_signature__',\n",
       "   '__weakrefoffset__',\n",
       "   'mro'],\n",
       "  8: ['__call__',\n",
       "   '__class__',\n",
       "   '__delattr__',\n",
       "   '__dir__',\n",
       "   '__doc__',\n",
       "   '__eq__',\n",
       "   '__format__',\n",
       "   '__ge__',\n",
       "   '__getattribute__',\n",
       "   '__gt__',\n",
       "   '__hash__',\n",
       "   '__init__',\n",
       "   '__init_subclass__',\n",
       "   '__le__',\n",
       "   '__lt__',\n",
       "   '__module__',\n",
       "   '__name__',\n",
       "   '__ne__',\n",
       "   '__new__',\n",
       "   '__qualname__',\n",
       "   '__reduce__',\n",
       "   '__reduce_ex__',\n",
       "   '__repr__',\n",
       "   '__self__',\n",
       "   '__setattr__',\n",
       "   '__sizeof__',\n",
       "   '__str__',\n",
       "   '__subclasshook__',\n",
       "   '__text_signature__'],\n",
       "  16: 'x',\n",
       "  18: 'x',\n",
       "  19: '<lambda>',\n",
       "  21: 2,\n",
       "  22: 1},\n",
       " 'get_ipython': <bound method InteractiveShell.get_ipython of <ipykernel.zmqshell.ZMQInteractiveShell object at 0x7f9f68dcb1c0>>,\n",
       " 'exit': <IPython.core.autocall.ZMQExitAutocall at 0x7f9f68dcbdf0>,\n",
       " 'quit': <IPython.core.autocall.ZMQExitAutocall at 0x7f9f68dcbdf0>,\n",
       " 'open': <function io.open(file, mode='r', buffering=-1, encoding=None, errors=None, newline=None, closefd=True, opener=None)>,\n",
       " '_': 1,\n",
       " '__': 2,\n",
       " '___': '<lambda>',\n",
       " '__vsc_ipynb_file__': '/Users/baekkwanghyun/Desktop/SW_academy/03.07(오후).ipynb',\n",
       " 'matplotlib': <module 'matplotlib' from '/Users/baekkwanghyun/miniconda3/lib/python3.10/site-packages/matplotlib/__init__.py'>,\n",
       " '_VSCode_defaultMatplotlib_Params': {'_internal.classic_mode': False,\n",
       "  'agg.path.chunksize': 0,\n",
       "  'animation.bitrate': -1,\n",
       "  'animation.codec': 'h264',\n",
       "  'animation.convert_args': ['-layers', 'OptimizePlus'],\n",
       "  'animation.convert_path': 'convert',\n",
       "  'animation.embed_limit': 20.0,\n",
       "  'animation.ffmpeg_args': [],\n",
       "  'animation.ffmpeg_path': 'ffmpeg',\n",
       "  'animation.frame_format': 'png',\n",
       "  'animation.html': 'none',\n",
       "  'animation.writer': 'ffmpeg',\n",
       "  'axes.autolimit_mode': 'data',\n",
       "  'axes.axisbelow': 'line',\n",
       "  'axes.edgecolor': 'black',\n",
       "  'axes.facecolor': 'white',\n",
       "  'axes.formatter.limits': [-5, 6],\n",
       "  'axes.formatter.min_exponent': 0,\n",
       "  'axes.formatter.offset_threshold': 4,\n",
       "  'axes.formatter.use_locale': False,\n",
       "  'axes.formatter.use_mathtext': False,\n",
       "  'axes.formatter.useoffset': True,\n",
       "  'axes.grid': False,\n",
       "  'axes.grid.axis': 'both',\n",
       "  'axes.grid.which': 'major',\n",
       "  'axes.labelcolor': 'black',\n",
       "  'axes.labelpad': 4.0,\n",
       "  'axes.labelsize': 'medium',\n",
       "  'axes.labelweight': 'normal',\n",
       "  'axes.linewidth': 0.8,\n",
       "  'axes.prop_cycle': cycler('color', ['#1f77b4', '#ff7f0e', '#2ca02c', '#d62728', '#9467bd', '#8c564b', '#e377c2', '#7f7f7f', '#bcbd22', '#17becf']),\n",
       "  'axes.spines.bottom': True,\n",
       "  'axes.spines.left': True,\n",
       "  'axes.spines.right': True,\n",
       "  'axes.spines.top': True,\n",
       "  'axes.titlecolor': 'auto',\n",
       "  'axes.titlelocation': 'center',\n",
       "  'axes.titlepad': 6.0,\n",
       "  'axes.titlesize': 'large',\n",
       "  'axes.titleweight': 'normal',\n",
       "  'axes.titley': None,\n",
       "  'axes.unicode_minus': True,\n",
       "  'axes.xmargin': 0.05,\n",
       "  'axes.ymargin': 0.05,\n",
       "  'axes.zmargin': 0.05,\n",
       "  'axes3d.grid': True,\n",
       "  'axes3d.xaxis.panecolor': (0.95, 0.95, 0.95, 0.5),\n",
       "  'axes3d.yaxis.panecolor': (0.9, 0.9, 0.9, 0.5),\n",
       "  'axes3d.zaxis.panecolor': (0.925, 0.925, 0.925, 0.5),\n",
       "  'backend': 'module://matplotlib_inline.backend_inline',\n",
       "  'backend_fallback': True,\n",
       "  'boxplot.bootstrap': None,\n",
       "  'boxplot.boxprops.color': 'black',\n",
       "  'boxplot.boxprops.linestyle': '-',\n",
       "  'boxplot.boxprops.linewidth': 1.0,\n",
       "  'boxplot.capprops.color': 'black',\n",
       "  'boxplot.capprops.linestyle': '-',\n",
       "  'boxplot.capprops.linewidth': 1.0,\n",
       "  'boxplot.flierprops.color': 'black',\n",
       "  'boxplot.flierprops.linestyle': 'none',\n",
       "  'boxplot.flierprops.linewidth': 1.0,\n",
       "  'boxplot.flierprops.marker': 'o',\n",
       "  'boxplot.flierprops.markeredgecolor': 'black',\n",
       "  'boxplot.flierprops.markeredgewidth': 1.0,\n",
       "  'boxplot.flierprops.markerfacecolor': 'none',\n",
       "  'boxplot.flierprops.markersize': 6.0,\n",
       "  'boxplot.meanline': False,\n",
       "  'boxplot.meanprops.color': 'C2',\n",
       "  'boxplot.meanprops.linestyle': '--',\n",
       "  'boxplot.meanprops.linewidth': 1.0,\n",
       "  'boxplot.meanprops.marker': '^',\n",
       "  'boxplot.meanprops.markeredgecolor': 'C2',\n",
       "  'boxplot.meanprops.markerfacecolor': 'C2',\n",
       "  'boxplot.meanprops.markersize': 6.0,\n",
       "  'boxplot.medianprops.color': 'C1',\n",
       "  'boxplot.medianprops.linestyle': '-',\n",
       "  'boxplot.medianprops.linewidth': 1.0,\n",
       "  'boxplot.notch': False,\n",
       "  'boxplot.patchartist': False,\n",
       "  'boxplot.showbox': True,\n",
       "  'boxplot.showcaps': True,\n",
       "  'boxplot.showfliers': True,\n",
       "  'boxplot.showmeans': False,\n",
       "  'boxplot.vertical': True,\n",
       "  'boxplot.whiskerprops.color': 'black',\n",
       "  'boxplot.whiskerprops.linestyle': '-',\n",
       "  'boxplot.whiskerprops.linewidth': 1.0,\n",
       "  'boxplot.whiskers': 1.5,\n",
       "  'contour.algorithm': 'mpl2014',\n",
       "  'contour.corner_mask': True,\n",
       "  'contour.linewidth': None,\n",
       "  'contour.negative_linestyle': 'dashed',\n",
       "  'date.autoformatter.day': '%Y-%m-%d',\n",
       "  'date.autoformatter.hour': '%m-%d %H',\n",
       "  'date.autoformatter.microsecond': '%M:%S.%f',\n",
       "  'date.autoformatter.minute': '%d %H:%M',\n",
       "  'date.autoformatter.month': '%Y-%m',\n",
       "  'date.autoformatter.second': '%H:%M:%S',\n",
       "  'date.autoformatter.year': '%Y',\n",
       "  'date.converter': 'auto',\n",
       "  'date.epoch': '1970-01-01T00:00:00',\n",
       "  'date.interval_multiples': True,\n",
       "  'docstring.hardcopy': False,\n",
       "  'errorbar.capsize': 0.0,\n",
       "  'figure.autolayout': False,\n",
       "  'figure.constrained_layout.h_pad': 0.04167,\n",
       "  'figure.constrained_layout.hspace': 0.02,\n",
       "  'figure.constrained_layout.use': False,\n",
       "  'figure.constrained_layout.w_pad': 0.04167,\n",
       "  'figure.constrained_layout.wspace': 0.02,\n",
       "  'figure.dpi': 100.0,\n",
       "  'figure.edgecolor': 'white',\n",
       "  'figure.facecolor': 'white',\n",
       "  'figure.figsize': [6.4, 4.8],\n",
       "  'figure.frameon': True,\n",
       "  'figure.hooks': [],\n",
       "  'figure.labelsize': 'large',\n",
       "  'figure.labelweight': 'normal',\n",
       "  'figure.max_open_warning': 20,\n",
       "  'figure.raise_window': True,\n",
       "  'figure.subplot.bottom': 0.11,\n",
       "  'figure.subplot.hspace': 0.2,\n",
       "  'figure.subplot.left': 0.125,\n",
       "  'figure.subplot.right': 0.9,\n",
       "  'figure.subplot.top': 0.88,\n",
       "  'figure.subplot.wspace': 0.2,\n",
       "  'figure.titlesize': 'large',\n",
       "  'figure.titleweight': 'normal',\n",
       "  'font.cursive': ['Apple Chancery',\n",
       "   'Textile',\n",
       "   'Zapf Chancery',\n",
       "   'Sand',\n",
       "   'Script MT',\n",
       "   'Felipa',\n",
       "   'Comic Neue',\n",
       "   'Comic Sans MS',\n",
       "   'cursive'],\n",
       "  'font.family': ['sans-serif'],\n",
       "  'font.fantasy': ['Chicago',\n",
       "   'Charcoal',\n",
       "   'Impact',\n",
       "   'Western',\n",
       "   'Humor Sans',\n",
       "   'xkcd',\n",
       "   'fantasy'],\n",
       "  'font.monospace': ['DejaVu Sans Mono',\n",
       "   'Bitstream Vera Sans Mono',\n",
       "   'Computer Modern Typewriter',\n",
       "   'Andale Mono',\n",
       "   'Nimbus Mono L',\n",
       "   'Courier New',\n",
       "   'Courier',\n",
       "   'Fixed',\n",
       "   'Terminal',\n",
       "   'monospace'],\n",
       "  'font.sans-serif': ['DejaVu Sans',\n",
       "   'Bitstream Vera Sans',\n",
       "   'Computer Modern Sans Serif',\n",
       "   'Lucida Grande',\n",
       "   'Verdana',\n",
       "   'Geneva',\n",
       "   'Lucid',\n",
       "   'Arial',\n",
       "   'Helvetica',\n",
       "   'Avant Garde',\n",
       "   'sans-serif'],\n",
       "  'font.serif': ['DejaVu Serif',\n",
       "   'Bitstream Vera Serif',\n",
       "   'Computer Modern Roman',\n",
       "   'New Century Schoolbook',\n",
       "   'Century Schoolbook L',\n",
       "   'Utopia',\n",
       "   'ITC Bookman',\n",
       "   'Bookman',\n",
       "   'Nimbus Roman No9 L',\n",
       "   'Times New Roman',\n",
       "   'Times',\n",
       "   'Palatino',\n",
       "   'Charter',\n",
       "   'serif'],\n",
       "  'font.size': 10.0,\n",
       "  'font.stretch': 'normal',\n",
       "  'font.style': 'normal',\n",
       "  'font.variant': 'normal',\n",
       "  'font.weight': 'normal',\n",
       "  'grid.alpha': 1.0,\n",
       "  'grid.color': '#b0b0b0',\n",
       "  'grid.linestyle': '-',\n",
       "  'grid.linewidth': 0.8,\n",
       "  'hatch.color': 'black',\n",
       "  'hatch.linewidth': 1.0,\n",
       "  'hist.bins': 10,\n",
       "  'image.aspect': 'equal',\n",
       "  'image.cmap': 'viridis',\n",
       "  'image.composite_image': True,\n",
       "  'image.interpolation': 'antialiased',\n",
       "  'image.lut': 256,\n",
       "  'image.origin': 'upper',\n",
       "  'image.resample': True,\n",
       "  'interactive': True,\n",
       "  'keymap.back': ['left', 'c', 'backspace', 'MouseButton.BACK'],\n",
       "  'keymap.copy': ['ctrl+c', 'cmd+c'],\n",
       "  'keymap.forward': ['right', 'v', 'MouseButton.FORWARD'],\n",
       "  'keymap.fullscreen': ['f', 'ctrl+f'],\n",
       "  'keymap.grid': ['g'],\n",
       "  'keymap.grid_minor': ['G'],\n",
       "  'keymap.help': ['f1'],\n",
       "  'keymap.home': ['h', 'r', 'home'],\n",
       "  'keymap.pan': ['p'],\n",
       "  'keymap.quit': ['ctrl+w', 'cmd+w', 'q'],\n",
       "  'keymap.quit_all': [],\n",
       "  'keymap.save': ['s', 'ctrl+s'],\n",
       "  'keymap.xscale': ['k', 'L'],\n",
       "  'keymap.yscale': ['l'],\n",
       "  'keymap.zoom': ['o'],\n",
       "  'legend.borderaxespad': 0.5,\n",
       "  'legend.borderpad': 0.4,\n",
       "  'legend.columnspacing': 2.0,\n",
       "  'legend.edgecolor': '0.8',\n",
       "  'legend.facecolor': 'inherit',\n",
       "  'legend.fancybox': True,\n",
       "  'legend.fontsize': 'medium',\n",
       "  'legend.framealpha': 0.8,\n",
       "  'legend.frameon': True,\n",
       "  'legend.handleheight': 0.7,\n",
       "  'legend.handlelength': 2.0,\n",
       "  'legend.handletextpad': 0.8,\n",
       "  'legend.labelcolor': 'None',\n",
       "  'legend.labelspacing': 0.5,\n",
       "  'legend.loc': 'best',\n",
       "  'legend.markerscale': 1.0,\n",
       "  'legend.numpoints': 1,\n",
       "  'legend.scatterpoints': 1,\n",
       "  'legend.shadow': False,\n",
       "  'legend.title_fontsize': None,\n",
       "  'lines.antialiased': True,\n",
       "  'lines.color': 'C0',\n",
       "  'lines.dash_capstyle': <CapStyle.butt: 'butt'>,\n",
       "  'lines.dash_joinstyle': <JoinStyle.round: 'round'>,\n",
       "  'lines.dashdot_pattern': [6.4, 1.6, 1.0, 1.6],\n",
       "  'lines.dashed_pattern': [3.7, 1.6],\n",
       "  'lines.dotted_pattern': [1.0, 1.65],\n",
       "  'lines.linestyle': '-',\n",
       "  'lines.linewidth': 1.5,\n",
       "  'lines.marker': 'None',\n",
       "  'lines.markeredgecolor': 'auto',\n",
       "  'lines.markeredgewidth': 1.0,\n",
       "  'lines.markerfacecolor': 'auto',\n",
       "  'lines.markersize': 6.0,\n",
       "  'lines.scale_dashes': True,\n",
       "  'lines.solid_capstyle': <CapStyle.projecting: 'projecting'>,\n",
       "  'lines.solid_joinstyle': <JoinStyle.round: 'round'>,\n",
       "  'markers.fillstyle': 'full',\n",
       "  'mathtext.bf': 'sans:bold',\n",
       "  'mathtext.cal': 'cursive',\n",
       "  'mathtext.default': 'it',\n",
       "  'mathtext.fallback': 'cm',\n",
       "  'mathtext.fontset': 'dejavusans',\n",
       "  'mathtext.it': 'sans:italic',\n",
       "  'mathtext.rm': 'sans',\n",
       "  'mathtext.sf': 'sans',\n",
       "  'mathtext.tt': 'monospace',\n",
       "  'patch.antialiased': True,\n",
       "  'patch.edgecolor': 'black',\n",
       "  'patch.facecolor': 'C0',\n",
       "  'patch.force_edgecolor': False,\n",
       "  'patch.linewidth': 1.0,\n",
       "  'path.effects': [],\n",
       "  'path.simplify': True,\n",
       "  'path.simplify_threshold': 0.111111111111,\n",
       "  'path.sketch': None,\n",
       "  'path.snap': True,\n",
       "  'pcolor.shading': 'auto',\n",
       "  'pcolormesh.snap': True,\n",
       "  'pdf.compression': 6,\n",
       "  'pdf.fonttype': 3,\n",
       "  'pdf.inheritcolor': False,\n",
       "  'pdf.use14corefonts': False,\n",
       "  'pgf.preamble': '',\n",
       "  'pgf.rcfonts': True,\n",
       "  'pgf.texsystem': 'xelatex',\n",
       "  'polaraxes.grid': True,\n",
       "  'ps.distiller.res': 6000,\n",
       "  'ps.fonttype': 3,\n",
       "  'ps.papersize': 'letter',\n",
       "  'ps.useafm': False,\n",
       "  'ps.usedistiller': None,\n",
       "  'savefig.bbox': None,\n",
       "  'savefig.directory': '~',\n",
       "  'savefig.dpi': 'figure',\n",
       "  'savefig.edgecolor': 'auto',\n",
       "  'savefig.facecolor': 'auto',\n",
       "  'savefig.format': 'png',\n",
       "  'savefig.orientation': 'portrait',\n",
       "  'savefig.pad_inches': 0.1,\n",
       "  'savefig.transparent': False,\n",
       "  'scatter.edgecolors': 'face',\n",
       "  'scatter.marker': 'o',\n",
       "  'svg.fonttype': 'path',\n",
       "  'svg.hashsalt': None,\n",
       "  'svg.image_inline': True,\n",
       "  'text.antialiased': True,\n",
       "  'text.color': 'black',\n",
       "  'text.hinting': 'force_autohint',\n",
       "  'text.hinting_factor': 8,\n",
       "  'text.kerning_factor': 0,\n",
       "  'text.latex.preamble': '',\n",
       "  'text.parse_math': True,\n",
       "  'text.usetex': False,\n",
       "  'timezone': 'UTC',\n",
       "  'tk.window_focus': False,\n",
       "  'toolbar': 'toolbar2',\n",
       "  'webagg.address': '127.0.0.1',\n",
       "  'webagg.open_in_browser': True,\n",
       "  'webagg.port': 8988,\n",
       "  'webagg.port_retries': 50,\n",
       "  'xaxis.labellocation': 'center',\n",
       "  'xtick.alignment': 'center',\n",
       "  'xtick.bottom': True,\n",
       "  'xtick.color': 'black',\n",
       "  'xtick.direction': 'out',\n",
       "  'xtick.labelbottom': True,\n",
       "  'xtick.labelcolor': 'inherit',\n",
       "  'xtick.labelsize': 'medium',\n",
       "  'xtick.labeltop': False,\n",
       "  'xtick.major.bottom': True,\n",
       "  'xtick.major.pad': 3.5,\n",
       "  'xtick.major.size': 3.5,\n",
       "  'xtick.major.top': True,\n",
       "  'xtick.major.width': 0.8,\n",
       "  'xtick.minor.bottom': True,\n",
       "  'xtick.minor.pad': 3.4,\n",
       "  'xtick.minor.size': 2.0,\n",
       "  'xtick.minor.top': True,\n",
       "  'xtick.minor.visible': False,\n",
       "  'xtick.minor.width': 0.6,\n",
       "  'xtick.top': False,\n",
       "  'yaxis.labellocation': 'center',\n",
       "  'ytick.alignment': 'center_baseline',\n",
       "  'ytick.color': 'black',\n",
       "  'ytick.direction': 'out',\n",
       "  'ytick.labelcolor': 'inherit',\n",
       "  'ytick.labelleft': True,\n",
       "  'ytick.labelright': False,\n",
       "  'ytick.labelsize': 'medium',\n",
       "  'ytick.left': True,\n",
       "  'ytick.major.left': True,\n",
       "  'ytick.major.pad': 3.5,\n",
       "  'ytick.major.right': True,\n",
       "  'ytick.major.size': 3.5,\n",
       "  'ytick.major.width': 0.8,\n",
       "  'ytick.minor.left': True,\n",
       "  'ytick.minor.pad': 3.4,\n",
       "  'ytick.minor.right': True,\n",
       "  'ytick.minor.size': 2.0,\n",
       "  'ytick.minor.visible': False,\n",
       "  'ytick.minor.width': 0.6,\n",
       "  'ytick.right': False},\n",
       " '_i': '# local\\nxx = 1\\ndef aa():\\n    return xx',\n",
       " '_ii': 'A._A__a',\n",
       " '_iii': 'A.b',\n",
       " '_i1': 'def x(a):\\n    return a',\n",
       " 'x': <function __main__.x()>,\n",
       " '_i2': '# 여기서 함수는 x\\nx',\n",
       " '_2': <function __main__.x(a)>,\n",
       " '_i3': 'callable(x) # call 할 수 있나요?\\n# ()는 정확한 용어는 아님. 사실',\n",
       " '_3': True,\n",
       " '_i4': 'a = 1\\na()',\n",
       " 'a': <__main__.AA at 0x7f9f88a53010>,\n",
       " '_i5': 'class A:\\n    pass',\n",
       " 'A': __main__.A,\n",
       " '_i6': '# class에 dir 하면 __call__이 없음\\ndir(A)',\n",
       " '_6': ['__class__',\n",
       "  '__delattr__',\n",
       "  '__dict__',\n",
       "  '__dir__',\n",
       "  '__doc__',\n",
       "  '__eq__',\n",
       "  '__format__',\n",
       "  '__ge__',\n",
       "  '__getattribute__',\n",
       "  '__gt__',\n",
       "  '__hash__',\n",
       "  '__init__',\n",
       "  '__init_subclass__',\n",
       "  '__le__',\n",
       "  '__lt__',\n",
       "  '__module__',\n",
       "  '__ne__',\n",
       "  '__new__',\n",
       "  '__reduce__',\n",
       "  '__reduce_ex__',\n",
       "  '__repr__',\n",
       "  '__setattr__',\n",
       "  '__sizeof__',\n",
       "  '__str__',\n",
       "  '__subclasshook__',\n",
       "  '__weakref__'],\n",
       " '_i7': 'dir(type)',\n",
       " '_7': ['__abstractmethods__',\n",
       "  '__annotations__',\n",
       "  '__base__',\n",
       "  '__bases__',\n",
       "  '__basicsize__',\n",
       "  '__call__',\n",
       "  '__class__',\n",
       "  '__delattr__',\n",
       "  '__dict__',\n",
       "  '__dictoffset__',\n",
       "  '__dir__',\n",
       "  '__doc__',\n",
       "  '__eq__',\n",
       "  '__flags__',\n",
       "  '__format__',\n",
       "  '__ge__',\n",
       "  '__getattribute__',\n",
       "  '__gt__',\n",
       "  '__hash__',\n",
       "  '__init__',\n",
       "  '__init_subclass__',\n",
       "  '__instancecheck__',\n",
       "  '__itemsize__',\n",
       "  '__le__',\n",
       "  '__lt__',\n",
       "  '__module__',\n",
       "  '__mro__',\n",
       "  '__name__',\n",
       "  '__ne__',\n",
       "  '__new__',\n",
       "  '__or__',\n",
       "  '__prepare__',\n",
       "  '__qualname__',\n",
       "  '__reduce__',\n",
       "  '__reduce_ex__',\n",
       "  '__repr__',\n",
       "  '__ror__',\n",
       "  '__setattr__',\n",
       "  '__sizeof__',\n",
       "  '__str__',\n",
       "  '__subclasscheck__',\n",
       "  '__subclasses__',\n",
       "  '__subclasshook__',\n",
       "  '__text_signature__',\n",
       "  '__weakrefoffset__',\n",
       "  'mro'],\n",
       " '_i8': 'dir(print)',\n",
       " '_8': ['__call__',\n",
       "  '__class__',\n",
       "  '__delattr__',\n",
       "  '__dir__',\n",
       "  '__doc__',\n",
       "  '__eq__',\n",
       "  '__format__',\n",
       "  '__ge__',\n",
       "  '__getattribute__',\n",
       "  '__gt__',\n",
       "  '__hash__',\n",
       "  '__init__',\n",
       "  '__init_subclass__',\n",
       "  '__le__',\n",
       "  '__lt__',\n",
       "  '__module__',\n",
       "  '__name__',\n",
       "  '__ne__',\n",
       "  '__new__',\n",
       "  '__qualname__',\n",
       "  '__reduce__',\n",
       "  '__reduce_ex__',\n",
       "  '__repr__',\n",
       "  '__self__',\n",
       "  '__setattr__',\n",
       "  '__sizeof__',\n",
       "  '__str__',\n",
       "  '__subclasshook__',\n",
       "  '__text_signature__'],\n",
       " '_i9': '# 덕 타이핑\\nclass AA:\\n    pass',\n",
       " 'AA': __main__.AA,\n",
       " '_i10': 'a = AA()',\n",
       " '_i11': 'a()',\n",
       " '_i12': \"# 덕 타이핑\\nclass AA:\\n    def __call__(self):\\n        print('A')\",\n",
       " '_i13': 'a = AA()',\n",
       " '_i14': 'a()',\n",
       " '_i15': \"def x():\\n    print('a')\",\n",
       " '_i16': 'x.__name__',\n",
       " '_16': 'x',\n",
       " '_i17': '# 파이썬 가명 쓸 수 있다?\\nb = x',\n",
       " 'b': <function __main__.x()>,\n",
       " '_i18': 'b.__name__',\n",
       " '_18': 'x',\n",
       " '_i19': '# lambda\\nc = lambda x:x+1\\nc.__name__',\n",
       " 'c': <function __main__.<lambda>(x)>,\n",
       " '_19': '<lambda>',\n",
       " '_i20': 'class A:\\n    __a =1\\n    b = 2',\n",
       " '_i21': 'A.b',\n",
       " '_21': 2,\n",
       " '_i22': 'A._A__a',\n",
       " '_22': 1,\n",
       " '_i23': '# local\\nxx = 1\\ndef aa():\\n    return xx',\n",
       " 'xx': 1,\n",
       " 'aa': <function __main__.aa()>,\n",
       " '_i24': 'globals()'}"
      ]
     },
     "execution_count": 24,
     "metadata": {},
     "output_type": "execute_result"
    }
   ],
   "source": [
    "globals() # "
   ]
  },
  {
   "cell_type": "code",
   "execution_count": null,
   "metadata": {},
   "outputs": [],
   "source": [
    "# built_in 이란? => 내장. 미리 탑재되어 있는 것.\n",
    "# print 가 되는 이유는 빌트인 함수라서\n",
    "# 빌트인 되어 있는 애들은 아래와 같은 색깔\n",
    "print"
   ]
  },
  {
   "cell_type": "code",
   "execution_count": 27,
   "metadata": {},
   "outputs": [],
   "source": [
    "import builtins # -> 여기 안에 있는 애들은 . 하고 안써도 됨."
   ]
  },
  {
   "cell_type": "code",
   "execution_count": 29,
   "metadata": {},
   "outputs": [
    {
     "data": {
      "text/plain": [
       "True"
      ]
     },
     "execution_count": 29,
     "metadata": {},
     "output_type": "execute_result"
    }
   ],
   "source": [
    "dir(builtins)\n",
    "# 여기에서 프린트를 찾을 수 있을까?\n",
    "# 있는지 없는지는 in 쓰면 됨\n",
    "'print' in dir(builtins)"
   ]
  },
  {
   "cell_type": "code",
   "execution_count": 30,
   "metadata": {},
   "outputs": [],
   "source": [
    "print = 3\n",
    "# global 영역에 생긴 것."
   ]
  },
  {
   "cell_type": "code",
   "execution_count": 31,
   "metadata": {},
   "outputs": [
    {
     "ename": "TypeError",
     "evalue": "'int' object is not callable",
     "output_type": "error",
     "traceback": [
      "\u001b[0;31m---------------------------------------------------------------------------\u001b[0m",
      "\u001b[0;31mTypeError\u001b[0m                                 Traceback (most recent call last)",
      "Cell \u001b[0;32mIn[31], line 1\u001b[0m\n\u001b[0;32m----> 1\u001b[0m \u001b[39mprint\u001b[39;49m(\u001b[39m3\u001b[39;49m)\n",
      "\u001b[0;31mTypeError\u001b[0m: 'int' object is not callable"
     ]
    }
   ],
   "source": [
    "print(3)\n",
    "# 그래서 이제는 못 씀. global 영역이기 때문."
   ]
  },
  {
   "cell_type": "code",
   "execution_count": 32,
   "metadata": {},
   "outputs": [],
   "source": [
    "# 따라서 나 built_in에 있는 거 쓰고 싶어요! 하려면?\n",
    "# global 에 있는 거 몰아내야 함(메모리에서 지운다)\n",
    "del print # del(print)"
   ]
  },
  {
   "cell_type": "code",
   "execution_count": 33,
   "metadata": {},
   "outputs": [
    {
     "name": "stdout",
     "output_type": "stream",
     "text": [
      "3\n"
     ]
    }
   ],
   "source": [
    "# global 영역에 print 를 보내고, 빌트인을 가져오는 것\n",
    "print(3)"
   ]
  },
  {
   "cell_type": "code",
   "execution_count": null,
   "metadata": {},
   "outputs": [],
   "source": [
    "# 이제 남은 것은 Enclosing"
   ]
  },
  {
   "cell_type": "code",
   "execution_count": 14,
   "metadata": {},
   "outputs": [],
   "source": [
    "def aa():\n",
    "    xx = xx+2\n",
    "    return xx"
   ]
  },
  {
   "cell_type": "code",
   "execution_count": 15,
   "metadata": {},
   "outputs": [
    {
     "ename": "UnboundLocalError",
     "evalue": "local variable 'xx' referenced before assignment",
     "output_type": "error",
     "traceback": [
      "\u001b[0;31m---------------------------------------------------------------------------\u001b[0m",
      "\u001b[0;31mUnboundLocalError\u001b[0m                         Traceback (most recent call last)",
      "Cell \u001b[0;32mIn[15], line 1\u001b[0m\n\u001b[0;32m----> 1\u001b[0m aa()\n",
      "Cell \u001b[0;32mIn[14], line 2\u001b[0m, in \u001b[0;36maa\u001b[0;34m()\u001b[0m\n\u001b[1;32m      1\u001b[0m \u001b[39mdef\u001b[39;00m \u001b[39maa\u001b[39m():\n\u001b[0;32m----> 2\u001b[0m     xx \u001b[39m=\u001b[39m xx\u001b[39m+\u001b[39m\u001b[39m2\u001b[39m\n\u001b[1;32m      3\u001b[0m     \u001b[39mreturn\u001b[39;00m xx\n",
      "\u001b[0;31mUnboundLocalError\u001b[0m: local variable 'xx' referenced before assignment"
     ]
    }
   ],
   "source": [
    "aa()\n",
    "\n",
    "# Unbound Error 가 뜸. bind의 과거형. 바운드가 되지 않는 로컬 에러\n",
    "# 무슨 뜻일까?\n",
    "# xx = xx +2. 우변은 식 = 하나의 결과값\n",
    "# 우변의 xx는 로컬에 없기 때문에 글로벌을 찾음. 우변은 아직 할당이 되지 않아서 글로벌 영역에서 찾기 때문에 글로별 변수로 감\n",
    "# 그러나 좌변은 로컬변수. 따라서 로컬과 글로벌이 일치가 안된다는 것. 그래서 나오는 명령어가\n",
    "# global xx -> 좌변 xx에 글로벌을 쓰겠다는 것"
   ]
  },
  {
   "cell_type": "code",
   "execution_count": 16,
   "metadata": {},
   "outputs": [
    {
     "data": {
      "text/plain": [
       "3"
      ]
     },
     "execution_count": 16,
     "metadata": {},
     "output_type": "execute_result"
    }
   ],
   "source": [
    "def aa():\n",
    "    global xx\n",
    "    xx = xx+2\n",
    "    return xx\n",
    "aa()"
   ]
  },
  {
   "cell_type": "code",
   "execution_count": 17,
   "metadata": {},
   "outputs": [
    {
     "data": {
      "text/plain": [
       "7"
      ]
     },
     "execution_count": 17,
     "metadata": {},
     "output_type": "execute_result"
    }
   ],
   "source": [
    "xx = 5\n",
    "aa()"
   ]
  },
  {
   "cell_type": "code",
   "execution_count": 18,
   "metadata": {},
   "outputs": [
    {
     "data": {
      "text/plain": [
       "7"
      ]
     },
     "execution_count": 18,
     "metadata": {},
     "output_type": "execute_result"
    }
   ],
   "source": [
    "xx\n",
    "# 위 함수 결과에 따라 global 변수 값이 바뀜"
   ]
  },
  {
   "cell_type": "code",
   "execution_count": null,
   "metadata": {},
   "outputs": [],
   "source": [
    "# 함수형 패러다임을 배우는 입장에서는 mutable 데이터와 global을 쓰면 파이썬 모르는 사람이 되어버림. 주의해야 함.\n",
    "# mutable / global 은 저런 실수를 할 수 있기 때문에 별로 쓰기 좋지 않음.\n",
    "# global 은 공식 키워드 (보라색깔)"
   ]
  },
  {
   "cell_type": "code",
   "execution_count": null,
   "metadata": {},
   "outputs": [],
   "source": [
    "# nonlocal"
   ]
  },
  {
   "cell_type": "code",
   "execution_count": 40,
   "metadata": {},
   "outputs": [
    {
     "data": {
      "text/plain": [
       "True"
      ]
     },
     "execution_count": 40,
     "metadata": {},
     "output_type": "execute_result"
    }
   ],
   "source": [
    "import keyword # 파이썬의 키워드는 다 여기있음\n",
    "'global' in keyword.kwlist"
   ]
  },
  {
   "cell_type": "code",
   "execution_count": 41,
   "metadata": {},
   "outputs": [
    {
     "data": {
      "text/plain": [
       "True"
      ]
     },
     "execution_count": 41,
     "metadata": {},
     "output_type": "execute_result"
    }
   ],
   "source": [
    "'nonlocal' in keyword.kwlist"
   ]
  },
  {
   "cell_type": "code",
   "execution_count": 19,
   "metadata": {},
   "outputs": [],
   "source": [
    "# global 과 builtin 도 로컬이 아니지만, 더 중요한 개념이 있음.\n",
    "# 파이썬의 함수는 기본적으로 두 개 이상 중첩을 시킬 수 있음.\n",
    "# 중첩이 무엇인가?\n",
    "def x():\n",
    "    def y():\n",
    "        return 1\n",
    "    return 2"
   ]
  },
  {
   "cell_type": "code",
   "execution_count": null,
   "metadata": {},
   "outputs": [],
   "source": [
    "# 왜 이런 꼴을 쓸까? => 클래스 할 때 더 명백해질 것.\n",
    "# 위의 y 함수는 우리가 쓸 수 있을까? => 없다. x 안에서만 실행되는 함수임.\n",
    "# 그런데 왜 이런 게 필요할까?"
   ]
  },
  {
   "cell_type": "code",
   "execution_count": null,
   "metadata": {},
   "outputs": [],
   "source": [
    "# 함수를 리턴할 수 있는 함수는 higher-order fuction.\n",
    "# 함수를 인자로 받고 함수를 리턴할 수 있는 것"
   ]
  },
  {
   "cell_type": "code",
   "execution_count": 20,
   "metadata": {},
   "outputs": [],
   "source": [
    "def x(m):\n",
    "    def y(n):\n",
    "        return m+n\n",
    "    return y\n",
    "\n",
    "# 이게 closure 라는 것.\n",
    "# 파이썬 공식 사이트에도 이 예시가 나와있음"
   ]
  },
  {
   "cell_type": "code",
   "execution_count": 21,
   "metadata": {},
   "outputs": [
    {
     "data": {
      "text/plain": [
       "<function __main__.x.<locals>.y(n)>"
      ]
     },
     "execution_count": 21,
     "metadata": {},
     "output_type": "execute_result"
    }
   ],
   "source": [
    "x(1) # 리턴을 함수로 함. -> 그러면 괄호를 붙힐 수 있다?\n",
    "# x(1) 은 y 함수"
   ]
  },
  {
   "cell_type": "code",
   "execution_count": 22,
   "metadata": {},
   "outputs": [
    {
     "data": {
      "text/plain": [
       "5"
      ]
     },
     "execution_count": 22,
     "metadata": {},
     "output_type": "execute_result"
    }
   ],
   "source": [
    "# y 함수는 인자를 받음(아래에서 두번째 인자)\n",
    "x(1)(4)"
   ]
  },
  {
   "cell_type": "code",
   "execution_count": null,
   "metadata": {},
   "outputs": [],
   "source": [
    "# 이게 왜 중요할까? 텐서플로우에서 ()() 정말 정겨움.\n",
    "# 함수를 리턴하기 때문에 또 함수가 되어 괄호를 하나 더 붙히는 것\n",
    "# 이것은 클래스를 정의하고 인스턴스를 만든 다음에 괄호를 쓰는 것과 같음\n",
    "# 이 클로저 테크닉이 중요한 이유는,"
   ]
  },
  {
   "cell_type": "code",
   "execution_count": 47,
   "metadata": {},
   "outputs": [
    {
     "data": {
      "text/plain": [
       "<function __main__.x.<locals>.y(n)>"
      ]
     },
     "execution_count": 47,
     "metadata": {},
     "output_type": "execute_result"
    }
   ],
   "source": [
    "x(1) # 이것은 1 + 함수(y())가 되는 것"
   ]
  },
  {
   "cell_type": "code",
   "execution_count": null,
   "metadata": {},
   "outputs": [],
   "source": [
    "# 첫번째 인자를 넣으면 1+함수가 되는데,\n",
    "# 두번째 괄호 인자로 경우의 수가 가능해짐. 한방에 무엇이든 만들어낼 수 있다는 것."
   ]
  },
  {
   "cell_type": "code",
   "execution_count": 48,
   "metadata": {},
   "outputs": [],
   "source": [
    "# 다시, 이것은 closoure\n",
    "def x(m):\n",
    "    def y(n):\n",
    "        return m+n\n",
    "    return y"
   ]
  },
  {
   "cell_type": "code",
   "execution_count": null,
   "metadata": {},
   "outputs": [],
   "source": [
    "# class MyModel(object):\n",
    "# model = MyModel()\n",
    "# 이것이 x()() 랑 쓰임새가 똑같은 것임."
   ]
  },
  {
   "cell_type": "code",
   "execution_count": null,
   "metadata": {},
   "outputs": [],
   "source": [
    "# nonlocal 은 중첩된 함수에서 쓰는 것이기 때문에 이렇게 배움.\n",
    "# 그래서 중첩으로 얻을 수 있는 혜택부터 배운 것."
   ]
  },
  {
   "cell_type": "code",
   "execution_count": 23,
   "metadata": {},
   "outputs": [],
   "source": [
    "# 저질 예시\n",
    "def x(m):\n",
    "    def y(n):\n",
    "        return aa\n",
    "    return y(n)"
   ]
  },
  {
   "cell_type": "code",
   "execution_count": 24,
   "metadata": {},
   "outputs": [
    {
     "ename": "NameError",
     "evalue": "name 'n' is not defined",
     "output_type": "error",
     "traceback": [
      "\u001b[0;31m---------------------------------------------------------------------------\u001b[0m",
      "\u001b[0;31mNameError\u001b[0m                                 Traceback (most recent call last)",
      "Cell \u001b[0;32mIn[24], line 2\u001b[0m\n\u001b[1;32m      1\u001b[0m \u001b[39m# 위처럼 실행한 순간 이렇게 할 수 있을까?\u001b[39;00m\n\u001b[0;32m----> 2\u001b[0m x(\u001b[39m3\u001b[39;49m)\n",
      "Cell \u001b[0;32mIn[23], line 5\u001b[0m, in \u001b[0;36mx\u001b[0;34m(m)\u001b[0m\n\u001b[1;32m      3\u001b[0m \u001b[39mdef\u001b[39;00m \u001b[39my\u001b[39m(n):\n\u001b[1;32m      4\u001b[0m     \u001b[39mreturn\u001b[39;00m aa\n\u001b[0;32m----> 5\u001b[0m \u001b[39mreturn\u001b[39;00m y(n)\n",
      "\u001b[0;31mNameError\u001b[0m: name 'n' is not defined"
     ]
    }
   ],
   "source": [
    "# 위처럼 실행한 순간 이렇게 할 수 있을까?\n",
    "x(3)\n",
    "# aa 값이 없음.\n",
    "# n 은 실행이 안됨. 값을 집어넣어줘야 하는데 집어넣을 수 없음"
   ]
  },
  {
   "cell_type": "code",
   "execution_count": 1,
   "metadata": {
    "ExecuteTime": {
     "end_time": "2023-03-14T14:16:24.200495Z",
     "start_time": "2023-03-14T14:16:24.193101Z"
    }
   },
   "outputs": [],
   "source": [
    "# 저질 예시\n",
    "def x(m):\n",
    "    def y():\n",
    "        return aa\n",
    "    return y"
   ]
  },
  {
   "cell_type": "code",
   "execution_count": 2,
   "metadata": {
    "ExecuteTime": {
     "end_time": "2023-03-14T14:16:27.181770Z",
     "start_time": "2023-03-14T14:16:27.165185Z"
    }
   },
   "outputs": [
    {
     "data": {
      "text/plain": [
       "<function __main__.x.<locals>.y()>"
      ]
     },
     "execution_count": 2,
     "metadata": {},
     "output_type": "execute_result"
    }
   ],
   "source": [
    "x(3)"
   ]
  },
  {
   "cell_type": "code",
   "execution_count": 5,
   "metadata": {
    "ExecuteTime": {
     "end_time": "2023-03-14T14:16:55.225326Z",
     "start_time": "2023-03-14T14:16:55.219014Z"
    }
   },
   "outputs": [],
   "source": [
    "aa = 999"
   ]
  },
  {
   "cell_type": "code",
   "execution_count": 6,
   "metadata": {
    "ExecuteTime": {
     "end_time": "2023-03-14T14:16:57.089661Z",
     "start_time": "2023-03-14T14:16:57.081461Z"
    }
   },
   "outputs": [],
   "source": [
    "# 저질 예시\n",
    "def x(m):\n",
    "    def y():\n",
    "        return aa\n",
    "    return y()"
   ]
  },
  {
   "cell_type": "code",
   "execution_count": 7,
   "metadata": {
    "ExecuteTime": {
     "end_time": "2023-03-14T14:16:58.212949Z",
     "start_time": "2023-03-14T14:16:58.200144Z"
    }
   },
   "outputs": [
    {
     "data": {
      "text/plain": [
       "999"
      ]
     },
     "execution_count": 7,
     "metadata": {},
     "output_type": "execute_result"
    }
   ],
   "source": [
    "x(3)"
   ]
  },
  {
   "cell_type": "code",
   "execution_count": 8,
   "metadata": {
    "ExecuteTime": {
     "end_time": "2023-03-14T14:17:06.062863Z",
     "start_time": "2023-03-14T14:17:06.036523Z"
    }
   },
   "outputs": [
    {
     "ename": "TypeError",
     "evalue": "'int' object is not callable",
     "output_type": "error",
     "traceback": [
      "\u001b[0;31m---------------------------------------------------------------------------\u001b[0m",
      "\u001b[0;31mTypeError\u001b[0m                                 Traceback (most recent call last)",
      "Cell \u001b[0;32mIn[8], line 1\u001b[0m\n\u001b[0;32m----> 1\u001b[0m \u001b[43maa\u001b[49m\u001b[43m(\u001b[49m\u001b[43m)\u001b[49m\n",
      "\u001b[0;31mTypeError\u001b[0m: 'int' object is not callable"
     ]
    }
   ],
   "source": [
    "aa()"
   ]
  },
  {
   "cell_type": "code",
   "execution_count": 9,
   "metadata": {
    "ExecuteTime": {
     "end_time": "2023-03-14T14:17:15.418136Z",
     "start_time": "2023-03-14T14:17:15.394503Z"
    }
   },
   "outputs": [
    {
     "ename": "TypeError",
     "evalue": "'int' object is not callable",
     "output_type": "error",
     "traceback": [
      "\u001b[0;31m---------------------------------------------------------------------------\u001b[0m",
      "\u001b[0;31mTypeError\u001b[0m                                 Traceback (most recent call last)",
      "Cell \u001b[0;32mIn[9], line 1\u001b[0m\n\u001b[0;32m----> 1\u001b[0m \u001b[43mx\u001b[49m\u001b[43m(\u001b[49m\u001b[38;5;241;43m3\u001b[39;49m\u001b[43m)\u001b[49m\u001b[43m(\u001b[49m\u001b[43m)\u001b[49m\n",
      "\u001b[0;31mTypeError\u001b[0m: 'int' object is not callable"
     ]
    }
   ],
   "source": [
    "x(3)()"
   ]
  },
  {
   "cell_type": "code",
   "execution_count": 58,
   "metadata": {},
   "outputs": [],
   "source": [
    "# 저질 예시\n",
    "def x(m):\n",
    "    def y(n):\n",
    "        return aa\n",
    "    return y(n)"
   ]
  },
  {
   "cell_type": "code",
   "execution_count": 59,
   "metadata": {},
   "outputs": [
    {
     "ename": "NameError",
     "evalue": "name 'n' is not defined",
     "output_type": "error",
     "traceback": [
      "\u001b[0;31m---------------------------------------------------------------------------\u001b[0m",
      "\u001b[0;31mNameError\u001b[0m                                 Traceback (most recent call last)",
      "Cell \u001b[0;32mIn[59], line 1\u001b[0m\n\u001b[0;32m----> 1\u001b[0m x(\u001b[39m3\u001b[39;49m)\n",
      "Cell \u001b[0;32mIn[58], line 5\u001b[0m, in \u001b[0;36mx\u001b[0;34m(m)\u001b[0m\n\u001b[1;32m      3\u001b[0m \u001b[39mdef\u001b[39;00m \u001b[39my\u001b[39m(n):\n\u001b[1;32m      4\u001b[0m     \u001b[39mreturn\u001b[39;00m aa\n\u001b[0;32m----> 5\u001b[0m \u001b[39mreturn\u001b[39;00m y(n)\n",
      "\u001b[0;31mNameError\u001b[0m: name 'n' is not defined"
     ]
    }
   ],
   "source": [
    "x(3) # m 에 3이 들어감. 함수가 실행되어 리턴값(y(n))이 나옴. 그러나 y의 실행이 안됨. y를 실행하기 위해서 n argumnet를 집어넣어야 하는데,\n",
    "# 그렇지 않아서 n 이 정의되지 않았다는 에러가 뜸"
   ]
  },
  {
   "cell_type": "code",
   "execution_count": 13,
   "metadata": {
    "ExecuteTime": {
     "end_time": "2023-03-14T14:18:03.020531Z",
     "start_time": "2023-03-14T14:18:03.012965Z"
    }
   },
   "outputs": [],
   "source": [
    "# 이렇게 하면? n이 로컬에 없고 글로벌에 있으면?\n",
    "n = 1\n",
    "del aa"
   ]
  },
  {
   "cell_type": "code",
   "execution_count": 14,
   "metadata": {
    "ExecuteTime": {
     "end_time": "2023-03-14T14:18:04.234427Z",
     "start_time": "2023-03-14T14:18:04.195502Z"
    }
   },
   "outputs": [
    {
     "ename": "NameError",
     "evalue": "name 'aa' is not defined",
     "output_type": "error",
     "traceback": [
      "\u001b[0;31m---------------------------------------------------------------------------\u001b[0m",
      "\u001b[0;31mNameError\u001b[0m                                 Traceback (most recent call last)",
      "Cell \u001b[0;32mIn[14], line 1\u001b[0m\n\u001b[0;32m----> 1\u001b[0m \u001b[43mx\u001b[49m\u001b[43m(\u001b[49m\u001b[38;5;241;43m3\u001b[39;49m\u001b[43m)\u001b[49m\n",
      "Cell \u001b[0;32mIn[6], line 5\u001b[0m, in \u001b[0;36mx\u001b[0;34m(m)\u001b[0m\n\u001b[1;32m      3\u001b[0m \u001b[38;5;28;01mdef\u001b[39;00m \u001b[38;5;21my\u001b[39m():\n\u001b[1;32m      4\u001b[0m     \u001b[38;5;28;01mreturn\u001b[39;00m aa\n\u001b[0;32m----> 5\u001b[0m \u001b[38;5;28;01mreturn\u001b[39;00m \u001b[43my\u001b[49m\u001b[43m(\u001b[49m\u001b[43m)\u001b[49m\n",
      "Cell \u001b[0;32mIn[6], line 4\u001b[0m, in \u001b[0;36mx.<locals>.y\u001b[0;34m()\u001b[0m\n\u001b[1;32m      3\u001b[0m \u001b[38;5;28;01mdef\u001b[39;00m \u001b[38;5;21my\u001b[39m():\n\u001b[0;32m----> 4\u001b[0m     \u001b[38;5;28;01mreturn\u001b[39;00m \u001b[43maa\u001b[49m\n",
      "\u001b[0;31mNameError\u001b[0m: name 'aa' is not defined"
     ]
    }
   ],
   "source": [
    "x(3) # 함수가 됨. 따라서 callable. 괄호 붙힐 수 있다."
   ]
  },
  {
   "cell_type": "code",
   "execution_count": 12,
   "metadata": {
    "ExecuteTime": {
     "end_time": "2023-03-14T14:17:55.564486Z",
     "start_time": "2023-03-14T14:17:55.541821Z"
    }
   },
   "outputs": [
    {
     "ename": "TypeError",
     "evalue": "'int' object is not callable",
     "output_type": "error",
     "traceback": [
      "\u001b[0;31m---------------------------------------------------------------------------\u001b[0m",
      "\u001b[0;31mTypeError\u001b[0m                                 Traceback (most recent call last)",
      "Cell \u001b[0;32mIn[12], line 1\u001b[0m\n\u001b[0;32m----> 1\u001b[0m \u001b[43mx\u001b[49m\u001b[43m(\u001b[49m\u001b[38;5;241;43m3\u001b[39;49m\u001b[43m)\u001b[49m\u001b[43m(\u001b[49m\u001b[43m)\u001b[49m\n",
      "\u001b[0;31mTypeError\u001b[0m: 'int' object is not callable"
     ]
    }
   ],
   "source": [
    "x(3)()"
   ]
  },
  {
   "cell_type": "code",
   "execution_count": 37,
   "metadata": {},
   "outputs": [],
   "source": [
    "aa = 3"
   ]
  },
  {
   "cell_type": "code",
   "execution_count": 38,
   "metadata": {},
   "outputs": [
    {
     "ename": "TypeError",
     "evalue": "'int' object is not callable",
     "output_type": "error",
     "traceback": [
      "\u001b[0;31m---------------------------------------------------------------------------\u001b[0m",
      "\u001b[0;31mTypeError\u001b[0m                                 Traceback (most recent call last)",
      "Cell \u001b[0;32mIn[38], line 1\u001b[0m\n\u001b[0;32m----> 1\u001b[0m x(\u001b[39m3\u001b[39;49m)()\n",
      "\u001b[0;31mTypeError\u001b[0m: 'int' object is not callable"
     ]
    }
   ],
   "source": [
    "x(3)()"
   ]
  },
  {
   "cell_type": "code",
   "execution_count": 39,
   "metadata": {},
   "outputs": [
    {
     "data": {
      "text/plain": [
       "3"
      ]
     },
     "execution_count": 39,
     "metadata": {},
     "output_type": "execute_result"
    }
   ],
   "source": [
    "# x(3) 은 리턴이 y(n)의 결과값을 리턴함. y(n)을 실행시키니 aa가 나옴. aa는 3 그렇다면 x(3)은 3\n",
    "x(3)"
   ]
  },
  {
   "cell_type": "code",
   "execution_count": null,
   "metadata": {},
   "outputs": [],
   "source": [
    "# 남이 많든 코드 보고 리턴을 뭐 하는지 흐름 따라가는 것이 매우 중요 -> inspect 활용"
   ]
  },
  {
   "cell_type": "code",
   "execution_count": null,
   "metadata": {},
   "outputs": [],
   "source": [
    "# 저질 예시\n",
    "def x(m):\n",
    "    n = 1  # 이 변수를 Enclosing 변수라고 함\n",
    "    def y(n):\n",
    "        return aa\n",
    "    return y(n)\n",
    "# 함수 밖에서 함수 안의 것을 바꿀 수 없음."
   ]
  },
  {
   "cell_type": "code",
   "execution_count": 40,
   "metadata": {},
   "outputs": [],
   "source": [
    "y = 1\n",
    "def a():\n",
    "    y = 2\n",
    "    def b():\n",
    "        return y\n",
    "    return b()"
   ]
  },
  {
   "cell_type": "code",
   "execution_count": 41,
   "metadata": {},
   "outputs": [
    {
     "data": {
      "text/plain": [
       "2"
      ]
     },
     "execution_count": 41,
     "metadata": {},
     "output_type": "execute_result"
    }
   ],
   "source": [
    "a()"
   ]
  },
  {
   "cell_type": "code",
   "execution_count": null,
   "metadata": {},
   "outputs": [],
   "source": [
    "# 위에서 왜 2가 나올까? a 의 리턴값은 b의 리턴값. b의 리턴값은 y. 그런데 y는 로컬에 없음. 로컬에 없으면 위에를 찾음.\n",
    "# 위에 있으니까 y=2가 됨"
   ]
  },
  {
   "cell_type": "code",
   "execution_count": 42,
   "metadata": {},
   "outputs": [],
   "source": [
    "y = 1\n",
    "def a():\n",
    "    y = 2\n",
    "    def b():\n",
    "        global y\n",
    "        y = y+5\n",
    "        return y\n",
    "    return b()"
   ]
  },
  {
   "cell_type": "code",
   "execution_count": 43,
   "metadata": {},
   "outputs": [
    {
     "data": {
      "text/plain": [
       "6"
      ]
     },
     "execution_count": 43,
     "metadata": {},
     "output_type": "execute_result"
    }
   ],
   "source": [
    "a()"
   ]
  },
  {
   "cell_type": "code",
   "execution_count": 44,
   "metadata": {},
   "outputs": [
    {
     "data": {
      "text/plain": [
       "6"
      ]
     },
     "execution_count": 44,
     "metadata": {},
     "output_type": "execute_result"
    }
   ],
   "source": [
    "y\n",
    "# global y 로 했기 때문에 글로벌에 있는 1이 더해져서 6이 되버린 것.\n",
    "# 이것은 실수하기 딱 좋음. 그래서 글로벌 쓰지 말라고 하는 것."
   ]
  },
  {
   "cell_type": "code",
   "execution_count": 45,
   "metadata": {},
   "outputs": [],
   "source": [
    "y = 1\n",
    "def a():\n",
    "    y = 2\n",
    "    def b():\n",
    "        y = y+5\n",
    "        return y\n",
    "    return b()"
   ]
  },
  {
   "cell_type": "code",
   "execution_count": 46,
   "metadata": {},
   "outputs": [
    {
     "ename": "UnboundLocalError",
     "evalue": "local variable 'y' referenced before assignment",
     "output_type": "error",
     "traceback": [
      "\u001b[0;31m---------------------------------------------------------------------------\u001b[0m",
      "\u001b[0;31mUnboundLocalError\u001b[0m                         Traceback (most recent call last)",
      "Cell \u001b[0;32mIn[46], line 1\u001b[0m\n\u001b[0;32m----> 1\u001b[0m a()\n",
      "Cell \u001b[0;32mIn[45], line 7\u001b[0m, in \u001b[0;36ma\u001b[0;34m()\u001b[0m\n\u001b[1;32m      5\u001b[0m     y \u001b[39m=\u001b[39m y\u001b[39m+\u001b[39m\u001b[39m5\u001b[39m\n\u001b[1;32m      6\u001b[0m     \u001b[39mreturn\u001b[39;00m y\n\u001b[0;32m----> 7\u001b[0m \u001b[39mreturn\u001b[39;00m b()\n",
      "Cell \u001b[0;32mIn[45], line 5\u001b[0m, in \u001b[0;36ma.<locals>.b\u001b[0;34m()\u001b[0m\n\u001b[1;32m      4\u001b[0m \u001b[39mdef\u001b[39;00m \u001b[39mb\u001b[39m():\n\u001b[0;32m----> 5\u001b[0m     y \u001b[39m=\u001b[39m y\u001b[39m+\u001b[39m\u001b[39m5\u001b[39m\n\u001b[1;32m      6\u001b[0m     \u001b[39mreturn\u001b[39;00m y\n",
      "\u001b[0;31mUnboundLocalError\u001b[0m: local variable 'y' referenced before assignment"
     ]
    }
   ],
   "source": [
    "a()\n",
    "# unboundlocalerror\n",
    "# 좌변의 y는 로컬인데 우변의 y 는 enclosing\n",
    "# 글로벌에서는 y를 막 실수로 바꿔버릴 수 있음\n",
    "# 나는 글로벌에 있는 y를 일치시키지 않고 local이 아니다, 즉 enclosing 에 일치시키겠다는 것. -> 그것이 nonlocal"
   ]
  },
  {
   "cell_type": "code",
   "execution_count": 47,
   "metadata": {},
   "outputs": [],
   "source": [
    "y = 1\n",
    "def a():\n",
    "    y = 2\n",
    "    def b():\n",
    "        nonlocal y\n",
    "        y = y+5\n",
    "        return y\n",
    "    return b()"
   ]
  },
  {
   "cell_type": "code",
   "execution_count": 48,
   "metadata": {},
   "outputs": [
    {
     "data": {
      "text/plain": [
       "7"
      ]
     },
     "execution_count": 48,
     "metadata": {},
     "output_type": "execute_result"
    }
   ],
   "source": [
    "a()"
   ]
  },
  {
   "cell_type": "code",
   "execution_count": null,
   "metadata": {},
   "outputs": [],
   "source": [
    "# 이 활용은 딥러닝, 인공지능 파트에 가서 계속 쓸 것. 복습이 매우매우 중요!\n",
    "#! 글로벌과 nonlocal 이해하자!!!\n",
    "# 이것은 파이썬 기본 키워드라서 배웠을 수도 있음"
   ]
  },
  {
   "cell_type": "code",
   "execution_count": null,
   "metadata": {},
   "outputs": [],
   "source": [
    "# 스코프(namespace)의 개념\n",
    "# 클래스의 스코프는 또 다르다. 파이썬의 접근권한. LEGB가 클래스에서는 또 다름.\n",
    "# 이름 붙은 함수와 람다 함수 배움 지금까지."
   ]
  },
  {
   "cell_type": "code",
   "execution_count": null,
   "metadata": {},
   "outputs": [],
   "source": [
    "# closure\n",
    "# 책 24p\n",
    "# 두개의 변수의 상호작용으로 훨씬 더 복잡하고 유연한 함수를 배울 수 있다.\n",
    "# 함수형 패러다임 고유의 것\n",
    "# 함수형 패러다임은 빅데이터 처리, 인공지능 때문에 배움."
   ]
  },
  {
   "cell_type": "code",
   "execution_count": null,
   "metadata": {},
   "outputs": [],
   "source": [
    "# __call__ 때문에 객체지향 방식과 함수형 패러다임의 경계가 허물어짐.\n",
    "# 클로저는 어려워서 다음에 ㄱ ㄱ"
   ]
  },
  {
   "cell_type": "markdown",
   "metadata": {},
   "source": [
    "### Methods of Classes"
   ]
  },
  {
   "cell_type": "code",
   "execution_count": null,
   "metadata": {},
   "outputs": [],
   "source": [
    "# 클래스에 존재하는 함수들이 Method\n",
    "# 먼저 클래스로 가보자."
   ]
  },
  {
   "cell_type": "code",
   "execution_count": null,
   "metadata": {},
   "outputs": [],
   "source": [
    "# 파이썬에서 클래스를 한마디로 하면 #! \"자료형\"\n",
    "# 클래스의 비밀을 보자"
   ]
  },
  {
   "cell_type": "code",
   "execution_count": 75,
   "metadata": {},
   "outputs": [],
   "source": [
    "# 클래스 인지 아닌지를 알 수 있는 것은 타입을 통하면 알 수 있음.\n",
    "a = 1"
   ]
  },
  {
   "cell_type": "code",
   "execution_count": 76,
   "metadata": {},
   "outputs": [
    {
     "data": {
      "text/plain": [
       "int"
      ]
     },
     "execution_count": 76,
     "metadata": {},
     "output_type": "execute_result"
    }
   ],
   "source": [
    "type(a)"
   ]
  },
  {
   "cell_type": "code",
   "execution_count": 77,
   "metadata": {},
   "outputs": [
    {
     "data": {
      "text/plain": [
       "type"
      ]
     },
     "execution_count": 77,
     "metadata": {},
     "output_type": "execute_result"
    }
   ],
   "source": [
    "# int 는 정수. 위 출력은 int 라는 자료형을 뜻함. type을 치면 자료형이 나옴.\n",
    "type(int)\n",
    "# 이건 왜?"
   ]
  },
  {
   "cell_type": "code",
   "execution_count": null,
   "metadata": {},
   "outputs": [],
   "source": [
    "# 이게 메타클래스라는 개념. type()은 자료형을 알려줌.\n",
    "# Map"
   ]
  },
  {
   "cell_type": "code",
   "execution_count": null,
   "metadata": {},
   "outputs": [],
   "source": [
    "map # 설명에 나오는 Type : type\n",
    "# 이 뜻은 map 이 클래스라는 것이고, map 이라는 자료형을 만들겠다는 것.\n",
    "# 자료형은 특정한 형"
   ]
  },
  {
   "cell_type": "code",
   "execution_count": null,
   "metadata": {},
   "outputs": [],
   "source": [
    "# 클래스에는 뭘 붙힐 수 있다?\n",
    "# 자료형에는 괄호를 붙힐 수 있다 => 괄호를 붙히면 이 자료형에 맞는 자료 즉 value가 생성이 된다.\n",
    "int() #! 그것이 바로 instance => 즉 이 자료형에 맞는 instance를 생성한다.\n",
    "#! 즉 instance는 특정 자료형에 맞는 값을 생성하는 것"
   ]
  },
  {
   "cell_type": "code",
   "execution_count": 78,
   "metadata": {},
   "outputs": [
    {
     "data": {
      "text/plain": [
       "True"
      ]
     },
     "execution_count": 78,
     "metadata": {},
     "output_type": "execute_result"
    }
   ],
   "source": [
    "callable(int) # 괄호 붙힐 수 있다!"
   ]
  },
  {
   "cell_type": "code",
   "execution_count": null,
   "metadata": {},
   "outputs": [],
   "source": [
    "# #!클래스에 괄호를 붙힌다는 것은 이 클래스에 맞는 값(인스턴스)을 생성하겠다는 것.\n",
    "# int() 는 int 에 맞는 값을 생성하겠다.\n",
    "# float()는 float에 맞는 값을 생성하겠다."
   ]
  },
  {
   "cell_type": "code",
   "execution_count": 79,
   "metadata": {},
   "outputs": [
    {
     "data": {
      "text/plain": [
       "0"
      ]
     },
     "execution_count": 79,
     "metadata": {},
     "output_type": "execute_result"
    }
   ],
   "source": [
    "int() # 설명에서 나오는 대괄호[] 는 option. 넣어도 되고 안 넣어도 됨.\n",
    "# 안 넣으면 어떤 애가 나올까?\n",
    "# 그냥 0이 나옴.\n",
    "# 그 뜻은 false 가 된다는 것과 같다. 존재론적 관점에서 존재하지 않는다는 것."
   ]
  },
  {
   "cell_type": "code",
   "execution_count": 80,
   "metadata": {},
   "outputs": [
    {
     "data": {
      "text/plain": [
       "0.0"
      ]
     },
     "execution_count": 80,
     "metadata": {},
     "output_type": "execute_result"
    }
   ],
   "source": [
    "# true/false 체크하는 것은 존재론적 관점.\n",
    "# 안 집어넣는 것은 싹 다 False가 된다.\n",
    "float()"
   ]
  },
  {
   "cell_type": "code",
   "execution_count": 81,
   "metadata": {},
   "outputs": [
    {
     "data": {
      "text/plain": [
       "[]"
      ]
     },
     "execution_count": 81,
     "metadata": {},
     "output_type": "execute_result"
    }
   ],
   "source": [
    "list() # 이것도 false가 됨."
   ]
  },
  {
   "cell_type": "code",
   "execution_count": null,
   "metadata": {},
   "outputs": [],
   "source": [
    "# 즉 데이터형 중에 안 집어넣으면 다 false가 됨.\n",
    "# 클래스는 한마디로 \"자료형\"\n",
    "# 다시 정리하면, "
   ]
  },
  {
   "cell_type": "markdown",
   "metadata": {},
   "source": [
    "##### 자료형에 ()를 붙힌다는 것은, 이 연산자()는 클래스에 맞는 자료를 만들고 그 자료를 **인스턴스 혹은 오브젝트**라고 함."
   ]
  },
  {
   "cell_type": "code",
   "execution_count": null,
   "metadata": {},
   "outputs": [],
   "source": [
    "# 파이썬 객체지향의 꽃\n",
    "# operation overloading 이라는 개념"
   ]
  },
  {
   "cell_type": "code",
   "execution_count": 82,
   "metadata": {},
   "outputs": [],
   "source": [
    "# 파이썬에서는 연산자, 어떤 연산을 할 때마다 내부적으로 스페셜(매직) 메소드 즉 dunder 가 실행이 된다.\n",
    "class A:\n",
    "    def __add__(self, x):\n",
    "        print('안더함')"
   ]
  },
  {
   "cell_type": "code",
   "execution_count": 83,
   "metadata": {},
   "outputs": [
    {
     "name": "stdout",
     "output_type": "stream",
     "text": [
      "안더함\n"
     ]
    }
   ],
   "source": [
    "# 자료형들이 직접 움직이는 게 아니고, 값이 움직이기 위해서 인스턴스를 하고 나서 사용함\n",
    "a = A()\n",
    "a + 1\n",
    "# 더하기 연산자가 다른 기능을 갖게 됨."
   ]
  },
  {
   "cell_type": "code",
   "execution_count": null,
   "metadata": {},
   "outputs": [],
   "source": [
    "# 클래스의 괄호 연산자 콜러블은 인스턴스하는 것. 위에서 a = A()\n",
    "# 실행하는 애가 있을 것.\n",
    "# 그 실행하는 애 안에서 __new__, __init__가 차례대로(절차별로) 실행이 됨"
   ]
  },
  {
   "cell_type": "code",
   "execution_count": null,
   "metadata": {},
   "outputs": [],
   "source": [
    "int # Init signature => 값 만들 때 옆에 나타나는 꼴로 만들어라 라는 것.\n",
    "# 인스턴스 할 때 이런 꼴로 하라고 알려주는 것.\n",
    "# 함수 시그니쳐와 다름 => 클래스의 시그니쳐는 여러개가 있을 수 있기 때문에."
   ]
  },
  {
   "cell_type": "code",
   "execution_count": null,
   "metadata": {},
   "outputs": [],
   "source": [
    "# 우리는 클래스에서 우리 눈에는 연산자가 실행되는 것처럼 보이지만, 연산자가 정의된 부분이 실행된다.\n",
    "# 클래스에 괄호 붙혔을 땐 __init__ 가 정의된 부분이 실행이 됨. a = A()\n",
    "# 함수()와 클래스()는 다르다는 것을 알 수 있음"
   ]
  },
  {
   "cell_type": "code",
   "execution_count": null,
   "metadata": {},
   "outputs": [],
   "source": [
    "# 클래스의 괄호가 어떤 의미인지 알려면 클래스에 관련된 명명규칙을 또 알아야 함.\n",
    "# 함수와 클래스 사이의 경계가 희미함.\n",
    "# 함수도 사용하기 위해서 선언/정의 하는데 클래스도 선언/정의를 함.\n",
    "# 그 이유가 재사용하기 위해서.\n",
    "# 계속 사용하지 않는 lambda 가 있음(함수에서는)\n",
    "# 클래스에도 있음. 일회성 클래스 즉 그것이 바로 타입"
   ]
  },
  {
   "cell_type": "code",
   "execution_count": 86,
   "metadata": {},
   "outputs": [],
   "source": [
    "a = type('hh',(int,), {})\n",
    "# 별표 두개는 가변 키워드인데 딕셔너리를 이용해서 가능\n",
    "# 이것이 람다 비슷하게 클래스를 만든 것."
   ]
  },
  {
   "cell_type": "code",
   "execution_count": 87,
   "metadata": {},
   "outputs": [
    {
     "data": {
      "text/plain": [
       "3"
      ]
     },
     "execution_count": 87,
     "metadata": {},
     "output_type": "execute_result"
    }
   ],
   "source": [
    "a(3)"
   ]
  },
  {
   "cell_type": "code",
   "execution_count": 88,
   "metadata": {},
   "outputs": [
    {
     "data": {
      "text/plain": [
       "0"
      ]
     },
     "execution_count": 88,
     "metadata": {},
     "output_type": "execute_result"
    }
   ],
   "source": [
    "a()"
   ]
  },
  {
   "cell_type": "code",
   "execution_count": null,
   "metadata": {},
   "outputs": [],
   "source": [
    "# 클래스와 함수가 비슷하다는 느낌이 옴.\n",
    "# 함수는 snake 방식\n",
    "# 클래스에는 camel(사실은 pascal) 방식"
   ]
  },
  {
   "cell_type": "code",
   "execution_count": 49,
   "metadata": {},
   "outputs": [],
   "source": [
    "class T(object, metaclass=type):   # 이 안에 존재하는 모든 것들은 attribute\n",
    "    a = 1  # class variable / attribute\n",
    "    def x(self):  #! instance method (클래스 안에 정의된 함수)\n",
    "        self.x = 1 # instance variable = method 호출 시 생성\n",
    "        return 1"
   ]
  },
  {
   "cell_type": "code",
   "execution_count": null,
   "metadata": {},
   "outputs": [],
   "source": [
    "# 클래스 안에 정의된 모든 것을 attribute 라고 함.\n",
    "# 이름이 없으면 NameError가 남."
   ]
  },
  {
   "cell_type": "code",
   "execution_count": 91,
   "metadata": {},
   "outputs": [
    {
     "ename": "AttributeError",
     "evalue": "'int' object has no attribute 'xx'",
     "output_type": "error",
     "traceback": [
      "\u001b[0;31m---------------------------------------------------------------------------\u001b[0m",
      "\u001b[0;31mAttributeError\u001b[0m                            Traceback (most recent call last)",
      "Cell \u001b[0;32mIn[91], line 2\u001b[0m\n\u001b[1;32m      1\u001b[0m a \u001b[39m=\u001b[39m \u001b[39m1\u001b[39m\n\u001b[0;32m----> 2\u001b[0m a\u001b[39m.\u001b[39;49mxx\n",
      "\u001b[0;31mAttributeError\u001b[0m: 'int' object has no attribute 'xx'"
     ]
    }
   ],
   "source": [
    "a = 1\n",
    "a.xx\n",
    "# attribute error => 이 안에 정의되어 있는 것이 없다!"
   ]
  },
  {
   "cell_type": "code",
   "execution_count": 92,
   "metadata": {},
   "outputs": [
    {
     "data": {
      "text/plain": [
       "['__abs__',\n",
       " '__add__',\n",
       " '__and__',\n",
       " '__bool__',\n",
       " '__ceil__',\n",
       " '__class__',\n",
       " '__delattr__',\n",
       " '__dir__',\n",
       " '__divmod__',\n",
       " '__doc__',\n",
       " '__eq__',\n",
       " '__float__',\n",
       " '__floor__',\n",
       " '__floordiv__',\n",
       " '__format__',\n",
       " '__ge__',\n",
       " '__getattribute__',\n",
       " '__getnewargs__',\n",
       " '__gt__',\n",
       " '__hash__',\n",
       " '__index__',\n",
       " '__init__',\n",
       " '__init_subclass__',\n",
       " '__int__',\n",
       " '__invert__',\n",
       " '__le__',\n",
       " '__lshift__',\n",
       " '__lt__',\n",
       " '__mod__',\n",
       " '__mul__',\n",
       " '__ne__',\n",
       " '__neg__',\n",
       " '__new__',\n",
       " '__or__',\n",
       " '__pos__',\n",
       " '__pow__',\n",
       " '__radd__',\n",
       " '__rand__',\n",
       " '__rdivmod__',\n",
       " '__reduce__',\n",
       " '__reduce_ex__',\n",
       " '__repr__',\n",
       " '__rfloordiv__',\n",
       " '__rlshift__',\n",
       " '__rmod__',\n",
       " '__rmul__',\n",
       " '__ror__',\n",
       " '__round__',\n",
       " '__rpow__',\n",
       " '__rrshift__',\n",
       " '__rshift__',\n",
       " '__rsub__',\n",
       " '__rtruediv__',\n",
       " '__rxor__',\n",
       " '__setattr__',\n",
       " '__sizeof__',\n",
       " '__str__',\n",
       " '__sub__',\n",
       " '__subclasshook__',\n",
       " '__truediv__',\n",
       " '__trunc__',\n",
       " '__xor__',\n",
       " 'as_integer_ratio',\n",
       " 'bit_count',\n",
       " 'bit_length',\n",
       " 'conjugate',\n",
       " 'denominator',\n",
       " 'from_bytes',\n",
       " 'imag',\n",
       " 'numerator',\n",
       " 'real',\n",
       " 'to_bytes']"
      ]
     },
     "execution_count": 92,
     "metadata": {},
     "output_type": "execute_result"
    }
   ],
   "source": [
    "dir(a) # 모든 attribute를 나열하라는 명령어 => .하고 쓸 수 있는 속성"
   ]
  },
  {
   "cell_type": "code",
   "execution_count": null,
   "metadata": {},
   "outputs": [],
   "source": [
    "# 함수 내에 정의 된 변수를 클래스 변수라고 함\n",
    "# instance method 는 무조건 첫번째 인자가 있어야 함. 그것을 관례상 #!self 라고 함.\n",
    "# method 라는 의미는 무조건 첫번째 인자가 있다는 것인데 그 파라미터의 이름을 self 라고 함 => PEP 8 에 나옴\n",
    "# 안쓴다고 에러가 나지는 않지만 self 라고 관례상 적어야 함"
   ]
  },
  {
   "cell_type": "code",
   "execution_count": null,
   "metadata": {},
   "outputs": [],
   "source": [
    "# self 는 자기 자신을 뜻하기 떄문에 프로그래밍 용어상 자기 자신을 뜻함.\n",
    "# C / C++ 에서는 this 라고 함."
   ]
  },
  {
   "cell_type": "code",
   "execution_count": null,
   "metadata": {},
   "outputs": [],
   "source": [
    "# method 호출시 생성\n",
    "# 각각의 클래스 변수들이 뭔가?\n",
    "# 절차들\n",
    "# 이것들이 이해하기 힘듦"
   ]
  },
  {
   "cell_type": "code",
   "execution_count": 93,
   "metadata": {},
   "outputs": [],
   "source": [
    "# 왜 클래스 변수일까?\n",
    "# 클래스는 실제값이 아니고 자료형.\n",
    "# 클래스는 자료형임과 동시에 메타클래스의 instance이다.\n",
    "# 즉, 메타클래스의 인스턴스는 클래스\n",
    "# 그러면 파이썬 동네의 모든 것은 인스턴스이다.\n",
    "# 그러면 파이썬은 모두가 객체이다.\n",
    "# 그래서 순수한 객체지향 언어와 비슷하다. 자바와 C 보다 훨씬 더 객체지향 적인 것\n",
    "# 클래스도 객체라는 것은 클래스도 구체적인 값을 가질 수 있다는 것"
   ]
  },
  {
   "cell_type": "code",
   "execution_count": 50,
   "metadata": {},
   "outputs": [
    {
     "data": {
      "text/plain": [
       "1"
      ]
     },
     "execution_count": 50,
     "metadata": {},
     "output_type": "execute_result"
    }
   ],
   "source": [
    "T.a\n",
    "# 여기서 a는 클래스 변수로 만들어졌기 때문에 사용 가능"
   ]
  },
  {
   "cell_type": "code",
   "execution_count": null,
   "metadata": {},
   "outputs": [],
   "source": [
    "# 파이썬은 class의 캡슐화가 느슨하다 => 객체지향의 자유도가 올라간다는 것\n",
    "# python은 consenting adult\n",
    "# 이 뜻은 내 마음대로 책임진다는 것. 즉 클래스는 캡슐화 안하고 완전 개방적이라는 것\n",
    "# 그러나 함수는 외부에서 접근 가능하지 않은 것처럼 캡슐화 엄격"
   ]
  },
  {
   "cell_type": "code",
   "execution_count": 95,
   "metadata": {},
   "outputs": [],
   "source": [
    "# 아무나 다 받아주는 것이 클래스\n",
    "T.b = 2"
   ]
  },
  {
   "cell_type": "code",
   "execution_count": 96,
   "metadata": {},
   "outputs": [],
   "source": [
    "del T.a"
   ]
  },
  {
   "cell_type": "code",
   "execution_count": 97,
   "metadata": {},
   "outputs": [
    {
     "ename": "AttributeError",
     "evalue": "type object 'T' has no attribute 'a'",
     "output_type": "error",
     "traceback": [
      "\u001b[0;31m---------------------------------------------------------------------------\u001b[0m",
      "\u001b[0;31mAttributeError\u001b[0m                            Traceback (most recent call last)",
      "Cell \u001b[0;32mIn[97], line 1\u001b[0m\n\u001b[0;32m----> 1\u001b[0m T\u001b[39m.\u001b[39;49ma\n",
      "\u001b[0;31mAttributeError\u001b[0m: type object 'T' has no attribute 'a'"
     ]
    }
   ],
   "source": [
    "T.a\n",
    "# 정의해놨는데 없앨수도 있다 => consenting adult\n",
    "# 자유분방하다는 것"
   ]
  },
  {
   "cell_type": "code",
   "execution_count": null,
   "metadata": {},
   "outputs": [],
   "source": [
    "# 함수는 접근할 수 있는 단계가 있었음 LEGB\n",
    "# Class는 접근 권한 자체가 없음.\n",
    "# 그런데 과연 접근 권한을 그냥 없앴을까? => 접근 권한은 description 으로 만들었음. (파이썬에서 3번째로 어려운 것)\n",
    "# 우리는 description을 이해해야 파이토치나 텐서플로우 이해 가능"
   ]
  },
  {
   "cell_type": "code",
   "execution_count": null,
   "metadata": {},
   "outputs": [],
   "source": [
    "# consenting adult 기 때문에 기본적으로 내가 책임지는 자유분방함\n",
    "# 그런데 더 심하게 막을 수도 있음. 점 사용 못하도록. 언어자체를 그렇게 만들 수 있음.\n",
    "# 뭐가 안되는 것은 descripter 를 이용한 것."
   ]
  },
  {
   "cell_type": "code",
   "execution_count": 99,
   "metadata": {},
   "outputs": [
    {
     "data": {
      "text/plain": [
       "1"
      ]
     },
     "execution_count": 99,
     "metadata": {},
     "output_type": "execute_result"
    }
   ],
   "source": [
    "# descripter 가 보통 어떻게 할까?\n",
    "T.a # 이러한 클래스 변수(attribute)를 이용한 것을 객체지향에서는 getter (어떤 값을 준다는 것)"
   ]
  },
  {
   "cell_type": "code",
   "execution_count": null,
   "metadata": {},
   "outputs": [],
   "source": [
    "T.b = 2 # setter(값을 둔다)"
   ]
  },
  {
   "cell_type": "code",
   "execution_count": null,
   "metadata": {},
   "outputs": [],
   "source": [
    "del T.a # deleter"
   ]
  },
  {
   "cell_type": "code",
   "execution_count": null,
   "metadata": {},
   "outputs": [],
   "source": [
    "# 보통 값을 갖고 얻는 것을 accessor(접근자)\n",
    "# descripter 는 만드는 방식이 3가지.\n",
    "# else, from, as 다 3가지 방식\n",
    "# 파이썬에서는 42도 굉장히 좋아함. ASCII 코드로 * 이 42\n",
    "# spam 은 필요없는 단어 -> 귀도 반 로썸이 좋아하는 예시\n"
   ]
  },
  {
   "cell_type": "code",
   "execution_count": null,
   "metadata": {},
   "outputs": [],
   "source": [
    "# accessor 는 접근.\n",
    "# 접근은 점(.)이 핵심 역할을 함\n",
    "# 점(.) 도 연산자\n",
    "# 그렇다면 파이썬의 모든 연산자는 실행하는 문장이 있음.\n",
    "#! 점의 기능을 바꾸기 위해서 쓰는 게 descripter\n",
    "# descripter 는 3가지 방식으로 만든다.\n",
    "# 그 세가지 방식 중에서 무조건 외워야 하는 것이 있음\n",
    "# property"
   ]
  },
  {
   "cell_type": "code",
   "execution_count": 51,
   "metadata": {},
   "outputs": [],
   "source": [
    "class S:\n",
    "    @property  # @ 붙은 것이 decorator(기능을 바꿔주는 것) => annotation(알려주는 주석 같은 느낌) 이 @\n",
    "    def x(self):\n",
    "        return 1"
   ]
  },
  {
   "cell_type": "code",
   "execution_count": null,
   "metadata": {},
   "outputs": [],
   "source": [
    "# 동적으로 새로운 기능을 추가한다 그것이 descripter"
   ]
  },
  {
   "cell_type": "code",
   "execution_count": 52,
   "metadata": {},
   "outputs": [],
   "source": [
    "s = S() # S라는 자료형의 데이터 값을 만듦. x를 사용할 수 있음"
   ]
  },
  {
   "cell_type": "code",
   "execution_count": 53,
   "metadata": {},
   "outputs": [
    {
     "ename": "TypeError",
     "evalue": "'int' object is not callable",
     "output_type": "error",
     "traceback": [
      "\u001b[0;31m---------------------------------------------------------------------------\u001b[0m",
      "\u001b[0;31mTypeError\u001b[0m                                 Traceback (most recent call last)",
      "Cell \u001b[0;32mIn[53], line 1\u001b[0m\n\u001b[0;32m----> 1\u001b[0m s\u001b[39m.\u001b[39;49mx()\n",
      "\u001b[0;31mTypeError\u001b[0m: 'int' object is not callable"
     ]
    }
   ],
   "source": [
    "s.x()\n",
    "# 왜 not callable? => @property 는 ()를 안붙히고 사용하게 만드는 애임\n",
    "#! 함수를 accessor 처럼 사용할 수 있게 하는 것이 property => 이것이 description 에 나옴"
   ]
  },
  {
   "cell_type": "code",
   "execution_count": 54,
   "metadata": {},
   "outputs": [
    {
     "data": {
      "text/plain": [
       "1"
      ]
     },
     "execution_count": 54,
     "metadata": {},
     "output_type": "execute_result"
    }
   ],
   "source": [
    "s.x"
   ]
  },
  {
   "cell_type": "code",
   "execution_count": null,
   "metadata": {},
   "outputs": [],
   "source": [
    "# callable => 괄호를 붙힐 수 있는\n",
    "#! 괄호를 붙여야 하는 애를 안붙혀도 사용할 수 있게 해주는 것이 descripter\n",
    "# 함수인데 괄호를 안붙히고 사용하는 것이 property 로 만든 것. => 괄호를 붙히면 안된다!"
   ]
  },
  {
   "cell_type": "code",
   "execution_count": null,
   "metadata": {},
   "outputs": [],
   "source": [
    "# 이제 method 설명"
   ]
  },
  {
   "cell_type": "code",
   "execution_count": null,
   "metadata": {},
   "outputs": [],
   "source": [
    "class T(object, metaclass=type):   # attribute\n",
    "    a = 1  # class variable / attribute\n",
    "    def x(self):  # instance method (클래스 안에 정의된 함수)\n",
    "        self.x = 1 # instance variable = method 호출 시 생성\n",
    "        return 1"
   ]
  },
  {
   "cell_type": "code",
   "execution_count": 104,
   "metadata": {},
   "outputs": [],
   "source": [
    "class S:\n",
    "    @property\n",
    "    def x(self):\n",
    "        return 1"
   ]
  },
  {
   "cell_type": "code",
   "execution_count": 105,
   "metadata": {},
   "outputs": [],
   "source": [
    "class S:\n",
    "    def x(self):\n",
    "        return 1"
   ]
  },
  {
   "cell_type": "code",
   "execution_count": 106,
   "metadata": {},
   "outputs": [
    {
     "data": {
      "text/plain": [
       "['__class__',\n",
       " '__delattr__',\n",
       " '__dict__',\n",
       " '__dir__',\n",
       " '__doc__',\n",
       " '__eq__',\n",
       " '__format__',\n",
       " '__ge__',\n",
       " '__getattribute__',\n",
       " '__gt__',\n",
       " '__hash__',\n",
       " '__init__',\n",
       " '__init_subclass__',\n",
       " '__le__',\n",
       " '__lt__',\n",
       " '__module__',\n",
       " '__ne__',\n",
       " '__new__',\n",
       " '__reduce__',\n",
       " '__reduce_ex__',\n",
       " '__repr__',\n",
       " '__setattr__',\n",
       " '__sizeof__',\n",
       " '__str__',\n",
       " '__subclasshook__',\n",
       " '__weakref__',\n",
       " 'x']"
      ]
     },
     "execution_count": 106,
     "metadata": {},
     "output_type": "execute_result"
    }
   ],
   "source": [
    "dir(S) # dir 은 attribute 나열한 것. attribute는 점으로 접근\n",
    "# 맨 밑에 x가 있음"
   ]
  },
  {
   "cell_type": "code",
   "execution_count": 107,
   "metadata": {},
   "outputs": [
    {
     "data": {
      "text/plain": [
       "1"
      ]
     },
     "execution_count": 107,
     "metadata": {},
     "output_type": "execute_result"
    }
   ],
   "source": [
    "# 메소드는 제일 처음 인스턴스 하고\n",
    "yy = S()\n",
    "yy.x()  # 여기에 왜 인자 안쓸까?"
   ]
  },
  {
   "cell_type": "code",
   "execution_count": 108,
   "metadata": {},
   "outputs": [
    {
     "data": {
      "text/plain": [
       "<bound method S.x of <__main__.S object at 0x7f9f88a60a30>>"
      ]
     },
     "execution_count": 108,
     "metadata": {},
     "output_type": "execute_result"
    }
   ],
   "source": [
    "yy.x\n",
    "# bound 가 나옴\n",
    "# bound 는 =과 같은 뜻, binding 이라는 것\n",
    "# 메소드라는 것.\n",
    "# 메소드는 callable 해서 괄호 붙힘"
   ]
  },
  {
   "cell_type": "code",
   "execution_count": 109,
   "metadata": {},
   "outputs": [
    {
     "ename": "TypeError",
     "evalue": "S.x() missing 1 required positional argument: 'self'",
     "output_type": "error",
     "traceback": [
      "\u001b[0;31m---------------------------------------------------------------------------\u001b[0m",
      "\u001b[0;31mTypeError\u001b[0m                                 Traceback (most recent call last)",
      "Cell \u001b[0;32mIn[109], line 1\u001b[0m\n\u001b[0;32m----> 1\u001b[0m S\u001b[39m.\u001b[39;49mx()\n",
      "\u001b[0;31mTypeError\u001b[0m: S.x() missing 1 required positional argument: 'self'"
     ]
    }
   ],
   "source": [
    "S.x()"
   ]
  },
  {
   "cell_type": "code",
   "execution_count": 110,
   "metadata": {},
   "outputs": [
    {
     "data": {
      "text/plain": [
       "<function __main__.S.x(self)>"
      ]
     },
     "execution_count": 110,
     "metadata": {},
     "output_type": "execute_result"
    }
   ],
   "source": [
    "S.x"
   ]
  },
  {
   "cell_type": "code",
   "execution_count": 111,
   "metadata": {},
   "outputs": [
    {
     "data": {
      "text/plain": [
       "1"
      ]
     },
     "execution_count": 111,
     "metadata": {},
     "output_type": "execute_result"
    }
   ],
   "source": [
    "# self 는 인스턴스 그 자신을 self 라고 함.\n",
    "# 그래서\n",
    "S.x(yy) # 이것은 함수"
   ]
  },
  {
   "cell_type": "code",
   "execution_count": 112,
   "metadata": {},
   "outputs": [
    {
     "data": {
      "text/plain": [
       "1"
      ]
     },
     "execution_count": 112,
     "metadata": {},
     "output_type": "execute_result"
    }
   ],
   "source": [
    "# 메소드로 사용할 때는 self 지우고 사용 => 두 번 반복되니까\n",
    "yy.x() # 원래 이렇게 써야함 yy.x(yy) => 그러나 파이썬은 간결한 것을 좋아해서, 뒤에 yy 즉 self 를 사용 x\n",
    "# 그래서 #!메소드로 사용할 때는 첫번째 인자 생략한다고 만든 것"
   ]
  },
  {
   "cell_type": "code",
   "execution_count": null,
   "metadata": {},
   "outputs": [],
   "source": [
    "len()  # builtin_fuction or method => 관점에 따라서\n",
    "# 주체에 따라서 fuction / method 라는 것"
   ]
  },
  {
   "cell_type": "code",
   "execution_count": null,
   "metadata": {},
   "outputs": [],
   "source": [
    "# dir() 해서 나오는 것들은\n",
    "#! 클래스 관점에서는 함수로 쓰고, 인스턴스 관점에서는 메소드로 써라!"
   ]
  },
  {
   "cell_type": "markdown",
   "metadata": {},
   "source": [
    "##### 함수와 메소드의 다른 점 ==> 클래스 관점에서는 함수로 쓰고, 인스턴스 관점에서는 메소드로 쓰는 것 (주체에 따라)\n",
    "\n",
    "함수에서는 인자를 줘야하기 때문에 인자가 있어야 하고, 인스턴스에서는 파이썬의 중복을 기피하는 성질 때문에 self 인자를 생략함"
   ]
  },
  {
   "cell_type": "code",
   "execution_count": 113,
   "metadata": {},
   "outputs": [
    {
     "data": {
      "text/plain": [
       "mappingproxy({'__module__': '__main__',\n",
       "              'x': <function __main__.S.x(self)>,\n",
       "              '__dict__': <attribute '__dict__' of 'S' objects>,\n",
       "              '__weakref__': <attribute '__weakref__' of 'S' objects>,\n",
       "              '__doc__': None})"
      ]
     },
     "execution_count": 113,
     "metadata": {},
     "output_type": "execute_result"
    }
   ],
   "source": [
    "vars(S)\n",
    "# "
   ]
  },
  {
   "cell_type": "code",
   "execution_count": null,
   "metadata": {},
   "outputs": [],
   "source": [
    "# 우리가 사용하는 파이썬은 C언어로 만들었음 -> 메소드라는 개념이 없음(C에는)\n",
    "# 그래서 함수로 만들어서 매핑한 것."
   ]
  },
  {
   "cell_type": "code",
   "execution_count": null,
   "metadata": {},
   "outputs": [],
   "source": [
    "# 메소드는 함수와 비슷한데, 중복 때문에 첫번째 self 는 argument로 사용하지 않는다.\n",
    "# 그러면 파라미터와 아규먼트 개수 맞추는 것에서\n",
    "# 메소드는 -1 이 됨.\n",
    "# -1이 아닌 static method 도 있음\n",
    "# 파이토치에서 엄청 씀. 그래서 알아야 함"
   ]
  },
  {
   "cell_type": "code",
   "execution_count": null,
   "metadata": {},
   "outputs": [],
   "source": [
    "class A:\n",
    "    @classmethod # class가 바로 사용할 수 있는 method 로 바뀜\n",
    "    "
   ]
  },
  {
   "cell_type": "markdown",
   "metadata": {},
   "source": [
    "## **정리**"
   ]
  },
  {
   "cell_type": "code",
   "execution_count": null,
   "metadata": {},
   "outputs": [],
   "source": [
    "함수는 객체지향과 짬뽕. __call__ 때문에 함수와 인스턴스 간의 간극이 없어짐\n",
    "그래서 클래스를 배움. 클래스를 사용해서 함수형 패러다임을 사용하는 방향으로 가야함\n",
    "객체지향의 장점을 더 극대화시킬 수 있기 때문에. 객체지향의 장점은 유지보수가 아주 편함.\n",
    "새로운 값을 만들 수 있다는 것."
   ]
  },
  {
   "cell_type": "code",
   "execution_count": null,
   "metadata": {},
   "outputs": [],
   "source": [
    "이제 객체지향을 하려고 했더니 용어가 중요.\n",
    "같은 함수인데 함수하고 메소드하고 다른 점을 배움.\n",
    "내일은 LEGB 배웠는데 메소드 간의 LEGB가 다른 형태로 구현됨. 접근 권한"
   ]
  },
  {
   "cell_type": "code",
   "execution_count": null,
   "metadata": {},
   "outputs": [],
   "source": [
    "오늘부터는 객체지향 중심으로 함수형 패러다임을 공부할 것.\n",
    "attribute, dir, type, vars()\n",
    "vars()를 클래스 쓸때와 인스턴스(딕셔너리가 나옴) 쓸 때 다름\n",
    "vars()의 강력함은 기계학습 배울 때 풍요롭게 해 줌."
   ]
  },
  {
   "cell_type": "code",
   "execution_count": null,
   "metadata": {},
   "outputs": [],
   "source": [
    "내일부터 vars와 instance 변수에 대해서 배울 것"
   ]
  }
 ],
 "metadata": {
  "kernelspec": {
   "display_name": "Python 3 (ipykernel)",
   "language": "python",
   "name": "python3"
  },
  "language_info": {
   "codemirror_mode": {
    "name": "ipython",
    "version": 3
   },
   "file_extension": ".py",
   "mimetype": "text/x-python",
   "name": "python",
   "nbconvert_exporter": "python",
   "pygments_lexer": "ipython3",
   "version": "3.10.9"
  },
  "toc": {
   "base_numbering": 1,
   "nav_menu": {},
   "number_sections": true,
   "sideBar": true,
   "skip_h1_title": false,
   "title_cell": "Table of Contents",
   "title_sidebar": "Contents",
   "toc_cell": false,
   "toc_position": {},
   "toc_section_display": true,
   "toc_window_display": false
  },
  "varInspector": {
   "cols": {
    "lenName": 16,
    "lenType": 16,
    "lenVar": 40
   },
   "kernels_config": {
    "python": {
     "delete_cmd_postfix": "",
     "delete_cmd_prefix": "del ",
     "library": "var_list.py",
     "varRefreshCmd": "print(var_dic_list())"
    },
    "r": {
     "delete_cmd_postfix": ") ",
     "delete_cmd_prefix": "rm(",
     "library": "var_list.r",
     "varRefreshCmd": "cat(var_dic_list()) "
    }
   },
   "types_to_exclude": [
    "module",
    "function",
    "builtin_function_or_method",
    "instance",
    "_Feature"
   ],
   "window_display": false
  }
 },
 "nbformat": 4,
 "nbformat_minor": 2
}
