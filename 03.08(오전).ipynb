{
 "cells": [
  {
   "cell_type": "markdown",
   "metadata": {},
   "source": [
    "##### **전체 로드맵**"
   ]
  },
  {
   "cell_type": "code",
   "execution_count": null,
   "metadata": {},
   "outputs": [],
   "source": [
    "# 지능정보SW아카데미 -> SW(프로그래밍) + 지능정보(AI)\n",
    "#                   -> 코딩        -> 모델링(데이터가 필수)\n",
    "#                                 -> 빅데이터 (많은, 다양한, 신속한...)"
   ]
  },
  {
   "cell_type": "code",
   "execution_count": 1,
   "metadata": {},
   "outputs": [],
   "source": [
    "# INISW => INI(intelligence and informatics)\n",
    "# 데이터수집 - 데이터관리 - 분석(모델링) - 응용(시각화/SW) => 우리는 이 과정을 Python을 통해서 함\n",
    "\n",
    "# 1.        (R)DB(MS) - SQLite : 서비스(비즈니스 로직) != 코드산출물(*) 따라서\n",
    "#                       ORM (SQLAlchemy - Core / ORM ) 사용\n",
    "#\n",
    "#     -> 이 때 다루는 데이터는 Structured Data\n",
    "#\n",
    "# 2. 수집: Crawler(Crawling+Scrapping)  IR(정보검색. 텍스트 마이닝에 속함)\n",
    "#     -> Unstructured / Semi(Documnet) Data\n",
    "#   (Image+Audio+Video...) / (SGML/XML/HTML/JSON...)\n",
    "#                              -> 형식이 있으니 Parsing을 해야 함\n",
    "#                                 그 방법은 RE(정규식), DOM, CSS Selctor, Xpath, ...\n",
    "#\n",
    "# 3. 분석: 텍스트(한글) 전처리 + ML(머신러닝, Classification+Clustering/Topic)\n",
    "#\n",
    "# 4. Web, App => Server(C/S, 서버 클라이언트)  + UI/UX\n",
    "#   Rest(ful) API"
   ]
  },
  {
   "cell_type": "markdown",
   "metadata": {},
   "source": [
    "##### **ORM**"
   ]
  },
  {
   "cell_type": "code",
   "execution_count": 5,
   "metadata": {},
   "outputs": [],
   "source": [
    "import sqlalchemy"
   ]
  },
  {
   "cell_type": "code",
   "execution_count": 6,
   "metadata": {},
   "outputs": [],
   "source": [
    "from sqlalchemy.ext.declarative import declarative_base\n",
    "from sqlalchemy import create_engine\n",
    "from sqlalchemy.schema import MetaData, Table, Column, ForeignKey\n",
    "from sqlalchemy.types import Integer, Text"
   ]
  },
  {
   "cell_type": "code",
   "execution_count": 8,
   "metadata": {},
   "outputs": [],
   "source": [
    "# ORM 으로 데이터 관리하기 -> Object / Data 간에 Mapping 해준다는 것\n",
    "# Data Mapping 은 engine 영역에서 일어남.\n",
    "# 우리가 건드릴 것은 Object 즉 Class\n",
    "base = sqlalchemy.orm.declarative_base()\n",
    "# 선언적 class 정의를 위한 base 만들기\n"
   ]
  },
  {
   "cell_type": "code",
   "execution_count": 9,
   "metadata": {},
   "outputs": [],
   "source": [
    "# base를 상속하는 class 선언\n",
    "class TableA(base):\n",
    "    __tablename__ = 'T_A'\n",
    "    \n",
    "    PK = Column('pk', Integer, primary_key=True)\n",
    "    NAME = Column('name', Text, nullable=False) # Not Null\n",
    "    "
   ]
  },
  {
   "cell_type": "code",
   "execution_count": 10,
   "metadata": {},
   "outputs": [
    {
     "data": {
      "text/plain": [
       "Table('T_A', MetaData(), Column('pk', Integer(), table=<T_A>, primary_key=True, nullable=False), Column('name', Text(), table=<T_A>, nullable=False), schema=None)"
      ]
     },
     "execution_count": 10,
     "metadata": {},
     "output_type": "execute_result"
    }
   ],
   "source": [
    "TableA.__table__\n",
    "# 이게 어제 우리가 코어 단에서 만들었던 테이블 객체"
   ]
  },
  {
   "cell_type": "code",
   "execution_count": 11,
   "metadata": {},
   "outputs": [
    {
     "data": {
      "text/plain": [
       "'T_A'"
      ]
     },
     "execution_count": 11,
     "metadata": {},
     "output_type": "execute_result"
    }
   ],
   "source": [
    "TableA.__tablename__"
   ]
  },
  {
   "cell_type": "code",
   "execution_count": null,
   "metadata": {},
   "outputs": [],
   "source": [
    "# 어제는 메타데이터에 테이블 객체를 만들어주고 엔진에 바인드 시켜서 수행해줌."
   ]
  },
  {
   "cell_type": "code",
   "execution_count": 12,
   "metadata": {},
   "outputs": [],
   "source": [
    "a = TableA(NAME='아무나') # 인스턴스"
   ]
  },
  {
   "cell_type": "code",
   "execution_count": 127,
   "metadata": {},
   "outputs": [],
   "source": [
    "a = TableA(NAME=['블라블라', '오우오우'])"
   ]
  },
  {
   "cell_type": "code",
   "execution_count": 13,
   "metadata": {},
   "outputs": [
    {
     "data": {
      "text/plain": [
       "(None, '아무나')"
      ]
     },
     "execution_count": 13,
     "metadata": {},
     "output_type": "execute_result"
    }
   ],
   "source": [
    "# 지금은 순수하게 DB랑 아무 상관 없음\n",
    "a.PK, a.NAME\n",
    "# 지금까지는 메모리상에 클래스와 인스턴스로만 존재하는 값"
   ]
  },
  {
   "cell_type": "code",
   "execution_count": 14,
   "metadata": {},
   "outputs": [],
   "source": [
    "engine = create_engine('sqlite:///:memory:', echo=True)"
   ]
  },
  {
   "cell_type": "code",
   "execution_count": 18,
   "metadata": {},
   "outputs": [
    {
     "data": {
      "text/plain": [
       "FacadeDict({'T_A': Table('T_A', MetaData(), Column('pk', Integer(), table=<T_A>, primary_key=True, nullable=False), Column('name', Text(), table=<T_A>, nullable=False), schema=None)})"
      ]
     },
     "execution_count": 18,
     "metadata": {},
     "output_type": "execute_result"
    }
   ],
   "source": [
    "# 엔진을 바인드 해주는 애가 필요함 -> 어제는 메타데이터에 바인드 시킴\n",
    "base.metadata.tables"
   ]
  },
  {
   "cell_type": "code",
   "execution_count": 19,
   "metadata": {},
   "outputs": [
    {
     "name": "stdout",
     "output_type": "stream",
     "text": [
      "2023-03-08 21:21:41,582 INFO sqlalchemy.engine.Engine BEGIN (implicit)\n",
      "2023-03-08 21:21:41,582 INFO sqlalchemy.engine.Engine PRAGMA main.table_info(\"T_A\")\n",
      "2023-03-08 21:21:41,583 INFO sqlalchemy.engine.Engine [raw sql] ()\n",
      "2023-03-08 21:21:41,584 INFO sqlalchemy.engine.Engine COMMIT\n"
     ]
    }
   ],
   "source": [
    "# ORM Core\n",
    "base.metadata.create_all(engine)\n",
    "# 우리는 메모리에서 작업했지만, 이제야 물리적인 DB에 테이블이 생성됨."
   ]
  },
  {
   "cell_type": "code",
   "execution_count": 20,
   "metadata": {},
   "outputs": [],
   "source": [
    "a.PK"
   ]
  },
  {
   "cell_type": "code",
   "execution_count": null,
   "metadata": {},
   "outputs": [],
   "source": [
    "# Session\n",
    "# 실제 데이터베이스와 오브젝트 간에 왔다갔다 데이터가 매핑되어 있는 것들을 관리해주는 애\n",
    "# 세션을 통해서 객체를 실행하고 변화시키면 세션이 들고 있다가 값에 변화가 생겨 데이터베이스와 싱크가\n",
    "# 안맞음을 탐지해줌.\n",
    "# sessionmaker 로부터 세션을 받고 세션의 인스턴스를 만드는 것부터 시작함. -> 객체와 데이터를 매핑"
   ]
  },
  {
   "cell_type": "code",
   "execution_count": 21,
   "metadata": {},
   "outputs": [],
   "source": [
    "# ORM Session\n",
    "from sqlalchemy.orm import sessionmaker"
   ]
  },
  {
   "cell_type": "code",
   "execution_count": 22,
   "metadata": {},
   "outputs": [],
   "source": [
    "Session = sessionmaker(engine)\n",
    "session = Session()  # 우리가 작업할 인스턴스"
   ]
  },
  {
   "cell_type": "code",
   "execution_count": 18,
   "metadata": {},
   "outputs": [
    {
     "data": {
      "text/plain": [
       "(True, IdentitySet([]))"
      ]
     },
     "execution_count": 18,
     "metadata": {},
     "output_type": "execute_result"
    }
   ],
   "source": [
    "session.is_modified(a), session.dirty\n",
    "# 전자는 내가 관리하는 '데이터베이스'의 로우 객체에 반영해야할 것이 있는지 -> 변화된 것이 있는지\n",
    "# 후자는 세션이 관리하는 모든 객체들 중 값의 변화 등이 있을 때 현재 데이터베이스와 싱크가 안 맞으면 알려줌.\n",
    "# 뒤에 정리해 놓음"
   ]
  },
  {
   "cell_type": "code",
   "execution_count": 23,
   "metadata": {},
   "outputs": [],
   "source": [
    "session.add(a)"
   ]
  },
  {
   "cell_type": "code",
   "execution_count": 24,
   "metadata": {},
   "outputs": [
    {
     "name": "stdout",
     "output_type": "stream",
     "text": [
      "2023-03-08 21:23:09,792 INFO sqlalchemy.engine.Engine BEGIN (implicit)\n",
      "2023-03-08 21:23:09,794 INFO sqlalchemy.engine.Engine INSERT INTO \"T_A\" (name) VALUES (?)\n",
      "2023-03-08 21:23:09,795 INFO sqlalchemy.engine.Engine [generated in 0.00087s] ('아무나',)\n",
      "2023-03-08 21:23:09,796 INFO sqlalchemy.engine.Engine COMMIT\n"
     ]
    }
   ],
   "source": [
    "session.commit()\n",
    "# 실제 데이터가 들어감"
   ]
  },
  {
   "cell_type": "code",
   "execution_count": 25,
   "metadata": {},
   "outputs": [
    {
     "name": "stdout",
     "output_type": "stream",
     "text": [
      "2023-03-08 21:23:10,869 INFO sqlalchemy.engine.Engine BEGIN (implicit)\n",
      "2023-03-08 21:23:10,871 INFO sqlalchemy.engine.Engine SELECT \"T_A\".pk AS \"T_A_pk\", \"T_A\".name AS \"T_A_name\" \n",
      "FROM \"T_A\" \n",
      "WHERE \"T_A\".pk = ?\n",
      "2023-03-08 21:23:10,872 INFO sqlalchemy.engine.Engine [generated in 0.00096s] (1,)\n"
     ]
    },
    {
     "data": {
      "text/plain": [
       "1"
      ]
     },
     "execution_count": 25,
     "metadata": {},
     "output_type": "execute_result"
    }
   ],
   "source": [
    "a.PK\n",
    "# 아까는 none이었는데, 알아서 나옴. 코어단에서 알아서 처리했기 때문."
   ]
  },
  {
   "cell_type": "code",
   "execution_count": 26,
   "metadata": {},
   "outputs": [
    {
     "name": "stdout",
     "output_type": "stream",
     "text": [
      "2023-03-08 21:24:01,993 INFO sqlalchemy.engine.Engine SELECT \"T_A\".pk AS \"T_A_pk\", \"T_A\".name AS \"T_A_name\" \n",
      "FROM \"T_A\"\n",
      "2023-03-08 21:24:01,994 INFO sqlalchemy.engine.Engine [generated in 0.00096s] ()\n"
     ]
    },
    {
     "data": {
      "text/plain": [
       "True"
      ]
     },
     "execution_count": 26,
     "metadata": {},
     "output_type": "execute_result"
    }
   ],
   "source": [
    "# 이게 서버단에서 로그인이 되면 사용자의 정보를 불러오는 방식임.\n",
    "# 세션에 쿼리 주기\n",
    "a == session.query(TableA).one()\n",
    "# 데이터가 하나밖에 안 들어가서 같다고 나옴."
   ]
  },
  {
   "cell_type": "code",
   "execution_count": 27,
   "metadata": {},
   "outputs": [
    {
     "name": "stdout",
     "output_type": "stream",
     "text": [
      "2023-03-08 21:24:03,839 INFO sqlalchemy.engine.Engine SELECT \"T_A\".pk AS \"T_A_pk\", \"T_A\".name AS \"T_A_name\" \n",
      "FROM \"T_A\"\n",
      "2023-03-08 21:24:03,840 INFO sqlalchemy.engine.Engine [cached since 1.847s ago] ()\n"
     ]
    }
   ],
   "source": [
    "b = session.query(TableA).one()"
   ]
  },
  {
   "cell_type": "code",
   "execution_count": 28,
   "metadata": {},
   "outputs": [
    {
     "data": {
      "text/plain": [
       "1"
      ]
     },
     "execution_count": 28,
     "metadata": {},
     "output_type": "execute_result"
    }
   ],
   "source": [
    "b.PK # 로그인 회원정보 객체"
   ]
  },
  {
   "cell_type": "code",
   "execution_count": 29,
   "metadata": {},
   "outputs": [],
   "source": [
    "# 정보가 갱신이 일어나면,\n",
    "b.NAME = '???????'"
   ]
  },
  {
   "cell_type": "code",
   "execution_count": 30,
   "metadata": {},
   "outputs": [
    {
     "data": {
      "text/plain": [
       "IdentitySet([<__main__.TableA object at 0x7ff57838b4f0>])"
      ]
     },
     "execution_count": 30,
     "metadata": {},
     "output_type": "execute_result"
    }
   ],
   "source": [
    "session.dirty\n",
    "# session.dirty는 세션이 관리하는 '객체'의 값에 변화가 일어나면 그 객체를 리턴해줌"
   ]
  },
  {
   "cell_type": "code",
   "execution_count": 31,
   "metadata": {},
   "outputs": [
    {
     "name": "stdout",
     "output_type": "stream",
     "text": [
      "2023-03-08 21:24:22,674 INFO sqlalchemy.engine.Engine UPDATE \"T_A\" SET name=? WHERE \"T_A\".pk = ?\n",
      "2023-03-08 21:24:22,675 INFO sqlalchemy.engine.Engine [generated in 0.00088s] ('???????', 1)\n",
      "2023-03-08 21:24:22,676 INFO sqlalchemy.engine.Engine COMMIT\n"
     ]
    }
   ],
   "source": [
    "session.commit()\n",
    "# 실제 데이터베이스의 커밋과는 다르긴 함"
   ]
  },
  {
   "cell_type": "code",
   "execution_count": null,
   "metadata": {},
   "outputs": [],
   "source": [
    "# 데이터를 가져올 때.\n",
    "# session.query(TableA).one()은 Select(TableA).fetchone()과 같다고 보면 됨."
   ]
  },
  {
   "cell_type": "code",
   "execution_count": 32,
   "metadata": {},
   "outputs": [
    {
     "name": "stdout",
     "output_type": "stream",
     "text": [
      "2023-03-08 21:24:38,462 INFO sqlalchemy.engine.Engine BEGIN (implicit)\n",
      "2023-03-08 21:24:38,464 INFO sqlalchemy.engine.Engine SELECT \"T_A\".pk AS \"T_A_pk\", \"T_A\".name AS \"T_A_name\" \n",
      "FROM \"T_A\" \n",
      "WHERE \"T_A\".pk = ?\n",
      "2023-03-08 21:24:38,465 INFO sqlalchemy.engine.Engine [generated in 0.00080s] (1,)\n"
     ]
    },
    {
     "data": {
      "text/plain": [
       "'???????'"
      ]
     },
     "execution_count": 32,
     "metadata": {},
     "output_type": "execute_result"
    }
   ],
   "source": [
    "session.query(TableA).where(TableA.PK == 1).one().NAME"
   ]
  },
  {
   "cell_type": "code",
   "execution_count": 33,
   "metadata": {},
   "outputs": [
    {
     "name": "stdout",
     "output_type": "stream",
     "text": [
      "2023-03-08 21:24:51,593 INFO sqlalchemy.engine.Engine INSERT INTO \"T_A\" (name) VALUES (?), (?), (?) RETURNING pk\n",
      "2023-03-08 21:24:51,594 INFO sqlalchemy.engine.Engine [generated in 0.00009s (insertmanyvalues)] ('2', '3', '4')\n",
      "2023-03-08 21:24:51,596 INFO sqlalchemy.engine.Engine COMMIT\n"
     ]
    }
   ],
   "source": [
    "# add_all 은 여러개의 인스턴스들을 다룸\n",
    "session.add_all([TableA(NAME='2'), TableA(NAME='3'), TableA(NAME='4')])\n",
    "session.commit() # 커밋을 해야 반영됨"
   ]
  },
  {
   "cell_type": "code",
   "execution_count": 34,
   "metadata": {},
   "outputs": [
    {
     "name": "stdout",
     "output_type": "stream",
     "text": [
      "2023-03-08 21:25:25,415 INFO sqlalchemy.engine.Engine BEGIN (implicit)\n",
      "2023-03-08 21:25:25,416 INFO sqlalchemy.engine.Engine SELECT \"T_A\".pk AS \"T_A_pk\", \"T_A\".name AS \"T_A_name\" \n",
      "FROM \"T_A\"\n",
      "2023-03-08 21:25:25,416 INFO sqlalchemy.engine.Engine [cached since 83.42s ago] ()\n"
     ]
    }
   ],
   "source": [
    "inst = session.query(TableA).all()"
   ]
  },
  {
   "cell_type": "code",
   "execution_count": 35,
   "metadata": {},
   "outputs": [
    {
     "data": {
      "text/plain": [
       "(True, True, False)"
      ]
     },
     "execution_count": 35,
     "metadata": {},
     "output_type": "execute_result"
    }
   ],
   "source": [
    "a is b, b is inst[0], a is inst[2]"
   ]
  },
  {
   "cell_type": "code",
   "execution_count": 36,
   "metadata": {},
   "outputs": [
    {
     "data": {
      "text/plain": [
       "(1, 2, 3)"
      ]
     },
     "execution_count": 36,
     "metadata": {},
     "output_type": "execute_result"
    }
   ],
   "source": [
    "inst[0].PK, inst[1].PK, inst[2].PK\n",
    "# 이렇게 실제 DB를 보지 않고, SQL문이 아니어도 확인할 수 있음"
   ]
  },
  {
   "cell_type": "code",
   "execution_count": 37,
   "metadata": {},
   "outputs": [
    {
     "data": {
      "text/plain": [
       "[<__main__.TableA at 0x7ff57838b4f0>,\n",
       " <__main__.TableA at 0x7ff59212d180>,\n",
       " <__main__.TableA at 0x7ff59212fc10>,\n",
       " <__main__.TableA at 0x7ff59212e500>]"
      ]
     },
     "execution_count": 37,
     "metadata": {},
     "output_type": "execute_result"
    }
   ],
   "source": [
    "inst"
   ]
  },
  {
   "cell_type": "code",
   "execution_count": 38,
   "metadata": {},
   "outputs": [
    {
     "name": "stdout",
     "output_type": "stream",
     "text": [
      "[<__main__.TableA object at 0x7ff57838b4f0>, <__main__.TableA object at 0x7ff59212d180>, <__main__.TableA object at 0x7ff59212fc10>, <__main__.TableA object at 0x7ff59212e500>]\n"
     ]
    }
   ],
   "source": [
    "print(inst)"
   ]
  },
  {
   "cell_type": "code",
   "execution_count": 39,
   "metadata": {},
   "outputs": [
    {
     "name": "stdout",
     "output_type": "stream",
     "text": [
      "2023-03-08 21:26:28,213 INFO sqlalchemy.engine.Engine DELETE FROM \"T_A\" WHERE \"T_A\".pk = ?\n",
      "2023-03-08 21:26:28,214 INFO sqlalchemy.engine.Engine [generated in 0.00097s] (1,)\n",
      "2023-03-08 21:26:28,216 INFO sqlalchemy.engine.Engine COMMIT\n"
     ]
    }
   ],
   "source": [
    "session.delete(a)\n",
    "session.commit()"
   ]
  },
  {
   "cell_type": "code",
   "execution_count": 40,
   "metadata": {},
   "outputs": [
    {
     "data": {
      "text/plain": [
       "1"
      ]
     },
     "execution_count": 40,
     "metadata": {},
     "output_type": "execute_result"
    }
   ],
   "source": [
    "a.PK  # 메모리 상에서는 존재함. 그러면 코드에서 지워줘야 함"
   ]
  },
  {
   "cell_type": "code",
   "execution_count": null,
   "metadata": {},
   "outputs": [],
   "source": [
    "# 이 과정으로 알 수 있는 것\n",
    "# 완벽하게 \"메모리에서 관리하는 인스턴스들\"과 \"데이터베이스에서 관리하는 데이터\"의 싱크 맞추는 것이 중요함.\n",
    "# 싱크를 계속 맞춰주고 객체가 살았는지 죽었는지 염두해야 함. 중간중간 커밋을 해줘야 함.\n",
    "# 그렇기 때문에 session.dirty 와 is_modified()가 중요"
   ]
  },
  {
   "cell_type": "code",
   "execution_count": 41,
   "metadata": {},
   "outputs": [
    {
     "data": {
      "text/plain": [
       "IdentitySet([])"
      ]
     },
     "execution_count": 41,
     "metadata": {},
     "output_type": "execute_result"
    }
   ],
   "source": [
    "session.dirty\n",
    "# 세션에서 관리하고 있는 DB와 매핑되어 있는 인스턴스 사이의 변화가 있는지를 알려주는 값\n",
    "# a를 DB에서 지워서 세션에서 관리하지 않음. -> 따라서 아래처럼 빈 값이 나옴\n",
    "# 정리하면, Database 와 mapped 인스턴스 사이의 변화가 있는지를 살펴봄"
   ]
  },
  {
   "cell_type": "code",
   "execution_count": 44,
   "metadata": {},
   "outputs": [
    {
     "data": {
      "text/plain": [
       "True"
      ]
     },
     "execution_count": 44,
     "metadata": {},
     "output_type": "execute_result"
    }
   ],
   "source": [
    "session.is_modified(a) # instance가 수정이 됐는지를 보는 것"
   ]
  },
  {
   "cell_type": "code",
   "execution_count": 43,
   "metadata": {},
   "outputs": [],
   "source": [
    "a.NAME = 'dd'"
   ]
  },
  {
   "cell_type": "code",
   "execution_count": 45,
   "metadata": {},
   "outputs": [
    {
     "data": {
      "text/plain": [
       "True"
      ]
     },
     "execution_count": 45,
     "metadata": {},
     "output_type": "execute_result"
    }
   ],
   "source": [
    "session.is_modified(a)\n",
    "# 객체(instance)가 수정됐는지 특히 객체는 in memory 로서, 클래스의 인스턴스임\n",
    "# 이것은 실제 물리적인 DB와 상관 없음\n",
    "#! 인스턴스는 메모리에 남아있기 떄문에 값이 변화됐다고 나오는 것."
   ]
  },
  {
   "cell_type": "code",
   "execution_count": 46,
   "metadata": {},
   "outputs": [
    {
     "data": {
      "text/plain": [
       "IdentitySet([])"
      ]
     },
     "execution_count": 46,
     "metadata": {},
     "output_type": "execute_result"
    }
   ],
   "source": [
    "session.dirty\n",
    "# 지금은 왜 안나올까? -> \n",
    "# 세션은 인스턴스랑 데이터를 매핑해주는 것을 계속 관리.\n",
    "# 그러나 위에서 delete로 데이터를 날렸기 때문에 값이 없음"
   ]
  },
  {
   "cell_type": "code",
   "execution_count": 47,
   "metadata": {},
   "outputs": [],
   "source": [
    "session.commit()\n",
    "# 반영할 값이 없음. 위에서 delete 했기 때문."
   ]
  },
  {
   "cell_type": "code",
   "execution_count": 48,
   "metadata": {},
   "outputs": [
    {
     "data": {
      "text/plain": [
       "list"
      ]
     },
     "execution_count": 48,
     "metadata": {},
     "output_type": "execute_result"
    }
   ],
   "source": [
    "type(inst)"
   ]
  },
  {
   "cell_type": "code",
   "execution_count": 49,
   "metadata": {},
   "outputs": [
    {
     "data": {
      "text/plain": [
       "4"
      ]
     },
     "execution_count": 49,
     "metadata": {},
     "output_type": "execute_result"
    }
   ],
   "source": [
    "len(inst)"
   ]
  },
  {
   "cell_type": "code",
   "execution_count": 50,
   "metadata": {},
   "outputs": [
    {
     "data": {
      "text/plain": [
       "(<__main__.TableA at 0x7ff57838b4f0>, 3)"
      ]
     },
     "execution_count": 50,
     "metadata": {},
     "output_type": "execute_result"
    }
   ],
   "source": [
    "inst.pop(0), len(inst) \n",
    "# 내가 인스턴스 관리하는 목록에서 지워버린 것. 즉, a라는 객체를 메모리에서도 삭제한 것."
   ]
  },
  {
   "cell_type": "code",
   "execution_count": null,
   "metadata": {},
   "outputs": [],
   "source": [
    "try: \n",
    "    session.begin()        # DB에서 Transaction Begin 과 같음\n",
    "    session 작업들 ...\n",
    "    session.commit()\n",
    "except:\n",
    "    session.rollback()\n",
    "    \n",
    "# 즉 이런식으로 세션은 관리해줌.\n",
    "# 세션메이커로 엔진을 바인딩해서 우리가 이용하고 있는 것."
   ]
  },
  {
   "cell_type": "code",
   "execution_count": null,
   "metadata": {},
   "outputs": [],
   "source": [
    "# commit\n",
    "# commit 하기 전에는 다 pending 상태"
   ]
  },
  {
   "cell_type": "code",
   "execution_count": null,
   "metadata": {},
   "outputs": [],
   "source": [
    "# filter는 where 절이랑 같음\n",
    "# query는 select와 같음\n",
    "session.query(TableA).where(TableA.PK == 1).one().NAME"
   ]
  },
  {
   "cell_type": "code",
   "execution_count": 51,
   "metadata": {},
   "outputs": [],
   "source": [
    "session.close()\n",
    "engine.dispose()\n",
    "# 이래도 인스턴스는 살아있음"
   ]
  },
  {
   "cell_type": "code",
   "execution_count": 52,
   "metadata": {},
   "outputs": [],
   "source": [
    "base.metadata.clear() # 이래야 인스턴스 날아감"
   ]
  },
  {
   "cell_type": "code",
   "execution_count": 53,
   "metadata": {},
   "outputs": [
    {
     "data": {
      "text/plain": [
       "FacadeDict({})"
      ]
     },
     "execution_count": 53,
     "metadata": {},
     "output_type": "execute_result"
    }
   ],
   "source": [
    "base.metadata.tables"
   ]
  },
  {
   "cell_type": "code",
   "execution_count": 58,
   "metadata": {},
   "outputs": [],
   "source": [
    "# 아래를 해주면 base에 등록된 클래스도 사라짐\n",
    "base.registry.dispose()"
   ]
  },
  {
   "cell_type": "markdown",
   "metadata": {},
   "source": [
    "##### **실습** \n",
    "\n",
    "Playlist(ORM버전)"
   ]
  },
  {
   "cell_type": "code",
   "execution_count": 60,
   "metadata": {},
   "outputs": [],
   "source": [
    "# 참조 등에는 클래스 이름이 아니라, 설정한 테이블, 컬럼의 이름으로!!!!!\n",
    "# => 그냥 통일시키는 게 제일 예쁠 듯\n",
    "\n",
    "class Artist(base):\n",
    "    __tablename__ = 'artist'\n",
    "    \n",
    "    PK = Column('pk', Integer, primary_key=True)\n",
    "    NAME = Column('name', Text)\n",
    "    \n",
    "class Album(base):\n",
    "    __tablename__ = 'album'\n",
    "    \n",
    "    PK = Column('pk', Integer, primary_key=True)\n",
    "    NAME = Column('name', Text)\n",
    "    FK = Column('fk', Integer, ForeignKey(Artist.PK))\n",
    "    \n",
    "class Genre(base):\n",
    "    __tablename__ = 'genre'\n",
    "    \n",
    "    PK = Column('pk', Integer, primary_key=True)\n",
    "    NAME = Column('name', Text)\n",
    "    \n",
    "    \n",
    "class Track(base):\n",
    "    __tablename__ = 'track'\n",
    "    \n",
    "    PK = Column('pk', Integer, primary_key=True)\n",
    "    NAME = Column('name', Text)\n",
    "    LENGTH = Column('length', Integer)\n",
    "    RATING = Column('rating', Integer)\n",
    "    COUNT = Column('count', Integer)\n",
    "    FK1 = Column('fk1', Integer, ForeignKey(Album.PK))\n",
    "    FK2 =  Column('fk2', Integer, ForeignKey(Genre.PK))\n",
    "    "
   ]
  },
  {
   "cell_type": "code",
   "execution_count": 61,
   "metadata": {},
   "outputs": [
    {
     "data": {
      "text/plain": [
       "Table('album', MetaData(), Column('pk', Integer(), table=<album>, primary_key=True, nullable=False), Column('name', Text(), table=<album>), Column('fk', Integer(), ForeignKey('artist.pk'), table=<album>), schema=None)"
      ]
     },
     "execution_count": 61,
     "metadata": {},
     "output_type": "execute_result"
    }
   ],
   "source": [
    "Album.__table__"
   ]
  },
  {
   "cell_type": "code",
   "execution_count": 62,
   "metadata": {},
   "outputs": [
    {
     "data": {
      "text/plain": [
       "<sqlalchemy.orm.attributes.InstrumentedAttribute at 0x7ff578430040>"
      ]
     },
     "execution_count": 62,
     "metadata": {},
     "output_type": "execute_result"
    }
   ],
   "source": [
    "# 여기서는 클래스의 프로퍼티를 사용하는 것이기 때문에 Artist\n",
    "Artist.PK"
   ]
  },
  {
   "cell_type": "code",
   "execution_count": 63,
   "metadata": {},
   "outputs": [],
   "source": [
    "engine = create_engine('sqlite:///playlist_orm.db', echo=True)"
   ]
  },
  {
   "cell_type": "code",
   "execution_count": 64,
   "metadata": {},
   "outputs": [
    {
     "name": "stdout",
     "output_type": "stream",
     "text": [
      "2023-03-08 21:37:22,431 INFO sqlalchemy.engine.Engine BEGIN (implicit)\n",
      "2023-03-08 21:37:22,431 INFO sqlalchemy.engine.Engine PRAGMA main.table_info(\"artist\")\n",
      "2023-03-08 21:37:22,432 INFO sqlalchemy.engine.Engine [raw sql] ()\n",
      "2023-03-08 21:37:22,433 INFO sqlalchemy.engine.Engine PRAGMA main.table_info(\"album\")\n",
      "2023-03-08 21:37:22,433 INFO sqlalchemy.engine.Engine [raw sql] ()\n",
      "2023-03-08 21:37:22,434 INFO sqlalchemy.engine.Engine PRAGMA main.table_info(\"genre\")\n",
      "2023-03-08 21:37:22,434 INFO sqlalchemy.engine.Engine [raw sql] ()\n",
      "2023-03-08 21:37:22,435 INFO sqlalchemy.engine.Engine PRAGMA main.table_info(\"track\")\n",
      "2023-03-08 21:37:22,435 INFO sqlalchemy.engine.Engine [raw sql] ()\n",
      "2023-03-08 21:37:22,437 INFO sqlalchemy.engine.Engine COMMIT\n"
     ]
    }
   ],
   "source": [
    "base.metadata.create_all(engine)"
   ]
  },
  {
   "cell_type": "code",
   "execution_count": 65,
   "metadata": {},
   "outputs": [],
   "source": [
    "Session = sessionmaker(engine)\n",
    "session = Session()  # 우리가 작업할 인스턴스"
   ]
  },
  {
   "cell_type": "code",
   "execution_count": 66,
   "metadata": {},
   "outputs": [
    {
     "name": "stdout",
     "output_type": "stream",
     "text": [
      "2023-03-08 21:37:30,044 INFO sqlalchemy.engine.Engine BEGIN (implicit)\n",
      "2023-03-08 21:37:30,046 INFO sqlalchemy.engine.Engine INSERT INTO artist (name) VALUES (?), (?) RETURNING pk\n",
      "2023-03-08 21:37:30,047 INFO sqlalchemy.engine.Engine [generated in 0.00007s (insertmanyvalues)] ('가수11', '가수12')\n",
      "2023-03-08 21:37:30,048 INFO sqlalchemy.engine.Engine COMMIT\n"
     ]
    }
   ],
   "source": [
    "artist1 = Artist(NAME='가수11')\n",
    "artist2 = Artist(NAME='가수12')\n",
    "\n",
    "session.add_all([artist1, artist2])\n",
    "session.commit()"
   ]
  },
  {
   "cell_type": "code",
   "execution_count": 67,
   "metadata": {},
   "outputs": [
    {
     "name": "stdout",
     "output_type": "stream",
     "text": [
      "2023-03-08 21:38:47,923 INFO sqlalchemy.engine.Engine BEGIN (implicit)\n",
      "2023-03-08 21:38:47,925 INFO sqlalchemy.engine.Engine INSERT INTO artist (name) VALUES (?), (?) RETURNING pk\n",
      "2023-03-08 21:38:47,926 INFO sqlalchemy.engine.Engine [cached since 77.88s ago (insertmanyvalues)] ('전영호', '마크툽')\n",
      "2023-03-08 21:38:47,927 INFO sqlalchemy.engine.Engine COMMIT\n"
     ]
    }
   ],
   "source": [
    "# 내가 또 추가\n",
    "artist1 = Artist(NAME='전영호')  # 이건 하나의 로우를 뜻함.\n",
    "artist2 = Artist(NAME='마크툽')\n",
    "\n",
    "session.add_all([artist1, artist2])\n",
    "session.commit()"
   ]
  },
  {
   "cell_type": "code",
   "execution_count": 88,
   "metadata": {},
   "outputs": [
    {
     "name": "stdout",
     "output_type": "stream",
     "text": [
      "2023-03-08 21:43:02,730 INFO sqlalchemy.engine.Engine SELECT artist.pk AS artist_pk, artist.name AS artist_name \n",
      "FROM artist\n",
      "2023-03-08 21:43:02,731 INFO sqlalchemy.engine.Engine [cached since 76.39s ago] ()\n",
      "마크툽\n"
     ]
    }
   ],
   "source": [
    "print(session.query(Artist).all()[5].NAME)"
   ]
  },
  {
   "cell_type": "code",
   "execution_count": 69,
   "metadata": {},
   "outputs": [
    {
     "name": "stdout",
     "output_type": "stream",
     "text": [
      "2023-03-08 21:39:22,803 INFO sqlalchemy.engine.Engine BEGIN (implicit)\n",
      "2023-03-08 21:39:22,805 INFO sqlalchemy.engine.Engine SELECT artist.pk AS artist_pk, artist.name AS artist_name \n",
      "FROM artist \n",
      "WHERE artist.pk = ?\n",
      "2023-03-08 21:39:22,807 INFO sqlalchemy.engine.Engine [generated in 0.00126s] (5,)\n",
      "2023-03-08 21:39:22,808 INFO sqlalchemy.engine.Engine SELECT artist.pk AS artist_pk, artist.name AS artist_name \n",
      "FROM artist \n",
      "WHERE artist.pk = ?\n",
      "2023-03-08 21:39:22,809 INFO sqlalchemy.engine.Engine [cached since 0.003365s ago] (6,)\n"
     ]
    },
    {
     "data": {
      "text/plain": [
       "<bound method Session.commit of <sqlalchemy.orm.session.Session object at 0x7ff59212cfd0>>"
      ]
     },
     "execution_count": 69,
     "metadata": {},
     "output_type": "execute_result"
    }
   ],
   "source": [
    "album = [Album(NAME='전영호_1', FK=artist1.PK),\n",
    "         Album(NAME='마크툽_1', FK=artist2.PK)]\n",
    "\n",
    "session.add_all(album)\n",
    "session.commit"
   ]
  },
  {
   "cell_type": "code",
   "execution_count": 89,
   "metadata": {},
   "outputs": [
    {
     "name": "stdout",
     "output_type": "stream",
     "text": [
      "2023-03-08 21:43:08,197 INFO sqlalchemy.engine.Engine INSERT INTO genre (name) VALUES (?), (?) RETURNING pk\n",
      "2023-03-08 21:43:08,198 INFO sqlalchemy.engine.Engine [cached since 210.9s ago (insertmanyvalues)] ('락', '발라드')\n",
      "2023-03-08 21:43:08,199 INFO sqlalchemy.engine.Engine COMMIT\n"
     ]
    }
   ],
   "source": [
    "session.add_all([Genre(NAME='락'), Genre(NAME='발라드')])\n",
    "session.commit()"
   ]
  },
  {
   "cell_type": "code",
   "execution_count": 91,
   "metadata": {},
   "outputs": [
    {
     "name": "stdout",
     "output_type": "stream",
     "text": [
      "2023-03-08 21:43:51,096 INFO sqlalchemy.engine.Engine SELECT album.pk AS album_pk, album.name AS album_name, album.fk AS album_fk \n",
      "FROM album \n",
      "WHERE album.fk = ?\n",
      "2023-03-08 21:43:51,097 INFO sqlalchemy.engine.Engine [cached since 9.104s ago] (5,)\n",
      "2023-03-08 21:43:51,098 INFO sqlalchemy.engine.Engine SELECT album.pk AS album_pk, album.name AS album_name, album.fk AS album_fk \n",
      "FROM album \n",
      "WHERE album.fk = ?\n",
      "2023-03-08 21:43:51,103 INFO sqlalchemy.engine.Engine [cached since 9.109s ago] (6,)\n",
      "2023-03-08 21:43:51,108 INFO sqlalchemy.engine.Engine SELECT genre.pk AS genre_pk, genre.name AS genre_name \n",
      "FROM genre \n",
      "WHERE genre.name = ? AND genre.pk = ?\n",
      "2023-03-08 21:43:51,111 INFO sqlalchemy.engine.Engine [generated in 0.00219s] ('힙합', 1)\n",
      "2023-03-08 21:43:51,113 INFO sqlalchemy.engine.Engine SELECT genre.pk AS genre_pk, genre.name AS genre_name \n",
      "FROM genre \n",
      "WHERE genre.name = ? AND genre.pk = ?\n",
      "2023-03-08 21:43:51,115 INFO sqlalchemy.engine.Engine [cached since 0.006664s ago] ('포크송', 2)\n"
     ]
    }
   ],
   "source": [
    "album1 = session.query(Album).where(Album.FK == artist1.PK).one()\n",
    "album2 = session.query(Album).where(Album.FK == artist2.PK).one()\n",
    "\n",
    "genre1 = session.query(Genre).where(Genre.NAME == '힙합').where(Genre.PK==1).one()\n",
    "genre2 = session.query(Genre).where(Genre.NAME == '포크송').where(Genre.PK==2).one()"
   ]
  },
  {
   "cell_type": "code",
   "execution_count": 92,
   "metadata": {},
   "outputs": [
    {
     "name": "stdout",
     "output_type": "stream",
     "text": [
      "2023-03-08 21:45:00,893 INFO sqlalchemy.engine.Engine INSERT INTO track (name, length, rating, count, fk1, fk2) VALUES (?, ?, ?, ?, ?, ?), (?, ?, ?, ?, ?, ?), (?, ?, ?, ?, ?, ?), (?, ?, ?, ?, ?, ?), (?, ?, ?, ?, ?, ?), (?, ?, ?, ?, ?, ?), (?, ?, ?, ?, ?, ?) RETURNING pk\n",
      "2023-03-08 21:45:00,901 INFO sqlalchemy.engine.Engine [generated in 0.00011s (insertmanyvalues)] ('광대', 300, 5, 0, 3, 1, '발레리노', 297, 5, 0, 3, 1, '희재', 312, 5, 0, 4, 2, '뜨거운 안녕', 333, 5, 0, 4, 1, '회상', 227, 5, 0, 3, 2, 'Butterfly', 277, 5, 0, 3, 1, '찰나가 빛나는 순간', 297, 5, 0, 4, 2)\n",
      "2023-03-08 21:45:00,905 INFO sqlalchemy.engine.Engine COMMIT\n"
     ]
    }
   ],
   "source": [
    "track = [\n",
    "    Track(NAME=\"광대\", RATING=5, LENGTH=300, COUNT=0, FK1=album1.PK, FK2=genre1.PK),\n",
    "    Track(NAME=\"발레리노\", RATING=5, LENGTH=297, COUNT=0, FK1=album1.PK, FK2=genre1.PK),\n",
    "    Track(NAME=\"희재\", RATING=5, LENGTH=312, COUNT=0, FK1=album2.PK, FK2=genre2.PK),\n",
    "    Track(NAME=\"뜨거운 안녕\", RATING=5, LENGTH=333, COUNT=0, FK1=album2.PK, FK2=genre1.PK),\n",
    "    Track(NAME=\"회상\", RATING=5, LENGTH=227, COUNT=0, FK1=album1.PK, FK2=genre2.PK),\n",
    "    Track(NAME=\"Butterfly\", RATING=5, LENGTH=277, COUNT=0, FK1=album1.PK, FK2=genre1.PK),\n",
    "    Track(NAME=\"찰나가 빛나는 순간\", RATING=5, LENGTH=297, COUNT=0, FK1=album2.PK, FK2=genre2.PK)\n",
    "]\n",
    "session.add_all(track)\n",
    "session.commit()"
   ]
  },
  {
   "cell_type": "code",
   "execution_count": 98,
   "metadata": {},
   "outputs": [],
   "source": [
    "session.close() # 세션 닫기\n",
    "engine.dispose() # 엔진 닫기\n",
    "base.metadata.clear() # table 객체 삭제 - 베이스 날리기\n",
    "base.registry.dispose() # class 삭제 - 베이스에 등록된 클래스도 날리기"
   ]
  },
  {
   "cell_type": "code",
   "execution_count": null,
   "metadata": {},
   "outputs": [],
   "source": [
    "in-memory                                         DBMS(SQLite)\n",
    "           session(instance(memory) - data(DBMS)) \n",
    "            -> 관리하고 매핑해주는 애\n",
    "                    \n",
    "1. base를 상속받은 Class 선언 => 메모리에서 일어난 일\n",
    "2. base.metadata.tables 여기에 선언했던 클래스들의 목록이 쭉쭉 나옴.\n",
    "3. base.create_all()  => 실제 물리적인 DB에 테이블을 반영해줌. 원래는 이 SQL문이 있어야 하는데 여기서는 Core가 알아서 해줌\n",
    "# 모든 이 과정은 SQL문을 안쓰고 편하게 하기 위해\n",
    "4. session.bind = engine  \"세션이 관리하는 객체\"와 \"엔진이 관리하는 데이터들\"이 서로 매핑\n",
    "5. 메모리에 작업. Class로부터 Instance 생성 => DB에 row를 하나 Insert 하는 거랑 같음\n",
    "6. 이후 세션한테 알려줌. session.add(instance) => pending 상태. 아직 반영 안됨\n",
    "7. session.commit() 한 순간 이제서야 INSERT 됨. 이 commit이 완성 되었으면\n",
    "우리에게 남아있는 것은 인스턴스. 그런데 instance에 있는 값들이 DB 테이블에 있는 row의 값과 동일함.\n",
    "그래서 instance만 알면 DB 테이블에 뭐가 들어가 있는지 알 필요가 없음.\n",
    "\n",
    "# 이 과정을 이해해보기!!!"
   ]
  },
  {
   "cell_type": "code",
   "execution_count": 94,
   "metadata": {},
   "outputs": [],
   "source": [
    "# 작업했던 애들 불러오기\n",
    "engine = create_engine('sqlite:///playlist4.db', echo=True)"
   ]
  },
  {
   "cell_type": "code",
   "execution_count": 95,
   "metadata": {},
   "outputs": [
    {
     "name": "stdout",
     "output_type": "stream",
     "text": [
      "?moon.ipynb                 moon.py\n",
      "03.02(오후).ipynb           orm1.db\n",
      "03.03(오전).ipynb           orm2.db\n",
      "03.03(오후).ipynb           playlist.db\n",
      "03.06(오전).ipynb           playlist2.db\n",
      "03.06(오후).ipynb           playlist4.db\n",
      "03.07(오전).ipynb           playlist_orm.db\n",
      "03.07(오후).ipynb           project_exercise.py\n",
      "03.08(오전).ipynb           sns.db\n",
      "03.08(오후).ipynb           sns2.db\n",
      "\u001B[1m\u001B[36m__pycache__\u001B[m\u001B[m                 test.db\n",
      "example1.db                 test1.db\n",
      "example2.db                 \u001B[1m\u001B[36m강의자료\u001B[m\u001B[m\n",
      "example3.db                 연습용.py\n"
     ]
    }
   ],
   "source": [
    "!ls"
   ]
  },
  {
   "cell_type": "code",
   "execution_count": 96,
   "metadata": {},
   "outputs": [
    {
     "data": {
      "text/plain": [
       "FacadeDict({})"
      ]
     },
     "execution_count": 96,
     "metadata": {},
     "output_type": "execute_result"
    }
   ],
   "source": [
    "base.metadata.tables"
   ]
  },
  {
   "cell_type": "code",
   "execution_count": null,
   "metadata": {},
   "outputs": [],
   "source": [
    "# 베이스에 테이블이 없으니 여기다가 테이블을 만들어 줘야 함.\n",
    "# 그것이 먼저 클래스 만들기"
   ]
  },
  {
   "cell_type": "code",
   "execution_count": 134,
   "metadata": {},
   "outputs": [
    {
     "name": "stdout",
     "output_type": "stream",
     "text": [
      "2023-03-08 11:31:02,618 INFO sqlalchemy.engine.Engine BEGIN (implicit)\n",
      "2023-03-08 11:31:02,619 INFO sqlalchemy.engine.Engine SELECT name FROM sqlite_master WHERE type='table' AND name NOT LIKE 'sqlite~_%' ESCAPE '~' ORDER BY name\n",
      "2023-03-08 11:31:02,620 INFO sqlalchemy.engine.Engine [raw sql] ()\n",
      "2023-03-08 11:31:02,623 INFO sqlalchemy.engine.Engine SELECT name FROM sqlite_temp_master WHERE type='table' AND name NOT LIKE 'sqlite~_%' ESCAPE '~' ORDER BY name\n",
      "2023-03-08 11:31:02,624 INFO sqlalchemy.engine.Engine [raw sql] ()\n",
      "2023-03-08 11:31:02,625 INFO sqlalchemy.engine.Engine PRAGMA main.table_xinfo(\"album\")\n",
      "2023-03-08 11:31:02,627 INFO sqlalchemy.engine.Engine [raw sql] ()\n",
      "2023-03-08 11:31:02,633 INFO sqlalchemy.engine.Engine PRAGMA main.table_xinfo(\"artist\")\n",
      "2023-03-08 11:31:02,639 INFO sqlalchemy.engine.Engine [raw sql] ()\n",
      "2023-03-08 11:31:02,644 INFO sqlalchemy.engine.Engine PRAGMA main.table_xinfo(\"genre\")\n",
      "2023-03-08 11:31:02,648 INFO sqlalchemy.engine.Engine [raw sql] ()\n",
      "2023-03-08 11:31:02,651 INFO sqlalchemy.engine.Engine PRAGMA main.table_xinfo(\"track\")\n",
      "2023-03-08 11:31:02,655 INFO sqlalchemy.engine.Engine [raw sql] ()\n",
      "2023-03-08 11:31:02,661 INFO sqlalchemy.engine.Engine SELECT sql FROM  (SELECT * FROM sqlite_master UNION ALL   SELECT * FROM sqlite_temp_master) WHERE name = ? AND type in ('table', 'view')\n",
      "2023-03-08 11:31:02,664 INFO sqlalchemy.engine.Engine [raw sql] ('album',)\n",
      "2023-03-08 11:31:02,666 INFO sqlalchemy.engine.Engine SELECT sql FROM  (SELECT * FROM sqlite_master UNION ALL   SELECT * FROM sqlite_temp_master) WHERE name = ? AND type in ('table', 'view')\n",
      "2023-03-08 11:31:02,668 INFO sqlalchemy.engine.Engine [raw sql] ('artist',)\n",
      "2023-03-08 11:31:02,670 INFO sqlalchemy.engine.Engine SELECT sql FROM  (SELECT * FROM sqlite_master UNION ALL   SELECT * FROM sqlite_temp_master) WHERE name = ? AND type in ('table', 'view')\n",
      "2023-03-08 11:31:02,679 INFO sqlalchemy.engine.Engine [raw sql] ('genre',)\n",
      "2023-03-08 11:31:02,683 INFO sqlalchemy.engine.Engine SELECT sql FROM  (SELECT * FROM sqlite_master UNION ALL   SELECT * FROM sqlite_temp_master) WHERE name = ? AND type in ('table', 'view')\n",
      "2023-03-08 11:31:02,688 INFO sqlalchemy.engine.Engine [raw sql] ('track',)\n",
      "2023-03-08 11:31:02,692 INFO sqlalchemy.engine.Engine PRAGMA main.foreign_key_list(\"album\")\n",
      "2023-03-08 11:31:02,694 INFO sqlalchemy.engine.Engine [raw sql] ()\n",
      "2023-03-08 11:31:02,695 INFO sqlalchemy.engine.Engine PRAGMA temp.foreign_key_list(\"album\")\n",
      "2023-03-08 11:31:02,696 INFO sqlalchemy.engine.Engine [raw sql] ()\n",
      "2023-03-08 11:31:02,697 INFO sqlalchemy.engine.Engine SELECT sql FROM  (SELECT * FROM sqlite_master UNION ALL   SELECT * FROM sqlite_temp_master) WHERE name = ? AND type in ('table', 'view')\n",
      "2023-03-08 11:31:02,698 INFO sqlalchemy.engine.Engine [raw sql] ('album',)\n",
      "2023-03-08 11:31:02,700 INFO sqlalchemy.engine.Engine PRAGMA main.foreign_key_list(\"artist\")\n",
      "2023-03-08 11:31:02,700 INFO sqlalchemy.engine.Engine [raw sql] ()\n",
      "2023-03-08 11:31:02,701 INFO sqlalchemy.engine.Engine PRAGMA temp.foreign_key_list(\"artist\")\n",
      "2023-03-08 11:31:02,701 INFO sqlalchemy.engine.Engine [raw sql] ()\n",
      "2023-03-08 11:31:02,702 INFO sqlalchemy.engine.Engine SELECT sql FROM  (SELECT * FROM sqlite_master UNION ALL   SELECT * FROM sqlite_temp_master) WHERE name = ? AND type in ('table', 'view')\n",
      "2023-03-08 11:31:02,702 INFO sqlalchemy.engine.Engine [raw sql] ('artist',)\n",
      "2023-03-08 11:31:02,703 INFO sqlalchemy.engine.Engine PRAGMA main.foreign_key_list(\"genre\")\n",
      "2023-03-08 11:31:02,703 INFO sqlalchemy.engine.Engine [raw sql] ()\n",
      "2023-03-08 11:31:02,704 INFO sqlalchemy.engine.Engine PRAGMA temp.foreign_key_list(\"genre\")\n",
      "2023-03-08 11:31:02,704 INFO sqlalchemy.engine.Engine [raw sql] ()\n",
      "2023-03-08 11:31:02,705 INFO sqlalchemy.engine.Engine SELECT sql FROM  (SELECT * FROM sqlite_master UNION ALL   SELECT * FROM sqlite_temp_master) WHERE name = ? AND type in ('table', 'view')\n",
      "2023-03-08 11:31:02,705 INFO sqlalchemy.engine.Engine [raw sql] ('genre',)\n",
      "2023-03-08 11:31:02,706 INFO sqlalchemy.engine.Engine PRAGMA main.foreign_key_list(\"track\")\n",
      "2023-03-08 11:31:02,707 INFO sqlalchemy.engine.Engine [raw sql] ()\n",
      "2023-03-08 11:31:02,708 INFO sqlalchemy.engine.Engine PRAGMA temp.foreign_key_list(\"track\")\n",
      "2023-03-08 11:31:02,708 INFO sqlalchemy.engine.Engine [raw sql] ()\n",
      "2023-03-08 11:31:02,709 INFO sqlalchemy.engine.Engine SELECT sql FROM  (SELECT * FROM sqlite_master UNION ALL   SELECT * FROM sqlite_temp_master) WHERE name = ? AND type in ('table', 'view')\n",
      "2023-03-08 11:31:02,710 INFO sqlalchemy.engine.Engine [raw sql] ('track',)\n",
      "2023-03-08 11:31:02,711 INFO sqlalchemy.engine.Engine PRAGMA main.index_list(\"album\")\n",
      "2023-03-08 11:31:02,711 INFO sqlalchemy.engine.Engine [raw sql] ()\n",
      "2023-03-08 11:31:02,712 INFO sqlalchemy.engine.Engine PRAGMA temp.index_list(\"album\")\n",
      "2023-03-08 11:31:02,712 INFO sqlalchemy.engine.Engine [raw sql] ()\n",
      "2023-03-08 11:31:02,713 INFO sqlalchemy.engine.Engine PRAGMA main.table_info(\"album\")\n",
      "2023-03-08 11:31:02,713 INFO sqlalchemy.engine.Engine [raw sql] ()\n",
      "2023-03-08 11:31:02,714 INFO sqlalchemy.engine.Engine PRAGMA main.index_list(\"artist\")\n",
      "2023-03-08 11:31:02,714 INFO sqlalchemy.engine.Engine [raw sql] ()\n",
      "2023-03-08 11:31:02,716 INFO sqlalchemy.engine.Engine PRAGMA temp.index_list(\"artist\")\n",
      "2023-03-08 11:31:02,717 INFO sqlalchemy.engine.Engine [raw sql] ()\n",
      "2023-03-08 11:31:02,718 INFO sqlalchemy.engine.Engine PRAGMA main.table_info(\"artist\")\n",
      "2023-03-08 11:31:02,719 INFO sqlalchemy.engine.Engine [raw sql] ()\n",
      "2023-03-08 11:31:02,720 INFO sqlalchemy.engine.Engine PRAGMA main.index_list(\"genre\")\n",
      "2023-03-08 11:31:02,721 INFO sqlalchemy.engine.Engine [raw sql] ()\n",
      "2023-03-08 11:31:02,722 INFO sqlalchemy.engine.Engine PRAGMA temp.index_list(\"genre\")\n",
      "2023-03-08 11:31:02,724 INFO sqlalchemy.engine.Engine [raw sql] ()\n",
      "2023-03-08 11:31:02,725 INFO sqlalchemy.engine.Engine PRAGMA main.table_info(\"genre\")\n",
      "2023-03-08 11:31:02,726 INFO sqlalchemy.engine.Engine [raw sql] ()\n",
      "2023-03-08 11:31:02,729 INFO sqlalchemy.engine.Engine PRAGMA main.index_list(\"track\")\n",
      "2023-03-08 11:31:02,733 INFO sqlalchemy.engine.Engine [raw sql] ()\n",
      "2023-03-08 11:31:02,736 INFO sqlalchemy.engine.Engine PRAGMA temp.index_list(\"track\")\n",
      "2023-03-08 11:31:02,737 INFO sqlalchemy.engine.Engine [raw sql] ()\n",
      "2023-03-08 11:31:02,739 INFO sqlalchemy.engine.Engine PRAGMA main.table_info(\"track\")\n",
      "2023-03-08 11:31:02,740 INFO sqlalchemy.engine.Engine [raw sql] ()\n",
      "2023-03-08 11:31:02,741 INFO sqlalchemy.engine.Engine PRAGMA main.index_list(\"album\")\n",
      "2023-03-08 11:31:02,742 INFO sqlalchemy.engine.Engine [raw sql] ()\n",
      "2023-03-08 11:31:02,742 INFO sqlalchemy.engine.Engine PRAGMA temp.index_list(\"album\")\n",
      "2023-03-08 11:31:02,743 INFO sqlalchemy.engine.Engine [raw sql] ()\n",
      "2023-03-08 11:31:02,743 INFO sqlalchemy.engine.Engine PRAGMA main.table_info(\"album\")\n",
      "2023-03-08 11:31:02,744 INFO sqlalchemy.engine.Engine [raw sql] ()\n",
      "2023-03-08 11:31:02,745 INFO sqlalchemy.engine.Engine SELECT sql FROM  (SELECT * FROM sqlite_master UNION ALL   SELECT * FROM sqlite_temp_master) WHERE name = ? AND type in ('table', 'view')\n",
      "2023-03-08 11:31:02,746 INFO sqlalchemy.engine.Engine [raw sql] ('album',)\n",
      "2023-03-08 11:31:02,748 INFO sqlalchemy.engine.Engine PRAGMA main.index_list(\"artist\")\n",
      "2023-03-08 11:31:02,749 INFO sqlalchemy.engine.Engine [raw sql] ()\n",
      "2023-03-08 11:31:02,749 INFO sqlalchemy.engine.Engine PRAGMA temp.index_list(\"artist\")\n",
      "2023-03-08 11:31:02,750 INFO sqlalchemy.engine.Engine [raw sql] ()\n",
      "2023-03-08 11:31:02,751 INFO sqlalchemy.engine.Engine PRAGMA main.table_info(\"artist\")\n",
      "2023-03-08 11:31:02,751 INFO sqlalchemy.engine.Engine [raw sql] ()\n",
      "2023-03-08 11:31:02,752 INFO sqlalchemy.engine.Engine SELECT sql FROM  (SELECT * FROM sqlite_master UNION ALL   SELECT * FROM sqlite_temp_master) WHERE name = ? AND type in ('table', 'view')\n",
      "2023-03-08 11:31:02,752 INFO sqlalchemy.engine.Engine [raw sql] ('artist',)\n",
      "2023-03-08 11:31:02,753 INFO sqlalchemy.engine.Engine PRAGMA main.index_list(\"genre\")\n",
      "2023-03-08 11:31:02,754 INFO sqlalchemy.engine.Engine [raw sql] ()\n",
      "2023-03-08 11:31:02,754 INFO sqlalchemy.engine.Engine PRAGMA temp.index_list(\"genre\")\n",
      "2023-03-08 11:31:02,755 INFO sqlalchemy.engine.Engine [raw sql] ()\n",
      "2023-03-08 11:31:02,755 INFO sqlalchemy.engine.Engine PRAGMA main.table_info(\"genre\")\n",
      "2023-03-08 11:31:02,756 INFO sqlalchemy.engine.Engine [raw sql] ()\n",
      "2023-03-08 11:31:02,757 INFO sqlalchemy.engine.Engine SELECT sql FROM  (SELECT * FROM sqlite_master UNION ALL   SELECT * FROM sqlite_temp_master) WHERE name = ? AND type in ('table', 'view')\n",
      "2023-03-08 11:31:02,757 INFO sqlalchemy.engine.Engine [raw sql] ('genre',)\n",
      "2023-03-08 11:31:02,759 INFO sqlalchemy.engine.Engine PRAGMA main.index_list(\"track\")\n",
      "2023-03-08 11:31:02,759 INFO sqlalchemy.engine.Engine [raw sql] ()\n",
      "2023-03-08 11:31:02,760 INFO sqlalchemy.engine.Engine PRAGMA temp.index_list(\"track\")\n",
      "2023-03-08 11:31:02,761 INFO sqlalchemy.engine.Engine [raw sql] ()\n",
      "2023-03-08 11:31:02,762 INFO sqlalchemy.engine.Engine PRAGMA main.table_info(\"track\")\n",
      "2023-03-08 11:31:02,762 INFO sqlalchemy.engine.Engine [raw sql] ()\n",
      "2023-03-08 11:31:02,763 INFO sqlalchemy.engine.Engine SELECT sql FROM  (SELECT * FROM sqlite_master UNION ALL   SELECT * FROM sqlite_temp_master) WHERE name = ? AND type in ('table', 'view')\n",
      "2023-03-08 11:31:02,763 INFO sqlalchemy.engine.Engine [raw sql] ('track',)\n",
      "2023-03-08 11:31:02,766 INFO sqlalchemy.engine.Engine ROLLBACK\n"
     ]
    }
   ],
   "source": [
    "base.metadata.reflect(engine)  # DB 에 저장된 것 불러오기"
   ]
  },
  {
   "cell_type": "code",
   "execution_count": 135,
   "metadata": {},
   "outputs": [
    {
     "data": {
      "text/plain": [
       "dict_keys(['album', 'artist', 'genre', 'track'])"
      ]
     },
     "execution_count": 135,
     "metadata": {},
     "output_type": "execute_result"
    }
   ],
   "source": [
    "base.metadata.tables.keys()"
   ]
  },
  {
   "cell_type": "code",
   "execution_count": 136,
   "metadata": {},
   "outputs": [],
   "source": [
    "class Album(base):\n",
    "    __table__ = base.metadata.tables['album']\n",
    "    \n",
    "# 이미 데이터가 있으니까 클래스 선언 따로 안하고 메타데이터를 사용함\n",
    "    "
   ]
  },
  {
   "cell_type": "code",
   "execution_count": 137,
   "metadata": {},
   "outputs": [],
   "source": [
    "Session = sessionmaker(engine)\n",
    "session = Session()"
   ]
  },
  {
   "cell_type": "code",
   "execution_count": 139,
   "metadata": {},
   "outputs": [
    {
     "name": "stdout",
     "output_type": "stream",
     "text": [
      "2023-03-08 11:33:14,363 INFO sqlalchemy.engine.Engine SELECT album.pk AS album_pk, album.name AS album_name, album.fk AS album_fk \n",
      "FROM album\n",
      "2023-03-08 11:33:14,364 INFO sqlalchemy.engine.Engine [cached since 13.58s ago] ()\n"
     ]
    }
   ],
   "source": [
    "albumList = session.query(Album).all()"
   ]
  },
  {
   "cell_type": "code",
   "execution_count": 142,
   "metadata": {},
   "outputs": [
    {
     "data": {
      "text/plain": [
       "(1, '앨범1')"
      ]
     },
     "execution_count": 142,
     "metadata": {},
     "output_type": "execute_result"
    }
   ],
   "source": [
    "albumList[0].pk, albumList[0].name   # 클래스의 인스턴스\n",
    "# 이런 식으로 확인해서 튜플로 확인할 수 있음"
   ]
  },
  {
   "cell_type": "code",
   "execution_count": 143,
   "metadata": {},
   "outputs": [
    {
     "data": {
      "text/plain": [
       "Column('pk', INTEGER(), table=<album>, primary_key=True)"
      ]
     },
     "execution_count": 143,
     "metadata": {},
     "output_type": "execute_result"
    }
   ],
   "source": [
    "base.metadata.tables['album'].c.pk   # column 객체"
   ]
  },
  {
   "cell_type": "code",
   "execution_count": 146,
   "metadata": {},
   "outputs": [
    {
     "data": {
      "text/plain": [
       "sqlalchemy.sql.schema.Column"
      ]
     },
     "execution_count": 146,
     "metadata": {},
     "output_type": "execute_result"
    }
   ],
   "source": [
    "type(base.metadata.tables['album'].c.pk)   # column 객체"
   ]
  },
  {
   "cell_type": "code",
   "execution_count": null,
   "metadata": {},
   "outputs": [],
   "source": [
    "class Album(base):\n",
    "    __table__ = base.metadata.tables['album'] \n",
    "    # 이미 데이터가 있으니까 클래스 선언 따로 안하고 메타데이터를 사용함\n",
    "    \n",
    "    # 여기에 프로퍼티 = 컬럼객체 생성해야 하는데,\n",
    "    # 이를 위의 메타데이터로 대체할 수 있음."
   ]
  },
  {
   "cell_type": "code",
   "execution_count": null,
   "metadata": {},
   "outputs": [],
   "source": [
    "# 조인 절. 여기서는 ON 절이 없음.\n",
    "# 왜냐하면 앞에서 ForeignKey 등록이 되어 있어서\n",
    "# 어떻게 하는지 보자"
   ]
  },
  {
   "cell_type": "code",
   "execution_count": 144,
   "metadata": {},
   "outputs": [],
   "source": [
    "class Artist(base):\n",
    "    __table__ = base.metadata.tables['artist']    "
   ]
  },
  {
   "cell_type": "code",
   "execution_count": 145,
   "metadata": {},
   "outputs": [
    {
     "name": "stdout",
     "output_type": "stream",
     "text": [
      "2023-03-08 11:37:25,377 INFO sqlalchemy.engine.Engine SELECT artist.pk AS artist_pk, artist.name AS artist_name \n",
      "FROM artist\n",
      "2023-03-08 11:37:25,378 INFO sqlalchemy.engine.Engine [generated in 0.00128s] ()\n"
     ]
    },
    {
     "data": {
      "text/plain": [
       "[<__main__.Artist at 0x7fa9d0677400>,\n",
       " <__main__.Artist at 0x7fa9d06776d0>,\n",
       " <__main__.Artist at 0x7fa9d0675b70>,\n",
       " <__main__.Artist at 0x7fa9d0677550>]"
      ]
     },
     "execution_count": 145,
     "metadata": {},
     "output_type": "execute_result"
    }
   ],
   "source": [
    "session.query(Artist).all()"
   ]
  },
  {
   "cell_type": "code",
   "execution_count": null,
   "metadata": {},
   "outputs": [],
   "source": [
    "# 클래스들은 registry에 들어가 있음!!"
   ]
  },
  {
   "cell_type": "code",
   "execution_count": 148,
   "metadata": {},
   "outputs": [
    {
     "name": "stdout",
     "output_type": "stream",
     "text": [
      "2023-03-08 11:38:55,852 INFO sqlalchemy.engine.Engine SELECT artist.name AS artist_name, album.name AS album_name \n",
      "FROM artist JOIN album ON album.fk = artist.pk\n",
      "2023-03-08 11:38:55,854 INFO sqlalchemy.engine.Engine [generated in 0.00110s] ()\n"
     ]
    },
    {
     "data": {
      "text/plain": [
       "[('가수1', '앨범1'),\n",
       " ('가수2', '앨범2'),\n",
       " ('가수3', '앨범3'),\n",
       " ('가수4', '앨범4'),\n",
       " ('가수1', '싱글1'),\n",
       " ('가수2', '싱글2'),\n",
       " ('가수3', '싱글3'),\n",
       " ('가수4', '싱글4')]"
      ]
     },
     "execution_count": 148,
     "metadata": {},
     "output_type": "execute_result"
    }
   ],
   "source": [
    "session.query(Artist.name, Album.name).select_from(Artist)\\\n",
    "    .join(Album, Album.fk==Artist.pk).all()\n",
    "    \n",
    "# 이거는 ON 절 쓴 것. 편하게 하려면 Foriegnkey 사용하는 것\n",
    "# 뒤의 relationship이 같은 결과를 더 편하게 불러올 수 있기 때문."
   ]
  },
  {
   "cell_type": "code",
   "execution_count": null,
   "metadata": {},
   "outputs": [],
   "source": [
    "# ORM 을 쓰는 것의 백미가 바로 Relationship 기능\n",
    "# 이것을 쓰면 위에 한 것 조차도 필요 없음"
   ]
  },
  {
   "cell_type": "code",
   "execution_count": null,
   "metadata": {},
   "outputs": [],
   "source": [
    "# 클래스를 이용해서 '관계'를 설정할 수 있음(클래스 사이에). 클래스들 사이에 매핑됨\n",
    "# 부모자식 관계를 만들어줌\n",
    "# 그 때 필요한 옵션이 back_populates / backref => 어느 클래스에 접근할지를 설정\n",
    "# 복수개의 관계면 uselist 쓰면 됨 => uselist가 없으면(default가 True) N개 관계.\n",
    "# uselist=False 이면 딱 하나의 관계\n",
    "# 클래스에 이걸 설정하면 진짜 DB를 만질 필요가 없음\n",
    "# 이것들은 FK 설정 때문에 가능함\n",
    "# 이렇게 접근하면 값을 쭉 찾아오기 때문에 join을 활용한 값을 찾아오는 것과 같은 효과"
   ]
  },
  {
   "cell_type": "markdown",
   "metadata": {},
   "source": [
    "#### 실습"
   ]
  },
  {
   "cell_type": "code",
   "execution_count": 99,
   "metadata": {},
   "outputs": [
    {
     "data": {
      "text/plain": [
       "FacadeDict({})"
      ]
     },
     "execution_count": 99,
     "metadata": {},
     "output_type": "execute_result"
    }
   ],
   "source": [
    "base.metadata.tables"
   ]
  },
  {
   "cell_type": "code",
   "execution_count": 100,
   "metadata": {},
   "outputs": [],
   "source": [
    "# 메모리에 관련된 것은 클래스, 데이터베이스에 관련된 것은 테이블\n",
    "\n",
    "class User(base):\n",
    "    __tablename__ = 'T_USER'\n",
    "    \n",
    "    pk = Column('PK', Integer, primary_key=True)\n",
    "    name = Column('NAME', Text, nullable=False)\n",
    "    \n",
    "    def __repr__(self):\n",
    "        return 'PK: {}, NAME: {}'.format(self.pk, self.name)\n",
    "    \n",
    "class Address(base):\n",
    "    __tablename__ = 'T_ADDRESS'\n",
    "    \n",
    "    pk = Column('PK', Integer, primary_key=True)\n",
    "    name = Column('NAME', Text, nullable=False)\n",
    "    fk = Column('FK', Integer, ForeignKey('T_USER.PK'))  # ForeignKey(User.pk)\n",
    "    \n",
    "    def __repr__(self):\n",
    "        return 'PK: {}, NAME: {}'.format(self.pk, self.name, self.fk)"
   ]
  },
  {
   "cell_type": "code",
   "execution_count": 101,
   "metadata": {},
   "outputs": [
    {
     "data": {
      "text/plain": [
       "2"
      ]
     },
     "execution_count": 101,
     "metadata": {},
     "output_type": "execute_result"
    }
   ],
   "source": [
    "len(base.metadata.tables)"
   ]
  },
  {
   "cell_type": "code",
   "execution_count": 102,
   "metadata": {},
   "outputs": [],
   "source": [
    "engine = create_engine('sqlite:///:memory:', echo=True)"
   ]
  },
  {
   "cell_type": "code",
   "execution_count": 103,
   "metadata": {},
   "outputs": [
    {
     "name": "stdout",
     "output_type": "stream",
     "text": [
      "2023-03-08 21:58:19,980 INFO sqlalchemy.engine.Engine BEGIN (implicit)\n",
      "2023-03-08 21:58:19,981 INFO sqlalchemy.engine.Engine PRAGMA main.table_info(\"T_USER\")\n",
      "2023-03-08 21:58:19,981 INFO sqlalchemy.engine.Engine [raw sql] ()\n",
      "2023-03-08 21:58:19,982 INFO sqlalchemy.engine.Engine PRAGMA temp.table_info(\"T_USER\")\n",
      "2023-03-08 21:58:19,983 INFO sqlalchemy.engine.Engine [raw sql] ()\n",
      "2023-03-08 21:58:19,984 INFO sqlalchemy.engine.Engine PRAGMA main.table_info(\"T_ADDRESS\")\n",
      "2023-03-08 21:58:19,984 INFO sqlalchemy.engine.Engine [raw sql] ()\n",
      "2023-03-08 21:58:19,985 INFO sqlalchemy.engine.Engine PRAGMA temp.table_info(\"T_ADDRESS\")\n",
      "2023-03-08 21:58:19,986 INFO sqlalchemy.engine.Engine [raw sql] ()\n",
      "2023-03-08 21:58:19,987 INFO sqlalchemy.engine.Engine \n",
      "CREATE TABLE \"T_USER\" (\n",
      "\t\"PK\" INTEGER NOT NULL, \n",
      "\t\"NAME\" TEXT NOT NULL, \n",
      "\tPRIMARY KEY (\"PK\")\n",
      ")\n",
      "\n",
      "\n",
      "2023-03-08 21:58:19,987 INFO sqlalchemy.engine.Engine [no key 0.00095s] ()\n",
      "2023-03-08 21:58:19,989 INFO sqlalchemy.engine.Engine \n",
      "CREATE TABLE \"T_ADDRESS\" (\n",
      "\t\"PK\" INTEGER NOT NULL, \n",
      "\t\"NAME\" TEXT NOT NULL, \n",
      "\t\"FK\" INTEGER, \n",
      "\tPRIMARY KEY (\"PK\"), \n",
      "\tFOREIGN KEY(\"FK\") REFERENCES \"T_USER\" (\"PK\")\n",
      ")\n",
      "\n",
      "\n",
      "2023-03-08 21:58:19,989 INFO sqlalchemy.engine.Engine [no key 0.00036s] ()\n",
      "2023-03-08 21:58:19,990 INFO sqlalchemy.engine.Engine COMMIT\n"
     ]
    }
   ],
   "source": [
    "base.metadata.create_all(engine)\n",
    "# 이게 Table을 만드는 것"
   ]
  },
  {
   "cell_type": "code",
   "execution_count": 155,
   "metadata": {},
   "outputs": [],
   "source": [
    "session.close() # 세션 닫기\n",
    "engine.dispose() # 엔진 닫기\n",
    "base.metadata.clear() # table 객체 삭제 - 베이스 날리기\n",
    "base.registry.dispose() # class 삭제 - 베이스에 등록된 클래스도 날리기"
   ]
  },
  {
   "cell_type": "code",
   "execution_count": 104,
   "metadata": {},
   "outputs": [
    {
     "data": {
      "text/plain": [
       "PK: None, NAME: 아무개"
      ]
     },
     "execution_count": 104,
     "metadata": {},
     "output_type": "execute_result"
    }
   ],
   "source": [
    "User(name='아무개')"
   ]
  },
  {
   "cell_type": "code",
   "execution_count": 105,
   "metadata": {},
   "outputs": [],
   "source": [
    "Session = sessionmaker(engine)\n",
    "session = Session()"
   ]
  },
  {
   "cell_type": "code",
   "execution_count": 106,
   "metadata": {},
   "outputs": [
    {
     "name": "stdout",
     "output_type": "stream",
     "text": [
      "2023-03-08 21:59:12,289 INFO sqlalchemy.engine.Engine BEGIN (implicit)\n",
      "2023-03-08 21:59:12,294 INFO sqlalchemy.engine.Engine INSERT INTO \"T_USER\" (\"NAME\") VALUES (?)\n",
      "2023-03-08 21:59:12,297 INFO sqlalchemy.engine.Engine [generated in 0.00317s] ('아무개',)\n",
      "2023-03-08 21:59:12,300 INFO sqlalchemy.engine.Engine COMMIT\n"
     ]
    }
   ],
   "source": [
    "session.add(User(name='아무개'))\n",
    "session.commit()"
   ]
  },
  {
   "cell_type": "code",
   "execution_count": 107,
   "metadata": {},
   "outputs": [
    {
     "name": "stdout",
     "output_type": "stream",
     "text": [
      "2023-03-08 21:59:16,229 INFO sqlalchemy.engine.Engine BEGIN (implicit)\n",
      "2023-03-08 21:59:16,231 INFO sqlalchemy.engine.Engine SELECT \"T_USER\".\"PK\" AS \"T_USER_PK\", \"T_USER\".\"NAME\" AS \"T_USER_NAME\" \n",
      "FROM \"T_USER\"\n",
      "2023-03-08 21:59:16,232 INFO sqlalchemy.engine.Engine [generated in 0.00118s] ()\n"
     ]
    }
   ],
   "source": [
    "userA = session.query(User).one()  # 인스턴스"
   ]
  },
  {
   "cell_type": "code",
   "execution_count": 108,
   "metadata": {},
   "outputs": [
    {
     "data": {
      "text/plain": [
       "PK: 1, NAME: 아무개"
      ]
     },
     "execution_count": 108,
     "metadata": {},
     "output_type": "execute_result"
    }
   ],
   "source": [
    "userA\n",
    "# 인스턴스를 보면 데이터베이스를 안봐도 되는 사례"
   ]
  },
  {
   "cell_type": "code",
   "execution_count": 109,
   "metadata": {},
   "outputs": [],
   "source": [
    "userB = User(name='아무개2')  # 인스턴스를 활용하는 방법 - 데이터베이스랑 상관 없음"
   ]
  },
  {
   "cell_type": "code",
   "execution_count": 110,
   "metadata": {},
   "outputs": [
    {
     "name": "stdout",
     "output_type": "stream",
     "text": [
      "2023-03-08 21:59:29,990 INFO sqlalchemy.engine.Engine INSERT INTO \"T_USER\" (\"NAME\") VALUES (?)\n",
      "2023-03-08 21:59:29,991 INFO sqlalchemy.engine.Engine [cached since 17.7s ago] ('아무개2',)\n",
      "2023-03-08 21:59:29,992 INFO sqlalchemy.engine.Engine COMMIT\n"
     ]
    }
   ],
   "source": [
    "session.add(userB)  # 여기서 데이터베이스에 들어간 것\n",
    "session.commit()"
   ]
  },
  {
   "cell_type": "code",
   "execution_count": 111,
   "metadata": {},
   "outputs": [
    {
     "name": "stdout",
     "output_type": "stream",
     "text": [
      "2023-03-08 21:59:37,180 INFO sqlalchemy.engine.Engine BEGIN (implicit)\n",
      "2023-03-08 21:59:37,182 INFO sqlalchemy.engine.Engine SELECT \"T_USER\".\"PK\" AS \"T_USER_PK\", \"T_USER\".\"NAME\" AS \"T_USER_NAME\" \n",
      "FROM \"T_USER\" \n",
      "WHERE \"T_USER\".\"PK\" = ?\n",
      "2023-03-08 21:59:37,183 INFO sqlalchemy.engine.Engine [generated in 0.00074s] (1,)\n",
      "2023-03-08 21:59:37,184 INFO sqlalchemy.engine.Engine SELECT \"T_USER\".\"PK\" AS \"T_USER_PK\", \"T_USER\".\"NAME\" AS \"T_USER_NAME\" \n",
      "FROM \"T_USER\" \n",
      "WHERE \"T_USER\".\"PK\" = ?\n",
      "2023-03-08 21:59:37,185 INFO sqlalchemy.engine.Engine [cached since 0.002529s ago] (2,)\n",
      "2023-03-08 21:59:37,186 INFO sqlalchemy.engine.Engine INSERT INTO \"T_ADDRESS\" (\"NAME\", \"FK\") VALUES (?, ?), (?, ?) RETURNING \"PK\"\n",
      "2023-03-08 21:59:37,187 INFO sqlalchemy.engine.Engine [generated in 0.00008s (insertmanyvalues)] ('주소1', 1, '주소2', 2)\n",
      "2023-03-08 21:59:37,188 INFO sqlalchemy.engine.Engine COMMIT\n"
     ]
    }
   ],
   "source": [
    "session.add_all([Address(name='주소1', fk=userA.pk),\n",
    "                 Address(name='주소2', fk=userB.pk)])\n",
    "session.commit()"
   ]
  },
  {
   "cell_type": "code",
   "execution_count": 112,
   "metadata": {},
   "outputs": [
    {
     "name": "stdout",
     "output_type": "stream",
     "text": [
      "2023-03-08 21:59:44,731 INFO sqlalchemy.engine.Engine BEGIN (implicit)\n",
      "2023-03-08 21:59:44,733 INFO sqlalchemy.engine.Engine SELECT \"T_ADDRESS\".\"PK\" AS \"T_ADDRESS_PK\", \"T_ADDRESS\".\"NAME\" AS \"T_ADDRESS_NAME\", \"T_ADDRESS\".\"FK\" AS \"T_ADDRESS_FK\" \n",
      "FROM \"T_ADDRESS\"\n",
      "2023-03-08 21:59:44,734 INFO sqlalchemy.engine.Engine [generated in 0.00093s] ()\n"
     ]
    },
    {
     "data": {
      "text/plain": [
       "PK: 1, NAME: 주소1"
      ]
     },
     "execution_count": 112,
     "metadata": {},
     "output_type": "execute_result"
    }
   ],
   "source": [
    "session.query(Address).all()[0]"
   ]
  },
  {
   "cell_type": "code",
   "execution_count": 113,
   "metadata": {},
   "outputs": [
    {
     "name": "stdout",
     "output_type": "stream",
     "text": [
      "2023-03-08 21:59:46,285 INFO sqlalchemy.engine.Engine SELECT \"T_ADDRESS\".\"PK\" AS \"T_ADDRESS_PK\", \"T_ADDRESS\".\"NAME\" AS \"T_ADDRESS_NAME\", \"T_ADDRESS\".\"FK\" AS \"T_ADDRESS_FK\" \n",
      "FROM \"T_ADDRESS\"\n",
      "2023-03-08 21:59:46,286 INFO sqlalchemy.engine.Engine [cached since 1.553s ago] ()\n"
     ]
    },
    {
     "data": {
      "text/plain": [
       "PK: 2, NAME: 주소2"
      ]
     },
     "execution_count": 113,
     "metadata": {},
     "output_type": "execute_result"
    }
   ],
   "source": [
    "session.query(Address).all()[1]"
   ]
  },
  {
   "cell_type": "code",
   "execution_count": 114,
   "metadata": {},
   "outputs": [
    {
     "name": "stdout",
     "output_type": "stream",
     "text": [
      "2023-03-08 21:59:48,627 INFO sqlalchemy.engine.Engine SELECT \"T_ADDRESS\".\"PK\" AS \"T_ADDRESS_PK\", \"T_ADDRESS\".\"NAME\" AS \"T_ADDRESS_NAME\", \"T_ADDRESS\".\"FK\" AS \"T_ADDRESS_FK\" \n",
      "FROM \"T_ADDRESS\"\n",
      "2023-03-08 21:59:48,628 INFO sqlalchemy.engine.Engine [cached since 3.896s ago] ()\n"
     ]
    },
    {
     "data": {
      "text/plain": [
       "__main__.Address"
      ]
     },
     "execution_count": 114,
     "metadata": {},
     "output_type": "execute_result"
    }
   ],
   "source": [
    "type(session.query(Address).all()[0])\n",
    "\n",
    "# 우리가 베이스에 등록시켜놓은 Address"
   ]
  },
  {
   "cell_type": "markdown",
   "metadata": {},
   "source": [
    "#### **Relationship**"
   ]
  },
  {
   "cell_type": "code",
   "execution_count": 115,
   "metadata": {},
   "outputs": [],
   "source": [
    "base.registry.dispose() # base에 등록된 클래스 다 날리기\n",
    "base.metadata.clear()"
   ]
  },
  {
   "cell_type": "code",
   "execution_count": 116,
   "metadata": {},
   "outputs": [],
   "source": [
    "from sqlalchemy.orm import relationship"
   ]
  },
  {
   "cell_type": "code",
   "execution_count": 117,
   "metadata": {},
   "outputs": [],
   "source": [
    "# 메모리에 관련된 작업은 클래스, 데이터베이스에 관련된 작업은 테이블\n",
    "# 클래스 들간의 매핑이 relationship\n",
    "\n",
    "class User(base):\n",
    "    __tablename__ = 'T_USER'\n",
    "    \n",
    "    pk = Column('PK', Integer, primary_key=True)\n",
    "    name = Column('NAME', Text, nullable=False)\n",
    "    addresses = relationship('Address', back_populates='user', uselist=True) # 1\n",
    "    \n",
    "    def __repr__(self):\n",
    "        return 'PK: {}, NAME: {}'.format(self.pk, self.name)\n",
    "    \n",
    "class Address(base):\n",
    "    __tablename__ = 'T_ADDRESS'\n",
    "    \n",
    "    pk = Column('PK', Integer, primary_key=True)\n",
    "    name = Column('NAME', Text, nullable=False)\n",
    "    fk = Column('FK', Integer, ForeignKey('T_USER.PK'))  # ForeignKey(User.pk)\n",
    "    user = relationship('User', back_populates='addresses', uselist=False) # N\n",
    "    \n",
    "    def __repr__(self):\n",
    "        return 'PK: {}, NAME: {}, FK: {}'.format(self.pk, self.name, self.fk)"
   ]
  },
  {
   "cell_type": "code",
   "execution_count": 118,
   "metadata": {},
   "outputs": [
    {
     "name": "stdout",
     "output_type": "stream",
     "text": [
      "2023-03-08 22:02:10,895 INFO sqlalchemy.engine.Engine SELECT \"T_USER\".\"PK\" AS \"T_USER_PK\", \"T_USER\".\"NAME\" AS \"T_USER_NAME\" \n",
      "FROM \"T_USER\"\n",
      "2023-03-08 22:02:10,896 INFO sqlalchemy.engine.Engine [generated in 0.00103s] ()\n"
     ]
    },
    {
     "data": {
      "text/plain": [
       "[PK: 1, NAME: 아무개, PK: 2, NAME: 아무개2]"
      ]
     },
     "execution_count": 118,
     "metadata": {},
     "output_type": "execute_result"
    }
   ],
   "source": [
    "session.query(User).all()"
   ]
  },
  {
   "cell_type": "code",
   "execution_count": 119,
   "metadata": {},
   "outputs": [
    {
     "name": "stdout",
     "output_type": "stream",
     "text": [
      "2023-03-08 22:02:13,379 INFO sqlalchemy.engine.Engine SELECT \"T_USER\".\"PK\" AS \"T_USER_PK\", \"T_USER\".\"NAME\" AS \"T_USER_NAME\" \n",
      "FROM \"T_USER\"\n",
      "2023-03-08 22:02:13,384 INFO sqlalchemy.engine.Engine [cached since 2.489s ago] ()\n"
     ]
    },
    {
     "data": {
      "text/plain": [
       "PK: 1, NAME: 아무개"
      ]
     },
     "execution_count": 119,
     "metadata": {},
     "output_type": "execute_result"
    }
   ],
   "source": [
    "session.query(User).all()[0]"
   ]
  },
  {
   "cell_type": "code",
   "execution_count": 120,
   "metadata": {},
   "outputs": [
    {
     "name": "stdout",
     "output_type": "stream",
     "text": [
      "2023-03-08 22:02:16,037 INFO sqlalchemy.engine.Engine SELECT \"T_USER\".\"PK\" AS \"T_USER_PK\", \"T_USER\".\"NAME\" AS \"T_USER_NAME\" \n",
      "FROM \"T_USER\"\n",
      "2023-03-08 22:02:16,038 INFO sqlalchemy.engine.Engine [cached since 5.143s ago] ()\n"
     ]
    },
    {
     "data": {
      "text/plain": [
       "__main__.User"
      ]
     },
     "execution_count": 120,
     "metadata": {},
     "output_type": "execute_result"
    }
   ],
   "source": [
    "type(session.query(User).all()[0])"
   ]
  },
  {
   "cell_type": "code",
   "execution_count": 121,
   "metadata": {},
   "outputs": [
    {
     "name": "stdout",
     "output_type": "stream",
     "text": [
      "2023-03-08 22:02:28,596 INFO sqlalchemy.engine.Engine SELECT \"T_USER\".\"PK\" AS \"T_USER_PK\", \"T_USER\".\"NAME\" AS \"T_USER_NAME\" \n",
      "FROM \"T_USER\"\n",
      "2023-03-08 22:02:28,600 INFO sqlalchemy.engine.Engine [cached since 17.7s ago] ()\n",
      "2023-03-08 22:02:28,603 INFO sqlalchemy.engine.Engine SELECT \"T_ADDRESS\".\"PK\" AS \"T_ADDRESS_PK\", \"T_ADDRESS\".\"NAME\" AS \"T_ADDRESS_NAME\", \"T_ADDRESS\".\"FK\" AS \"T_ADDRESS_FK\" \n",
      "FROM \"T_ADDRESS\" \n",
      "WHERE ? = \"T_ADDRESS\".\"FK\"\n",
      "2023-03-08 22:02:28,608 INFO sqlalchemy.engine.Engine [generated in 0.00478s] (1,)\n"
     ]
    },
    {
     "data": {
      "text/plain": [
       "PK: 1, NAME: 주소1, FK: 1"
      ]
     },
     "execution_count": 121,
     "metadata": {},
     "output_type": "execute_result"
    }
   ],
   "source": [
    "session.query(User).all()[0].addresses[0]"
   ]
  },
  {
   "cell_type": "code",
   "execution_count": 122,
   "metadata": {},
   "outputs": [
    {
     "name": "stdout",
     "output_type": "stream",
     "text": [
      "2023-03-08 22:11:42,267 INFO sqlalchemy.engine.Engine SELECT \"T_USER\".\"PK\" AS \"T_USER_PK\", \"T_USER\".\"NAME\" AS \"T_USER_NAME\" \n",
      "FROM \"T_USER\"\n",
      "2023-03-08 22:11:42,268 INFO sqlalchemy.engine.Engine [cached since 223.1s ago] ()\n"
     ]
    },
    {
     "data": {
      "text/plain": [
       "__main__.Address"
      ]
     },
     "execution_count": 122,
     "metadata": {},
     "output_type": "execute_result"
    }
   ],
   "source": [
    "type(session.query(User).all()[0].addresses[0])"
   ]
  },
  {
   "cell_type": "code",
   "execution_count": 123,
   "metadata": {},
   "outputs": [
    {
     "name": "stdout",
     "output_type": "stream",
     "text": [
      "2023-03-08 22:11:43,913 INFO sqlalchemy.engine.Engine SELECT \"T_USER\".\"PK\" AS \"T_USER_PK\", \"T_USER\".\"NAME\" AS \"T_USER_NAME\" \n",
      "FROM \"T_USER\"\n",
      "2023-03-08 22:11:43,915 INFO sqlalchemy.engine.Engine [cached since 224.7s ago] ()\n"
     ]
    }
   ],
   "source": [
    "userA = session.query(User).all()[0]"
   ]
  },
  {
   "cell_type": "code",
   "execution_count": 124,
   "metadata": {},
   "outputs": [
    {
     "data": {
      "text/plain": [
       "PK: 1, NAME: 주소1, FK: 1"
      ]
     },
     "execution_count": 124,
     "metadata": {},
     "output_type": "execute_result"
    }
   ],
   "source": [
    "userA.addresses[0]"
   ]
  },
  {
   "cell_type": "code",
   "execution_count": 125,
   "metadata": {},
   "outputs": [
    {
     "name": "stdout",
     "output_type": "stream",
     "text": [
      "2023-03-08 22:11:51,019 INFO sqlalchemy.engine.Engine SELECT \"T_ADDRESS\".\"PK\" AS \"T_ADDRESS_PK\", \"T_ADDRESS\".\"NAME\" AS \"T_ADDRESS_NAME\", \"T_ADDRESS\".\"FK\" AS \"T_ADDRESS_FK\" \n",
      "FROM \"T_ADDRESS\"\n",
      "2023-03-08 22:11:51,021 INFO sqlalchemy.engine.Engine [generated in 0.00149s] ()\n"
     ]
    },
    {
     "data": {
      "text/plain": [
       "True"
      ]
     },
     "execution_count": 125,
     "metadata": {},
     "output_type": "execute_result"
    }
   ],
   "source": [
    "userA.addresses[0] is session.query(Address).all()[0]"
   ]
  },
  {
   "cell_type": "code",
   "execution_count": 186,
   "metadata": {},
   "outputs": [],
   "source": [
    "# 클래스만 매핑해줬더니, 객체의 프로퍼티를 통해서 다음 객체를 찾아갈 수 있음"
   ]
  },
  {
   "cell_type": "code",
   "execution_count": 126,
   "metadata": {},
   "outputs": [
    {
     "data": {
      "text/plain": [
       "True"
      ]
     },
     "execution_count": 126,
     "metadata": {},
     "output_type": "execute_result"
    }
   ],
   "source": [
    "userA.addresses[0].user is userA\n",
    "# 엄청나게 편해진 방법"
   ]
  },
  {
   "cell_type": "code",
   "execution_count": 226,
   "metadata": {},
   "outputs": [],
   "source": [
    "session.close() # 세션 닫기\n",
    "engine.dispose() # 엔진 닫기\n",
    "base.metadata.clear() # table 객체 삭제 - 베이스 날리기\n",
    "base.registry.dispose() # class 삭제 - 베이스에 등록된 클래스도 날리기"
   ]
  },
  {
   "cell_type": "code",
   "execution_count": 169,
   "metadata": {},
   "outputs": [],
   "source": [
    "# 예제는 reflect로 불러오고 클래스에 __table__ 만 하고 관계만 설정하고 __repr__ 사용"
   ]
  },
  {
   "cell_type": "markdown",
   "metadata": {},
   "source": [
    "#### **실습**"
   ]
  },
  {
   "cell_type": "code",
   "execution_count": 130,
   "metadata": {},
   "outputs": [
    {
     "name": "stdout",
     "output_type": "stream",
     "text": [
      "?moon.ipynb                 moon.py\n",
      "03.02(오후).ipynb           orm1.db\n",
      "03.03(오전).ipynb           orm2.db\n",
      "03.03(오후).ipynb           playlist.db\n",
      "03.06(오전).ipynb           playlist2.db\n",
      "03.06(오후).ipynb           playlist4.db\n",
      "03.07(오전).ipynb           playlist_orm.db\n",
      "03.07(오후).ipynb           project_exercise.py\n",
      "03.08(오전).ipynb           sns.db\n",
      "03.08(오후).ipynb           sns2.db\n",
      "\u001B[1m\u001B[36m__pycache__\u001B[m\u001B[m                 test.db\n",
      "example1.db                 test1.db\n",
      "example2.db                 \u001B[1m\u001B[36m강의자료\u001B[m\u001B[m\n",
      "example3.db                 연습용.py\n"
     ]
    }
   ],
   "source": [
    "!ls"
   ]
  },
  {
   "cell_type": "code",
   "execution_count": 227,
   "metadata": {},
   "outputs": [],
   "source": [
    "engine = create_engine('sqlite:///playlist2.db', echo=True)"
   ]
  },
  {
   "cell_type": "code",
   "execution_count": 228,
   "metadata": {},
   "outputs": [
    {
     "data": {
      "text/plain": [
       "FacadeDict({})"
      ]
     },
     "execution_count": 228,
     "metadata": {},
     "output_type": "execute_result"
    }
   ],
   "source": [
    "base.metadata.tables"
   ]
  },
  {
   "cell_type": "code",
   "execution_count": null,
   "metadata": {},
   "outputs": [
    {
     "name": "stdout",
     "output_type": "stream",
     "text": [
      "2023-03-08 23:16:18,707 INFO sqlalchemy.engine.Engine BEGIN (implicit)\n",
      "2023-03-08 23:16:18,708 INFO sqlalchemy.engine.Engine SELECT name FROM sqlite_master WHERE type='table' AND name NOT LIKE 'sqlite~_%' ESCAPE '~' ORDER BY name\n",
      "2023-03-08 23:16:18,709 INFO sqlalchemy.engine.Engine [raw sql] ()\n",
      "2023-03-08 23:16:18,710 INFO sqlalchemy.engine.Engine SELECT name FROM sqlite_temp_master WHERE type='table' AND name NOT LIKE 'sqlite~_%' ESCAPE '~' ORDER BY name\n",
      "2023-03-08 23:16:18,710 INFO sqlalchemy.engine.Engine [raw sql] ()\n",
      "2023-03-08 23:16:18,711 INFO sqlalchemy.engine.Engine PRAGMA main.table_xinfo(\"album\")\n",
      "2023-03-08 23:16:18,711 INFO sqlalchemy.engine.Engine [raw sql] ()\n",
      "2023-03-08 23:16:18,712 INFO sqlalchemy.engine.Engine PRAGMA main.table_xinfo(\"artist\")\n",
      "2023-03-08 23:16:18,712 INFO sqlalchemy.engine.Engine [raw sql] ()\n",
      "2023-03-08 23:16:18,713 INFO sqlalchemy.engine.Engine PRAGMA main.table_xinfo(\"genre\")\n",
      "2023-03-08 23:16:18,714 INFO sqlalchemy.engine.Engine [raw sql] ()\n",
      "2023-03-08 23:16:18,715 INFO sqlalchemy.engine.Engine PRAGMA main.table_xinfo(\"track\")\n",
      "2023-03-08 23:16:18,715 INFO sqlalchemy.engine.Engine [raw sql] ()\n",
      "2023-03-08 23:16:18,716 INFO sqlalchemy.engine.Engine SELECT sql FROM  (SELECT * FROM sqlite_master UNION ALL   SELECT * FROM sqlite_temp_master) WHERE name = ? AND type in ('table', 'view')\n",
      "2023-03-08 23:16:18,716 INFO sqlalchemy.engine.Engine [raw sql] ('album',)\n",
      "2023-03-08 23:16:18,717 INFO sqlalchemy.engine.Engine SELECT sql FROM  (SELECT * FROM sqlite_master UNION ALL   SELECT * FROM sqlite_temp_master) WHERE name = ? AND type in ('table', 'view')\n",
      "2023-03-08 23:16:18,717 INFO sqlalchemy.engine.Engine [raw sql] ('artist',)\n",
      "2023-03-08 23:16:18,718 INFO sqlalchemy.engine.Engine SELECT sql FROM  (SELECT * FROM sqlite_master UNION ALL   SELECT * FROM sqlite_temp_master) WHERE name = ? AND type in ('table', 'view')\n",
      "2023-03-08 23:16:18,719 INFO sqlalchemy.engine.Engine [raw sql] ('genre',)\n",
      "2023-03-08 23:16:18,719 INFO sqlalchemy.engine.Engine SELECT sql FROM  (SELECT * FROM sqlite_master UNION ALL   SELECT * FROM sqlite_temp_master) WHERE name = ? AND type in ('table', 'view')\n",
      "2023-03-08 23:16:18,720 INFO sqlalchemy.engine.Engine [raw sql] ('track',)\n",
      "2023-03-08 23:16:18,720 INFO sqlalchemy.engine.Engine PRAGMA main.foreign_key_list(\"album\")\n",
      "2023-03-08 23:16:18,721 INFO sqlalchemy.engine.Engine [raw sql] ()\n",
      "2023-03-08 23:16:18,722 INFO sqlalchemy.engine.Engine PRAGMA temp.foreign_key_list(\"album\")\n",
      "2023-03-08 23:16:18,723 INFO sqlalchemy.engine.Engine [raw sql] ()\n",
      "2023-03-08 23:16:18,724 INFO sqlalchemy.engine.Engine SELECT sql FROM  (SELECT * FROM sqlite_master UNION ALL   SELECT * FROM sqlite_temp_master) WHERE name = ? AND type in ('table', 'view')\n",
      "2023-03-08 23:16:18,724 INFO sqlalchemy.engine.Engine [raw sql] ('album',)\n",
      "2023-03-08 23:16:18,726 INFO sqlalchemy.engine.Engine PRAGMA main.foreign_key_list(\"artist\")\n",
      "2023-03-08 23:16:18,727 INFO sqlalchemy.engine.Engine [raw sql] ()\n",
      "2023-03-08 23:16:18,728 INFO sqlalchemy.engine.Engine PRAGMA temp.foreign_key_list(\"artist\")\n",
      "2023-03-08 23:16:18,728 INFO sqlalchemy.engine.Engine [raw sql] ()\n",
      "2023-03-08 23:16:18,730 INFO sqlalchemy.engine.Engine SELECT sql FROM  (SELECT * FROM sqlite_master UNION ALL   SELECT * FROM sqlite_temp_master) WHERE name = ? AND type in ('table', 'view')\n",
      "2023-03-08 23:16:18,730 INFO sqlalchemy.engine.Engine [raw sql] ('artist',)\n",
      "2023-03-08 23:16:18,731 INFO sqlalchemy.engine.Engine PRAGMA main.foreign_key_list(\"genre\")\n",
      "2023-03-08 23:16:18,731 INFO sqlalchemy.engine.Engine [raw sql] ()\n",
      "2023-03-08 23:16:18,732 INFO sqlalchemy.engine.Engine PRAGMA temp.foreign_key_list(\"genre\")\n",
      "2023-03-08 23:16:18,733 INFO sqlalchemy.engine.Engine [raw sql] ()\n",
      "2023-03-08 23:16:18,733 INFO sqlalchemy.engine.Engine SELECT sql FROM  (SELECT * FROM sqlite_master UNION ALL   SELECT * FROM sqlite_temp_master) WHERE name = ? AND type in ('table', 'view')\n",
      "2023-03-08 23:16:18,734 INFO sqlalchemy.engine.Engine [raw sql] ('genre',)\n",
      "2023-03-08 23:16:18,735 INFO sqlalchemy.engine.Engine PRAGMA main.foreign_key_list(\"track\")\n",
      "2023-03-08 23:16:18,735 INFO sqlalchemy.engine.Engine [raw sql] ()\n",
      "2023-03-08 23:16:18,735 INFO sqlalchemy.engine.Engine PRAGMA temp.foreign_key_list(\"track\")\n",
      "2023-03-08 23:16:18,736 INFO sqlalchemy.engine.Engine [raw sql] ()\n",
      "2023-03-08 23:16:18,737 INFO sqlalchemy.engine.Engine SELECT sql FROM  (SELECT * FROM sqlite_master UNION ALL   SELECT * FROM sqlite_temp_master) WHERE name = ? AND type in ('table', 'view')\n",
      "2023-03-08 23:16:18,737 INFO sqlalchemy.engine.Engine [raw sql] ('track',)\n",
      "2023-03-08 23:16:18,738 INFO sqlalchemy.engine.Engine PRAGMA main.index_list(\"album\")\n",
      "2023-03-08 23:16:18,739 INFO sqlalchemy.engine.Engine [raw sql] ()\n",
      "2023-03-08 23:16:18,739 INFO sqlalchemy.engine.Engine PRAGMA temp.index_list(\"album\")\n",
      "2023-03-08 23:16:18,740 INFO sqlalchemy.engine.Engine [raw sql] ()\n",
      "2023-03-08 23:16:18,741 INFO sqlalchemy.engine.Engine PRAGMA main.table_info(\"album\")\n",
      "2023-03-08 23:16:18,741 INFO sqlalchemy.engine.Engine [raw sql] ()\n",
      "2023-03-08 23:16:18,742 INFO sqlalchemy.engine.Engine PRAGMA main.index_list(\"artist\")\n",
      "2023-03-08 23:16:18,743 INFO sqlalchemy.engine.Engine [raw sql] ()\n",
      "2023-03-08 23:16:18,743 INFO sqlalchemy.engine.Engine PRAGMA temp.index_list(\"artist\")\n",
      "2023-03-08 23:16:18,744 INFO sqlalchemy.engine.Engine [raw sql] ()\n",
      "2023-03-08 23:16:18,744 INFO sqlalchemy.engine.Engine PRAGMA main.table_info(\"artist\")\n",
      "2023-03-08 23:16:18,744 INFO sqlalchemy.engine.Engine [raw sql] ()\n",
      "2023-03-08 23:16:18,745 INFO sqlalchemy.engine.Engine PRAGMA main.index_list(\"genre\")\n",
      "2023-03-08 23:16:18,746 INFO sqlalchemy.engine.Engine [raw sql] ()\n",
      "2023-03-08 23:16:18,747 INFO sqlalchemy.engine.Engine PRAGMA temp.index_list(\"genre\")\n",
      "2023-03-08 23:16:18,747 INFO sqlalchemy.engine.Engine [raw sql] ()\n",
      "2023-03-08 23:16:18,748 INFO sqlalchemy.engine.Engine PRAGMA main.table_info(\"genre\")\n",
      "2023-03-08 23:16:18,748 INFO sqlalchemy.engine.Engine [raw sql] ()\n",
      "2023-03-08 23:16:18,749 INFO sqlalchemy.engine.Engine PRAGMA main.index_list(\"track\")\n",
      "2023-03-08 23:16:18,750 INFO sqlalchemy.engine.Engine [raw sql] ()\n",
      "2023-03-08 23:16:18,750 INFO sqlalchemy.engine.Engine PRAGMA temp.index_list(\"track\")\n",
      "2023-03-08 23:16:18,751 INFO sqlalchemy.engine.Engine [raw sql] ()\n",
      "2023-03-08 23:16:18,752 INFO sqlalchemy.engine.Engine PRAGMA main.table_info(\"track\")\n",
      "2023-03-08 23:16:18,752 INFO sqlalchemy.engine.Engine [raw sql] ()\n",
      "2023-03-08 23:16:18,754 INFO sqlalchemy.engine.Engine PRAGMA main.index_list(\"album\")\n",
      "2023-03-08 23:16:18,754 INFO sqlalchemy.engine.Engine [raw sql] ()\n",
      "2023-03-08 23:16:18,755 INFO sqlalchemy.engine.Engine PRAGMA temp.index_list(\"album\")\n",
      "2023-03-08 23:16:18,755 INFO sqlalchemy.engine.Engine [raw sql] ()\n",
      "2023-03-08 23:16:18,756 INFO sqlalchemy.engine.Engine PRAGMA main.table_info(\"album\")\n",
      "2023-03-08 23:16:18,758 INFO sqlalchemy.engine.Engine [raw sql] ()\n",
      "2023-03-08 23:16:18,763 INFO sqlalchemy.engine.Engine SELECT sql FROM  (SELECT * FROM sqlite_master UNION ALL   SELECT * FROM sqlite_temp_master) WHERE name = ? AND type in ('table', 'view')\n",
      "2023-03-08 23:16:18,765 INFO sqlalchemy.engine.Engine [raw sql] ('album',)\n",
      "2023-03-08 23:16:18,768 INFO sqlalchemy.engine.Engine PRAGMA main.index_list(\"artist\")\n",
      "2023-03-08 23:16:18,771 INFO sqlalchemy.engine.Engine [raw sql] ()\n",
      "2023-03-08 23:16:18,775 INFO sqlalchemy.engine.Engine PRAGMA temp.index_list(\"artist\")\n",
      "2023-03-08 23:16:18,778 INFO sqlalchemy.engine.Engine [raw sql] ()\n",
      "2023-03-08 23:16:18,781 INFO sqlalchemy.engine.Engine PRAGMA main.table_info(\"artist\")\n",
      "2023-03-08 23:16:18,784 INFO sqlalchemy.engine.Engine [raw sql] ()\n",
      "2023-03-08 23:16:18,785 INFO sqlalchemy.engine.Engine SELECT sql FROM  (SELECT * FROM sqlite_master UNION ALL   SELECT * FROM sqlite_temp_master) WHERE name = ? AND type in ('table', 'view')\n",
      "2023-03-08 23:16:18,790 INFO sqlalchemy.engine.Engine [raw sql] ('artist',)\n",
      "2023-03-08 23:16:18,794 INFO sqlalchemy.engine.Engine PRAGMA main.index_list(\"genre\")\n",
      "2023-03-08 23:16:18,796 INFO sqlalchemy.engine.Engine [raw sql] ()\n",
      "2023-03-08 23:16:18,798 INFO sqlalchemy.engine.Engine PRAGMA temp.index_list(\"genre\")\n",
      "2023-03-08 23:16:18,800 INFO sqlalchemy.engine.Engine [raw sql] ()\n",
      "2023-03-08 23:16:18,801 INFO sqlalchemy.engine.Engine PRAGMA main.table_info(\"genre\")\n",
      "2023-03-08 23:16:18,801 INFO sqlalchemy.engine.Engine [raw sql] ()\n",
      "2023-03-08 23:16:18,802 INFO sqlalchemy.engine.Engine SELECT sql FROM  (SELECT * FROM sqlite_master UNION ALL   SELECT * FROM sqlite_temp_master) WHERE name = ? AND type in ('table', 'view')\n",
      "2023-03-08 23:16:18,803 INFO sqlalchemy.engine.Engine [raw sql] ('genre',)\n",
      "2023-03-08 23:16:18,804 INFO sqlalchemy.engine.Engine PRAGMA main.index_list(\"track\")\n",
      "2023-03-08 23:16:18,805 INFO sqlalchemy.engine.Engine [raw sql] ()\n",
      "2023-03-08 23:16:18,806 INFO sqlalchemy.engine.Engine PRAGMA temp.index_list(\"track\")\n",
      "2023-03-08 23:16:18,806 INFO sqlalchemy.engine.Engine [raw sql] ()\n",
      "2023-03-08 23:16:18,807 INFO sqlalchemy.engine.Engine PRAGMA main.table_info(\"track\")\n",
      "2023-03-08 23:16:18,807 INFO sqlalchemy.engine.Engine [raw sql] ()\n",
      "2023-03-08 23:16:18,808 INFO sqlalchemy.engine.Engine SELECT sql FROM  (SELECT * FROM sqlite_master UNION ALL   SELECT * FROM sqlite_temp_master) WHERE name = ? AND type in ('table', 'view')\n",
      "2023-03-08 23:16:18,808 INFO sqlalchemy.engine.Engine [raw sql] ('track',)\n",
      "2023-03-08 23:16:18,810 INFO sqlalchemy.engine.Engine ROLLBACK\n"
     ]
    }
   ],
   "source": [
    "base.metadata.reflect(engine)"
   ]
  },
  {
   "cell_type": "code",
   "execution_count": 251,
   "metadata": {},
   "outputs": [
    {
     "ename": "TypeError",
     "evalue": "Column._set_parent() missing 2 required keyword-only arguments: 'all_names' and 'allow_replacements'",
     "output_type": "error",
     "traceback": [
      "\u001B[0;31m---------------------------------------------------------------------------\u001B[0m",
      "\u001B[0;31mTypeError\u001B[0m                                 Traceback (most recent call last)",
      "Cell \u001B[0;32mIn[251], line 1\u001B[0m\n\u001B[0;32m----> 1\u001B[0m \u001B[39mclass\u001B[39;00m \u001B[39mAlbum\u001B[39;00m(base):\n\u001B[1;32m      2\u001B[0m     __table__ \u001B[39m=\u001B[39m base\u001B[39m.\u001B[39mmetadata\u001B[39m.\u001B[39mtables[\u001B[39m'\u001B[39m\u001B[39malbum\u001B[39m\u001B[39m'\u001B[39m]\n\u001B[1;32m      4\u001B[0m     fk \u001B[39m=\u001B[39m Column\u001B[39m.\u001B[39mappend_foreign_key(Album\u001B[39m.\u001B[39mfk, Artist\u001B[39m.\u001B[39mpk)\n",
      "Cell \u001B[0;32mIn[251], line 4\u001B[0m, in \u001B[0;36mAlbum\u001B[0;34m()\u001B[0m\n\u001B[1;32m      1\u001B[0m \u001B[39mclass\u001B[39;00m \u001B[39mAlbum\u001B[39;00m(base):\n\u001B[1;32m      2\u001B[0m     __table__ \u001B[39m=\u001B[39m base\u001B[39m.\u001B[39mmetadata\u001B[39m.\u001B[39mtables[\u001B[39m'\u001B[39m\u001B[39malbum\u001B[39m\u001B[39m'\u001B[39m]\n\u001B[0;32m----> 4\u001B[0m     fk \u001B[39m=\u001B[39m Column\u001B[39m.\u001B[39;49mappend_foreign_key(Album\u001B[39m.\u001B[39;49mfk, Artist\u001B[39m.\u001B[39;49mpk)\n\u001B[1;32m      5\u001B[0m     artist \u001B[39m=\u001B[39m relationship(\u001B[39m'\u001B[39m\u001B[39mArtist\u001B[39m\u001B[39m'\u001B[39m, back_populates\u001B[39m=\u001B[39m\u001B[39m'\u001B[39m\u001B[39malbumList\u001B[39m\u001B[39m'\u001B[39m, uselist\u001B[39m=\u001B[39m\u001B[39mFalse\u001B[39;00m)\n\u001B[1;32m      6\u001B[0m     trackList \u001B[39m=\u001B[39m relationship(\u001B[39m'\u001B[39m\u001B[39mTrack\u001B[39m\u001B[39m'\u001B[39m, back_populates\u001B[39m=\u001B[39m\u001B[39m'\u001B[39m\u001B[39malbum\u001B[39m\u001B[39m'\u001B[39m)\n",
      "File \u001B[0;32m~/miniconda3/lib/python3.10/site-packages/sqlalchemy/sql/schema.py:2102\u001B[0m, in \u001B[0;36mColumn.append_foreign_key\u001B[0;34m(self, fk)\u001B[0m\n\u001B[1;32m   2101\u001B[0m \u001B[39mdef\u001B[39;00m \u001B[39mappend_foreign_key\u001B[39m(\u001B[39mself\u001B[39m, fk: ForeignKey) \u001B[39m-\u001B[39m\u001B[39m>\u001B[39m \u001B[39mNone\u001B[39;00m:\n\u001B[0;32m-> 2102\u001B[0m     fk\u001B[39m.\u001B[39;49m_set_parent_with_dispatch(\u001B[39mself\u001B[39;49m)\n",
      "File \u001B[0;32m~/miniconda3/lib/python3.10/site-packages/sqlalchemy/sql/base.py:1300\u001B[0m, in \u001B[0;36mSchemaEventTarget._set_parent_with_dispatch\u001B[0;34m(self, parent, **kw)\u001B[0m\n\u001B[1;32m   1296\u001B[0m \u001B[39mdef\u001B[39;00m \u001B[39m_set_parent_with_dispatch\u001B[39m(\n\u001B[1;32m   1297\u001B[0m     \u001B[39mself\u001B[39m, parent: SchemaEventTarget, \u001B[39m*\u001B[39m\u001B[39m*\u001B[39mkw: Any\n\u001B[1;32m   1298\u001B[0m ) \u001B[39m-\u001B[39m\u001B[39m>\u001B[39m \u001B[39mNone\u001B[39;00m:\n\u001B[1;32m   1299\u001B[0m     \u001B[39mself\u001B[39m\u001B[39m.\u001B[39mdispatch\u001B[39m.\u001B[39mbefore_parent_attach(\u001B[39mself\u001B[39m, parent)\n\u001B[0;32m-> 1300\u001B[0m     \u001B[39mself\u001B[39;49m\u001B[39m.\u001B[39;49m_set_parent(parent, \u001B[39m*\u001B[39;49m\u001B[39m*\u001B[39;49mkw)\n\u001B[1;32m   1301\u001B[0m     \u001B[39mself\u001B[39m\u001B[39m.\u001B[39mdispatch\u001B[39m.\u001B[39mafter_parent_attach(\u001B[39mself\u001B[39m, parent)\n",
      "\u001B[0;31mTypeError\u001B[0m: Column._set_parent() missing 2 required keyword-only arguments: 'all_names' and 'allow_replacements'"
     ]
    }
   ],
   "source": [
    "\n",
    "class Album(base):\n",
    "    __table__ = base.metadata.tables['album']\n",
    "    \n",
    "    fk = Column.append_foreign_key(Album.fk, Artist.pk)  #?\n",
    "    artist = relationship('Artist', back_populates='albumList', uselist=False)\n",
    "    trackList = relationship('Track', back_populates='album')\n",
    "\n",
    "class Artist(base):\n",
    "    __table__ = base.metadata.tables['artist']\n",
    "    \n",
    "    albumList = relationship('Album', back_populates='artist')\n",
    "    \n",
    "class Genre(base):\n",
    "    __table__ = base.metadata.tables['genre']\n",
    "\n",
    "    trackList = relationship('Track', back_populates='genre')\n",
    "    \n",
    "class Track(base):\n",
    "    __table__ = base.metadata.tables['track']\n",
    "    \n",
    "    album = relationship('Album', back_populates='trackList', uselist = False)\n",
    "    genre = relationship('Genre', back_populates='trackList', uselist = False)"
   ]
  },
  {
   "cell_type": "code",
   "execution_count": 244,
   "metadata": {},
   "outputs": [
    {
     "ename": "NoForeignKeysError",
     "evalue": "Could not determine join condition between parent/child tables on relationship Album.artist - there are no foreign keys linking these tables.  Ensure that referencing columns are associated with a ForeignKey or ForeignKeyConstraint, or specify a 'primaryjoin' expression.",
     "output_type": "error",
     "traceback": [
      "\u001B[0;31m---------------------------------------------------------------------------\u001B[0m",
      "\u001B[0;31mNoForeignKeysError\u001B[0m                        Traceback (most recent call last)",
      "File \u001B[0;32m~/miniconda3/lib/python3.10/site-packages/sqlalchemy/orm/relationships.py:2421\u001B[0m, in \u001B[0;36mJoinCondition._determine_joins\u001B[0;34m(self)\u001B[0m\n\u001B[1;32m   2420\u001B[0m \u001B[39mif\u001B[39;00m \u001B[39mself\u001B[39m\u001B[39m.\u001B[39mprimaryjoin_initial \u001B[39mis\u001B[39;00m \u001B[39mNone\u001B[39;00m:\n\u001B[0;32m-> 2421\u001B[0m     \u001B[39mself\u001B[39m\u001B[39m.\u001B[39mprimaryjoin \u001B[39m=\u001B[39m join_condition(\n\u001B[1;32m   2422\u001B[0m         \u001B[39mself\u001B[39;49m\u001B[39m.\u001B[39;49mparent_persist_selectable,\n\u001B[1;32m   2423\u001B[0m         \u001B[39mself\u001B[39;49m\u001B[39m.\u001B[39;49mchild_persist_selectable,\n\u001B[1;32m   2424\u001B[0m         a_subset\u001B[39m=\u001B[39;49m\u001B[39mself\u001B[39;49m\u001B[39m.\u001B[39;49mparent_local_selectable,\n\u001B[1;32m   2425\u001B[0m         consider_as_foreign_keys\u001B[39m=\u001B[39;49mconsider_as_foreign_keys,\n\u001B[1;32m   2426\u001B[0m     )\n\u001B[1;32m   2427\u001B[0m \u001B[39melse\u001B[39;00m:\n",
      "File \u001B[0;32m~/miniconda3/lib/python3.10/site-packages/sqlalchemy/sql/util.py:123\u001B[0m, in \u001B[0;36mjoin_condition\u001B[0;34m(a, b, a_subset, consider_as_foreign_keys)\u001B[0m\n\u001B[1;32m    101\u001B[0m \u001B[39m\"\"\"Create a join condition between two tables or selectables.\u001B[39;00m\n\u001B[1;32m    102\u001B[0m \n\u001B[1;32m    103\u001B[0m \u001B[39me.g.::\u001B[39;00m\n\u001B[0;32m   (...)\u001B[0m\n\u001B[1;32m    121\u001B[0m \n\u001B[1;32m    122\u001B[0m \u001B[39m\"\"\"\u001B[39;00m\n\u001B[0;32m--> 123\u001B[0m \u001B[39mreturn\u001B[39;00m Join\u001B[39m.\u001B[39;49m_join_condition(\n\u001B[1;32m    124\u001B[0m     a,\n\u001B[1;32m    125\u001B[0m     b,\n\u001B[1;32m    126\u001B[0m     a_subset\u001B[39m=\u001B[39;49ma_subset,\n\u001B[1;32m    127\u001B[0m     consider_as_foreign_keys\u001B[39m=\u001B[39;49mconsider_as_foreign_keys,\n\u001B[1;32m    128\u001B[0m )\n",
      "File \u001B[0;32m~/miniconda3/lib/python3.10/site-packages/sqlalchemy/sql/selectable.py:1368\u001B[0m, in \u001B[0;36mJoin._join_condition\u001B[0;34m(cls, a, b, a_subset, consider_as_foreign_keys)\u001B[0m\n\u001B[1;32m   1367\u001B[0m         hint \u001B[39m=\u001B[39m \u001B[39m\"\u001B[39m\u001B[39m\"\u001B[39m\n\u001B[0;32m-> 1368\u001B[0m     \u001B[39mraise\u001B[39;00m exc\u001B[39m.\u001B[39mNoForeignKeysError(\n\u001B[1;32m   1369\u001B[0m         \u001B[39m\"\u001B[39m\u001B[39mCan\u001B[39m\u001B[39m'\u001B[39m\u001B[39mt find any foreign key relationships \u001B[39m\u001B[39m\"\u001B[39m\n\u001B[1;32m   1370\u001B[0m         \u001B[39m\"\u001B[39m\u001B[39mbetween \u001B[39m\u001B[39m'\u001B[39m\u001B[39m%s\u001B[39;00m\u001B[39m'\u001B[39m\u001B[39m and \u001B[39m\u001B[39m'\u001B[39m\u001B[39m%s\u001B[39;00m\u001B[39m'\u001B[39m\u001B[39m.\u001B[39m\u001B[39m%s\u001B[39;00m\u001B[39m\"\u001B[39m\n\u001B[1;32m   1371\u001B[0m         \u001B[39m%\u001B[39m (a\u001B[39m.\u001B[39mdescription, b\u001B[39m.\u001B[39mdescription, hint)\n\u001B[1;32m   1372\u001B[0m     )\n\u001B[1;32m   1374\u001B[0m crit \u001B[39m=\u001B[39m [(x \u001B[39m==\u001B[39m y) \u001B[39mfor\u001B[39;00m x, y \u001B[39min\u001B[39;00m \u001B[39mlist\u001B[39m(constraints\u001B[39m.\u001B[39mvalues())[\u001B[39m0\u001B[39m]]\n",
      "\u001B[0;31mNoForeignKeysError\u001B[0m: Can't find any foreign key relationships between 'album' and 'artist'.",
      "\nThe above exception was the direct cause of the following exception:\n",
      "\u001B[0;31mNoForeignKeysError\u001B[0m                        Traceback (most recent call last)",
      "Cell \u001B[0;32mIn[244], line 1\u001B[0m\n\u001B[0;32m----> 1\u001B[0m Album_2 \u001B[39m=\u001B[39m Album()\n",
      "File \u001B[0;32m<string>:4\u001B[0m, in \u001B[0;36m__init__\u001B[0;34m(self, **kwargs)\u001B[0m\n",
      "File \u001B[0;32m~/miniconda3/lib/python3.10/site-packages/sqlalchemy/orm/state.py:570\u001B[0m, in \u001B[0;36mInstanceState._initialize_instance\u001B[0;34m(*mixed, **kwargs)\u001B[0m\n\u001B[1;32m    567\u001B[0m \u001B[39mself\u001B[39m, instance, args \u001B[39m=\u001B[39m mixed[\u001B[39m0\u001B[39m], mixed[\u001B[39m1\u001B[39m], mixed[\u001B[39m2\u001B[39m:]  \u001B[39m# noqa\u001B[39;00m\n\u001B[1;32m    568\u001B[0m manager \u001B[39m=\u001B[39m \u001B[39mself\u001B[39m\u001B[39m.\u001B[39mmanager\n\u001B[0;32m--> 570\u001B[0m manager\u001B[39m.\u001B[39;49mdispatch\u001B[39m.\u001B[39;49minit(\u001B[39mself\u001B[39;49m, args, kwargs)\n\u001B[1;32m    572\u001B[0m \u001B[39mtry\u001B[39;00m:\n\u001B[1;32m    573\u001B[0m     manager\u001B[39m.\u001B[39moriginal_init(\u001B[39m*\u001B[39mmixed[\u001B[39m1\u001B[39m:], \u001B[39m*\u001B[39m\u001B[39m*\u001B[39mkwargs)\n",
      "File \u001B[0;32m~/miniconda3/lib/python3.10/site-packages/sqlalchemy/event/attr.py:487\u001B[0m, in \u001B[0;36m_CompoundListener.__call__\u001B[0;34m(self, *args, **kw)\u001B[0m\n\u001B[1;32m    485\u001B[0m     fn(\u001B[39m*\u001B[39margs, \u001B[39m*\u001B[39m\u001B[39m*\u001B[39mkw)\n\u001B[1;32m    486\u001B[0m \u001B[39mfor\u001B[39;00m fn \u001B[39min\u001B[39;00m \u001B[39mself\u001B[39m\u001B[39m.\u001B[39mlisteners:\n\u001B[0;32m--> 487\u001B[0m     fn(\u001B[39m*\u001B[39;49margs, \u001B[39m*\u001B[39;49m\u001B[39m*\u001B[39;49mkw)\n",
      "File \u001B[0;32m~/miniconda3/lib/python3.10/site-packages/sqlalchemy/orm/mapper.py:4378\u001B[0m, in \u001B[0;36m_event_on_init\u001B[0;34m(state, args, kwargs)\u001B[0m\n\u001B[1;32m   4376\u001B[0m instrumenting_mapper \u001B[39m=\u001B[39m state\u001B[39m.\u001B[39mmanager\u001B[39m.\u001B[39mmapper\n\u001B[1;32m   4377\u001B[0m \u001B[39mif\u001B[39;00m instrumenting_mapper:\n\u001B[0;32m-> 4378\u001B[0m     instrumenting_mapper\u001B[39m.\u001B[39;49m_check_configure()\n\u001B[1;32m   4379\u001B[0m     \u001B[39mif\u001B[39;00m instrumenting_mapper\u001B[39m.\u001B[39m_set_polymorphic_identity:\n\u001B[1;32m   4380\u001B[0m         instrumenting_mapper\u001B[39m.\u001B[39m_set_polymorphic_identity(state)\n",
      "File \u001B[0;32m~/miniconda3/lib/python3.10/site-packages/sqlalchemy/orm/mapper.py:2374\u001B[0m, in \u001B[0;36mMapper._check_configure\u001B[0;34m(self)\u001B[0m\n\u001B[1;32m   2366\u001B[0m \u001B[39m@util\u001B[39m\u001B[39m.\u001B[39mlanghelpers\u001B[39m.\u001B[39mtag_method_for_warnings(\n\u001B[1;32m   2367\u001B[0m     \u001B[39m\"\u001B[39m\u001B[39mThis warning originated from the `configure_mappers()` process, \u001B[39m\u001B[39m\"\u001B[39m\n\u001B[1;32m   2368\u001B[0m     \u001B[39m\"\u001B[39m\u001B[39mwhich was invoked automatically in response to a user-initiated \u001B[39m\u001B[39m\"\u001B[39m\n\u001B[0;32m   (...)\u001B[0m\n\u001B[1;32m   2371\u001B[0m )\n\u001B[1;32m   2372\u001B[0m \u001B[39mdef\u001B[39;00m \u001B[39m_check_configure\u001B[39m(\u001B[39mself\u001B[39m) \u001B[39m-\u001B[39m\u001B[39m>\u001B[39m \u001B[39mNone\u001B[39;00m:\n\u001B[1;32m   2373\u001B[0m     \u001B[39mif\u001B[39;00m \u001B[39mself\u001B[39m\u001B[39m.\u001B[39mregistry\u001B[39m.\u001B[39m_new_mappers:\n\u001B[0;32m-> 2374\u001B[0m         _configure_registries({\u001B[39mself\u001B[39;49m\u001B[39m.\u001B[39;49mregistry}, cascade\u001B[39m=\u001B[39;49m\u001B[39mTrue\u001B[39;49;00m)\n",
      "File \u001B[0;32m~/miniconda3/lib/python3.10/site-packages/sqlalchemy/orm/mapper.py:4186\u001B[0m, in \u001B[0;36m_configure_registries\u001B[0;34m(registries, cascade)\u001B[0m\n\u001B[1;32m   4180\u001B[0m     Mapper\u001B[39m.\u001B[39mdispatch\u001B[39m.\u001B[39m_for_class(Mapper)\u001B[39m.\u001B[39mbefore_configured()  \u001B[39m# type: ignore # noqa: E501\u001B[39;00m\n\u001B[1;32m   4181\u001B[0m     \u001B[39m# initialize properties on all mappers\u001B[39;00m\n\u001B[1;32m   4182\u001B[0m     \u001B[39m# note that _mapper_registry is unordered, which\u001B[39;00m\n\u001B[1;32m   4183\u001B[0m     \u001B[39m# may randomly conceal/reveal issues related to\u001B[39;00m\n\u001B[1;32m   4184\u001B[0m     \u001B[39m# the order of mapper compilation\u001B[39;00m\n\u001B[0;32m-> 4186\u001B[0m     _do_configure_registries(registries, cascade)\n\u001B[1;32m   4187\u001B[0m \u001B[39mfinally\u001B[39;00m:\n\u001B[1;32m   4188\u001B[0m     _already_compiling \u001B[39m=\u001B[39m \u001B[39mFalse\u001B[39;00m\n",
      "File \u001B[0;32m~/miniconda3/lib/python3.10/site-packages/sqlalchemy/orm/mapper.py:4228\u001B[0m, in \u001B[0;36m_do_configure_registries\u001B[0;34m(registries, cascade)\u001B[0m\n\u001B[1;32m   4226\u001B[0m \u001B[39mif\u001B[39;00m \u001B[39mnot\u001B[39;00m mapper\u001B[39m.\u001B[39mconfigured:\n\u001B[1;32m   4227\u001B[0m     \u001B[39mtry\u001B[39;00m:\n\u001B[0;32m-> 4228\u001B[0m         mapper\u001B[39m.\u001B[39;49m_post_configure_properties()\n\u001B[1;32m   4229\u001B[0m         mapper\u001B[39m.\u001B[39m_expire_memoizations()\n\u001B[1;32m   4230\u001B[0m         mapper\u001B[39m.\u001B[39mdispatch\u001B[39m.\u001B[39mmapper_configured(mapper, mapper\u001B[39m.\u001B[39mclass_)\n",
      "File \u001B[0;32m~/miniconda3/lib/python3.10/site-packages/sqlalchemy/orm/mapper.py:2391\u001B[0m, in \u001B[0;36mMapper._post_configure_properties\u001B[0;34m(self)\u001B[0m\n\u001B[1;32m   2388\u001B[0m \u001B[39mself\u001B[39m\u001B[39m.\u001B[39m_log(\u001B[39m\"\u001B[39m\u001B[39minitialize prop \u001B[39m\u001B[39m%s\u001B[39;00m\u001B[39m\"\u001B[39m, key)\n\u001B[1;32m   2390\u001B[0m \u001B[39mif\u001B[39;00m prop\u001B[39m.\u001B[39mparent \u001B[39mis\u001B[39;00m \u001B[39mself\u001B[39m \u001B[39mand\u001B[39;00m \u001B[39mnot\u001B[39;00m prop\u001B[39m.\u001B[39m_configure_started:\n\u001B[0;32m-> 2391\u001B[0m     prop\u001B[39m.\u001B[39;49minit()\n\u001B[1;32m   2393\u001B[0m \u001B[39mif\u001B[39;00m prop\u001B[39m.\u001B[39m_configure_finished:\n\u001B[1;32m   2394\u001B[0m     prop\u001B[39m.\u001B[39mpost_instrument_class(\u001B[39mself\u001B[39m)\n",
      "File \u001B[0;32m~/miniconda3/lib/python3.10/site-packages/sqlalchemy/orm/interfaces.py:544\u001B[0m, in \u001B[0;36mMapperProperty.init\u001B[0;34m(self)\u001B[0m\n\u001B[1;32m    537\u001B[0m \u001B[39m\"\"\"Called after all mappers are created to assemble\u001B[39;00m\n\u001B[1;32m    538\u001B[0m \u001B[39mrelationships between mappers and perform other post-mapper-creation\u001B[39;00m\n\u001B[1;32m    539\u001B[0m \u001B[39minitialization steps.\u001B[39;00m\n\u001B[1;32m    540\u001B[0m \n\u001B[1;32m    541\u001B[0m \n\u001B[1;32m    542\u001B[0m \u001B[39m\"\"\"\u001B[39;00m\n\u001B[1;32m    543\u001B[0m \u001B[39mself\u001B[39m\u001B[39m.\u001B[39m_configure_started \u001B[39m=\u001B[39m \u001B[39mTrue\u001B[39;00m\n\u001B[0;32m--> 544\u001B[0m \u001B[39mself\u001B[39;49m\u001B[39m.\u001B[39;49mdo_init()\n\u001B[1;32m    545\u001B[0m \u001B[39mself\u001B[39m\u001B[39m.\u001B[39m_configure_finished \u001B[39m=\u001B[39m \u001B[39mTrue\u001B[39;00m\n",
      "File \u001B[0;32m~/miniconda3/lib/python3.10/site-packages/sqlalchemy/orm/relationships.py:1634\u001B[0m, in \u001B[0;36mRelationshipProperty.do_init\u001B[0;34m(self)\u001B[0m\n\u001B[1;32m   1632\u001B[0m \u001B[39mself\u001B[39m\u001B[39m.\u001B[39m_setup_entity()\n\u001B[1;32m   1633\u001B[0m \u001B[39mself\u001B[39m\u001B[39m.\u001B[39m_setup_registry_dependencies()\n\u001B[0;32m-> 1634\u001B[0m \u001B[39mself\u001B[39;49m\u001B[39m.\u001B[39;49m_setup_join_conditions()\n\u001B[1;32m   1635\u001B[0m \u001B[39mself\u001B[39m\u001B[39m.\u001B[39m_check_cascade_settings(\u001B[39mself\u001B[39m\u001B[39m.\u001B[39m_cascade)\n\u001B[1;32m   1636\u001B[0m \u001B[39mself\u001B[39m\u001B[39m.\u001B[39m_post_init()\n",
      "File \u001B[0;32m~/miniconda3/lib/python3.10/site-packages/sqlalchemy/orm/relationships.py:1881\u001B[0m, in \u001B[0;36mRelationshipProperty._setup_join_conditions\u001B[0;34m(self)\u001B[0m\n\u001B[1;32m   1880\u001B[0m \u001B[39mdef\u001B[39;00m \u001B[39m_setup_join_conditions\u001B[39m(\u001B[39mself\u001B[39m) \u001B[39m-\u001B[39m\u001B[39m>\u001B[39m \u001B[39mNone\u001B[39;00m:\n\u001B[0;32m-> 1881\u001B[0m     \u001B[39mself\u001B[39m\u001B[39m.\u001B[39m_join_condition \u001B[39m=\u001B[39m jc \u001B[39m=\u001B[39m JoinCondition(\n\u001B[1;32m   1882\u001B[0m         parent_persist_selectable\u001B[39m=\u001B[39;49m\u001B[39mself\u001B[39;49m\u001B[39m.\u001B[39;49mparent\u001B[39m.\u001B[39;49mpersist_selectable,\n\u001B[1;32m   1883\u001B[0m         child_persist_selectable\u001B[39m=\u001B[39;49m\u001B[39mself\u001B[39;49m\u001B[39m.\u001B[39;49mentity\u001B[39m.\u001B[39;49mpersist_selectable,\n\u001B[1;32m   1884\u001B[0m         parent_local_selectable\u001B[39m=\u001B[39;49m\u001B[39mself\u001B[39;49m\u001B[39m.\u001B[39;49mparent\u001B[39m.\u001B[39;49mlocal_table,\n\u001B[1;32m   1885\u001B[0m         child_local_selectable\u001B[39m=\u001B[39;49m\u001B[39mself\u001B[39;49m\u001B[39m.\u001B[39;49mentity\u001B[39m.\u001B[39;49mlocal_table,\n\u001B[1;32m   1886\u001B[0m         primaryjoin\u001B[39m=\u001B[39;49m\u001B[39mself\u001B[39;49m\u001B[39m.\u001B[39;49m_init_args\u001B[39m.\u001B[39;49mprimaryjoin\u001B[39m.\u001B[39;49mresolved,\n\u001B[1;32m   1887\u001B[0m         secondary\u001B[39m=\u001B[39;49m\u001B[39mself\u001B[39;49m\u001B[39m.\u001B[39;49m_init_args\u001B[39m.\u001B[39;49msecondary\u001B[39m.\u001B[39;49mresolved,\n\u001B[1;32m   1888\u001B[0m         secondaryjoin\u001B[39m=\u001B[39;49m\u001B[39mself\u001B[39;49m\u001B[39m.\u001B[39;49m_init_args\u001B[39m.\u001B[39;49msecondaryjoin\u001B[39m.\u001B[39;49mresolved,\n\u001B[1;32m   1889\u001B[0m         parent_equivalents\u001B[39m=\u001B[39;49m\u001B[39mself\u001B[39;49m\u001B[39m.\u001B[39;49mparent\u001B[39m.\u001B[39;49m_equivalent_columns,\n\u001B[1;32m   1890\u001B[0m         child_equivalents\u001B[39m=\u001B[39;49m\u001B[39mself\u001B[39;49m\u001B[39m.\u001B[39;49mmapper\u001B[39m.\u001B[39;49m_equivalent_columns,\n\u001B[1;32m   1891\u001B[0m         consider_as_foreign_keys\u001B[39m=\u001B[39;49m\u001B[39mself\u001B[39;49m\u001B[39m.\u001B[39;49m_user_defined_foreign_keys,\n\u001B[1;32m   1892\u001B[0m         local_remote_pairs\u001B[39m=\u001B[39;49m\u001B[39mself\u001B[39;49m\u001B[39m.\u001B[39;49mlocal_remote_pairs,\n\u001B[1;32m   1893\u001B[0m         remote_side\u001B[39m=\u001B[39;49m\u001B[39mself\u001B[39;49m\u001B[39m.\u001B[39;49mremote_side,\n\u001B[1;32m   1894\u001B[0m         self_referential\u001B[39m=\u001B[39;49m\u001B[39mself\u001B[39;49m\u001B[39m.\u001B[39;49m_is_self_referential,\n\u001B[1;32m   1895\u001B[0m         prop\u001B[39m=\u001B[39;49m\u001B[39mself\u001B[39;49m,\n\u001B[1;32m   1896\u001B[0m         support_sync\u001B[39m=\u001B[39;49m\u001B[39mnot\u001B[39;49;00m \u001B[39mself\u001B[39;49m\u001B[39m.\u001B[39;49mviewonly,\n\u001B[1;32m   1897\u001B[0m         can_be_synced_fn\u001B[39m=\u001B[39;49m\u001B[39mself\u001B[39;49m\u001B[39m.\u001B[39;49m_columns_are_mapped,\n\u001B[1;32m   1898\u001B[0m     )\n\u001B[1;32m   1899\u001B[0m     \u001B[39mself\u001B[39m\u001B[39m.\u001B[39mprimaryjoin \u001B[39m=\u001B[39m jc\u001B[39m.\u001B[39mprimaryjoin\n\u001B[1;32m   1900\u001B[0m     \u001B[39mself\u001B[39m\u001B[39m.\u001B[39msecondaryjoin \u001B[39m=\u001B[39m jc\u001B[39m.\u001B[39msecondaryjoin\n",
      "File \u001B[0;32m~/miniconda3/lib/python3.10/site-packages/sqlalchemy/orm/relationships.py:2308\u001B[0m, in \u001B[0;36mJoinCondition.__init__\u001B[0;34m(self, parent_persist_selectable, child_persist_selectable, parent_local_selectable, child_local_selectable, primaryjoin, secondary, secondaryjoin, parent_equivalents, child_equivalents, consider_as_foreign_keys, local_remote_pairs, remote_side, self_referential, prop, support_sync, can_be_synced_fn)\u001B[0m\n\u001B[1;32m   2305\u001B[0m \u001B[39mself\u001B[39m\u001B[39m.\u001B[39msupport_sync \u001B[39m=\u001B[39m support_sync\n\u001B[1;32m   2306\u001B[0m \u001B[39mself\u001B[39m\u001B[39m.\u001B[39mcan_be_synced_fn \u001B[39m=\u001B[39m can_be_synced_fn\n\u001B[0;32m-> 2308\u001B[0m \u001B[39mself\u001B[39;49m\u001B[39m.\u001B[39;49m_determine_joins()\n\u001B[1;32m   2309\u001B[0m \u001B[39massert\u001B[39;00m \u001B[39mself\u001B[39m\u001B[39m.\u001B[39mprimaryjoin \u001B[39mis\u001B[39;00m \u001B[39mnot\u001B[39;00m \u001B[39mNone\u001B[39;00m\n\u001B[1;32m   2311\u001B[0m \u001B[39mself\u001B[39m\u001B[39m.\u001B[39m_sanitize_joins()\n",
      "File \u001B[0;32m~/miniconda3/lib/python3.10/site-packages/sqlalchemy/orm/relationships.py:2442\u001B[0m, in \u001B[0;36mJoinCondition._determine_joins\u001B[0;34m(self)\u001B[0m\n\u001B[1;32m   2431\u001B[0m         \u001B[39mraise\u001B[39;00m sa_exc\u001B[39m.\u001B[39mNoForeignKeysError(\n\u001B[1;32m   2432\u001B[0m             \u001B[39m\"\u001B[39m\u001B[39mCould not determine join \u001B[39m\u001B[39m\"\u001B[39m\n\u001B[1;32m   2433\u001B[0m             \u001B[39m\"\u001B[39m\u001B[39mcondition between parent/child tables on \u001B[39m\u001B[39m\"\u001B[39m\n\u001B[0;32m   (...)\u001B[0m\n\u001B[1;32m   2439\u001B[0m             \u001B[39m\"\u001B[39m\u001B[39mexpressions.\u001B[39m\u001B[39m\"\u001B[39m \u001B[39m%\u001B[39m (\u001B[39mself\u001B[39m\u001B[39m.\u001B[39mprop, \u001B[39mself\u001B[39m\u001B[39m.\u001B[39msecondary)\n\u001B[1;32m   2440\u001B[0m         ) \u001B[39mfrom\u001B[39;00m \u001B[39mnfe\u001B[39;00m\n\u001B[1;32m   2441\u001B[0m     \u001B[39melse\u001B[39;00m:\n\u001B[0;32m-> 2442\u001B[0m         \u001B[39mraise\u001B[39;00m sa_exc\u001B[39m.\u001B[39mNoForeignKeysError(\n\u001B[1;32m   2443\u001B[0m             \u001B[39m\"\u001B[39m\u001B[39mCould not determine join \u001B[39m\u001B[39m\"\u001B[39m\n\u001B[1;32m   2444\u001B[0m             \u001B[39m\"\u001B[39m\u001B[39mcondition between parent/child tables on \u001B[39m\u001B[39m\"\u001B[39m\n\u001B[1;32m   2445\u001B[0m             \u001B[39m\"\u001B[39m\u001B[39mrelationship \u001B[39m\u001B[39m%s\u001B[39;00m\u001B[39m - there are no foreign keys \u001B[39m\u001B[39m\"\u001B[39m\n\u001B[1;32m   2446\u001B[0m             \u001B[39m\"\u001B[39m\u001B[39mlinking these tables.  \u001B[39m\u001B[39m\"\u001B[39m\n\u001B[1;32m   2447\u001B[0m             \u001B[39m\"\u001B[39m\u001B[39mEnsure that referencing columns are associated \u001B[39m\u001B[39m\"\u001B[39m\n\u001B[1;32m   2448\u001B[0m             \u001B[39m\"\u001B[39m\u001B[39mwith a ForeignKey or ForeignKeyConstraint, or \u001B[39m\u001B[39m\"\u001B[39m\n\u001B[1;32m   2449\u001B[0m             \u001B[39m\"\u001B[39m\u001B[39mspecify a \u001B[39m\u001B[39m'\u001B[39m\u001B[39mprimaryjoin\u001B[39m\u001B[39m'\u001B[39m\u001B[39m expression.\u001B[39m\u001B[39m\"\u001B[39m \u001B[39m%\u001B[39m \u001B[39mself\u001B[39m\u001B[39m.\u001B[39mprop\n\u001B[1;32m   2450\u001B[0m         ) \u001B[39mfrom\u001B[39;00m \u001B[39mnfe\u001B[39;00m\n\u001B[1;32m   2451\u001B[0m \u001B[39mexcept\u001B[39;00m sa_exc\u001B[39m.\u001B[39mAmbiguousForeignKeysError \u001B[39mas\u001B[39;00m afe:\n\u001B[1;32m   2452\u001B[0m     \u001B[39mif\u001B[39;00m \u001B[39mself\u001B[39m\u001B[39m.\u001B[39msecondary \u001B[39mis\u001B[39;00m \u001B[39mnot\u001B[39;00m \u001B[39mNone\u001B[39;00m:\n",
      "\u001B[0;31mNoForeignKeysError\u001B[0m: Could not determine join condition between parent/child tables on relationship Album.artist - there are no foreign keys linking these tables.  Ensure that referencing columns are associated with a ForeignKey or ForeignKeyConstraint, or specify a 'primaryjoin' expression."
     ]
    }
   ],
   "source": [
    "Album_2 = Album()\n"
   ]
  },
  {
   "cell_type": "code",
   "execution_count": 230,
   "metadata": {},
   "outputs": [
    {
     "data": {
      "text/plain": [
       "dict_keys(['album', 'artist', 'genre', 'track'])"
      ]
     },
     "execution_count": 230,
     "metadata": {},
     "output_type": "execute_result"
    }
   ],
   "source": [
    "base.metadata.tables.keys()"
   ]
  },
  {
   "cell_type": "code",
   "execution_count": 210,
   "metadata": {},
   "outputs": [
    {
     "name": "stdout",
     "output_type": "stream",
     "text": [
      "ReadOnlyColumnCollection(artist.pk, artist.name)\n"
     ]
    }
   ],
   "source": [
    "print(base.metadata.tables['artist'].c)"
   ]
  },
  {
   "cell_type": "code",
   "execution_count": 170,
   "metadata": {},
   "outputs": [],
   "source": [
    "class Artist(base):\n",
    "    __tablename__ = 'artist'\n",
    "    \n",
    "    pk = Column('PK', Integer, primary_key=True)\n",
    "    name = Column('NAME', Text)\n",
    "    \n",
    "    albumList = relationship(\"Album\", back_populates=\"artist\", uselist=True)\n",
    "    \n",
    "    def __repr__(self):\n",
    "        return 'PK: {}, NAME: {}'.format(self.pk, self.name)\n",
    "    \n",
    "class Album(base):\n",
    "    __tablename__ = 'album'\n",
    "    \n",
    "    pk = Column('PK', Integer, primary_key=True)\n",
    "    name = Column('NAME', Text)\n",
    "    fk = Column('FK', Integer, ForeignKey(Artist.pk))  # ForeignKey(User.pk)\n",
    "    \n",
    "    artist = relationship(\"Artist\", back_populates=\"albumList\", uselist=False)\n",
    "    trackList = relationship(\"Track\", back_populates=\"album\", uselist=True)\n",
    "    \n",
    "    def __repr__(self):\n",
    "        return 'PK: {}, NAME: {}, FK: {}'.format(self.pk, self.name, self.fk)\n",
    "    \n",
    "class Genre(base):\n",
    "    __tablename__ = 'genre'\n",
    "    \n",
    "    pk = Column('PK', Integer, primary_key=True)\n",
    "    name = Column('NAME', Text)\n",
    "    \n",
    "    trackList = relationship(\"Track\", back_populates=\"\", uselist=True)\n",
    "    \n",
    "    def __repr__(self):\n",
    "        return 'PK: {}, NAME: {}'.format(self.pk, self.name)\n",
    "    \n",
    "class Track(base):\n",
    "    __tablename__ = 'track'\n",
    "    \n",
    "    pk = Column('PK', Integer, primary_key=True)\n",
    "    name = Column('NAME', Text)\n",
    "    length = Column('LENGTH', Integer)\n",
    "    rating = Column('RATING', Integer)\n",
    "    count = Column('COUNT', Integer, default=0)\n",
    "    fk1 = Column('FK1', Integer, ForeignKey(Album.pk))\n",
    "    fk2 = Column('FK2', Integer, ForeignKey(Genre.pk))\n",
    "    \n",
    "    album = relationship('Album', back_populates=\"trackList\", uselist=False)\n",
    "    genre = relationship('Genre', back_populates=\"trackList\", uselist=False)\n",
    "    \n",
    "    def __repr__(self):\n",
    "        return 'PK: {}, NAME: {}, LENGTH: {}, RATING: {}, COUNT: {},\\\n",
    "            FK1: {}, FK2: {}'.format(self.pk, self.name, self.length, self.rating, self.count, self.fk1, self.fk2)"
   ]
  },
  {
   "cell_type": "code",
   "execution_count": null,
   "metadata": {},
   "outputs": [],
   "source": [
    "# 기존 db 에서 foreignKey가 선언되지 않아 오류가 났음\n",
    "# 위 방식처럼 처음부터 다시 하거나,\n",
    "# Column 객체에서 사용 가능한(dir, help) 함수들 중,\n",
    "# append_foregin_key(self, fk) 를 사용할 수도 있음"
   ]
  },
  {
   "cell_type": "code",
   "execution_count": 178,
   "metadata": {},
   "outputs": [],
   "source": [
    "Session = sessionmaker(engine)\n",
    "session = Session()"
   ]
  },
  {
   "cell_type": "code",
   "execution_count": 163,
   "metadata": {},
   "outputs": [
    {
     "name": "stdout",
     "output_type": "stream",
     "text": [
      "2023-03-08 22:18:06,004 INFO sqlalchemy.engine.Engine SELECT artist.\"PK\" AS \"artist_PK\", artist.\"NAME\" AS \"artist_NAME\" \n",
      "FROM artist\n",
      "2023-03-08 22:18:06,005 INFO sqlalchemy.engine.Engine [cached since 31.07s ago] ()\n"
     ]
    },
    {
     "data": {
      "text/plain": [
       "PK: 2, NAME: 가수2"
      ]
     },
     "execution_count": 163,
     "metadata": {},
     "output_type": "execute_result"
    }
   ],
   "source": [
    "Artists = session.query(Artist).all()\n",
    "Artists[1]"
   ]
  },
  {
   "cell_type": "code",
   "execution_count": 164,
   "metadata": {},
   "outputs": [
    {
     "name": "stdout",
     "output_type": "stream",
     "text": [
      "2023-03-08 22:18:17,538 INFO sqlalchemy.engine.Engine SELECT album.\"PK\" AS \"album_PK\", album.\"NAME\" AS \"album_NAME\", album.\"FK\" AS \"album_FK\" \n",
      "FROM album \n",
      "WHERE ? = album.\"FK\"\n",
      "2023-03-08 22:18:17,539 INFO sqlalchemy.engine.Engine [generated in 0.00115s] (2,)\n",
      "[PK: 2, NAME: 앨범2, FK: 2, PK: 6, NAME: 싱글2, FK: 2]\n"
     ]
    }
   ],
   "source": [
    "print(Artists[1].albumList)\n",
    "# artist table의 pk == 2 를 fk 로 받는 album의 데이터들을 가져옴"
   ]
  },
  {
   "cell_type": "code",
   "execution_count": 166,
   "metadata": {},
   "outputs": [
    {
     "name": "stdout",
     "output_type": "stream",
     "text": [
      "2023-03-08 22:20:15,207 INFO sqlalchemy.engine.Engine SELECT album.\"PK\" AS \"album_PK\", album.\"NAME\" AS \"album_NAME\", album.\"FK\" AS \"album_FK\" \n",
      "FROM album\n",
      "2023-03-08 22:20:15,208 INFO sqlalchemy.engine.Engine [cached since 7.738s ago] ()\n"
     ]
    },
    {
     "data": {
      "text/plain": [
       "PK: 1, NAME: 앨범1, FK: 1"
      ]
     },
     "execution_count": 166,
     "metadata": {},
     "output_type": "execute_result"
    }
   ],
   "source": [
    "Albums = session.query(Album).all()\n",
    "Albums[0]"
   ]
  },
  {
   "cell_type": "code",
   "execution_count": 167,
   "metadata": {},
   "outputs": [
    {
     "name": "stdout",
     "output_type": "stream",
     "text": [
      "2023-03-08 22:20:40,420 INFO sqlalchemy.engine.Engine SELECT track.\"PK\" AS \"track_PK\", track.\"NAME\" AS \"track_NAME\", track.\"LENGTH\" AS \"track_LENGTH\", track.\"RATING\" AS \"track_RATING\", track.\"COUNT\" AS \"track_COUNT\", track.\"FK1\" AS \"track_FK1\", track.\"FK2\" AS \"track_FK2\" \n",
      "FROM track \n",
      "WHERE ? = track.\"FK1\"\n",
      "2023-03-08 22:20:40,422 INFO sqlalchemy.engine.Engine [generated in 0.00147s] (1,)\n"
     ]
    },
    {
     "data": {
      "text/plain": [
       "[PK: 2, NAME: 노래2, LENGTH: 0, RATING: 0, COUNT: 0,            FK1: 1, FK2: 2,\n",
       " PK: 6, NAME: 노래6, LENGTH: 0, RATING: 0, COUNT: 0,            FK1: 1, FK2: 1]"
      ]
     },
     "execution_count": 167,
     "metadata": {},
     "output_type": "execute_result"
    }
   ],
   "source": [
    "Albums[0].trackList"
   ]
  },
  {
   "cell_type": "markdown",
   "metadata": {},
   "source": [
    "##### 내일 할 것"
   ]
  },
  {
   "cell_type": "code",
   "execution_count": 193,
   "metadata": {},
   "outputs": [
    {
     "ename": "SyntaxError",
     "evalue": "invalid syntax (4054761260.py, line 1)",
     "output_type": "error",
     "traceback": [
      "\u001B[0;36m  Cell \u001B[0;32mIn[193], line 1\u001B[0;36m\u001B[0m\n\u001B[0;31m    [0-9]{2,3}.[1-9]{4}[.]\u001B[0m\n\u001B[0m         ^\u001B[0m\n\u001B[0;31mSyntaxError\u001B[0m\u001B[0;31m:\u001B[0m invalid syntax\n"
     ]
    }
   ],
   "source": [
    "[0-9]{2,3}.[1-9]{4}[.]"
   ]
  },
  {
   "cell_type": "code",
   "execution_count": null,
   "metadata": {},
   "outputs": [],
   "source": [
    "# 정규식을 배울 것"
   ]
  }
 ],
 "metadata": {
  "kernelspec": {
   "display_name": "Python 3 (ipykernel)",
   "language": "python",
   "name": "python3"
  },
  "language_info": {
   "codemirror_mode": {
    "name": "ipython",
    "version": 3
   },
   "file_extension": ".py",
   "mimetype": "text/x-python",
   "name": "python",
   "nbconvert_exporter": "python",
   "pygments_lexer": "ipython3",
   "version": "3.10.9"
  },
  "toc": {
   "base_numbering": 1,
   "nav_menu": {},
   "number_sections": true,
   "sideBar": true,
   "skip_h1_title": false,
   "title_cell": "Table of Contents",
   "title_sidebar": "Contents",
   "toc_cell": false,
   "toc_position": {},
   "toc_section_display": true,
   "toc_window_display": false
  },
  "varInspector": {
   "cols": {
    "lenName": 16,
    "lenType": 16,
    "lenVar": 40
   },
   "kernels_config": {
    "python": {
     "delete_cmd_postfix": "",
     "delete_cmd_prefix": "del ",
     "library": "var_list.py",
     "varRefreshCmd": "print(var_dic_list())"
    },
    "r": {
     "delete_cmd_postfix": ") ",
     "delete_cmd_prefix": "rm(",
     "library": "var_list.r",
     "varRefreshCmd": "cat(var_dic_list()) "
    }
   },
   "types_to_exclude": [
    "module",
    "function",
    "builtin_function_or_method",
    "instance",
    "_Feature"
   ],
   "window_display": false
  }
 },
 "nbformat": 4,
 "nbformat_minor": 2
}
