{
 "cells": [
  {
   "cell_type": "code",
   "execution_count": 1,
   "metadata": {},
   "outputs": [
    {
     "data": {
      "text/plain": [
       "['False',\n",
       " 'None',\n",
       " 'True',\n",
       " 'and',\n",
       " 'as',\n",
       " 'assert',\n",
       " 'async',\n",
       " 'await',\n",
       " 'break',\n",
       " 'class',\n",
       " 'continue',\n",
       " 'def',\n",
       " 'del',\n",
       " 'elif',\n",
       " 'else',\n",
       " 'except',\n",
       " 'finally',\n",
       " 'for',\n",
       " 'from',\n",
       " 'global',\n",
       " 'if',\n",
       " 'import',\n",
       " 'in',\n",
       " 'is',\n",
       " 'lambda',\n",
       " 'nonlocal',\n",
       " 'not',\n",
       " 'or',\n",
       " 'pass',\n",
       " 'raise',\n",
       " 'return',\n",
       " 'try',\n",
       " 'while',\n",
       " 'with',\n",
       " 'yield']"
      ]
     },
     "execution_count": 1,
     "metadata": {},
     "output_type": "execute_result"
    }
   ],
   "source": [
    "import keyword\n",
    "keyword.kwlist"
   ]
  },
  {
   "cell_type": "code",
   "execution_count": 5,
   "metadata": {},
   "outputs": [],
   "source": [
    "class A:\n",
    "    x = 1  # 클래스 변수 -> 클래스가 쓰는 애가 클래스 변수\n",
    "    def a(self):\n",
    "        self.y = 2  # 인스턴스 변수 / 인스턴스 메소드\n",
    "        return 1"
   ]
  },
  {
   "cell_type": "code",
   "execution_count": 3,
   "metadata": {},
   "outputs": [],
   "source": [
    "# 인스턴스 메소드 / 인스턴스 변수\n",
    "a = A()  # 사용하기 위해서 인스턴스화\n",
    "# a 가 값"
   ]
  },
  {
   "cell_type": "code",
   "execution_count": 4,
   "metadata": {},
   "outputs": [],
   "source": [
    "# 여러개 만들어도 상관 없음\n",
    "b = A()"
   ]
  },
  {
   "cell_type": "code",
   "execution_count": 5,
   "metadata": {},
   "outputs": [],
   "source": [
    "# a, b 각각은 인스턴스. 즉, 데이터 타입은 하나이고, 인스턴스는 수많을 수 있음.\n",
    "# 대신 각각 인스턴스 마다 자기만의 데이터를 가질 수 있음 => consenting adult"
   ]
  },
  {
   "cell_type": "code",
   "execution_count": 6,
   "metadata": {},
   "outputs": [],
   "source": [
    "a.z = 3"
   ]
  },
  {
   "cell_type": "code",
   "execution_count": 7,
   "metadata": {},
   "outputs": [
    {
     "ename": "AttributeError",
     "evalue": "'A' object has no attribute 'z'",
     "output_type": "error",
     "traceback": [
      "\u001b[0;31m---------------------------------------------------------------------------\u001b[0m",
      "\u001b[0;31mAttributeError\u001b[0m                            Traceback (most recent call last)",
      "Cell \u001b[0;32mIn[7], line 1\u001b[0m\n\u001b[0;32m----> 1\u001b[0m b\u001b[39m.\u001b[39;49mz\n",
      "\u001b[0;31mAttributeError\u001b[0m: 'A' object has no attribute 'z'"
     ]
    }
   ],
   "source": [
    "b.z\n",
    "# attributeerror 점으로 접근했을 때 없는 것(dir 했을 때 없는 것)\n",
    "# 인스턴스 변수라는 것은 인스턴스 마다 가질 수 있음.\n",
    "# 클래스 변수는 공통적인 값을 가지는 것 -> 클래스는 하나 뿐이므로.\n",
    "# 인스턴스 변수는 인스턴스 마다 가짐.\n",
    "# 그래서 인스턴스 변수가 무엇인지 아는 명령어가 바로 vars()"
   ]
  },
  {
   "cell_type": "code",
   "execution_count": 9,
   "metadata": {},
   "outputs": [
    {
     "data": {
      "text/plain": [
       "{'z': 3}"
      ]
     },
     "execution_count": 9,
     "metadata": {},
     "output_type": "execute_result"
    }
   ],
   "source": [
    "vars(a)  # -> a 의 인스턴스 변수가 뭐에요"
   ]
  },
  {
   "cell_type": "code",
   "execution_count": null,
   "metadata": {},
   "outputs": [],
   "source": [
    "# 인스턴스 각각 마다 가질 수 있는 것이 인스턴스 변수.\n",
    "# vars() 라는 애를 쓰면 좋음"
   ]
  },
  {
   "cell_type": "code",
   "execution_count": 10,
   "metadata": {},
   "outputs": [
    {
     "data": {
      "text/plain": [
       "1"
      ]
     },
     "execution_count": 10,
     "metadata": {},
     "output_type": "execute_result"
    }
   ],
   "source": [
    "# 클래스 변수\n",
    "A.x"
   ]
  },
  {
   "cell_type": "code",
   "execution_count": 11,
   "metadata": {},
   "outputs": [
    {
     "ename": "AttributeError",
     "evalue": "'A' object has no attribute 'y'",
     "output_type": "error",
     "traceback": [
      "\u001b[0;31m---------------------------------------------------------------------------\u001b[0m",
      "\u001b[0;31mAttributeError\u001b[0m                            Traceback (most recent call last)",
      "Cell \u001b[0;32mIn[11], line 1\u001b[0m\n\u001b[0;32m----> 1\u001b[0m a\u001b[39m.\u001b[39;49my\n",
      "\u001b[0;31mAttributeError\u001b[0m: 'A' object has no attribute 'y'"
     ]
    }
   ],
   "source": [
    "a.y\n",
    "# 인스턴스 변수가 없어서 아래 에러가 남."
   ]
  },
  {
   "cell_type": "code",
   "execution_count": 12,
   "metadata": {},
   "outputs": [
    {
     "data": {
      "text/plain": [
       "1"
      ]
     },
     "execution_count": 12,
     "metadata": {},
     "output_type": "execute_result"
    }
   ],
   "source": [
    "a.x # 왜 값이 나올까?\n",
    "# vars()에 없었는데 나옴.\n",
    "# 이런 것을 delegate(델리게이트) -> 대신해주는 것. 위임자.\n",
    "# 프로그래밍을 위해서 자주 반복되는 것을 패턴 이라고 함.\n",
    "# 프로그래밍 할 때 자주 사용하는 패턴들이 몇 개 있음"
   ]
  },
  {
   "cell_type": "code",
   "execution_count": 13,
   "metadata": {},
   "outputs": [
    {
     "data": {
      "text/plain": [
       "1"
      ]
     },
     "execution_count": 13,
     "metadata": {},
     "output_type": "execute_result"
    }
   ],
   "source": [
    "# 첫번째 위임규칙\n",
    "a.x # a.x는 인스턴스 변수에 없음 -> 그러면 바로 attributeerror를 발생시키는 것이 아니라\n",
    "# 그 전에 클래스에 변수가 있는지 없는지 확인을 함\n",
    "# 인스턴스 마다 가질 수 있는 값이 인스턴스 변수인데, 인스턴스 변수가 있는지 없는지 물어볼 때 만약에 없으면\n",
    "# 바로 에러를 발생시키는 것이 아니라 우선 없으면 클래스에 확인하는 테크닉\n",
    "# 따라서 값이 1 이 나오는 이유가, a.x가 클래스에 있는 값을 가져왔기 때문"
   ]
  },
  {
   "cell_type": "code",
   "execution_count": null,
   "metadata": {},
   "outputs": [],
   "source": [
    "# 파이썬은 없을 때 뭐 해라 이렇게 처리하는 구문이 있음 => get attribute 라는 구문\n",
    "# 없으면 클래스에 물어보는 것(인스턴스 변수가)"
   ]
  },
  {
   "cell_type": "code",
   "execution_count": 14,
   "metadata": {},
   "outputs": [
    {
     "data": {
      "text/plain": [
       "140479119393008"
      ]
     },
     "execution_count": 14,
     "metadata": {},
     "output_type": "execute_result"
    }
   ],
   "source": [
    "id(a.x)"
   ]
  },
  {
   "cell_type": "code",
   "execution_count": 15,
   "metadata": {},
   "outputs": [
    {
     "data": {
      "text/plain": [
       "140479119393008"
      ]
     },
     "execution_count": 15,
     "metadata": {},
     "output_type": "execute_result"
    }
   ],
   "source": [
    "id(A.x)"
   ]
  },
  {
   "cell_type": "code",
   "execution_count": null,
   "metadata": {},
   "outputs": [],
   "source": [
    "# 위 두개가 메모리가 같은 이유는 같은 것이기 때문. -> 위임하는 것.\n",
    "# 에러가 나야하는데 그 전에 클래스한테 한 번 물어봐줘!\n",
    "# 상속에도 이런 개념이 나온다. delegation"
   ]
  },
  {
   "cell_type": "code",
   "execution_count": null,
   "metadata": {},
   "outputs": [],
   "source": [
    "# 이 delegation 때문에"
   ]
  },
  {
   "cell_type": "code",
   "execution_count": 16,
   "metadata": {},
   "outputs": [],
   "source": [
    "a.x = 'a'  # 인스턴스 변수 x 를 새로 생성하는 것"
   ]
  },
  {
   "cell_type": "code",
   "execution_count": 17,
   "metadata": {},
   "outputs": [
    {
     "data": {
      "text/plain": [
       "1"
      ]
     },
     "execution_count": 17,
     "metadata": {},
     "output_type": "execute_result"
    }
   ],
   "source": [
    "b.x # b 에게는 x가 존재하지 않았음. 그런데 왜 1?\n",
    "# a.x의 x는 클래스에 지정된 x가 아니라 인스턴스에 지정된 x"
   ]
  },
  {
   "cell_type": "code",
   "execution_count": 18,
   "metadata": {},
   "outputs": [
    {
     "data": {
      "text/plain": [
       "{'z': 3, 'x': 'a'}"
      ]
     },
     "execution_count": 18,
     "metadata": {},
     "output_type": "execute_result"
    }
   ],
   "source": [
    "# 그래서 다시 vars\n",
    "vars(a)"
   ]
  },
  {
   "cell_type": "code",
   "execution_count": 19,
   "metadata": {},
   "outputs": [
    {
     "data": {
      "text/plain": [
       "1"
      ]
     },
     "execution_count": 19,
     "metadata": {},
     "output_type": "execute_result"
    }
   ],
   "source": [
    "A.x\n",
    "# 클래스가 사용했기 때문에 클래스 변수"
   ]
  },
  {
   "cell_type": "code",
   "execution_count": 20,
   "metadata": {},
   "outputs": [
    {
     "data": {
      "text/plain": [
       "'b'"
      ]
     },
     "execution_count": 20,
     "metadata": {},
     "output_type": "execute_result"
    }
   ],
   "source": [
    "A.x = 'b'\n",
    "b.x"
   ]
  },
  {
   "cell_type": "code",
   "execution_count": null,
   "metadata": {},
   "outputs": [],
   "source": [
    "# 이 개념들을 알면, 조심해야 한다!! 특히 딥러닝 가면 레이어 공유를 많이 할텐데 조심해야 한다. "
   ]
  },
  {
   "cell_type": "code",
   "execution_count": 28,
   "metadata": {},
   "outputs": [],
   "source": [
    "class A:\n",
    "    x = 1 # 클래스 변수 -> 클래스가 쓰는 애가 클래스 변수\n",
    "    def a(self):\n",
    "        self.y = 2  # 인스턴스 변수(메소드 안에 정의)\n",
    "        return 1"
   ]
  },
  {
   "cell_type": "code",
   "execution_count": 29,
   "metadata": {},
   "outputs": [],
   "source": [
    "# 인스턴스 변수는 인스턴스마다 자기들만의 값을 가질 수 있음.\n",
    "aa = A()"
   ]
  },
  {
   "cell_type": "code",
   "execution_count": 30,
   "metadata": {},
   "outputs": [
    {
     "data": {
      "text/plain": [
       "{}"
      ]
     },
     "execution_count": 30,
     "metadata": {},
     "output_type": "execute_result"
    }
   ],
   "source": [
    "vars(aa)\n",
    "# 왜 인스턴스 변수인 y가 나오지 않을까?"
   ]
  },
  {
   "cell_type": "code",
   "execution_count": 31,
   "metadata": {},
   "outputs": [
    {
     "data": {
      "text/plain": [
       "1"
      ]
     },
     "execution_count": 31,
     "metadata": {},
     "output_type": "execute_result"
    }
   ],
   "source": [
    "# 파이썬의 인스턴스 변수는 메소드가 실행됨에 따라서 생성된다. 즉 동적으로 생성된다.\n",
    "aa.a()"
   ]
  },
  {
   "cell_type": "code",
   "execution_count": 32,
   "metadata": {},
   "outputs": [
    {
     "data": {
      "text/plain": [
       "{'y': 2}"
      ]
     },
     "execution_count": 32,
     "metadata": {},
     "output_type": "execute_result"
    }
   ],
   "source": [
    "vars(aa)\n",
    "# 이런 것들을 처음 생성할 때 만들어 놓음.\n",
    "# 인스턴스 변수를 미리 만들어 놓으면, 실행타이밍을 트래킹 하지 않아도 됨 -> initialize"
   ]
  },
  {
   "cell_type": "code",
   "execution_count": null,
   "metadata": {},
   "outputs": [],
   "source": [
    "# __init__ => ()를 할 때 실행되는 것"
   ]
  },
  {
   "cell_type": "code",
   "execution_count": 33,
   "metadata": {},
   "outputs": [],
   "source": [
    "class A:\n",
    "    def __init__(self): \n",
    "        self.x=1"
   ]
  },
  {
   "cell_type": "code",
   "execution_count": 34,
   "metadata": {},
   "outputs": [],
   "source": [
    "t = A()"
   ]
  },
  {
   "cell_type": "code",
   "execution_count": 35,
   "metadata": {},
   "outputs": [
    {
     "data": {
      "text/plain": [
       "{'x': 1}"
      ]
     },
     "execution_count": 35,
     "metadata": {},
     "output_type": "execute_result"
    }
   ],
   "source": [
    "vars(t)\n",
    "# 처음 만들자마자 인스턴스 변수를 썼기 때문에 1이 나옴."
   ]
  },
  {
   "cell_type": "code",
   "execution_count": null,
   "metadata": {},
   "outputs": [],
   "source": [
    "class A:\n",
    "    def __init__(self): \n",
    "        self.x=1"
   ]
  },
  {
   "cell_type": "code",
   "execution_count": null,
   "metadata": {},
   "outputs": [],
   "source": [
    "int # => Init signature => __init__ => 만들 때 이런 식으로 만들어라 라는 테크닉"
   ]
  },
  {
   "cell_type": "code",
   "execution_count": 36,
   "metadata": {},
   "outputs": [],
   "source": [
    "class B:\n",
    "    def __init__(self, x):\n",
    "        self.x = x"
   ]
  },
  {
   "cell_type": "code",
   "execution_count": 37,
   "metadata": {},
   "outputs": [],
   "source": [
    "x = B(3)"
   ]
  },
  {
   "cell_type": "code",
   "execution_count": 38,
   "metadata": {},
   "outputs": [
    {
     "data": {
      "text/plain": [
       "3"
      ]
     },
     "execution_count": 38,
     "metadata": {},
     "output_type": "execute_result"
    }
   ],
   "source": [
    "x.x"
   ]
  },
  {
   "cell_type": "code",
   "execution_count": 39,
   "metadata": {},
   "outputs": [],
   "source": [
    "y = B(4)"
   ]
  },
  {
   "cell_type": "code",
   "execution_count": 40,
   "metadata": {},
   "outputs": [
    {
     "data": {
      "text/plain": [
       "4"
      ]
     },
     "execution_count": 40,
     "metadata": {},
     "output_type": "execute_result"
    }
   ],
   "source": [
    "y.x"
   ]
  },
  {
   "cell_type": "code",
   "execution_count": 41,
   "metadata": {},
   "outputs": [
    {
     "data": {
      "text/plain": [
       "3.0"
      ]
     },
     "execution_count": 41,
     "metadata": {},
     "output_type": "execute_result"
    }
   ],
   "source": [
    "float(3)  # float 이라는 클래스에 3 집어 넣는 것은 __init__ 구문에 3 집어넣는 다는 것."
   ]
  },
  {
   "cell_type": "code",
   "execution_count": 43,
   "metadata": {},
   "outputs": [],
   "source": [
    "class float:\n",
    "    def __init__(self, x=0, /):\n",
    "        pass"
   ]
  },
  {
   "cell_type": "code",
   "execution_count": null,
   "metadata": {},
   "outputs": [],
   "source": [
    "float"
   ]
  },
  {
   "cell_type": "code",
   "execution_count": null,
   "metadata": {},
   "outputs": [],
   "source": [
    "# __init__의 리턴은 무조건 None 이어야 한다."
   ]
  },
  {
   "cell_type": "code",
   "execution_count": 6,
   "metadata": {},
   "outputs": [],
   "source": [
    "class B:\n",
    "    def __init__(self, x):\n",
    "        self.x = x\n",
    "        return 3"
   ]
  },
  {
   "cell_type": "code",
   "execution_count": 7,
   "metadata": {},
   "outputs": [
    {
     "ename": "TypeError",
     "evalue": "__init__() should return None, not 'int'",
     "output_type": "error",
     "traceback": [
      "\u001b[0;31m---------------------------------------------------------------------------\u001b[0m",
      "\u001b[0;31mTypeError\u001b[0m                                 Traceback (most recent call last)",
      "Cell \u001b[0;32mIn[7], line 1\u001b[0m\n\u001b[0;32m----> 1\u001b[0m x \u001b[39m=\u001b[39m B(\u001b[39m3\u001b[39;49m)\n",
      "\u001b[0;31mTypeError\u001b[0m: __init__() should return None, not 'int'"
     ]
    }
   ],
   "source": [
    "x = B(3)"
   ]
  },
  {
   "cell_type": "code",
   "execution_count": null,
   "metadata": {},
   "outputs": [],
   "source": [
    "# 왜 리턴을 안쓰냐고 물어본다면, __new__ 를 같이 알아야 한다."
   ]
  },
  {
   "cell_type": "code",
   "execution_count": null,
   "metadata": {},
   "outputs": [],
   "source": [
    "# 한번 더 하기 __init__ 복습\n",
    "# 동적으로 메소드 실행할 때마다 뭐가 생김 -> 파이썬의 consenting adult 때문에.\n",
    "# 그래서 __init__에 관례상 다 박아 놓음. 처음에 다 뭐가 생기게 만들어 놓기 위해서"
   ]
  },
  {
   "cell_type": "code",
   "execution_count": 46,
   "metadata": {},
   "outputs": [],
   "source": [
    "class X:\n",
    "    pass"
   ]
  },
  {
   "cell_type": "code",
   "execution_count": 47,
   "metadata": {},
   "outputs": [],
   "source": [
    "x = X()\n",
    "# __init__ 없음 => 이 동네의 조상은 object\n"
   ]
  },
  {
   "cell_type": "code",
   "execution_count": null,
   "metadata": {},
   "outputs": [],
   "source": [
    "class X(object):\n",
    "    pass\n",
    "# 즉 ()안이 비어있으면 object에 상속이 됨.\n",
    "# 그렇다는 것은 object 안에 있는 __init__ 를 쓰는 것"
   ]
  },
  {
   "cell_type": "code",
   "execution_count": 48,
   "metadata": {},
   "outputs": [
    {
     "data": {
      "text/plain": [
       "['__class__',\n",
       " '__delattr__',\n",
       " '__dir__',\n",
       " '__doc__',\n",
       " '__eq__',\n",
       " '__format__',\n",
       " '__ge__',\n",
       " '__getattribute__',\n",
       " '__gt__',\n",
       " '__hash__',\n",
       " '__init__',\n",
       " '__init_subclass__',\n",
       " '__le__',\n",
       " '__lt__',\n",
       " '__ne__',\n",
       " '__new__',\n",
       " '__reduce__',\n",
       " '__reduce_ex__',\n",
       " '__repr__',\n",
       " '__setattr__',\n",
       " '__sizeof__',\n",
       " '__str__',\n",
       " '__subclasshook__']"
      ]
     },
     "execution_count": 48,
     "metadata": {},
     "output_type": "execute_result"
    }
   ],
   "source": [
    "dir(object)"
   ]
  },
  {
   "cell_type": "code",
   "execution_count": null,
   "metadata": {},
   "outputs": [],
   "source": [
    "class x(base): # 이것의 의미는 base를 상속한다는 의미"
   ]
  },
  {
   "cell_type": "code",
   "execution_count": 49,
   "metadata": {},
   "outputs": [],
   "source": [
    "# 그렇다면 모든 파이썬의 클래스는 __init__ 가 미리 만들어져 있다는 것.\n",
    "# 기본이 아무것도 집어넣지 않게 만들어져 있음\n",
    "x = X()"
   ]
  },
  {
   "cell_type": "code",
   "execution_count": 50,
   "metadata": {},
   "outputs": [],
   "source": [
    "# 인스턴스 x라는 애가 가지는 a라는 변수를 만드는 것\n",
    "x.a = 1"
   ]
  },
  {
   "cell_type": "code",
   "execution_count": 51,
   "metadata": {},
   "outputs": [],
   "source": [
    "y = X()"
   ]
  },
  {
   "cell_type": "code",
   "execution_count": null,
   "metadata": {},
   "outputs": [],
   "source": [
    "# 여기서 y는 a라는 변수가 없음. 위에서 새로 만들어서 각자 가짐\n",
    "y.a"
   ]
  },
  {
   "cell_type": "code",
   "execution_count": 52,
   "metadata": {},
   "outputs": [],
   "source": [
    "class X(object):\n",
    "    def __init__(self, a):\n",
    "        self.a = a"
   ]
  },
  {
   "cell_type": "code",
   "execution_count": 53,
   "metadata": {},
   "outputs": [
    {
     "ename": "TypeError",
     "evalue": "X.__init__() missing 1 required positional argument: 'a'",
     "output_type": "error",
     "traceback": [
      "\u001b[0;31m---------------------------------------------------------------------------\u001b[0m",
      "\u001b[0;31mTypeError\u001b[0m                                 Traceback (most recent call last)",
      "Cell \u001b[0;32mIn[53], line 2\u001b[0m\n\u001b[1;32m      1\u001b[0m \u001b[39m# __init__ 는 괄호붙힐 때 실행됨\u001b[39;00m\n\u001b[0;32m----> 2\u001b[0m t \u001b[39m=\u001b[39m X()\n",
      "\u001b[0;31mTypeError\u001b[0m: X.__init__() missing 1 required positional argument: 'a'"
     ]
    }
   ],
   "source": [
    "# __init__ 는 괄호붙힐 때 실행됨\n",
    "t = X() # 이거는 안됨\n",
    "# __init__가 () 때문에 실행되는데 인자가 self 빼고 하나 더 필요했기 때문에."
   ]
  },
  {
   "cell_type": "code",
   "execution_count": 54,
   "metadata": {},
   "outputs": [],
   "source": [
    "t = X(3)\n",
    "# self.a 가 3이 되는 것.\n",
    "# self는 위에서 t와 같음"
   ]
  },
  {
   "cell_type": "code",
   "execution_count": null,
   "metadata": {},
   "outputs": [],
   "source": [
    "# 즉\n",
    "t.a = 3 # 을 실행하는 것 (내부적으로)"
   ]
  },
  {
   "cell_type": "code",
   "execution_count": 55,
   "metadata": {},
   "outputs": [
    {
     "data": {
      "text/plain": [
       "{'a': 3}"
      ]
     },
     "execution_count": 55,
     "metadata": {},
     "output_type": "execute_result"
    }
   ],
   "source": [
    "# 그래서 vars()에서 나오는 것\n",
    "vars(t)"
   ]
  },
  {
   "cell_type": "code",
   "execution_count": null,
   "metadata": {},
   "outputs": [],
   "source": [
    "# 이제 list를 도전\n",
    "list # Init signature => __init__에 이렇게 넣으라는 것\n",
    "# list는 iterable을 집어넣어야 함\n",
    "# positional 방식으로 넣어야 함. / 앞이기 때문"
   ]
  },
  {
   "cell_type": "code",
   "execution_count": 56,
   "metadata": {},
   "outputs": [
    {
     "data": {
      "text/plain": [
       "[2, 3, 4]"
      ]
     },
     "execution_count": 56,
     "metadata": {},
     "output_type": "execute_result"
    }
   ],
   "source": [
    "list({2,3,4}) # {2,3,4} 가 iterator가 되서 한개씩 뽑아서 list를 만들어 줌"
   ]
  },
  {
   "cell_type": "code",
   "execution_count": 57,
   "metadata": {},
   "outputs": [],
   "source": [
    "class X(object):\n",
    "    def __new__(self):\n",
    "        print('new')\n",
    "    def __init__(self):  # 생성자(constructor) -> 객체를 생성할 때 실행되는 것\n",
    "        print('init')  # return None 이어야 함"
   ]
  },
  {
   "cell_type": "code",
   "execution_count": 58,
   "metadata": {},
   "outputs": [
    {
     "name": "stdout",
     "output_type": "stream",
     "text": [
      "new\n"
     ]
    }
   ],
   "source": [
    "b = X() # ()를 때리면 __init__ 가 실행됨 -> 인스턴스가 됨. -> 인스턴스에 인스턴스() 할 수 있는 것은 __call__이 정의되었기 때문"
   ]
  },
  {
   "cell_type": "code",
   "execution_count": null,
   "metadata": {},
   "outputs": [],
   "source": [
    "# 그런데 위에서 __new__가 실행이 됨\n",
    "# 인스턴스에 없으면 클래스를 먼저 찾음. 클래스에 없으면 에러 발생\n",
    "# __init__를 부를 때 제일 먼저 __new__에서 리턴값을 줌. -> 즉 __init__ 실행 전에 __new__를 실행한다는 것.\n",
    "# 즉, __new__에 리턴이 있기 때문에, __init__에 없는 것"
   ]
  },
  {
   "cell_type": "code",
   "execution_count": 61,
   "metadata": {},
   "outputs": [],
   "source": [
    "class X(object):\n",
    "    def __new__(cls):\n",
    "        print('new')\n",
    "        return super().__new__(cls)\n",
    "    def __init__(self):  # 생성자(constructor) -> 객체를 생성할 때 실행되는 것\n",
    "        print('init')  # return None 이어야 함"
   ]
  },
  {
   "cell_type": "code",
   "execution_count": 62,
   "metadata": {},
   "outputs": [
    {
     "name": "stdout",
     "output_type": "stream",
     "text": [
      "new\n",
      "init\n"
     ]
    }
   ],
   "source": [
    "b = X()"
   ]
  },
  {
   "cell_type": "code",
   "execution_count": null,
   "metadata": {},
   "outputs": [],
   "source": [
    "# 즉 __new__에 리턴이 있으니까 아래에 __init__ 것도 출력됨(실행되었다는 뜻).\n",
    "# __new__가 먼저 실행되어 객체를 만들고 무조건 리턴값을 준다. 그 다음 그 리턴값을 __init__가 실행되어 초기화됨.\n",
    "# __new__ 는 무조건 리턴이 있어야 함. __new__로 새로 만든 애를 __init__로 값을 주는 것 => 관심집중"
   ]
  },
  {
   "cell_type": "code",
   "execution_count": null,
   "metadata": {},
   "outputs": [],
   "source": [
    "# 함수형 패러다임은 결과값을 합성함수(함수에 함수의 결과값 넣고...) 형태로 줌"
   ]
  },
  {
   "cell_type": "code",
   "execution_count": null,
   "metadata": {},
   "outputs": [],
   "source": [
    "# 우리 눈에 안보이지만 __init__ 가 __new__를 실행하게 만듦"
   ]
  },
  {
   "cell_type": "code",
   "execution_count": null,
   "metadata": {},
   "outputs": [],
   "source": [
    "# 함수형 패러다임으로 다시 돌아가기\n",
    "# 함수형 프로그래밍의 프로그래밍 방식은 합성함수가 기본이다.\n",
    "# recursion 도 합성함수"
   ]
  },
  {
   "cell_type": "code",
   "execution_count": null,
   "metadata": {},
   "outputs": [],
   "source": [
    "# ()괄호도 연산자\n",
    "# 파이썬에서는 연산자를 연산하는 것이 내부적으로는 정의된 함수를 실행하는 것\n",
    "# __lshift__  가 정의되어 있으면 << 를 쓸 수 있어요 => 덕 타이핑.\n",
    "# 특정한 것을 정의했기 때문에 사용할 수 있는 애로 간주하는 것 => 덕 타이핑."
   ]
  },
  {
   "cell_type": "code",
   "execution_count": null,
   "metadata": {},
   "outputs": [],
   "source": [
    "# 프로퍼티 라는 디스크립터를 사용했더니 callable을 callable 아닌 애로 만들어 줌.\n",
    "# 이를 데코레이터 라고 함\n",
    "# 책 다음 파트에 @staticmethod 가 등장함"
   ]
  },
  {
   "cell_type": "code",
   "execution_count": 63,
   "metadata": {},
   "outputs": [],
   "source": [
    "# name space \n",
    "# 어제 예시\n",
    "class B:\n",
    "    def x(self):\n",
    "        return 1"
   ]
  },
  {
   "cell_type": "code",
   "execution_count": 64,
   "metadata": {},
   "outputs": [],
   "source": [
    "b = B()"
   ]
  },
  {
   "cell_type": "code",
   "execution_count": 69,
   "metadata": {},
   "outputs": [
    {
     "data": {
      "text/plain": [
       "1"
      ]
     },
     "execution_count": 69,
     "metadata": {},
     "output_type": "execute_result"
    }
   ],
   "source": [
    "b.x() # 이게 메소드 방식\n",
    "# self가 두개 중복되니까, 메소드로 사용할 때는 self 없애라고 했음"
   ]
  },
  {
   "cell_type": "code",
   "execution_count": 68,
   "metadata": {},
   "outputs": [
    {
     "data": {
      "text/plain": [
       "1"
      ]
     },
     "execution_count": 68,
     "metadata": {},
     "output_type": "execute_result"
    }
   ],
   "source": [
    "B.x(b) # 이것은 함수. \n",
    "# 보통 함수하고 다름. B라는 name space 안에만 사용하는 함수임"
   ]
  },
  {
   "cell_type": "code",
   "execution_count": null,
   "metadata": {},
   "outputs": [],
   "source": [
    "# B라는 이름 안에서만 실행되는 함수 => name space"
   ]
  },
  {
   "cell_type": "code",
   "execution_count": null,
   "metadata": {},
   "outputs": [],
   "source": [
    "# 그냥 함수를 만들 때 문제점?\n",
    "# 관리하기 어려움.\n",
    "# B 안에 정의된 함수 처럼 만들면 쉬움 -> 그 때 쓰는게 static method\n",
    "# 수학 안에 정의된 함수 느낌"
   ]
  },
  {
   "cell_type": "code",
   "execution_count": 70,
   "metadata": {},
   "outputs": [],
   "source": [
    "# name space \n",
    "# 어제 예시\n",
    "class Math:\n",
    "    def x(self):\n",
    "        return 1\n",
    "    \n",
    "    @staticmethod  # 메소드 아니고 함수하고 똑같음. 함수인데 클래스 안에 집어넣어서 클래스 이름으로 접근할 수 있게 해주는 것.\n",
    "                   # 그래서 self 쓰면 안됨\n",
    "    def cos():  # 첫번째 인자가 자기 자신이 아니라는 것\n",
    "        print('a')\n",
    "        \n",
    "# 이렇게 만들면 Math.cos 이렇게 쓸 수 있음 -> categorization 이 용이함.\n",
    "# name space 기능"
   ]
  },
  {
   "cell_type": "code",
   "execution_count": 71,
   "metadata": {},
   "outputs": [
    {
     "name": "stdout",
     "output_type": "stream",
     "text": [
      "a\n"
     ]
    }
   ],
   "source": [
    "# staticmethod\n",
    "Math.cos() "
   ]
  },
  {
   "cell_type": "code",
   "execution_count": 72,
   "metadata": {},
   "outputs": [],
   "source": [
    "b = Math() # 인스턴스는 사용할 수 있을까?"
   ]
  },
  {
   "cell_type": "code",
   "execution_count": 73,
   "metadata": {},
   "outputs": [
    {
     "name": "stdout",
     "output_type": "stream",
     "text": [
      "a\n"
     ]
    }
   ],
   "source": [
    "b.cos() # 인스턴스에 없으면 클래스를 찾음 그래서 이것도 사용할 수 있음"
   ]
  },
  {
   "cell_type": "code",
   "execution_count": null,
   "metadata": {},
   "outputs": [],
   "source": [
    "# @staticmethod 는\n",
    "# 왜 셀프가 없을까\n",
    "# 구조화. 함수 관리 용이. 뭐가 뭘 뜻하는지 "
   ]
  },
  {
   "cell_type": "code",
   "execution_count": null,
   "metadata": {},
   "outputs": [],
   "source": [
    "# property, staticmethod, classmethod => 이를 보통 삼총사라고 함"
   ]
  },
  {
   "cell_type": "code",
   "execution_count": 78,
   "metadata": {},
   "outputs": [],
   "source": [
    "# class method  -> class 가 쓰는 것\n",
    "class T:\n",
    "    @classmethod\n",
    "    def xx(cls):  # 관례\n",
    "        cls.ss = 1\n",
    "        print('a')"
   ]
  },
  {
   "cell_type": "code",
   "execution_count": null,
   "metadata": {},
   "outputs": [],
   "source": [
    "# 왜 클래스가 실제 값을 가질 수 있는가?\n",
    "# 파이썬은 메타클래스라는 개념이 있기 때문에.\n",
    "# 메타클래스 입장에서 클래스는 인스턴스이기 때문\n",
    "# 클래스는 자료형. 위에 따르면 또한 클래스는 값이 됨."
   ]
  },
  {
   "cell_type": "code",
   "execution_count": 79,
   "metadata": {},
   "outputs": [
    {
     "name": "stdout",
     "output_type": "stream",
     "text": [
      "a\n"
     ]
    }
   ],
   "source": [
    "T.xx()\n",
    "# ()안에 클래스를 써야할까 말아야 할까 => 집어넣지 않음"
   ]
  },
  {
   "cell_type": "code",
   "execution_count": null,
   "metadata": {},
   "outputs": [],
   "source": [
    "# 그렇다면 왜 안집어넣어야 할까?\n",
    "# 인스턴스가 인스턴스 메소드 쓸 때와 클래스가 클래스 메소드 쓸 때가 같음.\n",
    "# 그래서 첫번째 인자를 생략하는 것"
   ]
  },
  {
   "cell_type": "code",
   "execution_count": 81,
   "metadata": {},
   "outputs": [],
   "source": [
    "a = T()"
   ]
  },
  {
   "cell_type": "code",
   "execution_count": 82,
   "metadata": {},
   "outputs": [
    {
     "data": {
      "text/plain": [
       "{}"
      ]
     },
     "execution_count": 82,
     "metadata": {},
     "output_type": "execute_result"
    }
   ],
   "source": [
    "vars(a)\n",
    "# 아무것도 없음"
   ]
  },
  {
   "cell_type": "code",
   "execution_count": 83,
   "metadata": {},
   "outputs": [
    {
     "name": "stdout",
     "output_type": "stream",
     "text": [
      "a\n"
     ]
    }
   ],
   "source": [
    "a.xx() # 인스턴스가 클래스 메소드 쓸 수 있을까?\n",
    "# 인스턴스에 xx가 없으면 클래스거를 찾음. \n",
    "# 그렇다면 () 안에 집어넣어야 할까? -> 안 집어넣음"
   ]
  },
  {
   "cell_type": "code",
   "execution_count": 84,
   "metadata": {},
   "outputs": [
    {
     "data": {
      "text/plain": [
       "{}"
      ]
     },
     "execution_count": 84,
     "metadata": {},
     "output_type": "execute_result"
    }
   ],
   "source": [
    "vars(a)\n",
    "# 그러나 vars() 하면 아무것도 안 생김."
   ]
  },
  {
   "cell_type": "code",
   "execution_count": 85,
   "metadata": {},
   "outputs": [
    {
     "data": {
      "text/plain": [
       "1"
      ]
     },
     "execution_count": 85,
     "metadata": {},
     "output_type": "execute_result"
    }
   ],
   "source": [
    "T.ss\n",
    "# 클래스 메소드 안에 정의된 변수는 클래스로 변화된다."
   ]
  },
  {
   "cell_type": "code",
   "execution_count": 87,
   "metadata": {},
   "outputs": [
    {
     "name": "stdout",
     "output_type": "stream",
     "text": [
      "Collecting pandas\n",
      "  Downloading pandas-1.5.3-cp310-cp310-macosx_10_9_x86_64.whl (12.0 MB)\n",
      "\u001b[2K     \u001b[38;2;114;156;31m━━━━━━━━━━━━━━━━━━━━━━━━━━━━━━━━━━━━━━━━\u001b[0m \u001b[32m12.0/12.0 MB\u001b[0m \u001b[31m10.5 MB/s\u001b[0m eta \u001b[36m0:00:00\u001b[0mm eta \u001b[36m0:00:01\u001b[0m0:01\u001b[0m:01\u001b[0m\n",
      "\u001b[?25hRequirement already satisfied: numpy>=1.21.0 in /Users/baekkwanghyun/miniconda3/lib/python3.10/site-packages (from pandas) (1.24.2)\n",
      "Requirement already satisfied: pytz>=2020.1 in /Users/baekkwanghyun/miniconda3/lib/python3.10/site-packages (from pandas) (2022.7)\n",
      "Requirement already satisfied: python-dateutil>=2.8.1 in /Users/baekkwanghyun/miniconda3/lib/python3.10/site-packages (from pandas) (2.8.2)\n",
      "Requirement already satisfied: six>=1.5 in /Users/baekkwanghyun/miniconda3/lib/python3.10/site-packages (from python-dateutil>=2.8.1->pandas) (1.16.0)\n",
      "Installing collected packages: pandas\n",
      "Successfully installed pandas-1.5.3\n"
     ]
    }
   ],
   "source": [
    "!pip install pandas"
   ]
  },
  {
   "cell_type": "code",
   "execution_count": 8,
   "metadata": {},
   "outputs": [],
   "source": [
    "import pandas as pd"
   ]
  },
  {
   "cell_type": "code",
   "execution_count": 89,
   "metadata": {},
   "outputs": [
    {
     "data": {
      "text/plain": [
       "<bound method DataFrame.from_dict of <class 'pandas.core.frame.DataFrame'>>"
      ]
     },
     "execution_count": 89,
     "metadata": {},
     "output_type": "execute_result"
    }
   ],
   "source": [
    "pd.DataFrame.from_dict\n",
    "# DataFrame 은 카멜 방식으로 클래스\n",
    "# 그렇다면 from_dict 는 클래스 메소드"
   ]
  },
  {
   "cell_type": "code",
   "execution_count": null,
   "metadata": {},
   "outputs": [],
   "source": [
    "# 지금까지 삼총사 => property, classmethod, staticmethod\n",
    "# 이 삼총사의 근원적 애들인 @ <- decorator 를 안배움."
   ]
  },
  {
   "cell_type": "code",
   "execution_count": null,
   "metadata": {},
   "outputs": [],
   "source": [
    "# 함수형 패러다임.\n",
    "# 괄호를 붙히는 애들.\n",
    "# function 과 method\n",
    "# 이제 이 다음은 generator function 이 나옴"
   ]
  },
  {
   "cell_type": "code",
   "execution_count": null,
   "metadata": {},
   "outputs": [],
   "source": [
    "# delegate = dispatch 라고 함. 미묘하게 다름\n",
    "# __init__ 도 내부적으로 __new__를 먼저 실행시킴.\n",
    "# __new__를 먼저 실행시킨다는 것은?"
   ]
  },
  {
   "cell_type": "code",
   "execution_count": null,
   "metadata": {},
   "outputs": [],
   "source": [
    "b = Math() # 인스턴스를 만드는 것. 클래스는 자료형. 이 라인은 그 자료형에 맞는 값을 만든다는 것.\n",
    "# 값을 만든다는 것은 리턴이 되어야 한다는 것.\n",
    "# 그러나 __init__에는 리턴을 못쓰게 되어 있음\n",
    "# 그렇다면 __init__에서 리턴하는게 아니라 그 전에 리턴하는 애가 있다는 것.\n",
    "# ()를 하는 순간 실제 코드는 __new__ 에서 b를 먼저 만들고 나서 리턴된 b를 __init__에서 초기화 시킴(2단계 구조)\n",
    "# 만드는 것과 초기화를 분리시킴. 만드는 것은 복잡한 과정을 거치기 때문에 일반인이 건들 필요가 없음.\n",
    "# 객체를 어떨 때 손을 댈까? __new__를 어떤 때에 손을 댈까?"
   ]
  },
  {
   "cell_type": "code",
   "execution_count": null,
   "metadata": {},
   "outputs": [],
   "source": [
    "# 클래스는 객체를 무한정 만들 수 있음.\n",
    "# __new__ 를 조작해서 객체를 딱 하나만 만들게 할 수 있음"
   ]
  },
  {
   "cell_type": "code",
   "execution_count": null,
   "metadata": {},
   "outputs": [],
   "source": [
    "# Generator"
   ]
  },
  {
   "cell_type": "code",
   "execution_count": 90,
   "metadata": {},
   "outputs": [],
   "source": [
    "from itertools import combinations\n",
    "# 함수형 패러다임과 관련된 라이브러리는 3개가 있음\n",
    "# itertools -> 이걸로 yield 의 개념을 공부\n",
    "# functools\n",
    "# operator\n",
    "# 함수형 패러다임 배웠던 특징은\n",
    "# iterator, generator, comprehension"
   ]
  },
  {
   "cell_type": "code",
   "execution_count": 96,
   "metadata": {},
   "outputs": [],
   "source": [
    "# import 는 남의 거 가져다 쓰는 것\n",
    "# 처음보면 스캔 한 번 하는 것이 좋음 => dir 또는 help 보는 것이 중요\n",
    "b = combinations([1,2,3,4], 3)\n",
    "# combinations 는 함수일까 클래스일까?\n",
    "# init 와 Type: type 이라는 것은 클래스\n",
    "# 클래스는 사용하기 위해서 인스턴스화 해야 함.\n",
    "# 왜 카멜 방식으로 안했을까? -> 파이썬의 빌트인이나 라이브러리는 일부로 카멜 방식을 안지키는 것이 많음.\n",
    "# 인자 개수는 2개, iterable 과 r\n",
    "# combination은 nCr\n",
    "# iterable인 애들은 결과가 iterator로 나옴.\n",
    "# 그 뜻은 next()해야 결과가 나옴"
   ]
  },
  {
   "cell_type": "code",
   "execution_count": 94,
   "metadata": {},
   "outputs": [
    {
     "data": {
      "text/plain": [
       "(1, 3, 4)"
      ]
     },
     "execution_count": 94,
     "metadata": {},
     "output_type": "execute_result"
    }
   ],
   "source": [
    "next(b)"
   ]
  },
  {
   "cell_type": "code",
   "execution_count": 97,
   "metadata": {},
   "outputs": [
    {
     "data": {
      "text/plain": [
       "[(1, 2, 3), (1, 2, 4), (1, 3, 4), (2, 3, 4)]"
      ]
     },
     "execution_count": 97,
     "metadata": {},
     "output_type": "execute_result"
    }
   ],
   "source": [
    "# 결과물 한번에 보는 방법\n",
    "list(b)"
   ]
  },
  {
   "cell_type": "code",
   "execution_count": 98,
   "metadata": {},
   "outputs": [],
   "source": [
    "from itertools import cycle"
   ]
  },
  {
   "cell_type": "code",
   "execution_count": null,
   "metadata": {},
   "outputs": [],
   "source": [
    "# 기본 라이브러리에서는 카멜 방식을 안지키는 경우가 많음 -> 대표적으로 int"
   ]
  },
  {
   "cell_type": "code",
   "execution_count": 103,
   "metadata": {},
   "outputs": [],
   "source": [
    "b = cycle([1,2,3])"
   ]
  },
  {
   "cell_type": "code",
   "execution_count": 113,
   "metadata": {},
   "outputs": [
    {
     "data": {
      "text/plain": [
       "1"
      ]
     },
     "execution_count": 113,
     "metadata": {},
     "output_type": "execute_result"
    }
   ],
   "source": [
    "next(b)"
   ]
  },
  {
   "cell_type": "code",
   "execution_count": 114,
   "metadata": {},
   "outputs": [],
   "source": [
    "from itertools import count"
   ]
  },
  {
   "cell_type": "code",
   "execution_count": 115,
   "metadata": {},
   "outputs": [],
   "source": [
    "# 우리는 지금 yield 배움.\n",
    "# 이것은 무한루프하고 연관됨\n",
    "b = count()  # 인자로 아무것도 안 넣어줘도 되고, 두 개 까지 넣어도 됨. default가 있기 때문"
   ]
  },
  {
   "cell_type": "code",
   "execution_count": 134,
   "metadata": {},
   "outputs": [
    {
     "data": {
      "text/plain": [
       "18"
      ]
     },
     "execution_count": 134,
     "metadata": {},
     "output_type": "execute_result"
    }
   ],
   "source": [
    "next(b)"
   ]
  },
  {
   "cell_type": "code",
   "execution_count": 135,
   "metadata": {},
   "outputs": [],
   "source": [
    "b = count(step=2)"
   ]
  },
  {
   "cell_type": "code",
   "execution_count": 138,
   "metadata": {},
   "outputs": [
    {
     "data": {
      "text/plain": [
       "4"
      ]
     },
     "execution_count": 138,
     "metadata": {},
     "output_type": "execute_result"
    }
   ],
   "source": [
    "next(b)"
   ]
  },
  {
   "cell_type": "code",
   "execution_count": null,
   "metadata": {},
   "outputs": [],
   "source": [
    "# 원리만 알고 있으면 라이브러리 하는 것은 별 거 아니다!!"
   ]
  },
  {
   "cell_type": "code",
   "execution_count": null,
   "metadata": {},
   "outputs": [],
   "source": [
    "# itertools 의 설명 다 볼 수 있을까?"
   ]
  },
  {
   "cell_type": "code",
   "execution_count": 139,
   "metadata": {},
   "outputs": [
    {
     "data": {
      "text/plain": [
       "zip"
      ]
     },
     "execution_count": 139,
     "metadata": {},
     "output_type": "execute_result"
    }
   ],
   "source": [
    "zip   # 엄청 많이 씀\n",
    "# 파이토치, 텐서플로에 많이 쓰임\n",
    "# zip은 묶어 주는 애"
   ]
  },
  {
   "cell_type": "code",
   "execution_count": 148,
   "metadata": {},
   "outputs": [],
   "source": [
    "c = zip([1,2,3,4], [4,5,6]) # iterable 집어넣으면 항상 iterator => next"
   ]
  },
  {
   "cell_type": "code",
   "execution_count": 152,
   "metadata": {},
   "outputs": [
    {
     "ename": "StopIteration",
     "evalue": "",
     "output_type": "error",
     "traceback": [
      "\u001b[0;31m---------------------------------------------------------------------------\u001b[0m",
      "\u001b[0;31mStopIteration\u001b[0m                             Traceback (most recent call last)",
      "Cell \u001b[0;32mIn[152], line 1\u001b[0m\n\u001b[0;32m----> 1\u001b[0m \u001b[39mnext\u001b[39;49m(c)\n",
      "\u001b[0;31mStopIteration\u001b[0m: "
     ]
    }
   ],
   "source": [
    "next(c)"
   ]
  },
  {
   "cell_type": "code",
   "execution_count": null,
   "metadata": {},
   "outputs": [],
   "source": [
    "# zip의 문제점. 짝지가 안맞으면?\n",
    "# 제일 멀리 있는 짝지가 없는 애를 버려버림. 그래서 itertools 에 zip_longest가 있음"
   ]
  },
  {
   "cell_type": "code",
   "execution_count": 153,
   "metadata": {},
   "outputs": [],
   "source": [
    "from itertools import zip_longest"
   ]
  },
  {
   "cell_type": "code",
   "execution_count": 154,
   "metadata": {},
   "outputs": [],
   "source": [
    "c = zip_longest([1,2,3,4], [4,5,6])\n",
    "# 제일 멀리 있는 짝지 없는 애 안 버림"
   ]
  },
  {
   "cell_type": "code",
   "execution_count": 158,
   "metadata": {},
   "outputs": [
    {
     "data": {
      "text/plain": [
       "(4, None)"
      ]
     },
     "execution_count": 158,
     "metadata": {},
     "output_type": "execute_result"
    }
   ],
   "source": [
    "# None 을 가져옴.\n",
    "next(c)"
   ]
  },
  {
   "cell_type": "code",
   "execution_count": null,
   "metadata": {},
   "outputs": [],
   "source": [
    "# 프로그래밍할 때 반복문에 itertools 많이 사용함. \n",
    "# 이것을 많이 사용하다보면 iterator, generator 굉장히 쉬워짐."
   ]
  },
  {
   "cell_type": "code",
   "execution_count": null,
   "metadata": {},
   "outputs": [],
   "source": [
    "# 원리를 알고 연습하는 것이 중요함"
   ]
  },
  {
   "cell_type": "code",
   "execution_count": null,
   "metadata": {},
   "outputs": [],
   "source": [
    "# itertools -> \n",
    "# functools ->\n",
    "# operator -> 연산자. 모든 연산자는 연산자처럼 보이지만 그에 상응하는 어떤 메소드가 실행된 것. ()는 __Init__가 실행된 것"
   ]
  },
  {
   "cell_type": "code",
   "execution_count": null,
   "metadata": {},
   "outputs": [],
   "source": [
    "# 함수형 프로그램은 합성함수 원리로 프로그래밍.\n",
    "# 문제가 생김 -> 1+1 은 함수가 아닌데?\n",
    "# 그래서 함수형 패러다임에서는 모든 연산자를 operator 함수로 만들어 놓음"
   ]
  },
  {
   "cell_type": "code",
   "execution_count": 159,
   "metadata": {},
   "outputs": [],
   "source": [
    "from operator import add"
   ]
  },
  {
   "cell_type": "code",
   "execution_count": 160,
   "metadata": {},
   "outputs": [
    {
     "data": {
      "text/plain": [
       "2"
      ]
     },
     "execution_count": 160,
     "metadata": {},
     "output_type": "execute_result"
    }
   ],
   "source": [
    "add(1, 1)"
   ]
  },
  {
   "cell_type": "code",
   "execution_count": null,
   "metadata": {},
   "outputs": [],
   "source": [
    "# 즉 이 라이브러리를 이용하면 연산자를 하나도 사용하지 않고 코딩할 수 있음.\n",
    "# 함수로 만들어 놓으면 별 걸 다 할 수 있음"
   ]
  },
  {
   "cell_type": "code",
   "execution_count": 1,
   "metadata": {
    "ExecuteTime": {
     "end_time": "2023-03-14T14:21:39.682375Z",
     "start_time": "2023-03-14T14:21:39.676900Z"
    }
   },
   "outputs": [],
   "source": [
    "from functools import partial"
   ]
  },
  {
   "cell_type": "code",
   "execution_count": 164,
   "metadata": {},
   "outputs": [],
   "source": [
    "add2 = partial(add, 2)\n",
    "# 기존에 있는 함수의 파라미터를 바꿀 수 있음. 새로운 함수를 쉽게 만들 수 있는 것\n",
    "# 즉 남이 만든 함수 부분만 가져와서 쓸 수 있는 것.\n",
    "# 그래서 연산자보다 함수가 더 유연하다.\n",
    "# 그 라이브러리가 operator"
   ]
  },
  {
   "cell_type": "code",
   "execution_count": 165,
   "metadata": {},
   "outputs": [
    {
     "data": {
      "text/plain": [
       "7"
      ]
     },
     "execution_count": 165,
     "metadata": {},
     "output_type": "execute_result"
    }
   ],
   "source": [
    "add2(5)"
   ]
  },
  {
   "cell_type": "code",
   "execution_count": null,
   "metadata": {},
   "outputs": [],
   "source": [
    "# 가져다 쓰는 연습이 되면, 근본적 내용을 알고 있으니 쉽게 쓸 수 있음.\n",
    "# 그렇다면 이제 import 의 비밀을 알아야 함."
   ]
  },
  {
   "cell_type": "code",
   "execution_count": null,
   "metadata": {},
   "outputs": [],
   "source": [
    "# 몽키 패치\n",
    "# 한국에서는 이것을 잠수함 패치 라고도 함. 물 밑에서 수정해서 고치는 것을 잠수함 패치\n",
    "# 원래 이걸 몰래 한다고 해서 게릴라 -> 고릴라 -> 몽키"
   ]
  },
  {
   "cell_type": "code",
   "execution_count": 166,
   "metadata": {},
   "outputs": [],
   "source": [
    "import matplotlib"
   ]
  },
  {
   "cell_type": "code",
   "execution_count": 168,
   "metadata": {},
   "outputs": [
    {
     "data": {
      "text/plain": [
       "157"
      ]
     },
     "execution_count": 168,
     "metadata": {},
     "output_type": "execute_result"
    }
   ],
   "source": [
    "len(dir(matplotlib))"
   ]
  },
  {
   "cell_type": "code",
   "execution_count": 169,
   "metadata": {},
   "outputs": [],
   "source": [
    "import matplotlib.pyplot as plt"
   ]
  },
  {
   "cell_type": "code",
   "execution_count": 170,
   "metadata": {},
   "outputs": [
    {
     "data": {
      "text/plain": [
       "157"
      ]
     },
     "execution_count": 170,
     "metadata": {},
     "output_type": "execute_result"
    }
   ],
   "source": [
    "len(dir(matplotlib))\n",
    "# 수업에서는 수가 다름\n",
    "# 즉, import 할 때 순서에 따라서 될 때 안될 때가 있음."
   ]
  },
  {
   "cell_type": "code",
   "execution_count": null,
   "metadata": {},
   "outputs": [],
   "source": [
    "# 우리는 몽키패치를 잡아내기 힘듦 -> 몰래 했기 떄문.\n",
    "# 굉장히 많은 질문이 있음\n",
    "# import 의 몽키 패치 때문인 것"
   ]
  },
  {
   "cell_type": "code",
   "execution_count": null,
   "metadata": {},
   "outputs": [],
   "source": [
    "# import에 대해 자세히 보자"
   ]
  },
  {
   "cell_type": "code",
   "execution_count": 171,
   "metadata": {},
   "outputs": [],
   "source": [
    "# import 실행 방식\n",
    "# 어디에서 import 되는 것을 가져오는 것인가?\n",
    "import sys\n",
    "# sys가 도대체 뭐일까?"
   ]
  },
  {
   "cell_type": "code",
   "execution_count": null,
   "metadata": {},
   "outputs": [],
   "source": [
    "# 실제 파일이다. 연습용 파일 하나 만들어보자."
   ]
  },
  {
   "cell_type": "code",
   "execution_count": 180,
   "metadata": {},
   "outputs": [],
   "source": [
    "import moon"
   ]
  },
  {
   "cell_type": "code",
   "execution_count": 181,
   "metadata": {},
   "outputs": [
    {
     "data": {
      "text/plain": [
       "['__builtins__',\n",
       " '__cached__',\n",
       " '__doc__',\n",
       " '__file__',\n",
       " '__loader__',\n",
       " '__name__',\n",
       " '__package__',\n",
       " '__spec__']"
      ]
     },
     "execution_count": 181,
     "metadata": {},
     "output_type": "execute_result"
    }
   ],
   "source": [
    "dir(moon)"
   ]
  },
  {
   "cell_type": "code",
   "execution_count": 182,
   "metadata": {},
   "outputs": [],
   "source": [
    "import sys"
   ]
  },
  {
   "cell_type": "code",
   "execution_count": 183,
   "metadata": {},
   "outputs": [
    {
     "data": {
      "text/plain": [
       "['/Users/baekkwanghyun/Desktop/SW_academy',\n",
       " '/Users/baekkwanghyun/miniconda3/lib/python310.zip',\n",
       " '/Users/baekkwanghyun/miniconda3/lib/python3.10',\n",
       " '/Users/baekkwanghyun/miniconda3/lib/python3.10/lib-dynload',\n",
       " '',\n",
       " '/Users/baekkwanghyun/miniconda3/lib/python3.10/site-packages',\n",
       " '/Users/baekkwanghyun/miniconda3/lib/python3.10/site-packages/PyQt5_sip-12.11.0-py3.10-macosx-10.9-x86_64.egg']"
      ]
     },
     "execution_count": 183,
     "metadata": {},
     "output_type": "execute_result"
    }
   ],
   "source": [
    "sys.path\n",
    "# 맨 위에 있는 것이 내가 작업하는 영역\n",
    "# 밑으로 이동하면서 찾음.\n",
    "# 즉 순서에 따라서 찾음."
   ]
  },
  {
   "cell_type": "code",
   "execution_count": 184,
   "metadata": {},
   "outputs": [
    {
     "ename": "AttributeError",
     "evalue": "module 'moon' has no attribute '_x'",
     "output_type": "error",
     "traceback": [
      "\u001b[0;31m---------------------------------------------------------------------------\u001b[0m",
      "\u001b[0;31mAttributeError\u001b[0m                            Traceback (most recent call last)",
      "Cell \u001b[0;32mIn[184], line 1\u001b[0m\n\u001b[0;32m----> 1\u001b[0m moon\u001b[39m.\u001b[39;49m_x\n",
      "\u001b[0;31mAttributeError\u001b[0m: module 'moon' has no attribute '_x'"
     ]
    }
   ],
   "source": [
    "moon._x"
   ]
  },
  {
   "cell_type": "code",
   "execution_count": null,
   "metadata": {},
   "outputs": [],
   "source": [
    "import moon as m  # 별칭"
   ]
  },
  {
   "cell_type": "code",
   "execution_count": null,
   "metadata": {},
   "outputs": [],
   "source": [
    "m._x  # 사용 가능"
   ]
  },
  {
   "cell_type": "code",
   "execution_count": null,
   "metadata": {},
   "outputs": [],
   "source": [
    "m.__name__"
   ]
  },
  {
   "cell_type": "code",
   "execution_count": null,
   "metadata": {},
   "outputs": [],
   "source": [
    "# as 도 3가지 용법 (else, from 과 같음)\n",
    "# import\n",
    "# with\n",
    "# except"
   ]
  },
  {
   "cell_type": "code",
   "execution_count": 185,
   "metadata": {},
   "outputs": [
    {
     "name": "stdout",
     "output_type": "stream",
     "text": [
      "Variable       Type                          Data/Info\n",
      "------------------------------------------------------\n",
      "A              type                          <class '__main__.A'>\n",
      "B              type                          <class '__main__.B'>\n",
      "Math           type                          <class '__main__.Math'>\n",
      "T              type                          <class '__main__.T'>\n",
      "X              type                          <class '__main__.X'>\n",
      "a              T                             <__main__.T object at 0x7fc3e98b1d50>\n",
      "aa             A                             <__main__.A object at 0x7fc3e98b3df0>\n",
      "add            builtin_function_or_method    <built-in function add>\n",
      "add2           partial                       functools.partial(<built-in function add>, 2)\n",
      "b              count                         count(6, 2)\n",
      "c              zip_longest                   <itertools.zip_longest object at 0x7fc3c844c4f0>\n",
      "combinations   type                          <class 'itertools.combinations'>\n",
      "count          type                          <class 'itertools.count'>\n",
      "cycle          type                          <class 'itertools.cycle'>\n",
      "float          type                          <class '__main__.float'>\n",
      "keyword        module                        <module 'keyword' from '/<...>b/python3.10/keyword.py'>\n",
      "matplotlib     module                        <module 'matplotlib' from<...>/matplotlib/__init__.py'>\n",
      "moon           module                        <module 'moon' from '/Use<...>ktop/SW_academy/moon.py'>\n",
      "partial        type                          <class 'functools.partial'>\n",
      "pd             module                        <module 'pandas' from '/U<...>ages/pandas/__init__.py'>\n",
      "plt            module                        <module 'matplotlib.pyplo<...>es/matplotlib/pyplot.py'>\n",
      "sys            module                        <module 'sys' (built-in)>\n",
      "t              X                             <__main__.X object at 0x7fc3980ebb20>\n",
      "x              X                             <__main__.X object at 0x7fc3b8a631f0>\n",
      "y              X                             <__main__.X object at 0x7fc3980e0460>\n",
      "zip_longest    type                          <class 'itertools.zip_longest'>\n"
     ]
    }
   ],
   "source": [
    "%whos\n",
    "# 현재 내가 작업하는 공간에."
   ]
  },
  {
   "cell_type": "code",
   "execution_count": 186,
   "metadata": {},
   "outputs": [
    {
     "data": {
      "text/plain": [
       "{'__name__': '__main__',\n",
       " '__doc__': 'Automatically created module for IPython interactive environment',\n",
       " '__package__': None,\n",
       " '__loader__': None,\n",
       " '__spec__': None,\n",
       " '__builtin__': <module 'builtins' (built-in)>,\n",
       " '__builtins__': <module 'builtins' (built-in)>,\n",
       " '_ih': ['',\n",
       "  'import keyword\\nkeyword.kwlist',\n",
       "  'class A:\\n    x = 1\\n    def a(self):\\n        return 1',\n",
       "  '# 인스턴스 메소드 / 인스턴스 변수\\na = A()  # 사용하기 위해서 인스턴스화\\n# a 가 값',\n",
       "  'b = A()',\n",
       "  '# a, b 각각은 인스턴스. 즉, 데이터 타입은 하나이고, 인스턴스는 수많을 수 있음.\\n# 대신 각각 인스턴스 마다 자기만의 데이터를 가질 수 있음 => consenting adult',\n",
       "  'a.z = 3',\n",
       "  'b.z',\n",
       "  'vars(3)',\n",
       "  'vars(a)',\n",
       "  'A.x',\n",
       "  'a.y',\n",
       "  'a.x # 왜 값이 나올까?',\n",
       "  '# 첫번째 위임규칙\\na.x # ',\n",
       "  'id(a.x)',\n",
       "  'id(A.x)',\n",
       "  \"a.x = 'a'\",\n",
       "  'b.x # b 에게는 ',\n",
       "  '# 그래서 다시 vars\\nvars(a)',\n",
       "  'A.x\\n# 클래스가 사용했기 때문에 클래스 변수',\n",
       "  \"A.x = 'b'\\nb.x\",\n",
       "  '# 인스턴스 변수는 인스턴스마다 자기들만의 값을 가질 수 있음.\\naa = A()',\n",
       "  'vars(aa)',\n",
       "  '# 파이썬의 인스턴스 변수는 메소드가 실행됨에 따라서 생성된다. 즉 동적으로 생성된다.\\naa.a()',\n",
       "  'vars()',\n",
       "  'vars(aa)',\n",
       "  '# 파이썬의 인스턴스 변수는 메소드가 실행됨에 따라서 생성된다. 즉 동적으로 생성된다.\\naa.a()',\n",
       "  'vars(aa)',\n",
       "  'class A:\\n    x = 1 # 클래스 변수 -> 클래스가 쓰는 애가 클래스 변수\\n    def a(self):\\n        self.y = 2  # 인스턴스 변수(메소드 안에 정의)\\n        return 1',\n",
       "  '# 인스턴스 변수는 인스턴스마다 자기들만의 값을 가질 수 있음.\\naa = A()',\n",
       "  'vars(aa)\\n# 왜 인스턴스 변수인 y가 나오지 않을까?',\n",
       "  '# 파이썬의 인스턴스 변수는 메소드가 실행됨에 따라서 생성된다. 즉 동적으로 생성된다.\\naa.a()',\n",
       "  'vars(aa)',\n",
       "  'class A:\\n    def __init__(self): \\n        self.x=1',\n",
       "  't = A()',\n",
       "  'vars(t)',\n",
       "  'class B:\\n    def __init__(self, x):\\n        self.x = x',\n",
       "  'x = B(3)',\n",
       "  'x.x',\n",
       "  'y = B(4)',\n",
       "  'y.x',\n",
       "  'float(3)  # float 이라는 클래스에 3 집어 넣는 것은 __init__ 구문에 3 집어넣는 다는 것.',\n",
       "  'class float:\\n    def __init__(self, x=0):\\n        pass',\n",
       "  'class float:\\n    def __init__(self, x=0, /):\\n        pass',\n",
       "  'class B:\\n    def __init__(self, x):\\n        self.x = x\\n        return 3',\n",
       "  'x = B(3)',\n",
       "  'class X:\\n    pass',\n",
       "  'x = X()',\n",
       "  'dir(object)',\n",
       "  '# 그렇다면 모든 파이썬의 클래스는 __init__ 가 미리 만들어져 있다는 것.\\n# 기본이 아무것도 집어넣지 않게 만들어져 있음\\nx = X()',\n",
       "  '# 인스턴스 x라는 애가 가지는 a라는 변수를 만드는 것\\nx.a = 1',\n",
       "  'y = X()',\n",
       "  'class X(object):\\n    def __init__(self, a):\\n        self.a = a',\n",
       "  '# __init__ 는 괄호붙힐 때 실행됨\\nt = X() # 이거는 안됨\\n# __init__가 () 때문에 실행되는데 인자가 self 빼고',\n",
       "  't = X(3)',\n",
       "  '# 그래서 vars()에서 나오는 것\\nvars(t)',\n",
       "  'list({2,3,4}) # {2,3,4} 가 iterator가 되서 한 ㄱ개씩 뽑아서 list를 만들어 줌',\n",
       "  \"class X(object):\\n    def __new__(self):\\n        print('new')\\n    def __init__(self):  # 생성자(constructor) -> 객체를 생성할 때 실행되는 것\\n        print('init')  # return None 이어야 함\",\n",
       "  'b = X() # ()를 때리면 __init__ 가 실행됨',\n",
       "  \"class X(object):\\n    def __new__(self):\\n        print('new')\\n        return super().__new__(cls)\\n    def __init__(self):  # 생성자(constructor) -> 객체를 생성할 때 실행되는 것\\n        print('init')  # return None 이어야 함\",\n",
       "  'b = X()',\n",
       "  \"class X(object):\\n    def __new__(cls):\\n        print('new')\\n        return super().__new__(cls)\\n    def __init__(self):  # 생성자(constructor) -> 객체를 생성할 때 실행되는 것\\n        print('init')  # return None 이어야 함\",\n",
       "  'b = X()',\n",
       "  '# name space \\n# 어제 예시\\nclass B:\\n    def x(self):\\n        return 1',\n",
       "  'b = B()',\n",
       "  'b.x # 이게 메소드 방식',\n",
       "  'B.x',\n",
       "  'B.x(ㅠ)) # 이것은 함수. ',\n",
       "  'B.x(b) # 이것은 함수. ',\n",
       "  'b.x() # 이게 메소드 방식\\n# self가 두개 중복되니까, 메소드로 사용할 때는 self 없애라고 했음',\n",
       "  \"# name space \\n# 어제 예시\\nclass Math:\\n    def x(self):\\n        return 1\\n    \\n    @staticmethod  # 메소드 아니고 함수하고 똑같음. 함수인데 클래스 안에 집어넣어서 클래스 이름으로 접근할 수 있게 해주는 것. 그래서 self 쓰면 안됨\\n    def cos():  # 첫번째 인자가 자기 자신이 아니라는 것\\n        print('a')\\n        \\n# 이렇게 만들면 Math.cos 이렇게 쓸 수 있음 -> categorization 이 용이함.\\n# name space 기능\",\n",
       "  '# staticmethod\\nMath.cos()',\n",
       "  'b = Math()',\n",
       "  'b.cos() # 인스턴스에 없으면 클래스를 찾음',\n",
       "  '# class method\\nclass T:\\n    @classmethod\\n    def xx(cls):  # 관례\\n        cls.ss = 1',\n",
       "  'T.xx\\n# 이 다음에 ()를 써야할까 말아야 할까',\n",
       "  'T.xx()\\n# 이 다음에 ()를 써야할까 말아야 할까',\n",
       "  'T.xx()\\n# ()안에 클래스를 써야할까 말아야 할까',\n",
       "  \"# class method  -> class 가 쓰는 것\\nclass T:\\n    @classmethod\\n    def xx(cls):  # 관례\\n        cls.ss = 1\\n        print('a')\",\n",
       "  'T.xx()\\n# ()안에 클래스를 써야할까 말아야 할까 => 집어넣지 않음',\n",
       "  'vars(a)',\n",
       "  'a = T()',\n",
       "  'vars(a)',\n",
       "  'a.xx() # 인스턴스가 클래스 메소드 쓸 수 있을까?\\n# 인스턴스에 xx가 없으면 클래스거를 찾음. \\n# 그렇다면 () 안에 집어넣어야 할까? -> 안 집어넣음',\n",
       "  'vars(a)',\n",
       "  'T.ss',\n",
       "  'import pandas as pd',\n",
       "  \"get_ipython().system('pip install pandas')\",\n",
       "  'import pandas as pd',\n",
       "  'pd.DataFrame.from_dict\\n# DataFrame 은 카멜 방식으로 클래스\\n# 그렇다면 from_dict 는 클래스 메소드',\n",
       "  'from itertools import combinations\\n# 함수형 패러다임과 관련된 라이브러리는 3개가 있음\\n# itertools -> 이걸로 yield 의 개념을 공부\\n# functools\\n# operator\\n# 함수형 패러다임 배웠던 특징은\\n# iterator, generator, comprehension',\n",
       "  '# import 는 남의 거 가져다 쓰는 것\\n# 처음보면 스캔 한 번 하는 것이 좋음 => dir 또는 help 보는 것이 중요\\nb = combinations([1,2,3,4], 3)\\n# combinations 는 함수일까 클래스일까?\\n# init 와 Type: type 이라는 것은 클래스\\n# 클래스는 사용하기 위해서 인스턴스화 해야 함.\\n# 왜 카멜 방식으로 안했을까? -> 파이썬의 빌트인이나 라이브러리는 일부로 카멜 방식을 안지키는 것이 많음.\\n# 인자 개수는 2개, iterable 과 r\\n# combination은 nCr\\n# iterable인 애들은 결과가 iterator로 나옴.\\n# 그 뜻은 next()해야 결과가 나옴',\n",
       "  'next(b)',\n",
       "  'next(b)',\n",
       "  'next(b)',\n",
       "  '# 결과물 한번에 보는 방법\\nlist(b)',\n",
       "  '# import 는 남의 거 가져다 쓰는 것\\n# 처음보면 스캔 한 번 하는 것이 좋음 => dir 또는 help 보는 것이 중요\\nb = combinations([1,2,3,4], 3)\\n# combinations 는 함수일까 클래스일까?\\n# init 와 Type: type 이라는 것은 클래스\\n# 클래스는 사용하기 위해서 인스턴스화 해야 함.\\n# 왜 카멜 방식으로 안했을까? -> 파이썬의 빌트인이나 라이브러리는 일부로 카멜 방식을 안지키는 것이 많음.\\n# 인자 개수는 2개, iterable 과 r\\n# combination은 nCr\\n# iterable인 애들은 결과가 iterator로 나옴.\\n# 그 뜻은 next()해야 결과가 나옴',\n",
       "  '# 결과물 한번에 보는 방법\\nlist(b)',\n",
       "  'from itertools import cycle',\n",
       "  'b = cycle([1,2,3])\\nnext(b)',\n",
       "  'b = cycle([1,2,3])\\nnext(b)',\n",
       "  'b = cycle([1,2,3])\\nnext(b)',\n",
       "  'b = cycle([1,2,3])\\nnext(b)',\n",
       "  'b = cycle([1,2,3])',\n",
       "  'next(b)',\n",
       "  'next(b)',\n",
       "  'next(b)',\n",
       "  'next(b)',\n",
       "  'next(b)',\n",
       "  'next(b)',\n",
       "  'next(b)',\n",
       "  'next(b)',\n",
       "  'next(b)',\n",
       "  'next(b)',\n",
       "  'from itertools import count',\n",
       "  '# 우리는 지금 yield 배움.\\n# 이것은 무한루프하고 연관됨\\nb = count()  # 인자로 아무것도 안 넣어줘도 되고, 두 개 까지 넣어도 됨. default가 있기 때문',\n",
       "  'next(b)',\n",
       "  'next(b)',\n",
       "  'next(b)',\n",
       "  'next(b)',\n",
       "  'next(b)',\n",
       "  'next(b)',\n",
       "  'next(b)',\n",
       "  'next(b)',\n",
       "  'next(b)',\n",
       "  'next(b)',\n",
       "  'next(b)',\n",
       "  'next(b)',\n",
       "  'next(b)',\n",
       "  'next(b)',\n",
       "  'next(b)',\n",
       "  'next(b)',\n",
       "  'next(b)',\n",
       "  'next(b)',\n",
       "  'next(b)',\n",
       "  'b = count(step=2)',\n",
       "  'next(b)',\n",
       "  'next(b)',\n",
       "  'next(b)',\n",
       "  'zip',\n",
       "  'zip([1,2,3], [4,5,6]) # iterable 집어넣으면 항상 iterator => next',\n",
       "  'c = zip([1,2,3], [4,5,6]) # iterable 집어넣으면 항상 iterator => next',\n",
       "  'next(c)',\n",
       "  'next(c)',\n",
       "  'next(c)',\n",
       "  'next(c)',\n",
       "  'c = zip([1,2,3], [4,5,6]) # iterable 집어넣으면 항상 iterator => next',\n",
       "  'next(c)',\n",
       "  'c = zip([1,2,3,4], [4,5,6]) # iterable 집어넣으면 항상 iterator => next',\n",
       "  'next(c)',\n",
       "  'next(c)',\n",
       "  'next(c)',\n",
       "  'next(c)',\n",
       "  'from itertools import zip_longest',\n",
       "  'c = zip_longest([1,2,3,4], [4,5,6])',\n",
       "  'next(c)',\n",
       "  'next(c)',\n",
       "  'next(c)',\n",
       "  'next(c)',\n",
       "  'from operator import add',\n",
       "  'add(1, 1)',\n",
       "  'from functools import partial',\n",
       "  'add2 = partial(add, b=2)',\n",
       "  'add2(5)',\n",
       "  'add2 = partial(add, 2)\\n# 기존에 있는 함수의 파라미터를 바꿀 수 있음. 새로운 함수를 쉽게 만들 수 있는 것',\n",
       "  'add2(5)',\n",
       "  'import matplotlib',\n",
       "  'dir(matplotlib)',\n",
       "  'len(dir(matplotlib))',\n",
       "  'import matplotlib.pyplot as plt',\n",
       "  'len(dir(matplotlib))',\n",
       "  '# import 실행 방식\\n# 어디에서 import 되는 것을 가져오는 것인가?\\nimport sys',\n",
       "  'import 연습용',\n",
       "  'import moon',\n",
       "  'dir(moon)',\n",
       "  'import sys',\n",
       "  'sys.path',\n",
       "  '#',\n",
       "  'import moon',\n",
       "  'dir(moon)',\n",
       "  'import moon',\n",
       "  'dir(moon)',\n",
       "  'import sys',\n",
       "  'sys.path\\n# 맨 위에 있는 것이 내가 작업하는 영역\\n# 밑으로 이동하면서 찾음.\\n# 즉 순서에 따라서 찾음.',\n",
       "  'moon._x',\n",
       "  \"get_ipython().run_line_magic('whos', '')\",\n",
       "  'globals()'],\n",
       " '_oh': {1: ['False',\n",
       "   'None',\n",
       "   'True',\n",
       "   'and',\n",
       "   'as',\n",
       "   'assert',\n",
       "   'async',\n",
       "   'await',\n",
       "   'break',\n",
       "   'class',\n",
       "   'continue',\n",
       "   'def',\n",
       "   'del',\n",
       "   'elif',\n",
       "   'else',\n",
       "   'except',\n",
       "   'finally',\n",
       "   'for',\n",
       "   'from',\n",
       "   'global',\n",
       "   'if',\n",
       "   'import',\n",
       "   'in',\n",
       "   'is',\n",
       "   'lambda',\n",
       "   'nonlocal',\n",
       "   'not',\n",
       "   'or',\n",
       "   'pass',\n",
       "   'raise',\n",
       "   'return',\n",
       "   'try',\n",
       "   'while',\n",
       "   'with',\n",
       "   'yield'],\n",
       "  9: {'z': 3, 'x': 'a'},\n",
       "  10: 1,\n",
       "  12: 1,\n",
       "  13: 1,\n",
       "  14: 140479119393008,\n",
       "  15: 140479119393008,\n",
       "  17: 1,\n",
       "  18: {'z': 3, 'x': 'a'},\n",
       "  19: 1,\n",
       "  20: 'b',\n",
       "  22: {},\n",
       "  23: 1,\n",
       "  24: {...},\n",
       "  25: {},\n",
       "  26: 1,\n",
       "  27: {},\n",
       "  30: {'y': 2},\n",
       "  31: 1,\n",
       "  32: {'y': 2},\n",
       "  35: {'x': 1},\n",
       "  38: 3,\n",
       "  40: 4,\n",
       "  41: 3.0,\n",
       "  48: ['__class__',\n",
       "   '__delattr__',\n",
       "   '__dir__',\n",
       "   '__doc__',\n",
       "   '__eq__',\n",
       "   '__format__',\n",
       "   '__ge__',\n",
       "   '__getattribute__',\n",
       "   '__gt__',\n",
       "   '__hash__',\n",
       "   '__init__',\n",
       "   '__init_subclass__',\n",
       "   '__le__',\n",
       "   '__lt__',\n",
       "   '__ne__',\n",
       "   '__new__',\n",
       "   '__reduce__',\n",
       "   '__reduce_ex__',\n",
       "   '__repr__',\n",
       "   '__setattr__',\n",
       "   '__sizeof__',\n",
       "   '__str__',\n",
       "   '__subclasshook__'],\n",
       "  55: {'a': 3},\n",
       "  56: [2, 3, 4],\n",
       "  65: <bound method B.x of <__main__.B object at 0x7fc3b8b01e10>>,\n",
       "  66: <function __main__.B.x(self)>,\n",
       "  68: 1,\n",
       "  69: 1,\n",
       "  75: <bound method T.xx of <class '__main__.T'>>,\n",
       "  80: {'z': 3, 'x': 'a'},\n",
       "  82: {},\n",
       "  84: {},\n",
       "  85: 1,\n",
       "  89: <bound method DataFrame.from_dict of <class 'pandas.core.frame.DataFrame'>>,\n",
       "  92: (1, 2, 3),\n",
       "  93: (1, 2, 4),\n",
       "  94: (1, 3, 4),\n",
       "  95: [(2, 3, 4)],\n",
       "  97: [(1, 2, 3), (1, 2, 4), (1, 3, 4), (2, 3, 4)],\n",
       "  99: 1,\n",
       "  100: 1,\n",
       "  101: 1,\n",
       "  102: 1,\n",
       "  104: 1,\n",
       "  105: 2,\n",
       "  106: 3,\n",
       "  107: 1,\n",
       "  108: 2,\n",
       "  109: 3,\n",
       "  110: 1,\n",
       "  111: 2,\n",
       "  112: 3,\n",
       "  113: 1,\n",
       "  116: 0,\n",
       "  117: 1,\n",
       "  118: 2,\n",
       "  119: 3,\n",
       "  120: 4,\n",
       "  121: 5,\n",
       "  122: 6,\n",
       "  123: 7,\n",
       "  124: 8,\n",
       "  125: 9,\n",
       "  126: 10,\n",
       "  127: 11,\n",
       "  128: 12,\n",
       "  129: 13,\n",
       "  130: 14,\n",
       "  131: 15,\n",
       "  132: 16,\n",
       "  133: 17,\n",
       "  134: 18,\n",
       "  136: 0,\n",
       "  137: 2,\n",
       "  138: 4,\n",
       "  139: zip,\n",
       "  140: <zip at 0x7fc3d9bc03c0>,\n",
       "  142: (1, 4),\n",
       "  143: (2, 5),\n",
       "  144: (3, 6),\n",
       "  147: (1, 4),\n",
       "  149: (1, 4),\n",
       "  150: (2, 5),\n",
       "  151: (3, 6),\n",
       "  155: (1, 4),\n",
       "  156: (2, 5),\n",
       "  157: (3, 6),\n",
       "  158: (4, None),\n",
       "  160: 2,\n",
       "  165: 7,\n",
       "  167: ['ExecutableNotFoundError',\n",
       "   'MatplotlibDeprecationWarning',\n",
       "   'MutableMapping',\n",
       "   'Parameter',\n",
       "   'Path',\n",
       "   'RcParams',\n",
       "   '_ExecInfo',\n",
       "   '_VersionInfo',\n",
       "   '__bibtex__',\n",
       "   '__builtins__',\n",
       "   '__cached__',\n",
       "   '__doc__',\n",
       "   '__file__',\n",
       "   '__getattr__',\n",
       "   '__loader__',\n",
       "   '__name__',\n",
       "   '__package__',\n",
       "   '__path__',\n",
       "   '__spec__',\n",
       "   '_add_data_doc',\n",
       "   '_afm',\n",
       "   '_api',\n",
       "   '_blocking_input',\n",
       "   '_c_internal_utils',\n",
       "   '_check_versions',\n",
       "   '_cm',\n",
       "   '_cm_listed',\n",
       "   '_color_data',\n",
       "   '_constrained_layout',\n",
       "   '_deprecated_ignore_map',\n",
       "   '_deprecated_map',\n",
       "   '_deprecated_remain_as_none',\n",
       "   '_docstring',\n",
       "   '_ensure_handler',\n",
       "   '_enums',\n",
       "   '_fontconfig_pattern',\n",
       "   '_get_config_or_cache_dir',\n",
       "   '_get_executable_info',\n",
       "   '_get_ssl_context',\n",
       "   '_get_version',\n",
       "   '_get_xdg_cache_dir',\n",
       "   '_get_xdg_config_dir',\n",
       "   '_image',\n",
       "   '_init_tests',\n",
       "   '_label_from_arg',\n",
       "   '_layoutgrid',\n",
       "   '_log',\n",
       "   '_logged_cached',\n",
       "   '_mathtext',\n",
       "   '_mathtext_data',\n",
       "   '_open_file_or_url',\n",
       "   '_parse_to_version_info',\n",
       "   '_path',\n",
       "   '_preprocess_data',\n",
       "   '_pylab_helpers',\n",
       "   '_rc_params_in_file',\n",
       "   '_replacer',\n",
       "   '_text_helpers',\n",
       "   '_tight_bbox',\n",
       "   '_tight_layout',\n",
       "   '_version',\n",
       "   'artist',\n",
       "   'atexit',\n",
       "   'axes',\n",
       "   'axis',\n",
       "   'backend_bases',\n",
       "   'backend_managers',\n",
       "   'backend_tools',\n",
       "   'backends',\n",
       "   'bezier',\n",
       "   'category',\n",
       "   'cbook',\n",
       "   'checkdep_usetex',\n",
       "   'cm',\n",
       "   'collections',\n",
       "   'color_sequences',\n",
       "   'colorbar',\n",
       "   'colormaps',\n",
       "   'colors',\n",
       "   'container',\n",
       "   'contextlib',\n",
       "   'contour',\n",
       "   'cycler',\n",
       "   'dates',\n",
       "   'defaultParams',\n",
       "   'dviread',\n",
       "   'figure',\n",
       "   'font_manager',\n",
       "   'ft2font',\n",
       "   'functools',\n",
       "   'get_backend',\n",
       "   'get_cachedir',\n",
       "   'get_configdir',\n",
       "   'get_data_path',\n",
       "   'gridspec',\n",
       "   'hatch',\n",
       "   'image',\n",
       "   'importlib',\n",
       "   'inspect',\n",
       "   'interactive',\n",
       "   'is_interactive',\n",
       "   'layout_engine',\n",
       "   'legend',\n",
       "   'legend_handler',\n",
       "   'lines',\n",
       "   'locale',\n",
       "   'logging',\n",
       "   'markers',\n",
       "   'mathtext',\n",
       "   'matplotlib_fname',\n",
       "   'mlab',\n",
       "   'namedtuple',\n",
       "   'numpy',\n",
       "   'offsetbox',\n",
       "   'os',\n",
       "   'parse_version',\n",
       "   'patches',\n",
       "   'path',\n",
       "   'pprint',\n",
       "   'projections',\n",
       "   'pyplot',\n",
       "   'quiver',\n",
       "   'rc',\n",
       "   'rcParams',\n",
       "   'rcParamsDefault',\n",
       "   'rcParamsOrig',\n",
       "   'rc_context',\n",
       "   'rc_file',\n",
       "   'rc_file_defaults',\n",
       "   'rc_params',\n",
       "   'rc_params_from_file',\n",
       "   'rcdefaults',\n",
       "   'rcsetup',\n",
       "   're',\n",
       "   'sanitize_sequence',\n",
       "   'scale',\n",
       "   'set_loglevel',\n",
       "   'shutil',\n",
       "   'spines',\n",
       "   'stackplot',\n",
       "   'streamplot',\n",
       "   'style',\n",
       "   'subprocess',\n",
       "   'sys',\n",
       "   'table',\n",
       "   'tempfile',\n",
       "   'texmanager',\n",
       "   'text',\n",
       "   'textpath',\n",
       "   'ticker',\n",
       "   'transforms',\n",
       "   'tri',\n",
       "   'units',\n",
       "   'use',\n",
       "   'validate_backend',\n",
       "   'warnings',\n",
       "   'widgets'],\n",
       "  168: 157,\n",
       "  170: 157,\n",
       "  174: ['__builtins__',\n",
       "   '__cached__',\n",
       "   '__doc__',\n",
       "   '__file__',\n",
       "   '__loader__',\n",
       "   '__name__',\n",
       "   '__package__',\n",
       "   '__spec__'],\n",
       "  176: ['/Users/baekkwanghyun/Desktop/SW_academy',\n",
       "   '/Users/baekkwanghyun/miniconda3/lib/python310.zip',\n",
       "   '/Users/baekkwanghyun/miniconda3/lib/python3.10',\n",
       "   '/Users/baekkwanghyun/miniconda3/lib/python3.10/lib-dynload',\n",
       "   '',\n",
       "   '/Users/baekkwanghyun/miniconda3/lib/python3.10/site-packages',\n",
       "   '/Users/baekkwanghyun/miniconda3/lib/python3.10/site-packages/PyQt5_sip-12.11.0-py3.10-macosx-10.9-x86_64.egg'],\n",
       "  179: ['__builtins__',\n",
       "   '__cached__',\n",
       "   '__doc__',\n",
       "   '__file__',\n",
       "   '__loader__',\n",
       "   '__name__',\n",
       "   '__package__',\n",
       "   '__spec__'],\n",
       "  181: ['__builtins__',\n",
       "   '__cached__',\n",
       "   '__doc__',\n",
       "   '__file__',\n",
       "   '__loader__',\n",
       "   '__name__',\n",
       "   '__package__',\n",
       "   '__spec__'],\n",
       "  183: ['/Users/baekkwanghyun/Desktop/SW_academy',\n",
       "   '/Users/baekkwanghyun/miniconda3/lib/python310.zip',\n",
       "   '/Users/baekkwanghyun/miniconda3/lib/python3.10',\n",
       "   '/Users/baekkwanghyun/miniconda3/lib/python3.10/lib-dynload',\n",
       "   '',\n",
       "   '/Users/baekkwanghyun/miniconda3/lib/python3.10/site-packages',\n",
       "   '/Users/baekkwanghyun/miniconda3/lib/python3.10/site-packages/PyQt5_sip-12.11.0-py3.10-macosx-10.9-x86_64.egg']},\n",
       " '_dh': [PosixPath('/Users/baekkwanghyun/Desktop/SW_academy'),\n",
       "  PosixPath('/Users/baekkwanghyun/Desktop/SW_academy')],\n",
       " 'In': ['',\n",
       "  'import keyword\\nkeyword.kwlist',\n",
       "  'class A:\\n    x = 1\\n    def a(self):\\n        return 1',\n",
       "  '# 인스턴스 메소드 / 인스턴스 변수\\na = A()  # 사용하기 위해서 인스턴스화\\n# a 가 값',\n",
       "  'b = A()',\n",
       "  '# a, b 각각은 인스턴스. 즉, 데이터 타입은 하나이고, 인스턴스는 수많을 수 있음.\\n# 대신 각각 인스턴스 마다 자기만의 데이터를 가질 수 있음 => consenting adult',\n",
       "  'a.z = 3',\n",
       "  'b.z',\n",
       "  'vars(3)',\n",
       "  'vars(a)',\n",
       "  'A.x',\n",
       "  'a.y',\n",
       "  'a.x # 왜 값이 나올까?',\n",
       "  '# 첫번째 위임규칙\\na.x # ',\n",
       "  'id(a.x)',\n",
       "  'id(A.x)',\n",
       "  \"a.x = 'a'\",\n",
       "  'b.x # b 에게는 ',\n",
       "  '# 그래서 다시 vars\\nvars(a)',\n",
       "  'A.x\\n# 클래스가 사용했기 때문에 클래스 변수',\n",
       "  \"A.x = 'b'\\nb.x\",\n",
       "  '# 인스턴스 변수는 인스턴스마다 자기들만의 값을 가질 수 있음.\\naa = A()',\n",
       "  'vars(aa)',\n",
       "  '# 파이썬의 인스턴스 변수는 메소드가 실행됨에 따라서 생성된다. 즉 동적으로 생성된다.\\naa.a()',\n",
       "  'vars()',\n",
       "  'vars(aa)',\n",
       "  '# 파이썬의 인스턴스 변수는 메소드가 실행됨에 따라서 생성된다. 즉 동적으로 생성된다.\\naa.a()',\n",
       "  'vars(aa)',\n",
       "  'class A:\\n    x = 1 # 클래스 변수 -> 클래스가 쓰는 애가 클래스 변수\\n    def a(self):\\n        self.y = 2  # 인스턴스 변수(메소드 안에 정의)\\n        return 1',\n",
       "  '# 인스턴스 변수는 인스턴스마다 자기들만의 값을 가질 수 있음.\\naa = A()',\n",
       "  'vars(aa)\\n# 왜 인스턴스 변수인 y가 나오지 않을까?',\n",
       "  '# 파이썬의 인스턴스 변수는 메소드가 실행됨에 따라서 생성된다. 즉 동적으로 생성된다.\\naa.a()',\n",
       "  'vars(aa)',\n",
       "  'class A:\\n    def __init__(self): \\n        self.x=1',\n",
       "  't = A()',\n",
       "  'vars(t)',\n",
       "  'class B:\\n    def __init__(self, x):\\n        self.x = x',\n",
       "  'x = B(3)',\n",
       "  'x.x',\n",
       "  'y = B(4)',\n",
       "  'y.x',\n",
       "  'float(3)  # float 이라는 클래스에 3 집어 넣는 것은 __init__ 구문에 3 집어넣는 다는 것.',\n",
       "  'class float:\\n    def __init__(self, x=0):\\n        pass',\n",
       "  'class float:\\n    def __init__(self, x=0, /):\\n        pass',\n",
       "  'class B:\\n    def __init__(self, x):\\n        self.x = x\\n        return 3',\n",
       "  'x = B(3)',\n",
       "  'class X:\\n    pass',\n",
       "  'x = X()',\n",
       "  'dir(object)',\n",
       "  '# 그렇다면 모든 파이썬의 클래스는 __init__ 가 미리 만들어져 있다는 것.\\n# 기본이 아무것도 집어넣지 않게 만들어져 있음\\nx = X()',\n",
       "  '# 인스턴스 x라는 애가 가지는 a라는 변수를 만드는 것\\nx.a = 1',\n",
       "  'y = X()',\n",
       "  'class X(object):\\n    def __init__(self, a):\\n        self.a = a',\n",
       "  '# __init__ 는 괄호붙힐 때 실행됨\\nt = X() # 이거는 안됨\\n# __init__가 () 때문에 실행되는데 인자가 self 빼고',\n",
       "  't = X(3)',\n",
       "  '# 그래서 vars()에서 나오는 것\\nvars(t)',\n",
       "  'list({2,3,4}) # {2,3,4} 가 iterator가 되서 한 ㄱ개씩 뽑아서 list를 만들어 줌',\n",
       "  \"class X(object):\\n    def __new__(self):\\n        print('new')\\n    def __init__(self):  # 생성자(constructor) -> 객체를 생성할 때 실행되는 것\\n        print('init')  # return None 이어야 함\",\n",
       "  'b = X() # ()를 때리면 __init__ 가 실행됨',\n",
       "  \"class X(object):\\n    def __new__(self):\\n        print('new')\\n        return super().__new__(cls)\\n    def __init__(self):  # 생성자(constructor) -> 객체를 생성할 때 실행되는 것\\n        print('init')  # return None 이어야 함\",\n",
       "  'b = X()',\n",
       "  \"class X(object):\\n    def __new__(cls):\\n        print('new')\\n        return super().__new__(cls)\\n    def __init__(self):  # 생성자(constructor) -> 객체를 생성할 때 실행되는 것\\n        print('init')  # return None 이어야 함\",\n",
       "  'b = X()',\n",
       "  '# name space \\n# 어제 예시\\nclass B:\\n    def x(self):\\n        return 1',\n",
       "  'b = B()',\n",
       "  'b.x # 이게 메소드 방식',\n",
       "  'B.x',\n",
       "  'B.x(ㅠ)) # 이것은 함수. ',\n",
       "  'B.x(b) # 이것은 함수. ',\n",
       "  'b.x() # 이게 메소드 방식\\n# self가 두개 중복되니까, 메소드로 사용할 때는 self 없애라고 했음',\n",
       "  \"# name space \\n# 어제 예시\\nclass Math:\\n    def x(self):\\n        return 1\\n    \\n    @staticmethod  # 메소드 아니고 함수하고 똑같음. 함수인데 클래스 안에 집어넣어서 클래스 이름으로 접근할 수 있게 해주는 것. 그래서 self 쓰면 안됨\\n    def cos():  # 첫번째 인자가 자기 자신이 아니라는 것\\n        print('a')\\n        \\n# 이렇게 만들면 Math.cos 이렇게 쓸 수 있음 -> categorization 이 용이함.\\n# name space 기능\",\n",
       "  '# staticmethod\\nMath.cos()',\n",
       "  'b = Math()',\n",
       "  'b.cos() # 인스턴스에 없으면 클래스를 찾음',\n",
       "  '# class method\\nclass T:\\n    @classmethod\\n    def xx(cls):  # 관례\\n        cls.ss = 1',\n",
       "  'T.xx\\n# 이 다음에 ()를 써야할까 말아야 할까',\n",
       "  'T.xx()\\n# 이 다음에 ()를 써야할까 말아야 할까',\n",
       "  'T.xx()\\n# ()안에 클래스를 써야할까 말아야 할까',\n",
       "  \"# class method  -> class 가 쓰는 것\\nclass T:\\n    @classmethod\\n    def xx(cls):  # 관례\\n        cls.ss = 1\\n        print('a')\",\n",
       "  'T.xx()\\n# ()안에 클래스를 써야할까 말아야 할까 => 집어넣지 않음',\n",
       "  'vars(a)',\n",
       "  'a = T()',\n",
       "  'vars(a)',\n",
       "  'a.xx() # 인스턴스가 클래스 메소드 쓸 수 있을까?\\n# 인스턴스에 xx가 없으면 클래스거를 찾음. \\n# 그렇다면 () 안에 집어넣어야 할까? -> 안 집어넣음',\n",
       "  'vars(a)',\n",
       "  'T.ss',\n",
       "  'import pandas as pd',\n",
       "  \"get_ipython().system('pip install pandas')\",\n",
       "  'import pandas as pd',\n",
       "  'pd.DataFrame.from_dict\\n# DataFrame 은 카멜 방식으로 클래스\\n# 그렇다면 from_dict 는 클래스 메소드',\n",
       "  'from itertools import combinations\\n# 함수형 패러다임과 관련된 라이브러리는 3개가 있음\\n# itertools -> 이걸로 yield 의 개념을 공부\\n# functools\\n# operator\\n# 함수형 패러다임 배웠던 특징은\\n# iterator, generator, comprehension',\n",
       "  '# import 는 남의 거 가져다 쓰는 것\\n# 처음보면 스캔 한 번 하는 것이 좋음 => dir 또는 help 보는 것이 중요\\nb = combinations([1,2,3,4], 3)\\n# combinations 는 함수일까 클래스일까?\\n# init 와 Type: type 이라는 것은 클래스\\n# 클래스는 사용하기 위해서 인스턴스화 해야 함.\\n# 왜 카멜 방식으로 안했을까? -> 파이썬의 빌트인이나 라이브러리는 일부로 카멜 방식을 안지키는 것이 많음.\\n# 인자 개수는 2개, iterable 과 r\\n# combination은 nCr\\n# iterable인 애들은 결과가 iterator로 나옴.\\n# 그 뜻은 next()해야 결과가 나옴',\n",
       "  'next(b)',\n",
       "  'next(b)',\n",
       "  'next(b)',\n",
       "  '# 결과물 한번에 보는 방법\\nlist(b)',\n",
       "  '# import 는 남의 거 가져다 쓰는 것\\n# 처음보면 스캔 한 번 하는 것이 좋음 => dir 또는 help 보는 것이 중요\\nb = combinations([1,2,3,4], 3)\\n# combinations 는 함수일까 클래스일까?\\n# init 와 Type: type 이라는 것은 클래스\\n# 클래스는 사용하기 위해서 인스턴스화 해야 함.\\n# 왜 카멜 방식으로 안했을까? -> 파이썬의 빌트인이나 라이브러리는 일부로 카멜 방식을 안지키는 것이 많음.\\n# 인자 개수는 2개, iterable 과 r\\n# combination은 nCr\\n# iterable인 애들은 결과가 iterator로 나옴.\\n# 그 뜻은 next()해야 결과가 나옴',\n",
       "  '# 결과물 한번에 보는 방법\\nlist(b)',\n",
       "  'from itertools import cycle',\n",
       "  'b = cycle([1,2,3])\\nnext(b)',\n",
       "  'b = cycle([1,2,3])\\nnext(b)',\n",
       "  'b = cycle([1,2,3])\\nnext(b)',\n",
       "  'b = cycle([1,2,3])\\nnext(b)',\n",
       "  'b = cycle([1,2,3])',\n",
       "  'next(b)',\n",
       "  'next(b)',\n",
       "  'next(b)',\n",
       "  'next(b)',\n",
       "  'next(b)',\n",
       "  'next(b)',\n",
       "  'next(b)',\n",
       "  'next(b)',\n",
       "  'next(b)',\n",
       "  'next(b)',\n",
       "  'from itertools import count',\n",
       "  '# 우리는 지금 yield 배움.\\n# 이것은 무한루프하고 연관됨\\nb = count()  # 인자로 아무것도 안 넣어줘도 되고, 두 개 까지 넣어도 됨. default가 있기 때문',\n",
       "  'next(b)',\n",
       "  'next(b)',\n",
       "  'next(b)',\n",
       "  'next(b)',\n",
       "  'next(b)',\n",
       "  'next(b)',\n",
       "  'next(b)',\n",
       "  'next(b)',\n",
       "  'next(b)',\n",
       "  'next(b)',\n",
       "  'next(b)',\n",
       "  'next(b)',\n",
       "  'next(b)',\n",
       "  'next(b)',\n",
       "  'next(b)',\n",
       "  'next(b)',\n",
       "  'next(b)',\n",
       "  'next(b)',\n",
       "  'next(b)',\n",
       "  'b = count(step=2)',\n",
       "  'next(b)',\n",
       "  'next(b)',\n",
       "  'next(b)',\n",
       "  'zip',\n",
       "  'zip([1,2,3], [4,5,6]) # iterable 집어넣으면 항상 iterator => next',\n",
       "  'c = zip([1,2,3], [4,5,6]) # iterable 집어넣으면 항상 iterator => next',\n",
       "  'next(c)',\n",
       "  'next(c)',\n",
       "  'next(c)',\n",
       "  'next(c)',\n",
       "  'c = zip([1,2,3], [4,5,6]) # iterable 집어넣으면 항상 iterator => next',\n",
       "  'next(c)',\n",
       "  'c = zip([1,2,3,4], [4,5,6]) # iterable 집어넣으면 항상 iterator => next',\n",
       "  'next(c)',\n",
       "  'next(c)',\n",
       "  'next(c)',\n",
       "  'next(c)',\n",
       "  'from itertools import zip_longest',\n",
       "  'c = zip_longest([1,2,3,4], [4,5,6])',\n",
       "  'next(c)',\n",
       "  'next(c)',\n",
       "  'next(c)',\n",
       "  'next(c)',\n",
       "  'from operator import add',\n",
       "  'add(1, 1)',\n",
       "  'from functools import partial',\n",
       "  'add2 = partial(add, b=2)',\n",
       "  'add2(5)',\n",
       "  'add2 = partial(add, 2)\\n# 기존에 있는 함수의 파라미터를 바꿀 수 있음. 새로운 함수를 쉽게 만들 수 있는 것',\n",
       "  'add2(5)',\n",
       "  'import matplotlib',\n",
       "  'dir(matplotlib)',\n",
       "  'len(dir(matplotlib))',\n",
       "  'import matplotlib.pyplot as plt',\n",
       "  'len(dir(matplotlib))',\n",
       "  '# import 실행 방식\\n# 어디에서 import 되는 것을 가져오는 것인가?\\nimport sys',\n",
       "  'import 연습용',\n",
       "  'import moon',\n",
       "  'dir(moon)',\n",
       "  'import sys',\n",
       "  'sys.path',\n",
       "  '#',\n",
       "  'import moon',\n",
       "  'dir(moon)',\n",
       "  'import moon',\n",
       "  'dir(moon)',\n",
       "  'import sys',\n",
       "  'sys.path\\n# 맨 위에 있는 것이 내가 작업하는 영역\\n# 밑으로 이동하면서 찾음.\\n# 즉 순서에 따라서 찾음.',\n",
       "  'moon._x',\n",
       "  \"get_ipython().run_line_magic('whos', '')\",\n",
       "  'globals()'],\n",
       " 'Out': {1: ['False',\n",
       "   'None',\n",
       "   'True',\n",
       "   'and',\n",
       "   'as',\n",
       "   'assert',\n",
       "   'async',\n",
       "   'await',\n",
       "   'break',\n",
       "   'class',\n",
       "   'continue',\n",
       "   'def',\n",
       "   'del',\n",
       "   'elif',\n",
       "   'else',\n",
       "   'except',\n",
       "   'finally',\n",
       "   'for',\n",
       "   'from',\n",
       "   'global',\n",
       "   'if',\n",
       "   'import',\n",
       "   'in',\n",
       "   'is',\n",
       "   'lambda',\n",
       "   'nonlocal',\n",
       "   'not',\n",
       "   'or',\n",
       "   'pass',\n",
       "   'raise',\n",
       "   'return',\n",
       "   'try',\n",
       "   'while',\n",
       "   'with',\n",
       "   'yield'],\n",
       "  9: {'z': 3, 'x': 'a'},\n",
       "  10: 1,\n",
       "  12: 1,\n",
       "  13: 1,\n",
       "  14: 140479119393008,\n",
       "  15: 140479119393008,\n",
       "  17: 1,\n",
       "  18: {'z': 3, 'x': 'a'},\n",
       "  19: 1,\n",
       "  20: 'b',\n",
       "  22: {},\n",
       "  23: 1,\n",
       "  24: {...},\n",
       "  25: {},\n",
       "  26: 1,\n",
       "  27: {},\n",
       "  30: {'y': 2},\n",
       "  31: 1,\n",
       "  32: {'y': 2},\n",
       "  35: {'x': 1},\n",
       "  38: 3,\n",
       "  40: 4,\n",
       "  41: 3.0,\n",
       "  48: ['__class__',\n",
       "   '__delattr__',\n",
       "   '__dir__',\n",
       "   '__doc__',\n",
       "   '__eq__',\n",
       "   '__format__',\n",
       "   '__ge__',\n",
       "   '__getattribute__',\n",
       "   '__gt__',\n",
       "   '__hash__',\n",
       "   '__init__',\n",
       "   '__init_subclass__',\n",
       "   '__le__',\n",
       "   '__lt__',\n",
       "   '__ne__',\n",
       "   '__new__',\n",
       "   '__reduce__',\n",
       "   '__reduce_ex__',\n",
       "   '__repr__',\n",
       "   '__setattr__',\n",
       "   '__sizeof__',\n",
       "   '__str__',\n",
       "   '__subclasshook__'],\n",
       "  55: {'a': 3},\n",
       "  56: [2, 3, 4],\n",
       "  65: <bound method B.x of <__main__.B object at 0x7fc3b8b01e10>>,\n",
       "  66: <function __main__.B.x(self)>,\n",
       "  68: 1,\n",
       "  69: 1,\n",
       "  75: <bound method T.xx of <class '__main__.T'>>,\n",
       "  80: {'z': 3, 'x': 'a'},\n",
       "  82: {},\n",
       "  84: {},\n",
       "  85: 1,\n",
       "  89: <bound method DataFrame.from_dict of <class 'pandas.core.frame.DataFrame'>>,\n",
       "  92: (1, 2, 3),\n",
       "  93: (1, 2, 4),\n",
       "  94: (1, 3, 4),\n",
       "  95: [(2, 3, 4)],\n",
       "  97: [(1, 2, 3), (1, 2, 4), (1, 3, 4), (2, 3, 4)],\n",
       "  99: 1,\n",
       "  100: 1,\n",
       "  101: 1,\n",
       "  102: 1,\n",
       "  104: 1,\n",
       "  105: 2,\n",
       "  106: 3,\n",
       "  107: 1,\n",
       "  108: 2,\n",
       "  109: 3,\n",
       "  110: 1,\n",
       "  111: 2,\n",
       "  112: 3,\n",
       "  113: 1,\n",
       "  116: 0,\n",
       "  117: 1,\n",
       "  118: 2,\n",
       "  119: 3,\n",
       "  120: 4,\n",
       "  121: 5,\n",
       "  122: 6,\n",
       "  123: 7,\n",
       "  124: 8,\n",
       "  125: 9,\n",
       "  126: 10,\n",
       "  127: 11,\n",
       "  128: 12,\n",
       "  129: 13,\n",
       "  130: 14,\n",
       "  131: 15,\n",
       "  132: 16,\n",
       "  133: 17,\n",
       "  134: 18,\n",
       "  136: 0,\n",
       "  137: 2,\n",
       "  138: 4,\n",
       "  139: zip,\n",
       "  140: <zip at 0x7fc3d9bc03c0>,\n",
       "  142: (1, 4),\n",
       "  143: (2, 5),\n",
       "  144: (3, 6),\n",
       "  147: (1, 4),\n",
       "  149: (1, 4),\n",
       "  150: (2, 5),\n",
       "  151: (3, 6),\n",
       "  155: (1, 4),\n",
       "  156: (2, 5),\n",
       "  157: (3, 6),\n",
       "  158: (4, None),\n",
       "  160: 2,\n",
       "  165: 7,\n",
       "  167: ['ExecutableNotFoundError',\n",
       "   'MatplotlibDeprecationWarning',\n",
       "   'MutableMapping',\n",
       "   'Parameter',\n",
       "   'Path',\n",
       "   'RcParams',\n",
       "   '_ExecInfo',\n",
       "   '_VersionInfo',\n",
       "   '__bibtex__',\n",
       "   '__builtins__',\n",
       "   '__cached__',\n",
       "   '__doc__',\n",
       "   '__file__',\n",
       "   '__getattr__',\n",
       "   '__loader__',\n",
       "   '__name__',\n",
       "   '__package__',\n",
       "   '__path__',\n",
       "   '__spec__',\n",
       "   '_add_data_doc',\n",
       "   '_afm',\n",
       "   '_api',\n",
       "   '_blocking_input',\n",
       "   '_c_internal_utils',\n",
       "   '_check_versions',\n",
       "   '_cm',\n",
       "   '_cm_listed',\n",
       "   '_color_data',\n",
       "   '_constrained_layout',\n",
       "   '_deprecated_ignore_map',\n",
       "   '_deprecated_map',\n",
       "   '_deprecated_remain_as_none',\n",
       "   '_docstring',\n",
       "   '_ensure_handler',\n",
       "   '_enums',\n",
       "   '_fontconfig_pattern',\n",
       "   '_get_config_or_cache_dir',\n",
       "   '_get_executable_info',\n",
       "   '_get_ssl_context',\n",
       "   '_get_version',\n",
       "   '_get_xdg_cache_dir',\n",
       "   '_get_xdg_config_dir',\n",
       "   '_image',\n",
       "   '_init_tests',\n",
       "   '_label_from_arg',\n",
       "   '_layoutgrid',\n",
       "   '_log',\n",
       "   '_logged_cached',\n",
       "   '_mathtext',\n",
       "   '_mathtext_data',\n",
       "   '_open_file_or_url',\n",
       "   '_parse_to_version_info',\n",
       "   '_path',\n",
       "   '_preprocess_data',\n",
       "   '_pylab_helpers',\n",
       "   '_rc_params_in_file',\n",
       "   '_replacer',\n",
       "   '_text_helpers',\n",
       "   '_tight_bbox',\n",
       "   '_tight_layout',\n",
       "   '_version',\n",
       "   'artist',\n",
       "   'atexit',\n",
       "   'axes',\n",
       "   'axis',\n",
       "   'backend_bases',\n",
       "   'backend_managers',\n",
       "   'backend_tools',\n",
       "   'backends',\n",
       "   'bezier',\n",
       "   'category',\n",
       "   'cbook',\n",
       "   'checkdep_usetex',\n",
       "   'cm',\n",
       "   'collections',\n",
       "   'color_sequences',\n",
       "   'colorbar',\n",
       "   'colormaps',\n",
       "   'colors',\n",
       "   'container',\n",
       "   'contextlib',\n",
       "   'contour',\n",
       "   'cycler',\n",
       "   'dates',\n",
       "   'defaultParams',\n",
       "   'dviread',\n",
       "   'figure',\n",
       "   'font_manager',\n",
       "   'ft2font',\n",
       "   'functools',\n",
       "   'get_backend',\n",
       "   'get_cachedir',\n",
       "   'get_configdir',\n",
       "   'get_data_path',\n",
       "   'gridspec',\n",
       "   'hatch',\n",
       "   'image',\n",
       "   'importlib',\n",
       "   'inspect',\n",
       "   'interactive',\n",
       "   'is_interactive',\n",
       "   'layout_engine',\n",
       "   'legend',\n",
       "   'legend_handler',\n",
       "   'lines',\n",
       "   'locale',\n",
       "   'logging',\n",
       "   'markers',\n",
       "   'mathtext',\n",
       "   'matplotlib_fname',\n",
       "   'mlab',\n",
       "   'namedtuple',\n",
       "   'numpy',\n",
       "   'offsetbox',\n",
       "   'os',\n",
       "   'parse_version',\n",
       "   'patches',\n",
       "   'path',\n",
       "   'pprint',\n",
       "   'projections',\n",
       "   'pyplot',\n",
       "   'quiver',\n",
       "   'rc',\n",
       "   'rcParams',\n",
       "   'rcParamsDefault',\n",
       "   'rcParamsOrig',\n",
       "   'rc_context',\n",
       "   'rc_file',\n",
       "   'rc_file_defaults',\n",
       "   'rc_params',\n",
       "   'rc_params_from_file',\n",
       "   'rcdefaults',\n",
       "   'rcsetup',\n",
       "   're',\n",
       "   'sanitize_sequence',\n",
       "   'scale',\n",
       "   'set_loglevel',\n",
       "   'shutil',\n",
       "   'spines',\n",
       "   'stackplot',\n",
       "   'streamplot',\n",
       "   'style',\n",
       "   'subprocess',\n",
       "   'sys',\n",
       "   'table',\n",
       "   'tempfile',\n",
       "   'texmanager',\n",
       "   'text',\n",
       "   'textpath',\n",
       "   'ticker',\n",
       "   'transforms',\n",
       "   'tri',\n",
       "   'units',\n",
       "   'use',\n",
       "   'validate_backend',\n",
       "   'warnings',\n",
       "   'widgets'],\n",
       "  168: 157,\n",
       "  170: 157,\n",
       "  174: ['__builtins__',\n",
       "   '__cached__',\n",
       "   '__doc__',\n",
       "   '__file__',\n",
       "   '__loader__',\n",
       "   '__name__',\n",
       "   '__package__',\n",
       "   '__spec__'],\n",
       "  176: ['/Users/baekkwanghyun/Desktop/SW_academy',\n",
       "   '/Users/baekkwanghyun/miniconda3/lib/python310.zip',\n",
       "   '/Users/baekkwanghyun/miniconda3/lib/python3.10',\n",
       "   '/Users/baekkwanghyun/miniconda3/lib/python3.10/lib-dynload',\n",
       "   '',\n",
       "   '/Users/baekkwanghyun/miniconda3/lib/python3.10/site-packages',\n",
       "   '/Users/baekkwanghyun/miniconda3/lib/python3.10/site-packages/PyQt5_sip-12.11.0-py3.10-macosx-10.9-x86_64.egg'],\n",
       "  179: ['__builtins__',\n",
       "   '__cached__',\n",
       "   '__doc__',\n",
       "   '__file__',\n",
       "   '__loader__',\n",
       "   '__name__',\n",
       "   '__package__',\n",
       "   '__spec__'],\n",
       "  181: ['__builtins__',\n",
       "   '__cached__',\n",
       "   '__doc__',\n",
       "   '__file__',\n",
       "   '__loader__',\n",
       "   '__name__',\n",
       "   '__package__',\n",
       "   '__spec__'],\n",
       "  183: ['/Users/baekkwanghyun/Desktop/SW_academy',\n",
       "   '/Users/baekkwanghyun/miniconda3/lib/python310.zip',\n",
       "   '/Users/baekkwanghyun/miniconda3/lib/python3.10',\n",
       "   '/Users/baekkwanghyun/miniconda3/lib/python3.10/lib-dynload',\n",
       "   '',\n",
       "   '/Users/baekkwanghyun/miniconda3/lib/python3.10/site-packages',\n",
       "   '/Users/baekkwanghyun/miniconda3/lib/python3.10/site-packages/PyQt5_sip-12.11.0-py3.10-macosx-10.9-x86_64.egg']},\n",
       " 'get_ipython': <bound method InteractiveShell.get_ipython of <ipykernel.zmqshell.ZMQInteractiveShell object at 0x7fc3e8dd74f0>>,\n",
       " 'exit': <IPython.core.autocall.ZMQExitAutocall at 0x7fc3e8dd7fd0>,\n",
       " 'quit': <IPython.core.autocall.ZMQExitAutocall at 0x7fc3e8dd7fd0>,\n",
       " 'open': <function io.open(file, mode='r', buffering=-1, encoding=None, errors=None, newline=None, closefd=True, opener=None)>,\n",
       " '_': ['/Users/baekkwanghyun/Desktop/SW_academy',\n",
       "  '/Users/baekkwanghyun/miniconda3/lib/python310.zip',\n",
       "  '/Users/baekkwanghyun/miniconda3/lib/python3.10',\n",
       "  '/Users/baekkwanghyun/miniconda3/lib/python3.10/lib-dynload',\n",
       "  '',\n",
       "  '/Users/baekkwanghyun/miniconda3/lib/python3.10/site-packages',\n",
       "  '/Users/baekkwanghyun/miniconda3/lib/python3.10/site-packages/PyQt5_sip-12.11.0-py3.10-macosx-10.9-x86_64.egg'],\n",
       " '__': ['__builtins__',\n",
       "  '__cached__',\n",
       "  '__doc__',\n",
       "  '__file__',\n",
       "  '__loader__',\n",
       "  '__name__',\n",
       "  '__package__',\n",
       "  '__spec__'],\n",
       " '___': ['__builtins__',\n",
       "  '__cached__',\n",
       "  '__doc__',\n",
       "  '__file__',\n",
       "  '__loader__',\n",
       "  '__name__',\n",
       "  '__package__',\n",
       "  '__spec__'],\n",
       " '__vsc_ipynb_file__': '/Users/baekkwanghyun/Desktop/SW_academy/03.08(오후).ipynb',\n",
       " 'matplotlib': <module 'matplotlib' from '/Users/baekkwanghyun/miniconda3/lib/python3.10/site-packages/matplotlib/__init__.py'>,\n",
       " '_VSCode_defaultMatplotlib_Params': {'_internal.classic_mode': False,\n",
       "  'agg.path.chunksize': 0,\n",
       "  'animation.bitrate': -1,\n",
       "  'animation.codec': 'h264',\n",
       "  'animation.convert_args': ['-layers', 'OptimizePlus'],\n",
       "  'animation.convert_path': 'convert',\n",
       "  'animation.embed_limit': 20.0,\n",
       "  'animation.ffmpeg_args': [],\n",
       "  'animation.ffmpeg_path': 'ffmpeg',\n",
       "  'animation.frame_format': 'png',\n",
       "  'animation.html': 'none',\n",
       "  'animation.writer': 'ffmpeg',\n",
       "  'axes.autolimit_mode': 'data',\n",
       "  'axes.axisbelow': 'line',\n",
       "  'axes.edgecolor': 'black',\n",
       "  'axes.facecolor': 'white',\n",
       "  'axes.formatter.limits': [-5, 6],\n",
       "  'axes.formatter.min_exponent': 0,\n",
       "  'axes.formatter.offset_threshold': 4,\n",
       "  'axes.formatter.use_locale': False,\n",
       "  'axes.formatter.use_mathtext': False,\n",
       "  'axes.formatter.useoffset': True,\n",
       "  'axes.grid': False,\n",
       "  'axes.grid.axis': 'both',\n",
       "  'axes.grid.which': 'major',\n",
       "  'axes.labelcolor': 'black',\n",
       "  'axes.labelpad': 4.0,\n",
       "  'axes.labelsize': 'medium',\n",
       "  'axes.labelweight': 'normal',\n",
       "  'axes.linewidth': 0.8,\n",
       "  'axes.prop_cycle': cycler('color', ['#1f77b4', '#ff7f0e', '#2ca02c', '#d62728', '#9467bd', '#8c564b', '#e377c2', '#7f7f7f', '#bcbd22', '#17becf']),\n",
       "  'axes.spines.bottom': True,\n",
       "  'axes.spines.left': True,\n",
       "  'axes.spines.right': True,\n",
       "  'axes.spines.top': True,\n",
       "  'axes.titlecolor': 'auto',\n",
       "  'axes.titlelocation': 'center',\n",
       "  'axes.titlepad': 6.0,\n",
       "  'axes.titlesize': 'large',\n",
       "  'axes.titleweight': 'normal',\n",
       "  'axes.titley': None,\n",
       "  'axes.unicode_minus': True,\n",
       "  'axes.xmargin': 0.05,\n",
       "  'axes.ymargin': 0.05,\n",
       "  'axes.zmargin': 0.05,\n",
       "  'axes3d.grid': True,\n",
       "  'axes3d.xaxis.panecolor': (0.95, 0.95, 0.95, 0.5),\n",
       "  'axes3d.yaxis.panecolor': (0.9, 0.9, 0.9, 0.5),\n",
       "  'axes3d.zaxis.panecolor': (0.925, 0.925, 0.925, 0.5),\n",
       "  'backend': 'module://matplotlib_inline.backend_inline',\n",
       "  'backend_fallback': True,\n",
       "  'boxplot.bootstrap': None,\n",
       "  'boxplot.boxprops.color': 'black',\n",
       "  'boxplot.boxprops.linestyle': '-',\n",
       "  'boxplot.boxprops.linewidth': 1.0,\n",
       "  'boxplot.capprops.color': 'black',\n",
       "  'boxplot.capprops.linestyle': '-',\n",
       "  'boxplot.capprops.linewidth': 1.0,\n",
       "  'boxplot.flierprops.color': 'black',\n",
       "  'boxplot.flierprops.linestyle': 'none',\n",
       "  'boxplot.flierprops.linewidth': 1.0,\n",
       "  'boxplot.flierprops.marker': 'o',\n",
       "  'boxplot.flierprops.markeredgecolor': 'black',\n",
       "  'boxplot.flierprops.markeredgewidth': 1.0,\n",
       "  'boxplot.flierprops.markerfacecolor': 'none',\n",
       "  'boxplot.flierprops.markersize': 6.0,\n",
       "  'boxplot.meanline': False,\n",
       "  'boxplot.meanprops.color': 'C2',\n",
       "  'boxplot.meanprops.linestyle': '--',\n",
       "  'boxplot.meanprops.linewidth': 1.0,\n",
       "  'boxplot.meanprops.marker': '^',\n",
       "  'boxplot.meanprops.markeredgecolor': 'C2',\n",
       "  'boxplot.meanprops.markerfacecolor': 'C2',\n",
       "  'boxplot.meanprops.markersize': 6.0,\n",
       "  'boxplot.medianprops.color': 'C1',\n",
       "  'boxplot.medianprops.linestyle': '-',\n",
       "  'boxplot.medianprops.linewidth': 1.0,\n",
       "  'boxplot.notch': False,\n",
       "  'boxplot.patchartist': False,\n",
       "  'boxplot.showbox': True,\n",
       "  'boxplot.showcaps': True,\n",
       "  'boxplot.showfliers': True,\n",
       "  'boxplot.showmeans': False,\n",
       "  'boxplot.vertical': True,\n",
       "  'boxplot.whiskerprops.color': 'black',\n",
       "  'boxplot.whiskerprops.linestyle': '-',\n",
       "  'boxplot.whiskerprops.linewidth': 1.0,\n",
       "  'boxplot.whiskers': 1.5,\n",
       "  'contour.algorithm': 'mpl2014',\n",
       "  'contour.corner_mask': True,\n",
       "  'contour.linewidth': None,\n",
       "  'contour.negative_linestyle': 'dashed',\n",
       "  'date.autoformatter.day': '%Y-%m-%d',\n",
       "  'date.autoformatter.hour': '%m-%d %H',\n",
       "  'date.autoformatter.microsecond': '%M:%S.%f',\n",
       "  'date.autoformatter.minute': '%d %H:%M',\n",
       "  'date.autoformatter.month': '%Y-%m',\n",
       "  'date.autoformatter.second': '%H:%M:%S',\n",
       "  'date.autoformatter.year': '%Y',\n",
       "  'date.converter': 'auto',\n",
       "  'date.epoch': '1970-01-01T00:00:00',\n",
       "  'date.interval_multiples': True,\n",
       "  'docstring.hardcopy': False,\n",
       "  'errorbar.capsize': 0.0,\n",
       "  'figure.autolayout': False,\n",
       "  'figure.constrained_layout.h_pad': 0.04167,\n",
       "  'figure.constrained_layout.hspace': 0.02,\n",
       "  'figure.constrained_layout.use': False,\n",
       "  'figure.constrained_layout.w_pad': 0.04167,\n",
       "  'figure.constrained_layout.wspace': 0.02,\n",
       "  'figure.dpi': 100.0,\n",
       "  'figure.edgecolor': 'white',\n",
       "  'figure.facecolor': 'white',\n",
       "  'figure.figsize': [6.4, 4.8],\n",
       "  'figure.frameon': True,\n",
       "  'figure.hooks': [],\n",
       "  'figure.labelsize': 'large',\n",
       "  'figure.labelweight': 'normal',\n",
       "  'figure.max_open_warning': 20,\n",
       "  'figure.raise_window': True,\n",
       "  'figure.subplot.bottom': 0.11,\n",
       "  'figure.subplot.hspace': 0.2,\n",
       "  'figure.subplot.left': 0.125,\n",
       "  'figure.subplot.right': 0.9,\n",
       "  'figure.subplot.top': 0.88,\n",
       "  'figure.subplot.wspace': 0.2,\n",
       "  'figure.titlesize': 'large',\n",
       "  'figure.titleweight': 'normal',\n",
       "  'font.cursive': ['Apple Chancery',\n",
       "   'Textile',\n",
       "   'Zapf Chancery',\n",
       "   'Sand',\n",
       "   'Script MT',\n",
       "   'Felipa',\n",
       "   'Comic Neue',\n",
       "   'Comic Sans MS',\n",
       "   'cursive'],\n",
       "  'font.family': ['sans-serif'],\n",
       "  'font.fantasy': ['Chicago',\n",
       "   'Charcoal',\n",
       "   'Impact',\n",
       "   'Western',\n",
       "   'Humor Sans',\n",
       "   'xkcd',\n",
       "   'fantasy'],\n",
       "  'font.monospace': ['DejaVu Sans Mono',\n",
       "   'Bitstream Vera Sans Mono',\n",
       "   'Computer Modern Typewriter',\n",
       "   'Andale Mono',\n",
       "   'Nimbus Mono L',\n",
       "   'Courier New',\n",
       "   'Courier',\n",
       "   'Fixed',\n",
       "   'Terminal',\n",
       "   'monospace'],\n",
       "  'font.sans-serif': ['DejaVu Sans',\n",
       "   'Bitstream Vera Sans',\n",
       "   'Computer Modern Sans Serif',\n",
       "   'Lucida Grande',\n",
       "   'Verdana',\n",
       "   'Geneva',\n",
       "   'Lucid',\n",
       "   'Arial',\n",
       "   'Helvetica',\n",
       "   'Avant Garde',\n",
       "   'sans-serif'],\n",
       "  'font.serif': ['DejaVu Serif',\n",
       "   'Bitstream Vera Serif',\n",
       "   'Computer Modern Roman',\n",
       "   'New Century Schoolbook',\n",
       "   'Century Schoolbook L',\n",
       "   'Utopia',\n",
       "   'ITC Bookman',\n",
       "   'Bookman',\n",
       "   'Nimbus Roman No9 L',\n",
       "   'Times New Roman',\n",
       "   'Times',\n",
       "   'Palatino',\n",
       "   'Charter',\n",
       "   'serif'],\n",
       "  'font.size': 10.0,\n",
       "  'font.stretch': 'normal',\n",
       "  'font.style': 'normal',\n",
       "  'font.variant': 'normal',\n",
       "  'font.weight': 'normal',\n",
       "  'grid.alpha': 1.0,\n",
       "  'grid.color': '#b0b0b0',\n",
       "  'grid.linestyle': '-',\n",
       "  'grid.linewidth': 0.8,\n",
       "  'hatch.color': 'black',\n",
       "  'hatch.linewidth': 1.0,\n",
       "  'hist.bins': 10,\n",
       "  'image.aspect': 'equal',\n",
       "  'image.cmap': 'viridis',\n",
       "  'image.composite_image': True,\n",
       "  'image.interpolation': 'antialiased',\n",
       "  'image.lut': 256,\n",
       "  'image.origin': 'upper',\n",
       "  'image.resample': True,\n",
       "  'interactive': True,\n",
       "  'keymap.back': ['left', 'c', 'backspace', 'MouseButton.BACK'],\n",
       "  'keymap.copy': ['ctrl+c', 'cmd+c'],\n",
       "  'keymap.forward': ['right', 'v', 'MouseButton.FORWARD'],\n",
       "  'keymap.fullscreen': ['f', 'ctrl+f'],\n",
       "  'keymap.grid': ['g'],\n",
       "  'keymap.grid_minor': ['G'],\n",
       "  'keymap.help': ['f1'],\n",
       "  'keymap.home': ['h', 'r', 'home'],\n",
       "  'keymap.pan': ['p'],\n",
       "  'keymap.quit': ['ctrl+w', 'cmd+w', 'q'],\n",
       "  'keymap.quit_all': [],\n",
       "  'keymap.save': ['s', 'ctrl+s'],\n",
       "  'keymap.xscale': ['k', 'L'],\n",
       "  'keymap.yscale': ['l'],\n",
       "  'keymap.zoom': ['o'],\n",
       "  'legend.borderaxespad': 0.5,\n",
       "  'legend.borderpad': 0.4,\n",
       "  'legend.columnspacing': 2.0,\n",
       "  'legend.edgecolor': '0.8',\n",
       "  'legend.facecolor': 'inherit',\n",
       "  'legend.fancybox': True,\n",
       "  'legend.fontsize': 'medium',\n",
       "  'legend.framealpha': 0.8,\n",
       "  'legend.frameon': True,\n",
       "  'legend.handleheight': 0.7,\n",
       "  'legend.handlelength': 2.0,\n",
       "  'legend.handletextpad': 0.8,\n",
       "  'legend.labelcolor': 'None',\n",
       "  'legend.labelspacing': 0.5,\n",
       "  'legend.loc': 'best',\n",
       "  'legend.markerscale': 1.0,\n",
       "  'legend.numpoints': 1,\n",
       "  'legend.scatterpoints': 1,\n",
       "  'legend.shadow': False,\n",
       "  'legend.title_fontsize': None,\n",
       "  'lines.antialiased': True,\n",
       "  'lines.color': 'C0',\n",
       "  'lines.dash_capstyle': <CapStyle.butt: 'butt'>,\n",
       "  'lines.dash_joinstyle': <JoinStyle.round: 'round'>,\n",
       "  'lines.dashdot_pattern': [6.4, 1.6, 1.0, 1.6],\n",
       "  'lines.dashed_pattern': [3.7, 1.6],\n",
       "  'lines.dotted_pattern': [1.0, 1.65],\n",
       "  'lines.linestyle': '-',\n",
       "  'lines.linewidth': 1.5,\n",
       "  'lines.marker': 'None',\n",
       "  'lines.markeredgecolor': 'auto',\n",
       "  'lines.markeredgewidth': 1.0,\n",
       "  'lines.markerfacecolor': 'auto',\n",
       "  'lines.markersize': 6.0,\n",
       "  'lines.scale_dashes': True,\n",
       "  'lines.solid_capstyle': <CapStyle.projecting: 'projecting'>,\n",
       "  'lines.solid_joinstyle': <JoinStyle.round: 'round'>,\n",
       "  'markers.fillstyle': 'full',\n",
       "  'mathtext.bf': 'sans:bold',\n",
       "  'mathtext.cal': 'cursive',\n",
       "  'mathtext.default': 'it',\n",
       "  'mathtext.fallback': 'cm',\n",
       "  'mathtext.fontset': 'dejavusans',\n",
       "  'mathtext.it': 'sans:italic',\n",
       "  'mathtext.rm': 'sans',\n",
       "  'mathtext.sf': 'sans',\n",
       "  'mathtext.tt': 'monospace',\n",
       "  'patch.antialiased': True,\n",
       "  'patch.edgecolor': 'black',\n",
       "  'patch.facecolor': 'C0',\n",
       "  'patch.force_edgecolor': False,\n",
       "  'patch.linewidth': 1.0,\n",
       "  'path.effects': [],\n",
       "  'path.simplify': True,\n",
       "  'path.simplify_threshold': 0.111111111111,\n",
       "  'path.sketch': None,\n",
       "  'path.snap': True,\n",
       "  'pcolor.shading': 'auto',\n",
       "  'pcolormesh.snap': True,\n",
       "  'pdf.compression': 6,\n",
       "  'pdf.fonttype': 3,\n",
       "  'pdf.inheritcolor': False,\n",
       "  'pdf.use14corefonts': False,\n",
       "  'pgf.preamble': '',\n",
       "  'pgf.rcfonts': True,\n",
       "  'pgf.texsystem': 'xelatex',\n",
       "  'polaraxes.grid': True,\n",
       "  'ps.distiller.res': 6000,\n",
       "  'ps.fonttype': 3,\n",
       "  'ps.papersize': 'letter',\n",
       "  'ps.useafm': False,\n",
       "  'ps.usedistiller': None,\n",
       "  'savefig.bbox': None,\n",
       "  'savefig.directory': '~',\n",
       "  'savefig.dpi': 'figure',\n",
       "  'savefig.edgecolor': 'auto',\n",
       "  'savefig.facecolor': 'auto',\n",
       "  'savefig.format': 'png',\n",
       "  'savefig.orientation': 'portrait',\n",
       "  'savefig.pad_inches': 0.1,\n",
       "  'savefig.transparent': False,\n",
       "  'scatter.edgecolors': 'face',\n",
       "  'scatter.marker': 'o',\n",
       "  'svg.fonttype': 'path',\n",
       "  'svg.hashsalt': None,\n",
       "  'svg.image_inline': True,\n",
       "  'text.antialiased': True,\n",
       "  'text.color': 'black',\n",
       "  'text.hinting': 'force_autohint',\n",
       "  'text.hinting_factor': 8,\n",
       "  'text.kerning_factor': 0,\n",
       "  'text.latex.preamble': '',\n",
       "  'text.parse_math': True,\n",
       "  'text.usetex': False,\n",
       "  'timezone': 'UTC',\n",
       "  'tk.window_focus': False,\n",
       "  'toolbar': 'toolbar2',\n",
       "  'webagg.address': '127.0.0.1',\n",
       "  'webagg.open_in_browser': True,\n",
       "  'webagg.port': 8988,\n",
       "  'webagg.port_retries': 50,\n",
       "  'xaxis.labellocation': 'center',\n",
       "  'xtick.alignment': 'center',\n",
       "  'xtick.bottom': True,\n",
       "  'xtick.color': 'black',\n",
       "  'xtick.direction': 'out',\n",
       "  'xtick.labelbottom': True,\n",
       "  'xtick.labelcolor': 'inherit',\n",
       "  'xtick.labelsize': 'medium',\n",
       "  'xtick.labeltop': False,\n",
       "  'xtick.major.bottom': True,\n",
       "  'xtick.major.pad': 3.5,\n",
       "  'xtick.major.size': 3.5,\n",
       "  'xtick.major.top': True,\n",
       "  'xtick.major.width': 0.8,\n",
       "  'xtick.minor.bottom': True,\n",
       "  'xtick.minor.pad': 3.4,\n",
       "  'xtick.minor.size': 2.0,\n",
       "  'xtick.minor.top': True,\n",
       "  'xtick.minor.visible': False,\n",
       "  'xtick.minor.width': 0.6,\n",
       "  'xtick.top': False,\n",
       "  'yaxis.labellocation': 'center',\n",
       "  'ytick.alignment': 'center_baseline',\n",
       "  'ytick.color': 'black',\n",
       "  'ytick.direction': 'out',\n",
       "  'ytick.labelcolor': 'inherit',\n",
       "  'ytick.labelleft': True,\n",
       "  'ytick.labelright': False,\n",
       "  'ytick.labelsize': 'medium',\n",
       "  'ytick.left': True,\n",
       "  'ytick.major.left': True,\n",
       "  'ytick.major.pad': 3.5,\n",
       "  'ytick.major.right': True,\n",
       "  'ytick.major.size': 3.5,\n",
       "  'ytick.major.width': 0.8,\n",
       "  'ytick.minor.left': True,\n",
       "  'ytick.minor.pad': 3.4,\n",
       "  'ytick.minor.right': True,\n",
       "  'ytick.minor.size': 2.0,\n",
       "  'ytick.minor.visible': False,\n",
       "  'ytick.minor.width': 0.6,\n",
       "  'ytick.right': False},\n",
       " '_i': '%whos',\n",
       " '_ii': 'moon._x',\n",
       " '_iii': 'sys.path\\n# 맨 위에 있는 것이 내가 작업하는 영역\\n# 밑으로 이동하면서 찾음.\\n# 즉 순서에 따라서 찾음.',\n",
       " '_i1': 'import keyword\\nkeyword.kwlist',\n",
       " 'keyword': <module 'keyword' from '/Users/baekkwanghyun/miniconda3/lib/python3.10/keyword.py'>,\n",
       " '_1': ['False',\n",
       "  'None',\n",
       "  'True',\n",
       "  'and',\n",
       "  'as',\n",
       "  'assert',\n",
       "  'async',\n",
       "  'await',\n",
       "  'break',\n",
       "  'class',\n",
       "  'continue',\n",
       "  'def',\n",
       "  'del',\n",
       "  'elif',\n",
       "  'else',\n",
       "  'except',\n",
       "  'finally',\n",
       "  'for',\n",
       "  'from',\n",
       "  'global',\n",
       "  'if',\n",
       "  'import',\n",
       "  'in',\n",
       "  'is',\n",
       "  'lambda',\n",
       "  'nonlocal',\n",
       "  'not',\n",
       "  'or',\n",
       "  'pass',\n",
       "  'raise',\n",
       "  'return',\n",
       "  'try',\n",
       "  'while',\n",
       "  'with',\n",
       "  'yield'],\n",
       " '_i2': 'class A:\\n    x = 1\\n    def a(self):\\n        return 1',\n",
       " 'A': __main__.A,\n",
       " '_i3': '# 인스턴스 메소드 / 인스턴스 변수\\na = A()  # 사용하기 위해서 인스턴스화\\n# a 가 값',\n",
       " 'a': <__main__.T at 0x7fc3e98b1d50>,\n",
       " '_i4': 'b = A()',\n",
       " 'b': count(6, 2),\n",
       " '_i5': '# a, b 각각은 인스턴스. 즉, 데이터 타입은 하나이고, 인스턴스는 수많을 수 있음.\\n# 대신 각각 인스턴스 마다 자기만의 데이터를 가질 수 있음 => consenting adult',\n",
       " '_i6': 'a.z = 3',\n",
       " '_i7': 'b.z',\n",
       " '_i8': 'vars(3)',\n",
       " '_i9': 'vars(a)',\n",
       " '_9': {'z': 3, 'x': 'a'},\n",
       " '_i10': 'A.x',\n",
       " '_10': 1,\n",
       " '_i11': 'a.y',\n",
       " '_i12': 'a.x # 왜 값이 나올까?',\n",
       " '_12': 1,\n",
       " '_i13': '# 첫번째 위임규칙\\na.x # ',\n",
       " '_13': 1,\n",
       " '_i14': 'id(a.x)',\n",
       " '_14': 140479119393008,\n",
       " '_i15': 'id(A.x)',\n",
       " '_15': 140479119393008,\n",
       " '_i16': \"a.x = 'a'\",\n",
       " '_i17': 'b.x # b 에게는 ',\n",
       " '_17': 1,\n",
       " '_i18': '# 그래서 다시 vars\\nvars(a)',\n",
       " '_18': {'z': 3, 'x': 'a'},\n",
       " '_i19': 'A.x\\n# 클래스가 사용했기 때문에 클래스 변수',\n",
       " '_19': 1,\n",
       " '_i20': \"A.x = 'b'\\nb.x\",\n",
       " '_20': 'b',\n",
       " '_i21': '# 인스턴스 변수는 인스턴스마다 자기들만의 값을 가질 수 있음.\\naa = A()',\n",
       " 'aa': <__main__.A at 0x7fc3e98b3df0>,\n",
       " '_i22': 'vars(aa)',\n",
       " '_22': {},\n",
       " '_i23': '# 파이썬의 인스턴스 변수는 메소드가 실행됨에 따라서 생성된다. 즉 동적으로 생성된다.\\naa.a()',\n",
       " '_23': 1,\n",
       " '_i24': 'vars()',\n",
       " '_24': {...},\n",
       " '_i25': 'vars(aa)',\n",
       " '_25': {},\n",
       " '_i26': '# 파이썬의 인스턴스 변수는 메소드가 실행됨에 따라서 생성된다. 즉 동적으로 생성된다.\\naa.a()',\n",
       " '_26': 1,\n",
       " '_i27': 'vars(aa)',\n",
       " '_27': {},\n",
       " '_i28': 'class A:\\n    x = 1 # 클래스 변수 -> 클래스가 쓰는 애가 클래스 변수\\n    def a(self):\\n        self.y = 2  # 인스턴스 변수(메소드 안에 정의)\\n        return 1',\n",
       " '_i29': '# 인스턴스 변수는 인스턴스마다 자기들만의 값을 가질 수 있음.\\naa = A()',\n",
       " '_i30': 'vars(aa)\\n# 왜 인스턴스 변수인 y가 나오지 않을까?',\n",
       " '_30': {'y': 2},\n",
       " '_i31': '# 파이썬의 인스턴스 변수는 메소드가 실행됨에 따라서 생성된다. 즉 동적으로 생성된다.\\naa.a()',\n",
       " '_31': 1,\n",
       " '_i32': 'vars(aa)',\n",
       " '_32': {'y': 2},\n",
       " '_i33': 'class A:\\n    def __init__(self): \\n        self.x=1',\n",
       " '_i34': 't = A()',\n",
       " 't': <__main__.X at 0x7fc3980ebb20>,\n",
       " '_i35': 'vars(t)',\n",
       " '_35': {'x': 1},\n",
       " '_i36': 'class B:\\n    def __init__(self, x):\\n        self.x = x',\n",
       " 'B': __main__.B,\n",
       " '_i37': 'x = B(3)',\n",
       " 'x': <__main__.X at 0x7fc3b8a631f0>,\n",
       " '_i38': 'x.x',\n",
       " '_38': 3,\n",
       " '_i39': 'y = B(4)',\n",
       " 'y': <__main__.X at 0x7fc3980e0460>,\n",
       " '_i40': 'y.x',\n",
       " '_40': 4,\n",
       " '_i41': 'float(3)  # float 이라는 클래스에 3 집어 넣는 것은 __init__ 구문에 3 집어넣는 다는 것.',\n",
       " '_41': 3.0,\n",
       " '_i42': 'class float:\\n    def __init__(self, x=0):\\n        pass',\n",
       " 'float': __main__.float,\n",
       " '_i43': 'class float:\\n    def __init__(self, x=0, /):\\n        pass',\n",
       " '_i44': 'class B:\\n    def __init__(self, x):\\n        self.x = x\\n        return 3',\n",
       " '_i45': 'x = B(3)',\n",
       " '_i46': 'class X:\\n    pass',\n",
       " 'X': __main__.X,\n",
       " '_i47': 'x = X()',\n",
       " '_i48': 'dir(object)',\n",
       " '_48': ['__class__',\n",
       "  '__delattr__',\n",
       "  '__dir__',\n",
       "  '__doc__',\n",
       "  '__eq__',\n",
       "  '__format__',\n",
       "  '__ge__',\n",
       "  '__getattribute__',\n",
       "  '__gt__',\n",
       "  '__hash__',\n",
       "  '__init__',\n",
       "  '__init_subclass__',\n",
       "  '__le__',\n",
       "  '__lt__',\n",
       "  '__ne__',\n",
       "  '__new__',\n",
       "  '__reduce__',\n",
       "  '__reduce_ex__',\n",
       "  '__repr__',\n",
       "  '__setattr__',\n",
       "  '__sizeof__',\n",
       "  '__str__',\n",
       "  '__subclasshook__'],\n",
       " '_i49': '# 그렇다면 모든 파이썬의 클래스는 __init__ 가 미리 만들어져 있다는 것.\\n# 기본이 아무것도 집어넣지 않게 만들어져 있음\\nx = X()',\n",
       " '_i50': '# 인스턴스 x라는 애가 가지는 a라는 변수를 만드는 것\\nx.a = 1',\n",
       " '_i51': 'y = X()',\n",
       " '_i52': 'class X(object):\\n    def __init__(self, a):\\n        self.a = a',\n",
       " '_i53': '# __init__ 는 괄호붙힐 때 실행됨\\nt = X() # 이거는 안됨\\n# __init__가 () 때문에 실행되는데 인자가 self 빼고',\n",
       " '_i54': 't = X(3)',\n",
       " '_i55': '# 그래서 vars()에서 나오는 것\\nvars(t)',\n",
       " '_55': {'a': 3},\n",
       " '_i56': 'list({2,3,4}) # {2,3,4} 가 iterator가 되서 한 ㄱ개씩 뽑아서 list를 만들어 줌',\n",
       " '_56': [2, 3, 4],\n",
       " '_i57': \"class X(object):\\n    def __new__(self):\\n        print('new')\\n    def __init__(self):  # 생성자(constructor) -> 객체를 생성할 때 실행되는 것\\n        print('init')  # return None 이어야 함\",\n",
       " '_i58': 'b = X() # ()를 때리면 __init__ 가 실행됨',\n",
       " '_i59': \"class X(object):\\n    def __new__(self):\\n        print('new')\\n        return super().__new__(cls)\\n    def __init__(self):  # 생성자(constructor) -> 객체를 생성할 때 실행되는 것\\n        print('init')  # return None 이어야 함\",\n",
       " '_i60': 'b = X()',\n",
       " '_i61': \"class X(object):\\n    def __new__(cls):\\n        print('new')\\n        return super().__new__(cls)\\n    def __init__(self):  # 생성자(constructor) -> 객체를 생성할 때 실행되는 것\\n        print('init')  # return None 이어야 함\",\n",
       " '_i62': 'b = X()',\n",
       " '_i63': '# name space \\n# 어제 예시\\nclass B:\\n    def x(self):\\n        return 1',\n",
       " '_i64': 'b = B()',\n",
       " '_i65': 'b.x # 이게 메소드 방식',\n",
       " '_65': <bound method B.x of <__main__.B object at 0x7fc3b8b01e10>>,\n",
       " '_i66': 'B.x',\n",
       " '_66': <function __main__.B.x(self)>,\n",
       " '_i67': 'B.x(ㅠ)) # 이것은 함수. ',\n",
       " '_i68': 'B.x(b) # 이것은 함수. ',\n",
       " '_68': 1,\n",
       " '_i69': 'b.x() # 이게 메소드 방식\\n# self가 두개 중복되니까, 메소드로 사용할 때는 self 없애라고 했음',\n",
       " '_69': 1,\n",
       " '_i70': \"# name space \\n# 어제 예시\\nclass Math:\\n    def x(self):\\n        return 1\\n    \\n    @staticmethod  # 메소드 아니고 함수하고 똑같음. 함수인데 클래스 안에 집어넣어서 클래스 이름으로 접근할 수 있게 해주는 것. 그래서 self 쓰면 안됨\\n    def cos():  # 첫번째 인자가 자기 자신이 아니라는 것\\n        print('a')\\n        \\n# 이렇게 만들면 Math.cos 이렇게 쓸 수 있음 -> categorization 이 용이함.\\n# name space 기능\",\n",
       " 'Math': __main__.Math,\n",
       " '_i71': '# staticmethod\\nMath.cos()',\n",
       " '_i72': 'b = Math()',\n",
       " '_i73': 'b.cos() # 인스턴스에 없으면 클래스를 찾음',\n",
       " '_i74': '# class method\\nclass T:\\n    @classmethod\\n    def xx(cls):  # 관례\\n        cls.ss = 1',\n",
       " 'T': __main__.T,\n",
       " '_i75': 'T.xx\\n# 이 다음에 ()를 써야할까 말아야 할까',\n",
       " '_75': <bound method T.xx of <class '__main__.T'>>,\n",
       " '_i76': 'T.xx()\\n# 이 다음에 ()를 써야할까 말아야 할까',\n",
       " '_i77': 'T.xx()\\n# ()안에 클래스를 써야할까 말아야 할까',\n",
       " '_i78': \"# class method  -> class 가 쓰는 것\\nclass T:\\n    @classmethod\\n    def xx(cls):  # 관례\\n        cls.ss = 1\\n        print('a')\",\n",
       " '_i79': 'T.xx()\\n# ()안에 클래스를 써야할까 말아야 할까 => 집어넣지 않음',\n",
       " '_i80': 'vars(a)',\n",
       " '_80': {'z': 3, 'x': 'a'},\n",
       " '_i81': 'a = T()',\n",
       " '_i82': 'vars(a)',\n",
       " '_82': {},\n",
       " '_i83': 'a.xx() # 인스턴스가 클래스 메소드 쓸 수 있을까?\\n# 인스턴스에 xx가 없으면 클래스거를 찾음. \\n# 그렇다면 () 안에 집어넣어야 할까? -> 안 집어넣음',\n",
       " '_i84': 'vars(a)',\n",
       " '_84': {},\n",
       " '_i85': 'T.ss',\n",
       " '_85': 1,\n",
       " '_i86': 'import pandas as pd',\n",
       " '_i87': '!pip install pandas',\n",
       " '_exit_code': 0,\n",
       " '_i88': 'import pandas as pd',\n",
       " 'pd': <module 'pandas' from '/Users/baekkwanghyun/miniconda3/lib/python3.10/site-packages/pandas/__init__.py'>,\n",
       " '_i89': 'pd.DataFrame.from_dict\\n# DataFrame 은 카멜 방식으로 클래스\\n# 그렇다면 from_dict 는 클래스 메소드',\n",
       " '_89': <bound method DataFrame.from_dict of <class 'pandas.core.frame.DataFrame'>>,\n",
       " '_i90': 'from itertools import combinations\\n# 함수형 패러다임과 관련된 라이브러리는 3개가 있음\\n# itertools -> 이걸로 yield 의 개념을 공부\\n# functools\\n# operator\\n# 함수형 패러다임 배웠던 특징은\\n# iterator, generator, comprehension',\n",
       " 'combinations': itertools.combinations,\n",
       " '_i91': '# import 는 남의 거 가져다 쓰는 것\\n# 처음보면 스캔 한 번 하는 것이 좋음 => dir 또는 help 보는 것이 중요\\nb = combinations([1,2,3,4], 3)\\n# combinations 는 함수일까 클래스일까?\\n# init 와 Type: type 이라는 것은 클래스\\n# 클래스는 사용하기 위해서 인스턴스화 해야 함.\\n# 왜 카멜 방식으로 안했을까? -> 파이썬의 빌트인이나 라이브러리는 일부로 카멜 방식을 안지키는 것이 많음.\\n# 인자 개수는 2개, iterable 과 r\\n# combination은 nCr\\n# iterable인 애들은 결과가 iterator로 나옴.\\n# 그 뜻은 next()해야 결과가 나옴',\n",
       " '_i92': 'next(b)',\n",
       " '_92': (1, 2, 3),\n",
       " '_i93': 'next(b)',\n",
       " '_93': (1, 2, 4),\n",
       " '_i94': 'next(b)',\n",
       " '_94': (1, 3, 4),\n",
       " '_i95': '# 결과물 한번에 보는 방법\\nlist(b)',\n",
       " '_95': [(2, 3, 4)],\n",
       " '_i96': '# import 는 남의 거 가져다 쓰는 것\\n# 처음보면 스캔 한 번 하는 것이 좋음 => dir 또는 help 보는 것이 중요\\nb = combinations([1,2,3,4], 3)\\n# combinations 는 함수일까 클래스일까?\\n# init 와 Type: type 이라는 것은 클래스\\n# 클래스는 사용하기 위해서 인스턴스화 해야 함.\\n# 왜 카멜 방식으로 안했을까? -> 파이썬의 빌트인이나 라이브러리는 일부로 카멜 방식을 안지키는 것이 많음.\\n# 인자 개수는 2개, iterable 과 r\\n# combination은 nCr\\n# iterable인 애들은 결과가 iterator로 나옴.\\n# 그 뜻은 next()해야 결과가 나옴',\n",
       " '_i97': '# 결과물 한번에 보는 방법\\nlist(b)',\n",
       " '_97': [(1, 2, 3), (1, 2, 4), (1, 3, 4), (2, 3, 4)],\n",
       " '_i98': 'from itertools import cycle',\n",
       " 'cycle': itertools.cycle,\n",
       " '_i99': 'b = cycle([1,2,3])\\nnext(b)',\n",
       " '_99': 1,\n",
       " '_i100': 'b = cycle([1,2,3])\\nnext(b)',\n",
       " '_100': 1,\n",
       " '_i101': 'b = cycle([1,2,3])\\nnext(b)',\n",
       " '_101': 1,\n",
       " '_i102': 'b = cycle([1,2,3])\\nnext(b)',\n",
       " '_102': 1,\n",
       " '_i103': 'b = cycle([1,2,3])',\n",
       " '_i104': 'next(b)',\n",
       " '_104': 1,\n",
       " '_i105': 'next(b)',\n",
       " '_105': 2,\n",
       " '_i106': 'next(b)',\n",
       " '_106': 3,\n",
       " '_i107': 'next(b)',\n",
       " '_107': 1,\n",
       " '_i108': 'next(b)',\n",
       " '_108': 2,\n",
       " '_i109': 'next(b)',\n",
       " '_109': 3,\n",
       " '_i110': 'next(b)',\n",
       " '_110': 1,\n",
       " '_i111': 'next(b)',\n",
       " '_111': 2,\n",
       " '_i112': 'next(b)',\n",
       " '_112': 3,\n",
       " '_i113': 'next(b)',\n",
       " '_113': 1,\n",
       " '_i114': 'from itertools import count',\n",
       " 'count': itertools.count,\n",
       " '_i115': '# 우리는 지금 yield 배움.\\n# 이것은 무한루프하고 연관됨\\nb = count()  # 인자로 아무것도 안 넣어줘도 되고, 두 개 까지 넣어도 됨. default가 있기 때문',\n",
       " '_i116': 'next(b)',\n",
       " '_116': 0,\n",
       " '_i117': 'next(b)',\n",
       " '_117': 1,\n",
       " '_i118': 'next(b)',\n",
       " '_118': 2,\n",
       " '_i119': 'next(b)',\n",
       " '_119': 3,\n",
       " '_i120': 'next(b)',\n",
       " '_120': 4,\n",
       " '_i121': 'next(b)',\n",
       " '_121': 5,\n",
       " '_i122': 'next(b)',\n",
       " '_122': 6,\n",
       " '_i123': 'next(b)',\n",
       " '_123': 7,\n",
       " '_i124': 'next(b)',\n",
       " '_124': 8,\n",
       " '_i125': 'next(b)',\n",
       " '_125': 9,\n",
       " '_i126': 'next(b)',\n",
       " '_126': 10,\n",
       " '_i127': 'next(b)',\n",
       " '_127': 11,\n",
       " '_i128': 'next(b)',\n",
       " '_128': 12,\n",
       " '_i129': 'next(b)',\n",
       " '_129': 13,\n",
       " '_i130': 'next(b)',\n",
       " '_130': 14,\n",
       " '_i131': 'next(b)',\n",
       " '_131': 15,\n",
       " '_i132': 'next(b)',\n",
       " '_132': 16,\n",
       " '_i133': 'next(b)',\n",
       " '_133': 17,\n",
       " '_i134': 'next(b)',\n",
       " '_134': 18,\n",
       " '_i135': 'b = count(step=2)',\n",
       " '_i136': 'next(b)',\n",
       " '_136': 0,\n",
       " '_i137': 'next(b)',\n",
       " '_137': 2,\n",
       " '_i138': 'next(b)',\n",
       " '_138': 4,\n",
       " '_i139': 'zip',\n",
       " '_139': zip,\n",
       " '_i140': 'zip([1,2,3], [4,5,6]) # iterable 집어넣으면 항상 iterator => next',\n",
       " '_140': <zip at 0x7fc3d9bc03c0>,\n",
       " '_i141': 'c = zip([1,2,3], [4,5,6]) # iterable 집어넣으면 항상 iterator => next',\n",
       " 'c': <itertools.zip_longest at 0x7fc3c844c4f0>,\n",
       " '_i142': 'next(c)',\n",
       " '_142': (1, 4),\n",
       " '_i143': 'next(c)',\n",
       " '_143': (2, 5),\n",
       " '_i144': 'next(c)',\n",
       " '_144': (3, 6),\n",
       " '_i145': 'next(c)',\n",
       " '_i146': 'c = zip([1,2,3], [4,5,6]) # iterable 집어넣으면 항상 iterator => next',\n",
       " '_i147': 'next(c)',\n",
       " '_147': (1, 4),\n",
       " '_i148': 'c = zip([1,2,3,4], [4,5,6]) # iterable 집어넣으면 항상 iterator => next',\n",
       " '_i149': 'next(c)',\n",
       " '_149': (1, 4),\n",
       " '_i150': 'next(c)',\n",
       " '_150': (2, 5),\n",
       " '_i151': 'next(c)',\n",
       " '_151': (3, 6),\n",
       " '_i152': 'next(c)',\n",
       " '_i153': 'from itertools import zip_longest',\n",
       " 'zip_longest': itertools.zip_longest,\n",
       " '_i154': 'c = zip_longest([1,2,3,4], [4,5,6])',\n",
       " '_i155': 'next(c)',\n",
       " '_155': (1, 4),\n",
       " '_i156': 'next(c)',\n",
       " '_156': (2, 5),\n",
       " '_i157': 'next(c)',\n",
       " '_157': (3, 6),\n",
       " '_i158': 'next(c)',\n",
       " '_158': (4, None),\n",
       " '_i159': 'from operator import add',\n",
       " 'add': <function _operator.add(a, b, /)>,\n",
       " '_i160': 'add(1, 1)',\n",
       " '_160': 2,\n",
       " '_i161': 'from functools import partial',\n",
       " 'partial': functools.partial,\n",
       " '_i162': 'add2 = partial(add, b=2)',\n",
       " 'add2': functools.partial(<built-in function add>, 2),\n",
       " '_i163': 'add2(5)',\n",
       " '_i164': 'add2 = partial(add, 2)\\n# 기존에 있는 함수의 파라미터를 바꿀 수 있음. 새로운 함수를 쉽게 만들 수 있는 것',\n",
       " '_i165': 'add2(5)',\n",
       " '_165': 7,\n",
       " '_i166': 'import matplotlib',\n",
       " '_i167': 'dir(matplotlib)',\n",
       " '_167': ['ExecutableNotFoundError',\n",
       "  'MatplotlibDeprecationWarning',\n",
       "  'MutableMapping',\n",
       "  'Parameter',\n",
       "  'Path',\n",
       "  'RcParams',\n",
       "  '_ExecInfo',\n",
       "  '_VersionInfo',\n",
       "  '__bibtex__',\n",
       "  '__builtins__',\n",
       "  '__cached__',\n",
       "  '__doc__',\n",
       "  '__file__',\n",
       "  '__getattr__',\n",
       "  '__loader__',\n",
       "  '__name__',\n",
       "  '__package__',\n",
       "  '__path__',\n",
       "  '__spec__',\n",
       "  '_add_data_doc',\n",
       "  '_afm',\n",
       "  '_api',\n",
       "  '_blocking_input',\n",
       "  '_c_internal_utils',\n",
       "  '_check_versions',\n",
       "  '_cm',\n",
       "  '_cm_listed',\n",
       "  '_color_data',\n",
       "  '_constrained_layout',\n",
       "  '_deprecated_ignore_map',\n",
       "  '_deprecated_map',\n",
       "  '_deprecated_remain_as_none',\n",
       "  '_docstring',\n",
       "  '_ensure_handler',\n",
       "  '_enums',\n",
       "  '_fontconfig_pattern',\n",
       "  '_get_config_or_cache_dir',\n",
       "  '_get_executable_info',\n",
       "  '_get_ssl_context',\n",
       "  '_get_version',\n",
       "  '_get_xdg_cache_dir',\n",
       "  '_get_xdg_config_dir',\n",
       "  '_image',\n",
       "  '_init_tests',\n",
       "  '_label_from_arg',\n",
       "  '_layoutgrid',\n",
       "  '_log',\n",
       "  '_logged_cached',\n",
       "  '_mathtext',\n",
       "  '_mathtext_data',\n",
       "  '_open_file_or_url',\n",
       "  '_parse_to_version_info',\n",
       "  '_path',\n",
       "  '_preprocess_data',\n",
       "  '_pylab_helpers',\n",
       "  '_rc_params_in_file',\n",
       "  '_replacer',\n",
       "  '_text_helpers',\n",
       "  '_tight_bbox',\n",
       "  '_tight_layout',\n",
       "  '_version',\n",
       "  'artist',\n",
       "  'atexit',\n",
       "  'axes',\n",
       "  'axis',\n",
       "  'backend_bases',\n",
       "  'backend_managers',\n",
       "  'backend_tools',\n",
       "  'backends',\n",
       "  'bezier',\n",
       "  'category',\n",
       "  'cbook',\n",
       "  'checkdep_usetex',\n",
       "  'cm',\n",
       "  'collections',\n",
       "  'color_sequences',\n",
       "  'colorbar',\n",
       "  'colormaps',\n",
       "  'colors',\n",
       "  'container',\n",
       "  'contextlib',\n",
       "  'contour',\n",
       "  'cycler',\n",
       "  'dates',\n",
       "  'defaultParams',\n",
       "  'dviread',\n",
       "  'figure',\n",
       "  'font_manager',\n",
       "  'ft2font',\n",
       "  'functools',\n",
       "  'get_backend',\n",
       "  'get_cachedir',\n",
       "  'get_configdir',\n",
       "  'get_data_path',\n",
       "  'gridspec',\n",
       "  'hatch',\n",
       "  'image',\n",
       "  'importlib',\n",
       "  'inspect',\n",
       "  'interactive',\n",
       "  'is_interactive',\n",
       "  'layout_engine',\n",
       "  'legend',\n",
       "  'legend_handler',\n",
       "  'lines',\n",
       "  'locale',\n",
       "  'logging',\n",
       "  'markers',\n",
       "  'mathtext',\n",
       "  'matplotlib_fname',\n",
       "  'mlab',\n",
       "  'namedtuple',\n",
       "  'numpy',\n",
       "  'offsetbox',\n",
       "  'os',\n",
       "  'parse_version',\n",
       "  'patches',\n",
       "  'path',\n",
       "  'pprint',\n",
       "  'projections',\n",
       "  'pyplot',\n",
       "  'quiver',\n",
       "  'rc',\n",
       "  'rcParams',\n",
       "  'rcParamsDefault',\n",
       "  'rcParamsOrig',\n",
       "  'rc_context',\n",
       "  'rc_file',\n",
       "  'rc_file_defaults',\n",
       "  'rc_params',\n",
       "  'rc_params_from_file',\n",
       "  'rcdefaults',\n",
       "  'rcsetup',\n",
       "  're',\n",
       "  'sanitize_sequence',\n",
       "  'scale',\n",
       "  'set_loglevel',\n",
       "  'shutil',\n",
       "  'spines',\n",
       "  'stackplot',\n",
       "  'streamplot',\n",
       "  'style',\n",
       "  'subprocess',\n",
       "  'sys',\n",
       "  'table',\n",
       "  'tempfile',\n",
       "  'texmanager',\n",
       "  'text',\n",
       "  'textpath',\n",
       "  'ticker',\n",
       "  'transforms',\n",
       "  'tri',\n",
       "  'units',\n",
       "  'use',\n",
       "  'validate_backend',\n",
       "  'warnings',\n",
       "  'widgets'],\n",
       " '_i168': 'len(dir(matplotlib))',\n",
       " '_168': 157,\n",
       " '_i169': 'import matplotlib.pyplot as plt',\n",
       " 'plt': <module 'matplotlib.pyplot' from '/Users/baekkwanghyun/miniconda3/lib/python3.10/site-packages/matplotlib/pyplot.py'>,\n",
       " '_i170': 'len(dir(matplotlib))',\n",
       " '_170': 157,\n",
       " '_i171': '# import 실행 방식\\n# 어디에서 import 되는 것을 가져오는 것인가?\\nimport sys',\n",
       " 'sys': <module 'sys' (built-in)>,\n",
       " '_i172': 'import 연습용',\n",
       " '_i173': 'import moon',\n",
       " 'moon': <module 'moon' from '/Users/baekkwanghyun/Desktop/SW_academy/moon.py'>,\n",
       " '_i174': 'dir(moon)',\n",
       " '_174': ['__builtins__',\n",
       "  '__cached__',\n",
       "  '__doc__',\n",
       "  '__file__',\n",
       "  '__loader__',\n",
       "  '__name__',\n",
       "  '__package__',\n",
       "  '__spec__'],\n",
       " '_i175': 'import sys',\n",
       " '_i176': 'sys.path',\n",
       " '_176': ['/Users/baekkwanghyun/Desktop/SW_academy',\n",
       "  '/Users/baekkwanghyun/miniconda3/lib/python310.zip',\n",
       "  '/Users/baekkwanghyun/miniconda3/lib/python3.10',\n",
       "  '/Users/baekkwanghyun/miniconda3/lib/python3.10/lib-dynload',\n",
       "  '',\n",
       "  '/Users/baekkwanghyun/miniconda3/lib/python3.10/site-packages',\n",
       "  '/Users/baekkwanghyun/miniconda3/lib/python3.10/site-packages/PyQt5_sip-12.11.0-py3.10-macosx-10.9-x86_64.egg'],\n",
       " '_i177': '#',\n",
       " '_i178': 'import moon',\n",
       " '_i179': 'dir(moon)',\n",
       " '_179': ['__builtins__',\n",
       "  '__cached__',\n",
       "  '__doc__',\n",
       "  '__file__',\n",
       "  '__loader__',\n",
       "  '__name__',\n",
       "  '__package__',\n",
       "  '__spec__'],\n",
       " '_i180': 'import moon',\n",
       " '_i181': 'dir(moon)',\n",
       " '_181': ['__builtins__',\n",
       "  '__cached__',\n",
       "  '__doc__',\n",
       "  '__file__',\n",
       "  '__loader__',\n",
       "  '__name__',\n",
       "  '__package__',\n",
       "  '__spec__'],\n",
       " '_i182': 'import sys',\n",
       " '_i183': 'sys.path\\n# 맨 위에 있는 것이 내가 작업하는 영역\\n# 밑으로 이동하면서 찾음.\\n# 즉 순서에 따라서 찾음.',\n",
       " '_183': ['/Users/baekkwanghyun/Desktop/SW_academy',\n",
       "  '/Users/baekkwanghyun/miniconda3/lib/python310.zip',\n",
       "  '/Users/baekkwanghyun/miniconda3/lib/python3.10',\n",
       "  '/Users/baekkwanghyun/miniconda3/lib/python3.10/lib-dynload',\n",
       "  '',\n",
       "  '/Users/baekkwanghyun/miniconda3/lib/python3.10/site-packages',\n",
       "  '/Users/baekkwanghyun/miniconda3/lib/python3.10/site-packages/PyQt5_sip-12.11.0-py3.10-macosx-10.9-x86_64.egg'],\n",
       " '_i184': 'moon._x',\n",
       " '_i185': '%whos',\n",
       " '_i186': 'globals()'}"
      ]
     },
     "execution_count": 186,
     "metadata": {},
     "output_type": "execute_result"
    }
   ],
   "source": [
    "globals() # 위와 같음"
   ]
  },
  {
   "cell_type": "code",
   "execution_count": null,
   "metadata": {},
   "outputs": [],
   "source": [
    "# import 안 한 애들은 __main__ 이라고 붙음.\n",
    "# 이제 from 을 쓰자"
   ]
  },
  {
   "cell_type": "code",
   "execution_count": null,
   "metadata": {},
   "outputs": [],
   "source": [
    "from moon import x\n",
    "# moon 에서 x를 내 메모리 공간에 포함시켜라"
   ]
  },
  {
   "cell_type": "code",
   "execution_count": null,
   "metadata": {},
   "outputs": [],
   "source": [
    "%whos"
   ]
  },
  {
   "cell_type": "code",
   "execution_count": null,
   "metadata": {},
   "outputs": [],
   "source": [
    "# 내 메모리 공간에 당겨왔으니 이제 x만 써도 됨\n",
    "x"
   ]
  },
  {
   "cell_type": "code",
   "execution_count": null,
   "metadata": {},
   "outputs": [],
   "source": [
    "# 편하긴 편한데 실수할 수 있음.\n",
    "# 내가 쓸 수 있는 x가 있을 수 있기 때문.\n",
    "# moon 안의 x와 내가 쓰는 x 구분\n",
    "from moon import x as ttt\n",
    "# 이름을 내 마음대로 해서 편하게 쓰는 것.\n",
    "# from 과 as 를 같이 쓸 수 있음.\n",
    "# 내 메모리에 직접 올라가 있기 때문에 바로 쓸 수 있는 것."
   ]
  },
  {
   "cell_type": "code",
   "execution_count": null,
   "metadata": {},
   "outputs": [],
   "source": [
    "%whos"
   ]
  },
  {
   "cell_type": "code",
   "execution_count": null,
   "metadata": {},
   "outputs": [],
   "source": [
    "from moon import *"
   ]
  },
  {
   "cell_type": "code",
   "execution_count": null,
   "metadata": {},
   "outputs": [],
   "source": [
    "%whos\n",
    "# moon 에는 4가지 정의되어 있었는데 2가지가 뜸.\n",
    "# 왜 그럴까?\n",
    "#! _로 시작한 애들은 *로 떙겨올 수가 없음\n",
    "# _로 이름이 시작되는 거 두가지 배움\n",
    "# 클래스 안에 __ 로 시작하는 것은 맹글링\n",
    "# _를 쓰는 이유는 관례상 내부에서만 사용하는 메소드일 경우 _로 시작된다는 것.\n",
    "# _로 시작하면 *로 썼을 때 import 가 안되는 것을 확인함"
   ]
  },
  {
   "cell_type": "code",
   "execution_count": null,
   "metadata": {},
   "outputs": [],
   "source": [
    "# 맹글링\n",
    "class A:\n",
    "    __a = 1"
   ]
  },
  {
   "cell_type": "code",
   "execution_count": null,
   "metadata": {},
   "outputs": [],
   "source": [
    "# import의 비밀 더 있음"
   ]
  },
  {
   "cell_type": "code",
   "execution_count": null,
   "metadata": {},
   "outputs": [],
   "source": [
    "from sun import *\n",
    "# 에러 나옴.\n",
    "# sum.__all__ must be str\n",
    "# 문자열로 만들고 다시 뒤엎음.\n",
    "# __all__ 이 *와 관련됨."
   ]
  },
  {
   "cell_type": "code",
   "execution_count": null,
   "metadata": {},
   "outputs": [],
   "source": [
    "# 그런데 %whos 하면 \n",
    "# __all__에만 정의된 것만 나옴.\n",
    "# 생각없이 import 쓰면 안되는 것도 있고,\n",
    "# 몽키패치 되는 것도 있음. -> 골치 아픔!"
   ]
  },
  {
   "cell_type": "code",
   "execution_count": null,
   "metadata": {},
   "outputs": [],
   "source": [
    "# dispatch\n",
    "# 객체지향의 꽃 중에 하나"
   ]
  },
  {
   "cell_type": "code",
   "execution_count": 2,
   "metadata": {
    "ExecuteTime": {
     "end_time": "2023-03-14T14:22:16.784368Z",
     "start_time": "2023-03-14T14:22:16.775706Z"
    }
   },
   "outputs": [],
   "source": [
    "import platform"
   ]
  },
  {
   "cell_type": "code",
   "execution_count": 2,
   "metadata": {
    "scrolled": true
   },
   "outputs": [
    {
     "data": {
      "text/plain": [
       "['_Processor',\n",
       " '_WIN32_CLIENT_RELEASES',\n",
       " '_WIN32_SERVER_RELEASES',\n",
       " '__builtins__',\n",
       " '__cached__',\n",
       " '__copyright__',\n",
       " '__doc__',\n",
       " '__file__',\n",
       " '__loader__',\n",
       " '__name__',\n",
       " '__package__',\n",
       " '__spec__',\n",
       " '__version__',\n",
       " '_comparable_version',\n",
       " '_component_re',\n",
       " '_default_architecture',\n",
       " '_follow_symlinks',\n",
       " '_get_machine_win32',\n",
       " '_ironpython26_sys_version_parser',\n",
       " '_ironpython_sys_version_parser',\n",
       " '_java_getprop',\n",
       " '_libc_search',\n",
       " '_mac_ver_xml',\n",
       " '_node',\n",
       " '_norm_version',\n",
       " '_os_release_cache',\n",
       " '_os_release_candidates',\n",
       " '_os_release_line',\n",
       " '_os_release_unescape',\n",
       " '_parse_os_release',\n",
       " '_platform',\n",
       " '_platform_cache',\n",
       " '_pypy_sys_version_parser',\n",
       " '_sys_version',\n",
       " '_sys_version_cache',\n",
       " '_sys_version_parser',\n",
       " '_syscmd_file',\n",
       " '_syscmd_ver',\n",
       " '_uname_cache',\n",
       " '_unknown_as_blank',\n",
       " '_ver_output',\n",
       " '_ver_stages',\n",
       " 'architecture',\n",
       " 'collections',\n",
       " 'freedesktop_os_release',\n",
       " 'functools',\n",
       " 'itertools',\n",
       " 'java_ver',\n",
       " 'libc_ver',\n",
       " 'mac_ver',\n",
       " 'machine',\n",
       " 'node',\n",
       " 'os',\n",
       " 'platform',\n",
       " 'processor',\n",
       " 'python_branch',\n",
       " 'python_build',\n",
       " 'python_compiler',\n",
       " 'python_implementation',\n",
       " 'python_revision',\n",
       " 'python_version',\n",
       " 'python_version_tuple',\n",
       " 're',\n",
       " 'release',\n",
       " 'subprocess',\n",
       " 'sys',\n",
       " 'system',\n",
       " 'system_alias',\n",
       " 'uname',\n",
       " 'uname_result',\n",
       " 'version',\n",
       " 'win32_edition',\n",
       " 'win32_is_iot',\n",
       " 'win32_ver']"
      ]
     },
     "execution_count": 2,
     "metadata": {},
     "output_type": "execute_result"
    }
   ],
   "source": [
    "dir(platform)\n",
    "# 이제 _가 뭔지 느낌이 옴(import의 비밀)"
   ]
  },
  {
   "cell_type": "code",
   "execution_count": 3,
   "metadata": {
    "ExecuteTime": {
     "end_time": "2023-03-14T14:22:20.231802Z",
     "start_time": "2023-03-14T14:22:20.215969Z"
    }
   },
   "outputs": [
    {
     "data": {
      "text/plain": [
       "'3.10.9'"
      ]
     },
     "execution_count": 3,
     "metadata": {},
     "output_type": "execute_result"
    }
   ],
   "source": [
    "platform.python_version()"
   ]
  },
  {
   "cell_type": "code",
   "execution_count": 4,
   "metadata": {},
   "outputs": [],
   "source": [
    "# multi dispatch 파트는 옛날에 나왔던 개념임.\n",
    "# functiontool.singledispatch 가 있어서 안할 것."
   ]
  },
  {
   "cell_type": "code",
   "execution_count": null,
   "metadata": {},
   "outputs": [],
   "source": [
    "# 그렇다면 single dispatch?? 내일 배울 것"
   ]
  },
  {
   "cell_type": "code",
   "execution_count": null,
   "metadata": {},
   "outputs": [],
   "source": [
    "# 조편성하면 첫번째로 우리가 하고 싶은 거 -> 해커톤"
   ]
  }
 ],
 "metadata": {
  "kernelspec": {
   "display_name": "Python 3 (ipykernel)",
   "language": "python",
   "name": "python3"
  },
  "language_info": {
   "codemirror_mode": {
    "name": "ipython",
    "version": 3
   },
   "file_extension": ".py",
   "mimetype": "text/x-python",
   "name": "python",
   "nbconvert_exporter": "python",
   "pygments_lexer": "ipython3",
   "version": "3.10.9"
  },
  "toc": {
   "base_numbering": 1,
   "nav_menu": {},
   "number_sections": true,
   "sideBar": true,
   "skip_h1_title": false,
   "title_cell": "Table of Contents",
   "title_sidebar": "Contents",
   "toc_cell": false,
   "toc_position": {},
   "toc_section_display": true,
   "toc_window_display": false
  },
  "varInspector": {
   "cols": {
    "lenName": 16,
    "lenType": 16,
    "lenVar": 40
   },
   "kernels_config": {
    "python": {
     "delete_cmd_postfix": "",
     "delete_cmd_prefix": "del ",
     "library": "var_list.py",
     "varRefreshCmd": "print(var_dic_list())"
    },
    "r": {
     "delete_cmd_postfix": ") ",
     "delete_cmd_prefix": "rm(",
     "library": "var_list.r",
     "varRefreshCmd": "cat(var_dic_list()) "
    }
   },
   "types_to_exclude": [
    "module",
    "function",
    "builtin_function_or_method",
    "instance",
    "_Feature"
   ],
   "window_display": false
  }
 },
 "nbformat": 4,
 "nbformat_minor": 2
}
