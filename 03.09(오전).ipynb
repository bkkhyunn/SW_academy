{
 "cells": [
  {
   "cell_type": "markdown",
   "metadata": {},
   "source": [
    "### **Regular Expression**"
   ]
  },
  {
   "cell_type": "code",
   "execution_count": null,
   "metadata": {},
   "outputs": [],
   "source": [
    "# 오늘부터는 데이터 수집에 관해서 할 것\n",
    "# 그를 위해 꼭 알아야 하는 정규식에 대해 할 것\n",
    "# 정규식, http를 아주 자세히 이야기해보는 시간을 가질 것."
   ]
  },
  {
   "cell_type": "code",
   "execution_count": null,
   "metadata": {},
   "outputs": [],
   "source": [
    "# 웹은 HTML의 앵커로 구성되어 있음. 얘네들이 서로 연결되어 네트워크라고 이름을 붙힘.\n",
    "# 바이트 단위로 데이터들을 주고 받음.\n",
    "# 그것을 각 나라 언어에 맞는 인코딩을 적용해서 str으로 변형\n",
    "# HTML은 지멋대로 작성함(not welcomed)"
   ]
  },
  {
   "cell_type": "code",
   "execution_count": null,
   "metadata": {},
   "outputs": [],
   "source": [
    "# 텍스트 처리할 때 이 정규식보다 빠른 것은 없음.\n",
    "# IT 기술을 베이스로 하는 기업들의 코딩테스트에는 꼭 한 문제 이상 나옴."
   ]
  },
  {
   "cell_type": "code",
   "execution_count": null,
   "metadata": {},
   "outputs": [],
   "source": [
    "# 지금까지한 RDBMS - 무엇이고 데이터를 적재하고 어떻게 가져와야 하는지\n",
    "# ORM 은 필수는 아님. SQL 문만 잘 알아도 됨"
   ]
  },
  {
   "cell_type": "code",
   "execution_count": null,
   "metadata": {},
   "outputs": [],
   "source": [
    "# 이제 정규식 시작.\n",
    "#! 정규식이란?"
   ]
  },
  {
   "cell_type": "code",
   "execution_count": null,
   "metadata": {},
   "outputs": [],
   "source": [
    "# \"어떤 패턴을 텍스트로부터 찾아내기 위한 목적으로 사용됨.\"\n",
    "# 정규식은 패턴을 만들어서 그 패턴을 텍스트로부터 찾아내기 위한 목적\n",
    "# 복잡한 패턴, 식을 가지고 결국엔 내가 원하는 표현들이 들어있는지 찾거나, 뒤바꾸거나(replace), 특정 부분들을 가져오려고 할 때(parsing)\n",
    "# 왜 정규식을 알아야 하나?\n",
    "# -> 굉장히 빠름. 정규식에 익숙해지면 매우 효율적.\n",
    "# -> 분산처리된 시스템이 있더라도 정규식을 이용해서 텍스트 처리를 빠르게 해줘야 함.\n",
    "# 그렇다면 패턴을 만들어내는 것이 문제가 됨\n",
    "# validation -> 회원가입 시 꼭 들어가야하는 문자 등등 체크할 때 쓰는 것. 이것들을 정규식을 사용하지 않으면 하나하나 다 검사해야 함.\n",
    "# 정규식의 유일한 단점은 learning curve 가 존재함."
   ]
  },
  {
   "cell_type": "code",
   "execution_count": null,
   "metadata": {},
   "outputs": [],
   "source": [
    "# 앞으로 텍스트 전처리 할 때 정규식을 자주 쓸 것.\n",
    "# 정규식의 패턴에 쓰이는 메타캐릭터들이 있음. (general concepts)\n",
    "# Alternative - |\n",
    "# Grouping - 특정 문자열의 조합(내가 쓰거나 필요해서) - ()\n",
    "# 수량자(Quantification - ?(yes or no), +(1번 이상 반복되는 패턴), *(0번이상), {m,n}(최소 m번 최대 n번 반복되는 패턴)\n",
    "# 앵커 - ^(~로 시작하는)&(~로 끝나는)\n",
    "# 메타캐릭터 - .(모든글자에 대응), [(여기 들어가는 것들 중 하나)], [-(이게 범위를 나타냄)], [^(뭐뭐 중 하나가 아닌 나머지. 두번째와 쌍임)]\n",
    "# 캐릭터 예약어 - \\w, \\d, \\s, \\W(W는 not의 의미)"
   ]
  },
  {
   "cell_type": "code",
   "execution_count": null,
   "metadata": {},
   "outputs": [],
   "source": [
    "# 수량을 나타냄(수량자)\n",
    ". - any character\n",
    "* - 특정 글자, 패턴 뒤에 쓰임. 0개 이상\n",
    "+ - 1개 이상\n",
    "? - 있거나 없거나\n",
    "{m, n} - 최소 m개 최대 n개"
   ]
  },
  {
   "cell_type": "code",
   "execution_count": null,
   "metadata": {},
   "outputs": [],
   "source": [
    "^x - 문자열이 x로 시작\n",
    "x& - 문자열이 x로 끝\n",
    ".x - 아무 글자가 하나 나오고 두번째 글자가 x인 애.\n",
    "x+ - x가 한 번 이상 반복되는 것. 한번 나와도 되고 n번 나와도 됨\n",
    "x? - x가 있거나 없거나 ex. https? - http, https 둘다 맞게 됨\n",
    "x* - 0번 이상 반복.\n",
    "x|y - x or y 그러나 x|yz 가 되면 의미가 달라져서 그룹으로 묶어줘야 함\n",
    "(x) - 그룹. 태그 찾을 때도 씀. 특정 표현 중 일부가 필요해서 쓰기도 함. 그룹을 스위칭 하는 등. 민감한 정보 가리기 등\n",
    "(x)(y) - 캡쳐링. 그룹 두개 찾아내서 캡쳐링. 실질적으로 x로 시작하고 y로 끝나는 걸 두 개로 묶은 것\n",
    "(x)(?:y) - 그룹으로 묶긴 했지만 뒤(그룹이긴 한데 실제 그룹으로 존재x)는 필요없을 때. 뒤를 실제 그룹 목록에 포함시키지 말아라(캡쳐하지 않는 그룹 생성)\n",
    "x{n} - 수량자. n번 반복된 문자 찾기\n",
    "x{n,} - n번 이상 반복한 문자\n",
    "x{n,m} - n번 이상 m번 이하\n",
    "[] - 체크하고 싶은 것들을 안에 쓰면, 그 중에 하나.\n",
    "[-] - 범위를 나타냄. ex. [a-z], [0-9] 등등\n",
    "[^] - ^가 []안에 들어가면 not의 의미(negation) 이 중에 하나를 제외한 나머지 ex. [^xy] - xy를 제외하고 문자 하나를 찾음\n",
    "^ - 시작\n",
    "$ - 끝\n",
    "() - 그룹\n",
    "\\ - raw text를 쓰겠다는 것(역슬래시, escape) - escape 처리 하라는 것. - 특정 글자가 가진 원래 의미를 유지하라는 것.\n",
    "\\^ - 특수문자를 식에 문자 자체로 포함. 즉 ^ 문자가 필요한 것\n",
    "\\b - 문자와 공백 사이의 문자를 찾음(word_boundary, 단어 단위로 찾을 때) - \\bclass\\b\n",
    "\\B - 문자와 공백사이가 아닌 값을 찾음(문자열 중간에 있는 패턴을 찾을 때)\n",
    "\\d - 숫자 찾음\n",
    "\\D - 숫자가 아닌 값 찾기\n",
    "\\s - 공백문자 찾기 whitespace(개행, tab, 띄워쓰기)\n",
    "\\S - 공백이 아닌 문자 찾기\n",
    "\\t - tab 문자 찾음\n",
    "\\w - 알파벳 + 숫자 + _ 를 찾음 (자바스크립트에서 배움)\n",
    "\\W - 알파벳 + 숫자 + _ 를 제외한 모든 문자를 찾음"
   ]
  },
  {
   "cell_type": "code",
   "execution_count": null,
   "metadata": {},
   "outputs": [],
   "source": [
    "# 정규식 해보기\n",
    "# re(regular expression)\n",
    "# compile(패턴 만드는 것)\n",
    "# match (~로 시작하는) - 첫글자부터 맞아야 함\n",
    "# search - 문자열 중간에 들어있으면 가져옴"
   ]
  },
  {
   "cell_type": "code",
   "execution_count": null,
   "metadata": {},
   "outputs": [],
   "source": [
    "# Greedy(최대한 매핑이 될 수 있는 마지막 글자를 찾는 것. 탐욕스러움) vs. Lazy(반대)"
   ]
  },
  {
   "cell_type": "markdown",
   "metadata": {},
   "source": [
    "#### 시작!"
   ]
  },
  {
   "cell_type": "code",
   "execution_count": 2,
   "metadata": {},
   "outputs": [],
   "source": [
    "import re"
   ]
  },
  {
   "cell_type": "code",
   "execution_count": null,
   "metadata": {},
   "outputs": [],
   "source": [
    "# 자주 보는 것\n",
    "re.compile -> 정규식 패턴 만드는 것\n",
    "re.match -> 첫글자(^)부터 일치하는 패턴 찾을 때\n",
    "re.search -> 일치하는 패턴 찾을 때 - match 보다 포괄적\n",
    "re.findall -> 각각의 문자열에서 일치하는 패턴 전부를 찾을 때\n",
    "re.split -> 패턴을 기준으로 문자열을 분리해야 할 때\n",
    "re.sub -> 패턴을 다른 문자열로 치환해야 할 때"
   ]
  },
  {
   "cell_type": "code",
   "execution_count": 3,
   "metadata": {},
   "outputs": [
    {
     "data": {
      "text/plain": [
       "re.compile(r'', re.UNICODE)"
      ]
     },
     "execution_count": 3,
     "metadata": {},
     "output_type": "execute_result"
    }
   ],
   "source": [
    "# ignorecase - 대소문자 무시\n",
    "# flag 는 나중에 필요할 때 보기(대문자로 된 것)\n",
    "re.compile('')"
   ]
  },
  {
   "cell_type": "code",
   "execution_count": 4,
   "metadata": {},
   "outputs": [
    {
     "data": {
      "text/plain": [
       "re.Pattern"
      ]
     },
     "execution_count": 4,
     "metadata": {},
     "output_type": "execute_result"
    }
   ],
   "source": [
    "type(re.compile(''))"
   ]
  },
  {
   "cell_type": "code",
   "execution_count": 5,
   "metadata": {},
   "outputs": [
    {
     "data": {
      "text/plain": [
       "['__class__',\n",
       " '__class_getitem__',\n",
       " '__copy__',\n",
       " '__deepcopy__',\n",
       " '__delattr__',\n",
       " '__dir__',\n",
       " '__doc__',\n",
       " '__eq__',\n",
       " '__format__',\n",
       " '__ge__',\n",
       " '__getattribute__',\n",
       " '__gt__',\n",
       " '__hash__',\n",
       " '__init__',\n",
       " '__init_subclass__',\n",
       " '__le__',\n",
       " '__lt__',\n",
       " '__module__',\n",
       " '__ne__',\n",
       " '__new__',\n",
       " '__reduce__',\n",
       " '__reduce_ex__',\n",
       " '__repr__',\n",
       " '__setattr__',\n",
       " '__sizeof__',\n",
       " '__str__',\n",
       " '__subclasshook__',\n",
       " 'findall',\n",
       " 'finditer',\n",
       " 'flags',\n",
       " 'fullmatch',\n",
       " 'groupindex',\n",
       " 'groups',\n",
       " 'match',\n",
       " 'pattern',\n",
       " 'scanner',\n",
       " 'search',\n",
       " 'split',\n",
       " 'sub',\n",
       " 'subn']"
      ]
     },
     "execution_count": 5,
     "metadata": {},
     "output_type": "execute_result"
    }
   ],
   "source": [
    "dir(re.compile(''))"
   ]
  },
  {
   "cell_type": "code",
   "execution_count": 5,
   "metadata": {},
   "outputs": [],
   "source": [
    "p1 = re.compile('')\n",
    "p2, p3 ...\n",
    "patterns = [p1, p2, p3, ...]\n",
    "patterns[] -> indexing / slicing 해서 활용"
   ]
  },
  {
   "cell_type": "code",
   "execution_count": 7,
   "metadata": {},
   "outputs": [
    {
     "name": "stdout",
     "output_type": "stream",
     "text": [
      "\\\n",
      " \\n \n",
      "\n"
     ]
    },
    {
     "data": {
      "text/plain": [
       "('\\\\\\n', '\\\\n', '\\n')"
      ]
     },
     "execution_count": 7,
     "metadata": {},
     "output_type": "execute_result"
    }
   ],
   "source": [
    "print(re.escape('\\n'), r'\\n', '\\n')\n",
    "re.escape('\\n'), r'\\n', '\\n'\n",
    "# 두 라인이 다른 이유는 아래에 설명함"
   ]
  },
  {
   "cell_type": "code",
   "execution_count": 16,
   "metadata": {},
   "outputs": [
    {
     "name": "stdout",
     "output_type": "stream",
     "text": [
      "\\\t \\t \t\n"
     ]
    },
    {
     "data": {
      "text/plain": [
       "('\\\\\\t', '\\\\t', '\\t')"
      ]
     },
     "execution_count": 16,
     "metadata": {},
     "output_type": "execute_result"
    }
   ],
   "source": [
    "print(re.escape('\\t'), r'\\t', '\\t')\n",
    "re.escape('\\t'), r'\\t', '\\t'"
   ]
  },
  {
   "cell_type": "code",
   "execution_count": 25,
   "metadata": {},
   "outputs": [
    {
     "data": {
      "text/plain": [
       "('\\\\\\\\y', '\\\\m', '\\x07', '\\\\c', '\\\\y', 't')"
      ]
     },
     "execution_count": 25,
     "metadata": {},
     "output_type": "execute_result"
    }
   ],
   "source": [
    "re.escape('\\y'), '\\m', '\\a', '\\c', '\\y', 't'"
   ]
  },
  {
   "cell_type": "code",
   "execution_count": 26,
   "metadata": {},
   "outputs": [
    {
     "name": "stdout",
     "output_type": "stream",
     "text": [
      "\\\\\n",
      "\\(\\\\d\\)\n",
      "\\(\\\n",
      "\\)\n"
     ]
    }
   ],
   "source": [
    "print(re.escape('\\\\'))\n",
    "print(re.escape('(\\d)'))\n",
    "print(re.escape('(\\n)'))"
   ]
  },
  {
   "cell_type": "code",
   "execution_count": 27,
   "metadata": {},
   "outputs": [
    {
     "data": {
      "text/plain": [
       "'\\\\(\\\\\\\\d\\\\)'"
      ]
     },
     "execution_count": 27,
     "metadata": {},
     "output_type": "execute_result"
    }
   ],
   "source": [
    "re.escape('(\\d)')"
   ]
  },
  {
   "cell_type": "code",
   "execution_count": 10,
   "metadata": {},
   "outputs": [
    {
     "name": "stdout",
     "output_type": "stream",
     "text": [
      "\\\\m\n"
     ]
    },
    {
     "data": {
      "text/plain": [
       "('\\\\(\\\\\\n\\\\)', None)"
      ]
     },
     "execution_count": 10,
     "metadata": {},
     "output_type": "execute_result"
    }
   ],
   "source": [
    "re.escape('(\\n)'), print(re.escape('\\m'))"
   ]
  },
  {
   "cell_type": "code",
   "execution_count": null,
   "metadata": {},
   "outputs": [],
   "source": [
    "# r'\\n' -> \\n 을 그대로 쓰고 싶어요!\n",
    "# escape 처리 \\"
   ]
  },
  {
   "cell_type": "code",
   "execution_count": 28,
   "metadata": {},
   "outputs": [
    {
     "data": {
      "text/plain": [
       "'C:\\\\users\\\\d'"
      ]
     },
     "execution_count": 28,
     "metadata": {},
     "output_type": "execute_result"
    }
   ],
   "source": [
    "r'C:\\users\\d'"
   ]
  },
  {
   "cell_type": "code",
   "execution_count": 11,
   "metadata": {},
   "outputs": [
    {
     "data": {
      "text/plain": [
       "'C:\\\\\\\\users\\\\\\\\d'"
      ]
     },
     "execution_count": 11,
     "metadata": {},
     "output_type": "execute_result"
    }
   ],
   "source": [
    "re.escape(r'C:\\users\\d')"
   ]
  },
  {
   "cell_type": "code",
   "execution_count": 55,
   "metadata": {},
   "outputs": [
    {
     "data": {
      "text/plain": [
       "'C:\\\\\\\\users\\\\\\\\dsfd'"
      ]
     },
     "execution_count": 55,
     "metadata": {},
     "output_type": "execute_result"
    }
   ],
   "source": [
    "re.escape(r'C:\\users\\dsfd')"
   ]
  },
  {
   "cell_type": "code",
   "execution_count": 29,
   "metadata": {},
   "outputs": [
    {
     "data": {
      "text/plain": [
       "<re.Match object; span=(0, 1), match='h'>"
      ]
     },
     "execution_count": 29,
     "metadata": {},
     "output_type": "execute_result"
    }
   ],
   "source": [
    "re.match('h', 'hello')"
   ]
  },
  {
   "cell_type": "code",
   "execution_count": 30,
   "metadata": {},
   "outputs": [
    {
     "data": {
      "text/plain": [
       "<re.Match object; span=(0, 3), match='hel'>"
      ]
     },
     "execution_count": 30,
     "metadata": {},
     "output_type": "execute_result"
    }
   ],
   "source": [
    "rst = re.match('hel', 'hello')\n",
    "rst"
   ]
  },
  {
   "cell_type": "code",
   "execution_count": 31,
   "metadata": {},
   "outputs": [
    {
     "data": {
      "text/plain": [
       "(0, 3)"
      ]
     },
     "execution_count": 31,
     "metadata": {},
     "output_type": "execute_result"
    }
   ],
   "source": [
    "rst.span()  # indexing 에 쓸 수 있음"
   ]
  },
  {
   "cell_type": "code",
   "execution_count": 32,
   "metadata": {},
   "outputs": [
    {
     "data": {
      "text/plain": [
       "0"
      ]
     },
     "execution_count": 32,
     "metadata": {},
     "output_type": "execute_result"
    }
   ],
   "source": [
    "rst.start()"
   ]
  },
  {
   "cell_type": "code",
   "execution_count": 33,
   "metadata": {},
   "outputs": [
    {
     "data": {
      "text/plain": [
       "3"
      ]
     },
     "execution_count": 33,
     "metadata": {},
     "output_type": "execute_result"
    }
   ],
   "source": [
    "rst.end()"
   ]
  },
  {
   "cell_type": "code",
   "execution_count": 34,
   "metadata": {},
   "outputs": [
    {
     "data": {
      "text/plain": [
       "'hel'"
      ]
     },
     "execution_count": 34,
     "metadata": {},
     "output_type": "execute_result"
    }
   ],
   "source": [
    "'hello'[rst.start():rst.end()]"
   ]
  },
  {
   "cell_type": "code",
   "execution_count": 35,
   "metadata": {},
   "outputs": [
    {
     "data": {
      "text/plain": [
       "<re.Match object; span=(0, 4), match='hell'>"
      ]
     },
     "execution_count": 35,
     "metadata": {},
     "output_type": "execute_result"
    }
   ],
   "source": [
    "rst = re.match('hel+', 'hello')\n",
    "rst"
   ]
  },
  {
   "cell_type": "code",
   "execution_count": 36,
   "metadata": {},
   "outputs": [
    {
     "data": {
      "text/plain": [
       "((0, 4), 0, 4, 'hell')"
      ]
     },
     "execution_count": 36,
     "metadata": {},
     "output_type": "execute_result"
    }
   ],
   "source": [
    "rst.span(), rst.start(), rst.end(), 'hello'[rst.start():rst.end()]"
   ]
  },
  {
   "cell_type": "code",
   "execution_count": 37,
   "metadata": {},
   "outputs": [
    {
     "data": {
      "text/plain": [
       "((0, 4), 0, 4, 'hell')"
      ]
     },
     "execution_count": 37,
     "metadata": {},
     "output_type": "execute_result"
    }
   ],
   "source": [
    "rst = re.match('hel*', 'hello')\n",
    "rst\n",
    "rst.span(), rst.start(), rst.end(), 'hello'[rst.start():rst.end()]"
   ]
  },
  {
   "cell_type": "code",
   "execution_count": 38,
   "metadata": {},
   "outputs": [
    {
     "data": {
      "text/plain": [
       "((0, 4), 0, 4, 'hell')"
      ]
     },
     "execution_count": 38,
     "metadata": {},
     "output_type": "execute_result"
    }
   ],
   "source": [
    "rst = re.match('hel{2}', 'hello')\n",
    "rst\n",
    "rst.span(), rst.start(), rst.end(), 'hello'[rst.start():rst.end()]"
   ]
  },
  {
   "cell_type": "code",
   "execution_count": 39,
   "metadata": {},
   "outputs": [
    {
     "data": {
      "text/plain": [
       "((0, 4), 0, 4, 'hell')"
      ]
     },
     "execution_count": 39,
     "metadata": {},
     "output_type": "execute_result"
    }
   ],
   "source": [
    "rst = re.match('hel{1,2}', 'hello')\n",
    "rst\n",
    "rst.span(), rst.start(), rst.end(), 'hello'[rst.start():rst.end()]"
   ]
  },
  {
   "cell_type": "code",
   "execution_count": 40,
   "metadata": {},
   "outputs": [
    {
     "data": {
      "text/plain": [
       "((0, 3), 0, 3, 'hel')"
      ]
     },
     "execution_count": 40,
     "metadata": {},
     "output_type": "execute_result"
    }
   ],
   "source": [
    "rst = re.match('(hel){1,2}', 'hello')\n",
    "rst\n",
    "rst.span(), rst.start(), rst.end(), 'hello'[rst.start():rst.end()]"
   ]
  },
  {
   "cell_type": "code",
   "execution_count": 41,
   "metadata": {},
   "outputs": [
    {
     "data": {
      "text/plain": [
       "((0, 5), 0, 5, 'hello')"
      ]
     },
     "execution_count": 41,
     "metadata": {},
     "output_type": "execute_result"
    }
   ],
   "source": [
    "rst = re.match('hel{1,2}o', 'hello')\n",
    "rst\n",
    "rst.span(), rst.start(), rst.end(), 'hello'[rst.start():rst.end()]"
   ]
  },
  {
   "cell_type": "code",
   "execution_count": 42,
   "metadata": {},
   "outputs": [
    {
     "data": {
      "text/plain": [
       "<re.Match object; span=(0, 2), match='he'>"
      ]
     },
     "execution_count": 42,
     "metadata": {},
     "output_type": "execute_result"
    }
   ],
   "source": [
    "re.search('he', 'hello')"
   ]
  },
  {
   "cell_type": "code",
   "execution_count": 44,
   "metadata": {},
   "outputs": [
    {
     "data": {
      "text/plain": [
       "<re.Match object; span=(2, 4), match='he'>"
      ]
     },
     "execution_count": 44,
     "metadata": {},
     "output_type": "execute_result"
    }
   ],
   "source": [
    "re.search('he', 'ddhello')\n",
    "# match 보다 search 를 쓸 일이 더 많을 것"
   ]
  },
  {
   "cell_type": "code",
   "execution_count": 45,
   "metadata": {},
   "outputs": [
    {
     "data": {
      "text/plain": [
       "<re.Match object; span=(0, 2), match='he'>"
      ]
     },
     "execution_count": 45,
     "metadata": {},
     "output_type": "execute_result"
    }
   ],
   "source": [
    "re.search('^he', 'hello')\n",
    "# match 보다 search 를 쓸 일이 더 많을 것 - 더 포괄적\n",
    "# ^ 쓰면 match랑 동일함"
   ]
  },
  {
   "cell_type": "code",
   "execution_count": 46,
   "metadata": {},
   "outputs": [
    {
     "data": {
      "text/plain": [
       "('he', 'll', 'o')"
      ]
     },
     "execution_count": 46,
     "metadata": {},
     "output_type": "execute_result"
    }
   ],
   "source": [
    "re.search('(he)(l+)(o)', 'hello').groups()"
   ]
  },
  {
   "cell_type": "code",
   "execution_count": 47,
   "metadata": {},
   "outputs": [
    {
     "data": {
      "text/plain": [
       "('he', 'll')"
      ]
     },
     "execution_count": 47,
     "metadata": {},
     "output_type": "execute_result"
    }
   ],
   "source": [
    "re.search('(he)(l+)(?:o)', 'hello').groups()"
   ]
  },
  {
   "cell_type": "code",
   "execution_count": 50,
   "metadata": {},
   "outputs": [
    {
     "data": {
      "text/plain": [
       "'he'"
      ]
     },
     "execution_count": 50,
     "metadata": {},
     "output_type": "execute_result"
    }
   ],
   "source": [
    "re.search('(he)(l+)(o)', 'hello').group(1)\n",
    "# 그룹 안의 0 은 매칭된 전체 글자\n",
    "# 1, 2, 3 ... 순서대로"
   ]
  },
  {
   "cell_type": "code",
   "execution_count": 51,
   "metadata": {},
   "outputs": [
    {
     "data": {
      "text/plain": [
       "(<re.Match object; span=(0, 5), match='hello'>,\n",
       " <re.Match object; span=(0, 2), match='hi'>)"
      ]
     },
     "execution_count": 51,
     "metadata": {},
     "output_type": "execute_result"
    }
   ],
   "source": [
    "re.search('hello|hi', 'hello'), re.search('hello|hi', 'hi')"
   ]
  },
  {
   "cell_type": "code",
   "execution_count": 52,
   "metadata": {},
   "outputs": [
    {
     "data": {
      "text/plain": [
       "(<re.Match object; span=(0, 4), match='http'>,\n",
       " <re.Match object; span=(0, 4), match='http'>)"
      ]
     },
     "execution_count": 52,
     "metadata": {},
     "output_type": "execute_result"
    }
   ],
   "source": [
    "re.search('http|https', 'http'), re.search('http|https', 'https')"
   ]
  },
  {
   "cell_type": "code",
   "execution_count": 53,
   "metadata": {},
   "outputs": [
    {
     "data": {
      "text/plain": [
       "(<re.Match object; span=(0, 4), match='http'>,\n",
       " <re.Match object; span=(0, 5), match='https'>)"
      ]
     },
     "execution_count": 53,
     "metadata": {},
     "output_type": "execute_result"
    }
   ],
   "source": [
    "re.search('https?', 'http'), re.search('https?', 'https')"
   ]
  },
  {
   "cell_type": "code",
   "execution_count": 54,
   "metadata": {},
   "outputs": [
    {
     "data": {
      "text/plain": [
       "(<re.Match object; span=(0, 4), match='http'>,\n",
       " <re.Match object; span=(0, 5), match='https'>,\n",
       " <re.Match object; span=(0, 3), match='ftp'>)"
      ]
     },
     "execution_count": 54,
     "metadata": {},
     "output_type": "execute_result"
    }
   ],
   "source": [
    "re.search('(?:h|f)t+ps?', 'http'),\\\n",
    "re.search('(?:h|f)t+ps?', 'https'),\\\n",
    "re.search('(?:h|f)t+ps?', 'ftp')"
   ]
  },
  {
   "cell_type": "code",
   "execution_count": 55,
   "metadata": {},
   "outputs": [
    {
     "data": {
      "text/plain": [
       "('tt', 'ps')"
      ]
     },
     "execution_count": 55,
     "metadata": {},
     "output_type": "execute_result"
    }
   ],
   "source": [
    "re.search('(?:h|f)(t+)(ps?)', 'https').groups()"
   ]
  },
  {
   "cell_type": "code",
   "execution_count": 56,
   "metadata": {},
   "outputs": [
    {
     "data": {
      "text/plain": [
       "'ps'"
      ]
     },
     "execution_count": 56,
     "metadata": {},
     "output_type": "execute_result"
    }
   ],
   "source": [
    "re.search('(?:h|f)(t+)(ps?)', 'ftps').group(2)"
   ]
  },
  {
   "cell_type": "code",
   "execution_count": null,
   "metadata": {},
   "outputs": [],
   "source": [
    "(h|f)t+ p s? -> group (?:h|f)\n",
    "(h or f) (t...t) (p) (s)\n",
    "htttttttttp httttttps ftp ftps # 다 적용됨"
   ]
  },
  {
   "cell_type": "code",
   "execution_count": 57,
   "metadata": {},
   "outputs": [],
   "source": [
    "data = '''\n",
    "김아무개 919293-1919191\n",
    "이아무개 432342-2345223\n",
    "'''"
   ]
  },
  {
   "cell_type": "code",
   "execution_count": 58,
   "metadata": {},
   "outputs": [
    {
     "data": {
      "text/plain": [
       "4"
      ]
     },
     "execution_count": 58,
     "metadata": {},
     "output_type": "execute_result"
    }
   ],
   "source": [
    "# 뒤 7자리는 노출되면 안되는 정보\n",
    "# 뒷 자리를 가려보자\n",
    "len(data.split('\\n'))"
   ]
  },
  {
   "cell_type": "code",
   "execution_count": 59,
   "metadata": {},
   "outputs": [
    {
     "name": "stdout",
     "output_type": "stream",
     "text": [
      "['김아무개', '919293-1919191']\n",
      "['919293', '1919191']\n",
      "True\n",
      "True\n",
      "*******\n",
      "['이아무개', '432342-2345223']\n",
      "['432342', '2345223']\n",
      "True\n",
      "True\n",
      "*******\n"
     ]
    }
   ],
   "source": [
    "# 정규식이 없으면 이렇게 해야 됨\n",
    "for line in data.split('\\n'):\n",
    "    if len(line) > 0:\n",
    "        print(line.split())\n",
    "        print(line.split()[1].split('-'))\n",
    "        print(line.split()[1].split('-')[-1].isdigit())\n",
    "        print(len(line.split()[1].split('-')[-1]) == 7)\n",
    "        if len(line.split()[1].split('-')[-1]) == 7:\n",
    "            print('*'*7)"
   ]
  },
  {
   "cell_type": "code",
   "execution_count": 79,
   "metadata": {},
   "outputs": [
    {
     "data": {
      "text/plain": [
       "['1919191', '2345223']"
      ]
     },
     "execution_count": 79,
     "metadata": {},
     "output_type": "execute_result"
    }
   ],
   "source": [
    "# 정규식을 사용한다면? findall -> 각각의 문자열에서 일치하는 전부를 가져옴.\n",
    "re.findall('[0-9]{7}', data) # 7번 반복되는 형태"
   ]
  },
  {
   "cell_type": "code",
   "execution_count": 80,
   "metadata": {},
   "outputs": [
    {
     "data": {
      "text/plain": [
       "['1919191', '2345223']"
      ]
     },
     "execution_count": 80,
     "metadata": {},
     "output_type": "execute_result"
    }
   ],
   "source": [
    "# 정규식을 사용한다면? 주민번호 특성 더 반영\n",
    "re.findall('[1-4][0-9]{6}', data)"
   ]
  },
  {
   "cell_type": "code",
   "execution_count": 81,
   "metadata": {},
   "outputs": [
    {
     "data": {
      "text/plain": [
       "'\\n김아무개 919293-*******\\n이아무개 432342-*******\\n'"
      ]
     },
     "execution_count": 81,
     "metadata": {},
     "output_type": "execute_result"
    }
   ],
   "source": [
    "re.sub('([1-4][0-9]{6})', '*******', data)"
   ]
  },
  {
   "cell_type": "code",
   "execution_count": 82,
   "metadata": {},
   "outputs": [
    {
     "name": "stdout",
     "output_type": "stream",
     "text": [
      "\n",
      "김아무개 919293-*******\n",
      "이아무개 432342-*******\n",
      "\n"
     ]
    }
   ],
   "source": [
    "print(re.sub('([1-4][0-9]{6})', '*******', data))\n",
    "# 속도는 정말 빠른데 코드가 매우 짧음. 검사도 가능"
   ]
  },
  {
   "cell_type": "code",
   "execution_count": 83,
   "metadata": {},
   "outputs": [
    {
     "name": "stdout",
     "output_type": "stream",
     "text": [
      "\n",
      "김아무개 919293-*******\n",
      "이아무개 432342-*******\n",
      "\n"
     ]
    }
   ],
   "source": [
    "print(re.sub('(\\d{6})[\\-]([1-4][0-9]{6})', '\\g<1>-*******', data))"
   ]
  },
  {
   "cell_type": "code",
   "execution_count": 63,
   "metadata": {},
   "outputs": [
    {
     "name": "stdout",
     "output_type": "stream",
     "text": [
      "\n",
      "김아무개 1919191-*******\n",
      "이아무개 2345223-*******\n",
      "\n"
     ]
    }
   ],
   "source": [
    "print(re.sub('(\\d{6})[\\-]([1-4][0-9]{6})', '\\g<2>-*******', data))\n",
    "# ? "
   ]
  },
  {
   "cell_type": "markdown",
   "metadata": {},
   "source": [
    "### 본격적 연습 시작"
   ]
  },
  {
   "cell_type": "markdown",
   "metadata": {},
   "source": [
    "##### 전화번호 예제"
   ]
  },
  {
   "cell_type": "code",
   "execution_count": 80,
   "metadata": {},
   "outputs": [
    {
     "data": {
      "text/plain": [
       "[('', '010', '0000', '0000'),\n",
       " ('', '02', '2342', '1231'),\n",
       " ('', '02', '0324', '1231'),\n",
       " ('', '010', '3432', '1231'),\n",
       " ('', '02', '3423', '4234'),\n",
       " ('+82', '012', '1231', '1231'),\n",
       " ('82', '010', '1234', '1234'),\n",
       " ('82', '010', '1234', '1234')]"
      ]
     },
     "execution_count": 80,
     "metadata": {},
     "output_type": "execute_result"
    }
   ],
   "source": [
    "\n",
    "data = '''\n",
    "    010-0000-0000\n",
    "    523-2342-1000\n",
    "    02-2342-1231\n",
    "    02 0324 1231\n",
    "    010        23432         1231231\n",
    "    0234234234\n",
    "    공1공 1341 이삼31\n",
    "    +82 012 1231 1231\n",
    "    +82 10 1234 1234\n",
    "    82 010 1234 1234\n",
    "    82 10 1234 1234\n",
    "    821012341234\n",
    "    8201012341234\n",
    "'''\n",
    "\n",
    "#re.findall('(\\d{3}-\\d{4}-\\d{4})', data)\n",
    "#re.findall('([0]\\d{2}-\\d{4}-\\d{4})', data)\n",
    "#re.findall('([0]\\d{1,2}-\\d{4}-\\d{4})', data)\n",
    "#re.findall('([0]\\d{1,2}.\\d{4}.\\d{4})', data) # 중간에 - 혹은 공백 까지 다 포함해서 결과 가져옴\n",
    "#re.findall('([0]\\d{1,2}.+\\d{4}.+\\d{4})', data)\n",
    "#re.findall('([0]\\d{1,2}.*\\d{4}.*\\d{4})', data)\n",
    "#re.findall('(?:([0]\\d{1,2}).*(\\d{4}).*(\\d{4}))', data) # 깔끔하게 숫자만 떨어짐. 전체는 캡쳐하지 않고 숫자부분만 캡쳐한 것\n",
    "#re.findall('(?:([0공영](?:\\d|[공영일이삼사오육칠팔구]){1,2}).*((?:\\d|[공열일이삼사오육칠팔구]){4}).*((?:\\d|[공영일이삼사오육칠팔구]){4}))', data)\n",
    "#re.findall('(?:([+]?\\d{1,2}).*([0]\\d{1,2}).*(\\d{4}).*(\\d{4}))', data)\n",
    "#re.findall('(?:(?:([+]?\\d{1,2}).*)?([0]\\d{1,2}).*(\\d{4}).*(\\d{4}))', data)\n",
    "re.findall('(?:(?:([+]?\\d{1,2}).*)?([0]\\d{1,2}).*(\\d{4}).*(\\d{4}))', data)"
   ]
  },
  {
   "cell_type": "markdown",
   "metadata": {},
   "source": [
    "##### 이메일 예제"
   ]
  },
  {
   "cell_type": "code",
   "execution_count": 86,
   "metadata": {},
   "outputs": [
    {
     "data": {
      "text/plain": [
       "['abcde01010@gamil.com', 'aa-_0.@gamil.co.kr', 'toiquen419@gamil.com']"
      ]
     },
     "execution_count": 86,
     "metadata": {},
     "output_type": "execute_result"
    }
   ],
   "source": [
    "# ID 규칙: 영문(대소문자 구별o)숫자-_.\n",
    "# 조건1: 첫글자는 무조건 영문 소문자\n",
    "# 조건2: 아이디는 최소 3글자 이상 최대 15글자 이하\n",
    "data = '''\n",
    "    abcde01010@gamil.com\n",
    "    Aasdfa0101@gamil.co.kr\n",
    "    0awasdfasdf@servi.gamil.com\n",
    "    aEd3!%$#@gamil.com\n",
    "    aa-_0.@gamil.co.kr\n",
    "    toiquen419@gamil.com\n",
    "    a@gamil.com\n",
    "    aaaaaaaaaaaaaaaaaaaaaaaaa@gamil.com\n",
    "'''\n",
    "\n",
    "#re.findall(r'\\b.+\\b', data)  # \\ 때문에 r 붙힘\n",
    "#re.findall(r'\\b(.{3,15})\\b', data)\n",
    "#re.findall(r'\\b([a-z][a-zA-Z0-9\\-\\_\\.]{3,15})\\b', data)\n",
    "#re.findall(r'\\b([a-z][a-zA-Z0-9\\-\\_\\.]{2,14})\\b', data)\n",
    "re.findall(r'\\b([a-z][a-zA-Z0-9\\-\\_\\.]{2,14}@(?:[.]?\\w+){2,})\\b', data)  # 여기서 r 이 없으면 \\b 를 브라켓으로 인식함"
   ]
  },
  {
   "cell_type": "code",
   "execution_count": 87,
   "metadata": {},
   "outputs": [
    {
     "name": "stdout",
     "output_type": "stream",
     "text": [
      "\b\n",
      "\t\n"
     ]
    }
   ],
   "source": [
    "print('\\b\\n\\r\\t') # \\가 들어가면 뒤에 무슨 글자를 쓰든 원래는 원래 예약되어 있는 쓰임으로 쓰여야 함"
   ]
  },
  {
   "cell_type": "code",
   "execution_count": 118,
   "metadata": {},
   "outputs": [
    {
     "name": "stdout",
     "output_type": "stream",
     "text": [
      "\\b\\n\\r\\t\n"
     ]
    }
   ],
   "source": [
    "print(r'\\b\\n\\r\\t') # 문자열로 처리해라!"
   ]
  },
  {
   "cell_type": "code",
   "execution_count": null,
   "metadata": {},
   "outputs": [],
   "source": [
    "() => 그룹\n",
    "(?:) => 그룹이긴 하나 결과에 포함 x\n",
    "(?:     (전화번호)      )\n",
    "(        (?:       )        )"
   ]
  },
  {
   "cell_type": "code",
   "execution_count": null,
   "metadata": {},
   "outputs": [],
   "source": [
    "# 위 구조에 대한 풀이\n",
    "@\n",
    "  (?:\n",
    "       [.]?\\w+\n",
    "    .com\n",
    "    .co\n",
    "    .kr\n",
    "    [.]com.com\n",
    "    [.]gmail.co.kr\n",
    "    service.gsdaf.co.kr\n",
    "       \n",
    "){2,}\n",
    "\n",
    ")\n",
    "# 아이디 보다 @ 뒤가 더 중요함. 크롤러는 본질이 웹을 탐색하는 아이.\n",
    "# 그럴려면 URL, URI 에 대한 이해가 있어야 하는데 위처럼 생김."
   ]
  },
  {
   "cell_type": "code",
   "execution_count": null,
   "metadata": {},
   "outputs": [],
   "source": [
    "# 그룹\n",
    "# 내가 원하는 한 묶음은 꼭 있어야 하는데 어떻게 그룹으로 지칭하지? -> ()\n",
    "# (){2,} => 2번 이상 반복해라"
   ]
  },
  {
   "cell_type": "markdown",
   "metadata": {},
   "source": [
    "##### URL / URI 예제"
   ]
  },
  {
   "cell_type": "code",
   "execution_count": null,
   "metadata": {},
   "outputs": [],
   "source": [
    "# URL - 웹페이지, 이미지(낱개의 물리적 형태의 파일을 나타냄)\n",
    "# URI - 서비스 위치.\n",
    "# URI - https://lms.sunde41.net/course/3 - 파일의 주소가 아니고 서비스의 주소가 써져 있는 것\n",
    "# 우리가 만들 것은 URL, URI 중 어느 것이 되었든 정상 경로로 찾아가서 정보를 찾아감\n",
    "# 중요한 과정임."
   ]
  },
  {
   "cell_type": "code",
   "execution_count": 92,
   "metadata": {},
   "outputs": [
    {
     "data": {
      "text/plain": [
       "[('https://www.naver.com', 'https', 'www.naver.com'),\n",
       " ('https://mail.naver.com', 'https', 'mail.naver.com'),\n",
       " ('https://blog.naver.com', 'https', 'blog.naver.com'),\n",
       " ('https://naver.com', 'https', 'naver.com'),\n",
       " ('www.naver.com', '', 'www.naver.com'),\n",
       " ('naver.com', '', 'naver.com')]"
      ]
     },
     "execution_count": 92,
     "metadata": {},
     "output_type": "execute_result"
    }
   ],
   "source": [
    "    # http://www.example.com:80/index.html -> 기본적 형태\n",
    "    # https://www.naver.com:443/index.html -> 기본적 형태\n",
    "    # 스키마(s)주소의시작(://)웹주소\n",
    "data = '''\n",
    "    https://www.naver.com\n",
    "    https://mail.naver.com\n",
    "    https://blog.naver.com\n",
    "    https://naver.com\n",
    "    www.naver.com\n",
    "    naver.com\n",
    "'''\n",
    "# 스키마 종류\n",
    "# mailto, http, https, telnet, ssh, ftp, sftp, ...\n",
    "# http, https 가 웹. 생략도 가능함\n",
    "\n",
    "#re.findall('https?://', data)\n",
    "#re.findall('(?:https?)?(?:://)?', data)\n",
    "#re.findall('(?:https?)?(?:://)?(?:[.]?\\w{2,}){2,}', data)\n",
    "#re.findall('((https?)?(?:://)?(?:[.]?\\w{2,}){2,})', data) \n",
    "re.findall('((https?)?(?:://)?((?:[.]?\\w{2,}){2,}))', data)"
   ]
  },
  {
   "cell_type": "markdown",
   "metadata": {},
   "source": [
    "#### 카카오 코딩테스트 예제"
   ]
  },
  {
   "cell_type": "code",
   "execution_count": null,
   "metadata": {},
   "outputs": [],
   "source": [
    "# 2018 카카오 코테\n",
    "숫자|문자|옵션 * 3번 반복\n",
    "0-10|SDT|*,#,없거나\n",
    "1S2D*3T"
   ]
  },
  {
   "cell_type": "code",
   "execution_count": 93,
   "metadata": {},
   "outputs": [
    {
     "data": {
      "text/plain": [
       "('1S', '2D*', '3T')"
      ]
     },
     "execution_count": 93,
     "metadata": {},
     "output_type": "execute_result"
    }
   ],
   "source": [
    "#re.match('([0-9]{1,2}[SDT][*#]?)'<- 이 부분이 3번 반복, data)\n",
    "result = re.match('([0-9]{1,2}[SDT][*#]?)([0-9]{1,2}[SDT][*#]?)([0-9]{1,2}[SDT][*#]?)', '1S2D*3T').groups()\n",
    "result"
   ]
  },
  {
   "cell_type": "code",
   "execution_count": 119,
   "metadata": {},
   "outputs": [
    {
     "data": {
      "text/plain": [
       "3"
      ]
     },
     "execution_count": 119,
     "metadata": {},
     "output_type": "execute_result"
    }
   ],
   "source": [
    "#re.match('([0-9]{1,2}[SDT][*#]?)'<- 이 부분이 3번 반복, data)\n",
    "len(re.match('([0-9]{1,2}[SDT][*#]?)([0-9]{1,2}[SDT][*#]?)([0-9]{1,2}[SDT][*#]?)', '1S2D*3T').groups())"
   ]
  },
  {
   "cell_type": "code",
   "execution_count": 94,
   "metadata": {},
   "outputs": [
    {
     "data": {
      "text/plain": [
       "'1S'"
      ]
     },
     "execution_count": 94,
     "metadata": {},
     "output_type": "execute_result"
    }
   ],
   "source": [
    "# 위의 결과에 group(1), group(2), group(3)\n",
    "# groups() => 튜플(1, 2, 3)\n",
    "result[0]"
   ]
  },
  {
   "cell_type": "code",
   "execution_count": 125,
   "metadata": {},
   "outputs": [
    {
     "data": {
      "text/plain": [
       "('1', 'S', '')"
      ]
     },
     "execution_count": 125,
     "metadata": {},
     "output_type": "execute_result"
    }
   ],
   "source": [
    "re.match('([0-9]{1,2})([SDT])([*#]?)', result[0]).groups()"
   ]
  },
  {
   "cell_type": "code",
   "execution_count": 155,
   "metadata": {},
   "outputs": [],
   "source": [
    "a = re.match('([0-9]{1,2})([SDT])([*#]?)', result[0]).groups()\n",
    "\n",
    "#int(a[0]), a[1], a[2] if a[2] is not None else None"
   ]
  },
  {
   "cell_type": "code",
   "execution_count": 133,
   "metadata": {},
   "outputs": [
    {
     "data": {
      "text/plain": [
       "('1', 'S', '')"
      ]
     },
     "execution_count": 133,
     "metadata": {},
     "output_type": "execute_result"
    }
   ],
   "source": [
    "a"
   ]
  },
  {
   "cell_type": "code",
   "execution_count": 114,
   "metadata": {},
   "outputs": [
    {
     "data": {
      "text/plain": [
       "('1S', '2D*', '3T')"
      ]
     },
     "execution_count": 114,
     "metadata": {},
     "output_type": "execute_result"
    }
   ],
   "source": [
    "re.match('([0-9]{1,2}[SDT][*#]?)([0-9]{1,2}[SDT][*#]?)([0-9]{1,2}[SDT][*#]?)', '1S2D*3T').groups()"
   ]
  },
  {
   "cell_type": "code",
   "execution_count": 99,
   "metadata": {},
   "outputs": [
    {
     "name": "stdout",
     "output_type": "stream",
     "text": [
      "[1]\n",
      "['S']\n",
      "['2']\n",
      "['D']\n",
      "['*']\n",
      "['3']\n",
      "['T']\n",
      "[1]\n",
      "['D']\n",
      "['2']\n",
      "['S']\n",
      "['#']\n",
      "[1]\n",
      "[0]\n",
      "['S']\n",
      "[1]\n",
      "['D']\n",
      "['2']\n",
      "['S']\n",
      "[0]\n",
      "['T']\n",
      "[1]\n",
      "['S']\n",
      "['*']\n",
      "['2']\n",
      "['T']\n",
      "['*']\n",
      "['3']\n",
      "['S']\n",
      "[1]\n",
      "['D']\n",
      "['#']\n",
      "['2']\n",
      "['S']\n",
      "['*']\n",
      "['3']\n",
      "['S']\n",
      "[1]\n",
      "['T']\n",
      "['2']\n",
      "['D']\n",
      "['3']\n",
      "['D']\n",
      "['#']\n",
      "[1]\n",
      "['D']\n",
      "['2']\n",
      "['S']\n",
      "['3']\n",
      "['T']\n",
      "['*']\n"
     ]
    }
   ],
   "source": [
    "data = ['1S2D*3T', '1D2S#10S', '1D2S0T', '1S*2T*3S', '1D#2S*3S', '1T2D3D#', '1D2S3T*']\n",
    "\n",
    "for score in data:\n",
    "    rst = re.match('([0-9]{1,2}[SDT][*#]?)([0-9]{1,2}[SDT][*#]?)([0-9]{1,2}[SDT][*#]?)', score).groups()\n",
    "    for i in range(len(rst)):\n",
    "        sbo = re.match('([0-9]{1,2})([SDT])([*#]?)', rst[i]).groups()\n",
    "        #print(sbo)\n",
    "        for i in range(len(sbo)):\n",
    "            for j in sbo[i]:\n",
    "                rst_tu=[]\n",
    "                if j in str([range(11)]):\n",
    "                    rst_tu.append(int(j))\n",
    "                elif j in ['S', 'D', 'T']:\n",
    "                    rst_tu.append(j)\n",
    "                elif j is None:\n",
    "                    None\n",
    "                else:\n",
    "                    rst_tu.append(j)\n",
    "                \n",
    "                print(rst_tu)\n",
    "                    \n",
    "                \n",
    "\n",
    "    "
   ]
  },
  {
   "cell_type": "code",
   "execution_count": 174,
   "metadata": {},
   "outputs": [
    {
     "data": {
      "text/plain": [
       "([(1, 'S', ''),\n",
       "  (2, 'D', '*'),\n",
       "  (3, 'T', ''),\n",
       "  (1, 'D', ''),\n",
       "  (2, 'S', '#'),\n",
       "  (10, 'S', ''),\n",
       "  (1, 'D', ''),\n",
       "  (2, 'S', ''),\n",
       "  (0, 'T', ''),\n",
       "  (1, 'S', '*'),\n",
       "  (2, 'T', '*'),\n",
       "  (3, 'S', ''),\n",
       "  (1, 'D', '#'),\n",
       "  (2, 'S', '*'),\n",
       "  (3, 'S', ''),\n",
       "  (1, 'T', ''),\n",
       "  (2, 'D', ''),\n",
       "  (3, 'D', '#'),\n",
       "  (1, 'D', ''),\n",
       "  (2, 'S', ''),\n",
       "  (3, 'T', '*')],\n",
       " 21)"
      ]
     },
     "execution_count": 174,
     "metadata": {},
     "output_type": "execute_result"
    }
   ],
   "source": [
    "data = ['1S2D*3T', '1D2S#10S', '1D2S0T', '1S*2T*3S', '1D#2S*3S', '1T2D3D#', '1D2S3T*']\n",
    "cal = []\n",
    "\n",
    "for score in data:\n",
    "    rst = re.match('([0-9]{1,2}[SDT][*#]?)([0-9]{1,2}[SDT][*#]?)([0-9]{1,2}[SDT][*#]?)', score).groups()\n",
    "    for i in range(len(rst)):\n",
    "        a = re.match('([0-9]{1,2})([SDT])([*#]?)', rst[i]).groups()\n",
    "        \n",
    "        if j is not None:\n",
    "            value1 = (int(a[0]), a[1], a[2])\n",
    "            cal.append(value1)\n",
    "        else:\n",
    "            value2 = (int(a[0]), a[1])\n",
    "            cal.append(value2)\n",
    "        \n",
    "    \n",
    "        \n",
    "cal, len(cal)"
   ]
  },
  {
   "cell_type": "code",
   "execution_count": 183,
   "metadata": {},
   "outputs": [
    {
     "data": {
      "text/plain": [
       "(3, 'T', '')"
      ]
     },
     "execution_count": 183,
     "metadata": {},
     "output_type": "execute_result"
    }
   ],
   "source": [
    "m = list(range(0, len(cal)+1, 3))\n",
    "if '*' in cal[0:3][0]:\n",
    "    "
   ]
  },
  {
   "cell_type": "code",
   "execution_count": 151,
   "metadata": {},
   "outputs": [
    {
     "name": "stdout",
     "output_type": "stream",
     "text": [
      "3T <class 'str'>\n",
      "10S <class 'str'>\n",
      "0T <class 'str'>\n",
      "3S <class 'str'>\n",
      "3S <class 'str'>\n",
      "3D# <class 'str'>\n",
      "3T* <class 'str'>\n"
     ]
    }
   ],
   "source": [
    "data = ['1S2D*3T', '1D2S#10S', '1D2S0T', '1S*2T*3S', '1D#2S*3S', '1T2D3D#', '1D2S3T*']\n",
    "for score in data:\n",
    "    rst = re.match('([0-9]{1,2}[SDT][*#]?)([0-9]{1,2}[SDT][*#]?)([0-9]{1,2}[SDT][*#]?)', score).groups()\n",
    "    print(rst[2], type(rst[2]))"
   ]
  },
  {
   "cell_type": "code",
   "execution_count": null,
   "metadata": {},
   "outputs": [],
   "source": [
    "# 2021 카카오 코테 - 아이디 생성 규칙"
   ]
  },
  {
   "cell_type": "code",
   "execution_count": null,
   "metadata": {},
   "outputs": [],
   "source": []
  },
  {
   "cell_type": "code",
   "execution_count": null,
   "metadata": {},
   "outputs": [],
   "source": []
  },
  {
   "cell_type": "code",
   "execution_count": null,
   "metadata": {},
   "outputs": [],
   "source": []
  },
  {
   "cell_type": "code",
   "execution_count": null,
   "metadata": {},
   "outputs": [],
   "source": []
  },
  {
   "cell_type": "markdown",
   "metadata": {},
   "source": [
    "#### 질문"
   ]
  },
  {
   "cell_type": "code",
   "execution_count": 128,
   "metadata": {},
   "outputs": [
    {
     "name": "stdout",
     "output_type": "stream",
     "text": [
      "\\\n",
      "\n"
     ]
    },
    {
     "data": {
      "text/plain": [
       "('\\\\\\n', None)"
      ]
     },
     "execution_count": 128,
     "metadata": {},
     "output_type": "execute_result"
    }
   ],
   "source": [
    "re.escape('\\n'), print(re.escape('\\n'))\n",
    "'\\n'\n",
    "\\\\ \\n\n",
    "\\  줄바꿈"
   ]
  },
  {
   "cell_type": "code",
   "execution_count": 132,
   "metadata": {},
   "outputs": [
    {
     "name": "stdout",
     "output_type": "stream",
     "text": [
      "\b\n"
     ]
    },
    {
     "data": {
      "text/plain": [
       "('\\x08', None, '\\x08')"
      ]
     },
     "execution_count": 132,
     "metadata": {},
     "output_type": "execute_result"
    }
   ],
   "source": [
    "re.escape('\\b'), print(re.escape('\\b')), '\\b'"
   ]
  },
  {
   "cell_type": "code",
   "execution_count": 129,
   "metadata": {},
   "outputs": [
    {
     "name": "stdout",
     "output_type": "stream",
     "text": [
      "\\\\ccc\n"
     ]
    },
    {
     "data": {
      "text/plain": [
       "('\\\\\\\\ccc', None)"
      ]
     },
     "execution_count": 129,
     "metadata": {},
     "output_type": "execute_result"
    }
   ],
   "source": [
    "re.escape('\\ccc'), print(re.escape('\\ccc'))\n",
    "\\c 라는 예약어는 없음. 따라서 \\c는 \\\\c 로 되고 \\\\가 두 개 있기 때문에 \\\\\\\\가 된 것."
   ]
  },
  {
   "cell_type": "code",
   "execution_count": 130,
   "metadata": {},
   "outputs": [
    {
     "data": {
      "text/plain": [
       "('\\\\\\\\ccc', '\\\\c', '\\n')"
      ]
     },
     "execution_count": 130,
     "metadata": {},
     "output_type": "execute_result"
    }
   ],
   "source": [
    "re.escape('\\ccc'), '\\c', '\\n'"
   ]
  },
  {
   "cell_type": "code",
   "execution_count": null,
   "metadata": {},
   "outputs": [],
   "source": [
    ". [.]  [\\.]  => 2번째는 혹시모르니까 [] 처리 해준 것이고, []안을 문자열로 보겠다는 소리. 2번째 3번째는 의미가 같음"
   ]
  }
 ],
 "metadata": {
  "kernelspec": {
   "display_name": "Python 3 (ipykernel)",
   "language": "python",
   "name": "python3"
  },
  "language_info": {
   "codemirror_mode": {
    "name": "ipython",
    "version": 3
   },
   "file_extension": ".py",
   "mimetype": "text/x-python",
   "name": "python",
   "nbconvert_exporter": "python",
   "pygments_lexer": "ipython3",
   "version": "3.10.9"
  },
  "toc": {
   "base_numbering": 1,
   "nav_menu": {},
   "number_sections": true,
   "sideBar": true,
   "skip_h1_title": false,
   "title_cell": "Table of Contents",
   "title_sidebar": "Contents",
   "toc_cell": false,
   "toc_position": {},
   "toc_section_display": true,
   "toc_window_display": false
  },
  "varInspector": {
   "cols": {
    "lenName": 16,
    "lenType": 16,
    "lenVar": 40
   },
   "kernels_config": {
    "python": {
     "delete_cmd_postfix": "",
     "delete_cmd_prefix": "del ",
     "library": "var_list.py",
     "varRefreshCmd": "print(var_dic_list())"
    },
    "r": {
     "delete_cmd_postfix": ") ",
     "delete_cmd_prefix": "rm(",
     "library": "var_list.r",
     "varRefreshCmd": "cat(var_dic_list()) "
    }
   },
   "types_to_exclude": [
    "module",
    "function",
    "builtin_function_or_method",
    "instance",
    "_Feature"
   ],
   "window_display": false
  }
 },
 "nbformat": 4,
 "nbformat_minor": 2
}
