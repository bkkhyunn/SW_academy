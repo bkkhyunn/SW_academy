{
 "cells": [
  {
   "cell_type": "markdown",
   "metadata": {},
   "source": [
    "### **객체지향**"
   ]
  },
  {
   "cell_type": "code",
   "execution_count": null,
   "metadata": {},
   "outputs": [],
   "source": [
    "import 다음 오는 것은 파일.\n",
    "# 파이썬 라이브러리는 C로 만들어져 있음.\n",
    "# DB 제일 처음 시작할 때, 파이썬과 데이터베이스가 서로 다른 영역이기 때문에 connection 해줘야함.\n",
    "# connection 의 짝이 있음. 짝이 close. 안 닫으면 계속 메모리 유수가 생김."
   ]
  },
  {
   "cell_type": "code",
   "execution_count": 1,
   "metadata": {},
   "outputs": [],
   "source": [
    "import sqlite3"
   ]
  },
  {
   "cell_type": "code",
   "execution_count": 2,
   "metadata": {},
   "outputs": [
    {
     "data": {
      "text/plain": [
       "['Binary',\n",
       " 'Connection',\n",
       " 'Cursor',\n",
       " 'DataError',\n",
       " 'DatabaseError',\n",
       " 'Date',\n",
       " 'DateFromTicks',\n",
       " 'Error',\n",
       " 'IntegrityError',\n",
       " 'InterfaceError',\n",
       " 'InternalError',\n",
       " 'NotSupportedError',\n",
       " 'OperationalError',\n",
       " 'PARSE_COLNAMES',\n",
       " 'PARSE_DECLTYPES',\n",
       " 'PrepareProtocol',\n",
       " 'ProgrammingError',\n",
       " 'Row',\n",
       " 'SQLITE_ALTER_TABLE',\n",
       " 'SQLITE_ANALYZE',\n",
       " 'SQLITE_ATTACH',\n",
       " 'SQLITE_CREATE_INDEX',\n",
       " 'SQLITE_CREATE_TABLE',\n",
       " 'SQLITE_CREATE_TEMP_INDEX',\n",
       " 'SQLITE_CREATE_TEMP_TABLE',\n",
       " 'SQLITE_CREATE_TEMP_TRIGGER',\n",
       " 'SQLITE_CREATE_TEMP_VIEW',\n",
       " 'SQLITE_CREATE_TRIGGER',\n",
       " 'SQLITE_CREATE_VIEW',\n",
       " 'SQLITE_CREATE_VTABLE',\n",
       " 'SQLITE_DELETE',\n",
       " 'SQLITE_DENY',\n",
       " 'SQLITE_DETACH',\n",
       " 'SQLITE_DONE',\n",
       " 'SQLITE_DROP_INDEX',\n",
       " 'SQLITE_DROP_TABLE',\n",
       " 'SQLITE_DROP_TEMP_INDEX',\n",
       " 'SQLITE_DROP_TEMP_TABLE',\n",
       " 'SQLITE_DROP_TEMP_TRIGGER',\n",
       " 'SQLITE_DROP_TEMP_VIEW',\n",
       " 'SQLITE_DROP_TRIGGER',\n",
       " 'SQLITE_DROP_VIEW',\n",
       " 'SQLITE_DROP_VTABLE',\n",
       " 'SQLITE_FUNCTION',\n",
       " 'SQLITE_IGNORE',\n",
       " 'SQLITE_INSERT',\n",
       " 'SQLITE_OK',\n",
       " 'SQLITE_PRAGMA',\n",
       " 'SQLITE_READ',\n",
       " 'SQLITE_RECURSIVE',\n",
       " 'SQLITE_REINDEX',\n",
       " 'SQLITE_SAVEPOINT',\n",
       " 'SQLITE_SELECT',\n",
       " 'SQLITE_TRANSACTION',\n",
       " 'SQLITE_UPDATE',\n",
       " 'Time',\n",
       " 'TimeFromTicks',\n",
       " 'Timestamp',\n",
       " 'TimestampFromTicks',\n",
       " 'Warning',\n",
       " '__builtins__',\n",
       " '__cached__',\n",
       " '__doc__',\n",
       " '__file__',\n",
       " '__getattr__',\n",
       " '__loader__',\n",
       " '__name__',\n",
       " '__package__',\n",
       " '__path__',\n",
       " '__spec__',\n",
       " 'adapt',\n",
       " 'adapters',\n",
       " 'apilevel',\n",
       " 'collections',\n",
       " 'complete_statement',\n",
       " 'connect',\n",
       " 'converters',\n",
       " 'datetime',\n",
       " 'dbapi2',\n",
       " 'enable_callback_tracebacks',\n",
       " 'enable_shared_cache',\n",
       " 'paramstyle',\n",
       " 'register_adapter',\n",
       " 'register_converter',\n",
       " 'sqlite_version',\n",
       " 'sqlite_version_info',\n",
       " 'threadsafety',\n",
       " 'time',\n",
       " 'version',\n",
       " 'version_info']"
      ]
     },
     "execution_count": 2,
     "metadata": {},
     "output_type": "execute_result"
    }
   ],
   "source": [
    "dir(sqlite3)"
   ]
  },
  {
   "cell_type": "code",
   "execution_count": 3,
   "metadata": {},
   "outputs": [
    {
     "data": {
      "text/plain": [
       "['/Users/baekkwanghyun/miniconda3/lib/python3.10/sqlite3']"
      ]
     },
     "execution_count": 3,
     "metadata": {},
     "output_type": "execute_result"
    }
   ],
   "source": [
    "sqlite3.__path__ # 이 놈은 어디에 있는지를 알려줌. 그렇다면 찾아가서 파일 볼 수 있음.\n",
    "# 찾아가서 보면 두 가지가 보통.\n",
    "# 순수한 파이썬으로 만들어진 것. C하고 연동되서 만들어진 것.\n",
    "# __path__ 는 라이브러리 어디에 설치되어 있는가."
   ]
  },
  {
   "cell_type": "code",
   "execution_count": 5,
   "metadata": {},
   "outputs": [],
   "source": [
    "con = sqlite3.connect(':memory:')"
   ]
  },
  {
   "cell_type": "code",
   "execution_count": null,
   "metadata": {},
   "outputs": [],
   "source": [
    "# out 이 튀어나옴. callable 관점해서 저 out은 return값 에 해당됨\n",
    "# return 값을 재활용해야 함.\n",
    "# 이 값을 재활용하기 위해서는 이름을 불러야 함. 계속 사용하기 위해서.\n",
    "# out 이 있으니 이름을 붙히는 것. out 이 없으면 재활용이 안됨."
   ]
  },
  {
   "cell_type": "code",
   "execution_count": 6,
   "metadata": {},
   "outputs": [
    {
     "data": {
      "text/plain": [
       "['DataError',\n",
       " 'DatabaseError',\n",
       " 'Error',\n",
       " 'IntegrityError',\n",
       " 'InterfaceError',\n",
       " 'InternalError',\n",
       " 'NotSupportedError',\n",
       " 'OperationalError',\n",
       " 'ProgrammingError',\n",
       " 'Warning',\n",
       " '__call__',\n",
       " '__class__',\n",
       " '__delattr__',\n",
       " '__dir__',\n",
       " '__doc__',\n",
       " '__enter__',\n",
       " '__eq__',\n",
       " '__exit__',\n",
       " '__format__',\n",
       " '__ge__',\n",
       " '__getattribute__',\n",
       " '__gt__',\n",
       " '__hash__',\n",
       " '__init__',\n",
       " '__init_subclass__',\n",
       " '__le__',\n",
       " '__lt__',\n",
       " '__module__',\n",
       " '__ne__',\n",
       " '__new__',\n",
       " '__reduce__',\n",
       " '__reduce_ex__',\n",
       " '__repr__',\n",
       " '__setattr__',\n",
       " '__sizeof__',\n",
       " '__str__',\n",
       " '__subclasshook__',\n",
       " 'backup',\n",
       " 'close',\n",
       " 'commit',\n",
       " 'create_aggregate',\n",
       " 'create_collation',\n",
       " 'create_function',\n",
       " 'cursor',\n",
       " 'enable_load_extension',\n",
       " 'execute',\n",
       " 'executemany',\n",
       " 'executescript',\n",
       " 'in_transaction',\n",
       " 'interrupt',\n",
       " 'isolation_level',\n",
       " 'iterdump',\n",
       " 'load_extension',\n",
       " 'rollback',\n",
       " 'row_factory',\n",
       " 'set_authorizer',\n",
       " 'set_progress_handler',\n",
       " 'set_trace_callback',\n",
       " 'text_factory',\n",
       " 'total_changes']"
      ]
     },
     "execution_count": 6,
     "metadata": {},
     "output_type": "execute_result"
    }
   ],
   "source": [
    "dir(con)"
   ]
  },
  {
   "cell_type": "code",
   "execution_count": null,
   "metadata": {},
   "outputs": [],
   "source": [
    "# __enter__, __exit__ => context manager , 개발자들이 사용자들에게 편의기능 제공\n",
    "# 이것들이 처음 시작할 때 enter, 끝날 때 exit 이러한 짝을 이루는 구조를 제공함.\n",
    "# 이를 with 로 구현함"
   ]
  },
  {
   "cell_type": "code",
   "execution_count": 7,
   "metadata": {},
   "outputs": [],
   "source": [
    "# with 구문 -> open 에서 배움. open을 하면 항상 close 해야 하기 때문\n",
    "a = 1"
   ]
  },
  {
   "cell_type": "code",
   "execution_count": 8,
   "metadata": {},
   "outputs": [
    {
     "ename": "AttributeError",
     "evalue": "__enter__",
     "output_type": "error",
     "traceback": [
      "\u001B[0;31m---------------------------------------------------------------------------\u001B[0m",
      "\u001B[0;31mAttributeError\u001B[0m                            Traceback (most recent call last)",
      "Cell \u001B[0;32mIn[8], line 1\u001B[0m\n\u001B[0;32m----> 1\u001B[0m \u001B[39mwith\u001B[39;00m a:\n\u001B[1;32m      2\u001B[0m     \u001B[39mpass\u001B[39;00m\n",
      "\u001B[0;31mAttributeError\u001B[0m: __enter__"
     ]
    }
   ],
   "source": [
    "with a:\n",
    "    pass\n",
    "# __enter__ 가 없다는 AttributeError 가 나옴\n",
    "# 엔터가 없는 오리"
   ]
  },
  {
   "cell_type": "code",
   "execution_count": 9,
   "metadata": {},
   "outputs": [],
   "source": [
    "class A:\n",
    "    def __enter__(self):\n",
    "        print('enter')"
   ]
  },
  {
   "cell_type": "code",
   "execution_count": 10,
   "metadata": {},
   "outputs": [],
   "source": [
    "a = A()"
   ]
  },
  {
   "cell_type": "code",
   "execution_count": 11,
   "metadata": {},
   "outputs": [
    {
     "ename": "AttributeError",
     "evalue": "__exit__",
     "output_type": "error",
     "traceback": [
      "\u001B[0;31m---------------------------------------------------------------------------\u001B[0m",
      "\u001B[0;31mAttributeError\u001B[0m                            Traceback (most recent call last)",
      "Cell \u001B[0;32mIn[11], line 1\u001B[0m\n\u001B[0;32m----> 1\u001B[0m \u001B[39mwith\u001B[39;00m a:\n\u001B[1;32m      2\u001B[0m     \u001B[39mpass\u001B[39;00m\n",
      "\u001B[0;31mAttributeError\u001B[0m: __exit__"
     ]
    }
   ],
   "source": [
    "with a:\n",
    "    pass\n",
    "# 이제는 __exit__가 나옴"
   ]
  },
  {
   "cell_type": "code",
   "execution_count": 12,
   "metadata": {},
   "outputs": [],
   "source": [
    "class A:\n",
    "    def __enter__(self):\n",
    "        print('enter')\n",
    "    def __exit__(self):\n",
    "        print('exit')"
   ]
  },
  {
   "cell_type": "code",
   "execution_count": 13,
   "metadata": {},
   "outputs": [],
   "source": [
    "a = A()"
   ]
  },
  {
   "cell_type": "code",
   "execution_count": 14,
   "metadata": {},
   "outputs": [
    {
     "name": "stdout",
     "output_type": "stream",
     "text": [
      "enter\n"
     ]
    },
    {
     "ename": "TypeError",
     "evalue": "A.__exit__() takes 1 positional argument but 4 were given",
     "output_type": "error",
     "traceback": [
      "\u001B[0;31m---------------------------------------------------------------------------\u001B[0m",
      "\u001B[0;31mTypeError\u001B[0m                                 Traceback (most recent call last)",
      "Cell \u001B[0;32mIn[14], line 1\u001B[0m\n\u001B[0;32m----> 1\u001B[0m \u001B[39mwith\u001B[39;00m a:\n\u001B[1;32m      2\u001B[0m     \u001B[39mpass\u001B[39;00m\n",
      "\u001B[0;31mTypeError\u001B[0m: A.__exit__() takes 1 positional argument but 4 were given"
     ]
    }
   ],
   "source": [
    "with a:\n",
    "    pass\n",
    "# __exit__는 4개의 인자가 필요하다고 함"
   ]
  },
  {
   "cell_type": "code",
   "execution_count": 15,
   "metadata": {},
   "outputs": [],
   "source": [
    "class A:\n",
    "    def __enter__(self):\n",
    "        print('enter')\n",
    "    def __exit__(self, a, b, c):\n",
    "        print('exit')"
   ]
  },
  {
   "cell_type": "code",
   "execution_count": 18,
   "metadata": {},
   "outputs": [
    {
     "name": "stdout",
     "output_type": "stream",
     "text": [
      "enter\n",
      "with\n",
      "exit\n"
     ]
    }
   ],
   "source": [
    "a = A()\n",
    "with a:\n",
    "    print('with')\n",
    "\n",
    "# 맨처음에 엔터, 그 다음 본문, 본문이 끝나면 __exit__가 실행이 됨.\n",
    "# 그렇다면 개발자가 미리 실수할 것들을 with 구문으로."
   ]
  },
  {
   "cell_type": "code",
   "execution_count": 19,
   "metadata": {},
   "outputs": [],
   "source": [
    "import inspect"
   ]
  },
  {
   "cell_type": "code",
   "execution_count": 20,
   "metadata": {},
   "outputs": [
    {
     "ename": "TypeError",
     "evalue": "module, class, method, function, traceback, frame, or code object was expected, got builtin_function_or_method",
     "output_type": "error",
     "traceback": [
      "\u001B[0;31m---------------------------------------------------------------------------\u001B[0m",
      "\u001B[0;31mTypeError\u001B[0m                                 Traceback (most recent call last)",
      "Cell \u001B[0;32mIn[20], line 1\u001B[0m\n\u001B[0;32m----> 1\u001B[0m inspect\u001B[39m.\u001B[39;49mgetsource(con\u001B[39m.\u001B[39;49m\u001B[39m__exit__\u001B[39;49m)\n",
      "File \u001B[0;32m~/miniconda3/lib/python3.10/inspect.py:1147\u001B[0m, in \u001B[0;36mgetsource\u001B[0;34m(object)\u001B[0m\n\u001B[1;32m   1141\u001B[0m \u001B[39mdef\u001B[39;00m \u001B[39mgetsource\u001B[39m(\u001B[39mobject\u001B[39m):\n\u001B[1;32m   1142\u001B[0m     \u001B[39m\"\"\"Return the text of the source code for an object.\u001B[39;00m\n\u001B[1;32m   1143\u001B[0m \n\u001B[1;32m   1144\u001B[0m \u001B[39m    The argument may be a module, class, method, function, traceback, frame,\u001B[39;00m\n\u001B[1;32m   1145\u001B[0m \u001B[39m    or code object.  The source code is returned as a single string.  An\u001B[39;00m\n\u001B[1;32m   1146\u001B[0m \u001B[39m    OSError is raised if the source code cannot be retrieved.\"\"\"\u001B[39;00m\n\u001B[0;32m-> 1147\u001B[0m     lines, lnum \u001B[39m=\u001B[39m getsourcelines(\u001B[39mobject\u001B[39;49m)\n\u001B[1;32m   1148\u001B[0m     \u001B[39mreturn\u001B[39;00m \u001B[39m'\u001B[39m\u001B[39m'\u001B[39m\u001B[39m.\u001B[39mjoin(lines)\n",
      "File \u001B[0;32m~/miniconda3/lib/python3.10/inspect.py:1129\u001B[0m, in \u001B[0;36mgetsourcelines\u001B[0;34m(object)\u001B[0m\n\u001B[1;32m   1121\u001B[0m \u001B[39m\"\"\"Return a list of source lines and starting line number for an object.\u001B[39;00m\n\u001B[1;32m   1122\u001B[0m \n\u001B[1;32m   1123\u001B[0m \u001B[39mThe argument may be a module, class, method, function, traceback, frame,\u001B[39;00m\n\u001B[0;32m   (...)\u001B[0m\n\u001B[1;32m   1126\u001B[0m \u001B[39moriginal source file the first line of code was found.  An OSError is\u001B[39;00m\n\u001B[1;32m   1127\u001B[0m \u001B[39mraised if the source code cannot be retrieved.\"\"\"\u001B[39;00m\n\u001B[1;32m   1128\u001B[0m \u001B[39mobject\u001B[39m \u001B[39m=\u001B[39m unwrap(\u001B[39mobject\u001B[39m)\n\u001B[0;32m-> 1129\u001B[0m lines, lnum \u001B[39m=\u001B[39m findsource(\u001B[39mobject\u001B[39;49m)\n\u001B[1;32m   1131\u001B[0m \u001B[39mif\u001B[39;00m istraceback(\u001B[39mobject\u001B[39m):\n\u001B[1;32m   1132\u001B[0m     \u001B[39mobject\u001B[39m \u001B[39m=\u001B[39m \u001B[39mobject\u001B[39m\u001B[39m.\u001B[39mtb_frame\n",
      "File \u001B[0;32m~/miniconda3/lib/python3.10/inspect.py:940\u001B[0m, in \u001B[0;36mfindsource\u001B[0;34m(object)\u001B[0m\n\u001B[1;32m    932\u001B[0m \u001B[39mdef\u001B[39;00m \u001B[39mfindsource\u001B[39m(\u001B[39mobject\u001B[39m):\n\u001B[1;32m    933\u001B[0m     \u001B[39m\"\"\"Return the entire source file and starting line number for an object.\u001B[39;00m\n\u001B[1;32m    934\u001B[0m \n\u001B[1;32m    935\u001B[0m \u001B[39m    The argument may be a module, class, method, function, traceback, frame,\u001B[39;00m\n\u001B[1;32m    936\u001B[0m \u001B[39m    or code object.  The source code is returned as a list of all the lines\u001B[39;00m\n\u001B[1;32m    937\u001B[0m \u001B[39m    in the file and the line number indexes a line in that list.  An OSError\u001B[39;00m\n\u001B[1;32m    938\u001B[0m \u001B[39m    is raised if the source code cannot be retrieved.\"\"\"\u001B[39;00m\n\u001B[0;32m--> 940\u001B[0m     file \u001B[39m=\u001B[39m getsourcefile(\u001B[39mobject\u001B[39;49m)\n\u001B[1;32m    941\u001B[0m     \u001B[39mif\u001B[39;00m file:\n\u001B[1;32m    942\u001B[0m         \u001B[39m# Invalidate cache if needed.\u001B[39;00m\n\u001B[1;32m    943\u001B[0m         linecache\u001B[39m.\u001B[39mcheckcache(file)\n",
      "File \u001B[0;32m~/miniconda3/lib/python3.10/inspect.py:817\u001B[0m, in \u001B[0;36mgetsourcefile\u001B[0;34m(object)\u001B[0m\n\u001B[1;32m    813\u001B[0m \u001B[39mdef\u001B[39;00m \u001B[39mgetsourcefile\u001B[39m(\u001B[39mobject\u001B[39m):\n\u001B[1;32m    814\u001B[0m     \u001B[39m\"\"\"Return the filename that can be used to locate an object's source.\u001B[39;00m\n\u001B[1;32m    815\u001B[0m \u001B[39m    Return None if no way can be identified to get the source.\u001B[39;00m\n\u001B[1;32m    816\u001B[0m \u001B[39m    \"\"\"\u001B[39;00m\n\u001B[0;32m--> 817\u001B[0m     filename \u001B[39m=\u001B[39m getfile(\u001B[39mobject\u001B[39;49m)\n\u001B[1;32m    818\u001B[0m     all_bytecode_suffixes \u001B[39m=\u001B[39m importlib\u001B[39m.\u001B[39mmachinery\u001B[39m.\u001B[39mDEBUG_BYTECODE_SUFFIXES[:]\n\u001B[1;32m    819\u001B[0m     all_bytecode_suffixes \u001B[39m+\u001B[39m\u001B[39m=\u001B[39m importlib\u001B[39m.\u001B[39mmachinery\u001B[39m.\u001B[39mOPTIMIZED_BYTECODE_SUFFIXES[:]\n",
      "File \u001B[0;32m~/miniconda3/lib/python3.10/inspect.py:797\u001B[0m, in \u001B[0;36mgetfile\u001B[0;34m(object)\u001B[0m\n\u001B[1;32m    795\u001B[0m \u001B[39mif\u001B[39;00m iscode(\u001B[39mobject\u001B[39m):\n\u001B[1;32m    796\u001B[0m     \u001B[39mreturn\u001B[39;00m \u001B[39mobject\u001B[39m\u001B[39m.\u001B[39mco_filename\n\u001B[0;32m--> 797\u001B[0m \u001B[39mraise\u001B[39;00m \u001B[39mTypeError\u001B[39;00m(\u001B[39m'\u001B[39m\u001B[39mmodule, class, method, function, traceback, frame, or \u001B[39m\u001B[39m'\u001B[39m\n\u001B[1;32m    798\u001B[0m                 \u001B[39m'\u001B[39m\u001B[39mcode object was expected, got \u001B[39m\u001B[39m{}\u001B[39;00m\u001B[39m'\u001B[39m\u001B[39m.\u001B[39mformat(\n\u001B[1;32m    799\u001B[0m                 \u001B[39mtype\u001B[39m(\u001B[39mobject\u001B[39m)\u001B[39m.\u001B[39m\u001B[39m__name__\u001B[39m))\n",
      "\u001B[0;31mTypeError\u001B[0m: module, class, method, function, traceback, frame, or code object was expected, got builtin_function_or_method"
     ]
    }
   ],
   "source": [
    "inspect.getsource(con.__exit__)\n",
    "# C 로 만들어져서 못봄\n",
    "# 소스코드 들어가거나 파일 경로 가면 볼 수 있음.\n",
    "# __exit__ 에는 close 가 되게 되어 있음"
   ]
  },
  {
   "cell_type": "code",
   "execution_count": 21,
   "metadata": {},
   "outputs": [],
   "source": [
    "with sqlite3.connect(':memory:') as con:\n",
    "    pass"
   ]
  },
  {
   "cell_type": "code",
   "execution_count": null,
   "metadata": {},
   "outputs": [],
   "source": [
    "# 이렇게 하면 제일 처음 __enter__ 에 정의되어 있는 것이 실행됨. con.__enter__() 가 실행됨\n",
    "# 맨 끝에는 con.__exit__() 가 실행됨.\n",
    "# 즉 이 안에서 자동적으로 close 를 시켜버리는 것.\n",
    "# 커넥션에 with 구문을 쓰면 DB를 close 안해도 됨."
   ]
  },
  {
   "cell_type": "code",
   "execution_count": 27,
   "metadata": {},
   "outputs": [],
   "source": [
    "# open 도 with 구문 씀"
   ]
  },
  {
   "cell_type": "code",
   "execution_count": 29,
   "metadata": {},
   "outputs": [
    {
     "name": "stdout",
     "output_type": "stream",
     "text": [
      "Writing a.txt\n"
     ]
    }
   ],
   "source": [
    "%%writefile a.txt\n",
    "asdafdsa\n",
    "sadfsdfca"
   ]
  },
  {
   "cell_type": "code",
   "execution_count": 30,
   "metadata": {},
   "outputs": [
    {
     "name": "stdout",
     "output_type": "stream",
     "text": [
      "open\n"
     ]
    }
   ],
   "source": [
    "with open('a.txt') as f:\n",
    "    print('open')"
   ]
  },
  {
   "cell_type": "code",
   "execution_count": 32,
   "metadata": {},
   "outputs": [
    {
     "data": {
      "text/plain": [
       "<_io.TextIOWrapper name='a.txt' mode='r' encoding='UTF-8'>"
      ]
     },
     "execution_count": 32,
     "metadata": {},
     "output_type": "execute_result"
    }
   ],
   "source": [
    "f"
   ]
  },
  {
   "cell_type": "code",
   "execution_count": null,
   "metadata": {},
   "outputs": [],
   "source": [
    "# dir 했을 때 __enter__, __exit__ 가 있으면, 무엇인가 '짝을 이루는 애들'이 있다고 생각하면 됨.\n",
    "# 그래서 이것들을 context manager 라고 함."
   ]
  },
  {
   "cell_type": "code",
   "execution_count": 34,
   "metadata": {},
   "outputs": [],
   "source": [
    "# SQL cursor = SQL문을 처리한 결과 집합을 가리키는 일종의 포인터\n",
    "# 커서는 메모리 공간에 있음\n",
    "cur = con.cursor()\n",
    "# output 이 있으니 계속 써야하니까 이름을 붙힘"
   ]
  },
  {
   "cell_type": "code",
   "execution_count": 35,
   "metadata": {},
   "outputs": [
    {
     "data": {
      "text/plain": [
       "['__class__',\n",
       " '__delattr__',\n",
       " '__dir__',\n",
       " '__doc__',\n",
       " '__eq__',\n",
       " '__format__',\n",
       " '__ge__',\n",
       " '__getattribute__',\n",
       " '__gt__',\n",
       " '__hash__',\n",
       " '__init__',\n",
       " '__init_subclass__',\n",
       " '__iter__',\n",
       " '__le__',\n",
       " '__lt__',\n",
       " '__module__',\n",
       " '__ne__',\n",
       " '__new__',\n",
       " '__next__',\n",
       " '__reduce__',\n",
       " '__reduce_ex__',\n",
       " '__repr__',\n",
       " '__setattr__',\n",
       " '__sizeof__',\n",
       " '__str__',\n",
       " '__subclasshook__',\n",
       " 'arraysize',\n",
       " 'close',\n",
       " 'connection',\n",
       " 'description',\n",
       " 'execute',\n",
       " 'executemany',\n",
       " 'executescript',\n",
       " 'fetchall',\n",
       " 'fetchmany',\n",
       " 'fetchone',\n",
       " 'lastrowid',\n",
       " 'row_factory',\n",
       " 'rowcount',\n",
       " 'setinputsizes',\n",
       " 'setoutputsize']"
      ]
     },
     "execution_count": 35,
     "metadata": {},
     "output_type": "execute_result"
    }
   ],
   "source": [
    "dir(cur)\n",
    "# 메모리 공간에 관련되어 있으니 __next__, __iter__ 있음\n",
    "# 내부적으로 하나씩 받아옴"
   ]
  },
  {
   "cell_type": "code",
   "execution_count": null,
   "metadata": {},
   "outputs": [],
   "source": [
    "# 한번에 받아오는 개념"
   ]
  },
  {
   "cell_type": "code",
   "execution_count": 36,
   "metadata": {},
   "outputs": [],
   "source": [
    "with open('a.txt') as f:\n",
    "    g=f"
   ]
  },
  {
   "cell_type": "code",
   "execution_count": 37,
   "metadata": {},
   "outputs": [
    {
     "ename": "ValueError",
     "evalue": "I/O operation on closed file.",
     "output_type": "error",
     "traceback": [
      "\u001B[0;31m---------------------------------------------------------------------------\u001B[0m",
      "\u001B[0;31mValueError\u001B[0m                                Traceback (most recent call last)",
      "Cell \u001B[0;32mIn[37], line 1\u001B[0m\n\u001B[0;32m----> 1\u001B[0m \u001B[39mnext\u001B[39;49m(g)\n",
      "\u001B[0;31mValueError\u001B[0m: I/O operation on closed file."
     ]
    }
   ],
   "source": [
    "next(g)  # close 되서 안됨"
   ]
  },
  {
   "cell_type": "code",
   "execution_count": 38,
   "metadata": {},
   "outputs": [
    {
     "data": {
      "text/plain": [
       "'asdafdsa\\n'"
      ]
     },
     "execution_count": 38,
     "metadata": {},
     "output_type": "execute_result"
    }
   ],
   "source": [
    "f = open('a.txt')\n",
    "next(f)"
   ]
  },
  {
   "cell_type": "code",
   "execution_count": 39,
   "metadata": {},
   "outputs": [
    {
     "data": {
      "text/plain": [
       "['sadfsdfca\\n']"
      ]
     },
     "execution_count": 39,
     "metadata": {},
     "output_type": "execute_result"
    }
   ],
   "source": [
    "f.readlines()"
   ]
  },
  {
   "cell_type": "code",
   "execution_count": null,
   "metadata": {},
   "outputs": [],
   "source": [
    "# DB 도 한번에 가져오는 것이 있음.\n",
    "cur.fetchall()"
   ]
  },
  {
   "cell_type": "code",
   "execution_count": null,
   "metadata": {},
   "outputs": [],
   "source": [
    "# close 하면 실행 안됨.\n",
    "# DB 분야는 안쓰는 곳이 없음. "
   ]
  },
  {
   "cell_type": "code",
   "execution_count": null,
   "metadata": {},
   "outputs": [],
   "source": [
    "# 메모리가 크니까 한방에 불러올 수 없으니 내부적으로 __next__ 처리해서 갖고옴.\n",
    "# 그만큼 함수형 패러다임, 객체지향이 중요함"
   ]
  },
  {
   "cell_type": "markdown",
   "metadata": {},
   "source": [
    "#### **객체지향 용어정리**"
   ]
  },
  {
   "cell_type": "code",
   "execution_count": null,
   "metadata": {},
   "outputs": [],
   "source": [
    "# 프로그램마다 객체지향 정도가 달라서 설명하는 정도가 제각각임.\n",
    "# 파이썬은 class도 인스턴스이자 객체가 될 수 있고, 모든 것이 객체이기 때문에 제일 혼란스러움\n",
    "# 클래스는 자료구조.\n",
    "# 올려주신 파일 참고"
   ]
  },
  {
   "cell_type": "code",
   "execution_count": null,
   "metadata": {},
   "outputs": [],
   "source": [
    "# 퍼스트 클래스 -> 함수를 값처럼 사용하는 것."
   ]
  },
  {
   "cell_type": "code",
   "execution_count": null,
   "metadata": {},
   "outputs": [],
   "source": [
    "# 파이썬에 관한 심층적 부분.\n",
    "# 프로그래밍 방식은 양대산맥이 있음.\n",
    "# SQL은 미리 정의된 용어들을 조합해서 결과 얻는 것.\n",
    "# HTML 도 미리 정의된 것 조합해서 결과만드는 것.\n",
    "# 함수형도 미리 만들어진 것 합성함수 만들어서 결과 만듬.\n",
    "# 이런 것들을 선언형 프로그래밍 방식이라고 함.\n",
    "# 일반적인 프로그래밍 하는 것은 명령형 프로그래밍 방식이다.\n",
    "# 자주 보는 게 명령형 프로그래밍 방식."
   ]
  },
  {
   "cell_type": "code",
   "execution_count": null,
   "metadata": {},
   "outputs": [],
   "source": [
    "# 그 양대산맥 아래 여러가지 프로그래밍 방식이 있음.\n",
    "# 명령형 아래에는 절차적(차례대로) 하는 방식\n",
    "# 객체를 조합해서 객체지향 프로그래밍 방식 -> 1970년도에 나옴.\n",
    "# 새로나오는 애들보다 객체지향이 효율적 -> 객체지향의 4가지 기본적 개념때문에."
   ]
  },
  {
   "cell_type": "code",
   "execution_count": null,
   "metadata": {},
   "outputs": [],
   "source": [
    "# 객체지향의 4가지 기본적 특징\n",
    "# 재사용성 - declation 선언(2가지가 있음) (재사용) - 남이 만든 거 가져다 쓰는 능력도 중요(dir)\n",
    "# 1.추상화 - \n",
    "# 2.캡슐화 - \n",
    "# 3.다형성 - \n",
    "# 4.상속 - \n",
    "# 이 4가지가 재사용성을 매우 효율적으로 만들어 줌"
   ]
  },
  {
   "cell_type": "code",
   "execution_count": 40,
   "metadata": {},
   "outputs": [],
   "source": [
    "class A:\n",
    "    pass\n",
    "\n",
    "# 아무 기능도 만들지 않아도, 만드는 것부터 시작해서 여러 기능 사용 가능\n",
    "# 왜? 실제 object가 생략됐기 때문.\n",
    "# 이 object가 상속.\n",
    "# 그래서 처음부터 기능을 안 만들어도 사용할 수 있음\n",
    "# 남이 만든 것을 내 입맛에 맞출 수도 있음. 추가하거나 새로 바꾸거나.\n",
    "# 이 개념이 객체지향에서 가장 많이 쓰는 것. Overriding 오버라이딩.\n",
    "# 객체지향의 상속 오버라이딩이 우리가 할 첫번째 주제."
   ]
  },
  {
   "cell_type": "code",
   "execution_count": 41,
   "metadata": {},
   "outputs": [],
   "source": [
    "a = A()"
   ]
  },
  {
   "cell_type": "markdown",
   "metadata": {},
   "source": [
    "#### 오버라이딩"
   ]
  },
  {
   "cell_type": "code",
   "execution_count": null,
   "metadata": {},
   "outputs": [],
   "source": [
    "# 용어는 안배웠지만 벌써 했음.\n",
    "# __init__"
   ]
  },
  {
   "cell_type": "code",
   "execution_count": null,
   "metadata": {},
   "outputs": [],
   "source": [
    "class A(object):\n",
    "    def __init__(self):  # 이미 만들어진 걸 뒤엎는 것. 그래서 오버라이딩\n",
    "        pass"
   ]
  },
  {
   "cell_type": "code",
   "execution_count": null,
   "metadata": {},
   "outputs": [],
   "source": [
    "a = A()"
   ]
  },
  {
   "cell_type": "code",
   "execution_count": null,
   "metadata": {},
   "outputs": [],
   "source": [
    "# 파이썬은 메소드나 함수의 이름만 봄.\n",
    "# 파이썬은 기본적으로 이름만 같아도 오버라이딩이 됨. 근데 어떤 특별한 프로그램에서는 시그니쳐까지 똑같아야 함.\n",
    "# 기본적으로는 이름만 같아도 되지만 특별한 경우에는 시그니쳐까지 같아야 함"
   ]
  },
  {
   "cell_type": "code",
   "execution_count": null,
   "metadata": {},
   "outputs": [],
   "source": [
    "class A(object):\n",
    "    def __init__(self):  # 이미 만들어진 걸 뒤엎는 것. 그래서 오버라이딩\n",
    "        pass\n",
    "# __init__ 은 괄호에 있는 걸 바꾼다고 해서 오버로딩이라고 하는 곳도 있음"
   ]
  },
  {
   "cell_type": "code",
   "execution_count": null,
   "metadata": {},
   "outputs": [],
   "source": [
    "# 오버로딩도 있음. 오버라이딩과 다름.\n",
    "# 자바 같은 곳에서는 오버로딩은 두 가지 종류가 있음.\n",
    "# function overloading -> 기본적으로 파이썬에서는 제공하지 않음. 그렇다면 기본 말고 다른 형태로 제공할 수 있다는 것.\n",
    "# operator overloading -> (연산자의 기능을 바꾸는 것, 이것은 파이썬에서 제공해줌)"
   ]
  },
  {
   "cell_type": "code",
   "execution_count": null,
   "metadata": {},
   "outputs": [],
   "source": [
    "# 어제 생략한 single dispatch\n",
    "# 파이썬에서 제공하지 않는 기능들은 다 decorator 를 이용함.\n",
    "# 그렇다면 함수 오버로딩은, 자바에서는 아래에서 설명"
   ]
  },
  {
   "cell_type": "code",
   "execution_count": 8,
   "metadata": {},
   "outputs": [],
   "source": [
    "def a():\n",
    "    print('a')\n",
    "    \n",
    "def a(x):\n",
    "    print(x)\n",
    "    \n",
    "# 자바에서는 두 함수가 다른데, 파이썬에서는 같은 함수. 이름이 같기 때문\n",
    "# 파이썬에서 두개가 같은 함수인데, 뭐가 살아남을까?\n",
    "# 뒤에 있는 게 앞에 있는 것을 뒤엎음"
   ]
  },
  {
   "cell_type": "code",
   "execution_count": 44,
   "metadata": {},
   "outputs": [
    {
     "data": {
      "text/plain": [
       "2"
      ]
     },
     "execution_count": 44,
     "metadata": {},
     "output_type": "execute_result"
    }
   ],
   "source": [
    "a = 1\n",
    "a = 2\n",
    "a\n",
    "# 1이었는데 2로 뒤엎음. 이것을 재할당(이름을 바꿔버린 것)"
   ]
  },
  {
   "cell_type": "code",
   "execution_count": 9,
   "metadata": {},
   "outputs": [
    {
     "ename": "TypeError",
     "evalue": "a() missing 1 required positional argument: 'x'",
     "output_type": "error",
     "traceback": [
      "\u001B[0;31m---------------------------------------------------------------------------\u001B[0m",
      "\u001B[0;31mTypeError\u001B[0m                                 Traceback (most recent call last)",
      "Cell \u001B[0;32mIn[9], line 1\u001B[0m\n\u001B[0;32m----> 1\u001B[0m a()\n",
      "\u001B[0;31mTypeError\u001B[0m: a() missing 1 required positional argument: 'x'"
     ]
    }
   ],
   "source": [
    "a()  # 뒤의 것. 함수 오버로딩을 지원하면 두개가 다른 함수가 됨. 그러나 파이썬은 두개가 같아서 함수 오버로딩을 지원하지 않는다는 것."
   ]
  },
  {
   "cell_type": "code",
   "execution_count": 2,
   "metadata": {},
   "outputs": [],
   "source": [
    "# 함수 오버로딩을 지원하지 않기 때문에, 그런 언어들은 어떤 테크닉을 많이 쓸까?\n",
    "# 디폴트 테크닉\n",
    "def a(x=None):\n",
    "    print('a')\n",
    "    \n",
    "def a(x):\n",
    "    print(x)\n",
    "    \n",
    "# 디폴트 테크닉을 써서 단점을 보완함."
   ]
  },
  {
   "cell_type": "code",
   "execution_count": 3,
   "metadata": {},
   "outputs": [
    {
     "name": "stdout",
     "output_type": "stream",
     "text": [
      "3\n"
     ]
    }
   ],
   "source": [
    "a(3)"
   ]
  },
  {
   "cell_type": "code",
   "execution_count": 4,
   "metadata": {},
   "outputs": [
    {
     "ename": "TypeError",
     "evalue": "a() missing 1 required positional argument: 'x'",
     "output_type": "error",
     "traceback": [
      "\u001B[0;31m---------------------------------------------------------------------------\u001B[0m",
      "\u001B[0;31mTypeError\u001B[0m                                 Traceback (most recent call last)",
      "Cell \u001B[0;32mIn[4], line 1\u001B[0m\n\u001B[0;32m----> 1\u001B[0m a()\n",
      "\u001B[0;31mTypeError\u001B[0m: a() missing 1 required positional argument: 'x'"
     ]
    }
   ],
   "source": [
    "a()\n",
    "# 이게 오류가 나는 이유는 두번째 함수가 첫번째 함수를 뒤엎었기 때문.\n",
    "# 디폴트 테크닉은 하나의 함수에서 a(x=, y=, z=) 이런 식으로 디폴트값을 설정해주면 인자수를 다르게 하면서 같은 이름의 함수를 쓸 수 있다는 것."
   ]
  },
  {
   "cell_type": "code",
   "execution_count": null,
   "metadata": {},
   "outputs": [],
   "source": [
    "class A(object):\n",
    "    def __init__(self):  # 이미 만들어진 걸 뒤엎는 것. 그래서 오버라이딩\n",
    "        pass\n",
    "    \n",
    "# 뒤엎어 쓴다. 그것이 오버라이딩\n",
    "# 이미 만들어진 것을 뒤엎어 버리면 조금 그렇다.\n",
    "# 일부만 가져다 쓸 수 없을까?\n",
    "# 일부만 가져다가 쓰는 것을 super\n",
    "# 완전히 새롭게 만들거나/기존에 정의된 거 일부 변화해서 쓰는거(super)\n",
    "# 완전히 처음부터 하는 것보다는 일부만 가져다 쓰는 것이 좋음"
   ]
  },
  {
   "cell_type": "code",
   "execution_count": null,
   "metadata": {},
   "outputs": [],
   "source": [
    "# super 의 뜻이 부모에서 정의되어 있는 거 가져와서 내가 뒤에 새롭게 뒤엎어버리는 것.\n",
    "# 이 super에 숨어있는 의미를 알아야 함.\n",
    "# 그 전에 상속 먼저 다시 들어간다."
   ]
  },
  {
   "cell_type": "code",
   "execution_count": null,
   "metadata": {},
   "outputs": [],
   "source": [
    "# 상속 - 물려받는 것. 부모-자식\n",
    "# 프로그래밍에도 부모 둘이상 가능 -> 다중상속\n",
    "# 파이썬은 단일? 다중? -> 파이썬은 다중상속 언어. 부모 둘이상 가능.\n",
    "# 부모가 둘이라 다양한 곳에서 받아 더 막강하지만, 그 만큼 프로그래밍을 복잡하게 하는 경우가 있음.\n",
    "# 파이썬의 이 super가 그 역할을 일부 해소해줌."
   ]
  },
  {
   "cell_type": "code",
   "execution_count": 5,
   "metadata": {},
   "outputs": [],
   "source": [
    "class A:\n",
    "    def __init__(self):\n",
    "        print('A')\n",
    "class B:\n",
    "    def __init__(self):\n",
    "        print('B')"
   ]
  },
  {
   "cell_type": "code",
   "execution_count": 6,
   "metadata": {},
   "outputs": [],
   "source": [
    "class C(A,B):  # 순서가 중요 -> 순서에 따라 하는 일이 달라짐.\n",
    "    pass"
   ]
  },
  {
   "cell_type": "code",
   "execution_count": 7,
   "metadata": {},
   "outputs": [
    {
     "name": "stdout",
     "output_type": "stream",
     "text": [
      "A\n"
     ]
    }
   ],
   "source": [
    "c = C()  # A가 앞에 있으니 A가 실행됨"
   ]
  },
  {
   "cell_type": "code",
   "execution_count": 8,
   "metadata": {},
   "outputs": [],
   "source": [
    "class C(B, A):  # 순서가 중요 -> 순서에 따라 하는 일이 달라짐.\n",
    "    pass"
   ]
  },
  {
   "cell_type": "code",
   "execution_count": 9,
   "metadata": {},
   "outputs": [
    {
     "name": "stdout",
     "output_type": "stream",
     "text": [
      "B\n"
     ]
    }
   ],
   "source": [
    "c = C()"
   ]
  },
  {
   "cell_type": "code",
   "execution_count": 10,
   "metadata": {},
   "outputs": [],
   "source": [
    "class A:\n",
    "    a=1\n",
    "    def __init__(self):\n",
    "        print('A')\n",
    "class B:\n",
    "    b=2\n",
    "    def __init__(self):\n",
    "        print('B')"
   ]
  },
  {
   "cell_type": "code",
   "execution_count": 11,
   "metadata": {},
   "outputs": [],
   "source": [
    "class C(B, A):  # 순서가 중요 -> 순서에 따라 하는 일이 달라짐.\n",
    "    pass"
   ]
  },
  {
   "cell_type": "code",
   "execution_count": 12,
   "metadata": {},
   "outputs": [
    {
     "name": "stdout",
     "output_type": "stream",
     "text": [
      "B\n"
     ]
    },
    {
     "data": {
      "text/plain": [
       "1"
      ]
     },
     "execution_count": 12,
     "metadata": {},
     "output_type": "execute_result"
    }
   ],
   "source": [
    "c=C()\n",
    "c.a\n",
    "# 순서가 중요함."
   ]
  },
  {
   "cell_type": "code",
   "execution_count": 13,
   "metadata": {},
   "outputs": [
    {
     "data": {
      "text/plain": [
       "[__main__.C, __main__.B, __main__.A, object]"
      ]
     },
     "execution_count": 13,
     "metadata": {},
     "output_type": "execute_result"
    }
   ],
   "source": [
    "C.mro()  # method resolution order 메소드의 실행순서\n",
    "# 이름 똑같은 것이 있으면 처음 내 자신 것 부터 실행하고 그 다음 거 그 다음 거\n",
    "# 밑 결과의 순서대로 실행함."
   ]
  },
  {
   "cell_type": "code",
   "execution_count": 72,
   "metadata": {},
   "outputs": [
    {
     "data": {
      "text/plain": [
       "['__class__',\n",
       " '__delattr__',\n",
       " '__dict__',\n",
       " '__dir__',\n",
       " '__doc__',\n",
       " '__eq__',\n",
       " '__format__',\n",
       " '__ge__',\n",
       " '__getattribute__',\n",
       " '__gt__',\n",
       " '__hash__',\n",
       " '__init__',\n",
       " '__init_subclass__',\n",
       " '__le__',\n",
       " '__lt__',\n",
       " '__module__',\n",
       " '__ne__',\n",
       " '__new__',\n",
       " '__reduce__',\n",
       " '__reduce_ex__',\n",
       " '__repr__',\n",
       " '__setattr__',\n",
       " '__sizeof__',\n",
       " '__str__',\n",
       " '__subclasshook__',\n",
       " '__weakref__',\n",
       " 'a',\n",
       " 'b']"
      ]
     },
     "execution_count": 72,
     "metadata": {},
     "output_type": "execute_result"
    }
   ],
   "source": [
    "dir(C)  # .mro() 가 없음. 왜냐하면 메타클래스에 정의되었기 때문"
   ]
  },
  {
   "cell_type": "code",
   "execution_count": null,
   "metadata": {},
   "outputs": [],
   "source": [
    "# C 입장의 클래스는 타입.\n",
    "# 인스턴스에 없으면 클래스거. 클래스에 없으면 메타클래스에서 찾음"
   ]
  },
  {
   "cell_type": "code",
   "execution_count": 73,
   "metadata": {},
   "outputs": [
    {
     "data": {
      "text/plain": [
       "['__abstractmethods__',\n",
       " '__annotations__',\n",
       " '__base__',\n",
       " '__bases__',\n",
       " '__basicsize__',\n",
       " '__call__',\n",
       " '__class__',\n",
       " '__delattr__',\n",
       " '__dict__',\n",
       " '__dictoffset__',\n",
       " '__dir__',\n",
       " '__doc__',\n",
       " '__eq__',\n",
       " '__flags__',\n",
       " '__format__',\n",
       " '__ge__',\n",
       " '__getattribute__',\n",
       " '__gt__',\n",
       " '__hash__',\n",
       " '__init__',\n",
       " '__init_subclass__',\n",
       " '__instancecheck__',\n",
       " '__itemsize__',\n",
       " '__le__',\n",
       " '__lt__',\n",
       " '__module__',\n",
       " '__mro__',\n",
       " '__name__',\n",
       " '__ne__',\n",
       " '__new__',\n",
       " '__or__',\n",
       " '__prepare__',\n",
       " '__qualname__',\n",
       " '__reduce__',\n",
       " '__reduce_ex__',\n",
       " '__repr__',\n",
       " '__ror__',\n",
       " '__setattr__',\n",
       " '__sizeof__',\n",
       " '__str__',\n",
       " '__subclasscheck__',\n",
       " '__subclasses__',\n",
       " '__subclasshook__',\n",
       " '__text_signature__',\n",
       " '__weakrefoffset__',\n",
       " 'mro']"
      ]
     },
     "execution_count": 73,
     "metadata": {},
     "output_type": "execute_result"
    }
   ],
   "source": [
    "dir(type)  # mro 있음"
   ]
  },
  {
   "cell_type": "code",
   "execution_count": null,
   "metadata": {},
   "outputs": [],
   "source": [
    "# 순서를 정해주기 때문에, mro만 치면 이름이 같았을 때 이게 실행될 것이라고 알 수 있기 때문에,\n",
    "# 다중 상속의 문제점 첫번째 것이 해소됨."
   ]
  },
  {
   "cell_type": "code",
   "execution_count": null,
   "metadata": {},
   "outputs": [],
   "source": [
    "# 다이아몬드 문제 (족보가 꼬이는 문제)\n",
    "# 근친상간을 프로그래밍 문제에서 다이아몬드 문제라고 함."
   ]
  },
  {
   "cell_type": "code",
   "execution_count": 14,
   "metadata": {},
   "outputs": [
    {
     "ename": "TypeError",
     "evalue": "Cannot create a consistent method resolution\norder (MRO) for bases AA, BB",
     "output_type": "error",
     "traceback": [
      "\u001B[0;31m---------------------------------------------------------------------------\u001B[0m",
      "\u001B[0;31mTypeError\u001B[0m                                 Traceback (most recent call last)",
      "Cell \u001B[0;32mIn[14], line 9\u001B[0m\n\u001B[1;32m      6\u001B[0m     \u001B[39mdef\u001B[39;00m \u001B[39m__init__\u001B[39m(\u001B[39mself\u001B[39m):\n\u001B[1;32m      7\u001B[0m         \u001B[39mprint\u001B[39m(\u001B[39m'\u001B[39m\u001B[39mBB\u001B[39m\u001B[39m'\u001B[39m)\n\u001B[0;32m----> 9\u001B[0m \u001B[39mclass\u001B[39;00m \u001B[39mCC\u001B[39;00m(AA, BB):\n\u001B[1;32m     10\u001B[0m     \u001B[39mdef\u001B[39;00m \u001B[39m__init__\u001B[39m(\u001B[39mself\u001B[39m):\n\u001B[1;32m     11\u001B[0m         \u001B[39mprint\u001B[39m(\u001B[39m'\u001B[39m\u001B[39mCC\u001B[39m\u001B[39m'\u001B[39m)\n",
      "\u001B[0;31mTypeError\u001B[0m: Cannot create a consistent method resolution\norder (MRO) for bases AA, BB"
     ]
    }
   ],
   "source": [
    "class AA:\n",
    "    def __init__(self):\n",
    "        print('AA')\n",
    "        \n",
    "class BB(AA):\n",
    "    def __init__(self):\n",
    "        print('BB')\n",
    "        \n",
    "class CC(AA, BB):\n",
    "    def __init__(self):\n",
    "        print('CC')\n",
    "        \n",
    "# 다른 프로그래밍 언어에서는 에러 안뜸"
   ]
  },
  {
   "cell_type": "code",
   "execution_count": 15,
   "metadata": {},
   "outputs": [],
   "source": [
    "class AA:\n",
    "    def __init__(self):\n",
    "        print('AA')\n",
    "\n",
    "        \n",
    "class BB(AA):\n",
    "    def __init__(self):\n",
    "        print('BB')\n",
    "\n",
    "        \n",
    "class CC(BB, AA):\n",
    "     pass\n",
    "#    def __init__(self):\n",
    "#       print('CC')\n",
    "        \n",
    "# 이거는 또 됨. 순서 잘 맞추면 다중상속 이런 식으로 사용할 수 있다는 것.\n",
    "# 남의 것 가져다 쓸 때 mro() 를 쓰면 좋음"
   ]
  },
  {
   "cell_type": "code",
   "execution_count": 78,
   "metadata": {},
   "outputs": [
    {
     "data": {
      "text/plain": [
       "True"
      ]
     },
     "execution_count": 78,
     "metadata": {},
     "output_type": "execute_result"
    }
   ],
   "source": [
    "# 오버라이딩 -> 덮어쓴 것. 누구거를 덮어썼나? 상속 순서가 중요\n",
    "# bool 은 int에 상속했음. 기능을 상속함.\n",
    "# 상속하는 것을 아는 방법은 또 있음.\n",
    "issubclass(bool, int) # bool아 너 int 상속했니\n",
    "# 객체지향의 핵심 4가지가 프로그래밍의 재사용성을 높이기 때문에, 코드는 적게 유지보수는 쉽게 함"
   ]
  },
  {
   "cell_type": "code",
   "execution_count": 79,
   "metadata": {},
   "outputs": [
    {
     "data": {
      "text/plain": [
       "int"
      ]
     },
     "execution_count": 79,
     "metadata": {},
     "output_type": "execute_result"
    }
   ],
   "source": [
    "# 부모는 누구니?\n",
    "bool.__base__\n",
    "# 우리는 다중상속이 있음"
   ]
  },
  {
   "cell_type": "code",
   "execution_count": 80,
   "metadata": {},
   "outputs": [
    {
     "data": {
      "text/plain": [
       "(int,)"
      ]
     },
     "execution_count": 80,
     "metadata": {},
     "output_type": "execute_result"
    }
   ],
   "source": [
    "bool.__bases__ # 다중상속, 부모 다 알려줌"
   ]
  },
  {
   "cell_type": "code",
   "execution_count": 110,
   "metadata": {},
   "outputs": [],
   "source": [
    "# 다중상속이라는 골치아픈 문제때문에 부모를 알 수 있는 방법을 배웠음.\n",
    "# 그러면 이제 족보 꼬이면 이런 거 못만들게 해버리는 게 있는데 상식과 다른 애들이 있음."
   ]
  },
  {
   "cell_type": "code",
   "execution_count": 16,
   "metadata": {},
   "outputs": [
    {
     "data": {
      "text/plain": [
       "[__main__.CC, __main__.BB, __main__.AA, object]"
      ]
     },
     "execution_count": 16,
     "metadata": {},
     "output_type": "execute_result"
    }
   ],
   "source": [
    "CC.mro()"
   ]
  },
  {
   "cell_type": "code",
   "execution_count": 17,
   "metadata": {},
   "outputs": [
    {
     "name": "stdout",
     "output_type": "stream",
     "text": [
      "BB\n"
     ]
    }
   ],
   "source": [
    "cc = CC()"
   ]
  },
  {
   "cell_type": "code",
   "execution_count": 31,
   "metadata": {},
   "outputs": [],
   "source": [
    "        \n",
    "class CC(BB, AA):\n",
    "    def __init__(self):\n",
    "       print('BB')\n",
    "       print('CC')\n",
    "        \n",
    "# 이거는 또 됨. 순서 잘 맞추면 다중상속 이런 식으로 사용할 수 있다는 것.\n",
    "# 남의 것 가져다 쓸 때 mro() 를 쓰면 좋음"
   ]
  },
  {
   "cell_type": "code",
   "execution_count": 29,
   "metadata": {},
   "outputs": [],
   "source": [
    "# 함수적 관점과 메소드적 관점 배움\n",
    "# 관점에 따라 self 쓰고 안쓰고가 가능\n",
    "class A:\n",
    "    def __init__(self, x):\n",
    "        print(x+2)\n",
    "        self.x = x\n",
    "    def f(self):\n",
    "        print('aaa')\n",
    "        return 'aaa'"
   ]
  },
  {
   "cell_type": "code",
   "execution_count": 21,
   "metadata": {},
   "outputs": [
    {
     "name": "stdout",
     "output_type": "stream",
     "text": [
      "4\n"
     ]
    }
   ],
   "source": [
    "a = A(2)"
   ]
  },
  {
   "cell_type": "code",
   "execution_count": 34,
   "metadata": {},
   "outputs": [
    {
     "name": "stdout",
     "output_type": "stream",
     "text": [
      "aaa\n"
     ]
    },
    {
     "data": {
      "text/plain": [
       "('aaa', 'aaa')"
      ]
     },
     "execution_count": 34,
     "metadata": {},
     "output_type": "execute_result"
    }
   ],
   "source": [
    "a.f(), A.f(A)\n",
    "# 메소드적 관점(인스턴스)과 함수적 관점(클래스)"
   ]
  },
  {
   "cell_type": "code",
   "execution_count": 32,
   "metadata": {},
   "outputs": [],
   "source": [
    "        \n",
    "class CC(BB, AA):\n",
    "    def __init__(self):\n",
    "       BB.__init__(self)\n",
    "       print('CC')\n",
    "        \n",
    "# 이거는 또 됨. 순서 잘 맞추면 다중상속 이런 식으로 사용할 수 있다는 것.\n",
    "# 남의 것 가져다 쓸 때 mro() 를 쓰면 좋음"
   ]
  },
  {
   "cell_type": "code",
   "execution_count": 33,
   "metadata": {},
   "outputs": [
    {
     "name": "stdout",
     "output_type": "stream",
     "text": [
      "BB\n",
      "CC\n"
     ]
    }
   ],
   "source": [
    "c = CC()"
   ]
  },
  {
   "cell_type": "code",
   "execution_count": 109,
   "metadata": {},
   "outputs": [
    {
     "data": {
      "text/plain": [
       "[__main__.CC, __main__.BB, __main__.AA, object]"
      ]
     },
     "execution_count": 109,
     "metadata": {},
     "output_type": "execute_result"
    }
   ],
   "source": [
    "CC.mro()"
   ]
  },
  {
   "cell_type": "code",
   "execution_count": null,
   "metadata": {},
   "outputs": [],
   "source": [
    "cc = CC()"
   ]
  },
  {
   "cell_type": "code",
   "execution_count": 35,
   "metadata": {},
   "outputs": [],
   "source": [
    "class AA:\n",
    "    def __init__(self):\n",
    "        print('A')\n",
    "        \n",
    "class BB(AA):\n",
    "    def __init__(self):\n",
    "        super().__init__()      # super() 를 쓰면 상속을 무조건 해야함. 그리고 self를 지워야 함. super()가 인스턴스이기 떄문에\n",
    "        print('B')\n",
    "        \n",
    "# 인스턴스 메소드에서는 self 를 지움\n",
    "# 상속 안해도 AA.__init__(self) 하면 부를 수 있었음."
   ]
  },
  {
   "cell_type": "code",
   "execution_count": 115,
   "metadata": {},
   "outputs": [],
   "source": [
    "class AA:\n",
    "    def __init__(self):\n",
    "        print('A')\n",
    "        \n",
    "class BB(AA):\n",
    "    def __init__(self):\n",
    "        super(BB, self).__init__()      # super() 파이썬 2 스타일. 내 클래스의 부모를 self 로 보내라. 위의 것은 파이썬 3\n",
    "        print('B')\n",
    "        \n",
    "# 인스턴스 메소드에서는 self 를 지움\n",
    "# 상속 안해도 AA.__init__(self) 하면 부를 수 있었음.\n",
    "# super의 전제조건은 상속을 전제해야 하고, 인스턴스임."
   ]
  },
  {
   "cell_type": "code",
   "execution_count": 36,
   "metadata": {},
   "outputs": [
    {
     "name": "stdout",
     "output_type": "stream",
     "text": [
      "A\n",
      "B\n"
     ]
    },
    {
     "data": {
      "text/plain": [
       "<__main__.BB at 0x7f9d28f946d0>"
      ]
     },
     "execution_count": 36,
     "metadata": {},
     "output_type": "execute_result"
    }
   ],
   "source": [
    "BB()"
   ]
  },
  {
   "cell_type": "code",
   "execution_count": 37,
   "metadata": {},
   "outputs": [],
   "source": [
    "# 다이아몬드 문제 / super의 숨어있는 의미\n",
    "class A:\n",
    "    def __init__(self):\n",
    "        print('A')\n",
    "        \n",
    "class B(A):\n",
    "    def __init__(self):\n",
    "        A.__init__(self)\n",
    "        print('B')\n",
    "        \n",
    "class C(A):\n",
    "    def __init__(self):\n",
    "        A.__init__(self)\n",
    "        print('C')\n",
    "        \n",
    "class D(B, C):\n",
    "    def __init__(self):\n",
    "        B.__init__(self)\n",
    "        C.__init__(self)\n",
    "        print('D')\n",
    "        \n",
    "# 여기서 숨어있는 super의 의미를 파악해야 함."
   ]
  },
  {
   "cell_type": "code",
   "execution_count": 38,
   "metadata": {},
   "outputs": [
    {
     "data": {
      "text/plain": [
       "[__main__.D, __main__.B, __main__.C, __main__.A, object]"
      ]
     },
     "execution_count": 38,
     "metadata": {},
     "output_type": "execute_result"
    }
   ],
   "source": [
    "D.mro()"
   ]
  },
  {
   "cell_type": "code",
   "execution_count": 39,
   "metadata": {},
   "outputs": [
    {
     "name": "stdout",
     "output_type": "stream",
     "text": [
      "A\n",
      "B\n",
      "A\n",
      "C\n",
      "D\n"
     ]
    },
    {
     "data": {
      "text/plain": [
       "<__main__.D at 0x7f9d28f95510>"
      ]
     },
     "execution_count": 39,
     "metadata": {},
     "output_type": "execute_result"
    }
   ],
   "source": [
    "D()\n",
    "\n",
    "# 거슬리는 게 있음. A 가 두번찍힘. C 없애면 C가 안찍힘\n",
    "# 이럴 때 super"
   ]
  },
  {
   "cell_type": "code",
   "execution_count": 40,
   "metadata": {},
   "outputs": [],
   "source": [
    "# 다이아몬드 문제 / super의 숨어있는 의미\n",
    "class A:\n",
    "    def __init__(self):\n",
    "        print('A')\n",
    "        \n",
    "class B(A):\n",
    "    def __init__(self):\n",
    "        super().__init__()\n",
    "        print('B')\n",
    "        \n",
    "class C(A):\n",
    "    def __init__(self):\n",
    "        super().__init__()  # 이거를 안쓰면 오버라이딩(부모의 기능을 뒤엎은 것).\n",
    "                            #super를 쓰면 부모의 기능을 일부 가져와서 내가 덧붙히는 개념이 됨\n",
    "        print('C')\n",
    "        \n",
    "class D(B, C):\n",
    "    def __init__(self):\n",
    "        super().__init__()\n",
    "        print('D')\n",
    "        \n",
    "# 여기서 숨어있는 super의 의미를 파악해야 함."
   ]
  },
  {
   "cell_type": "code",
   "execution_count": 41,
   "metadata": {},
   "outputs": [
    {
     "data": {
      "text/plain": [
       "[__main__.D, __main__.B, __main__.C, __main__.A, object]"
      ]
     },
     "execution_count": 41,
     "metadata": {},
     "output_type": "execute_result"
    }
   ],
   "source": [
    "D.mro()"
   ]
  },
  {
   "cell_type": "code",
   "execution_count": 42,
   "metadata": {},
   "outputs": [
    {
     "name": "stdout",
     "output_type": "stream",
     "text": [
      "A\n",
      "C\n",
      "B\n",
      "D\n"
     ]
    },
    {
     "data": {
      "text/plain": [
       "<__main__.D at 0x7f9d28f93e20>"
      ]
     },
     "execution_count": 42,
     "metadata": {},
     "output_type": "execute_result"
    }
   ],
   "source": [
    "D()\n",
    "# mro의 역순으로 찍힘. 내부구조를 알아야 답을 할 수 있음."
   ]
  },
  {
   "cell_type": "code",
   "execution_count": null,
   "metadata": {},
   "outputs": [],
   "source": [
    "# 선입후출 -> stack\n",
    "# super는 상속체계를 알아서 타고 올라간다. 그래서 중복 제거해줌. 그리고 실행을 stack 영역으로 집어넣음.\n",
    "# 그래서 나올 때 후출로 찍히는 것.\n",
    "# 다중상속의 문제점을 내부적으로 처리해주기 때문에 좋음.\n",
    "# super를 쓰면 다중상속의 중복 문제 등이 안 생김."
   ]
  },
  {
   "cell_type": "code",
   "execution_count": null,
   "metadata": {},
   "outputs": [],
   "source": [
    "# 다른 언어에서는 상속을 하면 그 만큼 복사가 되어 메모리에 올라가는 반면에,\n",
    "# 파이썬 상속은 deligator이다."
   ]
  },
  {
   "cell_type": "code",
   "execution_count": 128,
   "metadata": {},
   "outputs": [],
   "source": [
    "class B:\n",
    "    x = 1"
   ]
  },
  {
   "cell_type": "code",
   "execution_count": 131,
   "metadata": {},
   "outputs": [],
   "source": [
    "class C(B):\n",
    "    pass"
   ]
  },
  {
   "cell_type": "code",
   "execution_count": 132,
   "metadata": {},
   "outputs": [
    {
     "data": {
      "text/plain": [
       "140680580333808"
      ]
     },
     "execution_count": 132,
     "metadata": {},
     "output_type": "execute_result"
    }
   ],
   "source": [
    "id(B.x)"
   ]
  },
  {
   "cell_type": "code",
   "execution_count": 133,
   "metadata": {},
   "outputs": [
    {
     "data": {
      "text/plain": [
       "True"
      ]
     },
     "execution_count": 133,
     "metadata": {},
     "output_type": "execute_result"
    }
   ],
   "source": [
    "B.x is C.x\n",
    "# 왜 true? 메모리상 같은 것은 두개가 같은 것."
   ]
  },
  {
   "cell_type": "code",
   "execution_count": 134,
   "metadata": {},
   "outputs": [
    {
     "data": {
      "text/plain": [
       "True"
      ]
     },
     "execution_count": 134,
     "metadata": {},
     "output_type": "execute_result"
    }
   ],
   "source": [
    "id(B.x) == id(C.x)"
   ]
  },
  {
   "cell_type": "code",
   "execution_count": 135,
   "metadata": {},
   "outputs": [],
   "source": [
    "# 내부적으로 어떻게 처리될까?\n",
    "# 먼저 C.x에 물어보고 없으면 부모한테 감 -> deligator 형태로 상속이 만들어짐(파이썬) -> 메모리 소요가 별로 없음"
   ]
  },
  {
   "cell_type": "code",
   "execution_count": null,
   "metadata": {},
   "outputs": [],
   "source": [
    "# 상속을 사용하지 않으면서 상속처럼 쓰는 테크닉이 있음.\n",
    "# 파이토치나 텐서플로우에 있음\n",
    "# composition 테크닉 -> 남의 클래스의 인스턴스를 내 클래스 안에 집어넣는 것"
   ]
  },
  {
   "cell_type": "code",
   "execution_count": null,
   "metadata": {},
   "outputs": [],
   "source": [
    "# composition 테크닉을 통해서 상속 가능"
   ]
  },
  {
   "cell_type": "code",
   "execution_count": null,
   "metadata": {},
   "outputs": [],
   "source": [
    "# 상속체계 그림을 그릴 때? 화살표를 맞는 사람이 부모.\n",
    "# 상속이 객체지향의 기본이 됨\n",
    "# super 는 부모를 가져다 씀. super를 자기 마음대로 쓰면 됨.\n",
    "# 그럼 만약에 call을 바꾸고 싶다면, super()하고 call 하면 바꿀 수 있음.\n",
    "# 함수는 상속 없을까? -> 동적으로 바꾸는 것. partial 으로 바꿔 씀.\n",
    "# 클래스에 super가 있는 이유는 클래스의 변수간의 관계가 함수와 다르기 때문임."
   ]
  },
  {
   "cell_type": "code",
   "execution_count": 43,
   "metadata": {},
   "outputs": [],
   "source": [
    "# 클래스 안의 변수들의 관계\n",
    "class A:\n",
    "    def __init__(self, x):\n",
    "        self.x = x\n",
    "        \n",
    "    def tt(self):\n",
    "        return self.x    # 함수면 이게 될까?"
   ]
  },
  {
   "cell_type": "code",
   "execution_count": 44,
   "metadata": {},
   "outputs": [],
   "source": [
    "# 함수라면 어떤 특성? -> 함수라면 init에 정의되어 있는 x를 밖에서 접근할 수 없었음\n",
    "a = A(3)"
   ]
  },
  {
   "cell_type": "code",
   "execution_count": 45,
   "metadata": {},
   "outputs": [
    {
     "data": {
      "text/plain": [
       "3"
      ]
     },
     "execution_count": 45,
     "metadata": {},
     "output_type": "execute_result"
    }
   ],
   "source": [
    "a.x"
   ]
  },
  {
   "cell_type": "code",
   "execution_count": 46,
   "metadata": {},
   "outputs": [
    {
     "data": {
      "text/plain": [
       "3"
      ]
     },
     "execution_count": 46,
     "metadata": {},
     "output_type": "execute_result"
    }
   ],
   "source": [
    "a.tt()\n",
    "# 우리 상식으로 함수였으면 접근 안되니까 self.x 가 뭔지 모름. \n",
    "# 그러면 인스턴스 변수의 특징은 메소드 안에 있는 인스턴스 변수는 공유를 함. 함수였으면 접근 못하는데 메소드는 접근 가능"
   ]
  },
  {
   "cell_type": "code",
   "execution_count": 141,
   "metadata": {},
   "outputs": [],
   "source": [
    "# 클래스 안의 변수들의 관계\n",
    "class A:\n",
    "    def __init__(self, x):\n",
    "        self.x = x\n",
    "        \n",
    "    def tt(self):\n",
    "        self.x = self.x +1\n",
    "        return self.x    # 함수면 이게 될까?"
   ]
  },
  {
   "cell_type": "code",
   "execution_count": 142,
   "metadata": {},
   "outputs": [],
   "source": [
    "a=A(3)"
   ]
  },
  {
   "cell_type": "code",
   "execution_count": 143,
   "metadata": {},
   "outputs": [
    {
     "data": {
      "text/plain": [
       "3"
      ]
     },
     "execution_count": 143,
     "metadata": {},
     "output_type": "execute_result"
    }
   ],
   "source": [
    "a.x"
   ]
  },
  {
   "cell_type": "code",
   "execution_count": 144,
   "metadata": {},
   "outputs": [
    {
     "data": {
      "text/plain": [
       "4"
      ]
     },
     "execution_count": 144,
     "metadata": {},
     "output_type": "execute_result"
    }
   ],
   "source": [
    "a.tt()"
   ]
  },
  {
   "cell_type": "code",
   "execution_count": 145,
   "metadata": {},
   "outputs": [
    {
     "data": {
      "text/plain": [
       "4"
      ]
     },
     "execution_count": 145,
     "metadata": {},
     "output_type": "execute_result"
    }
   ],
   "source": [
    "a.x"
   ]
  },
  {
   "cell_type": "code",
   "execution_count": 50,
   "metadata": {},
   "outputs": [
    {
     "data": {
      "text/plain": [
       "{'x': 3}"
      ]
     },
     "execution_count": 50,
     "metadata": {},
     "output_type": "execute_result"
    }
   ],
   "source": [
    "# 메소드 안에 정의된 인스턴스 변수들 간에 값을 공유해버리는 것임(이름이 같기 때문에)\n",
    "# 그래서 어떤 메소드를 실행해버리면 원래 정의된 것을 바꿀 수 있음.\n",
    "# 그래서 vars() 라는 명령어가 중요함\n",
    "# 현재 어떤 값을 가지는가 트래킹 할 필요가 있기 때문\n",
    "vars(a)"
   ]
  },
  {
   "cell_type": "code",
   "execution_count": 4,
   "metadata": {
    "ExecuteTime": {
     "end_time": "2023-03-14T13:54:23.720424Z",
     "start_time": "2023-03-14T13:54:23.569443Z"
    }
   },
   "outputs": [],
   "source": [
    "from sklearn.datasets import load_iris  # import 뒤가 함수"
   ]
  },
  {
   "cell_type": "code",
   "execution_count": 5,
   "metadata": {
    "ExecuteTime": {
     "end_time": "2023-03-14T13:54:24.503948Z",
     "start_time": "2023-03-14T13:54:24.487863Z"
    }
   },
   "outputs": [],
   "source": [
    "d = load_iris()"
   ]
  },
  {
   "cell_type": "code",
   "execution_count": 1,
   "metadata": {
    "ExecuteTime": {
     "end_time": "2023-03-14T13:54:16.327312Z",
     "start_time": "2023-03-14T13:54:15.383931Z"
    }
   },
   "outputs": [],
   "source": [
    "from sklearn.neighbors import KNeighborsClassifier"
   ]
  },
  {
   "cell_type": "code",
   "execution_count": 2,
   "metadata": {
    "ExecuteTime": {
     "end_time": "2023-03-14T13:54:16.922018Z",
     "start_time": "2023-03-14T13:54:16.913018Z"
    }
   },
   "outputs": [],
   "source": [
    "knn = KNeighborsClassifier()   # 인스턴스화"
   ]
  },
  {
   "cell_type": "code",
   "execution_count": 3,
   "metadata": {
    "ExecuteTime": {
     "end_time": "2023-03-14T13:54:18.180042Z",
     "start_time": "2023-03-14T13:54:18.162766Z"
    }
   },
   "outputs": [
    {
     "data": {
      "text/plain": [
       "{'n_neighbors': 5,\n",
       " 'radius': None,\n",
       " 'algorithm': 'auto',\n",
       " 'leaf_size': 30,\n",
       " 'metric': 'minkowski',\n",
       " 'metric_params': None,\n",
       " 'p': 2,\n",
       " 'n_jobs': None,\n",
       " 'weights': 'uniform'}"
      ]
     },
     "execution_count": 3,
     "metadata": {},
     "output_type": "execute_result"
    }
   ],
   "source": [
    "vars(knn)"
   ]
  },
  {
   "cell_type": "code",
   "execution_count": 6,
   "metadata": {
    "ExecuteTime": {
     "end_time": "2023-03-14T13:54:27.354719Z",
     "start_time": "2023-03-14T13:54:27.336246Z"
    }
   },
   "outputs": [
    {
     "data": {
      "text/html": [
       "<style>#sk-container-id-1 {color: black;background-color: white;}#sk-container-id-1 pre{padding: 0;}#sk-container-id-1 div.sk-toggleable {background-color: white;}#sk-container-id-1 label.sk-toggleable__label {cursor: pointer;display: block;width: 100%;margin-bottom: 0;padding: 0.3em;box-sizing: border-box;text-align: center;}#sk-container-id-1 label.sk-toggleable__label-arrow:before {content: \"▸\";float: left;margin-right: 0.25em;color: #696969;}#sk-container-id-1 label.sk-toggleable__label-arrow:hover:before {color: black;}#sk-container-id-1 div.sk-estimator:hover label.sk-toggleable__label-arrow:before {color: black;}#sk-container-id-1 div.sk-toggleable__content {max-height: 0;max-width: 0;overflow: hidden;text-align: left;background-color: #f0f8ff;}#sk-container-id-1 div.sk-toggleable__content pre {margin: 0.2em;color: black;border-radius: 0.25em;background-color: #f0f8ff;}#sk-container-id-1 input.sk-toggleable__control:checked~div.sk-toggleable__content {max-height: 200px;max-width: 100%;overflow: auto;}#sk-container-id-1 input.sk-toggleable__control:checked~label.sk-toggleable__label-arrow:before {content: \"▾\";}#sk-container-id-1 div.sk-estimator input.sk-toggleable__control:checked~label.sk-toggleable__label {background-color: #d4ebff;}#sk-container-id-1 div.sk-label input.sk-toggleable__control:checked~label.sk-toggleable__label {background-color: #d4ebff;}#sk-container-id-1 input.sk-hidden--visually {border: 0;clip: rect(1px 1px 1px 1px);clip: rect(1px, 1px, 1px, 1px);height: 1px;margin: -1px;overflow: hidden;padding: 0;position: absolute;width: 1px;}#sk-container-id-1 div.sk-estimator {font-family: monospace;background-color: #f0f8ff;border: 1px dotted black;border-radius: 0.25em;box-sizing: border-box;margin-bottom: 0.5em;}#sk-container-id-1 div.sk-estimator:hover {background-color: #d4ebff;}#sk-container-id-1 div.sk-parallel-item::after {content: \"\";width: 100%;border-bottom: 1px solid gray;flex-grow: 1;}#sk-container-id-1 div.sk-label:hover label.sk-toggleable__label {background-color: #d4ebff;}#sk-container-id-1 div.sk-serial::before {content: \"\";position: absolute;border-left: 1px solid gray;box-sizing: border-box;top: 0;bottom: 0;left: 50%;z-index: 0;}#sk-container-id-1 div.sk-serial {display: flex;flex-direction: column;align-items: center;background-color: white;padding-right: 0.2em;padding-left: 0.2em;position: relative;}#sk-container-id-1 div.sk-item {position: relative;z-index: 1;}#sk-container-id-1 div.sk-parallel {display: flex;align-items: stretch;justify-content: center;background-color: white;position: relative;}#sk-container-id-1 div.sk-item::before, #sk-container-id-1 div.sk-parallel-item::before {content: \"\";position: absolute;border-left: 1px solid gray;box-sizing: border-box;top: 0;bottom: 0;left: 50%;z-index: -1;}#sk-container-id-1 div.sk-parallel-item {display: flex;flex-direction: column;z-index: 1;position: relative;background-color: white;}#sk-container-id-1 div.sk-parallel-item:first-child::after {align-self: flex-end;width: 50%;}#sk-container-id-1 div.sk-parallel-item:last-child::after {align-self: flex-start;width: 50%;}#sk-container-id-1 div.sk-parallel-item:only-child::after {width: 0;}#sk-container-id-1 div.sk-dashed-wrapped {border: 1px dashed gray;margin: 0 0.4em 0.5em 0.4em;box-sizing: border-box;padding-bottom: 0.4em;background-color: white;}#sk-container-id-1 div.sk-label label {font-family: monospace;font-weight: bold;display: inline-block;line-height: 1.2em;}#sk-container-id-1 div.sk-label-container {text-align: center;}#sk-container-id-1 div.sk-container {/* jupyter's `normalize.less` sets `[hidden] { display: none; }` but bootstrap.min.css set `[hidden] { display: none !important; }` so we also need the `!important` here to be able to override the default hidden behavior on the sphinx rendered scikit-learn.org. See: https://github.com/scikit-learn/scikit-learn/issues/21755 */display: inline-block !important;position: relative;}#sk-container-id-1 div.sk-text-repr-fallback {display: none;}</style><div id=\"sk-container-id-1\" class=\"sk-top-container\"><div class=\"sk-text-repr-fallback\"><pre>KNeighborsClassifier()</pre><b>In a Jupyter environment, please rerun this cell to show the HTML representation or trust the notebook. <br />On GitHub, the HTML representation is unable to render, please try loading this page with nbviewer.org.</b></div><div class=\"sk-container\" hidden><div class=\"sk-item\"><div class=\"sk-estimator sk-toggleable\"><input class=\"sk-toggleable__control sk-hidden--visually\" id=\"sk-estimator-id-1\" type=\"checkbox\" checked><label for=\"sk-estimator-id-1\" class=\"sk-toggleable__label sk-toggleable__label-arrow\">KNeighborsClassifier</label><div class=\"sk-toggleable__content\"><pre>KNeighborsClassifier()</pre></div></div></div></div></div>"
      ],
      "text/plain": [
       "KNeighborsClassifier()"
      ]
     },
     "execution_count": 6,
     "metadata": {},
     "output_type": "execute_result"
    }
   ],
   "source": [
    "# 학습\n",
    "knn.fit(d.data, d.target)"
   ]
  },
  {
   "cell_type": "code",
   "execution_count": 154,
   "metadata": {},
   "outputs": [
    {
     "data": {
      "text/plain": [
       "{'n_neighbors': 5,\n",
       " 'radius': None,\n",
       " 'algorithm': 'auto',\n",
       " 'leaf_size': 30,\n",
       " 'metric': 'minkowski',\n",
       " 'metric_params': None,\n",
       " 'p': 2,\n",
       " 'n_jobs': None,\n",
       " 'weights': 'uniform',\n",
       " 'n_features_in_': 4,\n",
       " 'outputs_2d_': False,\n",
       " 'classes_': array([0, 1, 2]),\n",
       " '_y': array([0, 0, 0, 0, 0, 0, 0, 0, 0, 0, 0, 0, 0, 0, 0, 0, 0, 0, 0, 0, 0, 0,\n",
       "        0, 0, 0, 0, 0, 0, 0, 0, 0, 0, 0, 0, 0, 0, 0, 0, 0, 0, 0, 0, 0, 0,\n",
       "        0, 0, 0, 0, 0, 0, 1, 1, 1, 1, 1, 1, 1, 1, 1, 1, 1, 1, 1, 1, 1, 1,\n",
       "        1, 1, 1, 1, 1, 1, 1, 1, 1, 1, 1, 1, 1, 1, 1, 1, 1, 1, 1, 1, 1, 1,\n",
       "        1, 1, 1, 1, 1, 1, 1, 1, 1, 1, 1, 1, 2, 2, 2, 2, 2, 2, 2, 2, 2, 2,\n",
       "        2, 2, 2, 2, 2, 2, 2, 2, 2, 2, 2, 2, 2, 2, 2, 2, 2, 2, 2, 2, 2, 2,\n",
       "        2, 2, 2, 2, 2, 2, 2, 2, 2, 2, 2, 2, 2, 2, 2, 2, 2, 2]),\n",
       " 'effective_metric_params_': {},\n",
       " 'effective_metric_': 'euclidean',\n",
       " '_fit_method': 'kd_tree',\n",
       " '_fit_X': array([[5.1, 3.5, 1.4, 0.2],\n",
       "        [4.9, 3. , 1.4, 0.2],\n",
       "        [4.7, 3.2, 1.3, 0.2],\n",
       "        [4.6, 3.1, 1.5, 0.2],\n",
       "        [5. , 3.6, 1.4, 0.2],\n",
       "        [5.4, 3.9, 1.7, 0.4],\n",
       "        [4.6, 3.4, 1.4, 0.3],\n",
       "        [5. , 3.4, 1.5, 0.2],\n",
       "        [4.4, 2.9, 1.4, 0.2],\n",
       "        [4.9, 3.1, 1.5, 0.1],\n",
       "        [5.4, 3.7, 1.5, 0.2],\n",
       "        [4.8, 3.4, 1.6, 0.2],\n",
       "        [4.8, 3. , 1.4, 0.1],\n",
       "        [4.3, 3. , 1.1, 0.1],\n",
       "        [5.8, 4. , 1.2, 0.2],\n",
       "        [5.7, 4.4, 1.5, 0.4],\n",
       "        [5.4, 3.9, 1.3, 0.4],\n",
       "        [5.1, 3.5, 1.4, 0.3],\n",
       "        [5.7, 3.8, 1.7, 0.3],\n",
       "        [5.1, 3.8, 1.5, 0.3],\n",
       "        [5.4, 3.4, 1.7, 0.2],\n",
       "        [5.1, 3.7, 1.5, 0.4],\n",
       "        [4.6, 3.6, 1. , 0.2],\n",
       "        [5.1, 3.3, 1.7, 0.5],\n",
       "        [4.8, 3.4, 1.9, 0.2],\n",
       "        [5. , 3. , 1.6, 0.2],\n",
       "        [5. , 3.4, 1.6, 0.4],\n",
       "        [5.2, 3.5, 1.5, 0.2],\n",
       "        [5.2, 3.4, 1.4, 0.2],\n",
       "        [4.7, 3.2, 1.6, 0.2],\n",
       "        [4.8, 3.1, 1.6, 0.2],\n",
       "        [5.4, 3.4, 1.5, 0.4],\n",
       "        [5.2, 4.1, 1.5, 0.1],\n",
       "        [5.5, 4.2, 1.4, 0.2],\n",
       "        [4.9, 3.1, 1.5, 0.2],\n",
       "        [5. , 3.2, 1.2, 0.2],\n",
       "        [5.5, 3.5, 1.3, 0.2],\n",
       "        [4.9, 3.6, 1.4, 0.1],\n",
       "        [4.4, 3. , 1.3, 0.2],\n",
       "        [5.1, 3.4, 1.5, 0.2],\n",
       "        [5. , 3.5, 1.3, 0.3],\n",
       "        [4.5, 2.3, 1.3, 0.3],\n",
       "        [4.4, 3.2, 1.3, 0.2],\n",
       "        [5. , 3.5, 1.6, 0.6],\n",
       "        [5.1, 3.8, 1.9, 0.4],\n",
       "        [4.8, 3. , 1.4, 0.3],\n",
       "        [5.1, 3.8, 1.6, 0.2],\n",
       "        [4.6, 3.2, 1.4, 0.2],\n",
       "        [5.3, 3.7, 1.5, 0.2],\n",
       "        [5. , 3.3, 1.4, 0.2],\n",
       "        [7. , 3.2, 4.7, 1.4],\n",
       "        [6.4, 3.2, 4.5, 1.5],\n",
       "        [6.9, 3.1, 4.9, 1.5],\n",
       "        [5.5, 2.3, 4. , 1.3],\n",
       "        [6.5, 2.8, 4.6, 1.5],\n",
       "        [5.7, 2.8, 4.5, 1.3],\n",
       "        [6.3, 3.3, 4.7, 1.6],\n",
       "        [4.9, 2.4, 3.3, 1. ],\n",
       "        [6.6, 2.9, 4.6, 1.3],\n",
       "        [5.2, 2.7, 3.9, 1.4],\n",
       "        [5. , 2. , 3.5, 1. ],\n",
       "        [5.9, 3. , 4.2, 1.5],\n",
       "        [6. , 2.2, 4. , 1. ],\n",
       "        [6.1, 2.9, 4.7, 1.4],\n",
       "        [5.6, 2.9, 3.6, 1.3],\n",
       "        [6.7, 3.1, 4.4, 1.4],\n",
       "        [5.6, 3. , 4.5, 1.5],\n",
       "        [5.8, 2.7, 4.1, 1. ],\n",
       "        [6.2, 2.2, 4.5, 1.5],\n",
       "        [5.6, 2.5, 3.9, 1.1],\n",
       "        [5.9, 3.2, 4.8, 1.8],\n",
       "        [6.1, 2.8, 4. , 1.3],\n",
       "        [6.3, 2.5, 4.9, 1.5],\n",
       "        [6.1, 2.8, 4.7, 1.2],\n",
       "        [6.4, 2.9, 4.3, 1.3],\n",
       "        [6.6, 3. , 4.4, 1.4],\n",
       "        [6.8, 2.8, 4.8, 1.4],\n",
       "        [6.7, 3. , 5. , 1.7],\n",
       "        [6. , 2.9, 4.5, 1.5],\n",
       "        [5.7, 2.6, 3.5, 1. ],\n",
       "        [5.5, 2.4, 3.8, 1.1],\n",
       "        [5.5, 2.4, 3.7, 1. ],\n",
       "        [5.8, 2.7, 3.9, 1.2],\n",
       "        [6. , 2.7, 5.1, 1.6],\n",
       "        [5.4, 3. , 4.5, 1.5],\n",
       "        [6. , 3.4, 4.5, 1.6],\n",
       "        [6.7, 3.1, 4.7, 1.5],\n",
       "        [6.3, 2.3, 4.4, 1.3],\n",
       "        [5.6, 3. , 4.1, 1.3],\n",
       "        [5.5, 2.5, 4. , 1.3],\n",
       "        [5.5, 2.6, 4.4, 1.2],\n",
       "        [6.1, 3. , 4.6, 1.4],\n",
       "        [5.8, 2.6, 4. , 1.2],\n",
       "        [5. , 2.3, 3.3, 1. ],\n",
       "        [5.6, 2.7, 4.2, 1.3],\n",
       "        [5.7, 3. , 4.2, 1.2],\n",
       "        [5.7, 2.9, 4.2, 1.3],\n",
       "        [6.2, 2.9, 4.3, 1.3],\n",
       "        [5.1, 2.5, 3. , 1.1],\n",
       "        [5.7, 2.8, 4.1, 1.3],\n",
       "        [6.3, 3.3, 6. , 2.5],\n",
       "        [5.8, 2.7, 5.1, 1.9],\n",
       "        [7.1, 3. , 5.9, 2.1],\n",
       "        [6.3, 2.9, 5.6, 1.8],\n",
       "        [6.5, 3. , 5.8, 2.2],\n",
       "        [7.6, 3. , 6.6, 2.1],\n",
       "        [4.9, 2.5, 4.5, 1.7],\n",
       "        [7.3, 2.9, 6.3, 1.8],\n",
       "        [6.7, 2.5, 5.8, 1.8],\n",
       "        [7.2, 3.6, 6.1, 2.5],\n",
       "        [6.5, 3.2, 5.1, 2. ],\n",
       "        [6.4, 2.7, 5.3, 1.9],\n",
       "        [6.8, 3. , 5.5, 2.1],\n",
       "        [5.7, 2.5, 5. , 2. ],\n",
       "        [5.8, 2.8, 5.1, 2.4],\n",
       "        [6.4, 3.2, 5.3, 2.3],\n",
       "        [6.5, 3. , 5.5, 1.8],\n",
       "        [7.7, 3.8, 6.7, 2.2],\n",
       "        [7.7, 2.6, 6.9, 2.3],\n",
       "        [6. , 2.2, 5. , 1.5],\n",
       "        [6.9, 3.2, 5.7, 2.3],\n",
       "        [5.6, 2.8, 4.9, 2. ],\n",
       "        [7.7, 2.8, 6.7, 2. ],\n",
       "        [6.3, 2.7, 4.9, 1.8],\n",
       "        [6.7, 3.3, 5.7, 2.1],\n",
       "        [7.2, 3.2, 6. , 1.8],\n",
       "        [6.2, 2.8, 4.8, 1.8],\n",
       "        [6.1, 3. , 4.9, 1.8],\n",
       "        [6.4, 2.8, 5.6, 2.1],\n",
       "        [7.2, 3. , 5.8, 1.6],\n",
       "        [7.4, 2.8, 6.1, 1.9],\n",
       "        [7.9, 3.8, 6.4, 2. ],\n",
       "        [6.4, 2.8, 5.6, 2.2],\n",
       "        [6.3, 2.8, 5.1, 1.5],\n",
       "        [6.1, 2.6, 5.6, 1.4],\n",
       "        [7.7, 3. , 6.1, 2.3],\n",
       "        [6.3, 3.4, 5.6, 2.4],\n",
       "        [6.4, 3.1, 5.5, 1.8],\n",
       "        [6. , 3. , 4.8, 1.8],\n",
       "        [6.9, 3.1, 5.4, 2.1],\n",
       "        [6.7, 3.1, 5.6, 2.4],\n",
       "        [6.9, 3.1, 5.1, 2.3],\n",
       "        [5.8, 2.7, 5.1, 1.9],\n",
       "        [6.8, 3.2, 5.9, 2.3],\n",
       "        [6.7, 3.3, 5.7, 2.5],\n",
       "        [6.7, 3. , 5.2, 2.3],\n",
       "        [6.3, 2.5, 5. , 1.9],\n",
       "        [6.5, 3. , 5.2, 2. ],\n",
       "        [6.2, 3.4, 5.4, 2.3],\n",
       "        [5.9, 3. , 5.1, 1.8]]),\n",
       " 'n_samples_fit_': 150,\n",
       " '_tree': <sklearn.neighbors._kd_tree.KDTree at 0x7ff299b58810>}"
      ]
     },
     "execution_count": 154,
     "metadata": {},
     "output_type": "execute_result"
    }
   ],
   "source": [
    "vars(knn)  # 많아짐"
   ]
  },
  {
   "cell_type": "code",
   "execution_count": null,
   "metadata": {},
   "outputs": [],
   "source": [
    "# 즉 실행할 때마다 인스턴스 변수의 값을 변화시키고 얘들을 바꾸거나 없애거나 함. 파이썬은 consenting adult 이기 때문."
   ]
  },
  {
   "cell_type": "code",
   "execution_count": null,
   "metadata": {},
   "outputs": [],
   "source": [
    "# 값이 공유되기 때문에 어떤 특정 메소드 사용할 때 기본적으로 초기화했던 값들을 바꿀 수 있다는 것.\n",
    "# 항상 self.x 가 처음에 만들었던 것이 아니라는 것.\n",
    "# 그렇다면 상속이 합쳐지면 어떨까?"
   ]
  },
  {
   "cell_type": "code",
   "execution_count": 52,
   "metadata": {},
   "outputs": [],
   "source": [
    "class A:\n",
    "    aa = 1\n",
    "    def __init__(self, y):\n",
    "        self.t = y\n",
    "        \n",
    "class B(A):\n",
    "    pass"
   ]
  },
  {
   "cell_type": "code",
   "execution_count": 53,
   "metadata": {},
   "outputs": [
    {
     "data": {
      "text/plain": [
       "1"
      ]
     },
     "execution_count": 53,
     "metadata": {},
     "output_type": "execute_result"
    }
   ],
   "source": [
    "B.aa  # 값이 있음. 어떤 원칙?\n",
    "# 나한테 없으면 부모한테 찾는다는 원칙"
   ]
  },
  {
   "cell_type": "code",
   "execution_count": 54,
   "metadata": {},
   "outputs": [
    {
     "ename": "AttributeError",
     "evalue": "type object 'B' has no attribute 't'",
     "output_type": "error",
     "traceback": [
      "\u001B[0;31m---------------------------------------------------------------------------\u001B[0m",
      "\u001B[0;31mAttributeError\u001B[0m                            Traceback (most recent call last)",
      "Cell \u001B[0;32mIn[54], line 1\u001B[0m\n\u001B[0;32m----> 1\u001B[0m B\u001B[39m.\u001B[39;49mt\n",
      "\u001B[0;31mAttributeError\u001B[0m: type object 'B' has no attribute 't'"
     ]
    }
   ],
   "source": [
    "B.t # 없음. 어떤 이유?\n",
    "# t는 인스턴스 변수. 인스턴스 변수의 기본적 원칙은 함수가 호출될 때 생성되는 것.\n",
    "# A가 안 만들어짐. 그래서 B.t 는 없는 것"
   ]
  },
  {
   "cell_type": "code",
   "execution_count": 55,
   "metadata": {},
   "outputs": [
    {
     "ename": "TypeError",
     "evalue": "A.__init__() missing 1 required positional argument: 'y'",
     "output_type": "error",
     "traceback": [
      "\u001B[0;31m---------------------------------------------------------------------------\u001B[0m",
      "\u001B[0;31mTypeError\u001B[0m                                 Traceback (most recent call last)",
      "Cell \u001B[0;32mIn[55], line 1\u001B[0m\n\u001B[0;32m----> 1\u001B[0m b \u001B[39m=\u001B[39m B()\n",
      "\u001B[0;31mTypeError\u001B[0m: A.__init__() missing 1 required positional argument: 'y'"
     ]
    }
   ],
   "source": [
    "b = B()\n",
    "# 왜 안만들어지고 에러?\n",
    "# 상속을 받음. 부모한테 물려받음. 그렇다면 B의 __init__가 없으니 A에 있는 것을 실행시킴.\n",
    "# 그런데 A에 있는 것은 1개의 인자를 집어넣어야 함. 그래서 ()안에 인자 넣어줘야 함"
   ]
  },
  {
   "cell_type": "code",
   "execution_count": 56,
   "metadata": {},
   "outputs": [],
   "source": [
    "b = B(4)"
   ]
  },
  {
   "cell_type": "code",
   "execution_count": 57,
   "metadata": {},
   "outputs": [
    {
     "data": {
      "text/plain": [
       "4"
      ]
     },
     "execution_count": 57,
     "metadata": {},
     "output_type": "execute_result"
    }
   ],
   "source": [
    "b.t\n",
    "# A에 있는 거 가져다 썼음."
   ]
  },
  {
   "cell_type": "code",
   "execution_count": 58,
   "metadata": {},
   "outputs": [],
   "source": [
    "a = A(5)"
   ]
  },
  {
   "cell_type": "code",
   "execution_count": 59,
   "metadata": {},
   "outputs": [
    {
     "data": {
      "text/plain": [
       "5"
      ]
     },
     "execution_count": 59,
     "metadata": {},
     "output_type": "execute_result"
    }
   ],
   "source": [
    "a.t"
   ]
  },
  {
   "cell_type": "code",
   "execution_count": 60,
   "metadata": {},
   "outputs": [
    {
     "data": {
      "text/plain": [
       "4"
      ]
     },
     "execution_count": 60,
     "metadata": {},
     "output_type": "execute_result"
    }
   ],
   "source": [
    "b.t\n",
    "# 왜 4일까?\n",
    "# b.t가 있으니까 B의 t를 먼저 찾음. B(4)를 줬기 때문"
   ]
  },
  {
   "cell_type": "code",
   "execution_count": 64,
   "metadata": {},
   "outputs": [
    {
     "data": {
      "text/plain": [
       "({'t': 5}, {'t': 4})"
      ]
     },
     "execution_count": 64,
     "metadata": {},
     "output_type": "execute_result"
    }
   ],
   "source": [
    "vars(a), vars(b)"
   ]
  },
  {
   "cell_type": "code",
   "execution_count": 167,
   "metadata": {},
   "outputs": [
    {
     "ename": "AttributeError",
     "evalue": "t",
     "output_type": "error",
     "traceback": [
      "\u001B[0;31m---------------------------------------------------------------------------\u001B[0m",
      "\u001B[0;31mAttributeError\u001B[0m                            Traceback (most recent call last)",
      "Cell \u001B[0;32mIn[167], line 1\u001B[0m\n\u001B[0;32m----> 1\u001B[0m \u001B[39mdel\u001B[39;00m b\u001B[39m.\u001B[39mt\n",
      "\u001B[0;31mAttributeError\u001B[0m: t"
     ]
    }
   ],
   "source": [
    "del b.t"
   ]
  },
  {
   "cell_type": "code",
   "execution_count": null,
   "metadata": {},
   "outputs": [],
   "source": [
    "# 추가 삭제가 자유로워서 vars()가 중요함"
   ]
  },
  {
   "cell_type": "code",
   "execution_count": 166,
   "metadata": {},
   "outputs": [
    {
     "ename": "AttributeError",
     "evalue": "'B' object has no attribute 't'",
     "output_type": "error",
     "traceback": [
      "\u001B[0;31m---------------------------------------------------------------------------\u001B[0m",
      "\u001B[0;31mAttributeError\u001B[0m                            Traceback (most recent call last)",
      "Cell \u001B[0;32mIn[166], line 1\u001B[0m\n\u001B[0;32m----> 1\u001B[0m b\u001B[39m.\u001B[39;49mt\n",
      "\u001B[0;31mAttributeError\u001B[0m: 'B' object has no attribute 't'"
     ]
    }
   ],
   "source": [
    "b.t\n",
    "# 인스턴스에 없으면 클래스에서 찾음.\n",
    "# 그런데 있는 것은 클래스 변수.\n",
    "# 인스턴스 변수는 없으면 클래스 찾고, 클래스 변수가 없으면 부모 찾음\n",
    "# 인스턴스 변수가 인스턴스 변수를 찾지 않는 이유는 인스턴스 각각이 가지는 변수이기 때문에."
   ]
  },
  {
   "cell_type": "code",
   "execution_count": 65,
   "metadata": {},
   "outputs": [],
   "source": [
    "class A:\n",
    "    aa = 1\n",
    "    def __init__(self, y):   # 클래스 A와 관련된 애는 누구나 접근할 수 있는 것\n",
    "        self.t = y\n",
    "        \n",
    "class B(A):\n",
    "    def tt(self, s):\n",
    "        self.t = s"
   ]
  },
  {
   "cell_type": "code",
   "execution_count": 66,
   "metadata": {},
   "outputs": [],
   "source": [
    "b = B(2)"
   ]
  },
  {
   "cell_type": "code",
   "execution_count": 67,
   "metadata": {},
   "outputs": [
    {
     "data": {
      "text/plain": [
       "2"
      ]
     },
     "execution_count": 67,
     "metadata": {},
     "output_type": "execute_result"
    }
   ],
   "source": [
    "b.t\n",
    "# 인스턴스 변수는 자기만의 고유의 것. 메소드는 왜 갖다 쓸 수 있나?\n",
    "# 메소드는 실제 함수로 만들어 진건데, 인스턴스 관점에서 메소드라고 생각하기 때문\n",
    "# 혼동되면 vars() 해결됨"
   ]
  },
  {
   "cell_type": "code",
   "execution_count": 68,
   "metadata": {},
   "outputs": [
    {
     "data": {
      "text/plain": [
       "{'t': 2}"
      ]
     },
     "execution_count": 68,
     "metadata": {},
     "output_type": "execute_result"
    }
   ],
   "source": [
    "vars(b)"
   ]
  },
  {
   "cell_type": "code",
   "execution_count": 70,
   "metadata": {},
   "outputs": [
    {
     "name": "stdout",
     "output_type": "stream",
     "text": [
      "Help on built-in function vars in module builtins:\n",
      "\n",
      "vars(...)\n",
      "    vars([object]) -> dictionary\n",
      "    \n",
      "    Without arguments, equivalent to locals().\n",
      "    With an argument, equivalent to object.__dict__.\n",
      "\n"
     ]
    }
   ],
   "source": [
    "help('vars')"
   ]
  },
  {
   "cell_type": "code",
   "execution_count": 71,
   "metadata": {},
   "outputs": [],
   "source": [
    "b.tt(3)"
   ]
  },
  {
   "cell_type": "code",
   "execution_count": 181,
   "metadata": {},
   "outputs": [
    {
     "name": "stdout",
     "output_type": "stream",
     "text": [
      "None\n"
     ]
    }
   ],
   "source": [
    "print(b.tt(3)) # 리턴값이 없어서"
   ]
  },
  {
   "cell_type": "code",
   "execution_count": 72,
   "metadata": {},
   "outputs": [
    {
     "data": {
      "text/plain": [
       "3"
      ]
     },
     "execution_count": 72,
     "metadata": {},
     "output_type": "execute_result"
    }
   ],
   "source": [
    "b.t\n",
    "# 클래스 안에 정의된 메소드끼리는 값을 공유"
   ]
  },
  {
   "cell_type": "code",
   "execution_count": 174,
   "metadata": {},
   "outputs": [],
   "source": [
    "# 인스턴스 변수가 없으면, 에러를 발생하기 전에 클래스 변수를 찾음"
   ]
  },
  {
   "cell_type": "code",
   "execution_count": 73,
   "metadata": {},
   "outputs": [],
   "source": [
    "b=B(1)"
   ]
  },
  {
   "cell_type": "code",
   "execution_count": 74,
   "metadata": {},
   "outputs": [
    {
     "data": {
      "text/plain": [
       "1"
      ]
     },
     "execution_count": 74,
     "metadata": {},
     "output_type": "execute_result"
    }
   ],
   "source": [
    "b.aa  # 내 클래스에 있는지 없는지 찾음. 그런데 없음. 없으면 부모거 찾음. 그래서 1이 나옴\n",
    "# 부모의 인스턴스 변수를 찾는 것이 아님. 인스턴스 변수는 각각을 가지기 때문에 물어볼 수 없음\n",
    "# 그런데 클래스는 인스턴스 끼리 공유하는 값. 그래서 이게 있는지 없는지 찾을 수 있는 것."
   ]
  },
  {
   "cell_type": "code",
   "execution_count": null,
   "metadata": {},
   "outputs": [],
   "source": [
    "# 그런데 함수는 공유하는 값이다? 공유함\n",
    "# B에서는 __init__ 가 없으니 부모의 것을 찾음.\n",
    "# A의 관점에서 __init__는 함수\n",
    "# 복잡한 상속체계이기 떄문에\n",
    "# 그래서 composition pattern 을 배울 것\n",
    "# 가능한 다중상속 사용하지 않으려고 함. 그래서 mixins 이라는 패턴을 씀s"
   ]
  }
 ],
 "metadata": {
  "kernelspec": {
   "display_name": "Python 3 (ipykernel)",
   "language": "python",
   "name": "python3"
  },
  "language_info": {
   "codemirror_mode": {
    "name": "ipython",
    "version": 3
   },
   "file_extension": ".py",
   "mimetype": "text/x-python",
   "name": "python",
   "nbconvert_exporter": "python",
   "pygments_lexer": "ipython3",
   "version": "3.10.9"
  },
  "toc": {
   "base_numbering": 1,
   "nav_menu": {},
   "number_sections": true,
   "sideBar": true,
   "skip_h1_title": false,
   "title_cell": "Table of Contents",
   "title_sidebar": "Contents",
   "toc_cell": false,
   "toc_position": {},
   "toc_section_display": true,
   "toc_window_display": false
  },
  "varInspector": {
   "cols": {
    "lenName": 16,
    "lenType": 16,
    "lenVar": 40
   },
   "kernels_config": {
    "python": {
     "delete_cmd_postfix": "",
     "delete_cmd_prefix": "del ",
     "library": "var_list.py",
     "varRefreshCmd": "print(var_dic_list())"
    },
    "r": {
     "delete_cmd_postfix": ") ",
     "delete_cmd_prefix": "rm(",
     "library": "var_list.r",
     "varRefreshCmd": "cat(var_dic_list()) "
    }
   },
   "types_to_exclude": [
    "module",
    "function",
    "builtin_function_or_method",
    "instance",
    "_Feature"
   ],
   "window_display": false
  }
 },
 "nbformat": 4,
 "nbformat_minor": 2
}
