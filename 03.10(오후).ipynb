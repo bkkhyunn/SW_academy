{
 "cells": [
  {
   "cell_type": "markdown",
   "metadata": {},
   "source": [
    "#### **OOP**"
   ]
  },
  {
   "cell_type": "code",
   "execution_count": null,
   "metadata": {},
   "outputs": [],
   "source": [
    "# 수업자료 OOP.ipynb 하나하나 읽어보기"
   ]
  },
  {
   "cell_type": "code",
   "execution_count": null,
   "metadata": {},
   "outputs": [],
   "source": [
    "# 상속 복습"
   ]
  },
  {
   "cell_type": "code",
   "execution_count": 2,
   "metadata": {},
   "outputs": [],
   "source": [
    "class A:\n",
    "    tt = 1\n",
    "    def __init__(self, x):\n",
    "        self.y = x\n",
    "        \n",
    "        \n",
    "class B(A):\n",
    "    def ss(self, f):\n",
    "        self.y = f"
   ]
  },
  {
   "cell_type": "code",
   "execution_count": null,
   "metadata": {},
   "outputs": [],
   "source": [
    "# 파이썬에서 상속은 부모한테 물려받는다? 정확히는 아니다. -> deligator(위임)가 파이썬 상속의 본질이라고 할 수 있음.\n",
    "# 즉, 무엇이 없으면 누구한테 일 시키는 것. 즉 물려받는 것이 아님.\n",
    "# 기억해야 할 것 \"deligator\"\n",
    "# B를 사용하기 위해서 인스턴스를 하면, __init__가 없어서 부모인 A에서 찾음. 그래서 인자가 하나 들어가야 함."
   ]
  },
  {
   "cell_type": "code",
   "execution_count": 5,
   "metadata": {},
   "outputs": [],
   "source": [
    "b = B(4)"
   ]
  },
  {
   "cell_type": "code",
   "execution_count": 6,
   "metadata": {},
   "outputs": [
    {
     "data": {
      "text/plain": [
       "__main__.B"
      ]
     },
     "execution_count": 6,
     "metadata": {},
     "output_type": "execute_result"
    }
   ],
   "source": [
    "# mro() 는 인스턴스에 쓰면 안됨. -> 클래스 간의 관계를 뜻하기 떄문에. 따라서 b.mro() 는 안됨\n",
    "# 인스턴스의 클래스를 구하는 방법은\n",
    "type(b) # -> 클래스 나옴. 따라서 mro() 가능"
   ]
  },
  {
   "cell_type": "code",
   "execution_count": 8,
   "metadata": {},
   "outputs": [
    {
     "data": {
      "text/plain": [
       "[__main__.B, __main__.A, object]"
      ]
     },
     "execution_count": 8,
     "metadata": {},
     "output_type": "execute_result"
    }
   ],
   "source": [
    "type(b).mro()"
   ]
  },
  {
   "cell_type": "code",
   "execution_count": 7,
   "metadata": {},
   "outputs": [
    {
     "data": {
      "text/plain": [
       "__main__.B"
      ]
     },
     "execution_count": 7,
     "metadata": {},
     "output_type": "execute_result"
    }
   ],
   "source": [
    "# type 과 같은 것\n",
    "b.__class__"
   ]
  },
  {
   "cell_type": "code",
   "execution_count": null,
   "metadata": {},
   "outputs": [],
   "source": [
    "# 스페셜 메소드랑 파이썬 내장함수하고 연결되어 있음.\n",
    "# 그 분류는 3가지\n",
    "# 1. type = __clas__ => 즉 기능은 같지만 이름이 다른 경우\n",
    "# 2. 이름은 같지만 기능이 미묘하게 다름\n",
    "# 3. 기능도 같고 이름도 거의 같음\n",
    "# 파이썬의 어느 문서를 찾아봐도 없음. "
   ]
  },
  {
   "cell_type": "code",
   "execution_count": 9,
   "metadata": {},
   "outputs": [
    {
     "data": {
      "text/plain": [
       "['__class__',\n",
       " '__delattr__',\n",
       " '__dict__',\n",
       " '__dir__',\n",
       " '__doc__',\n",
       " '__eq__',\n",
       " '__format__',\n",
       " '__ge__',\n",
       " '__getattribute__',\n",
       " '__gt__',\n",
       " '__hash__',\n",
       " '__init__',\n",
       " '__init_subclass__',\n",
       " '__le__',\n",
       " '__lt__',\n",
       " '__module__',\n",
       " '__ne__',\n",
       " '__new__',\n",
       " '__reduce__',\n",
       " '__reduce_ex__',\n",
       " '__repr__',\n",
       " '__setattr__',\n",
       " '__sizeof__',\n",
       " '__str__',\n",
       " '__subclasshook__',\n",
       " '__weakref__',\n",
       " 'ss',\n",
       " 'tt',\n",
       " 'y']"
      ]
     },
     "execution_count": 9,
     "metadata": {},
     "output_type": "execute_result"
    }
   ],
   "source": [
    "# 2 예시\n",
    "dir(b)\n",
    "# 정렬이 예쁘게 되어있음.\n",
    "# 파이썬은 외모지상주의(파이썬의 첫번째 철학)"
   ]
  },
  {
   "cell_type": "code",
   "execution_count": 11,
   "metadata": {},
   "outputs": [
    {
     "data": {
      "text/plain": [
       "['y',\n",
       " '__module__',\n",
       " 'ss',\n",
       " '__doc__',\n",
       " 'tt',\n",
       " '__init__',\n",
       " '__dict__',\n",
       " '__weakref__',\n",
       " '__new__',\n",
       " '__repr__',\n",
       " '__hash__',\n",
       " '__str__',\n",
       " '__getattribute__',\n",
       " '__setattr__',\n",
       " '__delattr__',\n",
       " '__lt__',\n",
       " '__le__',\n",
       " '__eq__',\n",
       " '__ne__',\n",
       " '__gt__',\n",
       " '__ge__',\n",
       " '__reduce_ex__',\n",
       " '__reduce__',\n",
       " '__subclasshook__',\n",
       " '__init_subclass__',\n",
       " '__format__',\n",
       " '__sizeof__',\n",
       " '__dir__',\n",
       " '__class__']"
      ]
     },
     "execution_count": 11,
     "metadata": {},
     "output_type": "execute_result"
    }
   ],
   "source": [
    "b.__dir__()\n",
    "# 이거는 dir()과 정렬이 다름"
   ]
  },
  {
   "cell_type": "code",
   "execution_count": 73,
   "metadata": {},
   "outputs": [],
   "source": [
    "class A:\n",
    "    tt = 1\n",
    "    def __init__(self, x):\n",
    "        self.y = x\n",
    "        \n",
    "        \n",
    "class B(A):\n",
    "    def ss(self, f):\n",
    "        self.y = f"
   ]
  },
  {
   "cell_type": "code",
   "execution_count": 74,
   "metadata": {},
   "outputs": [],
   "source": [
    "b = B(4)\n",
    "# ()하면 __init__ 실행.\n",
    "# B에 없으면 A(부모)에서 실행 -> 그 순서는 mro()에서 볼 수 있음\n",
    "# 그러면 내꺼 생성되는 것. 시키고 나한테 온 것(부모님 돈으로 사도 내꺼인 논리)\n",
    "# B() 안에 4 넣은 것은 부모님꺼 쓴 것 (__init__)\n",
    "# b는 가져다 넣은 인스턴스\n",
    "# 인스턴스는 자기만의 변수를 가질 수 있다.\n",
    "# 그렇다면 b(인스턴스)가 어떤 기능을 가지나? -> 실제 나한테 정의된 것은 ss이지만 부모님한테 정의된 것도 가져다가 쓸 수 있는 것\n",
    "# 그래서 b가 할 수 있는 행동은 내 행동 뿐 아니라 위 부모 행동까지.\n",
    "# 그렇다면 self.y 가 b 입장에서는 내꺼.\n",
    "# 그래서 self.y를 부모님한테 시켰지만 내 안에 b.y가 있는 것\n",
    "# 그리고 b의 것인 b.ss()도 가능"
   ]
  },
  {
   "cell_type": "code",
   "execution_count": 75,
   "metadata": {},
   "outputs": [
    {
     "data": {
      "text/plain": [
       "[__main__.B, __main__.A, object]"
      ]
     },
     "execution_count": 75,
     "metadata": {},
     "output_type": "execute_result"
    }
   ],
   "source": [
    "type(b).mro()"
   ]
  },
  {
   "cell_type": "code",
   "execution_count": 76,
   "metadata": {},
   "outputs": [
    {
     "data": {
      "text/plain": [
       "4"
      ]
     },
     "execution_count": 76,
     "metadata": {},
     "output_type": "execute_result"
    }
   ],
   "source": [
    "b.y"
   ]
  },
  {
   "cell_type": "code",
   "execution_count": 77,
   "metadata": {},
   "outputs": [],
   "source": [
    "b.ss(5)  # 메소드 안에 정의된 변수의 특징은, 이름이 같으면 서로 공유된다는 것\n",
    "# 위의 결과에 따라 b.y 는 5가 됨"
   ]
  },
  {
   "cell_type": "code",
   "execution_count": 78,
   "metadata": {},
   "outputs": [
    {
     "data": {
      "text/plain": [
       "5"
      ]
     },
     "execution_count": 78,
     "metadata": {},
     "output_type": "execute_result"
    }
   ],
   "source": [
    "b.y"
   ]
  },
  {
   "cell_type": "code",
   "execution_count": 79,
   "metadata": {},
   "outputs": [
    {
     "data": {
      "text/plain": [
       "{'y': 5}"
      ]
     },
     "execution_count": 79,
     "metadata": {},
     "output_type": "execute_result"
    }
   ],
   "source": [
    "# 파이썬 메소드를 중간중간 어디에 실행하느냐에 따라서 값들이 막 바뀜. 그래서 해결책은 vars()를 사용해서 트래킹 하는 것\n",
    "vars(b)"
   ]
  },
  {
   "cell_type": "code",
   "execution_count": 80,
   "metadata": {},
   "outputs": [
    {
     "data": {
      "text/plain": [
       "{'y': 5}"
      ]
     },
     "execution_count": 80,
     "metadata": {},
     "output_type": "execute_result"
    }
   ],
   "source": [
    "b.__dict__  # 이름 다른데 vars()와 같은 행동을 함\n",
    "# 보통 함수 이름보다 스페셜 메소드를 쓰는 것을 파이썬스럽다 해서 파이쏘닉."
   ]
  },
  {
   "cell_type": "code",
   "execution_count": null,
   "metadata": {},
   "outputs": [],
   "source": [
    "# 함수형 프로그래밍 또는 함수형 패러다임 - 객체지향 프로그래밍 또는 객체지향 패러다임\n",
    "# 패러다임은 사고방식을 뜻함.\n",
    "# 사고방식은 외운다고 해서 그런 식으로 행동하는 것 아님. 하다보면 익혀지는 것.\n",
    "# 익숙해지려면 방법이 계속 코드 보는 것"
   ]
  },
  {
   "cell_type": "code",
   "execution_count": null,
   "metadata": {},
   "outputs": [],
   "source": [
    "# 그래서 상속체계가 복잡할 수록 더 어려움.\n",
    "# 그래서 오늘 어떤 테크닉을 볼까?\n",
    "# 상속을 간단하게 하거나 아예 안하는 테크닉을 볼 것."
   ]
  },
  {
   "cell_type": "code",
   "execution_count": null,
   "metadata": {},
   "outputs": [],
   "source": [
    "# 수업자료 OOP 는 기본 객체지향을 잘 설명해준 자료가 있음.\n",
    "# 이제부터 설명 다 있는 것을 보면서 곱씹어서 익숙해져보자!!"
   ]
  },
  {
   "cell_type": "code",
   "execution_count": null,
   "metadata": {},
   "outputs": [],
   "source": [
    "# 클래스는 타입이다!\n",
    "map()\n",
    "# Type:       type  => 이게 클래스라는 것.\n",
    "# 클래스는 내가 마음대로 자료형을 만들 수 있다는 것.\n",
    "# 그러면 어떻게 자료형을 만들까의 문제가 튀어나옴"
   ]
  },
  {
   "cell_type": "code",
   "execution_count": 19,
   "metadata": {},
   "outputs": [
    {
     "data": {
      "text/plain": [
       "6"
      ]
     },
     "execution_count": 19,
     "metadata": {},
     "output_type": "execute_result"
    }
   ],
   "source": [
    "# 위에 숨어있는 개념은?\n",
    "a = 6\n",
    "a = int(6)\n",
    "# 위의 것은 리터럴 방식 => 즉, 단축표현을 제공해준 것.\n",
    "# int(6)은 인스턴스 방식\n",
    "a"
   ]
  },
  {
   "cell_type": "code",
   "execution_count": 21,
   "metadata": {},
   "outputs": [],
   "source": [
    "# 어떤 새로운 행위를 하기 위해서는 클래스를 먼저 만들어야 함.\n",
    "# 파이토치나 텐서플로 다 클래스를 먼저 정의함. -> 함수로도 만들 수 있지만 나만의 모델을 만들기 위해서\n",
    "# 기존의 모델에 상속을 함. 합성함수 방식도 엄청 쓰임.\n",
    "# 클래스 정의는 매우 어려움\n",
    "# 디자인 패턴 -> 어떻게 클래스를 잘 정의할까? 딥러닝 디자인 패턴도 있음.\n",
    "# 메소드로 변경시켜서 내가 원하는 결과값을 낳는 것."
   ]
  },
  {
   "cell_type": "code",
   "execution_count": null,
   "metadata": {},
   "outputs": [],
   "source": [
    "# 어떤 일을 하기 위해서 1,2,3,4,5 절차가 있는데,\n",
    "# 하수 일 때는 메소드 하나에 다 집어넣음\n",
    "# 기능적으로 1,2,3,4,5 쪼개진 상태에서 수정하고자 하는 곳을 수정함.\n",
    "# __new__, __init__ 쪼개진 것이 그러한 이유임"
   ]
  },
  {
   "cell_type": "code",
   "execution_count": 23,
   "metadata": {},
   "outputs": [
    {
     "data": {
      "text/plain": [
       "True"
      ]
     },
     "execution_count": 23,
     "metadata": {},
     "output_type": "execute_result"
    }
   ],
   "source": [
    "'bit_length' in dir(a)"
   ]
  },
  {
   "cell_type": "code",
   "execution_count": 24,
   "metadata": {},
   "outputs": [
    {
     "data": {
      "text/plain": [
       "3"
      ]
     },
     "execution_count": 24,
     "metadata": {},
     "output_type": "execute_result"
    }
   ],
   "source": [
    "a.bit_length()  # 비트로 바꾸면 몇 비트?"
   ]
  },
  {
   "cell_type": "code",
   "execution_count": null,
   "metadata": {},
   "outputs": [],
   "source": [
    "# 실행 x\n",
    "class int:\n",
    "    def __init__(self, x=0):\n",
    "        pass\n",
    "    \n",
    "    def bit_length(self):\n",
    "        return a\n",
    "    \n",
    "a = int(6)\n",
    "a.bit_length"
   ]
  },
  {
   "cell_type": "code",
   "execution_count": null,
   "metadata": {},
   "outputs": [],
   "source": [
    "# 세상의 관점을 객체 관점으로 보자! 이게 객체지향."
   ]
  },
  {
   "cell_type": "code",
   "execution_count": null,
   "metadata": {},
   "outputs": [],
   "source": [
    "# 타입 보는 법"
   ]
  },
  {
   "cell_type": "code",
   "execution_count": 25,
   "metadata": {},
   "outputs": [
    {
     "data": {
      "text/plain": [
       "type"
      ]
     },
     "execution_count": 25,
     "metadata": {},
     "output_type": "execute_result"
    }
   ],
   "source": [
    "# super에 왜 ()? callable 하기 때문.\n",
    "# super() # super는 클래스. 클래스에 () 붙히면 인스턴스\n",
    "# () 붙힐 수 있는 것 3가지\n",
    "# 함수/메소드, 클래스, __init__\n",
    "type(super)"
   ]
  },
  {
   "cell_type": "code",
   "execution_count": null,
   "metadata": {},
   "outputs": [],
   "source": [
    "# 각각 고유의 역할을 하는 클래스가 있음\n",
    "# 왜 타입이 클래스인가? 파이썬 입장에서 받아들여야 함. 파이썬은 이렇게 만들어져 있기 때문에 그렇구나. 라는 느낌을 가져야 함.\n",
    "# 귀도 반 로썸도 참고한 게 있음 - 스몰톡\n",
    "# 그냥 파이썬 입장에서 이해하기"
   ]
  },
  {
   "cell_type": "code",
   "execution_count": 26,
   "metadata": {},
   "outputs": [
    {
     "name": "stdout",
     "output_type": "stream",
     "text": [
      "The Zen of Python, by Tim Peters\n",
      "\n",
      "Beautiful is better than ugly.\n",
      "Explicit is better than implicit.\n",
      "Simple is better than complex.\n",
      "Complex is better than complicated.\n",
      "Flat is better than nested.\n",
      "Sparse is better than dense.\n",
      "Readability counts.\n",
      "Special cases aren't special enough to break the rules.\n",
      "Although practicality beats purity.\n",
      "Errors should never pass silently.\n",
      "Unless explicitly silenced.\n",
      "In the face of ambiguity, refuse the temptation to guess.\n",
      "There should be one-- and preferably only one --obvious way to do it.\n",
      "Although that way may not be obvious at first unless you're Dutch.\n",
      "Now is better than never.\n",
      "Although never is often better than *right* now.\n",
      "If the implementation is hard to explain, it's a bad idea.\n",
      "If the implementation is easy to explain, it may be a good idea.\n",
      "Namespaces are one honking great idea -- let's do more of those!\n"
     ]
    }
   ],
   "source": [
    "import this"
   ]
  },
  {
   "cell_type": "code",
   "execution_count": null,
   "metadata": {},
   "outputs": [],
   "source": [
    "# type 을 쳤을 떄 이름이 나온다는 것은 => 그 타입(클래스)으로 만들어진 '값'이다 라는 것\n"
   ]
  },
  {
   "cell_type": "code",
   "execution_count": 27,
   "metadata": {},
   "outputs": [
    {
     "data": {
      "text/plain": [
       "float"
      ]
     },
     "execution_count": 27,
     "metadata": {},
     "output_type": "execute_result"
    }
   ],
   "source": [
    "a = 1.\n",
    "type(a)"
   ]
  },
  {
   "cell_type": "code",
   "execution_count": 28,
   "metadata": {},
   "outputs": [],
   "source": [
    "# 그런데 타입을 했는데 타입이 나오면?"
   ]
  },
  {
   "cell_type": "code",
   "execution_count": 29,
   "metadata": {},
   "outputs": [
    {
     "data": {
      "text/plain": [
       "type"
      ]
     },
     "execution_count": 29,
     "metadata": {},
     "output_type": "execute_result"
    }
   ],
   "source": [
    "type(float)  # 무조건 클래스!!!!!!!!!!!"
   ]
  },
  {
   "cell_type": "code",
   "execution_count": null,
   "metadata": {},
   "outputs": [],
   "source": [
    "# 그렇다면 그것은 클래스이다!!!\n",
    "# 타입 입장에서 클래스는 인스턴스\n",
    "# 메타클래스 -> type"
   ]
  },
  {
   "cell_type": "code",
   "execution_count": 30,
   "metadata": {},
   "outputs": [
    {
     "data": {
      "text/plain": [
       "type"
      ]
     },
     "execution_count": 30,
     "metadata": {},
     "output_type": "execute_result"
    }
   ],
   "source": [
    "type(type)"
   ]
  },
  {
   "cell_type": "code",
   "execution_count": null,
   "metadata": {},
   "outputs": [],
   "source": [
    "# 2번쨰 수업자료"
   ]
  },
  {
   "cell_type": "code",
   "execution_count": null,
   "metadata": {},
   "outputs": [],
   "source": [
    "# mutable 리턴 값은 3가지가 있음\n",
    "# 리턴은 none 이지만 자기자신 변하는 것\n",
    "# 리턴 있고 자기자신 변하는 것\n",
    "# 리턴 있고 자기자신 안 변하는 것"
   ]
  },
  {
   "cell_type": "code",
   "execution_count": null,
   "metadata": {},
   "outputs": [],
   "source": [
    "getattr\n",
    "hasattr\n",
    "isinstance"
   ]
  },
  {
   "cell_type": "code",
   "execution_count": 31,
   "metadata": {},
   "outputs": [],
   "source": [
    "a = 1"
   ]
  },
  {
   "cell_type": "code",
   "execution_count": 32,
   "metadata": {},
   "outputs": [
    {
     "data": {
      "text/plain": [
       "True"
      ]
     },
     "execution_count": 32,
     "metadata": {},
     "output_type": "execute_result"
    }
   ],
   "source": [
    "isinstance(a, int)\n",
    "# 이거는 issubclass() 와 비슷함 -> 누구한테 상속됐는지 확인하는 것"
   ]
  },
  {
   "cell_type": "code",
   "execution_count": 33,
   "metadata": {},
   "outputs": [
    {
     "data": {
      "text/plain": [
       "True"
      ]
     },
     "execution_count": 33,
     "metadata": {},
     "output_type": "execute_result"
    }
   ],
   "source": [
    "hasattr(a, 'bit_length') # a 한테 attribute(str으로 써줌) 를 갖고 있는지 물어봄"
   ]
  },
  {
   "cell_type": "code",
   "execution_count": 34,
   "metadata": {},
   "outputs": [],
   "source": [
    "a = input()\n",
    "# bit_length 주기"
   ]
  },
  {
   "cell_type": "code",
   "execution_count": 35,
   "metadata": {},
   "outputs": [],
   "source": [
    "b = 1"
   ]
  },
  {
   "cell_type": "code",
   "execution_count": 36,
   "metadata": {},
   "outputs": [
    {
     "data": {
      "text/plain": [
       "True"
      ]
     },
     "execution_count": 36,
     "metadata": {},
     "output_type": "execute_result"
    }
   ],
   "source": [
    "hasattr(b, a)\n",
    "# 사용자한테 문자열을 받아서 이상한 걸 시킬 수도 있음 -> 해킹할 수도 있음"
   ]
  },
  {
   "cell_type": "code",
   "execution_count": 16,
   "metadata": {},
   "outputs": [],
   "source": [
    "a = 1"
   ]
  },
  {
   "cell_type": "code",
   "execution_count": 18,
   "metadata": {},
   "outputs": [
    {
     "data": {
      "text/plain": [
       "<function int.bit_length()>"
      ]
     },
     "execution_count": 18,
     "metadata": {},
     "output_type": "execute_result"
    }
   ],
   "source": [
    "getattr(a, 'bit_length')"
   ]
  },
  {
   "cell_type": "code",
   "execution_count": 17,
   "metadata": {},
   "outputs": [
    {
     "data": {
      "text/plain": [
       "1"
      ]
     },
     "execution_count": 17,
     "metadata": {},
     "output_type": "execute_result"
    }
   ],
   "source": [
    "getattr(a, 'bit_length')() # a가 bit_length 를 실행시킨 것과 같음. 아래\n",
    "# 이 라인의 결과값 주목 -> 함수라서 () 붙힐 수 있다!!"
   ]
  },
  {
   "cell_type": "code",
   "execution_count": 39,
   "metadata": {},
   "outputs": [
    {
     "data": {
      "text/plain": [
       "1"
      ]
     },
     "execution_count": 39,
     "metadata": {},
     "output_type": "execute_result"
    }
   ],
   "source": [
    "a.bit_length()"
   ]
  },
  {
   "cell_type": "code",
   "execution_count": 19,
   "metadata": {},
   "outputs": [
    {
     "data": {
      "text/plain": [
       "<function int.bit_length()>"
      ]
     },
     "execution_count": 19,
     "metadata": {},
     "output_type": "execute_result"
    }
   ],
   "source": [
    "a.__getattribute__('bit_length')  # getattr 와 같음. 리턴은 function -> ()붙힐 수 있음"
   ]
  },
  {
   "cell_type": "code",
   "execution_count": 20,
   "metadata": {},
   "outputs": [
    {
     "data": {
      "text/plain": [
       "1"
      ]
     },
     "execution_count": 20,
     "metadata": {},
     "output_type": "execute_result"
    }
   ],
   "source": [
    "a.__getattribute__('bit_length')()"
   ]
  },
  {
   "cell_type": "code",
   "execution_count": null,
   "metadata": {},
   "outputs": [],
   "source": [
    "# 즉, 문자열로 메소드를 대치할 수 있다는 것.\n",
    "# getattr -> 있는지 없는지 먼저 실행 -> 있으면 실행해라  => 이 방법은 돌다리도 두드려보고 건너라는 테크닉\n",
    "# 왜 이걸 2번째 자료에서 알려줬을까?"
   ]
  },
  {
   "cell_type": "code",
   "execution_count": null,
   "metadata": {},
   "outputs": [],
   "source": [
    "# 버전 맞추는 테크닉"
   ]
  },
  {
   "cell_type": "code",
   "execution_count": null,
   "metadata": {},
   "outputs": [],
   "source": [
    "# !pip install numpy==1.4.3  이게 버전 써주는 것.\n",
    "# 제일 먼저 남이 만든 것 찾음 -> 오픈소스 활용\n",
    "# 상속을 했을 떄 제일 많이 뒤통수 맞는 것이 내가 모르는 사이에 부모들이 바뀌는 경우.\n",
    "# 이럴 때 컴포지션을 사용함"
   ]
  },
  {
   "cell_type": "code",
   "execution_count": 45,
   "metadata": {},
   "outputs": [],
   "source": [
    "class A:\n",
    "    x = 1\n",
    "    def xx(self):\n",
    "        print('xx')\n",
    "        \n",
    "    def yy(self):\n",
    "        print('xx')"
   ]
  },
  {
   "cell_type": "code",
   "execution_count": 46,
   "metadata": {},
   "outputs": [],
   "source": [
    "class B(A):\n",
    "    x = 2\n",
    "    y = 1\n",
    "    def xx(self):\n",
    "        super().xx()\n",
    "        print('yy')"
   ]
  },
  {
   "cell_type": "code",
   "execution_count": null,
   "metadata": {},
   "outputs": [],
   "source": [
    "class C:\n",
    "    x = 2\n",
    "    y = 1\n",
    "    def __init__(self):\n",
    "        self.a = A()    # composition pattern 의 기본\n",
    "        \n",
    "    def xx(self):\n",
    "        self.a.xx()\n",
    "        print('yy')\n",
    "        \n",
    "    def yy(self):\n",
    "        self.a.yy()\n",
    "        \n",
    "# 이렇게 하면 B 하고 완전 똑같음.\n",
    "# 그런데 A가 엄청나게 커버리면 일일이 다 적어줘야 함. B에서 super로 했던 것\n",
    "# 이를 해결하기 위해서,"
   ]
  },
  {
   "cell_type": "code",
   "execution_count": 47,
   "metadata": {},
   "outputs": [],
   "source": [
    "class C:\n",
    "    x = 2\n",
    "    y = 1\n",
    "    def __init__(self):\n",
    "        self.a = A()    # composition pattern 의 기본\n",
    "        \n",
    "    def __getattr__(self, x):\n",
    "        print('getattr')"
   ]
  },
  {
   "cell_type": "code",
   "execution_count": 48,
   "metadata": {},
   "outputs": [],
   "source": [
    "b = B()"
   ]
  },
  {
   "cell_type": "code",
   "execution_count": 49,
   "metadata": {},
   "outputs": [
    {
     "ename": "AttributeError",
     "evalue": "'B' object has no attribute 'a'",
     "output_type": "error",
     "traceback": [
      "\u001b[0;31m---------------------------------------------------------------------------\u001b[0m",
      "\u001b[0;31mAttributeError\u001b[0m                            Traceback (most recent call last)",
      "Cell \u001b[0;32mIn[49], line 1\u001b[0m\n\u001b[0;32m----> 1\u001b[0m b\u001b[39m.\u001b[39;49ma\n",
      "\u001b[0;31mAttributeError\u001b[0m: 'B' object has no attribute 'a'"
     ]
    }
   ],
   "source": [
    "b.a\n",
    "# attributeerror => attribute가 정의되지 않을 떄 에러\n",
    "# 부모에게도 없으니까 나타나는 에러임"
   ]
  },
  {
   "cell_type": "code",
   "execution_count": 50,
   "metadata": {},
   "outputs": [],
   "source": [
    "c = C()"
   ]
  },
  {
   "cell_type": "code",
   "execution_count": 51,
   "metadata": {},
   "outputs": [
    {
     "data": {
      "text/plain": [
       "2"
      ]
     },
     "execution_count": 51,
     "metadata": {},
     "output_type": "execute_result"
    }
   ],
   "source": [
    "c.x"
   ]
  },
  {
   "cell_type": "code",
   "execution_count": 52,
   "metadata": {},
   "outputs": [
    {
     "data": {
      "text/plain": [
       "1"
      ]
     },
     "execution_count": 52,
     "metadata": {},
     "output_type": "execute_result"
    }
   ],
   "source": [
    "c.y"
   ]
  },
  {
   "cell_type": "code",
   "execution_count": 53,
   "metadata": {},
   "outputs": [
    {
     "data": {
      "text/plain": [
       "<__main__.A at 0x7fb000237430>"
      ]
     },
     "execution_count": 53,
     "metadata": {},
     "output_type": "execute_result"
    }
   ],
   "source": [
    "c.a # 이건 A() -> 반환한 것이 A 클래스의 객체"
   ]
  },
  {
   "cell_type": "code",
   "execution_count": 54,
   "metadata": {},
   "outputs": [
    {
     "name": "stdout",
     "output_type": "stream",
     "text": [
      "getattr\n"
     ]
    }
   ],
   "source": [
    "c.b\n",
    "# 오잉? 이게 왜 나옴?\n",
    "# __getattr__ 은 실제 try, execpt 구문과 같음. 예외처리 구문"
   ]
  },
  {
   "cell_type": "code",
   "execution_count": 55,
   "metadata": {},
   "outputs": [
    {
     "name": "stdout",
     "output_type": "stream",
     "text": [
      "A\n"
     ]
    }
   ],
   "source": [
    "try:\n",
    "    {'a':1}['b']  # keyerror 남\n",
    "except:\n",
    "    print('A')"
   ]
  },
  {
   "cell_type": "code",
   "execution_count": 58,
   "metadata": {},
   "outputs": [
    {
     "name": "stdout",
     "output_type": "stream",
     "text": [
      "A\n"
     ]
    }
   ],
   "source": [
    "try:\n",
    "    {'a':1}['b'] \n",
    "except:\n",
    "    print('A')\n",
    "else:\n",
    "    print('B')"
   ]
  },
  {
   "cell_type": "code",
   "execution_count": 59,
   "metadata": {},
   "outputs": [],
   "source": [
    "# except 여기서는 여러가지 에러를 처리할 수 있음\n",
    "# 위는 KeyError가 났음"
   ]
  },
  {
   "cell_type": "code",
   "execution_count": 60,
   "metadata": {},
   "outputs": [
    {
     "name": "stdout",
     "output_type": "stream",
     "text": [
      "A\n"
     ]
    }
   ],
   "source": [
    "try:\n",
    "    {'a':1}['b'] \n",
    "except KeyError:\n",
    "    print('A')\n",
    "except NameError:\n",
    "    print('B')\n",
    "else:\n",
    "    print('c')\n",
    "    \n",
    "# 즉 에러메시지 마다 행동 다르게 가능"
   ]
  },
  {
   "cell_type": "code",
   "execution_count": null,
   "metadata": {},
   "outputs": [
    {
     "name": "stdout",
     "output_type": "stream",
     "text": [
      "A\n"
     ]
    }
   ],
   "source": [
    "try:\n",
    "    {'a':1}['b'] \n",
    "except KeyError:\n",
    "    print('A')\n",
    "except NameError:\n",
    "    print('B')\n",
    "except:   # 이것은 위 두개 말고 그밖의 모든 에러\n",
    "    print('ALL')\n",
    "else:\n",
    "    print('c')\n",
    "    \n",
    "# 즉 에러메시지 마다 행동 다르게 가능"
   ]
  },
  {
   "cell_type": "code",
   "execution_count": 61,
   "metadata": {},
   "outputs": [
    {
     "ename": "SyntaxError",
     "evalue": "default 'except:' must be last (315861651.py, line 3)",
     "output_type": "error",
     "traceback": [
      "\u001b[0;36m  Cell \u001b[0;32mIn[61], line 3\u001b[0;36m\u001b[0m\n\u001b[0;31m    except:\u001b[0m\n\u001b[0m    ^\u001b[0m\n\u001b[0;31mSyntaxError\u001b[0m\u001b[0;31m:\u001b[0m default 'except:' must be last\n"
     ]
    }
   ],
   "source": [
    "try:\n",
    "    {'a':1}['b']\n",
    "except:\n",
    "    print('ALL') \n",
    "except KeyError:\n",
    "    print('A')\n",
    "except NameError:\n",
    "    print('B')\n",
    "else:\n",
    "    print('c')\n",
    "    \n",
    "# ALL 은 디폴트처럼 맨 뒤로 쓰여야 함."
   ]
  },
  {
   "cell_type": "code",
   "execution_count": 62,
   "metadata": {},
   "outputs": [
    {
     "name": "stdout",
     "output_type": "stream",
     "text": [
      "'b'\n"
     ]
    }
   ],
   "source": [
    "# 여기서 세번째 as 쓰임\n",
    "try:\n",
    "    {'a':1}['b']\n",
    "except Exception as e:\n",
    "    print(e)  \n",
    "else:\n",
    "    print('c')\n",
    "    \n",
    "    \n",
    "# b 가 왜 튀어나왔지..?\n",
    "# 어디서 에러가 났는지를 알려줌 => b 가 문제였음을 알려줌"
   ]
  },
  {
   "cell_type": "code",
   "execution_count": 64,
   "metadata": {},
   "outputs": [
    {
     "name": "stdout",
     "output_type": "stream",
     "text": [
      "division by zero\n"
     ]
    }
   ],
   "source": [
    "# 여기서 세번째 as 쓰임\n",
    "try:\n",
    "    1/0\n",
    "except Exception as e:\n",
    "    print(e)  \n",
    "else:\n",
    "    print('c')\n",
    "    \n",
    "    \n",
    "# b 가 왜 튀어나왔지..?\n",
    "# 어디서 에러가 났는지를 알려줌\n",
    "# 즉 에러의 원인을 알려줌"
   ]
  },
  {
   "cell_type": "code",
   "execution_count": 65,
   "metadata": {},
   "outputs": [
    {
     "name": "stdout",
     "output_type": "stream",
     "text": [
      "<class 'Exception'>\n"
     ]
    }
   ],
   "source": [
    "# 여기서 세번째 as 쓰임\n",
    "try:\n",
    "    1/0\n",
    "except Exception:\n",
    "    print(Exception)  \n",
    "else:\n",
    "    print('c')\n",
    "    \n",
    "# class 나옴 -> 그러나 Exception에 () 할 수 없음. 이거는 특별 구문\n",
    "# 이 as e 로 에러의 원인을 알 수 있음.\n",
    "# 그래서 맨 끝에 디폴트에 이 구문을 쓰면 좋음\n",
    "# 코딩할 때 힘들 때 쓰면 좋음"
   ]
  },
  {
   "cell_type": "code",
   "execution_count": null,
   "metadata": {},
   "outputs": [],
   "source": [
    "# 다시 __gatattr__ 은,\n",
    "# attribute error 가 나면(내부적으로 try, except에 정의됨) getattr 이 나오게 정의한 것"
   ]
  },
  {
   "cell_type": "code",
   "execution_count": 3,
   "metadata": {},
   "outputs": [],
   "source": [
    "class A:\n",
    "    x = 1\n",
    "    def xx(self):\n",
    "        print('xx')\n",
    "        \n",
    "    def yy(self):\n",
    "        print('xx')"
   ]
  },
  {
   "cell_type": "code",
   "execution_count": 12,
   "metadata": {},
   "outputs": [],
   "source": [
    "class C:\n",
    "    def __init__(self):\n",
    "        self.a = A()    # composition pattern 의 기본\n",
    "        \n",
    "    def __getattr__(self, x):   # attribute error 가 나오면 실행됨\n",
    "        return getattr(self.a, x)"
   ]
  },
  {
   "cell_type": "code",
   "execution_count": 13,
   "metadata": {},
   "outputs": [],
   "source": [
    "c = C()"
   ]
  },
  {
   "cell_type": "code",
   "execution_count": 14,
   "metadata": {},
   "outputs": [
    {
     "data": {
      "text/plain": [
       "1"
      ]
     },
     "execution_count": 14,
     "metadata": {},
     "output_type": "execute_result"
    }
   ],
   "source": [
    "c.x # 위에서는 없음\n",
    "# 그러나 입력 순간 attribute error 가 실행되고,\n",
    "# 그 때 C에 없으면 self.a 에 getattr하게 함.\n",
    "# 즉 이 식은 A의 것을 실행시키게 함. self.a = A() 이기 떄문\n",
    "# 이것을 이용하면 상속 대신에 쓸 수 있음\n",
    "# 분명 상속은 안했는데 상속처럼 composition 된 것.\n",
    "# 복잡한 상속체계 알 필요가 없음.\n",
    "# 이것은 __getattr__ 만 알면 deligation을 할 수 있음\n",
    "# 즉 에러가 나면 self.a 에 가서 x가 있는지 물어보고 없으면 에러나고 있으면 그거 실행\n",
    "# 내부적으로 deligation 쓴 것이지만 상속과 거진 비슷함"
   ]
  },
  {
   "cell_type": "code",
   "execution_count": 72,
   "metadata": {},
   "outputs": [],
   "source": [
    "# 위임\n",
    "# 내가 못하면 남한테 시키는 것\n",
    "# 파이썬의 상속은 부모에게 물려받는게 아니라,\n",
    "# 내가 없으면 부모한테 시키는 것이 파이썬의 상속. 그리고 그것이 바로 위임(deligation)\n",
    "# 필요한 기능이 다른 클래스에서 그 기능을 제공하고 있다면 새로만들 필요 없이 그 기능이 포함된 객체에게 대신 기능을 수행하라 하는 것.\n",
    "# composition - 남의 클래스의 인스턴스를 내 안에 포함시키는 것. 그 포함시키는 이유는 위임시키기 위해서. 별도로 위임시킬 수 있지만\n",
    "#               내 인스턴스 메소드로 위임. 즉 내 인스턴스가 쓰기 위해\n",
    "# deligation - 위임. 컴포지션과 다름"
   ]
  },
  {
   "cell_type": "code",
   "execution_count": null,
   "metadata": {},
   "outputs": [],
   "source": [
    "# 컴포지션은 내 안에 다 소유하는 것. 그래서 A owns B 이라고 함\n",
    "# Aggregation 은 B is part of A 부분이다!"
   ]
  },
  {
   "cell_type": "code",
   "execution_count": null,
   "metadata": {},
   "outputs": [],
   "source": [
    "# 즉 전체 상속 피하고 싶을 때 이 컴포지션 사용할 수 있다."
   ]
  },
  {
   "cell_type": "markdown",
   "metadata": {},
   "source": [
    "##### 질문"
   ]
  },
  {
   "cell_type": "code",
   "execution_count": null,
   "metadata": {},
   "outputs": [],
   "source": [
    "# 메소드 안에 정의된 변수의 특징은, 이름이 같으면 서로 공유된다는 것  -> 상속에서만 해당?"
   ]
  }
 ],
 "metadata": {
  "kernelspec": {
   "display_name": "Python 3 (ipykernel)",
   "language": "python",
   "name": "python3"
  },
  "language_info": {
   "codemirror_mode": {
    "name": "ipython",
    "version": 3
   },
   "file_extension": ".py",
   "mimetype": "text/x-python",
   "name": "python",
   "nbconvert_exporter": "python",
   "pygments_lexer": "ipython3",
   "version": "3.10.9"
  },
  "toc": {
   "base_numbering": 1,
   "nav_menu": {},
   "number_sections": true,
   "sideBar": true,
   "skip_h1_title": false,
   "title_cell": "Table of Contents",
   "title_sidebar": "Contents",
   "toc_cell": false,
   "toc_position": {},
   "toc_section_display": true,
   "toc_window_display": false
  },
  "varInspector": {
   "cols": {
    "lenName": 16,
    "lenType": 16,
    "lenVar": 40
   },
   "kernels_config": {
    "python": {
     "delete_cmd_postfix": "",
     "delete_cmd_prefix": "del ",
     "library": "var_list.py",
     "varRefreshCmd": "print(var_dic_list())"
    },
    "r": {
     "delete_cmd_postfix": ") ",
     "delete_cmd_prefix": "rm(",
     "library": "var_list.r",
     "varRefreshCmd": "cat(var_dic_list()) "
    }
   },
   "types_to_exclude": [
    "module",
    "function",
    "builtin_function_or_method",
    "instance",
    "_Feature"
   ],
   "window_display": false
  }
 },
 "nbformat": 4,
 "nbformat_minor": 2
}
