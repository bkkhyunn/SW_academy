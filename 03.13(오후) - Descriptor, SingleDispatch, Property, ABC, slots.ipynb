{
 "cells": [
  {
   "cell_type": "markdown",
   "metadata": {},
   "source": [
    "컴포지션을 descripter 로 사용하는 테크닉 활용"
   ]
  },
  {
   "cell_type": "code",
   "execution_count": null,
   "metadata": {},
   "outputs": [],
   "source": [
    "# 컴포지션 방식으로 만드는 또 다른 중요한 기법은 descriptor.\n",
    "# 디스크립터를 보자"
   ]
  },
  {
   "cell_type": "code",
   "execution_count": null,
   "metadata": {},
   "outputs": [],
   "source": [
    "# 내 클래스 안에 남의 클래스를 인스턴스해서 사용하는 것이 composition\n",
    "# __get__, __set__, __delete__ 가 정의된 클래스에 객체를 집어넣으면(인스턴스를 만들면)(컴포지션하면) 디스크립터가 됨.\n",
    "# 디스크립터 만드는 법 3가지"
   ]
  },
  {
   "cell_type": "code",
   "execution_count": 1,
   "metadata": {
    "ExecuteTime": {
     "end_time": "2023-03-14T04:20:08.160179Z",
     "start_time": "2023-03-14T04:20:08.146880Z"
    }
   },
   "outputs": [],
   "source": [
    "class Descriptor:  # object 안써도 됨. 파이썬은 기본적으로 상속받기 때문\n",
    "    def __init__(self):\n",
    "        self._name = ''   # _ -> 내부적으로만 사용할 것. import해서 사용하지 않겠다.\n",
    "        \n",
    "    def __get__(self, instance, owner):\n",
    "        print(\"Getting: %s\" % self._name)\n",
    "        return self._name\n",
    "    \n",
    "    def __set__(self, instance, name):\n",
    "        print(\"Setting: %s\" % name)\n",
    "        self._name = name\n",
    "        \n",
    "    def __delete__(self, instance):\n",
    "        print(\"Deleting: %s\" %self._name)\n",
    "        del self._name\n",
    "        \n",
    "        \n",
    "        \n",
    "class Person:\n",
    "    name = Descriptor()   # 컴포지션 -> 디스크립터"
   ]
  },
  {
   "cell_type": "code",
   "execution_count": 2,
   "metadata": {
    "ExecuteTime": {
     "end_time": "2023-03-14T04:20:09.725043Z",
     "start_time": "2023-03-14T04:20:09.713844Z"
    }
   },
   "outputs": [],
   "source": [
    "p = Person()"
   ]
  },
  {
   "cell_type": "code",
   "execution_count": 3,
   "metadata": {
    "ExecuteTime": {
     "end_time": "2023-03-14T04:20:53.447825Z",
     "start_time": "2023-03-14T04:20:53.431631Z"
    }
   },
   "outputs": [
    {
     "name": "stdout",
     "output_type": "stream",
     "text": [
      "Getting: \n"
     ]
    },
    {
     "data": {
      "text/plain": [
       "''"
      ]
     },
     "execution_count": 3,
     "metadata": {},
     "output_type": "execute_result"
    }
   ],
   "source": [
    "# name 은 클래스 변수\n",
    "p.name   # 인스턴스에 없기 때문에 클래스를 찾음.\n",
    "# __get__ 가 시작함."
   ]
  },
  {
   "cell_type": "code",
   "execution_count": 4,
   "metadata": {
    "ExecuteTime": {
     "end_time": "2023-03-14T04:21:02.615719Z",
     "start_time": "2023-03-14T04:21:02.610192Z"
    }
   },
   "outputs": [
    {
     "name": "stdout",
     "output_type": "stream",
     "text": [
      "Setting: 3\n"
     ]
    }
   ],
   "source": [
    "p.name = 3  # set이 실행됨"
   ]
  },
  {
   "cell_type": "code",
   "execution_count": null,
   "metadata": {},
   "outputs": [],
   "source": [
    "# 디스크립터는 __get__, __set__, __delete__ 를 가지고 있는 애"
   ]
  },
  {
   "cell_type": "code",
   "execution_count": 1,
   "metadata": {
    "ExecuteTime": {
     "end_time": "2023-03-25T12:07:25.385570Z",
     "start_time": "2023-03-25T12:07:24.996271Z"
    }
   },
   "outputs": [
    {
     "ename": "TypeError",
     "evalue": "'function' object is not iterable",
     "output_type": "error",
     "traceback": [
      "\u001b[0;31m---------------------------------------------------------------------------\u001b[0m",
      "\u001b[0;31mTypeError\u001b[0m                                 Traceback (most recent call last)",
      "Cell \u001b[0;32mIn[1], line 1\u001b[0m\n\u001b[0;32m----> 1\u001b[0m \u001b[38;5;28;01mclass\u001b[39;00m \u001b[38;5;21;01mA\u001b[39;00m:\n\u001b[1;32m      2\u001b[0m     \u001b[38;5;28;01mdef\u001b[39;00m \u001b[38;5;21m__slots__\u001b[39m(\u001b[38;5;28mself\u001b[39m):\n\u001b[1;32m      3\u001b[0m         \u001b[38;5;28;01mreturn\u001b[39;00m [\u001b[38;5;124m'\u001b[39m\u001b[38;5;124ma\u001b[39m\u001b[38;5;124m'\u001b[39m, \u001b[38;5;124m'\u001b[39m\u001b[38;5;124mb\u001b[39m\u001b[38;5;124m'\u001b[39m]\n",
      "\u001b[0;31mTypeError\u001b[0m: 'function' object is not iterable"
     ]
    }
   ],
   "source": [
    "class A:\n",
    "    def __slots__(self):\n",
    "        return ['a', 'b']\n",
    "    \n",
    "# def __slots__ 는 관점에 따라 다름. 클래스 입장에서는 함수, 인스턴스 입장에서는 메소드"
   ]
  },
  {
   "cell_type": "code",
   "execution_count": 2,
   "metadata": {
    "ExecuteTime": {
     "end_time": "2023-03-25T12:07:26.453973Z",
     "start_time": "2023-03-25T12:07:26.428361Z"
    }
   },
   "outputs": [
    {
     "ename": "TypeError",
     "evalue": "'function' object is not iterable",
     "output_type": "error",
     "traceback": [
      "\u001b[0;31m---------------------------------------------------------------------------\u001b[0m",
      "\u001b[0;31mTypeError\u001b[0m                                 Traceback (most recent call last)",
      "Cell \u001b[0;32mIn[2], line 1\u001b[0m\n\u001b[0;32m----> 1\u001b[0m \u001b[38;5;28;01mclass\u001b[39;00m \u001b[38;5;21;01mA\u001b[39;00m:\n\u001b[1;32m      2\u001b[0m     \u001b[38;5;28;01mdef\u001b[39;00m \u001b[38;5;21m__slots__\u001b[39m(\u001b[38;5;28mself\u001b[39m):  \u001b[38;5;66;03m# 내가 가질 수 있는 인스턴스 변수의 풀을 지정할 수 있음. 자유로움을 막아버림\u001b[39;00m\n\u001b[1;32m      3\u001b[0m         \u001b[38;5;28mprint\u001b[39m(\u001b[38;5;124m'\u001b[39m\u001b[38;5;124ma\u001b[39m\u001b[38;5;124m'\u001b[39m)\n",
      "\u001b[0;31mTypeError\u001b[0m: 'function' object is not iterable"
     ]
    }
   ],
   "source": [
    "class A:\n",
    "    def __slots__(self):  # 내가 가질 수 있는 인스턴스 변수의 풀을 지정할 수 있음. 자유로움을 막아버림\n",
    "        print('a')\n",
    "    \n",
    "# def __slots__ 는 관점에 따라 다름. 클래스 입장에서는 함수, 인스턴스 입장에서는 메소드"
   ]
  },
  {
   "cell_type": "code",
   "execution_count": 11,
   "metadata": {},
   "outputs": [],
   "source": [
    "class Descriptor:  # object 안써도 됨. 파이썬은 기본적으로 상속받기 때문\n",
    "    def __init__(self):\n",
    "        self._name = ''   # _ -> 내부적으로만 사용할 것. import해서 사용하지 않겠다.\n",
    "        \n",
    "    def __get__(self, instance, owner):\n",
    "        print(\"Getting: %s\" % self._name)\n",
    "        return self._name\n",
    "    \n",
    "    def __set__(self, instance, name):\n",
    "        print(\"Setting: %s\" % name)\n",
    "#        self._name = name\n",
    "        \n",
    "    def __delete__(self, instance):\n",
    "        print(\"Deleting: %s\" %self._name)\n",
    "        del self._name\n",
    "        \n",
    "        \n",
    "        \n",
    "class Person:\n",
    "    name = Descriptor()   # 컴포지션 -> 디스크립터"
   ]
  },
  {
   "cell_type": "code",
   "execution_count": 12,
   "metadata": {},
   "outputs": [
    {
     "name": "stdout",
     "output_type": "stream",
     "text": [
      "Setting: 3\n"
     ]
    }
   ],
   "source": [
    "p.name = 3"
   ]
  },
  {
   "cell_type": "code",
   "execution_count": 13,
   "metadata": {},
   "outputs": [
    {
     "name": "stdout",
     "output_type": "stream",
     "text": [
      "Getting: 3\n"
     ]
    },
    {
     "data": {
      "text/plain": [
       "3"
      ]
     },
     "execution_count": 13,
     "metadata": {},
     "output_type": "execute_result"
    }
   ],
   "source": [
    "p.name"
   ]
  },
  {
   "cell_type": "code",
   "execution_count": null,
   "metadata": {},
   "outputs": [],
   "source": [
    "# 파이썬은 원칙적으로 상수가 없기 때문에 내가 값을 주고 받는 것을 제약해버리는 것이 디스크립터의 역할.\n",
    "# 내가 죽도록 값을 바꾸려 했는데 값이 안바뀌는 것은 내부적으로 디스크립터\n",
    "# 실제 값은 _name 에 저장되어 있는데 우리는 name으로 접근. 이런 것을 정보은닉 이라고 함.\n",
    "# 실제 _name에 적혀 있음."
   ]
  },
  {
   "cell_type": "code",
   "execution_count": 14,
   "metadata": {},
   "outputs": [
    {
     "ename": "AttributeError",
     "evalue": "'Person' object has no attribute '_name'",
     "output_type": "error",
     "traceback": [
      "\u001b[0;31m---------------------------------------------------------------------------\u001b[0m",
      "\u001b[0;31mAttributeError\u001b[0m                            Traceback (most recent call last)",
      "Cell \u001b[0;32mIn[14], line 1\u001b[0m\n\u001b[0;32m----> 1\u001b[0m p\u001b[39m.\u001b[39;49m_name\n",
      "\u001b[0;31mAttributeError\u001b[0m: 'Person' object has no attribute '_name'"
     ]
    }
   ],
   "source": [
    "p._name  # p 관점에서는 _name이 없음. 그런데 p 관점에서는 name이 클래스 변수인데 실제 보면 _name이 인스턴스 변수의 값을 가짐."
   ]
  },
  {
   "cell_type": "code",
   "execution_count": 7,
   "metadata": {
    "ExecuteTime": {
     "end_time": "2023-03-14T04:34:17.594630Z",
     "start_time": "2023-03-14T04:34:17.582204Z"
    }
   },
   "outputs": [],
   "source": [
    "class B:\n",
    "    def __init__(self, x):\n",
    "        self._x = x\n",
    "        \n",
    "    @property   # 아래와 함수 이름이 같아서 뒤의 것이 뒤엎어야 하지만(함수 오버로딩 지원x) '@' 가 있으면 아님\n",
    "    def x(self):\n",
    "        print('get')\n",
    "        return self._x\n",
    "    \n",
    "    @x.setter\n",
    "    def x(self, x):\n",
    "        print('set')\n",
    "        self._x = x"
   ]
  },
  {
   "cell_type": "code",
   "execution_count": 8,
   "metadata": {
    "ExecuteTime": {
     "end_time": "2023-03-14T04:34:20.139075Z",
     "start_time": "2023-03-14T04:34:20.128360Z"
    }
   },
   "outputs": [],
   "source": [
    "b = B(4)"
   ]
  },
  {
   "cell_type": "code",
   "execution_count": 9,
   "metadata": {
    "ExecuteTime": {
     "end_time": "2023-03-14T04:34:21.946862Z",
     "start_time": "2023-03-14T04:34:21.935781Z"
    }
   },
   "outputs": [
    {
     "name": "stdout",
     "output_type": "stream",
     "text": [
      "get\n"
     ]
    },
    {
     "data": {
      "text/plain": [
       "4"
      ]
     },
     "execution_count": 9,
     "metadata": {},
     "output_type": "execute_result"
    }
   ],
   "source": [
    "b.x"
   ]
  },
  {
   "cell_type": "code",
   "execution_count": 10,
   "metadata": {
    "ExecuteTime": {
     "end_time": "2023-03-14T04:34:23.876193Z",
     "start_time": "2023-03-14T04:34:23.866315Z"
    }
   },
   "outputs": [
    {
     "name": "stdout",
     "output_type": "stream",
     "text": [
      "set\n"
     ]
    }
   ],
   "source": [
    "b.x = 3"
   ]
  },
  {
   "cell_type": "code",
   "execution_count": 11,
   "metadata": {
    "ExecuteTime": {
     "end_time": "2023-03-14T04:34:26.545857Z",
     "start_time": "2023-03-14T04:34:26.533590Z"
    }
   },
   "outputs": [
    {
     "name": "stdout",
     "output_type": "stream",
     "text": [
      "get\n"
     ]
    },
    {
     "data": {
      "text/plain": [
       "3"
      ]
     },
     "execution_count": 11,
     "metadata": {},
     "output_type": "execute_result"
    }
   ],
   "source": [
    "b.x\n",
    "\n",
    "# 실제 x라는 변수는 없는데 접근은 x라고 하고 _x에 정보를 은닉하는 것."
   ]
  },
  {
   "cell_type": "code",
   "execution_count": null,
   "metadata": {},
   "outputs": [],
   "source": [
    "# 디스크립터는 정보은닉의 목적.\n",
    "# 잘못된 값일 수도 있는 것을 set이 있는 파트에 검증(validation)하는 것.\n",
    "# set 이 있는 것에서 값이 들어오면 내부적으로 디스크립터가 실행되어 무결성을 보장하는 것."
   ]
  },
  {
   "cell_type": "code",
   "execution_count": null,
   "metadata": {},
   "outputs": [],
   "source": [
    "# 값을 둘 때 값에 무슨 에러가 나는데요! 하면 디스크립터를 써서 만들어낸 것."
   ]
  },
  {
   "cell_type": "code",
   "execution_count": 12,
   "metadata": {
    "ExecuteTime": {
     "end_time": "2023-03-14T04:36:03.885952Z",
     "start_time": "2023-03-14T04:36:03.876169Z"
    }
   },
   "outputs": [],
   "source": [
    "class B:\n",
    "    def __init__(self, x):\n",
    "        self._x = x\n",
    "        \n",
    "    @property   # 아래와 함수 이름이 같아서 뒤의 것이 뒤엎어야 하지만 @ 가 있으면 아님\n",
    "    def x(self):\n",
    "        print('get')\n",
    "        return self._x\n",
    "    \n",
    "    @x.setter\n",
    "    def x(self, x):\n",
    "        assert x==3  # 참인지 거짓인지 체크해서 거짓이면 에러발생하게 함. 에러가 나면 그 밑에 있는 코드 실행 안돼서.\n",
    "        print('set')\n",
    "        self._x = x"
   ]
  },
  {
   "cell_type": "code",
   "execution_count": 13,
   "metadata": {
    "ExecuteTime": {
     "end_time": "2023-03-14T04:36:05.340732Z",
     "start_time": "2023-03-14T04:36:05.334196Z"
    }
   },
   "outputs": [],
   "source": [
    "b=B(4)"
   ]
  },
  {
   "cell_type": "code",
   "execution_count": 14,
   "metadata": {
    "ExecuteTime": {
     "end_time": "2023-03-14T04:36:20.420166Z",
     "start_time": "2023-03-14T04:36:20.408078Z"
    }
   },
   "outputs": [
    {
     "name": "stdout",
     "output_type": "stream",
     "text": [
      "get\n"
     ]
    },
    {
     "data": {
      "text/plain": [
       "4"
      ]
     },
     "execution_count": 14,
     "metadata": {},
     "output_type": "execute_result"
    }
   ],
   "source": [
    "b.x"
   ]
  },
  {
   "cell_type": "code",
   "execution_count": 15,
   "metadata": {
    "ExecuteTime": {
     "end_time": "2023-03-14T04:36:22.290565Z",
     "start_time": "2023-03-14T04:36:22.257630Z"
    }
   },
   "outputs": [
    {
     "ename": "AssertionError",
     "evalue": "",
     "output_type": "error",
     "traceback": [
      "\u001b[0;31m---------------------------------------------------------------------------\u001b[0m",
      "\u001b[0;31mAssertionError\u001b[0m                            Traceback (most recent call last)",
      "Cell \u001b[0;32mIn[15], line 1\u001b[0m\n\u001b[0;32m----> 1\u001b[0m b\u001b[38;5;241m.\u001b[39mx \u001b[38;5;241m=\u001b[39m \u001b[38;5;241m4\u001b[39m\n",
      "Cell \u001b[0;32mIn[12], line 12\u001b[0m, in \u001b[0;36mB.x\u001b[0;34m(self, x)\u001b[0m\n\u001b[1;32m     10\u001b[0m \u001b[38;5;129m@x\u001b[39m\u001b[38;5;241m.\u001b[39msetter\n\u001b[1;32m     11\u001b[0m \u001b[38;5;28;01mdef\u001b[39;00m \u001b[38;5;21mx\u001b[39m(\u001b[38;5;28mself\u001b[39m, x):\n\u001b[0;32m---> 12\u001b[0m     \u001b[38;5;28;01massert\u001b[39;00m x\u001b[38;5;241m==\u001b[39m\u001b[38;5;241m3\u001b[39m  \u001b[38;5;66;03m# 참인지 거짓인지 체크해서 거짓이면 에러발생하게 함. 에러가 나면 그 밑에 있는 코드 실행 안돼서.\u001b[39;00m\n\u001b[1;32m     13\u001b[0m     \u001b[38;5;28mprint\u001b[39m(\u001b[38;5;124m'\u001b[39m\u001b[38;5;124mset\u001b[39m\u001b[38;5;124m'\u001b[39m)\n\u001b[1;32m     14\u001b[0m     \u001b[38;5;28mself\u001b[39m\u001b[38;5;241m.\u001b[39m_x \u001b[38;5;241m=\u001b[39m x\n",
      "\u001b[0;31mAssertionError\u001b[0m: "
     ]
    }
   ],
   "source": [
    "b.x = 4"
   ]
  },
  {
   "cell_type": "code",
   "execution_count": null,
   "metadata": {},
   "outputs": [],
   "source": [
    "# 디스크립터 처럼 어떤 값이 들어올 때 우아하게 막는 방법은 없다."
   ]
  },
  {
   "cell_type": "code",
   "execution_count": null,
   "metadata": {},
   "outputs": [],
   "source": [
    "# 만드는 방법 세번째\n",
    "property  # 클래스. 밑에 subclass 에 abstrackproperty(객체지향의 4가지 특징 중 추상화와 관련)"
   ]
  },
  {
   "cell_type": "code",
   "execution_count": 16,
   "metadata": {
    "ExecuteTime": {
     "end_time": "2023-03-14T04:37:23.558218Z",
     "start_time": "2023-03-14T04:37:23.546806Z"
    }
   },
   "outputs": [],
   "source": [
    "class C:\n",
    "    def g(self):\n",
    "        print('g')\n",
    "        \n",
    "    def s(self,x):\n",
    "        print('s')\n",
    "        \n",
    "    def d(self):\n",
    "        print('d')\n",
    "    x = property(g,s,d)  # 함수 집어넣으라고 함. f~~ 하면 함수\n",
    "    "
   ]
  },
  {
   "cell_type": "code",
   "execution_count": 17,
   "metadata": {
    "ExecuteTime": {
     "end_time": "2023-03-14T04:37:25.515301Z",
     "start_time": "2023-03-14T04:37:25.506185Z"
    }
   },
   "outputs": [],
   "source": [
    "c = C()"
   ]
  },
  {
   "cell_type": "code",
   "execution_count": 18,
   "metadata": {
    "ExecuteTime": {
     "end_time": "2023-03-14T04:37:29.798871Z",
     "start_time": "2023-03-14T04:37:29.790978Z"
    }
   },
   "outputs": [
    {
     "name": "stdout",
     "output_type": "stream",
     "text": [
      "g\n"
     ]
    }
   ],
   "source": [
    "c.x  # get"
   ]
  },
  {
   "cell_type": "code",
   "execution_count": 19,
   "metadata": {
    "ExecuteTime": {
     "end_time": "2023-03-14T04:37:36.541410Z",
     "start_time": "2023-03-14T04:37:36.531136Z"
    }
   },
   "outputs": [
    {
     "name": "stdout",
     "output_type": "stream",
     "text": [
      "s\n"
     ]
    }
   ],
   "source": [
    "c.x = 3  # set"
   ]
  },
  {
   "cell_type": "code",
   "execution_count": null,
   "metadata": {},
   "outputs": [],
   "source": [
    "# 프로퍼티를 만드는 방법은 3가지.\n",
    "# 1. \n",
    "\n",
    "# 컴포지션으로 프로퍼티 만드는 방식 첫번째\n",
    "# 1. 함수형 패러다임에서 만드는 방법"
   ]
  },
  {
   "cell_type": "markdown",
   "metadata": {},
   "source": [
    "### 다형성"
   ]
  },
  {
   "cell_type": "code",
   "execution_count": null,
   "metadata": {},
   "outputs": [],
   "source": [
    "# 다형성을 이해하기 위해서는 파이썬은 함수 오버로딩 지원 안한다는 점을 기억해야 함.\n",
    "# C 언어, 옛날 다형성이 없던 시절에는 이름 똑같은 애들이 존재할 수 없었음. 지금도 파이썬 이름 똑같은 애들 존재할 수 없음.\n",
    "# 그래서 똑같은 애인데 주체가 다르면 이름이 무조건 달랐어야 함. get_a, get_b, get_c\n",
    "# 똑같은 값을 줘라 인데 다형성이 존재하지 않으면 이름이 다 달라야 함.\n",
    "# 교재에서 같은 메시지란 함수 또는 메소드를 뜻함\n",
    "# 다형성을 지원하지만 기본적으로 이름이 같으면 뒤엎어버림"
   ]
  },
  {
   "cell_type": "markdown",
   "metadata": {},
   "source": [
    "#### history\n",
    "\n",
    "- 이름이 같은 애들은 서로 존재할 수 없음(파이썬도 마찬가지)\n",
    "- 이름을 다르게 하니까 규모가 너무 커짐. 똑같은 행동을 하는데 이름이 다 다르니까.\n",
    "- 그래서 다형성의 개념은 같은 이름을 쓸 수 있음. 그러나 조건은, 다른 객체\n",
    "- 객체가 다르면 이름 같은 것 쓸 수 있음. 그러면 애들이 비슷한 결과값을 가질 수 있음"
   ]
  },
  {
   "cell_type": "code",
   "execution_count": 30,
   "metadata": {
    "collapsed": true
   },
   "outputs": [
    {
     "name": "stdout",
     "output_type": "stream",
     "text": [
      "Collecting seaborn\n",
      "  Downloading seaborn-0.12.2-py3-none-any.whl (293 kB)\n",
      "\u001b[2K     \u001b[90m━━━━━━━━━━━━━━━━━━━━━━━━━━━━━━━━━━━━━━━\u001b[0m \u001b[32m293.3/293.3 kB\u001b[0m \u001b[31m3.9 MB/s\u001b[0m eta \u001b[36m0:00:00\u001b[0ma \u001b[36m0:00:01\u001b[0m\n",
      "\u001b[?25hRequirement already satisfied: numpy!=1.24.0,>=1.17 in /Users/baekkwanghyun/miniconda3/lib/python3.10/site-packages (from seaborn) (1.24.2)\n",
      "Requirement already satisfied: pandas>=0.25 in /Users/baekkwanghyun/miniconda3/lib/python3.10/site-packages (from seaborn) (1.5.3)\n",
      "Requirement already satisfied: matplotlib!=3.6.1,>=3.1 in /Users/baekkwanghyun/miniconda3/lib/python3.10/site-packages (from seaborn) (3.7.0)\n",
      "Requirement already satisfied: packaging>=20.0 in /Users/baekkwanghyun/miniconda3/lib/python3.10/site-packages (from matplotlib!=3.6.1,>=3.1->seaborn) (22.0)\n",
      "Requirement already satisfied: pyparsing>=2.3.1 in /Users/baekkwanghyun/miniconda3/lib/python3.10/site-packages (from matplotlib!=3.6.1,>=3.1->seaborn) (3.0.9)\n",
      "Requirement already satisfied: python-dateutil>=2.7 in /Users/baekkwanghyun/miniconda3/lib/python3.10/site-packages (from matplotlib!=3.6.1,>=3.1->seaborn) (2.8.2)\n",
      "Requirement already satisfied: cycler>=0.10 in /Users/baekkwanghyun/miniconda3/lib/python3.10/site-packages (from matplotlib!=3.6.1,>=3.1->seaborn) (0.11.0)\n",
      "Requirement already satisfied: kiwisolver>=1.0.1 in /Users/baekkwanghyun/miniconda3/lib/python3.10/site-packages (from matplotlib!=3.6.1,>=3.1->seaborn) (1.4.4)\n",
      "Requirement already satisfied: fonttools>=4.22.0 in /Users/baekkwanghyun/miniconda3/lib/python3.10/site-packages (from matplotlib!=3.6.1,>=3.1->seaborn) (4.25.0)\n",
      "Requirement already satisfied: contourpy>=1.0.1 in /Users/baekkwanghyun/miniconda3/lib/python3.10/site-packages (from matplotlib!=3.6.1,>=3.1->seaborn) (1.0.5)\n",
      "Requirement already satisfied: pillow>=6.2.0 in /Users/baekkwanghyun/miniconda3/lib/python3.10/site-packages (from matplotlib!=3.6.1,>=3.1->seaborn) (9.4.0)\n",
      "Requirement already satisfied: pytz>=2020.1 in /Users/baekkwanghyun/miniconda3/lib/python3.10/site-packages (from pandas>=0.25->seaborn) (2022.7)\n",
      "Requirement already satisfied: six>=1.5 in /Users/baekkwanghyun/miniconda3/lib/python3.10/site-packages (from python-dateutil>=2.7->matplotlib!=3.6.1,>=3.1->seaborn) (1.16.0)\n",
      "Installing collected packages: seaborn\n",
      "Successfully installed seaborn-0.12.2\n"
     ]
    }
   ],
   "source": [
    "! pip install seaborn"
   ]
  },
  {
   "cell_type": "code",
   "execution_count": 20,
   "metadata": {
    "ExecuteTime": {
     "end_time": "2023-03-14T04:39:40.389584Z",
     "start_time": "2023-03-14T04:39:38.097995Z"
    }
   },
   "outputs": [],
   "source": [
    "import seaborn as sns"
   ]
  },
  {
   "cell_type": "code",
   "execution_count": 21,
   "metadata": {
    "ExecuteTime": {
     "end_time": "2023-03-14T04:39:41.169326Z",
     "start_time": "2023-03-14T04:39:41.143631Z"
    }
   },
   "outputs": [],
   "source": [
    "iris = sns.load_dataset('iris')"
   ]
  },
  {
   "cell_type": "code",
   "execution_count": 22,
   "metadata": {
    "ExecuteTime": {
     "end_time": "2023-03-14T04:39:43.156404Z",
     "start_time": "2023-03-14T04:39:43.144462Z"
    }
   },
   "outputs": [
    {
     "data": {
      "text/plain": [
       "pandas.core.frame.DataFrame"
      ]
     },
     "execution_count": 22,
     "metadata": {},
     "output_type": "execute_result"
    }
   ],
   "source": [
    "type(iris)"
   ]
  },
  {
   "cell_type": "code",
   "execution_count": 23,
   "metadata": {
    "ExecuteTime": {
     "end_time": "2023-03-14T04:39:45.331686Z",
     "start_time": "2023-03-14T04:39:45.301457Z"
    }
   },
   "outputs": [
    {
     "data": {
      "text/html": [
       "<div>\n",
       "<style scoped>\n",
       "    .dataframe tbody tr th:only-of-type {\n",
       "        vertical-align: middle;\n",
       "    }\n",
       "\n",
       "    .dataframe tbody tr th {\n",
       "        vertical-align: top;\n",
       "    }\n",
       "\n",
       "    .dataframe thead th {\n",
       "        text-align: right;\n",
       "    }\n",
       "</style>\n",
       "<table border=\"1\" class=\"dataframe\">\n",
       "  <thead>\n",
       "    <tr style=\"text-align: right;\">\n",
       "      <th></th>\n",
       "      <th>sepal_length</th>\n",
       "      <th>sepal_width</th>\n",
       "      <th>petal_length</th>\n",
       "      <th>petal_width</th>\n",
       "    </tr>\n",
       "  </thead>\n",
       "  <tbody>\n",
       "    <tr>\n",
       "      <th>count</th>\n",
       "      <td>150.000000</td>\n",
       "      <td>150.000000</td>\n",
       "      <td>150.000000</td>\n",
       "      <td>150.000000</td>\n",
       "    </tr>\n",
       "    <tr>\n",
       "      <th>mean</th>\n",
       "      <td>5.843333</td>\n",
       "      <td>3.057333</td>\n",
       "      <td>3.758000</td>\n",
       "      <td>1.199333</td>\n",
       "    </tr>\n",
       "    <tr>\n",
       "      <th>std</th>\n",
       "      <td>0.828066</td>\n",
       "      <td>0.435866</td>\n",
       "      <td>1.765298</td>\n",
       "      <td>0.762238</td>\n",
       "    </tr>\n",
       "    <tr>\n",
       "      <th>min</th>\n",
       "      <td>4.300000</td>\n",
       "      <td>2.000000</td>\n",
       "      <td>1.000000</td>\n",
       "      <td>0.100000</td>\n",
       "    </tr>\n",
       "    <tr>\n",
       "      <th>25%</th>\n",
       "      <td>5.100000</td>\n",
       "      <td>2.800000</td>\n",
       "      <td>1.600000</td>\n",
       "      <td>0.300000</td>\n",
       "    </tr>\n",
       "    <tr>\n",
       "      <th>50%</th>\n",
       "      <td>5.800000</td>\n",
       "      <td>3.000000</td>\n",
       "      <td>4.350000</td>\n",
       "      <td>1.300000</td>\n",
       "    </tr>\n",
       "    <tr>\n",
       "      <th>75%</th>\n",
       "      <td>6.400000</td>\n",
       "      <td>3.300000</td>\n",
       "      <td>5.100000</td>\n",
       "      <td>1.800000</td>\n",
       "    </tr>\n",
       "    <tr>\n",
       "      <th>max</th>\n",
       "      <td>7.900000</td>\n",
       "      <td>4.400000</td>\n",
       "      <td>6.900000</td>\n",
       "      <td>2.500000</td>\n",
       "    </tr>\n",
       "  </tbody>\n",
       "</table>\n",
       "</div>"
      ],
      "text/plain": [
       "       sepal_length  sepal_width  petal_length  petal_width\n",
       "count    150.000000   150.000000    150.000000   150.000000\n",
       "mean       5.843333     3.057333      3.758000     1.199333\n",
       "std        0.828066     0.435866      1.765298     0.762238\n",
       "min        4.300000     2.000000      1.000000     0.100000\n",
       "25%        5.100000     2.800000      1.600000     0.300000\n",
       "50%        5.800000     3.000000      4.350000     1.300000\n",
       "75%        6.400000     3.300000      5.100000     1.800000\n",
       "max        7.900000     4.400000      6.900000     2.500000"
      ]
     },
     "execution_count": 23,
     "metadata": {},
     "output_type": "execute_result"
    }
   ],
   "source": [
    "iris.describe()  # 클래스가 데이터프레임한테 describe 시킨 것"
   ]
  },
  {
   "cell_type": "code",
   "execution_count": 24,
   "metadata": {
    "ExecuteTime": {
     "end_time": "2023-03-14T04:39:52.340644Z",
     "start_time": "2023-03-14T04:39:52.327057Z"
    }
   },
   "outputs": [
    {
     "data": {
      "text/plain": [
       "0      5.1\n",
       "1      4.9\n",
       "2      4.7\n",
       "3      4.6\n",
       "4      5.0\n",
       "      ... \n",
       "145    6.7\n",
       "146    6.3\n",
       "147    6.5\n",
       "148    6.2\n",
       "149    5.9\n",
       "Name: sepal_length, Length: 150, dtype: float64"
      ]
     },
     "execution_count": 24,
     "metadata": {},
     "output_type": "execute_result"
    }
   ],
   "source": [
    "iris.sepal_length"
   ]
  },
  {
   "cell_type": "code",
   "execution_count": 25,
   "metadata": {
    "ExecuteTime": {
     "end_time": "2023-03-14T04:39:54.732514Z",
     "start_time": "2023-03-14T04:39:54.719759Z"
    }
   },
   "outputs": [
    {
     "data": {
      "text/plain": [
       "pandas.core.series.Series"
      ]
     },
     "execution_count": 25,
     "metadata": {},
     "output_type": "execute_result"
    }
   ],
   "source": [
    "type(iris.sepal_length)"
   ]
  },
  {
   "cell_type": "code",
   "execution_count": 40,
   "metadata": {},
   "outputs": [
    {
     "data": {
      "text/plain": [
       "count    150.000000\n",
       "mean       5.843333\n",
       "std        0.828066\n",
       "min        4.300000\n",
       "25%        5.100000\n",
       "50%        5.800000\n",
       "75%        6.400000\n",
       "max        7.900000\n",
       "Name: sepal_length, dtype: float64"
      ]
     },
     "execution_count": 40,
     "metadata": {},
     "output_type": "execute_result"
    }
   ],
   "source": [
    "# 만약 다형성이 지원되지 않으면 describe() 쓸 수 없었음. 시리즈, 데이터프레임 별도로 describe() 함수가 존재했을 것.\n",
    "iris.sepal_length.describe()"
   ]
  },
  {
   "cell_type": "code",
   "execution_count": null,
   "metadata": {},
   "outputs": [],
   "source": [
    "# 함수 오버로드도 다형성이다!!\n",
    "def a():\n",
    "    return 1\n",
    "\n",
    "def a(x):\n",
    "    return x\n",
    "\n",
    "# 옵션 있으면 a(), 없으면 a(x) 이렇게 설정했을 떄, 객체나 상황에 따라서 다른 결과값을 내줄 수 있다! 그것이 바로 다형성.\n",
    "# 다형성이 존재하기 때문에 함수 이름 하나만 알아도 비슷한 결과를 다 얻어낼 수 있다! -> 지금은 당연히 받아들이고 있음.\n",
    "# 그렇다면 거꾸로 코딩할 때 만만치가 않다.\n",
    "# 상속과 다형성은 연관된다."
   ]
  },
  {
   "cell_type": "code",
   "execution_count": null,
   "metadata": {},
   "outputs": [],
   "source": [
    "# 파이썬에서는 함수 오버로딩을 지원하지 않음."
   ]
  },
  {
   "cell_type": "code",
   "execution_count": null,
   "metadata": {},
   "outputs": [],
   "source": [
    "class B:\n",
    "    def __init__(self, x):\n",
    "        self._x = x\n",
    "        \n",
    "    @property   # 아래와 함수 이름이 같아서 뒤의 것이 뒤엎어야 하지만 @ 가 있으면 아님\n",
    "    def x(self):\n",
    "        print('get')\n",
    "        return self._x\n",
    "    \n",
    "    @x.setter\n",
    "    def x(self, x):\n",
    "        assert x==3  # 참인지 거짓인지 체크해서 거짓이면 에러발생하게 함. 에러가 나면 그 밑에 있는 코드 실행 안돼서.\n",
    "        print('set')\n",
    "        self._x = x"
   ]
  },
  {
   "cell_type": "code",
   "execution_count": null,
   "metadata": {},
   "outputs": [],
   "source": [
    "# 원칙적으로 이름이 같으면 뒤의 것이 덮어쓰지만 데코레이터(@)는 안함.\n",
    "# 오버라이딩은 상속관계. 오버로딩은 같은 클래스 내.\n",
    "# 오버라이딩은 매개변수가 똑같아야 함. \n",
    "# 텐서플로, 파이토치는 다 상속해서 오버라이딩해서 프로그래밍 함."
   ]
  },
  {
   "cell_type": "code",
   "execution_count": null,
   "metadata": {},
   "outputs": [],
   "source": [
    "# 제네릭(Generic) 함수. 이것도 다형성임"
   ]
  },
  {
   "cell_type": "code",
   "execution_count": 26,
   "metadata": {
    "ExecuteTime": {
     "end_time": "2023-03-14T04:42:58.704463Z",
     "start_time": "2023-03-14T04:42:58.694250Z"
    }
   },
   "outputs": [
    {
     "data": {
      "text/plain": [
       "3"
      ]
     },
     "execution_count": 26,
     "metadata": {},
     "output_type": "execute_result"
    }
   ],
   "source": [
    "len(\"abc\")"
   ]
  },
  {
   "cell_type": "code",
   "execution_count": 27,
   "metadata": {
    "ExecuteTime": {
     "end_time": "2023-03-14T04:42:59.556986Z",
     "start_time": "2023-03-14T04:42:59.548140Z"
    }
   },
   "outputs": [
    {
     "data": {
      "text/plain": [
       "3"
      ]
     },
     "execution_count": 27,
     "metadata": {},
     "output_type": "execute_result"
    }
   ],
   "source": [
    "len([1,2,3])"
   ]
  },
  {
   "cell_type": "code",
   "execution_count": null,
   "metadata": {},
   "outputs": [],
   "source": [
    "# 데이터 타입이 다른데 len이라는 같은 메시지를 줌.\n",
    "# 이런 것도 다형성이라고 부를 수 있다. 다형성을 지원하지 않으면 데이터 타입마다 함수가 다 따로 존재했을 것. \n",
    "# 다형성이 존재하기 때문에 이 len 하나로 퉁치는 것.\n",
    "# 이러한 len() 같은 것을 Generic 함수라고 한다."
   ]
  },
  {
   "cell_type": "code",
   "execution_count": null,
   "metadata": {},
   "outputs": [],
   "source": [
    "# __call__ 떄문에 함수형 패러다임과 객체지향이 완전히 섞임"
   ]
  },
  {
   "cell_type": "code",
   "execution_count": 28,
   "metadata": {
    "ExecuteTime": {
     "end_time": "2023-03-14T04:43:34.573460Z",
     "start_time": "2023-03-14T04:43:34.564247Z"
    }
   },
   "outputs": [],
   "source": [
    "from functools import singledispatch"
   ]
  },
  {
   "cell_type": "code",
   "execution_count": 29,
   "metadata": {
    "ExecuteTime": {
     "end_time": "2023-03-14T04:43:59.585749Z",
     "start_time": "2023-03-14T04:43:59.577055Z"
    }
   },
   "outputs": [],
   "source": [
    "@singledispatch\n",
    "def x(a):\n",
    "    return a"
   ]
  },
  {
   "cell_type": "code",
   "execution_count": 30,
   "metadata": {
    "ExecuteTime": {
     "end_time": "2023-03-14T04:44:18.644954Z",
     "start_time": "2023-03-14T04:44:18.638658Z"
    }
   },
   "outputs": [],
   "source": [
    "@x.register(int)\n",
    "def _(a):   # _의 의미는 관례상 사용하지 않겠다는 것.\n",
    "    print('int')\n",
    "    \n",
    "@x.register(str)\n",
    "def _(a):\n",
    "    print('str')"
   ]
  },
  {
   "cell_type": "code",
   "execution_count": 31,
   "metadata": {
    "ExecuteTime": {
     "end_time": "2023-03-14T04:44:19.485773Z",
     "start_time": "2023-03-14T04:44:19.471589Z"
    }
   },
   "outputs": [
    {
     "data": {
      "text/plain": [
       "1.1"
      ]
     },
     "execution_count": 31,
     "metadata": {},
     "output_type": "execute_result"
    }
   ],
   "source": [
    "x(1.1)"
   ]
  },
  {
   "cell_type": "code",
   "execution_count": 32,
   "metadata": {
    "ExecuteTime": {
     "end_time": "2023-03-14T04:44:23.186304Z",
     "start_time": "2023-03-14T04:44:23.181816Z"
    }
   },
   "outputs": [
    {
     "name": "stdout",
     "output_type": "stream",
     "text": [
      "int\n"
     ]
    }
   ],
   "source": [
    "x(1)"
   ]
  },
  {
   "cell_type": "code",
   "execution_count": 33,
   "metadata": {
    "ExecuteTime": {
     "end_time": "2023-03-14T04:44:34.090309Z",
     "start_time": "2023-03-14T04:44:34.079391Z"
    }
   },
   "outputs": [
    {
     "name": "stdout",
     "output_type": "stream",
     "text": [
      "str\n"
     ]
    }
   ],
   "source": [
    "x('a')"
   ]
  },
  {
   "cell_type": "code",
   "execution_count": null,
   "metadata": {},
   "outputs": [],
   "source": [
    "# singledispatch 는 일반꼴을 만들어냄. 디스패치는 전파시키는 것. 인자가 한 개 이상되면 안되고 한개라고 해서 싱글디스패치.\n",
    "# 두 개 이상을 멀티플디스패치"
   ]
  },
  {
   "cell_type": "code",
   "execution_count": 34,
   "metadata": {
    "ExecuteTime": {
     "end_time": "2023-03-14T04:44:51.599264Z",
     "start_time": "2023-03-14T04:44:51.589175Z"
    }
   },
   "outputs": [],
   "source": [
    "@singledispatch\n",
    "def len_(a):\n",
    "    return a"
   ]
  },
  {
   "cell_type": "code",
   "execution_count": 35,
   "metadata": {
    "ExecuteTime": {
     "end_time": "2023-03-14T04:44:53.110250Z",
     "start_time": "2023-03-14T04:44:53.099647Z"
    }
   },
   "outputs": [],
   "source": [
    "@len_.register(int)\n",
    "def _(a):   # _의 의미는 관례상 사용하지 않겠다는 것.\n",
    "    print('int')\n",
    "    \n",
    "@len_.register(str)\n",
    "def _(a):\n",
    "    print('str')"
   ]
  },
  {
   "cell_type": "code",
   "execution_count": 36,
   "metadata": {
    "ExecuteTime": {
     "end_time": "2023-03-14T04:44:54.362866Z",
     "start_time": "2023-03-14T04:44:54.355640Z"
    }
   },
   "outputs": [
    {
     "data": {
      "text/plain": [
       "1.1"
      ]
     },
     "execution_count": 36,
     "metadata": {},
     "output_type": "execute_result"
    }
   ],
   "source": [
    "len_(1.1)  # 인자가 Int 오면 int 쪽으로, str 오면 str 쪽으로 디스패치(전파). 전달시킬 것 없으면 본체가 실행된다. 이게 len의 숨은 구조\n",
    "# 이런 개념은 우리가 잘 사용안하고 개발자들이 이렇게 만들 것.\n",
    "# 데이터 타입에 따라서 실행할 수 있게 하는 것을 디스패치. 이런 것을 제네릭 함수라고 함.\n",
    "# 다른 데이터 타입인데 똑같은 이름으로 실행됨."
   ]
  },
  {
   "cell_type": "code",
   "execution_count": null,
   "metadata": {},
   "outputs": [],
   "source": [
    "# 다시 정리. 다형성은,\n",
    "# 같은 메시지(메소드, 명령어)를 받았을 때, 자기만의 방식(디스패치를 해줬고 따로 별도의 함수를 가짐)으로 실행함."
   ]
  },
  {
   "cell_type": "code",
   "execution_count": null,
   "metadata": {},
   "outputs": [],
   "source": [
    "# 드디어 이제 멀티플 디스패치를 들어가자! (책)\n",
    "# 파이썬에서 공식적으로 지원 x\n",
    "# 왜 멀티플이냐면, 두 개의 타입 상황에 따라서 디스패치(던져주)하기 때문."
   ]
  },
  {
   "cell_type": "code",
   "execution_count": null,
   "metadata": {},
   "outputs": [],
   "source": [
    "# 다른 데이터 타입을 같은 메소드로 하는 것이 다형성 - 다형성은 싱글 패치 선에서 정리"
   ]
  },
  {
   "cell_type": "code",
   "execution_count": null,
   "metadata": {},
   "outputs": [],
   "source": [
    "# 이름 같고 같은 행동\n",
    "# 이름 다르고 같은 행동\n",
    "# 이름 같고 다른 행동"
   ]
  },
  {
   "cell_type": "code",
   "execution_count": null,
   "metadata": {},
   "outputs": [],
   "source": [
    "# __len__ 이 필요한 이유\n",
    "# 인덱싱 [-1] 은 전체 개수가 필요함. 그래야 맨 마지막을 찾아갈 수 있기 때문\n",
    "# 이 __len__은 __getitem__과 짝\n",
    "# __getitem__ 은 인텍싱에서 대괄호[] 의 역할을 함."
   ]
  },
  {
   "cell_type": "code",
   "execution_count": null,
   "metadata": {},
   "outputs": [],
   "source": [
    "# 메타클래스는 클래스의 기능을 바꿀 수 있음"
   ]
  },
  {
   "cell_type": "code",
   "execution_count": 61,
   "metadata": {},
   "outputs": [],
   "source": [
    "class A(object, metaclass=type):  # A(object)가 생략됨. 그런데 사실 metaclass=type도 있음. 이것이 파이썬의 기본 구조\n",
    "    pass"
   ]
  },
  {
   "cell_type": "code",
   "execution_count": null,
   "metadata": {},
   "outputs": [],
   "source": [
    "# 모든 클래스는 인스턴스 무한개 만들 수 있음. 메타클래스에서는 니 클래스는 인스턴스 딱 1개만 만들어라 이렇게 설정할 수도 있음.\n",
    "# 우리가 알고 있는 클래스의 기본 기능을 메타클래스에서 하고 있음."
   ]
  },
  {
   "cell_type": "code",
   "execution_count": 37,
   "metadata": {
    "ExecuteTime": {
     "end_time": "2023-03-14T04:46:25.223766Z",
     "start_time": "2023-03-14T04:46:25.212309Z"
    }
   },
   "outputs": [],
   "source": [
    "class A:\n",
    "    def __call__(self):   # 클래스 안의 __call__은 클래스의 인스턴스에 () 붙히는 기능.\n",
    "        print('call')"
   ]
  },
  {
   "cell_type": "code",
   "execution_count": 38,
   "metadata": {
    "ExecuteTime": {
     "end_time": "2023-03-14T04:46:25.997584Z",
     "start_time": "2023-03-14T04:46:25.989044Z"
    }
   },
   "outputs": [],
   "source": [
    "a = A()"
   ]
  },
  {
   "cell_type": "code",
   "execution_count": 39,
   "metadata": {
    "ExecuteTime": {
     "end_time": "2023-03-14T04:46:26.766401Z",
     "start_time": "2023-03-14T04:46:26.755550Z"
    }
   },
   "outputs": [
    {
     "name": "stdout",
     "output_type": "stream",
     "text": [
      "call\n"
     ]
    }
   ],
   "source": [
    "a()"
   ]
  },
  {
   "cell_type": "code",
   "execution_count": 40,
   "metadata": {
    "ExecuteTime": {
     "end_time": "2023-03-14T04:51:32.797721Z",
     "start_time": "2023-03-14T04:51:32.785723Z"
    }
   },
   "outputs": [],
   "source": [
    "class Singleton(type):    # 1. 먼저 타입(메타클래스) 상속\n",
    "    instance = None\n",
    "    def __call__(cls):    # 메타클래스는 클래스의 클래스. 메타클래스 입장에서 __call__이 뭘까? -> 클래스에 () 붙히는 것.\n",
    "        # 그냥 클래스에 __call__ 달아주면 인스턴스에 () 붙혀줄 수 있었기 때문\n",
    "        if not cls.instance:\n",
    "             cls.instance = super().__call__()\n",
    "        return cls.instance"
   ]
  },
  {
   "cell_type": "code",
   "execution_count": 41,
   "metadata": {
    "ExecuteTime": {
     "end_time": "2023-03-14T04:51:37.659010Z",
     "start_time": "2023-03-14T04:51:37.653972Z"
    }
   },
   "outputs": [],
   "source": [
    "class A(metaclass=Singleton):\n",
    "    pass"
   ]
  },
  {
   "cell_type": "code",
   "execution_count": 42,
   "metadata": {
    "ExecuteTime": {
     "end_time": "2023-03-14T04:51:40.952446Z",
     "start_time": "2023-03-14T04:51:40.941344Z"
    }
   },
   "outputs": [
    {
     "data": {
      "text/plain": [
       "<__main__.A at 0x7fc31a190910>"
      ]
     },
     "execution_count": 42,
     "metadata": {},
     "output_type": "execute_result"
    }
   ],
   "source": [
    "A()   # A 가 괄호 붙힐 떄"
   ]
  },
  {
   "cell_type": "code",
   "execution_count": 43,
   "metadata": {
    "ExecuteTime": {
     "end_time": "2023-03-14T04:52:05.480864Z",
     "start_time": "2023-03-14T04:52:05.470826Z"
    }
   },
   "outputs": [],
   "source": [
    "# 무조건 3단계.\n",
    "# 1단계\n",
    "class M(type):\n",
    "    def __call__(cls):\n",
    "        print('A')"
   ]
  },
  {
   "cell_type": "code",
   "execution_count": 44,
   "metadata": {
    "ExecuteTime": {
     "end_time": "2023-03-14T04:52:06.410299Z",
     "start_time": "2023-03-14T04:52:06.400045Z"
    }
   },
   "outputs": [],
   "source": [
    "class R(metaclass=M):\n",
    "    pass"
   ]
  },
  {
   "cell_type": "code",
   "execution_count": 45,
   "metadata": {
    "ExecuteTime": {
     "end_time": "2023-03-14T04:52:07.511557Z",
     "start_time": "2023-03-14T04:52:07.499378Z"
    }
   },
   "outputs": [
    {
     "name": "stdout",
     "output_type": "stream",
     "text": [
      "A\n"
     ]
    }
   ],
   "source": [
    "r = R()"
   ]
  },
  {
   "cell_type": "code",
   "execution_count": null,
   "metadata": {},
   "outputs": [],
   "source": [
    "# 위는 __init__(리턴값 없어야 함) 랑 같은 것 같음. __new__(리턴값 무조건 있어야 함)도."
   ]
  },
  {
   "cell_type": "code",
   "execution_count": 46,
   "metadata": {
    "ExecuteTime": {
     "end_time": "2023-03-14T04:52:38.434723Z",
     "start_time": "2023-03-14T04:52:38.425481Z"
    }
   },
   "outputs": [],
   "source": [
    "class Singleton(type):    # 1. 먼저 타입(메타클래스) 상속\n",
    "    instance = None\n",
    "    def __call__(cls):    # 메타클래스는 클래스의 클래스. 메타클래스 입장에서 __call__이 뭘까? -> 클래스에 () 붙히는 것.\n",
    "        if not cls.instance:   # () 했을 때 기존의 클래스의 인스턴스가 없으면\n",
    "             cls.instance = super().__call__()   # 새로 만들어라\n",
    "        return cls.instance  # 있으면 리턴해라"
   ]
  },
  {
   "cell_type": "code",
   "execution_count": 47,
   "metadata": {
    "ExecuteTime": {
     "end_time": "2023-03-14T04:52:39.136022Z",
     "start_time": "2023-03-14T04:52:39.127715Z"
    }
   },
   "outputs": [],
   "source": [
    "class X(metaclass=Singleton):\n",
    "    pass"
   ]
  },
  {
   "cell_type": "code",
   "execution_count": 49,
   "metadata": {
    "ExecuteTime": {
     "end_time": "2023-03-14T04:52:48.087890Z",
     "start_time": "2023-03-14T04:52:48.077060Z"
    }
   },
   "outputs": [],
   "source": [
    "# 3단계 구조로 씀. 관례상 3단계\n",
    "class XX(X): \n",
    "    pass"
   ]
  },
  {
   "cell_type": "code",
   "execution_count": 50,
   "metadata": {
    "ExecuteTime": {
     "end_time": "2023-03-14T04:52:54.448664Z",
     "start_time": "2023-03-14T04:52:54.443477Z"
    }
   },
   "outputs": [],
   "source": [
    "aa = X()  # X() 에서 ()의 기능이 가장 위 싱글톤의 __call__에 정의됨. 원래 none 이니까 인스턴스 하나 만들어짐"
   ]
  },
  {
   "cell_type": "code",
   "execution_count": 51,
   "metadata": {
    "ExecuteTime": {
     "end_time": "2023-03-14T04:52:55.747313Z",
     "start_time": "2023-03-14T04:52:55.735157Z"
    }
   },
   "outputs": [],
   "source": [
    "bb = X()"
   ]
  },
  {
   "cell_type": "code",
   "execution_count": 52,
   "metadata": {
    "ExecuteTime": {
     "end_time": "2023-03-14T04:52:56.553078Z",
     "start_time": "2023-03-14T04:52:56.543566Z"
    }
   },
   "outputs": [],
   "source": [
    "aa.t = 3"
   ]
  },
  {
   "cell_type": "code",
   "execution_count": 53,
   "metadata": {
    "ExecuteTime": {
     "end_time": "2023-03-14T04:52:57.404022Z",
     "start_time": "2023-03-14T04:52:57.395666Z"
    }
   },
   "outputs": [
    {
     "data": {
      "text/plain": [
       "3"
      ]
     },
     "execution_count": 53,
     "metadata": {},
     "output_type": "execute_result"
    }
   ],
   "source": [
    "bb.t\n",
    "# 이게 왜 3? 실제 이름이 aa와 bb를 다르게 만들었지만, "
   ]
  },
  {
   "cell_type": "code",
   "execution_count": 54,
   "metadata": {
    "ExecuteTime": {
     "end_time": "2023-03-14T04:52:59.944525Z",
     "start_time": "2023-03-14T04:52:59.935292Z"
    }
   },
   "outputs": [
    {
     "data": {
      "text/plain": [
       "(140476210725696, 140476210725696)"
      ]
     },
     "execution_count": 54,
     "metadata": {},
     "output_type": "execute_result"
    }
   ],
   "source": [
    "id(aa), id(bb)\n",
    "# if not cls.instance:   # () 했을 때 기존의 클래스의 인스턴스가 없으면\n",
    "#              cls.instance = super().__call__()   # 새로 만들어라\n",
    "#         return cls.instance  # 있으면 리턴해라\n",
    "# 위 과정에 따라 메모리 주소가 같은 것"
   ]
  },
  {
   "cell_type": "code",
   "execution_count": 78,
   "metadata": {},
   "outputs": [],
   "source": [
    "# 새로 생성했을 때 있으면 기존에 있는 인스턴스를 불러오기 때문에. 그래서 bb는 aa와 같음.\n",
    "# 그래서 딱 한개 밖에 못 만듦. 그래서 Singleton"
   ]
  },
  {
   "cell_type": "code",
   "execution_count": null,
   "metadata": {},
   "outputs": [],
   "source": [
    "# 내가 알고있는 파이썬과 다르다고 생각이 되면 dir, mro 쓰면 메타클래스를 쓴 것.\n",
    "# 파이썬은 상속의 개념으로 메타클래스를 만들어 놓음"
   ]
  },
  {
   "cell_type": "code",
   "execution_count": 79,
   "metadata": {},
   "outputs": [
    {
     "name": "stdout",
     "output_type": "stream",
     "text": [
      "A\n"
     ]
    }
   ],
   "source": [
    "r = R()"
   ]
  },
  {
   "cell_type": "code",
   "execution_count": 80,
   "metadata": {},
   "outputs": [
    {
     "data": {
      "text/plain": [
       "['__bool__',\n",
       " '__class__',\n",
       " '__delattr__',\n",
       " '__dir__',\n",
       " '__doc__',\n",
       " '__eq__',\n",
       " '__format__',\n",
       " '__ge__',\n",
       " '__getattribute__',\n",
       " '__gt__',\n",
       " '__hash__',\n",
       " '__init__',\n",
       " '__init_subclass__',\n",
       " '__le__',\n",
       " '__lt__',\n",
       " '__ne__',\n",
       " '__new__',\n",
       " '__reduce__',\n",
       " '__reduce_ex__',\n",
       " '__repr__',\n",
       " '__setattr__',\n",
       " '__sizeof__',\n",
       " '__str__',\n",
       " '__subclasshook__']"
      ]
     },
     "execution_count": 80,
     "metadata": {},
     "output_type": "execute_result"
    }
   ],
   "source": [
    "dir(r)  # 메타클래스라고 알수 있는 것 없음. 이건 다른 메타클래스를 썼기 때문"
   ]
  },
  {
   "cell_type": "code",
   "execution_count": 81,
   "metadata": {},
   "outputs": [
    {
     "data": {
      "text/plain": [
       "['__abstractmethods__',\n",
       " '__annotations__',\n",
       " '__base__',\n",
       " '__bases__',\n",
       " '__basicsize__',\n",
       " '__call__',\n",
       " '__class__',\n",
       " '__delattr__',\n",
       " '__dict__',\n",
       " '__dictoffset__',\n",
       " '__dir__',\n",
       " '__doc__',\n",
       " '__eq__',\n",
       " '__flags__',\n",
       " '__format__',\n",
       " '__ge__',\n",
       " '__getattribute__',\n",
       " '__gt__',\n",
       " '__hash__',\n",
       " '__init__',\n",
       " '__init_subclass__',\n",
       " '__instancecheck__',\n",
       " '__itemsize__',\n",
       " '__le__',\n",
       " '__lt__',\n",
       " '__module__',\n",
       " '__mro__',\n",
       " '__name__',\n",
       " '__ne__',\n",
       " '__new__',\n",
       " '__or__',\n",
       " '__prepare__',\n",
       " '__qualname__',\n",
       " '__reduce__',\n",
       " '__reduce_ex__',\n",
       " '__repr__',\n",
       " '__ror__',\n",
       " '__setattr__',\n",
       " '__sizeof__',\n",
       " '__str__',\n",
       " '__subclasscheck__',\n",
       " '__subclasses__',\n",
       " '__subclasshook__',\n",
       " '__text_signature__',\n",
       " '__weakrefoffset__',\n",
       " 'mro']"
      ]
     },
     "execution_count": 81,
     "metadata": {},
     "output_type": "execute_result"
    }
   ],
   "source": [
    "dir(M)  # __abstractmethods__"
   ]
  },
  {
   "cell_type": "code",
   "execution_count": 84,
   "metadata": {},
   "outputs": [],
   "source": [
    "m = M('1', (int,), {})"
   ]
  },
  {
   "cell_type": "code",
   "execution_count": 85,
   "metadata": {},
   "outputs": [
    {
     "data": {
      "text/plain": [
       "['__abs__',\n",
       " '__add__',\n",
       " '__and__',\n",
       " '__bool__',\n",
       " '__ceil__',\n",
       " '__class__',\n",
       " '__delattr__',\n",
       " '__dict__',\n",
       " '__dir__',\n",
       " '__divmod__',\n",
       " '__doc__',\n",
       " '__eq__',\n",
       " '__float__',\n",
       " '__floor__',\n",
       " '__floordiv__',\n",
       " '__format__',\n",
       " '__ge__',\n",
       " '__getattribute__',\n",
       " '__getnewargs__',\n",
       " '__gt__',\n",
       " '__hash__',\n",
       " '__index__',\n",
       " '__init__',\n",
       " '__init_subclass__',\n",
       " '__int__',\n",
       " '__invert__',\n",
       " '__le__',\n",
       " '__lshift__',\n",
       " '__lt__',\n",
       " '__mod__',\n",
       " '__module__',\n",
       " '__mul__',\n",
       " '__ne__',\n",
       " '__neg__',\n",
       " '__new__',\n",
       " '__or__',\n",
       " '__pos__',\n",
       " '__pow__',\n",
       " '__radd__',\n",
       " '__rand__',\n",
       " '__rdivmod__',\n",
       " '__reduce__',\n",
       " '__reduce_ex__',\n",
       " '__repr__',\n",
       " '__rfloordiv__',\n",
       " '__rlshift__',\n",
       " '__rmod__',\n",
       " '__rmul__',\n",
       " '__ror__',\n",
       " '__round__',\n",
       " '__rpow__',\n",
       " '__rrshift__',\n",
       " '__rshift__',\n",
       " '__rsub__',\n",
       " '__rtruediv__',\n",
       " '__rxor__',\n",
       " '__setattr__',\n",
       " '__sizeof__',\n",
       " '__str__',\n",
       " '__sub__',\n",
       " '__subclasshook__',\n",
       " '__truediv__',\n",
       " '__trunc__',\n",
       " '__xor__',\n",
       " 'as_integer_ratio',\n",
       " 'bit_count',\n",
       " 'bit_length',\n",
       " 'conjugate',\n",
       " 'denominator',\n",
       " 'from_bytes',\n",
       " 'imag',\n",
       " 'numerator',\n",
       " 'real',\n",
       " 'to_bytes']"
      ]
     },
     "execution_count": 85,
     "metadata": {},
     "output_type": "execute_result"
    }
   ],
   "source": [
    "dir(m)"
   ]
  },
  {
   "cell_type": "code",
   "execution_count": 87,
   "metadata": {},
   "outputs": [
    {
     "data": {
      "text/plain": [
       "['__abstractmethods__',\n",
       " '__annotations__',\n",
       " '__base__',\n",
       " '__bases__',\n",
       " '__basicsize__',\n",
       " '__call__',\n",
       " '__class__',\n",
       " '__delattr__',\n",
       " '__dict__',\n",
       " '__dictoffset__',\n",
       " '__dir__',\n",
       " '__doc__',\n",
       " '__eq__',\n",
       " '__flags__',\n",
       " '__format__',\n",
       " '__ge__',\n",
       " '__getattribute__',\n",
       " '__gt__',\n",
       " '__hash__',\n",
       " '__init__',\n",
       " '__init_subclass__',\n",
       " '__instancecheck__',\n",
       " '__itemsize__',\n",
       " '__le__',\n",
       " '__lt__',\n",
       " '__module__',\n",
       " '__mro__',\n",
       " '__name__',\n",
       " '__ne__',\n",
       " '__new__',\n",
       " '__or__',\n",
       " '__prepare__',\n",
       " '__qualname__',\n",
       " '__reduce__',\n",
       " '__reduce_ex__',\n",
       " '__repr__',\n",
       " '__ror__',\n",
       " '__setattr__',\n",
       " '__sizeof__',\n",
       " '__str__',\n",
       " '__subclasscheck__',\n",
       " '__subclasses__',\n",
       " '__subclasshook__',\n",
       " '__text_signature__',\n",
       " '__weakrefoffset__',\n",
       " 'mro']"
      ]
     },
     "execution_count": 87,
     "metadata": {},
     "output_type": "execute_result"
    }
   ],
   "source": [
    "# mro 가 dir에 없는 이유가 mro는 type에 유일하게 정의되어 있기 때문\n",
    "dir(type)"
   ]
  },
  {
   "cell_type": "code",
   "execution_count": 88,
   "metadata": {},
   "outputs": [],
   "source": [
    "# 클래스에 인스턴스 한 개 만들도록 하는 거 존재할 수 있다.\n",
    "# 인스턴스도 못 만들게 할 수 있음.\n",
    "# 클래스 메소드만 가지고 해야 함."
   ]
  },
  {
   "cell_type": "code",
   "execution_count": null,
   "metadata": {},
   "outputs": [],
   "source": [
    "# __slots__ 보자"
   ]
  },
  {
   "cell_type": "code",
   "execution_count": 89,
   "metadata": {},
   "outputs": [
    {
     "ename": "TypeError",
     "evalue": "'function' object is not iterable",
     "output_type": "error",
     "traceback": [
      "\u001b[0;31m---------------------------------------------------------------------------\u001b[0m",
      "\u001b[0;31mTypeError\u001b[0m                                 Traceback (most recent call last)",
      "Cell \u001b[0;32mIn[89], line 1\u001b[0m\n\u001b[0;32m----> 1\u001b[0m \u001b[39mclass\u001b[39;00m \u001b[39mA\u001b[39;00m:\n\u001b[1;32m      2\u001b[0m     \u001b[39mdef\u001b[39;00m \u001b[39m__slots__\u001b[39m(\u001b[39mself\u001b[39m):\n\u001b[1;32m      3\u001b[0m         \u001b[39mprint\u001b[39m(\u001b[39m'\u001b[39m\u001b[39ma\u001b[39m\u001b[39m'\u001b[39m)\n",
      "\u001b[0;31mTypeError\u001b[0m: 'function' object is not iterable"
     ]
    }
   ],
   "source": [
    "class A:\n",
    "    def __slots__(self):\n",
    "        print('a')\n",
    "        \n",
    "# 왜 function? A 관점에서 말한 것. callable이 아님."
   ]
  },
  {
   "cell_type": "code",
   "execution_count": 1,
   "metadata": {
    "ExecuteTime": {
     "end_time": "2023-03-27T09:10:33.481677Z",
     "start_time": "2023-03-27T09:10:33.470614Z"
    }
   },
   "outputs": [],
   "source": [
    "class A:\n",
    "    __slots__ = ['a', 'b']   # 문자열로 씀\n",
    "    \n",
    "# 다른 애와 달리 def가 아. 이것을 정리해놓으면,"
   ]
  },
  {
   "cell_type": "code",
   "execution_count": 2,
   "metadata": {
    "ExecuteTime": {
     "end_time": "2023-03-27T09:10:38.496806Z",
     "start_time": "2023-03-27T09:10:38.480135Z"
    },
    "scrolled": true
   },
   "outputs": [
    {
     "data": {
      "text/plain": [
       "['__class__',\n",
       " '__delattr__',\n",
       " '__dir__',\n",
       " '__doc__',\n",
       " '__eq__',\n",
       " '__format__',\n",
       " '__ge__',\n",
       " '__getattribute__',\n",
       " '__gt__',\n",
       " '__hash__',\n",
       " '__init__',\n",
       " '__init_subclass__',\n",
       " '__le__',\n",
       " '__lt__',\n",
       " '__module__',\n",
       " '__ne__',\n",
       " '__new__',\n",
       " '__reduce__',\n",
       " '__reduce_ex__',\n",
       " '__repr__',\n",
       " '__setattr__',\n",
       " '__sizeof__',\n",
       " '__slots__',\n",
       " '__str__',\n",
       " '__subclasshook__',\n",
       " 'a',\n",
       " 'b']"
      ]
     },
     "execution_count": 2,
     "metadata": {},
     "output_type": "execute_result"
    }
   ],
   "source": [
    "dir(A)"
   ]
  },
  {
   "cell_type": "code",
   "execution_count": 56,
   "metadata": {
    "ExecuteTime": {
     "end_time": "2023-03-14T04:54:39.842017Z",
     "start_time": "2023-03-14T04:54:39.838765Z"
    }
   },
   "outputs": [],
   "source": [
    "a = A()"
   ]
  },
  {
   "cell_type": "code",
   "execution_count": 57,
   "metadata": {
    "ExecuteTime": {
     "end_time": "2023-03-14T04:54:41.269529Z",
     "start_time": "2023-03-14T04:54:41.261173Z"
    }
   },
   "outputs": [],
   "source": [
    "a.a = 3   # 인스턴스 변수는 내부적으로 문자열로 관리하고 있음."
   ]
  },
  {
   "cell_type": "code",
   "execution_count": 58,
   "metadata": {
    "ExecuteTime": {
     "end_time": "2023-03-14T04:54:43.377004Z",
     "start_time": "2023-03-14T04:54:43.354361Z"
    }
   },
   "outputs": [
    {
     "ename": "AttributeError",
     "evalue": "'A' object has no attribute 'x'",
     "output_type": "error",
     "traceback": [
      "\u001b[0;31m---------------------------------------------------------------------------\u001b[0m",
      "\u001b[0;31mAttributeError\u001b[0m                            Traceback (most recent call last)",
      "Cell \u001b[0;32mIn[58], line 1\u001b[0m\n\u001b[0;32m----> 1\u001b[0m a\u001b[38;5;241m.\u001b[39mx \u001b[38;5;241m=\u001b[39m \u001b[38;5;241m4\u001b[39m\n",
      "\u001b[0;31mAttributeError\u001b[0m: 'A' object has no attribute 'x'"
     ]
    }
   ],
   "source": [
    "a.x = 4\n",
    "\n",
    "# slot이라는 애 에서 정의된 애들만 인스턴스 변수로 인정해주는 것."
   ]
  },
  {
   "cell_type": "code",
   "execution_count": 59,
   "metadata": {
    "ExecuteTime": {
     "end_time": "2023-03-14T04:54:49.381760Z",
     "start_time": "2023-03-14T04:54:49.370154Z"
    }
   },
   "outputs": [
    {
     "data": {
      "text/plain": [
       "{'a': 1}"
      ]
     },
     "execution_count": 59,
     "metadata": {},
     "output_type": "execute_result"
    }
   ],
   "source": [
    "# dict에서도 봄\n",
    "{'a':1}"
   ]
  },
  {
   "cell_type": "code",
   "execution_count": 60,
   "metadata": {
    "ExecuteTime": {
     "end_time": "2023-03-14T04:54:51.572379Z",
     "start_time": "2023-03-14T04:54:51.564743Z"
    }
   },
   "outputs": [],
   "source": [
    "def b(**x):\n",
    "    return x"
   ]
  },
  {
   "cell_type": "code",
   "execution_count": 61,
   "metadata": {
    "ExecuteTime": {
     "end_time": "2023-03-14T04:55:06.536111Z",
     "start_time": "2023-03-14T04:55:06.527109Z"
    }
   },
   "outputs": [
    {
     "data": {
      "text/plain": [
       "{'a': 1, 'b': 'c'}"
      ]
     },
     "execution_count": 61,
     "metadata": {},
     "output_type": "execute_result"
    }
   ],
   "source": [
    "b(a=1, b='c')  # 그냥 문자 집어넣음.\n",
    "# 근데 내부적으로 출력을 보면 문자열로 관리됨.\n",
    "# 즉 내부적으로는 문자열로 관리하고 있음\n",
    "# 내부적으로 인스턴스 변수나 메소드 변수는 문자열로 관리하고 있다는 것."
   ]
  },
  {
   "cell_type": "code",
   "execution_count": null,
   "metadata": {},
   "outputs": [],
   "source": [
    "# slot만 지정해주면 자체적으로 쉽게 지정해줄 수 있다."
   ]
  },
  {
   "cell_type": "code",
   "execution_count": null,
   "metadata": {},
   "outputs": [],
   "source": [
    "# 메타클래스의 마지막 예시를 할 것.\n",
    "# 객체지향 4가지\n",
    "# 캡슐화(이름으로 선언할 때 같이 묶는 것)\n",
    "# 상속\n",
    "# 다형성\n",
    "# 추상화 abstraction -> 파이썬의 추상화는 어떻게?\n",
    "# 기본적으로 메타클래스 가지고 추상화를 함.\n",
    "# 파이썬에서 메타클래스로 추상화하게 만들었더니 메타클래스도 안써도 되는 기법을 만듦.\n",
    "# 그래서 추상화 배운 애들은 메타클래스를 사용하지 않는 추상화를 배웠을 것."
   ]
  },
  {
   "cell_type": "code",
   "execution_count": null,
   "metadata": {},
   "outputs": [],
   "source": [
    "# 메타클래스 한 번 더 하쟈!!!!!!\n",
    "# 굉장히 순환논법적. 클래스의 클래스가 메타클래스다!\n",
    "# 클래스가 인스턴스의 데이터 형이다!\n",
    "# 자료형의 자료형이 메타클래스\n",
    "# 클래스는 자료형. 자료형 자체가 행동도 가짐. 그것은 사실 기본 행동을 누군가 정해놓은 것.\n",
    "# 그것이 클래스의 클래스에서 기본 행동을 정해놓은 것.\n",
    "# 파이썬의 기본행동은 타입에서 정해놓음.\n",
    "# 우리는 타입에서 정한 기본행동을 따르는 클래스를 다루고 있던 것.\n",
    "# 파이썬은 기본행동 조차 바꿀 수 있게 해줌."
   ]
  },
  {
   "cell_type": "code",
   "execution_count": null,
   "metadata": {},
   "outputs": [],
   "source": [
    "# 우리가 메타클래스를 쓸 일은 별로 없음.\n",
    "# 그러나 새로운 기능을 만드는 애들이 간혹 있음.\n",
    "# 이제 마지막 추상클래스"
   ]
  },
  {
   "cell_type": "markdown",
   "metadata": {},
   "source": [
    "#### 추상화"
   ]
  },
  {
   "cell_type": "code",
   "execution_count": 63,
   "metadata": {
    "ExecuteTime": {
     "end_time": "2023-03-14T04:56:49.970286Z",
     "start_time": "2023-03-14T04:56:47.282098Z"
    }
   },
   "outputs": [
    {
     "name": "stdout",
     "output_type": "stream",
     "text": [
      "Collecting sklearn\n",
      "  Downloading sklearn-0.0.post1.tar.gz (3.6 kB)\n",
      "  Preparing metadata (setup.py) ... \u001b[?25ldone\n",
      "\u001b[?25hBuilding wheels for collected packages: sklearn\n",
      "  Building wheel for sklearn (setup.py) ... \u001b[?25ldone\n",
      "\u001b[?25h  Created wheel for sklearn: filename=sklearn-0.0.post1-py3-none-any.whl size=2935 sha256=c2c89856ea7d0ddd5fd266c87c346d90741f45562e9cfd11054e3724e9dd6192\n",
      "  Stored in directory: /Users/baekkwanghyun/Library/Caches/pip/wheels/c5/88/35/cc8a1e198b27a1d3d9d3f9b30090b9d5531778847835472ec4\n",
      "Successfully built sklearn\n",
      "Installing collected packages: sklearn\n",
      "Successfully installed sklearn-0.0.post1\n"
     ]
    }
   ],
   "source": [
    "!pip install sklearn"
   ]
  },
  {
   "cell_type": "code",
   "execution_count": 64,
   "metadata": {
    "ExecuteTime": {
     "end_time": "2023-03-14T04:56:52.182282Z",
     "start_time": "2023-03-14T04:56:52.155868Z"
    }
   },
   "outputs": [
    {
     "ename": "ImportError",
     "evalue": "cannot import name 'NB' from 'sklearn.naive_bayes' (/Users/baekkwanghyun/miniconda3/lib/python3.10/site-packages/sklearn/naive_bayes.py)",
     "output_type": "error",
     "traceback": [
      "\u001b[0;31m---------------------------------------------------------------------------\u001b[0m",
      "\u001b[0;31mImportError\u001b[0m                               Traceback (most recent call last)",
      "Cell \u001b[0;32mIn[64], line 1\u001b[0m\n\u001b[0;32m----> 1\u001b[0m \u001b[38;5;28;01mfrom\u001b[39;00m \u001b[38;5;21;01msklearn\u001b[39;00m\u001b[38;5;21;01m.\u001b[39;00m\u001b[38;5;21;01mnaive_bayes\u001b[39;00m \u001b[38;5;28;01mimport\u001b[39;00m NB\n",
      "\u001b[0;31mImportError\u001b[0m: cannot import name 'NB' from 'sklearn.naive_bayes' (/Users/baekkwanghyun/miniconda3/lib/python3.10/site-packages/sklearn/naive_bayes.py)"
     ]
    }
   ],
   "source": [
    "from sklearn.naive_bayes import 여기 들어오는 것들 중에 공통된 이름을 포함한 것들이 많음\n",
    "# 분포에 따라서 다른 것들이 많음.\n",
    "# 객체지향이 재활용성 때매 좋음\n",
    "# 제일 잘 만든게 1번. \n",
    "# 상속은 규약이 없음. 상속에는 제약조건을 못 걸음. 그런데 abstraction 방식은 공통된 기능들을 구현하는 게 아니라\n",
    "# 각 기능을 구현하라고 설계해줌. 추상화는 \"공통된 특징의 규약을 정해놓고 설계도를 만드는 것\"이 추상화"
   ]
  },
  {
   "cell_type": "code",
   "execution_count": null,
   "metadata": {},
   "outputs": [],
   "source": [
    "# 추상화의 대표적인 것은 sklearn\n",
    "from sklearn.naive_bayes import ABCMeta, abstractmethod\n",
    "# ABCMeta 는 메타클래스로 추상화를 구현\n",
    "# 그런데 메타클래스를 사용하지 않아도 추상화 구현할 수 있음.\n",
    "# 추상화도 메타클래스 사용해야 함\n",
    "# 추상화 만드는 방식은 2개지만 우리는 메타클래스로 배울 것"
   ]
  },
  {
   "cell_type": "code",
   "execution_count": 66,
   "metadata": {
    "ExecuteTime": {
     "end_time": "2023-03-14T04:57:44.556684Z",
     "start_time": "2023-03-14T04:57:44.539895Z"
    }
   },
   "outputs": [],
   "source": [
    "from abc import ABCMeta, abstractmethod"
   ]
  },
  {
   "cell_type": "code",
   "execution_count": 67,
   "metadata": {
    "ExecuteTime": {
     "end_time": "2023-03-14T04:57:45.333569Z",
     "start_time": "2023-03-14T04:57:45.323709Z"
    }
   },
   "outputs": [],
   "source": [
    "# 공통기능을 뽑아내서 지정하는 것. 제일 잘 만드는 사람이 만들고 그것을 상속 받아서 세부적인 것을 만들면\n",
    "# 그것이 효율적인 방법이 됨. 만들고 상속과 결합\n",
    "class A(metaclass=ABCMeta):  # 설계도를 작성하는 것(이 기능이 꼭 필요해요!!)\n",
    "    @abstractmethod\n",
    "    def tt(self):\n",
    "        pass"
   ]
  },
  {
   "cell_type": "code",
   "execution_count": 68,
   "metadata": {
    "ExecuteTime": {
     "end_time": "2023-03-14T04:57:46.247646Z",
     "start_time": "2023-03-14T04:57:46.238847Z"
    }
   },
   "outputs": [],
   "source": [
    "class B(A):\n",
    "    pass"
   ]
  },
  {
   "cell_type": "code",
   "execution_count": 69,
   "metadata": {
    "ExecuteTime": {
     "end_time": "2023-03-14T04:57:51.299562Z",
     "start_time": "2023-03-14T04:57:51.275721Z"
    }
   },
   "outputs": [
    {
     "ename": "TypeError",
     "evalue": "Can't instantiate abstract class B with abstract method tt",
     "output_type": "error",
     "traceback": [
      "\u001b[0;31m---------------------------------------------------------------------------\u001b[0m",
      "\u001b[0;31mTypeError\u001b[0m                                 Traceback (most recent call last)",
      "Cell \u001b[0;32mIn[69], line 2\u001b[0m\n\u001b[1;32m      1\u001b[0m \u001b[38;5;66;03m# 설계를 어떻게 하는가!에 주목\u001b[39;00m\n\u001b[0;32m----> 2\u001b[0m b\u001b[38;5;241m=\u001b[39m\u001b[43mB\u001b[49m\u001b[43m(\u001b[49m\u001b[43m)\u001b[49m\n",
      "\u001b[0;31mTypeError\u001b[0m: Can't instantiate abstract class B with abstract method tt"
     ]
    }
   ],
   "source": [
    "# 설계를 어떻게 하는가!에 주목\n",
    "b=B()\n",
    "# 설계를 했으면 그 설계에 맞춰야함. 구현을 안하면 에러가 나서 시작도 못함."
   ]
  },
  {
   "cell_type": "code",
   "execution_count": 70,
   "metadata": {
    "ExecuteTime": {
     "end_time": "2023-03-14T04:57:57.032006Z",
     "start_time": "2023-03-14T04:57:57.020895Z"
    }
   },
   "outputs": [],
   "source": [
    "class C(A):\n",
    "    def tt(self):\n",
    "        print('aaa')"
   ]
  },
  {
   "cell_type": "code",
   "execution_count": 71,
   "metadata": {
    "ExecuteTime": {
     "end_time": "2023-03-14T04:57:57.834589Z",
     "start_time": "2023-03-14T04:57:57.823901Z"
    }
   },
   "outputs": [],
   "source": [
    "c = C()"
   ]
  },
  {
   "cell_type": "code",
   "execution_count": null,
   "metadata": {},
   "outputs": [],
   "source": [
    "# 즉 추상화란, 핵심적인 것을 만들어 놓음\n",
    "# 그런데 그냥 상속만 하면 뭘 바꾸고 이런 걸 모름. 그래서 설계도가 필요\n",
    "# 핵심적인 것에서 설계도를 구현함. 꼭 만들어야 할 것을 주고 알아서 구현하라는 것을 구분\n",
    "# 그 규약을 안지키면(꼭 만들어야 할 것을 안 만들면) 만들지도 못함.\n",
    "# 그렇다면 상속만 했을 때보다 실수할 가능성이 훨씬 줄어듦.\n",
    "# 즉, 공통된 특징을 뽑아서 @abstractmethod 에 두는 것.\n",
    "# 쓸 일은 별로 없을 것이지만 텐서플로, 파이토치에서 매우 많이 볼 것."
   ]
  },
  {
   "cell_type": "code",
   "execution_count": null,
   "metadata": {},
   "outputs": [],
   "source": [
    "# sklearn은 메타클래스 판이다. 변형된 알고리즘이 매우 많아서. sklearn은 오픈소스라서.\n",
    "# 무조건 구현해야 할 것을 정하고, 그것을 구현하지 않으면 만들지 못하게 해버림.\n",
    "# 상속과 함께 쓰임.\n",
    "# 지금은 남의 클래스를 가져다 씀."
   ]
  },
  {
   "cell_type": "code",
   "execution_count": null,
   "metadata": {},
   "outputs": [],
   "source": [
    "# 내일은 데코레이터와 유닛테스트.\n",
    "# 이 두개가 실력 향상의 거름이 될 수 있음.\n",
    "# 덕타이핑 기법으로도 만들 수 있고 타입을 강제시킬수도 있음."
   ]
  }
 ],
 "metadata": {
  "kernelspec": {
   "display_name": "Python 3 (ipykernel)",
   "language": "python",
   "name": "python3"
  },
  "language_info": {
   "codemirror_mode": {
    "name": "ipython",
    "version": 3
   },
   "file_extension": ".py",
   "mimetype": "text/x-python",
   "name": "python",
   "nbconvert_exporter": "python",
   "pygments_lexer": "ipython3",
   "version": "3.10.9"
  },
  "toc": {
   "base_numbering": 1,
   "nav_menu": {},
   "number_sections": true,
   "sideBar": true,
   "skip_h1_title": false,
   "title_cell": "Table of Contents",
   "title_sidebar": "Contents",
   "toc_cell": false,
   "toc_position": {},
   "toc_section_display": true,
   "toc_window_display": false
  },
  "varInspector": {
   "cols": {
    "lenName": 16,
    "lenType": 16,
    "lenVar": 40
   },
   "kernels_config": {
    "python": {
     "delete_cmd_postfix": "",
     "delete_cmd_prefix": "del ",
     "library": "var_list.py",
     "varRefreshCmd": "print(var_dic_list())"
    },
    "r": {
     "delete_cmd_postfix": ") ",
     "delete_cmd_prefix": "rm(",
     "library": "var_list.r",
     "varRefreshCmd": "cat(var_dic_list()) "
    }
   },
   "types_to_exclude": [
    "module",
    "function",
    "builtin_function_or_method",
    "instance",
    "_Feature"
   ],
   "window_display": false
  }
 },
 "nbformat": 4,
 "nbformat_minor": 2
}
