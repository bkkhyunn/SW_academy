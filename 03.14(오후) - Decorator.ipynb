{
 "cells": [
  {
   "cell_type": "markdown",
   "id": "020d644e",
   "metadata": {},
   "source": [
    "### 데코레이터"
   ]
  },
  {
   "cell_type": "code",
   "execution_count": null,
   "id": "ae11bea9",
   "metadata": {},
   "outputs": [],
   "source": [
    "# jit 하면 컴파일 해서 속도가 빨라짐\n",
    "# 텐서플로를 깊게 공부하려면 데코레이터를 빡세게 알아야 한다.\n",
    "# 데코레이터는 기존에 있는 함수의 기능을 바꾸는 것.\n",
    "# 클래스 메소드 붙혔더니 클래스가 사용할 수 있고, 인스턴스가 접근 가능\n",
    "# staticmethod, property -> callable 의 기능을 바꾸는 것."
   ]
  },
  {
   "cell_type": "code",
   "execution_count": null,
   "id": "e191592b",
   "metadata": {},
   "outputs": [],
   "source": [
    "# 클래스 데코레이터도 있다.\n",
    "# 기존에 있는 callable의 기능을 바꾸는 것이 데코레이터"
   ]
  },
  {
   "cell_type": "code",
   "execution_count": 1,
   "id": "1927177e",
   "metadata": {
    "ExecuteTime": {
     "end_time": "2023-03-14T05:21:58.579819Z",
     "start_time": "2023-03-14T05:21:58.566745Z"
    }
   },
   "outputs": [],
   "source": [
    "# 우리가 했던 것 중에 closure. 괄호 2개 붙히는 것.\n",
    "def x(m):\n",
    "    def y(n):\n",
    "        return m+n\n",
    "    return y"
   ]
  },
  {
   "cell_type": "code",
   "execution_count": 2,
   "id": "e11c97ce",
   "metadata": {
    "ExecuteTime": {
     "end_time": "2023-03-14T05:22:05.404609Z",
     "start_time": "2023-03-14T05:22:05.385800Z"
    }
   },
   "outputs": [
    {
     "data": {
      "text/plain": [
       "<function __main__.x.<locals>.y(n)>"
      ]
     },
     "execution_count": 2,
     "metadata": {},
     "output_type": "execute_result"
    }
   ],
   "source": [
    "x(1)"
   ]
  },
  {
   "cell_type": "code",
   "execution_count": 3,
   "id": "5c29773d",
   "metadata": {
    "ExecuteTime": {
     "end_time": "2023-03-14T05:22:15.023825Z",
     "start_time": "2023-03-14T05:22:15.009930Z"
    }
   },
   "outputs": [
    {
     "data": {
      "text/plain": [
       "5"
      ]
     },
     "execution_count": 3,
     "metadata": {},
     "output_type": "execute_result"
    }
   ],
   "source": [
    "x(1)(4)\n",
    "# 호출하는 함수가 계속 남아있는다고 해서 클로져 라고 한다."
   ]
  },
  {
   "cell_type": "code",
   "execution_count": 1,
   "id": "560669e7",
   "metadata": {
    "ExecuteTime": {
     "end_time": "2023-03-24T11:45:27.764658Z",
     "start_time": "2023-03-24T11:45:27.755065Z"
    }
   },
   "outputs": [],
   "source": [
    "# 두 개의 파라미터의 조합으로 훨씬 더 유연한 실행체계를 가질 수 있음.\n",
    "# 함수를 클래스로 바꿔버리면,\n",
    "# 이게 클로져다!\n",
    "class X:\n",
    "    def __init__(self, m):\n",
    "        self.m = m\n",
    "    def __call__(self, n):\n",
    "        return self.m + n"
   ]
  },
  {
   "cell_type": "code",
   "execution_count": 15,
   "id": "25f444df",
   "metadata": {
    "ExecuteTime": {
     "end_time": "2023-03-24T11:47:02.485128Z",
     "start_time": "2023-03-24T11:47:02.475105Z"
    }
   },
   "outputs": [],
   "source": [
    "a = X(3)"
   ]
  },
  {
   "cell_type": "code",
   "execution_count": 16,
   "id": "28f855a2",
   "metadata": {
    "ExecuteTime": {
     "end_time": "2023-03-24T11:47:18.160102Z",
     "start_time": "2023-03-24T11:47:18.150086Z"
    }
   },
   "outputs": [
    {
     "data": {
      "text/plain": [
       "7"
      ]
     },
     "execution_count": 16,
     "metadata": {},
     "output_type": "execute_result"
    }
   ],
   "source": [
    "a(4)"
   ]
  },
  {
   "cell_type": "code",
   "execution_count": 6,
   "id": "bbf0436d",
   "metadata": {
    "ExecuteTime": {
     "end_time": "2023-03-14T05:23:13.643462Z",
     "start_time": "2023-03-14T05:23:13.630529Z"
    }
   },
   "outputs": [
    {
     "data": {
      "text/plain": [
       "7"
      ]
     },
     "execution_count": 6,
     "metadata": {},
     "output_type": "execute_result"
    }
   ],
   "source": [
    "X(3)(4)\n",
    "# 이게 바로 텐서플로의 클로져 테크닉. -> 두 개의 조합으로 굉장히 유연하게 사용할 수 있음"
   ]
  },
  {
   "cell_type": "code",
   "execution_count": null,
   "id": "40520451",
   "metadata": {},
   "outputs": [],
   "source": [
    "# 왜 데코레이터 할 때 클로져 이야기?\n",
    "# 데코레이터는 function closure 라서 그렇다.\n",
    "# 웹에서도 정말 많이 쓰이는 것이 데코레이터"
   ]
  },
  {
   "cell_type": "code",
   "execution_count": null,
   "id": "c5f55308",
   "metadata": {},
   "outputs": [],
   "source": [
    "# 데코레이터의 의미는, function closure 이고 callable의 기능을 바꿔주는 것.\n",
    "# 언제 이걸 쓸까? 기존에 만들어놓은 함수가 잘 실행되고 있다. 그런데 갑자기 기능을 바꿔야 할 때.\n",
    "# 그럴 때 데코레이터를 쓰면 기존의 것을 그대로 놔두고 데코레이터를 활용할 수 있음.\n",
    "# 데코레이터를 통해서 기능을 바꿀 수 있는 것.\n",
    "# 즉 데코레이터는 함수형 패러다임의 또 하나의 꽃."
   ]
  },
  {
   "cell_type": "code",
   "execution_count": null,
   "id": "b27e2bd9",
   "metadata": {},
   "outputs": [],
   "source": [
    "# 예시를 보자\n",
    "# 책 예시에서는 return을 빼고 함. 그래도 None 이니까 상관 x"
   ]
  },
  {
   "cell_type": "code",
   "execution_count": 17,
   "id": "bbebd281",
   "metadata": {
    "ExecuteTime": {
     "end_time": "2023-03-24T11:48:01.913007Z",
     "start_time": "2023-03-24T11:48:01.903409Z"
    }
   },
   "outputs": [],
   "source": [
    "# 함수에 함수 인자를 넣을 수 있다 =>> first class, higher-order function\n",
    "# higher-order은 함수를 인자로 받고 함수를 리턴할 수 있는 것\n",
    "# def에서 () 안 붙힌 게 함수.\n",
    "def foo():\n",
    "    print('foo!')\n",
    "    \n",
    "def bar(fn):  # 여기서 fn 은 함수. 함수의 이름. fn() 이거는 signature인 것.\n",
    "    fn()"
   ]
  },
  {
   "cell_type": "code",
   "execution_count": 18,
   "id": "0539bb85",
   "metadata": {
    "ExecuteTime": {
     "end_time": "2023-03-24T11:48:05.105093Z",
     "start_time": "2023-03-24T11:48:05.094766Z"
    }
   },
   "outputs": [
    {
     "name": "stdout",
     "output_type": "stream",
     "text": [
      "foo!\n"
     ]
    }
   ],
   "source": [
    "bar(foo)"
   ]
  },
  {
   "cell_type": "code",
   "execution_count": 19,
   "id": "7a22bd86",
   "metadata": {
    "ExecuteTime": {
     "end_time": "2023-03-24T11:49:30.558925Z",
     "start_time": "2023-03-24T11:49:30.547358Z"
    }
   },
   "outputs": [],
   "source": [
    "# 함수 안에 함수 중첩할 수 있다.\n",
    "# 왜 함수 안에 함수를 중첩? =>> \n",
    "# 스코프; 함수 안에는 외부에서 접근할 수 없다. 내부의 함수는 나만이 쓰는 함수인 것(내포한 함수가)\n",
    "# 굳이 복잡하지 않으면, 그래서, lambda 함수를 쓴다. =>> 한 번쓰고 버릴 애들을 람다로 하기 때문.\n",
    "# 외부에서 접근하지 않고 나만이 함수를 쓸 때 중첩함수.\n",
    "# 이런 기능을 갖고 있었기 때문에 global, nonlocal 개념이 등장함.\n",
    "def foo():\n",
    "    def bar():\n",
    "        print('bar!')\n",
    "    bar()"
   ]
  },
  {
   "cell_type": "code",
   "execution_count": 20,
   "id": "5137668a",
   "metadata": {
    "ExecuteTime": {
     "end_time": "2023-03-24T11:49:31.819445Z",
     "start_time": "2023-03-24T11:49:31.810092Z"
    }
   },
   "outputs": [
    {
     "name": "stdout",
     "output_type": "stream",
     "text": [
      "bar!\n"
     ]
    }
   ],
   "source": [
    "# 그러면 클래스 안에 클래스 정의할 수 있을까? =>> 있다!\n",
    "# 그런데 클래스는, 기본적으로 consenting adult. 외부에서 막 접근하기 때문에 잘 쓰지 않음.\n",
    "# 함수 안의 함수는 접근 권한을 막아놨기 때문에 클래스 안의 클래스보다 훨씬 많이 씀. 그래서 문법이 존재함(global, nonlocal)\n",
    "# 그래서 이걸 nested function(중첩된 함수), inner function\n",
    "foo()"
   ]
  },
  {
   "cell_type": "code",
   "execution_count": 21,
   "id": "357c33e2",
   "metadata": {
    "ExecuteTime": {
     "end_time": "2023-03-24T11:49:50.299901Z",
     "start_time": "2023-03-24T11:49:50.274184Z"
    }
   },
   "outputs": [
    {
     "ename": "TypeError",
     "evalue": "bar() missing 1 required positional argument: 'fn'",
     "output_type": "error",
     "traceback": [
      "\u001b[0;31m---------------------------------------------------------------------------\u001b[0m",
      "\u001b[0;31mTypeError\u001b[0m                                 Traceback (most recent call last)",
      "Cell \u001b[0;32mIn[21], line 1\u001b[0m\n\u001b[0;32m----> 1\u001b[0m \u001b[43mbar\u001b[49m\u001b[43m(\u001b[49m\u001b[43m)\u001b[49m\n",
      "\u001b[0;31mTypeError\u001b[0m: bar() missing 1 required positional argument: 'fn'"
     ]
    }
   ],
   "source": [
    "bar() # 에러 뜸"
   ]
  },
  {
   "cell_type": "code",
   "execution_count": 22,
   "id": "94a71eca",
   "metadata": {
    "ExecuteTime": {
     "end_time": "2023-03-24T11:50:06.376532Z",
     "start_time": "2023-03-24T11:50:06.363909Z"
    }
   },
   "outputs": [],
   "source": [
    "# 데코레이터는 !\n",
    "# 구조가 nested 구조.\n",
    "# 그리고 첫번째 인자는 무조건 함수(callable)을 받아야 한다.  (조건1)\n",
    "# nested 함수 안에서 함수를 실행하는 부분(함수를 call하는 부분)이 있어야 함.  (조건2)\n",
    "# 가장 기본적인 조건 2가지임.\n",
    "\n",
    "# 이때부터 @문법을 쓸 수 있음.\n",
    "def foo(fn):\n",
    "    def inner():\n",
    "        print('start')\n",
    "        fn()\n",
    "        print('end')\n",
    "    return inner\n",
    "\n",
    "@foo\n",
    "def bar():\n",
    "    print('calling func bar')"
   ]
  },
  {
   "cell_type": "code",
   "execution_count": 23,
   "id": "c89e533b",
   "metadata": {
    "ExecuteTime": {
     "end_time": "2023-03-24T11:50:10.485140Z",
     "start_time": "2023-03-24T11:50:10.476753Z"
    }
   },
   "outputs": [
    {
     "name": "stdout",
     "output_type": "stream",
     "text": [
      "start\n",
      "calling func bar\n",
      "end\n"
     ]
    }
   ],
   "source": [
    "bar()"
   ]
  },
  {
   "cell_type": "code",
   "execution_count": 24,
   "id": "33ae2e10",
   "metadata": {
    "ExecuteTime": {
     "end_time": "2023-03-24T11:50:34.583474Z",
     "start_time": "2023-03-24T11:50:34.573845Z"
    }
   },
   "outputs": [],
   "source": [
    "def a(fn):\n",
    "    def b():   # fn이 nested func 안에서 어떠한 방식으로든 실행()이 되어야 함.\n",
    "        print('---')\n",
    "        fn()\n",
    "        print('+++')"
   ]
  },
  {
   "cell_type": "code",
   "execution_count": 25,
   "id": "2e9238fe",
   "metadata": {
    "ExecuteTime": {
     "end_time": "2023-03-24T11:50:41.885827Z",
     "start_time": "2023-03-24T11:50:41.876175Z"
    }
   },
   "outputs": [],
   "source": [
    "@a  # 위의 조건 2가지를 만족했으면 함수 이름으로 @ 붙힐 수 있음. 다른 함수 부를 수 있음\n",
    "def x():\n",
    "    return 'd'"
   ]
  },
  {
   "cell_type": "code",
   "execution_count": null,
   "id": "99d2cca8",
   "metadata": {},
   "outputs": [],
   "source": [
    "# 이제 데코레이터의 작동원리!\n",
    "# 데코레이터는 핵심이 안에있는 함수의 기능."
   ]
  },
  {
   "cell_type": "code",
   "execution_count": 26,
   "id": "7c18f8c9",
   "metadata": {
    "ExecuteTime": {
     "end_time": "2023-03-24T11:50:55.097565Z",
     "start_time": "2023-03-24T11:50:55.072241Z"
    }
   },
   "outputs": [
    {
     "ename": "TypeError",
     "evalue": "'NoneType' object is not callable",
     "output_type": "error",
     "traceback": [
      "\u001b[0;31m---------------------------------------------------------------------------\u001b[0m",
      "\u001b[0;31mTypeError\u001b[0m                                 Traceback (most recent call last)",
      "Cell \u001b[0;32mIn[26], line 1\u001b[0m\n\u001b[0;32m----> 1\u001b[0m \u001b[43mx\u001b[49m\u001b[43m(\u001b[49m\u001b[43m)\u001b[49m\n",
      "\u001b[0;31mTypeError\u001b[0m: 'NoneType' object is not callable"
     ]
    }
   ],
   "source": [
    "x()\n",
    "# 이 x함수가 a의 인자로 들어감.\n",
    "# 그래서 fn에 x가 들어가는 것.\n",
    "# 그런데 return이 None"
   ]
  },
  {
   "cell_type": "code",
   "execution_count": 27,
   "id": "bb92a187",
   "metadata": {
    "ExecuteTime": {
     "end_time": "2023-03-24T11:51:12.262628Z",
     "start_time": "2023-03-24T11:51:12.248319Z"
    }
   },
   "outputs": [],
   "source": [
    "def a(fn):\n",
    "    def b():   # fn이 nested func 안에서 어떠한 방식으로든 실행()이 되어야 함.\n",
    "        print('---')\n",
    "        fn()\n",
    "        print('+++')\n",
    "    return b"
   ]
  },
  {
   "cell_type": "code",
   "execution_count": 28,
   "id": "6e587e63",
   "metadata": {
    "ExecuteTime": {
     "end_time": "2023-03-24T11:51:14.060340Z",
     "start_time": "2023-03-24T11:51:14.052661Z"
    }
   },
   "outputs": [],
   "source": [
    "@a  # 위의 조건 2가지를 만족했으면 함수 이름으로 @ 붙힐 수 있음. 다른 함수 부를 수 있음\n",
    "def x():\n",
    "    return 'd'"
   ]
  },
  {
   "cell_type": "code",
   "execution_count": 29,
   "id": "975b18bd",
   "metadata": {
    "ExecuteTime": {
     "end_time": "2023-03-24T11:51:20.613126Z",
     "start_time": "2023-03-24T11:51:20.603683Z"
    }
   },
   "outputs": [
    {
     "name": "stdout",
     "output_type": "stream",
     "text": [
      "---\n",
      "+++\n"
     ]
    }
   ],
   "source": [
    "x()\n",
    "# 이제 a의 리턴값은 b함수."
   ]
  },
  {
   "cell_type": "code",
   "execution_count": 30,
   "id": "4b15f9a2",
   "metadata": {
    "ExecuteTime": {
     "end_time": "2023-03-24T11:51:25.289756Z",
     "start_time": "2023-03-24T11:51:25.280420Z"
    }
   },
   "outputs": [],
   "source": [
    "@a  # 위의 조건 2가지를 만족했으면 함수 이름으로 @ 붙힐 수 있음. 다른 함수 부를 수 있음\n",
    "def x():\n",
    "    print('x')"
   ]
  },
  {
   "cell_type": "code",
   "execution_count": 31,
   "id": "5ccd41ba",
   "metadata": {
    "ExecuteTime": {
     "end_time": "2023-03-24T11:51:28.046100Z",
     "start_time": "2023-03-24T11:51:28.025279Z"
    }
   },
   "outputs": [
    {
     "name": "stdout",
     "output_type": "stream",
     "text": [
      "---\n",
      "x\n",
      "+++\n"
     ]
    }
   ],
   "source": [
    "x()\n",
    "# 데코레이터 문법.\n",
    "# 1. 함수를 받고\n",
    "# 2. 안에 함수 있어야하는데, fn이 어떠한 형태로든지 실행되야 함.\n",
    "# 3. 그러면 @ 문법을 쓸 수 있음.\n",
    "# 4. @ 문법을 붙히면, 원래 함수는 그냥 x만 프린트하는 기능이었는데,\n",
    "# 5. @를 붙혔더니 x 실행했더니 기능이 바뀜(나를 감싸는 애가 추가됨) =>> 데코레이터를 붙히면 함수의 기능을 바꾸는 것.\n",
    "# 즉, x를 a에 fn으로 집어 넣음. 그러면 a를 실행시키면 b가 리턴되니까 b()를 실행시키는 것. fn()이 x니까 그게 찍히는 것."
   ]
  },
  {
   "cell_type": "code",
   "execution_count": null,
   "id": "df3fa972",
   "metadata": {},
   "outputs": [],
   "source": [
    "# 여기까지가 첫출발임. 이제 앞으로 @가 엄청 등장할 것."
   ]
  },
  {
   "cell_type": "code",
   "execution_count": 32,
   "id": "28dd9984",
   "metadata": {
    "ExecuteTime": {
     "end_time": "2023-03-24T11:52:02.298319Z",
     "start_time": "2023-03-24T11:52:02.287167Z"
    }
   },
   "outputs": [],
   "source": [
    "# 다시 보자\n",
    "def foo(fn):\n",
    "    def inner():\n",
    "        print('start')\n",
    "        fn()\n",
    "        print('end')\n",
    "    return inner\n",
    "\n",
    "@foo\n",
    "def bar():\n",
    "    print('bar')"
   ]
  },
  {
   "cell_type": "code",
   "execution_count": 33,
   "id": "84f857f2",
   "metadata": {
    "ExecuteTime": {
     "end_time": "2023-03-24T11:52:15.692122Z",
     "start_time": "2023-03-24T11:52:15.685397Z"
    }
   },
   "outputs": [
    {
     "name": "stdout",
     "output_type": "stream",
     "text": [
      "start\n",
      "bar\n",
      "end\n"
     ]
    }
   ],
   "source": [
    "bar()\n",
    "\n",
    "# 1. bar를 실행() 즉 bar() 했을 때,\n",
    "# 2. @foo 때문에 bar가 fn으로 foo()안에 들어감\n",
    "# 3. foo(bar) 가 되고 리턴값으로 inner 함수가 나옴.\n",
    "# 4. inner 함수가 실행되면서 start 찍히고 fn인 bar가 실행() 되고, end가 찍히는 것.\n",
    "\n",
    "# ? => inner에는 ()가 안붙어도 되는 이유?"
   ]
  },
  {
   "cell_type": "code",
   "execution_count": 34,
   "id": "70055baf",
   "metadata": {
    "ExecuteTime": {
     "end_time": "2023-03-24T11:52:56.461587Z",
     "start_time": "2023-03-24T11:52:56.451488Z"
    }
   },
   "outputs": [
    {
     "name": "stdout",
     "output_type": "stream",
     "text": [
      "start\n",
      "bar\n",
      "end\n"
     ]
    }
   ],
   "source": [
    "# 다시 보자\n",
    "def foo(fn):\n",
    "    def inner():\n",
    "        print('start')\n",
    "        fn()\n",
    "        print('end')\n",
    "    return inner()\n",
    "\n",
    "@foo\n",
    "def bar():\n",
    "    print('bar')"
   ]
  },
  {
   "cell_type": "code",
   "execution_count": 35,
   "id": "9bb0eb82",
   "metadata": {
    "ExecuteTime": {
     "end_time": "2023-03-24T11:52:59.191291Z",
     "start_time": "2023-03-24T11:52:59.162630Z"
    }
   },
   "outputs": [
    {
     "ename": "TypeError",
     "evalue": "'NoneType' object is not callable",
     "output_type": "error",
     "traceback": [
      "\u001b[0;31m---------------------------------------------------------------------------\u001b[0m",
      "\u001b[0;31mTypeError\u001b[0m                                 Traceback (most recent call last)",
      "Cell \u001b[0;32mIn[35], line 1\u001b[0m\n\u001b[0;32m----> 1\u001b[0m \u001b[43mbar\u001b[49m\u001b[43m(\u001b[49m\u001b[43m)\u001b[49m\n",
      "\u001b[0;31mTypeError\u001b[0m: 'NoneType' object is not callable"
     ]
    }
   ],
   "source": [
    "bar()"
   ]
  },
  {
   "cell_type": "code",
   "execution_count": 36,
   "id": "e2632f63",
   "metadata": {
    "ExecuteTime": {
     "end_time": "2023-03-24T11:53:33.824260Z",
     "start_time": "2023-03-24T11:53:33.814466Z"
    }
   },
   "outputs": [],
   "source": [
    "# 클래스 배웠던 관점에서 보자\n",
    "class A:\n",
    "    def x(self):\n",
    "        print('x')  # 이렇게 하면 인스턴스 메소드. 함수 뿐 아니라 콜러블은 다 됨."
   ]
  },
  {
   "cell_type": "code",
   "execution_count": 37,
   "id": "dc28b9c2",
   "metadata": {
    "ExecuteTime": {
     "end_time": "2023-03-24T11:53:34.477497Z",
     "start_time": "2023-03-24T11:53:34.469727Z"
    }
   },
   "outputs": [],
   "source": [
    "a = A()"
   ]
  },
  {
   "cell_type": "code",
   "execution_count": 41,
   "id": "a94a1add",
   "metadata": {
    "ExecuteTime": {
     "end_time": "2023-03-24T11:53:54.630717Z",
     "start_time": "2023-03-24T11:53:54.620917Z"
    }
   },
   "outputs": [
    {
     "name": "stdout",
     "output_type": "stream",
     "text": [
      "x\n"
     ]
    }
   ],
   "source": [
    "A.x(A)"
   ]
  },
  {
   "cell_type": "code",
   "execution_count": 46,
   "id": "f3445acb",
   "metadata": {
    "ExecuteTime": {
     "end_time": "2023-03-24T11:54:24.126354Z",
     "start_time": "2023-03-24T11:54:24.108672Z"
    }
   },
   "outputs": [
    {
     "data": {
      "text/plain": [
       "<bound method A.x of <__main__.A object at 0x7fee414d2f20>>"
      ]
     },
     "execution_count": 46,
     "metadata": {},
     "output_type": "execute_result"
    }
   ],
   "source": [
    "a.x"
   ]
  },
  {
   "cell_type": "code",
   "execution_count": 42,
   "id": "a3992694",
   "metadata": {
    "ExecuteTime": {
     "end_time": "2023-03-24T11:53:57.515752Z",
     "start_time": "2023-03-24T11:53:57.505841Z"
    }
   },
   "outputs": [
    {
     "name": "stdout",
     "output_type": "stream",
     "text": [
      "x\n"
     ]
    }
   ],
   "source": [
    "a.x()"
   ]
  },
  {
   "cell_type": "code",
   "execution_count": 43,
   "id": "e80958a3",
   "metadata": {
    "ExecuteTime": {
     "end_time": "2023-03-24T11:54:08.812103Z",
     "start_time": "2023-03-24T11:54:08.802638Z"
    }
   },
   "outputs": [],
   "source": [
    "# 클래스 배웠던 관점에서 보자\n",
    "class A:\n",
    "    @property # 원래 만들어진 데코레이터. ()를 안써도 접근할 수 있게 바뀌어 버림. => x가 property에 들어가서 기능이 바뀌어서.\n",
    "    # 그러면 이후에 .x하면 됨\n",
    "    def x(self):\n",
    "        print('x')  # 이렇게 하면 인스턴스 메소드. 함수 뿐 아니라 콜러블은 다 됨."
   ]
  },
  {
   "cell_type": "code",
   "execution_count": 44,
   "id": "939b27fe",
   "metadata": {
    "ExecuteTime": {
     "end_time": "2023-03-24T11:54:14.164079Z",
     "start_time": "2023-03-24T11:54:14.154514Z"
    }
   },
   "outputs": [],
   "source": [
    "b = A()"
   ]
  },
  {
   "cell_type": "code",
   "execution_count": 45,
   "id": "42226c8b",
   "metadata": {
    "ExecuteTime": {
     "end_time": "2023-03-24T11:54:18.293810Z",
     "start_time": "2023-03-24T11:54:18.285238Z"
    }
   },
   "outputs": [
    {
     "name": "stdout",
     "output_type": "stream",
     "text": [
      "x\n"
     ]
    }
   ],
   "source": [
    "b.x"
   ]
  },
  {
   "cell_type": "code",
   "execution_count": null,
   "id": "c44e4cd4",
   "metadata": {},
   "outputs": [],
   "source": [
    "# 딱 한줄만 가져다 쓰면 기존 코드의 기능을 바꿔주는 것이 데코레이터.\n",
    "# 이제 우리가 만들어야 하는 경우가 꽤 많음.\n",
    "# 기존 만들어진 함수의 기능을 바꾸고 싶으면 데코레이터 만들어서 위에 가져다 붙히면 되기 때문."
   ]
  },
  {
   "cell_type": "code",
   "execution_count": 28,
   "id": "cf034c6e",
   "metadata": {
    "ExecuteTime": {
     "end_time": "2023-03-14T05:45:04.036265Z",
     "start_time": "2023-03-14T05:45:04.025814Z"
    }
   },
   "outputs": [],
   "source": [
    "# 다시 보자\n",
    "def foo(fn):\n",
    "    def inner():\n",
    "        print('start')\n",
    "        fn()\n",
    "        print('end')\n",
    "    return inner\n",
    "\n",
    "@foo\n",
    "def bar():\n",
    "    print('bar')"
   ]
  },
  {
   "cell_type": "code",
   "execution_count": null,
   "id": "d3857a19",
   "metadata": {},
   "outputs": [],
   "source": [
    "# 위의 @ 뒤에 문장은 foo(bar) 랑 같음. 이를 위처럼 표시하면 달콤함. 이 구조는 syntactic sugar\n",
    "# 즉 위가 좀 더 명확함. bar에 foo라는 기능을 덧붙히겠다는 것."
   ]
  },
  {
   "cell_type": "code",
   "execution_count": null,
   "id": "4b30a5ff",
   "metadata": {},
   "outputs": [],
   "source": [
    "# 기능을 덧붙힌다. bar에 foo라는 새로운 기능을 덧붙혀주겠다는 것.\n",
    "# 파이토치에는 실행 빨리 되지 않는 기능을 짜도 데코레이터만 붙히면 실행이 빨리 되겠네 라고 생각하고, 데코레이터로 되는 것을 빼고 코드를\n",
    "# 짜면 될 것."
   ]
  },
  {
   "cell_type": "markdown",
   "id": "73ac8ba8",
   "metadata": {},
   "source": [
    "#### 이제부터 잘 이해해보자"
   ]
  },
  {
   "cell_type": "code",
   "execution_count": null,
   "id": "50c6bcc9",
   "metadata": {},
   "outputs": [],
   "source": [
    "# 데코레이터가 어떻게 실행되는지가 pdf에 잘 설명됨.\n",
    "1. 처음에 bar라고 불리는 함수가 정의됨. 목적은 메시지를 프린트하는 것.\n",
    "2. 그리고 foo라는 함수가 정의됨\n",
    "3. foo는 파라미터 1개 취하는 함수\n",
    "4. foo 안에서 inner라는 함수가 정의됨. 파이썬의 스코프 때문에 inner는 \n",
    "5. inner는 3가지 일을 한다."
   ]
  },
  {
   "cell_type": "code",
   "execution_count": null,
   "id": "bd531510",
   "metadata": {},
   "outputs": [],
   "source": [
    "# preserving function metadata\n",
    "# *, **"
   ]
  },
  {
   "cell_type": "code",
   "execution_count": 49,
   "id": "9e553a6b",
   "metadata": {
    "ExecuteTime": {
     "end_time": "2023-03-14T06:18:53.298990Z",
     "start_time": "2023-03-14T06:18:53.278980Z"
    }
   },
   "outputs": [],
   "source": [
    "def m(fn):\n",
    "    def n():\n",
    "        return fn()  # 무조건 실행시켜야 하니까\n",
    "    return n"
   ]
  },
  {
   "cell_type": "code",
   "execution_count": 51,
   "id": "82acb9cb",
   "metadata": {
    "ExecuteTime": {
     "end_time": "2023-03-14T06:20:02.592660Z",
     "start_time": "2023-03-14T06:20:02.582522Z"
    }
   },
   "outputs": [],
   "source": [
    "@m\n",
    "def a(x):\n",
    "    return x"
   ]
  },
  {
   "cell_type": "code",
   "execution_count": null,
   "id": "debdf02d",
   "metadata": {},
   "outputs": [],
   "source": [
    "# 위는 문법적으로 a라는 함수를 m에 집어넣는 것.\n",
    "# 그러나 우리는 a라는 함수에 m이라는 기능을 덧붙힌다고 해석."
   ]
  },
  {
   "cell_type": "code",
   "execution_count": 52,
   "id": "235210ce",
   "metadata": {
    "ExecuteTime": {
     "end_time": "2023-03-14T06:21:03.513481Z",
     "start_time": "2023-03-14T06:21:03.485154Z"
    }
   },
   "outputs": [
    {
     "ename": "TypeError",
     "evalue": "m.<locals>.n() takes 0 positional arguments but 1 was given",
     "output_type": "error",
     "traceback": [
      "\u001b[0;31m---------------------------------------------------------------------------\u001b[0m",
      "\u001b[0;31mTypeError\u001b[0m                                 Traceback (most recent call last)",
      "Cell \u001b[0;32mIn[52], line 1\u001b[0m\n\u001b[0;32m----> 1\u001b[0m \u001b[43ma\u001b[49m\u001b[43m(\u001b[49m\u001b[38;5;241;43m2\u001b[39;49m\u001b[43m)\u001b[49m\n",
      "\u001b[0;31mTypeError\u001b[0m: m.<locals>.n() takes 0 positional arguments but 1 was given"
     ]
    }
   ],
   "source": [
    "a(2)  # m의 기능까지 합쳐질 것\n",
    "# 에러가 생김. 왜 생겼을까?"
   ]
  },
  {
   "cell_type": "code",
   "execution_count": null,
   "id": "cfb38e91",
   "metadata": {},
   "outputs": [],
   "source": [
    "# 에러가 생긴 이유? -> 내 추측: fn이 실행될 때() x가 하나 필요하기 때문\n",
    "# a()를 하면 m에 a를 집어넣어서 실행함(문법적으로). a라는 함수를 fn에 집어넣음. 리턴이 n.\n",
    "# 리턴이 n이라는 것은 리턴이 m안에 정의된 함수.\n",
    "# 그런데 fn에 인자가 없음. fn 실행시키려면 인자가 있어야 함. a함수에 인자가 있어야 하기 때문.\n",
    "# 그러면 n 안의 fn에 인자를 줘야 함.\n",
    "# 함수 안에 있는 애는 밖에것 접근 가능. 그런데 그게 안되니까\n",
    "# n에 와야함.\n",
    "# 즉 이 뜻은 내가 사용할 함수에 맞춰줘야 한다는 것.(인자까지도)"
   ]
  },
  {
   "cell_type": "code",
   "execution_count": 53,
   "id": "9ef958f4",
   "metadata": {
    "ExecuteTime": {
     "end_time": "2023-03-14T06:24:02.537310Z",
     "start_time": "2023-03-14T06:24:02.525831Z"
    }
   },
   "outputs": [],
   "source": [
    "def m(fn):\n",
    "    def n(b):\n",
    "        return fn(b) + 1  # 무조건 실행시켜야 하니까\n",
    "    return n"
   ]
  },
  {
   "cell_type": "code",
   "execution_count": 54,
   "id": "40541019",
   "metadata": {
    "ExecuteTime": {
     "end_time": "2023-03-14T06:24:03.303909Z",
     "start_time": "2023-03-14T06:24:03.298293Z"
    }
   },
   "outputs": [],
   "source": [
    "@m\n",
    "def a(x):\n",
    "    return x"
   ]
  },
  {
   "cell_type": "code",
   "execution_count": 55,
   "id": "213b6e3b",
   "metadata": {
    "ExecuteTime": {
     "end_time": "2023-03-14T06:24:06.372933Z",
     "start_time": "2023-03-14T06:24:06.362656Z"
    }
   },
   "outputs": [
    {
     "data": {
      "text/plain": [
       "3"
      ]
     },
     "execution_count": 55,
     "metadata": {},
     "output_type": "execute_result"
    }
   ],
   "source": [
    "a(2)"
   ]
  },
  {
   "cell_type": "code",
   "execution_count": 56,
   "id": "9f5962ae",
   "metadata": {
    "ExecuteTime": {
     "end_time": "2023-03-14T06:24:41.929567Z",
     "start_time": "2023-03-14T06:24:41.917347Z"
    }
   },
   "outputs": [],
   "source": [
    "@m\n",
    "def b():\n",
    "    return 1  # b는 인자 없어야 함.\n",
    "# 그런데 인자 있는 함수에서 실행해서 에러 나옴."
   ]
  },
  {
   "cell_type": "code",
   "execution_count": 57,
   "id": "7b72fa2f",
   "metadata": {
    "ExecuteTime": {
     "end_time": "2023-03-14T06:25:10.164749Z",
     "start_time": "2023-03-14T06:25:10.138533Z"
    }
   },
   "outputs": [
    {
     "ename": "TypeError",
     "evalue": "m.<locals>.n() missing 1 required positional argument: 'b'",
     "output_type": "error",
     "traceback": [
      "\u001b[0;31m---------------------------------------------------------------------------\u001b[0m",
      "\u001b[0;31mTypeError\u001b[0m                                 Traceback (most recent call last)",
      "Cell \u001b[0;32mIn[57], line 1\u001b[0m\n\u001b[0;32m----> 1\u001b[0m \u001b[43mb\u001b[49m\u001b[43m(\u001b[49m\u001b[43m)\u001b[49m\n",
      "\u001b[0;31mTypeError\u001b[0m: m.<locals>.n() missing 1 required positional argument: 'b'"
     ]
    }
   ],
   "source": [
    "b()"
   ]
  },
  {
   "cell_type": "code",
   "execution_count": 58,
   "id": "b5f469aa",
   "metadata": {
    "ExecuteTime": {
     "end_time": "2023-03-14T06:25:29.854925Z",
     "start_time": "2023-03-14T06:25:29.851198Z"
    }
   },
   "outputs": [],
   "source": [
    "# 즉, 데코레이터는 인자를 맞춰줘야 한다는 조건이 있음."
   ]
  },
  {
   "cell_type": "code",
   "execution_count": null,
   "id": "c878b464",
   "metadata": {},
   "outputs": [],
   "source": [
    "# 그런데 우리한테는 만능 인자 맞추는 것이 있음. 세상의 모든 인자의 가능성이 있음."
   ]
  },
  {
   "cell_type": "code",
   "execution_count": 64,
   "id": "54b4efe3",
   "metadata": {
    "ExecuteTime": {
     "end_time": "2023-03-14T06:27:01.566292Z",
     "start_time": "2023-03-14T06:27:01.558346Z"
    }
   },
   "outputs": [],
   "source": [
    "def m(fn):\n",
    "    def n(*k, **kw):\n",
    "        return fn(*k, **kw) + 1  # 무조건 실행시켜야 하니까\n",
    "    return n"
   ]
  },
  {
   "cell_type": "code",
   "execution_count": 65,
   "id": "f9f5ceed",
   "metadata": {
    "ExecuteTime": {
     "end_time": "2023-03-14T06:27:02.343311Z",
     "start_time": "2023-03-14T06:27:02.333679Z"
    }
   },
   "outputs": [],
   "source": [
    "@m\n",
    "def a(x):\n",
    "    return x"
   ]
  },
  {
   "cell_type": "code",
   "execution_count": 66,
   "id": "2401fcea",
   "metadata": {
    "ExecuteTime": {
     "end_time": "2023-03-14T06:27:02.929302Z",
     "start_time": "2023-03-14T06:27:02.922682Z"
    }
   },
   "outputs": [],
   "source": [
    "@m\n",
    "def b():\n",
    "    return 1  # b는 인자 없어야 함.\n",
    "# 그런데 인자 있는 함수에서 실행해서 에러 나옴."
   ]
  },
  {
   "cell_type": "code",
   "execution_count": 70,
   "id": "d533a634",
   "metadata": {
    "ExecuteTime": {
     "end_time": "2023-03-14T06:27:19.290583Z",
     "start_time": "2023-03-14T06:27:19.274019Z"
    }
   },
   "outputs": [
    {
     "data": {
      "text/plain": [
       "3"
      ]
     },
     "execution_count": 70,
     "metadata": {},
     "output_type": "execute_result"
    }
   ],
   "source": [
    "a(2)"
   ]
  },
  {
   "cell_type": "code",
   "execution_count": 69,
   "id": "267a550f",
   "metadata": {
    "ExecuteTime": {
     "end_time": "2023-03-14T06:27:10.087709Z",
     "start_time": "2023-03-14T06:27:10.075399Z"
    }
   },
   "outputs": [
    {
     "data": {
      "text/plain": [
       "2"
      ]
     },
     "execution_count": 69,
     "metadata": {},
     "output_type": "execute_result"
    }
   ],
   "source": [
    "b()"
   ]
  },
  {
   "cell_type": "code",
   "execution_count": null,
   "id": "10060b66",
   "metadata": {},
   "outputs": [],
   "source": [
    "# 즉 *, ** 은 인자의 유연성을 보장해줌. 데코레이터에서 매우 효율적인 인자 맞추는 테크닉\n",
    "# 데코레이터에서 *k, **kw 를 하는 이유가 사용할 함수의 인자를 맞추기 위해서. 아주 좋음."
   ]
  },
  {
   "cell_type": "code",
   "execution_count": null,
   "id": "abf3e8c8",
   "metadata": {},
   "outputs": [],
   "source": [
    "# *, ** 테크닉이 없다고 생각해보자.\n",
    "# 사용자한테 경고를 띄워주는 걸 해보자 -> 데코레이터로 만듬. =>> warning"
   ]
  },
  {
   "cell_type": "code",
   "execution_count": 71,
   "id": "c082a737",
   "metadata": {
    "ExecuteTime": {
     "end_time": "2023-03-14T06:36:17.908535Z",
     "start_time": "2023-03-14T06:36:17.898885Z"
    }
   },
   "outputs": [],
   "source": [
    "def warning(fn):\n",
    "    def inner():\n",
    "        print('Warning!!!!')\n",
    "        fn()   # 어떤 값 넣었을 때 위험한 함수를 집어넣음\n",
    "    return inner"
   ]
  },
  {
   "cell_type": "code",
   "execution_count": 74,
   "id": "0db971e5",
   "metadata": {
    "ExecuteTime": {
     "end_time": "2023-03-14T06:38:15.061780Z",
     "start_time": "2023-03-14T06:38:15.054570Z"
    }
   },
   "outputs": [],
   "source": [
    "# 문자열 조심해야 함\n",
    "# 함수 변수의 이름을 문자열로 접근할 수 있음. input() 결과가 문자열. 그것을 내 클래스의 변수로 바꾸는 해킹 테크닉도 있음.\n",
    "# 문자열 받는 함수\n",
    "@warning   # 경고하기 위해서\n",
    "def t(tt):\n",
    "    return tt"
   ]
  },
  {
   "cell_type": "code",
   "execution_count": 75,
   "id": "a2bc1484",
   "metadata": {
    "ExecuteTime": {
     "end_time": "2023-03-14T06:38:17.878452Z",
     "start_time": "2023-03-14T06:38:17.853026Z"
    }
   },
   "outputs": [
    {
     "ename": "TypeError",
     "evalue": "warning.<locals>.inner() takes 0 positional arguments but 1 was given",
     "output_type": "error",
     "traceback": [
      "\u001b[0;31m---------------------------------------------------------------------------\u001b[0m",
      "\u001b[0;31mTypeError\u001b[0m                                 Traceback (most recent call last)",
      "Cell \u001b[0;32mIn[75], line 1\u001b[0m\n\u001b[0;32m----> 1\u001b[0m \u001b[43mt\u001b[49m\u001b[43m(\u001b[49m\u001b[38;5;241;43m3\u001b[39;49m\u001b[43m)\u001b[49m\n",
      "\u001b[0;31mTypeError\u001b[0m: warning.<locals>.inner() takes 0 positional arguments but 1 was given"
     ]
    }
   ],
   "source": [
    "t(3)"
   ]
  },
  {
   "cell_type": "code",
   "execution_count": null,
   "id": "5222661b",
   "metadata": {},
   "outputs": [],
   "source": [
    "# 위가 에러난 이유는 데코레이터에서 인자 없이 실행됐기 때문.\n",
    "# 그래서 데코레이터 안에 인자가 있어야 함\n",
    "# 이게 클로져에서 배운 테크닉 -> 클로져 테크닉"
   ]
  },
  {
   "cell_type": "code",
   "execution_count": 76,
   "id": "4910d357",
   "metadata": {
    "ExecuteTime": {
     "end_time": "2023-03-14T06:41:31.364377Z",
     "start_time": "2023-03-14T06:41:31.353732Z"
    }
   },
   "outputs": [],
   "source": [
    "# closure technique\n",
    "# m과 n을 파라미터로 줘버리는 것 =>> 그 이유는?\n",
    "\n",
    "m ?\n",
    "n ?\n",
    "def x(m):\n",
    "    def y(n):\n",
    "        return m+n\n",
    "    return y"
   ]
  },
  {
   "cell_type": "code",
   "execution_count": 77,
   "id": "43f040b8",
   "metadata": {
    "ExecuteTime": {
     "end_time": "2023-03-14T06:41:36.696661Z",
     "start_time": "2023-03-14T06:41:36.682748Z"
    }
   },
   "outputs": [
    {
     "data": {
      "text/plain": [
       "5"
      ]
     },
     "execution_count": 77,
     "metadata": {},
     "output_type": "execute_result"
    }
   ],
   "source": [
    "x(1)(4)"
   ]
  },
  {
   "cell_type": "code",
   "execution_count": 49,
   "id": "40db64db",
   "metadata": {
    "ExecuteTime": {
     "end_time": "2023-03-24T12:00:10.093679Z",
     "start_time": "2023-03-24T12:00:10.081103Z"
    }
   },
   "outputs": [],
   "source": [
    "def warning(fn):\n",
    "    def inner(t):\n",
    "        print('Warning!!!!')\n",
    "        fn(t)   # 어떤 값 넣었을 때 위험한 함수를 집어넣음\n",
    "    return inner\n",
    "\n",
    "@warning\n",
    "def t(tt):\n",
    "    print(tt)\n",
    "    return tt"
   ]
  },
  {
   "cell_type": "code",
   "execution_count": 50,
   "id": "2aee7f18",
   "metadata": {
    "ExecuteTime": {
     "end_time": "2023-03-24T12:00:10.739827Z",
     "start_time": "2023-03-24T12:00:10.728082Z"
    }
   },
   "outputs": [
    {
     "name": "stdout",
     "output_type": "stream",
     "text": [
      "Warning!!!!\n",
      "3\n"
     ]
    }
   ],
   "source": [
    "t(3)"
   ]
  },
  {
   "cell_type": "code",
   "execution_count": null,
   "id": "b7fd90c5",
   "metadata": {},
   "outputs": [],
   "source": [
    "# 여기서 t()의 결과값이 안보임. 이는 잘 보면 "
   ]
  },
  {
   "cell_type": "code",
   "execution_count": 51,
   "id": "0a38bf10",
   "metadata": {
    "ExecuteTime": {
     "end_time": "2023-03-24T12:00:17.209674Z",
     "start_time": "2023-03-24T12:00:17.199894Z"
    }
   },
   "outputs": [],
   "source": [
    "def t():\n",
    "    3"
   ]
  },
  {
   "cell_type": "code",
   "execution_count": 52,
   "id": "2679a5a8",
   "metadata": {
    "ExecuteTime": {
     "end_time": "2023-03-24T12:00:18.801622Z",
     "start_time": "2023-03-24T12:00:18.796447Z"
    }
   },
   "outputs": [],
   "source": [
    "def t():\n",
    "    3\n",
    "    return 1"
   ]
  },
  {
   "cell_type": "code",
   "execution_count": 53,
   "id": "fccd9951",
   "metadata": {
    "ExecuteTime": {
     "end_time": "2023-03-24T12:00:19.593804Z",
     "start_time": "2023-03-24T12:00:19.582052Z"
    }
   },
   "outputs": [
    {
     "data": {
      "text/plain": [
       "1"
      ]
     },
     "execution_count": 53,
     "metadata": {},
     "output_type": "execute_result"
    }
   ],
   "source": [
    "t()"
   ]
  },
  {
   "cell_type": "code",
   "execution_count": null,
   "id": "60935e27",
   "metadata": {},
   "outputs": [],
   "source": [
    "# 표현식은 문이 될 수 있음. 그래서 3이 들어갈 수 있음. 그런데 바보짓\n",
    "# 이게 위의 짓인 것."
   ]
  },
  {
   "cell_type": "code",
   "execution_count": 83,
   "id": "aa289175",
   "metadata": {
    "ExecuteTime": {
     "end_time": "2023-03-14T06:43:47.605354Z",
     "start_time": "2023-03-14T06:43:47.594838Z"
    }
   },
   "outputs": [],
   "source": [
    "def warning(fn):\n",
    "    def inner(t):\n",
    "        print('Warning!!!!')\n",
    "        #fn(t)   # 어떤 값 넣었을 때 위험한 함수를 집어넣음\n",
    "    return inner\n",
    "\n",
    "@warning\n",
    "def t(tt):\n",
    "    return tt"
   ]
  },
  {
   "cell_type": "code",
   "execution_count": 84,
   "id": "a4d2e542",
   "metadata": {
    "ExecuteTime": {
     "end_time": "2023-03-14T06:43:51.763786Z",
     "start_time": "2023-03-14T06:43:51.752688Z"
    }
   },
   "outputs": [
    {
     "name": "stdout",
     "output_type": "stream",
     "text": [
      "Warning!!!!\n"
     ]
    }
   ],
   "source": [
    "t(3)"
   ]
  },
  {
   "cell_type": "code",
   "execution_count": null,
   "id": "f7c26406",
   "metadata": {},
   "outputs": [],
   "source": [
    "# 함수의 결과값하고 상관없는 기능. 함수의 결과값을 이용 안했기 때문에 실행 안해도 됨.\n",
    "# 함수 결과값을 이용하려면 실행줘야 함."
   ]
  },
  {
   "cell_type": "code",
   "execution_count": 85,
   "id": "ba35e563",
   "metadata": {
    "ExecuteTime": {
     "end_time": "2023-03-14T06:45:01.423574Z",
     "start_time": "2023-03-14T06:45:01.408751Z"
    }
   },
   "outputs": [],
   "source": [
    "def warning(fn):\n",
    "    def inner(t):\n",
    "        print('Warning!!!!')\n",
    "        print(fn(t))   # fn(t)의 리턴값을 프린트에 사용함.\n",
    "    return inner\n",
    "\n",
    "@warning\n",
    "def t(tt):\n",
    "    return tt"
   ]
  },
  {
   "cell_type": "code",
   "execution_count": 86,
   "id": "9b154b60",
   "metadata": {
    "ExecuteTime": {
     "end_time": "2023-03-14T06:45:04.461910Z",
     "start_time": "2023-03-14T06:45:04.452860Z"
    }
   },
   "outputs": [
    {
     "name": "stdout",
     "output_type": "stream",
     "text": [
      "Warning!!!!\n",
      "3\n"
     ]
    }
   ],
   "source": [
    "t(3)"
   ]
  },
  {
   "cell_type": "code",
   "execution_count": 87,
   "id": "542b71bd",
   "metadata": {
    "ExecuteTime": {
     "end_time": "2023-03-14T06:46:43.101803Z",
     "start_time": "2023-03-14T06:46:43.012106Z"
    }
   },
   "outputs": [
    {
     "ename": "TypeError",
     "evalue": "warning.<locals>.inner() missing 1 required positional argument: 't'",
     "output_type": "error",
     "traceback": [
      "\u001b[0;31m---------------------------------------------------------------------------\u001b[0m",
      "\u001b[0;31mTypeError\u001b[0m                                 Traceback (most recent call last)",
      "Cell \u001b[0;32mIn[87], line 7\u001b[0m\n\u001b[1;32m      3\u001b[0m \u001b[38;5;129m@warning\u001b[39m\n\u001b[1;32m      4\u001b[0m \u001b[38;5;28;01mdef\u001b[39;00m \u001b[38;5;21ms\u001b[39m():\n\u001b[1;32m      5\u001b[0m     \u001b[38;5;28;01mreturn\u001b[39;00m \u001b[38;5;124m'\u001b[39m\u001b[38;5;124ms\u001b[39m\u001b[38;5;124m'\u001b[39m\n\u001b[0;32m----> 7\u001b[0m \u001b[43ms\u001b[49m\u001b[43m(\u001b[49m\u001b[43m)\u001b[49m\n",
      "\u001b[0;31mTypeError\u001b[0m: warning.<locals>.inner() missing 1 required positional argument: 't'"
     ]
    }
   ],
   "source": [
    "# 의미적으로 t에 워닝이라는 기능을 덧붙힘. t를 워닝함수에 집어넣는 작동이 됨. 그래서 t의 리턴값이 아니라 warning의 리턴값이 나오는 것.\n",
    "# 인자를 안 집어넣어도 경고 때리자\n",
    "@warning\n",
    "def s():\n",
    "    return 's'\n",
    "\n",
    "s()  # 이건 인자가 안들어가는데 데코레이터 내부에 인자가 필요함. 그러면 어떻게 해야할까?\n",
    "# 이 때 *, **를 쓰면 됨"
   ]
  },
  {
   "cell_type": "code",
   "execution_count": 88,
   "id": "47cec0d8",
   "metadata": {
    "ExecuteTime": {
     "end_time": "2023-03-14T06:47:58.662566Z",
     "start_time": "2023-03-14T06:47:58.649352Z"
    }
   },
   "outputs": [],
   "source": [
    "# 그래서 *, ** 테크닉 사용\n",
    "\n",
    "def warning(fn):\n",
    "    def inner(*a, **b):\n",
    "        print('Warning!!!!')\n",
    "        print(fn(*a, **b))\n",
    "    return inner\n",
    "\n",
    "@warning\n",
    "def t(tt):\n",
    "    return tt\n",
    "\n",
    "@warning\n",
    "def s():\n",
    "    return 's'"
   ]
  },
  {
   "cell_type": "code",
   "execution_count": 89,
   "id": "fe16d065",
   "metadata": {
    "ExecuteTime": {
     "end_time": "2023-03-14T06:48:03.315069Z",
     "start_time": "2023-03-14T06:48:03.304572Z"
    }
   },
   "outputs": [
    {
     "name": "stdout",
     "output_type": "stream",
     "text": [
      "Warning!!!!\n",
      "4\n"
     ]
    }
   ],
   "source": [
    "t(4)"
   ]
  },
  {
   "cell_type": "code",
   "execution_count": 90,
   "id": "b9101aeb",
   "metadata": {
    "ExecuteTime": {
     "end_time": "2023-03-14T06:48:06.820392Z",
     "start_time": "2023-03-14T06:48:06.811053Z"
    }
   },
   "outputs": [
    {
     "name": "stdout",
     "output_type": "stream",
     "text": [
      "Warning!!!!\n",
      "s\n"
     ]
    }
   ],
   "source": [
    "s()"
   ]
  },
  {
   "cell_type": "code",
   "execution_count": null,
   "id": "9fb5f03b",
   "metadata": {},
   "outputs": [],
   "source": [
    "# 이는 Singleton 에서도 배움 어제.\n",
    "# 즉 가변인자, 가변키워드인자는 범용적인 애로 만들어주는 것임.\n",
    "# 데코레이터는 의미론적으로는 어떤 것의 데코레이터의 기능을 덧붙이는 것.\n",
    "# 실제 작동원리는 어떤 함수를 데코레이터 함수 안에 넣어서 실행하는 것.\n",
    "# 그렇기 때문에 실행의 순서에 맞게 인자의 개수 등을 정확히 맞춰줘야 실행이 됨."
   ]
  },
  {
   "cell_type": "code",
   "execution_count": 92,
   "id": "2b1e4f8a",
   "metadata": {
    "ExecuteTime": {
     "end_time": "2023-03-14T06:52:59.835733Z",
     "start_time": "2023-03-14T06:52:59.823799Z"
    }
   },
   "outputs": [],
   "source": [
    "# 그래서 *, ** 테크닉 사용\n",
    "\n",
    "def warning(fn):\n",
    "    def inner(*a, **b):\n",
    "        print('Warning!!!!')\n",
    "        print(fn(*a, **b))\n",
    "    return inner\n",
    "\n",
    "@warning\n",
    "def t(tt):\n",
    "    return tt\n",
    "\n",
    "@warning\n",
    "def s():\n",
    "    return 's'"
   ]
  },
  {
   "cell_type": "code",
   "execution_count": 93,
   "id": "9bc6c090",
   "metadata": {
    "ExecuteTime": {
     "end_time": "2023-03-14T06:53:02.234732Z",
     "start_time": "2023-03-14T06:53:02.222917Z"
    }
   },
   "outputs": [
    {
     "data": {
      "text/plain": [
       "<function __main__.warning(fn)>"
      ]
     },
     "execution_count": 93,
     "metadata": {},
     "output_type": "execute_result"
    }
   ],
   "source": [
    "warning"
   ]
  },
  {
   "cell_type": "code",
   "execution_count": 94,
   "id": "43dffa30",
   "metadata": {
    "ExecuteTime": {
     "end_time": "2023-03-14T06:53:19.902643Z",
     "start_time": "2023-03-14T06:53:19.888836Z"
    }
   },
   "outputs": [
    {
     "data": {
      "text/plain": [
       "'warning'"
      ]
     },
     "execution_count": 94,
     "metadata": {},
     "output_type": "execute_result"
    }
   ],
   "source": [
    "warning.__name__"
   ]
  },
  {
   "cell_type": "code",
   "execution_count": 96,
   "id": "582b09aa",
   "metadata": {
    "ExecuteTime": {
     "end_time": "2023-03-14T06:53:34.973153Z",
     "start_time": "2023-03-14T06:53:34.959277Z"
    }
   },
   "outputs": [
    {
     "data": {
      "text/plain": [
       "<function __main__.warning.<locals>.inner(*a, **b)>"
      ]
     },
     "execution_count": 96,
     "metadata": {},
     "output_type": "execute_result"
    }
   ],
   "source": [
    "t\n",
    "# t가 아니라 warning 으로 나옴.\n",
    "# 의미적으론 t함수에 워닝 덧 붙히는 것이고,\n",
    "# 기능적으로는 t를 워닝에 집어넣어서 실행하기 때문에 아래와 같은 결과가 나온 것."
   ]
  },
  {
   "cell_type": "code",
   "execution_count": 97,
   "id": "2c44232e",
   "metadata": {
    "ExecuteTime": {
     "end_time": "2023-03-14T06:57:20.396922Z",
     "start_time": "2023-03-14T06:57:20.387841Z"
    }
   },
   "outputs": [],
   "source": [
    "# functool 배움 =>> singledispatch 에서 배움.\n",
    "from functools import wraps\n",
    "# functools 는 함수형 패러다임 3총사 중 한 명. functools, itertools, iterator"
   ]
  },
  {
   "cell_type": "code",
   "execution_count": 98,
   "id": "e1ec08fd",
   "metadata": {
    "ExecuteTime": {
     "end_time": "2023-03-14T06:59:07.958029Z",
     "start_time": "2023-03-14T06:59:07.945443Z"
    }
   },
   "outputs": [],
   "source": [
    "# wraps는 그냥 써도 됨\n",
    "def warning(fn):\n",
    "    @wraps(fn)   # @ 붙히니까 데코레이터네? 사용자한테 사용성의 편의를 주는 것.\n",
    "    def inner(*a, **b):\n",
    "        print('Warning!!!!')\n",
    "        print(fn(*a, **b))\n",
    "    return inner\n",
    "\n",
    "@warning\n",
    "def t(tt):\n",
    "    return tt\n",
    "\n",
    "@warning\n",
    "def s():\n",
    "    return 's'"
   ]
  },
  {
   "cell_type": "code",
   "execution_count": 99,
   "id": "12318d7f",
   "metadata": {
    "ExecuteTime": {
     "end_time": "2023-03-14T06:59:16.920400Z",
     "start_time": "2023-03-14T06:59:16.909010Z"
    }
   },
   "outputs": [
    {
     "data": {
      "text/plain": [
       "'warning'"
      ]
     },
     "execution_count": 99,
     "metadata": {},
     "output_type": "execute_result"
    }
   ],
   "source": [
    "warning.__name__"
   ]
  },
  {
   "cell_type": "code",
   "execution_count": 101,
   "id": "a840d7c5",
   "metadata": {
    "ExecuteTime": {
     "end_time": "2023-03-14T07:01:35.843184Z",
     "start_time": "2023-03-14T07:01:35.831688Z"
    }
   },
   "outputs": [
    {
     "data": {
      "text/plain": [
       "<function __main__.t(tt)>"
      ]
     },
     "execution_count": 101,
     "metadata": {},
     "output_type": "execute_result"
    }
   ],
   "source": [
    "t\n",
    "# wraps이 있으니까 다르게 대답함.\n",
    "# 이런 게 왜 필요할까?\n",
    "# 사용자 입장에서는 내부구조 볼 필요가 없음. "
   ]
  },
  {
   "cell_type": "code",
   "execution_count": null,
   "id": "7dea6194",
   "metadata": {},
   "outputs": [],
   "source": [
    "# 개발자 테크닉으로, wraps 해 놓으면, 너는 t 관점으로 처리하면 우리가 내부적으로 처리해줄게!\n",
    "# 디버깅 용 또는 사용자한테 편의성을 제공하려고 이 기능을 많이 씀.\n",
    "# 이름 물어봤을 때 결과값 위처럼 나오는 것을 뭐라고 할까? ==> repr 이라고 함.\n",
    "# repr은 이름을 물어봤을 때 representation. 이름을 리턴함"
   ]
  },
  {
   "cell_type": "code",
   "execution_count": 102,
   "id": "87550155",
   "metadata": {
    "ExecuteTime": {
     "end_time": "2023-03-14T07:03:39.645515Z",
     "start_time": "2023-03-14T07:03:39.634806Z"
    }
   },
   "outputs": [],
   "source": [
    "# repr 보자\n",
    "class X:\n",
    "    def __repr__(self):\n",
    "        return 'REPR'"
   ]
  },
  {
   "cell_type": "code",
   "execution_count": 103,
   "id": "44793305",
   "metadata": {
    "ExecuteTime": {
     "end_time": "2023-03-14T07:03:52.524684Z",
     "start_time": "2023-03-14T07:03:52.515807Z"
    }
   },
   "outputs": [],
   "source": [
    "x = X()"
   ]
  },
  {
   "cell_type": "code",
   "execution_count": 104,
   "id": "43d323dc",
   "metadata": {
    "ExecuteTime": {
     "end_time": "2023-03-14T07:04:11.082500Z",
     "start_time": "2023-03-14T07:04:11.073268Z"
    }
   },
   "outputs": [
    {
     "data": {
      "text/plain": [
       "REPR"
      ]
     },
     "execution_count": 104,
     "metadata": {},
     "output_type": "execute_result"
    }
   ],
   "source": [
    "x # 이렇게 부르는 게 이름 부르는 것. repr 나올 것\n",
    "# 즉 __repr__에 정의된 것이 튀어나옴.\n",
    "# 이름 불렀을 때 어떻게 대답해주는가도 파이썬에서 활용 가능하다는 것."
   ]
  },
  {
   "cell_type": "code",
   "execution_count": 105,
   "id": "921442e8",
   "metadata": {
    "ExecuteTime": {
     "end_time": "2023-03-14T07:04:59.583270Z",
     "start_time": "2023-03-14T07:04:59.571121Z"
    }
   },
   "outputs": [],
   "source": [
    "# __str__\n",
    "class X:\n",
    "    def __repr__(self):\n",
    "        return 'REPR'\n",
    "    \n",
    "    def __str__(self):\n",
    "        return 'STR'"
   ]
  },
  {
   "cell_type": "code",
   "execution_count": 106,
   "id": "b9c94ec0",
   "metadata": {
    "ExecuteTime": {
     "end_time": "2023-03-14T07:05:02.315829Z",
     "start_time": "2023-03-14T07:05:02.302819Z"
    }
   },
   "outputs": [],
   "source": [
    "x = X()"
   ]
  },
  {
   "cell_type": "code",
   "execution_count": 107,
   "id": "2f5514c4",
   "metadata": {
    "ExecuteTime": {
     "end_time": "2023-03-14T07:05:10.714056Z",
     "start_time": "2023-03-14T07:05:10.700926Z"
    }
   },
   "outputs": [
    {
     "data": {
      "text/plain": [
       "REPR"
      ]
     },
     "execution_count": 107,
     "metadata": {},
     "output_type": "execute_result"
    }
   ],
   "source": [
    "# 이름 부르는 것이 repr\n",
    "x"
   ]
  },
  {
   "cell_type": "code",
   "execution_count": 108,
   "id": "8b535bf4",
   "metadata": {
    "ExecuteTime": {
     "end_time": "2023-03-14T07:05:29.060118Z",
     "start_time": "2023-03-14T07:05:29.050249Z"
    }
   },
   "outputs": [
    {
     "name": "stdout",
     "output_type": "stream",
     "text": [
      "STR\n"
     ]
    }
   ],
   "source": [
    "# print 에는 __str__에 정의된 것이 나옴.\n",
    "print(x)"
   ]
  },
  {
   "cell_type": "code",
   "execution_count": 109,
   "id": "fa73cc41",
   "metadata": {
    "ExecuteTime": {
     "end_time": "2023-03-14T07:05:45.329416Z",
     "start_time": "2023-03-14T07:05:45.321290Z"
    }
   },
   "outputs": [],
   "source": [
    "# 위처럼 다르게 나오는 게 대표적으로 numpy\n",
    "import numpy as np"
   ]
  },
  {
   "cell_type": "code",
   "execution_count": 110,
   "id": "efa7232c",
   "metadata": {
    "ExecuteTime": {
     "end_time": "2023-03-14T07:05:53.190059Z",
     "start_time": "2023-03-14T07:05:53.182026Z"
    }
   },
   "outputs": [],
   "source": [
    "a = np.array([1,2,3])"
   ]
  },
  {
   "cell_type": "code",
   "execution_count": 111,
   "id": "c618931b",
   "metadata": {
    "ExecuteTime": {
     "end_time": "2023-03-14T07:05:54.993169Z",
     "start_time": "2023-03-14T07:05:54.976412Z"
    }
   },
   "outputs": [
    {
     "data": {
      "text/plain": [
       "array([1, 2, 3])"
      ]
     },
     "execution_count": 111,
     "metadata": {},
     "output_type": "execute_result"
    }
   ],
   "source": [
    "a"
   ]
  },
  {
   "cell_type": "code",
   "execution_count": 112,
   "id": "f87e0aa8",
   "metadata": {
    "ExecuteTime": {
     "end_time": "2023-03-14T07:05:57.621622Z",
     "start_time": "2023-03-14T07:05:57.608742Z"
    }
   },
   "outputs": [
    {
     "name": "stdout",
     "output_type": "stream",
     "text": [
      "[1 2 3]\n"
     ]
    }
   ],
   "source": [
    "print(a)"
   ]
  },
  {
   "cell_type": "code",
   "execution_count": null,
   "id": "43b81b31",
   "metadata": {},
   "outputs": [],
   "source": [
    "# __repr__, __str__ 의 차이인 것.\n",
    "# 보통 __repr__ 하면 함수에 대한 signature 을 알려줌"
   ]
  },
  {
   "cell_type": "code",
   "execution_count": 113,
   "id": "e4b53166",
   "metadata": {
    "ExecuteTime": {
     "end_time": "2023-03-14T07:07:30.004375Z",
     "start_time": "2023-03-14T07:07:29.991391Z"
    }
   },
   "outputs": [
    {
     "data": {
      "text/plain": [
       "<function __main__.t(tt)>"
      ]
     },
     "execution_count": 113,
     "metadata": {},
     "output_type": "execute_result"
    }
   ],
   "source": [
    "t  # __repr__ 이름 부름. 보통 signature(wraps 안 했을때 나오는 결과)가 나옴.\n",
    "# 개발자가 사용자 입장에서 signature 나오면 혼선만 줌"
   ]
  },
  {
   "cell_type": "code",
   "execution_count": null,
   "id": "190482e7",
   "metadata": {},
   "outputs": [],
   "source": [
    "# wrap 이라는 애는\n",
    "# 설명이 왜 없지 라는 것은 개발자가 우리를 위해 그런 기능을 제공한 것이니 우린 이까지만 하자!"
   ]
  },
  {
   "cell_type": "code",
   "execution_count": null,
   "id": "53978e93",
   "metadata": {},
   "outputs": [],
   "source": [
    "# 여기까지\n",
    "# 가변인자, 가변키워드인자 (*, **) => 파이썬의 유연성. 파이썬은 인자의 개수와 상관없는 함수를 만들 수 있다.\n",
    "# wraps tech => 개발자가 사용자를 위한"
   ]
  },
  {
   "cell_type": "markdown",
   "id": "6525f113",
   "metadata": {},
   "source": [
    "#### 이제 3번째"
   ]
  },
  {
   "cell_type": "code",
   "execution_count": 115,
   "id": "2e991e86",
   "metadata": {
    "ExecuteTime": {
     "end_time": "2023-03-14T07:26:27.122082Z",
     "start_time": "2023-03-14T07:26:27.113455Z"
    }
   },
   "outputs": [],
   "source": [
    "# decorators with parameters => 3번 중첩된 테크닉\n",
    "def print_num(n):\n",
    "    def decorator(fn):\n",
    "        @wraps(fn)\n",
    "        def inner(*args, **kwargs):\n",
    "            print(n)\n",
    "            return fn(*args, **kwargs)\n",
    "        return inner\n",
    "    return decorator\n",
    "\n",
    "@print_num(4)\n",
    "def foo():\n",
    "    print('foo!')"
   ]
  },
  {
   "cell_type": "code",
   "execution_count": null,
   "id": "bc434935",
   "metadata": {},
   "outputs": [],
   "source": [
    "# 데코레이터는 실제 함수. 따라서 데코레이터도 인자를 받을 수 있음.\n",
    "# 그런데 인자에 디폴트값 넣는 것이 저세상 난이도.\n",
    "# 데코레이터에 인자를 받기 위한 방법이 2가지\n",
    "# partial(함수형 패러다임으로 중간에 디폴트값 바꾸는 테크닉) 2개, def 3개(3단구조)"
   ]
  },
  {
   "cell_type": "code",
   "execution_count": null,
   "id": "6fb70d9a",
   "metadata": {},
   "outputs": [],
   "source": [
    "# 위의 구조를 보자.\n",
    "# 데코레이터 밖에 함수 하나를 더 감싸도록 함. 이 테크닉은 텐서플로에서 씀.\n",
    "# 코세라의 기계학습 Andrew Ng. => 기계학습 인공지능 수업을 하고 어려운 과정들이 꽤 많음.\n",
    "# 코세라에 advanced tensorflow 가 있음. 여기 첫번째가 상속, 함수 포팅해서 인자값 넣는 테크닉"
   ]
  },
  {
   "cell_type": "code",
   "execution_count": 116,
   "id": "e723a8ea",
   "metadata": {
    "ExecuteTime": {
     "end_time": "2023-03-14T07:37:55.775182Z",
     "start_time": "2023-03-14T07:37:55.765905Z"
    }
   },
   "outputs": [],
   "source": [
    "# 바깥에 쌓은 함수 말고는 데코레이터. 그 위에 한겹(print_num)을 더 싼 것."
   ]
  },
  {
   "cell_type": "code",
   "execution_count": 122,
   "id": "db51920b",
   "metadata": {
    "ExecuteTime": {
     "end_time": "2023-03-14T07:40:04.977770Z",
     "start_time": "2023-03-14T07:40:04.965074Z"
    }
   },
   "outputs": [],
   "source": [
    "def xx(n):\n",
    "    def warning(fn):\n",
    "        def inner(*a, **b):\n",
    "            print(n)  # inner 안에 n 전달 시키는 테크닉이 클로져\n",
    "            print(fn(*a, **b))\n",
    "        return inner\n",
    "    return warning"
   ]
  },
  {
   "cell_type": "code",
   "execution_count": 123,
   "id": "269545f4",
   "metadata": {
    "ExecuteTime": {
     "end_time": "2023-03-14T07:40:05.762312Z",
     "start_time": "2023-03-14T07:40:05.756729Z"
    }
   },
   "outputs": [],
   "source": [
    "# 데코레이터에 인자를 넘겨주기 위해서 한겹 더 만든 것.\n",
    "@xx\n",
    "def tt():\n",
    "    print('a')"
   ]
  },
  {
   "cell_type": "code",
   "execution_count": 124,
   "id": "f0946520",
   "metadata": {
    "ExecuteTime": {
     "end_time": "2023-03-14T07:40:11.026925Z",
     "start_time": "2023-03-14T07:40:11.000458Z"
    }
   },
   "outputs": [
    {
     "ename": "TypeError",
     "evalue": "xx.<locals>.warning() missing 1 required positional argument: 'fn'",
     "output_type": "error",
     "traceback": [
      "\u001b[0;31m---------------------------------------------------------------------------\u001b[0m",
      "\u001b[0;31mTypeError\u001b[0m                                 Traceback (most recent call last)",
      "Cell \u001b[0;32mIn[124], line 1\u001b[0m\n\u001b[0;32m----> 1\u001b[0m \u001b[43mtt\u001b[49m\u001b[43m(\u001b[49m\u001b[43m)\u001b[49m\n",
      "\u001b[0;31mTypeError\u001b[0m: xx.<locals>.warning() missing 1 required positional argument: 'fn'"
     ]
    }
   ],
   "source": [
    "tt()"
   ]
  },
  {
   "cell_type": "code",
   "execution_count": null,
   "id": "6487a571",
   "metadata": {},
   "outputs": [],
   "source": [
    "# 위에서 에러 남. tt를 xx에 집어넣음. 그런데 에러로 안 집어넣었다고 튀어낳옴.\n",
    "# 데코레이터 쓸 때 이런 에러가 나오면, 데코레이터에 인자를 줘야 함."
   ]
  },
  {
   "cell_type": "code",
   "execution_count": 54,
   "id": "a78c6730",
   "metadata": {
    "ExecuteTime": {
     "end_time": "2023-03-24T12:06:38.870403Z",
     "start_time": "2023-03-24T12:06:38.858177Z"
    }
   },
   "outputs": [],
   "source": [
    "def xx(n):\n",
    "    def warning(fn):\n",
    "        def inner(*a, **b):\n",
    "            print(n) # inner 안에 n 전달 시키는 테크닉이 클로져\n",
    "            fn(*a, **b)\n",
    "            #print(fn(*a, **b))\n",
    "        return inner\n",
    "    return warning\n",
    "\n",
    "# 데코레이터에 인자를 넘겨주기 위해서 한겹 더 만든 것.\n",
    "@xx(3)\n",
    "def tt():\n",
    "    print('a')"
   ]
  },
  {
   "cell_type": "code",
   "execution_count": 55,
   "id": "db9983d1",
   "metadata": {
    "ExecuteTime": {
     "end_time": "2023-03-24T12:06:39.661512Z",
     "start_time": "2023-03-24T12:06:39.650404Z"
    }
   },
   "outputs": [
    {
     "name": "stdout",
     "output_type": "stream",
     "text": [
      "3\n",
      "a\n"
     ]
    }
   ],
   "source": [
    "tt()\n",
    "# 3이 n에 들어가고 리턴된 것이 다시 데코레이터를 부름.\n",
    "# 3단 구조인 것."
   ]
  },
  {
   "cell_type": "code",
   "execution_count": null,
   "id": "1ca0339b",
   "metadata": {},
   "outputs": [],
   "source": [
    "# 위 에러를 보니까 tt가 xx에 들어간다고 생각했는데 데코레이터 첫번째 인자가 무조건 함수여야 함.\n",
    "# 그런데 함수가 아니라고 했을 때는 데코레이터 자체가 인자를 받음을 알 수 있음.\n",
    "# 데코레이터의 인자를 찾아야 함."
   ]
  },
  {
   "cell_type": "code",
   "execution_count": 127,
   "id": "19e64a52",
   "metadata": {
    "ExecuteTime": {
     "end_time": "2023-03-14T07:42:29.650429Z",
     "start_time": "2023-03-14T07:42:29.639114Z"
    }
   },
   "outputs": [
    {
     "data": {
      "text/plain": [
       "<function __main__.xx(n)>"
      ]
     },
     "execution_count": 127,
     "metadata": {},
     "output_type": "execute_result"
    }
   ],
   "source": [
    "xx\n",
    "# fn 도 인자 한개인데 어떤 인자인지 헷갈림. n이 fn인지 아닌지.\n",
    "# 그래서 typing annotation 기능을 제공함."
   ]
  },
  {
   "cell_type": "code",
   "execution_count": 128,
   "id": "a3f3ecf5",
   "metadata": {
    "ExecuteTime": {
     "end_time": "2023-03-14T07:43:55.332227Z",
     "start_time": "2023-03-14T07:43:55.323176Z"
    }
   },
   "outputs": [],
   "source": [
    "# annotation 활용\n",
    "def a(c:int) -> int:\n",
    "    return c"
   ]
  },
  {
   "cell_type": "code",
   "execution_count": 130,
   "id": "af419158",
   "metadata": {
    "ExecuteTime": {
     "end_time": "2023-03-14T07:44:30.848845Z",
     "start_time": "2023-03-14T07:44:30.835087Z"
    }
   },
   "outputs": [
    {
     "data": {
      "text/plain": [
       "{'c': int, 'return': int}"
      ]
     },
     "execution_count": 130,
     "metadata": {},
     "output_type": "execute_result"
    }
   ],
   "source": [
    "# 위 함수는 c에 int 집어넣으면 return을 int로 한다는 것.\n",
    "a.__annotations__"
   ]
  },
  {
   "cell_type": "code",
   "execution_count": 131,
   "id": "3cd1d565",
   "metadata": {
    "ExecuteTime": {
     "end_time": "2023-03-14T07:45:05.776712Z",
     "start_time": "2023-03-14T07:45:05.764384Z"
    }
   },
   "outputs": [
    {
     "data": {
      "text/plain": [
       "1.1"
      ]
     },
     "execution_count": 131,
     "metadata": {},
     "output_type": "execute_result"
    }
   ],
   "source": [
    "# 파이썬은 타입이 없음. 타입을 안정해도 됨. 그래서 이 annotation 이 강제가 아님.\n",
    "a(1.1)  # float 해도 됨.\n",
    "# 이 기능이 또 흐려지는 것이 덕타이핑 때문에."
   ]
  },
  {
   "cell_type": "code",
   "execution_count": null,
   "id": "4372ff89",
   "metadata": {},
   "outputs": [],
   "source": [
    "# 어제 마지막 시간에 덕타이핑이 나왔음. annotation은 가이드를 해주는 것.\n",
    "# 그걸 좀 더 복잡하게 하는 것이 typing."
   ]
  },
  {
   "cell_type": "code",
   "execution_count": 132,
   "id": "f02d668c",
   "metadata": {
    "ExecuteTime": {
     "end_time": "2023-03-14T07:46:03.703050Z",
     "start_time": "2023-03-14T07:46:03.383388Z"
    }
   },
   "outputs": [],
   "source": [
    "import pandas as pd"
   ]
  },
  {
   "cell_type": "code",
   "execution_count": null,
   "id": "04fbe593",
   "metadata": {},
   "outputs": [],
   "source": [
    "pd.read_csv  # 여기에 설명을 보면 annotation 이 굉장히 잘 되어 있음.\n",
    "# 사용자가 실수 덜 하고 편할 것.\n",
    "# 파이썬은 타입이 없기 때문에 실수가 많아지고, 덕 타이핑을 지원해주기 때문에 실수가 진짜 많아짐.\n",
    "# 그래서 파이썬 철학이 EAFP. 실수하면 에러처리 하면 된다!"
   ]
  },
  {
   "cell_type": "code",
   "execution_count": 133,
   "id": "0b344b35",
   "metadata": {
    "ExecuteTime": {
     "end_time": "2023-03-14T07:47:43.616093Z",
     "start_time": "2023-03-14T07:47:43.604065Z"
    }
   },
   "outputs": [],
   "source": [
    "def xx(n):\n",
    "    def warning(fn):\n",
    "        def inner(*a, **b):\n",
    "            print(n)  # inner 안에 n 전달 시키는 테크닉이 클로져\n",
    "            print(fn(*a, **b))\n",
    "        return inner\n",
    "    return warning\n",
    "\n",
    "# 데코레이터에 인자를 넘겨주기 위해서 한겹 더 만든 것.\n",
    "@xx(9)\n",
    "def tt():\n",
    "    print('a')\n",
    "    \n",
    "# 그래서 친절한 사람은 xx에 n에 annotation 붙혀서 함수 말고 다른 거 넣으라고 함"
   ]
  },
  {
   "cell_type": "code",
   "execution_count": 134,
   "id": "00a048b4",
   "metadata": {
    "ExecuteTime": {
     "end_time": "2023-03-14T07:47:52.277518Z",
     "start_time": "2023-03-14T07:47:52.270635Z"
    }
   },
   "outputs": [
    {
     "name": "stdout",
     "output_type": "stream",
     "text": [
      "9\n",
      "a\n",
      "None\n"
     ]
    }
   ],
   "source": [
    "tt()"
   ]
  },
  {
   "cell_type": "code",
   "execution_count": null,
   "id": "f6df21ad",
   "metadata": {},
   "outputs": [],
   "source": [
    "# annotation typing -> 데이터 타입까지 다 설명됨.\n",
    "pd.read_csv"
   ]
  },
  {
   "cell_type": "code",
   "execution_count": null,
   "id": "0ec06a6f",
   "metadata": {},
   "outputs": [],
   "source": [
    "# 데코레이터에 함수로 감싸는 것 => 그 감싼 함수의 인자(위에서는 n)를 내부로 전달하기 위해서.\n",
    "# 이는 텐서플로에서도 많이 쓰임"
   ]
  },
  {
   "cell_type": "code",
   "execution_count": 137,
   "id": "92fa9d7e",
   "metadata": {
    "ExecuteTime": {
     "end_time": "2023-03-14T07:51:48.057859Z",
     "start_time": "2023-03-14T07:51:48.046531Z"
    }
   },
   "outputs": [],
   "source": [
    "# 감싼 함수에 디폴트값\n",
    "def xx(n=0):\n",
    "    def warning(fn):\n",
    "        def inner(*a, **b):\n",
    "            print(n)\n",
    "            print(fn(*a, **b))\n",
    "        return inner\n",
    "    return warning\n",
    "\n",
    "@xx()\n",
    "def tt():\n",
    "    print('a')"
   ]
  },
  {
   "cell_type": "code",
   "execution_count": 138,
   "id": "8f1b6ad5",
   "metadata": {
    "ExecuteTime": {
     "end_time": "2023-03-14T07:51:48.726130Z",
     "start_time": "2023-03-14T07:51:48.716518Z"
    }
   },
   "outputs": [
    {
     "name": "stdout",
     "output_type": "stream",
     "text": [
      "0\n",
      "a\n",
      "None\n"
     ]
    }
   ],
   "source": [
    "tt()\n",
    "# 디폴트값은 생략할 수 있음을 알고 있기 때문에 그냥 ()만 써도 됨."
   ]
  },
  {
   "cell_type": "code",
   "execution_count": null,
   "id": "b203a08e",
   "metadata": {},
   "outputs": [],
   "source": [
    "# 여기까지 파라미터 있는 데코레이터\n",
    "# 데코레이터 문법은 @이 없어도 됨.\n",
    "# 맨 위에 있는 함수 실행하면 데코레이터를 리턴함. 그래서 @xx() 실행의 결과가 바로 데코레이터(waring)인 것."
   ]
  },
  {
   "cell_type": "code",
   "execution_count": null,
   "id": "eff79853",
   "metadata": {},
   "outputs": [],
   "source": [
    "# 하나 더 있음! 그것은 텐서때 배울 것"
   ]
  },
  {
   "cell_type": "markdown",
   "id": "db5ab03f",
   "metadata": {},
   "source": [
    "#### 이제 3번째 테크닉"
   ]
  },
  {
   "cell_type": "code",
   "execution_count": 139,
   "id": "d8aa0df1",
   "metadata": {
    "ExecuteTime": {
     "end_time": "2023-03-14T07:57:59.109229Z",
     "start_time": "2023-03-14T07:57:59.100213Z"
    }
   },
   "outputs": [],
   "source": [
    "# 웹에서 많이 쓰는 테크닉. 웹에는 @를 많이 씀\n",
    "# 파이토닉에도 FLASK(웹에서 많이 쓰는 것)와 같이 씀.\n",
    "# @ 도 순서가 매우 중요함."
   ]
  },
  {
   "cell_type": "code",
   "execution_count": null,
   "id": "ab9e517e",
   "metadata": {},
   "outputs": [],
   "source": [
    "# 데코레이터2에 들어가면 함수가 리턴되고 그 함수가 데코레이터 1에 올라감\n",
    "@decorator1\n",
    "@decorator2\n",
    "def foo():\n",
    "    print(\"foo\")"
   ]
  },
  {
   "cell_type": "code",
   "execution_count": 140,
   "id": "1199f2cd",
   "metadata": {
    "ExecuteTime": {
     "end_time": "2023-03-14T08:03:53.434137Z",
     "start_time": "2023-03-14T08:03:53.425194Z"
    }
   },
   "outputs": [],
   "source": [
    "def decorator1(fn):\n",
    "    print(\"decorator1\")\n",
    "    def inner1(*args, **kwargs):\n",
    "        print(\"inner1\")\n",
    "        return fn(*args, **kwargs)\n",
    "    return inner1\n",
    "\n",
    "\n",
    "def decorator2(fn):\n",
    "    print(\"decorator2\")\n",
    "    def inner2(*args, **kwargs):\n",
    "        print(\"inner2\")\n",
    "        return fn(*args, **kwargs)\n",
    "    return inner2"
   ]
  },
  {
   "cell_type": "code",
   "execution_count": null,
   "id": "0c2a0bc0",
   "metadata": {},
   "outputs": [],
   "source": [
    "# print 치는 것에 주목.\n",
    "# 이것은 웹에서 많이 쓰는 기능\n",
    "# 딥러닝에서는 잘 못보는 기능"
   ]
  },
  {
   "cell_type": "code",
   "execution_count": 141,
   "id": "134fb78e",
   "metadata": {
    "ExecuteTime": {
     "end_time": "2023-03-14T08:04:48.849259Z",
     "start_time": "2023-03-14T08:04:48.838015Z"
    }
   },
   "outputs": [
    {
     "name": "stdout",
     "output_type": "stream",
     "text": [
      "decorator2\n",
      "decorator1\n"
     ]
    }
   ],
   "source": [
    "@decorator1\n",
    "@decorator2\n",
    "def foo():\n",
    "    print(\"foo\")\n",
    "# 정의할 때 실행됨.\n",
    "# 2에 들어가서 이너 위 프린트가 찍힘. 2에서 리턴된 함수가 1에 들어감. 그러면 1의 내부 함수는 실행이 안됨."
   ]
  },
  {
   "cell_type": "code",
   "execution_count": null,
   "id": "6556899a",
   "metadata": {},
   "outputs": [],
   "source": [
    "# 어떻게 실행되는지 보자\n",
    "# 2부터 들어감. 따라서 2가 먼저 프린트됨. => 얘는 정의하는데 벌써 찍혀버림. 정의함과 동시에 결과가 나옴\n",
    "# 보통 실행해야 결과 나오는데 정의함과 동시에 결과 나옴.\n",
    "# 그러면 정의와 동시에 실행이 되는 것.\n",
    "# bar = foo(bar) 실행과 동시에 정의된다는 것. 즉 이게 되는 이유는 정의할 때 실행이 되기 때문. (syntactic sugar)\n",
    "# 실행을 해보자"
   ]
  },
  {
   "cell_type": "code",
   "execution_count": 142,
   "id": "fcb7570f",
   "metadata": {
    "ExecuteTime": {
     "end_time": "2023-03-14T08:08:03.897001Z",
     "start_time": "2023-03-14T08:08:03.884819Z"
    }
   },
   "outputs": [
    {
     "name": "stdout",
     "output_type": "stream",
     "text": [
      "inner1\n",
      "inner2\n",
      "foo\n"
     ]
    }
   ],
   "source": [
    "foo()\n",
    "# 집어넣고 집어넣었음. f(g(x)) 이러면 괄호 안에부터 실행되는 것.\n",
    "# 즉 1(2(foo())).\n",
    "# 그러면 가장 안에부터 실행되어야 함을 알 고 있음.\n",
    "# 그런데 왜 inner1 이 나왔을까?\n",
    "# 스택에도 이런 개념이 있었음. 넣는 순서 반대로 뽑아오는 것.\n",
    "# 반대로 스택으로 뽑혀서 출력이 되어버림.\n",
    "# 함수가 단계별로 실행이 되면 스택!!!! => 우리가 __super__ 할 때 배움."
   ]
  },
  {
   "cell_type": "code",
   "execution_count": null,
   "id": "8b163532",
   "metadata": {},
   "outputs": [],
   "source": [
    "# 실제 실행되는 것은 이제 안에 있는 inner 들이 실행하는 것. 정의할 때 내부적으로 실행이 되고,\n",
    "# "
   ]
  },
  {
   "cell_type": "code",
   "execution_count": null,
   "id": "1b958f4d",
   "metadata": {},
   "outputs": [],
   "source": [
    "# 여기까지가 기본!!!"
   ]
  },
  {
   "cell_type": "code",
   "execution_count": 144,
   "id": "ed6dc5c9",
   "metadata": {
    "ExecuteTime": {
     "end_time": "2023-03-14T08:13:08.396689Z",
     "start_time": "2023-03-14T08:13:08.381872Z"
    }
   },
   "outputs": [
    {
     "name": "stdout",
     "output_type": "stream",
     "text": [
      "decorator2\n",
      "decorator1\n",
      "\n",
      "inner1\n",
      "inner2\n",
      "foo\n"
     ]
    }
   ],
   "source": [
    "def decorator1(fn):\n",
    "    print(\"decorator1\")\n",
    "    def inner1(*args, **kwargs):\n",
    "        print(\"inner1\")\n",
    "        return fn(*args, **kwargs)\n",
    "    return inner1\n",
    "\n",
    "\n",
    "def decorator2(fn):\n",
    "    print(\"decorator2\")\n",
    "    def inner2(*args, **kwargs):\n",
    "        print(\"inner2\")\n",
    "        return fn(*args, **kwargs)\n",
    "    return inner2\n",
    "\n",
    "@decorator1\n",
    "@decorator2\n",
    "def foo():\n",
    "    print(\"foo\")\n",
    "print('')    \n",
    "foo()"
   ]
  },
  {
   "cell_type": "code",
   "execution_count": null,
   "id": "2697584e",
   "metadata": {},
   "outputs": [],
   "source": [
    "# 이제 advanced 는 5가지가 나온다."
   ]
  },
  {
   "cell_type": "code",
   "execution_count": null,
   "id": "9d081180",
   "metadata": {},
   "outputs": [],
   "source": [
    "# 함수 데코레이터는 함수 위에 붙히는 경우와, 함수 안에 메소드로 붙히는 경우 2가지가 있음. 지금 당장은 안함.\n",
    "# 이 내용 뒤부터는 pdf에서 예시를 던져줌. 첫째 예시는 시간측정. 어려운 예시들이라서 지금은 안할 것."
   ]
  },
  {
   "cell_type": "code",
   "execution_count": null,
   "id": "f4fcaeb1",
   "metadata": {},
   "outputs": [],
   "source": [
    "# Memoization 은 코딩테스트에 나옴.\n",
    "# 다이나믹 프로그래밍 할 때 이 프로그래밍이 나옴."
   ]
  },
  {
   "cell_type": "markdown",
   "id": "e20dcd3c",
   "metadata": {},
   "source": [
    "### 함수형 패러다임"
   ]
  },
  {
   "cell_type": "code",
   "execution_count": null,
   "id": "42af0c3a",
   "metadata": {},
   "outputs": [],
   "source": [
    "# 이제 다시 함수형 패러다임으로 오쟈!"
   ]
  },
  {
   "cell_type": "code",
   "execution_count": null,
   "id": "6c77042a",
   "metadata": {},
   "outputs": [],
   "source": [
    "# 흐름부터 잡자! (복습)\n",
    "1장은 함수형 패러다임에서 제일 많이 쓰는 것이 루프. for 도 이터러블 이터레이터 함수형 패러다임에서 가져온 것.\n",
    "캡슐화부터 쭉 내려감.\n",
    "함수와 클래스\n",
    "컴프리헨션 => 3가지 종류. ()로 묶인 것은 제너레이터\n",
    "제너레이터 => 만드는 방식 2가지. itertools 에서 에러 처리 봄.\n",
    "# dunder 를 진짜 많이 봄, => 함수형 패러다임을 객체화 시킬 수 있음\n",
    "함수형 패러다임은 합성함수 (데코레이터도 마찬가지)\n",
    "반복되는 합성함수가 recursion(재귀) => 이거 잘 안씀. tail elimination 지원 안돼서 -=> 다이나믹 프로그래밍으로 풀어야 함(코테)\n",
    "오퍼레이터\n",
    "두번째 파트가 callable => 괄호 붙힐 수 있는 것. 함수와 메소드, 클래스 => __call__이 정의될 떄\n",
    "이걸 오퍼레이트 오버로딩 개념 해서, 연산자와 같은 메소드가 실행된다 할 때 함으로써 이 파트는 갑자기\n",
    "함수형 패러다임 = 객체지향이 됐기 때문에 지금까지 계속 객체지향 봄.\n",
    "클로져는 클래스로도 만들 수 있다. => 이 클로져가 텐서플로, 파이토치의 기본 __init__, __call__\n",
    "function closure 가 데코레이터\n",
    "메소드와 클래스 => deligator(위임)\n",
    "액세서 => 프로퍼티 만드는 방법 3가지\n",
    "프로퍼티 콜러블인 애를 콜러블 아니게\n",
    "컴포지션 관점으로 두번쨰 설명\n",
    "디스크립션 관점에서 세번째 설명\n",
    "\n",
    "원래 클래스 내 함수 이름 같으면 안됨. 파이썬 함수 오버로딩 지원 안해줘서. 그런데 가능한 이유는 데코레이터 때문에.\n",
    "데코레이터 밑의 함수가 데코레이터에 들어가서 다른 함수가 되가지고 진짜 다른 함수가 되는 것.\n",
    "__lshift__ 가 연산자 오버로드 => 괄호()도 연산자. 함수는 이름까지고, ()는 연산자. 연산자의 기능을 바꾸는 것을 연산자 오버로드\n",
    "#@staticmethod를 배움\n",
    "\n",
    "제너레이터도 배움\n",
    "multiple dispatch -> 우리는 파이썬의 싱글 디스패치를 봄. 파이썬의 기본기능은 아님 멀티플은.\n",
    "\n",
    "이제 Lazy Evaluation. next할 때마다 실행되고 그 전에는 절대 안한다는 것.\n",
    "이터, 제너레이터에서 쓰는 넥스트.\n"
   ]
  },
  {
   "cell_type": "code",
   "execution_count": null,
   "id": "3e1ce9fd",
   "metadata": {},
   "outputs": [],
   "source": [
    "# 이제 이걸 배우자.\n",
    "# 어제 ABC 배움. \n",
    "# 여기서 덕타이핑의 골치아픈 점이 나옴. 이제 내일부터!\n",
    "\n",
    "from collections.abc import Sequence\n",
    "class ExpandingSequence(Sequence):\n",
    "    def __init__(self, it):\n",
    "        self.it = it\n",
    "        self._cache = []\n",
    "    def __getitem__(self, index):\n",
    "        while len(self._cache) <= index:\n",
    "            self._cache.append(next(self.it))\n",
    "            return self._cache[index]\n",
    "    def __len__(self):\n",
    "        return len(self._cache)"
   ]
  },
  {
   "cell_type": "markdown",
   "id": "94cc6f57",
   "metadata": {},
   "source": [
    "#### 질문"
   ]
  },
  {
   "cell_type": "code",
   "execution_count": 91,
   "id": "0d597404",
   "metadata": {
    "ExecuteTime": {
     "end_time": "2023-03-14T06:49:49.280662Z",
     "start_time": "2023-03-14T06:49:49.251369Z"
    }
   },
   "outputs": [
    {
     "name": "stdout",
     "output_type": "stream",
     "text": [
      "start\n",
      "bar\n",
      "end\n"
     ]
    },
    {
     "ename": "TypeError",
     "evalue": "'NoneType' object is not callable",
     "output_type": "error",
     "traceback": [
      "\u001b[0;31m---------------------------------------------------------------------------\u001b[0m",
      "\u001b[0;31mTypeError\u001b[0m                                 Traceback (most recent call last)",
      "Cell \u001b[0;32mIn[91], line 13\u001b[0m\n\u001b[1;32m      9\u001b[0m \u001b[38;5;129m@foo\u001b[39m\n\u001b[1;32m     10\u001b[0m \u001b[38;5;28;01mdef\u001b[39;00m \u001b[38;5;21mbar\u001b[39m():\n\u001b[1;32m     11\u001b[0m     \u001b[38;5;28mprint\u001b[39m(\u001b[38;5;124m'\u001b[39m\u001b[38;5;124mbar\u001b[39m\u001b[38;5;124m'\u001b[39m)\n\u001b[0;32m---> 13\u001b[0m \u001b[43mbar\u001b[49m\u001b[43m(\u001b[49m\u001b[43m)\u001b[49m\n",
      "\u001b[0;31mTypeError\u001b[0m: 'NoneType' object is not callable"
     ]
    }
   ],
   "source": [
    "# inner에 () 안붙는 이유?\n",
    "def foo(fn):\n",
    "    def inner():\n",
    "        print('start')\n",
    "        fn()\n",
    "        print('end')\n",
    "    return inner     # 데코레이터 정의 참고 bar = foo(bar) = inner\n",
    "\n",
    "@foo\n",
    "def bar():\n",
    "    print('bar')\n",
    "    \n",
    "bar()   # bar() = foo(bar)() = inner() => print('start'), bar(), print('end')"
   ]
  },
  {
   "cell_type": "code",
   "execution_count": 76,
   "id": "d5a3114b",
   "metadata": {
    "ExecuteTime": {
     "end_time": "2023-03-14T06:41:31.364377Z",
     "start_time": "2023-03-14T06:41:31.353732Z"
    }
   },
   "outputs": [],
   "source": [
    "# closure technique\n",
    "# m과 n을 파라미터로 줘버리는 것 =>> 그 이유는?\n",
    "# 글로벌로 줘버리면 내가 바꿔쓸 수 없음.\n",
    "# 인자로 주어서 유동성있게 쓰기 위해서\n",
    "\n",
    "m ?\n",
    "n ?\n",
    "def x(m):\n",
    "    def y(n):\n",
    "        return m+n\n",
    "    return y"
   ]
  }
 ],
 "metadata": {
  "kernelspec": {
   "display_name": "Python 3 (ipykernel)",
   "language": "python",
   "name": "python3"
  },
  "language_info": {
   "codemirror_mode": {
    "name": "ipython",
    "version": 3
   },
   "file_extension": ".py",
   "mimetype": "text/x-python",
   "name": "python",
   "nbconvert_exporter": "python",
   "pygments_lexer": "ipython3",
   "version": "3.10.9"
  },
  "toc": {
   "base_numbering": 1,
   "nav_menu": {},
   "number_sections": true,
   "sideBar": true,
   "skip_h1_title": false,
   "title_cell": "Table of Contents",
   "title_sidebar": "Contents",
   "toc_cell": false,
   "toc_position": {},
   "toc_section_display": true,
   "toc_window_display": false
  },
  "varInspector": {
   "cols": {
    "lenName": 16,
    "lenType": 16,
    "lenVar": 40
   },
   "kernels_config": {
    "python": {
     "delete_cmd_postfix": "",
     "delete_cmd_prefix": "del ",
     "library": "var_list.py",
     "varRefreshCmd": "print(var_dic_list())"
    },
    "r": {
     "delete_cmd_postfix": ") ",
     "delete_cmd_prefix": "rm(",
     "library": "var_list.r",
     "varRefreshCmd": "cat(var_dic_list()) "
    }
   },
   "types_to_exclude": [
    "module",
    "function",
    "builtin_function_or_method",
    "instance",
    "_Feature"
   ],
   "window_display": false
  }
 },
 "nbformat": 4,
 "nbformat_minor": 5
}
