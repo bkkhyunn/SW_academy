{
 "cells": [
  {
   "cell_type": "markdown",
   "id": "7fc90b12",
   "metadata": {},
   "source": [
    "#### 내가 원하는 데이터 타입을 만드는 테크닉"
   ]
  },
  {
   "cell_type": "code",
   "execution_count": 1,
   "id": "2833ccbd",
   "metadata": {
    "ExecuteTime": {
     "end_time": "2023-03-15T05:21:41.435031Z",
     "start_time": "2023-03-15T05:21:41.432480Z"
    }
   },
   "outputs": [],
   "source": [
    "# 첫번째\n",
    "# 시퀀스 데이터 타입(인덱스, 슬라이싱 가능) 만들자\n",
    "class A:\n",
    "    def __len__(self):\n",
    "        print('len')\n",
    "        pass\n",
    "    def __getitem__(self, x):\n",
    "        print('get_item')\n",
    "        pass"
   ]
  },
  {
   "cell_type": "code",
   "execution_count": 2,
   "id": "f1e8581d",
   "metadata": {
    "ExecuteTime": {
     "end_time": "2023-03-15T05:21:42.069713Z",
     "start_time": "2023-03-15T05:21:42.063536Z"
    }
   },
   "outputs": [],
   "source": [
    "a = A()"
   ]
  },
  {
   "cell_type": "code",
   "execution_count": 3,
   "id": "ad1c31f2",
   "metadata": {
    "ExecuteTime": {
     "end_time": "2023-03-15T05:21:42.613174Z",
     "start_time": "2023-03-15T05:21:42.610571Z"
    }
   },
   "outputs": [
    {
     "name": "stdout",
     "output_type": "stream",
     "text": [
      "get_item\n"
     ]
    }
   ],
   "source": [
    "# 위처럼 만들면 결과 나옴\n",
    "a[0]"
   ]
  },
  {
   "cell_type": "code",
   "execution_count": null,
   "id": "36462a8b",
   "metadata": {},
   "outputs": [],
   "source": [
    "# 이런 것을 덕 타이핑이라고 함. 시퀀스의 프로토콜을 따르면 덕타이핑에 따라서 시퀀스로 간주한다.\n",
    "# 덕 타이핑!!!!!"
   ]
  },
  {
   "cell_type": "code",
   "execution_count": 7,
   "id": "53e32d38",
   "metadata": {
    "ExecuteTime": {
     "end_time": "2023-03-15T05:07:17.660104Z",
     "start_time": "2023-03-15T05:07:17.653485Z"
    }
   },
   "outputs": [],
   "source": [
    "# 두번째\n",
    "# 시퀀스라는 클래스가 이미 만들어져 있으니 상속 받을 수 있음."
   ]
  },
  {
   "cell_type": "code",
   "execution_count": 7,
   "id": "df25ff85",
   "metadata": {
    "ExecuteTime": {
     "end_time": "2023-03-15T05:28:12.455946Z",
     "start_time": "2023-03-15T05:28:12.447602Z"
    }
   },
   "outputs": [],
   "source": [
    "# 추상클래스 이용\n",
    "from collections.abc import Sequence"
   ]
  },
  {
   "cell_type": "code",
   "execution_count": 5,
   "id": "9007f7d4",
   "metadata": {
    "ExecuteTime": {
     "end_time": "2023-03-15T05:21:45.616162Z",
     "start_time": "2023-03-15T05:21:45.606862Z"
    }
   },
   "outputs": [],
   "source": [
    "class B(Sequence):\n",
    "    pass"
   ]
  },
  {
   "cell_type": "code",
   "execution_count": 6,
   "id": "c4927680",
   "metadata": {
    "ExecuteTime": {
     "end_time": "2023-03-15T05:21:45.983493Z",
     "start_time": "2023-03-15T05:21:45.961395Z"
    }
   },
   "outputs": [
    {
     "ename": "TypeError",
     "evalue": "Can't instantiate abstract class B with abstract methods __getitem__, __len__",
     "output_type": "error",
     "traceback": [
      "\u001b[0;31m---------------------------------------------------------------------------\u001b[0m",
      "\u001b[0;31mTypeError\u001b[0m                                 Traceback (most recent call last)",
      "Cell \u001b[0;32mIn[6], line 1\u001b[0m\n\u001b[0;32m----> 1\u001b[0m b \u001b[38;5;241m=\u001b[39m \u001b[43mB\u001b[49m\u001b[43m(\u001b[49m\u001b[43m)\u001b[49m\n",
      "\u001b[0;31mTypeError\u001b[0m: Can't instantiate abstract class B with abstract methods __getitem__, __len__"
     ]
    }
   ],
   "source": [
    "b = B()\n",
    "# 기능이 똑바로 작동하려면 아래와 같은 거를 지정해야만 한다! 추상클래스를 따르지 않았기 때문에. 그래서 인스턴스 처음부터 못 만듦"
   ]
  },
  {
   "cell_type": "code",
   "execution_count": null,
   "id": "0842695a",
   "metadata": {},
   "outputs": [],
   "source": [
    "# 덕타이핑과 추상클래스의 차이점 -> 추상클래스로 지정하면 내가 어떤거 구현 안하면 에러생기니까 우아함. 그런데 복잡성은 증가함.\n",
    "# 파이썬의 특성상 리스트를 넣어야 하는데 튜플 넣어도 되는 경우가 있음.\n",
    "# 추상클래스를 따라버리면 그 규칙에 명확하게 따라야 하기 때문에, 파이썬하는 사람들은 내가 뭘 해도 내가 책임진다는 마인드라서\n",
    "# 추상클래스 잘 안씀"
   ]
  },
  {
   "cell_type": "code",
   "execution_count": null,
   "id": "5eb12e25",
   "metadata": {},
   "outputs": [],
   "source": [
    "# 세번째 상속 이용\n",
    "# 이러한 상황들을 내가 판단해야 함. "
   ]
  },
  {
   "cell_type": "code",
   "execution_count": 7,
   "id": "0be103db",
   "metadata": {
    "ExecuteTime": {
     "end_time": "2023-03-15T05:21:50.127096Z",
     "start_time": "2023-03-15T05:21:50.116201Z"
    }
   },
   "outputs": [],
   "source": [
    "class A:\n",
    "    def __len__(self):\n",
    "        print('len')\n",
    "        pass\n",
    "    def __getitem__(self, x):\n",
    "        print('get_item')\n",
    "        raise NotImplementedError  # 상속할 때 이걸 구현 안하면 이 에러가 뜨게 함. 이 테크닉을 쓰기도 함.\n",
    "        \n",
    "# 이것들을 다 알면 개발자가 어떻게 만들었는지 이해하기 편함"
   ]
  },
  {
   "cell_type": "code",
   "execution_count": 12,
   "id": "4ffaa737",
   "metadata": {
    "ExecuteTime": {
     "end_time": "2023-03-15T05:19:59.495705Z",
     "start_time": "2023-03-15T05:12:06.240169Z"
    },
    "collapsed": true
   },
   "outputs": [
    {
     "name": "stdout",
     "output_type": "stream",
     "text": [
      "Collecting tensorflow\n",
      "  Downloading tensorflow-2.11.0-cp310-cp310-macosx_10_14_x86_64.whl (244.3 MB)\n",
      "\u001b[2K     \u001b[38;2;114;156;31m━━━━━━━━━━━━━━━━━━━━━━━━━━━━━━━━━━━━━━━\u001b[0m \u001b[32m244.3/244.3 MB\u001b[0m \u001b[31m3.1 MB/s\u001b[0m eta \u001b[36m0:00:00\u001b[0mm eta \u001b[36m0:00:01\u001b[0m[36m0:00:02\u001b[0m�━━━━━━━━━━━━━━━━\u001b[0m\u001b[38;5;237m╺\u001b[0m\u001b[38;5;237m━━━━━\u001b[0m \u001b[32m205.2/244.3 MB\u001b[0m \u001b[31m609.2 kB/s\u001b[0m eta \u001b[36m0:01:05\u001b[0m\n",
      "\u001b[?25hCollecting h5py>=2.9.0\n",
      "  Downloading h5py-3.8.0-cp310-cp310-macosx_10_9_x86_64.whl (3.2 MB)\n",
      "\u001b[2K     \u001b[38;2;114;156;31m━━━━━━━━━━━━━━━━━━━━━━━━━━━━━━━━━━━━━━━━\u001b[0m \u001b[32m3.2/3.2 MB\u001b[0m \u001b[31m1.9 MB/s\u001b[0m eta \u001b[36m0:00:00\u001b[0mm eta \u001b[36m0:00:01\u001b[0m[36m0:00:01\u001b[0m\n",
      "\u001b[?25hCollecting opt-einsum>=2.3.2\n",
      "  Downloading opt_einsum-3.3.0-py3-none-any.whl (65 kB)\n",
      "\u001b[2K     \u001b[38;2;114;156;31m━━━━━━━━━━━━━━━━━━━━━━━━━━━━━━━━━━━━━━━━\u001b[0m \u001b[32m65.5/65.5 kB\u001b[0m \u001b[31m6.6 MB/s\u001b[0m eta \u001b[36m0:00:00\u001b[0m\n",
      "\u001b[?25hCollecting keras<2.12,>=2.11.0\n",
      "  Downloading keras-2.11.0-py2.py3-none-any.whl (1.7 MB)\n",
      "\u001b[2K     \u001b[38;2;114;156;31m━━━━━━━━━━━━━━━━━━━━━━━━━━━━━━━━━━━━━━━━\u001b[0m \u001b[32m1.7/1.7 MB\u001b[0m \u001b[31m1.6 MB/s\u001b[0m eta \u001b[36m0:00:00\u001b[0mm eta \u001b[36m0:00:01\u001b[0m[36m0:00:01\u001b[0m\n",
      "\u001b[?25hRequirement already satisfied: packaging in /Users/baekkwanghyun/miniconda3/lib/python3.10/site-packages (from tensorflow) (22.0)\n",
      "Collecting flatbuffers>=2.0\n",
      "  Downloading flatbuffers-23.3.3-py2.py3-none-any.whl (26 kB)\n",
      "Requirement already satisfied: setuptools in /Users/baekkwanghyun/miniconda3/lib/python3.10/site-packages (from tensorflow) (65.6.3)\n",
      "Collecting tensorflow-estimator<2.12,>=2.11.0\n",
      "  Downloading tensorflow_estimator-2.11.0-py2.py3-none-any.whl (439 kB)\n",
      "\u001b[2K     \u001b[38;2;114;156;31m━━━━━━━━━━━━━━━━━━━━━━━━━━━━━━━━━━━━━━━\u001b[0m \u001b[32m439.2/439.2 kB\u001b[0m \u001b[31m2.9 MB/s\u001b[0m eta \u001b[36m0:00:00\u001b[0m MB/s\u001b[0m eta \u001b[36m0:00:01\u001b[0m\n",
      "\u001b[?25hCollecting gast<=0.4.0,>=0.2.1\n",
      "  Downloading gast-0.4.0-py3-none-any.whl (9.8 kB)\n",
      "Collecting google-pasta>=0.1.1\n",
      "  Downloading google_pasta-0.2.0-py3-none-any.whl (57 kB)\n",
      "\u001b[2K     \u001b[38;2;114;156;31m━━━━━━━━━━━━━━━━━━━━━━━━━━━━━━━━━━━━━━━━\u001b[0m \u001b[32m57.5/57.5 kB\u001b[0m \u001b[31m3.6 MB/s\u001b[0m eta \u001b[36m0:00:00\u001b[0m\n",
      "\u001b[?25hCollecting grpcio<2.0,>=1.24.3\n",
      "  Downloading grpcio-1.51.3.tar.gz (22.1 MB)\n",
      "\u001b[2K     \u001b[38;2;114;156;31m━━━━━━━━━━━━━━━━━━━━━━━━━━━━━━━━━━━━━━━\u001b[0m \u001b[32m22.1/22.1 MB\u001b[0m \u001b[31m773.4 kB/s\u001b[0m eta \u001b[36m0:00:00\u001b[0mm eta \u001b[36m0:00:01\u001b[0m[36m0:00:01\u001b[0m\n",
      "\u001b[?25h  Preparing metadata (setup.py) ... \u001b[?25ldone\n",
      "\u001b[?25hCollecting termcolor>=1.1.0\n",
      "  Downloading termcolor-2.2.0-py3-none-any.whl (6.6 kB)\n",
      "Collecting tensorflow-io-gcs-filesystem>=0.23.1\n",
      "  Downloading tensorflow_io_gcs_filesystem-0.31.0-cp310-cp310-macosx_10_14_x86_64.whl (1.6 MB)\n",
      "\u001b[2K     \u001b[38;2;114;156;31m━━━━━━━━━━━━━━━━━━━━━━━━━━━━━━━━━━━━━━━━\u001b[0m \u001b[32m1.6/1.6 MB\u001b[0m \u001b[31m920.4 kB/s\u001b[0m eta \u001b[36m0:00:00\u001b[0m[36m0:00:01\u001b[0mm eta \u001b[36m0:00:01\u001b[0m\n",
      "\u001b[?25hRequirement already satisfied: numpy>=1.20 in /Users/baekkwanghyun/miniconda3/lib/python3.10/site-packages (from tensorflow) (1.24.2)\n",
      "Collecting protobuf<3.20,>=3.9.2\n",
      "  Downloading protobuf-3.19.6-py2.py3-none-any.whl (162 kB)\n",
      "\u001b[2K     \u001b[38;2;114;156;31m━━━━━━━━━━━━━━━━━━━━━━━━━━━━━━━━━━━━━━━\u001b[0m \u001b[32m162.6/162.6 kB\u001b[0m \u001b[31m1.6 MB/s\u001b[0m eta \u001b[36m0:00:00\u001b[0m[31m1.7 MB/s\u001b[0m eta \u001b[36m0:00:01\u001b[0m\n",
      "\u001b[?25hRequirement already satisfied: typing-extensions>=3.6.6 in /Users/baekkwanghyun/miniconda3/lib/python3.10/site-packages (from tensorflow) (4.4.0)\n",
      "Collecting astunparse>=1.6.0\n",
      "  Downloading astunparse-1.6.3-py2.py3-none-any.whl (12 kB)\n",
      "Collecting wrapt>=1.11.0\n",
      "  Downloading wrapt-1.15.0-cp310-cp310-macosx_10_9_x86_64.whl (35 kB)\n",
      "Collecting tensorboard<2.12,>=2.11\n",
      "  Downloading tensorboard-2.11.2-py3-none-any.whl (6.0 MB)\n",
      "\u001b[2K     \u001b[38;2;114;156;31m━━━━━━━━━━━━━━━━━━━━━━━━━━━━━━━━━━━━━━━━\u001b[0m \u001b[32m6.0/6.0 MB\u001b[0m \u001b[31m1.7 MB/s\u001b[0m eta \u001b[36m0:00:00\u001b[0mm eta \u001b[36m0:00:01\u001b[0m0:01\u001b[0m:01\u001b[0m\n",
      "\u001b[?25hCollecting absl-py>=1.0.0\n",
      "  Downloading absl_py-1.4.0-py3-none-any.whl (126 kB)\n",
      "\u001b[2K     \u001b[38;2;114;156;31m━━━━━━━━━━━━━━━━━━━━━━━━━━━━━━━━━━━━━━━\u001b[0m \u001b[32m126.5/126.5 kB\u001b[0m \u001b[31m1.4 MB/s\u001b[0m eta \u001b[36m0:00:00\u001b[0m MB/s\u001b[0m eta \u001b[36m0:00:01\u001b[0m\n",
      "\u001b[?25hRequirement already satisfied: six>=1.12.0 in /Users/baekkwanghyun/miniconda3/lib/python3.10/site-packages (from tensorflow) (1.16.0)\n",
      "Collecting libclang>=13.0.0\n",
      "  Downloading libclang-15.0.6.1-py2.py3-none-macosx_10_9_x86_64.whl (25.0 MB)\n",
      "\u001b[2K     \u001b[38;2;114;156;31m━━━━━━━━━━━━━━━━━━━━━━━━━━━━━━━━━━━━━━━━\u001b[0m \u001b[32m25.0/25.0 MB\u001b[0m \u001b[31m1.9 MB/s\u001b[0m eta \u001b[36m0:00:00\u001b[0mm eta \u001b[36m0:00:01\u001b[0m[36m0:00:01\u001b[0mm\n",
      "\u001b[?25hRequirement already satisfied: wheel<1.0,>=0.23.0 in /Users/baekkwanghyun/miniconda3/lib/python3.10/site-packages (from astunparse>=1.6.0->tensorflow) (0.38.4)\n",
      "Collecting tensorboard-plugin-wit>=1.6.0\n",
      "  Downloading tensorboard_plugin_wit-1.8.1-py3-none-any.whl (781 kB)\n",
      "\u001b[2K     \u001b[38;2;114;156;31m━━━━━━━━━━━━━━━━━━━━━━━━━━━━━━━━━━━━━━━\u001b[0m \u001b[32m781.3/781.3 kB\u001b[0m \u001b[31m1.8 MB/s\u001b[0m eta \u001b[36m0:00:00\u001b[0m[31m1.8 MB/s\u001b[0m eta \u001b[36m0:00:01\u001b[0m\n",
      "\u001b[?25hRequirement already satisfied: requests<3,>=2.21.0 in /Users/baekkwanghyun/miniconda3/lib/python3.10/site-packages (from tensorboard<2.12,>=2.11->tensorflow) (2.28.1)\n",
      "Collecting google-auth<3,>=1.6.3\n",
      "  Downloading google_auth-2.16.2-py2.py3-none-any.whl (177 kB)\n",
      "\u001b[2K     \u001b[38;2;114;156;31m━━━━━━━━━━━━━━━━━━━━━━━━━━━━━━━━━━━━━\u001b[0m \u001b[32m177.2/177.2 kB\u001b[0m \u001b[31m437.6 kB/s\u001b[0m eta \u001b[36m0:00:00\u001b[0m[36m0:00:01\u001b[0mm eta \u001b[36m0:00:01\u001b[0m\n",
      "\u001b[?25hCollecting tensorboard-data-server<0.7.0,>=0.6.0\n",
      "  Downloading tensorboard_data_server-0.6.1-py3-none-macosx_10_9_x86_64.whl (3.5 MB)\n",
      "\u001b[2K     \u001b[38;2;114;156;31m━━━━━━━━━━━━━━━━━━━━━━━━━━━━━━━━━━━━━━━━\u001b[0m \u001b[32m3.5/3.5 MB\u001b[0m \u001b[31m1.6 MB/s\u001b[0m eta \u001b[36m0:00:00\u001b[0mm eta \u001b[36m0:00:01\u001b[0m0:01\u001b[0m:01\u001b[0m\n",
      "\u001b[?25hCollecting markdown>=2.6.8\n",
      "  Downloading Markdown-3.4.1-py3-none-any.whl (93 kB)\n",
      "\u001b[2K     \u001b[38;2;114;156;31m━━━━━━━━━━━━━━━━━━━━━━━━━━━━━━━━━━━━━━━━\u001b[0m \u001b[32m93.3/93.3 kB\u001b[0m \u001b[31m1.2 MB/s\u001b[0m eta \u001b[36m0:00:00\u001b[0m31m700.1 kB/s\u001b[0m eta \u001b[36m0:00:01\u001b[0m\n",
      "\u001b[?25hCollecting werkzeug>=1.0.1\n",
      "  Downloading Werkzeug-2.2.3-py3-none-any.whl (233 kB)\n",
      "\u001b[2K     \u001b[38;2;114;156;31m━━━━━━━━━━━━━━━━━━━━━━━━━━━━━━━━━━━━━━━\u001b[0m \u001b[32m233.6/233.6 kB\u001b[0m \u001b[31m2.1 MB/s\u001b[0m eta \u001b[36m0:00:00\u001b[0m MB/s\u001b[0m eta \u001b[36m0:00:01\u001b[0m:01\u001b[0m\n",
      "\u001b[?25hCollecting google-auth-oauthlib<0.5,>=0.4.1\n",
      "  Downloading google_auth_oauthlib-0.4.6-py2.py3-none-any.whl (18 kB)\n",
      "Collecting cachetools<6.0,>=2.0.0\n",
      "  Downloading cachetools-5.3.0-py3-none-any.whl (9.3 kB)\n",
      "Collecting pyasn1-modules>=0.2.1\n",
      "  Downloading pyasn1_modules-0.2.8-py2.py3-none-any.whl (155 kB)\n",
      "\u001b[2K     \u001b[38;2;114;156;31m━━━━━━━━━━━━━━━━━━━━━━━━━━━━━━━━━━━━━━━\u001b[0m \u001b[32m155.3/155.3 kB\u001b[0m \u001b[31m1.6 MB/s\u001b[0m eta \u001b[36m0:00:00\u001b[0mm eta \u001b[36m0:00:01\u001b[0m0:01\u001b[0m\n",
      "\u001b[?25hCollecting rsa<5,>=3.1.4\n",
      "  Downloading rsa-4.9-py3-none-any.whl (34 kB)\n",
      "Collecting requests-oauthlib>=0.7.0\n",
      "  Downloading requests_oauthlib-1.3.1-py2.py3-none-any.whl (23 kB)\n",
      "Requirement already satisfied: idna<4,>=2.5 in /Users/baekkwanghyun/miniconda3/lib/python3.10/site-packages (from requests<3,>=2.21.0->tensorboard<2.12,>=2.11->tensorflow) (3.4)\n",
      "Requirement already satisfied: urllib3<1.27,>=1.21.1 in /Users/baekkwanghyun/miniconda3/lib/python3.10/site-packages (from requests<3,>=2.21.0->tensorboard<2.12,>=2.11->tensorflow) (1.26.14)\n",
      "Requirement already satisfied: charset-normalizer<3,>=2 in /Users/baekkwanghyun/miniconda3/lib/python3.10/site-packages (from requests<3,>=2.21.0->tensorboard<2.12,>=2.11->tensorflow) (2.0.4)\n",
      "Requirement already satisfied: certifi>=2017.4.17 in /Users/baekkwanghyun/miniconda3/lib/python3.10/site-packages (from requests<3,>=2.21.0->tensorboard<2.12,>=2.11->tensorflow) (2022.12.7)\n",
      "Requirement already satisfied: MarkupSafe>=2.1.1 in /Users/baekkwanghyun/miniconda3/lib/python3.10/site-packages (from werkzeug>=1.0.1->tensorboard<2.12,>=2.11->tensorflow) (2.1.1)\n",
      "Collecting pyasn1<0.5.0,>=0.4.6\n",
      "  Downloading pyasn1-0.4.8-py2.py3-none-any.whl (77 kB)\n",
      "\u001b[2K     \u001b[38;2;114;156;31m━━━━━━━━━━━━━━━━━━━━━━━━━━━━━━━━━━━━━━━━\u001b[0m \u001b[32m77.1/77.1 kB\u001b[0m \u001b[31m1.4 MB/s\u001b[0m eta \u001b[36m0:00:00\u001b[0m[31m2.7 MB/s\u001b[0m eta \u001b[36m0:00:01\u001b[0m\n",
      "\u001b[?25hCollecting oauthlib>=3.0.0\n",
      "  Downloading oauthlib-3.2.2-py3-none-any.whl (151 kB)\n",
      "\u001b[2K     \u001b[38;2;114;156;31m━━━━━━━━━━━━━━━━━━━━━━━━━━━━━━━━━━━━━\u001b[0m \u001b[32m151.7/151.7 kB\u001b[0m \u001b[31m495.2 kB/s\u001b[0m eta \u001b[36m0:00:00\u001b[0m1m349.7 kB/s\u001b[0m eta \u001b[36m0:00:01\u001b[0m\n",
      "\u001b[?25hBuilding wheels for collected packages: grpcio\n",
      "  Building wheel for grpcio (setup.py) ... \u001b[?25ldone\n",
      "\u001b[?25h  Created wheel for grpcio: filename=grpcio-1.51.3-cp310-cp310-macosx_10_10_x86_64.whl size=3897349 sha256=3a8dd349392d598c305a05e734f1d1f86a9faa3d507ef32042a1b36df6abd1f7\n",
      "  Stored in directory: /Users/baekkwanghyun/Library/Caches/pip/wheels/91/e3/4f/7e15ed98b31e2642cc01a19dd26527f6f5d4aec7005f7216b6\n",
      "Successfully built grpcio\n",
      "Installing collected packages: tensorboard-plugin-wit, pyasn1, libclang, flatbuffers, wrapt, werkzeug, termcolor, tensorflow-io-gcs-filesystem, tensorflow-estimator, tensorboard-data-server, rsa, pyasn1-modules, protobuf, opt-einsum, oauthlib, markdown, keras, h5py, grpcio, google-pasta, gast, cachetools, astunparse, absl-py, requests-oauthlib, google-auth, google-auth-oauthlib, tensorboard, tensorflow\n",
      "Successfully installed absl-py-1.4.0 astunparse-1.6.3 cachetools-5.3.0 flatbuffers-23.3.3 gast-0.4.0 google-auth-2.16.2 google-auth-oauthlib-0.4.6 google-pasta-0.2.0 grpcio-1.51.3 h5py-3.8.0 keras-2.11.0 libclang-15.0.6.1 markdown-3.4.1 oauthlib-3.2.2 opt-einsum-3.3.0 protobuf-3.19.6 pyasn1-0.4.8 pyasn1-modules-0.2.8 requests-oauthlib-1.3.1 rsa-4.9 tensorboard-2.11.2 tensorboard-data-server-0.6.1 tensorboard-plugin-wit-1.8.1 tensorflow-2.11.0 tensorflow-estimator-2.11.0 tensorflow-io-gcs-filesystem-0.31.0 termcolor-2.2.0 werkzeug-2.2.3 wrapt-1.15.0\n"
     ]
    }
   ],
   "source": [
    "!pip install tensorflow"
   ]
  },
  {
   "cell_type": "code",
   "execution_count": 15,
   "id": "150a7d34",
   "metadata": {
    "ExecuteTime": {
     "end_time": "2023-03-15T06:32:00.047741Z",
     "start_time": "2023-03-15T06:32:00.034472Z"
    }
   },
   "outputs": [],
   "source": [
    "import tensorflow as tf"
   ]
  },
  {
   "cell_type": "code",
   "execution_count": 16,
   "id": "2cf5851c",
   "metadata": {
    "ExecuteTime": {
     "end_time": "2023-03-15T06:32:01.767971Z",
     "start_time": "2023-03-15T06:32:01.754298Z"
    }
   },
   "outputs": [
    {
     "data": {
      "text/plain": [
       "keras.utils.data_utils.Sequence"
      ]
     },
     "execution_count": 16,
     "metadata": {},
     "output_type": "execute_result"
    }
   ],
   "source": [
    "tf.keras.utils.Sequence"
   ]
  },
  {
   "cell_type": "code",
   "execution_count": 17,
   "id": "5f515b0a",
   "metadata": {
    "ExecuteTime": {
     "end_time": "2023-03-15T06:32:03.375832Z",
     "start_time": "2023-03-15T06:32:03.361512Z"
    }
   },
   "outputs": [],
   "source": [
    "import inspect"
   ]
  },
  {
   "cell_type": "code",
   "execution_count": 18,
   "id": "d63c722a",
   "metadata": {
    "ExecuteTime": {
     "end_time": "2023-03-15T06:32:04.650286Z",
     "start_time": "2023-03-15T06:32:04.624646Z"
    }
   },
   "outputs": [
    {
     "data": {
      "text/plain": [
       "'@keras_export(\"keras.utils.Sequence\")\\nclass Sequence:\\n    \"\"\"Base object for fitting to a sequence of data, such as a dataset.\\n\\n    Every `Sequence` must implement the `__getitem__` and the `__len__` methods.\\n    If you want to modify your dataset between epochs you may implement\\n    `on_epoch_end`.\\n    The method `__getitem__` should return a complete batch.\\n\\n    Notes:\\n\\n    `Sequence` are a safer way to do multiprocessing. This structure guarantees\\n    that the network will only train once\\n     on each sample per epoch which is not the case with generators.\\n\\n    Examples:\\n\\n    ```python\\n    from skimage.io import imread\\n    from skimage.transform import resize\\n    import numpy as np\\n    import math\\n\\n    # Here, `x_set` is list of path to the images\\n    # and `y_set` are the associated classes.\\n\\n    class CIFAR10Sequence(tf.keras.utils.Sequence):\\n\\n        def __init__(self, x_set, y_set, batch_size):\\n            self.x, self.y = x_set, y_set\\n            self.batch_size = batch_size\\n\\n        def __len__(self):\\n            return math.ceil(len(self.x) / self.batch_size)\\n\\n        def __getitem__(self, idx):\\n            batch_x = self.x[idx * self.batch_size:(idx + 1) *\\n            self.batch_size]\\n            batch_y = self.y[idx * self.batch_size:(idx + 1) *\\n            self.batch_size]\\n\\n            return np.array([\\n                resize(imread(file_name), (200, 200))\\n                   for file_name in batch_x]), np.array(batch_y)\\n    ```\\n    \"\"\"\\n\\n    @abstractmethod\\n    def __getitem__(self, index):\\n        \"\"\"Gets batch at position `index`.\\n\\n        Args:\\n            index: position of the batch in the Sequence.\\n\\n        Returns:\\n            A batch\\n        \"\"\"\\n        raise NotImplementedError\\n\\n    @abstractmethod\\n    def __len__(self):\\n        \"\"\"Number of batch in the Sequence.\\n\\n        Returns:\\n            The number of batches in the Sequence.\\n        \"\"\"\\n        raise NotImplementedError\\n\\n    def on_epoch_end(self):\\n        \"\"\"Method called at the end of every epoch.\"\"\"\\n        pass\\n\\n    def __iter__(self):\\n        \"\"\"Create a generator that iterate over the Sequence.\"\"\"\\n        for item in (self[i] for i in range(len(self))):\\n            yield item\\n'"
      ]
     },
     "execution_count": 18,
     "metadata": {},
     "output_type": "execute_result"
    }
   ],
   "source": [
    "inspect.getsource(tf.keras.utils.Sequence)  # 안에다가 함수를 집어넣어야 함\n",
    "# __repr__ 에서는 이스케이프 처리 안해서 날 것으로 보여줌."
   ]
  },
  {
   "cell_type": "code",
   "execution_count": 5,
   "id": "f7bd02f7",
   "metadata": {
    "ExecuteTime": {
     "end_time": "2023-03-15T06:15:05.105072Z",
     "start_time": "2023-03-15T06:15:05.082285Z"
    },
    "scrolled": true
   },
   "outputs": [
    {
     "name": "stdout",
     "output_type": "stream",
     "text": [
      "@keras_export(\"keras.utils.Sequence\")\n",
      "class Sequence:\n",
      "    \"\"\"Base object for fitting to a sequence of data, such as a dataset.\n",
      "\n",
      "    Every `Sequence` must implement the `__getitem__` and the `__len__` methods.\n",
      "    If you want to modify your dataset between epochs you may implement\n",
      "    `on_epoch_end`.\n",
      "    The method `__getitem__` should return a complete batch.\n",
      "\n",
      "    Notes:\n",
      "\n",
      "    `Sequence` are a safer way to do multiprocessing. This structure guarantees\n",
      "    that the network will only train once\n",
      "     on each sample per epoch which is not the case with generators.\n",
      "\n",
      "    Examples:\n",
      "\n",
      "    ```python\n",
      "    from skimage.io import imread\n",
      "    from skimage.transform import resize\n",
      "    import numpy as np\n",
      "    import math\n",
      "\n",
      "    # Here, `x_set` is list of path to the images\n",
      "    # and `y_set` are the associated classes.\n",
      "\n",
      "    class CIFAR10Sequence(tf.keras.utils.Sequence):\n",
      "\n",
      "        def __init__(self, x_set, y_set, batch_size):\n",
      "            self.x, self.y = x_set, y_set\n",
      "            self.batch_size = batch_size\n",
      "\n",
      "        def __len__(self):\n",
      "            return math.ceil(len(self.x) / self.batch_size)\n",
      "\n",
      "        def __getitem__(self, idx):\n",
      "            batch_x = self.x[idx * self.batch_size:(idx + 1) *\n",
      "            self.batch_size]\n",
      "            batch_y = self.y[idx * self.batch_size:(idx + 1) *\n",
      "            self.batch_size]\n",
      "\n",
      "            return np.array([\n",
      "                resize(imread(file_name), (200, 200))\n",
      "                   for file_name in batch_x]), np.array(batch_y)\n",
      "    ```\n",
      "    \"\"\"\n",
      "\n",
      "    @abstractmethod\n",
      "    def __getitem__(self, index):\n",
      "        \"\"\"Gets batch at position `index`.\n",
      "\n",
      "        Args:\n",
      "            index: position of the batch in the Sequence.\n",
      "\n",
      "        Returns:\n",
      "            A batch\n",
      "        \"\"\"\n",
      "        raise NotImplementedError\n",
      "\n",
      "    @abstractmethod\n",
      "    def __len__(self):\n",
      "        \"\"\"Number of batch in the Sequence.\n",
      "\n",
      "        Returns:\n",
      "            The number of batches in the Sequence.\n",
      "        \"\"\"\n",
      "        raise NotImplementedError\n",
      "\n",
      "    def on_epoch_end(self):\n",
      "        \"\"\"Method called at the end of every epoch.\"\"\"\n",
      "        pass\n",
      "\n",
      "    def __iter__(self):\n",
      "        \"\"\"Create a generator that iterate over the Sequence.\"\"\"\n",
      "        for item in (self[i] for i in range(len(self))):\n",
      "            yield item\n",
      "\n"
     ]
    }
   ],
   "source": [
    "# 그래서 str 로 보여주세요!\n",
    "print(inspect.getsource(tf.keras.utils.Sequence))\n",
    "# 이 애는 시퀀스 만드는데 덕타이핑으로 씀(상속 안받고)\n",
    "# 덕 타이핑인데 상속 안받고 @abstractmethod 써서 raise NotImplemetedError 씀"
   ]
  },
  {
   "cell_type": "code",
   "execution_count": null,
   "id": "2b01416f",
   "metadata": {},
   "outputs": [],
   "source": [
    "# 1. 시퀀스를 상속을 하면, 시퀀스의 제일 핵심 기능 2개(len, getitem) 외에 나머지 기능을 다 물려받음\n",
    "#  -> 내가 어떤 기능할 때 부모한테 시킬 수 있음\n",
    "# 시퀀스의 핵심 기능만 해서 클래스를 만들었으니 가볍게 쓸 수 있음. (class A) -> 강제시킬 수 있음. raise\n",
    "# 모든 시퀀스를 다 가지고 있음(class B)\n",
    "# 파이토치는 상속받음. 상속받은 것에 구현되어 있으니까 별도로 안만들어도 된다고 공지함.\n",
    "\n",
    "# 즉, 똑같은 시퀀스 데이터 타입인데, 인덱싱 슬라이싱만 하려면 딱 두 기능만 만들면 됨.\n",
    "# 기타 시퀀스의 모든 기능을 만들려면 상속.\n",
    "\n",
    "# 우리는 이제 코드보면 이해할 수 있음!!!"
   ]
  },
  {
   "cell_type": "code",
   "execution_count": null,
   "id": "e2f36282",
   "metadata": {},
   "outputs": [],
   "source": [
    "# 교재 내용\n",
    "from collections.abc import Sequence\n",
    "\n",
    "class ExpandingSequence(Sequence):\n",
    "    def __init__(self, it):\n",
    "        self.it = it\n",
    "        self._cache = []\n",
    "        \n",
    "    def __getitem__(self, index):\n",
    "        while len(self._cache) <= index:\n",
    "            self._cache.append(next(self.it))\n",
    "        return self._cache[index]\n",
    "    \n",
    "    def __len__(self):\n",
    "        return len(self._cache)"
   ]
  },
  {
   "cell_type": "code",
   "execution_count": null,
   "id": "b83566ac",
   "metadata": {},
   "outputs": [],
   "source": [
    "# 상속 안받고도 덕 타이핑으로 만들 수 있다. -> 부가기능 필요없고 인덱스/슬라이스 딱 필요한 것만 쓰겠다!!\n",
    "# 그에 관련된 프로토콜(len, getitem)만 구현하면 됨\n",
    "\n",
    "# 아예 시퀀스 자체를, 내가 조금만 바꾸려면 추상클래스에서 상속을 받아서 씀.\n",
    "\n",
    "# 딥러닝에서는 보통 lazy 테크닉을 씀. 그래서 next 부를 때마다 쓰는 lazy 테크닉. (한번에 메모리에 올리지 않으니)\n",
    "# 그래서 인덱스와 슬라이싱이 안됨.(한번에 메모리 올리지 않으니)"
   ]
  },
  {
   "cell_type": "code",
   "execution_count": null,
   "id": "e3f34ef2",
   "metadata": {},
   "outputs": [],
   "source": [
    "# lazy 기법의 문제점\n",
    "# iterator -> 인덱스와 슬라이싱 안됨. 그게 가능하게 만드는 것이 위 코드."
   ]
  },
  {
   "cell_type": "code",
   "execution_count": 1,
   "id": "cf17b33a",
   "metadata": {
    "ExecuteTime": {
     "end_time": "2023-03-15T05:27:26.458725Z",
     "start_time": "2023-03-15T05:27:26.446679Z"
    }
   },
   "outputs": [],
   "source": [
    "a = 1"
   ]
  },
  {
   "cell_type": "code",
   "execution_count": 2,
   "id": "656e8915",
   "metadata": {
    "ExecuteTime": {
     "end_time": "2023-03-15T05:27:27.244713Z",
     "start_time": "2023-03-15T05:27:27.220762Z"
    },
    "scrolled": true
   },
   "outputs": [
    {
     "data": {
      "text/plain": [
       "['__abs__',\n",
       " '__add__',\n",
       " '__and__',\n",
       " '__bool__',\n",
       " '__ceil__',\n",
       " '__class__',\n",
       " '__delattr__',\n",
       " '__dir__',\n",
       " '__divmod__',\n",
       " '__doc__',\n",
       " '__eq__',\n",
       " '__float__',\n",
       " '__floor__',\n",
       " '__floordiv__',\n",
       " '__format__',\n",
       " '__ge__',\n",
       " '__getattribute__',\n",
       " '__getnewargs__',\n",
       " '__gt__',\n",
       " '__hash__',\n",
       " '__index__',\n",
       " '__init__',\n",
       " '__init_subclass__',\n",
       " '__int__',\n",
       " '__invert__',\n",
       " '__le__',\n",
       " '__lshift__',\n",
       " '__lt__',\n",
       " '__mod__',\n",
       " '__mul__',\n",
       " '__ne__',\n",
       " '__neg__',\n",
       " '__new__',\n",
       " '__or__',\n",
       " '__pos__',\n",
       " '__pow__',\n",
       " '__radd__',\n",
       " '__rand__',\n",
       " '__rdivmod__',\n",
       " '__reduce__',\n",
       " '__reduce_ex__',\n",
       " '__repr__',\n",
       " '__rfloordiv__',\n",
       " '__rlshift__',\n",
       " '__rmod__',\n",
       " '__rmul__',\n",
       " '__ror__',\n",
       " '__round__',\n",
       " '__rpow__',\n",
       " '__rrshift__',\n",
       " '__rshift__',\n",
       " '__rsub__',\n",
       " '__rtruediv__',\n",
       " '__rxor__',\n",
       " '__setattr__',\n",
       " '__sizeof__',\n",
       " '__str__',\n",
       " '__sub__',\n",
       " '__subclasshook__',\n",
       " '__truediv__',\n",
       " '__trunc__',\n",
       " '__xor__',\n",
       " 'as_integer_ratio',\n",
       " 'bit_count',\n",
       " 'bit_length',\n",
       " 'conjugate',\n",
       " 'denominator',\n",
       " 'from_bytes',\n",
       " 'imag',\n",
       " 'numerator',\n",
       " 'real',\n",
       " 'to_bytes']"
      ]
     },
     "execution_count": 2,
     "metadata": {},
     "output_type": "execute_result"
    }
   ],
   "source": [
    "dir(a)"
   ]
  },
  {
   "cell_type": "code",
   "execution_count": 3,
   "id": "c5ccac37",
   "metadata": {
    "ExecuteTime": {
     "end_time": "2023-03-15T05:27:35.627312Z",
     "start_time": "2023-03-15T05:27:35.616133Z"
    }
   },
   "outputs": [],
   "source": [
    "b = [1,2,3]"
   ]
  },
  {
   "cell_type": "code",
   "execution_count": 4,
   "id": "5850fcee",
   "metadata": {
    "ExecuteTime": {
     "end_time": "2023-03-15T05:27:39.368063Z",
     "start_time": "2023-03-15T05:27:39.353621Z"
    }
   },
   "outputs": [],
   "source": [
    "c = iter(b)"
   ]
  },
  {
   "cell_type": "code",
   "execution_count": 5,
   "id": "e80bfa62",
   "metadata": {
    "ExecuteTime": {
     "end_time": "2023-03-15T05:27:42.443347Z",
     "start_time": "2023-03-15T05:27:42.436163Z"
    }
   },
   "outputs": [
    {
     "data": {
      "text/plain": [
       "1"
      ]
     },
     "execution_count": 5,
     "metadata": {},
     "output_type": "execute_result"
    }
   ],
   "source": [
    "b[0]"
   ]
  },
  {
   "cell_type": "code",
   "execution_count": 6,
   "id": "73f64715",
   "metadata": {
    "ExecuteTime": {
     "end_time": "2023-03-15T05:27:47.784162Z",
     "start_time": "2023-03-15T05:27:47.756407Z"
    }
   },
   "outputs": [
    {
     "ename": "TypeError",
     "evalue": "'list_iterator' object is not subscriptable",
     "output_type": "error",
     "traceback": [
      "\u001b[0;31m---------------------------------------------------------------------------\u001b[0m",
      "\u001b[0;31mTypeError\u001b[0m                                 Traceback (most recent call last)",
      "Cell \u001b[0;32mIn[6], line 1\u001b[0m\n\u001b[0;32m----> 1\u001b[0m \u001b[43mc\u001b[49m\u001b[43m[\u001b[49m\u001b[38;5;241;43m0\u001b[39;49m\u001b[43m]\u001b[49m\n",
      "\u001b[0;31mTypeError\u001b[0m: 'list_iterator' object is not subscriptable"
     ]
    }
   ],
   "source": [
    "c[0]\n",
    "# iterator 는 인덱싱과 슬라이싱이 안됨"
   ]
  },
  {
   "cell_type": "code",
   "execution_count": null,
   "id": "26fffc96",
   "metadata": {},
   "outputs": [],
   "source": [
    "# 캐시 테크닉. cache\n",
    "# 이 캐시 테크닉을 많이쓰는 곳\n",
    "from functools import cache  # 이것도 함수형 패러다임이구나!\n",
    "# 캐시는 휘발성인데 중간중간 결과값을 저장해서 쉽게 뽑아낼 수 있게 해주는 것\n",
    "# lazy 할 때 lazy 하지 않게 만드는, 중간중간 결과를 찾아갈 수 있게 해주는 것"
   ]
  },
  {
   "cell_type": "code",
   "execution_count": 12,
   "id": "60620246",
   "metadata": {
    "ExecuteTime": {
     "end_time": "2023-03-15T05:31:47.814732Z",
     "start_time": "2023-03-15T05:31:47.805097Z"
    }
   },
   "outputs": [],
   "source": [
    "# zip 봤음\n",
    "# 이제 enumerate\n",
    "b = enumerate('abcde')  # 메모리 번지가 튀어나옴.\n",
    "# 이런 메모리번지가 튀어나오면 next 쓸 확률이 많음"
   ]
  },
  {
   "cell_type": "code",
   "execution_count": 10,
   "id": "aad6e30a",
   "metadata": {
    "ExecuteTime": {
     "end_time": "2023-03-15T05:31:18.403487Z",
     "start_time": "2023-03-15T05:31:18.395468Z"
    },
    "collapsed": true
   },
   "outputs": [
    {
     "data": {
      "text/plain": [
       "['__class__',\n",
       " '__class_getitem__',\n",
       " '__delattr__',\n",
       " '__dir__',\n",
       " '__doc__',\n",
       " '__eq__',\n",
       " '__format__',\n",
       " '__ge__',\n",
       " '__getattribute__',\n",
       " '__gt__',\n",
       " '__hash__',\n",
       " '__init__',\n",
       " '__init_subclass__',\n",
       " '__iter__',\n",
       " '__le__',\n",
       " '__lt__',\n",
       " '__ne__',\n",
       " '__new__',\n",
       " '__next__',\n",
       " '__reduce__',\n",
       " '__reduce_ex__',\n",
       " '__repr__',\n",
       " '__setattr__',\n",
       " '__sizeof__',\n",
       " '__str__',\n",
       " '__subclasshook__']"
      ]
     },
     "execution_count": 10,
     "metadata": {},
     "output_type": "execute_result"
    }
   ],
   "source": [
    "dir(b)"
   ]
  },
  {
   "cell_type": "code",
   "execution_count": 13,
   "id": "f1c458f9",
   "metadata": {
    "ExecuteTime": {
     "end_time": "2023-03-15T05:31:55.119196Z",
     "start_time": "2023-03-15T05:31:55.093787Z"
    }
   },
   "outputs": [
    {
     "ename": "TypeError",
     "evalue": "'enumerate' object is not subscriptable",
     "output_type": "error",
     "traceback": [
      "\u001b[0;31m---------------------------------------------------------------------------\u001b[0m",
      "\u001b[0;31mTypeError\u001b[0m                                 Traceback (most recent call last)",
      "Cell \u001b[0;32mIn[13], line 1\u001b[0m\n\u001b[0;32m----> 1\u001b[0m \u001b[43mb\u001b[49m\u001b[43m[\u001b[49m\u001b[38;5;241;43m0\u001b[39;49m\u001b[43m]\u001b[49m\n",
      "\u001b[0;31mTypeError\u001b[0m: 'enumerate' object is not subscriptable"
     ]
    }
   ],
   "source": [
    "b[0]\n",
    "# 왜 안됨? -> 얘는 내가 시켜야 몇번째인지 알려주는 애다!!!\n",
    "# 인덱싱/슬라이싱은 메모리에 자기들 번호가 다 정해져 있는데,\n",
    "# iterator 는 내가 시켜야 메모리에 지정된다 => lazy 테크닉\n",
    "# 딥러닝에서는 내부적으로 다 lazy 테크닉을 씀 -> 너무 크기 때문에"
   ]
  },
  {
   "cell_type": "code",
   "execution_count": 11,
   "id": "20234942",
   "metadata": {
    "ExecuteTime": {
     "end_time": "2023-03-15T05:31:37.094771Z",
     "start_time": "2023-03-15T05:31:37.083742Z"
    }
   },
   "outputs": [
    {
     "name": "stdout",
     "output_type": "stream",
     "text": [
      "(0, 'a')\n",
      "(1, 'b')\n",
      "(2, 'c')\n",
      "(3, 'd')\n"
     ]
    }
   ],
   "source": [
    "# enumerate 는 for 에 많이 씀\n",
    "for i in b:\n",
    "    print(i)"
   ]
  },
  {
   "cell_type": "code",
   "execution_count": null,
   "id": "6b302a4f",
   "metadata": {},
   "outputs": [],
   "source": [
    "# 무조건 들어가야 하는 것을 프로토콜이라고 함. 시퀀스 의 프로토콜 -> len, getitem\n",
    "# 상속 받지 않고, 프로토콜에 따라 그것만 들어가게 만들면 그게 덕 타이핑이더라!"
   ]
  },
  {
   "cell_type": "code",
   "execution_count": null,
   "id": "ac1c1599",
   "metadata": {},
   "outputs": [],
   "source": [
    "# 이건 iterator 만든 것\n",
    "class GetLogLines(object):\n",
    "    def __init__(self, log_file):\n",
    "        self.log_file = log_file\n",
    "        self.line = None\n",
    "    def __iter__(self):\n",
    "        return self\n",
    "    def __next__(self):\n",
    "        if self.line is None:\n",
    "            self.line = read_line(log_file)\n",
    "        while not complex_condition(self.line):\n",
    "            self.line = read_line(self.log_file)\n",
    "        return self.line"
   ]
  },
  {
   "cell_type": "code",
   "execution_count": 14,
   "id": "f52e9585",
   "metadata": {
    "ExecuteTime": {
     "end_time": "2023-03-15T05:35:41.247585Z",
     "start_time": "2023-03-15T05:35:41.234738Z"
    }
   },
   "outputs": [],
   "source": [
    "from collections.abc import Iterator"
   ]
  },
  {
   "cell_type": "code",
   "execution_count": null,
   "id": "43ff047d",
   "metadata": {},
   "outputs": [],
   "source": [
    "# 위의 것을 상속! -> 추상클래스\n",
    "# 추상화: 공통적인 거 정해놓고 이 규칙 안따르면 잘라버린다!\n",
    "\n",
    "# 만드는 법 2가지!\n",
    "# 1. 메타클래스 3단계로 만듦. 타입 상속받아서 메타클래스 만들고, 클래스 지정해서 만들고, 그걸 또 상속해서 만드는 게 기본적\n",
    "# 2. "
   ]
  },
  {
   "cell_type": "code",
   "execution_count": 15,
   "id": "45e71a53",
   "metadata": {
    "ExecuteTime": {
     "end_time": "2023-03-15T05:37:33.128153Z",
     "start_time": "2023-03-15T05:37:33.116506Z"
    }
   },
   "outputs": [],
   "source": [
    "# 여기서 추상화를 만들어 놓음. 바로 쓰지는 않음. 가능한 손에 자주 대야 하는 것과 필요 없는 것은 분리시키기 때문. 총 3단계 구성\n",
    "class A(Iterator):\n",
    "    pass"
   ]
  },
  {
   "cell_type": "code",
   "execution_count": null,
   "id": "6bd5bbdb",
   "metadata": {},
   "outputs": [],
   "source": [
    "# 이걸 자주 씀\n",
    "class B(A):\n",
    "    pass"
   ]
  },
  {
   "cell_type": "code",
   "execution_count": null,
   "id": "46e2140f",
   "metadata": {},
   "outputs": [],
   "source": [
    "# 파이토치는 제네릭 함수 형태로 상속받아서 len 구현할 필요 없게 함"
   ]
  },
  {
   "cell_type": "code",
   "execution_count": null,
   "id": "0d17f2b6",
   "metadata": {},
   "outputs": [],
   "source": [
    "# 딥러닝에서 어떤 클래스를 만들 때\n",
    "# 추상클래스, 상속, 덕타이핑 이렇게 3가지 방식을 씀. (자기가 원하는 데이터 타입의 클래스를 만들 때 쓸 수 있는 방식)\n",
    "# ex. sequence, callable"
   ]
  },
  {
   "cell_type": "code",
   "execution_count": null,
   "id": "b7a40656",
   "metadata": {},
   "outputs": [],
   "source": [
    "# 데코레이터 관련 이야기\n",
    "# () 붙히고 안붙히고 할당할 때 이게 익숙하지 않으니 뭔지 모르는 게 많을 것.\n",
    "iter_seq = iter(sequence)\n",
    "# 이름 지어졌으면 __repr__ 로 꼭 확인. 그 때 함수나 메소드가 나오면 괄호를 치는 것"
   ]
  },
  {
   "cell_type": "code",
   "execution_count": 2,
   "id": "eed33823",
   "metadata": {
    "ExecuteTime": {
     "end_time": "2023-03-15T06:02:23.942325Z",
     "start_time": "2023-03-15T06:02:23.924090Z"
    }
   },
   "outputs": [
    {
     "data": {
      "text/plain": [
       "'3.10.9 (main, Mar  8 2023, 04:44:36) [Clang 14.0.6 ]'"
      ]
     },
     "execution_count": 2,
     "metadata": {},
     "output_type": "execute_result"
    }
   ],
   "source": [
    "import sys\n",
    "sys.version"
   ]
  },
  {
   "cell_type": "code",
   "execution_count": 5,
   "id": "c2a18212",
   "metadata": {
    "ExecuteTime": {
     "end_time": "2023-03-15T05:48:34.723905Z",
     "start_time": "2023-03-15T05:48:34.710510Z"
    }
   },
   "outputs": [
    {
     "data": {
      "text/plain": [
       "True"
      ]
     },
     "execution_count": 5,
     "metadata": {},
     "output_type": "execute_result"
    }
   ],
   "source": [
    "type(type) == type"
   ]
  },
  {
   "cell_type": "code",
   "execution_count": 6,
   "id": "37614fce",
   "metadata": {
    "ExecuteTime": {
     "end_time": "2023-03-15T05:48:54.806961Z",
     "start_time": "2023-03-15T05:48:54.797944Z"
    }
   },
   "outputs": [],
   "source": [
    "a = [1,2,3]"
   ]
  },
  {
   "cell_type": "code",
   "execution_count": 10,
   "id": "7110900d",
   "metadata": {
    "ExecuteTime": {
     "end_time": "2023-03-15T05:50:01.004085Z",
     "start_time": "2023-03-15T05:50:00.992956Z"
    }
   },
   "outputs": [],
   "source": [
    "b = iter(a) # 이렇게 이름 지어줬으면 한번 불러주자"
   ]
  },
  {
   "cell_type": "code",
   "execution_count": 11,
   "id": "78ed6caa",
   "metadata": {
    "ExecuteTime": {
     "end_time": "2023-03-15T05:50:05.938241Z",
     "start_time": "2023-03-15T05:50:05.923124Z"
    }
   },
   "outputs": [
    {
     "data": {
      "text/plain": [
       "<list_iterator at 0x7f7e80f18e50>"
      ]
     },
     "execution_count": 11,
     "metadata": {},
     "output_type": "execute_result"
    }
   ],
   "source": [
    "b"
   ]
  },
  {
   "cell_type": "code",
   "execution_count": 9,
   "id": "79a7d6b8",
   "metadata": {
    "ExecuteTime": {
     "end_time": "2023-03-15T05:49:12.451205Z",
     "start_time": "2023-03-15T05:49:12.442950Z"
    }
   },
   "outputs": [
    {
     "data": {
      "text/plain": [
       "False"
      ]
     },
     "execution_count": 9,
     "metadata": {},
     "output_type": "execute_result"
    }
   ],
   "source": [
    "iter(b) == iter(a)\n",
    "# 이게 왜 다를까?\n",
    "# b와 a가 다르기 때문"
   ]
  },
  {
   "cell_type": "code",
   "execution_count": 12,
   "id": "b3082c05",
   "metadata": {
    "ExecuteTime": {
     "end_time": "2023-03-15T05:53:35.891970Z",
     "start_time": "2023-03-15T05:53:35.875747Z"
    }
   },
   "outputs": [
    {
     "data": {
      "text/plain": [
       "True"
      ]
     },
     "execution_count": 12,
     "metadata": {},
     "output_type": "execute_result"
    }
   ],
   "source": [
    "# 내부적으로 메소드는 메소드 이름으로 관리한다. 그 이름은 문자열로 관리한다.\n",
    "# 그것은 __all__에서 했음. __getattr__에서도 했음.\n",
    "# 클래스 안에 있는 어트리뷰트는 싹다 문자열로 관리!\n",
    "a = [1,2,3]\n",
    "'__iter__' in dir(a)"
   ]
  },
  {
   "cell_type": "code",
   "execution_count": 10,
   "id": "bb72ef08",
   "metadata": {
    "ExecuteTime": {
     "end_time": "2023-03-15T06:21:06.201214Z",
     "start_time": "2023-03-15T06:21:05.726419Z"
    },
    "collapsed": true
   },
   "outputs": [
    {
     "ename": "ModuleNotFoundError",
     "evalue": "No module named 'cv2'",
     "output_type": "error",
     "traceback": [
      "\u001b[0;31m---------------------------------------------------------------------------\u001b[0m",
      "\u001b[0;31mModuleNotFoundError\u001b[0m                       Traceback (most recent call last)",
      "Cell \u001b[0;32mIn[10], line 1\u001b[0m\n\u001b[0;32m----> 1\u001b[0m \u001b[38;5;28;01mimport\u001b[39;00m \u001b[38;5;21;01mcv2\u001b[39;00m\n",
      "\u001b[0;31mModuleNotFoundError\u001b[0m: No module named 'cv2'"
     ]
    }
   ],
   "source": [
    "import cv2  # opencv"
   ]
  },
  {
   "cell_type": "code",
   "execution_count": null,
   "id": "99a64a6b",
   "metadata": {},
   "outputs": [],
   "source": [
    "dir(cv2)  # C 방식이라 엄청 많은 명령어 있음"
   ]
  },
  {
   "cell_type": "code",
   "execution_count": null,
   "id": "a1c9917a",
   "metadata": {},
   "outputs": [],
   "source": [
    "cv2.imread  # 여기 flags 가 다 옵션임."
   ]
  },
  {
   "cell_type": "code",
   "execution_count": null,
   "id": "ef3db3a4",
   "metadata": {},
   "outputs": [],
   "source": [
    "[x for x in dir(cv2) if 'IMREAD' in x]\n",
    "# 메소드 명을 문자열로 관리하기 때문에 확인할 수 있음."
   ]
  },
  {
   "cell_type": "code",
   "execution_count": null,
   "id": "d404a422",
   "metadata": {},
   "outputs": [],
   "source": [
    "[(x, getattr(cv2, x)) for x in dir(cv2) if 'IMREAD' in x]\n",
    "# getattr(a, 'x')는 a.x 해라!\n",
    "# __getattr__(self, x)는 x 실행하고 없으면 에러 발생시켜라\n",
    "# __getattribute__(self, x)는 getattr()과 똑같음"
   ]
  },
  {
   "cell_type": "code",
   "execution_count": 6,
   "id": "346ad374",
   "metadata": {
    "ExecuteTime": {
     "end_time": "2023-03-15T06:17:46.707410Z",
     "start_time": "2023-03-15T06:17:46.698287Z"
    }
   },
   "outputs": [],
   "source": [
    "a = 1"
   ]
  },
  {
   "cell_type": "code",
   "execution_count": 7,
   "id": "ed38de0e",
   "metadata": {
    "ExecuteTime": {
     "end_time": "2023-03-15T06:17:59.289981Z",
     "start_time": "2023-03-15T06:17:59.277223Z"
    }
   },
   "outputs": [
    {
     "data": {
      "text/plain": [
       "<function int.bit_length()>"
      ]
     },
     "execution_count": 7,
     "metadata": {},
     "output_type": "execute_result"
    }
   ],
   "source": [
    "a.bit_length"
   ]
  },
  {
   "cell_type": "code",
   "execution_count": null,
   "id": "66ea9269",
   "metadata": {},
   "outputs": [],
   "source": [
    "# 딥러닝 때문에 이것들을 한 것.\n",
    "# 뭐 때문에 이런 것들을 했을까? -> 딥러닝을 할 떄 질문이 진짜 많이 나옴."
   ]
  },
  {
   "cell_type": "code",
   "execution_count": null,
   "id": "2268f536",
   "metadata": {},
   "outputs": [],
   "source": [
    "# dir() 테크닉은 진짜 중요한 테크닉. 문자열로 in 해서 찾을 수 있다는 테크닉."
   ]
  },
  {
   "cell_type": "code",
   "execution_count": 11,
   "id": "8c6d850a",
   "metadata": {
    "ExecuteTime": {
     "end_time": "2023-03-15T06:27:12.087264Z",
     "start_time": "2023-03-15T06:27:12.076417Z"
    }
   },
   "outputs": [],
   "source": [
    "from collections.abc import Callable"
   ]
  },
  {
   "cell_type": "code",
   "execution_count": null,
   "id": "58d6312f",
   "metadata": {},
   "outputs": [],
   "source": [
    "# 추상클래스. 나만의 callable을 만들 수 있음.\n",
    "# ()를 붙힐 수 있다는 것은 판단기준이 하나 더 생기는 것.\n",
    "# 덕타이핑, 추상클래스 상속, 추상클래스 상속한 애를 상속하거나."
   ]
  },
  {
   "cell_type": "code",
   "execution_count": null,
   "id": "9b003e3b",
   "metadata": {},
   "outputs": [],
   "source": [
    "def x(a):   # ()를 붙힌다는 것은 옵션을 하나 더 붙힌다는 것. \n",
    "    "
   ]
  },
  {
   "cell_type": "code",
   "execution_count": 12,
   "id": "1941546c",
   "metadata": {
    "ExecuteTime": {
     "end_time": "2023-03-15T06:29:52.983915Z",
     "start_time": "2023-03-15T06:29:52.973017Z"
    }
   },
   "outputs": [],
   "source": [
    "from collections import OrderedDict\n",
    "# 컬렉션 패키지도 알면 좋음.\n",
    "# 컬렉션 패키지는 함수형 패러다임은 아니지만 객체지향임."
   ]
  },
  {
   "cell_type": "code",
   "execution_count": 13,
   "id": "4ffc7f09",
   "metadata": {
    "ExecuteTime": {
     "end_time": "2023-03-15T06:29:55.467132Z",
     "start_time": "2023-03-15T06:29:55.455142Z"
    }
   },
   "outputs": [],
   "source": [
    "# 새로운 친구. 네임트 튜플\n",
    "from collections import namedtuple\n",
    "# 튜플은 이름이 아니라 숫자로 접근하는데, 네임드튜플은 이름으로도 접근할 수 있는 튜플"
   ]
  },
  {
   "cell_type": "code",
   "execution_count": null,
   "id": "14577353",
   "metadata": {},
   "outputs": [],
   "source": [
    "# 자기만의 데이터 타입을 만드는 세가지는 계속 위에서 한 것."
   ]
  },
  {
   "cell_type": "markdown",
   "id": "dbedef13",
   "metadata": {},
   "source": [
    "#### Higher-Order Functions"
   ]
  },
  {
   "cell_type": "code",
   "execution_count": null,
   "id": "c7a81a52",
   "metadata": {},
   "outputs": [],
   "source": [
    "# 대표적으로 맵, 필터, 리듀스"
   ]
  },
  {
   "cell_type": "code",
   "execution_count": null,
   "id": "95998387",
   "metadata": {},
   "outputs": [],
   "source": [
    "# 함수를 밸류로 사용하는 것을 first-class function\n",
    "# 그걸 한단계 좁힌 게 higher-order functions => 함수의 인자로 함수를 쓰고 리턴값으로 함수를 받는 것.\n",
    "# 왜 개념이 분리?\n",
    "# 하이어 지만 퍼스트 클래스가 아닌 언어들이 대부분임.\n",
    "# 퍼스트 클래스면 무조건 하이어 오더 펑션임.\n",
    "# 그러나 하이어 오더 펑션이라고 퍼스트 클래스가 아닌 언어가 있음. 대표적으로 자바.\n",
    "# 그래서 별도의 개념으로 알고 있어야 함."
   ]
  },
  {
   "cell_type": "code",
   "execution_count": null,
   "id": "d02fe629",
   "metadata": {},
   "outputs": [],
   "source": [
    "# higher-order 의 꽃은 데코레이터. @"
   ]
  },
  {
   "cell_type": "code",
   "execution_count": null,
   "id": "1293962f",
   "metadata": {},
   "outputs": [],
   "source": [
    "# 분석해본 사람들은, R 배웠을 때 apply 하면 다 바꿈.\n",
    "# 다형성을 지원 안하기 때문(tapply, lapply, aapply 등등)\n",
    "# 여기는 map 으로 다 된다.\n",
    "# 데이터 변신의 왕이 map."
   ]
  },
  {
   "cell_type": "code",
   "execution_count": null,
   "id": "7ea104a3",
   "metadata": {},
   "outputs": [],
   "source": [
    "# 함수형 패러다임의 근원은 list 처리하는 언어에서 옴. 다양한 데이터를 쉽게 처리하는데 효율적.\n",
    "# 그래서 함수형 패러다임이 데이터 처리에 강점이 있음. 그 기본적인 것이 맵, 필터, 리듀스"
   ]
  },
  {
   "cell_type": "markdown",
   "id": "d2c2f3d8",
   "metadata": {},
   "source": [
    "##### map"
   ]
  },
  {
   "cell_type": "code",
   "execution_count": null,
   "id": "bba2bb66",
   "metadata": {},
   "outputs": [],
   "source": [
    "# 맵은 한번에 데이터를 바꾸고 싶을 때.\n",
    "# comprehension 과 동일한 역할\n",
    "# 컴프리헨션은 한번에 데이터를 생성하거나 변환시킬 때 쓰는 것. 맵도 같은 역할\n",
    "# 컴프리헨션은 메모리에 올리고, 맵은 iterator 처럼 lazy 하게 실행됨. 따라서 상황에 따라 줌\n",
    "# 맵과 컴프리헨션은 같은 기능"
   ]
  },
  {
   "cell_type": "markdown",
   "id": "b90f1b3b",
   "metadata": {},
   "source": [
    "##### filter"
   ]
  },
  {
   "cell_type": "code",
   "execution_count": null,
   "id": "6914f7e6",
   "metadata": {},
   "outputs": [],
   "source": [
    "# 필터는 내가 원하는 데이터만 뽑아내는 것.\n",
    "# 데이터 처리의 핵심"
   ]
  },
  {
   "cell_type": "markdown",
   "id": "ee7ae1d8",
   "metadata": {},
   "source": [
    "##### reduce"
   ]
  },
  {
   "cell_type": "code",
   "execution_count": null,
   "id": "a3159319",
   "metadata": {},
   "outputs": [],
   "source": [
    "# 하나의 결과값으로 축약하는 것이 reduction -> 대표적인 학문이 통계\n",
    "# 하나의 값으로 축약하는 것."
   ]
  },
  {
   "cell_type": "code",
   "execution_count": null,
   "id": "93463c56",
   "metadata": {},
   "outputs": [],
   "source": [
    "# 이 세개에 대해서 알아보자.\n",
    "# 아주 중요하고 오래된 개념임."
   ]
  },
  {
   "cell_type": "code",
   "execution_count": null,
   "id": "cd308e7b",
   "metadata": {},
   "outputs": [],
   "source": [
    "# map 과 comprehension 은 하는 행동은 값음. 내부적으로는 다르고.\n",
    "# map 은 higher-order 의 왕.\n",
    "# 데이터 처리를 하는데 map 을 몰라서는 안됨."
   ]
  },
  {
   "cell_type": "code",
   "execution_count": null,
   "id": "395a9bef",
   "metadata": {},
   "outputs": [],
   "source": [
    "# map은 iterable. comprehension은 한번에 메모리에 올리기 때문에, 큰 데이터를 다루는 딥러닝에서는 안씀."
   ]
  },
  {
   "cell_type": "code",
   "execution_count": 19,
   "id": "4168e9b8",
   "metadata": {
    "ExecuteTime": {
     "end_time": "2023-03-15T07:03:02.134820Z",
     "start_time": "2023-03-15T07:03:02.119154Z"
    }
   },
   "outputs": [
    {
     "data": {
      "text/plain": [
       "<map at 0x7f94f833e440>"
      ]
     },
     "execution_count": 19,
     "metadata": {},
     "output_type": "execute_result"
    }
   ],
   "source": [
    "# map 은 클래스\n",
    "# map 은 별표* 때문에 어려움\n",
    "map(lambda x:x+1, [1,2,3,4,5])\n",
    "# 아래 처럼 메모리 주소 나오면 의심! 이터레이터인가?"
   ]
  },
  {
   "cell_type": "code",
   "execution_count": 20,
   "id": "4b25b535",
   "metadata": {
    "ExecuteTime": {
     "end_time": "2023-03-15T07:03:45.254945Z",
     "start_time": "2023-03-15T07:03:45.244036Z"
    }
   },
   "outputs": [],
   "source": [
    "# 넥스트를 부를 때마다 iterable 에서 하나 뽑아서 람다 함수에 집어 넣는 것\n",
    "b = map(lambda x:x+1, [1,2,3,4,5])"
   ]
  },
  {
   "cell_type": "code",
   "execution_count": 22,
   "id": "0187eb95",
   "metadata": {
    "ExecuteTime": {
     "end_time": "2023-03-15T07:03:52.698955Z",
     "start_time": "2023-03-15T07:03:52.686196Z"
    }
   },
   "outputs": [
    {
     "data": {
      "text/plain": [
       "3"
      ]
     },
     "execution_count": 22,
     "metadata": {},
     "output_type": "execute_result"
    }
   ],
   "source": [
    "next(b)"
   ]
  },
  {
   "cell_type": "code",
   "execution_count": 23,
   "id": "7958b738",
   "metadata": {
    "ExecuteTime": {
     "end_time": "2023-03-15T07:05:03.433197Z",
     "start_time": "2023-03-15T07:05:03.422738Z"
    }
   },
   "outputs": [
    {
     "data": {
      "text/plain": [
       "[2, 3, 4, 5, 6]"
      ]
     },
     "execution_count": 23,
     "metadata": {},
     "output_type": "execute_result"
    }
   ],
   "source": [
    "# 한번에 결과 볼 때 쓰는 테크넥\n",
    "list(map(lambda x:x+1, [1,2,3,4,5]))"
   ]
  },
  {
   "cell_type": "code",
   "execution_count": 24,
   "id": "42299063",
   "metadata": {
    "ExecuteTime": {
     "end_time": "2023-03-15T07:05:21.502328Z",
     "start_time": "2023-03-15T07:05:21.491710Z"
    }
   },
   "outputs": [
    {
     "data": {
      "text/plain": [
       "['a', 'b', 'c', 'd', 'e']"
      ]
     },
     "execution_count": 24,
     "metadata": {},
     "output_type": "execute_result"
    }
   ],
   "source": [
    "# list의 내부 작동원리를 안다!\n",
    "list('abcde')  # 내부에 iterable 들어감. "
   ]
  },
  {
   "cell_type": "code",
   "execution_count": null,
   "id": "5923d416",
   "metadata": {},
   "outputs": [],
   "source": [
    "# 이터러블 집어넣는 것들은 작동원리가 한 개씩 뽑아가서 하고 하고 이런 식."
   ]
  },
  {
   "cell_type": "code",
   "execution_count": 25,
   "id": "db33c6f4",
   "metadata": {
    "ExecuteTime": {
     "end_time": "2023-03-15T07:10:44.972634Z",
     "start_time": "2023-03-15T07:10:44.959410Z"
    }
   },
   "outputs": [
    {
     "data": {
      "text/plain": [
       "<filter at 0x7f94dc8b74c0>"
      ]
     },
     "execution_count": 25,
     "metadata": {},
     "output_type": "execute_result"
    }
   ],
   "source": [
    "# 두번째 filter\n",
    "# filter는 predicate 함수라고 함. predicate 는 참 거짓을 구별하는 함수\n",
    "# 함수형 패러다임의 수학적 첫번째 특징은 상식적 증명 가능성! 함수형 패러다임은 수학함수를 쓰기 때문.\n",
    "# 즉 필터는 참인 애들만 뽑음\n",
    "filter(lambda x:x>3, [1,2,3,4,5,6,7])"
   ]
  },
  {
   "cell_type": "code",
   "execution_count": 26,
   "id": "ef91729d",
   "metadata": {
    "ExecuteTime": {
     "end_time": "2023-03-15T07:10:59.395513Z",
     "start_time": "2023-03-15T07:10:59.388234Z"
    }
   },
   "outputs": [
    {
     "data": {
      "text/plain": [
       "[4, 5, 6, 7]"
      ]
     },
     "execution_count": 26,
     "metadata": {},
     "output_type": "execute_result"
    }
   ],
   "source": [
    "list(filter(lambda x:x>3, [1,2,3,4,5,6,7]))\n",
    "# 참에 걸린 애들만 뽑아냄. 이걸 predicate 함수라고 한다."
   ]
  },
  {
   "cell_type": "code",
   "execution_count": 27,
   "id": "ee065415",
   "metadata": {
    "ExecuteTime": {
     "end_time": "2023-03-15T07:12:56.809322Z",
     "start_time": "2023-03-15T07:12:56.799143Z"
    }
   },
   "outputs": [],
   "source": [
    "# 여러개의 결과값을 하나로 표현한 게 reduce.\n",
    "# 대표적으로 sum. 통계값은 싹 다 reduce 관점으로 보면 됨.\n",
    "from functools import reduce"
   ]
  },
  {
   "cell_type": "code",
   "execution_count": 28,
   "id": "a35350e8",
   "metadata": {
    "ExecuteTime": {
     "end_time": "2023-03-15T07:13:52.707000Z",
     "start_time": "2023-03-15T07:13:52.694915Z"
    }
   },
   "outputs": [
    {
     "data": {
      "text/plain": [
       "15"
      ]
     },
     "execution_count": 28,
     "metadata": {},
     "output_type": "execute_result"
    }
   ],
   "source": [
    "# reduce 는 여러개의 결과값을 받아야 함\n",
    "reduce(lambda x, y: x+y, [1,2,3,4,5])\n",
    "# 내부적 과정: 1+2 -> 이걸 또 써서, 3+3\n",
    "# 즉 이렇게 해서 '누적'된 결과만 보여줌. 과정은 accumulation"
   ]
  },
  {
   "cell_type": "code",
   "execution_count": 29,
   "id": "7bde8d07",
   "metadata": {
    "ExecuteTime": {
     "end_time": "2023-03-15T07:15:08.955533Z",
     "start_time": "2023-03-15T07:15:08.947563Z"
    }
   },
   "outputs": [],
   "source": [
    "from itertools import accumulate"
   ]
  },
  {
   "cell_type": "code",
   "execution_count": 30,
   "id": "040e0120",
   "metadata": {
    "ExecuteTime": {
     "end_time": "2023-03-15T07:15:55.398023Z",
     "start_time": "2023-03-15T07:15:55.381297Z"
    }
   },
   "outputs": [
    {
     "data": {
      "text/plain": [
       "<itertools.accumulate at 0x7f94f8495900>"
      ]
     },
     "execution_count": 30,
     "metadata": {},
     "output_type": "execute_result"
    }
   ],
   "source": [
    "# 누적을 시킴\n",
    "accumulate([1,2,3,4,5], lambda x,y: x+y)"
   ]
  },
  {
   "cell_type": "code",
   "execution_count": 31,
   "id": "83853d6f",
   "metadata": {
    "ExecuteTime": {
     "end_time": "2023-03-15T07:16:03.907151Z",
     "start_time": "2023-03-15T07:16:03.897253Z"
    }
   },
   "outputs": [
    {
     "data": {
      "text/plain": [
       "[1, 3, 6, 10, 15]"
      ]
     },
     "execution_count": 31,
     "metadata": {},
     "output_type": "execute_result"
    }
   ],
   "source": [
    "list(accumulate([1,2,3,4,5], lambda x,y: x+y))\n",
    "# 15가 나오는 과정이 나옴."
   ]
  },
  {
   "cell_type": "code",
   "execution_count": 32,
   "id": "442fdd67",
   "metadata": {
    "ExecuteTime": {
     "end_time": "2023-03-15T07:17:33.559490Z",
     "start_time": "2023-03-15T07:17:33.545894Z"
    }
   },
   "outputs": [
    {
     "data": {
      "text/plain": [
       "<map at 0x7f94f8492ef0>"
      ]
     },
     "execution_count": 32,
     "metadata": {},
     "output_type": "execute_result"
    }
   ],
   "source": [
    "# 즉 reduction 을 위해서는 인자를 두 개 이상 받아야 함.\n",
    "# 그런데 map 도 인자를 두 개 이상 받을 수 있음.\n",
    "# map 에서 두 개 받을 때는?\n",
    "map(lambda x,y: x+y, [1,2,3,4,5])"
   ]
  },
  {
   "cell_type": "code",
   "execution_count": 33,
   "id": "b6eb14f9",
   "metadata": {
    "ExecuteTime": {
     "end_time": "2023-03-15T07:17:40.155809Z",
     "start_time": "2023-03-15T07:17:40.125644Z"
    }
   },
   "outputs": [
    {
     "ename": "TypeError",
     "evalue": "<lambda>() missing 1 required positional argument: 'y'",
     "output_type": "error",
     "traceback": [
      "\u001b[0;31m---------------------------------------------------------------------------\u001b[0m",
      "\u001b[0;31mTypeError\u001b[0m                                 Traceback (most recent call last)",
      "Cell \u001b[0;32mIn[33], line 1\u001b[0m\n\u001b[0;32m----> 1\u001b[0m \u001b[38;5;28;43mlist\u001b[39;49m\u001b[43m(\u001b[49m\u001b[38;5;28;43mmap\u001b[39;49m\u001b[43m(\u001b[49m\u001b[38;5;28;43;01mlambda\u001b[39;49;00m\u001b[43m \u001b[49m\u001b[43mx\u001b[49m\u001b[43m,\u001b[49m\u001b[43my\u001b[49m\u001b[43m:\u001b[49m\u001b[43m \u001b[49m\u001b[43mx\u001b[49m\u001b[38;5;241;43m+\u001b[39;49m\u001b[43my\u001b[49m\u001b[43m,\u001b[49m\u001b[43m \u001b[49m\u001b[43m[\u001b[49m\u001b[38;5;241;43m1\u001b[39;49m\u001b[43m,\u001b[49m\u001b[38;5;241;43m2\u001b[39;49m\u001b[43m,\u001b[49m\u001b[38;5;241;43m3\u001b[39;49m\u001b[43m,\u001b[49m\u001b[38;5;241;43m4\u001b[39;49m\u001b[43m,\u001b[49m\u001b[38;5;241;43m5\u001b[39;49m\u001b[43m]\u001b[49m\u001b[43m)\u001b[49m\u001b[43m)\u001b[49m\n",
      "\u001b[0;31mTypeError\u001b[0m: <lambda>() missing 1 required positional argument: 'y'"
     ]
    }
   ],
   "source": [
    "list(map(lambda x,y: x+y, [1,2,3,4,5]))\n",
    "# 얘도 list에 집어넣으니까 에러가 남. map은 lazy라서 엉터리라도 만들어질 수는 있다는 것.\n",
    "# 엉터리로 만들어지고 list에 들어가니까 오류나는 것."
   ]
  },
  {
   "cell_type": "code",
   "execution_count": 34,
   "id": "9df31987",
   "metadata": {
    "ExecuteTime": {
     "end_time": "2023-03-15T07:18:58.188527Z",
     "start_time": "2023-03-15T07:18:58.174240Z"
    }
   },
   "outputs": [
    {
     "data": {
      "text/plain": [
       "[3, 5, 7, 9, 11]"
      ]
     },
     "execution_count": 34,
     "metadata": {},
     "output_type": "execute_result"
    }
   ],
   "source": [
    "list(map(lambda x,y: x+y, [1,2,3,4,5], [2,3,4,5,6]))\n",
    "# map 함수 설명에 *가 있어서 여러개 받을 수 있음.\n",
    "# reduce하고 차이가 남. reduce는 하나의 이터러블에 x/y 값이 다 나왔었음.\n",
    "# map 은 앞 이터러블이 x, 뒤 이터러블이 y"
   ]
  },
  {
   "cell_type": "code",
   "execution_count": 35,
   "id": "56b226da",
   "metadata": {
    "ExecuteTime": {
     "end_time": "2023-03-15T07:20:13.371832Z",
     "start_time": "2023-03-15T07:20:13.362732Z"
    }
   },
   "outputs": [],
   "source": [
    "# reduce는 하나의 결과값으로 축약. 중간결과 볼 수 없음.\n",
    "# map, filter 는 iterator 형태로 결과값이 나와서 next를 꼭 봐줘야 함."
   ]
  },
  {
   "cell_type": "code",
   "execution_count": null,
   "id": "d7e22810",
   "metadata": {},
   "outputs": [],
   "source": [
    "# 세상에 은근히 reduce(여러개의 결과값을 하나로 표현한 것)가 많음"
   ]
  },
  {
   "cell_type": "code",
   "execution_count": 36,
   "id": "3ebc48f6",
   "metadata": {
    "ExecuteTime": {
     "end_time": "2023-03-15T07:20:58.183545Z",
     "start_time": "2023-03-15T07:20:58.166440Z"
    }
   },
   "outputs": [
    {
     "data": {
      "text/plain": [
       "True"
      ]
     },
     "execution_count": 36,
     "metadata": {},
     "output_type": "execute_result"
    }
   ],
   "source": [
    "all([1,2,3,4])\n",
    "# iterable 넣어서 결과값 하나로 축약해서 보여줌\n",
    "# 이것도 reduction이라고 볼 수 있음."
   ]
  },
  {
   "cell_type": "code",
   "execution_count": 37,
   "id": "e602123d",
   "metadata": {
    "ExecuteTime": {
     "end_time": "2023-03-15T07:21:41.344369Z",
     "start_time": "2023-03-15T07:21:41.333847Z"
    }
   },
   "outputs": [
    {
     "data": {
      "text/plain": [
       "15"
      ]
     },
     "execution_count": 37,
     "metadata": {},
     "output_type": "execute_result"
    }
   ],
   "source": [
    "sum([1,2,3,4,5])  # 하나씩 뽑아서 더해서 하나의 결과값으로 보여줌. reduction."
   ]
  },
  {
   "cell_type": "code",
   "execution_count": null,
   "id": "9c25814b",
   "metadata": {},
   "outputs": [],
   "source": [
    "# 맵에서는 뽑아서 함수에 집어넣어서 결과\n",
    "# 리듀스는 하나씩 뽑아서 옆으로 계속 더해서\n",
    "# 이 맵 필터 리듀스가 데이터 처리의 가장 기본적인 기능을 함."
   ]
  },
  {
   "cell_type": "code",
   "execution_count": 39,
   "id": "c1614c9a",
   "metadata": {
    "ExecuteTime": {
     "end_time": "2023-03-15T07:24:31.173151Z",
     "start_time": "2023-03-15T07:24:31.158227Z"
    }
   },
   "outputs": [
    {
     "ename": "SyntaxError",
     "evalue": "invalid syntax (1844930990.py, line 1)",
     "output_type": "error",
     "traceback": [
      "\u001b[0;36m  Cell \u001b[0;32mIn[39], line 1\u001b[0;36m\u001b[0m\n\u001b[0;31m    x for x in range(100)\u001b[0m\n\u001b[0m      ^\u001b[0m\n\u001b[0;31mSyntaxError\u001b[0m\u001b[0;31m:\u001b[0m invalid syntax\n"
     ]
    }
   ],
   "source": [
    "x for x in range(100)"
   ]
  },
  {
   "cell_type": "code",
   "execution_count": 38,
   "id": "c018c8ed",
   "metadata": {
    "ExecuteTime": {
     "end_time": "2023-03-15T07:24:08.880749Z",
     "start_time": "2023-03-15T07:24:08.868070Z"
    }
   },
   "outputs": [
    {
     "data": {
      "text/plain": [
       "4950"
      ]
     },
     "execution_count": 38,
     "metadata": {},
     "output_type": "execute_result"
    }
   ],
   "source": [
    "# generator 이용\n",
    "sum(x for x in range(100))  # sum()은 함수를 실행하는 괄호() 인데..?\n",
    "# 이거는 대답이 안되는 것.\n",
    "# 내부적으로 이런 컴프리헨션이 괄호가 없이 나와서 튜플로 나오는 것.\n",
    "# 괄호 없으면 튜플로 인식하는 것을 기억.\n",
    "# 1,2,3 ---> (1,2,3)"
   ]
  },
  {
   "cell_type": "code",
   "execution_count": 40,
   "id": "212e5065",
   "metadata": {
    "ExecuteTime": {
     "end_time": "2023-03-15T07:25:57.812480Z",
     "start_time": "2023-03-15T07:25:57.800788Z"
    }
   },
   "outputs": [
    {
     "data": {
      "text/plain": [
       "4950"
      ]
     },
     "execution_count": 40,
     "metadata": {},
     "output_type": "execute_result"
    }
   ],
   "source": [
    "# 근데 괄호를 해보니까? 잘 됨.\n",
    "sum((x for x in range(100)))"
   ]
  },
  {
   "cell_type": "code",
   "execution_count": null,
   "id": "a076eacb",
   "metadata": {},
   "outputs": [],
   "source": [
    "# numpy 의 reshape이 위와 비슷함.\n",
    "# 괄호 두개 붙혀야 하는데 괄호 하나 붙히는 것"
   ]
  },
  {
   "cell_type": "code",
   "execution_count": 48,
   "id": "9ab2703c",
   "metadata": {
    "ExecuteTime": {
     "end_time": "2023-03-15T07:28:42.029771Z",
     "start_time": "2023-03-15T07:28:37.801256Z"
    }
   },
   "outputs": [
    {
     "name": "stdout",
     "output_type": "stream",
     "text": [
      "526 ms ± 329 µs per loop (mean ± std. dev. of 7 runs, 1 loop each)\n"
     ]
    }
   ],
   "source": [
    "%timeit sum(x for x in range(10000000))"
   ]
  },
  {
   "cell_type": "code",
   "execution_count": 49,
   "id": "d0c65b07",
   "metadata": {
    "ExecuteTime": {
     "end_time": "2023-03-15T07:28:47.736901Z",
     "start_time": "2023-03-15T07:28:43.476804Z"
    }
   },
   "outputs": [
    {
     "name": "stdout",
     "output_type": "stream",
     "text": [
      "529 ms ± 4.38 ms per loop (mean ± std. dev. of 7 runs, 1 loop each)\n"
     ]
    }
   ],
   "source": [
    "%timeit sum((x for x in range(10000000)))"
   ]
  },
  {
   "cell_type": "code",
   "execution_count": 47,
   "id": "aa8af6a7",
   "metadata": {
    "ExecuteTime": {
     "end_time": "2023-03-15T07:28:36.108653Z",
     "start_time": "2023-03-15T07:28:31.973126Z"
    }
   },
   "outputs": [
    {
     "name": "stdout",
     "output_type": "stream",
     "text": [
      "509 ms ± 13.5 ms per loop (mean ± std. dev. of 7 runs, 1 loop each)\n"
     ]
    }
   ],
   "source": [
    "%timeit sum([x for x in range(10000000)])"
   ]
  },
  {
   "cell_type": "code",
   "execution_count": null,
   "id": "5b6c9ca1",
   "metadata": {},
   "outputs": [],
   "source": [
    "# 이게 다 reduce 로 계산된다! all, any, sum 등등\n",
    "# 데이터 처리할 때 진짜 많이 씀 -> any는 처리할 데이터에 미싱 데이터가 있는지 없는지"
   ]
  },
  {
   "cell_type": "code",
   "execution_count": null,
   "id": "56a69b21",
   "metadata": {},
   "outputs": [],
   "source": [
    "# sum 때문에 잠시 넘어가보자"
   ]
  },
  {
   "cell_type": "code",
   "execution_count": null,
   "id": "55e341e3",
   "metadata": {},
   "outputs": [],
   "source": [
    "# accumulation pattern  ->  reduction 과 많이 헷갈림\n",
    "# all 과 any와 많이 이야기를 함"
   ]
  },
  {
   "cell_type": "code",
   "execution_count": 52,
   "id": "946faeba",
   "metadata": {
    "ExecuteTime": {
     "end_time": "2023-03-15T07:47:13.100993Z",
     "start_time": "2023-03-15T07:47:13.089944Z"
    }
   },
   "outputs": [],
   "source": [
    "# accumulation pattern 은 프로그램 중에 많이 쓰이는 패턴\n",
    "# 처음에 비어있는 것을 초기화\n",
    "temp = 0\n",
    "# 이 값을 accumulation\n",
    "for i in range(10):\n",
    "    temp += i\n",
    "# 즉 초기값을 주고 계속 누적시키는 것"
   ]
  },
  {
   "cell_type": "code",
   "execution_count": 53,
   "id": "d928aa45",
   "metadata": {
    "ExecuteTime": {
     "end_time": "2023-03-15T07:47:13.578769Z",
     "start_time": "2023-03-15T07:47:13.570252Z"
    }
   },
   "outputs": [
    {
     "data": {
      "text/plain": [
       "45"
      ]
     },
     "execution_count": 53,
     "metadata": {},
     "output_type": "execute_result"
    }
   ],
   "source": [
    "temp"
   ]
  },
  {
   "cell_type": "code",
   "execution_count": 54,
   "id": "e933c2f1",
   "metadata": {
    "ExecuteTime": {
     "end_time": "2023-03-15T07:48:27.369868Z",
     "start_time": "2023-03-15T07:48:27.360927Z"
    }
   },
   "outputs": [],
   "source": [
    "# look and search\n",
    "# 보는 애(sentinel)\n",
    "temp = True\n",
    "for i in [1,2,3,4,5]:\n",
    "    if not i:  # i 가 거짓이면\n",
    "        temp = False"
   ]
  },
  {
   "cell_type": "code",
   "execution_count": 55,
   "id": "5e161c6c",
   "metadata": {
    "ExecuteTime": {
     "end_time": "2023-03-15T07:48:29.330540Z",
     "start_time": "2023-03-15T07:48:29.317159Z"
    }
   },
   "outputs": [
    {
     "data": {
      "text/plain": [
       "True"
      ]
     },
     "execution_count": 55,
     "metadata": {},
     "output_type": "execute_result"
    }
   ],
   "source": [
    "temp\n",
    "# 초기값을 주고 누적시키거나, 반복시켜서 초기값에 주고 결과값 내는 테크닉.\n",
    "# accumulation 패턴은 반복문을 어떻게 돌리느냐에 따름"
   ]
  },
  {
   "cell_type": "code",
   "execution_count": 56,
   "id": "7892869d",
   "metadata": {
    "ExecuteTime": {
     "end_time": "2023-03-15T07:49:31.820093Z",
     "start_time": "2023-03-15T07:49:31.804735Z"
    }
   },
   "outputs": [
    {
     "data": {
      "text/plain": [
       "[1, 2, 3, 4, 5]"
      ]
     },
     "execution_count": 56,
     "metadata": {},
     "output_type": "execute_result"
    }
   ],
   "source": [
    "temp = []\n",
    "for i in [1,2,3,4,5]:\n",
    "    temp.append(i)\n",
    "    \n",
    "temp"
   ]
  },
  {
   "cell_type": "code",
   "execution_count": null,
   "id": "14cf5050",
   "metadata": {},
   "outputs": [],
   "source": [
    "# accumulation pattern 이 제일 쉬움.\n",
    "# 계속 누적시켜서 결과값을 낸다."
   ]
  },
  {
   "cell_type": "code",
   "execution_count": 57,
   "id": "4fc7baf3",
   "metadata": {
    "ExecuteTime": {
     "end_time": "2023-03-15T07:51:01.595882Z",
     "start_time": "2023-03-15T07:51:01.583113Z"
    }
   },
   "outputs": [
    {
     "data": {
      "text/plain": [
       "[5, 6]"
      ]
     },
     "execution_count": 57,
     "metadata": {},
     "output_type": "execute_result"
    }
   ],
   "source": [
    "# 우리는 map, filter, reduce 를 써버림.\n",
    "# 이게 filter\n",
    "temp = []\n",
    "for i in [1,2,3,4,5]:\n",
    "    if i>3:\n",
    "        temp.append(i+1)\n",
    "        \n",
    "temp"
   ]
  },
  {
   "cell_type": "code",
   "execution_count": null,
   "id": "44e5f1cb",
   "metadata": {},
   "outputs": [],
   "source": [
    "# 함수형 패러다임의 특징은 간결한 식. 그래서 accumulation pattern 보다는 맵, 리듀스, 필터 쓰는 것이 더 좋음\n",
    "# 코드도 작고 성능도 좋은 게 맵, 필터, 리듀스"
   ]
  },
  {
   "cell_type": "code",
   "execution_count": 58,
   "id": "ba87ba2d",
   "metadata": {
    "ExecuteTime": {
     "end_time": "2023-03-15T07:56:22.085296Z",
     "start_time": "2023-03-15T07:56:22.080271Z"
    }
   },
   "outputs": [],
   "source": [
    "# 연산자가 없는 함수형 패러다임에서는\n",
    "from operator import add"
   ]
  },
  {
   "cell_type": "code",
   "execution_count": 59,
   "id": "d35b3b9c",
   "metadata": {
    "ExecuteTime": {
     "end_time": "2023-03-15T07:56:31.282994Z",
     "start_time": "2023-03-15T07:56:31.274241Z"
    }
   },
   "outputs": [
    {
     "data": {
      "text/plain": [
       "15"
      ]
     },
     "execution_count": 59,
     "metadata": {},
     "output_type": "execute_result"
    }
   ],
   "source": [
    "reduce(add, [1,2,3,4,5])"
   ]
  },
  {
   "cell_type": "code",
   "execution_count": 60,
   "id": "1e25a172",
   "metadata": {
    "ExecuteTime": {
     "end_time": "2023-03-15T07:56:59.314524Z",
     "start_time": "2023-03-15T07:56:59.302309Z"
    }
   },
   "outputs": [],
   "source": [
    "import numpy as np"
   ]
  },
  {
   "cell_type": "code",
   "execution_count": 61,
   "id": "b29e164c",
   "metadata": {
    "ExecuteTime": {
     "end_time": "2023-03-15T07:57:16.091859Z",
     "start_time": "2023-03-15T07:57:16.080471Z"
    }
   },
   "outputs": [
    {
     "data": {
      "text/plain": [
       "15"
      ]
     },
     "execution_count": 61,
     "metadata": {},
     "output_type": "execute_result"
    }
   ],
   "source": [
    "np.add.reduce([1,2,3,4,5])"
   ]
  },
  {
   "cell_type": "code",
   "execution_count": 62,
   "id": "10008723",
   "metadata": {
    "ExecuteTime": {
     "end_time": "2023-03-15T07:58:23.935855Z",
     "start_time": "2023-03-15T07:58:23.920735Z"
    }
   },
   "outputs": [
    {
     "data": {
      "text/plain": [
       "120"
      ]
     },
     "execution_count": 62,
     "metadata": {},
     "output_type": "execute_result"
    }
   ],
   "source": [
    "# reduction 으로 팩토리얼 만들기! mul 은 곱하기\n",
    "from operator import mul\n",
    "reduce(mul, [1,2,3,4,5])"
   ]
  },
  {
   "cell_type": "code",
   "execution_count": null,
   "id": "1ed1b4ab",
   "metadata": {},
   "outputs": [],
   "source": [
    "# 하나의 값으로 표현하는 것이 reduce. 제일 빡셈"
   ]
  },
  {
   "cell_type": "code",
   "execution_count": null,
   "id": "01950b24",
   "metadata": {},
   "outputs": [],
   "source": [
    "# compose\n",
    "def compose(*funcs):   # 가변 위치인자 받음. 여러개를 입력할 수 있음\n",
    "    \"\"\"Return a new function s.t.\n",
    "       compose(f,g,...)(x) == f(g(...(x)))\"\"\"\n",
    "    def inner(data, funcs=funcs):\n",
    "        result = data\n",
    "        for f in reversed(funcs):\n",
    "            result = f(result)\n",
    "        return result\n",
    "    return inner\n",
    "\n",
    "# 데코레이터 꼴.\n",
    "# compose 하면 합성함수 비슷한 거인가 하고 느낌 옴.\n",
    "# 합성함수를 만들어줌."
   ]
  },
  {
   "cell_type": "code",
   "execution_count": null,
   "id": "da81392f",
   "metadata": {},
   "outputs": [],
   "source": [
    "# 왜 위와같은 형태를 만들까?\n",
    "# 1. inner는 외부에서 접근할 필요 없음. 나만 사용함.\n",
    "# 2. compose의 인자와 inner의 data 인자를 조합해서 사용할 수 있음 => 클로져 테크닉\n",
    "# 그런데 클래스는 이런 형태 잘 안씀.\n",
    "# reversed 는 또 뭘까?\n",
    "# sort와 reverse"
   ]
  },
  {
   "cell_type": "code",
   "execution_count": 65,
   "id": "f0d1d8f7",
   "metadata": {
    "ExecuteTime": {
     "end_time": "2023-03-15T08:10:19.737565Z",
     "start_time": "2023-03-15T08:10:19.722535Z"
    }
   },
   "outputs": [
    {
     "data": {
      "text/plain": [
       "[(1, '이름3'), (2, '이름1'), (3, '이름2')]"
      ]
     },
     "execution_count": 65,
     "metadata": {},
     "output_type": "execute_result"
    }
   ],
   "source": [
    "# sort\n",
    "a = [(1, '이름3'),(2, '이름1'),(3, '이름2')]\n",
    "sorted(a) # 앞의 것 기준으로 sort 를 함. reverse 옵션을 안 써서."
   ]
  },
  {
   "cell_type": "code",
   "execution_count": 66,
   "id": "43033b36",
   "metadata": {
    "ExecuteTime": {
     "end_time": "2023-03-15T08:10:20.700678Z",
     "start_time": "2023-03-15T08:10:20.689189Z"
    }
   },
   "outputs": [
    {
     "data": {
      "text/plain": [
       "[(3, '이름2'), (2, '이름1'), (1, '이름3')]"
      ]
     },
     "execution_count": 66,
     "metadata": {},
     "output_type": "execute_result"
    }
   ],
   "source": [
    "sorted(a, reverse=True) # reverse 는 내림차순으로 해주고 싶다는 것."
   ]
  },
  {
   "cell_type": "code",
   "execution_count": 67,
   "id": "df9707bd",
   "metadata": {
    "ExecuteTime": {
     "end_time": "2023-03-15T08:11:19.897870Z",
     "start_time": "2023-03-15T08:11:19.880526Z"
    }
   },
   "outputs": [
    {
     "data": {
      "text/plain": [
       "[(2, '이름1'), (3, '이름2'), (1, '이름3')]"
      ]
     },
     "execution_count": 67,
     "metadata": {},
     "output_type": "execute_result"
    }
   ],
   "source": [
    "# key =  를 * 뒤에 놓음\n",
    "sorted(a, key=lambda x:x[1])  # key를 x가 들어오면 x의 [1] 거를 기반으로 정렬을 하자!!\n",
    "# key에 함수를 쓰는 이유는 워낙 다양한 데이터 구조체가 들어올 수 있기 때문\n",
    "# 함수 관점에서는 인스턴스가 필요함. 그래서 sorted(a)"
   ]
  },
  {
   "cell_type": "code",
   "execution_count": 68,
   "id": "73207671",
   "metadata": {
    "ExecuteTime": {
     "end_time": "2023-03-15T08:12:51.075843Z",
     "start_time": "2023-03-15T08:12:51.053088Z"
    }
   },
   "outputs": [
    {
     "data": {
      "text/plain": [
       "<list_reverseiterator at 0x7f94f880eb00>"
      ]
     },
     "execution_count": 68,
     "metadata": {},
     "output_type": "execute_result"
    }
   ],
   "source": [
    "# reverse\n",
    "# 어떤 시퀀스(이터러블)가 들어감. 순서를 바꾸는 것.\n",
    "reversed(a)  # list 안에 넣으면 한번에 볼 듯?"
   ]
  },
  {
   "cell_type": "code",
   "execution_count": 69,
   "id": "04d164f0",
   "metadata": {
    "ExecuteTime": {
     "end_time": "2023-03-15T08:13:11.558005Z",
     "start_time": "2023-03-15T08:13:11.544824Z"
    }
   },
   "outputs": [
    {
     "data": {
      "text/plain": [
       "[(3, '이름2'), (2, '이름1'), (1, '이름3')]"
      ]
     },
     "execution_count": 69,
     "metadata": {},
     "output_type": "execute_result"
    }
   ],
   "source": [
    "list(reversed(a)) # 기본적으로 정해진 순서의 반대로 결과를 가져옴. reversed 도 iterable 구조체임."
   ]
  },
  {
   "cell_type": "code",
   "execution_count": 70,
   "id": "801f3662",
   "metadata": {
    "ExecuteTime": {
     "end_time": "2023-03-15T08:14:57.241979Z",
     "start_time": "2023-03-15T08:14:57.234136Z"
    }
   },
   "outputs": [],
   "source": [
    "a.sort(key=lambda x:x[1])\n",
    "# 인스턴스 입장에서는 없어도 됨\n",
    "# 여기 왜 리턴값이 안나오지?"
   ]
  },
  {
   "cell_type": "code",
   "execution_count": 71,
   "id": "e5c816c2",
   "metadata": {
    "ExecuteTime": {
     "end_time": "2023-03-15T08:15:26.343779Z",
     "start_time": "2023-03-15T08:15:26.339427Z"
    }
   },
   "outputs": [
    {
     "data": {
      "text/plain": [
       "[(2, '이름1'), (3, '이름2'), (1, '이름3')]"
      ]
     },
     "execution_count": 71,
     "metadata": {},
     "output_type": "execute_result"
    }
   ],
   "source": [
    "a"
   ]
  },
  {
   "cell_type": "code",
   "execution_count": null,
   "id": "911f2669",
   "metadata": {},
   "outputs": [],
   "source": [
    "# 이터러블 결과값 3가지\n",
    "# 1. 리턴 없는데 자기자신 변하는 것\n",
    "# 2. 리턴 있는데 자기자신 안 변하는 것\n",
    "# 3. 리턴 있고 자기자신 변하는 것"
   ]
  },
  {
   "cell_type": "code",
   "execution_count": null,
   "id": "c9a9cd2c",
   "metadata": {},
   "outputs": [],
   "source": [
    "# 즉 이것은 역으로 계속 집어넣으라는 것\n",
    "# h(g(f(a)))\n",
    "for f in reversed(funcs):\n",
    "    result = f(result)\n",
    "    \n",
    "# compose 인자로 들어간 함수들의 순서대로 안쪽으로 들어감(역으로 계속 집어넣기 때문)"
   ]
  },
  {
   "cell_type": "code",
   "execution_count": null,
   "id": "8807efbc",
   "metadata": {},
   "outputs": [],
   "source": [
    "*tests: all(p(item) for p in tests)\n",
    "# 괄호 없는데?! => 중복되니까 하나 없어도 되게 만들어 놓음\n",
    "# 또한 그냥 두면 괄호로 쌓임."
   ]
  },
  {
   "cell_type": "code",
   "execution_count": null,
   "id": "0971df91",
   "metadata": {},
   "outputs": [],
   "source": [
    "# all 과 any(미싱 데이터 한 개라도 있는지)는 특히 분석할 때 많이 씀"
   ]
  },
  {
   "cell_type": "code",
   "execution_count": null,
   "id": "29974846",
   "metadata": {},
   "outputs": [],
   "source": [
    "# partial => 일부 이미 만들어진 함수의 디폴트값을 변경시키는 테크닉\n",
    "# 이를 활용하면 자기만의 방식으로 바꿀 수 있음."
   ]
  },
  {
   "cell_type": "code",
   "execution_count": 72,
   "id": "bdc34823",
   "metadata": {
    "ExecuteTime": {
     "end_time": "2023-03-15T08:26:17.743419Z",
     "start_time": "2023-03-15T08:25:34.552004Z"
    }
   },
   "outputs": [],
   "source": [
    "import seaborn as sns"
   ]
  },
  {
   "cell_type": "code",
   "execution_count": 75,
   "id": "ddf3ce95",
   "metadata": {
    "ExecuteTime": {
     "end_time": "2023-03-15T08:26:42.668919Z",
     "start_time": "2023-03-15T08:26:42.636541Z"
    }
   },
   "outputs": [],
   "source": [
    "iris = sns.load_dataset('iris')"
   ]
  },
  {
   "cell_type": "code",
   "execution_count": 76,
   "id": "977fa783",
   "metadata": {
    "ExecuteTime": {
     "end_time": "2023-03-15T08:26:43.748098Z",
     "start_time": "2023-03-15T08:26:43.724110Z"
    }
   },
   "outputs": [
    {
     "data": {
      "text/html": [
       "<div>\n",
       "<style scoped>\n",
       "    .dataframe tbody tr th:only-of-type {\n",
       "        vertical-align: middle;\n",
       "    }\n",
       "\n",
       "    .dataframe tbody tr th {\n",
       "        vertical-align: top;\n",
       "    }\n",
       "\n",
       "    .dataframe thead th {\n",
       "        text-align: right;\n",
       "    }\n",
       "</style>\n",
       "<table border=\"1\" class=\"dataframe\">\n",
       "  <thead>\n",
       "    <tr style=\"text-align: right;\">\n",
       "      <th></th>\n",
       "      <th>sepal_length</th>\n",
       "      <th>sepal_width</th>\n",
       "      <th>petal_length</th>\n",
       "      <th>petal_width</th>\n",
       "      <th>species</th>\n",
       "    </tr>\n",
       "  </thead>\n",
       "  <tbody>\n",
       "    <tr>\n",
       "      <th>0</th>\n",
       "      <td>5.1</td>\n",
       "      <td>3.5</td>\n",
       "      <td>1.4</td>\n",
       "      <td>0.2</td>\n",
       "      <td>setosa</td>\n",
       "    </tr>\n",
       "    <tr>\n",
       "      <th>1</th>\n",
       "      <td>4.9</td>\n",
       "      <td>3.0</td>\n",
       "      <td>1.4</td>\n",
       "      <td>0.2</td>\n",
       "      <td>setosa</td>\n",
       "    </tr>\n",
       "    <tr>\n",
       "      <th>2</th>\n",
       "      <td>4.7</td>\n",
       "      <td>3.2</td>\n",
       "      <td>1.3</td>\n",
       "      <td>0.2</td>\n",
       "      <td>setosa</td>\n",
       "    </tr>\n",
       "    <tr>\n",
       "      <th>3</th>\n",
       "      <td>4.6</td>\n",
       "      <td>3.1</td>\n",
       "      <td>1.5</td>\n",
       "      <td>0.2</td>\n",
       "      <td>setosa</td>\n",
       "    </tr>\n",
       "    <tr>\n",
       "      <th>4</th>\n",
       "      <td>5.0</td>\n",
       "      <td>3.6</td>\n",
       "      <td>1.4</td>\n",
       "      <td>0.2</td>\n",
       "      <td>setosa</td>\n",
       "    </tr>\n",
       "  </tbody>\n",
       "</table>\n",
       "</div>"
      ],
      "text/plain": [
       "   sepal_length  sepal_width  petal_length  petal_width species\n",
       "0           5.1          3.5           1.4          0.2  setosa\n",
       "1           4.9          3.0           1.4          0.2  setosa\n",
       "2           4.7          3.2           1.3          0.2  setosa\n",
       "3           4.6          3.1           1.5          0.2  setosa\n",
       "4           5.0          3.6           1.4          0.2  setosa"
      ]
     },
     "execution_count": 76,
     "metadata": {},
     "output_type": "execute_result"
    }
   ],
   "source": [
    "iris.head()"
   ]
  },
  {
   "cell_type": "code",
   "execution_count": 77,
   "id": "30e6b350",
   "metadata": {
    "ExecuteTime": {
     "end_time": "2023-03-15T08:26:45.177169Z",
     "start_time": "2023-03-15T08:26:45.165912Z"
    }
   },
   "outputs": [],
   "source": [
    "from functools import partial"
   ]
  },
  {
   "cell_type": "code",
   "execution_count": 78,
   "id": "085d4c3c",
   "metadata": {
    "ExecuteTime": {
     "end_time": "2023-03-15T08:26:45.859819Z",
     "start_time": "2023-03-15T08:26:45.850087Z"
    }
   },
   "outputs": [],
   "source": [
    "head = partial(iris.head, 10)   # 나만의 스타일로 만들 수 있음"
   ]
  },
  {
   "cell_type": "code",
   "execution_count": 79,
   "id": "16c6c4a2",
   "metadata": {
    "ExecuteTime": {
     "end_time": "2023-03-15T08:26:50.652900Z",
     "start_time": "2023-03-15T08:26:50.621190Z"
    }
   },
   "outputs": [
    {
     "data": {
      "text/html": [
       "<div>\n",
       "<style scoped>\n",
       "    .dataframe tbody tr th:only-of-type {\n",
       "        vertical-align: middle;\n",
       "    }\n",
       "\n",
       "    .dataframe tbody tr th {\n",
       "        vertical-align: top;\n",
       "    }\n",
       "\n",
       "    .dataframe thead th {\n",
       "        text-align: right;\n",
       "    }\n",
       "</style>\n",
       "<table border=\"1\" class=\"dataframe\">\n",
       "  <thead>\n",
       "    <tr style=\"text-align: right;\">\n",
       "      <th></th>\n",
       "      <th>sepal_length</th>\n",
       "      <th>sepal_width</th>\n",
       "      <th>petal_length</th>\n",
       "      <th>petal_width</th>\n",
       "      <th>species</th>\n",
       "    </tr>\n",
       "  </thead>\n",
       "  <tbody>\n",
       "    <tr>\n",
       "      <th>0</th>\n",
       "      <td>5.1</td>\n",
       "      <td>3.5</td>\n",
       "      <td>1.4</td>\n",
       "      <td>0.2</td>\n",
       "      <td>setosa</td>\n",
       "    </tr>\n",
       "    <tr>\n",
       "      <th>1</th>\n",
       "      <td>4.9</td>\n",
       "      <td>3.0</td>\n",
       "      <td>1.4</td>\n",
       "      <td>0.2</td>\n",
       "      <td>setosa</td>\n",
       "    </tr>\n",
       "    <tr>\n",
       "      <th>2</th>\n",
       "      <td>4.7</td>\n",
       "      <td>3.2</td>\n",
       "      <td>1.3</td>\n",
       "      <td>0.2</td>\n",
       "      <td>setosa</td>\n",
       "    </tr>\n",
       "    <tr>\n",
       "      <th>3</th>\n",
       "      <td>4.6</td>\n",
       "      <td>3.1</td>\n",
       "      <td>1.5</td>\n",
       "      <td>0.2</td>\n",
       "      <td>setosa</td>\n",
       "    </tr>\n",
       "    <tr>\n",
       "      <th>4</th>\n",
       "      <td>5.0</td>\n",
       "      <td>3.6</td>\n",
       "      <td>1.4</td>\n",
       "      <td>0.2</td>\n",
       "      <td>setosa</td>\n",
       "    </tr>\n",
       "    <tr>\n",
       "      <th>5</th>\n",
       "      <td>5.4</td>\n",
       "      <td>3.9</td>\n",
       "      <td>1.7</td>\n",
       "      <td>0.4</td>\n",
       "      <td>setosa</td>\n",
       "    </tr>\n",
       "    <tr>\n",
       "      <th>6</th>\n",
       "      <td>4.6</td>\n",
       "      <td>3.4</td>\n",
       "      <td>1.4</td>\n",
       "      <td>0.3</td>\n",
       "      <td>setosa</td>\n",
       "    </tr>\n",
       "    <tr>\n",
       "      <th>7</th>\n",
       "      <td>5.0</td>\n",
       "      <td>3.4</td>\n",
       "      <td>1.5</td>\n",
       "      <td>0.2</td>\n",
       "      <td>setosa</td>\n",
       "    </tr>\n",
       "    <tr>\n",
       "      <th>8</th>\n",
       "      <td>4.4</td>\n",
       "      <td>2.9</td>\n",
       "      <td>1.4</td>\n",
       "      <td>0.2</td>\n",
       "      <td>setosa</td>\n",
       "    </tr>\n",
       "    <tr>\n",
       "      <th>9</th>\n",
       "      <td>4.9</td>\n",
       "      <td>3.1</td>\n",
       "      <td>1.5</td>\n",
       "      <td>0.1</td>\n",
       "      <td>setosa</td>\n",
       "    </tr>\n",
       "  </tbody>\n",
       "</table>\n",
       "</div>"
      ],
      "text/plain": [
       "   sepal_length  sepal_width  petal_length  petal_width species\n",
       "0           5.1          3.5           1.4          0.2  setosa\n",
       "1           4.9          3.0           1.4          0.2  setosa\n",
       "2           4.7          3.2           1.3          0.2  setosa\n",
       "3           4.6          3.1           1.5          0.2  setosa\n",
       "4           5.0          3.6           1.4          0.2  setosa\n",
       "5           5.4          3.9           1.7          0.4  setosa\n",
       "6           4.6          3.4           1.4          0.3  setosa\n",
       "7           5.0          3.4           1.5          0.2  setosa\n",
       "8           4.4          2.9           1.4          0.2  setosa\n",
       "9           4.9          3.1           1.5          0.1  setosa"
      ]
     },
     "execution_count": 79,
     "metadata": {},
     "output_type": "execute_result"
    }
   ],
   "source": [
    "head()"
   ]
  },
  {
   "cell_type": "code",
   "execution_count": null,
   "id": "be110be1",
   "metadata": {},
   "outputs": [],
   "source": [
    "# functools에서 쓰는 거\n",
    "# 싱글 디스패치\n",
    "# wrap\n",
    "# reduce\n",
    "# partial"
   ]
  },
  {
   "cell_type": "code",
   "execution_count": 80,
   "id": "3a149300",
   "metadata": {
    "ExecuteTime": {
     "end_time": "2023-03-15T08:36:38.286224Z",
     "start_time": "2023-03-15T08:36:38.280149Z"
    }
   },
   "outputs": [],
   "source": [
    "# aspect-oriented programming. <<= 데코레이터에서 나옴"
   ]
  }
 ],
 "metadata": {
  "kernelspec": {
   "display_name": "Python 3 (ipykernel)",
   "language": "python",
   "name": "python3"
  },
  "language_info": {
   "codemirror_mode": {
    "name": "ipython",
    "version": 3
   },
   "file_extension": ".py",
   "mimetype": "text/x-python",
   "name": "python",
   "nbconvert_exporter": "python",
   "pygments_lexer": "ipython3",
   "version": "3.10.9"
  },
  "toc": {
   "base_numbering": 1,
   "nav_menu": {},
   "number_sections": true,
   "sideBar": true,
   "skip_h1_title": false,
   "title_cell": "Table of Contents",
   "title_sidebar": "Contents",
   "toc_cell": false,
   "toc_position": {},
   "toc_section_display": true,
   "toc_window_display": false
  },
  "varInspector": {
   "cols": {
    "lenName": 16,
    "lenType": 16,
    "lenVar": 40
   },
   "kernels_config": {
    "python": {
     "delete_cmd_postfix": "",
     "delete_cmd_prefix": "del ",
     "library": "var_list.py",
     "varRefreshCmd": "print(var_dic_list())"
    },
    "r": {
     "delete_cmd_postfix": ") ",
     "delete_cmd_prefix": "rm(",
     "library": "var_list.r",
     "varRefreshCmd": "cat(var_dic_list()) "
    }
   },
   "types_to_exclude": [
    "module",
    "function",
    "builtin_function_or_method",
    "instance",
    "_Feature"
   ],
   "window_display": false
  }
 },
 "nbformat": 4,
 "nbformat_minor": 5
}
