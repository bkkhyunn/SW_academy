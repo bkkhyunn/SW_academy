{
 "cells": [
  {
   "cell_type": "markdown",
   "id": "72b6c5ca",
   "metadata": {
    "ExecuteTime": {
     "end_time": "2023-03-16T05:10:13.203441Z",
     "start_time": "2023-03-16T05:10:13.181814Z"
    }
   },
   "source": [
    "### Aspect-oriented programming(AOP)"
   ]
  },
  {
   "cell_type": "code",
   "execution_count": null,
   "id": "fcaa54a5",
   "metadata": {},
   "outputs": [],
   "source": [
    "# 객체지향, 함수형 과 같은 프로그래밍. 생각하는 방식이 다르고 구현하는 방식이 다름.\n",
    "# cross-cutting, core(concern)에 대해 알아야 함.\n",
    "# 크로스 커팅은 이 내용에 핵심적이지 않은 코드\n",
    "# 코드에 핵심적인 내용이 있을 것이고, 호환을 위해 추가되어야 하는 공통된 기능들이 있을 것.\n",
    "# 그 기능들을 모아서 새로운 애를 만드는 것. 그것이 데코레이터랑 유사한 부분이 있음.\n",
    "# 다른 곳에 작성해놓고 나는 핵심 로직에만 관심을 두고 데코레이터만 붙혀버리면 유지보수 하기도 좋고\n",
    "# 중복도 작아질 것. 중복된, 공통된 애들을 모아서 새롭게(aspect) 만들어서 하는 프로그래밍이 AOP\n",
    "# 우리는 주소를 어떻게 처리할지는 안만들고 핵심로직만 만들고 주소 처리하는 데코레이터 붙이면 되는 테크닉이 한 종류임\n",
    "# 이게 왜 중요?\n",
    "# 파이썬에서는 별로 안 중요함. 자바에서 중요. 자바는 다중상속도 아니고 함수형 패러다임도 약해서.\n",
    "# 파이썬은 다중상속, 함수형 패러다임 지원하기 때문에 AOP가 아주 쉽게 구현됨."
   ]
  },
  {
   "cell_type": "code",
   "execution_count": null,
   "id": "edb781fb",
   "metadata": {},
   "outputs": [],
   "source": [
    "# 어떻게 구현할까? 핵심로직만 분리시키고, 나머지 공통된 것은 데코레이터로 가져다 붙히는 것 => 데코레이터와 매우 유사"
   ]
  },
  {
   "cell_type": "code",
   "execution_count": 2,
   "id": "e4992d0c",
   "metadata": {
    "ExecuteTime": {
     "end_time": "2023-03-16T05:17:44.896496Z",
     "start_time": "2023-03-16T05:17:44.885424Z"
    }
   },
   "outputs": [],
   "source": [
    "# Mixins => sklearn 에서 많이 쓰임\n",
    "# mixin 이 뒤에 붙은 함수가 많음 => 다중상속 테크닉.\n",
    "# 아무 기능도 없고 딱 한개의 기능만 가진 클래스를 다양하게 섞어서 사용하다보니 MixIn.\n",
    "# 기존에 공통된 것들을 만들어 놓고 상속만 받으면 된다는 것.\n",
    "# 파이토치, 텐서플로에도 있음. AOP"
   ]
  },
  {
   "cell_type": "code",
   "execution_count": null,
   "id": "3d750677",
   "metadata": {},
   "outputs": [],
   "source": [
    "from sklearn.base import # Mixin 뒤에 들어간 이름의 파일들이 매우 많음\n",
    "# 어디에나 우리 주위에는 mixin 이 있다.\n",
    "# 그걸 보면 감잡고 다중상속 테크닉임을 알면 됨.\n",
    "# 다중상속은 골치아프기 때문에 우리는 mro() 만 치면 됨.\n",
    "# mro()를 치면 다중상속 받았음을 알 수 있음. __super__ 도 다중상속 관점으로 볼 수 있음."
   ]
  },
  {
   "cell_type": "code",
   "execution_count": null,
   "id": "991b4f5b",
   "metadata": {},
   "outputs": [],
   "source": [
    "# 텐서플로나 파이토치 가서 좀 더 볼 것."
   ]
  },
  {
   "cell_type": "markdown",
   "id": "ec0f718a",
   "metadata": {},
   "source": [
    "### 빅데이터 파이프라인 구축1"
   ]
  },
  {
   "cell_type": "markdown",
   "id": "d2582de9",
   "metadata": {},
   "source": [
    "#### Array"
   ]
  },
  {
   "cell_type": "markdown",
   "id": "3601bd27",
   "metadata": {},
   "source": [
    "- numpy 와 pandas 에 대해서 심도있게 다룰 것.\n",
    "- 파이썬에는 Array Programming(Vectorizing) 이 있음.\n",
    "- 분석은 2차원만 해도 되니까 상관없음\n",
    "- 그러나 딥러닝 하려면 3, 4, 5차원에 대해서 이해해야 함."
   ]
  },
  {
   "cell_type": "code",
   "execution_count": 6,
   "id": "e7d98829",
   "metadata": {
    "ExecuteTime": {
     "end_time": "2023-03-16T05:29:28.024334Z",
     "start_time": "2023-03-16T05:29:28.008959Z"
    }
   },
   "outputs": [],
   "source": [
    "import array"
   ]
  },
  {
   "cell_type": "code",
   "execution_count": null,
   "id": "41305d17",
   "metadata": {
    "ExecuteTime": {
     "end_time": "2023-03-16T05:28:37.177255Z",
     "start_time": "2023-03-16T05:28:37.155320Z"
    }
   },
   "outputs": [],
   "source": [
    "# array 가 뭘까? => 배열.\n",
    "# 1. homo squence 임. \n",
    "# 그러면 array 는 데이터 타입의 일부분임.\n",
    "# 시퀀스 연산 => +는 뒤에 붙힘.\n",
    "# 파이썬에서 array는 수학적 컨셉처럼 원소끼리 더하는 것은 아님.\n",
    "# 데이터 구조로서는 의미가 있음. 그러나 수학적 컨셉에서는 적용을 할 수 없음.\n",
    "# 새로운 데이터 구조의 필요성이 생김 => 수학적 컨셉을 구현하기 위해서"
   ]
  },
  {
   "cell_type": "code",
   "execution_count": 5,
   "id": "5dd9492e",
   "metadata": {
    "ExecuteTime": {
     "end_time": "2023-03-16T05:29:21.175508Z",
     "start_time": "2023-03-16T05:29:21.146817Z"
    }
   },
   "outputs": [
    {
     "data": {
      "text/plain": [
       "[1, 2, 3, 4, 5, 6]"
      ]
     },
     "execution_count": 5,
     "metadata": {},
     "output_type": "execute_result"
    }
   ],
   "source": [
    "[1,2,3] + [4,5,6] # element-wise"
   ]
  },
  {
   "cell_type": "code",
   "execution_count": null,
   "id": "0413edfc",
   "metadata": {},
   "outputs": [],
   "source": [
    "# 파이썬으로 수치연산도 하고 싶다! 그러면 이게 지원되어야 함\n",
    "[1,2,3] + [4,5,6] = [5,7,9]\n",
    "# + 같은 경우는 element-wise (요소끼리) 형태로 만들 수 있음. 연산자 오버로딩을 통해서.\n",
    "# 그러나 파이썬은 느린 언어. 수치 해석에 효율적이지 않음.\n",
    "# 연산자 오버로딩을 통하면 연산을 할 수는 있지만 속도는 느림(아주 큰 데이터 처리하는데)\n",
    "# 그래서 속도를 빠르게 하는 연구들을 많이 함"
   ]
  },
  {
   "cell_type": "code",
   "execution_count": null,
   "id": "f87f764d",
   "metadata": {},
   "outputs": [],
   "source": [
    "# 그 속도를 빠르게 하는 방법!!\n",
    "# 1. 하드웨어에 맞게 만드는 것. 돈만 있으면 빠르게 처리할 수 있음.\n",
    "# 2. 같은 기능을 써도 속도가 다름. 알고리즘 + 자료구조 이걸로 성능을 극대화. => 돈과 알고리즘/자료구조\n",
    "# 3. 파이썬 변형. 파이썬은 명세서라는 이야기를 함\n",
    "#   => 컴파일 형태의 언어로 확장시킴(속도가 더 빠름) => 호환성이 좀 떨어짐(언어가 좀 변화해서)\n",
    "# 4. 속도가 요구되면 C를 씀 (파이썬 공식문서에 파이썬/C API)"
   ]
  },
  {
   "cell_type": "code",
   "execution_count": null,
   "id": "24f6c338",
   "metadata": {},
   "outputs": [],
   "source": [
    "# 파이썬은 수치연산 클래스를 만들어봤자 속도가 느림. 그래서 위 4가지 기법을 수치연산에 쓸 수 있도록 적용함.\n",
    "# 그것이 94년부터 시작함. 그래서 2005년에 Numpy가 등장함.\n",
    "# MATLAB 불편한 점이 있음. 파이썬 써보니 기똥참. 그래서 넘파이 만듦.\n",
    "# 넘파이는 풍부한 파이썬 문법을 가짐. 카피를 만들지 않는 슬라이싱. 즉 mutable임.\n",
    "# 자료구조가 매우 많음.\n",
    "# MATLAB 의 강점이 general purpose"
   ]
  },
  {
   "cell_type": "code",
   "execution_count": null,
   "id": "550da8bf",
   "metadata": {},
   "outputs": [],
   "source": [
    "# 여기까지가 numpy의 철학. 이 철학을 기본으로 numpy를 만들어냄.\n",
    "# 모든 수치해석의 가장 기본적인 것은 벡터와 메트릭스.\n",
    "# 벡터 기반의 numpy를 보자"
   ]
  },
  {
   "cell_type": "code",
   "execution_count": 7,
   "id": "dca4e41d",
   "metadata": {
    "ExecuteTime": {
     "end_time": "2023-03-16T05:45:30.234839Z",
     "start_time": "2023-03-16T05:45:30.221638Z"
    }
   },
   "outputs": [],
   "source": [
    "import numpy as np"
   ]
  },
  {
   "cell_type": "code",
   "execution_count": 8,
   "id": "2e9b74e9",
   "metadata": {
    "ExecuteTime": {
     "end_time": "2023-03-16T05:46:10.195472Z",
     "start_time": "2023-03-16T05:46:10.190800Z"
    }
   },
   "outputs": [],
   "source": [
    "# array 면서 element-wise 연산을 지원함.\n",
    "a = np.array([1,2,3])  # [] 형태로 n 차원 형태 다 만들 수 있음"
   ]
  },
  {
   "cell_type": "code",
   "execution_count": 9,
   "id": "3adcc1fc",
   "metadata": {
    "ExecuteTime": {
     "end_time": "2023-03-16T05:46:12.576146Z",
     "start_time": "2023-03-16T05:46:12.558854Z"
    }
   },
   "outputs": [
    {
     "data": {
      "text/plain": [
       "array([1, 2, 3])"
      ]
     },
     "execution_count": 9,
     "metadata": {},
     "output_type": "execute_result"
    }
   ],
   "source": [
    "a  # __repr__\n",
    "# 데이터 타입은 array 지만 컨셉은 벡터"
   ]
  },
  {
   "cell_type": "code",
   "execution_count": 10,
   "id": "0cda7b8f",
   "metadata": {
    "ExecuteTime": {
     "end_time": "2023-03-16T05:46:34.116622Z",
     "start_time": "2023-03-16T05:46:34.099673Z"
    }
   },
   "outputs": [
    {
     "name": "stdout",
     "output_type": "stream",
     "text": [
      "[1 2 3]\n"
     ]
    }
   ],
   "source": [
    "print(a)  # __str__"
   ]
  },
  {
   "cell_type": "code",
   "execution_count": null,
   "id": "a432556e",
   "metadata": {},
   "outputs": [],
   "source": [
    "# array([1, 2, 3]) 이렇게 쓰이면 numpy로 만들었다고 보면 됨.\n",
    "# 너무 잘만들어서 파이썬이 움직일 정도였음. numpy를 위해서 파이썬이 @ 연산자를 만들어줌.\n",
    "# 파이썬이 언어적으로 단점들이 많았음(현대적 테크닉을 지원못할 정도로)\n",
    "# 파이썬 3 버전이 2008년도에 나왔는데 2020년도에 2버전이 종료되었다는 것은 3로 라이브러리로 이전 안한게 많았음.\n",
    "# 그 중 대표적인 것이 numpy.\n",
    "# numpy 를 위한 @ 연산자를 볼 것임."
   ]
  },
  {
   "cell_type": "code",
   "execution_count": 11,
   "id": "d074cbc0",
   "metadata": {
    "ExecuteTime": {
     "end_time": "2023-03-16T05:50:02.373656Z",
     "start_time": "2023-03-16T05:50:02.359968Z"
    }
   },
   "outputs": [],
   "source": [
    "# tensor 도 torch 도 numpy 기반으로 만들었음. => 수치해석의 기본적인 벡터, 행렬을 너무 잘 만들었음.\n",
    "# 어떻게 만들었는지 보자.\n",
    "# 이게 왜 안될까?\n",
    "b = np.array([1,'1',2])"
   ]
  },
  {
   "cell_type": "code",
   "execution_count": 12,
   "id": "21364eff",
   "metadata": {
    "ExecuteTime": {
     "end_time": "2023-03-16T05:50:04.431967Z",
     "start_time": "2023-03-16T05:50:04.410360Z"
    }
   },
   "outputs": [
    {
     "data": {
      "text/plain": [
       "array(['1', '1', '2'], dtype='<U21')"
      ]
     },
     "execution_count": 12,
     "metadata": {},
     "output_type": "execute_result"
    }
   ],
   "source": [
    "b # homo 이기 때문에 아래 보면 다 문자열로 바뀌어져 있음. => 자기가 알아서 데이터 타입을 같게 만들어줌."
   ]
  },
  {
   "cell_type": "code",
   "execution_count": 14,
   "id": "20401691",
   "metadata": {
    "ExecuteTime": {
     "end_time": "2023-03-16T05:53:58.872443Z",
     "start_time": "2023-03-16T05:53:35.485673Z"
    }
   },
   "outputs": [
    {
     "data": {
      "text/plain": [
       "tensor([1.0000, 2.0000, 3.4000])"
      ]
     },
     "execution_count": 14,
     "metadata": {},
     "output_type": "execute_result"
    }
   ],
   "source": [
    "import torch\n",
    "x = torch.Tensor([1,2,3.4])\n",
    "x   # 정수인데 float으로 바뀜. homo 라서."
   ]
  },
  {
   "cell_type": "code",
   "execution_count": null,
   "id": "6351734c",
   "metadata": {},
   "outputs": [],
   "source": [
    "# 시퀀스는 __len__, __get__ 을 가짐.\n",
    "# 인덱스와 슬라이싱을 위해서.\n",
    "# 따라서 np 도 homo sequence 이기 때문에 인덱스와 슬라이싱 가능. 또한 mutable\n",
    "# 그러나 딥러닝에서는 mutable 없애버림."
   ]
  },
  {
   "cell_type": "code",
   "execution_count": null,
   "id": "74feb09a",
   "metadata": {},
   "outputs": [],
   "source": [
    "# 다시, array는 homo, sequence 한 자료구조 형태를 가짐. element-wise(원소끼리) 연산을 함.\n",
    "# 이 element-wise 가 컴퓨터 과학에서 매우 많이 씀.\n",
    "# 코덱 지원 => cpu에 벡터 연산을 빠르게 해주는 기능을 지원해주는 것.\n",
    "# 너무나 기본적 기능이라 당연함. 어떻게 지원을 해줄까?\n",
    "# 넘파이의 데이터적인 특성을 보고 있는 것. vectorized => CPU 에 이런게 많으면 많을수록 빠름\n",
    "# GPU 에는 보통 쿠다 개수. 동시에 처리하기 때문에 빠름.\n",
    "# 넘파이가 이런 기법을 지원해줌. 그런데 GPU 를 지원안함. 90년대 만들어져서.\n",
    "# 근데 파이토치, 텐서플로는 넘파이를 기반으로 GPU 겨냥.\n",
    "# 그러나 GPU 가 능사가 아님. 동시 계산은 효율적인데 개별적은 그렇지 않음.\n",
    "# 그러나 개별적으로 계산하는 머신러닝이 월등히 많음.\n",
    "# GPU 를 사용하는 알고리즘은 한정되어 있음. "
   ]
  },
  {
   "cell_type": "code",
   "execution_count": 15,
   "id": "d7fb484e",
   "metadata": {
    "ExecuteTime": {
     "end_time": "2023-03-16T06:01:46.356400Z",
     "start_time": "2023-03-16T06:01:46.343979Z"
    }
   },
   "outputs": [
    {
     "data": {
      "text/plain": [
       "array([1, 2, 3])"
      ]
     },
     "execution_count": 15,
     "metadata": {},
     "output_type": "execute_result"
    }
   ],
   "source": [
    "# 요즘에는 넘파이를 GPU로 돌아가게 하는 것도 나옴.\n",
    "# 이제부터 a 는 여러개가 동시에 있는 형태가 대부분일 것.\n",
    "a = np.array([1,2,3])\n",
    "a"
   ]
  },
  {
   "cell_type": "code",
   "execution_count": null,
   "id": "1d9b05a6",
   "metadata": {},
   "outputs": [],
   "source": [
    "# 컴퓨터과학의 일반적인 array는 homo, sequence. 우리는 수학적 컨셉이 더해진 array를 배우는 것 => 속도가 빠르게 하기 위해서. \n",
    "# 내부적 구조는 싹 다 C 언어임. 그래서 속도가 빠름.\n",
    "# 근데 C는 매워 어려움. 그래서 numpy가 대세가 된 것.\n",
    "# 하여튼 쉽고 빠르다!!"
   ]
  },
  {
   "cell_type": "markdown",
   "id": "56e9482a",
   "metadata": {},
   "source": [
    "#### numpy의 특징"
   ]
  },
  {
   "cell_type": "code",
   "execution_count": null,
   "id": "3fd7e9ee",
   "metadata": {},
   "outputs": [],
   "source": [
    "# 넘파이는 C 언어 자료형을 가져다 씀. 파이썬은 숫자형 4개.\n",
    "# 넘파이는 C로 만들어졌기 때문에.\n",
    "# 그렇다면 C의 데이터타입에는 뭐가 있을까?"
   ]
  },
  {
   "cell_type": "code",
   "execution_count": 16,
   "id": "e4ed6c93",
   "metadata": {
    "ExecuteTime": {
     "end_time": "2023-03-16T06:16:43.184650Z",
     "start_time": "2023-03-16T06:16:43.173130Z"
    }
   },
   "outputs": [
    {
     "data": {
      "text/plain": [
       "{'int': [numpy.int8, numpy.int16, numpy.int32, numpy.int64],\n",
       " 'uint': [numpy.uint8, numpy.uint16, numpy.uint32, numpy.uint64],\n",
       " 'float': [numpy.float16, numpy.float32, numpy.float64, numpy.float128],\n",
       " 'complex': [numpy.complex64, numpy.complex128, numpy.complex256],\n",
       " 'others': [bool, object, bytes, str, numpy.void]}"
      ]
     },
     "execution_count": 16,
     "metadata": {},
     "output_type": "execute_result"
    }
   ],
   "source": [
    "np.sctypes\n",
    "# 크기 별로 있음.\n",
    "# u 는 부호가 없는 것. -값이 없고 0부터 시작.(unsign)\n",
    "# 이것들은 c 언어에서 가져온 것.\n",
    "# 이제부터는 데이터 타입이 중요하다는 것.\n",
    "# 즉 넘파이는 파이썬 + C 의 구조체를 다 가지고 있음."
   ]
  },
  {
   "cell_type": "code",
   "execution_count": null,
   "id": "3612ce92",
   "metadata": {},
   "outputs": [],
   "source": [
    "# C 언어는 일렬로 나열되어 있음. homo기 때문에 header에 어떤 데이터 타입이고 어떤 모양인지 보여주면 됨.\n",
    "# linked list는 파이썬 - 하나하나 주소값 찾아감\n",
    "# 넘파이는 C로 만들어진 데이터 구조 특징 떄문에 속도가 매우 빠름. -> 그래서 C의 데이터 타입 쓰는 것\n",
    "# 텐서나 넘파이나 다 똑같은데 GPU 지원!"
   ]
  },
  {
   "cell_type": "code",
   "execution_count": 20,
   "id": "8856351c",
   "metadata": {
    "ExecuteTime": {
     "end_time": "2023-03-16T06:25:36.869063Z",
     "start_time": "2023-03-16T06:25:36.855247Z"
    }
   },
   "outputs": [],
   "source": [
    "import tensorflow as tf"
   ]
  },
  {
   "cell_type": "code",
   "execution_count": 28,
   "id": "9935d35e",
   "metadata": {
    "ExecuteTime": {
     "end_time": "2023-03-16T06:31:41.273710Z",
     "start_time": "2023-03-16T06:31:41.255239Z"
    }
   },
   "outputs": [
    {
     "data": {
      "text/plain": [
       "(<tf.Tensor: shape=(4,), dtype=int32, numpy=array([1, 2, 3, 4], dtype=int32)>,\n",
       " tensorflow.python.framework.ops.EagerTensor)"
      ]
     },
     "execution_count": 28,
     "metadata": {},
     "output_type": "execute_result"
    }
   ],
   "source": [
    "# tensorflow 는 노골적으로 데이터 타입 알려줌\n",
    "a = tf.constant([1,2,3,4])\n",
    "a, type(a)\n",
    "# 연산에 최적화. 벡터, 매트릭스를 연산하는데 최적화."
   ]
  },
  {
   "cell_type": "markdown",
   "id": "45eb180a",
   "metadata": {},
   "source": [
    "#### 넘파이 본격적 내용"
   ]
  },
  {
   "cell_type": "code",
   "execution_count": 23,
   "id": "64de92f9",
   "metadata": {
    "ExecuteTime": {
     "end_time": "2023-03-16T06:27:06.624965Z",
     "start_time": "2023-03-16T06:27:06.613404Z"
    }
   },
   "outputs": [
    {
     "data": {
      "text/plain": [
       "array([1, 2, 3])"
      ]
     },
     "execution_count": 23,
     "metadata": {},
     "output_type": "execute_result"
    }
   ],
   "source": [
    "a = np.array([1,2,3])\n",
    "a  # __repr__\n",
    "# array가 나옴."
   ]
  },
  {
   "cell_type": "code",
   "execution_count": 24,
   "id": "f0fa6696",
   "metadata": {
    "ExecuteTime": {
     "end_time": "2023-03-16T06:27:39.208433Z",
     "start_time": "2023-03-16T06:27:39.194553Z"
    }
   },
   "outputs": [
    {
     "data": {
      "text/plain": [
       "(numpy.ndarray, numpy.ndarray)"
      ]
     },
     "execution_count": 24,
     "metadata": {},
     "output_type": "execute_result"
    }
   ],
   "source": [
    "# 데이터 타입을 아는 방법\n",
    "type(a), a.__class__"
   ]
  },
  {
   "cell_type": "code",
   "execution_count": 27,
   "id": "17d25b23",
   "metadata": {
    "ExecuteTime": {
     "end_time": "2023-03-16T06:29:00.983342Z",
     "start_time": "2023-03-16T06:29:00.963385Z"
    }
   },
   "outputs": [
    {
     "data": {
      "text/plain": [
       "array([[0., 0., 0.],\n",
       "       [0., 0., 0.]])"
      ]
     },
     "execution_count": 27,
     "metadata": {},
     "output_type": "execute_result"
    }
   ],
   "source": [
    "# 거슬리는디\n",
    "np.ndarray((2,3))\n",
    "# C 언어에서는 메모리에 남아도는 값으로 초기화가 됨.\n",
    "# array로 만드는 것은 클래스에서 인스턴스 만드는 것처럼 보임.\n",
    "# 이렇게 인스턴스를 만드는 것을 factory method 라고 함.\n",
    "# 사용자가 편하게. 객체로 인스턴스화 하지 말고 편하게 만들 수 있는 기능을 제공해주는 것.\n",
    "# 직접적으로 클래스 인스턴스화 하지 않고 이렇게 만드는 것 np.array([1.2.3])"
   ]
  },
  {
   "cell_type": "code",
   "execution_count": null,
   "id": "6e03cb5c",
   "metadata": {},
   "outputs": [],
   "source": [
    "# 값 만드는 방식\n",
    "# 인스턴스화 하는 방식 => 클래스에 괄호\n",
    "# 두번째는 literal 방식\n",
    "# 세번째가 factory method 방식\n",
    "# 즉 세번째 방식 때문에 가장 편하게 만드는데 그게 실제로 클래스로 인스턴스 하는 것이 아님.\n",
    "# 그래서 항상 type() 쳐봐야 함. dir(), vars()  이 3총사에 익숙해져야 함.\n",
    "# array에서 값을 만드는 방식은 factory method 방식!"
   ]
  },
  {
   "cell_type": "code",
   "execution_count": null,
   "id": "557878ef",
   "metadata": {},
   "outputs": [],
   "source": [
    "a = np.array([1,2,3])\n",
    "#array(object, dtype=None, *, copy=True, order='K', subok=False, ndmin=0, like=None)\n",
    "\n",
    "# 여기에는 Initsignature 가 안나옴. 클래스가 아님\n",
    "# factory method로 하는 이유가 C 언어 구조대로 하려다보니 사용하기 힘들어서 이런 기능을 제공해준 것\n",
    "# copy 자체를 옵션을 둬버림.\n",
    "# order. C언어 포인터(메모리 구조). 메모리를 저장하는 방식. C 언어는 123  포트란 방식은 135  => 사용자들이 많이 사용하는 스타일로 만들어줌\n",
    "#                                                       456             246"
   ]
  },
  {
   "cell_type": "code",
   "execution_count": null,
   "id": "d7a00904",
   "metadata": {},
   "outputs": [],
   "source": [
    "# 0차원 스칼라, 1차원 벡터, 2차원 매트릭스, 3차부터는 텐서 통칭\n",
    "# array는 데이터 구조 개념. 벡터/매트릭스/텐서는 수학적 개념.\n",
    "# cube <- 3차원 텐서. 4차원은 cube의 벡터. 5차원은 cube의 매트릭스\n",
    "# n 차원 array 는 ndarray => 이걸로 모든 차원을 만들 수 있다는 것.\n",
    "# ndarray 로 차원은 대괄호 개수로 만듦"
   ]
  },
  {
   "cell_type": "code",
   "execution_count": 32,
   "id": "d51699b7",
   "metadata": {
    "ExecuteTime": {
     "end_time": "2023-03-16T06:43:37.850440Z",
     "start_time": "2023-03-16T06:43:37.821856Z"
    }
   },
   "outputs": [
    {
     "data": {
      "text/plain": [
       "array([[1, 2, 3],\n",
       "       [4, 5, 6]])"
      ]
     },
     "execution_count": 32,
     "metadata": {},
     "output_type": "execute_result"
    }
   ],
   "source": [
    "aa = np.array([[1, 2, 3], [4, 5, 6]])\n",
    "aa\n",
    "# 앞 대괄호의 개수를 세면 차원의 수를 알 수 있음."
   ]
  },
  {
   "cell_type": "code",
   "execution_count": 33,
   "id": "66519855",
   "metadata": {
    "ExecuteTime": {
     "end_time": "2023-03-16T06:43:39.624382Z",
     "start_time": "2023-03-16T06:43:39.612867Z"
    }
   },
   "outputs": [],
   "source": [
    "# 데이터프레임은 하나의 열이 같은 데이터형태로 이루어진 것.\n",
    "# 분석의 기본은 2차원.\n",
    "# 분석은 2차원 (데이터프레임) 까지만 만들면 되지만, 인공지능을 하려면 3차원 이상 해야함.\n",
    "# 오늘은 3차원 까지."
   ]
  },
  {
   "cell_type": "code",
   "execution_count": 36,
   "id": "e8bd44f3",
   "metadata": {
    "ExecuteTime": {
     "end_time": "2023-03-16T06:45:38.417417Z",
     "start_time": "2023-03-16T06:45:38.403667Z"
    }
   },
   "outputs": [
    {
     "data": {
      "text/plain": [
       "array([[[1, 2, 3],\n",
       "        [4, 5, 6]],\n",
       "\n",
       "       [[1, 2, 3],\n",
       "        [4, 5, 6]]])"
      ]
     },
     "execution_count": 36,
     "metadata": {},
     "output_type": "execute_result"
    }
   ],
   "source": [
    "# 넘파이에서도 3차원 관련해서 MATLAB 의 관례를 따름.\n",
    "# 3차원은 대괄호 세개\n",
    "aa=np.array([[[1,2,3], [4,5,6]], [[1,2,3], [4,5,6]]])\n",
    "aa\n",
    "# MATLAB 은 항상 2차원 관점에서 생각함. 그래서 결과출력 보면 공백 보임. 공백이 보이면 3차원."
   ]
  },
  {
   "cell_type": "code",
   "execution_count": 37,
   "id": "ea2c2b99",
   "metadata": {
    "ExecuteTime": {
     "end_time": "2023-03-16T06:46:17.349881Z",
     "start_time": "2023-03-16T06:46:17.322844Z"
    }
   },
   "outputs": [
    {
     "data": {
      "text/plain": [
       "(2, 2, 3)"
      ]
     },
     "execution_count": 37,
     "metadata": {},
     "output_type": "execute_result"
    }
   ],
   "source": [
    "aa.shape\n",
    "# 2차원으로 생각해보자. (2,3)이 2개다. 뒤의 (2,3)을 하나로 생각하는 것이다.\n",
    "# 즉 2행 3열이 2개다. 이를 명확히 보여주기 위해서 공백으로 표현해줌. 그게 MATLAB 관례임.\n",
    "# 항상 2차원으로 생각해라! 2차원 짜리가 2개다!"
   ]
  },
  {
   "cell_type": "code",
   "execution_count": 38,
   "id": "168ab96b",
   "metadata": {
    "ExecuteTime": {
     "end_time": "2023-03-16T06:46:26.719748Z",
     "start_time": "2023-03-16T06:46:26.702397Z"
    }
   },
   "outputs": [
    {
     "data": {
      "text/plain": [
       "dtype('int64')"
      ]
     },
     "execution_count": 38,
     "metadata": {},
     "output_type": "execute_result"
    }
   ],
   "source": [
    "aa.dtype"
   ]
  },
  {
   "cell_type": "code",
   "execution_count": 39,
   "id": "4cbd04f1",
   "metadata": {
    "ExecuteTime": {
     "end_time": "2023-03-16T06:51:10.252324Z",
     "start_time": "2023-03-16T06:51:10.236484Z"
    }
   },
   "outputs": [
    {
     "data": {
      "text/plain": [
       "(2, 2, 3)"
      ]
     },
     "execution_count": 39,
     "metadata": {},
     "output_type": "execute_result"
    }
   ],
   "source": [
    "# 또 다른 설명\n",
    "# 맨 안에 들어있는게 3개. [1,2,3]        => 3\n",
    "# 그런게 2묶음 [[1,2,3], [4,5,6]]      => 2\n",
    "# 또 이런 게 두 묶음.  [[[1,2,3], [4,5,6]],  [[1,2,3], [4,5,6]]]  => 2\n",
    "# 모르면 shape 치는 것이 중요함.\n",
    "aa.shape"
   ]
  },
  {
   "cell_type": "code",
   "execution_count": 40,
   "id": "4d266f46",
   "metadata": {
    "ExecuteTime": {
     "end_time": "2023-03-16T06:53:14.268242Z",
     "start_time": "2023-03-16T06:53:14.257576Z"
    }
   },
   "outputs": [
    {
     "name": "stderr",
     "output_type": "stream",
     "text": [
      "/var/folders/jk/hj7g6jys2pn87pvkrlq6q6kh0000gn/T/ipykernel_1794/1840037640.py:1: VisibleDeprecationWarning: Creating an ndarray from ragged nested sequences (which is a list-or-tuple of lists-or-tuples-or ndarrays with different lengths or shapes) is deprecated. If you meant to do this, you must specify 'dtype=object' when creating the ndarray.\n",
      "  aa=np.array([[[1,2,3], [4,5,6]], [[1,2,3], [4,5,]]])\n"
     ]
    }
   ],
   "source": [
    "# ragged nested sequences\n",
    "aa=np.array([[[1,2,3], [4,5,6]], [[1,2,3], [4,5,]]])"
   ]
  },
  {
   "cell_type": "code",
   "execution_count": 41,
   "id": "eebc1986",
   "metadata": {
    "ExecuteTime": {
     "end_time": "2023-03-16T06:53:20.443569Z",
     "start_time": "2023-03-16T06:53:20.432120Z"
    }
   },
   "outputs": [
    {
     "data": {
      "text/plain": [
       "array([[list([1, 2, 3]), list([4, 5, 6])],\n",
       "       [list([1, 2, 3]), list([4, 5])]], dtype=object)"
      ]
     },
     "execution_count": 41,
     "metadata": {},
     "output_type": "execute_result"
    }
   ],
   "source": [
    "aa  # 내부구조가 유연하게 바뀜. 무조건 데이터 형태는 직사각형 형태로 만들어줌.\n",
    "# 즉 넘파이는 에러메시지를 내지 않고 제일 유연한 구조로 바꿔줌."
   ]
  },
  {
   "cell_type": "code",
   "execution_count": 42,
   "id": "6aa9b18b",
   "metadata": {
    "ExecuteTime": {
     "end_time": "2023-03-16T06:54:33.661010Z",
     "start_time": "2023-03-16T06:54:33.645772Z"
    }
   },
   "outputs": [
    {
     "data": {
      "text/plain": [
       "(2, 2)"
      ]
     },
     "execution_count": 42,
     "metadata": {},
     "output_type": "execute_result"
    }
   ],
   "source": [
    "aa.shape"
   ]
  },
  {
   "cell_type": "code",
   "execution_count": null,
   "id": "7d53ce0e",
   "metadata": {},
   "outputs": [],
   "source": [
    "# 위와 같은 것은 자연어 처리 할 때 많이 씀. 내부구조가 유연하게 바뀜."
   ]
  },
  {
   "cell_type": "code",
   "execution_count": null,
   "id": "65f07540",
   "metadata": {},
   "outputs": [],
   "source": [
    "# array 의 가장 중요한 것은 2개. shape과 dtype.\n",
    "# 모르면 shape 과 dtype을 쓰자. "
   ]
  },
  {
   "cell_type": "code",
   "execution_count": 43,
   "id": "cee04a3c",
   "metadata": {
    "ExecuteTime": {
     "end_time": "2023-03-16T06:55:30.747710Z",
     "start_time": "2023-03-16T06:55:30.729052Z"
    }
   },
   "outputs": [],
   "source": [
    "aa=np.array([[[1,2,3], [4,5,6]], [[1,2,3], [4,5,6]]])"
   ]
  },
  {
   "cell_type": "code",
   "execution_count": 44,
   "id": "9bdcd9ed",
   "metadata": {
    "ExecuteTime": {
     "end_time": "2023-03-16T06:55:33.663738Z",
     "start_time": "2023-03-16T06:55:33.644844Z"
    }
   },
   "outputs": [
    {
     "data": {
      "text/plain": [
       "array([[[1, 2, 3],\n",
       "        [4, 5, 6]],\n",
       "\n",
       "       [[1, 2, 3],\n",
       "        [4, 5, 6]]])"
      ]
     },
     "execution_count": 44,
     "metadata": {},
     "output_type": "execute_result"
    }
   ],
   "source": [
    "aa"
   ]
  },
  {
   "cell_type": "code",
   "execution_count": 45,
   "id": "4942a770",
   "metadata": {
    "ExecuteTime": {
     "end_time": "2023-03-16T06:55:36.723434Z",
     "start_time": "2023-03-16T06:55:36.710243Z"
    }
   },
   "outputs": [
    {
     "data": {
      "text/plain": [
       "(2, 2, 3)"
      ]
     },
     "execution_count": 45,
     "metadata": {},
     "output_type": "execute_result"
    }
   ],
   "source": [
    "aa.shape"
   ]
  },
  {
   "cell_type": "code",
   "execution_count": 46,
   "id": "ff4572c8",
   "metadata": {
    "ExecuteTime": {
     "end_time": "2023-03-16T06:55:55.447583Z",
     "start_time": "2023-03-16T06:55:55.431656Z"
    }
   },
   "outputs": [
    {
     "data": {
      "text/plain": [
       "12"
      ]
     },
     "execution_count": 46,
     "metadata": {},
     "output_type": "execute_result"
    }
   ],
   "source": [
    "aa.size   # 원소의 개수 (2x2x3) => 2행 3열이 2개.\n",
    "# 이것은 shape 만 알면 됨."
   ]
  },
  {
   "cell_type": "code",
   "execution_count": 47,
   "id": "e84d361d",
   "metadata": {
    "ExecuteTime": {
     "end_time": "2023-03-16T06:56:35.418933Z",
     "start_time": "2023-03-16T06:56:35.402116Z"
    }
   },
   "outputs": [
    {
     "data": {
      "text/plain": [
       "3"
      ]
     },
     "execution_count": 47,
     "metadata": {},
     "output_type": "execute_result"
    }
   ],
   "source": [
    "aa.ndim  # 너 몇차원이니?!"
   ]
  },
  {
   "cell_type": "code",
   "execution_count": 49,
   "id": "25ff6021",
   "metadata": {
    "ExecuteTime": {
     "end_time": "2023-03-16T06:56:59.684440Z",
     "start_time": "2023-03-16T06:56:59.672791Z"
    }
   },
   "outputs": [
    {
     "data": {
      "text/plain": [
       "numpy.ndarray"
      ]
     },
     "execution_count": 49,
     "metadata": {},
     "output_type": "execute_result"
    }
   ],
   "source": [
    "type(aa)"
   ]
  },
  {
   "cell_type": "code",
   "execution_count": null,
   "id": "84aee063",
   "metadata": {},
   "outputs": [],
   "source": [
    "# shape 을 항상 알고 있어야 함. 왜냐면 행렬의 연산, 곱셈에서 모양이 중요하기 때문"
   ]
  },
  {
   "cell_type": "code",
   "execution_count": null,
   "id": "45641dad",
   "metadata": {},
   "outputs": [],
   "source": [
    "# 넘파이의 특징은 빠르고 쉽다. 행렬의 종류: 영행렬"
   ]
  },
  {
   "cell_type": "code",
   "execution_count": 51,
   "id": "0046f0c5",
   "metadata": {
    "ExecuteTime": {
     "end_time": "2023-03-16T06:59:42.044730Z",
     "start_time": "2023-03-16T06:59:42.030832Z"
    }
   },
   "outputs": [
    {
     "data": {
      "text/plain": [
       "array([[[0., 0., 0., 0., 0.],\n",
       "        [0., 0., 0., 0., 0.]],\n",
       "\n",
       "       [[0., 0., 0., 0., 0.],\n",
       "        [0., 0., 0., 0., 0.]],\n",
       "\n",
       "       [[0., 0., 0., 0., 0.],\n",
       "        [0., 0., 0., 0., 0.]],\n",
       "\n",
       "       [[0., 0., 0., 0., 0.],\n",
       "        [0., 0., 0., 0., 0.]]])"
      ]
     },
     "execution_count": 51,
     "metadata": {},
     "output_type": "execute_result"
    }
   ],
   "source": [
    "# 모양만 만들면 안에거 다 정해줌.\n",
    "c = np.zeros((4,2,5))\n",
    "c"
   ]
  },
  {
   "cell_type": "code",
   "execution_count": 52,
   "id": "c628dfe0",
   "metadata": {
    "ExecuteTime": {
     "end_time": "2023-03-16T06:59:48.505903Z",
     "start_time": "2023-03-16T06:59:48.490895Z"
    }
   },
   "outputs": [
    {
     "data": {
      "text/plain": [
       "array([[[1., 1., 1., 1., 1.],\n",
       "        [1., 1., 1., 1., 1.]],\n",
       "\n",
       "       [[1., 1., 1., 1., 1.],\n",
       "        [1., 1., 1., 1., 1.]],\n",
       "\n",
       "       [[1., 1., 1., 1., 1.],\n",
       "        [1., 1., 1., 1., 1.]],\n",
       "\n",
       "       [[1., 1., 1., 1., 1.],\n",
       "        [1., 1., 1., 1., 1.]]])"
      ]
     },
     "execution_count": 52,
     "metadata": {},
     "output_type": "execute_result"
    }
   ],
   "source": [
    "# 이 동네에서는 모양이 중요함.\n",
    "np.ones_like(c)"
   ]
  },
  {
   "cell_type": "code",
   "execution_count": 54,
   "id": "c4188902",
   "metadata": {
    "ExecuteTime": {
     "end_time": "2023-03-16T07:00:14.889174Z",
     "start_time": "2023-03-16T07:00:14.875783Z"
    }
   },
   "outputs": [
    {
     "data": {
      "text/plain": [
       "array([[6, 6, 6],\n",
       "       [6, 6, 6],\n",
       "       [6, 6, 6]])"
      ]
     },
     "execution_count": 54,
     "metadata": {},
     "output_type": "execute_result"
    }
   ],
   "source": [
    "# 이렇게 쉽게 만드는 기능들을 다양하게 제공함\n",
    "np.full((3,3), 6)"
   ]
  },
  {
   "cell_type": "code",
   "execution_count": 56,
   "id": "d0447201",
   "metadata": {
    "ExecuteTime": {
     "end_time": "2023-03-16T07:03:46.355775Z",
     "start_time": "2023-03-16T07:03:46.340576Z"
    }
   },
   "outputs": [
    {
     "data": {
      "text/plain": [
       "array([[ 1,  2,  3],\n",
       "       [ 4,  5,  6],\n",
       "       [ 0,  8,  9],\n",
       "       [ 0,  0, 12]])"
      ]
     },
     "execution_count": 56,
     "metadata": {},
     "output_type": "execute_result"
    }
   ],
   "source": [
    "# 넘파이가 편한 이유는 전문가 입장에서 쓰기 편함\n",
    "# 상삼각행렬, 하삼각행렬..?\n",
    "np.triu([[1,2,3],[4,5,6],[7,8,9],[10,11,12]], -1)"
   ]
  },
  {
   "cell_type": "code",
   "execution_count": 55,
   "id": "216ba39a",
   "metadata": {
    "ExecuteTime": {
     "end_time": "2023-03-16T07:02:58.109728Z",
     "start_time": "2023-03-16T07:02:56.220038Z"
    }
   },
   "outputs": [
    {
     "name": "stdout",
     "output_type": "stream",
     "text": [
      "Search results for 'tri'\n",
      "------------------------\n",
      "numpy.tril\n",
      "    Lower triangle of an array.\n",
      "numpy.triu\n",
      "    Upper triangle of an array.\n",
      "numpy.matrix\n",
      "    .. note:: It is no longer recommended to use this class, even for linear\n",
      "numpy.asmatrix\n",
      "    Interpret the input as a matrix.\n",
      "numpy.cov\n",
      "    Estimate a covariance matrix, given data and weights.\n",
      "numpy.sin\n",
      "    Trigonometric sine, element-wise.\n",
      "numpy.std\n",
      "    Compute the standard deviation along the specified axis.\n",
      "numpy.bmat\n",
      "    Build a matrix object from a string, nested sequence, or array.\n",
      "numpy.fromstring\n",
      "    A new 1-D array initialized from text data in a string.\n",
      "numpy.str0\n",
      "    A unicode string.\n",
      "numpy.trim_zeros\n",
      "    Trim the leading and/or trailing zeros from a 1-D array or sequence.\n",
      "numpy.empty\n",
      "    Return a new array of given shape and type, without initializing entries.\n",
      "numpy.hypot\n",
      "    Given the \"legs\" of a right triangle, return its hypotenuse.\n",
      "numpy.arccos\n",
      "    Trigonometric inverse cosine, element-wise.\n",
      "numpy.arctan\n",
      "    Trigonometric inverse tangent, element-wise.\n",
      "numpy.array2string\n",
      "    Return a string representation of an array.\n",
      "numpy.bytes0\n",
      "    A byte string.\n",
      "numpy.delete\n",
      "    Return a new array with sub-arrays along an axis deleted. For a one\n",
      "numpy.fliplr\n",
      "    Reverse the order of elements along axis 1 (left/right).\n",
      "numpy.flipud\n",
      "    Reverse the order of elements along axis 0 (up/down).\n",
      "numpy.matmul\n",
      "    Matrix product of two arrays.\n",
      "numpy.record\n",
      "    A data-type scalar that allows field access as attribute lookup.\n",
      "numpy.tril_indices\n",
      "    Return the indices for the lower-triangle of an (n, m) array.\n",
      "numpy.triu_indices\n",
      "    Return the indices for the upper-triangle of an (n, m) array.\n",
      "numpy.vander\n",
      "    Generate a Vandermonde matrix.\n",
      "numpy.add_docstring\n",
      "    Add a docstring to a built-in obj if possible.\n",
      "numpy.lookfor\n",
      "    Do a keyword search on docstrings.\n",
      "numpy.ndarray\n",
      "    ndarray(shape, dtype=float, buffer=None, offset=0,\n",
      "numpy.bartlett\n",
      "    Return the Bartlett window.\n",
      "numpy.meshgrid\n",
      "    Return coordinate matrices from coordinate vectors.\n",
      "numpy.recarray\n",
      "    Construct an ndarray that allows field access using attributes.\n",
      "numpy.array_str\n",
      "    Return a string representation of the data in an array.\n",
      "numpy.base_repr\n",
      "    Return a string representation of a number in the given base system.\n",
      "numpy.character\n",
      "    Abstract base class of all character string scalar types.\n",
      "numpy.chararray\n",
      "    chararray(shape, itemsize=1, unicode=False, buffer=None, offset=0,\n",
      "numpy.deprecate\n",
      "    Issues a DeprecationWarning, adds warning to `old_name`'s\n",
      "numpy.geomspace\n",
      "    Return numbers spaced evenly on a log scale (a geometric progression).\n",
      "numpy.isfortran\n",
      "    Check if the array is Fortran contiguous but *not* C contiguous.\n",
      "numpy.safe_eval\n",
      "    Protected string evaluation.\n",
      "numpy.transpose\n",
      "    Reverse or permute the axes of an array; returns the modified array.\n",
      "numpy.add_newdoc\n",
      "    Add documentation to an existing object, typically one defined in C\n",
      "numpy.array_repr\n",
      "    Return the string representation of an array.\n",
      "numpy.bytes0.strip\n",
      "    Strip leading and trailing bytes contained in the argument.\n",
      "numpy.datetime64\n",
      "    If created from a 64-bit integer, it represents an offset from\n",
      "numpy.matrix.all\n",
      "    Test whether all matrix elements along a given axis evaluate to True.\n",
      "numpy.matrix.sum\n",
      "    Returns the sum of the matrix elements, along the given axis.\n",
      "numpy.matrix.var\n",
      "    Returns the variance of the matrix elements, along the given axis.\n",
      "numpy.RankWarning\n",
      "    Issued by `polyfit` when the Vandermonde matrix is rank deficient.\n",
      "numpy.bytes0.lstrip\n",
      "    Strip leading bytes contained in the argument.\n",
      "numpy.bytes0.rstrip\n",
      "    Strip trailing bytes contained in the argument.\n",
      "numpy.binary_repr\n",
      "    Return the binary representation of the input number as a string.\n",
      "numpy.str0.strip\n",
      "    Return a copy of the string with leading and trailing whitespace removed.\n",
      "numpy.array_api.tril\n",
      "    Array API compatible wrapper for :py:func:`np.tril <numpy.tril>`.\n",
      "numpy.array_api.triu\n",
      "    Array API compatible wrapper for :py:func:`np.triu <numpy.triu>`.\n",
      "numpy.matrix.getT\n",
      "    Returns the transpose of the matrix.\n",
      "numpy.matrix.mean\n",
      "    Returns the average of the matrix elements along the given axis.\n",
      "numpy.sctype2char\n",
      "    Return the string representation of a scalar dtype.\n",
      "numpy.bool8.tostring\n",
      "    Scalar method identical to the corresponding array attribute.\n",
      "numpy.tril_indices_from\n",
      "    Return the indices for the lower-triangle of arr.\n",
      "numpy.triu_indices_from\n",
      "    Return the indices for the upper-triangle of arr.\n",
      "numpy.char.add\n",
      "    Return element-wise string concatenation for two arrays of str or unicode.\n",
      "numpy.datetime_as_string\n",
      "    Convert an array of datetimes into an array of strings.\n",
      "numpy.char.mod\n",
      "    Return (a % i), that is pre-Python 2.6 string formatting\n",
      "numpy.ma.cov\n",
      "    Estimate the covariance matrix.\n",
      "numpy.str0.lstrip\n",
      "    Return a copy of the string with leading whitespace removed.\n",
      "numpy.str0.rstrip\n",
      "    Return a copy of the string with trailing whitespace removed.\n",
      "numpy.ma.sin\n",
      "    Trigonometric sine, element-wise.\n",
      "numpy.bool8.all\n",
      "    Scalar method identical to the corresponding array attribute.\n",
      "numpy.bool8.any\n",
      "    Scalar method identical to the corresponding array attribute.\n",
      "numpy.bool8.max\n",
      "    Scalar method identical to the corresponding array attribute.\n",
      "numpy.bool8.min\n",
      "    Scalar method identical to the corresponding array attribute.\n",
      "numpy.bool8.ptp\n",
      "    Scalar method identical to the corresponding array attribute.\n",
      "numpy.bool8.put\n",
      "    Scalar method identical to the corresponding array attribute.\n",
      "numpy.matrix.ravel\n",
      "    Return a flattened matrix.\n",
      "numpy.bool8.std\n",
      "    Scalar method identical to the corresponding array attribute.\n",
      "numpy.bool8.sum\n",
      "    Scalar method identical to the corresponding array attribute.\n",
      "numpy.bool8.var\n",
      "    Scalar method identical to the corresponding array attribute.\n",
      "numpy.char.find\n",
      "    For each element, return the lowest index in the string where\n",
      "numpy.char.join\n",
      "    Return a string which is the concatenation of the strings in the\n",
      "numpy.format_parser\n",
      "    Class to convert formats, names, titles description to a dtype.\n",
      "numpy.bool8.clip\n",
      "    Scalar method identical to the corresponding array attribute.\n",
      "numpy.bool8.copy\n",
      "    Scalar method identical to the corresponding array attribute.\n",
      "numpy.bool8.dump\n",
      "    Scalar method identical to the corresponding array attribute.\n",
      "numpy.bool8.fill\n",
      "    Scalar method identical to the corresponding array attribute.\n",
      "numpy.bool8.item\n",
      "    Scalar method identical to the corresponding array attribute.\n",
      "numpy.bool8.mean\n",
      "    Scalar method identical to the corresponding array attribute.\n",
      "numpy.bool8.prod\n",
      "    Scalar method identical to the corresponding array attribute.\n",
      "numpy.bool8.sort\n",
      "    Scalar method identical to the corresponding array attribute.\n",
      "numpy.matrix.tolist\n",
      "    Return the matrix as a (possibly nested) list.\n",
      "numpy.bool8.take\n",
      "    Scalar method identical to the corresponding array attribute.\n",
      "numpy.bool8.view\n",
      "    Scalar method identical to the corresponding array attribute.\n",
      "numpy.bytes0.hex\n",
      "    Create a string of hexadecimal numbers from a bytes object.\n",
      "numpy.char.count\n",
      "    Returns an array with the number of non-overlapping occurrences of\n",
      "numpy.char.index\n",
      "    Like `find`, but raises `ValueError` when the substring is not found.\n",
      "numpy.char.ljust\n",
      "    Return an array with the elements of `a` left-justified in a\n",
      "numpy.char.rfind\n",
      "    For each element in `a`, return the highest index in the string\n",
      "numpy.char.rjust\n",
      "    Return an array with the elements of `a` right-justified in a\n",
      "numpy.char.split\n",
      "    For each element in `a`, return a list of the words in the\n",
      "numpy.char.title\n",
      "    Return element-wise title cased version of string or unicode.\n",
      "numpy.char.zfill\n",
      "    Return the numeric string left-filled with zeros\n",
      "numpy.ma.empty\n",
      "    Return a new array of given shape and type, without initializing entries.\n",
      "numpy.ma.hypot\n",
      "    Given the \"legs\" of a right triangle, return its hypotenuse.\n",
      "numpy.bool8.dumps\n",
      "    Scalar method identical to the corresponding array attribute.\n",
      "numpy.matrix.flatten\n",
      "    Return a flattened copy of the matrix.\n",
      "numpy.bool8.ravel\n",
      "    Scalar method identical to the corresponding array attribute.\n",
      "numpy.bool8.round\n",
      "    Scalar method identical to the corresponding array attribute.\n",
      "numpy.matrix.squeeze\n",
      "    Return a possibly reshaped matrix.\n",
      "numpy.bool8.trace\n",
      "    Scalar method identical to the corresponding array attribute.\n",
      "numpy.linalg.qr\n",
      "    Compute the qr factorization of a matrix.\n",
      "numpy.char.center\n",
      "    Return a copy of `a` with its elements centered in a string of\n",
      "numpy.char.rindex\n",
      "    Like `rfind`, but raises `ValueError` when the substring `sub` is\n",
      "numpy.char.rsplit\n",
      "    For each element in `a`, return a list of the words in the\n",
      "numpy.ma.arccos\n",
      "    Trigonometric inverse cosine, element-wise.\n",
      "numpy.ma.arctan\n",
      "    Trigonometric inverse tangent, element-wise.\n",
      "numpy.ma.vander\n",
      "    Generate a Vandermonde matrix.\n",
      "numpy.bool8.argmax\n",
      "    Scalar method identical to the corresponding array attribute.\n",
      "numpy.bool8.argmin\n",
      "    Scalar method identical to the corresponding array attribute.\n",
      "numpy.bool8.astype\n",
      "    Scalar method identical to the corresponding array attribute.\n",
      "numpy.bool8.choose\n",
      "    Scalar method identical to the corresponding array attribute.\n",
      "numpy.bool8.cumsum\n",
      "    Scalar method identical to the corresponding array attribute.\n",
      "numpy.bool8.repeat\n",
      "    Scalar method identical to the corresponding array attribute.\n",
      "numpy.bool8.resize\n",
      "    Scalar method identical to the corresponding array attribute.\n",
      "numpy.bool8.tofile\n",
      "    Scalar method identical to the corresponding array attribute.\n",
      "numpy.bool8.tolist\n",
      "    Scalar method identical to the corresponding array attribute.\n",
      "numpy.bytes0.ljust\n",
      "    Return a left-justified string of length width.\n",
      "numpy.bytes0.rjust\n",
      "    Return a right-justified string of length width.\n",
      "numpy.linalg.inv\n",
      "    Compute the (multiplicative) inverse of a matrix.\n",
      "numpy.bytes0.zfill\n",
      "    Pad a numeric string with zeros on the left, to fill a field of the given width.\n",
      "numpy.linalg.svd\n",
      "    Singular Value Decomposition.\n",
      "numpy.char.isalnum\n",
      "    Returns true for each element if all characters in the string are\n",
      "numpy.char.isalpha\n",
      "    Returns true for each element if all characters in the string are\n",
      "numpy.char.isdigit\n",
      "    Returns true for each element if all characters in the string are\n",
      "numpy.char.islower\n",
      "    Returns true for each element if all cased characters in the\n",
      "numpy.char.isspace\n",
      "    Returns true for each element if there are only whitespace\n",
      "numpy.char.istitle\n",
      "    Returns true for each element if the element is a titlecased\n",
      "numpy.char.isupper\n",
      "    Returns true for each element if all cased characters in the\n",
      "numpy.char.replace\n",
      "    For each element in `a`, return a copy of the string with all\n",
      "numpy.array_api.abs\n",
      "    Array API compatible wrapper for :py:func:`np.abs <numpy.abs>`.\n",
      "numpy.array_api.add\n",
      "    Array API compatible wrapper for :py:func:`np.add <numpy.add>`.\n",
      "numpy.array_api.all\n",
      "    Array API compatible wrapper for :py:func:`np.all <numpy.all>`.\n",
      "numpy.array_api.any\n",
      "    Array API compatible wrapper for :py:func:`np.any <numpy.any>`.\n",
      "numpy.str0.find\n",
      "    Return the lowest index in S where substring sub is found,\n",
      "numpy.str0.join\n",
      "    Concatenate any number of strings.\n",
      "numpy.array_api.cos\n",
      "    Array API compatible wrapper for :py:func:`np.cos <numpy.cos>`.\n",
      "numpy.array_api.exp\n",
      "    Array API compatible wrapper for :py:func:`np.exp <numpy.exp>`.\n",
      "numpy.array_api.eye\n",
      "    Array API compatible wrapper for :py:func:`np.eye <numpy.eye>`.\n",
      "numpy.array_api.log\n",
      "    Array API compatible wrapper for :py:func:`np.log <numpy.log>`.\n",
      "numpy.array_api.pow\n",
      "    Array API compatible wrapper for :py:func:`np.power <numpy.power>`.\n",
      "numpy.array_api.sin\n",
      "    Array API compatible wrapper for :py:func:`np.sin <numpy.sin>`.\n",
      "numpy.array_api.tan\n",
      "    Array API compatible wrapper for :py:func:`np.tan <numpy.tan>`.\n",
      "numpy.matlib.eye\n",
      "    Return a matrix with ones on the diagonal and zeros elsewhere.\n",
      "numpy.chararray.tostring\n",
      "    A compatibility alias for `tobytes`, with exactly the same behavior.\n",
      "numpy.bool8.argsort\n",
      "    Scalar method identical to the corresponding array attribute.\n",
      "numpy.bool8.cumprod\n",
      "    Scalar method identical to the corresponding array attribute.\n",
      "numpy.bool8.flatten\n",
      "    Scalar method identical to the corresponding array attribute.\n",
      "numpy.bool8.itemset\n",
      "    Scalar method identical to the corresponding array attribute.\n",
      "numpy.bool8.nonzero\n",
      "    Scalar method identical to the corresponding array attribute.\n",
      "numpy.bool8.reshape\n",
      "    Scalar method identical to the corresponding array attribute.\n",
      "numpy.bool8.squeeze\n",
      "    Scalar method identical to the corresponding array attribute.\n",
      "numpy._add_newdoc_ufunc\n",
      "    Replace the docstring for a ufunc with new_docstring.\n",
      "numpy.bytes0.center\n",
      "    Return a centered string of length width.\n",
      "numpy.linalg.cond\n",
      "    Compute the condition number of a matrix.\n",
      "numpy.linalg.eigh\n",
      "    Return the eigenvalues and eigenvectors of a complex Hermitian\n",
      "numpy.linalg.norm\n",
      "    Matrix or vector norm.\n",
      "numpy.linalg.pinv\n",
      "    Compute the (Moore-Penrose) pseudo-inverse of a matrix.\n",
      "numpy.char.endswith\n",
      "    Returns a boolean array which is `True` where the string element\n",
      "numpy.ma.allequal\n",
      "    Return True if all entries of a and b are equal, using\n",
      "numpy.char.multiply\n",
      "    Return (a * i), that is string multiple concatenation,\n",
      "numpy.char.swapcase\n",
      "    Return element-wise a copy of the string with\n",
      "numpy.f2py.compile\n",
      "    Build extension module from a Fortran 77 source string with f2py.\n",
      "numpy.array_api.acos\n",
      "    Array API compatible wrapper for :py:func:`np.arccos <numpy.arccos>`.\n",
      "numpy.str0.count\n",
      "    Return the number of non-overlapping occurrences of substring sub in\n",
      "numpy.array_api.asin\n",
      "    Array API compatible wrapper for :py:func:`np.arcsin <numpy.arcsin>`.\n",
      "numpy.str0.index\n",
      "    Return the lowest index in S where substring sub is found,\n",
      "numpy.array_api.atan\n",
      "    Array API compatible wrapper for :py:func:`np.arctan <numpy.arctan>`.\n",
      "numpy.array_api.ceil\n",
      "    Array API compatible wrapper for :py:func:`np.ceil <numpy.ceil>`.\n",
      "numpy.str0.ljust\n",
      "    Return a left-justified string of length width.\n",
      "numpy.str0.lower\n",
      "    Return a copy of the string converted to lowercase.\n",
      "numpy.array_api.cosh\n",
      "    Array API compatible wrapper for :py:func:`np.cosh <numpy.cosh>`.\n",
      "numpy.str0.rfind\n",
      "    Return the highest index in S where substring sub is found,\n",
      "numpy.str0.rjust\n",
      "    Return a right-justified string of length width.\n",
      "numpy.array_api.flip\n",
      "    Array API compatible wrapper for :py:func:`np.flip <numpy.flip>`.\n",
      "numpy.str0.split\n",
      "    Return a list of the substrings in the string, using sep as the separator string.\n",
      "numpy.array_api.full\n",
      "    Array API compatible wrapper for :py:func:`np.full <numpy.full>`.\n",
      "numpy.str0.title\n",
      "    Return a version of the string where each word is titlecased.\n",
      "numpy.str0.upper\n",
      "    Return a copy of the string converted to uppercase.\n",
      "numpy.str0.zfill\n",
      "    Pad a numeric string with zeros on the left, to fill a field of the given width.\n",
      "numpy.array_api.less\n",
      "    Array API compatible wrapper for :py:func:`np.less <numpy.less>`.\n",
      "numpy.array_api.log2\n",
      "    Array API compatible wrapper for :py:func:`np.log2 <numpy.log2>`.\n",
      "numpy.array_api.ones\n",
      "    Array API compatible wrapper for :py:func:`np.ones <numpy.ones>`.\n",
      "numpy.array_api.roll\n",
      "    Array API compatible wrapper for :py:func:`np.roll <numpy.roll>`.\n",
      "numpy.array_api.sign\n",
      "    Array API compatible wrapper for :py:func:`np.sign <numpy.sign>`.\n",
      "numpy.array_api.sinh\n",
      "    Array API compatible wrapper for :py:func:`np.sinh <numpy.sinh>`.\n",
      "numpy.array_api.sort\n",
      "    Array API compatible wrapper for :py:func:`np.sort <numpy.sort>`.\n",
      "numpy.array_api.sqrt\n",
      "    Array API compatible wrapper for :py:func:`np.sqrt <numpy.sqrt>`.\n",
      "numpy.array_api.tanh\n",
      "    Array API compatible wrapper for :py:func:`np.tanh <numpy.tanh>`.\n",
      "numpy.matlib.ones\n",
      "    Matrix of ones.\n",
      "numpy.matlib.rand\n",
      "    Return a matrix of random values with given shape.\n",
      "numpy.bool8.byteswap\n",
      "    Scalar method identical to the corresponding array attribute.\n",
      "numpy.bool8.compress\n",
      "    Scalar method identical to the corresponding array attribute.\n",
      "numpy.bool8.diagonal\n",
      "    Scalar method identical to the corresponding array attribute.\n",
      "numpy.bool8.getfield\n",
      "    Scalar method identical to the corresponding array attribute.\n",
      "numpy.bool8.setfield\n",
      "    Scalar method identical to the corresponding array attribute.\n",
      "numpy.bool8.setflags\n",
      "    Scalar method identical to the corresponding array attribute.\n",
      "numpy.bool8.swapaxes\n",
      "    Scalar method identical to the corresponding array attribute.\n",
      "numpy.bytes0.fromhex\n",
      "    Create a bytes object from a string of hexadecimal numbers.\n",
      "numpy.bytes0.istitle\n",
      "    B.istitle() -> bool\n",
      "numpy.bytes0.replace\n",
      "    Return a copy with all occurrences of substring old replaced by new.\n",
      "numpy.linalg.lstsq\n",
      "    Return the least-squares solution to a linear matrix equation.\n",
      "numpy.linalg.matrix_rank\n",
      "    Return matrix rank of array using SVD method\n",
      "numpy.linalg.solve\n",
      "    Solve a linear matrix equation, or system of linear scalar equations.\n",
      "numpy.compare_chararrays\n",
      "    Performs element-wise comparison of two string arrays using the\n",
      "numpy.deprecate_with_doc\n",
      "    Deprecates a function and includes the deprecation in its docstring.\n",
      "numpy.char.translate\n",
      "    For each element in `a`, return a copy of the string where all\n",
      "numpy.array_api.acosh\n",
      "    Array API compatible wrapper for :py:func:`np.arccosh <numpy.arccosh>`.\n",
      "numpy.str0.center\n",
      "    Return a centered string of length width.\n",
      "numpy.str0.encode\n",
      "    Encode the string using the codec registered for encoding.\n",
      "numpy.array_api.asinh\n",
      "    Array API compatible wrapper for :py:func:`np.arcsinh <numpy.arcsinh>`.\n",
      "numpy.array_api.atan2\n",
      "    Array API compatible wrapper for :py:func:`np.arctan2 <numpy.arctan2>`.\n",
      "numpy.array_api.atanh\n",
      "    Array API compatible wrapper for :py:func:`np.arctanh <numpy.arctanh>`.\n",
      "numpy.array_api.empty\n",
      "    Array API compatible wrapper for :py:func:`np.empty <numpy.empty>`.\n",
      "numpy.array_api.equal\n",
      "    Array API compatible wrapper for :py:func:`np.equal <numpy.equal>`.\n",
      "numpy.str0.rindex\n",
      "    Return the highest index in S where substring sub is found,\n",
      "numpy.array_api.expm1\n",
      "    Array API compatible wrapper for :py:func:`np.expm1 <numpy.expm1>`.\n",
      "numpy.array_api.finfo\n",
      "    Array API compatible wrapper for :py:func:`np.finfo <numpy.finfo>`.\n",
      "numpy.str0.rsplit\n",
      "    Return a list of the substrings in the string, using sep as the separator string.\n",
      "numpy.array_api.floor\n",
      "    Array API compatible wrapper for :py:func:`np.floor <numpy.floor>`.\n",
      "numpy.array_api.iinfo\n",
      "    Array API compatible wrapper for :py:func:`np.iinfo <numpy.iinfo>`.\n",
      "numpy.array_api.isinf\n",
      "    Array API compatible wrapper for :py:func:`np.isinf <numpy.isinf>`.\n",
      "numpy.array_api.isnan\n",
      "    Array API compatible wrapper for :py:func:`np.isnan <numpy.isnan>`.\n",
      "numpy.array_api.log10\n",
      "    Array API compatible wrapper for :py:func:`np.log10 <numpy.log10>`.\n",
      "numpy.array_api.log1p\n",
      "    Array API compatible wrapper for :py:func:`np.log1p <numpy.log1p>`.\n",
      "numpy.array_api.round\n",
      "    Array API compatible wrapper for :py:func:`np.round <numpy.round>`.\n",
      "numpy.array_api.stack\n",
      "    Array API compatible wrapper for :py:func:`np.stack <numpy.stack>`.\n",
      "numpy.array_api.trunc\n",
      "    Array API compatible wrapper for :py:func:`np.trunc <numpy.trunc>`.\n",
      "numpy.chararray.find\n",
      "    For each element, return the lowest index in the string where\n",
      "numpy.array_api.where\n",
      "    Array API compatible wrapper for :py:func:`np.where <numpy.where>`.\n",
      "numpy.array_api.zeros\n",
      "    Array API compatible wrapper for :py:func:`np.zeros <numpy.zeros>`.\n",
      "numpy.chararray.join\n",
      "    Return a string which is the concatenation of the strings in the\n",
      "numpy.matlib.empty\n",
      "    Return a new matrix of given shape and type, without initializing entries.\n",
      "numpy.matlib.randn\n",
      "    Return a random matrix with data from the \"standard normal\" distribution.\n",
      "numpy.matlib.zeros\n",
      "    Return a matrix of given shape and type, filled with zeros.\n",
      "numpy.bool8.conjugate\n",
      "    Scalar method identical to the corresponding array attribute.\n",
      "numpy.iinfo.__str__\n",
      "    String representation.\n",
      "numpy.bool8.transpose\n",
      "    Scalar method identical to the corresponding array attribute.\n",
      "numpy.linalg.matrix_power\n",
      "    Raise a square matrix to the (integer) power `n`.\n",
      "numpy.double.fromhex\n",
      "    Create a floating-point number from a hexadecimal string.\n",
      "numpy.char.expandtabs\n",
      "    Return a copy of each string element where all tab characters are\n",
      "numpy.char.startswith\n",
      "    Returns a boolean array which is `True` where the string element\n",
      "numpy.array_api.arange\n",
      "    Array API compatible wrapper for :py:func:`np.arange <numpy.arange>`.\n",
      "numpy.array_api.argmax\n",
      "    Array API compatible wrapper for :py:func:`np.argmax <numpy.argmax>`.\n",
      "numpy.array_api.argmin\n",
      "    Array API compatible wrapper for :py:func:`np.argmin <numpy.argmin>`.\n",
      "numpy.str0.isalnum\n",
      "    Return True if the string is an alpha-numeric string, False otherwise.\n",
      "numpy.str0.isalpha\n",
      "    Return True if the string is an alphabetic string, False otherwise.\n",
      "numpy.str0.isascii\n",
      "    Return True if all characters in the string are ASCII, False otherwise.\n",
      "numpy.str0.isdigit\n",
      "    Return True if the string is a digit string, False otherwise.\n",
      "numpy.str0.islower\n",
      "    Return True if the string is a lowercase string, False otherwise.\n",
      "numpy.str0.isspace\n",
      "    Return True if the string is a whitespace string, False otherwise.\n",
      "numpy.str0.istitle\n",
      "    Return True if the string is a title-cased string, False otherwise.\n",
      "numpy.str0.isupper\n",
      "    Return True if the string is an uppercase string, False otherwise.\n",
      "numpy.array_api.concat\n",
      "    Array API compatible wrapper for :py:func:`np.concatenate <numpy.concatenate>`.\n",
      "numpy.array_api.divide\n",
      "    Array API compatible wrapper for :py:func:`np.divide <numpy.divide>`.\n",
      "numpy.str0.replace\n",
      "    Return a copy with all occurrences of substring old replaced by new.\n",
      "numpy.array_api.matmul\n",
      "    Array API compatible wrapper for :py:func:`np.matmul <numpy.matmul>`.\n",
      "numpy.array_api.square\n",
      "    Array API compatible wrapper for :py:func:`np.square <numpy.square>`.\n",
      "numpy.chararray.count\n",
      "    Returns an array with the number of non-overlapping occurrences of\n",
      "numpy.chararray.dumps\n",
      "    a.dumps()\n",
      "numpy.chararray.index\n",
      "    Like `find`, but raises `ValueError` when the substring is not found.\n",
      "numpy.chararray.ljust\n",
      "    Return an array with the elements of `self` left-justified in a\n",
      "numpy.chararray.rfind\n",
      "    For each element in `self`, return the highest index in the string\n",
      "numpy.chararray.rjust\n",
      "    Return an array with the elements of `self`\n",
      "numpy.chararray.split\n",
      "    For each element in `self`, return a list of the words in the\n",
      "numpy.chararray.title\n",
      "    For each element in `self`, return a titlecased version of the\n",
      "numpy.matlib.repmat\n",
      "    Repeat a 0-D to 2-D array or matrix MxN times.\n",
      "numpy.chararray.zfill\n",
      "    Return the numeric string left-filled with zeros in a string of\n",
      "numpy.linalg.eigvals\n",
      "    Compute the eigenvalues of a general matrix.\n",
      "numpy.str0.casefold\n",
      "    Return a version of the string suitable for caseless comparisons.\n",
      "numpy.array_api.argsort\n",
      "    Array API compatible wrapper for :py:func:`np.argsort <numpy.argsort>`.\n",
      "numpy.array_api.asarray\n",
      "    Array API compatible wrapper for :py:func:`np.asarray <numpy.asarray>`.\n",
      "numpy.array_api.greater\n",
      "    Array API compatible wrapper for :py:func:`np.greater <numpy.greater>`.\n",
      "numpy.array_api.nonzero\n",
      "    Array API compatible wrapper for :py:func:`np.nonzero <numpy.nonzero>`.\n",
      "numpy.array_api.reshape\n",
      "    Array API compatible wrapper for :py:func:`np.reshape <numpy.reshape>`.\n",
      "numpy.chararray.center\n",
      "    Return a copy of `self` with its elements centered in a\n",
      "numpy.array_api.squeeze\n",
      "    Array API compatible wrapper for :py:func:`np.squeeze <numpy.squeeze>`.\n",
      "numpy.chararray.rindex\n",
      "    Like `rfind`, but raises `ValueError` when the substring `sub` is\n",
      "numpy.chararray.rsplit\n",
      "    For each element in `self`, return a list of the words in\n",
      "numpy.linalg.cholesky\n",
      "    Cholesky decomposition.\n",
      "numpy.linalg.eigvalsh\n",
      "    Compute the eigenvalues of a complex Hermitian or real symmetric matrix.\n",
      "numpy.chararray.__add__\n",
      "    Return (self + other), that is string concatenation,\n",
      "numpy.str0.isdecimal\n",
      "    Return True if the string is a decimal string, False otherwise.\n",
      "numpy.str0.isnumeric\n",
      "    Return True if the string is a numeric string, False otherwise.\n",
      "numpy.array_api.can_cast\n",
      "    Array API compatible wrapper for :py:func:`np.can_cast <numpy.can_cast>`.\n",
      "numpy.str0.partition\n",
      "    Partition the string into three parts using the given separator.\n",
      "numpy.str0.translate\n",
      "    Replace each character in the string using the given translation table.\n",
      "numpy.chararray.__mod__\n",
      "    Return (self % i), that is pre-Python 2.6 string formatting\n",
      "numpy.chararray.__mul__\n",
      "    Return (self * i), that is string multiple concatenation,\n",
      "numpy.array_api.isfinite\n",
      "    Array API compatible wrapper for :py:func:`np.isfinite <numpy.isfinite>`.\n",
      "numpy.array_api.linspace\n",
      "    Array API compatible wrapper for :py:func:`np.linspace <numpy.linspace>`.\n",
      "numpy.array_api.meshgrid\n",
      "    Array API compatible wrapper for :py:func:`np.meshgrid <numpy.meshgrid>`.\n",
      "numpy.array_api.multiply\n",
      "    Array API compatible wrapper for :py:func:`np.multiply <numpy.multiply>`.\n",
      "numpy.array_api.negative\n",
      "    Array API compatible wrapper for :py:func:`np.negative <numpy.negative>`.\n",
      "numpy.array_api.positive\n",
      "    Array API compatible wrapper for :py:func:`np.positive <numpy.positive>`.\n",
      "numpy.array_api.subtract\n",
      "    Array API compatible wrapper for :py:func:`np.subtract <numpy.subtract>`.\n",
      "numpy.chararray.isalnum\n",
      "    Returns true for each element if all characters in the string\n",
      "numpy.chararray.isalpha\n",
      "    Returns true for each element if all characters in the string\n",
      "numpy.chararray.isdigit\n",
      "    Returns true for each element if all characters in the string are\n",
      "numpy.chararray.islower\n",
      "    Returns true for each element if all cased characters in the\n",
      "numpy.chararray.isspace\n",
      "    Returns true for each element if there are only whitespace\n",
      "numpy.chararray.istitle\n",
      "    Returns true for each element if the element is a titlecased\n",
      "numpy.chararray.isupper\n",
      "    Returns true for each element if all cased characters in the\n",
      "numpy.chararray.replace\n",
      "    For each element in `self`, return a copy of the string with all\n",
      "numpy.matlib.identity\n",
      "    Returns the square identity matrix of given size.\n",
      "numpy.bool8.searchsorted\n",
      "    Scalar method identical to the corresponding array attribute.\n",
      "numpy.record.getfield\n",
      "    Scalar method identical to the corresponding array attribute.\n",
      "numpy.record.setfield\n",
      "    Scalar method identical to the corresponding array attribute.\n",
      "numpy.str0.__format__\n",
      "    Return a formatted version of the string as described by format_spec.\n",
      "numpy.str0.__sizeof__\n",
      "    Return the size of the string in memory, in bytes.\n",
      "numpy.str0.capitalize\n",
      "    Return a capitalized version of the string.\n",
      "numpy.str0.rpartition\n",
      "    Partition the string into three parts using the given separator.\n",
      "numpy.str0.splitlines\n",
      "    Return a list of the lines in the string, breaking at line boundaries.\n",
      "numpy.array_api.full_like\n",
      "    Array API compatible wrapper for :py:func:`np.full_like <numpy.full_like>`.\n",
      "numpy.chararray.__radd__\n",
      "    Return (other + self), that is string concatenation,\n",
      "numpy.array_api.logaddexp\n",
      "    Array API compatible wrapper for :py:func:`np.logaddexp <numpy.logaddexp>`.\n",
      "numpy.chararray.__rmul__\n",
      "    Return (self * i), that is string multiple concatenation,\n",
      "numpy.testing.measure\n",
      "    Return elapsed time for executing code in the namespace of the caller.\n",
      "numpy.array_api.not_equal\n",
      "    Array API compatible wrapper for :py:func:`np.not_equal <numpy.not_equal>`.\n",
      "numpy.array_api.ones_like\n",
      "    Array API compatible wrapper for :py:func:`np.ones_like <numpy.ones_like>`.\n",
      "numpy.array_api.remainder\n",
      "    Array API compatible wrapper for :py:func:`np.remainder <numpy.remainder>`.\n",
      "numpy.chararray.endswith\n",
      "    Returns a boolean array which is `True` where the string element\n",
      "numpy.chararray.swapcase\n",
      "    For each element in `self`, return a copy of the string with\n",
      "numpy.bytes0.removeprefix\n",
      "    Return a bytes object with the given prefix string removed if present.\n",
      "numpy.bytes0.removesuffix\n",
      "    Return a bytes object with the given suffix string removed if present.\n",
      "numpy.format_float_positional\n",
      "    Format a floating-point scalar as a decimal string in positional notation.\n",
      "numpy.format_float_scientific\n",
      "    Format a floating-point scalar as a decimal string in scientific notation.\n",
      "numpy.array_api.bitwise_or\n",
      "    Array API compatible wrapper for :py:func:`np.bitwise_or <numpy.bitwise_or>`.\n",
      "numpy.str0.isprintable\n",
      "    Return True if the string is printable, False otherwise.\n",
      "numpy.array_api.empty_like\n",
      "    Array API compatible wrapper for :py:func:`np.empty_like <numpy.empty_like>`.\n",
      "numpy.array_api.less_equal\n",
      "    Array API compatible wrapper for :py:func:`np.less_equal <numpy.less_equal>`.\n",
      "numpy.array_api.logical_or\n",
      "    Array API compatible wrapper for :py:func:`np.logical_or <numpy.logical_or>`.\n",
      "numpy.ma.make_mask_none\n",
      "    Return a boolean mask of the given shape, filled with False.\n",
      "numpy.array_api.unique_all\n",
      "    Array API compatible wrapper for :py:func:`np.unique <numpy.unique>`.\n",
      "numpy.array_api.zeros_like\n",
      "    Array API compatible wrapper for :py:func:`np.zeros_like <numpy.zeros_like>`.\n",
      "numpy.chararray.translate\n",
      "    For each element in `self`, return a copy of the string where\n",
      "numpy.array_api.bitwise_and\n",
      "    Array API compatible wrapper for :py:func:`np.bitwise_and <numpy.bitwise_and>`.\n",
      "numpy.str0.isidentifier\n",
      "    Return True if the string is a valid Python identifier, False otherwise.\n",
      "numpy.array_api.bitwise_xor\n",
      "    Array API compatible wrapper for :py:func:`np.bitwise_xor <numpy.bitwise_xor>`.\n",
      "numpy.str0.removeprefix\n",
      "    Return a str with the given prefix string removed if present.\n",
      "numpy.str0.removesuffix\n",
      "    Return a str with the given suffix string removed if present.\n",
      "numpy.array_api.expand_dims\n",
      "    Array API compatible wrapper for :py:func:`np.expand_dims <numpy.expand_dims>`.\n",
      "numpy.array_api.logical_and\n",
      "    Array API compatible wrapper for :py:func:`np.logical_and <numpy.logical_and>`.\n",
      "numpy.array_api.logical_not\n",
      "    Array API compatible wrapper for :py:func:`np.logical_not <numpy.logical_not>`.\n",
      "numpy.array_api.logical_xor\n",
      "    Array API compatible wrapper for :py:func:`np.logical_xor <numpy.logical_xor>`.\n",
      "numpy.array_api.result_type\n",
      "    Array API compatible wrapper for :py:func:`np.result_type <numpy.result_type>`.\n",
      "numpy.chararray.expandtabs\n",
      "    Return a copy of each string element where all tab characters are\n",
      "numpy.chararray.startswith\n",
      "    Returns a boolean array which is `True` where the string element\n",
      "numpy.matrix.__class_getitem__\n",
      "    Return a parametrized wrapper around the `~numpy.ndarray` type.\n",
      "numpy.array_api.broadcast_to\n",
      "    Array API compatible wrapper for :py:func:`np.broadcast_to <numpy.broadcast_to>`.\n",
      "numpy.array_api.floor_divide\n",
      "    Array API compatible wrapper for :py:func:`np.floor_divide <numpy.floor_divide>`.\n",
      "numpy.array_api.permute_dims\n",
      "    Array API compatible wrapper for :py:func:`np.transpose <numpy.transpose>`.\n",
      "numpy.byte.__class_getitem__\n",
      "    Return a parametrized wrapper around the `~numpy.number` type.\n",
      "numpy.array_api.greater_equal\n",
      "    Array API compatible wrapper for :py:func:`np.greater_equal <numpy.greater_equal>`.\n",
      "numpy.array_api.unique_values\n",
      "    Array API compatible wrapper for :py:func:`np.unique <numpy.unique>`.\n",
      "numpy.array_api.bitwise_invert\n",
      "    Array API compatible wrapper for :py:func:`np.invert <numpy.invert>`.\n",
      "numpy.array_api.unique_inverse\n",
      "    Array API compatible wrapper for :py:func:`np.unique <numpy.unique>`.\n",
      "numpy.int0.__class_getitem__\n",
      "    Return a parametrized wrapper around the `~numpy.number` type.\n",
      "numpy.dtype.__class_getitem__\n",
      "    Return a parametrized wrapper around the `~numpy.dtype` type.\n",
      "numpy.testing.assert_string_equal\n",
      "    Test if two strings are equal.\n",
      "numpy.int16.__class_getitem__\n",
      "    Return a parametrized wrapper around the `~numpy.number` type.\n",
      "numpy.int32.__class_getitem__\n",
      "    Return a parametrized wrapper around the `~numpy.number` type.\n",
      "numpy.double.__class_getitem__\n",
      "    Return a parametrized wrapper around the `~numpy.number` type.\n",
      "numpy.cdouble.__class_getitem__\n",
      "    Return a parametrized wrapper around the `~numpy.number` type.\n",
      "numpy.array_api.broadcast_arrays\n",
      "    Array API compatible wrapper for :py:func:`np.broadcast_arrays <numpy.broadcast_arrays>`.\n",
      "numpy.uint.__class_getitem__\n",
      "    Return a parametrized wrapper around the `~numpy.number` type.\n",
      "numpy.array_api.linalg.qr\n",
      "    Array API compatible wrapper for :py:func:`np.linalg.qr <numpy.linalg.qr>`.\n",
      "numpy.float16.__class_getitem__\n",
      "    Return a parametrized wrapper around the `~numpy.number` type.\n",
      "numpy.ubyte.__class_getitem__\n",
      "    Return a parametrized wrapper around the `~numpy.number` type.\n",
      "numpy.float32.__class_getitem__\n",
      "    Return a parametrized wrapper around the `~numpy.number` type.\n",
      "numpy.inexact.__class_getitem__\n",
      "    Return a parametrized wrapper around the `~numpy.number` type.\n",
      "numpy.array_api.linalg.det\n",
      "    Array API compatible wrapper for :py:func:`np.linalg.det <numpy.linalg.det>`.\n",
      "numpy.array_api.linalg.inv\n",
      "    Array API compatible wrapper for :py:func:`np.linalg.inv <numpy.linalg.inv>`.\n",
      "numpy.memmap.__class_getitem__\n",
      "    Return a parametrized wrapper around the `~numpy.ndarray` type.\n",
      "numpy.array_api.linalg.svd\n",
      "    Array API compatible wrapper for :py:func:`np.linalg.svd <numpy.linalg.svd>`.\n",
      "numpy.compat._pep440.parse\n",
      "    Parse the given version string and return either a :class:`Version` object\n",
      "numpy.number.__class_getitem__\n",
      "    Return a parametrized wrapper around the `~numpy.number` type.\n",
      "numpy.integer.__class_getitem__\n",
      "    Return a parametrized wrapper around the `~numpy.number` type.\n",
      "numpy.chararray.__class_getitem__\n",
      "    Return a parametrized wrapper around the `~numpy.ndarray` type.\n",
      "numpy.array_api.bitwise_left_shift\n",
      "    Array API compatible wrapper for :py:func:`np.left_shift <numpy.left_shift>`.\n",
      "numpy.float128.__class_getitem__\n",
      "    Return a parametrized wrapper around the `~numpy.number` type.\n",
      "numpy.floating.__class_getitem__\n",
      "    Return a parametrized wrapper around the `~numpy.number` type.\n",
      "numpy.ma.MaskedArray.dot\n",
      "    Masked dot product of two arrays. Note that `out` and `strict` are\n",
      "numpy.array_api.linalg.eigh\n",
      "    Array API compatible wrapper for :py:func:`np.linalg.eigh <numpy.linalg.eigh>`.\n",
      "numpy.ma.MaskedArray.std\n",
      "    Returns the standard deviation of the array elements along given axis.\n",
      "numpy.uint16.__class_getitem__\n",
      "    Return a parametrized wrapper around the `~numpy.number` type.\n",
      "numpy.array_api.linalg.pinv\n",
      "    Array API compatible wrapper for :py:func:`np.linalg.pinv <numpy.linalg.pinv>`.\n",
      "numpy.ndarray.__class_getitem__\n",
      "    Return a parametrized wrapper around the `~numpy.ndarray` type.\n",
      "numpy.complex64.__class_getitem__\n",
      "    Return a parametrized wrapper around the `~numpy.number` type.\n",
      "numpy.uint32.__class_getitem__\n",
      "    Return a parametrized wrapper around the `~numpy.number` type.\n",
      "numpy.longlong.__class_getitem__\n",
      "    Return a parametrized wrapper around the `~numpy.number` type.\n",
      "numpy.array_api.bitwise_right_shift\n",
      "    Array API compatible wrapper for :py:func:`np.right_shift <numpy.right_shift>`.\n",
      "numpy.ma.MaskedArray.mean\n",
      "    Returns the average of the array elements along given axis.\n",
      "numpy.random.Generator.f\n",
      "    Draw samples from an F distribution.\n",
      "numpy.array_api.linalg.cross\n",
      "    Array API compatible wrapper for :py:func:`np.cross <numpy.cross>`.\n",
      "numpy.array_api.linalg.matrix_norm\n",
      "    Array API compatible wrapper for :py:func:`np.linalg.norm <numpy.linalg.norm>`.\n",
      "numpy.array_api.linalg.matrix_rank\n",
      "    Array API compatible wrapper for :py:func:`np.matrix_rank <numpy.matrix_rank>`.\n",
      "numpy.array_api.linalg.outer\n",
      "    Array API compatible wrapper for :py:func:`np.outer <numpy.outer>`.\n",
      "numpy.array_api.linalg.solve\n",
      "    Array API compatible wrapper for :py:func:`np.linalg.solve <numpy.linalg.solve>`.\n",
      "numpy.array_api.linalg.trace\n",
      "    Array API compatible wrapper for :py:func:`np.trace <numpy.trace>`.\n",
      "numpy.recarray.__class_getitem__\n",
      "    Return a parametrized wrapper around the `~numpy.ndarray` type.\n",
      "numpy.format_parser._setfieldnames\n",
      "    convert input field names into a list and assign to the _names\n",
      "numpy.clongdouble.__class_getitem__\n",
      "    Return a parametrized wrapper around the `~numpy.number` type.\n",
      "numpy.array_api.linalg.matrix_power\n",
      "    Array API compatible wrapper for :py:func:`np.matrix_power <numpy.matrix_power>`.\n",
      "numpy.lib._iotools.str2bool\n",
      "    Tries to transform a string supposed to represent a boolean to a boolean.\n",
      "numpy.random.Generator.geometric\n",
      "    Draw samples from the geometric distribution.\n",
      "numpy.array_api.linalg.slogdet\n",
      "    Array API compatible wrapper for :py:func:`np.linalg.slogdet <numpy.linalg.slogdet>`.\n",
      "numpy.random.RandomState.f\n",
      "    Draw samples from an F distribution.\n",
      "numpy.ulonglong.__class_getitem__\n",
      "    Return a parametrized wrapper around the `~numpy.number` type.\n",
      "numpy.lib._iotools.StringConverter\n",
      "    Factory class for function transforming a string into another object\n",
      "numpy.lib._iotools._is_string_like\n",
      "    Check whether obj behaves like a string.\n",
      "numpy.random.Generator.beta\n",
      "    Draw samples from a Beta distribution.\n",
      "numpy.array_api.linalg.cholesky\n",
      "    Array API compatible wrapper for :py:func:`np.linalg.cholesky <numpy.linalg.cholesky>`.\n",
      "numpy.array_api.linalg.diagonal\n",
      "    Array API compatible wrapper for :py:func:`np.diagonal <numpy.diagonal>`.\n",
      "numpy.array_api.linalg.eigvalsh\n",
      "    Array API compatible wrapper for :py:func:`np.linalg.eigvalsh <numpy.linalg.eigvalsh>`.\n",
      "numpy.ma.MaskedArray.tobytes\n",
      "    Return the array data as a string containing the raw bytes in the array.\n",
      "numpy.random.Generator.triangular\n",
      "    Draw samples from the triangular distribution over the\n",
      "numpy.random.Generator.wald\n",
      "    Draw samples from a Wald, or inverse Gaussian, distribution.\n",
      "numpy.random.Generator.zipf\n",
      "    Draw samples from a Zipf distribution.\n",
      "numpy.timedelta64.__class_getitem__\n",
      "    Return a parametrized wrapper around the `~numpy.number` type.\n",
      "numpy.ma.MaskedArray.__repr__\n",
      "    Literal string representation.\n",
      "numpy.random.Generator.gamma\n",
      "    Draw samples from a Gamma distribution.\n",
      "numpy.random.Generator.power\n",
      "    Draws samples in [0, 1] from a power distribution with positive\n",
      "numpy.random.RandomState.geometric\n",
      "    Draw samples from the geometric distribution.\n",
      "numpy.distutils.misc_util.all_strings\n",
      "    Return True if all items in lst are string objects.\n",
      "numpy.lib.recfunctions.join_by\n",
      "    Join arrays `r1` and `r2` on key `key`.\n",
      "numpy._typing._add_docstring.add_newdoc\n",
      "    Append ``_docstrings_list`` with a docstring for `name`.\n",
      "numpy.random.Generator.gumbel\n",
      "    Draw samples from a Gumbel distribution.\n",
      "numpy.random.Generator.normal\n",
      "    Draw random samples from a normal (Gaussian) distribution.\n",
      "numpy.random.Generator.pareto\n",
      "    Draw samples from a Pareto II or Lomax distribution with\n",
      "numpy.complexfloating.__class_getitem__\n",
      "    Return a parametrized wrapper around the `~numpy.number` type.\n",
      "numpy.tri\n",
      "    An array with ones at and below the given diagonal and zeros elsewhere.\n",
      "numpy.random.RandomState.beta\n",
      "    Draw samples from a Beta distribution.\n",
      "numpy.random.RandomState.triangular\n",
      "    Draw samples from the triangular distribution over the\n",
      "numpy.random.RandomState.wald\n",
      "    Draw samples from a Wald, or inverse Gaussian, distribution.\n",
      "numpy.random.RandomState.zipf\n",
      "    Draw samples from a Zipf distribution.\n",
      "numpy.signedinteger.__class_getitem__\n",
      "    Return a parametrized wrapper around the `~numpy.number` type.\n",
      "numpy.lib._iotools.LineSplitter\n",
      "    Object to split a string at a given delimiter or at given places.\n",
      "numpy.lib._version.NumpyVersion\n",
      "    Parse and compare numpy version strings.\n",
      "numpy.core._umath_tests.matrix_multiply\n",
      "    matrix multiplication on last two dimensions\n",
      "numpy.random.Generator.laplace\n",
      "    Draw samples from the Laplace or double exponential distribution with\n",
      "numpy.array_api.linalg.vector_norm\n",
      "    Array API compatible wrapper for :py:func:`np.linalg.norm <numpy.linalg.norm>`.\n",
      "numpy.random.Generator.poisson\n",
      "    Draw samples from a Poisson distribution.\n",
      "numpy.random.Generator.uniform\n",
      "    Draw samples from a uniform distribution.\n",
      "numpy.random.Generator.weibull\n",
      "    Draw samples from a Weibull distribution.\n",
      "numpy.ma.mrecords.MaskedRecords\n",
      "    Attributes\n",
      "numpy.random.RandomState.gamma\n",
      "    Draw samples from a Gamma distribution.\n",
      "numpy.random.RandomState.power\n",
      "    Draws samples in [0, 1] from a power distribution with positive\n",
      "numpy.random.RandomState.randn\n",
      "    Return a sample (or samples) from the \"standard normal\" distribution.\n",
      "numpy.lib._iotools.NameValidator\n",
      "    Object to validate a list of strings to use as field names.\n",
      "numpy.testing.clear_and_catch_warnings\n",
      "    Context manager that resets warning registry for catching warnings\n",
      "numpy.core._string_helpers.english_lower\n",
      "    Apply English case rules to convert ASCII strings to all lower case.\n",
      "numpy.core._string_helpers.english_upper\n",
      "    Apply English case rules to convert ASCII strings to all upper case.\n",
      "numpy.array_api._array_object.Array\n",
      "    n-d array object for the array API namespace.\n",
      "numpy.random.Generator.binomial\n",
      "    Draw samples from a binomial distribution.\n",
      "numpy.random.Generator.hypergeometric\n",
      "    Draw samples from a Hypergeometric distribution.\n",
      "numpy.random.Generator.logistic\n",
      "    Draw samples from a logistic distribution.\n",
      "numpy.random.Generator.rayleigh\n",
      "    Draw samples from a Rayleigh distribution.\n",
      "numpy.random.Generator.vonmises\n",
      "    Draw samples from a von Mises distribution.\n",
      "numpy.ma.mvoid.__class_getitem__\n",
      "    Return a parametrized wrapper around the `~numpy.ndarray` type.\n",
      "numpy.random.RandomState.gumbel\n",
      "    Draw samples from a Gumbel distribution.\n",
      "numpy.random.RandomState.normal\n",
      "    Draw random samples from a normal (Gaussian) distribution.\n",
      "numpy.random.RandomState.pareto\n",
      "    Draw samples from a Pareto II or Lomax distribution with\n",
      "numpy.polynomial.set_default_printstyle\n",
      "    Set the default format for the string representation of polynomials.\n",
      "numpy.lib._iotools.ConverterError\n",
      "    Exception raised when an error occurs in a converter for string values.\n",
      "numpy.ma.MaskedArray._update_from\n",
      "    Copies some attributes of obj to self.\n",
      "numpy.random.Generator.chisquare\n",
      "    Draw samples from a chi-square distribution.\n",
      "numpy.random.Generator.dirichlet\n",
      "    Draw samples from the Dirichlet distribution.\n",
      "numpy.random.Generator.lognormal\n",
      "    Draw samples from a log-normal distribution.\n",
      "numpy.random.Generator.logseries\n",
      "    Draw samples from a logarithmic series distribution.\n",
      "numpy.core._dtype._construction_repr\n",
      "    Creates a string repr of the dtype, excluding the 'dtype()' part\n",
      "numpy.random.RandomState.laplace\n",
      "    Draw samples from the Laplace or double exponential distribution with\n",
      "numpy.random.RandomState.poisson\n",
      "    Draw samples from a Poisson distribution.\n",
      "numpy.random.RandomState.uniform\n",
      "    Draw samples from a uniform distribution.\n",
      "numpy.random.RandomState.weibull\n",
      "    Draw samples from a Weibull distribution.\n",
      "numpy.unsignedinteger.__class_getitem__\n",
      "    Return a parametrized wrapper around the `~numpy.number` type.\n",
      "numpy.distutils.msvccompiler._merge\n",
      "    Concatenate two environment paths avoiding repeats.\n",
      "numpy.linalg._umath_linalg.eigh_lo\n",
      "    eigh on the last two dimension and broadcast to the rest, using lower triangle\n",
      "numpy.linalg._umath_linalg.eigh_up\n",
      "    eigh on the last two dimension and broadcast to the rest, using upper triangle.\n",
      "numpy.f2py.symbolic.Expr.tostring\n",
      "    Return a string representation of Expr.\n",
      "numpy.random.Generator.standard_t\n",
      "    Draw samples from a standard Student's t distribution with `df` degrees\n",
      "numpy.distutils.ccompiler_opt._Cache\n",
      "    An abstract class handles caching functionality, provides two\n",
      "numpy.random.RandomState.binomial\n",
      "    Draw samples from a binomial distribution.\n",
      "numpy.random.RandomState.hypergeometric\n",
      "    Draw samples from a Hypergeometric distribution.\n",
      "numpy.random.RandomState.logistic\n",
      "    Draw samples from a logistic distribution.\n",
      "numpy.random.RandomState.rayleigh\n",
      "    Draw samples from a Rayleigh distribution.\n",
      "numpy.random.RandomState.tomaxint\n",
      "    Return a sample of uniformly distributed random integers in the interval\n",
      "numpy.random.RandomState.vonmises\n",
      "    Draw samples from a von Mises distribution.\n",
      "numpy.i0\n",
      "    Modified Bessel function of the first kind, order 0.\n",
      "numpy.random.Generator.exponential\n",
      "    Draw samples from an exponential distribution.\n",
      "numpy.random.Generator.multinomial\n",
      "    Draw samples from a multinomial distribution.\n",
      "numpy.distutils.ccompiler_opt._Config\n",
      "    An abstract class holds all configurable attributes of `CCompilerOpt`,\n",
      "numpy.random.RandomState.chisquare\n",
      "    Draw samples from a chi-square distribution.\n",
      "numpy.random.RandomState.dirichlet\n",
      "    Draw samples from the Dirichlet distribution.\n",
      "numpy.random.RandomState.lognormal\n",
      "    Draw samples from a log-normal distribution.\n",
      "numpy.random.RandomState.logseries\n",
      "    Draw samples from a logarithmic series distribution.\n",
      "numpy.dot\n",
      "    Dot product of two arrays. Specifically,\n",
      "numpy.lib._iotools.ConversionWarning\n",
      "    Warning issued when a string converter has a problem.\n",
      "numpy.polynomial.hermite.hermvander\n",
      "    Pseudo-Vandermonde matrix of given degree.\n",
      "numpy.polynomial.laguerre.lagvander\n",
      "    Pseudo-Vandermonde matrix of given degree.\n",
      "numpy.polynomial.legendre.legvander\n",
      "    Pseudo-Vandermonde matrix of given degree.\n",
      "numpy.pad\n",
      "    Pad an array.\n",
      "numpy.random.Generator.noncentral_f\n",
      "    Draw samples from the noncentral F distribution.\n",
      "numpy.distutils.ccompiler_opt._Feature\n",
      "    A helper class for `CCompilerOpt` that managing CPU features.\n",
      "numpy.var\n",
      "    Compute the variance along the specified axis.\n",
      "numpy.random.RandomState.standard_t\n",
      "    Draw samples from a standard Student's t distribution with `df` degrees\n",
      "numpy.diag\n",
      "    Extract a diagonal or construct a diagonal array.\n",
      "numpy.disp\n",
      "    Display a message on a device.\n",
      "numpy.flip\n",
      "    Reverse the order of elements in an array along the given axis.\n",
      "numpy.info\n",
      "    Get help information for a function, class, or module.\n",
      "numpy.linalg._umath_linalg.qr_reduced\n",
      "    Compute Q matrix for the last two dimensions\n",
      "numpy._typing._add_docstring._parse_docstrings\n",
      "    Convert all docstrings in ``_docstrings_list`` into a single\n",
      "numpy.core._string_helpers.english_capitalize\n",
      "    Apply English case rules to convert the first character of an ASCII\n",
      "numpy.load\n",
      "    Load arrays or pickled objects from ``.npy``, ``.npz`` or pickled files.\n",
      "numpy.poly\n",
      "    Find the coefficients of a polynomial with the given sequence of roots.\n",
      "numpy.save\n",
      "    Save an array to a binary file in NumPy ``.npy`` format.\n",
      "numpy.sort\n",
      "    Return a sorted copy of an array.\n",
      "numpy.vdot\n",
      "    Return the dot product of two vectors.\n",
      "numpy.random.RandomState.exponential\n",
      "    Draw samples from an exponential distribution.\n",
      "numpy.random.RandomState.multinomial\n",
      "    Draw samples from a multinomial distribution.\n",
      "numpy.array\n",
      "    array(object, dtype=None, *, copy=True, order='K', subok=False, ndmin=0,\n",
      "numpy.polynomial.Chebyshev._generate_string\n",
      "    Generate the full string representation of the polynomial, using\n",
      "numpy.block\n",
      "    Assemble an nd-array from nested lists of blocks.\n",
      "numpy.core._internal._ctypes.strides_as\n",
      "    Return the strides tuple as an array of some other\n",
      "numpy.dtype\n",
      "    Create a data type object.\n",
      "numpy.finfo\n",
      "    finfo(dtype)\n",
      "numpy.iinfo\n",
      "    iinfo(type)\n",
      "numpy.inner\n",
      "    Inner product of two arrays.\n",
      "numpy.linalg._umath_linalg.cholesky_lo\n",
      "    cholesky decomposition of hermitian positive-definite matrices.\n",
      "numpy.polynomial.chebyshev.chebvander\n",
      "    Pseudo-Vandermonde matrix of given degree.\n",
      "numpy.linalg._umath_linalg.eigvalsh_lo\n",
      "    eigh on the last two dimension and broadcast to the rest, using lower triangle.\n",
      "numpy.linalg._umath_linalg.eigvalsh_up\n",
      "    eigvalsh on the last two dimension and broadcast to the rest, using upper triangle.\n",
      "numpy.linalg._umath_linalg.qr_complete\n",
      "    Compute Q matrix for the last two dimensions\n",
      "numpy.polynomial.hermite.hermvander2d\n",
      "    Pseudo-Vandermonde matrix of given degrees.\n",
      "numpy.polynomial.hermite.hermvander3d\n",
      "    Pseudo-Vandermonde matrix of given degrees.\n",
      "numpy.polynomial.laguerre.lagvander2d\n",
      "    Pseudo-Vandermonde matrix of given degrees.\n",
      "numpy.polynomial.laguerre.lagvander3d\n",
      "    Pseudo-Vandermonde matrix of given degrees.\n",
      "numpy.ma.MaskedArray.__class_getitem__\n",
      "    Return a parametrized wrapper around the `~numpy.ndarray` type.\n",
      "numpy.polynomial.legendre.legvander2d\n",
      "    Pseudo-Vandermonde matrix of given degrees.\n",
      "numpy.polynomial.legendre.legvander3d\n",
      "    Pseudo-Vandermonde matrix of given degrees.\n",
      "numpy.outer\n",
      "    Compute the outer product of two vectors.\n",
      "numpy.ravel\n",
      "    Return a contiguous flattened array.\n",
      "numpy.roots\n",
      "    Return the roots of a polynomial with coefficients given in p.\n",
      "numpy.savez\n",
      "    Save several arrays into a single file in uncompressed ``.npz`` format.\n",
      "numpy.random.Generator.standard_gamma\n",
      "    Draw samples from a standard Gamma distribution.\n",
      "numpy.split\n",
      "    Split an array into multiple sub-arrays as views into `ary`.\n",
      "numpy.trapz\n",
      "    Integrate along the given axis using the composite trapezoidal rule.\n",
      "numpy.f2py.crackfortran.markinnerspaces\n",
      "    The function replace all spaces in the input variable line which are\n",
      "numpy.random.RandomState.noncentral_f\n",
      "    Draw samples from the noncentral F distribution.\n",
      "numpy.choose\n",
      "    Construct an array from an index array and a list of arrays to choose from.\n",
      "numpy.core._internal._ctypes.get_strides\n",
      "    Deprecated getter for the `_ctypes.strides` property.\n",
      "numpy.einsum\n",
      "    einsum(subscripts, *operands, out=None, dtype=None, order='K',\n",
      "numpy.geterr\n",
      "    Get the current way of handling floating-point errors.\n",
      "numpy.core._multiarray_umath.datetime_as_string\n",
      "    Convert an array of datetimes into an array of strings.\n",
      "numpy.interp\n",
      "    One-dimensional linear interpolation for monotonically increasing sample points.\n",
      "numpy.isreal\n",
      "    Returns a bool array, where True if input element is real.\n",
      "numpy.polynomial.hermite.hermcompanion\n",
      "    Return the scaled companion matrix of c.\n",
      "numpy.polynomial.hermite_e.hermevander\n",
      "    Pseudo-Vandermonde matrix of given degree.\n",
      "numpy.polynomial.laguerre.lagcompanion\n",
      "    Return the companion matrix of c.\n",
      "numpy.memmap\n",
      "    Create a memory-map to an array stored in a *binary* file on disk.\n",
      "numpy.polynomial.legendre.legcompanion\n",
      "    Return the scaled companion matrix of c.\n",
      "numpy.nanstd\n",
      "    Compute the standard deviation along the specified axis, while\n",
      "numpy.nanvar\n",
      "    Compute the variance along the specified axis, while ignoring NaNs.\n",
      "numpy.polynomial.polynomial.polyvander\n",
      "    Vandermonde matrix of given degree.\n",
      "numpy.nditer\n",
      "    Efficient multi-dimensional iterator object to iterate over arrays.\n",
      "numpy.polynomial.polyutils.RankWarning\n",
      "    Issued by chebfit when the design matrix is rank deficient.\n",
      "numpy.poly1d\n",
      "    A one-dimensional polynomial class.\n",
      "numpy.distutils._shell_utils.NativeParser\n",
      "    \n",
      "numpy.random.Generator.standard_cauchy\n",
      "    Draw samples from a standard Cauchy distribution with mode = 0.\n",
      "numpy.random.Generator.standard_normal\n",
      "    Draw samples from a standard Normal distribution (mean=0, stdev=1).\n",
      "numpy.source\n",
      "    Print or write to a file the source code for a NumPy object.\n",
      "numpy.square\n",
      "    Return the element-wise square of the input.\n",
      "numpy.argsort\n",
      "    Returns the indices that would sort an array.\n",
      "numpy.average\n",
      "    Compute the weighted average along the specified axis.\n",
      "numpy.testing.suppress_warnings.record\n",
      "    Append a new recording filter or apply it if the state is entered.\n",
      "numpy.extract\n",
      "    Return the elements of an array that satisfy some condition.\n",
      "numpy.generic\n",
      "    Base class for numpy scalar types.\n",
      "numpy.hanning\n",
      "    Return the Hanning window.\n",
      "numpy.isclose\n",
      "    Returns a boolean array where two arrays are element-wise equal within a\n",
      "numpy.polynomial.chebyshev.chebvander2d\n",
      "    Pseudo-Vandermonde matrix of given degrees.\n",
      "numpy.polynomial.chebyshev.chebvander3d\n",
      "    Pseudo-Vandermonde matrix of given degrees.\n",
      "numpy.core._multiarray_umath.set_string_function\n",
      "    Internal method to set a function to be used when pretty printing arrays.\n",
      "numpy.loadtxt\n",
      "    Load data from a text file.\n",
      "numpy.polyfit\n",
      "    Least squares polynomial fit.\n",
      "numpy.reshape\n",
      "    Gives a new shape to an array without changing its data.\n",
      "numpy.distutils._shell_utils.WindowsParser\n",
      "    The parsing behavior used by `subprocess.call(\"string\")` on Windows, which\n",
      "numpy.savetxt\n",
      "    Save an array to a text file.\n",
      "numpy.squeeze\n",
      "    Remove axes of length one from `a`.\n",
      "numpy.allclose\n",
      "    Returns True if two arrays are element-wise equal within a tolerance.\n",
      "numpy.random.RandomState.standard_gamma\n",
      "    Draw samples from a standard Gamma distribution.\n",
      "numpy.can_cast\n",
      "    Returns True if cast between data types can occur according to the\n",
      "numpy.compress\n",
      "    Return selected slices of an array along given axis.\n",
      "numpy.convolve\n",
      "    Returns the discrete, linear convolution of two one-dimensional sequences.\n",
      "numpy.polynomial.Hermite._str_term_ascii\n",
      "    String representation of a single polynomial term using ** and _ to\n",
      "numpy.corrcoef\n",
      "    Return Pearson product-moment correlation coefficients.\n",
      "numpy.diagonal\n",
      "    Return specified diagonals.\n",
      "numpy.char.strip\n",
      "    For each element in `a`, return a copy with the leading and\n",
      "numpy.errstate\n",
      "    errstate(**kwargs)\n",
      "numpy.polynomial.chebyshev.chebcompanion\n",
      "    Return the scaled companion matrix of c.\n",
      "numpy.isscalar\n",
      "    Returns True if the type of `element` is a scalar type.\n",
      "numpy.issctype\n",
      "    Determines whether the given object represents a scalar data-type.\n",
      "numpy.linspace\n",
      "    Return evenly spaced numbers over a specified interval.\n",
      "numpy.polynomial.hermite_e.hermevander2d\n",
      "    Pseudo-Vandermonde matrix of given degrees.\n",
      "numpy.polynomial.hermite_e.hermevander3d\n",
      "    Pseudo-Vandermonde matrix of given degrees.\n",
      "numpy.logspace\n",
      "    Return numbers spaced evenly on a log scale.\n",
      "numpy.polynomial.polynomial.polyvander2d\n",
      "    Pseudo-Vandermonde matrix of given degrees.\n",
      "numpy.polynomial.polynomial.polyvander3d\n",
      "    Pseudo-Vandermonde matrix of given degrees.\n",
      "numpy.quantile\n",
      "    Compute the q-th quantile of the data along the specified axis.\n",
      "numpy.random.Generator.negative_binomial\n",
      "    Draw samples from a negative binomial distribution.\n",
      "numpy.typename\n",
      "    Return a description for the given data type code.\n",
      "numpy.AxisError\n",
      "    Axis supplied was invalid.\n",
      "numpy.random.RandomState.standard_cauchy\n",
      "    Draw samples from a standard Cauchy distribution with mode = 0.\n",
      "numpy.random.RandomState.standard_normal\n",
      "    Draw samples from a standard Normal distribution (mean=0, stdev=1).\n",
      "numpy.correlate\n",
      "    Cross-correlation of two 1-dimensional sequences.\n",
      "numpy.polynomial.HermiteE._str_term_ascii\n",
      "    String representation of a single polynomial term using ** and _ to\n",
      "numpy.char.lstrip\n",
      "    For each element in `a`, return a copy with the leading characters\n",
      "numpy.char.rstrip\n",
      "    For each element in `a`, return a copy with the trailing\n",
      "numpy.core.overrides.ArgSpec.__repr__\n",
      "    Return a nicely formatted representation string\n",
      "numpy.polynomial.Laguerre._str_term_ascii\n",
      "    String representation of a single polynomial term using ** and _ to\n",
      "numpy.polynomial.Legendre._str_term_ascii\n",
      "    String representation of a single polynomial term using ** and _ to\n",
      "numpy.fromregex\n",
      "    Construct an array from a text file, using regular expression parsing.\n",
      "numpy.full_like\n",
      "    Return a full array with the same shape and type as a given array.\n",
      "numpy.geterrobj\n",
      "    geterrobj()\n",
      "numpy.histogram\n",
      "    Compute the histogram of a dataset.\n",
      "numpy.is_busday\n",
      "    Calculates which of the given dates are valid days, and which are not.\n",
      "numpy.isrealobj\n",
      "    Return True if x is a not complex type or an array of complex numbers.\n",
      "numpy.polynomial.hermite_e.hermecompanion\n",
      "    Return the scaled companion matrix of c.\n",
      "numpy.ones_like\n",
      "    Return an array of ones with the same shape and type as a given array.\n",
      "numpy.partition\n",
      "    Return a partitioned copy of an array.\n",
      "numpy.lib._iotools.LineSplitter.autostrip\n",
      "    Wrapper to strip each member of the output of `method`.\n",
      "numpy.lib._iotools.StringConverter.update\n",
      "    Set StringConverter attributes directly.\n",
      "numpy.seterrobj\n",
      "    Set the object that defines floating-point error handling.\n",
      "numpy.DataSource\n",
      "    A generic data source file (file, http, ftp, ...).\n",
      "numpy.vectorize\n",
      "    vectorize(pyfunc, otypes=None, doc=None, excluded=None, cache=False,\n",
      "numpy.polynomial.Chebyshev._str_term_ascii\n",
      "    String representation of a single polynomial term using ** and _ to\n",
      "numpy.bitwise_or\n",
      "    Compute the bit-wise OR of two arrays element-wise.\n",
      "numpy.polynomial.Hermite._str_term_unicode\n",
      "    String representation of single polynomial term using unicode\n",
      "numpy.empty_like\n",
      "    Return a new array with the same shape and type as a given array.\n",
      "numpy.frompyfunc\n",
      "    Takes an arbitrary Python function and returns a NumPy ufunc.\n",
      "numpy.genfromtxt\n",
      "    Load data from a text file, with missing values handled as specified.\n",
      "numpy.issubdtype\n",
      "    Returns True if first argument is a typecode lower/equal in type hierarchy.\n",
      "numpy.left_shift\n",
      "    Shift the bits of an integer to the left.\n",
      "numpy.obj2sctype\n",
      "    Return the scalar dtype or NumPy equivalent of Python type of an object.\n",
      "numpy.percentile\n",
      "    Compute the q-th percentile of the data along the specified axis.\n",
      "numpy.lib._iotools.StringConverter.upgrade\n",
      "    Find the best converter for a given string, and return the result.\n",
      "numpy.matrix.max\n",
      "    Return the maximum value along an axis.\n",
      "numpy.matrix.min\n",
      "    Return the minimum value along an axis.\n",
      "numpy.matrix.ptp\n",
      "    Peak-to-peak (maximum - minimum) value along the given axis.\n",
      "numpy.matrix.std\n",
      "    Return the standard deviation of the array elements along the given axis.\n",
      "numpy.seterrcall\n",
      "    Set the floating-point error callback function or log object.\n",
      "numpy.unpackbits\n",
      "    Unpacks elements of a uint8 array into a binary-valued output array.\n",
      "numpy.zeros_like\n",
      "    Return an array of zeros with the same shape and type as a given array.\n",
      "numpy.random.RandomState.negative_binomial\n",
      "    Draw samples from a negative binomial distribution.\n",
      "numpy.bitwise_and\n",
      "    Compute the bit-wise AND of two arrays element-wise.\n",
      "numpy.bitwise_not\n",
      "    Compute bit-wise inversion, or bit-wise NOT, element-wise.\n",
      "numpy.bitwise_xor\n",
      "    Compute the bit-wise XOR of two arrays element-wise.\n",
      "numpy.polynomial.HermiteE._str_term_unicode\n",
      "    String representation of single polynomial term using unicode\n",
      "numpy.einsum_path\n",
      "    Evaluates the lowest cost contraction order for an einsum expression by\n",
      "numpy.polynomial.Laguerre._str_term_unicode\n",
      "    String representation of single polynomial term using unicode\n",
      "numpy.polynomial.Legendre._str_term_unicode\n",
      "    String representation of single polynomial term using unicode\n",
      "numpy.histogram2d\n",
      "    Compute the bi-dimensional histogram of two data samples.\n",
      "numpy.polynomial.Polynomial._str_term_ascii\n",
      "    String representation of a single polynomial term using ** and _ to\n",
      "numpy.mintypecode\n",
      "    Return the character for the minimum-size type to which given types can\n",
      "numpy.right_shift\n",
      "    Shift the bits of an integer to the right.\n",
      "numpy.matrix.getA\n",
      "    Return `self` as an `ndarray` object.\n",
      "numpy.matrix.getH\n",
      "    Returns the (complex) conjugate transpose of `self`.\n",
      "numpy.matrix.getI\n",
      "    Returns the (multiplicative) inverse of invertible `self`.\n",
      "numpy.matrix.prod\n",
      "    Return the product of the array elements over the given axis.\n",
      "numpy.random.Generator.noncentral_chisquare\n",
      "    Draw samples from a noncentral chi-square distribution.\n",
      "numpy.random.Generator.standard_exponential\n",
      "    Draw samples from the standard exponential distribution.\n",
      "numpy.argpartition\n",
      "    Perform an indirect partition along the given axis using the\n",
      "numpy.polynomial.Chebyshev._str_term_unicode\n",
      "    String representation of single polynomial term using unicode\n",
      "numpy.busday_count\n",
      "    Counts the number of valid days between `begindates` and\n",
      "numpy.distutils.numpy_distribution.NumpyDistribution\n",
      "    Distribution with support for tests and package data\n",
      "numpy.fft.fft\n",
      "    Compute the one-dimensional discrete Fourier Transform.\n",
      "numpy.ma.dot\n",
      "    Return the dot product of two arrays.\n",
      "numpy.mask_indices\n",
      "    Return the indices to access (n, n) arrays, given a masking function.\n",
      "numpy.ma.std\n",
      "    Returns the standard deviation of the array elements along given axis.\n",
      "numpy.ma.var\n",
      "    Compute the variance along the specified axis.\n",
      "numpy.matrix.getA1\n",
      "    Return `self` as a flattened `ndarray`.\n",
      "numpy.random.Generator.multivariate_hypergeometric\n",
      "    multivariate_hypergeometric(colors, nsample, size=None,\n",
      "numpy.random.RandomState.multivariate_normal\n",
      "    Draw random samples from a multivariate normal distribution.\n",
      "numpy.busday_offset\n",
      "    First adjusts the date to fall on a valid day according to\n",
      "numpy.count_nonzero\n",
      "    Counts the number of non-zero values in the array ``a``.\n",
      "numpy.char.less\n",
      "    Return (x1 < x2) element-wise.\n",
      "numpy.fill_diagonal\n",
      "    Fill the main diagonal of the given array of any dimensionality.\n",
      "numpy.fft.hfft\n",
      "    Compute the FFT of a signal that has Hermitian symmetry, i.e., a real\n",
      "numpy.fft.rfft\n",
      "    Compute the one-dimensional discrete Fourier Transform for real input.\n",
      "numpy.polynomial.Polynomial._str_term_unicode\n",
      "    String representation of single polynomial term using unicode\n",
      "numpy.ma.mean\n",
      "    Returns the average of the array elements along given axis.\n",
      "numpy.chararray.strip\n",
      "    For each element in `self`, return a copy with the leading and\n",
      "numpy.promote_types\n",
      "    Returns the data type with the smallest size and smallest scalar\n",
      "numpy.matrix.argmax\n",
      "    Indexes of the maximum values along an axis.\n",
      "numpy.matrix.argmin\n",
      "    Indexes of the minimum values along an axis.\n",
      "numpy.set_string_function\n",
      "    Set a Python function to be used when pretty printing arrays.\n",
      "numpy.shares_memory\n",
      "    Determine if two arrays share memory.\n",
      "numpy.distutils.command.autodist.check_restrict\n",
      "    Return the restrict identifier (may be empty).\n",
      "numpy.random.RandomState.noncentral_chisquare\n",
      "    Draw samples from a noncentral chi-square distribution.\n",
      "numpy.random.RandomState.standard_exponential\n",
      "    Draw samples from the standard exponential distribution.\n",
      "numpy.busdaycalendar\n",
      "    A business day calendar object that efficiently stores information\n",
      "numpy.char.array\n",
      "    Create a `chararray`.\n",
      "numpy.char.equal\n",
      "    Return (x1 == x2) element-wise.\n",
      "numpy.char.lower\n",
      "    Return an array with the elements converted to lowercase.\n",
      "numpy.ma.mrecords.MaskedRecords.__str__\n",
      "    Calculates the string representation.\n",
      "numpy.char.upper\n",
      "    Return an array with the elements converted to uppercase.\n",
      "numpy.fft.irfft\n",
      "    Computes the inverse of `rfft`.\n",
      "numpy.ma.inner\n",
      "    Inner product of two arrays.\n",
      "numpy.ma.outer\n",
      "    Compute the outer product of two vectors.\n",
      "numpy.ma.ravel\n",
      "    Returns a 1D version of self, as a view.\n",
      "numpy.chararray.lstrip\n",
      "    For each element in `self`, return a copy with the leading characters\n",
      "numpy.ma.round\n",
      "    Return a copy of a, rounded to 'decimals' places.\n",
      "numpy.chararray.rstrip\n",
      "    For each element in `self`, return a copy with the trailing\n",
      "numpy.rec.fromstring\n",
      "    Create a record array from binary data\n",
      "numpy.ma.tests.test_subclassing.SubArray\n",
      "    ndarray(shape, dtype=float, buffer=None, offset=0,\n",
      "numpy.fft.irfftn\n",
      "    Computes the inverse of `rfftn`.\n",
      "numpy.lib._iotools.NameValidator.validate\n",
      "    Validate a list of strings as field names for a structured array.\n",
      "numpy.linalg.det\n",
      "    Compute the determinant of an array.\n",
      "numpy.linalg.eig\n",
      "    Compute the eigenvalues and right eigenvectors of a square array.\n",
      "numpy.core._internal._ufunc_doc_signature_formatter\n",
      "    Builds a signature string which resembles PEP 457\n",
      "numpy.rec.array\n",
      "    Construct a record array from a wide-variety of objects.\n",
      "numpy.char.asarray\n",
      "    Convert the input to a `chararray`, copying the data only if\n",
      "numpy.char.greater\n",
      "    Return (x1 > x2) element-wise.\n",
      "numpy.ma.average\n",
      "    Return the weighted average of array over the given axis.\n",
      "numpy.find_common_type\n",
      "    Determine common type following standard coercion rules.\n",
      "numpy.get_printoptions\n",
      "    Return the current print options.\n",
      "numpy.ma.getdata\n",
      "    Return the data of a masked array as an ndarray.\n",
      "numpy.ma.getmask\n",
      "    Return the mask of a masked array, or nomask.\n",
      "numpy.ma.is_mask\n",
      "    Return True if m is a valid, standard mask.\n",
      "numpy.ma.polyfit\n",
      "    Least squares polynomial fit.\n",
      "numpy.ma.squeeze\n",
      "    Remove axes of length one from `a`.\n",
      "numpy.matrix.partition\n",
      "    Rearranges the elements in the array in such a way that the value of the\n",
      "numpy.savez_compressed\n",
      "    Save several arrays into a single file in compressed ``.npz`` format.\n",
      "numpy.set_printoptions\n",
      "    Set printing options.\n",
      "numpy.bytes0.decode\n",
      "    Decode the bytes using the codec registered for encoding.\n",
      "numpy.ma.compress\n",
      "    Return `a` where condition is ``True``.\n",
      "numpy.ma.convolve\n",
      "    Returns the discrete, linear convolution of two one-dimensional sequences.\n",
      "numpy.ma.corrcoef\n",
      "    Return Pearson product-moment correlation coefficients.\n",
      "numpy.ma.diagonal\n",
      "    a.diagonal(offset=0, axis1=0, axis2=1)\n",
      "numpy.core.tests.test_unicode.ByteorderValues\n",
      "    Check the byteorder of unicode arrays in round-trip conversions\n",
      "numpy.lib._iotools.StringConverter.upgrade_mapper\n",
      "    Upgrade the mapper of a StringConverter by adding a new function and\n",
      "numpy.lib.tests.test__iotools.TestStringConverter\n",
      "    Test StringConverter\n",
      "numpy.char.not_equal\n",
      "    Return (x1 != x2) element-wise.\n",
      "numpy.char.partition\n",
      "    Partition each element in `a` around `sep`.\n",
      "numpy.ma.mrecords.MaskedRecords.__setattr__\n",
      "    Sets the attribute attr to the value val.\n",
      "numpy.f2py.run_main\n",
      "    Equivalent to running::\n",
      "numpy.ma.correlate\n",
      "    Cross-correlation of two 1-dimensional sequences.\n",
      "numpy.ma.is_masked\n",
      "    Determine whether input has masked values.\n",
      "numpy.chararray.dump\n",
      "    a.dump(file)\n",
      "numpy.ma.ones_like\n",
      "    Return an array of ones with the same shape and type as a given array.\n",
      "numpy.chararray.sort\n",
      "    Sort an array in-place. Refer to `numpy.sort` for full documentation.\n",
      "numpy.chararray.view\n",
      "    New view of array with the same data.\n",
      "numpy.distutils.test\n",
      "    Pytest test runner.\n",
      "numpy.rec.fromfile\n",
      "    Create an array from binary file data\n",
      "numpy.char.capitalize\n",
      "    Return a copy of `a` with only the first character of each element\n",
      "numpy.char.less_equal\n",
      "    Return (x1 <= x2) element-wise.\n",
      "numpy.char.rpartition\n",
      "    Partition (split) each element around the right-most separator.\n",
      "numpy.ma.bitwise_or\n",
      "    Compute the bit-wise OR of two arrays element-wise.\n",
      "numpy.ma.empty_like\n",
      "    empty_like(prototype, dtype=None, order='K', subok=True, shape=None)\n",
      "numpy.histogram_bin_edges\n",
      "    Function to calculate only the edges of the bins used by the `histogram`\n",
      "numpy.ma.zeros_like\n",
      "    Return an array of zeros with the same shape and type as a given array.\n",
      "numpy.random.Philox\n",
      "    Container for the Philox (4x64) pseudo-random number generator.\n",
      "numpy.linalg.slogdet\n",
      "    Compute the sign and (natural) logarithm of the determinant of an array.\n",
      "numpy.ma.bitwise_and\n",
      "    Compute the bit-wise AND of two arrays element-wise.\n",
      "numpy.ma.bitwise_xor\n",
      "    Compute the bit-wise XOR of two arrays element-wise.\n",
      "numpy.str0.endswith\n",
      "    Return True if S ends with the specified suffix, False otherwise.\n",
      "numpy.ma.concatenate\n",
      "    Concatenate a sequence of arrays along the given axis.\n",
      "numpy.ma.fix_invalid\n",
      "    Return input with invalid data masked and replaced by a fill value.\n",
      "numpy.chararray.astype\n",
      "    Copy of the array, cast to a specified type.\n",
      "numpy.chararray.resize\n",
      "    Change shape and size of array in-place.\n",
      "numpy.chararray.tofile\n",
      "    Write array to a file as text or binary (default).\n",
      "numpy.random.MT19937\n",
      "    Container for the Mersenne Twister pseudo-random number generator.\n",
      "numpy.str0.maketrans\n",
      "    Return a translation table usable for str.translate().\n",
      "numpy.chararray.itemset\n",
      "    a.itemset(*args)\n",
      "numpy.ufunc.reduceat\n",
      "    Performs a (local) reduce with specified slices over a single axis.\n",
      "numpy.lib.Arrayterator\n",
      "    Buffered iterator for big arrays.\n",
      "numpy.core._exceptions._ArrayMemoryError._size_to_string\n",
      "    Convert a number of bytes into a binary size string\n",
      "numpy.linalg.multi_dot\n",
      "    Compute the dot product of two or more arrays in a single function call,\n",
      "numpy.char.greater_equal\n",
      "    Return (x1 >= x2) element-wise.\n",
      "numpy.str0.startswith\n",
      "    Return True if S starts with the specified prefix, False otherwise.\n",
      "numpy.chararray.byteswap\n",
      "    Swap the bytes of the array elements\n",
      "numpy.chararray.diagonal\n",
      "    Return specified diagonals. In NumPy 1.9 the returned array is a\n",
      "numpy.chararray.setflags\n",
      "    Set array flags WRITEABLE, ALIGNED, WRITEBACKIFCOPY,\n",
      "numpy.random.Generator\n",
      "    Generator(bit_generator)\n",
      "numpy.dtype.newbyteorder\n",
      "    Return a new dtype with a different byte order.\n",
      "numpy.chararray.transpose\n",
      "    a.transpose(*axes)\n",
      "numpy.distutils.misc_util.Configuration.get_distribution\n",
      "    Return the distutils distribution object for self.\n",
      "numpy.ctypeslib.ndpointer\n",
      "    Array-checking restype/argtypes.\n",
      "numpy.distutils.msvccompiler.MSVCCompiler.find_exe\n",
      "    Return path to an MSVC executable program.\n",
      "numpy.linalg.LinAlgError\n",
      "    Generic Python-exception-derived object raised by linalg functions.\n",
      "numpy.distutils.command.config.config.try_cpp\n",
      "    Construct a source file from 'body' (a string containing lines\n",
      "numpy.ma.mrecords.MaskedRecords.__class_getitem__\n",
      "    Return a parametrized wrapper around the `~numpy.ndarray` type.\n",
      "numpy.distutils.fcompiler.FCompiler.dump_properties\n",
      "    Print out the attributes of a compiler instance.\n",
      "numpy.core.tests.test_function_base.PhysicalQuantity\n",
      "    Convert a string or number to a floating point number, if possible.\n",
      "numpy.ma.masked_all_like\n",
      "    Empty masked array with the properties of an existing array.\n",
      "numpy.distutils.ccompiler_opt.CCompilerOpt._dist_str\n",
      "    Return a string to print by log and errors.\n",
      "numpy.compat.formatargspec\n",
      "    Format an argument spec from the 4 values returned by getargspec.\n",
      "numpy.distutils.misc_util.Configuration.get_version\n",
      "    Try to get version string of a package.\n",
      "numpy.polynomial.Hermite\n",
      "    An Hermite series class.\n",
      "numpy.random.RandomState\n",
      "    Container for the slow Mersenne Twister pseudo-random number generator.\n",
      "numpy.distutils.command.config.config.check_restrict\n",
      "    Return the restrict keyword recognized by the compiler, empty string\n",
      "numpy.double.__setformat__\n",
      "    You probably don't want to use this function.\n",
      "numpy._typing._SupportsArray\n",
      "    Base class for protocol classes.\n",
      "numpy._typing._SupportsDType\n",
      "    Base class for protocol classes.\n",
      "numpy.core.tests.test_function_base.PhysicalQuantity2\n",
      "    ndarray(shape, dtype=float, buffer=None, offset=0,\n",
      "numpy.lib._iotools.LineSplitter._delimited_splitter\n",
      "    Chop off comments, strip, and split at delimiter.\n",
      "numpy.distutils.LibraryInfo\n",
      "    Object containing build information about a library.\n",
      "numpy.polynomial.HermiteE\n",
      "    An HermiteE series class.\n",
      "numpy.polynomial.Laguerre\n",
      "    A Laguerre series class.\n",
      "numpy.polynomial.Legendre\n",
      "    A Legendre series class.\n",
      "numpy.random.BitGenerator\n",
      "    Base Class for generic BitGenerators, which provide a stream\n",
      "numpy.ma.tests.test_subclassing.ComplicatedSubArray\n",
      "    ndarray(shape, dtype=float, buffer=None, offset=0,\n",
      "numpy.chararray.__setstate__\n",
      "    For unpickling.\n",
      "numpy.distutils.command.install.install.has_lib\n",
      "    Returns true if the current distribution has any Python\n",
      "numpy.chararray.newbyteorder\n",
      "    Return the array with the same data viewed with a different byte order.\n",
      "numpy.distutils.armccompiler.ArmCCompiler.define_macro\n",
      "    Define a preprocessor macro for all compilations driven by this\n",
      "numpy.array_api._set_functions.UniqueAllResult.__repr__\n",
      "    Return a nicely formatted representation string\n",
      "numpy.ma.default_fill_value\n",
      "    Return the default fill value for the argument object.\n",
      "numpy.distutils.command.install.install.has_data\n",
      "    Returns true if the current distribution has any data to.\n",
      "numpy.distutils.armccompiler.ArmCCompiler.set_libraries\n",
      "    Set the list of libraries to be included in all links driven by\n",
      "numpy.distutils.command.autodist.check_gcc_function_attribute\n",
      "    Return True if the given function attribute is supported.\n",
      "numpy.distutils.command.autodist.check_gcc_variable_attribute\n",
      "    Return True if the given variable attribute is supported.\n",
      "numpy.polynomial.Polynomial\n",
      "    A power series class.\n",
      "numpy.distutils.numpy_distribution.NumpyDistribution.exclude\n",
      "    Remove items from distribution that are named in keyword arguments\n",
      "numpy.distutils.numpy_distribution.NumpyDistribution.include\n",
      "    Add items to distribution that are named in keyword arguments\n",
      "numpy.distutils.command.sdist.sdist.get_file_list\n",
      "    Figure out the list of files to include in the source\n",
      "numpy.distutils.command.sdist.sdist.read_manifest\n",
      "    Read the manifest file (named by 'self.manifest') and use it to\n",
      "numpy.ma.mvoid.filled\n",
      "    Return a copy with masked fields filled with a given value.\n",
      "numpy.ctypeslib.as_ctypes_type\n",
      "    Convert a dtype into a ctypes type.\n",
      "numpy.distutils.numpy_distribution.NumpyDistribution.__init__\n",
      "    Construct a new Distribution instance: initialize all the\n",
      "numpy.distutils.command.config.config.check_inline\n",
      "    Return the inline keyword recognized by the compiler, empty string\n",
      "numpy._pytesttester.PytestTester\n",
      "    Pytest test runner.\n",
      "numpy.polynomial._polybase.ABCPolyBase._str_term_ascii\n",
      "    String representation of a single polynomial term using ** and _ to\n",
      "numpy.distutils.command.bdist_rpm.bdist_rpm.ensure_string\n",
      "    Ensure that 'option' is a string; if not defined, set it to\n",
      "numpy.array_api._set_functions.UniqueCountsResult.__repr__\n",
      "    Return a nicely formatted representation string\n",
      "numpy.distutils.msvccompiler.MSVCCompiler.get_msvc_paths\n",
      "    Get a list of devstudio directories (include, lib or path).\n",
      "numpy.distutils.command.install.install.has_headers\n",
      "    Returns true if the current distribution has any headers to\n",
      "numpy.distutils.command.install.install.has_scripts\n",
      "    Returns true if the current distribution has any scripts to.\n",
      "numpy.distutils.armccompiler.ArmCCompiler.set_include_dirs\n",
      "    Set the list of directories that will be searched to 'dirs' (a\n",
      "numpy.distutils.armccompiler.ArmCCompiler.set_library_dirs\n",
      "    Set the list of library search directories to 'dirs' (a list of\n",
      "numpy.array_api._set_functions.UniqueInverseResult.__repr__\n",
      "    Return a nicely formatted representation string\n",
      "numpy.distutils.command.develop.develop.create_index\n",
      "    A distribution index that scans web pages for download URLs\n",
      "numpy.distutils.command.egg_info.egg_info._maybe_tag\n",
      "    egg_info may be called more than once for a distribution,\n",
      "numpy.testing.decorate_methods\n",
      "    Apply a decorator to all methods in a class matching a regular expression.\n",
      "numpy.polynomial._polybase.ABCPolyBase._str_term_unicode\n",
      "    String representation of single polynomial term using unicode\n",
      "numpy.testing.run_module_suite\n",
      "    Run a test module.\n",
      "numpy.distutils.command.bdist_rpm.bdist_rpm.copy_file\n",
      "    Copy a file respecting verbose, dry-run and force flags.  (The\n",
      "numpy.ma.MaskedArray.var\n",
      "    Compute the variance along the specified axis.\n",
      "numpy.distutils.command.build_ext.build_ext.find_swig\n",
      "    Return the name of the SWIG executable.  On Unix, this is\n",
      "numpy.testing.assert_array_less\n",
      "    Raises an AssertionError if two array_like objects are not ordered by less\n",
      "numpy.testing.suppress_warnings\n",
      "    Context manager and decorator doing much the same as\n",
      "numpy.distutils.command.sdist.sdist.make_release_tree\n",
      "    Create the directory tree that will become the source\n",
      "numpy.ma.MaskedArray.view\n",
      "    Return a view of the MaskedArray data.\n",
      "numpy.testing._private.parameterized.param.__repr__\n",
      "    Return a nicely formatted representation string\n",
      "numpy.polynomial.Chebyshev.trim\n",
      "    Remove trailing coefficients\n",
      "numpy.testing.print_assert_equal\n",
      "    Test if two objects are equal, and print an error message if test fails.\n",
      "numpy.core.multiarray.scalar\n",
      "    Return a new scalar array of the given type initialized with obj.\n",
      "numpy.ma.MaskedArray.ravel\n",
      "    Returns a 1D version of self, as a view.\n",
      "numpy.distutils.command.bdist_rpm.bdist_rpm.run_command\n",
      "    Run some other command: uses the 'run_command()' method of\n",
      "numpy.testing._private.parameterized._param.__repr__\n",
      "    Return a nicely formatted representation string\n",
      "numpy.ma.MaskedArray.filled\n",
      "    Return a copy of self, with masked values filled with a given value.\n",
      "numpy.distutils.command.bdist_rpm.bdist_rpm.ensure_string_list\n",
      "    Ensure that 'option' is a list of strings.  If 'option' is\n",
      "numpy.ma.MaskedArray.tolist\n",
      "    Return the data portion of the masked array as a hierarchical Python list.\n",
      "numpy.random.PCG64.advance\n",
      "    advance(delta)\n",
      "numpy.random.Philox.advance\n",
      "    advance(delta)\n",
      "numpy.distutils.command.build_py.build_py.get_package_dir\n",
      "    Return the directory, relative to the top of the source\n",
      "numpy.polynomial.Hermite.fit\n",
      "    Least squares fit to data.\n",
      "numpy.lib._iotools.easy_dtype\n",
      "    Convenience function to create a `np.dtype` object.\n",
      "numpy.ma.MaskedArray.compress\n",
      "    Return `a` where condition is ``True``.\n",
      "numpy.ma.MaskedArray.diagonal\n",
      "    Return specified diagonals. In NumPy 1.9 the returned array is a\n",
      "numpy.random.Generator.bytes\n",
      "    bytes(length)\n",
      "numpy.distutils.numpy_distribution.NumpyDistribution._expand_patterns\n",
      "    >>> list(Distribution._expand_patterns(['LICENSE']))\n",
      "numpy.distutils.numpy_distribution.NumpyDistribution.finalize_options\n",
      "    Allow plugins to apply arbitrary operations to the\n",
      "numpy.polynomial.Hermite._fit\n",
      "    Least squares fit of Hermite series to data.\n",
      "numpy.polynomial.HermiteE.fit\n",
      "    Least squares fit to data.\n",
      "numpy.polynomial.Laguerre.fit\n",
      "    Least squares fit to data.\n",
      "numpy.polynomial.Legendre.fit\n",
      "    Least squares fit to data.\n",
      "numpy.core._multiarray_umath.dot\n",
      "    Dot product of two arrays. Specifically,\n",
      "numpy.lib.user_array.container\n",
      "    Standard container-class for easy multiple-inheritance.\n",
      "numpy.linalg._umath_linalg.eig\n",
      "    eig on the last two dimension and broadcast to the rest.\n",
      "numpy.linalg._umath_linalg.inv\n",
      "    compute the inverse of the last two dimensions and broadcast to the rest.\n",
      "numpy.polynomial.polyutils.trimcoef\n",
      "    Remove \"small\" \"trailing\" coefficients from a polynomial.\n",
      "numpy.ma.MaskedArray._get_data\n",
      "    Returns the underlying data, as a view of the masked array.\n",
      "numpy.ma.MaskedArray.partition\n",
      "    Rearranges the elements in the array in such a way that the value of the\n",
      "numpy.random.Generator.choice\n",
      "    Generates a random sample from a given array\n",
      "numpy.distutils.command.bdist_rpm.bdist_rpm._make_spec_file\n",
      "    Generate the text of an RPM spec file and return it as a\n",
      "numpy.ma.MaskedArray.transpose\n",
      "    a.transpose(*axes)\n",
      "numpy.random.Generator.random\n",
      "    Return random floats in the half-open interval [0.0, 1.0).\n",
      "numpy.ma.mrecords.fromtextfile\n",
      "    Creates a mrecarray from data stored in the file `filename`.\n",
      "numpy.random.RandomState.rand\n",
      "    Random values in a given shape.\n",
      "numpy.polynomial.Chebyshev.fit\n",
      "    Least squares fit to data.\n",
      "numpy.lib.tests.test__iotools.TestStringConverter.test_creation\n",
      "    Test creation of a StringConverter\n",
      "numpy.AxisError.__class__.__base__\n",
      "    The base class of the class hierarchy.\n",
      "numpy.polynomial.HermiteE._fit\n",
      "    Least squares fit of Hermite series to data.\n",
      "numpy.polynomial.Laguerre._fit\n",
      "    Least squares fit of Laguerre series to data.\n",
      "numpy.polynomial.Legendre._fit\n",
      "    Least squares fit of Legendre series to data.\n",
      "numpy.core._multiarray_umath.vdot\n",
      "    Return the dot product of two vectors.\n",
      "numpy.distutils.armccompiler.ArmCCompiler.set_runtime_library_dirs\n",
      "    Set the list of directories to search for shared libraries at\n",
      "numpy.distutils.command.bdist_rpm.bdist_rpm.get_sub_commands\n",
      "    Determine the sub-commands that are relevant in the current\n",
      "numpy.random.PCG64DXSM.advance\n",
      "    advance(delta)\n",
      "numpy.random.RandomState.bytes\n",
      "    bytes(length)\n",
      "numpy.polynomial.Chebyshev._fit\n",
      "    Least squares fit of Chebyshev series to data.\n",
      "numpy.distutils.numpy_distribution.NumpyDistribution.parse_command_line\n",
      "    Parse the setup script's command line, taken from the\n",
      "numpy.polynomial.Hermite._roots\n",
      "    Compute the roots of a Hermite series.\n",
      "numpy.polynomial.Polynomial.fit\n",
      "    Least squares fit to data.\n",
      "numpy.core._multiarray_umath.inner\n",
      "    Inner product of two arrays.\n",
      "numpy.linalg._umath_linalg.solve\n",
      "    solve the system a x = b, on the last two dimensions, broadcast to the rest.\n",
      "numpy.ma.tests.test_subclassing.SubArray.__class_getitem__\n",
      "    Return a parametrized wrapper around the `~numpy.ndarray` type.\n",
      "numpy.distutils.command.bdist_rpm.bdist_rpm._format_changelog\n",
      "    Format the changelog correctly and convert it to a list of strings\n",
      "numpy.random.Generator.integers\n",
      "    Return random integers from `low` (inclusive) to `high` (exclusive), or\n",
      "numpy.random.RandomState.choice\n",
      "    Generates a random sample from a given 1-D array\n",
      "numpy.distutils.numpy_distribution.NumpyDistribution._parse_config_files\n",
      "    Adapted from distutils.dist.Distribution.parse_config_files,\n",
      "numpy.polynomial.HermiteE._roots\n",
      "    Compute the roots of a HermiteE series.\n",
      "numpy.polynomial.Laguerre._roots\n",
      "    Compute the roots of a Laguerre series.\n",
      "numpy.polynomial.Legendre._roots\n",
      "    Compute the roots of a Legendre series.\n",
      "numpy.polynomial.Polynomial._fit\n",
      "    Least-squares fit of a polynomial to data.\n",
      "numpy.ma.MaskedArray.__setstate__\n",
      "    Restore the internal state of the masked array, for\n",
      "numpy.ma.tests.test_subclassing.MSubArray.__class_getitem__\n",
      "    Return a parametrized wrapper around the `~numpy.ndarray` type.\n",
      "numpy.f2py.crackfortran.getlincoef\n",
      "    Obtain ``a`` and ``b`` when ``e == \"a*x+b\"``, where ``x`` is a symbol in\n",
      "numpy.distutils.command.develop.develop.create_index.scan\n",
      "    Scan `search_path` for distributions usable in this environment\n",
      "numpy.distutils.fcompiler.FCompiler\n",
      "    Abstract base class to define the interface that must be implemented\n",
      "numpy.random.RandomState.randint\n",
      "    Return random integers from `low` (inclusive) to `high` (exclusive).\n",
      "numpy.distutils.numpy_distribution.NumpyDistribution._set_command_options\n",
      "    Set the options for 'command_obj' from 'option_dict'.  Basically\n",
      "numpy.polynomial.Chebyshev._roots\n",
      "    Compute the roots of a Chebyshev series.\n",
      "numpy.lib._datasource._FileOpeners\n",
      "    Container for different methods to open (un-)compressed files.\n",
      "numpy.lib.recfunctions.drop_fields\n",
      "    Return a new array with fields in `drop_names` dropped.\n",
      "numpy.distutils.ccompiler_opt._Parse\n",
      "    A helper class that parsing main arguments of `CCompilerOpt`,\n",
      "numpy.distutils.command.develop.develop.create_index.fetch\n",
      "    Obtain a file suitable for fulfilling `requirement`\n",
      "numpy.lib.recfunctions.merge_arrays\n",
      "    Merge arrays field by field.\n",
      "numpy.core._multiarray_umath.c_einsum\n",
      "    c_einsum(subscripts, *operands, out=None, dtype=None, order='K',\n",
      "numpy.core._multiarray_umath.can_cast\n",
      "    Returns True if cast between data types can occur according to the\n",
      "numpy.polynomial.Polynomial._roots\n",
      "    Compute the roots of a polynomial.\n",
      "numpy.polynomial.hermite.hermval3d\n",
      "    Evaluate a 3-D Hermite series at points (x, y, z).\n",
      "numpy.polynomial.laguerre.lagval3d\n",
      "    Evaluate a 3-D Laguerre series at points (x, y, z).\n",
      "numpy.polynomial.legendre.legval3d\n",
      "    Evaluate a 3-D Legendre series at points (x, y, z).\n",
      "numpy.array_api._typing.SupportsDLPack\n",
      "    Base class for protocol classes.\n",
      "numpy.distutils.command.develop.develop.create_index.obtain\n",
      "    Obtain a distribution matching `requirement` (e.g. via download)\n",
      "numpy.random.RandomState.get_state\n",
      "    get_state()\n",
      "numpy.random.RandomState.set_state\n",
      "    set_state(state)\n",
      "numpy.lib._iotools.has_nested_fields\n",
      "    Returns whether one or several fields of a dtype are nested.\n",
      "numpy.lib.recfunctions.append_fields\n",
      "    Add new fields to an existing array.\n",
      "numpy.core._multiarray_umath.is_busday\n",
      "    Calculates which of the given dates are valid days, and which are not.\n",
      "numpy.polynomial.hermite.hermgrid3d\n",
      "    Evaluate a 3-D Hermite series on the Cartesian product of x, y, and z.\n",
      "numpy.polynomial.laguerre.laggrid3d\n",
      "    Evaluate a 3-D Laguerre series on the Cartesian product of x, y, and z.\n",
      "numpy.polynomial.legendre.leggrid3d\n",
      "    Evaluate a 3-D Legendre series on the Cartesian product of x, y, and z.\n",
      "numpy.distutils.command.bdist_rpm.bdist_rpm.get_finalized_command\n",
      "    Wrapper around Distribution's 'get_command_obj()' method: find\n",
      "numpy.distutils.command.develop.develop.create_index.can_add\n",
      "    Is distribution `dist` acceptable for this environment?\n",
      "numpy.distutils.command.develop.develop.create_index.__add__\n",
      "    Add an environment or distribution to an environment\n",
      "numpy.distutils.command.autodist.check_gcc_function_attribute_with_intrinsics\n",
      "    Return True if the given function attribute is supported with\n",
      "numpy.distutils.numpy_distribution.NumpyDistribution.iter_distribution_names\n",
      "    Yield all packages, modules, and extension names in distribution\n",
      "numpy.core._multiarray_umath.empty_like\n",
      "    Return a new array with the same shape and type as a given array.\n",
      "numpy.polynomial.chebyshev.chebval3d\n",
      "    Evaluate a 3-D Chebyshev series at points (x, y, z).\n",
      "numpy.core._multiarray_umath.unpackbits\n",
      "    Unpacks elements of a uint8 array into a binary-valued output array.\n",
      "numpy.polynomial.polyutils.as_series\n",
      "    Return argument as a list of 1-d arrays.\n",
      "numpy.random.BitGenerator.random_raw\n",
      "    Return randoms as generated by the underlying BitGenerator\n",
      "numpy.distutils.command.develop.develop.create_index.download\n",
      "    Locate and/or download `spec` to `tmpdir`, returning a local path\n",
      "numpy.distutils.command.develop.develop.create_index.__iter__\n",
      "    Yield the unique project names of the available distributions\n",
      "numpy.distutils.command.develop.develop.create_index.__init__\n",
      "    Snapshot distributions available on a search path\n",
      "numpy.distutils.command.develop.develop.create_index.__iadd__\n",
      "    In-place addition of a distribution or environment\n",
      "numpy.lib.mixins.NDArrayOperatorsMixin\n",
      "    Mixin defining all operator special methods using __array_ufunc__.\n",
      "numpy.lib.recfunctions.find_duplicates\n",
      "    Find the duplicates in a structured array along a given key\n",
      "numpy.polynomial.chebyshev.chebgrid3d\n",
      "    Evaluate a 3-D Chebyshev series on the Cartesian product of x, y, and z.\n",
      "numpy.polynomial.hermite_e.hermeval3d\n",
      "    Evaluate a 3-D Hermite_e series at points (x, y, z).\n",
      "numpy.polynomial.polynomial.polyval3d\n",
      "    Evaluate a 3-D polynomial at points (x, y, z).\n",
      "numpy.ma.tests.test_subclassing.SubMaskedArray.__class_getitem__\n",
      "    Return a parametrized wrapper around the `~numpy.ndarray` type.\n",
      "numpy.distutils.log.Log.getChild\n",
      "    Get a logger which is a descendant to this one.\n",
      "numpy.distutils.ccompiler_opt._CCompiler\n",
      "    A helper class for `CCompilerOpt` containing all utilities that\n",
      "numpy.random._pickle.__generator_ctor\n",
      "    Pickling helper function that returns a Generator object\n",
      "numpy.lib.tests.test__iotools.TestStringConverter.test_string_to_object\n",
      "    Make sure that string-to-object functions are properly recognized\n",
      "numpy.core._multiarray_umath.busday_count\n",
      "    Counts the number of valid days between `begindates` and\n",
      "numpy.polynomial._polybase.ABCPolyBase\n",
      "    An abstract base class for immutable series classes.\n",
      "numpy.polynomial.hermite_e.hermegrid3d\n",
      "    Evaluate a 3-D HermiteE series on the Cartesian product of x, y, and z.\n",
      "numpy.polynomial.polynomial.polygrid3d\n",
      "    Evaluate a 3-D polynomial on the Cartesian product of x, y and z.\n",
      "numpy.distutils.command.develop.develop.create_index.best_match\n",
      "    Find distribution best matching `req` and usable on `working_set`\n",
      "numpy.distutils.exec_command.exec_command\n",
      "    Return (status,output) of executed command.\n",
      "numpy.random.RandomState.random_sample\n",
      "    Return random floats in the half-open interval [0.0, 1.0).\n",
      "numpy.polynomial.Chebyshev.has_samecoef\n",
      "    Check if coefficients match.\n",
      "numpy.testing.suppress_warnings.filter\n",
      "    Add a new suppressing filter or apply it if the state is entered.\n",
      "numpy.lib.recfunctions.rec_append_fields\n",
      "    Add new fields to an existing array.\n",
      "numpy.core._multiarray_umath.busday_offset\n",
      "    First adjusts the date to fall on a valid day according to\n",
      "numpy.core._multiarray_umath.shares_memory\n",
      "    Determine if two arrays share memory.\n",
      "numpy.distutils.command.develop.develop.create_index.process_url\n",
      "    Evaluate a URL as a possible download, and maybe retrieve it\n",
      "numpy.distutils.command.develop.develop.create_index.__getitem__\n",
      "    Return a newest-to-oldest list of distributions for `project_name`\n",
      "numpy.distutils.command.build.build\n",
      "    Setuptools internal actions are organized using a *command design pattern*.\n",
      "numpy.random._pickle.__randomstate_ctor\n",
      "    Pickling helper function that returns a legacy RandomState-like object\n",
      "numpy.distutils.log.Log.hasHandlers\n",
      "    See if this logger has any handlers configured.\n",
      "numpy.distutils.command.develop.develop.create_index.fetch_distribution\n",
      "    Obtain a distribution suitable for fulfilling `requirement`\n",
      "numpy.random.RandomState.random_integers\n",
      "    Random integers of type `np.int_` between `low` and `high`, inclusive.\n",
      "numpy.random.SeedSequence.generate_state\n",
      "    Return the requested number of words for PRNG seeding.\n",
      "numpy.polynomial.Chebyshev.has_samedomain\n",
      "    Check if domains match.\n",
      "numpy.polynomial.Chebyshev.has_samewindow\n",
      "    Check if windows match.\n",
      "numpy.core.tests.test_function_base.PhysicalQuantity2.__class_getitem__\n",
      "    Return a parametrized wrapper around the `~numpy.ndarray` type.\n",
      "numpy.core.overrides.array_function_dispatch\n",
      "    Decorator for adding dispatch with the __array_function__ protocol.\n",
      "numpy.distutils.log.Log.callHandlers\n",
      "    Pass a record to all relevant handlers.\n",
      "numpy.distutils.command.config.config\n",
      "    Setuptools internal actions are organized using a *command design pattern*.\n",
      "numpy.random._pickle.__bit_generator_ctor\n",
      "    Pickling helper function that returns a bit generator object\n",
      "numpy.ma.tests.test_subclassing.ComplicatedSubArray.__class_getitem__\n",
      "    Return a parametrized wrapper around the `~numpy.ndarray` type.\n",
      "numpy.distutils.ccompiler.CCompiler_customize\n",
      "    Do any platform-specific customization of a compiler instance.\n",
      "numpy.random.Generator.multivariate_normal\n",
      "    multivariate_normal(mean, cov, size=None, check_valid='warn',\n",
      "numpy.distutils.ccompiler.simple_version_match\n",
      "    Simple matching of version numbers, for use in CCompiler and FCompiler.\n",
      "numpy.lib.tests.test_mixins.ArrayLike\n",
      "    Mixin defining all operator special methods using __array_ufunc__.\n",
      "numpy.distutils.ccompiler.CCompiler_get_version\n",
      "    Return compiler version, or None if compiler is not available.\n",
      "numpy.ma.mrecords.MaskedRecords.tolist\n",
      "    Return the data portion of the array as a list.\n",
      "numpy.lib._datasource._FileOpeners.keys\n",
      "    Return the keys of currently supported file openers.\n",
      "numpy.distutils.command.build_py.build_py\n",
      "    Setuptools internal actions are organized using a *command design pattern*.\n",
      "numpy.distutils.command.egg_info.egg_info\n",
      "    Setuptools internal actions are organized using a *command design pattern*.\n",
      "numpy.distutils.tests.test_ccompiler_opt_conf.TestConfFeatures.assertWarns\n",
      "    Fail unless a warning of class warnClass is triggered\n",
      "numpy.distutils.ccompiler.CCompiler_customize_cmd\n",
      "    Customize compiler using distutils command.\n",
      "numpy.distutils.fcompiler.g95.G95FCompiler\n",
      "    Abstract base class to define the interface that must be implemented\n",
      "numpy.distutils.fcompiler.gnu.GnuFCompiler\n",
      "    Abstract base class to define the interface that must be implemented\n",
      "numpy.distutils.fcompiler.ibm.IBMFCompiler\n",
      "    Abstract base class to define the interface that must be implemented\n",
      "numpy.distutils.fcompiler.nag.NAGFCompiler\n",
      "    Abstract base class to define the interface that must be implemented\n",
      "numpy.distutils.fcompiler.sun.SunFCompiler\n",
      "    Abstract base class to define the interface that must be implemented\n",
      "numpy.distutils.command.bdist_rpm.bdist_rpm\n",
      "    Override the default bdist_rpm behavior to do the following:\n",
      "numpy.distutils.command.build_ext.build_ext\n",
      "    Setuptools internal actions are organized using a *command design pattern*.\n",
      "numpy.distutils.command.build_src.build_src\n",
      "    Setuptools internal actions are organized using a *command design pattern*.\n",
      "numpy.lib.recfunctions.unstructured_to_structured\n",
      "    Converts an n-D unstructured array into an (n-1)-D structured array.\n",
      "numpy.core._multiarray_tests.format_float_OSprintf_g\n",
      "    Print a floating point scalar using the system's printf function,\n",
      "numpy.polynomial._polybase.ABCPolyBase.fit\n",
      "    Least squares fit to data.\n",
      "numpy.distutils.fcompiler.gnu.Gnu95FCompiler\n",
      "    Abstract base class to define the interface that must be implemented\n",
      "numpy.distutils.fcompiler.hpux.HPUXFCompiler\n",
      "    Abstract base class to define the interface that must be implemented\n",
      "numpy.distutils.fcompiler.mips.MIPSFCompiler\n",
      "    Abstract base class to define the interface that must be implemented\n",
      "numpy.distutils.fcompiler.nag.NAGFORCompiler\n",
      "    Abstract base class to define the interface that must be implemented\n",
      "numpy.distutils.fcompiler.none.NoneFCompiler\n",
      "    Abstract base class to define the interface that must be implemented\n",
      "numpy.distutils.tests.test_ccompiler_opt_conf.TestConfFeatures._formatMessage\n",
      "    Honour the longMessage attribute when generating failure messages.\n",
      "numpy.distutils.fcompiler.pg.PGroupFCompiler\n",
      "    Abstract base class to define the interface that must be implemented\n",
      "numpy.distutils.fcompiler.vast.VastFCompiler\n",
      "    Abstract base class to define the interface that must be implemented\n",
      "numpy.distutils.ccompiler.CCompiler_object_filenames\n",
      "    Return the name of the object files for the given source files.\n",
      "numpy.distutils.command.build_clib.build_clib\n",
      "    Setuptools internal actions are organized using a *command design pattern*.\n",
      "numpy.distutils.fcompiler.FCompiler.customize\n",
      "    Customize Fortran compiler.\n",
      "numpy.ma.mrecords.MaskedRecords.__setstate__\n",
      "    Restore the internal state of the masked array.\n",
      "numpy.distutils.fcompiler.arm.ArmFlangCompiler\n",
      "    Abstract base class to define the interface that must be implemented\n",
      "numpy.distutils.fcompiler.intel.IntelFCompiler\n",
      "    Abstract base class to define the interface that must be implemented\n",
      "numpy.distutils.fcompiler.lahey.LaheyFCompiler\n",
      "    Abstract base class to define the interface that must be implemented\n",
      "numpy.distutils.fcompiler.nag.BaseNAGFCompiler\n",
      "    Abstract base class to define the interface that must be implemented\n",
      "numpy.distutils.tests.test_ccompiler_opt_conf.TestConfFeatures.assertWarnsRegex\n",
      "    Asserts that the message in a triggered warning matches a regexp.\n",
      "numpy.testing._private.nosetester.NoseTester\n",
      "    Nose test runner.\n",
      "numpy.distutils.fcompiler.absoft.AbsoftFCompiler\n",
      "    Abstract base class to define the interface that must be implemented\n",
      "numpy.distutils.fcompiler.compaq.CompaqFCompiler\n",
      "    Abstract base class to define the interface that must be implemented\n",
      "numpy.distutils.fcompiler.pg.PGroupFlangCompiler\n",
      "    Abstract base class to define the interface that must be implemented\n",
      "numpy.distutils.command.install_clib.install_clib\n",
      "    Setuptools internal actions are organized using a *command design pattern*.\n",
      "numpy.distutils.command.install_data.install_data\n",
      "    Setuptools internal actions are organized using a *command design pattern*.\n",
      "numpy.distutils.misc_util.Configuration.have_f77c\n",
      "    Check for availability of Fortran 77 compiler.\n",
      "numpy.distutils.misc_util.Configuration.have_f90c\n",
      "    Check for availability of Fortran 90 compiler.\n",
      "numpy.distutils.fcompiler.fujitsu.FujitsuFCompiler\n",
      "    Abstract base class to define the interface that must be implemented\n",
      "numpy.distutils.fcompiler.intel.BaseIntelFCompiler\n",
      "    Abstract base class to define the interface that must be implemented\n",
      "numpy.distutils.tests.test_ccompiler_opt_conf.TestConfFeatures.assertMultiLineEqual\n",
      "    Assert that two multi-line strings are equal.\n",
      "numpy.distutils.command.build_scripts.build_scripts\n",
      "    Setuptools internal actions are organized using a *command design pattern*.\n",
      "numpy.distutils.fcompiler.intel.IntelEM64TFCompiler\n",
      "    Abstract base class to define the interface that must be implemented\n",
      "numpy.distutils.fcompiler.intel.IntelVisualFCompiler\n",
      "    Abstract base class to define the interface that must be implemented\n",
      "numpy.distutils.fcompiler.pathf95.PathScaleFCompiler\n",
      "    Abstract base class to define the interface that must be implemented\n",
      "numpy.distutils.misc_util.Configuration.add_data_dir\n",
      "    Recursively add files under data_path to data_files list.\n",
      "numpy.distutils.fcompiler.intel.IntelItaniumFCompiler\n",
      "    Abstract base class to define the interface that must be implemented\n",
      "numpy.distutils.command.config.config.search_cpp\n",
      "    Construct a source file (just like 'try_cpp()'), run it through\n",
      "numpy.distutils.unixccompiler.UnixCCompiler_create_static_lib\n",
      "    Build a static library in a separate sub-process.\n",
      "numpy.distutils.fcompiler.compaq.CompaqVisualFCompiler\n",
      "    Abstract base class to define the interface that must be implemented\n",
      "numpy.distutils.misc_util.Configuration.add_data_files\n",
      "    Add data files to configuration data_files.\n",
      "numpy.distutils.command.install_headers.install_headers\n",
      "    Setuptools internal actions are organized using a *command design pattern*.\n",
      "numpy.distutils.fcompiler.intel.IntelEM64VisualFCompiler\n",
      "    Abstract base class to define the interface that must be implemented\n",
      "numpy.distutils.armccompiler.ArmCCompiler.set_executables\n",
      "    Define the executables (and options for them) that will be run\n",
      "numpy.testing._private.nosetester.NoseTester.test\n",
      "    Run tests for module using nose.\n",
      "numpy.distutils.armccompiler.ArmCCompiler._fix_compile_args\n",
      "    Typecheck and fix-up some of the arguments to the 'compile()'\n",
      "numpy.testing._private.nosetester.NoseTester.bench\n",
      "    Run benchmarks for module using nose.\n",
      "numpy.distutils.misc_util.Configuration.add_npy_pkg_config\n",
      "    Generate and install a npy-pkg config file from a template.\n",
      "numpy._typing._dtype_like._DTypeDict.__class__.__new__\n",
      "    Create new typed dict class object.\n",
      "numpy.distutils.fcompiler.intel.IntelItaniumVisualFCompiler\n",
      "    Abstract base class to define the interface that must be implemented\n",
      "numpy.distutils.command.build_py.build_py.find_modules\n",
      "    Finds individually-specified Python modules, ie. those listed by\n",
      "numpy.distutils.misc_util.Configuration.add_installed_library\n",
      "    Similar to add_library, but the specified library is installed.\n",
      "numpy.distutils.numpy_distribution.NumpyDistribution.print_commands\n",
      "    Print out a help message listing all available commands with a\n",
      "numpy.distutils.tests.test_ccompiler_opt_conf.TestConfFeatures\n",
      "    A class whose instances are single test cases.\n",
      "numpy.distutils.ccompiler_opt.CCompilerOpt.conf_features_partial\n",
      "    Return a dictionary of supported CPU features by the platform,\n",
      "numpy.testing._private.nosetester.NoseTester._test_argv\n",
      "    Generate argv for nosetest command\n",
      "numpy.distutils.numpy_distribution.NumpyDistribution.get_command_list\n",
      "    Get a list of (command, description) tuples.\n",
      "numpy.distutils.ccompiler_opt.CCompilerOpt.feature_c_preprocessor\n",
      "    Generate C preprocessor definitions and include headers of a CPU feature.\n",
      "numpy.distutils.command.build_clib.build_clib.assemble_flags\n",
      "    Assemble flags from flag list\n",
      "numpy.distutils.numpy_distribution.NumpyDistribution.reinitialize_command\n",
      "    Reinitializes a command to the state it was in when first\n",
      "numpy.core.tests.test_function_base.PhysicalQuantity.__setformat__\n",
      "    You probably don't want to use this function.\n",
      "numpy.distutils.tests.test_ccompiler_opt_conf.TestConfFeatures.assertLogs\n",
      "    Fail unless a log message of level *level* or higher is emitted\n",
      "numpy.distutils.tests.test_ccompiler_opt_conf.TestConfFeatures.assertRaises\n",
      "    Fail unless an exception of class expected_exception is raised\n",
      "numpy.distutils.tests.test_ccompiler_opt_conf.TestConfFeatures.shortDescription\n",
      "    Returns a one-line description of the test, or None if no\n",
      "numpy.distutils.tests.test_ccompiler_opt_conf.TestConfFeatures.assertRaisesRegex\n",
      "    Asserts that the message in a raised exception matches a regex.\n",
      "numpy.distutils.tests.test_ccompiler_opt_conf._TestConfFeatures.conf_features_partial\n",
      "    Return a dictionary of supported CPU features by the platform,"
     ]
    }
   ],
   "source": [
    "# 너무 많아서 다 못외움. 그래서 나온 것\n",
    "np.lookfor('tri')\n",
    "# 이 lookfor 을 꼭 기억하쟈!!\n",
    "# 이게 넘파이가 쉽다는 이유"
   ]
  },
  {
   "cell_type": "code",
   "execution_count": 57,
   "id": "e0efb787",
   "metadata": {
    "ExecuteTime": {
     "end_time": "2023-03-16T07:08:12.365023Z",
     "start_time": "2023-03-16T07:08:12.353090Z"
    },
    "scrolled": true
   },
   "outputs": [
    {
     "name": "stdout",
     "output_type": "stream",
     "text": [
      "Help on function tril in module numpy:\n",
      "\n",
      "tril(m, k=0)\n",
      "    Lower triangle of an array.\n",
      "    \n",
      "    Return a copy of an array with elements above the `k`-th diagonal zeroed.\n",
      "    For arrays with ``ndim`` exceeding 2, `tril` will apply to the final two\n",
      "    axes.\n",
      "    \n",
      "    Parameters\n",
      "    ----------\n",
      "    m : array_like, shape (..., M, N)\n",
      "        Input array.\n",
      "    k : int, optional\n",
      "        Diagonal above which to zero elements.  `k = 0` (the default) is the\n",
      "        main diagonal, `k < 0` is below it and `k > 0` is above.\n",
      "    \n",
      "    Returns\n",
      "    -------\n",
      "    tril : ndarray, shape (..., M, N)\n",
      "        Lower triangle of `m`, of same shape and data-type as `m`.\n",
      "    \n",
      "    See Also\n",
      "    --------\n",
      "    triu : same thing, only for the upper triangle\n",
      "    \n",
      "    Examples\n",
      "    --------\n",
      "    >>> np.tril([[1,2,3],[4,5,6],[7,8,9],[10,11,12]], -1)\n",
      "    array([[ 0,  0,  0],\n",
      "           [ 4,  0,  0],\n",
      "           [ 7,  8,  0],\n",
      "           [10, 11, 12]])\n",
      "    \n",
      "    >>> np.tril(np.arange(3*4*5).reshape(3, 4, 5))\n",
      "    array([[[ 0,  0,  0,  0,  0],\n",
      "            [ 5,  6,  0,  0,  0],\n",
      "            [10, 11, 12,  0,  0],\n",
      "            [15, 16, 17, 18,  0]],\n",
      "           [[20,  0,  0,  0,  0],\n",
      "            [25, 26,  0,  0,  0],\n",
      "            [30, 31, 32,  0,  0],\n",
      "            [35, 36, 37, 38,  0]],\n",
      "           [[40,  0,  0,  0,  0],\n",
      "            [45, 46,  0,  0,  0],\n",
      "            [50, 51, 52,  0,  0],\n",
      "            [55, 56, 57, 58,  0]]])\n",
      "\n"
     ]
    }
   ],
   "source": [
    "help(np.tril)"
   ]
  },
  {
   "cell_type": "code",
   "execution_count": null,
   "id": "e68bb40b",
   "metadata": {},
   "outputs": [],
   "source": [
    "# 만드는 방법이 엄청나게 많음."
   ]
  },
  {
   "cell_type": "markdown",
   "id": "a8efbeb8",
   "metadata": {},
   "source": [
    "#### Numpy quickstart (공식문서)"
   ]
  },
  {
   "cell_type": "code",
   "execution_count": null,
   "id": "13cd1720",
   "metadata": {},
   "outputs": [],
   "source": [
    "# quickstart 맥락잡기\n",
    "# 제일 처음 객체지향 방식으로 만들었음. 근데 만들었더니 객체지향 방식의 인스턴스가 아님.\n",
    "# 팩토리 메소드로 array 만듦."
   ]
  },
  {
   "cell_type": "code",
   "execution_count": null,
   "id": "f6888aa3",
   "metadata": {},
   "outputs": [],
   "source": [
    "# 데이터 분석의 기본은 데이터프레임.\n",
    "# 제일 먼저 처음하는 것이 데이터 선택하는 것. 인덱싱과 슬라이싱을 가장 먼저 함. 그래서 처음부터 array 형태로 만든 것.\n",
    "# array는 homo, sequence. 시퀀스는 인덱싱과 슬라이싱 가능.\n",
    "# 넘파이도 인덱싱과 슬라이싱이 중요힘. 파이썬은 기본적으로 vectorize 연산을 잘 안함. 그리고 기본적으로 1차원\n",
    "# 근데 넘파이는 n차원이 기본. 그래서 인덱싱과 슬라이싱 기법들이 파이썬보다 훨씬 많음."
   ]
  },
  {
   "cell_type": "markdown",
   "id": "0c354300",
   "metadata": {},
   "source": [
    "##### Numpy의 indexing과 slicing"
   ]
  },
  {
   "cell_type": "code",
   "execution_count": 58,
   "id": "9fd206fa",
   "metadata": {
    "ExecuteTime": {
     "end_time": "2023-03-16T07:18:07.119067Z",
     "start_time": "2023-03-16T07:18:07.096883Z"
    },
    "collapsed": true
   },
   "outputs": [
    {
     "data": {
      "text/plain": [
       "['T',\n",
       " '__abs__',\n",
       " '__add__',\n",
       " '__and__',\n",
       " '__array__',\n",
       " '__array_finalize__',\n",
       " '__array_function__',\n",
       " '__array_interface__',\n",
       " '__array_prepare__',\n",
       " '__array_priority__',\n",
       " '__array_struct__',\n",
       " '__array_ufunc__',\n",
       " '__array_wrap__',\n",
       " '__bool__',\n",
       " '__class__',\n",
       " '__class_getitem__',\n",
       " '__complex__',\n",
       " '__contains__',\n",
       " '__copy__',\n",
       " '__deepcopy__',\n",
       " '__delattr__',\n",
       " '__delitem__',\n",
       " '__dir__',\n",
       " '__divmod__',\n",
       " '__dlpack__',\n",
       " '__dlpack_device__',\n",
       " '__doc__',\n",
       " '__eq__',\n",
       " '__float__',\n",
       " '__floordiv__',\n",
       " '__format__',\n",
       " '__ge__',\n",
       " '__getattribute__',\n",
       " '__getitem__',\n",
       " '__gt__',\n",
       " '__hash__',\n",
       " '__iadd__',\n",
       " '__iand__',\n",
       " '__ifloordiv__',\n",
       " '__ilshift__',\n",
       " '__imatmul__',\n",
       " '__imod__',\n",
       " '__imul__',\n",
       " '__index__',\n",
       " '__init__',\n",
       " '__init_subclass__',\n",
       " '__int__',\n",
       " '__invert__',\n",
       " '__ior__',\n",
       " '__ipow__',\n",
       " '__irshift__',\n",
       " '__isub__',\n",
       " '__iter__',\n",
       " '__itruediv__',\n",
       " '__ixor__',\n",
       " '__le__',\n",
       " '__len__',\n",
       " '__lshift__',\n",
       " '__lt__',\n",
       " '__matmul__',\n",
       " '__mod__',\n",
       " '__mul__',\n",
       " '__ne__',\n",
       " '__neg__',\n",
       " '__new__',\n",
       " '__or__',\n",
       " '__pos__',\n",
       " '__pow__',\n",
       " '__radd__',\n",
       " '__rand__',\n",
       " '__rdivmod__',\n",
       " '__reduce__',\n",
       " '__reduce_ex__',\n",
       " '__repr__',\n",
       " '__rfloordiv__',\n",
       " '__rlshift__',\n",
       " '__rmatmul__',\n",
       " '__rmod__',\n",
       " '__rmul__',\n",
       " '__ror__',\n",
       " '__rpow__',\n",
       " '__rrshift__',\n",
       " '__rshift__',\n",
       " '__rsub__',\n",
       " '__rtruediv__',\n",
       " '__rxor__',\n",
       " '__setattr__',\n",
       " '__setitem__',\n",
       " '__setstate__',\n",
       " '__sizeof__',\n",
       " '__str__',\n",
       " '__sub__',\n",
       " '__subclasshook__',\n",
       " '__truediv__',\n",
       " '__xor__',\n",
       " 'all',\n",
       " 'any',\n",
       " 'argmax',\n",
       " 'argmin',\n",
       " 'argpartition',\n",
       " 'argsort',\n",
       " 'astype',\n",
       " 'base',\n",
       " 'byteswap',\n",
       " 'choose',\n",
       " 'clip',\n",
       " 'compress',\n",
       " 'conj',\n",
       " 'conjugate',\n",
       " 'copy',\n",
       " 'ctypes',\n",
       " 'cumprod',\n",
       " 'cumsum',\n",
       " 'data',\n",
       " 'diagonal',\n",
       " 'dot',\n",
       " 'dtype',\n",
       " 'dump',\n",
       " 'dumps',\n",
       " 'fill',\n",
       " 'flags',\n",
       " 'flat',\n",
       " 'flatten',\n",
       " 'getfield',\n",
       " 'imag',\n",
       " 'item',\n",
       " 'itemset',\n",
       " 'itemsize',\n",
       " 'max',\n",
       " 'mean',\n",
       " 'min',\n",
       " 'nbytes',\n",
       " 'ndim',\n",
       " 'newbyteorder',\n",
       " 'nonzero',\n",
       " 'partition',\n",
       " 'prod',\n",
       " 'ptp',\n",
       " 'put',\n",
       " 'ravel',\n",
       " 'real',\n",
       " 'repeat',\n",
       " 'reshape',\n",
       " 'resize',\n",
       " 'round',\n",
       " 'searchsorted',\n",
       " 'setfield',\n",
       " 'setflags',\n",
       " 'shape',\n",
       " 'size',\n",
       " 'sort',\n",
       " 'squeeze',\n",
       " 'std',\n",
       " 'strides',\n",
       " 'sum',\n",
       " 'swapaxes',\n",
       " 'take',\n",
       " 'tobytes',\n",
       " 'tofile',\n",
       " 'tolist',\n",
       " 'tostring',\n",
       " 'trace',\n",
       " 'transpose',\n",
       " 'var',\n",
       " 'view']"
      ]
     },
     "execution_count": 58,
     "metadata": {},
     "output_type": "execute_result"
    }
   ],
   "source": [
    "# 5개로 인덱싱과 슬라이싱 하는 방법을 배울 수 있음.(데이터 처리)\n",
    "# 우리는 만드는 것은 하지 않음. 수집할 것이기 때문에.\n",
    "dir(aa)   # __len__, __getitem__ 있음"
   ]
  },
  {
   "cell_type": "code",
   "execution_count": 59,
   "id": "ade9b1fc",
   "metadata": {
    "ExecuteTime": {
     "end_time": "2023-03-16T07:19:34.300104Z",
     "start_time": "2023-03-16T07:19:34.287041Z"
    }
   },
   "outputs": [
    {
     "data": {
      "text/plain": [
       "array([ 0,  1,  2,  3,  4,  5,  6,  7,  8,  9, 10, 11, 12, 13, 14, 15, 16,\n",
       "       17, 18, 19])"
      ]
     },
     "execution_count": 59,
     "metadata": {},
     "output_type": "execute_result"
    }
   ],
   "source": [
    "a = np.arange(20)\n",
    "a  # 파이썬의 range와 비슷"
   ]
  },
  {
   "cell_type": "code",
   "execution_count": 62,
   "id": "cc256e95",
   "metadata": {
    "ExecuteTime": {
     "end_time": "2023-03-16T07:20:02.136545Z",
     "start_time": "2023-03-16T07:20:02.123280Z"
    }
   },
   "outputs": [
    {
     "data": {
      "text/plain": [
       "array([[ 0,  1,  2,  3,  4],\n",
       "       [ 5,  6,  7,  8,  9],\n",
       "       [10, 11, 12, 13, 14],\n",
       "       [15, 16, 17, 18, 19]])"
      ]
     },
     "execution_count": 62,
     "metadata": {},
     "output_type": "execute_result"
    }
   ],
   "source": [
    "a = a.reshape(4, 5)\n",
    "a"
   ]
  },
  {
   "cell_type": "code",
   "execution_count": 63,
   "id": "1f550ff5",
   "metadata": {
    "ExecuteTime": {
     "end_time": "2023-03-16T07:20:13.734304Z",
     "start_time": "2023-03-16T07:20:13.717363Z"
    }
   },
   "outputs": [
    {
     "data": {
      "text/plain": [
       "5"
      ]
     },
     "execution_count": 63,
     "metadata": {},
     "output_type": "execute_result"
    }
   ],
   "source": [
    "a[1][0]"
   ]
  },
  {
   "cell_type": "code",
   "execution_count": 64,
   "id": "869028ef",
   "metadata": {
    "ExecuteTime": {
     "end_time": "2023-03-16T07:21:00.011000Z",
     "start_time": "2023-03-16T07:20:59.986377Z"
    }
   },
   "outputs": [
    {
     "data": {
      "text/plain": [
       "5"
      ]
     },
     "execution_count": 64,
     "metadata": {},
     "output_type": "execute_result"
    }
   ],
   "source": [
    "# 첫번째 방법 - 콤마 인덱싱\n",
    "# 넘파이에서는 차원만큼 콤마를 써줄 수 있음.\n",
    "a[1,0]"
   ]
  },
  {
   "cell_type": "code",
   "execution_count": 73,
   "id": "9142501d",
   "metadata": {
    "ExecuteTime": {
     "end_time": "2023-03-16T07:31:18.400744Z",
     "start_time": "2023-03-16T07:31:18.383033Z"
    }
   },
   "outputs": [
    {
     "data": {
      "text/plain": [
       "array([7, 8, 9])"
      ]
     },
     "execution_count": 73,
     "metadata": {},
     "output_type": "execute_result"
    }
   ],
   "source": [
    "a[1,2:5]  # 인덱싱과 슬라이싱 같이 할 수 있음."
   ]
  },
  {
   "cell_type": "code",
   "execution_count": 65,
   "id": "e2133a30",
   "metadata": {
    "ExecuteTime": {
     "end_time": "2023-03-16T07:23:15.912941Z",
     "start_time": "2023-03-16T07:23:15.897672Z"
    }
   },
   "outputs": [
    {
     "data": {
      "text/plain": [
       "array([[False, False, False, False, False],\n",
       "       [False,  True,  True,  True,  True],\n",
       "       [ True,  True,  True,  True,  True],\n",
       "       [ True,  True,  True,  True,  True]])"
      ]
     },
     "execution_count": 65,
     "metadata": {},
     "output_type": "execute_result"
    }
   ],
   "source": [
    "# 두번째 방법 - boolean 인덱싱\n",
    "a>5 # 이 방법을 브로드캐스팅이라고 함."
   ]
  },
  {
   "cell_type": "code",
   "execution_count": 66,
   "id": "141c8c84",
   "metadata": {
    "ExecuteTime": {
     "end_time": "2023-03-16T07:23:41.258075Z",
     "start_time": "2023-03-16T07:23:41.235638Z"
    }
   },
   "outputs": [
    {
     "data": {
      "text/plain": [
       "array([ 6,  7,  8,  9, 10, 11, 12, 13, 14, 15, 16, 17, 18, 19])"
      ]
     },
     "execution_count": 66,
     "metadata": {},
     "output_type": "execute_result"
    }
   ],
   "source": [
    "a[a>5] # True 만 나옴.\n",
    "# 이런 방식을 boolean 인덱싱이라고 함.\n",
    "# 내 조건에 따라서 원하는 값 뽑아내는 것."
   ]
  },
  {
   "cell_type": "code",
   "execution_count": 67,
   "id": "c73321f6",
   "metadata": {
    "ExecuteTime": {
     "end_time": "2023-03-16T07:26:05.372880Z",
     "start_time": "2023-03-16T07:26:05.358111Z"
    }
   },
   "outputs": [
    {
     "data": {
      "text/plain": [
       "array([[5, 6, 7, 8, 9]])"
      ]
     },
     "execution_count": 67,
     "metadata": {},
     "output_type": "execute_result"
    }
   ],
   "source": [
    "# 세번째 방법 - fancy 인덱싱 (=advanced indexing)\n",
    "a[[1]]\n",
    "# 인덱싱은 항상 내 차원보다 낮게 가져왔음. 그런데 이것은 자기 차원을 그대로 유지함.\n",
    "# 굉장히 중요한 테크닉. 나중에 판다스, sklearn 에서 많이 나옴. 차원을 유지한다."
   ]
  },
  {
   "cell_type": "code",
   "execution_count": 68,
   "id": "ce2e6bc5",
   "metadata": {
    "ExecuteTime": {
     "end_time": "2023-03-16T07:26:38.631801Z",
     "start_time": "2023-03-16T07:26:38.613068Z"
    }
   },
   "outputs": [
    {
     "data": {
      "text/plain": [
       "array([[ 0,  1,  2,  3,  4],\n",
       "       [ 5,  6,  7,  8,  9],\n",
       "       [10, 11, 12, 13, 14],\n",
       "       [15, 16, 17, 18, 19]])"
      ]
     },
     "execution_count": 68,
     "metadata": {},
     "output_type": "execute_result"
    }
   ],
   "source": [
    "a"
   ]
  },
  {
   "cell_type": "code",
   "execution_count": 69,
   "id": "cc382b75",
   "metadata": {
    "ExecuteTime": {
     "end_time": "2023-03-16T07:27:51.612830Z",
     "start_time": "2023-03-16T07:27:51.592377Z"
    }
   },
   "outputs": [
    {
     "data": {
      "text/plain": [
       "array([[ 5,  6,  7,  8,  9],\n",
       "       [10, 11, 12, 13, 14]])"
      ]
     },
     "execution_count": 69,
     "metadata": {},
     "output_type": "execute_result"
    }
   ],
   "source": [
    "a[[1,2]]  # 1행 2행을 뽑아줌"
   ]
  },
  {
   "cell_type": "code",
   "execution_count": 70,
   "id": "449383c2",
   "metadata": {
    "ExecuteTime": {
     "end_time": "2023-03-16T07:28:06.860915Z",
     "start_time": "2023-03-16T07:28:06.842743Z"
    }
   },
   "outputs": [
    {
     "data": {
      "text/plain": [
       "array([[15, 16, 17, 18, 19],\n",
       "       [ 5,  6,  7,  8,  9],\n",
       "       [10, 11, 12, 13, 14]])"
      ]
     },
     "execution_count": 70,
     "metadata": {},
     "output_type": "execute_result"
    }
   ],
   "source": [
    "a[[3,1,2]] # 새로운 데이터 구조를 만들어줌"
   ]
  },
  {
   "cell_type": "code",
   "execution_count": 71,
   "id": "63373e57",
   "metadata": {
    "ExecuteTime": {
     "end_time": "2023-03-16T07:29:19.831672Z",
     "start_time": "2023-03-16T07:29:19.821223Z"
    }
   },
   "outputs": [
    {
     "data": {
      "text/plain": [
       "array([2, 8])"
      ]
     },
     "execution_count": 71,
     "metadata": {},
     "output_type": "execute_result"
    }
   ],
   "source": [
    "# 네번째 방법\n",
    "a[(0,1),(2,3)] # 앞의 것이 행 뒤의 것이 열  (0,2)=2 (1,3)=8"
   ]
  },
  {
   "cell_type": "code",
   "execution_count": 72,
   "id": "425c7bfc",
   "metadata": {
    "ExecuteTime": {
     "end_time": "2023-03-16T07:30:03.710713Z",
     "start_time": "2023-03-16T07:30:03.696983Z"
    }
   },
   "outputs": [
    {
     "data": {
      "text/plain": [
       "array([2, 8])"
      ]
     },
     "execution_count": 72,
     "metadata": {},
     "output_type": "execute_result"
    }
   ],
   "source": [
    "# 튜플 대신 리스트 써도 같은 결과가 나옴\n",
    "a[[0,1],[2,3]]"
   ]
  },
  {
   "cell_type": "code",
   "execution_count": null,
   "id": "e2f378d6",
   "metadata": {},
   "outputs": [],
   "source": [
    "# 다섯번째 방법 -> 딥러닝에서 제일 잘 나옴 [..., ] 이렇게 나옴.\n",
    "# 여기까지 기본적으로 5가지의 인덱싱과 슬라이싱."
   ]
  },
  {
   "cell_type": "code",
   "execution_count": null,
   "id": "9c6b38a6",
   "metadata": {},
   "outputs": [],
   "source": [
    "# 인덱싱과 슬라이싱을 하면 데이터를 만들 수도 있음. 엄청나게 많은 메소드가 있음."
   ]
  },
  {
   "cell_type": "markdown",
   "id": "a52fd98e",
   "metadata": {},
   "source": [
    "#### 넘파이의 연산"
   ]
  },
  {
   "cell_type": "code",
   "execution_count": 74,
   "id": "846be30b",
   "metadata": {
    "ExecuteTime": {
     "end_time": "2023-03-16T07:49:10.872019Z",
     "start_time": "2023-03-16T07:49:10.862591Z"
    }
   },
   "outputs": [],
   "source": [
    "a = np.arange(6).reshape(2,3)\n",
    "b = np.arange(6, 12).reshape(2,3)"
   ]
  },
  {
   "cell_type": "code",
   "execution_count": 75,
   "id": "a95e010a",
   "metadata": {
    "ExecuteTime": {
     "end_time": "2023-03-16T07:49:13.096320Z",
     "start_time": "2023-03-16T07:49:13.080697Z"
    }
   },
   "outputs": [
    {
     "data": {
      "text/plain": [
       "array([[0, 1, 2],\n",
       "       [3, 4, 5]])"
      ]
     },
     "execution_count": 75,
     "metadata": {},
     "output_type": "execute_result"
    }
   ],
   "source": [
    "a"
   ]
  },
  {
   "cell_type": "code",
   "execution_count": 76,
   "id": "1bb14907",
   "metadata": {
    "ExecuteTime": {
     "end_time": "2023-03-16T07:49:15.695487Z",
     "start_time": "2023-03-16T07:49:15.685061Z"
    }
   },
   "outputs": [
    {
     "data": {
      "text/plain": [
       "array([[ 6,  7,  8],\n",
       "       [ 9, 10, 11]])"
      ]
     },
     "execution_count": 76,
     "metadata": {},
     "output_type": "execute_result"
    }
   ],
   "source": [
    "b"
   ]
  },
  {
   "cell_type": "code",
   "execution_count": null,
   "id": "0dfdf76c",
   "metadata": {},
   "outputs": [],
   "source": [
    "# 연산자가 있으면 그 연산자에 대응하는 메소드가 있음. 또 메소드에 대응하는 함수가 있다."
   ]
  },
  {
   "cell_type": "code",
   "execution_count": 77,
   "id": "8fc4e242",
   "metadata": {
    "ExecuteTime": {
     "end_time": "2023-03-16T07:49:54.663594Z",
     "start_time": "2023-03-16T07:49:54.643234Z"
    }
   },
   "outputs": [
    {
     "data": {
      "text/plain": [
       "array([[ 6,  8, 10],\n",
       "       [12, 14, 16]])"
      ]
     },
     "execution_count": 77,
     "metadata": {},
     "output_type": "execute_result"
    }
   ],
   "source": [
    "a+b"
   ]
  },
  {
   "cell_type": "code",
   "execution_count": 78,
   "id": "d45c5a10",
   "metadata": {
    "ExecuteTime": {
     "end_time": "2023-03-16T07:50:04.785880Z",
     "start_time": "2023-03-16T07:50:04.774276Z"
    }
   },
   "outputs": [
    {
     "data": {
      "text/plain": [
       "array([[ 6,  8, 10],\n",
       "       [12, 14, 16]])"
      ]
     },
     "execution_count": 78,
     "metadata": {},
     "output_type": "execute_result"
    }
   ],
   "source": [
    "a.__add__(b)"
   ]
  },
  {
   "cell_type": "code",
   "execution_count": 79,
   "id": "ea803d3b",
   "metadata": {
    "ExecuteTime": {
     "end_time": "2023-03-16T07:50:28.504117Z",
     "start_time": "2023-03-16T07:50:28.492469Z"
    }
   },
   "outputs": [
    {
     "data": {
      "text/plain": [
       "array([[ 6,  8, 10],\n",
       "       [12, 14, 16]])"
      ]
     },
     "execution_count": 79,
     "metadata": {},
     "output_type": "execute_result"
    }
   ],
   "source": [
    "np.add(a, b)"
   ]
  },
  {
   "cell_type": "code",
   "execution_count": null,
   "id": "2a7fcc93",
   "metadata": {},
   "outputs": [],
   "source": [
    "# 즉 이런 개념은 파이썬 개념이랑 똑같다.\n",
    "# 연산자 오버로딩 -> 연산자의 기능을 바꿀 수 있다.\n",
    "# 원래 더하기는 시퀀스 형에서는 뒤에 가져다 붙히는데, element-wise 하게 바꿔놓는 것 => 연산자 오버로딩"
   ]
  },
  {
   "cell_type": "code",
   "execution_count": 80,
   "id": "6c21235a",
   "metadata": {
    "ExecuteTime": {
     "end_time": "2023-03-16T07:52:08.772823Z",
     "start_time": "2023-03-16T07:52:08.752836Z"
    }
   },
   "outputs": [
    {
     "data": {
      "text/plain": [
       "[1, 2, 3, 4, 5, 6]"
      ]
     },
     "execution_count": 80,
     "metadata": {},
     "output_type": "execute_result"
    }
   ],
   "source": [
    "[1,2] + [3,4,5,6]  # 모양 달라도 연산 가능. 갖다 붙히니까."
   ]
  },
  {
   "cell_type": "code",
   "execution_count": 81,
   "id": "c048673e",
   "metadata": {
    "ExecuteTime": {
     "end_time": "2023-03-16T07:53:26.976504Z",
     "start_time": "2023-03-16T07:53:26.968443Z"
    }
   },
   "outputs": [],
   "source": [
    "# 그런데 element-wise 는 모양이 같아야 함. 짝이 맞아야 하니까. shape 이 같아야 함.\n",
    "aa = np.arange(6).reshape(2,3)\n",
    "bb = np.arange(6, 12).reshape(3,2)"
   ]
  },
  {
   "cell_type": "code",
   "execution_count": null,
   "id": "4ac1d831",
   "metadata": {},
   "outputs": [],
   "source": [
    "# 우리는 array 를 배움. vectorize(element-wise)한 array. 수학적 컨셉도 표현할 수 있는 array를 배우고 있음."
   ]
  },
  {
   "cell_type": "code",
   "execution_count": 82,
   "id": "aa078faa",
   "metadata": {
    "ExecuteTime": {
     "end_time": "2023-03-16T07:53:32.498576Z",
     "start_time": "2023-03-16T07:53:32.464426Z"
    }
   },
   "outputs": [
    {
     "ename": "ValueError",
     "evalue": "operands could not be broadcast together with shapes (2,3) (3,2) ",
     "output_type": "error",
     "traceback": [
      "\u001B[0;31m---------------------------------------------------------------------------\u001B[0m",
      "\u001B[0;31mValueError\u001B[0m                                Traceback (most recent call last)",
      "Cell \u001B[0;32mIn[82], line 1\u001B[0m\n\u001B[0;32m----> 1\u001B[0m \u001B[43maa\u001B[49m\u001B[43m \u001B[49m\u001B[38;5;241;43m+\u001B[39;49m\u001B[43m \u001B[49m\u001B[43mbb\u001B[49m\n",
      "\u001B[0;31mValueError\u001B[0m: operands could not be broadcast together with shapes (2,3) (3,2) "
     ]
    }
   ],
   "source": [
    "aa + bb\n",
    "# could not be broadcast"
   ]
  },
  {
   "cell_type": "code",
   "execution_count": null,
   "id": "118e6a6e",
   "metadata": {},
   "outputs": [],
   "source": [
    "# 브로드캐스트는 모양을 맞춰주는 것이라고 생각하면 됨.\n",
    "# 넘파이의 특징 1. 강력하다, 효율적이다. 2. 쉽다\n",
    "# 브로드캐스트가 특수한 경우에 자동적으로 모양을 맞춰줌"
   ]
  },
  {
   "cell_type": "code",
   "execution_count": 83,
   "id": "44e956d8",
   "metadata": {
    "ExecuteTime": {
     "end_time": "2023-03-16T07:54:30.429779Z",
     "start_time": "2023-03-16T07:54:30.409480Z"
    }
   },
   "outputs": [
    {
     "data": {
      "text/plain": [
       "array([[0, 1, 2],\n",
       "       [3, 4, 5]])"
      ]
     },
     "execution_count": 83,
     "metadata": {},
     "output_type": "execute_result"
    }
   ],
   "source": [
    "aa"
   ]
  },
  {
   "cell_type": "code",
   "execution_count": 84,
   "id": "6339e9b7",
   "metadata": {
    "ExecuteTime": {
     "end_time": "2023-03-16T07:54:40.953042Z",
     "start_time": "2023-03-16T07:54:40.938231Z"
    }
   },
   "outputs": [
    {
     "data": {
      "text/plain": [
       "array([[1, 2, 3],\n",
       "       [4, 5, 6]])"
      ]
     },
     "execution_count": 84,
     "metadata": {},
     "output_type": "execute_result"
    }
   ],
   "source": [
    "# 브로드캐스팅 때문에 가능함\n",
    "aa + 1  # 스칼라랑 더하면, 앞의 shape 과 똑같이 만들어줌."
   ]
  },
  {
   "cell_type": "code",
   "execution_count": 85,
   "id": "33a24b98",
   "metadata": {
    "ExecuteTime": {
     "end_time": "2023-03-16T07:55:19.101884Z",
     "start_time": "2023-03-16T07:55:19.089526Z"
    }
   },
   "outputs": [
    {
     "data": {
      "text/plain": [
       "array([[False, False, False],\n",
       "       [False,  True,  True]])"
      ]
     },
     "execution_count": 85,
     "metadata": {},
     "output_type": "execute_result"
    }
   ],
   "source": [
    "a > 3 # 이것도 자동으로 모양맞춰서 연산하는 것. 즉, 브로드캐스팅\n",
    "# 브로드캐스팅은 조건이 여러가지가 있음.\n",
    "# 연산할 때 모양을 자동으로 맞춰주기 때문에 넘파이가 쉬움."
   ]
  },
  {
   "cell_type": "code",
   "execution_count": null,
   "id": "ee3a1469",
   "metadata": {},
   "outputs": [],
   "source": [
    "# 행렬곱 - 모양 맞추기."
   ]
  },
  {
   "cell_type": "code",
   "execution_count": 86,
   "id": "961ff490",
   "metadata": {
    "ExecuteTime": {
     "end_time": "2023-03-16T07:57:52.161324Z",
     "start_time": "2023-03-16T07:57:52.130828Z"
    }
   },
   "outputs": [
    {
     "ename": "ValueError",
     "evalue": "operands could not be broadcast together with shapes (2,3) (3,2) ",
     "output_type": "error",
     "traceback": [
      "\u001B[0;31m---------------------------------------------------------------------------\u001B[0m",
      "\u001B[0;31mValueError\u001B[0m                                Traceback (most recent call last)",
      "Cell \u001B[0;32mIn[86], line 1\u001B[0m\n\u001B[0;32m----> 1\u001B[0m \u001B[43maa\u001B[49m\u001B[43m \u001B[49m\u001B[38;5;241;43m*\u001B[39;49m\u001B[43m \u001B[49m\u001B[43mbb\u001B[49m\n",
      "\u001B[0;31mValueError\u001B[0m: operands could not be broadcast together with shapes (2,3) (3,2) "
     ]
    }
   ],
   "source": [
    "aa * bb  # * 가 행렬곱은 아니라는 것."
   ]
  },
  {
   "cell_type": "code",
   "execution_count": 87,
   "id": "099604c6",
   "metadata": {
    "ExecuteTime": {
     "end_time": "2023-03-16T07:58:10.637370Z",
     "start_time": "2023-03-16T07:58:10.615067Z"
    }
   },
   "outputs": [
    {
     "data": {
      "text/plain": [
       "array([[ 28,  31],\n",
       "       [100, 112]])"
      ]
     },
     "execution_count": 87,
     "metadata": {},
     "output_type": "execute_result"
    }
   ],
   "source": [
    "aa @ bb  # 이 @가 행렬곱. 파이썬 재단에서 넘파이를 위해 만들어준 애"
   ]
  },
  {
   "cell_type": "code",
   "execution_count": 88,
   "id": "b6e87104",
   "metadata": {
    "ExecuteTime": {
     "end_time": "2023-03-16T07:58:35.809941Z",
     "start_time": "2023-03-16T07:58:35.797117Z"
    }
   },
   "outputs": [
    {
     "data": {
      "text/plain": [
       "array([[0, 1, 2],\n",
       "       [3, 4, 5]])"
      ]
     },
     "execution_count": 88,
     "metadata": {},
     "output_type": "execute_result"
    }
   ],
   "source": [
    "a"
   ]
  },
  {
   "cell_type": "code",
   "execution_count": 89,
   "id": "f819b22b",
   "metadata": {
    "ExecuteTime": {
     "end_time": "2023-03-16T07:58:37.665756Z",
     "start_time": "2023-03-16T07:58:37.651485Z"
    }
   },
   "outputs": [
    {
     "data": {
      "text/plain": [
       "array([[ 6,  7,  8],\n",
       "       [ 9, 10, 11]])"
      ]
     },
     "execution_count": 89,
     "metadata": {},
     "output_type": "execute_result"
    }
   ],
   "source": [
    "b"
   ]
  },
  {
   "cell_type": "code",
   "execution_count": 90,
   "id": "5f8f9c03",
   "metadata": {
    "ExecuteTime": {
     "end_time": "2023-03-16T07:58:42.828950Z",
     "start_time": "2023-03-16T07:58:42.807945Z"
    }
   },
   "outputs": [
    {
     "data": {
      "text/plain": [
       "array([[ 0,  7, 16],\n",
       "       [27, 40, 55]])"
      ]
     },
     "execution_count": 90,
     "metadata": {},
     "output_type": "execute_result"
    }
   ],
   "source": [
    "a * b  # 이것은 element-wise 곱"
   ]
  },
  {
   "cell_type": "code",
   "execution_count": 91,
   "id": "6573eb83",
   "metadata": {
    "ExecuteTime": {
     "end_time": "2023-03-16T07:58:57.915734Z",
     "start_time": "2023-03-16T07:58:57.882305Z"
    }
   },
   "outputs": [
    {
     "ename": "ValueError",
     "evalue": "matmul: Input operand 1 has a mismatch in its core dimension 0, with gufunc signature (n?,k),(k,m?)->(n?,m?) (size 2 is different from 3)",
     "output_type": "error",
     "traceback": [
      "\u001B[0;31m---------------------------------------------------------------------------\u001B[0m",
      "\u001B[0;31mValueError\u001B[0m                                Traceback (most recent call last)",
      "Cell \u001B[0;32mIn[91], line 1\u001B[0m\n\u001B[0;32m----> 1\u001B[0m \u001B[43ma\u001B[49m\u001B[43m \u001B[49m\u001B[38;5;241;43m@\u001B[39;49m\u001B[43m \u001B[49m\u001B[43mb\u001B[49m\n",
      "\u001B[0;31mValueError\u001B[0m: matmul: Input operand 1 has a mismatch in its core dimension 0, with gufunc signature (n?,k),(k,m?)->(n?,m?) (size 2 is different from 3)"
     ]
    }
   ],
   "source": [
    "a @ b  # 이게 행렬곱"
   ]
  },
  {
   "cell_type": "code",
   "execution_count": null,
   "id": "6daab158",
   "metadata": {},
   "outputs": [],
   "source": [
    "# 연산자 몰라도, 파이썬은 연산자/함수/메소드가 있기 때문에 괜찮음.\n",
    "# 연산의 법칙 첫번째는 모양을 맞춰야 하는 것!! 행렬 연산은 모양 맞추기!\n",
    "# 그런데 예외는, 넘파이는 브로드캐스팅을 지원해서 특수한 상황에서 자동적으로 모양을 맞춰주더라."
   ]
  },
  {
   "cell_type": "code",
   "execution_count": 92,
   "id": "afb66449",
   "metadata": {
    "ExecuteTime": {
     "end_time": "2023-03-16T08:00:42.330796Z",
     "start_time": "2023-03-16T08:00:42.319460Z"
    }
   },
   "outputs": [],
   "source": [
    "# 이 두번째는 꼭 기억해야 함!!\n",
    "a = np.array([1,2,3])\n",
    "b = np.array([1,2,3])"
   ]
  },
  {
   "cell_type": "code",
   "execution_count": 93,
   "id": "e256cc7f",
   "metadata": {
    "ExecuteTime": {
     "end_time": "2023-03-16T08:00:45.264672Z",
     "start_time": "2023-03-16T08:00:45.255170Z"
    }
   },
   "outputs": [
    {
     "data": {
      "text/plain": [
       "array([1, 4, 9])"
      ]
     },
     "execution_count": 93,
     "metadata": {},
     "output_type": "execute_result"
    }
   ],
   "source": [
    "a * b  # dot.product 이것이 바로 내적연산. 순서대로 곱하는 것"
   ]
  },
  {
   "cell_type": "code",
   "execution_count": 94,
   "id": "611d8a7d",
   "metadata": {
    "ExecuteTime": {
     "end_time": "2023-03-16T08:01:58.218547Z",
     "start_time": "2023-03-16T08:01:58.206833Z"
    }
   },
   "outputs": [
    {
     "data": {
      "text/plain": [
       "14"
      ]
     },
     "execution_count": 94,
     "metadata": {},
     "output_type": "execute_result"
    }
   ],
   "source": [
    "a.dot(b)  # 1*1 + 2*2 + 3*3"
   ]
  },
  {
   "cell_type": "code",
   "execution_count": 95,
   "id": "2d28013d",
   "metadata": {
    "ExecuteTime": {
     "end_time": "2023-03-16T08:02:23.993180Z",
     "start_time": "2023-03-16T08:02:23.982057Z"
    }
   },
   "outputs": [
    {
     "data": {
      "text/plain": [
       "14"
      ]
     },
     "execution_count": 95,
     "metadata": {},
     "output_type": "execute_result"
    }
   ],
   "source": [
    "np.dot(a,b)"
   ]
  },
  {
   "cell_type": "code",
   "execution_count": 96,
   "id": "1f07e091",
   "metadata": {
    "ExecuteTime": {
     "end_time": "2023-03-16T08:02:33.146765Z",
     "start_time": "2023-03-16T08:02:33.127673Z"
    }
   },
   "outputs": [
    {
     "data": {
      "text/plain": [
       "array([1, 4, 9])"
      ]
     },
     "execution_count": 96,
     "metadata": {},
     "output_type": "execute_result"
    }
   ],
   "source": [
    "np.multiply(a,b)  # 서로 위치 맞는 것 곱해서 전체 더하는 것. => 내적"
   ]
  },
  {
   "cell_type": "code",
   "execution_count": 97,
   "id": "c7f1df69",
   "metadata": {
    "ExecuteTime": {
     "end_time": "2023-03-16T08:03:31.375049Z",
     "start_time": "2023-03-16T08:03:31.358436Z"
    }
   },
   "outputs": [
    {
     "data": {
      "text/plain": [
       "array([[0, 1, 2],\n",
       "       [3, 4, 5]])"
      ]
     },
     "execution_count": 97,
     "metadata": {},
     "output_type": "execute_result"
    }
   ],
   "source": [
    "aa"
   ]
  },
  {
   "cell_type": "code",
   "execution_count": 98,
   "id": "04fae53e",
   "metadata": {
    "ExecuteTime": {
     "end_time": "2023-03-16T08:03:33.012442Z",
     "start_time": "2023-03-16T08:03:32.996233Z"
    }
   },
   "outputs": [
    {
     "data": {
      "text/plain": [
       "array([[ 6,  7],\n",
       "       [ 8,  9],\n",
       "       [10, 11]])"
      ]
     },
     "execution_count": 98,
     "metadata": {},
     "output_type": "execute_result"
    }
   ],
   "source": [
    "bb"
   ]
  },
  {
   "cell_type": "code",
   "execution_count": 99,
   "id": "55a03fa7",
   "metadata": {
    "ExecuteTime": {
     "end_time": "2023-03-16T08:03:43.178359Z",
     "start_time": "2023-03-16T08:03:43.122994Z"
    }
   },
   "outputs": [
    {
     "ename": "ValueError",
     "evalue": "operands could not be broadcast together with shapes (2,3) (3,2) ",
     "output_type": "error",
     "traceback": [
      "\u001B[0;31m---------------------------------------------------------------------------\u001B[0m",
      "\u001B[0;31mValueError\u001B[0m                                Traceback (most recent call last)",
      "Cell \u001B[0;32mIn[99], line 1\u001B[0m\n\u001B[0;32m----> 1\u001B[0m \u001B[43mnp\u001B[49m\u001B[38;5;241;43m.\u001B[39;49m\u001B[43mmultiply\u001B[49m\u001B[43m(\u001B[49m\u001B[43maa\u001B[49m\u001B[43m,\u001B[49m\u001B[43mbb\u001B[49m\u001B[43m)\u001B[49m\n",
      "\u001B[0;31mValueError\u001B[0m: operands could not be broadcast together with shapes (2,3) (3,2) "
     ]
    }
   ],
   "source": [
    "np.multiply(aa,bb)  # 모양 안 맞으니까 안됨"
   ]
  },
  {
   "cell_type": "code",
   "execution_count": 100,
   "id": "b05c2221",
   "metadata": {
    "ExecuteTime": {
     "end_time": "2023-03-16T08:03:55.859400Z",
     "start_time": "2023-03-16T08:03:55.843857Z"
    }
   },
   "outputs": [
    {
     "data": {
      "text/plain": [
       "array([[ 28,  31],\n",
       "       [100, 112]])"
      ]
     },
     "execution_count": 100,
     "metadata": {},
     "output_type": "execute_result"
    }
   ],
   "source": [
    "np.dot(aa,bb)  # dot이 행렬곱 연산이 됨."
   ]
  },
  {
   "cell_type": "code",
   "execution_count": 101,
   "id": "9846dfb0",
   "metadata": {
    "ExecuteTime": {
     "end_time": "2023-03-16T08:04:18.319058Z",
     "start_time": "2023-03-16T08:04:18.302299Z"
    }
   },
   "outputs": [
    {
     "data": {
      "text/plain": [
       "array([[ 28,  31],\n",
       "       [100, 112]])"
      ]
     },
     "execution_count": 101,
     "metadata": {},
     "output_type": "execute_result"
    }
   ],
   "source": [
    "# 그러면 같은 메소드지만, shape에 따라서 결과값이 다르게 나옴.\n",
    "aa.dot(bb)"
   ]
  },
  {
   "cell_type": "code",
   "execution_count": null,
   "id": "5cec35e9",
   "metadata": {},
   "outputs": [],
   "source": [
    "# 이런 것은 파이썬의 다형성과 같아보임!! 다형성 때문에 이렇게 만들어 놓은 것.\n",
    "# 1. 연산은 기본적으로 shape 이 중요. 브로드캐스팅이 있어서 모양 달라도 괜찮은 경우가 있음.\n",
    "# 2. shape 에 따라서 연산결과 다를 수 있다. 다형성 때문에. 따라서 연산을 조심해야 함\n",
    "#   => tensor, torch 도 다 똑같음. numpy 기반으로 만들었기 때문에."
   ]
  },
  {
   "cell_type": "code",
   "execution_count": 102,
   "id": "45ad30f9",
   "metadata": {
    "ExecuteTime": {
     "end_time": "2023-03-16T08:08:24.213129Z",
     "start_time": "2023-03-16T08:08:24.198659Z"
    }
   },
   "outputs": [
    {
     "data": {
      "text/plain": [
       "14"
      ]
     },
     "execution_count": 102,
     "metadata": {},
     "output_type": "execute_result"
    }
   ],
   "source": [
    "a @ b  # @ 는 행렬곱인데 벡터에 연산을 하면 내적이 됨."
   ]
  },
  {
   "cell_type": "code",
   "execution_count": 106,
   "id": "aa0772d1",
   "metadata": {
    "ExecuteTime": {
     "end_time": "2023-03-16T08:10:24.492313Z",
     "start_time": "2023-03-16T08:10:24.479905Z"
    }
   },
   "outputs": [],
   "source": [
    "# 다형성은 데이터 타입에 따라서 연산결과 다른 것.\n",
    "# 넘파이의 어떤 데이터 타입도 있냐면, 매트릭스\n",
    "aa = np.mat([[1,2,3],[3,4,5]])\n",
    "bb = np.mat([[1,2,],[3,4,], [4,5]])"
   ]
  },
  {
   "cell_type": "code",
   "execution_count": 107,
   "id": "5c580fe0",
   "metadata": {
    "ExecuteTime": {
     "end_time": "2023-03-16T08:10:26.904850Z",
     "start_time": "2023-03-16T08:10:26.885029Z"
    }
   },
   "outputs": [
    {
     "data": {
      "text/plain": [
       "matrix([[1, 2, 3],\n",
       "        [3, 4, 5]])"
      ]
     },
     "execution_count": 107,
     "metadata": {},
     "output_type": "execute_result"
    }
   ],
   "source": [
    "aa"
   ]
  },
  {
   "cell_type": "code",
   "execution_count": 108,
   "id": "70a67e76",
   "metadata": {
    "ExecuteTime": {
     "end_time": "2023-03-16T08:10:27.380377Z",
     "start_time": "2023-03-16T08:10:27.367847Z"
    }
   },
   "outputs": [
    {
     "data": {
      "text/plain": [
       "matrix([[19, 25],\n",
       "        [35, 47]])"
      ]
     },
     "execution_count": 108,
     "metadata": {},
     "output_type": "execute_result"
    }
   ],
   "source": [
    "aa @ bb"
   ]
  },
  {
   "cell_type": "code",
   "execution_count": 110,
   "id": "6ee5be56",
   "metadata": {
    "ExecuteTime": {
     "end_time": "2023-03-16T08:10:38.827495Z",
     "start_time": "2023-03-16T08:10:38.816146Z"
    }
   },
   "outputs": [
    {
     "data": {
      "text/plain": [
       "matrix([[19, 25],\n",
       "        [35, 47]])"
      ]
     },
     "execution_count": 110,
     "metadata": {},
     "output_type": "execute_result"
    }
   ],
   "source": [
    "aa * bb"
   ]
  },
  {
   "cell_type": "code",
   "execution_count": null,
   "id": "199e4bfc",
   "metadata": {},
   "outputs": [],
   "source": [
    "# 매트릭스는 곱하는 것을 행렬곱으로 인식해버린다. 그게 바로 다형성. 데이터 타입에 따라서 연산결과 달라지는 것.\n",
    "# 객체지향이 이런 것 때문에 쉬울 수도 있고 어려울 수도 있음"
   ]
  },
  {
   "cell_type": "code",
   "execution_count": 111,
   "id": "28b9c94d",
   "metadata": {
    "ExecuteTime": {
     "end_time": "2023-03-16T08:12:22.674619Z",
     "start_time": "2023-03-16T08:12:22.636810Z"
    }
   },
   "outputs": [
    {
     "ename": "ValueError",
     "evalue": "operands could not be broadcast together with shapes (2,3) (3,2) ",
     "output_type": "error",
     "traceback": [
      "\u001B[0;31m---------------------------------------------------------------------------\u001B[0m",
      "\u001B[0;31mValueError\u001B[0m                                Traceback (most recent call last)",
      "Cell \u001B[0;32mIn[111], line 1\u001B[0m\n\u001B[0;32m----> 1\u001B[0m \u001B[43mnp\u001B[49m\u001B[38;5;241;43m.\u001B[39;49m\u001B[43mmultiply\u001B[49m\u001B[43m(\u001B[49m\u001B[43maa\u001B[49m\u001B[43m,\u001B[49m\u001B[43m \u001B[49m\u001B[43mbb\u001B[49m\u001B[43m)\u001B[49m\n",
      "\u001B[0;31mValueError\u001B[0m: operands could not be broadcast together with shapes (2,3) (3,2) "
     ]
    }
   ],
   "source": [
    "np.multiply(aa, bb)  # 이거는 또 안됨."
   ]
  },
  {
   "cell_type": "code",
   "execution_count": null,
   "id": "01c24688",
   "metadata": {},
   "outputs": [],
   "source": [
    "# 넘파이의 u-function.\n",
    "# ufunc => u는 universial 이라는 뜻\n",
    "# 어떠한 데이터타입에서 잘 사용할 수 있는 함수"
   ]
  },
  {
   "cell_type": "code",
   "execution_count": 112,
   "id": "9d06048c",
   "metadata": {
    "ExecuteTime": {
     "end_time": "2023-03-16T08:15:23.879185Z",
     "start_time": "2023-03-16T08:15:23.854540Z"
    }
   },
   "outputs": [
    {
     "data": {
      "text/plain": [
       "4"
      ]
     },
     "execution_count": 112,
     "metadata": {},
     "output_type": "execute_result"
    }
   ],
   "source": [
    "np.add(1,3)\n",
    "# Type:            ufunc"
   ]
  },
  {
   "cell_type": "code",
   "execution_count": 115,
   "id": "1f31677a",
   "metadata": {
    "ExecuteTime": {
     "end_time": "2023-03-16T08:15:42.163847Z",
     "start_time": "2023-03-16T08:15:42.139479Z"
    }
   },
   "outputs": [
    {
     "data": {
      "text/plain": [
       "array([5, 7, 9])"
      ]
     },
     "execution_count": 115,
     "metadata": {},
     "output_type": "execute_result"
    }
   ],
   "source": [
    "np.add([1,2,3], [4,5,6])\n",
    "# 어떠한 데이터 타입이라도 쓸 수 있게 만들어주는 함수."
   ]
  },
  {
   "cell_type": "code",
   "execution_count": null,
   "id": "4fc985b9",
   "metadata": {},
   "outputs": [],
   "source": [
    "# 넘파이여도 없는 게 있다. 좀 고차원적인 애들은, 넘파이 기반으로 Scipy 에 있다!"
   ]
  },
  {
   "cell_type": "code",
   "execution_count": 116,
   "id": "2f40818e",
   "metadata": {
    "ExecuteTime": {
     "end_time": "2023-03-16T08:18:03.200655Z",
     "start_time": "2023-03-16T08:18:03.188276Z"
    }
   },
   "outputs": [],
   "source": [
    "import scipy"
   ]
  },
  {
   "cell_type": "code",
   "execution_count": 117,
   "id": "2aadc2e0",
   "metadata": {
    "ExecuteTime": {
     "end_time": "2023-03-16T08:18:07.307530Z",
     "start_time": "2023-03-16T08:18:07.294859Z"
    },
    "collapsed": true
   },
   "outputs": [
    {
     "data": {
      "text/plain": [
       "['LowLevelCallable',\n",
       " '__numpy_version__',\n",
       " '__version__',\n",
       " 'cluster',\n",
       " 'datasets',\n",
       " 'fft',\n",
       " 'fftpack',\n",
       " 'integrate',\n",
       " 'interpolate',\n",
       " 'io',\n",
       " 'linalg',\n",
       " 'misc',\n",
       " 'ndimage',\n",
       " 'odr',\n",
       " 'optimize',\n",
       " 'show_config',\n",
       " 'signal',\n",
       " 'sparse',\n",
       " 'spatial',\n",
       " 'special',\n",
       " 'stats',\n",
       " 'test']"
      ]
     },
     "execution_count": 117,
     "metadata": {},
     "output_type": "execute_result"
    }
   ],
   "source": [
    "dir(scipy)"
   ]
  },
  {
   "cell_type": "code",
   "execution_count": null,
   "id": "0134453d",
   "metadata": {},
   "outputs": [],
   "source": [
    "# scipy 는 넘파이로 만들어져 있다!\n",
    "from scipy import "
   ]
  },
  {
   "cell_type": "code",
   "execution_count": null,
   "id": "04d931db",
   "metadata": {},
   "outputs": [],
   "source": [
    "# 벡터 매트릭스를 어떻게 프로그래밍을 통해서 표현하는가를 배우는 것과 똑같다!!\n",
    "# 모든 게 객체다!!!!\n",
    "# 판다스는 넘파이의 기법 그대로 가져와서 만들었음"
   ]
  }
 ],
 "metadata": {
  "kernelspec": {
   "display_name": "Python 3 (ipykernel)",
   "language": "python",
   "name": "python3"
  },
  "language_info": {
   "codemirror_mode": {
    "name": "ipython",
    "version": 3
   },
   "file_extension": ".py",
   "mimetype": "text/x-python",
   "name": "python",
   "nbconvert_exporter": "python",
   "pygments_lexer": "ipython3",
   "version": "3.10.9"
  },
  "toc": {
   "base_numbering": 1,
   "nav_menu": {},
   "number_sections": true,
   "sideBar": true,
   "skip_h1_title": false,
   "title_cell": "Table of Contents",
   "title_sidebar": "Contents",
   "toc_cell": false,
   "toc_position": {},
   "toc_section_display": true,
   "toc_window_display": false
  },
  "varInspector": {
   "cols": {
    "lenName": 16,
    "lenType": 16,
    "lenVar": 40
   },
   "kernels_config": {
    "python": {
     "delete_cmd_postfix": "",
     "delete_cmd_prefix": "del ",
     "library": "var_list.py",
     "varRefreshCmd": "print(var_dic_list())"
    },
    "r": {
     "delete_cmd_postfix": ") ",
     "delete_cmd_prefix": "rm(",
     "library": "var_list.r",
     "varRefreshCmd": "cat(var_dic_list()) "
    }
   },
   "types_to_exclude": [
    "module",
    "function",
    "builtin_function_or_method",
    "instance",
    "_Feature"
   ],
   "window_display": false
  }
 },
 "nbformat": 4,
 "nbformat_minor": 5
}
