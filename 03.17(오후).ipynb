{
 "cells": [
  {
   "cell_type": "markdown",
   "id": "a3282b6d",
   "metadata": {},
   "source": [
    "### 지난시간 복습"
   ]
  },
  {
   "cell_type": "code",
   "execution_count": null,
   "id": "9cc1186c",
   "metadata": {},
   "outputs": [],
   "source": [
    "# numpy를 시작했음.\n",
    "# 뼈대를 잡았음.\n",
    "# numpy 는 라이브러리인데 그 안에 있는 array 라는 데이터 구조. 더 정확히는 ndarray 가 우리가 사용할 데이터의 가장 기본이 되는 애\n",
    "# ndarray는 프로그래밍 적으로는 array 인데, vertorize(element-wised) 하게 연산자 오버로딩함.\n",
    "# C 로 만들었고 하드웨어 까지 최대한 활용할 수 있기 때문에 파이썬으로 데이터 관련해서 얘를 안쓰는 경우가 없음.\n",
    "# array 는 거의 모든 수학적 컨셉을 대신할 수 있다.\n",
    "# 또한 강력하고 쉽다.\n",
    "# 어제 그 관점에서 만드는 경우는 별로 없어서 대충했음. 데이터 관련해서 첫번째 알아야 하는 것은 데이터를 선택하고 추출하는 것.\n",
    "# 그것을 우리는 인덱싱과 슬라이싱이라고 했음.\n",
    "# 기본적으로 5가지의 인덱싱과 슬라이싱을 배웠음. 그런데 어제 마지막 [...]을 안배웠음."
   ]
  },
  {
   "cell_type": "code",
   "execution_count": null,
   "id": "2e54a4c7",
   "metadata": {},
   "outputs": [],
   "source": [
    "# 인덱싱과 슬라이싱은 array 구조가 시퀀스 라서 당연히 됨.\n",
    "# 이것도 넘파이에서 확장을 시켜서 5가지 기능이 더 있는 것. 그것도 (연산자)오버로딩 혹은 (시퀀스 클래스 확장)오버라이딩이라고 할 수 있음\n",
    "# 시퀀스 클래스 확장이라고 하면, 덕타이핑 / abstraction(추상화) / 만들어진 애로 상속받는 방법\n",
    "# 그런데 넘파이는 C로 만들어짐.\n",
    "# 그 넘파이 고유의 특징들을 몇가지 봄.\n",
    "# property 중에서 shape, dtype, size... 연산. 브로드캐스트, ufuction 까지 봤음."
   ]
  },
  {
   "cell_type": "code",
   "execution_count": null,
   "id": "cb177aa9",
   "metadata": {},
   "outputs": [],
   "source": [
    "# MATLAB 이랑 비슷한 기능을 가짐. 많이 가져왔기 때문에. 여기서 가져온 또 하나가 matplotlib. 그 문법을 그대로 가져옴\n",
    "# nd 는 n차원 dimension\n",
    "# 데이터가 많으면 한눈에 보기 힘드니까 shape"
   ]
  },
  {
   "cell_type": "markdown",
   "id": "687b2043",
   "metadata": {},
   "source": [
    "### 수업"
   ]
  },
  {
   "cell_type": "code",
   "execution_count": null,
   "id": "163caf0c",
   "metadata": {},
   "outputs": [],
   "source": []
  },
  {
   "cell_type": "code",
   "execution_count": 2,
   "id": "7e662779",
   "metadata": {
    "ExecuteTime": {
     "end_time": "2023-03-17T05:33:03.359278Z",
     "start_time": "2023-03-17T05:33:03.351800Z"
    }
   },
   "outputs": [],
   "source": [
    "import tensorflow as tf"
   ]
  },
  {
   "cell_type": "code",
   "execution_count": 5,
   "id": "284a9a0b",
   "metadata": {
    "ExecuteTime": {
     "end_time": "2023-03-17T05:33:39.971282Z",
     "start_time": "2023-03-17T05:33:39.748522Z"
    },
    "scrolled": true
   },
   "outputs": [],
   "source": [
    "a = tf.keras.datasets.mnist.load_data()\n",
    "# 너무 많은 ... 으로 대치를 함."
   ]
  },
  {
   "cell_type": "code",
   "execution_count": 6,
   "id": "c9f6cb0e",
   "metadata": {
    "ExecuteTime": {
     "end_time": "2023-03-17T05:33:45.975374Z",
     "start_time": "2023-03-17T05:33:45.956045Z"
    },
    "scrolled": true
   },
   "outputs": [
    {
     "data": {
      "text/plain": [
       "((array([[[0, 0, 0, ..., 0, 0, 0],\n",
       "          [0, 0, 0, ..., 0, 0, 0],\n",
       "          [0, 0, 0, ..., 0, 0, 0],\n",
       "          ...,\n",
       "          [0, 0, 0, ..., 0, 0, 0],\n",
       "          [0, 0, 0, ..., 0, 0, 0],\n",
       "          [0, 0, 0, ..., 0, 0, 0]],\n",
       "  \n",
       "         [[0, 0, 0, ..., 0, 0, 0],\n",
       "          [0, 0, 0, ..., 0, 0, 0],\n",
       "          [0, 0, 0, ..., 0, 0, 0],\n",
       "          ...,\n",
       "          [0, 0, 0, ..., 0, 0, 0],\n",
       "          [0, 0, 0, ..., 0, 0, 0],\n",
       "          [0, 0, 0, ..., 0, 0, 0]],\n",
       "  \n",
       "         [[0, 0, 0, ..., 0, 0, 0],\n",
       "          [0, 0, 0, ..., 0, 0, 0],\n",
       "          [0, 0, 0, ..., 0, 0, 0],\n",
       "          ...,\n",
       "          [0, 0, 0, ..., 0, 0, 0],\n",
       "          [0, 0, 0, ..., 0, 0, 0],\n",
       "          [0, 0, 0, ..., 0, 0, 0]],\n",
       "  \n",
       "         ...,\n",
       "  \n",
       "         [[0, 0, 0, ..., 0, 0, 0],\n",
       "          [0, 0, 0, ..., 0, 0, 0],\n",
       "          [0, 0, 0, ..., 0, 0, 0],\n",
       "          ...,\n",
       "          [0, 0, 0, ..., 0, 0, 0],\n",
       "          [0, 0, 0, ..., 0, 0, 0],\n",
       "          [0, 0, 0, ..., 0, 0, 0]],\n",
       "  \n",
       "         [[0, 0, 0, ..., 0, 0, 0],\n",
       "          [0, 0, 0, ..., 0, 0, 0],\n",
       "          [0, 0, 0, ..., 0, 0, 0],\n",
       "          ...,\n",
       "          [0, 0, 0, ..., 0, 0, 0],\n",
       "          [0, 0, 0, ..., 0, 0, 0],\n",
       "          [0, 0, 0, ..., 0, 0, 0]],\n",
       "  \n",
       "         [[0, 0, 0, ..., 0, 0, 0],\n",
       "          [0, 0, 0, ..., 0, 0, 0],\n",
       "          [0, 0, 0, ..., 0, 0, 0],\n",
       "          ...,\n",
       "          [0, 0, 0, ..., 0, 0, 0],\n",
       "          [0, 0, 0, ..., 0, 0, 0],\n",
       "          [0, 0, 0, ..., 0, 0, 0]]], dtype=uint8),\n",
       "  array([5, 0, 4, ..., 5, 6, 8], dtype=uint8)),\n",
       " (array([[[0, 0, 0, ..., 0, 0, 0],\n",
       "          [0, 0, 0, ..., 0, 0, 0],\n",
       "          [0, 0, 0, ..., 0, 0, 0],\n",
       "          ...,\n",
       "          [0, 0, 0, ..., 0, 0, 0],\n",
       "          [0, 0, 0, ..., 0, 0, 0],\n",
       "          [0, 0, 0, ..., 0, 0, 0]],\n",
       "  \n",
       "         [[0, 0, 0, ..., 0, 0, 0],\n",
       "          [0, 0, 0, ..., 0, 0, 0],\n",
       "          [0, 0, 0, ..., 0, 0, 0],\n",
       "          ...,\n",
       "          [0, 0, 0, ..., 0, 0, 0],\n",
       "          [0, 0, 0, ..., 0, 0, 0],\n",
       "          [0, 0, 0, ..., 0, 0, 0]],\n",
       "  \n",
       "         [[0, 0, 0, ..., 0, 0, 0],\n",
       "          [0, 0, 0, ..., 0, 0, 0],\n",
       "          [0, 0, 0, ..., 0, 0, 0],\n",
       "          ...,\n",
       "          [0, 0, 0, ..., 0, 0, 0],\n",
       "          [0, 0, 0, ..., 0, 0, 0],\n",
       "          [0, 0, 0, ..., 0, 0, 0]],\n",
       "  \n",
       "         ...,\n",
       "  \n",
       "         [[0, 0, 0, ..., 0, 0, 0],\n",
       "          [0, 0, 0, ..., 0, 0, 0],\n",
       "          [0, 0, 0, ..., 0, 0, 0],\n",
       "          ...,\n",
       "          [0, 0, 0, ..., 0, 0, 0],\n",
       "          [0, 0, 0, ..., 0, 0, 0],\n",
       "          [0, 0, 0, ..., 0, 0, 0]],\n",
       "  \n",
       "         [[0, 0, 0, ..., 0, 0, 0],\n",
       "          [0, 0, 0, ..., 0, 0, 0],\n",
       "          [0, 0, 0, ..., 0, 0, 0],\n",
       "          ...,\n",
       "          [0, 0, 0, ..., 0, 0, 0],\n",
       "          [0, 0, 0, ..., 0, 0, 0],\n",
       "          [0, 0, 0, ..., 0, 0, 0]],\n",
       "  \n",
       "         [[0, 0, 0, ..., 0, 0, 0],\n",
       "          [0, 0, 0, ..., 0, 0, 0],\n",
       "          [0, 0, 0, ..., 0, 0, 0],\n",
       "          ...,\n",
       "          [0, 0, 0, ..., 0, 0, 0],\n",
       "          [0, 0, 0, ..., 0, 0, 0],\n",
       "          [0, 0, 0, ..., 0, 0, 0]]], dtype=uint8),\n",
       "  array([7, 2, 1, ..., 4, 5, 6], dtype=uint8)))"
      ]
     },
     "execution_count": 6,
     "metadata": {},
     "output_type": "execute_result"
    }
   ],
   "source": [
    "# len 테크닉\n",
    "a"
   ]
  },
  {
   "cell_type": "code",
   "execution_count": 7,
   "id": "fa3b5421",
   "metadata": {
    "ExecuteTime": {
     "end_time": "2023-03-17T05:34:06.846062Z",
     "start_time": "2023-03-17T05:34:06.827580Z"
    }
   },
   "outputs": [
    {
     "data": {
      "text/plain": [
       "2"
      ]
     },
     "execution_count": 7,
     "metadata": {},
     "output_type": "execute_result"
    }
   ],
   "source": [
    "len(a)"
   ]
  },
  {
   "cell_type": "code",
   "execution_count": 8,
   "id": "7a475abf",
   "metadata": {
    "ExecuteTime": {
     "end_time": "2023-03-17T05:34:16.713740Z",
     "start_time": "2023-03-17T05:34:16.692596Z"
    }
   },
   "outputs": [],
   "source": [
    "x, y = a"
   ]
  },
  {
   "cell_type": "code",
   "execution_count": 9,
   "id": "cedc7d8d",
   "metadata": {
    "ExecuteTime": {
     "end_time": "2023-03-17T05:34:20.488244Z",
     "start_time": "2023-03-17T05:34:20.470627Z"
    },
    "scrolled": true
   },
   "outputs": [
    {
     "data": {
      "text/plain": [
       "(array([[[0, 0, 0, ..., 0, 0, 0],\n",
       "         [0, 0, 0, ..., 0, 0, 0],\n",
       "         [0, 0, 0, ..., 0, 0, 0],\n",
       "         ...,\n",
       "         [0, 0, 0, ..., 0, 0, 0],\n",
       "         [0, 0, 0, ..., 0, 0, 0],\n",
       "         [0, 0, 0, ..., 0, 0, 0]],\n",
       " \n",
       "        [[0, 0, 0, ..., 0, 0, 0],\n",
       "         [0, 0, 0, ..., 0, 0, 0],\n",
       "         [0, 0, 0, ..., 0, 0, 0],\n",
       "         ...,\n",
       "         [0, 0, 0, ..., 0, 0, 0],\n",
       "         [0, 0, 0, ..., 0, 0, 0],\n",
       "         [0, 0, 0, ..., 0, 0, 0]],\n",
       " \n",
       "        [[0, 0, 0, ..., 0, 0, 0],\n",
       "         [0, 0, 0, ..., 0, 0, 0],\n",
       "         [0, 0, 0, ..., 0, 0, 0],\n",
       "         ...,\n",
       "         [0, 0, 0, ..., 0, 0, 0],\n",
       "         [0, 0, 0, ..., 0, 0, 0],\n",
       "         [0, 0, 0, ..., 0, 0, 0]],\n",
       " \n",
       "        ...,\n",
       " \n",
       "        [[0, 0, 0, ..., 0, 0, 0],\n",
       "         [0, 0, 0, ..., 0, 0, 0],\n",
       "         [0, 0, 0, ..., 0, 0, 0],\n",
       "         ...,\n",
       "         [0, 0, 0, ..., 0, 0, 0],\n",
       "         [0, 0, 0, ..., 0, 0, 0],\n",
       "         [0, 0, 0, ..., 0, 0, 0]],\n",
       " \n",
       "        [[0, 0, 0, ..., 0, 0, 0],\n",
       "         [0, 0, 0, ..., 0, 0, 0],\n",
       "         [0, 0, 0, ..., 0, 0, 0],\n",
       "         ...,\n",
       "         [0, 0, 0, ..., 0, 0, 0],\n",
       "         [0, 0, 0, ..., 0, 0, 0],\n",
       "         [0, 0, 0, ..., 0, 0, 0]],\n",
       " \n",
       "        [[0, 0, 0, ..., 0, 0, 0],\n",
       "         [0, 0, 0, ..., 0, 0, 0],\n",
       "         [0, 0, 0, ..., 0, 0, 0],\n",
       "         ...,\n",
       "         [0, 0, 0, ..., 0, 0, 0],\n",
       "         [0, 0, 0, ..., 0, 0, 0],\n",
       "         [0, 0, 0, ..., 0, 0, 0]]], dtype=uint8),\n",
       " array([5, 0, 4, ..., 5, 6, 8], dtype=uint8))"
      ]
     },
     "execution_count": 9,
     "metadata": {},
     "output_type": "execute_result"
    }
   ],
   "source": [
    "x"
   ]
  },
  {
   "cell_type": "code",
   "execution_count": 10,
   "id": "08672213",
   "metadata": {
    "ExecuteTime": {
     "end_time": "2023-03-17T05:34:32.204339Z",
     "start_time": "2023-03-17T05:34:32.182457Z"
    }
   },
   "outputs": [
    {
     "data": {
      "text/plain": [
       "2"
      ]
     },
     "execution_count": 10,
     "metadata": {},
     "output_type": "execute_result"
    }
   ],
   "source": [
    "len(x)"
   ]
  },
  {
   "cell_type": "code",
   "execution_count": 11,
   "id": "27443ef3",
   "metadata": {
    "ExecuteTime": {
     "end_time": "2023-03-17T05:35:22.705221Z",
     "start_time": "2023-03-17T05:35:22.688795Z"
    }
   },
   "outputs": [],
   "source": [
    "(X_train, y_train),(X_test, y_test) = a\n",
    "# 홀드 아웃\n",
    "# 트레이닝할 때 X는 관례로 대문자. 매트릭스라서\n",
    "# y는 벡터로 나와서 소문자(관례상)."
   ]
  },
  {
   "cell_type": "code",
   "execution_count": 12,
   "id": "57527cb0",
   "metadata": {
    "ExecuteTime": {
     "end_time": "2023-03-17T05:35:29.672375Z",
     "start_time": "2023-03-17T05:35:29.654631Z"
    },
    "scrolled": true
   },
   "outputs": [
    {
     "data": {
      "text/plain": [
       "array([[[0, 0, 0, ..., 0, 0, 0],\n",
       "        [0, 0, 0, ..., 0, 0, 0],\n",
       "        [0, 0, 0, ..., 0, 0, 0],\n",
       "        ...,\n",
       "        [0, 0, 0, ..., 0, 0, 0],\n",
       "        [0, 0, 0, ..., 0, 0, 0],\n",
       "        [0, 0, 0, ..., 0, 0, 0]],\n",
       "\n",
       "       [[0, 0, 0, ..., 0, 0, 0],\n",
       "        [0, 0, 0, ..., 0, 0, 0],\n",
       "        [0, 0, 0, ..., 0, 0, 0],\n",
       "        ...,\n",
       "        [0, 0, 0, ..., 0, 0, 0],\n",
       "        [0, 0, 0, ..., 0, 0, 0],\n",
       "        [0, 0, 0, ..., 0, 0, 0]],\n",
       "\n",
       "       [[0, 0, 0, ..., 0, 0, 0],\n",
       "        [0, 0, 0, ..., 0, 0, 0],\n",
       "        [0, 0, 0, ..., 0, 0, 0],\n",
       "        ...,\n",
       "        [0, 0, 0, ..., 0, 0, 0],\n",
       "        [0, 0, 0, ..., 0, 0, 0],\n",
       "        [0, 0, 0, ..., 0, 0, 0]],\n",
       "\n",
       "       ...,\n",
       "\n",
       "       [[0, 0, 0, ..., 0, 0, 0],\n",
       "        [0, 0, 0, ..., 0, 0, 0],\n",
       "        [0, 0, 0, ..., 0, 0, 0],\n",
       "        ...,\n",
       "        [0, 0, 0, ..., 0, 0, 0],\n",
       "        [0, 0, 0, ..., 0, 0, 0],\n",
       "        [0, 0, 0, ..., 0, 0, 0]],\n",
       "\n",
       "       [[0, 0, 0, ..., 0, 0, 0],\n",
       "        [0, 0, 0, ..., 0, 0, 0],\n",
       "        [0, 0, 0, ..., 0, 0, 0],\n",
       "        ...,\n",
       "        [0, 0, 0, ..., 0, 0, 0],\n",
       "        [0, 0, 0, ..., 0, 0, 0],\n",
       "        [0, 0, 0, ..., 0, 0, 0]],\n",
       "\n",
       "       [[0, 0, 0, ..., 0, 0, 0],\n",
       "        [0, 0, 0, ..., 0, 0, 0],\n",
       "        [0, 0, 0, ..., 0, 0, 0],\n",
       "        ...,\n",
       "        [0, 0, 0, ..., 0, 0, 0],\n",
       "        [0, 0, 0, ..., 0, 0, 0],\n",
       "        [0, 0, 0, ..., 0, 0, 0]]], dtype=uint8)"
      ]
     },
     "execution_count": 12,
     "metadata": {},
     "output_type": "execute_result"
    }
   ],
   "source": [
    "X_train  # 앨립스\n",
    "# 데이터 타입 unit8 => 이미지 데이터 셋\n",
    "# 이런 데이터 타입은 C 언어로 만들었기 때문 => u 가 붙으면 unsigned. 부호가 없음"
   ]
  },
  {
   "cell_type": "code",
   "execution_count": 13,
   "id": "b0e6f846",
   "metadata": {
    "ExecuteTime": {
     "end_time": "2023-03-17T05:38:11.228162Z",
     "start_time": "2023-03-17T05:38:11.209296Z"
    }
   },
   "outputs": [
    {
     "data": {
      "text/plain": [
       "Ellipsis"
      ]
     },
     "execution_count": 13,
     "metadata": {},
     "output_type": "execute_result"
    }
   ],
   "source": [
    "...  # 파이썬 공식 연산자"
   ]
  },
  {
   "cell_type": "code",
   "execution_count": null,
   "id": "031ac704",
   "metadata": {},
   "outputs": [],
   "source": [
    "# ... 가 있을 때 아래 두 개는 꼭 해봐야 함."
   ]
  },
  {
   "cell_type": "code",
   "execution_count": 14,
   "id": "175cd2d0",
   "metadata": {
    "ExecuteTime": {
     "end_time": "2023-03-17T05:38:31.841266Z",
     "start_time": "2023-03-17T05:38:31.821570Z"
    }
   },
   "outputs": [
    {
     "data": {
      "text/plain": [
       "(60000, 28, 28)"
      ]
     },
     "execution_count": 14,
     "metadata": {},
     "output_type": "execute_result"
    }
   ],
   "source": [
    "X_train.shape # shape 을 치면 텐서의 모양도 알 수 있고, 차원도 알 수 있다."
   ]
  },
  {
   "cell_type": "code",
   "execution_count": 16,
   "id": "dcff7228",
   "metadata": {
    "ExecuteTime": {
     "end_time": "2023-03-17T05:39:53.267200Z",
     "start_time": "2023-03-17T05:39:53.251375Z"
    }
   },
   "outputs": [
    {
     "data": {
      "text/plain": [
       "3"
      ]
     },
     "execution_count": 16,
     "metadata": {},
     "output_type": "execute_result"
    }
   ],
   "source": [
    "X_train.ndim # 이것은 shape 로 알 수 있음."
   ]
  },
  {
   "cell_type": "code",
   "execution_count": 17,
   "id": "3670cf3f",
   "metadata": {
    "ExecuteTime": {
     "end_time": "2023-03-17T05:40:00.079136Z",
     "start_time": "2023-03-17T05:40:00.056272Z"
    }
   },
   "outputs": [
    {
     "data": {
      "text/plain": [
       "47040000"
      ]
     },
     "execution_count": 17,
     "metadata": {},
     "output_type": "execute_result"
    }
   ],
   "source": [
    "# 원소의 개수\n",
    "X_train.size"
   ]
  },
  {
   "cell_type": "code",
   "execution_count": 18,
   "id": "c7f509f2",
   "metadata": {
    "ExecuteTime": {
     "end_time": "2023-03-17T05:40:24.535322Z",
     "start_time": "2023-03-17T05:40:24.521444Z"
    }
   },
   "outputs": [
    {
     "data": {
      "text/plain": [
       "1"
      ]
     },
     "execution_count": 18,
     "metadata": {},
     "output_type": "execute_result"
    }
   ],
   "source": [
    "X_train.itemsize"
   ]
  },
  {
   "cell_type": "code",
   "execution_count": 15,
   "id": "e7ccb5ba",
   "metadata": {
    "ExecuteTime": {
     "end_time": "2023-03-17T05:38:38.978771Z",
     "start_time": "2023-03-17T05:38:38.964493Z"
    }
   },
   "outputs": [
    {
     "data": {
      "text/plain": [
       "dtype('uint8')"
      ]
     },
     "execution_count": 15,
     "metadata": {},
     "output_type": "execute_result"
    }
   ],
   "source": [
    "X_train.dtype  # stride 라는 개념에서 나올 것.\n",
    "# 8 비트는 1바이트."
   ]
  },
  {
   "cell_type": "code",
   "execution_count": null,
   "id": "f672abcb",
   "metadata": {},
   "outputs": [],
   "source": [
    "# shape이 중요한 이유는 수학적으로 매트릭스 연산을 하기 위해서. 이를 알면 ndim, size 알 필요 없음.\n",
    "# tensor에 __repr__ 하면 shape, dtype 이 나옴"
   ]
  },
  {
   "cell_type": "code",
   "execution_count": 19,
   "id": "f35546d3",
   "metadata": {
    "ExecuteTime": {
     "end_time": "2023-03-17T05:42:09.270298Z",
     "start_time": "2023-03-17T05:42:09.242388Z"
    }
   },
   "outputs": [
    {
     "data": {
      "text/plain": [
       "<memory at 0x7fdf381384f0>"
      ]
     },
     "execution_count": 19,
     "metadata": {},
     "output_type": "execute_result"
    }
   ],
   "source": [
    "X_train.data  # 실질적 데이터 구조는 일렬로 쭉 이어져 있음"
   ]
  },
  {
   "cell_type": "code",
   "execution_count": null,
   "id": "15bba05e",
   "metadata": {},
   "outputs": [],
   "source": [
    "# 실제 데이터 타입은 ndarray."
   ]
  },
  {
   "cell_type": "code",
   "execution_count": 20,
   "id": "96cf6ae1",
   "metadata": {
    "ExecuteTime": {
     "end_time": "2023-03-17T05:45:43.244102Z",
     "start_time": "2023-03-17T05:45:43.232892Z"
    }
   },
   "outputs": [
    {
     "data": {
      "text/plain": [
       "array([2, 3, 4])"
      ]
     },
     "execution_count": 20,
     "metadata": {},
     "output_type": "execute_result"
    }
   ],
   "source": [
    "# Creation.\n",
    "# 우리가 넘파이 데이터를 만드는 경우는 거의 없을 것.\n",
    "import numpy as np\n",
    "a = np.array([2, 3, 4])\n",
    "a"
   ]
  },
  {
   "cell_type": "code",
   "execution_count": 21,
   "id": "e7aadc78",
   "metadata": {
    "ExecuteTime": {
     "end_time": "2023-03-17T05:50:07.115579Z",
     "start_time": "2023-03-17T05:50:07.085160Z"
    }
   },
   "outputs": [
    {
     "ename": "TypeError",
     "evalue": "array() takes from 1 to 2 positional arguments but 4 were given",
     "output_type": "error",
     "traceback": [
      "\u001B[0;31m---------------------------------------------------------------------------\u001B[0m",
      "\u001B[0;31mTypeError\u001B[0m                                 Traceback (most recent call last)",
      "Cell \u001B[0;32mIn[21], line 1\u001B[0m\n\u001B[0;32m----> 1\u001B[0m \u001B[43mnp\u001B[49m\u001B[38;5;241;43m.\u001B[39;49m\u001B[43marray\u001B[49m\u001B[43m(\u001B[49m\u001B[38;5;241;43m1\u001B[39;49m\u001B[43m,\u001B[49m\u001B[38;5;241;43m2\u001B[39;49m\u001B[43m,\u001B[49m\u001B[38;5;241;43m3\u001B[39;49m\u001B[43m,\u001B[49m\u001B[38;5;241;43m4\u001B[39;49m\u001B[43m)\u001B[49m\n",
      "\u001B[0;31mTypeError\u001B[0m: array() takes from 1 to 2 positional arguments but 4 were given"
     ]
    }
   ],
   "source": [
    "np.array(1,2,3,4) # object 는 한 개 따라서 오류나는 것\n",
    "# array(object, dtype=None, *, copy=True, order='K', subok=False, ndmin=0, like=None)"
   ]
  },
  {
   "cell_type": "code",
   "execution_count": 22,
   "id": "c4752d7b",
   "metadata": {
    "ExecuteTime": {
     "end_time": "2023-03-17T05:51:47.953467Z",
     "start_time": "2023-03-17T05:51:47.940191Z"
    }
   },
   "outputs": [
    {
     "data": {
      "text/plain": [
       "array([[1.5, 2. , 3. ],\n",
       "       [4. , 5. , 6. ]])"
      ]
     },
     "execution_count": 22,
     "metadata": {},
     "output_type": "execute_result"
    }
   ],
   "source": [
    "# container\n",
    "# 한 개로 묶는 것.\n",
    "b = np.array([(1.5, 2, 3), (4, 5, 6)])\n",
    "b\n",
    "# 그런데 tuple도 됨.\n",
    "# 덕 타이핑 ; 묶는 기능만 있으면 다 받아주기 때문에.\n",
    "# homo 라서 큰 데이터 형태로 맞춰 줌 => corecion(묵시적 형변환)"
   ]
  },
  {
   "cell_type": "code",
   "execution_count": 26,
   "id": "867111e3",
   "metadata": {
    "ExecuteTime": {
     "end_time": "2023-03-17T05:55:33.658055Z",
     "start_time": "2023-03-17T05:55:33.643688Z"
    }
   },
   "outputs": [
    {
     "data": {
      "text/plain": [
       "array([3, 4])"
      ]
     },
     "execution_count": 26,
     "metadata": {},
     "output_type": "execute_result"
    }
   ],
   "source": [
    "a = np.arange(25).reshape(5,5)\n",
    "a[[0,0],[3,4]]"
   ]
  },
  {
   "cell_type": "code",
   "execution_count": 24,
   "id": "debab392",
   "metadata": {
    "ExecuteTime": {
     "end_time": "2023-03-17T05:52:59.427095Z",
     "start_time": "2023-03-17T05:52:59.415871Z"
    }
   },
   "outputs": [
    {
     "data": {
      "text/plain": [
       "array([3, 4])"
      ]
     },
     "execution_count": 24,
     "metadata": {},
     "output_type": "execute_result"
    }
   ],
   "source": [
    "a[[0,0],[3,4]]"
   ]
  },
  {
   "cell_type": "code",
   "execution_count": 25,
   "id": "7e97e951",
   "metadata": {
    "ExecuteTime": {
     "end_time": "2023-03-17T05:55:27.548187Z",
     "start_time": "2023-03-17T05:55:27.537122Z"
    }
   },
   "outputs": [
    {
     "data": {
      "text/plain": [
       "array([[1.+0.j, 2.+0.j],\n",
       "       [3.+0.j, 4.+0.j]])"
      ]
     },
     "execution_count": 25,
     "metadata": {},
     "output_type": "execute_result"
    }
   ],
   "source": [
    "c = np.array([[1, 2], [3, 4]], dtype=complex)\n",
    "c"
   ]
  },
  {
   "cell_type": "code",
   "execution_count": 27,
   "id": "d2ac34d2",
   "metadata": {
    "ExecuteTime": {
     "end_time": "2023-03-17T05:56:16.544771Z",
     "start_time": "2023-03-17T05:56:16.512392Z"
    }
   },
   "outputs": [
    {
     "data": {
      "text/plain": [
       "array([[0., 0., 0., 0., 0.],\n",
       "       [0., 0., 0., 0., 0.],\n",
       "       [0., 0., 0., 0., 0.]])"
      ]
     },
     "execution_count": 27,
     "metadata": {},
     "output_type": "execute_result"
    }
   ],
   "source": [
    "np.zeros((3,5))\n",
    "# zeros(shape, dtype=float, order='C', *, like=None)"
   ]
  },
  {
   "cell_type": "code",
   "execution_count": 28,
   "id": "ef4409ac",
   "metadata": {
    "ExecuteTime": {
     "end_time": "2023-03-17T05:56:27.013117Z",
     "start_time": "2023-03-17T05:56:27.003129Z"
    }
   },
   "outputs": [
    {
     "data": {
      "text/plain": [
       "array([[0., 0., 0., 0., 0.],\n",
       "       [0., 0., 0., 0., 0.],\n",
       "       [0., 0., 0., 0., 0.]])"
      ]
     },
     "execution_count": 28,
     "metadata": {},
     "output_type": "execute_result"
    }
   ],
   "source": [
    "np.zeros([3,5])\n",
    "# 함수의 인자로 mutable 넘기는 거는 초보적 실수임."
   ]
  },
  {
   "cell_type": "code",
   "execution_count": 29,
   "id": "a30810a0",
   "metadata": {
    "ExecuteTime": {
     "end_time": "2023-03-17T05:57:12.614987Z",
     "start_time": "2023-03-17T05:57:12.605508Z"
    }
   },
   "outputs": [],
   "source": [
    "# mutable 의 위험성\n",
    "def x(a:list['T']):   # 어노테이션\n",
    "    a.append('x')"
   ]
  },
  {
   "cell_type": "code",
   "execution_count": 30,
   "id": "9529b42f",
   "metadata": {
    "ExecuteTime": {
     "end_time": "2023-03-17T05:57:49.326241Z",
     "start_time": "2023-03-17T05:57:49.312588Z"
    }
   },
   "outputs": [
    {
     "data": {
      "text/plain": [
       "{'a': list['T']}"
      ]
     },
     "execution_count": 30,
     "metadata": {},
     "output_type": "execute_result"
    }
   ],
   "source": [
    "x.__annotations__"
   ]
  },
  {
   "cell_type": "code",
   "execution_count": 31,
   "id": "54d0385b",
   "metadata": {
    "ExecuteTime": {
     "end_time": "2023-03-17T05:58:21.869520Z",
     "start_time": "2023-03-17T05:58:21.855650Z"
    }
   },
   "outputs": [],
   "source": [
    "def x(a):\n",
    "    return a.append('x')"
   ]
  },
  {
   "cell_type": "code",
   "execution_count": 32,
   "id": "18907281",
   "metadata": {
    "ExecuteTime": {
     "end_time": "2023-03-17T05:58:29.171326Z",
     "start_time": "2023-03-17T05:58:29.164223Z"
    }
   },
   "outputs": [],
   "source": [
    "a = [3,4,5]\n",
    "x(a)\n",
    "# 리턴값 왜 없지?"
   ]
  },
  {
   "cell_type": "code",
   "execution_count": 33,
   "id": "95912c98",
   "metadata": {
    "ExecuteTime": {
     "end_time": "2023-03-17T05:59:14.125243Z",
     "start_time": "2023-03-17T05:59:14.110174Z"
    }
   },
   "outputs": [
    {
     "data": {
      "text/plain": [
       "[3, 4, 5, 'x']"
      ]
     },
     "execution_count": 33,
     "metadata": {},
     "output_type": "execute_result"
    }
   ],
   "source": [
    "# list의 리턴값 3가지 종류\n",
    "# append 는 리턴값 없고 자기자신 변하는 것.\n",
    "a\n",
    "# 집어넣은 값 자체가 변해버림 => 문제점.\n",
    "# 따라서 함수에 mutable 집어넣는 순간 싸대기 맞음"
   ]
  },
  {
   "cell_type": "code",
   "execution_count": 34,
   "id": "a3c31cb3",
   "metadata": {
    "ExecuteTime": {
     "end_time": "2023-03-17T06:00:25.707586Z",
     "start_time": "2023-03-17T06:00:25.682680Z"
    }
   },
   "outputs": [
    {
     "data": {
      "text/plain": [
       "array([[1.5, 2. , 3. ],\n",
       "       [4. , 5. , 6. ]])"
      ]
     },
     "execution_count": 34,
     "metadata": {},
     "output_type": "execute_result"
    }
   ],
   "source": [
    "np.empty((2, 3))"
   ]
  },
  {
   "cell_type": "code",
   "execution_count": 35,
   "id": "faa74436",
   "metadata": {
    "ExecuteTime": {
     "end_time": "2023-03-17T06:01:07.226969Z",
     "start_time": "2023-03-17T06:01:07.208509Z"
    }
   },
   "outputs": [
    {
     "data": {
      "text/plain": [
       "array([0. , 0.3, 0.6, 0.9, 1.2, 1.5, 1.8])"
      ]
     },
     "execution_count": 35,
     "metadata": {},
     "output_type": "execute_result"
    }
   ],
   "source": [
    "# 파이썬의 range와 똑같음 : 기본적으로 homo\n",
    "np.arange(0, 2, 0.3)"
   ]
  },
  {
   "cell_type": "code",
   "execution_count": 36,
   "id": "01569a45",
   "metadata": {
    "ExecuteTime": {
     "end_time": "2023-03-17T06:01:24.672271Z",
     "start_time": "2023-03-17T06:01:24.663099Z"
    }
   },
   "outputs": [],
   "source": [
    "import math"
   ]
  },
  {
   "cell_type": "code",
   "execution_count": 37,
   "id": "1a690937",
   "metadata": {
    "ExecuteTime": {
     "end_time": "2023-03-17T06:01:26.716154Z",
     "start_time": "2023-03-17T06:01:26.711953Z"
    }
   },
   "outputs": [
    {
     "data": {
      "text/plain": [
       "3.141592653589793"
      ]
     },
     "execution_count": 37,
     "metadata": {},
     "output_type": "execute_result"
    }
   ],
   "source": [
    "math.pi"
   ]
  },
  {
   "cell_type": "code",
   "execution_count": 38,
   "id": "a0fa3bc3",
   "metadata": {
    "ExecuteTime": {
     "end_time": "2023-03-17T06:01:49.347806Z",
     "start_time": "2023-03-17T06:01:49.331736Z"
    }
   },
   "outputs": [
    {
     "data": {
      "text/plain": [
       "3.141592653589793"
      ]
     },
     "execution_count": 38,
     "metadata": {},
     "output_type": "execute_result"
    }
   ],
   "source": [
    "np.pi"
   ]
  },
  {
   "cell_type": "code",
   "execution_count": 40,
   "id": "1a90ea29",
   "metadata": {
    "ExecuteTime": {
     "end_time": "2023-03-17T06:02:11.366967Z",
     "start_time": "2023-03-17T06:02:11.353036Z"
    }
   },
   "outputs": [
    {
     "data": {
      "text/plain": [
       "(True, False)"
      ]
     },
     "execution_count": 40,
     "metadata": {},
     "output_type": "execute_result"
    }
   ],
   "source": [
    "math.pi == np.pi, math.pi is np.pi"
   ]
  },
  {
   "cell_type": "code",
   "execution_count": 42,
   "id": "64dd7f92",
   "metadata": {
    "ExecuteTime": {
     "end_time": "2023-03-17T06:03:36.037094Z",
     "start_time": "2023-03-17T06:03:36.021789Z"
    }
   },
   "outputs": [
    {
     "data": {
      "text/plain": [
       "array([ 1.        ,  6.44444444, 11.88888889, 17.33333333, 22.77777778,\n",
       "       28.22222222, 33.66666667, 39.11111111, 44.55555556, 50.        ])"
      ]
     },
     "execution_count": 42,
     "metadata": {},
     "output_type": "execute_result"
    }
   ],
   "source": [
    "np.linspace(1, 50, 10)\n",
    "# binning\n",
    "# 어디서 어디까지 몇 등분할 때 쓸 것."
   ]
  },
  {
   "cell_type": "code",
   "execution_count": null,
   "id": "ca3fe51c",
   "metadata": {},
   "outputs": [],
   "source": [
    "# 컴퓨터 세상에서 연속되게 보이게 하기 위해서 아주 잘게 자름.\n",
    "# 즉 넘파이에서 값 쉽게 그리는 게 아주 많음을 보여주는 것.\n",
    "# 넘파이에서 잊으면 안되는 것이 lookfor"
   ]
  },
  {
   "cell_type": "code",
   "execution_count": null,
   "id": "ffd7d6a2",
   "metadata": {},
   "outputs": [],
   "source": [
    "# 모양을 바꾸는 테크닉이 중요함 -> 모양이 안맞으면 연산이 안되기 때문에.\n",
    "# 기본적인 연산\n",
    "# element-wise 연산 - 하드웨어 적으로 지원됨\n",
    "# 모양 같아야 하는 점이 제일 중요함 cf. 브로드캐스트"
   ]
  },
  {
   "cell_type": "code",
   "execution_count": null,
   "id": "bcd06e8c",
   "metadata": {},
   "outputs": [],
   "source": [
    "# 파이썬의 오픈 cv 는 넘파이로 만들어져 있음. "
   ]
  },
  {
   "cell_type": "code",
   "execution_count": 43,
   "id": "cb89a54f",
   "metadata": {
    "ExecuteTime": {
     "end_time": "2023-03-17T06:41:48.171049Z",
     "start_time": "2023-03-17T06:41:48.164570Z"
    }
   },
   "outputs": [],
   "source": [
    "a = np.array([[1,2,3]])\n",
    "b = np.array([[1],[2],[3]])"
   ]
  },
  {
   "cell_type": "code",
   "execution_count": 47,
   "id": "883ef798",
   "metadata": {
    "ExecuteTime": {
     "end_time": "2023-03-17T06:42:20.976881Z",
     "start_time": "2023-03-17T06:42:20.954556Z"
    }
   },
   "outputs": [
    {
     "data": {
      "text/plain": [
       "(array([[1, 2, 3]]), (1, 3))"
      ]
     },
     "execution_count": 47,
     "metadata": {},
     "output_type": "execute_result"
    }
   ],
   "source": [
    "a, a.shape"
   ]
  },
  {
   "cell_type": "code",
   "execution_count": 48,
   "id": "8fab732f",
   "metadata": {
    "ExecuteTime": {
     "end_time": "2023-03-17T06:42:24.406751Z",
     "start_time": "2023-03-17T06:42:24.394946Z"
    }
   },
   "outputs": [
    {
     "data": {
      "text/plain": [
       "(array([[1],\n",
       "        [2],\n",
       "        [3]]),\n",
       " (3, 1))"
      ]
     },
     "execution_count": 48,
     "metadata": {},
     "output_type": "execute_result"
    }
   ],
   "source": [
    "b, b.shape"
   ]
  },
  {
   "cell_type": "code",
   "execution_count": 46,
   "id": "8d4a9ad2",
   "metadata": {
    "ExecuteTime": {
     "end_time": "2023-03-17T06:41:58.169556Z",
     "start_time": "2023-03-17T06:41:58.160014Z"
    }
   },
   "outputs": [
    {
     "data": {
      "text/plain": [
       "array([[2, 3, 4],\n",
       "       [3, 4, 5],\n",
       "       [4, 5, 6]])"
      ]
     },
     "execution_count": 46,
     "metadata": {},
     "output_type": "execute_result"
    }
   ],
   "source": [
    "a + b"
   ]
  },
  {
   "cell_type": "code",
   "execution_count": 50,
   "id": "df12ac13",
   "metadata": {
    "ExecuteTime": {
     "end_time": "2023-03-17T06:43:07.764255Z",
     "start_time": "2023-03-17T06:43:07.746000Z"
    }
   },
   "outputs": [
    {
     "data": {
      "text/plain": [
       "[array([[1],\n",
       "        [2],\n",
       "        [3],\n",
       "        [4],\n",
       "        [5],\n",
       "        [6],\n",
       "        [7],\n",
       "        [8],\n",
       "        [9]]),\n",
       " array([[1, 2, 3, 4, 5, 6, 7, 8, 9]])]"
      ]
     },
     "execution_count": 50,
     "metadata": {},
     "output_type": "execute_result"
    }
   ],
   "source": [
    "np.ogrid[1:10, 1:10]"
   ]
  },
  {
   "cell_type": "code",
   "execution_count": 51,
   "id": "94e47e89",
   "metadata": {
    "ExecuteTime": {
     "end_time": "2023-03-17T06:43:22.808004Z",
     "start_time": "2023-03-17T06:43:22.796253Z"
    }
   },
   "outputs": [
    {
     "data": {
      "text/plain": [
       "2"
      ]
     },
     "execution_count": 51,
     "metadata": {},
     "output_type": "execute_result"
    }
   ],
   "source": [
    "len(np.ogrid[1:10, 1:10])"
   ]
  },
  {
   "cell_type": "code",
   "execution_count": 52,
   "id": "55e006e0",
   "metadata": {
    "ExecuteTime": {
     "end_time": "2023-03-17T06:43:29.986025Z",
     "start_time": "2023-03-17T06:43:29.981927Z"
    }
   },
   "outputs": [],
   "source": [
    "x, y = np.ogrid[1:10, 1:10]"
   ]
  },
  {
   "cell_type": "code",
   "execution_count": 53,
   "id": "5bb2af27",
   "metadata": {
    "ExecuteTime": {
     "end_time": "2023-03-17T06:43:34.547344Z",
     "start_time": "2023-03-17T06:43:34.528893Z"
    }
   },
   "outputs": [
    {
     "data": {
      "text/plain": [
       "array([[1],\n",
       "       [2],\n",
       "       [3],\n",
       "       [4],\n",
       "       [5],\n",
       "       [6],\n",
       "       [7],\n",
       "       [8],\n",
       "       [9]])"
      ]
     },
     "execution_count": 53,
     "metadata": {},
     "output_type": "execute_result"
    }
   ],
   "source": [
    "x"
   ]
  },
  {
   "cell_type": "code",
   "execution_count": 54,
   "id": "8b4c9663",
   "metadata": {
    "ExecuteTime": {
     "end_time": "2023-03-17T06:43:37.395962Z",
     "start_time": "2023-03-17T06:43:37.384662Z"
    }
   },
   "outputs": [
    {
     "data": {
      "text/plain": [
       "array([[1, 2, 3, 4, 5, 6, 7, 8, 9]])"
      ]
     },
     "execution_count": 54,
     "metadata": {},
     "output_type": "execute_result"
    }
   ],
   "source": [
    "y"
   ]
  },
  {
   "cell_type": "code",
   "execution_count": 55,
   "id": "5a066738",
   "metadata": {
    "ExecuteTime": {
     "end_time": "2023-03-17T06:43:49.484465Z",
     "start_time": "2023-03-17T06:43:49.478664Z"
    }
   },
   "outputs": [
    {
     "data": {
      "text/plain": [
       "array([[ 2,  3,  4,  5,  6,  7,  8,  9, 10],\n",
       "       [ 3,  4,  5,  6,  7,  8,  9, 10, 11],\n",
       "       [ 4,  5,  6,  7,  8,  9, 10, 11, 12],\n",
       "       [ 5,  6,  7,  8,  9, 10, 11, 12, 13],\n",
       "       [ 6,  7,  8,  9, 10, 11, 12, 13, 14],\n",
       "       [ 7,  8,  9, 10, 11, 12, 13, 14, 15],\n",
       "       [ 8,  9, 10, 11, 12, 13, 14, 15, 16],\n",
       "       [ 9, 10, 11, 12, 13, 14, 15, 16, 17],\n",
       "       [10, 11, 12, 13, 14, 15, 16, 17, 18]])"
      ]
     },
     "execution_count": 55,
     "metadata": {},
     "output_type": "execute_result"
    }
   ],
   "source": [
    "# 이것들은 좌표축 만들 때 많이 씀\n",
    "x + y"
   ]
  },
  {
   "cell_type": "code",
   "execution_count": null,
   "id": "765fbd06",
   "metadata": {},
   "outputs": [],
   "source": [
    "# 기본 연산은 element-wise ; 모양이 같으면 원소끼리 연산함\n",
    "# 브로드캐스팅; 잡아당기는 연산\n",
    "# 잡아당기는 연산은 명시적인 메모리 복사가 일어나지 않음 • 속도/메모리 이득 • 브로드캐스 팅은 좋은 아이디어다 – 가능하면 사용하자\n",
    "# I 브로드캐스팅과 꼴 (shape) 변환을 활용하면 루프를 피할 수 있음 • 뒤의 최단거리 이웃 예제 참조 • 고차원에서 생각하라\n",
    "# 나하고 똑같은 것이 그대로 하나 더 있으면 메모리 공간을 차지하지 않음. 즉 브로드캐스팅 연산이 성능도 좋고 손도 덜 움직여서 좋은 기법\n",
    "# 브로드캐스팅 이용해서 알고리즘을 만듦."
   ]
  },
  {
   "cell_type": "code",
   "execution_count": null,
   "id": "90629550",
   "metadata": {},
   "outputs": [],
   "source": [
    "# 넘파이를 꼭 알아야 함\n",
    "# 넘파이는 gpu 안됨. mutable이라는 점도 문제점이 있음."
   ]
  },
  {
   "cell_type": "code",
   "execution_count": 57,
   "id": "9117f51a",
   "metadata": {
    "ExecuteTime": {
     "end_time": "2023-03-17T06:52:02.756609Z",
     "start_time": "2023-03-17T06:52:02.745246Z"
    }
   },
   "outputs": [],
   "source": [
    "# 연산자 기능이 shape 에 따라 달라짐 - 다형성 관점\n",
    "# 곱하기와 골뱅이.\n",
    "A = np.array([[1, 1],\n",
    "              [0, 1]])\n",
    "B = np.array([[2, 0],\n",
    "              [3, 4]])"
   ]
  },
  {
   "cell_type": "code",
   "execution_count": 58,
   "id": "36f64447",
   "metadata": {
    "ExecuteTime": {
     "end_time": "2023-03-17T06:52:03.528957Z",
     "start_time": "2023-03-17T06:52:03.518354Z"
    }
   },
   "outputs": [
    {
     "data": {
      "text/plain": [
       "array([[5, 4],\n",
       "       [3, 4]])"
      ]
     },
     "execution_count": 58,
     "metadata": {},
     "output_type": "execute_result"
    }
   ],
   "source": [
    "A.dot(B)"
   ]
  },
  {
   "cell_type": "code",
   "execution_count": 59,
   "id": "cf9e7d8c",
   "metadata": {
    "ExecuteTime": {
     "end_time": "2023-03-17T06:52:04.241475Z",
     "start_time": "2023-03-17T06:52:04.217710Z"
    }
   },
   "outputs": [
    {
     "data": {
      "text/plain": [
       "array([[5, 4],\n",
       "       [3, 4]])"
      ]
     },
     "execution_count": 59,
     "metadata": {},
     "output_type": "execute_result"
    }
   ],
   "source": [
    "np.dot(A, B)  # self 있어야 함"
   ]
  },
  {
   "cell_type": "code",
   "execution_count": 61,
   "id": "3f6cc4d3",
   "metadata": {
    "ExecuteTime": {
     "end_time": "2023-03-17T06:54:16.401761Z",
     "start_time": "2023-03-17T06:54:16.389062Z"
    }
   },
   "outputs": [],
   "source": [
    "x,y = np.ogrid[1:10:5j, 1:10]"
   ]
  },
  {
   "cell_type": "code",
   "execution_count": 62,
   "id": "9c4b3236",
   "metadata": {
    "ExecuteTime": {
     "end_time": "2023-03-17T06:54:19.830268Z",
     "start_time": "2023-03-17T06:54:19.818710Z"
    }
   },
   "outputs": [
    {
     "data": {
      "text/plain": [
       "array([[ 1.  ],\n",
       "       [ 3.25],\n",
       "       [ 5.5 ],\n",
       "       [ 7.75],\n",
       "       [10.  ]])"
      ]
     },
     "execution_count": 62,
     "metadata": {},
     "output_type": "execute_result"
    }
   ],
   "source": [
    "x\n",
    "# j 가 complex만 있는 것이 아니다!!\n",
    "# 연산자 오버로딩을 한 것."
   ]
  },
  {
   "cell_type": "code",
   "execution_count": null,
   "id": "4403261a",
   "metadata": {},
   "outputs": [],
   "source": [
    "# stride 개념"
   ]
  },
  {
   "cell_type": "code",
   "execution_count": 74,
   "id": "f24650c8",
   "metadata": {
    "ExecuteTime": {
     "end_time": "2023-03-17T07:09:25.577246Z",
     "start_time": "2023-03-17T07:09:25.565744Z"
    }
   },
   "outputs": [],
   "source": [
    "a = np.arange(24).reshape(6,4)"
   ]
  },
  {
   "cell_type": "code",
   "execution_count": 75,
   "id": "13bdfda2",
   "metadata": {
    "ExecuteTime": {
     "end_time": "2023-03-17T07:09:26.283357Z",
     "start_time": "2023-03-17T07:09:26.258804Z"
    }
   },
   "outputs": [
    {
     "data": {
      "text/plain": [
       "array([[ 0,  1,  2,  3],\n",
       "       [ 4,  5,  6,  7],\n",
       "       [ 8,  9, 10, 11],\n",
       "       [12, 13, 14, 15],\n",
       "       [16, 17, 18, 19],\n",
       "       [20, 21, 22, 23]])"
      ]
     },
     "execution_count": 75,
     "metadata": {},
     "output_type": "execute_result"
    }
   ],
   "source": [
    "a"
   ]
  },
  {
   "cell_type": "code",
   "execution_count": 76,
   "id": "73ecebc9",
   "metadata": {
    "ExecuteTime": {
     "end_time": "2023-03-17T07:09:26.927251Z",
     "start_time": "2023-03-17T07:09:26.913216Z"
    }
   },
   "outputs": [
    {
     "data": {
      "text/plain": [
       "(32, 8)"
      ]
     },
     "execution_count": 76,
     "metadata": {},
     "output_type": "execute_result"
    }
   ],
   "source": [
    "a.strides\n",
    "# 우리에게 보이는 모양은, 실제 구조는 1열로 되어 있는데, 스트라이드에 정의된 것에 따라 보이게 된다.\n",
    "# 그 큰 값에서 특정값을 빠르게 가져오는 것도 스트라이드.\n",
    "# 32씩 메모리 번지에 더하면 한 열에 있는 것 쉽게 가져올 수 있음.\n",
    "# 32는 로우 넘어갈때의 메모리 간격, 8은 열 넘어갈때 메모리 간격"
   ]
  },
  {
   "cell_type": "code",
   "execution_count": 77,
   "id": "1a9e452b",
   "metadata": {
    "ExecuteTime": {
     "end_time": "2023-03-17T07:09:27.504802Z",
     "start_time": "2023-03-17T07:09:27.493002Z"
    }
   },
   "outputs": [
    {
     "data": {
      "text/plain": [
       "8"
      ]
     },
     "execution_count": 77,
     "metadata": {},
     "output_type": "execute_result"
    }
   ],
   "source": [
    "a.itemsize  # 다음 열 가져올 때 얼만큼 값이 필요한지"
   ]
  },
  {
   "cell_type": "code",
   "execution_count": 78,
   "id": "3542877f",
   "metadata": {
    "ExecuteTime": {
     "end_time": "2023-03-17T07:12:35.905311Z",
     "start_time": "2023-03-17T07:12:35.894419Z"
    }
   },
   "outputs": [
    {
     "data": {
      "text/plain": [
       "(6, 4)"
      ]
     },
     "execution_count": 78,
     "metadata": {},
     "output_type": "execute_result"
    }
   ],
   "source": [
    "# 축(axis) 에 대해서 들어가자!!\n",
    "# 행마다, 열마다의 값에 대한 연산들이 빠르게 가져올 수 있음(스트라이드와 결합하면)\n",
    "# 스트라이드 기반으로 한 axis\n",
    "# axis = 0 ; 행마다(아래로) 연산\n",
    "# axis = 1 ; 열마다(오른쪽으로) 연산\n",
    "# 행마다 열마다 혼동될 때!!\n",
    "a.shape"
   ]
  },
  {
   "cell_type": "code",
   "execution_count": 79,
   "id": "d59e0b61",
   "metadata": {
    "ExecuteTime": {
     "end_time": "2023-03-17T07:13:44.595421Z",
     "start_time": "2023-03-17T07:13:44.577745Z"
    }
   },
   "outputs": [
    {
     "data": {
      "text/plain": [
       "276"
      ]
     },
     "execution_count": 79,
     "metadata": {},
     "output_type": "execute_result"
    }
   ],
   "source": [
    "a.sum()\n",
    "# a.sum(axis=None, dtype=None, out=None, keepdims=False, initial=0, where=True)"
   ]
  },
  {
   "cell_type": "code",
   "execution_count": 80,
   "id": "bb0676b5",
   "metadata": {
    "ExecuteTime": {
     "end_time": "2023-03-17T07:13:51.070520Z",
     "start_time": "2023-03-17T07:13:51.055457Z"
    }
   },
   "outputs": [
    {
     "data": {
      "text/plain": [
       "array([60, 66, 72, 78])"
      ]
     },
     "execution_count": 80,
     "metadata": {},
     "output_type": "execute_result"
    }
   ],
   "source": [
    "# axis=0 행마다 다 더하니까 4개 나옴\n",
    "a.sum(axis=0)"
   ]
  },
  {
   "cell_type": "code",
   "execution_count": 81,
   "id": "e255027b",
   "metadata": {
    "ExecuteTime": {
     "end_time": "2023-03-17T07:14:24.614396Z",
     "start_time": "2023-03-17T07:14:24.589522Z"
    }
   },
   "outputs": [
    {
     "data": {
      "text/plain": [
       "array([ 6, 22, 38, 54, 70, 86])"
      ]
     },
     "execution_count": 81,
     "metadata": {},
     "output_type": "execute_result"
    }
   ],
   "source": [
    "# axis=1 열마다 다 더하니까 6개 나옴\n",
    "a.sum(axis=1)"
   ]
  },
  {
   "cell_type": "code",
   "execution_count": 82,
   "id": "a4df2f14",
   "metadata": {
    "ExecuteTime": {
     "end_time": "2023-03-17T07:14:52.210924Z",
     "start_time": "2023-03-17T07:14:52.201880Z"
    }
   },
   "outputs": [],
   "source": [
    "# 3차원부터는 행, 열 이외에 차원이 있으니 이해가 안됨.\n",
    "a = np.arange(24).reshape(2,3,4)"
   ]
  },
  {
   "cell_type": "code",
   "execution_count": 88,
   "id": "e236feb0",
   "metadata": {
    "ExecuteTime": {
     "end_time": "2023-03-17T07:24:53.142218Z",
     "start_time": "2023-03-17T07:24:53.124360Z"
    }
   },
   "outputs": [
    {
     "data": {
      "text/plain": [
       "(array([[[ 0,  1,  2,  3],\n",
       "         [ 4,  5,  6,  7],\n",
       "         [ 8,  9, 10, 11]],\n",
       " \n",
       "        [[12, 13, 14, 15],\n",
       "         [16, 17, 18, 19],\n",
       "         [20, 21, 22, 23]]]),\n",
       " 2)"
      ]
     },
     "execution_count": 88,
     "metadata": {},
     "output_type": "execute_result"
    }
   ],
   "source": [
    "a, len(a)"
   ]
  },
  {
   "cell_type": "code",
   "execution_count": 84,
   "id": "612e1a57",
   "metadata": {
    "ExecuteTime": {
     "end_time": "2023-03-17T07:15:03.656830Z",
     "start_time": "2023-03-17T07:15:03.646209Z"
    }
   },
   "outputs": [
    {
     "data": {
      "text/plain": [
       "(2, 3, 4)"
      ]
     },
     "execution_count": 84,
     "metadata": {},
     "output_type": "execute_result"
    }
   ],
   "source": [
    "a.shape"
   ]
  },
  {
   "cell_type": "code",
   "execution_count": 85,
   "id": "424a9129",
   "metadata": {
    "ExecuteTime": {
     "end_time": "2023-03-17T07:15:40.070433Z",
     "start_time": "2023-03-17T07:15:40.045582Z"
    }
   },
   "outputs": [
    {
     "data": {
      "text/plain": [
       "array([[12, 14, 16, 18],\n",
       "       [20, 22, 24, 26],\n",
       "       [28, 30, 32, 34]])"
      ]
     },
     "execution_count": 85,
     "metadata": {},
     "output_type": "execute_result"
    }
   ],
   "source": [
    "# axis=0\n",
    "# 0번째 지우고 (3,4) 형태의 결과값이 나옴. \n",
    "a.sum(axis=0)"
   ]
  },
  {
   "cell_type": "code",
   "execution_count": 86,
   "id": "62abaed6",
   "metadata": {
    "ExecuteTime": {
     "end_time": "2023-03-17T07:16:16.968669Z",
     "start_time": "2023-03-17T07:16:16.955639Z"
    }
   },
   "outputs": [
    {
     "data": {
      "text/plain": [
       "array([[12, 15, 18, 21],\n",
       "       [48, 51, 54, 57]])"
      ]
     },
     "execution_count": 86,
     "metadata": {},
     "output_type": "execute_result"
    }
   ],
   "source": [
    "# axis=1\n",
    "# 1번째 지우고 (2,4) 형태의 결과값이 나옴\n",
    "a.sum(axis=1)"
   ]
  },
  {
   "cell_type": "code",
   "execution_count": 87,
   "id": "1168f5a3",
   "metadata": {
    "ExecuteTime": {
     "end_time": "2023-03-17T07:16:58.089883Z",
     "start_time": "2023-03-17T07:16:58.071525Z"
    }
   },
   "outputs": [
    {
     "data": {
      "text/plain": [
       "array([[ 6, 22, 38],\n",
       "       [54, 70, 86]])"
      ]
     },
     "execution_count": 87,
     "metadata": {},
     "output_type": "execute_result"
    }
   ],
   "source": [
    "# axis=2\n",
    "# 2번째 지우고 (2,3) 형태의 결과값\n",
    "a.sum(axis=2)"
   ]
  },
  {
   "cell_type": "code",
   "execution_count": null,
   "id": "8b995bfd",
   "metadata": {},
   "outputs": [],
   "source": [
    "# 넘파이는 axis 관점이 있음. 여기에는 4차원 다 가능함.\n",
    "# axis 도 차원을 reduction 한 것이라 볼 수 있음 => []를 없애는 것과 같음"
   ]
  },
  {
   "cell_type": "code",
   "execution_count": 90,
   "id": "3131a31f",
   "metadata": {
    "ExecuteTime": {
     "end_time": "2023-03-17T07:26:29.599225Z",
     "start_time": "2023-03-17T07:26:29.581708Z"
    }
   },
   "outputs": [
    {
     "data": {
      "text/plain": [
       "(array([[[ 0,  1,  2,  3],\n",
       "         [ 4,  5,  6,  7],\n",
       "         [ 8,  9, 10, 11]],\n",
       " \n",
       "        [[12, 13, 14, 15],\n",
       "         [16, 17, 18, 19],\n",
       "         [20, 21, 22, 23]]]),\n",
       " (2, 3, 4))"
      ]
     },
     "execution_count": 90,
     "metadata": {},
     "output_type": "execute_result"
    }
   ],
   "source": [
    "a, a.shape"
   ]
  },
  {
   "cell_type": "code",
   "execution_count": null,
   "id": "08ce5fdf",
   "metadata": {},
   "outputs": [],
   "source": [
    "# axis 는 매우 중요한 테크닉\n",
    "# stride 는 convolution 으로 만들 수 있음.\n",
    "# stride_trick 으로 convolution을 아주 빠르게 구현\n",
    "# 지금은 중요하게 다루지 않음. 나중에 영상 다룰 때 할 것.\n",
    "# array programming. 이게 없으면 for 문 돌려야 함"
   ]
  },
  {
   "cell_type": "code",
   "execution_count": null,
   "id": "a8814d37",
   "metadata": {},
   "outputs": [],
   "source": [
    "# for 없이 다음 메모리에서 뽑아라 뽑아라 하니까 for가 필요없음.\n",
    "# 함수형 패러다임 1장에서 배운 iterator, map, filter, reduce 등과 비슷함.\n",
    "# 프로그래밍에서 가장 실수 많이 하는 것이 for"
   ]
  },
  {
   "cell_type": "code",
   "execution_count": 91,
   "id": "2dd4e72d",
   "metadata": {
    "ExecuteTime": {
     "end_time": "2023-03-17T07:56:04.559861Z",
     "start_time": "2023-03-17T07:56:04.553895Z"
    }
   },
   "outputs": [],
   "source": [
    "def asb(a,b):\n",
    "    return a+b"
   ]
  },
  {
   "cell_type": "code",
   "execution_count": 92,
   "id": "c7745e8c",
   "metadata": {
    "ExecuteTime": {
     "end_time": "2023-03-17T07:56:13.612225Z",
     "start_time": "2023-03-17T07:56:13.602496Z"
    }
   },
   "outputs": [
    {
     "data": {
      "text/plain": [
       "[1, 2, 3, 3, 4, 5]"
      ]
     },
     "execution_count": 92,
     "metadata": {},
     "output_type": "execute_result"
    }
   ],
   "source": [
    "asb([1,2,3],[3,4,5])"
   ]
  },
  {
   "cell_type": "code",
   "execution_count": 93,
   "id": "d1d79359",
   "metadata": {
    "ExecuteTime": {
     "end_time": "2023-03-17T07:57:08.196995Z",
     "start_time": "2023-03-17T07:57:08.191045Z"
    }
   },
   "outputs": [],
   "source": [
    "@np.vectorize\n",
    "def asb(a,b):\n",
    "    return a+b"
   ]
  },
  {
   "cell_type": "code",
   "execution_count": 94,
   "id": "1a46f07b",
   "metadata": {
    "ExecuteTime": {
     "end_time": "2023-03-17T07:57:19.884197Z",
     "start_time": "2023-03-17T07:57:19.872511Z"
    }
   },
   "outputs": [
    {
     "data": {
      "text/plain": [
       "array([4, 6, 8])"
      ]
     },
     "execution_count": 94,
     "metadata": {},
     "output_type": "execute_result"
    }
   ],
   "source": [
    "asb([1,2,3],[3,4,5])\n",
    "# AOP 관점임. 나는 더하는 알고리즘(asb)만 집중하고 나머지는 np.vectorize 해서 기능 추가."
   ]
  },
  {
   "cell_type": "code",
   "execution_count": 95,
   "id": "4a457e51",
   "metadata": {
    "ExecuteTime": {
     "end_time": "2023-03-17T08:00:48.080282Z",
     "start_time": "2023-03-17T08:00:48.059992Z"
    }
   },
   "outputs": [
    {
     "data": {
      "text/plain": [
       "array([[[ 0,  1,  2,  3],\n",
       "        [ 4,  5,  6,  7],\n",
       "        [ 8,  9, 10, 11]],\n",
       "\n",
       "       [[12, 13, 14, 15],\n",
       "        [16, 17, 18, 19],\n",
       "        [20, 21, 22, 23]]])"
      ]
     },
     "execution_count": 95,
     "metadata": {},
     "output_type": "execute_result"
    }
   ],
   "source": [
    "a"
   ]
  },
  {
   "cell_type": "code",
   "execution_count": 97,
   "id": "abfaefd3",
   "metadata": {
    "ExecuteTime": {
     "end_time": "2023-03-17T08:01:15.619025Z",
     "start_time": "2023-03-17T08:01:15.604781Z"
    }
   },
   "outputs": [
    {
     "data": {
      "text/plain": [
       "True"
      ]
     },
     "execution_count": 97,
     "metadata": {},
     "output_type": "execute_result"
    }
   ],
   "source": [
    "'__iter__' in dir(a)   # for 돌릴 수 있음"
   ]
  },
  {
   "cell_type": "code",
   "execution_count": 98,
   "id": "b5d5d2d5",
   "metadata": {
    "ExecuteTime": {
     "end_time": "2023-03-17T08:02:00.669701Z",
     "start_time": "2023-03-17T08:02:00.663795Z"
    }
   },
   "outputs": [
    {
     "name": "stdout",
     "output_type": "stream",
     "text": [
      "[[ 0  1  2  3]\n",
      " [ 4  5  6  7]\n",
      " [ 8  9 10 11]]\n",
      "[[12 13 14 15]\n",
      " [16 17 18 19]\n",
      " [20 21 22 23]]\n"
     ]
    }
   ],
   "source": [
    "for i in a:\n",
    "    print(i)\n",
    "# 3차원인데 2차원으로 나옴. 3차원 관점에서 원소가 2개 있음. 만약 2차원을 for문 했으면 1차원으로 나왔을 것"
   ]
  },
  {
   "cell_type": "code",
   "execution_count": 99,
   "id": "f93f1336",
   "metadata": {
    "ExecuteTime": {
     "end_time": "2023-03-17T08:06:12.684110Z",
     "start_time": "2023-03-17T08:06:12.663345Z"
    }
   },
   "outputs": [],
   "source": [
    "# 위와 같은 것 중에 하나의 예외가 있었음(다른 인덱싱과 리덕션은 싹다 차원을 하나씩 줄임)\n",
    "# fancy indexing.\n",
    "# 이것 말고 다 차원을 줄임.\n",
    "a = np.arange(24).reshape(4,6)"
   ]
  },
  {
   "cell_type": "code",
   "execution_count": 100,
   "id": "39f53882",
   "metadata": {
    "ExecuteTime": {
     "end_time": "2023-03-17T08:06:14.496868Z",
     "start_time": "2023-03-17T08:06:14.488552Z"
    }
   },
   "outputs": [
    {
     "data": {
      "text/plain": [
       "array([[ 0,  1,  2,  3,  4,  5],\n",
       "       [ 6,  7,  8,  9, 10, 11],\n",
       "       [12, 13, 14, 15, 16, 17],\n",
       "       [18, 19, 20, 21, 22, 23]])"
      ]
     },
     "execution_count": 100,
     "metadata": {},
     "output_type": "execute_result"
    }
   ],
   "source": [
    "a"
   ]
  },
  {
   "cell_type": "code",
   "execution_count": 101,
   "id": "890cb765",
   "metadata": {
    "ExecuteTime": {
     "end_time": "2023-03-17T08:06:27.549896Z",
     "start_time": "2023-03-17T08:06:27.535100Z"
    }
   },
   "outputs": [
    {
     "name": "stdout",
     "output_type": "stream",
     "text": [
      "[0 1 2 3 4 5]\n",
      "[ 6  7  8  9 10 11]\n",
      "[12 13 14 15 16 17]\n",
      "[18 19 20 21 22 23]\n"
     ]
    }
   ],
   "source": [
    "for i in a:\n",
    "    print(i)   # 내부적으로 iterator로 바뀌어서 돌아가기 때문에, 제일 큰 차원 관점에서 하나씩 보여줌"
   ]
  },
  {
   "cell_type": "code",
   "execution_count": 103,
   "id": "af478c09",
   "metadata": {
    "ExecuteTime": {
     "end_time": "2023-03-17T08:07:33.576068Z",
     "start_time": "2023-03-17T08:07:33.552961Z"
    }
   },
   "outputs": [
    {
     "data": {
      "text/plain": [
       "array([ 0,  1,  2,  3,  4,  5,  6,  7,  8,  9, 10, 11, 12, 13, 14, 15, 16,\n",
       "       17, 18, 19, 20, 21, 22, 23])"
      ]
     },
     "execution_count": 103,
     "metadata": {},
     "output_type": "execute_result"
    }
   ],
   "source": [
    "# 보이는 건 n차로 보이는데 내부적으로는 다 1차임.\n",
    "a.flatten() # 차원을 납작하게 만드는 것. 1차로 바꿔줌."
   ]
  },
  {
   "cell_type": "code",
   "execution_count": 104,
   "id": "06351e14",
   "metadata": {
    "ExecuteTime": {
     "end_time": "2023-03-17T08:08:28.083583Z",
     "start_time": "2023-03-17T08:08:28.072375Z"
    }
   },
   "outputs": [
    {
     "data": {
      "text/plain": [
       "<numpy.flatiter at 0x7fdf53824200>"
      ]
     },
     "execution_count": 104,
     "metadata": {},
     "output_type": "execute_result"
    }
   ],
   "source": [
    "a.flat  # iter가 보임"
   ]
  },
  {
   "cell_type": "code",
   "execution_count": 105,
   "id": "a736294d",
   "metadata": {
    "ExecuteTime": {
     "end_time": "2023-03-17T08:08:53.941994Z",
     "start_time": "2023-03-17T08:08:53.931271Z"
    }
   },
   "outputs": [
    {
     "data": {
      "text/plain": [
       "True"
      ]
     },
     "execution_count": 105,
     "metadata": {},
     "output_type": "execute_result"
    }
   ],
   "source": [
    "'__next__' in dir(a.flat)"
   ]
  },
  {
   "cell_type": "code",
   "execution_count": 106,
   "id": "315a565c",
   "metadata": {
    "ExecuteTime": {
     "end_time": "2023-03-17T08:09:01.069780Z",
     "start_time": "2023-03-17T08:09:01.059906Z"
    }
   },
   "outputs": [],
   "source": [
    "b = a.flat"
   ]
  },
  {
   "cell_type": "code",
   "execution_count": 113,
   "id": "458c1d4c",
   "metadata": {
    "ExecuteTime": {
     "end_time": "2023-03-17T08:09:09.805004Z",
     "start_time": "2023-03-17T08:09:09.794123Z"
    }
   },
   "outputs": [
    {
     "data": {
      "text/plain": [
       "6"
      ]
     },
     "execution_count": 113,
     "metadata": {},
     "output_type": "execute_result"
    }
   ],
   "source": [
    "next(b)  # 즉 flat은 원소별로 돌릴 수 있음."
   ]
  },
  {
   "cell_type": "code",
   "execution_count": 114,
   "id": "4d82f20b",
   "metadata": {
    "ExecuteTime": {
     "end_time": "2023-03-17T08:13:58.970720Z",
     "start_time": "2023-03-17T08:13:58.949863Z"
    }
   },
   "outputs": [
    {
     "data": {
      "text/plain": [
       "array([ 0,  1,  2,  3,  4,  5,  6,  7,  8,  9, 10, 11, 12, 13, 14, 15, 16,\n",
       "       17, 18, 19, 20, 21, 22, 23])"
      ]
     },
     "execution_count": 114,
     "metadata": {},
     "output_type": "execute_result"
    }
   ],
   "source": [
    "# 파이썬은 실수를 많이 할 수 있는 언어. for를 많이 쓸면 쓸수록 실수가 증가\n",
    "# 함수형 패러다임은 함수만 잘 만들면 되기 때문에 논리에만 집중하면 됨.\n",
    "# flat 도 두가지가 있음. flatten 하고 똑같은 애가 ravel()\n",
    "a.ravel()"
   ]
  },
  {
   "cell_type": "code",
   "execution_count": null,
   "id": "5f1feb86",
   "metadata": {},
   "outputs": [],
   "source": [
    "# flatten 은 copy\n",
    "# ravel 은 view\n",
    "# 보이는 것 같은데 내부적으로는 다름."
   ]
  },
  {
   "cell_type": "code",
   "execution_count": null,
   "id": "910e5a40",
   "metadata": {},
   "outputs": [],
   "source": [
    "# Copies 와 View"
   ]
  },
  {
   "cell_type": "code",
   "execution_count": 115,
   "id": "e405a918",
   "metadata": {
    "ExecuteTime": {
     "end_time": "2023-03-17T08:16:16.045106Z",
     "start_time": "2023-03-17T08:16:16.040077Z"
    }
   },
   "outputs": [],
   "source": [
    "a = [1,2,3]"
   ]
  },
  {
   "cell_type": "code",
   "execution_count": 116,
   "id": "f7dbc851",
   "metadata": {
    "ExecuteTime": {
     "end_time": "2023-03-17T08:16:28.719577Z",
     "start_time": "2023-03-17T08:16:28.692965Z"
    }
   },
   "outputs": [],
   "source": [
    "b = a  # 이게 mutable 일 때는 메모리를 공유함"
   ]
  },
  {
   "cell_type": "code",
   "execution_count": 117,
   "id": "0d54bee3",
   "metadata": {
    "ExecuteTime": {
     "end_time": "2023-03-17T08:16:33.079029Z",
     "start_time": "2023-03-17T08:16:33.067076Z"
    }
   },
   "outputs": [],
   "source": [
    "b[0] = 100"
   ]
  },
  {
   "cell_type": "code",
   "execution_count": 118,
   "id": "8a508ad5",
   "metadata": {
    "ExecuteTime": {
     "end_time": "2023-03-17T08:16:34.243602Z",
     "start_time": "2023-03-17T08:16:34.232144Z"
    }
   },
   "outputs": [
    {
     "data": {
      "text/plain": [
       "[100, 2, 3]"
      ]
     },
     "execution_count": 118,
     "metadata": {},
     "output_type": "execute_result"
    }
   ],
   "source": [
    "a"
   ]
  },
  {
   "cell_type": "code",
   "execution_count": null,
   "id": "44c77355",
   "metadata": {},
   "outputs": [],
   "source": [
    "# copy 를 해버리면?  # 공유 안할 때 쓰는 게 copy"
   ]
  },
  {
   "cell_type": "code",
   "execution_count": 143,
   "id": "741d6a10",
   "metadata": {
    "ExecuteTime": {
     "end_time": "2023-03-17T08:31:28.161611Z",
     "start_time": "2023-03-17T08:31:28.153361Z"
    }
   },
   "outputs": [],
   "source": [
    "a = [1,2,3]"
   ]
  },
  {
   "cell_type": "code",
   "execution_count": 120,
   "id": "9ad70864",
   "metadata": {
    "ExecuteTime": {
     "end_time": "2023-03-17T08:17:18.101930Z",
     "start_time": "2023-03-17T08:17:18.092842Z"
    }
   },
   "outputs": [],
   "source": [
    "b = a.copy()  # copy 하면 새롭게 메모리 상에 값 만듦\n",
    "# 이렇게 하면 퍼포먼스 문제가 있음. 그 만큼 메모리 공간을 많이 차지함. 카피할 때 들어가는 비용이 있음.\n",
    "# 텐서플로에도 카피를 씀."
   ]
  },
  {
   "cell_type": "code",
   "execution_count": 121,
   "id": "72a2dc47",
   "metadata": {
    "ExecuteTime": {
     "end_time": "2023-03-17T08:18:48.375410Z",
     "start_time": "2023-03-17T08:18:48.370536Z"
    }
   },
   "outputs": [],
   "source": [
    "b[0] = 100"
   ]
  },
  {
   "cell_type": "code",
   "execution_count": 122,
   "id": "e8e36941",
   "metadata": {
    "ExecuteTime": {
     "end_time": "2023-03-17T08:18:49.731126Z",
     "start_time": "2023-03-17T08:18:49.718261Z"
    }
   },
   "outputs": [
    {
     "data": {
      "text/plain": [
       "[1, 2, 3]"
      ]
     },
     "execution_count": 122,
     "metadata": {},
     "output_type": "execute_result"
    }
   ],
   "source": [
    "a  # a 는 안바뀜"
   ]
  },
  {
   "cell_type": "code",
   "execution_count": null,
   "id": "496bf207",
   "metadata": {},
   "outputs": [],
   "source": [
    "# copy 2"
   ]
  },
  {
   "cell_type": "code",
   "execution_count": 123,
   "id": "25cf235e",
   "metadata": {
    "ExecuteTime": {
     "end_time": "2023-03-17T08:19:10.231930Z",
     "start_time": "2023-03-17T08:19:10.217526Z"
    }
   },
   "outputs": [],
   "source": [
    "a = [1,2,3]"
   ]
  },
  {
   "cell_type": "code",
   "execution_count": 124,
   "id": "258a5123",
   "metadata": {
    "ExecuteTime": {
     "end_time": "2023-03-17T08:19:14.242404Z",
     "start_time": "2023-03-17T08:19:14.230120Z"
    }
   },
   "outputs": [],
   "source": [
    "b = a[:] # 이것도 copy임"
   ]
  },
  {
   "cell_type": "code",
   "execution_count": 125,
   "id": "cbfc5531",
   "metadata": {
    "ExecuteTime": {
     "end_time": "2023-03-17T08:19:50.808079Z",
     "start_time": "2023-03-17T08:19:50.799350Z"
    }
   },
   "outputs": [],
   "source": [
    "# 인덱싱과 슬라이싱할 때 얘가 카피인지 아닌지 체크해야 함. 팬시 인덱싱에서 카피일 때가 있음.\n",
    "# 확인하려면,\n",
    "b[0] = 100"
   ]
  },
  {
   "cell_type": "code",
   "execution_count": 126,
   "id": "3b22fc49",
   "metadata": {
    "ExecuteTime": {
     "end_time": "2023-03-17T08:19:52.554454Z",
     "start_time": "2023-03-17T08:19:52.544250Z"
    }
   },
   "outputs": [
    {
     "data": {
      "text/plain": [
       "[1, 2, 3]"
      ]
     },
     "execution_count": 126,
     "metadata": {},
     "output_type": "execute_result"
    }
   ],
   "source": [
    "a # 안 바뀜. 그렇다면 [:]은 카피임"
   ]
  },
  {
   "cell_type": "code",
   "execution_count": null,
   "id": "93a47a84",
   "metadata": {},
   "outputs": [],
   "source": [
    "# deep copy"
   ]
  },
  {
   "cell_type": "code",
   "execution_count": 130,
   "id": "efba2536",
   "metadata": {
    "ExecuteTime": {
     "end_time": "2023-03-17T08:21:06.640704Z",
     "start_time": "2023-03-17T08:21:06.634734Z"
    }
   },
   "outputs": [],
   "source": [
    "a = [[1,2,3],[4,5,6]]"
   ]
  },
  {
   "cell_type": "code",
   "execution_count": 131,
   "id": "51400c82",
   "metadata": {
    "ExecuteTime": {
     "end_time": "2023-03-17T08:21:07.298631Z",
     "start_time": "2023-03-17T08:21:07.285473Z"
    }
   },
   "outputs": [
    {
     "data": {
      "text/plain": [
       "[[1, 2, 3], [4, 5, 6]]"
      ]
     },
     "execution_count": 131,
     "metadata": {},
     "output_type": "execute_result"
    }
   ],
   "source": [
    "a"
   ]
  },
  {
   "cell_type": "code",
   "execution_count": 132,
   "id": "097041db",
   "metadata": {
    "ExecuteTime": {
     "end_time": "2023-03-17T08:21:08.234844Z",
     "start_time": "2023-03-17T08:21:08.223017Z"
    }
   },
   "outputs": [],
   "source": [
    "b = a.copy()"
   ]
  },
  {
   "cell_type": "code",
   "execution_count": 133,
   "id": "e384cdaa",
   "metadata": {
    "ExecuteTime": {
     "end_time": "2023-03-17T08:21:14.109441Z",
     "start_time": "2023-03-17T08:21:14.100354Z"
    }
   },
   "outputs": [],
   "source": [
    "b[0][0] = 100"
   ]
  },
  {
   "cell_type": "code",
   "execution_count": 134,
   "id": "0b180b1e",
   "metadata": {
    "ExecuteTime": {
     "end_time": "2023-03-17T08:21:15.720500Z",
     "start_time": "2023-03-17T08:21:15.713155Z"
    }
   },
   "outputs": [
    {
     "data": {
      "text/plain": [
       "[[100, 2, 3], [4, 5, 6]]"
      ]
     },
     "execution_count": 134,
     "metadata": {},
     "output_type": "execute_result"
    }
   ],
   "source": [
    "a  # copy 가 안됐음. 이 deep 한 부분까지는 기본적으로 copy가 안됨. sharrow copy\n",
    "# 여러 구조가 있으면 딱 한 구조만 카피가 됨"
   ]
  },
  {
   "cell_type": "code",
   "execution_count": 135,
   "id": "9dc044e1",
   "metadata": {
    "ExecuteTime": {
     "end_time": "2023-03-17T08:22:10.433562Z",
     "start_time": "2023-03-17T08:22:10.423364Z"
    }
   },
   "outputs": [],
   "source": [
    "# 따라서 deep copy\n",
    "import copy"
   ]
  },
  {
   "cell_type": "code",
   "execution_count": 141,
   "id": "6f6bc94d",
   "metadata": {
    "ExecuteTime": {
     "end_time": "2023-03-17T08:31:12.176059Z",
     "start_time": "2023-03-17T08:31:12.162801Z"
    }
   },
   "outputs": [],
   "source": [
    "a = [[1,2,3],[4,5,6]]"
   ]
  },
  {
   "cell_type": "code",
   "execution_count": 137,
   "id": "94d777c9",
   "metadata": {
    "ExecuteTime": {
     "end_time": "2023-03-17T08:22:28.101600Z",
     "start_time": "2023-03-17T08:22:28.095299Z"
    }
   },
   "outputs": [],
   "source": [
    "b = copy.deepcopy(a)  # 구조체 안에 안에 들어간 것을 '딥'한 구조라고 함"
   ]
  },
  {
   "cell_type": "code",
   "execution_count": 138,
   "id": "1ac1ad35",
   "metadata": {
    "ExecuteTime": {
     "end_time": "2023-03-17T08:22:33.448001Z",
     "start_time": "2023-03-17T08:22:33.440072Z"
    }
   },
   "outputs": [],
   "source": [
    "b[0][0]=100"
   ]
  },
  {
   "cell_type": "code",
   "execution_count": 139,
   "id": "203df162",
   "metadata": {
    "ExecuteTime": {
     "end_time": "2023-03-17T08:22:35.472945Z",
     "start_time": "2023-03-17T08:22:35.462912Z"
    }
   },
   "outputs": [
    {
     "data": {
      "text/plain": [
       "[[1, 2, 3], [4, 5, 6]]"
      ]
     },
     "execution_count": 139,
     "metadata": {},
     "output_type": "execute_result"
    }
   ],
   "source": [
    "a"
   ]
  },
  {
   "cell_type": "code",
   "execution_count": null,
   "id": "55026ab7",
   "metadata": {},
   "outputs": [],
   "source": [
    "# 넘파이의 copy\n",
    "# 넘파이는 ndarray 니까, 넘파이에서는 copy = deepcopy가 기본.\n",
    "# flatten 은 copy -> 새로운 데이터 구조(deep)\n",
    "# ravel 은 view -> 메모리 공유가 되어버림(shallow)\n",
    "# 넘파이에서는 ctrl+z 가 없음. 주피터에는 기준점 체크포인트가 있음.\n",
    "# 그래서 중요한 상황 나올 때마다 카피를 해 놓음\n",
    "# 실행결과가 아주 많이 나온 경우도 카피를 해 놓음"
   ]
  },
  {
   "cell_type": "code",
   "execution_count": null,
   "id": "942be3e8",
   "metadata": {},
   "outputs": [],
   "source": [
    "# shallow copy 를 view 라고 함.\n",
    "# ravel() 은 view 다!\n",
    "# 카피는 딥 카피다!!\n",
    "# 인덱싱과 슬라이싱 할 떄 중요하다. "
   ]
  },
  {
   "cell_type": "code",
   "execution_count": 147,
   "id": "a9ff546d",
   "metadata": {
    "ExecuteTime": {
     "end_time": "2023-03-17T08:31:56.597221Z",
     "start_time": "2023-03-17T08:31:56.577879Z"
    }
   },
   "outputs": [
    {
     "data": {
      "text/plain": [
       "[1, 2, 3]"
      ]
     },
     "execution_count": 147,
     "metadata": {},
     "output_type": "execute_result"
    }
   ],
   "source": [
    "a"
   ]
  },
  {
   "cell_type": "code",
   "execution_count": 148,
   "id": "efc8c0c8",
   "metadata": {
    "ExecuteTime": {
     "end_time": "2023-03-17T08:32:02.011289Z",
     "start_time": "2023-03-17T08:32:02.001245Z"
    }
   },
   "outputs": [],
   "source": [
    "b = a.copy()"
   ]
  },
  {
   "cell_type": "code",
   "execution_count": 149,
   "id": "2f895719",
   "metadata": {
    "ExecuteTime": {
     "end_time": "2023-03-17T08:32:05.206460Z",
     "start_time": "2023-03-17T08:32:05.201110Z"
    }
   },
   "outputs": [],
   "source": [
    "c = a[:]"
   ]
  },
  {
   "cell_type": "code",
   "execution_count": 150,
   "id": "94e832d7",
   "metadata": {
    "ExecuteTime": {
     "end_time": "2023-03-17T08:32:11.163968Z",
     "start_time": "2023-03-17T08:32:11.153308Z"
    }
   },
   "outputs": [
    {
     "data": {
      "text/plain": [
       "False"
      ]
     },
     "execution_count": 150,
     "metadata": {},
     "output_type": "execute_result"
    }
   ],
   "source": [
    "id(b) == id(c)"
   ]
  },
  {
   "cell_type": "code",
   "execution_count": 151,
   "id": "b414b680",
   "metadata": {
    "ExecuteTime": {
     "end_time": "2023-03-17T08:32:28.068096Z",
     "start_time": "2023-03-17T08:32:28.058922Z"
    }
   },
   "outputs": [
    {
     "data": {
      "text/plain": [
       "False"
      ]
     },
     "execution_count": 151,
     "metadata": {},
     "output_type": "execute_result"
    }
   ],
   "source": [
    "id(a) == id(b)"
   ]
  },
  {
   "cell_type": "code",
   "execution_count": 152,
   "id": "50413942",
   "metadata": {
    "ExecuteTime": {
     "end_time": "2023-03-17T08:32:34.549377Z",
     "start_time": "2023-03-17T08:32:34.534769Z"
    }
   },
   "outputs": [],
   "source": [
    "d = a"
   ]
  },
  {
   "cell_type": "code",
   "execution_count": 153,
   "id": "0f30e568",
   "metadata": {
    "ExecuteTime": {
     "end_time": "2023-03-17T08:32:39.974357Z",
     "start_time": "2023-03-17T08:32:39.963213Z"
    }
   },
   "outputs": [
    {
     "data": {
      "text/plain": [
       "True"
      ]
     },
     "execution_count": 153,
     "metadata": {},
     "output_type": "execute_result"
    }
   ],
   "source": [
    "id(a) == id(d)"
   ]
  }
 ],
 "metadata": {
  "kernelspec": {
   "display_name": "Python 3 (ipykernel)",
   "language": "python",
   "name": "python3"
  },
  "language_info": {
   "codemirror_mode": {
    "name": "ipython",
    "version": 3
   },
   "file_extension": ".py",
   "mimetype": "text/x-python",
   "name": "python",
   "nbconvert_exporter": "python",
   "pygments_lexer": "ipython3",
   "version": "3.10.9"
  },
  "toc": {
   "base_numbering": 1,
   "nav_menu": {},
   "number_sections": true,
   "sideBar": true,
   "skip_h1_title": false,
   "title_cell": "Table of Contents",
   "title_sidebar": "Contents",
   "toc_cell": false,
   "toc_position": {},
   "toc_section_display": true,
   "toc_window_display": false
  },
  "varInspector": {
   "cols": {
    "lenName": 16,
    "lenType": 16,
    "lenVar": 40
   },
   "kernels_config": {
    "python": {
     "delete_cmd_postfix": "",
     "delete_cmd_prefix": "del ",
     "library": "var_list.py",
     "varRefreshCmd": "print(var_dic_list())"
    },
    "r": {
     "delete_cmd_postfix": ") ",
     "delete_cmd_prefix": "rm(",
     "library": "var_list.r",
     "varRefreshCmd": "cat(var_dic_list()) "
    }
   },
   "types_to_exclude": [
    "module",
    "function",
    "builtin_function_or_method",
    "instance",
    "_Feature"
   ],
   "window_display": false
  }
 },
 "nbformat": 4,
 "nbformat_minor": 5
}
