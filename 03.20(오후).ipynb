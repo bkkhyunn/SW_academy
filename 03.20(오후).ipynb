{
 "cells": [
  {
   "cell_type": "markdown",
   "id": "a3da2500",
   "metadata": {},
   "source": [
    "### 지난시간 복습"
   ]
  },
  {
   "cell_type": "code",
   "execution_count": null,
   "id": "994a3e7a",
   "metadata": {},
   "outputs": [],
   "source": [
    "# 넘파이"
   ]
  },
  {
   "cell_type": "markdown",
   "id": "08e2d75b",
   "metadata": {},
   "source": [
    "### 수업"
   ]
  },
  {
   "cell_type": "code",
   "execution_count": null,
   "id": "6738f455",
   "metadata": {},
   "outputs": [],
   "source": [
    "# Numpy shape manipulation\n",
    "# convolution 이라는 layer 는 이론상 3, 4차원 다 받을 수는 있지만\n",
    "# 보통 텐서나 파이토치는 4차원으로 받음.\n",
    "# 이럴 때 차원을 바꿔줘야 하는데 그 때 필요한 것이 shape 맞추기\n",
    "# 연산적으로 shape이 맞아야 하기 때문에"
   ]
  },
  {
   "cell_type": "code",
   "execution_count": 1,
   "id": "8f063394",
   "metadata": {
    "ExecuteTime": {
     "end_time": "2023-03-20T05:08:58.301783Z",
     "start_time": "2023-03-20T05:08:58.291124Z"
    }
   },
   "outputs": [],
   "source": [
    "# 그 전에 indexing/slicing 하면서 안했던 5번째\n",
    "# [...]\n",
    "import numpy as np"
   ]
  },
  {
   "cell_type": "code",
   "execution_count": 5,
   "id": "2b1f5770",
   "metadata": {
    "ExecuteTime": {
     "end_time": "2023-03-20T05:09:55.778488Z",
     "start_time": "2023-03-20T05:09:55.768940Z"
    }
   },
   "outputs": [
    {
     "data": {
      "text/plain": [
       "array([[ 0,  1,  2,  3,  4,  5],\n",
       "       [ 6,  7,  8,  9, 10, 11],\n",
       "       [12, 13, 14, 15, 16, 17],\n",
       "       [18, 19, 20, 21, 22, 23]])"
      ]
     },
     "execution_count": 5,
     "metadata": {},
     "output_type": "execute_result"
    }
   ],
   "source": [
    "a = np.arange(24).reshape(4, 6)\n",
    "a"
   ]
  },
  {
   "cell_type": "code",
   "execution_count": 8,
   "id": "a61fe567",
   "metadata": {
    "ExecuteTime": {
     "end_time": "2023-03-20T05:10:17.030315Z",
     "start_time": "2023-03-20T05:10:17.014114Z"
    }
   },
   "outputs": [
    {
     "data": {
      "text/plain": [
       "((4, 6), 2)"
      ]
     },
     "execution_count": 8,
     "metadata": {},
     "output_type": "execute_result"
    }
   ],
   "source": [
    "a.shape, a.ndim"
   ]
  },
  {
   "cell_type": "code",
   "execution_count": 7,
   "id": "aa11c2ab",
   "metadata": {
    "ExecuteTime": {
     "end_time": "2023-03-20T05:10:01.069121Z",
     "start_time": "2023-03-20T05:10:01.054564Z"
    }
   },
   "outputs": [
    {
     "data": {
      "text/plain": [
       "array([[[ 0,  1,  2,  3],\n",
       "        [ 4,  5,  6,  7],\n",
       "        [ 8,  9, 10, 11]],\n",
       "\n",
       "       [[12, 13, 14, 15],\n",
       "        [16, 17, 18, 19],\n",
       "        [20, 21, 22, 23]]])"
      ]
     },
     "execution_count": 7,
     "metadata": {},
     "output_type": "execute_result"
    }
   ],
   "source": [
    "b = np.arange(24).reshape(2,3,4)\n",
    "b"
   ]
  },
  {
   "cell_type": "code",
   "execution_count": 9,
   "id": "f9acb8ae",
   "metadata": {
    "ExecuteTime": {
     "end_time": "2023-03-20T05:10:27.304087Z",
     "start_time": "2023-03-20T05:10:27.293862Z"
    }
   },
   "outputs": [
    {
     "data": {
      "text/plain": [
       "((2, 3, 4), 3)"
      ]
     },
     "execution_count": 9,
     "metadata": {},
     "output_type": "execute_result"
    }
   ],
   "source": [
    "b.shape, b.ndim"
   ]
  },
  {
   "cell_type": "code",
   "execution_count": null,
   "id": "a8f09ecd",
   "metadata": {},
   "outputs": [],
   "source": [
    "# fancy 인덱싱을 제외하고 인덱싱과 슬라이싱을 하면\n",
    "# 차원이 하나 줄어듦."
   ]
  },
  {
   "cell_type": "code",
   "execution_count": 4,
   "id": "2d2d5156",
   "metadata": {
    "ExecuteTime": {
     "end_time": "2023-03-20T05:09:52.299294Z",
     "start_time": "2023-03-20T05:09:52.282197Z"
    }
   },
   "outputs": [
    {
     "data": {
      "text/plain": [
       "8"
      ]
     },
     "execution_count": 4,
     "metadata": {},
     "output_type": "execute_result"
    }
   ],
   "source": [
    "a[1,2]"
   ]
  },
  {
   "cell_type": "code",
   "execution_count": 10,
   "id": "b9681a49",
   "metadata": {
    "ExecuteTime": {
     "end_time": "2023-03-20T05:10:39.851339Z",
     "start_time": "2023-03-20T05:10:39.838617Z"
    }
   },
   "outputs": [
    {
     "data": {
      "text/plain": [
       "array([[ 0,  1,  2,  3,  4,  5],\n",
       "       [ 6,  7,  8,  9, 10, 11],\n",
       "       [12, 13, 14, 15, 16, 17],\n",
       "       [18, 19, 20, 21, 22, 23]])"
      ]
     },
     "execution_count": 10,
     "metadata": {},
     "output_type": "execute_result"
    }
   ],
   "source": [
    "a[()]\n",
    "# 전체를 다 가져옴. 차원을 그대로.\n",
    "# 무조건 대체 가능한 것이 아님. 대체 가능할 때 만들어 놓는 것이 있고\n",
    "# 덕 타이핑으로 자동적으로 대체 가능한 것이 있음."
   ]
  },
  {
   "cell_type": "code",
   "execution_count": 11,
   "id": "07cfe246",
   "metadata": {
    "ExecuteTime": {
     "end_time": "2023-03-20T05:10:51.292482Z",
     "start_time": "2023-03-20T05:10:51.275379Z"
    }
   },
   "outputs": [
    {
     "data": {
      "text/plain": [
       "array([], shape=(0, 6), dtype=int64)"
      ]
     },
     "execution_count": 11,
     "metadata": {},
     "output_type": "execute_result"
    }
   ],
   "source": [
    "a[[]] # 대체 불가능"
   ]
  },
  {
   "cell_type": "code",
   "execution_count": 12,
   "id": "fffdf1cd",
   "metadata": {
    "ExecuteTime": {
     "end_time": "2023-03-20T05:12:17.951537Z",
     "start_time": "2023-03-20T05:12:17.934909Z"
    }
   },
   "outputs": [],
   "source": [
    "c = a[()]  # view 가 됨"
   ]
  },
  {
   "cell_type": "code",
   "execution_count": 14,
   "id": "c2f453bd",
   "metadata": {
    "ExecuteTime": {
     "end_time": "2023-03-20T05:12:47.582058Z",
     "start_time": "2023-03-20T05:12:47.568913Z"
    }
   },
   "outputs": [
    {
     "data": {
      "text/plain": [
       "(array([[ 0,  1,  2,  3,  4,  5],\n",
       "        [ 6,  7,  8,  9, 10, 11],\n",
       "        [12, 13, 14, 15, 16, 17],\n",
       "        [18, 19, 20, 21, 22, 23]]),\n",
       " numpy.ndarray)"
      ]
     },
     "execution_count": 14,
     "metadata": {},
     "output_type": "execute_result"
    }
   ],
   "source": [
    "c, type(c)"
   ]
  },
  {
   "cell_type": "code",
   "execution_count": 15,
   "id": "912d4b08",
   "metadata": {
    "ExecuteTime": {
     "end_time": "2023-03-20T05:12:52.696779Z",
     "start_time": "2023-03-20T05:12:52.681282Z"
    }
   },
   "outputs": [
    {
     "data": {
      "text/plain": [
       "array([[ 0,  1,  2,  3,  4,  5],\n",
       "       [ 6,  7,  8,  9, 10, 11],\n",
       "       [12, 13, 14, 15, 16, 17],\n",
       "       [18, 19, 20, 21, 22, 23]])"
      ]
     },
     "execution_count": 15,
     "metadata": {},
     "output_type": "execute_result"
    }
   ],
   "source": [
    "a[:,:]"
   ]
  },
  {
   "cell_type": "code",
   "execution_count": null,
   "id": "f01560ec",
   "metadata": {},
   "outputs": [],
   "source": [
    "# 항상 뷰나 카피를 다 외울 수 없으니 체크해줘야 함."
   ]
  },
  {
   "cell_type": "code",
   "execution_count": 16,
   "id": "443e68ac",
   "metadata": {
    "ExecuteTime": {
     "end_time": "2023-03-20T05:13:23.515986Z",
     "start_time": "2023-03-20T05:13:23.500245Z"
    }
   },
   "outputs": [
    {
     "data": {
      "text/plain": [
       "array([[ 0,  1,  2,  3,  4,  5],\n",
       "       [ 6,  7,  8,  9, 10, 11],\n",
       "       [12, 13, 14, 15, 16, 17],\n",
       "       [18, 19, 20, 21, 22, 23]])"
      ]
     },
     "execution_count": 16,
     "metadata": {},
     "output_type": "execute_result"
    }
   ],
   "source": [
    "a[...]"
   ]
  },
  {
   "cell_type": "code",
   "execution_count": null,
   "id": "ead47bac",
   "metadata": {},
   "outputs": [],
   "source": [
    "a[:,:] 와 a[...] 는 똑같은 것"
   ]
  },
  {
   "cell_type": "code",
   "execution_count": null,
   "id": "ff6446c0",
   "metadata": {},
   "outputs": [],
   "source": [
    "# 3차원부터 조금 힘들어짐"
   ]
  },
  {
   "cell_type": "code",
   "execution_count": 19,
   "id": "20a0308d",
   "metadata": {
    "ExecuteTime": {
     "end_time": "2023-03-20T05:14:29.357069Z",
     "start_time": "2023-03-20T05:14:29.343975Z"
    }
   },
   "outputs": [
    {
     "data": {
      "text/plain": [
       "array([[[ 0,  1,  2,  3],\n",
       "        [ 4,  5,  6,  7],\n",
       "        [ 8,  9, 10, 11]],\n",
       "\n",
       "       [[12, 13, 14, 15],\n",
       "        [16, 17, 18, 19],\n",
       "        [20, 21, 22, 23]]])"
      ]
     },
     "execution_count": 19,
     "metadata": {},
     "output_type": "execute_result"
    }
   ],
   "source": [
    "b"
   ]
  },
  {
   "cell_type": "code",
   "execution_count": 17,
   "id": "391d9df9",
   "metadata": {
    "ExecuteTime": {
     "end_time": "2023-03-20T05:14:06.514963Z",
     "start_time": "2023-03-20T05:14:06.500377Z"
    }
   },
   "outputs": [
    {
     "data": {
      "text/plain": [
       "23"
      ]
     },
     "execution_count": 17,
     "metadata": {},
     "output_type": "execute_result"
    }
   ],
   "source": [
    "b[1,2,3]"
   ]
  },
  {
   "cell_type": "code",
   "execution_count": 18,
   "id": "a13422d4",
   "metadata": {
    "ExecuteTime": {
     "end_time": "2023-03-20T05:14:16.871805Z",
     "start_time": "2023-03-20T05:14:16.858317Z"
    }
   },
   "outputs": [
    {
     "data": {
      "text/plain": [
       "array([[ 3,  7, 11],\n",
       "       [15, 19, 23]])"
      ]
     },
     "execution_count": 18,
     "metadata": {},
     "output_type": "execute_result"
    }
   ],
   "source": [
    "b[...,3]  # == b[:,:,3]"
   ]
  },
  {
   "cell_type": "code",
   "execution_count": 20,
   "id": "86a0d1ea",
   "metadata": {
    "ExecuteTime": {
     "end_time": "2023-03-20T05:14:55.732295Z",
     "start_time": "2023-03-20T05:14:55.718784Z"
    }
   },
   "outputs": [
    {
     "data": {
      "text/plain": [
       "array([[[ 0,  1,  2,  3],\n",
       "        [ 4,  5,  6,  7],\n",
       "        [ 8,  9, 10, 11]],\n",
       "\n",
       "       [[12, 13, 14, 15],\n",
       "        [16, 17, 18, 19],\n",
       "        [20, 21, 22, 23]]])"
      ]
     },
     "execution_count": 20,
     "metadata": {},
     "output_type": "execute_result"
    }
   ],
   "source": [
    "b[...] # == b[:,:,:]"
   ]
  },
  {
   "cell_type": "code",
   "execution_count": null,
   "id": "4eb7c7eb",
   "metadata": {},
   "outputs": [],
   "source": [
    "# shape 바꾸는 데 이걸 왜 할까?\n",
    "# shape 바꾸는 첫번째"
   ]
  },
  {
   "cell_type": "code",
   "execution_count": null,
   "id": "01e946b9",
   "metadata": {},
   "outputs": [],
   "source": [
    "# flatten(copy), ravel(view)  => 1차로 바꾸는 것\n",
    "# 이걸 제일 많이 씀\n",
    "# 두 번째는 차원을 확장시킬 때.\n",
    "# reshape 자체는 shape 을 바꾸는 것."
   ]
  },
  {
   "cell_type": "code",
   "execution_count": 1,
   "id": "22a751cd",
   "metadata": {
    "ExecuteTime": {
     "end_time": "2023-03-20T15:04:55.320742Z",
     "start_time": "2023-03-20T15:04:55.311972Z"
    }
   },
   "outputs": [],
   "source": [
    "a = np.arange(24).reshape(4,6)"
   ]
  },
  {
   "cell_type": "code",
   "execution_count": 7,
   "id": "c7daf8c9",
   "metadata": {
    "ExecuteTime": {
     "end_time": "2023-03-20T15:05:39.213668Z",
     "start_time": "2023-03-20T15:05:39.200576Z"
    }
   },
   "outputs": [
    {
     "data": {
      "text/plain": [
       "array([ 0,  1,  2,  3,  4,  5,  6,  7,  8,  9, 10, 11, 12, 13, 14, 15, 16,\n",
       "       17, 18, 19, 20, 21, 22, 23])"
      ]
     },
     "execution_count": 7,
     "metadata": {},
     "output_type": "execute_result"
    }
   ],
   "source": [
    "b = a.ravel()\n",
    "b"
   ]
  },
  {
   "cell_type": "code",
   "execution_count": 8,
   "id": "6b3687e6",
   "metadata": {
    "ExecuteTime": {
     "end_time": "2023-03-20T15:05:39.931552Z",
     "start_time": "2023-03-20T15:05:39.918871Z"
    }
   },
   "outputs": [
    {
     "data": {
      "text/plain": [
       "array([ 0,  1,  2,  3,  4,  5,  6,  7,  8,  9, 10, 11, 12, 13, 14, 15, 16,\n",
       "       17, 18, 19, 20, 21, 22, 23])"
      ]
     },
     "execution_count": 8,
     "metadata": {},
     "output_type": "execute_result"
    }
   ],
   "source": [
    "c = a.flatten()\n",
    "c"
   ]
  },
  {
   "cell_type": "code",
   "execution_count": 12,
   "id": "2593c994",
   "metadata": {
    "ExecuteTime": {
     "end_time": "2023-03-20T15:06:08.626092Z",
     "start_time": "2023-03-20T15:06:08.614248Z"
    }
   },
   "outputs": [
    {
     "data": {
      "text/plain": [
       "(False, False)"
      ]
     },
     "execution_count": 12,
     "metadata": {},
     "output_type": "execute_result"
    }
   ],
   "source": [
    "id(a) == id(b), id(a) == id(c)"
   ]
  },
  {
   "cell_type": "code",
   "execution_count": 10,
   "id": "b6864e4c",
   "metadata": {
    "ExecuteTime": {
     "end_time": "2023-03-20T15:05:54.249642Z",
     "start_time": "2023-03-20T15:05:54.237672Z"
    }
   },
   "outputs": [
    {
     "data": {
      "text/plain": [
       "False"
      ]
     },
     "execution_count": 10,
     "metadata": {},
     "output_type": "execute_result"
    }
   ],
   "source": [
    "id(b) == id(c)"
   ]
  },
  {
   "cell_type": "code",
   "execution_count": 3,
   "id": "cd0d4c82",
   "metadata": {
    "ExecuteTime": {
     "end_time": "2023-03-20T15:05:09.103608Z",
     "start_time": "2023-03-20T15:05:09.097041Z"
    }
   },
   "outputs": [
    {
     "data": {
      "text/plain": [
       "(4, 6)"
      ]
     },
     "execution_count": 3,
     "metadata": {},
     "output_type": "execute_result"
    }
   ],
   "source": [
    "a.shape"
   ]
  },
  {
   "cell_type": "code",
   "execution_count": 23,
   "id": "3e81dcee",
   "metadata": {
    "ExecuteTime": {
     "end_time": "2023-03-20T05:18:11.320737Z",
     "start_time": "2023-03-20T05:18:11.307353Z"
    }
   },
   "outputs": [
    {
     "data": {
      "text/plain": [
       "array([[ 0,  1,  2,  3,  4,  5,  6,  7,  8,  9, 10, 11],\n",
       "       [12, 13, 14, 15, 16, 17, 18, 19, 20, 21, 22, 23]])"
      ]
     },
     "execution_count": 23,
     "metadata": {},
     "output_type": "execute_result"
    }
   ],
   "source": [
    "a.reshape(2,12)"
   ]
  },
  {
   "cell_type": "code",
   "execution_count": 24,
   "id": "f54cf4f8",
   "metadata": {
    "ExecuteTime": {
     "end_time": "2023-03-20T05:18:22.984035Z",
     "start_time": "2023-03-20T05:18:22.534370Z"
    }
   },
   "outputs": [
    {
     "ename": "ValueError",
     "evalue": "cannot reshape array of size 24 into shape (2,7)",
     "output_type": "error",
     "traceback": [
      "\u001b[0;31m---------------------------------------------------------------------------\u001b[0m",
      "\u001b[0;31mValueError\u001b[0m                                Traceback (most recent call last)",
      "Cell \u001b[0;32mIn[24], line 1\u001b[0m\n\u001b[0;32m----> 1\u001b[0m \u001b[43ma\u001b[49m\u001b[38;5;241;43m.\u001b[39;49m\u001b[43mreshape\u001b[49m\u001b[43m(\u001b[49m\u001b[38;5;241;43m2\u001b[39;49m\u001b[43m,\u001b[49m\u001b[38;5;241;43m7\u001b[39;49m\u001b[43m)\u001b[49m\n",
      "\u001b[0;31mValueError\u001b[0m: cannot reshape array of size 24 into shape (2,7)"
     ]
    }
   ],
   "source": [
    "a.reshape(2,7)\n",
    "# shape 은 바뀌되, size(개수)는 바뀌면 안됨. 나머지를 못 버림"
   ]
  },
  {
   "cell_type": "code",
   "execution_count": 25,
   "id": "1cb117dc",
   "metadata": {
    "ExecuteTime": {
     "end_time": "2023-03-20T05:18:38.568696Z",
     "start_time": "2023-03-20T05:18:38.556510Z"
    }
   },
   "outputs": [
    {
     "data": {
      "text/plain": [
       "24"
      ]
     },
     "execution_count": 25,
     "metadata": {},
     "output_type": "execute_result"
    }
   ],
   "source": [
    "a.size"
   ]
  },
  {
   "cell_type": "code",
   "execution_count": null,
   "id": "3a8d9848",
   "metadata": {},
   "outputs": [],
   "source": [
    "# 즉 reshape은 size는 그대로 놔둔채 모양만 바꿈."
   ]
  },
  {
   "cell_type": "code",
   "execution_count": 26,
   "id": "66202aba",
   "metadata": {
    "ExecuteTime": {
     "end_time": "2023-03-20T05:19:09.512512Z",
     "start_time": "2023-03-20T05:19:09.499973Z"
    }
   },
   "outputs": [
    {
     "data": {
      "text/plain": [
       "array([[[ 0,  1,  2,  3,  4,  5],\n",
       "        [ 6,  7,  8,  9, 10, 11]],\n",
       "\n",
       "       [[12, 13, 14, 15, 16, 17],\n",
       "        [18, 19, 20, 21, 22, 23]]])"
      ]
     },
     "execution_count": 26,
     "metadata": {},
     "output_type": "execute_result"
    }
   ],
   "source": [
    "a.reshape(2,2,6)  # 즉 곱해서 24만 되면 됨."
   ]
  },
  {
   "cell_type": "code",
   "execution_count": 27,
   "id": "14f804ea",
   "metadata": {
    "ExecuteTime": {
     "end_time": "2023-03-20T05:19:23.969638Z",
     "start_time": "2023-03-20T05:19:23.955281Z"
    }
   },
   "outputs": [
    {
     "data": {
      "text/plain": [
       "array([[[ 0,  1,  2,  3,  4,  5,  6,  7,  8,  9, 10, 11, 12, 13, 14, 15,\n",
       "         16, 17, 18, 19, 20, 21, 22, 23]]])"
      ]
     },
     "execution_count": 27,
     "metadata": {},
     "output_type": "execute_result"
    }
   ],
   "source": [
    "a.reshape(1,1,24) # 이런 1 테크닉을 많이 씀"
   ]
  },
  {
   "cell_type": "code",
   "execution_count": 28,
   "id": "62fc584d",
   "metadata": {
    "ExecuteTime": {
     "end_time": "2023-03-20T05:19:57.095364Z",
     "start_time": "2023-03-20T05:19:57.066987Z"
    }
   },
   "outputs": [
    {
     "ename": "ValueError",
     "evalue": "cannot resize this array: it does not own its data",
     "output_type": "error",
     "traceback": [
      "\u001b[0;31m---------------------------------------------------------------------------\u001b[0m",
      "\u001b[0;31mValueError\u001b[0m                                Traceback (most recent call last)",
      "Cell \u001b[0;32mIn[28], line 1\u001b[0m\n\u001b[0;32m----> 1\u001b[0m \u001b[43ma\u001b[49m\u001b[38;5;241;43m.\u001b[39;49m\u001b[43mresize\u001b[49m\u001b[43m(\u001b[49m\u001b[38;5;241;43m2\u001b[39;49m\u001b[43m,\u001b[49m\u001b[43m \u001b[49m\u001b[38;5;241;43m7\u001b[39;49m\u001b[43m)\u001b[49m\n",
      "\u001b[0;31mValueError\u001b[0m: cannot resize this array: it does not own its data"
     ]
    }
   ],
   "source": [
    "a.resize(2, 7)\n",
    "# a.resize(new_shape, refcheck=True)"
   ]
  },
  {
   "cell_type": "code",
   "execution_count": 29,
   "id": "3fb6f119",
   "metadata": {
    "ExecuteTime": {
     "end_time": "2023-03-20T05:20:23.773625Z",
     "start_time": "2023-03-20T05:20:23.756086Z"
    }
   },
   "outputs": [
    {
     "data": {
      "text/plain": [
       "array([[ 0,  1,  2,  3,  4,  5,  6],\n",
       "       [ 7,  8,  9, 10, 11, 12, 13]])"
      ]
     },
     "execution_count": 29,
     "metadata": {},
     "output_type": "execute_result"
    }
   ],
   "source": [
    "np.resize(a, (2,7)) \n",
    "# 이건 됨. 위는 메소드라서 안됨(자기 자신이 바뀌는 거라서)\n",
    "# 메소드에 대응하는 함수는 된다는 것.\n",
    "# 뒤에서부터 잘랐음"
   ]
  },
  {
   "cell_type": "code",
   "execution_count": 30,
   "id": "9bcdb1e7",
   "metadata": {
    "ExecuteTime": {
     "end_time": "2023-03-20T05:21:18.775413Z",
     "start_time": "2023-03-20T05:21:18.750083Z"
    }
   },
   "outputs": [
    {
     "ename": "ValueError",
     "evalue": "cannot resize this array: it does not own its data",
     "output_type": "error",
     "traceback": [
      "\u001b[0;31m---------------------------------------------------------------------------\u001b[0m",
      "\u001b[0;31mValueError\u001b[0m                                Traceback (most recent call last)",
      "Cell \u001b[0;32mIn[30], line 1\u001b[0m\n\u001b[0;32m----> 1\u001b[0m \u001b[43ma\u001b[49m\u001b[38;5;241;43m.\u001b[39;49m\u001b[43mresize\u001b[49m\u001b[43m(\u001b[49m\u001b[43m(\u001b[49m\u001b[38;5;241;43m2\u001b[39;49m\u001b[43m,\u001b[49m\u001b[43m \u001b[49m\u001b[38;5;241;43m7\u001b[39;49m\u001b[43m)\u001b[49m\u001b[43m,\u001b[49m\u001b[43m \u001b[49m\u001b[43mrefcheck\u001b[49m\u001b[38;5;241;43m=\u001b[39;49m\u001b[38;5;28;43;01mFalse\u001b[39;49;00m\u001b[43m)\u001b[49m\n",
      "\u001b[0;31mValueError\u001b[0m: cannot resize this array: it does not own its data"
     ]
    }
   ],
   "source": [
    "a.resize((2, 7), refcheck=False)"
   ]
  },
  {
   "cell_type": "code",
   "execution_count": null,
   "id": "4365f40c",
   "metadata": {},
   "outputs": [],
   "source": [
    "# 파이썬은 레퍼런스 카운트를 계속 유지하고 있음. 레퍼런스 카운트가 0이 되면 가비지 컬렉션이 됨.\n",
    "# 레퍼런스 체크를 하면 자기 자신을 바꿀 때마다 문제점이 생기게 만들어 놓음"
   ]
  },
  {
   "cell_type": "code",
   "execution_count": 31,
   "id": "eea3a370",
   "metadata": {
    "ExecuteTime": {
     "end_time": "2023-03-20T05:22:04.517259Z",
     "start_time": "2023-03-20T05:22:04.502974Z"
    }
   },
   "outputs": [
    {
     "data": {
      "text/plain": [
       "array([[ 0,  1,  2,  3,  4,  5,  6,  7,  8,  9],\n",
       "       [10, 11, 12, 13, 14, 15, 16, 17, 18, 19],\n",
       "       [20, 21, 22, 23,  0,  1,  2,  3,  4,  5],\n",
       "       [ 6,  7,  8,  9, 10, 11, 12, 13, 14, 15]])"
      ]
     },
     "execution_count": 31,
     "metadata": {},
     "output_type": "execute_result"
    }
   ],
   "source": [
    "np.resize(a, (4, 10))\n",
    "# 크기가 원래보다 크니까 같은 애를 작은 것부터 덧붙힘(repeat).\n",
    "# Signature: np.resize(a, new_shape)"
   ]
  },
  {
   "cell_type": "code",
   "execution_count": 32,
   "id": "ca8f330f",
   "metadata": {
    "ExecuteTime": {
     "end_time": "2023-03-20T05:22:56.213209Z",
     "start_time": "2023-03-20T05:22:56.187509Z"
    }
   },
   "outputs": [
    {
     "ename": "ValueError",
     "evalue": "cannot resize this array: it does not own its data",
     "output_type": "error",
     "traceback": [
      "\u001b[0;31m---------------------------------------------------------------------------\u001b[0m",
      "\u001b[0;31mValueError\u001b[0m                                Traceback (most recent call last)",
      "Cell \u001b[0;32mIn[32], line 1\u001b[0m\n\u001b[0;32m----> 1\u001b[0m \u001b[43ma\u001b[49m\u001b[38;5;241;43m.\u001b[39;49m\u001b[43mresize\u001b[49m\u001b[43m(\u001b[49m\u001b[43m(\u001b[49m\u001b[38;5;241;43m7\u001b[39;49m\u001b[43m,\u001b[49m\u001b[43m \u001b[49m\u001b[38;5;241;43m7\u001b[39;49m\u001b[43m)\u001b[49m\u001b[43m,\u001b[49m\u001b[43m \u001b[49m\u001b[43mrefcheck\u001b[49m\u001b[38;5;241;43m=\u001b[39;49m\u001b[38;5;28;43;01mFalse\u001b[39;49;00m\u001b[43m)\u001b[49m\n",
      "\u001b[0;31mValueError\u001b[0m: cannot resize this array: it does not own its data"
     ]
    }
   ],
   "source": [
    "a.resize((7, 7), refcheck=False)"
   ]
  },
  {
   "cell_type": "code",
   "execution_count": 33,
   "id": "fa2992d8",
   "metadata": {
    "ExecuteTime": {
     "end_time": "2023-03-20T05:23:01.173780Z",
     "start_time": "2023-03-20T05:23:01.148863Z"
    }
   },
   "outputs": [
    {
     "ename": "ValueError",
     "evalue": "cannot resize this array: it does not own its data",
     "output_type": "error",
     "traceback": [
      "\u001b[0;31m---------------------------------------------------------------------------\u001b[0m",
      "\u001b[0;31mValueError\u001b[0m                                Traceback (most recent call last)",
      "Cell \u001b[0;32mIn[33], line 1\u001b[0m\n\u001b[0;32m----> 1\u001b[0m \u001b[43ma\u001b[49m\u001b[38;5;241;43m.\u001b[39;49m\u001b[43mresize\u001b[49m\u001b[43m(\u001b[49m\u001b[43m(\u001b[49m\u001b[38;5;241;43m7\u001b[39;49m\u001b[43m,\u001b[49m\u001b[43m \u001b[49m\u001b[38;5;241;43m7\u001b[39;49m\u001b[43m)\u001b[49m\u001b[43m,\u001b[49m\u001b[43m \u001b[49m\u001b[43mrefcheck\u001b[49m\u001b[38;5;241;43m=\u001b[39;49m\u001b[38;5;28;43;01mTrue\u001b[39;49;00m\u001b[43m)\u001b[49m\n",
      "\u001b[0;31mValueError\u001b[0m: cannot resize this array: it does not own its data"
     ]
    }
   ],
   "source": [
    "a.resize((7, 7), refcheck=True)"
   ]
  },
  {
   "cell_type": "code",
   "execution_count": null,
   "id": "aaeafe46",
   "metadata": {},
   "outputs": [],
   "source": [
    "# 어떻게 변하는가를 잘 알아야 함.\n",
    "# reshape 은 모양만 바꿈\n",
    "# resize 는 size를 바꾼다."
   ]
  },
  {
   "cell_type": "code",
   "execution_count": 34,
   "id": "eb919909",
   "metadata": {
    "ExecuteTime": {
     "end_time": "2023-03-20T05:23:52.811542Z",
     "start_time": "2023-03-20T05:23:52.797207Z"
    }
   },
   "outputs": [
    {
     "data": {
      "text/plain": [
       "array([[ 0,  1,  2,  3,  4,  5],\n",
       "       [ 6,  7,  8,  9, 10, 11],\n",
       "       [12, 13, 14, 15, 16, 17],\n",
       "       [18, 19, 20, 21, 22, 23]])"
      ]
     },
     "execution_count": 34,
     "metadata": {},
     "output_type": "execute_result"
    }
   ],
   "source": [
    "a"
   ]
  },
  {
   "cell_type": "code",
   "execution_count": 35,
   "id": "7aa606f5",
   "metadata": {
    "ExecuteTime": {
     "end_time": "2023-03-20T05:24:04.319003Z",
     "start_time": "2023-03-20T05:24:04.304292Z"
    }
   },
   "outputs": [
    {
     "data": {
      "text/plain": [
       "array([[ 0,  1,  2,  3,  4,  5,  6,  7,  8,  9, 10, 11],\n",
       "       [12, 13, 14, 15, 16, 17, 18, 19, 20, 21, 22, 23]])"
      ]
     },
     "execution_count": 35,
     "metadata": {},
     "output_type": "execute_result"
    }
   ],
   "source": [
    "a.reshape(2,12)"
   ]
  },
  {
   "cell_type": "code",
   "execution_count": 36,
   "id": "c81bf0b7",
   "metadata": {
    "ExecuteTime": {
     "end_time": "2023-03-20T05:24:11.760570Z",
     "start_time": "2023-03-20T05:24:11.748126Z"
    }
   },
   "outputs": [
    {
     "data": {
      "text/plain": [
       "array([[ 0,  1,  2,  3,  4,  5],\n",
       "       [ 6,  7,  8,  9, 10, 11],\n",
       "       [12, 13, 14, 15, 16, 17],\n",
       "       [18, 19, 20, 21, 22, 23]])"
      ]
     },
     "execution_count": 36,
     "metadata": {},
     "output_type": "execute_result"
    }
   ],
   "source": [
    "a\n",
    "# 그대로 (4,6)이 됨\n",
    "# 리턴값이 있으면 mutable 스타일이 아님(보통은) => 자기 자신이 안 바뀐 것.\n",
    "# 따라서 이게 적용되려면 재할당이 항상 필요함\n",
    "# 그래서 a = np.arange(24).reshape(4,6) 으로 할당한 것"
   ]
  },
  {
   "cell_type": "code",
   "execution_count": null,
   "id": "cb704a28",
   "metadata": {},
   "outputs": [],
   "source": [
    "a.reshape()\n",
    "# a.reshape(shape, order='C')\n",
    "# syntatic sugar  => 우리 데코레이터에서 배웠음\n",
    "# ``a.reshape(10, 11)`` is equivalent to ``a.reshape((10, 11))``.\n",
    "# 사람들이 너무 괄호()를 빼먹으니까 가능하게 만들어 놓은 것\n",
    "# 즉 reshape 에서 ()를 꼭 써야한다(1개만 집어넣는 것)는 것. 근데 없어도 가능"
   ]
  },
  {
   "cell_type": "code",
   "execution_count": 37,
   "id": "e44ab24e",
   "metadata": {
    "ExecuteTime": {
     "end_time": "2023-03-20T05:28:19.161659Z",
     "start_time": "2023-03-20T05:28:19.148963Z"
    }
   },
   "outputs": [
    {
     "data": {
      "text/plain": [
       "array([[ 0,  1,  2,  3,  4,  5,  6,  7,  8,  9, 10, 11],\n",
       "       [12, 13, 14, 15, 16, 17, 18, 19, 20, 21, 22, 23]])"
      ]
     },
     "execution_count": 37,
     "metadata": {},
     "output_type": "execute_result"
    }
   ],
   "source": [
    "a.reshape(-1,12)\n",
    "# reshape 은 항상 size가 같음\n",
    "# -1은 자동적으로 2로 바뀜. 왜냐면 총 24가 나와야 되니까"
   ]
  },
  {
   "cell_type": "code",
   "execution_count": 38,
   "id": "dd94afef",
   "metadata": {
    "ExecuteTime": {
     "end_time": "2023-03-20T05:28:30.382879Z",
     "start_time": "2023-03-20T05:28:30.368462Z"
    }
   },
   "outputs": [
    {
     "data": {
      "text/plain": [
       "array([[[ 0,  1],\n",
       "        [ 2,  3],\n",
       "        [ 4,  5]],\n",
       "\n",
       "       [[ 6,  7],\n",
       "        [ 8,  9],\n",
       "        [10, 11]],\n",
       "\n",
       "       [[12, 13],\n",
       "        [14, 15],\n",
       "        [16, 17]],\n",
       "\n",
       "       [[18, 19],\n",
       "        [20, 21],\n",
       "        [22, 23]]])"
      ]
     },
     "execution_count": 38,
     "metadata": {},
     "output_type": "execute_result"
    }
   ],
   "source": [
    "a.reshape(-1,3,2) # 자동 -1 => 4"
   ]
  },
  {
   "cell_type": "code",
   "execution_count": null,
   "id": "3807a06e",
   "metadata": {},
   "outputs": [],
   "source": [
    "# 그러나 실제 -1은 필요 없음\n",
    "# 사실 모든 -를 집어넣어도 다 됨 -2, -3, -4 도 다 가능한 것.\n",
    "# 소스코드보면 - 이면 바뀌도록 만들어놨기 때문"
   ]
  },
  {
   "cell_type": "code",
   "execution_count": 39,
   "id": "be8667a3",
   "metadata": {
    "ExecuteTime": {
     "end_time": "2023-03-20T05:29:20.812511Z",
     "start_time": "2023-03-20T05:29:20.797033Z"
    }
   },
   "outputs": [
    {
     "data": {
      "text/plain": [
       "array([[ 0,  1,  2,  3,  4,  5],\n",
       "       [ 6,  7,  8,  9, 10, 11],\n",
       "       [12, 13, 14, 15, 16, 17],\n",
       "       [18, 19, 20, 21, 22, 23]])"
      ]
     },
     "execution_count": 39,
     "metadata": {},
     "output_type": "execute_result"
    }
   ],
   "source": [
    "a"
   ]
  },
  {
   "cell_type": "code",
   "execution_count": 40,
   "id": "03a28126",
   "metadata": {
    "ExecuteTime": {
     "end_time": "2023-03-20T05:29:36.302170Z",
     "start_time": "2023-03-20T05:29:36.288634Z"
    }
   },
   "outputs": [
    {
     "data": {
      "text/plain": [
       "array([[[ 0,  1,  2,  3,  4,  5],\n",
       "        [ 6,  7,  8,  9, 10, 11],\n",
       "        [12, 13, 14, 15, 16, 17],\n",
       "        [18, 19, 20, 21, 22, 23]]])"
      ]
     },
     "execution_count": 40,
     "metadata": {},
     "output_type": "execute_result"
    }
   ],
   "source": [
    "a.reshape(1,4,6)  # 사실 1만 곱하면 3차원이 됨.\n",
    "# 즉 1만 곱하면 차원을 늘릴 수 있다는 것."
   ]
  },
  {
   "cell_type": "code",
   "execution_count": null,
   "id": "e26e352e",
   "metadata": {},
   "outputs": [],
   "source": [
    "# 그렇다면 2차원을 3차원으로 바꾸는 방법 몇 가지 있을까? => 3가지\n",
    "# 1. 2차원 평면을 공중으로 부양시켜서 z축을 넣는 방법\n",
    "# 2. x축\n",
    "# 3. y축"
   ]
  },
  {
   "cell_type": "code",
   "execution_count": 41,
   "id": "b76b1b55",
   "metadata": {
    "ExecuteTime": {
     "end_time": "2023-03-20T05:30:28.716578Z",
     "start_time": "2023-03-20T05:30:28.702642Z"
    }
   },
   "outputs": [
    {
     "data": {
      "text/plain": [
       "array([[[ 0,  1,  2,  3,  4,  5],\n",
       "        [ 6,  7,  8,  9, 10, 11],\n",
       "        [12, 13, 14, 15, 16, 17],\n",
       "        [18, 19, 20, 21, 22, 23]]])"
      ]
     },
     "execution_count": 41,
     "metadata": {},
     "output_type": "execute_result"
    }
   ],
   "source": [
    "a.reshape(1,4,6)   # 4,6 이 1개 있다"
   ]
  },
  {
   "cell_type": "code",
   "execution_count": 42,
   "id": "42c3e9c9",
   "metadata": {
    "ExecuteTime": {
     "end_time": "2023-03-20T05:30:55.517284Z",
     "start_time": "2023-03-20T05:30:55.500435Z"
    }
   },
   "outputs": [
    {
     "data": {
      "text/plain": [
       "array([[[ 0,  1,  2,  3,  4,  5]],\n",
       "\n",
       "       [[ 6,  7,  8,  9, 10, 11]],\n",
       "\n",
       "       [[12, 13, 14, 15, 16, 17]],\n",
       "\n",
       "       [[18, 19, 20, 21, 22, 23]]])"
      ]
     },
     "execution_count": 42,
     "metadata": {},
     "output_type": "execute_result"
    }
   ],
   "source": [
    "a.reshape(4,1,6)   # 1,6 이 4개 있다"
   ]
  },
  {
   "cell_type": "code",
   "execution_count": 43,
   "id": "a0147c55",
   "metadata": {
    "ExecuteTime": {
     "end_time": "2023-03-20T05:30:55.517284Z",
     "start_time": "2023-03-20T05:30:55.500435Z"
    },
    "scrolled": true
   },
   "outputs": [
    {
     "data": {
      "text/plain": [
       "array([[[ 0],\n",
       "        [ 1],\n",
       "        [ 2],\n",
       "        [ 3],\n",
       "        [ 4],\n",
       "        [ 5]],\n",
       "\n",
       "       [[ 6],\n",
       "        [ 7],\n",
       "        [ 8],\n",
       "        [ 9],\n",
       "        [10],\n",
       "        [11]],\n",
       "\n",
       "       [[12],\n",
       "        [13],\n",
       "        [14],\n",
       "        [15],\n",
       "        [16],\n",
       "        [17]],\n",
       "\n",
       "       [[18],\n",
       "        [19],\n",
       "        [20],\n",
       "        [21],\n",
       "        [22],\n",
       "        [23]]])"
      ]
     },
     "execution_count": 43,
     "metadata": {},
     "output_type": "execute_result"
    }
   ],
   "source": [
    "a.reshape(4,6,1)   # 6,1 이 4개 있다"
   ]
  },
  {
   "cell_type": "code",
   "execution_count": null,
   "id": "41b25198",
   "metadata": {},
   "outputs": [],
   "source": [
    "# 이걸 딥러닝할 때 제일 먼저 배움.\n",
    "# 내 데이터를 다른 형태의 데이터로 바꾸는 테크닉."
   ]
  },
  {
   "cell_type": "code",
   "execution_count": null,
   "id": "d6f5e2f2",
   "metadata": {},
   "outputs": [],
   "source": [
    "# 차원 올리는 거, 차원 축소 다 reshape 으로 다 해버리면 됨.\n",
    "# 그러나 전문가들은 가능한 짧은 것을 좋아함."
   ]
  },
  {
   "cell_type": "code",
   "execution_count": 44,
   "id": "b9fdff63",
   "metadata": {
    "ExecuteTime": {
     "end_time": "2023-03-20T05:32:27.428323Z",
     "start_time": "2023-03-20T05:32:27.414081Z"
    }
   },
   "outputs": [
    {
     "data": {
      "text/plain": [
       "(4, 6)"
      ]
     },
     "execution_count": 44,
     "metadata": {},
     "output_type": "execute_result"
    }
   ],
   "source": [
    "a.shape"
   ]
  },
  {
   "cell_type": "code",
   "execution_count": 45,
   "id": "5577eeab",
   "metadata": {
    "ExecuteTime": {
     "end_time": "2023-03-20T05:32:35.986098Z",
     "start_time": "2023-03-20T05:32:35.971257Z"
    }
   },
   "outputs": [
    {
     "data": {
      "text/plain": [
       "array([[[ 0,  1,  2,  3,  4,  5],\n",
       "        [ 6,  7,  8,  9, 10, 11],\n",
       "        [12, 13, 14, 15, 16, 17],\n",
       "        [18, 19, 20, 21, 22, 23]]])"
      ]
     },
     "execution_count": 45,
     "metadata": {},
     "output_type": "execute_result"
    }
   ],
   "source": [
    "a[None]  # 2차원이면 [[]] 2개 있어야 하는데?\n",
    "# 차원이 하나 늘었음"
   ]
  },
  {
   "cell_type": "code",
   "execution_count": 46,
   "id": "fff61904",
   "metadata": {
    "ExecuteTime": {
     "end_time": "2023-03-20T05:32:59.856215Z",
     "start_time": "2023-03-20T05:32:59.841758Z"
    }
   },
   "outputs": [
    {
     "data": {
      "text/plain": [
       "array([ 6,  7,  8,  9, 10, 11])"
      ]
     },
     "execution_count": 46,
     "metadata": {},
     "output_type": "execute_result"
    }
   ],
   "source": [
    "a[1,:]  # 맨끝에 : 이 있으면 생략 가능함"
   ]
  },
  {
   "cell_type": "code",
   "execution_count": 47,
   "id": "6bf9e6f1",
   "metadata": {
    "ExecuteTime": {
     "end_time": "2023-03-20T05:33:17.163428Z",
     "start_time": "2023-03-20T05:33:17.149943Z"
    }
   },
   "outputs": [
    {
     "data": {
      "text/plain": [
       "array([ 6,  7,  8,  9, 10, 11])"
      ]
     },
     "execution_count": 47,
     "metadata": {},
     "output_type": "execute_result"
    }
   ],
   "source": [
    "a[1] # 위와 똑같음. 즉 2차원인데 1개만 쓰면 맨 뒤에 :가 생략되어 있음을 알면 됨"
   ]
  },
  {
   "cell_type": "code",
   "execution_count": 48,
   "id": "bb0a9f20",
   "metadata": {
    "ExecuteTime": {
     "end_time": "2023-03-20T05:33:57.004896Z",
     "start_time": "2023-03-20T05:33:56.990142Z"
    }
   },
   "outputs": [
    {
     "data": {
      "text/plain": [
       "array([[[ 0,  1,  2,  3,  4,  5],\n",
       "        [ 6,  7,  8,  9, 10, 11],\n",
       "        [12, 13, 14, 15, 16, 17],\n",
       "        [18, 19, 20, 21, 22, 23]]])"
      ]
     },
     "execution_count": 48,
     "metadata": {},
     "output_type": "execute_result"
    }
   ],
   "source": [
    "# 그러면 None은?\n",
    "a[None]  #  == np.arange(24).reshape((1,4,6)) 과 같아짐.\n",
    "# 3차원이 되어버림"
   ]
  },
  {
   "cell_type": "code",
   "execution_count": null,
   "id": "d5faf810",
   "metadata": {},
   "outputs": [],
   "source": [
    "# None 은 매우 당황스러움\n",
    "# 인덱싱에 무엇을 집어넣으면 차원이 줄어듦.\n",
    "# 그렇다면 당연하게 아무것도 집어넣지 않으면 차원을 늘림\n",
    "# 그런데 사람들은 이 철학을 이해하지 못함\n",
    "# 그래서 이상한 것을 만듦"
   ]
  },
  {
   "cell_type": "code",
   "execution_count": 49,
   "id": "85bf1757",
   "metadata": {
    "ExecuteTime": {
     "end_time": "2023-03-20T05:35:47.107551Z",
     "start_time": "2023-03-20T05:35:47.102612Z"
    }
   },
   "outputs": [],
   "source": [
    "np.newaxis\n",
    "# out 이 없음. 즉 none 임"
   ]
  },
  {
   "cell_type": "code",
   "execution_count": 50,
   "id": "f5c9b5b4",
   "metadata": {
    "ExecuteTime": {
     "end_time": "2023-03-20T05:36:13.415641Z",
     "start_time": "2023-03-20T05:36:13.401501Z"
    }
   },
   "outputs": [
    {
     "data": {
      "text/plain": [
       "True"
      ]
     },
     "execution_count": 50,
     "metadata": {},
     "output_type": "execute_result"
    }
   ],
   "source": [
    "np.newaxis is None"
   ]
  },
  {
   "cell_type": "code",
   "execution_count": 51,
   "id": "e113e2a0",
   "metadata": {
    "ExecuteTime": {
     "end_time": "2023-03-20T05:36:19.984027Z",
     "start_time": "2023-03-20T05:36:19.969887Z"
    }
   },
   "outputs": [
    {
     "data": {
      "text/plain": [
       "array([[[ 0,  1,  2,  3,  4,  5],\n",
       "        [ 6,  7,  8,  9, 10, 11],\n",
       "        [12, 13, 14, 15, 16, 17],\n",
       "        [18, 19, 20, 21, 22, 23]]])"
      ]
     },
     "execution_count": 51,
     "metadata": {},
     "output_type": "execute_result"
    }
   ],
   "source": [
    "a[np.newaxis] # 새로운 차원이 하나 더 생김. a[None] 과 같은 것\n",
    "# a[np.newaxis, :] 했더니 1이 첫번째에 생김"
   ]
  },
  {
   "cell_type": "code",
   "execution_count": 52,
   "id": "2ab43914",
   "metadata": {
    "ExecuteTime": {
     "end_time": "2023-03-20T05:37:01.287687Z",
     "start_time": "2023-03-20T05:37:01.273999Z"
    }
   },
   "outputs": [
    {
     "data": {
      "text/plain": [
       "array([[[ 0,  1,  2,  3,  4,  5]],\n",
       "\n",
       "       [[ 6,  7,  8,  9, 10, 11]],\n",
       "\n",
       "       [[12, 13, 14, 15, 16, 17]],\n",
       "\n",
       "       [[18, 19, 20, 21, 22, 23]]])"
      ]
     },
     "execution_count": 52,
     "metadata": {},
     "output_type": "execute_result"
    }
   ],
   "source": [
    "a[:, np.newaxis]  # 4,1,6 이 되었음.\n",
    "# 두번째에 했더니 4,1,6이 되었음"
   ]
  },
  {
   "cell_type": "code",
   "execution_count": 53,
   "id": "5caa2e8a",
   "metadata": {
    "ExecuteTime": {
     "end_time": "2023-03-20T05:38:11.768257Z",
     "start_time": "2023-03-20T05:38:11.753996Z"
    },
    "scrolled": true
   },
   "outputs": [
    {
     "data": {
      "text/plain": [
       "array([[[ 0],\n",
       "        [ 1],\n",
       "        [ 2],\n",
       "        [ 3],\n",
       "        [ 4],\n",
       "        [ 5]],\n",
       "\n",
       "       [[ 6],\n",
       "        [ 7],\n",
       "        [ 8],\n",
       "        [ 9],\n",
       "        [10],\n",
       "        [11]],\n",
       "\n",
       "       [[12],\n",
       "        [13],\n",
       "        [14],\n",
       "        [15],\n",
       "        [16],\n",
       "        [17]],\n",
       "\n",
       "       [[18],\n",
       "        [19],\n",
       "        [20],\n",
       "        [21],\n",
       "        [22],\n",
       "        [23]]])"
      ]
     },
     "execution_count": 53,
     "metadata": {},
     "output_type": "execute_result"
    }
   ],
   "source": [
    "# 그렇다면 마지막 3번째는?\n",
    "a[:,:,np.newaxis]\n",
    "# 맨 끝에 1이 붙음. 차원을 늘린 것"
   ]
  },
  {
   "cell_type": "code",
   "execution_count": 54,
   "id": "e239a6bf",
   "metadata": {
    "ExecuteTime": {
     "end_time": "2023-03-20T05:38:24.463118Z",
     "start_time": "2023-03-20T05:38:24.449095Z"
    },
    "scrolled": true
   },
   "outputs": [
    {
     "data": {
      "text/plain": [
       "array([[[ 0],\n",
       "        [ 1],\n",
       "        [ 2],\n",
       "        [ 3],\n",
       "        [ 4],\n",
       "        [ 5]],\n",
       "\n",
       "       [[ 6],\n",
       "        [ 7],\n",
       "        [ 8],\n",
       "        [ 9],\n",
       "        [10],\n",
       "        [11]],\n",
       "\n",
       "       [[12],\n",
       "        [13],\n",
       "        [14],\n",
       "        [15],\n",
       "        [16],\n",
       "        [17]],\n",
       "\n",
       "       [[18],\n",
       "        [19],\n",
       "        [20],\n",
       "        [21],\n",
       "        [22],\n",
       "        [23]]])"
      ]
     },
     "execution_count": 54,
     "metadata": {},
     "output_type": "execute_result"
    }
   ],
   "source": [
    "a[...,np.newaxis] # :,: 은 ... 으로 바꿀 수 있음"
   ]
  },
  {
   "cell_type": "code",
   "execution_count": null,
   "id": "460eb74e",
   "metadata": {},
   "outputs": [],
   "source": [
    "# reshape 만 알아도 잘 할 수 있음.\n",
    "# 이제 axis의 개념을 알았으니 다른 거 보자!"
   ]
  },
  {
   "cell_type": "code",
   "execution_count": 55,
   "id": "128134c4",
   "metadata": {
    "ExecuteTime": {
     "end_time": "2023-03-20T05:42:31.369946Z",
     "start_time": "2023-03-20T05:42:31.356350Z"
    }
   },
   "outputs": [
    {
     "data": {
      "text/plain": [
       "(1, 4, 6)"
      ]
     },
     "execution_count": 55,
     "metadata": {},
     "output_type": "execute_result"
    }
   ],
   "source": [
    "np.expand_dims(a, 0).shape\n",
    "# Signature: np.expand_dims(a, axis)\n",
    "# Expand the shape of an array"
   ]
  },
  {
   "cell_type": "code",
   "execution_count": 56,
   "id": "2e2a7315",
   "metadata": {
    "ExecuteTime": {
     "end_time": "2023-03-20T05:42:35.967362Z",
     "start_time": "2023-03-20T05:42:35.955909Z"
    }
   },
   "outputs": [
    {
     "data": {
      "text/plain": [
       "(4, 1, 6)"
      ]
     },
     "execution_count": 56,
     "metadata": {},
     "output_type": "execute_result"
    }
   ],
   "source": [
    "np.expand_dims(a, 1).shape"
   ]
  },
  {
   "cell_type": "code",
   "execution_count": 57,
   "id": "7c480fd7",
   "metadata": {
    "ExecuteTime": {
     "end_time": "2023-03-20T05:42:40.270156Z",
     "start_time": "2023-03-20T05:42:40.260177Z"
    }
   },
   "outputs": [
    {
     "data": {
      "text/plain": [
       "(4, 6, 1)"
      ]
     },
     "execution_count": 57,
     "metadata": {},
     "output_type": "execute_result"
    }
   ],
   "source": [
    "np.expand_dims(a, 2).shape"
   ]
  },
  {
   "cell_type": "code",
   "execution_count": 58,
   "id": "725c42c1",
   "metadata": {
    "ExecuteTime": {
     "end_time": "2023-03-20T05:42:50.167737Z",
     "start_time": "2023-03-20T05:42:50.154116Z"
    }
   },
   "outputs": [
    {
     "data": {
      "text/plain": [
       "(4, 6, 1)"
      ]
     },
     "execution_count": 58,
     "metadata": {},
     "output_type": "execute_result"
    }
   ],
   "source": [
    "np.expand_dims(a, -1).shape"
   ]
  },
  {
   "cell_type": "code",
   "execution_count": 60,
   "id": "3a535b14",
   "metadata": {
    "ExecuteTime": {
     "end_time": "2023-03-20T05:43:03.379059Z",
     "start_time": "2023-03-20T05:43:03.364221Z"
    }
   },
   "outputs": [
    {
     "data": {
      "text/plain": [
       "array([[[ 0,  1,  2,  3,  4,  5]],\n",
       "\n",
       "       [[ 6,  7,  8,  9, 10, 11]],\n",
       "\n",
       "       [[12, 13, 14, 15, 16, 17]],\n",
       "\n",
       "       [[18, 19, 20, 21, 22, 23]]])"
      ]
     },
     "execution_count": 60,
     "metadata": {},
     "output_type": "execute_result"
    }
   ],
   "source": [
    "np.expand_dims(a, 1)"
   ]
  },
  {
   "cell_type": "code",
   "execution_count": null,
   "id": "8ae94347",
   "metadata": {},
   "outputs": [],
   "source": [
    "# 항상 reshape으로 처리가 되지만 좀 더 복잡한 애들도 있고 단축표현도 존재함.\n",
    "# 지금까지 모양 바꾸는 거 reshape"
   ]
  },
  {
   "cell_type": "code",
   "execution_count": null,
   "id": "c35ff6b3",
   "metadata": {},
   "outputs": [],
   "source": [
    "# ravel()과 flatten() 이 제일 쉬움."
   ]
  },
  {
   "cell_type": "code",
   "execution_count": null,
   "id": "28ec6542",
   "metadata": {},
   "outputs": [],
   "source": [
    "# 행과 열을 바꾸는 것 (T)도 있음\n",
    "# 3차원은 머리아픔. x,y,z 축을 서로 바꾸는 것"
   ]
  },
  {
   "cell_type": "code",
   "execution_count": null,
   "id": "5183f869",
   "metadata": {},
   "outputs": [],
   "source": [
    "# 모양 바꾸는 것은 엄청 많음\n",
    "# 축을 이동시키는 것도 있음"
   ]
  },
  {
   "cell_type": "code",
   "execution_count": null,
   "id": "f27eded6",
   "metadata": {},
   "outputs": [],
   "source": [
    "np.moveaxis  # 축 이동\n",
    "np.swapaxes  # 축 바꾸는 것\n",
    "# 이런 것들을 배우는 것이 다 딥러닝 때문. 다 인공지능 시간에 할 것"
   ]
  },
  {
   "cell_type": "code",
   "execution_count": null,
   "id": "ea63c18e",
   "metadata": {},
   "outputs": [],
   "source": [
    "# 모양 바꾸는 것의 두번째는 데이터를 쪼개고 붙히는 것.\n",
    "# 이것은 분석하는 쪽에서 필수적인 기능\n",
    "# 모양을 쪼개고 붙히는 것을 하기 위해서 먼저 2차원으로 배우자."
   ]
  },
  {
   "cell_type": "code",
   "execution_count": 63,
   "id": "b8a259f7",
   "metadata": {
    "ExecuteTime": {
     "end_time": "2023-03-20T05:51:17.617400Z",
     "start_time": "2023-03-20T05:51:17.601825Z"
    },
    "scrolled": true
   },
   "outputs": [
    {
     "data": {
      "text/plain": [
       "array([[ 0,  1,  2,  3,  4,  5],\n",
       "       [ 6,  7,  8,  9, 10, 11],\n",
       "       [12, 13, 14, 15, 16, 17],\n",
       "       [18, 19, 20, 21, 22, 23]])"
      ]
     },
     "execution_count": 63,
     "metadata": {},
     "output_type": "execute_result"
    }
   ],
   "source": [
    "a = np.arange(24).reshape(4,6)\n",
    "a"
   ]
  },
  {
   "cell_type": "code",
   "execution_count": 64,
   "id": "086955a7",
   "metadata": {
    "ExecuteTime": {
     "end_time": "2023-03-20T05:51:18.176008Z",
     "start_time": "2023-03-20T05:51:18.164390Z"
    }
   },
   "outputs": [
    {
     "data": {
      "text/plain": [
       "[array([[ 0,  1,  2,  3,  4,  5],\n",
       "        [ 6,  7,  8,  9, 10, 11]]),\n",
       " array([[12, 13, 14, 15, 16, 17],\n",
       "        [18, 19, 20, 21, 22, 23]])]"
      ]
     },
     "execution_count": 64,
     "metadata": {},
     "output_type": "execute_result"
    }
   ],
   "source": [
    "np.split(a, 2)\n",
    "# Signature: np.split(ary, indices_or_sections, axis=0)\n",
    "# axis=0 이니까 이렇게 쪼갠 것"
   ]
  },
  {
   "cell_type": "code",
   "execution_count": 65,
   "id": "52664a04",
   "metadata": {
    "ExecuteTime": {
     "end_time": "2023-03-20T05:51:49.671395Z",
     "start_time": "2023-03-20T05:51:49.655831Z"
    }
   },
   "outputs": [
    {
     "data": {
      "text/plain": [
       "[array([[ 0,  1,  2],\n",
       "        [ 6,  7,  8],\n",
       "        [12, 13, 14],\n",
       "        [18, 19, 20]]),\n",
       " array([[ 3,  4,  5],\n",
       "        [ 9, 10, 11],\n",
       "        [15, 16, 17],\n",
       "        [21, 22, 23]])]"
      ]
     },
     "execution_count": 65,
     "metadata": {},
     "output_type": "execute_result"
    }
   ],
   "source": [
    "np.split(a, 2, 1) # axis=1 세로로 쪼갬"
   ]
  },
  {
   "cell_type": "code",
   "execution_count": null,
   "id": "d742d10e",
   "metadata": {},
   "outputs": [],
   "source": [
    "# train, test 쪼개는 것을 0으로\n",
    "# x,y로 쪼개는 것을 1로 쪼개는 것\n",
    "# ==> fold out\n",
    "# 즉 이 때 split을 쓰는 것."
   ]
  },
  {
   "cell_type": "code",
   "execution_count": 66,
   "id": "1f21a50d",
   "metadata": {
    "ExecuteTime": {
     "end_time": "2023-03-20T05:53:40.425059Z",
     "start_time": "2023-03-20T05:53:40.332114Z"
    }
   },
   "outputs": [
    {
     "ename": "ValueError",
     "evalue": "array split does not result in an equal division",
     "output_type": "error",
     "traceback": [
      "\u001b[0;31m---------------------------------------------------------------------------\u001b[0m",
      "\u001b[0;31mValueError\u001b[0m                                Traceback (most recent call last)",
      "Cell \u001b[0;32mIn[66], line 1\u001b[0m\n\u001b[0;32m----> 1\u001b[0m \u001b[43mnp\u001b[49m\u001b[38;5;241;43m.\u001b[39;49m\u001b[43msplit\u001b[49m\u001b[43m(\u001b[49m\u001b[43ma\u001b[49m\u001b[43m,\u001b[49m\u001b[43m \u001b[49m\u001b[38;5;241;43m3\u001b[39;49m\u001b[43m,\u001b[49m\u001b[43m \u001b[49m\u001b[38;5;241;43m0\u001b[39;49m\u001b[43m)\u001b[49m\n",
      "File \u001b[0;32m<__array_function__ internals>:180\u001b[0m, in \u001b[0;36msplit\u001b[0;34m(*args, **kwargs)\u001b[0m\n",
      "File \u001b[0;32m~/miniconda3/lib/python3.10/site-packages/numpy/lib/shape_base.py:872\u001b[0m, in \u001b[0;36msplit\u001b[0;34m(ary, indices_or_sections, axis)\u001b[0m\n\u001b[1;32m    870\u001b[0m     N \u001b[38;5;241m=\u001b[39m ary\u001b[38;5;241m.\u001b[39mshape[axis]\n\u001b[1;32m    871\u001b[0m     \u001b[38;5;28;01mif\u001b[39;00m N \u001b[38;5;241m%\u001b[39m sections:\n\u001b[0;32m--> 872\u001b[0m         \u001b[38;5;28;01mraise\u001b[39;00m \u001b[38;5;167;01mValueError\u001b[39;00m(\n\u001b[1;32m    873\u001b[0m             \u001b[38;5;124m'\u001b[39m\u001b[38;5;124marray split does not result in an equal division\u001b[39m\u001b[38;5;124m'\u001b[39m) \u001b[38;5;28;01mfrom\u001b[39;00m \u001b[38;5;28mNone\u001b[39m\n\u001b[1;32m    874\u001b[0m \u001b[38;5;28;01mreturn\u001b[39;00m array_split(ary, indices_or_sections, axis)\n",
      "\u001b[0;31mValueError\u001b[0m: array split does not result in an equal division"
     ]
    }
   ],
   "source": [
    "np.split(a, 3, 0)"
   ]
  },
  {
   "cell_type": "code",
   "execution_count": 67,
   "id": "1868ed64",
   "metadata": {
    "ExecuteTime": {
     "end_time": "2023-03-20T05:53:56.969512Z",
     "start_time": "2023-03-20T05:53:56.953400Z"
    }
   },
   "outputs": [
    {
     "data": {
      "text/plain": [
       "[array([], shape=(0, 6), dtype=int64),\n",
       " array([[ 0,  1,  2,  3,  4,  5],\n",
       "        [ 6,  7,  8,  9, 10, 11]]),\n",
       " array([[12, 13, 14, 15, 16, 17],\n",
       "        [18, 19, 20, 21, 22, 23]])]"
      ]
     },
     "execution_count": 67,
     "metadata": {},
     "output_type": "execute_result"
    }
   ],
   "source": [
    "np.split(a, (0,2), 0)\n",
    "# 3 등분으로 나누겠다는 것 ---0----1----2----"
   ]
  },
  {
   "cell_type": "code",
   "execution_count": 68,
   "id": "7aa5ef7e",
   "metadata": {
    "ExecuteTime": {
     "end_time": "2023-03-20T05:55:01.538771Z",
     "start_time": "2023-03-20T05:55:01.523933Z"
    }
   },
   "outputs": [
    {
     "data": {
      "text/plain": [
       "[array([[ 0,  1,  2,  3,  4,  5],\n",
       "        [ 6,  7,  8,  9, 10, 11]]),\n",
       " array([], shape=(0, 6), dtype=int64),\n",
       " array([[12, 13, 14, 15, 16, 17],\n",
       "        [18, 19, 20, 21, 22, 23]])]"
      ]
     },
     "execution_count": 68,
     "metadata": {},
     "output_type": "execute_result"
    }
   ],
   "source": [
    "np.split(a, (2,2), 0)"
   ]
  },
  {
   "cell_type": "code",
   "execution_count": 72,
   "id": "3def4477",
   "metadata": {
    "ExecuteTime": {
     "end_time": "2023-03-20T05:55:59.783093Z",
     "start_time": "2023-03-20T05:55:59.768409Z"
    }
   },
   "outputs": [
    {
     "data": {
      "text/plain": [
       "[array([[ 0,  1,  2,  3,  4,  5],\n",
       "        [ 6,  7,  8,  9, 10, 11],\n",
       "        [12, 13, 14, 15, 16, 17]]),\n",
       " array([], shape=(0, 6), dtype=int64),\n",
       " array([[18, 19, 20, 21, 22, 23]])]"
      ]
     },
     "execution_count": 72,
     "metadata": {},
     "output_type": "execute_result"
    }
   ],
   "source": [
    "np.split(a, (3,3), 0)"
   ]
  },
  {
   "cell_type": "code",
   "execution_count": null,
   "id": "81fc980a",
   "metadata": {},
   "outputs": [],
   "source": [
    "# 이것은 train_test_split 에서 많이 쓰임"
   ]
  },
  {
   "cell_type": "code",
   "execution_count": null,
   "id": "c6318107",
   "metadata": {},
   "outputs": [],
   "source": [
    "# 쪼갤 수 있으면 붙힐 수 있어야함.\n",
    "# join"
   ]
  },
  {
   "cell_type": "code",
   "execution_count": 73,
   "id": "ac7f54f6",
   "metadata": {
    "ExecuteTime": {
     "end_time": "2023-03-20T06:15:16.279008Z",
     "start_time": "2023-03-20T06:15:16.271955Z"
    }
   },
   "outputs": [],
   "source": [
    "x, y = np.split(a,2)"
   ]
  },
  {
   "cell_type": "code",
   "execution_count": 74,
   "id": "d1253712",
   "metadata": {
    "ExecuteTime": {
     "end_time": "2023-03-20T06:15:17.130849Z",
     "start_time": "2023-03-20T06:15:17.117255Z"
    }
   },
   "outputs": [
    {
     "data": {
      "text/plain": [
       "array([[ 0,  1,  2,  3,  4,  5],\n",
       "       [ 6,  7,  8,  9, 10, 11]])"
      ]
     },
     "execution_count": 74,
     "metadata": {},
     "output_type": "execute_result"
    }
   ],
   "source": [
    "x"
   ]
  },
  {
   "cell_type": "code",
   "execution_count": 75,
   "id": "7fe2c14d",
   "metadata": {
    "ExecuteTime": {
     "end_time": "2023-03-20T06:15:18.481072Z",
     "start_time": "2023-03-20T06:15:18.468452Z"
    }
   },
   "outputs": [
    {
     "data": {
      "text/plain": [
       "array([[12, 13, 14, 15, 16, 17],\n",
       "       [18, 19, 20, 21, 22, 23]])"
      ]
     },
     "execution_count": 75,
     "metadata": {},
     "output_type": "execute_result"
    }
   ],
   "source": [
    "y"
   ]
  },
  {
   "cell_type": "code",
   "execution_count": 76,
   "id": "ac1edd05",
   "metadata": {
    "ExecuteTime": {
     "end_time": "2023-03-20T06:16:46.259494Z",
     "start_time": "2023-03-20T06:16:46.248855Z"
    }
   },
   "outputs": [
    {
     "data": {
      "text/plain": [
       "array([[ 0,  1,  2,  3,  4,  5],\n",
       "       [ 6,  7,  8,  9, 10, 11],\n",
       "       [12, 13, 14, 15, 16, 17],\n",
       "       [18, 19, 20, 21, 22, 23]])"
      ]
     },
     "execution_count": 76,
     "metadata": {},
     "output_type": "execute_result"
    }
   ],
   "source": [
    "# 가장 기본적으로 붙히는 것은 concatenate\n",
    "np.concatenate((x,y))\n",
    "# numpy는 차원, shape에 따라서 다르게 될 수 있음\n",
    "# concatenate((a1, a2, ...), axis=0, out=None, dtype=None, casting=\"same_kind\")"
   ]
  },
  {
   "cell_type": "code",
   "execution_count": 77,
   "id": "a5092eb3",
   "metadata": {
    "ExecuteTime": {
     "end_time": "2023-03-20T06:17:00.077102Z",
     "start_time": "2023-03-20T06:17:00.059994Z"
    }
   },
   "outputs": [
    {
     "data": {
      "text/plain": [
       "array([[ 0,  1,  2,  3,  4,  5, 12, 13, 14, 15, 16, 17],\n",
       "       [ 6,  7,  8,  9, 10, 11, 18, 19, 20, 21, 22, 23]])"
      ]
     },
     "execution_count": 77,
     "metadata": {},
     "output_type": "execute_result"
    }
   ],
   "source": [
    "np.concatenate((x,y), axis=1) # 세로로 붙힘"
   ]
  },
  {
   "cell_type": "code",
   "execution_count": 78,
   "id": "a7e9ab8b",
   "metadata": {
    "ExecuteTime": {
     "end_time": "2023-03-20T06:17:34.579475Z",
     "start_time": "2023-03-20T06:17:34.566112Z"
    }
   },
   "outputs": [
    {
     "data": {
      "text/plain": [
       "array([[[ 0,  1,  2,  3,  4,  5],\n",
       "        [ 6,  7,  8,  9, 10, 11]],\n",
       "\n",
       "       [[12, 13, 14, 15, 16, 17],\n",
       "        [18, 19, 20, 21, 22, 23]]])"
      ]
     },
     "execution_count": 78,
     "metadata": {},
     "output_type": "execute_result"
    }
   ],
   "source": [
    "# stack\n",
    "np.stack((x,y), axis=0)\n",
    "# Signature: np.stack(arrays, axis=0, out=None)\n",
    "# 차원이 한 차원 늘었음.\n",
    "# 스택을 해서 붙혔더니 차원이 늘었음."
   ]
  },
  {
   "cell_type": "code",
   "execution_count": 79,
   "id": "4129d1ce",
   "metadata": {
    "ExecuteTime": {
     "end_time": "2023-03-20T06:18:03.489630Z",
     "start_time": "2023-03-20T06:18:03.474165Z"
    }
   },
   "outputs": [
    {
     "data": {
      "text/plain": [
       "array([[[ 0,  1,  2,  3,  4,  5],\n",
       "        [12, 13, 14, 15, 16, 17]],\n",
       "\n",
       "       [[ 6,  7,  8,  9, 10, 11],\n",
       "        [18, 19, 20, 21, 22, 23]]])"
      ]
     },
     "execution_count": 79,
     "metadata": {},
     "output_type": "execute_result"
    }
   ],
   "source": [
    "np.stack((x,y), axis=1)\n",
    "# 1차원을 스택으로 하면 2차원 됨."
   ]
  },
  {
   "cell_type": "code",
   "execution_count": 80,
   "id": "b16720a1",
   "metadata": {
    "ExecuteTime": {
     "end_time": "2023-03-20T06:18:41.583743Z",
     "start_time": "2023-03-20T06:18:41.569007Z"
    }
   },
   "outputs": [
    {
     "data": {
      "text/plain": [
       "array([[ 0,  1,  2,  3,  4,  5],\n",
       "       [ 6,  7,  8,  9, 10, 11],\n",
       "       [12, 13, 14, 15, 16, 17],\n",
       "       [18, 19, 20, 21, 22, 23]])"
      ]
     },
     "execution_count": 80,
     "metadata": {},
     "output_type": "execute_result"
    }
   ],
   "source": [
    "# stack의 변종들\n",
    "np.vstack((x, y))\n",
    "# 굳이 axis 지정 안해도 됨 => 차원이 늘어나지 않음. 그냥 스택은 차원이 늘어났는데."
   ]
  },
  {
   "cell_type": "code",
   "execution_count": null,
   "id": "eac5ba10",
   "metadata": {},
   "outputs": [],
   "source": [
    "np.vsplit\n",
    "# axis 지정 안해도 됨."
   ]
  },
  {
   "cell_type": "code",
   "execution_count": 81,
   "id": "e2af2970",
   "metadata": {
    "ExecuteTime": {
     "end_time": "2023-03-20T06:20:17.230779Z",
     "start_time": "2023-03-20T06:20:17.219013Z"
    }
   },
   "outputs": [
    {
     "data": {
      "text/plain": [
       "array([[ 0,  1,  2,  3,  4,  5, 12, 13, 14, 15, 16, 17],\n",
       "       [ 6,  7,  8,  9, 10, 11, 18, 19, 20, 21, 22, 23]])"
      ]
     },
     "execution_count": 81,
     "metadata": {},
     "output_type": "execute_result"
    }
   ],
   "source": [
    "np.hstack((x,y))"
   ]
  },
  {
   "cell_type": "code",
   "execution_count": 82,
   "id": "c58a3853",
   "metadata": {
    "ExecuteTime": {
     "end_time": "2023-03-20T06:20:33.991151Z",
     "start_time": "2023-03-20T06:20:33.981212Z"
    }
   },
   "outputs": [
    {
     "data": {
      "text/plain": [
       "array([[[ 0, 12],\n",
       "        [ 1, 13],\n",
       "        [ 2, 14],\n",
       "        [ 3, 15],\n",
       "        [ 4, 16],\n",
       "        [ 5, 17]],\n",
       "\n",
       "       [[ 6, 18],\n",
       "        [ 7, 19],\n",
       "        [ 8, 20],\n",
       "        [ 9, 21],\n",
       "        [10, 22],\n",
       "        [11, 23]]])"
      ]
     },
     "execution_count": 82,
     "metadata": {},
     "output_type": "execute_result"
    }
   ],
   "source": [
    "# 제일 이해하기 어려운 게 depth 로 더하는 dstack\n",
    "np.dstack((x,y))\n",
    "# 딥러닝에서 많이 쓰임"
   ]
  },
  {
   "cell_type": "code",
   "execution_count": 83,
   "id": "a31cfd61",
   "metadata": {
    "ExecuteTime": {
     "end_time": "2023-03-20T06:21:05.791543Z",
     "start_time": "2023-03-20T06:21:05.779083Z"
    }
   },
   "outputs": [
    {
     "data": {
      "text/plain": [
       "(2, 6, 2)"
      ]
     },
     "execution_count": 83,
     "metadata": {},
     "output_type": "execute_result"
    }
   ],
   "source": [
    "np.dstack((x,y)).shape"
   ]
  },
  {
   "cell_type": "code",
   "execution_count": null,
   "id": "528709c3",
   "metadata": {},
   "outputs": [],
   "source": [
    "# 붙히는 것도 자주 사용하기 때문에 단축표현이 있음"
   ]
  },
  {
   "cell_type": "code",
   "execution_count": 84,
   "id": "b819b7b8",
   "metadata": {
    "ExecuteTime": {
     "end_time": "2023-03-20T06:21:35.092442Z",
     "start_time": "2023-03-20T06:21:35.078141Z"
    }
   },
   "outputs": [
    {
     "data": {
      "text/plain": [
       "array([[ 0,  1,  2,  3,  4,  5],\n",
       "       [ 6,  7,  8,  9, 10, 11],\n",
       "       [12, 13, 14, 15, 16, 17],\n",
       "       [18, 19, 20, 21, 22, 23]])"
      ]
     },
     "execution_count": 84,
     "metadata": {},
     "output_type": "execute_result"
    }
   ],
   "source": [
    "np.r_[x,y]\n",
    "# 이 구조는 판다스에서 이런 구조를 봤을 것.\n",
    "# loc, iloc 할 때\n",
    "# 이것을 인덱서라고 함\n",
    "# r_ 는 로우로 붙힌다."
   ]
  },
  {
   "cell_type": "code",
   "execution_count": 85,
   "id": "2d96ac27",
   "metadata": {
    "ExecuteTime": {
     "end_time": "2023-03-20T06:22:23.253347Z",
     "start_time": "2023-03-20T06:22:23.238811Z"
    }
   },
   "outputs": [
    {
     "data": {
      "text/plain": [
       "array([[ 0,  1,  2,  3,  4,  5, 12, 13, 14, 15, 16, 17],\n",
       "       [ 6,  7,  8,  9, 10, 11, 18, 19, 20, 21, 22, 23]])"
      ]
     },
     "execution_count": 85,
     "metadata": {},
     "output_type": "execute_result"
    }
   ],
   "source": [
    "np.c_[x,y]\n",
    "# c_ 는 컬럼으로 붙힌다."
   ]
  },
  {
   "cell_type": "code",
   "execution_count": null,
   "id": "9d23742f",
   "metadata": {},
   "outputs": [],
   "source": [
    "# 이러한 r_, c_를 인덱서라고 함."
   ]
  },
  {
   "cell_type": "code",
   "execution_count": null,
   "id": "57269ff0",
   "metadata": {},
   "outputs": [],
   "source": [
    "np.column_stack"
   ]
  },
  {
   "cell_type": "code",
   "execution_count": null,
   "id": "1d73a6b3",
   "metadata": {},
   "outputs": [],
   "source": [
    "# 이런 것들은 다 판다스에 가서 완전 활용할 것\n",
    "# 넘파이는 과학분야 등에서 사용되기 때문에 각 분야에 맞는 기법들이 있음.\n",
    "# 그래서 이상한 애들이 있어서 외울 수 있으니 소개만 할 것."
   ]
  },
  {
   "cell_type": "code",
   "execution_count": null,
   "id": "1593b3a6",
   "metadata": {},
   "outputs": [],
   "source": [
    "np.s_\n",
    "# 이런 _ 문법은, 보통 어떨 때 _ 가 들어가냐면, 이름이 다른 것과 중복될 때.\n",
    "# 파이썬은 이름이 같으면 뒤에 있는 것이 앞의 것을 뒤엎어 버림\n",
    "# 그래서 이름을 다르게 하는 테크닉.\n",
    "# _는 파이썬 관례로 쓰이는 것."
   ]
  },
  {
   "cell_type": "code",
   "execution_count": 86,
   "id": "eccbf988",
   "metadata": {
    "ExecuteTime": {
     "end_time": "2023-03-20T06:27:14.399119Z",
     "start_time": "2023-03-20T06:27:14.387423Z"
    }
   },
   "outputs": [
    {
     "data": {
      "text/plain": [
       "False"
      ]
     },
     "execution_count": 86,
     "metadata": {},
     "output_type": "execute_result"
    }
   ],
   "source": [
    "np.column_stack is np.hstack"
   ]
  },
  {
   "cell_type": "code",
   "execution_count": 87,
   "id": "47659294",
   "metadata": {
    "ExecuteTime": {
     "end_time": "2023-03-20T06:27:22.083807Z",
     "start_time": "2023-03-20T06:27:22.069759Z"
    }
   },
   "outputs": [
    {
     "data": {
      "text/plain": [
       "True"
      ]
     },
     "execution_count": 87,
     "metadata": {},
     "output_type": "execute_result"
    }
   ],
   "source": [
    "np.row_stack is np.vstack"
   ]
  },
  {
   "cell_type": "code",
   "execution_count": null,
   "id": "215dab30",
   "metadata": {},
   "outputs": [],
   "source": [
    "np.column_stack\n",
    "# 은 조금 기능이 다름.\n",
    "# row_stack은 그만의 고유 기능이 없음. 그래서 이걸 쓰면 vstack이 사용됨.\n",
    "# 그래서 텐서와 파이토치에서 이런 걸 다 걸러냄\n",
    "# 텐서플로와 파이토치의 텐서는 둘 다 gpu 지원, 그리고 mutable 문제를 없애버림.\n",
    "# 세번째가 다양한 분야에서 쓰니까 이름 비슷하면서 비슷한 기능하던 애들을 딥러닝 전용으로 해서 깔끔함."
   ]
  },
  {
   "cell_type": "code",
   "execution_count": null,
   "id": "6f242730",
   "metadata": {},
   "outputs": [],
   "source": [
    "# 지금까지 뼈대만 잡음.\n",
    "# => 이후에 공부하다가 이상한 것을 본 적이 많았을 것.\n",
    "# 그 이상한 것들을 해보자"
   ]
  },
  {
   "cell_type": "code",
   "execution_count": null,
   "id": "4d2d78e8",
   "metadata": {},
   "outputs": [],
   "source": [
    "# 1. 넘파이는 컨셉이 array.\n",
    "# 데이터 구조가 array임. 그 array가 수학적 컨셉을 대신함. 그래서 벡터, 매트릭스 이런 것들을 대신할 수 있음.\n",
    "# 데이터프레임은 수학적 컨셉이 아니라 분석적 컨셉으로 보는게 가까움.\n",
    "# 컬럼만 같은 데이터타입이 바로 데이터프레임.\n",
    "# 서로 다른 컬럼들은 데이터타입이 다를 수가 있음.\n",
    "# 데이터가 달라지면 넘파이는 자동으로 바꿔줌. \n",
    "# 이게 가능한 것이 structured array 라는 것이 있음.\n",
    "# 기본적으로 array를 상속해서 컬럼만 같은 데이터 타입이 가능하도록 만들어줬던 애가 structured array\n",
    "# 그것이 상속받아서 record array를 만들고\n",
    "# 그것을 상속받아서 판다스 구조체를 만듦"
   ]
  },
  {
   "cell_type": "code",
   "execution_count": null,
   "id": "c218f889",
   "metadata": {},
   "outputs": [],
   "source": [
    "# structured array => 컬럼별로 다른 데이터 형태를 가질 수 있는 array. 데이터 타입이 컬럼별로 다른 것.\n",
    "# 테이블, 엑셀 느낌.\n",
    "# 엑셀을 만드는 기법이라고 생각하면 됨."
   ]
  },
  {
   "cell_type": "code",
   "execution_count": 88,
   "id": "4056161c",
   "metadata": {
    "ExecuteTime": {
     "end_time": "2023-03-20T06:35:28.090072Z",
     "start_time": "2023-03-20T06:35:28.079839Z"
    }
   },
   "outputs": [],
   "source": [
    "# 컬럼별로 데이터 타입 지정. 데이터 개수마다 데이터 타입 지정\n",
    "x = np.array([('Rex', 9, 81.0), ('Fido', 3, 27.0)], dtype=[('name', 'U10'), ('age', 'i4'), ('weight', 'f4')])"
   ]
  },
  {
   "cell_type": "code",
   "execution_count": 89,
   "id": "f4dbdbf5",
   "metadata": {
    "ExecuteTime": {
     "end_time": "2023-03-20T06:35:28.911833Z",
     "start_time": "2023-03-20T06:35:28.902148Z"
    }
   },
   "outputs": [
    {
     "data": {
      "text/plain": [
       "array([('Rex', 9, 81.), ('Fido', 3, 27.)],\n",
       "      dtype=[('name', '<U10'), ('age', '<i4'), ('weight', '<f4')])"
      ]
     },
     "execution_count": 89,
     "metadata": {},
     "output_type": "execute_result"
    }
   ],
   "source": [
    "x\n",
    "# c와 유사함"
   ]
  },
  {
   "cell_type": "code",
   "execution_count": null,
   "id": "7a0823e6",
   "metadata": {},
   "outputs": [],
   "source": [
    "# 데이터 타입의 구체적인 이름을 정해줌.\n",
    "dtype=[('name', 'U10'), ('age', 'i4'), ('weight', 'f4')]\n",
    "# (컬럼명, 컬럼 데이터 타입) 이렇게 3개 만든 것.\n",
    "# 위를 보면, 이름은 문자열, 나이는 int 32bit, 이렇게 지정해주는 것.\n",
    "# 즉, 컬럼마다 데이터 타입을 지정할 수 있는 것이 structured array 인데, 컬럼의 이름까지 지정해줌.\n",
    "# 이름을 지정해놨기 때문에 이름별로 데이터를 뽑아낼 수 있음"
   ]
  },
  {
   "cell_type": "code",
   "execution_count": 90,
   "id": "640530d9",
   "metadata": {
    "ExecuteTime": {
     "end_time": "2023-03-20T06:40:10.552222Z",
     "start_time": "2023-03-20T06:40:10.540092Z"
    }
   },
   "outputs": [
    {
     "data": {
      "text/plain": [
       "array(['Rex', 'Fido'], dtype='<U10')"
      ]
     },
     "execution_count": 90,
     "metadata": {},
     "output_type": "execute_result"
    }
   ],
   "source": [
    "# 이름을 줘서 뽑을 수 있음. - 엑셀과 같음\n",
    "x['name']\n",
    "# 이것은 stride 개념 때문에 엄청나게 빠르게 가져옴"
   ]
  },
  {
   "cell_type": "code",
   "execution_count": 91,
   "id": "b1c9a446",
   "metadata": {
    "ExecuteTime": {
     "end_time": "2023-03-20T06:40:30.733786Z",
     "start_time": "2023-03-20T06:40:30.721627Z"
    }
   },
   "outputs": [
    {
     "data": {
      "text/plain": [
       "('Rex', 9, 81.)"
      ]
     },
     "execution_count": 91,
     "metadata": {},
     "output_type": "execute_result"
    }
   ],
   "source": [
    "x[0]"
   ]
  },
  {
   "cell_type": "code",
   "execution_count": 92,
   "id": "0a94fdf9",
   "metadata": {
    "ExecuteTime": {
     "end_time": "2023-03-20T06:40:35.454708Z",
     "start_time": "2023-03-20T06:40:35.441213Z"
    }
   },
   "outputs": [
    {
     "data": {
      "text/plain": [
       "('Fido', 3, 27.)"
      ]
     },
     "execution_count": 92,
     "metadata": {},
     "output_type": "execute_result"
    }
   ],
   "source": [
    "x[1]"
   ]
  },
  {
   "cell_type": "code",
   "execution_count": null,
   "id": "a21ccf7e",
   "metadata": {},
   "outputs": [],
   "source": [
    "# 즉 열과 행을 편하게 뽑을 수 있음.\n",
    "# 이 구조를 기반으로 판다스라는 애를 만든 것.\n",
    "# 우리가 배울 분석, 데이터 처리하는 프레임 워크가 가장 유명한 것이 structured array 기반이다. => 판다스"
   ]
  },
  {
   "cell_type": "code",
   "execution_count": 93,
   "id": "2483bb49",
   "metadata": {
    "ExecuteTime": {
     "end_time": "2023-03-20T06:41:32.234634Z",
     "start_time": "2023-03-20T06:41:32.205744Z"
    }
   },
   "outputs": [
    {
     "ename": "AttributeError",
     "evalue": "'numpy.ndarray' object has no attribute 'name'",
     "output_type": "error",
     "traceback": [
      "\u001b[0;31m---------------------------------------------------------------------------\u001b[0m",
      "\u001b[0;31mAttributeError\u001b[0m                            Traceback (most recent call last)",
      "Cell \u001b[0;32mIn[93], line 2\u001b[0m\n\u001b[1;32m      1\u001b[0m \u001b[38;5;66;03m# 그런데 문제점이 하나 있음.\u001b[39;00m\n\u001b[0;32m----> 2\u001b[0m \u001b[43mx\u001b[49m\u001b[38;5;241;43m.\u001b[39;49m\u001b[43mname\u001b[49m\n",
      "\u001b[0;31mAttributeError\u001b[0m: 'numpy.ndarray' object has no attribute 'name'"
     ]
    }
   ],
   "source": [
    "# 그런데 문제점이 하나 있음.\n",
    "x.name\n",
    "# 이런 거 쓰고 싶은데!! 안됨."
   ]
  },
  {
   "cell_type": "code",
   "execution_count": null,
   "id": "0f0534c8",
   "metadata": {},
   "outputs": [],
   "source": [
    "# record array\n",
    "# 더 정확히 말하면 판다스는 record array 를 확장시켜서 만든 것이다!!"
   ]
  },
  {
   "cell_type": "code",
   "execution_count": 94,
   "id": "e2db8cf8",
   "metadata": {
    "ExecuteTime": {
     "end_time": "2023-03-20T06:42:00.092662Z",
     "start_time": "2023-03-20T06:42:00.082424Z"
    }
   },
   "outputs": [],
   "source": [
    "xx = np.rec.array([('Rex', 9, 81.0), ('Fido', 3, 27.0)], dtype=[('name', 'U10'), ('age', 'i4'), ('weight', 'f4')])"
   ]
  },
  {
   "cell_type": "code",
   "execution_count": 95,
   "id": "343543e4",
   "metadata": {
    "ExecuteTime": {
     "end_time": "2023-03-20T06:42:03.420956Z",
     "start_time": "2023-03-20T06:42:03.407095Z"
    }
   },
   "outputs": [
    {
     "data": {
      "text/plain": [
       "array(['Rex', 'Fido'], dtype='<U10')"
      ]
     },
     "execution_count": 95,
     "metadata": {},
     "output_type": "execute_result"
    }
   ],
   "source": [
    "xx['name']"
   ]
  },
  {
   "cell_type": "code",
   "execution_count": 96,
   "id": "4e61edb0",
   "metadata": {
    "ExecuteTime": {
     "end_time": "2023-03-20T06:42:06.861763Z",
     "start_time": "2023-03-20T06:42:06.849076Z"
    }
   },
   "outputs": [
    {
     "data": {
      "text/plain": [
       "('Rex', 9, 81.)"
      ]
     },
     "execution_count": 96,
     "metadata": {},
     "output_type": "execute_result"
    }
   ],
   "source": [
    "xx[0]"
   ]
  },
  {
   "cell_type": "code",
   "execution_count": 97,
   "id": "0e64a21e",
   "metadata": {
    "ExecuteTime": {
     "end_time": "2023-03-20T06:42:09.575617Z",
     "start_time": "2023-03-20T06:42:09.561292Z"
    }
   },
   "outputs": [
    {
     "data": {
      "text/plain": [
       "array(['Rex', 'Fido'], dtype='<U10')"
      ]
     },
     "execution_count": 97,
     "metadata": {},
     "output_type": "execute_result"
    }
   ],
   "source": [
    "xx.name"
   ]
  },
  {
   "cell_type": "code",
   "execution_count": null,
   "id": "5dc869db",
   "metadata": {},
   "outputs": [],
   "source": [
    "# 즉, 판다스를 잘 쓰려면 넘파이를 잘 알면 끝이다!!!\n",
    "# 오늘부터 판다스를 들어갈 것.\n",
    "# 판다스는 이런 구조체라는 것을 잘 알고 있을 것."
   ]
  },
  {
   "cell_type": "markdown",
   "id": "9b220707",
   "metadata": {},
   "source": [
    "#### 판다스"
   ]
  },
  {
   "cell_type": "markdown",
   "id": "184e4013",
   "metadata": {},
   "source": [
    "우리 과정 중 유일하게 쉬운 녀석"
   ]
  },
  {
   "cell_type": "code",
   "execution_count": 2,
   "id": "e606244e",
   "metadata": {
    "ExecuteTime": {
     "end_time": "2023-03-20T06:52:12.265078Z",
     "start_time": "2023-03-20T06:52:10.351913Z"
    }
   },
   "outputs": [],
   "source": [
    "import pandas as pd\n",
    "import seaborn as sns  # 연습용 데이터 가져오기"
   ]
  },
  {
   "cell_type": "code",
   "execution_count": 3,
   "id": "342dc853",
   "metadata": {
    "ExecuteTime": {
     "end_time": "2023-03-20T06:52:12.931906Z",
     "start_time": "2023-03-20T06:52:12.907137Z"
    }
   },
   "outputs": [],
   "source": [
    "tips = sns.load_dataset('tips')"
   ]
  },
  {
   "cell_type": "code",
   "execution_count": 4,
   "id": "1d3b080d",
   "metadata": {
    "ExecuteTime": {
     "end_time": "2023-03-20T06:52:13.794918Z",
     "start_time": "2023-03-20T06:52:13.766352Z"
    }
   },
   "outputs": [
    {
     "data": {
      "text/html": [
       "<div>\n",
       "<style scoped>\n",
       "    .dataframe tbody tr th:only-of-type {\n",
       "        vertical-align: middle;\n",
       "    }\n",
       "\n",
       "    .dataframe tbody tr th {\n",
       "        vertical-align: top;\n",
       "    }\n",
       "\n",
       "    .dataframe thead th {\n",
       "        text-align: right;\n",
       "    }\n",
       "</style>\n",
       "<table border=\"1\" class=\"dataframe\">\n",
       "  <thead>\n",
       "    <tr style=\"text-align: right;\">\n",
       "      <th></th>\n",
       "      <th>total_bill</th>\n",
       "      <th>tip</th>\n",
       "      <th>sex</th>\n",
       "      <th>smoker</th>\n",
       "      <th>day</th>\n",
       "      <th>time</th>\n",
       "      <th>size</th>\n",
       "    </tr>\n",
       "  </thead>\n",
       "  <tbody>\n",
       "    <tr>\n",
       "      <th>0</th>\n",
       "      <td>16.99</td>\n",
       "      <td>1.01</td>\n",
       "      <td>Female</td>\n",
       "      <td>No</td>\n",
       "      <td>Sun</td>\n",
       "      <td>Dinner</td>\n",
       "      <td>2</td>\n",
       "    </tr>\n",
       "    <tr>\n",
       "      <th>1</th>\n",
       "      <td>10.34</td>\n",
       "      <td>1.66</td>\n",
       "      <td>Male</td>\n",
       "      <td>No</td>\n",
       "      <td>Sun</td>\n",
       "      <td>Dinner</td>\n",
       "      <td>3</td>\n",
       "    </tr>\n",
       "    <tr>\n",
       "      <th>2</th>\n",
       "      <td>21.01</td>\n",
       "      <td>3.50</td>\n",
       "      <td>Male</td>\n",
       "      <td>No</td>\n",
       "      <td>Sun</td>\n",
       "      <td>Dinner</td>\n",
       "      <td>3</td>\n",
       "    </tr>\n",
       "    <tr>\n",
       "      <th>3</th>\n",
       "      <td>23.68</td>\n",
       "      <td>3.31</td>\n",
       "      <td>Male</td>\n",
       "      <td>No</td>\n",
       "      <td>Sun</td>\n",
       "      <td>Dinner</td>\n",
       "      <td>2</td>\n",
       "    </tr>\n",
       "    <tr>\n",
       "      <th>4</th>\n",
       "      <td>24.59</td>\n",
       "      <td>3.61</td>\n",
       "      <td>Female</td>\n",
       "      <td>No</td>\n",
       "      <td>Sun</td>\n",
       "      <td>Dinner</td>\n",
       "      <td>4</td>\n",
       "    </tr>\n",
       "    <tr>\n",
       "      <th>...</th>\n",
       "      <td>...</td>\n",
       "      <td>...</td>\n",
       "      <td>...</td>\n",
       "      <td>...</td>\n",
       "      <td>...</td>\n",
       "      <td>...</td>\n",
       "      <td>...</td>\n",
       "    </tr>\n",
       "    <tr>\n",
       "      <th>239</th>\n",
       "      <td>29.03</td>\n",
       "      <td>5.92</td>\n",
       "      <td>Male</td>\n",
       "      <td>No</td>\n",
       "      <td>Sat</td>\n",
       "      <td>Dinner</td>\n",
       "      <td>3</td>\n",
       "    </tr>\n",
       "    <tr>\n",
       "      <th>240</th>\n",
       "      <td>27.18</td>\n",
       "      <td>2.00</td>\n",
       "      <td>Female</td>\n",
       "      <td>Yes</td>\n",
       "      <td>Sat</td>\n",
       "      <td>Dinner</td>\n",
       "      <td>2</td>\n",
       "    </tr>\n",
       "    <tr>\n",
       "      <th>241</th>\n",
       "      <td>22.67</td>\n",
       "      <td>2.00</td>\n",
       "      <td>Male</td>\n",
       "      <td>Yes</td>\n",
       "      <td>Sat</td>\n",
       "      <td>Dinner</td>\n",
       "      <td>2</td>\n",
       "    </tr>\n",
       "    <tr>\n",
       "      <th>242</th>\n",
       "      <td>17.82</td>\n",
       "      <td>1.75</td>\n",
       "      <td>Male</td>\n",
       "      <td>No</td>\n",
       "      <td>Sat</td>\n",
       "      <td>Dinner</td>\n",
       "      <td>2</td>\n",
       "    </tr>\n",
       "    <tr>\n",
       "      <th>243</th>\n",
       "      <td>18.78</td>\n",
       "      <td>3.00</td>\n",
       "      <td>Female</td>\n",
       "      <td>No</td>\n",
       "      <td>Thur</td>\n",
       "      <td>Dinner</td>\n",
       "      <td>2</td>\n",
       "    </tr>\n",
       "  </tbody>\n",
       "</table>\n",
       "<p>244 rows × 7 columns</p>\n",
       "</div>"
      ],
      "text/plain": [
       "     total_bill   tip     sex smoker   day    time  size\n",
       "0         16.99  1.01  Female     No   Sun  Dinner     2\n",
       "1         10.34  1.66    Male     No   Sun  Dinner     3\n",
       "2         21.01  3.50    Male     No   Sun  Dinner     3\n",
       "3         23.68  3.31    Male     No   Sun  Dinner     2\n",
       "4         24.59  3.61  Female     No   Sun  Dinner     4\n",
       "..          ...   ...     ...    ...   ...     ...   ...\n",
       "239       29.03  5.92    Male     No   Sat  Dinner     3\n",
       "240       27.18  2.00  Female    Yes   Sat  Dinner     2\n",
       "241       22.67  2.00    Male    Yes   Sat  Dinner     2\n",
       "242       17.82  1.75    Male     No   Sat  Dinner     2\n",
       "243       18.78  3.00  Female     No  Thur  Dinner     2\n",
       "\n",
       "[244 rows x 7 columns]"
      ]
     },
     "execution_count": 4,
     "metadata": {},
     "output_type": "execute_result"
    }
   ],
   "source": [
    "tips"
   ]
  },
  {
   "cell_type": "code",
   "execution_count": null,
   "id": "329c32cd",
   "metadata": {},
   "outputs": [],
   "source": [
    "# 위와 같은 구조를 데이터프레임이라고 함.\n",
    "# 데이터프레임 => 컬럼마다 같은 데이터 타입.\n",
    "# 이것이 데이터 처리의 기본 폼이다.\n",
    "# 거의 모든 분석 도구의 기본적인 데이터 타입이 데이터프레임이다!\n",
    "# 판다스는 판다스 마다의 데이터프레임 장점이 있음. 복습적 측면에서 판다스를 들어갈 것"
   ]
  },
  {
   "cell_type": "code",
   "execution_count": 5,
   "id": "40aae950",
   "metadata": {
    "ExecuteTime": {
     "end_time": "2023-03-20T06:52:16.793516Z",
     "start_time": "2023-03-20T06:52:16.781911Z"
    }
   },
   "outputs": [
    {
     "data": {
      "text/plain": [
       "pandas.core.frame.DataFrame"
      ]
     },
     "execution_count": 5,
     "metadata": {},
     "output_type": "execute_result"
    }
   ],
   "source": [
    "type(tips)\n",
    "# 객체 이름이 DataFrame. 즉 클래스 이름이 자료구조 이름을 그대로 가져온 것."
   ]
  },
  {
   "cell_type": "code",
   "execution_count": 104,
   "id": "3fa47d5a",
   "metadata": {
    "ExecuteTime": {
     "end_time": "2023-03-20T06:46:27.472657Z",
     "start_time": "2023-03-20T06:46:27.451343Z"
    }
   },
   "outputs": [
    {
     "data": {
      "text/plain": [
       "['T',\n",
       " '_AXIS_LEN',\n",
       " '_AXIS_ORDERS',\n",
       " '_AXIS_TO_AXIS_NUMBER',\n",
       " '_HANDLED_TYPES',\n",
       " '__abs__',\n",
       " '__add__',\n",
       " '__and__',\n",
       " '__annotations__',\n",
       " '__array__',\n",
       " '__array_priority__',\n",
       " '__array_ufunc__',\n",
       " '__array_wrap__',\n",
       " '__bool__',\n",
       " '__class__',\n",
       " '__contains__',\n",
       " '__copy__',\n",
       " '__dataframe__',\n",
       " '__deepcopy__',\n",
       " '__delattr__',\n",
       " '__delitem__',\n",
       " '__dict__',\n",
       " '__dir__',\n",
       " '__divmod__',\n",
       " '__doc__',\n",
       " '__eq__',\n",
       " '__finalize__',\n",
       " '__floordiv__',\n",
       " '__format__',\n",
       " '__ge__',\n",
       " '__getattr__',\n",
       " '__getattribute__',\n",
       " '__getitem__',\n",
       " '__getstate__',\n",
       " '__gt__',\n",
       " '__hash__',\n",
       " '__iadd__',\n",
       " '__iand__',\n",
       " '__ifloordiv__',\n",
       " '__imod__',\n",
       " '__imul__',\n",
       " '__init__',\n",
       " '__init_subclass__',\n",
       " '__invert__',\n",
       " '__ior__',\n",
       " '__ipow__',\n",
       " '__isub__',\n",
       " '__iter__',\n",
       " '__itruediv__',\n",
       " '__ixor__',\n",
       " '__le__',\n",
       " '__len__',\n",
       " '__lt__',\n",
       " '__matmul__',\n",
       " '__mod__',\n",
       " '__module__',\n",
       " '__mul__',\n",
       " '__ne__',\n",
       " '__neg__',\n",
       " '__new__',\n",
       " '__nonzero__',\n",
       " '__or__',\n",
       " '__pos__',\n",
       " '__pow__',\n",
       " '__radd__',\n",
       " '__rand__',\n",
       " '__rdivmod__',\n",
       " '__reduce__',\n",
       " '__reduce_ex__',\n",
       " '__repr__',\n",
       " '__rfloordiv__',\n",
       " '__rmatmul__',\n",
       " '__rmod__',\n",
       " '__rmul__',\n",
       " '__ror__',\n",
       " '__round__',\n",
       " '__rpow__',\n",
       " '__rsub__',\n",
       " '__rtruediv__',\n",
       " '__rxor__',\n",
       " '__setattr__',\n",
       " '__setitem__',\n",
       " '__setstate__',\n",
       " '__sizeof__',\n",
       " '__str__',\n",
       " '__sub__',\n",
       " '__subclasshook__',\n",
       " '__truediv__',\n",
       " '__weakref__',\n",
       " '__xor__',\n",
       " '_accessors',\n",
       " '_accum_func',\n",
       " '_add_numeric_operations',\n",
       " '_agg_by_level',\n",
       " '_agg_examples_doc',\n",
       " '_agg_summary_and_see_also_doc',\n",
       " '_align_frame',\n",
       " '_align_series',\n",
       " '_append',\n",
       " '_arith_method',\n",
       " '_as_manager',\n",
       " '_attrs',\n",
       " '_box_col_values',\n",
       " '_can_fast_transpose',\n",
       " '_check_inplace_and_allows_duplicate_labels',\n",
       " '_check_inplace_setting',\n",
       " '_check_is_chained_assignment_possible',\n",
       " '_check_label_or_level_ambiguity',\n",
       " '_check_setitem_copy',\n",
       " '_clear_item_cache',\n",
       " '_clip_with_one_bound',\n",
       " '_clip_with_scalar',\n",
       " '_cmp_method',\n",
       " '_combine_frame',\n",
       " '_consolidate',\n",
       " '_consolidate_inplace',\n",
       " '_construct_axes_dict',\n",
       " '_construct_axes_from_arguments',\n",
       " '_construct_result',\n",
       " '_constructor',\n",
       " '_constructor_sliced',\n",
       " '_convert',\n",
       " '_count_level',\n",
       " '_data',\n",
       " '_dir_additions',\n",
       " '_dir_deletions',\n",
       " '_dispatch_frame_op',\n",
       " '_drop_axis',\n",
       " '_drop_labels_or_levels',\n",
       " '_ensure_valid_index',\n",
       " '_find_valid_index',\n",
       " '_flags',\n",
       " '_from_arrays',\n",
       " '_get_agg_axis',\n",
       " '_get_axis',\n",
       " '_get_axis_name',\n",
       " '_get_axis_number',\n",
       " '_get_axis_resolvers',\n",
       " '_get_block_manager_axis',\n",
       " '_get_bool_data',\n",
       " '_get_cleaned_column_resolvers',\n",
       " '_get_column_array',\n",
       " '_get_index_resolvers',\n",
       " '_get_item_cache',\n",
       " '_get_label_or_level_values',\n",
       " '_get_numeric_data',\n",
       " '_get_value',\n",
       " '_getitem_bool_array',\n",
       " '_getitem_multilevel',\n",
       " '_gotitem',\n",
       " '_hidden_attrs',\n",
       " '_indexed_same',\n",
       " '_info_axis',\n",
       " '_info_axis_name',\n",
       " '_info_axis_number',\n",
       " '_info_repr',\n",
       " '_init_mgr',\n",
       " '_inplace_method',\n",
       " '_internal_names',\n",
       " '_internal_names_set',\n",
       " '_is_copy',\n",
       " '_is_homogeneous_type',\n",
       " '_is_label_or_level_reference',\n",
       " '_is_label_reference',\n",
       " '_is_level_reference',\n",
       " '_is_mixed_type',\n",
       " '_is_view',\n",
       " '_iset_item',\n",
       " '_iset_item_mgr',\n",
       " '_iset_not_inplace',\n",
       " '_item_cache',\n",
       " '_iter_column_arrays',\n",
       " '_ixs',\n",
       " '_join_compat',\n",
       " '_logical_func',\n",
       " '_logical_method',\n",
       " '_maybe_cache_changed',\n",
       " '_maybe_update_cacher',\n",
       " '_metadata',\n",
       " '_mgr',\n",
       " '_min_count_stat_function',\n",
       " '_needs_reindex_multi',\n",
       " '_protect_consolidate',\n",
       " '_reduce',\n",
       " '_reduce_axis1',\n",
       " '_reindex_axes',\n",
       " '_reindex_columns',\n",
       " '_reindex_index',\n",
       " '_reindex_multi',\n",
       " '_reindex_with_indexers',\n",
       " '_rename',\n",
       " '_replace_columnwise',\n",
       " '_repr_data_resource_',\n",
       " '_repr_fits_horizontal_',\n",
       " '_repr_fits_vertical_',\n",
       " '_repr_html_',\n",
       " '_repr_latex_',\n",
       " '_reset_cache',\n",
       " '_reset_cacher',\n",
       " '_sanitize_column',\n",
       " '_series',\n",
       " '_set_axis',\n",
       " '_set_axis_name',\n",
       " '_set_axis_nocheck',\n",
       " '_set_is_copy',\n",
       " '_set_item',\n",
       " '_set_item_frame_value',\n",
       " '_set_item_mgr',\n",
       " '_set_value',\n",
       " '_setitem_array',\n",
       " '_setitem_frame',\n",
       " '_setitem_slice',\n",
       " '_slice',\n",
       " '_stat_axis',\n",
       " '_stat_axis_name',\n",
       " '_stat_axis_number',\n",
       " '_stat_function',\n",
       " '_stat_function_ddof',\n",
       " '_take',\n",
       " '_take_with_is_copy',\n",
       " '_to_dict_of_blocks',\n",
       " '_typ',\n",
       " '_update_inplace',\n",
       " '_validate_dtype',\n",
       " '_values',\n",
       " '_where',\n",
       " 'abs',\n",
       " 'add',\n",
       " 'add_prefix',\n",
       " 'add_suffix',\n",
       " 'agg',\n",
       " 'aggregate',\n",
       " 'align',\n",
       " 'all',\n",
       " 'any',\n",
       " 'append',\n",
       " 'apply',\n",
       " 'applymap',\n",
       " 'asfreq',\n",
       " 'asof',\n",
       " 'assign',\n",
       " 'astype',\n",
       " 'at',\n",
       " 'at_time',\n",
       " 'attrs',\n",
       " 'axes',\n",
       " 'backfill',\n",
       " 'between_time',\n",
       " 'bfill',\n",
       " 'bool',\n",
       " 'boxplot',\n",
       " 'clip',\n",
       " 'columns',\n",
       " 'combine',\n",
       " 'combine_first',\n",
       " 'compare',\n",
       " 'convert_dtypes',\n",
       " 'copy',\n",
       " 'corr',\n",
       " 'corrwith',\n",
       " 'count',\n",
       " 'cov',\n",
       " 'cummax',\n",
       " 'cummin',\n",
       " 'cumprod',\n",
       " 'cumsum',\n",
       " 'day',\n",
       " 'describe',\n",
       " 'diff',\n",
       " 'div',\n",
       " 'divide',\n",
       " 'dot',\n",
       " 'drop',\n",
       " 'drop_duplicates',\n",
       " 'droplevel',\n",
       " 'dropna',\n",
       " 'dtypes',\n",
       " 'duplicated',\n",
       " 'empty',\n",
       " 'eq',\n",
       " 'equals',\n",
       " 'eval',\n",
       " 'ewm',\n",
       " 'expanding',\n",
       " 'explode',\n",
       " 'ffill',\n",
       " 'fillna',\n",
       " 'filter',\n",
       " 'first',\n",
       " 'first_valid_index',\n",
       " 'flags',\n",
       " 'floordiv',\n",
       " 'from_dict',\n",
       " 'from_records',\n",
       " 'ge',\n",
       " 'get',\n",
       " 'groupby',\n",
       " 'gt',\n",
       " 'head',\n",
       " 'hist',\n",
       " 'iat',\n",
       " 'idxmax',\n",
       " 'idxmin',\n",
       " 'iloc',\n",
       " 'index',\n",
       " 'infer_objects',\n",
       " 'info',\n",
       " 'insert',\n",
       " 'interpolate',\n",
       " 'isetitem',\n",
       " 'isin',\n",
       " 'isna',\n",
       " 'isnull',\n",
       " 'items',\n",
       " 'iteritems',\n",
       " 'iterrows',\n",
       " 'itertuples',\n",
       " 'join',\n",
       " 'keys',\n",
       " 'kurt',\n",
       " 'kurtosis',\n",
       " 'last',\n",
       " 'last_valid_index',\n",
       " 'le',\n",
       " 'loc',\n",
       " 'lookup',\n",
       " 'lt',\n",
       " 'mad',\n",
       " 'mask',\n",
       " 'max',\n",
       " 'mean',\n",
       " 'median',\n",
       " 'melt',\n",
       " 'memory_usage',\n",
       " 'merge',\n",
       " 'min',\n",
       " 'mod',\n",
       " 'mode',\n",
       " 'mul',\n",
       " 'multiply',\n",
       " 'ndim',\n",
       " 'ne',\n",
       " 'nlargest',\n",
       " 'notna',\n",
       " 'notnull',\n",
       " 'nsmallest',\n",
       " 'nunique',\n",
       " 'pad',\n",
       " 'pct_change',\n",
       " 'pipe',\n",
       " 'pivot',\n",
       " 'pivot_table',\n",
       " 'plot',\n",
       " 'pop',\n",
       " 'pow',\n",
       " 'prod',\n",
       " 'product',\n",
       " 'quantile',\n",
       " 'query',\n",
       " 'radd',\n",
       " 'rank',\n",
       " 'rdiv',\n",
       " 'reindex',\n",
       " 'reindex_like',\n",
       " 'rename',\n",
       " 'rename_axis',\n",
       " 'reorder_levels',\n",
       " 'replace',\n",
       " 'resample',\n",
       " 'reset_index',\n",
       " 'rfloordiv',\n",
       " 'rmod',\n",
       " 'rmul',\n",
       " 'rolling',\n",
       " 'round',\n",
       " 'rpow',\n",
       " 'rsub',\n",
       " 'rtruediv',\n",
       " 'sample',\n",
       " 'select_dtypes',\n",
       " 'sem',\n",
       " 'set_axis',\n",
       " 'set_flags',\n",
       " 'set_index',\n",
       " 'sex',\n",
       " 'shape',\n",
       " 'shift',\n",
       " 'size',\n",
       " 'skew',\n",
       " 'slice_shift',\n",
       " 'smoker',\n",
       " 'sort_index',\n",
       " 'sort_values',\n",
       " 'squeeze',\n",
       " 'stack',\n",
       " 'std',\n",
       " 'style',\n",
       " 'sub',\n",
       " 'subtract',\n",
       " 'sum',\n",
       " 'swapaxes',\n",
       " 'swaplevel',\n",
       " 'tail',\n",
       " 'take',\n",
       " 'time',\n",
       " 'tip',\n",
       " 'to_clipboard',\n",
       " 'to_csv',\n",
       " 'to_dict',\n",
       " 'to_excel',\n",
       " 'to_feather',\n",
       " 'to_gbq',\n",
       " 'to_hdf',\n",
       " 'to_html',\n",
       " 'to_json',\n",
       " 'to_latex',\n",
       " 'to_markdown',\n",
       " 'to_numpy',\n",
       " 'to_orc',\n",
       " 'to_parquet',\n",
       " 'to_period',\n",
       " 'to_pickle',\n",
       " 'to_records',\n",
       " 'to_sql',\n",
       " 'to_stata',\n",
       " 'to_string',\n",
       " 'to_timestamp',\n",
       " 'to_xarray',\n",
       " 'to_xml',\n",
       " 'total_bill',\n",
       " 'transform',\n",
       " 'transpose',\n",
       " 'truediv',\n",
       " 'truncate',\n",
       " 'tz_convert',\n",
       " 'tz_localize',\n",
       " 'unstack',\n",
       " 'update',\n",
       " 'value_counts',\n",
       " 'values',\n",
       " 'var',\n",
       " 'where',\n",
       " 'xs']"
      ]
     },
     "execution_count": 104,
     "metadata": {},
     "output_type": "execute_result"
    }
   ],
   "source": [
    "dir(tips)"
   ]
  },
  {
   "cell_type": "code",
   "execution_count": null,
   "id": "1a2f0c49",
   "metadata": {},
   "outputs": [],
   "source": [
    "# dir 해서 __array__ 가 나오면,\n",
    "# 넘파이와 호환된다고 생각하면 됨. 또는 넘파이 기반으로 만들었다고 생각하면 됨"
   ]
  },
  {
   "cell_type": "code",
   "execution_count": 1,
   "id": "ab9fc55e",
   "metadata": {
    "ExecuteTime": {
     "end_time": "2023-03-21T04:24:27.046580Z",
     "start_time": "2023-03-21T04:24:25.043118Z"
    }
   },
   "outputs": [],
   "source": [
    "import torch"
   ]
  },
  {
   "cell_type": "code",
   "execution_count": 2,
   "id": "2ea9bf1f",
   "metadata": {
    "ExecuteTime": {
     "end_time": "2023-03-21T04:24:27.754646Z",
     "start_time": "2023-03-21T04:24:27.727608Z"
    }
   },
   "outputs": [
    {
     "data": {
      "text/plain": [
       "['H',\n",
       " 'T',\n",
       " '__abs__',\n",
       " '__add__',\n",
       " '__and__',\n",
       " '__array__',\n",
       " '__array_priority__',\n",
       " '__array_wrap__',\n",
       " '__bool__',\n",
       " '__class__',\n",
       " '__complex__',\n",
       " '__contains__',\n",
       " '__deepcopy__',\n",
       " '__delattr__',\n",
       " '__delitem__',\n",
       " '__dict__',\n",
       " '__dir__',\n",
       " '__div__',\n",
       " '__dlpack__',\n",
       " '__dlpack_device__',\n",
       " '__doc__',\n",
       " '__eq__',\n",
       " '__float__',\n",
       " '__floordiv__',\n",
       " '__format__',\n",
       " '__ge__',\n",
       " '__getattribute__',\n",
       " '__getitem__',\n",
       " '__gt__',\n",
       " '__hash__',\n",
       " '__iadd__',\n",
       " '__iand__',\n",
       " '__idiv__',\n",
       " '__ifloordiv__',\n",
       " '__ilshift__',\n",
       " '__imod__',\n",
       " '__imul__',\n",
       " '__index__',\n",
       " '__init__',\n",
       " '__init_subclass__',\n",
       " '__int__',\n",
       " '__invert__',\n",
       " '__ior__',\n",
       " '__ipow__',\n",
       " '__irshift__',\n",
       " '__isub__',\n",
       " '__iter__',\n",
       " '__itruediv__',\n",
       " '__ixor__',\n",
       " '__le__',\n",
       " '__len__',\n",
       " '__long__',\n",
       " '__lshift__',\n",
       " '__lt__',\n",
       " '__matmul__',\n",
       " '__mod__',\n",
       " '__module__',\n",
       " '__mul__',\n",
       " '__ne__',\n",
       " '__neg__',\n",
       " '__new__',\n",
       " '__nonzero__',\n",
       " '__or__',\n",
       " '__pos__',\n",
       " '__pow__',\n",
       " '__radd__',\n",
       " '__rand__',\n",
       " '__rdiv__',\n",
       " '__reduce__',\n",
       " '__reduce_ex__',\n",
       " '__repr__',\n",
       " '__reversed__',\n",
       " '__rfloordiv__',\n",
       " '__rlshift__',\n",
       " '__rmatmul__',\n",
       " '__rmod__',\n",
       " '__rmul__',\n",
       " '__ror__',\n",
       " '__rpow__',\n",
       " '__rrshift__',\n",
       " '__rshift__',\n",
       " '__rsub__',\n",
       " '__rtruediv__',\n",
       " '__rxor__',\n",
       " '__setattr__',\n",
       " '__setitem__',\n",
       " '__setstate__',\n",
       " '__sizeof__',\n",
       " '__str__',\n",
       " '__sub__',\n",
       " '__subclasshook__',\n",
       " '__torch_dispatch__',\n",
       " '__torch_function__',\n",
       " '__truediv__',\n",
       " '__weakref__',\n",
       " '__xor__',\n",
       " '_addmm_activation',\n",
       " '_autocast_to_full_precision',\n",
       " '_autocast_to_reduced_precision',\n",
       " '_backward_hooks',\n",
       " '_base',\n",
       " '_cdata',\n",
       " '_coalesced_',\n",
       " '_conj',\n",
       " '_conj_physical',\n",
       " '_dimI',\n",
       " '_dimV',\n",
       " '_fix_weakref',\n",
       " '_grad',\n",
       " '_grad_fn',\n",
       " '_has_symbolic_sizes_strides',\n",
       " '_indices',\n",
       " '_is_all_true',\n",
       " '_is_any_true',\n",
       " '_is_view',\n",
       " '_is_zerotensor',\n",
       " '_make_subclass',\n",
       " '_make_wrapper_subclass',\n",
       " '_neg_view',\n",
       " '_nested_tensor_size',\n",
       " '_nested_tensor_strides',\n",
       " '_nnz',\n",
       " '_python_dispatch',\n",
       " '_reduce_ex_internal',\n",
       " '_to_dense',\n",
       " '_typed_storage',\n",
       " '_update_names',\n",
       " '_values',\n",
       " '_version',\n",
       " '_view_func',\n",
       " 'abs',\n",
       " 'abs_',\n",
       " 'absolute',\n",
       " 'absolute_',\n",
       " 'acos',\n",
       " 'acos_',\n",
       " 'acosh',\n",
       " 'acosh_',\n",
       " 'add',\n",
       " 'add_',\n",
       " 'addbmm',\n",
       " 'addbmm_',\n",
       " 'addcdiv',\n",
       " 'addcdiv_',\n",
       " 'addcmul',\n",
       " 'addcmul_',\n",
       " 'addmm',\n",
       " 'addmm_',\n",
       " 'addmv',\n",
       " 'addmv_',\n",
       " 'addr',\n",
       " 'addr_',\n",
       " 'adjoint',\n",
       " 'align_as',\n",
       " 'align_to',\n",
       " 'all',\n",
       " 'allclose',\n",
       " 'amax',\n",
       " 'amin',\n",
       " 'aminmax',\n",
       " 'angle',\n",
       " 'any',\n",
       " 'apply_',\n",
       " 'arccos',\n",
       " 'arccos_',\n",
       " 'arccosh',\n",
       " 'arccosh_',\n",
       " 'arcsin',\n",
       " 'arcsin_',\n",
       " 'arcsinh',\n",
       " 'arcsinh_',\n",
       " 'arctan',\n",
       " 'arctan2',\n",
       " 'arctan2_',\n",
       " 'arctan_',\n",
       " 'arctanh',\n",
       " 'arctanh_',\n",
       " 'argmax',\n",
       " 'argmin',\n",
       " 'argsort',\n",
       " 'argwhere',\n",
       " 'as_strided',\n",
       " 'as_strided_',\n",
       " 'as_strided_scatter',\n",
       " 'as_subclass',\n",
       " 'asin',\n",
       " 'asin_',\n",
       " 'asinh',\n",
       " 'asinh_',\n",
       " 'atan',\n",
       " 'atan2',\n",
       " 'atan2_',\n",
       " 'atan_',\n",
       " 'atanh',\n",
       " 'atanh_',\n",
       " 'backward',\n",
       " 'baddbmm',\n",
       " 'baddbmm_',\n",
       " 'bernoulli',\n",
       " 'bernoulli_',\n",
       " 'bfloat16',\n",
       " 'bincount',\n",
       " 'bitwise_and',\n",
       " 'bitwise_and_',\n",
       " 'bitwise_left_shift',\n",
       " 'bitwise_left_shift_',\n",
       " 'bitwise_not',\n",
       " 'bitwise_not_',\n",
       " 'bitwise_or',\n",
       " 'bitwise_or_',\n",
       " 'bitwise_right_shift',\n",
       " 'bitwise_right_shift_',\n",
       " 'bitwise_xor',\n",
       " 'bitwise_xor_',\n",
       " 'bmm',\n",
       " 'bool',\n",
       " 'broadcast_to',\n",
       " 'byte',\n",
       " 'cauchy_',\n",
       " 'ccol_indices',\n",
       " 'cdouble',\n",
       " 'ceil',\n",
       " 'ceil_',\n",
       " 'cfloat',\n",
       " 'chalf',\n",
       " 'char',\n",
       " 'cholesky',\n",
       " 'cholesky_inverse',\n",
       " 'cholesky_solve',\n",
       " 'chunk',\n",
       " 'clamp',\n",
       " 'clamp_',\n",
       " 'clamp_max',\n",
       " 'clamp_max_',\n",
       " 'clamp_min',\n",
       " 'clamp_min_',\n",
       " 'clip',\n",
       " 'clip_',\n",
       " 'clone',\n",
       " 'coalesce',\n",
       " 'col_indices',\n",
       " 'conj',\n",
       " 'conj_physical',\n",
       " 'conj_physical_',\n",
       " 'contiguous',\n",
       " 'copy_',\n",
       " 'copysign',\n",
       " 'copysign_',\n",
       " 'corrcoef',\n",
       " 'cos',\n",
       " 'cos_',\n",
       " 'cosh',\n",
       " 'cosh_',\n",
       " 'count_nonzero',\n",
       " 'cov',\n",
       " 'cpu',\n",
       " 'cross',\n",
       " 'crow_indices',\n",
       " 'cuda',\n",
       " 'cummax',\n",
       " 'cummin',\n",
       " 'cumprod',\n",
       " 'cumprod_',\n",
       " 'cumsum',\n",
       " 'cumsum_',\n",
       " 'data',\n",
       " 'data_ptr',\n",
       " 'deg2rad',\n",
       " 'deg2rad_',\n",
       " 'dense_dim',\n",
       " 'dequantize',\n",
       " 'det',\n",
       " 'detach',\n",
       " 'detach_',\n",
       " 'device',\n",
       " 'diag',\n",
       " 'diag_embed',\n",
       " 'diagflat',\n",
       " 'diagonal',\n",
       " 'diagonal_scatter',\n",
       " 'diff',\n",
       " 'digamma',\n",
       " 'digamma_',\n",
       " 'dim',\n",
       " 'dist',\n",
       " 'div',\n",
       " 'div_',\n",
       " 'divide',\n",
       " 'divide_',\n",
       " 'dot',\n",
       " 'double',\n",
       " 'dsplit',\n",
       " 'dtype',\n",
       " 'eig',\n",
       " 'element_size',\n",
       " 'eq',\n",
       " 'eq_',\n",
       " 'equal',\n",
       " 'erf',\n",
       " 'erf_',\n",
       " 'erfc',\n",
       " 'erfc_',\n",
       " 'erfinv',\n",
       " 'erfinv_',\n",
       " 'exp',\n",
       " 'exp2',\n",
       " 'exp2_',\n",
       " 'exp_',\n",
       " 'expand',\n",
       " 'expand_as',\n",
       " 'expm1',\n",
       " 'expm1_',\n",
       " 'exponential_',\n",
       " 'fill_',\n",
       " 'fill_diagonal_',\n",
       " 'fix',\n",
       " 'fix_',\n",
       " 'flatten',\n",
       " 'flip',\n",
       " 'fliplr',\n",
       " 'flipud',\n",
       " 'float',\n",
       " 'float_power',\n",
       " 'float_power_',\n",
       " 'floor',\n",
       " 'floor_',\n",
       " 'floor_divide',\n",
       " 'floor_divide_',\n",
       " 'fmax',\n",
       " 'fmin',\n",
       " 'fmod',\n",
       " 'fmod_',\n",
       " 'frac',\n",
       " 'frac_',\n",
       " 'frexp',\n",
       " 'gather',\n",
       " 'gcd',\n",
       " 'gcd_',\n",
       " 'ge',\n",
       " 'ge_',\n",
       " 'geometric_',\n",
       " 'geqrf',\n",
       " 'ger',\n",
       " 'get_device',\n",
       " 'grad',\n",
       " 'grad_fn',\n",
       " 'greater',\n",
       " 'greater_',\n",
       " 'greater_equal',\n",
       " 'greater_equal_',\n",
       " 'gt',\n",
       " 'gt_',\n",
       " 'half',\n",
       " 'hardshrink',\n",
       " 'has_names',\n",
       " 'heaviside',\n",
       " 'heaviside_',\n",
       " 'histc',\n",
       " 'histogram',\n",
       " 'hsplit',\n",
       " 'hypot',\n",
       " 'hypot_',\n",
       " 'i0',\n",
       " 'i0_',\n",
       " 'igamma',\n",
       " 'igamma_',\n",
       " 'igammac',\n",
       " 'igammac_',\n",
       " 'imag',\n",
       " 'index_add',\n",
       " 'index_add_',\n",
       " 'index_copy',\n",
       " 'index_copy_',\n",
       " 'index_fill',\n",
       " 'index_fill_',\n",
       " 'index_put',\n",
       " 'index_put_',\n",
       " 'index_reduce',\n",
       " 'index_reduce_',\n",
       " 'index_select',\n",
       " 'indices',\n",
       " 'inner',\n",
       " 'int',\n",
       " 'int_repr',\n",
       " 'inverse',\n",
       " 'ipu',\n",
       " 'is_coalesced',\n",
       " 'is_complex',\n",
       " 'is_conj',\n",
       " 'is_contiguous',\n",
       " 'is_cpu',\n",
       " 'is_cuda',\n",
       " 'is_distributed',\n",
       " 'is_floating_point',\n",
       " 'is_inference',\n",
       " 'is_ipu',\n",
       " 'is_leaf',\n",
       " 'is_meta',\n",
       " 'is_mkldnn',\n",
       " 'is_mps',\n",
       " 'is_neg',\n",
       " 'is_nested',\n",
       " 'is_nonzero',\n",
       " 'is_ort',\n",
       " 'is_pinned',\n",
       " 'is_quantized',\n",
       " 'is_same_size',\n",
       " 'is_set_to',\n",
       " 'is_shared',\n",
       " 'is_signed',\n",
       " 'is_sparse',\n",
       " 'is_sparse_csr',\n",
       " 'is_vulkan',\n",
       " 'is_xpu',\n",
       " 'isclose',\n",
       " 'isfinite',\n",
       " 'isinf',\n",
       " 'isnan',\n",
       " 'isneginf',\n",
       " 'isposinf',\n",
       " 'isreal',\n",
       " 'istft',\n",
       " 'item',\n",
       " 'kron',\n",
       " 'kthvalue',\n",
       " 'layout',\n",
       " 'lcm',\n",
       " 'lcm_',\n",
       " 'ldexp',\n",
       " 'ldexp_',\n",
       " 'le',\n",
       " 'le_',\n",
       " 'lerp',\n",
       " 'lerp_',\n",
       " 'less',\n",
       " 'less_',\n",
       " 'less_equal',\n",
       " 'less_equal_',\n",
       " 'lgamma',\n",
       " 'lgamma_',\n",
       " 'log',\n",
       " 'log10',\n",
       " 'log10_',\n",
       " 'log1p',\n",
       " 'log1p_',\n",
       " 'log2',\n",
       " 'log2_',\n",
       " 'log_',\n",
       " 'log_normal_',\n",
       " 'log_softmax',\n",
       " 'logaddexp',\n",
       " 'logaddexp2',\n",
       " 'logcumsumexp',\n",
       " 'logdet',\n",
       " 'logical_and',\n",
       " 'logical_and_',\n",
       " 'logical_not',\n",
       " 'logical_not_',\n",
       " 'logical_or',\n",
       " 'logical_or_',\n",
       " 'logical_xor',\n",
       " 'logical_xor_',\n",
       " 'logit',\n",
       " 'logit_',\n",
       " 'logsumexp',\n",
       " 'long',\n",
       " 'lstsq',\n",
       " 'lt',\n",
       " 'lt_',\n",
       " 'lu',\n",
       " 'lu_solve',\n",
       " 'mH',\n",
       " 'mT',\n",
       " 'map2_',\n",
       " 'map_',\n",
       " 'masked_fill',\n",
       " 'masked_fill_',\n",
       " 'masked_scatter',\n",
       " 'masked_scatter_',\n",
       " 'masked_select',\n",
       " 'matmul',\n",
       " 'matrix_exp',\n",
       " 'matrix_power',\n",
       " 'max',\n",
       " 'maximum',\n",
       " 'mean',\n",
       " 'median',\n",
       " 'min',\n",
       " 'minimum',\n",
       " 'mm',\n",
       " 'mode',\n",
       " 'moveaxis',\n",
       " 'movedim',\n",
       " 'msort',\n",
       " 'mul',\n",
       " 'mul_',\n",
       " 'multinomial',\n",
       " 'multiply',\n",
       " 'multiply_',\n",
       " 'mv',\n",
       " 'mvlgamma',\n",
       " 'mvlgamma_',\n",
       " 'name',\n",
       " 'names',\n",
       " 'nan_to_num',\n",
       " 'nan_to_num_',\n",
       " 'nanmean',\n",
       " 'nanmedian',\n",
       " 'nanquantile',\n",
       " 'nansum',\n",
       " 'narrow',\n",
       " 'narrow_copy',\n",
       " 'ndim',\n",
       " 'ndimension',\n",
       " 'ne',\n",
       " 'ne_',\n",
       " 'neg',\n",
       " 'neg_',\n",
       " 'negative',\n",
       " 'negative_',\n",
       " 'nelement',\n",
       " 'new',\n",
       " 'new_empty',\n",
       " 'new_empty_strided',\n",
       " 'new_full',\n",
       " 'new_ones',\n",
       " 'new_tensor',\n",
       " 'new_zeros',\n",
       " 'nextafter',\n",
       " 'nextafter_',\n",
       " 'nonzero',\n",
       " 'norm',\n",
       " 'normal_',\n",
       " 'not_equal',\n",
       " 'not_equal_',\n",
       " 'numel',\n",
       " 'numpy',\n",
       " 'orgqr',\n",
       " 'ormqr',\n",
       " 'outer',\n",
       " 'output_nr',\n",
       " 'permute',\n",
       " 'pin_memory',\n",
       " 'pinverse',\n",
       " 'polygamma',\n",
       " 'polygamma_',\n",
       " 'positive',\n",
       " 'pow',\n",
       " 'pow_',\n",
       " 'prelu',\n",
       " 'prod',\n",
       " 'put',\n",
       " 'put_',\n",
       " 'q_per_channel_axis',\n",
       " 'q_per_channel_scales',\n",
       " 'q_per_channel_zero_points',\n",
       " 'q_scale',\n",
       " 'q_zero_point',\n",
       " 'qr',\n",
       " 'qscheme',\n",
       " 'quantile',\n",
       " 'rad2deg',\n",
       " 'rad2deg_',\n",
       " 'random_',\n",
       " 'ravel',\n",
       " 'real',\n",
       " 'reciprocal',\n",
       " 'reciprocal_',\n",
       " 'record_stream',\n",
       " 'refine_names',\n",
       " 'register_hook',\n",
       " 'reinforce',\n",
       " 'relu',\n",
       " 'relu_',\n",
       " 'remainder',\n",
       " 'remainder_',\n",
       " 'rename',\n",
       " 'rename_',\n",
       " 'renorm',\n",
       " 'renorm_',\n",
       " 'repeat',\n",
       " 'repeat_interleave',\n",
       " 'requires_grad',\n",
       " 'requires_grad_',\n",
       " 'reshape',\n",
       " 'reshape_as',\n",
       " 'resize',\n",
       " 'resize_',\n",
       " 'resize_as',\n",
       " 'resize_as_',\n",
       " 'resize_as_sparse_',\n",
       " 'resolve_conj',\n",
       " 'resolve_neg',\n",
       " 'retain_grad',\n",
       " 'retains_grad',\n",
       " 'roll',\n",
       " 'rot90',\n",
       " 'round',\n",
       " 'round_',\n",
       " 'row_indices',\n",
       " 'rsqrt',\n",
       " 'rsqrt_',\n",
       " 'scatter',\n",
       " 'scatter_',\n",
       " 'scatter_add',\n",
       " 'scatter_add_',\n",
       " 'scatter_reduce',\n",
       " 'scatter_reduce_',\n",
       " 'select',\n",
       " 'select_scatter',\n",
       " 'set_',\n",
       " 'sgn',\n",
       " 'sgn_',\n",
       " 'shape',\n",
       " 'share_memory_',\n",
       " 'short',\n",
       " 'sigmoid',\n",
       " 'sigmoid_',\n",
       " 'sign',\n",
       " 'sign_',\n",
       " 'signbit',\n",
       " 'sin',\n",
       " 'sin_',\n",
       " 'sinc',\n",
       " 'sinc_',\n",
       " 'sinh',\n",
       " 'sinh_',\n",
       " 'size',\n",
       " 'slice_scatter',\n",
       " 'slogdet',\n",
       " 'smm',\n",
       " 'softmax',\n",
       " 'solve',\n",
       " 'sort',\n",
       " 'sparse_dim',\n",
       " 'sparse_mask',\n",
       " 'sparse_resize_',\n",
       " 'sparse_resize_and_clear_',\n",
       " 'split',\n",
       " 'split_with_sizes',\n",
       " 'sqrt',\n",
       " 'sqrt_',\n",
       " 'square',\n",
       " 'square_',\n",
       " 'squeeze',\n",
       " 'squeeze_',\n",
       " 'sspaddmm',\n",
       " 'std',\n",
       " 'stft',\n",
       " 'storage',\n",
       " 'storage_offset',\n",
       " 'storage_type',\n",
       " 'stride',\n",
       " 'sub',\n",
       " 'sub_',\n",
       " 'subtract',\n",
       " 'subtract_',\n",
       " 'sum',\n",
       " 'sum_to_size',\n",
       " 'svd',\n",
       " 'swapaxes',\n",
       " 'swapaxes_',\n",
       " 'swapdims',\n",
       " 'swapdims_',\n",
       " 'symeig',\n",
       " 't',\n",
       " 't_',\n",
       " 'take',\n",
       " 'take_along_dim',\n",
       " 'tan',\n",
       " 'tan_',\n",
       " 'tanh',\n",
       " 'tanh_',\n",
       " 'tensor_split',\n",
       " 'tile',\n",
       " 'to',\n",
       " 'to_dense',\n",
       " 'to_mkldnn',\n",
       " 'to_padded_tensor',\n",
       " 'to_sparse',\n",
       " 'to_sparse_bsc',\n",
       " 'to_sparse_bsr',\n",
       " 'to_sparse_coo',\n",
       " 'to_sparse_csc',\n",
       " 'to_sparse_csr',\n",
       " 'tolist',\n",
       " 'topk',\n",
       " 'trace',\n",
       " 'transpose',\n",
       " 'transpose_',\n",
       " 'triangular_solve',\n",
       " 'tril',\n",
       " 'tril_',\n",
       " 'triu',\n",
       " 'triu_',\n",
       " 'true_divide',\n",
       " 'true_divide_',\n",
       " 'trunc',\n",
       " 'trunc_',\n",
       " 'type',\n",
       " 'type_as',\n",
       " 'unbind',\n",
       " 'unflatten',\n",
       " 'unfold',\n",
       " 'uniform_',\n",
       " 'unique',\n",
       " 'unique_consecutive',\n",
       " 'unsafe_chunk',\n",
       " 'unsafe_split',\n",
       " 'unsafe_split_with_sizes',\n",
       " 'unsqueeze',\n",
       " 'unsqueeze_',\n",
       " 'untyped_storage',\n",
       " 'values',\n",
       " 'var',\n",
       " 'vdot',\n",
       " 'view',\n",
       " 'view_as',\n",
       " 'vsplit',\n",
       " 'where',\n",
       " 'xlogy',\n",
       " 'xlogy_',\n",
       " 'xpu',\n",
       " 'zero_']"
      ]
     },
     "execution_count": 2,
     "metadata": {},
     "output_type": "execute_result"
    }
   ],
   "source": [
    "x = torch.Tensor([1,2,3,])\n",
    "dir(x)"
   ]
  },
  {
   "cell_type": "code",
   "execution_count": 3,
   "id": "d0a2af9e",
   "metadata": {
    "ExecuteTime": {
     "end_time": "2023-03-21T04:24:31.111877Z",
     "start_time": "2023-03-21T04:24:31.098988Z"
    }
   },
   "outputs": [
    {
     "data": {
      "text/plain": [
       "[torch.Tensor, torch._C._TensorBase, object]"
      ]
     },
     "execution_count": 3,
     "metadata": {},
     "output_type": "execute_result"
    }
   ],
   "source": [
    "type(x).mro()"
   ]
  },
  {
   "cell_type": "code",
   "execution_count": 6,
   "id": "fb6f5014",
   "metadata": {
    "ExecuteTime": {
     "end_time": "2023-03-20T06:52:20.721234Z",
     "start_time": "2023-03-20T06:52:20.707358Z"
    }
   },
   "outputs": [
    {
     "data": {
      "text/plain": [
       "[pandas.core.frame.DataFrame,\n",
       " pandas.core.generic.NDFrame,\n",
       " pandas.core.base.PandasObject,\n",
       " pandas.core.accessor.DirNamesMixin,\n",
       " pandas.core.indexing.IndexingMixin,\n",
       " pandas.core.arraylike.OpsMixin,\n",
       " object]"
      ]
     },
     "execution_count": 6,
     "metadata": {},
     "output_type": "execute_result"
    }
   ],
   "source": [
    "# 그렇다면 상속체계 알 수 있을까?\n",
    "type(tips).mro()\n",
    "# Mixin 이 나옴 => AOP 에서 나옴"
   ]
  },
  {
   "cell_type": "code",
   "execution_count": null,
   "id": "51359d0c",
   "metadata": {},
   "outputs": [],
   "source": [
    "# 파이썬 데코레이터, Mixin 복습하기."
   ]
  },
  {
   "cell_type": "code",
   "execution_count": 7,
   "id": "c35ae993",
   "metadata": {
    "ExecuteTime": {
     "end_time": "2023-03-20T06:54:26.571893Z",
     "start_time": "2023-03-20T06:54:26.557796Z"
    }
   },
   "outputs": [
    {
     "data": {
      "text/plain": [
       "0      1.01\n",
       "1      1.66\n",
       "2      3.50\n",
       "3      3.31\n",
       "4      3.61\n",
       "       ... \n",
       "239    5.92\n",
       "240    2.00\n",
       "241    2.00\n",
       "242    1.75\n",
       "243    3.00\n",
       "Name: tip, Length: 244, dtype: float64"
      ]
     },
     "execution_count": 7,
     "metadata": {},
     "output_type": "execute_result"
    }
   ],
   "source": [
    "# 컬럼별로 내용 뽑을 수 있다.\n",
    "tips['tip']\n",
    "# structured array 에서는 dict 형태로 썼음\n",
    "# 이 구조를 Series 라고 함."
   ]
  },
  {
   "cell_type": "code",
   "execution_count": 8,
   "id": "56203b0b",
   "metadata": {
    "ExecuteTime": {
     "end_time": "2023-03-20T06:55:15.209702Z",
     "start_time": "2023-03-20T06:55:15.199790Z"
    }
   },
   "outputs": [
    {
     "data": {
      "text/plain": [
       "pandas.core.series.Series"
      ]
     },
     "execution_count": 8,
     "metadata": {},
     "output_type": "execute_result"
    }
   ],
   "source": [
    "# Series 는 1차, DataFrame을 2차\n",
    "type(tips['tip'])"
   ]
  },
  {
   "cell_type": "code",
   "execution_count": 9,
   "id": "e91e3f06",
   "metadata": {
    "ExecuteTime": {
     "end_time": "2023-03-20T06:55:30.621054Z",
     "start_time": "2023-03-20T06:55:30.599712Z"
    }
   },
   "outputs": [
    {
     "data": {
      "text/plain": [
       "['T',\n",
       " '_AXIS_LEN',\n",
       " '_AXIS_ORDERS',\n",
       " '_AXIS_TO_AXIS_NUMBER',\n",
       " '_HANDLED_TYPES',\n",
       " '__abs__',\n",
       " '__add__',\n",
       " '__and__',\n",
       " '__annotations__',\n",
       " '__array__',\n",
       " '__array_priority__',\n",
       " '__array_ufunc__',\n",
       " '__array_wrap__',\n",
       " '__bool__',\n",
       " '__class__',\n",
       " '__contains__',\n",
       " '__copy__',\n",
       " '__deepcopy__',\n",
       " '__delattr__',\n",
       " '__delitem__',\n",
       " '__dict__',\n",
       " '__dir__',\n",
       " '__divmod__',\n",
       " '__doc__',\n",
       " '__eq__',\n",
       " '__finalize__',\n",
       " '__float__',\n",
       " '__floordiv__',\n",
       " '__format__',\n",
       " '__ge__',\n",
       " '__getattr__',\n",
       " '__getattribute__',\n",
       " '__getitem__',\n",
       " '__getstate__',\n",
       " '__gt__',\n",
       " '__hash__',\n",
       " '__iadd__',\n",
       " '__iand__',\n",
       " '__ifloordiv__',\n",
       " '__imod__',\n",
       " '__imul__',\n",
       " '__init__',\n",
       " '__init_subclass__',\n",
       " '__int__',\n",
       " '__invert__',\n",
       " '__ior__',\n",
       " '__ipow__',\n",
       " '__isub__',\n",
       " '__iter__',\n",
       " '__itruediv__',\n",
       " '__ixor__',\n",
       " '__le__',\n",
       " '__len__',\n",
       " '__long__',\n",
       " '__lt__',\n",
       " '__matmul__',\n",
       " '__mod__',\n",
       " '__module__',\n",
       " '__mul__',\n",
       " '__ne__',\n",
       " '__neg__',\n",
       " '__new__',\n",
       " '__nonzero__',\n",
       " '__or__',\n",
       " '__pos__',\n",
       " '__pow__',\n",
       " '__radd__',\n",
       " '__rand__',\n",
       " '__rdivmod__',\n",
       " '__reduce__',\n",
       " '__reduce_ex__',\n",
       " '__repr__',\n",
       " '__rfloordiv__',\n",
       " '__rmatmul__',\n",
       " '__rmod__',\n",
       " '__rmul__',\n",
       " '__ror__',\n",
       " '__round__',\n",
       " '__rpow__',\n",
       " '__rsub__',\n",
       " '__rtruediv__',\n",
       " '__rxor__',\n",
       " '__setattr__',\n",
       " '__setitem__',\n",
       " '__setstate__',\n",
       " '__sizeof__',\n",
       " '__str__',\n",
       " '__sub__',\n",
       " '__subclasshook__',\n",
       " '__truediv__',\n",
       " '__weakref__',\n",
       " '__xor__',\n",
       " '_accessors',\n",
       " '_accum_func',\n",
       " '_add_numeric_operations',\n",
       " '_agg_by_level',\n",
       " '_agg_examples_doc',\n",
       " '_agg_see_also_doc',\n",
       " '_align_frame',\n",
       " '_align_series',\n",
       " '_append',\n",
       " '_arith_method',\n",
       " '_as_manager',\n",
       " '_attrs',\n",
       " '_binop',\n",
       " '_cacher',\n",
       " '_can_hold_na',\n",
       " '_check_inplace_and_allows_duplicate_labels',\n",
       " '_check_inplace_setting',\n",
       " '_check_is_chained_assignment_possible',\n",
       " '_check_label_or_level_ambiguity',\n",
       " '_check_setitem_copy',\n",
       " '_clear_item_cache',\n",
       " '_clip_with_one_bound',\n",
       " '_clip_with_scalar',\n",
       " '_cmp_method',\n",
       " '_consolidate',\n",
       " '_consolidate_inplace',\n",
       " '_construct_axes_dict',\n",
       " '_construct_axes_from_arguments',\n",
       " '_construct_result',\n",
       " '_constructor',\n",
       " '_constructor_expanddim',\n",
       " '_convert',\n",
       " '_convert_dtypes',\n",
       " '_data',\n",
       " '_dir_additions',\n",
       " '_dir_deletions',\n",
       " '_drop_axis',\n",
       " '_drop_labels_or_levels',\n",
       " '_duplicated',\n",
       " '_find_valid_index',\n",
       " '_flags',\n",
       " '_get_axis',\n",
       " '_get_axis_name',\n",
       " '_get_axis_number',\n",
       " '_get_axis_resolvers',\n",
       " '_get_block_manager_axis',\n",
       " '_get_bool_data',\n",
       " '_get_cacher',\n",
       " '_get_cleaned_column_resolvers',\n",
       " '_get_index_resolvers',\n",
       " '_get_label_or_level_values',\n",
       " '_get_numeric_data',\n",
       " '_get_value',\n",
       " '_get_values',\n",
       " '_get_values_tuple',\n",
       " '_get_with',\n",
       " '_gotitem',\n",
       " '_hidden_attrs',\n",
       " '_indexed_same',\n",
       " '_info_axis',\n",
       " '_info_axis_name',\n",
       " '_info_axis_number',\n",
       " '_init_dict',\n",
       " '_init_mgr',\n",
       " '_inplace_method',\n",
       " '_internal_names',\n",
       " '_internal_names_set',\n",
       " '_is_cached',\n",
       " '_is_copy',\n",
       " '_is_label_or_level_reference',\n",
       " '_is_label_reference',\n",
       " '_is_level_reference',\n",
       " '_is_mixed_type',\n",
       " '_is_view',\n",
       " '_item_cache',\n",
       " '_ixs',\n",
       " '_logical_func',\n",
       " '_logical_method',\n",
       " '_map_values',\n",
       " '_maybe_update_cacher',\n",
       " '_memory_usage',\n",
       " '_metadata',\n",
       " '_mgr',\n",
       " '_min_count_stat_function',\n",
       " '_name',\n",
       " '_needs_reindex_multi',\n",
       " '_protect_consolidate',\n",
       " '_reduce',\n",
       " '_reindex_axes',\n",
       " '_reindex_indexer',\n",
       " '_reindex_multi',\n",
       " '_reindex_with_indexers',\n",
       " '_rename',\n",
       " '_replace_single',\n",
       " '_repr_data_resource_',\n",
       " '_repr_latex_',\n",
       " '_reset_cache',\n",
       " '_reset_cacher',\n",
       " '_set_as_cached',\n",
       " '_set_axis',\n",
       " '_set_axis_name',\n",
       " '_set_axis_nocheck',\n",
       " '_set_is_copy',\n",
       " '_set_labels',\n",
       " '_set_name',\n",
       " '_set_value',\n",
       " '_set_values',\n",
       " '_set_with',\n",
       " '_set_with_engine',\n",
       " '_slice',\n",
       " '_stat_axis',\n",
       " '_stat_axis_name',\n",
       " '_stat_axis_number',\n",
       " '_stat_function',\n",
       " '_stat_function_ddof',\n",
       " '_take',\n",
       " '_take_with_is_copy',\n",
       " '_typ',\n",
       " '_update_inplace',\n",
       " '_validate_dtype',\n",
       " '_values',\n",
       " '_where',\n",
       " 'abs',\n",
       " 'add',\n",
       " 'add_prefix',\n",
       " 'add_suffix',\n",
       " 'agg',\n",
       " 'aggregate',\n",
       " 'align',\n",
       " 'all',\n",
       " 'any',\n",
       " 'append',\n",
       " 'apply',\n",
       " 'argmax',\n",
       " 'argmin',\n",
       " 'argsort',\n",
       " 'array',\n",
       " 'asfreq',\n",
       " 'asof',\n",
       " 'astype',\n",
       " 'at',\n",
       " 'at_time',\n",
       " 'attrs',\n",
       " 'autocorr',\n",
       " 'axes',\n",
       " 'backfill',\n",
       " 'between',\n",
       " 'between_time',\n",
       " 'bfill',\n",
       " 'bool',\n",
       " 'clip',\n",
       " 'combine',\n",
       " 'combine_first',\n",
       " 'compare',\n",
       " 'convert_dtypes',\n",
       " 'copy',\n",
       " 'corr',\n",
       " 'count',\n",
       " 'cov',\n",
       " 'cummax',\n",
       " 'cummin',\n",
       " 'cumprod',\n",
       " 'cumsum',\n",
       " 'describe',\n",
       " 'diff',\n",
       " 'div',\n",
       " 'divide',\n",
       " 'divmod',\n",
       " 'dot',\n",
       " 'drop',\n",
       " 'drop_duplicates',\n",
       " 'droplevel',\n",
       " 'dropna',\n",
       " 'dtype',\n",
       " 'dtypes',\n",
       " 'duplicated',\n",
       " 'empty',\n",
       " 'eq',\n",
       " 'equals',\n",
       " 'ewm',\n",
       " 'expanding',\n",
       " 'explode',\n",
       " 'factorize',\n",
       " 'ffill',\n",
       " 'fillna',\n",
       " 'filter',\n",
       " 'first',\n",
       " 'first_valid_index',\n",
       " 'flags',\n",
       " 'floordiv',\n",
       " 'ge',\n",
       " 'get',\n",
       " 'groupby',\n",
       " 'gt',\n",
       " 'hasnans',\n",
       " 'head',\n",
       " 'hist',\n",
       " 'iat',\n",
       " 'idxmax',\n",
       " 'idxmin',\n",
       " 'iloc',\n",
       " 'index',\n",
       " 'infer_objects',\n",
       " 'info',\n",
       " 'interpolate',\n",
       " 'is_monotonic',\n",
       " 'is_monotonic_decreasing',\n",
       " 'is_monotonic_increasing',\n",
       " 'is_unique',\n",
       " 'isin',\n",
       " 'isna',\n",
       " 'isnull',\n",
       " 'item',\n",
       " 'items',\n",
       " 'iteritems',\n",
       " 'keys',\n",
       " 'kurt',\n",
       " 'kurtosis',\n",
       " 'last',\n",
       " 'last_valid_index',\n",
       " 'le',\n",
       " 'loc',\n",
       " 'lt',\n",
       " 'mad',\n",
       " 'map',\n",
       " 'mask',\n",
       " 'max',\n",
       " 'mean',\n",
       " 'median',\n",
       " 'memory_usage',\n",
       " 'min',\n",
       " 'mod',\n",
       " 'mode',\n",
       " 'mul',\n",
       " 'multiply',\n",
       " 'name',\n",
       " 'nbytes',\n",
       " 'ndim',\n",
       " 'ne',\n",
       " 'nlargest',\n",
       " 'notna',\n",
       " 'notnull',\n",
       " 'nsmallest',\n",
       " 'nunique',\n",
       " 'pad',\n",
       " 'pct_change',\n",
       " 'pipe',\n",
       " 'plot',\n",
       " 'pop',\n",
       " 'pow',\n",
       " 'prod',\n",
       " 'product',\n",
       " 'quantile',\n",
       " 'radd',\n",
       " 'rank',\n",
       " 'ravel',\n",
       " 'rdiv',\n",
       " 'rdivmod',\n",
       " 'reindex',\n",
       " 'reindex_like',\n",
       " 'rename',\n",
       " 'rename_axis',\n",
       " 'reorder_levels',\n",
       " 'repeat',\n",
       " 'replace',\n",
       " 'resample',\n",
       " 'reset_index',\n",
       " 'rfloordiv',\n",
       " 'rmod',\n",
       " 'rmul',\n",
       " 'rolling',\n",
       " 'round',\n",
       " 'rpow',\n",
       " 'rsub',\n",
       " 'rtruediv',\n",
       " 'sample',\n",
       " 'searchsorted',\n",
       " 'sem',\n",
       " 'set_axis',\n",
       " 'set_flags',\n",
       " 'shape',\n",
       " 'shift',\n",
       " 'size',\n",
       " 'skew',\n",
       " 'slice_shift',\n",
       " 'sort_index',\n",
       " 'sort_values',\n",
       " 'squeeze',\n",
       " 'std',\n",
       " 'sub',\n",
       " 'subtract',\n",
       " 'sum',\n",
       " 'swapaxes',\n",
       " 'swaplevel',\n",
       " 'tail',\n",
       " 'take',\n",
       " 'to_clipboard',\n",
       " 'to_csv',\n",
       " 'to_dict',\n",
       " 'to_excel',\n",
       " 'to_frame',\n",
       " 'to_hdf',\n",
       " 'to_json',\n",
       " 'to_latex',\n",
       " 'to_list',\n",
       " 'to_markdown',\n",
       " 'to_numpy',\n",
       " 'to_period',\n",
       " 'to_pickle',\n",
       " 'to_sql',\n",
       " 'to_string',\n",
       " 'to_timestamp',\n",
       " 'to_xarray',\n",
       " 'transform',\n",
       " 'transpose',\n",
       " 'truediv',\n",
       " 'truncate',\n",
       " 'tz_convert',\n",
       " 'tz_localize',\n",
       " 'unique',\n",
       " 'unstack',\n",
       " 'update',\n",
       " 'value_counts',\n",
       " 'values',\n",
       " 'var',\n",
       " 'view',\n",
       " 'where',\n",
       " 'xs']"
      ]
     },
     "execution_count": 9,
     "metadata": {},
     "output_type": "execute_result"
    }
   ],
   "source": [
    "dir(tips['tip'])\n",
    "# __array__ 가 있음.\n",
    "# ufunc 도 있음"
   ]
  },
  {
   "cell_type": "code",
   "execution_count": 10,
   "id": "215cbb2c",
   "metadata": {
    "ExecuteTime": {
     "end_time": "2023-03-20T06:56:22.300407Z",
     "start_time": "2023-03-20T06:56:22.283668Z"
    }
   },
   "outputs": [
    {
     "data": {
      "text/plain": [
       "0       Sun\n",
       "1       Sun\n",
       "2       Sun\n",
       "3       Sun\n",
       "4       Sun\n",
       "       ... \n",
       "239     Sat\n",
       "240     Sat\n",
       "241     Sat\n",
       "242     Sat\n",
       "243    Thur\n",
       "Name: day, Length: 244, dtype: category\n",
       "Categories (4, object): ['Thur', 'Fri', 'Sat', 'Sun']"
      ]
     },
     "execution_count": 10,
     "metadata": {},
     "output_type": "execute_result"
    }
   ],
   "source": [
    "tips.day\n",
    "# record array 라서 되는 테크닉"
   ]
  },
  {
   "cell_type": "code",
   "execution_count": 11,
   "id": "b06bc7fa",
   "metadata": {
    "ExecuteTime": {
     "end_time": "2023-03-20T06:56:49.664828Z",
     "start_time": "2023-03-20T06:56:49.651912Z"
    }
   },
   "outputs": [
    {
     "data": {
      "text/plain": [
       "1708"
      ]
     },
     "execution_count": 11,
     "metadata": {},
     "output_type": "execute_result"
    }
   ],
   "source": [
    "tips.size\n",
    "# 넘파이에서 size는 원소의 개수\n",
    "# .size 하면 넘파이니까 넘파이의 size가 뽑혀서 이렇게 된 것.\n",
    "# 그래서 컬럼을 보고 싶으면"
   ]
  },
  {
   "cell_type": "code",
   "execution_count": 12,
   "id": "07ff76c6",
   "metadata": {
    "ExecuteTime": {
     "end_time": "2023-03-20T06:57:41.359469Z",
     "start_time": "2023-03-20T06:57:41.345534Z"
    }
   },
   "outputs": [
    {
     "data": {
      "text/plain": [
       "0      2\n",
       "1      3\n",
       "2      3\n",
       "3      2\n",
       "4      4\n",
       "      ..\n",
       "239    3\n",
       "240    2\n",
       "241    2\n",
       "242    2\n",
       "243    2\n",
       "Name: size, Length: 244, dtype: int64"
      ]
     },
     "execution_count": 12,
     "metadata": {},
     "output_type": "execute_result"
    }
   ],
   "source": [
    "tips['size']"
   ]
  },
  {
   "cell_type": "code",
   "execution_count": 13,
   "id": "44728e7f",
   "metadata": {
    "ExecuteTime": {
     "end_time": "2023-03-20T06:58:06.788708Z",
     "start_time": "2023-03-20T06:58:06.769040Z"
    }
   },
   "outputs": [
    {
     "data": {
      "text/html": [
       "<div>\n",
       "<style scoped>\n",
       "    .dataframe tbody tr th:only-of-type {\n",
       "        vertical-align: middle;\n",
       "    }\n",
       "\n",
       "    .dataframe tbody tr th {\n",
       "        vertical-align: top;\n",
       "    }\n",
       "\n",
       "    .dataframe thead th {\n",
       "        text-align: right;\n",
       "    }\n",
       "</style>\n",
       "<table border=\"1\" class=\"dataframe\">\n",
       "  <thead>\n",
       "    <tr style=\"text-align: right;\">\n",
       "      <th></th>\n",
       "      <th>size</th>\n",
       "    </tr>\n",
       "  </thead>\n",
       "  <tbody>\n",
       "    <tr>\n",
       "      <th>0</th>\n",
       "      <td>2</td>\n",
       "    </tr>\n",
       "    <tr>\n",
       "      <th>1</th>\n",
       "      <td>3</td>\n",
       "    </tr>\n",
       "    <tr>\n",
       "      <th>2</th>\n",
       "      <td>3</td>\n",
       "    </tr>\n",
       "    <tr>\n",
       "      <th>3</th>\n",
       "      <td>2</td>\n",
       "    </tr>\n",
       "    <tr>\n",
       "      <th>4</th>\n",
       "      <td>4</td>\n",
       "    </tr>\n",
       "    <tr>\n",
       "      <th>...</th>\n",
       "      <td>...</td>\n",
       "    </tr>\n",
       "    <tr>\n",
       "      <th>239</th>\n",
       "      <td>3</td>\n",
       "    </tr>\n",
       "    <tr>\n",
       "      <th>240</th>\n",
       "      <td>2</td>\n",
       "    </tr>\n",
       "    <tr>\n",
       "      <th>241</th>\n",
       "      <td>2</td>\n",
       "    </tr>\n",
       "    <tr>\n",
       "      <th>242</th>\n",
       "      <td>2</td>\n",
       "    </tr>\n",
       "    <tr>\n",
       "      <th>243</th>\n",
       "      <td>2</td>\n",
       "    </tr>\n",
       "  </tbody>\n",
       "</table>\n",
       "<p>244 rows × 1 columns</p>\n",
       "</div>"
      ],
      "text/plain": [
       "     size\n",
       "0       2\n",
       "1       3\n",
       "2       3\n",
       "3       2\n",
       "4       4\n",
       "..    ...\n",
       "239     3\n",
       "240     2\n",
       "241     2\n",
       "242     2\n",
       "243     2\n",
       "\n",
       "[244 rows x 1 columns]"
      ]
     },
     "execution_count": 13,
     "metadata": {},
     "output_type": "execute_result"
    }
   ],
   "source": [
    "tips[['size']]\n",
    "# [[]] 는 fancy indexing. -> 차원을 유지하기 때문."
   ]
  },
  {
   "cell_type": "code",
   "execution_count": 14,
   "id": "12d4b865",
   "metadata": {
    "ExecuteTime": {
     "end_time": "2023-03-20T06:58:50.659826Z",
     "start_time": "2023-03-20T06:58:50.635074Z"
    }
   },
   "outputs": [
    {
     "data": {
      "text/html": [
       "<div>\n",
       "<style scoped>\n",
       "    .dataframe tbody tr th:only-of-type {\n",
       "        vertical-align: middle;\n",
       "    }\n",
       "\n",
       "    .dataframe tbody tr th {\n",
       "        vertical-align: top;\n",
       "    }\n",
       "\n",
       "    .dataframe thead th {\n",
       "        text-align: right;\n",
       "    }\n",
       "</style>\n",
       "<table border=\"1\" class=\"dataframe\">\n",
       "  <thead>\n",
       "    <tr style=\"text-align: right;\">\n",
       "      <th></th>\n",
       "      <th>size</th>\n",
       "      <th>tip</th>\n",
       "      <th>sex</th>\n",
       "    </tr>\n",
       "  </thead>\n",
       "  <tbody>\n",
       "    <tr>\n",
       "      <th>0</th>\n",
       "      <td>2</td>\n",
       "      <td>1.01</td>\n",
       "      <td>Female</td>\n",
       "    </tr>\n",
       "    <tr>\n",
       "      <th>1</th>\n",
       "      <td>3</td>\n",
       "      <td>1.66</td>\n",
       "      <td>Male</td>\n",
       "    </tr>\n",
       "    <tr>\n",
       "      <th>2</th>\n",
       "      <td>3</td>\n",
       "      <td>3.50</td>\n",
       "      <td>Male</td>\n",
       "    </tr>\n",
       "    <tr>\n",
       "      <th>3</th>\n",
       "      <td>2</td>\n",
       "      <td>3.31</td>\n",
       "      <td>Male</td>\n",
       "    </tr>\n",
       "    <tr>\n",
       "      <th>4</th>\n",
       "      <td>4</td>\n",
       "      <td>3.61</td>\n",
       "      <td>Female</td>\n",
       "    </tr>\n",
       "    <tr>\n",
       "      <th>...</th>\n",
       "      <td>...</td>\n",
       "      <td>...</td>\n",
       "      <td>...</td>\n",
       "    </tr>\n",
       "    <tr>\n",
       "      <th>239</th>\n",
       "      <td>3</td>\n",
       "      <td>5.92</td>\n",
       "      <td>Male</td>\n",
       "    </tr>\n",
       "    <tr>\n",
       "      <th>240</th>\n",
       "      <td>2</td>\n",
       "      <td>2.00</td>\n",
       "      <td>Female</td>\n",
       "    </tr>\n",
       "    <tr>\n",
       "      <th>241</th>\n",
       "      <td>2</td>\n",
       "      <td>2.00</td>\n",
       "      <td>Male</td>\n",
       "    </tr>\n",
       "    <tr>\n",
       "      <th>242</th>\n",
       "      <td>2</td>\n",
       "      <td>1.75</td>\n",
       "      <td>Male</td>\n",
       "    </tr>\n",
       "    <tr>\n",
       "      <th>243</th>\n",
       "      <td>2</td>\n",
       "      <td>3.00</td>\n",
       "      <td>Female</td>\n",
       "    </tr>\n",
       "  </tbody>\n",
       "</table>\n",
       "<p>244 rows × 3 columns</p>\n",
       "</div>"
      ],
      "text/plain": [
       "     size   tip     sex\n",
       "0       2  1.01  Female\n",
       "1       3  1.66    Male\n",
       "2       3  3.50    Male\n",
       "3       2  3.31    Male\n",
       "4       4  3.61  Female\n",
       "..    ...   ...     ...\n",
       "239     3  5.92    Male\n",
       "240     2  2.00  Female\n",
       "241     2  2.00    Male\n",
       "242     2  1.75    Male\n",
       "243     2  3.00  Female\n",
       "\n",
       "[244 rows x 3 columns]"
      ]
     },
     "execution_count": 14,
     "metadata": {},
     "output_type": "execute_result"
    }
   ],
   "source": [
    "tips[['size', 'tip', 'sex']]\n",
    "# fancy indexing 은 넘파이에서 온 것"
   ]
  },
  {
   "cell_type": "code",
   "execution_count": 15,
   "id": "574d9a9e",
   "metadata": {
    "ExecuteTime": {
     "end_time": "2023-03-20T06:59:17.282487Z",
     "start_time": "2023-03-20T06:59:17.267020Z"
    }
   },
   "outputs": [
    {
     "data": {
      "text/plain": [
       "0      True\n",
       "1      True\n",
       "2      True\n",
       "3      True\n",
       "4      True\n",
       "       ... \n",
       "239    True\n",
       "240    True\n",
       "241    True\n",
       "242    True\n",
       "243    True\n",
       "Name: tip, Length: 244, dtype: bool"
      ]
     },
     "execution_count": 15,
     "metadata": {},
     "output_type": "execute_result"
    }
   ],
   "source": [
    "tips.tip > 1\n",
    "# 브로드 캐스팅"
   ]
  },
  {
   "cell_type": "code",
   "execution_count": 16,
   "id": "87e6d44d",
   "metadata": {
    "ExecuteTime": {
     "end_time": "2023-03-20T06:59:35.469536Z",
     "start_time": "2023-03-20T06:59:35.444524Z"
    }
   },
   "outputs": [
    {
     "data": {
      "text/html": [
       "<div>\n",
       "<style scoped>\n",
       "    .dataframe tbody tr th:only-of-type {\n",
       "        vertical-align: middle;\n",
       "    }\n",
       "\n",
       "    .dataframe tbody tr th {\n",
       "        vertical-align: top;\n",
       "    }\n",
       "\n",
       "    .dataframe thead th {\n",
       "        text-align: right;\n",
       "    }\n",
       "</style>\n",
       "<table border=\"1\" class=\"dataframe\">\n",
       "  <thead>\n",
       "    <tr style=\"text-align: right;\">\n",
       "      <th></th>\n",
       "      <th>total_bill</th>\n",
       "      <th>tip</th>\n",
       "      <th>sex</th>\n",
       "      <th>smoker</th>\n",
       "      <th>day</th>\n",
       "      <th>time</th>\n",
       "      <th>size</th>\n",
       "    </tr>\n",
       "  </thead>\n",
       "  <tbody>\n",
       "    <tr>\n",
       "      <th>0</th>\n",
       "      <td>16.99</td>\n",
       "      <td>1.01</td>\n",
       "      <td>Female</td>\n",
       "      <td>No</td>\n",
       "      <td>Sun</td>\n",
       "      <td>Dinner</td>\n",
       "      <td>2</td>\n",
       "    </tr>\n",
       "    <tr>\n",
       "      <th>1</th>\n",
       "      <td>10.34</td>\n",
       "      <td>1.66</td>\n",
       "      <td>Male</td>\n",
       "      <td>No</td>\n",
       "      <td>Sun</td>\n",
       "      <td>Dinner</td>\n",
       "      <td>3</td>\n",
       "    </tr>\n",
       "    <tr>\n",
       "      <th>2</th>\n",
       "      <td>21.01</td>\n",
       "      <td>3.50</td>\n",
       "      <td>Male</td>\n",
       "      <td>No</td>\n",
       "      <td>Sun</td>\n",
       "      <td>Dinner</td>\n",
       "      <td>3</td>\n",
       "    </tr>\n",
       "    <tr>\n",
       "      <th>3</th>\n",
       "      <td>23.68</td>\n",
       "      <td>3.31</td>\n",
       "      <td>Male</td>\n",
       "      <td>No</td>\n",
       "      <td>Sun</td>\n",
       "      <td>Dinner</td>\n",
       "      <td>2</td>\n",
       "    </tr>\n",
       "    <tr>\n",
       "      <th>4</th>\n",
       "      <td>24.59</td>\n",
       "      <td>3.61</td>\n",
       "      <td>Female</td>\n",
       "      <td>No</td>\n",
       "      <td>Sun</td>\n",
       "      <td>Dinner</td>\n",
       "      <td>4</td>\n",
       "    </tr>\n",
       "    <tr>\n",
       "      <th>...</th>\n",
       "      <td>...</td>\n",
       "      <td>...</td>\n",
       "      <td>...</td>\n",
       "      <td>...</td>\n",
       "      <td>...</td>\n",
       "      <td>...</td>\n",
       "      <td>...</td>\n",
       "    </tr>\n",
       "    <tr>\n",
       "      <th>239</th>\n",
       "      <td>29.03</td>\n",
       "      <td>5.92</td>\n",
       "      <td>Male</td>\n",
       "      <td>No</td>\n",
       "      <td>Sat</td>\n",
       "      <td>Dinner</td>\n",
       "      <td>3</td>\n",
       "    </tr>\n",
       "    <tr>\n",
       "      <th>240</th>\n",
       "      <td>27.18</td>\n",
       "      <td>2.00</td>\n",
       "      <td>Female</td>\n",
       "      <td>Yes</td>\n",
       "      <td>Sat</td>\n",
       "      <td>Dinner</td>\n",
       "      <td>2</td>\n",
       "    </tr>\n",
       "    <tr>\n",
       "      <th>241</th>\n",
       "      <td>22.67</td>\n",
       "      <td>2.00</td>\n",
       "      <td>Male</td>\n",
       "      <td>Yes</td>\n",
       "      <td>Sat</td>\n",
       "      <td>Dinner</td>\n",
       "      <td>2</td>\n",
       "    </tr>\n",
       "    <tr>\n",
       "      <th>242</th>\n",
       "      <td>17.82</td>\n",
       "      <td>1.75</td>\n",
       "      <td>Male</td>\n",
       "      <td>No</td>\n",
       "      <td>Sat</td>\n",
       "      <td>Dinner</td>\n",
       "      <td>2</td>\n",
       "    </tr>\n",
       "    <tr>\n",
       "      <th>243</th>\n",
       "      <td>18.78</td>\n",
       "      <td>3.00</td>\n",
       "      <td>Female</td>\n",
       "      <td>No</td>\n",
       "      <td>Thur</td>\n",
       "      <td>Dinner</td>\n",
       "      <td>2</td>\n",
       "    </tr>\n",
       "  </tbody>\n",
       "</table>\n",
       "<p>240 rows × 7 columns</p>\n",
       "</div>"
      ],
      "text/plain": [
       "     total_bill   tip     sex smoker   day    time  size\n",
       "0         16.99  1.01  Female     No   Sun  Dinner     2\n",
       "1         10.34  1.66    Male     No   Sun  Dinner     3\n",
       "2         21.01  3.50    Male     No   Sun  Dinner     3\n",
       "3         23.68  3.31    Male     No   Sun  Dinner     2\n",
       "4         24.59  3.61  Female     No   Sun  Dinner     4\n",
       "..          ...   ...     ...    ...   ...     ...   ...\n",
       "239       29.03  5.92    Male     No   Sat  Dinner     3\n",
       "240       27.18  2.00  Female    Yes   Sat  Dinner     2\n",
       "241       22.67  2.00    Male    Yes   Sat  Dinner     2\n",
       "242       17.82  1.75    Male     No   Sat  Dinner     2\n",
       "243       18.78  3.00  Female     No  Thur  Dinner     2\n",
       "\n",
       "[240 rows x 7 columns]"
      ]
     },
     "execution_count": 16,
     "metadata": {},
     "output_type": "execute_result"
    }
   ],
   "source": [
    "tips[tips.tip > 1]"
   ]
  },
  {
   "cell_type": "code",
   "execution_count": 17,
   "id": "999878f7",
   "metadata": {
    "ExecuteTime": {
     "end_time": "2023-03-20T06:59:49.951007Z",
     "start_time": "2023-03-20T06:59:49.924526Z"
    }
   },
   "outputs": [
    {
     "data": {
      "text/html": [
       "<div>\n",
       "<style scoped>\n",
       "    .dataframe tbody tr th:only-of-type {\n",
       "        vertical-align: middle;\n",
       "    }\n",
       "\n",
       "    .dataframe tbody tr th {\n",
       "        vertical-align: top;\n",
       "    }\n",
       "\n",
       "    .dataframe thead th {\n",
       "        text-align: right;\n",
       "    }\n",
       "</style>\n",
       "<table border=\"1\" class=\"dataframe\">\n",
       "  <thead>\n",
       "    <tr style=\"text-align: right;\">\n",
       "      <th></th>\n",
       "      <th>total_bill</th>\n",
       "      <th>tip</th>\n",
       "      <th>sex</th>\n",
       "      <th>smoker</th>\n",
       "      <th>day</th>\n",
       "      <th>time</th>\n",
       "      <th>size</th>\n",
       "    </tr>\n",
       "  </thead>\n",
       "  <tbody>\n",
       "    <tr>\n",
       "      <th>1</th>\n",
       "      <td>10.34</td>\n",
       "      <td>1.66</td>\n",
       "      <td>Male</td>\n",
       "      <td>No</td>\n",
       "      <td>Sun</td>\n",
       "      <td>Dinner</td>\n",
       "      <td>3</td>\n",
       "    </tr>\n",
       "    <tr>\n",
       "      <th>2</th>\n",
       "      <td>21.01</td>\n",
       "      <td>3.50</td>\n",
       "      <td>Male</td>\n",
       "      <td>No</td>\n",
       "      <td>Sun</td>\n",
       "      <td>Dinner</td>\n",
       "      <td>3</td>\n",
       "    </tr>\n",
       "    <tr>\n",
       "      <th>3</th>\n",
       "      <td>23.68</td>\n",
       "      <td>3.31</td>\n",
       "      <td>Male</td>\n",
       "      <td>No</td>\n",
       "      <td>Sun</td>\n",
       "      <td>Dinner</td>\n",
       "      <td>2</td>\n",
       "    </tr>\n",
       "    <tr>\n",
       "      <th>5</th>\n",
       "      <td>25.29</td>\n",
       "      <td>4.71</td>\n",
       "      <td>Male</td>\n",
       "      <td>No</td>\n",
       "      <td>Sun</td>\n",
       "      <td>Dinner</td>\n",
       "      <td>4</td>\n",
       "    </tr>\n",
       "    <tr>\n",
       "      <th>6</th>\n",
       "      <td>8.77</td>\n",
       "      <td>2.00</td>\n",
       "      <td>Male</td>\n",
       "      <td>No</td>\n",
       "      <td>Sun</td>\n",
       "      <td>Dinner</td>\n",
       "      <td>2</td>\n",
       "    </tr>\n",
       "    <tr>\n",
       "      <th>...</th>\n",
       "      <td>...</td>\n",
       "      <td>...</td>\n",
       "      <td>...</td>\n",
       "      <td>...</td>\n",
       "      <td>...</td>\n",
       "      <td>...</td>\n",
       "      <td>...</td>\n",
       "    </tr>\n",
       "    <tr>\n",
       "      <th>236</th>\n",
       "      <td>12.60</td>\n",
       "      <td>1.00</td>\n",
       "      <td>Male</td>\n",
       "      <td>Yes</td>\n",
       "      <td>Sat</td>\n",
       "      <td>Dinner</td>\n",
       "      <td>2</td>\n",
       "    </tr>\n",
       "    <tr>\n",
       "      <th>237</th>\n",
       "      <td>32.83</td>\n",
       "      <td>1.17</td>\n",
       "      <td>Male</td>\n",
       "      <td>Yes</td>\n",
       "      <td>Sat</td>\n",
       "      <td>Dinner</td>\n",
       "      <td>2</td>\n",
       "    </tr>\n",
       "    <tr>\n",
       "      <th>239</th>\n",
       "      <td>29.03</td>\n",
       "      <td>5.92</td>\n",
       "      <td>Male</td>\n",
       "      <td>No</td>\n",
       "      <td>Sat</td>\n",
       "      <td>Dinner</td>\n",
       "      <td>3</td>\n",
       "    </tr>\n",
       "    <tr>\n",
       "      <th>241</th>\n",
       "      <td>22.67</td>\n",
       "      <td>2.00</td>\n",
       "      <td>Male</td>\n",
       "      <td>Yes</td>\n",
       "      <td>Sat</td>\n",
       "      <td>Dinner</td>\n",
       "      <td>2</td>\n",
       "    </tr>\n",
       "    <tr>\n",
       "      <th>242</th>\n",
       "      <td>17.82</td>\n",
       "      <td>1.75</td>\n",
       "      <td>Male</td>\n",
       "      <td>No</td>\n",
       "      <td>Sat</td>\n",
       "      <td>Dinner</td>\n",
       "      <td>2</td>\n",
       "    </tr>\n",
       "  </tbody>\n",
       "</table>\n",
       "<p>157 rows × 7 columns</p>\n",
       "</div>"
      ],
      "text/plain": [
       "     total_bill   tip   sex smoker  day    time  size\n",
       "1         10.34  1.66  Male     No  Sun  Dinner     3\n",
       "2         21.01  3.50  Male     No  Sun  Dinner     3\n",
       "3         23.68  3.31  Male     No  Sun  Dinner     2\n",
       "5         25.29  4.71  Male     No  Sun  Dinner     4\n",
       "6          8.77  2.00  Male     No  Sun  Dinner     2\n",
       "..          ...   ...   ...    ...  ...     ...   ...\n",
       "236       12.60  1.00  Male    Yes  Sat  Dinner     2\n",
       "237       32.83  1.17  Male    Yes  Sat  Dinner     2\n",
       "239       29.03  5.92  Male     No  Sat  Dinner     3\n",
       "241       22.67  2.00  Male    Yes  Sat  Dinner     2\n",
       "242       17.82  1.75  Male     No  Sat  Dinner     2\n",
       "\n",
       "[157 rows x 7 columns]"
      ]
     },
     "execution_count": 17,
     "metadata": {},
     "output_type": "execute_result"
    }
   ],
   "source": [
    "tips[tips.sex=='Male']\n",
    "# 5개 인덱싱\n",
    "# 콤마, 불린, 팬시, [...]  => 5개 뭔지 다 보기!!\n",
    "# 이것은 넘파이 기능이지, 판다스 기능이 아니다!\n",
    "# 따라서 넘파이를 공부해야 한다!"
   ]
  },
  {
   "cell_type": "code",
   "execution_count": null,
   "id": "f2304d83",
   "metadata": {},
   "outputs": [],
   "source": [
    "# 지금까지 쓴 것들 싹다 numpy에서 왔다.\n",
    "# 판다스에서 70% 정도 내부구조는 다 넘파이에서 옴"
   ]
  },
  {
   "cell_type": "code",
   "execution_count": null,
   "id": "5963c619",
   "metadata": {},
   "outputs": [],
   "source": [
    "# 넘파이는 어떤 특성?\n",
    "# 데이터프레임은 어떤 특성을 가졌을까? ->\n",
    "# 컬럼은 같은 데이터 타입을 가지고 있어야 함.\n",
    "# 인덱싱과 슬라이싱이 됨. 모르면 dir 찾아보면 됨(type, dir, vars) => __len__, __getitem__"
   ]
  },
  {
   "cell_type": "code",
   "execution_count": 18,
   "id": "bf569c74",
   "metadata": {
    "ExecuteTime": {
     "end_time": "2023-03-20T07:03:34.833032Z",
     "start_time": "2023-03-20T07:03:34.815543Z"
    }
   },
   "outputs": [
    {
     "data": {
      "text/plain": [
       "['T',\n",
       " '_AXIS_LEN',\n",
       " '_AXIS_ORDERS',\n",
       " '_AXIS_TO_AXIS_NUMBER',\n",
       " '_HANDLED_TYPES',\n",
       " '__abs__',\n",
       " '__add__',\n",
       " '__and__',\n",
       " '__annotations__',\n",
       " '__array__',\n",
       " '__array_priority__',\n",
       " '__array_ufunc__',\n",
       " '__array_wrap__',\n",
       " '__bool__',\n",
       " '__class__',\n",
       " '__contains__',\n",
       " '__copy__',\n",
       " '__dataframe__',\n",
       " '__deepcopy__',\n",
       " '__delattr__',\n",
       " '__delitem__',\n",
       " '__dict__',\n",
       " '__dir__',\n",
       " '__divmod__',\n",
       " '__doc__',\n",
       " '__eq__',\n",
       " '__finalize__',\n",
       " '__floordiv__',\n",
       " '__format__',\n",
       " '__ge__',\n",
       " '__getattr__',\n",
       " '__getattribute__',\n",
       " '__getitem__',\n",
       " '__getstate__',\n",
       " '__gt__',\n",
       " '__hash__',\n",
       " '__iadd__',\n",
       " '__iand__',\n",
       " '__ifloordiv__',\n",
       " '__imod__',\n",
       " '__imul__',\n",
       " '__init__',\n",
       " '__init_subclass__',\n",
       " '__invert__',\n",
       " '__ior__',\n",
       " '__ipow__',\n",
       " '__isub__',\n",
       " '__iter__',\n",
       " '__itruediv__',\n",
       " '__ixor__',\n",
       " '__le__',\n",
       " '__len__',\n",
       " '__lt__',\n",
       " '__matmul__',\n",
       " '__mod__',\n",
       " '__module__',\n",
       " '__mul__',\n",
       " '__ne__',\n",
       " '__neg__',\n",
       " '__new__',\n",
       " '__nonzero__',\n",
       " '__or__',\n",
       " '__pos__',\n",
       " '__pow__',\n",
       " '__radd__',\n",
       " '__rand__',\n",
       " '__rdivmod__',\n",
       " '__reduce__',\n",
       " '__reduce_ex__',\n",
       " '__repr__',\n",
       " '__rfloordiv__',\n",
       " '__rmatmul__',\n",
       " '__rmod__',\n",
       " '__rmul__',\n",
       " '__ror__',\n",
       " '__round__',\n",
       " '__rpow__',\n",
       " '__rsub__',\n",
       " '__rtruediv__',\n",
       " '__rxor__',\n",
       " '__setattr__',\n",
       " '__setitem__',\n",
       " '__setstate__',\n",
       " '__sizeof__',\n",
       " '__str__',\n",
       " '__sub__',\n",
       " '__subclasshook__',\n",
       " '__truediv__',\n",
       " '__weakref__',\n",
       " '__xor__',\n",
       " '_accessors',\n",
       " '_accum_func',\n",
       " '_add_numeric_operations',\n",
       " '_agg_by_level',\n",
       " '_agg_examples_doc',\n",
       " '_agg_summary_and_see_also_doc',\n",
       " '_align_frame',\n",
       " '_align_series',\n",
       " '_append',\n",
       " '_arith_method',\n",
       " '_as_manager',\n",
       " '_attrs',\n",
       " '_box_col_values',\n",
       " '_can_fast_transpose',\n",
       " '_check_inplace_and_allows_duplicate_labels',\n",
       " '_check_inplace_setting',\n",
       " '_check_is_chained_assignment_possible',\n",
       " '_check_label_or_level_ambiguity',\n",
       " '_check_setitem_copy',\n",
       " '_clear_item_cache',\n",
       " '_clip_with_one_bound',\n",
       " '_clip_with_scalar',\n",
       " '_cmp_method',\n",
       " '_combine_frame',\n",
       " '_consolidate',\n",
       " '_consolidate_inplace',\n",
       " '_construct_axes_dict',\n",
       " '_construct_axes_from_arguments',\n",
       " '_construct_result',\n",
       " '_constructor',\n",
       " '_constructor_sliced',\n",
       " '_convert',\n",
       " '_count_level',\n",
       " '_data',\n",
       " '_dir_additions',\n",
       " '_dir_deletions',\n",
       " '_dispatch_frame_op',\n",
       " '_drop_axis',\n",
       " '_drop_labels_or_levels',\n",
       " '_ensure_valid_index',\n",
       " '_find_valid_index',\n",
       " '_flags',\n",
       " '_from_arrays',\n",
       " '_get_agg_axis',\n",
       " '_get_axis',\n",
       " '_get_axis_name',\n",
       " '_get_axis_number',\n",
       " '_get_axis_resolvers',\n",
       " '_get_block_manager_axis',\n",
       " '_get_bool_data',\n",
       " '_get_cleaned_column_resolvers',\n",
       " '_get_column_array',\n",
       " '_get_index_resolvers',\n",
       " '_get_item_cache',\n",
       " '_get_label_or_level_values',\n",
       " '_get_numeric_data',\n",
       " '_get_value',\n",
       " '_getitem_bool_array',\n",
       " '_getitem_multilevel',\n",
       " '_gotitem',\n",
       " '_hidden_attrs',\n",
       " '_indexed_same',\n",
       " '_info_axis',\n",
       " '_info_axis_name',\n",
       " '_info_axis_number',\n",
       " '_info_repr',\n",
       " '_init_mgr',\n",
       " '_inplace_method',\n",
       " '_internal_names',\n",
       " '_internal_names_set',\n",
       " '_is_copy',\n",
       " '_is_homogeneous_type',\n",
       " '_is_label_or_level_reference',\n",
       " '_is_label_reference',\n",
       " '_is_level_reference',\n",
       " '_is_mixed_type',\n",
       " '_is_view',\n",
       " '_iset_item',\n",
       " '_iset_item_mgr',\n",
       " '_iset_not_inplace',\n",
       " '_item_cache',\n",
       " '_iter_column_arrays',\n",
       " '_ixs',\n",
       " '_join_compat',\n",
       " '_logical_func',\n",
       " '_logical_method',\n",
       " '_maybe_cache_changed',\n",
       " '_maybe_update_cacher',\n",
       " '_metadata',\n",
       " '_mgr',\n",
       " '_min_count_stat_function',\n",
       " '_needs_reindex_multi',\n",
       " '_protect_consolidate',\n",
       " '_reduce',\n",
       " '_reduce_axis1',\n",
       " '_reindex_axes',\n",
       " '_reindex_columns',\n",
       " '_reindex_index',\n",
       " '_reindex_multi',\n",
       " '_reindex_with_indexers',\n",
       " '_rename',\n",
       " '_replace_columnwise',\n",
       " '_repr_data_resource_',\n",
       " '_repr_fits_horizontal_',\n",
       " '_repr_fits_vertical_',\n",
       " '_repr_html_',\n",
       " '_repr_latex_',\n",
       " '_reset_cache',\n",
       " '_reset_cacher',\n",
       " '_sanitize_column',\n",
       " '_series',\n",
       " '_set_axis',\n",
       " '_set_axis_name',\n",
       " '_set_axis_nocheck',\n",
       " '_set_is_copy',\n",
       " '_set_item',\n",
       " '_set_item_frame_value',\n",
       " '_set_item_mgr',\n",
       " '_set_value',\n",
       " '_setitem_array',\n",
       " '_setitem_frame',\n",
       " '_setitem_slice',\n",
       " '_slice',\n",
       " '_stat_axis',\n",
       " '_stat_axis_name',\n",
       " '_stat_axis_number',\n",
       " '_stat_function',\n",
       " '_stat_function_ddof',\n",
       " '_take',\n",
       " '_take_with_is_copy',\n",
       " '_to_dict_of_blocks',\n",
       " '_typ',\n",
       " '_update_inplace',\n",
       " '_validate_dtype',\n",
       " '_values',\n",
       " '_where',\n",
       " 'abs',\n",
       " 'add',\n",
       " 'add_prefix',\n",
       " 'add_suffix',\n",
       " 'agg',\n",
       " 'aggregate',\n",
       " 'align',\n",
       " 'all',\n",
       " 'any',\n",
       " 'append',\n",
       " 'apply',\n",
       " 'applymap',\n",
       " 'asfreq',\n",
       " 'asof',\n",
       " 'assign',\n",
       " 'astype',\n",
       " 'at',\n",
       " 'at_time',\n",
       " 'attrs',\n",
       " 'axes',\n",
       " 'backfill',\n",
       " 'between_time',\n",
       " 'bfill',\n",
       " 'bool',\n",
       " 'boxplot',\n",
       " 'clip',\n",
       " 'columns',\n",
       " 'combine',\n",
       " 'combine_first',\n",
       " 'compare',\n",
       " 'convert_dtypes',\n",
       " 'copy',\n",
       " 'corr',\n",
       " 'corrwith',\n",
       " 'count',\n",
       " 'cov',\n",
       " 'cummax',\n",
       " 'cummin',\n",
       " 'cumprod',\n",
       " 'cumsum',\n",
       " 'day',\n",
       " 'describe',\n",
       " 'diff',\n",
       " 'div',\n",
       " 'divide',\n",
       " 'dot',\n",
       " 'drop',\n",
       " 'drop_duplicates',\n",
       " 'droplevel',\n",
       " 'dropna',\n",
       " 'dtypes',\n",
       " 'duplicated',\n",
       " 'empty',\n",
       " 'eq',\n",
       " 'equals',\n",
       " 'eval',\n",
       " 'ewm',\n",
       " 'expanding',\n",
       " 'explode',\n",
       " 'ffill',\n",
       " 'fillna',\n",
       " 'filter',\n",
       " 'first',\n",
       " 'first_valid_index',\n",
       " 'flags',\n",
       " 'floordiv',\n",
       " 'from_dict',\n",
       " 'from_records',\n",
       " 'ge',\n",
       " 'get',\n",
       " 'groupby',\n",
       " 'gt',\n",
       " 'head',\n",
       " 'hist',\n",
       " 'iat',\n",
       " 'idxmax',\n",
       " 'idxmin',\n",
       " 'iloc',\n",
       " 'index',\n",
       " 'infer_objects',\n",
       " 'info',\n",
       " 'insert',\n",
       " 'interpolate',\n",
       " 'isetitem',\n",
       " 'isin',\n",
       " 'isna',\n",
       " 'isnull',\n",
       " 'items',\n",
       " 'iteritems',\n",
       " 'iterrows',\n",
       " 'itertuples',\n",
       " 'join',\n",
       " 'keys',\n",
       " 'kurt',\n",
       " 'kurtosis',\n",
       " 'last',\n",
       " 'last_valid_index',\n",
       " 'le',\n",
       " 'loc',\n",
       " 'lookup',\n",
       " 'lt',\n",
       " 'mad',\n",
       " 'mask',\n",
       " 'max',\n",
       " 'mean',\n",
       " 'median',\n",
       " 'melt',\n",
       " 'memory_usage',\n",
       " 'merge',\n",
       " 'min',\n",
       " 'mod',\n",
       " 'mode',\n",
       " 'mul',\n",
       " 'multiply',\n",
       " 'ndim',\n",
       " 'ne',\n",
       " 'nlargest',\n",
       " 'notna',\n",
       " 'notnull',\n",
       " 'nsmallest',\n",
       " 'nunique',\n",
       " 'pad',\n",
       " 'pct_change',\n",
       " 'pipe',\n",
       " 'pivot',\n",
       " 'pivot_table',\n",
       " 'plot',\n",
       " 'pop',\n",
       " 'pow',\n",
       " 'prod',\n",
       " 'product',\n",
       " 'quantile',\n",
       " 'query',\n",
       " 'radd',\n",
       " 'rank',\n",
       " 'rdiv',\n",
       " 'reindex',\n",
       " 'reindex_like',\n",
       " 'rename',\n",
       " 'rename_axis',\n",
       " 'reorder_levels',\n",
       " 'replace',\n",
       " 'resample',\n",
       " 'reset_index',\n",
       " 'rfloordiv',\n",
       " 'rmod',\n",
       " 'rmul',\n",
       " 'rolling',\n",
       " 'round',\n",
       " 'rpow',\n",
       " 'rsub',\n",
       " 'rtruediv',\n",
       " 'sample',\n",
       " 'select_dtypes',\n",
       " 'sem',\n",
       " 'set_axis',\n",
       " 'set_flags',\n",
       " 'set_index',\n",
       " 'sex',\n",
       " 'shape',\n",
       " 'shift',\n",
       " 'size',\n",
       " 'skew',\n",
       " 'slice_shift',\n",
       " 'smoker',\n",
       " 'sort_index',\n",
       " 'sort_values',\n",
       " 'squeeze',\n",
       " 'stack',\n",
       " 'std',\n",
       " 'style',\n",
       " 'sub',\n",
       " 'subtract',\n",
       " 'sum',\n",
       " 'swapaxes',\n",
       " 'swaplevel',\n",
       " 'tail',\n",
       " 'take',\n",
       " 'time',\n",
       " 'tip',\n",
       " 'to_clipboard',\n",
       " 'to_csv',\n",
       " 'to_dict',\n",
       " 'to_excel',\n",
       " 'to_feather',\n",
       " 'to_gbq',\n",
       " 'to_hdf',\n",
       " 'to_html',\n",
       " 'to_json',\n",
       " 'to_latex',\n",
       " 'to_markdown',\n",
       " 'to_numpy',\n",
       " 'to_orc',\n",
       " 'to_parquet',\n",
       " 'to_period',\n",
       " 'to_pickle',\n",
       " 'to_records',\n",
       " 'to_sql',\n",
       " 'to_stata',\n",
       " 'to_string',\n",
       " 'to_timestamp',\n",
       " 'to_xarray',\n",
       " 'to_xml',\n",
       " 'total_bill',\n",
       " 'transform',\n",
       " 'transpose',\n",
       " 'truediv',\n",
       " 'truncate',\n",
       " 'tz_convert',\n",
       " 'tz_localize',\n",
       " 'unstack',\n",
       " 'update',\n",
       " 'value_counts',\n",
       " 'values',\n",
       " 'var',\n",
       " 'where',\n",
       " 'xs']"
      ]
     },
     "execution_count": 18,
     "metadata": {},
     "output_type": "execute_result"
    }
   ],
   "source": [
    "dir(tips)"
   ]
  },
  {
   "cell_type": "code",
   "execution_count": 19,
   "id": "633c52f4",
   "metadata": {
    "ExecuteTime": {
     "end_time": "2023-03-20T07:05:16.786617Z",
     "start_time": "2023-03-20T07:05:16.775690Z"
    }
   },
   "outputs": [
    {
     "name": "stdout",
     "output_type": "stream",
     "text": [
      "total_bill\n",
      "tip\n",
      "sex\n",
      "smoker\n",
      "day\n",
      "time\n",
      "size\n"
     ]
    }
   ],
   "source": [
    "# for 가 돌려지는 이유는 __iter__ 있어서\n",
    "for i in tips:\n",
    "    print(i)\n",
    "    \n",
    "# 어떤 구조체하고 비슷한가? dictionary와 비슷함.\n",
    "# 컬럼명이 key, 나머지 데이터가 value.\n",
    "# 즉 value 는 Series 라고 보면 됨"
   ]
  },
  {
   "cell_type": "code",
   "execution_count": 21,
   "id": "a22cf346",
   "metadata": {
    "ExecuteTime": {
     "end_time": "2023-03-20T07:06:39.532316Z",
     "start_time": "2023-03-20T07:06:39.519422Z"
    }
   },
   "outputs": [
    {
     "data": {
      "text/plain": [
       "Index(['total_bill', 'tip', 'sex', 'smoker', 'day', 'time', 'size'], dtype='object')"
      ]
     },
     "execution_count": 21,
     "metadata": {},
     "output_type": "execute_result"
    }
   ],
   "source": [
    "tips.keys()"
   ]
  },
  {
   "cell_type": "code",
   "execution_count": 23,
   "id": "b86f88b0",
   "metadata": {
    "ExecuteTime": {
     "end_time": "2023-03-20T07:06:54.293629Z",
     "start_time": "2023-03-20T07:06:54.280322Z"
    }
   },
   "outputs": [
    {
     "data": {
      "text/plain": [
       "array([[16.99, 1.01, 'Female', ..., 'Sun', 'Dinner', 2],\n",
       "       [10.34, 1.66, 'Male', ..., 'Sun', 'Dinner', 3],\n",
       "       [21.01, 3.5, 'Male', ..., 'Sun', 'Dinner', 3],\n",
       "       ...,\n",
       "       [22.67, 2.0, 'Male', ..., 'Sat', 'Dinner', 2],\n",
       "       [17.82, 1.75, 'Male', ..., 'Sat', 'Dinner', 2],\n",
       "       [18.78, 3.0, 'Female', ..., 'Thur', 'Dinner', 2]], dtype=object)"
      ]
     },
     "execution_count": 23,
     "metadata": {},
     "output_type": "execute_result"
    }
   ],
   "source": [
    "tips.values"
   ]
  },
  {
   "cell_type": "code",
   "execution_count": 26,
   "id": "c5410bcf",
   "metadata": {
    "ExecuteTime": {
     "end_time": "2023-03-20T07:07:10.728348Z",
     "start_time": "2023-03-20T07:07:10.709177Z"
    }
   },
   "outputs": [
    {
     "data": {
      "text/plain": [
       "<bound method DataFrame.items of      total_bill   tip     sex smoker   day    time  size\n",
       "0         16.99  1.01  Female     No   Sun  Dinner     2\n",
       "1         10.34  1.66    Male     No   Sun  Dinner     3\n",
       "2         21.01  3.50    Male     No   Sun  Dinner     3\n",
       "3         23.68  3.31    Male     No   Sun  Dinner     2\n",
       "4         24.59  3.61  Female     No   Sun  Dinner     4\n",
       "..          ...   ...     ...    ...   ...     ...   ...\n",
       "239       29.03  5.92    Male     No   Sat  Dinner     3\n",
       "240       27.18  2.00  Female    Yes   Sat  Dinner     2\n",
       "241       22.67  2.00    Male    Yes   Sat  Dinner     2\n",
       "242       17.82  1.75    Male     No   Sat  Dinner     2\n",
       "243       18.78  3.00  Female     No  Thur  Dinner     2\n",
       "\n",
       "[244 rows x 7 columns]>"
      ]
     },
     "execution_count": 26,
     "metadata": {},
     "output_type": "execute_result"
    }
   ],
   "source": [
    "tips.items"
   ]
  },
  {
   "cell_type": "code",
   "execution_count": 27,
   "id": "96edd851",
   "metadata": {
    "ExecuteTime": {
     "end_time": "2023-03-20T07:07:58.893903Z",
     "start_time": "2023-03-20T07:07:58.885562Z"
    }
   },
   "outputs": [],
   "source": [
    "# 뷰란?\n",
    "# 보는 관점.\n",
    "# 딕셔너리는 보는 관점이 3가지.\n",
    "# 키만 보는 관점, 밸류만 보는 관점, 다 보는 관점\n",
    "a = {'a':1, 'b':2, 'c':2}"
   ]
  },
  {
   "cell_type": "code",
   "execution_count": 28,
   "id": "28d41aec",
   "metadata": {
    "ExecuteTime": {
     "end_time": "2023-03-20T07:08:02.127924Z",
     "start_time": "2023-03-20T07:08:02.116078Z"
    }
   },
   "outputs": [
    {
     "data": {
      "text/plain": [
       "dict_keys(['a', 'b', 'c'])"
      ]
     },
     "execution_count": 28,
     "metadata": {},
     "output_type": "execute_result"
    }
   ],
   "source": [
    "a.keys()"
   ]
  },
  {
   "cell_type": "code",
   "execution_count": 29,
   "id": "5f6679ec",
   "metadata": {
    "ExecuteTime": {
     "end_time": "2023-03-20T07:08:05.159123Z",
     "start_time": "2023-03-20T07:08:05.146999Z"
    }
   },
   "outputs": [
    {
     "data": {
      "text/plain": [
       "dict_values([1, 2, 2])"
      ]
     },
     "execution_count": 29,
     "metadata": {},
     "output_type": "execute_result"
    }
   ],
   "source": [
    "a.values()"
   ]
  },
  {
   "cell_type": "code",
   "execution_count": 30,
   "id": "8b7ff7e3",
   "metadata": {
    "ExecuteTime": {
     "end_time": "2023-03-20T07:08:09.229206Z",
     "start_time": "2023-03-20T07:08:09.213904Z"
    }
   },
   "outputs": [
    {
     "data": {
      "text/plain": [
       "dict_items([('a', 1), ('b', 2), ('c', 2)])"
      ]
     },
     "execution_count": 30,
     "metadata": {},
     "output_type": "execute_result"
    }
   ],
   "source": [
    "a.items()"
   ]
  },
  {
   "cell_type": "code",
   "execution_count": null,
   "id": "69bceb1e",
   "metadata": {},
   "outputs": [],
   "source": [
    "# 이렇게 보는 관점이 3가지. 이것을 딕셔너리 뷰라고 함.\n",
    "# 데이터프레임도 똑같음.\n",
    "# 그런데 판다스는 values() 했더니 안나옴."
   ]
  },
  {
   "cell_type": "code",
   "execution_count": 31,
   "id": "31a414ee",
   "metadata": {
    "ExecuteTime": {
     "end_time": "2023-03-20T07:09:18.997297Z",
     "start_time": "2023-03-20T07:09:18.984826Z"
    }
   },
   "outputs": [
    {
     "data": {
      "text/plain": [
       "Index(['total_bill', 'tip', 'sex', 'smoker', 'day', 'time', 'size'], dtype='object')"
      ]
     },
     "execution_count": 31,
     "metadata": {},
     "output_type": "execute_result"
    }
   ],
   "source": [
    "tips.keys()"
   ]
  },
  {
   "cell_type": "code",
   "execution_count": 32,
   "id": "ab78f40f",
   "metadata": {
    "ExecuteTime": {
     "end_time": "2023-03-20T07:09:22.538780Z",
     "start_time": "2023-03-20T07:09:22.525541Z"
    }
   },
   "outputs": [
    {
     "data": {
      "text/plain": [
       "<generator object DataFrame.items at 0x7fb898f6a8f0>"
      ]
     },
     "execution_count": 32,
     "metadata": {},
     "output_type": "execute_result"
    }
   ],
   "source": [
    "tips.items()\n",
    "# generator => next 쓰고 싶음.\n",
    "# lazy 하게 만든 이유 => 빅데이터 처리 때문에"
   ]
  },
  {
   "cell_type": "code",
   "execution_count": 33,
   "id": "640f3be4",
   "metadata": {
    "ExecuteTime": {
     "end_time": "2023-03-20T07:10:00.668042Z",
     "start_time": "2023-03-20T07:10:00.640575Z"
    }
   },
   "outputs": [
    {
     "ename": "TypeError",
     "evalue": "'numpy.ndarray' object is not callable",
     "output_type": "error",
     "traceback": [
      "\u001b[0;31m---------------------------------------------------------------------------\u001b[0m",
      "\u001b[0;31mTypeError\u001b[0m                                 Traceback (most recent call last)",
      "Cell \u001b[0;32mIn[33], line 1\u001b[0m\n\u001b[0;32m----> 1\u001b[0m \u001b[43mtips\u001b[49m\u001b[38;5;241;43m.\u001b[39;49m\u001b[43mvalues\u001b[49m\u001b[43m(\u001b[49m\u001b[43m)\u001b[49m\n",
      "\u001b[0;31mTypeError\u001b[0m: 'numpy.ndarray' object is not callable"
     ]
    }
   ],
   "source": [
    "tips.values()\n",
    "# TypeError: 'numpy.ndarray' object is not callable"
   ]
  },
  {
   "cell_type": "code",
   "execution_count": 34,
   "id": "67014615",
   "metadata": {
    "ExecuteTime": {
     "end_time": "2023-03-20T07:10:18.485183Z",
     "start_time": "2023-03-20T07:10:18.472073Z"
    }
   },
   "outputs": [
    {
     "data": {
      "text/plain": [
       "array([[16.99, 1.01, 'Female', ..., 'Sun', 'Dinner', 2],\n",
       "       [10.34, 1.66, 'Male', ..., 'Sun', 'Dinner', 3],\n",
       "       [21.01, 3.5, 'Male', ..., 'Sun', 'Dinner', 3],\n",
       "       ...,\n",
       "       [22.67, 2.0, 'Male', ..., 'Sat', 'Dinner', 2],\n",
       "       [17.82, 1.75, 'Male', ..., 'Sat', 'Dinner', 2],\n",
       "       [18.78, 3.0, 'Female', ..., 'Thur', 'Dinner', 2]], dtype=object)"
      ]
     },
     "execution_count": 34,
     "metadata": {},
     "output_type": "execute_result"
    }
   ],
   "source": [
    "tips.values\n",
    "# 넘파이 호환 데이터는 .values 해야 넘파이로 나오게 만듦.\n",
    "# 즉 넘파이라서 이렇게 나오는 것."
   ]
  },
  {
   "cell_type": "code",
   "execution_count": 35,
   "id": "b1043bf3",
   "metadata": {
    "ExecuteTime": {
     "end_time": "2023-03-20T07:11:39.224486Z",
     "start_time": "2023-03-20T07:11:39.215037Z"
    }
   },
   "outputs": [],
   "source": [
    "# 함수형 패러다임은 데이터처리에 많이 쓰임.\n",
    "# for 돌려서 컬럼명 나온 것 보니까 딕셔너리 같은 것.\n",
    "# 그렇다면 데이터 구조에 새로운 애 추가할 수 있다.\n",
    "a['d'] = 4"
   ]
  },
  {
   "cell_type": "code",
   "execution_count": 36,
   "id": "222de20b",
   "metadata": {
    "ExecuteTime": {
     "end_time": "2023-03-20T07:11:40.216090Z",
     "start_time": "2023-03-20T07:11:40.201384Z"
    }
   },
   "outputs": [
    {
     "data": {
      "text/plain": [
       "{'a': 1, 'b': 2, 'c': 2, 'd': 4}"
      ]
     },
     "execution_count": 36,
     "metadata": {},
     "output_type": "execute_result"
    }
   ],
   "source": [
    "a"
   ]
  },
  {
   "cell_type": "code",
   "execution_count": 37,
   "id": "03a6dc13",
   "metadata": {
    "ExecuteTime": {
     "end_time": "2023-03-20T07:11:53.923302Z",
     "start_time": "2023-03-20T07:11:53.911645Z"
    }
   },
   "outputs": [],
   "source": [
    "# list는 추가 안됨.\n",
    "b = [1,2,3]"
   ]
  },
  {
   "cell_type": "code",
   "execution_count": 38,
   "id": "fa2676a8",
   "metadata": {
    "ExecuteTime": {
     "end_time": "2023-03-20T07:11:57.584185Z",
     "start_time": "2023-03-20T07:11:57.557394Z"
    }
   },
   "outputs": [
    {
     "ename": "IndexError",
     "evalue": "list assignment index out of range",
     "output_type": "error",
     "traceback": [
      "\u001b[0;31m---------------------------------------------------------------------------\u001b[0m",
      "\u001b[0;31mIndexError\u001b[0m                                Traceback (most recent call last)",
      "Cell \u001b[0;32mIn[38], line 1\u001b[0m\n\u001b[0;32m----> 1\u001b[0m b[\u001b[38;5;241m3\u001b[39m] \u001b[38;5;241m=\u001b[39m \u001b[38;5;241m4\u001b[39m\n",
      "\u001b[0;31mIndexError\u001b[0m: list assignment index out of range"
     ]
    }
   ],
   "source": [
    "b[3] = 4"
   ]
  },
  {
   "cell_type": "code",
   "execution_count": null,
   "id": "7a72860a",
   "metadata": {},
   "outputs": [],
   "source": [
    "# 딕셔너리는 왜 될까? 딕셔너리의 특징이니까."
   ]
  },
  {
   "cell_type": "code",
   "execution_count": 39,
   "id": "8a7346bd",
   "metadata": {
    "ExecuteTime": {
     "end_time": "2023-03-20T07:12:31.872147Z",
     "start_time": "2023-03-20T07:12:31.860589Z"
    }
   },
   "outputs": [],
   "source": [
    "tips['study'] = 'No'"
   ]
  },
  {
   "cell_type": "code",
   "execution_count": 40,
   "id": "871afa0c",
   "metadata": {
    "ExecuteTime": {
     "end_time": "2023-03-20T07:12:40.532204Z",
     "start_time": "2023-03-20T07:12:40.505694Z"
    }
   },
   "outputs": [
    {
     "data": {
      "text/html": [
       "<div>\n",
       "<style scoped>\n",
       "    .dataframe tbody tr th:only-of-type {\n",
       "        vertical-align: middle;\n",
       "    }\n",
       "\n",
       "    .dataframe tbody tr th {\n",
       "        vertical-align: top;\n",
       "    }\n",
       "\n",
       "    .dataframe thead th {\n",
       "        text-align: right;\n",
       "    }\n",
       "</style>\n",
       "<table border=\"1\" class=\"dataframe\">\n",
       "  <thead>\n",
       "    <tr style=\"text-align: right;\">\n",
       "      <th></th>\n",
       "      <th>total_bill</th>\n",
       "      <th>tip</th>\n",
       "      <th>sex</th>\n",
       "      <th>smoker</th>\n",
       "      <th>day</th>\n",
       "      <th>time</th>\n",
       "      <th>size</th>\n",
       "      <th>study</th>\n",
       "    </tr>\n",
       "  </thead>\n",
       "  <tbody>\n",
       "    <tr>\n",
       "      <th>0</th>\n",
       "      <td>16.99</td>\n",
       "      <td>1.01</td>\n",
       "      <td>Female</td>\n",
       "      <td>No</td>\n",
       "      <td>Sun</td>\n",
       "      <td>Dinner</td>\n",
       "      <td>2</td>\n",
       "      <td>No</td>\n",
       "    </tr>\n",
       "    <tr>\n",
       "      <th>1</th>\n",
       "      <td>10.34</td>\n",
       "      <td>1.66</td>\n",
       "      <td>Male</td>\n",
       "      <td>No</td>\n",
       "      <td>Sun</td>\n",
       "      <td>Dinner</td>\n",
       "      <td>3</td>\n",
       "      <td>No</td>\n",
       "    </tr>\n",
       "    <tr>\n",
       "      <th>2</th>\n",
       "      <td>21.01</td>\n",
       "      <td>3.50</td>\n",
       "      <td>Male</td>\n",
       "      <td>No</td>\n",
       "      <td>Sun</td>\n",
       "      <td>Dinner</td>\n",
       "      <td>3</td>\n",
       "      <td>No</td>\n",
       "    </tr>\n",
       "    <tr>\n",
       "      <th>3</th>\n",
       "      <td>23.68</td>\n",
       "      <td>3.31</td>\n",
       "      <td>Male</td>\n",
       "      <td>No</td>\n",
       "      <td>Sun</td>\n",
       "      <td>Dinner</td>\n",
       "      <td>2</td>\n",
       "      <td>No</td>\n",
       "    </tr>\n",
       "    <tr>\n",
       "      <th>4</th>\n",
       "      <td>24.59</td>\n",
       "      <td>3.61</td>\n",
       "      <td>Female</td>\n",
       "      <td>No</td>\n",
       "      <td>Sun</td>\n",
       "      <td>Dinner</td>\n",
       "      <td>4</td>\n",
       "      <td>No</td>\n",
       "    </tr>\n",
       "    <tr>\n",
       "      <th>...</th>\n",
       "      <td>...</td>\n",
       "      <td>...</td>\n",
       "      <td>...</td>\n",
       "      <td>...</td>\n",
       "      <td>...</td>\n",
       "      <td>...</td>\n",
       "      <td>...</td>\n",
       "      <td>...</td>\n",
       "    </tr>\n",
       "    <tr>\n",
       "      <th>239</th>\n",
       "      <td>29.03</td>\n",
       "      <td>5.92</td>\n",
       "      <td>Male</td>\n",
       "      <td>No</td>\n",
       "      <td>Sat</td>\n",
       "      <td>Dinner</td>\n",
       "      <td>3</td>\n",
       "      <td>No</td>\n",
       "    </tr>\n",
       "    <tr>\n",
       "      <th>240</th>\n",
       "      <td>27.18</td>\n",
       "      <td>2.00</td>\n",
       "      <td>Female</td>\n",
       "      <td>Yes</td>\n",
       "      <td>Sat</td>\n",
       "      <td>Dinner</td>\n",
       "      <td>2</td>\n",
       "      <td>No</td>\n",
       "    </tr>\n",
       "    <tr>\n",
       "      <th>241</th>\n",
       "      <td>22.67</td>\n",
       "      <td>2.00</td>\n",
       "      <td>Male</td>\n",
       "      <td>Yes</td>\n",
       "      <td>Sat</td>\n",
       "      <td>Dinner</td>\n",
       "      <td>2</td>\n",
       "      <td>No</td>\n",
       "    </tr>\n",
       "    <tr>\n",
       "      <th>242</th>\n",
       "      <td>17.82</td>\n",
       "      <td>1.75</td>\n",
       "      <td>Male</td>\n",
       "      <td>No</td>\n",
       "      <td>Sat</td>\n",
       "      <td>Dinner</td>\n",
       "      <td>2</td>\n",
       "      <td>No</td>\n",
       "    </tr>\n",
       "    <tr>\n",
       "      <th>243</th>\n",
       "      <td>18.78</td>\n",
       "      <td>3.00</td>\n",
       "      <td>Female</td>\n",
       "      <td>No</td>\n",
       "      <td>Thur</td>\n",
       "      <td>Dinner</td>\n",
       "      <td>2</td>\n",
       "      <td>No</td>\n",
       "    </tr>\n",
       "  </tbody>\n",
       "</table>\n",
       "<p>244 rows × 8 columns</p>\n",
       "</div>"
      ],
      "text/plain": [
       "     total_bill   tip     sex smoker   day    time  size study\n",
       "0         16.99  1.01  Female     No   Sun  Dinner     2    No\n",
       "1         10.34  1.66    Male     No   Sun  Dinner     3    No\n",
       "2         21.01  3.50    Male     No   Sun  Dinner     3    No\n",
       "3         23.68  3.31    Male     No   Sun  Dinner     2    No\n",
       "4         24.59  3.61  Female     No   Sun  Dinner     4    No\n",
       "..          ...   ...     ...    ...   ...     ...   ...   ...\n",
       "239       29.03  5.92    Male     No   Sat  Dinner     3    No\n",
       "240       27.18  2.00  Female    Yes   Sat  Dinner     2    No\n",
       "241       22.67  2.00    Male    Yes   Sat  Dinner     2    No\n",
       "242       17.82  1.75    Male     No   Sat  Dinner     2    No\n",
       "243       18.78  3.00  Female     No  Thur  Dinner     2    No\n",
       "\n",
       "[244 rows x 8 columns]"
      ]
     },
     "execution_count": 40,
     "metadata": {},
     "output_type": "execute_result"
    }
   ],
   "source": [
    "tips\n",
    "# 브로드캐스팅"
   ]
  },
  {
   "cell_type": "code",
   "execution_count": null,
   "id": "b5aa02f2",
   "metadata": {},
   "outputs": [],
   "source": [
    "# 즉 넘파이로 만들었음을 여실히 느낌.\n",
    "# 텐서도 넘파이로 만들었음.\n",
    "# 지금까지 배웠던 것은 넘파이와 파이썬에서 우리가 배웠던 것들을 알면 다 됨."
   ]
  },
  {
   "cell_type": "code",
   "execution_count": null,
   "id": "a66ec39c",
   "metadata": {},
   "outputs": [],
   "source": [
    "# 이제 판다스"
   ]
  },
  {
   "cell_type": "code",
   "execution_count": 41,
   "id": "6a93501e",
   "metadata": {
    "ExecuteTime": {
     "end_time": "2023-03-20T07:15:01.808968Z",
     "start_time": "2023-03-20T07:15:01.784469Z"
    }
   },
   "outputs": [
    {
     "data": {
      "text/html": [
       "<div>\n",
       "<style scoped>\n",
       "    .dataframe tbody tr th:only-of-type {\n",
       "        vertical-align: middle;\n",
       "    }\n",
       "\n",
       "    .dataframe tbody tr th {\n",
       "        vertical-align: top;\n",
       "    }\n",
       "\n",
       "    .dataframe thead th {\n",
       "        text-align: right;\n",
       "    }\n",
       "</style>\n",
       "<table border=\"1\" class=\"dataframe\">\n",
       "  <thead>\n",
       "    <tr style=\"text-align: right;\">\n",
       "      <th></th>\n",
       "      <th>total_bill</th>\n",
       "      <th>tip</th>\n",
       "      <th>sex</th>\n",
       "      <th>smoker</th>\n",
       "      <th>day</th>\n",
       "      <th>time</th>\n",
       "      <th>size</th>\n",
       "      <th>study</th>\n",
       "    </tr>\n",
       "  </thead>\n",
       "  <tbody>\n",
       "    <tr>\n",
       "      <th>0</th>\n",
       "      <td>16.99</td>\n",
       "      <td>1.01</td>\n",
       "      <td>Female</td>\n",
       "      <td>No</td>\n",
       "      <td>Sun</td>\n",
       "      <td>Dinner</td>\n",
       "      <td>2</td>\n",
       "      <td>No</td>\n",
       "    </tr>\n",
       "    <tr>\n",
       "      <th>1</th>\n",
       "      <td>10.34</td>\n",
       "      <td>1.66</td>\n",
       "      <td>Male</td>\n",
       "      <td>No</td>\n",
       "      <td>Sun</td>\n",
       "      <td>Dinner</td>\n",
       "      <td>3</td>\n",
       "      <td>No</td>\n",
       "    </tr>\n",
       "    <tr>\n",
       "      <th>2</th>\n",
       "      <td>21.01</td>\n",
       "      <td>3.50</td>\n",
       "      <td>Male</td>\n",
       "      <td>No</td>\n",
       "      <td>Sun</td>\n",
       "      <td>Dinner</td>\n",
       "      <td>3</td>\n",
       "      <td>No</td>\n",
       "    </tr>\n",
       "    <tr>\n",
       "      <th>3</th>\n",
       "      <td>23.68</td>\n",
       "      <td>3.31</td>\n",
       "      <td>Male</td>\n",
       "      <td>No</td>\n",
       "      <td>Sun</td>\n",
       "      <td>Dinner</td>\n",
       "      <td>2</td>\n",
       "      <td>No</td>\n",
       "    </tr>\n",
       "    <tr>\n",
       "      <th>4</th>\n",
       "      <td>24.59</td>\n",
       "      <td>3.61</td>\n",
       "      <td>Female</td>\n",
       "      <td>No</td>\n",
       "      <td>Sun</td>\n",
       "      <td>Dinner</td>\n",
       "      <td>4</td>\n",
       "      <td>No</td>\n",
       "    </tr>\n",
       "    <tr>\n",
       "      <th>...</th>\n",
       "      <td>...</td>\n",
       "      <td>...</td>\n",
       "      <td>...</td>\n",
       "      <td>...</td>\n",
       "      <td>...</td>\n",
       "      <td>...</td>\n",
       "      <td>...</td>\n",
       "      <td>...</td>\n",
       "    </tr>\n",
       "    <tr>\n",
       "      <th>239</th>\n",
       "      <td>29.03</td>\n",
       "      <td>5.92</td>\n",
       "      <td>Male</td>\n",
       "      <td>No</td>\n",
       "      <td>Sat</td>\n",
       "      <td>Dinner</td>\n",
       "      <td>3</td>\n",
       "      <td>No</td>\n",
       "    </tr>\n",
       "    <tr>\n",
       "      <th>240</th>\n",
       "      <td>27.18</td>\n",
       "      <td>2.00</td>\n",
       "      <td>Female</td>\n",
       "      <td>Yes</td>\n",
       "      <td>Sat</td>\n",
       "      <td>Dinner</td>\n",
       "      <td>2</td>\n",
       "      <td>No</td>\n",
       "    </tr>\n",
       "    <tr>\n",
       "      <th>241</th>\n",
       "      <td>22.67</td>\n",
       "      <td>2.00</td>\n",
       "      <td>Male</td>\n",
       "      <td>Yes</td>\n",
       "      <td>Sat</td>\n",
       "      <td>Dinner</td>\n",
       "      <td>2</td>\n",
       "      <td>No</td>\n",
       "    </tr>\n",
       "    <tr>\n",
       "      <th>242</th>\n",
       "      <td>17.82</td>\n",
       "      <td>1.75</td>\n",
       "      <td>Male</td>\n",
       "      <td>No</td>\n",
       "      <td>Sat</td>\n",
       "      <td>Dinner</td>\n",
       "      <td>2</td>\n",
       "      <td>No</td>\n",
       "    </tr>\n",
       "    <tr>\n",
       "      <th>243</th>\n",
       "      <td>18.78</td>\n",
       "      <td>3.00</td>\n",
       "      <td>Female</td>\n",
       "      <td>No</td>\n",
       "      <td>Thur</td>\n",
       "      <td>Dinner</td>\n",
       "      <td>2</td>\n",
       "      <td>No</td>\n",
       "    </tr>\n",
       "  </tbody>\n",
       "</table>\n",
       "<p>244 rows × 8 columns</p>\n",
       "</div>"
      ],
      "text/plain": [
       "     total_bill   tip     sex smoker   day    time  size study\n",
       "0         16.99  1.01  Female     No   Sun  Dinner     2    No\n",
       "1         10.34  1.66    Male     No   Sun  Dinner     3    No\n",
       "2         21.01  3.50    Male     No   Sun  Dinner     3    No\n",
       "3         23.68  3.31    Male     No   Sun  Dinner     2    No\n",
       "4         24.59  3.61  Female     No   Sun  Dinner     4    No\n",
       "..          ...   ...     ...    ...   ...     ...   ...   ...\n",
       "239       29.03  5.92    Male     No   Sat  Dinner     3    No\n",
       "240       27.18  2.00  Female    Yes   Sat  Dinner     2    No\n",
       "241       22.67  2.00    Male    Yes   Sat  Dinner     2    No\n",
       "242       17.82  1.75    Male     No   Sat  Dinner     2    No\n",
       "243       18.78  3.00  Female     No  Thur  Dinner     2    No\n",
       "\n",
       "[244 rows x 8 columns]"
      ]
     },
     "execution_count": 41,
     "metadata": {},
     "output_type": "execute_result"
    }
   ],
   "source": [
    "# 기본적 데이터 구조는 데이터프레임과 시리즈\n",
    "tips\n",
    "# 이것은 일반적인 용어."
   ]
  },
  {
   "cell_type": "code",
   "execution_count": 42,
   "id": "6e91e006",
   "metadata": {
    "ExecuteTime": {
     "end_time": "2023-03-20T07:15:50.042241Z",
     "start_time": "2023-03-20T07:15:50.027363Z"
    }
   },
   "outputs": [
    {
     "data": {
      "text/plain": [
       "Index(['total_bill', 'tip', 'sex', 'smoker', 'day', 'time', 'size', 'study'], dtype='object')"
      ]
     },
     "execution_count": 42,
     "metadata": {},
     "output_type": "execute_result"
    }
   ],
   "source": [
    "# 맨 위에 있는 것을 컬럼이라고 함\n",
    "# 맨 왼쪽에 있는 것을 인덱스라고 함\n",
    "tips.columns"
   ]
  },
  {
   "cell_type": "code",
   "execution_count": 43,
   "id": "e4516050",
   "metadata": {
    "ExecuteTime": {
     "end_time": "2023-03-20T07:15:55.582675Z",
     "start_time": "2023-03-20T07:15:55.574259Z"
    }
   },
   "outputs": [
    {
     "data": {
      "text/plain": [
       "RangeIndex(start=0, stop=244, step=1)"
      ]
     },
     "execution_count": 43,
     "metadata": {},
     "output_type": "execute_result"
    }
   ],
   "source": [
    "tips.index\n",
    "# 인덱스 기반으로 데이터 꼭 찝어서 뽑아올 수 있음"
   ]
  },
  {
   "cell_type": "code",
   "execution_count": null,
   "id": "a28f9839",
   "metadata": {},
   "outputs": [],
   "source": [
    "# 그런데 DB와 달리 인덱스가 고유할 필요가 없음\n",
    "# 고유하지 않아도 가능함."
   ]
  },
  {
   "cell_type": "code",
   "execution_count": null,
   "id": "6196e22c",
   "metadata": {},
   "outputs": [],
   "source": [
    "# 이름을 보니까 엑셀하고 비슷함. sql하고도 비슷함\n",
    "# 판다스라는 것은 프로그래밍 엑셀이라고 알려줌. 엑셀에 있는 내용을 프로그래밍을 통해서 하는 것. 그것을 판다스라고 생각하면 됨.\n",
    "# 판다스는 엑셀과 sql 사이에 있다고 생각하면 됨.\n",
    "# 기능은 sql보다 조금 약하고 엑셀보다 강함.\n",
    "# 편의성은 엑셀보다 불편하지만 sql보다는 편함.\n",
    "# 중앙에 있지만 가장 많은 것을 할 수 있음. 데이터 분석의 80% 이상은 판다스로 해결이 다 됨.\n",
    "# 그런데 전문가는 2% 즉 sql로 승부를 가림. 우리는 프로그래밍 엑셀 측면에서 이야기해보자(처음배우는 관점으로)"
   ]
  },
  {
   "cell_type": "code",
   "execution_count": null,
   "id": "a3a96346",
   "metadata": {},
   "outputs": [],
   "source": [
    "# 맨 처음에 불러오는 기능이 많음\n",
    "# 우리는 이미 있는 데이터 수집해서 또는 받아서 하는 경우가 많기 때문에.\n",
    "# 따라서 제일 먼저, 불러오는 것을 할 줄 알아야 함."
   ]
  },
  {
   "cell_type": "markdown",
   "id": "1500f848",
   "metadata": {},
   "source": [
    "##### 판다스 데이터 불러오기"
   ]
  },
  {
   "cell_type": "code",
   "execution_count": 44,
   "id": "6bfd4806",
   "metadata": {
    "ExecuteTime": {
     "end_time": "2023-03-20T07:21:11.067300Z",
     "start_time": "2023-03-20T07:21:11.059143Z"
    }
   },
   "outputs": [],
   "source": [
    "import pandas as pd"
   ]
  },
  {
   "cell_type": "code",
   "execution_count": null,
   "id": "02e2eabe",
   "metadata": {},
   "outputs": [],
   "source": [
    "# 빅데이터에서 많이 씀\n",
    "pd.read_parquet, pd.read_sql\n",
    "# 데이터는 돈. 그래서 DB에 회사가 투자하는 것."
   ]
  },
  {
   "cell_type": "code",
   "execution_count": null,
   "id": "c787a174",
   "metadata": {},
   "outputs": [],
   "source": [
    "pd.read_csv()\n",
    "# filepath_or_buffer: 'FilePath | ReadCsvBuffer[bytes] | ReadCsvBuffer[str]' => annotation의 확장. typing이라 함.\n",
    "# 파이썬 3.5부터 개발자들이\n",
    "# 위는 옵션이고 recommendation 임."
   ]
  },
  {
   "cell_type": "code",
   "execution_count": 46,
   "id": "2705654c",
   "metadata": {
    "ExecuteTime": {
     "end_time": "2023-03-20T07:45:44.171555Z",
     "start_time": "2023-03-20T07:45:44.163755Z"
    }
   },
   "outputs": [],
   "source": [
    "# 'FilePath | ReadCsvBuffer[bytes] | ReadCsvBuffer[str]' 는 파이썬에 있던 기호\n",
    "a = 0b10101\n",
    "b = 0b10001\n",
    "# 2진수"
   ]
  },
  {
   "cell_type": "code",
   "execution_count": 48,
   "id": "517142f5",
   "metadata": {
    "ExecuteTime": {
     "end_time": "2023-03-20T07:46:05.833919Z",
     "start_time": "2023-03-20T07:46:05.819263Z"
    }
   },
   "outputs": [
    {
     "data": {
      "text/plain": [
       "21"
      ]
     },
     "execution_count": 48,
     "metadata": {},
     "output_type": "execute_result"
    }
   ],
   "source": [
    "int(a)"
   ]
  },
  {
   "cell_type": "code",
   "execution_count": 49,
   "id": "c55faca1",
   "metadata": {
    "ExecuteTime": {
     "end_time": "2023-03-20T07:46:18.587695Z",
     "start_time": "2023-03-20T07:46:18.575100Z"
    }
   },
   "outputs": [
    {
     "data": {
      "text/plain": [
       "17"
      ]
     },
     "execution_count": 49,
     "metadata": {},
     "output_type": "execute_result"
    }
   ],
   "source": [
    "int(b)"
   ]
  },
  {
   "cell_type": "code",
   "execution_count": 47,
   "id": "258e2149",
   "metadata": {
    "ExecuteTime": {
     "end_time": "2023-03-20T07:45:50.641432Z",
     "start_time": "2023-03-20T07:45:50.628089Z"
    }
   },
   "outputs": [
    {
     "data": {
      "text/plain": [
       "17"
      ]
     },
     "execution_count": 47,
     "metadata": {},
     "output_type": "execute_result"
    }
   ],
   "source": [
    "a & b\n",
    "# 1---1\n",
    "# 16---1\n",
    "# 1로 같으면 1이고 아니면 0"
   ]
  },
  {
   "cell_type": "code",
   "execution_count": 50,
   "id": "857dd938",
   "metadata": {
    "ExecuteTime": {
     "end_time": "2023-03-20T07:47:28.466782Z",
     "start_time": "2023-03-20T07:47:28.460407Z"
    }
   },
   "outputs": [],
   "source": [
    "c = 0b10001\n",
    "# 2의 4승과 2의 0승"
   ]
  },
  {
   "cell_type": "code",
   "execution_count": 51,
   "id": "2fdca590",
   "metadata": {
    "ExecuteTime": {
     "end_time": "2023-03-20T07:47:30.313728Z",
     "start_time": "2023-03-20T07:47:30.301430Z"
    }
   },
   "outputs": [
    {
     "data": {
      "text/plain": [
       "17"
      ]
     },
     "execution_count": 51,
     "metadata": {},
     "output_type": "execute_result"
    }
   ],
   "source": [
    "int(c)"
   ]
  },
  {
   "cell_type": "code",
   "execution_count": 52,
   "id": "8e5a6cf6",
   "metadata": {
    "ExecuteTime": {
     "end_time": "2023-03-20T07:47:50.173466Z",
     "start_time": "2023-03-20T07:47:50.162632Z"
    }
   },
   "outputs": [
    {
     "data": {
      "text/plain": [
       "21"
      ]
     },
     "execution_count": 52,
     "metadata": {},
     "output_type": "execute_result"
    }
   ],
   "source": [
    "# or\n",
    "a | b\n",
    "# 둘 중에 한개라도 1이 있으면 1"
   ]
  },
  {
   "cell_type": "code",
   "execution_count": 53,
   "id": "63798bfc",
   "metadata": {
    "ExecuteTime": {
     "end_time": "2023-03-20T07:48:19.357709Z",
     "start_time": "2023-03-20T07:48:19.348507Z"
    }
   },
   "outputs": [],
   "source": [
    "d = 0b10101"
   ]
  },
  {
   "cell_type": "code",
   "execution_count": 54,
   "id": "895349eb",
   "metadata": {
    "ExecuteTime": {
     "end_time": "2023-03-20T07:48:21.527569Z",
     "start_time": "2023-03-20T07:48:21.516173Z"
    }
   },
   "outputs": [
    {
     "data": {
      "text/plain": [
       "21"
      ]
     },
     "execution_count": 54,
     "metadata": {},
     "output_type": "execute_result"
    }
   ],
   "source": [
    "int(d)"
   ]
  },
  {
   "cell_type": "code",
   "execution_count": 55,
   "id": "57df87e5",
   "metadata": {
    "ExecuteTime": {
     "end_time": "2023-03-20T07:49:09.849539Z",
     "start_time": "2023-03-20T07:49:09.839450Z"
    }
   },
   "outputs": [],
   "source": [
    "# 우리는 이런 비슷한 개념을 배운 적 있음.\n",
    "# set 집합.\n",
    "a = {1,2,3,4}\n",
    "b = {2,3,4}"
   ]
  },
  {
   "cell_type": "code",
   "execution_count": 56,
   "id": "746de924",
   "metadata": {
    "ExecuteTime": {
     "end_time": "2023-03-20T07:49:14.212828Z",
     "start_time": "2023-03-20T07:49:14.200600Z"
    }
   },
   "outputs": [
    {
     "data": {
      "text/plain": [
       "{2, 3, 4}"
      ]
     },
     "execution_count": 56,
     "metadata": {},
     "output_type": "execute_result"
    }
   ],
   "source": [
    "a & b\n",
    "# 교집합"
   ]
  },
  {
   "cell_type": "code",
   "execution_count": null,
   "id": "7c34131b",
   "metadata": {},
   "outputs": [],
   "source": [
    "# 정수에서 쓸 때와 set에서 쓸 때 비슷하지만 다름 => 이런 것을 객체지향에서 \"다형성\"\n",
    "# 연산자 오버로딩."
   ]
  },
  {
   "cell_type": "code",
   "execution_count": 57,
   "id": "77221a70",
   "metadata": {
    "ExecuteTime": {
     "end_time": "2023-03-20T07:50:42.072814Z",
     "start_time": "2023-03-20T07:50:42.058502Z"
    }
   },
   "outputs": [],
   "source": [
    "a = np.arange(24).reshape(4,6)"
   ]
  },
  {
   "cell_type": "code",
   "execution_count": 58,
   "id": "03a8ec06",
   "metadata": {
    "ExecuteTime": {
     "end_time": "2023-03-20T07:50:43.507403Z",
     "start_time": "2023-03-20T07:50:43.494667Z"
    }
   },
   "outputs": [
    {
     "data": {
      "text/plain": [
       "array([[ 0,  1,  2,  3,  4,  5],\n",
       "       [ 6,  7,  8,  9, 10, 11],\n",
       "       [12, 13, 14, 15, 16, 17],\n",
       "       [18, 19, 20, 21, 22, 23]])"
      ]
     },
     "execution_count": 58,
     "metadata": {},
     "output_type": "execute_result"
    }
   ],
   "source": [
    "a"
   ]
  },
  {
   "cell_type": "code",
   "execution_count": 59,
   "id": "409becfa",
   "metadata": {
    "ExecuteTime": {
     "end_time": "2023-03-20T07:50:59.947063Z",
     "start_time": "2023-03-20T07:50:59.924480Z"
    }
   },
   "outputs": [
    {
     "ename": "ValueError",
     "evalue": "The truth value of an array with more than one element is ambiguous. Use a.any() or a.all()",
     "output_type": "error",
     "traceback": [
      "\u001b[0;31m---------------------------------------------------------------------------\u001b[0m",
      "\u001b[0;31mValueError\u001b[0m                                Traceback (most recent call last)",
      "Cell \u001b[0;32mIn[59], line 1\u001b[0m\n\u001b[0;32m----> 1\u001b[0m a[a\u001b[38;5;241m>\u001b[39m\u001b[38;5;241m7\u001b[39m \u001b[38;5;241m&\u001b[39m a\u001b[38;5;241m<\u001b[39m\u001b[38;5;241m14\u001b[39m]\n",
      "\u001b[0;31mValueError\u001b[0m: The truth value of an array with more than one element is ambiguous. Use a.any() or a.all()"
     ]
    }
   ],
   "source": [
    "a[a>7 & a<14]\n",
    "# 연산자 우선순위 때문에 에러가 남"
   ]
  },
  {
   "cell_type": "code",
   "execution_count": 60,
   "id": "79ed9c87",
   "metadata": {
    "ExecuteTime": {
     "end_time": "2023-03-20T07:51:21.468559Z",
     "start_time": "2023-03-20T07:51:21.454550Z"
    }
   },
   "outputs": [
    {
     "data": {
      "text/plain": [
       "array([ 8,  9, 10, 11, 12, 13])"
      ]
     },
     "execution_count": 60,
     "metadata": {},
     "output_type": "execute_result"
    }
   ],
   "source": [
    "a[(a>7) & (a<14)]"
   ]
  },
  {
   "cell_type": "code",
   "execution_count": 61,
   "id": "c1a329a4",
   "metadata": {
    "ExecuteTime": {
     "end_time": "2023-03-20T07:51:35.905688Z",
     "start_time": "2023-03-20T07:51:35.891337Z"
    }
   },
   "outputs": [
    {
     "data": {
      "text/plain": [
       "array([ 0,  1,  2,  3,  4,  5,  6,  7,  8,  9, 10, 11, 12, 13, 14, 15, 16,\n",
       "       17, 18, 19, 20, 21, 22, 23])"
      ]
     },
     "execution_count": 61,
     "metadata": {},
     "output_type": "execute_result"
    }
   ],
   "source": [
    "a[(a>7) | (a<14)]"
   ]
  },
  {
   "cell_type": "code",
   "execution_count": 62,
   "id": "c7f061db",
   "metadata": {
    "ExecuteTime": {
     "end_time": "2023-03-20T07:51:45.746566Z",
     "start_time": "2023-03-20T07:51:45.737086Z"
    }
   },
   "outputs": [
    {
     "data": {
      "text/plain": [
       "array([ 8,  9, 10, 11, 12, 13, 14, 15, 16, 17, 18, 19, 20, 21, 22, 23])"
      ]
     },
     "execution_count": 62,
     "metadata": {},
     "output_type": "execute_result"
    }
   ],
   "source": [
    "a[(a>7) | ~(a<14)]"
   ]
  },
  {
   "cell_type": "code",
   "execution_count": 64,
   "id": "6bd53507",
   "metadata": {
    "ExecuteTime": {
     "end_time": "2023-03-20T07:53:29.755168Z",
     "start_time": "2023-03-20T07:53:29.743713Z"
    }
   },
   "outputs": [
    {
     "data": {
      "text/plain": [
       "{1}"
      ]
     },
     "execution_count": 64,
     "metadata": {},
     "output_type": "execute_result"
    }
   ],
   "source": [
    "# xor 가 대칭차집합\n",
    "a = {1,2,3,4}\n",
    "b = {2,3,4}\n",
    "a ^ b"
   ]
  },
  {
   "cell_type": "code",
   "execution_count": null,
   "id": "d22ed8f1",
   "metadata": {},
   "outputs": [],
   "source": [
    "# 우리는 위에서 typing을 봄. | 이게 optional.\n",
    "# 이거 또는 이거를 합집합. Union"
   ]
  },
  {
   "cell_type": "code",
   "execution_count": null,
   "id": "94082f5b",
   "metadata": {},
   "outputs": [],
   "source": [
    "pd.read_csv\n",
    "# filepath_or_buffer: 'FilePath | ReadCsvBuffer[bytes] | ReadCsvBuffer[str]' => 가이드를 주는 것\n",
    "# 실제 입력해야 하는 것은 1개"
   ]
  },
  {
   "cell_type": "code",
   "execution_count": null,
   "id": "9e23d069",
   "metadata": {},
   "outputs": [],
   "source": [
    "# 데이터 처리 첫번째 수업시간에 하는 이야기는\n",
    "# 데이터는 더럽다. messy.\n",
    "# 데이터 전처리, data cleaning\n",
    "# 따라서 불러들이는 것부터 난관.\n",
    "# 그래서 옵션이 진짜 많은 것"
   ]
  },
  {
   "cell_type": "code",
   "execution_count": null,
   "id": "bbcb8a63",
   "metadata": {},
   "outputs": [],
   "source": [
    "# 넘파이를 기반으로 만들어진 것.\n",
    "# 그래서 넘파이도 불러오는 게 있음\n",
    "np.loadtxt\n",
    "# 넘파이는 기본적으로 structured array.\n",
    "# 판다스로 불러들이고 .values 하면 넘파이로 변환됨\n",
    "np.genfromtxt\n",
    "# 이 두개로 일반 텍스트파일 불러와서 넘파이 형태로 만들 수 있지만, 모든 에러를 대체하기는 불가능함.\n",
    "# 이 파트를 데이터 ingestion 이라고 함(데이터를 불러들이는 것)\n",
    "# 소스로부터 데이터를 갖고 오는 것."
   ]
  },
  {
   "cell_type": "code",
   "execution_count": null,
   "id": "d575acdc",
   "metadata": {},
   "outputs": [],
   "source": [
    "# 데이터를 불러오는 것이 만만치 않음. 불러들이는 옵션이 많은 이유는 매번 상황이 다르기 때문"
   ]
  },
  {
   "cell_type": "code",
   "execution_count": 66,
   "id": "a434b1c2",
   "metadata": {
    "ExecuteTime": {
     "end_time": "2023-03-20T08:09:04.448065Z",
     "start_time": "2023-03-20T08:09:04.419055Z"
    }
   },
   "outputs": [
    {
     "data": {
      "text/html": [
       "<div>\n",
       "<style scoped>\n",
       "    .dataframe tbody tr th:only-of-type {\n",
       "        vertical-align: middle;\n",
       "    }\n",
       "\n",
       "    .dataframe tbody tr th {\n",
       "        vertical-align: top;\n",
       "    }\n",
       "\n",
       "    .dataframe thead th {\n",
       "        text-align: right;\n",
       "    }\n",
       "</style>\n",
       "<table border=\"1\" class=\"dataframe\">\n",
       "  <thead>\n",
       "    <tr style=\"text-align: right;\">\n",
       "      <th></th>\n",
       "      <th>시도</th>\n",
       "      <th>2011년</th>\n",
       "      <th>2012년</th>\n",
       "      <th>2013년</th>\n",
       "      <th>2014년</th>\n",
       "      <th>2015년</th>\n",
       "      <th>2016년</th>\n",
       "      <th>2017년</th>\n",
       "      <th>2018년</th>\n",
       "      <th>2019년</th>\n",
       "      <th>2020년</th>\n",
       "    </tr>\n",
       "  </thead>\n",
       "  <tbody>\n",
       "    <tr>\n",
       "      <th>0</th>\n",
       "      <td>부산광역시</td>\n",
       "      <td>20</td>\n",
       "      <td>49</td>\n",
       "      <td>87</td>\n",
       "      <td>99</td>\n",
       "      <td>110</td>\n",
       "      <td>124</td>\n",
       "      <td>143</td>\n",
       "      <td>160</td>\n",
       "      <td>174</td>\n",
       "      <td>156</td>\n",
       "    </tr>\n",
       "    <tr>\n",
       "      <th>1</th>\n",
       "      <td>대구광역시</td>\n",
       "      <td>45</td>\n",
       "      <td>56</td>\n",
       "      <td>86</td>\n",
       "      <td>96</td>\n",
       "      <td>104</td>\n",
       "      <td>103</td>\n",
       "      <td>113</td>\n",
       "      <td>117</td>\n",
       "      <td>114</td>\n",
       "      <td>101</td>\n",
       "    </tr>\n",
       "    <tr>\n",
       "      <th>2</th>\n",
       "      <td>인천광역시</td>\n",
       "      <td>32</td>\n",
       "      <td>31</td>\n",
       "      <td>70</td>\n",
       "      <td>79</td>\n",
       "      <td>91</td>\n",
       "      <td>111</td>\n",
       "      <td>124</td>\n",
       "      <td>133</td>\n",
       "      <td>136</td>\n",
       "      <td>130</td>\n",
       "    </tr>\n",
       "    <tr>\n",
       "      <th>3</th>\n",
       "      <td>광주광역시</td>\n",
       "      <td>21</td>\n",
       "      <td>25</td>\n",
       "      <td>40</td>\n",
       "      <td>46</td>\n",
       "      <td>56</td>\n",
       "      <td>75</td>\n",
       "      <td>87</td>\n",
       "      <td>97</td>\n",
       "      <td>90</td>\n",
       "      <td>85</td>\n",
       "    </tr>\n",
       "    <tr>\n",
       "      <th>4</th>\n",
       "      <td>대전광역시</td>\n",
       "      <td>43</td>\n",
       "      <td>49</td>\n",
       "      <td>88</td>\n",
       "      <td>95</td>\n",
       "      <td>99</td>\n",
       "      <td>136</td>\n",
       "      <td>141</td>\n",
       "      <td>147</td>\n",
       "      <td>141</td>\n",
       "      <td>124</td>\n",
       "    </tr>\n",
       "    <tr>\n",
       "      <th>5</th>\n",
       "      <td>울산광역시</td>\n",
       "      <td>40</td>\n",
       "      <td>39</td>\n",
       "      <td>59</td>\n",
       "      <td>60</td>\n",
       "      <td>65</td>\n",
       "      <td>83</td>\n",
       "      <td>97</td>\n",
       "      <td>106</td>\n",
       "      <td>103</td>\n",
       "      <td>93</td>\n",
       "    </tr>\n",
       "    <tr>\n",
       "      <th>6</th>\n",
       "      <td>세종특별자치시</td>\n",
       "      <td>0</td>\n",
       "      <td>2</td>\n",
       "      <td>8</td>\n",
       "      <td>10</td>\n",
       "      <td>11</td>\n",
       "      <td>14</td>\n",
       "      <td>17</td>\n",
       "      <td>19</td>\n",
       "      <td>19</td>\n",
       "      <td>14</td>\n",
       "    </tr>\n",
       "    <tr>\n",
       "      <th>7</th>\n",
       "      <td>경기도</td>\n",
       "      <td>184</td>\n",
       "      <td>197</td>\n",
       "      <td>404</td>\n",
       "      <td>435</td>\n",
       "      <td>495</td>\n",
       "      <td>590</td>\n",
       "      <td>609</td>\n",
       "      <td>609</td>\n",
       "      <td>648</td>\n",
       "      <td>613</td>\n",
       "    </tr>\n",
       "    <tr>\n",
       "      <th>8</th>\n",
       "      <td>강원도</td>\n",
       "      <td>32</td>\n",
       "      <td>41</td>\n",
       "      <td>90</td>\n",
       "      <td>93</td>\n",
       "      <td>98</td>\n",
       "      <td>109</td>\n",
       "      <td>110</td>\n",
       "      <td>112</td>\n",
       "      <td>108</td>\n",
       "      <td>103</td>\n",
       "    </tr>\n",
       "    <tr>\n",
       "      <th>9</th>\n",
       "      <td>충청북도</td>\n",
       "      <td>31</td>\n",
       "      <td>31</td>\n",
       "      <td>67</td>\n",
       "      <td>72</td>\n",
       "      <td>78</td>\n",
       "      <td>84</td>\n",
       "      <td>89</td>\n",
       "      <td>92</td>\n",
       "      <td>89</td>\n",
       "      <td>82</td>\n",
       "    </tr>\n",
       "    <tr>\n",
       "      <th>10</th>\n",
       "      <td>충청남도</td>\n",
       "      <td>23</td>\n",
       "      <td>28</td>\n",
       "      <td>96</td>\n",
       "      <td>95</td>\n",
       "      <td>101</td>\n",
       "      <td>103</td>\n",
       "      <td>112</td>\n",
       "      <td>112</td>\n",
       "      <td>92</td>\n",
       "      <td>83</td>\n",
       "    </tr>\n",
       "    <tr>\n",
       "      <th>11</th>\n",
       "      <td>전라북도</td>\n",
       "      <td>40</td>\n",
       "      <td>40</td>\n",
       "      <td>71</td>\n",
       "      <td>83</td>\n",
       "      <td>93</td>\n",
       "      <td>105</td>\n",
       "      <td>106</td>\n",
       "      <td>111</td>\n",
       "      <td>105</td>\n",
       "      <td>98</td>\n",
       "    </tr>\n",
       "    <tr>\n",
       "      <th>12</th>\n",
       "      <td>전라남도</td>\n",
       "      <td>27</td>\n",
       "      <td>29</td>\n",
       "      <td>47</td>\n",
       "      <td>48</td>\n",
       "      <td>56</td>\n",
       "      <td>64</td>\n",
       "      <td>79</td>\n",
       "      <td>88</td>\n",
       "      <td>90</td>\n",
       "      <td>83</td>\n",
       "    </tr>\n",
       "    <tr>\n",
       "      <th>13</th>\n",
       "      <td>경상북도</td>\n",
       "      <td>41</td>\n",
       "      <td>49</td>\n",
       "      <td>79</td>\n",
       "      <td>104</td>\n",
       "      <td>117</td>\n",
       "      <td>139</td>\n",
       "      <td>155</td>\n",
       "      <td>157</td>\n",
       "      <td>148</td>\n",
       "      <td>134</td>\n",
       "    </tr>\n",
       "    <tr>\n",
       "      <th>14</th>\n",
       "      <td>경상남도</td>\n",
       "      <td>72</td>\n",
       "      <td>82</td>\n",
       "      <td>119</td>\n",
       "      <td>113</td>\n",
       "      <td>123</td>\n",
       "      <td>148</td>\n",
       "      <td>162</td>\n",
       "      <td>172</td>\n",
       "      <td>176</td>\n",
       "      <td>149</td>\n",
       "    </tr>\n",
       "    <tr>\n",
       "      <th>15</th>\n",
       "      <td>제주특별자치도</td>\n",
       "      <td>28</td>\n",
       "      <td>30</td>\n",
       "      <td>81</td>\n",
       "      <td>93</td>\n",
       "      <td>99</td>\n",
       "      <td>113</td>\n",
       "      <td>121</td>\n",
       "      <td>124</td>\n",
       "      <td>122</td>\n",
       "      <td>119</td>\n",
       "    </tr>\n",
       "  </tbody>\n",
       "</table>\n",
       "</div>"
      ],
      "text/plain": [
       "         시도  2011년  2012년  2013년   2014년  2015년  2016년  2017년  2018년  2019년  \\\n",
       "0     부산광역시     20     49      87     99    110    124    143    160    174   \n",
       "1     대구광역시     45     56      86     96    104    103    113    117    114   \n",
       "2     인천광역시     32     31      70     79     91    111    124    133    136   \n",
       "3     광주광역시     21     25      40     46     56     75     87     97     90   \n",
       "4     대전광역시     43     49      88     95     99    136    141    147    141   \n",
       "5     울산광역시     40     39      59     60     65     83     97    106    103   \n",
       "6   세종특별자치시      0      2       8     10     11     14     17     19     19   \n",
       "7       경기도    184    197     404    435    495    590    609    609    648   \n",
       "8       강원도     32     41      90     93     98    109    110    112    108   \n",
       "9      충청북도     31     31      67     72     78     84     89     92     89   \n",
       "10     충청남도     23     28      96     95    101    103    112    112     92   \n",
       "11     전라북도     40     40      71     83     93    105    106    111    105   \n",
       "12     전라남도     27     29      47     48     56     64     79     88     90   \n",
       "13     경상북도     41     49      79    104    117    139    155    157    148   \n",
       "14     경상남도     72     82     119    113    123    148    162    172    176   \n",
       "15  제주특별자치도     28     30      81     93     99    113    121    124    122   \n",
       "\n",
       "    2020년  \n",
       "0     156  \n",
       "1     101  \n",
       "2     130  \n",
       "3      85  \n",
       "4     124  \n",
       "5      93  \n",
       "6      14  \n",
       "7     613  \n",
       "8     103  \n",
       "9      82  \n",
       "10     83  \n",
       "11     98  \n",
       "12     83  \n",
       "13    134  \n",
       "14    149  \n",
       "15    119  "
      ]
     },
     "execution_count": 66,
     "metadata": {},
     "output_type": "execute_result"
    }
   ],
   "source": [
    "pd.read_csv('a.csv', encoding='cp949')"
   ]
  },
  {
   "cell_type": "code",
   "execution_count": null,
   "id": "9a74f347",
   "metadata": {},
   "outputs": [],
   "source": [
    "# 불러들일 때 별 희한한 에러가 많이 나옴\n",
    "# 위 데이터가 쓰레기인 이유\n",
    "# 수정할 때 실수가 더 많이 발생할 수 있음."
   ]
  },
  {
   "cell_type": "code",
   "execution_count": null,
   "id": "ea7edc94",
   "metadata": {},
   "outputs": [],
   "source": [
    "# 판다스는 데이터를 불러들여서 데이터 관련 처리를 다 하고 그것을 기반으로 모델을 만드는 것에 연동하는 허브 역할을 함."
   ]
  },
  {
   "cell_type": "code",
   "execution_count": 67,
   "id": "c2a243ed",
   "metadata": {
    "ExecuteTime": {
     "end_time": "2023-03-20T08:12:51.706998Z",
     "start_time": "2023-03-20T08:12:51.696959Z"
    }
   },
   "outputs": [],
   "source": [
    "from sklearn.neighbors import KNeighborsClassifier"
   ]
  },
  {
   "cell_type": "code",
   "execution_count": 68,
   "id": "72786496",
   "metadata": {
    "ExecuteTime": {
     "end_time": "2023-03-20T08:12:57.332963Z",
     "start_time": "2023-03-20T08:12:57.320695Z"
    }
   },
   "outputs": [],
   "source": [
    "import seaborn as sns"
   ]
  },
  {
   "cell_type": "code",
   "execution_count": 69,
   "id": "6f54f72b",
   "metadata": {
    "ExecuteTime": {
     "end_time": "2023-03-20T08:13:05.505264Z",
     "start_time": "2023-03-20T08:13:05.489863Z"
    }
   },
   "outputs": [],
   "source": [
    "iris = sns.load_dataset('iris')"
   ]
  },
  {
   "cell_type": "code",
   "execution_count": 70,
   "id": "256597e3",
   "metadata": {
    "ExecuteTime": {
     "end_time": "2023-03-20T08:13:06.942955Z",
     "start_time": "2023-03-20T08:13:06.914528Z"
    }
   },
   "outputs": [
    {
     "data": {
      "text/html": [
       "<div>\n",
       "<style scoped>\n",
       "    .dataframe tbody tr th:only-of-type {\n",
       "        vertical-align: middle;\n",
       "    }\n",
       "\n",
       "    .dataframe tbody tr th {\n",
       "        vertical-align: top;\n",
       "    }\n",
       "\n",
       "    .dataframe thead th {\n",
       "        text-align: right;\n",
       "    }\n",
       "</style>\n",
       "<table border=\"1\" class=\"dataframe\">\n",
       "  <thead>\n",
       "    <tr style=\"text-align: right;\">\n",
       "      <th></th>\n",
       "      <th>sepal_length</th>\n",
       "      <th>sepal_width</th>\n",
       "      <th>petal_length</th>\n",
       "      <th>petal_width</th>\n",
       "      <th>species</th>\n",
       "    </tr>\n",
       "  </thead>\n",
       "  <tbody>\n",
       "    <tr>\n",
       "      <th>0</th>\n",
       "      <td>5.1</td>\n",
       "      <td>3.5</td>\n",
       "      <td>1.4</td>\n",
       "      <td>0.2</td>\n",
       "      <td>setosa</td>\n",
       "    </tr>\n",
       "    <tr>\n",
       "      <th>1</th>\n",
       "      <td>4.9</td>\n",
       "      <td>3.0</td>\n",
       "      <td>1.4</td>\n",
       "      <td>0.2</td>\n",
       "      <td>setosa</td>\n",
       "    </tr>\n",
       "    <tr>\n",
       "      <th>2</th>\n",
       "      <td>4.7</td>\n",
       "      <td>3.2</td>\n",
       "      <td>1.3</td>\n",
       "      <td>0.2</td>\n",
       "      <td>setosa</td>\n",
       "    </tr>\n",
       "    <tr>\n",
       "      <th>3</th>\n",
       "      <td>4.6</td>\n",
       "      <td>3.1</td>\n",
       "      <td>1.5</td>\n",
       "      <td>0.2</td>\n",
       "      <td>setosa</td>\n",
       "    </tr>\n",
       "    <tr>\n",
       "      <th>4</th>\n",
       "      <td>5.0</td>\n",
       "      <td>3.6</td>\n",
       "      <td>1.4</td>\n",
       "      <td>0.2</td>\n",
       "      <td>setosa</td>\n",
       "    </tr>\n",
       "    <tr>\n",
       "      <th>...</th>\n",
       "      <td>...</td>\n",
       "      <td>...</td>\n",
       "      <td>...</td>\n",
       "      <td>...</td>\n",
       "      <td>...</td>\n",
       "    </tr>\n",
       "    <tr>\n",
       "      <th>145</th>\n",
       "      <td>6.7</td>\n",
       "      <td>3.0</td>\n",
       "      <td>5.2</td>\n",
       "      <td>2.3</td>\n",
       "      <td>virginica</td>\n",
       "    </tr>\n",
       "    <tr>\n",
       "      <th>146</th>\n",
       "      <td>6.3</td>\n",
       "      <td>2.5</td>\n",
       "      <td>5.0</td>\n",
       "      <td>1.9</td>\n",
       "      <td>virginica</td>\n",
       "    </tr>\n",
       "    <tr>\n",
       "      <th>147</th>\n",
       "      <td>6.5</td>\n",
       "      <td>3.0</td>\n",
       "      <td>5.2</td>\n",
       "      <td>2.0</td>\n",
       "      <td>virginica</td>\n",
       "    </tr>\n",
       "    <tr>\n",
       "      <th>148</th>\n",
       "      <td>6.2</td>\n",
       "      <td>3.4</td>\n",
       "      <td>5.4</td>\n",
       "      <td>2.3</td>\n",
       "      <td>virginica</td>\n",
       "    </tr>\n",
       "    <tr>\n",
       "      <th>149</th>\n",
       "      <td>5.9</td>\n",
       "      <td>3.0</td>\n",
       "      <td>5.1</td>\n",
       "      <td>1.8</td>\n",
       "      <td>virginica</td>\n",
       "    </tr>\n",
       "  </tbody>\n",
       "</table>\n",
       "<p>150 rows × 5 columns</p>\n",
       "</div>"
      ],
      "text/plain": [
       "     sepal_length  sepal_width  petal_length  petal_width    species\n",
       "0             5.1          3.5           1.4          0.2     setosa\n",
       "1             4.9          3.0           1.4          0.2     setosa\n",
       "2             4.7          3.2           1.3          0.2     setosa\n",
       "3             4.6          3.1           1.5          0.2     setosa\n",
       "4             5.0          3.6           1.4          0.2     setosa\n",
       "..            ...          ...           ...          ...        ...\n",
       "145           6.7          3.0           5.2          2.3  virginica\n",
       "146           6.3          2.5           5.0          1.9  virginica\n",
       "147           6.5          3.0           5.2          2.0  virginica\n",
       "148           6.2          3.4           5.4          2.3  virginica\n",
       "149           5.9          3.0           5.1          1.8  virginica\n",
       "\n",
       "[150 rows x 5 columns]"
      ]
     },
     "execution_count": 70,
     "metadata": {},
     "output_type": "execute_result"
    }
   ],
   "source": [
    "iris"
   ]
  },
  {
   "cell_type": "code",
   "execution_count": 71,
   "id": "60e716af",
   "metadata": {
    "ExecuteTime": {
     "end_time": "2023-03-20T08:13:17.781401Z",
     "start_time": "2023-03-20T08:13:17.771830Z"
    }
   },
   "outputs": [],
   "source": [
    "knn = KNeighborsClassifier()"
   ]
  },
  {
   "cell_type": "code",
   "execution_count": 72,
   "id": "336e4926",
   "metadata": {
    "ExecuteTime": {
     "end_time": "2023-03-20T08:13:47.870907Z",
     "start_time": "2023-03-20T08:13:47.849268Z"
    }
   },
   "outputs": [
    {
     "data": {
      "text/html": [
       "<style>#sk-container-id-1 {color: black;background-color: white;}#sk-container-id-1 pre{padding: 0;}#sk-container-id-1 div.sk-toggleable {background-color: white;}#sk-container-id-1 label.sk-toggleable__label {cursor: pointer;display: block;width: 100%;margin-bottom: 0;padding: 0.3em;box-sizing: border-box;text-align: center;}#sk-container-id-1 label.sk-toggleable__label-arrow:before {content: \"▸\";float: left;margin-right: 0.25em;color: #696969;}#sk-container-id-1 label.sk-toggleable__label-arrow:hover:before {color: black;}#sk-container-id-1 div.sk-estimator:hover label.sk-toggleable__label-arrow:before {color: black;}#sk-container-id-1 div.sk-toggleable__content {max-height: 0;max-width: 0;overflow: hidden;text-align: left;background-color: #f0f8ff;}#sk-container-id-1 div.sk-toggleable__content pre {margin: 0.2em;color: black;border-radius: 0.25em;background-color: #f0f8ff;}#sk-container-id-1 input.sk-toggleable__control:checked~div.sk-toggleable__content {max-height: 200px;max-width: 100%;overflow: auto;}#sk-container-id-1 input.sk-toggleable__control:checked~label.sk-toggleable__label-arrow:before {content: \"▾\";}#sk-container-id-1 div.sk-estimator input.sk-toggleable__control:checked~label.sk-toggleable__label {background-color: #d4ebff;}#sk-container-id-1 div.sk-label input.sk-toggleable__control:checked~label.sk-toggleable__label {background-color: #d4ebff;}#sk-container-id-1 input.sk-hidden--visually {border: 0;clip: rect(1px 1px 1px 1px);clip: rect(1px, 1px, 1px, 1px);height: 1px;margin: -1px;overflow: hidden;padding: 0;position: absolute;width: 1px;}#sk-container-id-1 div.sk-estimator {font-family: monospace;background-color: #f0f8ff;border: 1px dotted black;border-radius: 0.25em;box-sizing: border-box;margin-bottom: 0.5em;}#sk-container-id-1 div.sk-estimator:hover {background-color: #d4ebff;}#sk-container-id-1 div.sk-parallel-item::after {content: \"\";width: 100%;border-bottom: 1px solid gray;flex-grow: 1;}#sk-container-id-1 div.sk-label:hover label.sk-toggleable__label {background-color: #d4ebff;}#sk-container-id-1 div.sk-serial::before {content: \"\";position: absolute;border-left: 1px solid gray;box-sizing: border-box;top: 0;bottom: 0;left: 50%;z-index: 0;}#sk-container-id-1 div.sk-serial {display: flex;flex-direction: column;align-items: center;background-color: white;padding-right: 0.2em;padding-left: 0.2em;position: relative;}#sk-container-id-1 div.sk-item {position: relative;z-index: 1;}#sk-container-id-1 div.sk-parallel {display: flex;align-items: stretch;justify-content: center;background-color: white;position: relative;}#sk-container-id-1 div.sk-item::before, #sk-container-id-1 div.sk-parallel-item::before {content: \"\";position: absolute;border-left: 1px solid gray;box-sizing: border-box;top: 0;bottom: 0;left: 50%;z-index: -1;}#sk-container-id-1 div.sk-parallel-item {display: flex;flex-direction: column;z-index: 1;position: relative;background-color: white;}#sk-container-id-1 div.sk-parallel-item:first-child::after {align-self: flex-end;width: 50%;}#sk-container-id-1 div.sk-parallel-item:last-child::after {align-self: flex-start;width: 50%;}#sk-container-id-1 div.sk-parallel-item:only-child::after {width: 0;}#sk-container-id-1 div.sk-dashed-wrapped {border: 1px dashed gray;margin: 0 0.4em 0.5em 0.4em;box-sizing: border-box;padding-bottom: 0.4em;background-color: white;}#sk-container-id-1 div.sk-label label {font-family: monospace;font-weight: bold;display: inline-block;line-height: 1.2em;}#sk-container-id-1 div.sk-label-container {text-align: center;}#sk-container-id-1 div.sk-container {/* jupyter's `normalize.less` sets `[hidden] { display: none; }` but bootstrap.min.css set `[hidden] { display: none !important; }` so we also need the `!important` here to be able to override the default hidden behavior on the sphinx rendered scikit-learn.org. See: https://github.com/scikit-learn/scikit-learn/issues/21755 */display: inline-block !important;position: relative;}#sk-container-id-1 div.sk-text-repr-fallback {display: none;}</style><div id=\"sk-container-id-1\" class=\"sk-top-container\"><div class=\"sk-text-repr-fallback\"><pre>KNeighborsClassifier()</pre><b>In a Jupyter environment, please rerun this cell to show the HTML representation or trust the notebook. <br />On GitHub, the HTML representation is unable to render, please try loading this page with nbviewer.org.</b></div><div class=\"sk-container\" hidden><div class=\"sk-item\"><div class=\"sk-estimator sk-toggleable\"><input class=\"sk-toggleable__control sk-hidden--visually\" id=\"sk-estimator-id-1\" type=\"checkbox\" checked><label for=\"sk-estimator-id-1\" class=\"sk-toggleable__label sk-toggleable__label-arrow\">KNeighborsClassifier</label><div class=\"sk-toggleable__content\"><pre>KNeighborsClassifier()</pre></div></div></div></div></div>"
      ],
      "text/plain": [
       "KNeighborsClassifier()"
      ]
     },
     "execution_count": 72,
     "metadata": {},
     "output_type": "execute_result"
    }
   ],
   "source": [
    "knn.fit(iris.iloc[:,:-1], iris.species)\n",
    "# 판다스 자체로 학습에 활용가능"
   ]
  },
  {
   "cell_type": "code",
   "execution_count": null,
   "id": "8d11aaaa",
   "metadata": {},
   "outputs": [],
   "source": [
    "# 판다스에서 데이터 처리하고 그걸 기반으로 각각 프레임워크에서 모델을 만듦\n",
    "# 그것을 데이터 랭글링이라고 함.\n",
    "# 데이터 랭글링 할 때 유일무이한 것이 넘파이, 판다스, 사이킷런\n",
    "# 모든 정형데이터 처리는 이걸로 다 할 수 있음."
   ]
  },
  {
   "cell_type": "code",
   "execution_count": null,
   "id": "f4a2c0c0",
   "metadata": {},
   "outputs": [],
   "source": [
    "# 판다스의 장점\n",
    "# 호환성이 좋음. 굳이 복잡하게 만들 필요가 없음. 이 모델 쓰기 위한 데이터 포맷 변경을 할 필요가 없음.\n",
    "# 넘파이로 했던 자리를 판다스가 대체해버림.\n",
    "# 판다스는 메모리 번지에 다 올림"
   ]
  },
  {
   "cell_type": "code",
   "execution_count": 73,
   "id": "92b232b6",
   "metadata": {
    "ExecuteTime": {
     "end_time": "2023-03-20T08:17:48.979870Z",
     "start_time": "2023-03-20T08:17:48.954889Z"
    }
   },
   "outputs": [
    {
     "name": "stdout",
     "output_type": "stream",
     "text": [
      "<class 'pandas.core.frame.DataFrame'>\n",
      "RangeIndex: 150 entries, 0 to 149\n",
      "Data columns (total 5 columns):\n",
      " #   Column        Non-Null Count  Dtype  \n",
      "---  ------        --------------  -----  \n",
      " 0   sepal_length  150 non-null    float64\n",
      " 1   sepal_width   150 non-null    float64\n",
      " 2   petal_length  150 non-null    float64\n",
      " 3   petal_width   150 non-null    float64\n",
      " 4   species       150 non-null    object \n",
      "dtypes: float64(4), object(1)\n",
      "memory usage: 6.0+ KB\n"
     ]
    }
   ],
   "source": [
    "iris.info()"
   ]
  },
  {
   "cell_type": "code",
   "execution_count": null,
   "id": "82f1bb92",
   "metadata": {},
   "outputs": [],
   "source": [
    "# 판다스에서 그래프를 그리기가 너무 쉬움."
   ]
  },
  {
   "cell_type": "code",
   "execution_count": 74,
   "id": "986be7a8",
   "metadata": {
    "ExecuteTime": {
     "end_time": "2023-03-20T08:19:44.678802Z",
     "start_time": "2023-03-20T08:19:44.652776Z"
    }
   },
   "outputs": [
    {
     "data": {
      "text/html": [
       "<div>\n",
       "<style scoped>\n",
       "    .dataframe tbody tr th:only-of-type {\n",
       "        vertical-align: middle;\n",
       "    }\n",
       "\n",
       "    .dataframe tbody tr th {\n",
       "        vertical-align: top;\n",
       "    }\n",
       "\n",
       "    .dataframe thead th {\n",
       "        text-align: right;\n",
       "    }\n",
       "</style>\n",
       "<table border=\"1\" class=\"dataframe\">\n",
       "  <thead>\n",
       "    <tr style=\"text-align: right;\">\n",
       "      <th></th>\n",
       "      <th>total_bill</th>\n",
       "      <th>tip</th>\n",
       "      <th>sex</th>\n",
       "      <th>smoker</th>\n",
       "      <th>day</th>\n",
       "      <th>time</th>\n",
       "      <th>size</th>\n",
       "      <th>study</th>\n",
       "    </tr>\n",
       "  </thead>\n",
       "  <tbody>\n",
       "    <tr>\n",
       "      <th>0</th>\n",
       "      <td>16.99</td>\n",
       "      <td>1.01</td>\n",
       "      <td>Female</td>\n",
       "      <td>No</td>\n",
       "      <td>Sun</td>\n",
       "      <td>Dinner</td>\n",
       "      <td>2</td>\n",
       "      <td>No</td>\n",
       "    </tr>\n",
       "    <tr>\n",
       "      <th>1</th>\n",
       "      <td>10.34</td>\n",
       "      <td>1.66</td>\n",
       "      <td>Male</td>\n",
       "      <td>No</td>\n",
       "      <td>Sun</td>\n",
       "      <td>Dinner</td>\n",
       "      <td>3</td>\n",
       "      <td>No</td>\n",
       "    </tr>\n",
       "    <tr>\n",
       "      <th>2</th>\n",
       "      <td>21.01</td>\n",
       "      <td>3.50</td>\n",
       "      <td>Male</td>\n",
       "      <td>No</td>\n",
       "      <td>Sun</td>\n",
       "      <td>Dinner</td>\n",
       "      <td>3</td>\n",
       "      <td>No</td>\n",
       "    </tr>\n",
       "    <tr>\n",
       "      <th>3</th>\n",
       "      <td>23.68</td>\n",
       "      <td>3.31</td>\n",
       "      <td>Male</td>\n",
       "      <td>No</td>\n",
       "      <td>Sun</td>\n",
       "      <td>Dinner</td>\n",
       "      <td>2</td>\n",
       "      <td>No</td>\n",
       "    </tr>\n",
       "    <tr>\n",
       "      <th>4</th>\n",
       "      <td>24.59</td>\n",
       "      <td>3.61</td>\n",
       "      <td>Female</td>\n",
       "      <td>No</td>\n",
       "      <td>Sun</td>\n",
       "      <td>Dinner</td>\n",
       "      <td>4</td>\n",
       "      <td>No</td>\n",
       "    </tr>\n",
       "    <tr>\n",
       "      <th>...</th>\n",
       "      <td>...</td>\n",
       "      <td>...</td>\n",
       "      <td>...</td>\n",
       "      <td>...</td>\n",
       "      <td>...</td>\n",
       "      <td>...</td>\n",
       "      <td>...</td>\n",
       "      <td>...</td>\n",
       "    </tr>\n",
       "    <tr>\n",
       "      <th>239</th>\n",
       "      <td>29.03</td>\n",
       "      <td>5.92</td>\n",
       "      <td>Male</td>\n",
       "      <td>No</td>\n",
       "      <td>Sat</td>\n",
       "      <td>Dinner</td>\n",
       "      <td>3</td>\n",
       "      <td>No</td>\n",
       "    </tr>\n",
       "    <tr>\n",
       "      <th>240</th>\n",
       "      <td>27.18</td>\n",
       "      <td>2.00</td>\n",
       "      <td>Female</td>\n",
       "      <td>Yes</td>\n",
       "      <td>Sat</td>\n",
       "      <td>Dinner</td>\n",
       "      <td>2</td>\n",
       "      <td>No</td>\n",
       "    </tr>\n",
       "    <tr>\n",
       "      <th>241</th>\n",
       "      <td>22.67</td>\n",
       "      <td>2.00</td>\n",
       "      <td>Male</td>\n",
       "      <td>Yes</td>\n",
       "      <td>Sat</td>\n",
       "      <td>Dinner</td>\n",
       "      <td>2</td>\n",
       "      <td>No</td>\n",
       "    </tr>\n",
       "    <tr>\n",
       "      <th>242</th>\n",
       "      <td>17.82</td>\n",
       "      <td>1.75</td>\n",
       "      <td>Male</td>\n",
       "      <td>No</td>\n",
       "      <td>Sat</td>\n",
       "      <td>Dinner</td>\n",
       "      <td>2</td>\n",
       "      <td>No</td>\n",
       "    </tr>\n",
       "    <tr>\n",
       "      <th>243</th>\n",
       "      <td>18.78</td>\n",
       "      <td>3.00</td>\n",
       "      <td>Female</td>\n",
       "      <td>No</td>\n",
       "      <td>Thur</td>\n",
       "      <td>Dinner</td>\n",
       "      <td>2</td>\n",
       "      <td>No</td>\n",
       "    </tr>\n",
       "  </tbody>\n",
       "</table>\n",
       "<p>244 rows × 8 columns</p>\n",
       "</div>"
      ],
      "text/plain": [
       "     total_bill   tip     sex smoker   day    time  size study\n",
       "0         16.99  1.01  Female     No   Sun  Dinner     2    No\n",
       "1         10.34  1.66    Male     No   Sun  Dinner     3    No\n",
       "2         21.01  3.50    Male     No   Sun  Dinner     3    No\n",
       "3         23.68  3.31    Male     No   Sun  Dinner     2    No\n",
       "4         24.59  3.61  Female     No   Sun  Dinner     4    No\n",
       "..          ...   ...     ...    ...   ...     ...   ...   ...\n",
       "239       29.03  5.92    Male     No   Sat  Dinner     3    No\n",
       "240       27.18  2.00  Female    Yes   Sat  Dinner     2    No\n",
       "241       22.67  2.00    Male    Yes   Sat  Dinner     2    No\n",
       "242       17.82  1.75    Male     No   Sat  Dinner     2    No\n",
       "243       18.78  3.00  Female     No  Thur  Dinner     2    No\n",
       "\n",
       "[244 rows x 8 columns]"
      ]
     },
     "execution_count": 74,
     "metadata": {},
     "output_type": "execute_result"
    }
   ],
   "source": [
    "tips"
   ]
  },
  {
   "cell_type": "code",
   "execution_count": 78,
   "id": "dd403a2d",
   "metadata": {
    "ExecuteTime": {
     "end_time": "2023-03-20T08:21:13.914143Z",
     "start_time": "2023-03-20T08:21:13.771714Z"
    }
   },
   "outputs": [
    {
     "data": {
      "text/plain": [
       "<Axes: ylabel='sex'>"
      ]
     },
     "execution_count": 78,
     "metadata": {},
     "output_type": "execute_result"
    },
    {
     "data": {
      "image/png": "[encoded data removed]",
      "text/plain": [
       "<Figure size 640x480 with 1 Axes>"
      ]
     },
     "metadata": {},
     "output_type": "display_data"
    }
   ],
   "source": [
    "# x축이 index다!\n",
    "tips.groupby('sex')[['total_bill', 'tip']].mean().plot.barh()"
   ]
  },
  {
   "cell_type": "code",
   "execution_count": null,
   "id": "55f95c71",
   "metadata": {},
   "outputs": [],
   "source": [
    "# 메모리에 올려서 데이터 처리를 함. 매우 쉬움.\n",
    "# 호환성이 좋음"
   ]
  },
  {
   "cell_type": "code",
   "execution_count": null,
   "id": "08f29fc3",
   "metadata": {},
   "outputs": [],
   "source": [
    "# 1. 데이터 불러오기(ingestion) ; 데이터 소스로부터 내가 원하는 분석 형태, 우리는 판다스 데이터 형태로 불러오는 것\n",
    "#   -> 그것을 pd.read_  로 한다. 즉 시작은 read_  => pd.read_csv\n",
    "#   -> 그러면 데이터프레임 형태로 불러와짐."
   ]
  },
  {
   "cell_type": "code",
   "execution_count": 79,
   "id": "109bcf6c",
   "metadata": {
    "ExecuteTime": {
     "end_time": "2023-03-20T08:23:33.337464Z",
     "start_time": "2023-03-20T08:23:33.313453Z"
    }
   },
   "outputs": [
    {
     "data": {
      "text/html": [
       "<div>\n",
       "<style scoped>\n",
       "    .dataframe tbody tr th:only-of-type {\n",
       "        vertical-align: middle;\n",
       "    }\n",
       "\n",
       "    .dataframe tbody tr th {\n",
       "        vertical-align: top;\n",
       "    }\n",
       "\n",
       "    .dataframe thead th {\n",
       "        text-align: right;\n",
       "    }\n",
       "</style>\n",
       "<table border=\"1\" class=\"dataframe\">\n",
       "  <thead>\n",
       "    <tr style=\"text-align: right;\">\n",
       "      <th></th>\n",
       "      <th>total_bill</th>\n",
       "      <th>tip</th>\n",
       "      <th>sex</th>\n",
       "      <th>smoker</th>\n",
       "      <th>day</th>\n",
       "      <th>time</th>\n",
       "      <th>size</th>\n",
       "      <th>study</th>\n",
       "    </tr>\n",
       "  </thead>\n",
       "  <tbody>\n",
       "    <tr>\n",
       "      <th>0</th>\n",
       "      <td>16.99</td>\n",
       "      <td>1.01</td>\n",
       "      <td>Female</td>\n",
       "      <td>No</td>\n",
       "      <td>Sun</td>\n",
       "      <td>Dinner</td>\n",
       "      <td>2</td>\n",
       "      <td>No</td>\n",
       "    </tr>\n",
       "    <tr>\n",
       "      <th>1</th>\n",
       "      <td>10.34</td>\n",
       "      <td>1.66</td>\n",
       "      <td>Male</td>\n",
       "      <td>No</td>\n",
       "      <td>Sun</td>\n",
       "      <td>Dinner</td>\n",
       "      <td>3</td>\n",
       "      <td>No</td>\n",
       "    </tr>\n",
       "    <tr>\n",
       "      <th>2</th>\n",
       "      <td>21.01</td>\n",
       "      <td>3.50</td>\n",
       "      <td>Male</td>\n",
       "      <td>No</td>\n",
       "      <td>Sun</td>\n",
       "      <td>Dinner</td>\n",
       "      <td>3</td>\n",
       "      <td>No</td>\n",
       "    </tr>\n",
       "    <tr>\n",
       "      <th>3</th>\n",
       "      <td>23.68</td>\n",
       "      <td>3.31</td>\n",
       "      <td>Male</td>\n",
       "      <td>No</td>\n",
       "      <td>Sun</td>\n",
       "      <td>Dinner</td>\n",
       "      <td>2</td>\n",
       "      <td>No</td>\n",
       "    </tr>\n",
       "    <tr>\n",
       "      <th>4</th>\n",
       "      <td>24.59</td>\n",
       "      <td>3.61</td>\n",
       "      <td>Female</td>\n",
       "      <td>No</td>\n",
       "      <td>Sun</td>\n",
       "      <td>Dinner</td>\n",
       "      <td>4</td>\n",
       "      <td>No</td>\n",
       "    </tr>\n",
       "    <tr>\n",
       "      <th>...</th>\n",
       "      <td>...</td>\n",
       "      <td>...</td>\n",
       "      <td>...</td>\n",
       "      <td>...</td>\n",
       "      <td>...</td>\n",
       "      <td>...</td>\n",
       "      <td>...</td>\n",
       "      <td>...</td>\n",
       "    </tr>\n",
       "    <tr>\n",
       "      <th>239</th>\n",
       "      <td>29.03</td>\n",
       "      <td>5.92</td>\n",
       "      <td>Male</td>\n",
       "      <td>No</td>\n",
       "      <td>Sat</td>\n",
       "      <td>Dinner</td>\n",
       "      <td>3</td>\n",
       "      <td>No</td>\n",
       "    </tr>\n",
       "    <tr>\n",
       "      <th>240</th>\n",
       "      <td>27.18</td>\n",
       "      <td>2.00</td>\n",
       "      <td>Female</td>\n",
       "      <td>Yes</td>\n",
       "      <td>Sat</td>\n",
       "      <td>Dinner</td>\n",
       "      <td>2</td>\n",
       "      <td>No</td>\n",
       "    </tr>\n",
       "    <tr>\n",
       "      <th>241</th>\n",
       "      <td>22.67</td>\n",
       "      <td>2.00</td>\n",
       "      <td>Male</td>\n",
       "      <td>Yes</td>\n",
       "      <td>Sat</td>\n",
       "      <td>Dinner</td>\n",
       "      <td>2</td>\n",
       "      <td>No</td>\n",
       "    </tr>\n",
       "    <tr>\n",
       "      <th>242</th>\n",
       "      <td>17.82</td>\n",
       "      <td>1.75</td>\n",
       "      <td>Male</td>\n",
       "      <td>No</td>\n",
       "      <td>Sat</td>\n",
       "      <td>Dinner</td>\n",
       "      <td>2</td>\n",
       "      <td>No</td>\n",
       "    </tr>\n",
       "    <tr>\n",
       "      <th>243</th>\n",
       "      <td>18.78</td>\n",
       "      <td>3.00</td>\n",
       "      <td>Female</td>\n",
       "      <td>No</td>\n",
       "      <td>Thur</td>\n",
       "      <td>Dinner</td>\n",
       "      <td>2</td>\n",
       "      <td>No</td>\n",
       "    </tr>\n",
       "  </tbody>\n",
       "</table>\n",
       "<p>244 rows × 8 columns</p>\n",
       "</div>"
      ],
      "text/plain": [
       "     total_bill   tip     sex smoker   day    time  size study\n",
       "0         16.99  1.01  Female     No   Sun  Dinner     2    No\n",
       "1         10.34  1.66    Male     No   Sun  Dinner     3    No\n",
       "2         21.01  3.50    Male     No   Sun  Dinner     3    No\n",
       "3         23.68  3.31    Male     No   Sun  Dinner     2    No\n",
       "4         24.59  3.61  Female     No   Sun  Dinner     4    No\n",
       "..          ...   ...     ...    ...   ...     ...   ...   ...\n",
       "239       29.03  5.92    Male     No   Sat  Dinner     3    No\n",
       "240       27.18  2.00  Female    Yes   Sat  Dinner     2    No\n",
       "241       22.67  2.00    Male    Yes   Sat  Dinner     2    No\n",
       "242       17.82  1.75    Male     No   Sat  Dinner     2    No\n",
       "243       18.78  3.00  Female     No  Thur  Dinner     2    No\n",
       "\n",
       "[244 rows x 8 columns]"
      ]
     },
     "execution_count": 79,
     "metadata": {},
     "output_type": "execute_result"
    }
   ],
   "source": [
    "tips"
   ]
  },
  {
   "cell_type": "code",
   "execution_count": null,
   "id": "5e71b60a",
   "metadata": {},
   "outputs": [],
   "source": [
    "# 2. 객체로부터 불러온다\n",
    "# 다른 프로그래밍 언어(파이썬이 아닌) 중에서 type casting(타입을 바꾸는 문법)이 별도로 존재하는 언어가 있음; C 언어\n",
    "# 예전 데이터 타입을 새로운 데이터 타입으로 인스턴스화 해야 함(파이썬은) ; 객체를 만드는 거지만 사실 기존에 있던 객체를 판다스 형태로 바꾸는 것"
   ]
  },
  {
   "cell_type": "code",
   "execution_count": null,
   "id": "79aee724",
   "metadata": {},
   "outputs": [],
   "source": [
    "=pd.DataFrame()  # 이게 클래스를 인스턴스로 / 기존의 객체를 변환시키는 용도로도 사용함\n",
    "# 인공지능에서 원래 가진 데이터 타입을 바꿔줘야 함."
   ]
  },
  {
   "cell_type": "code",
   "execution_count": null,
   "id": "487fd0a9",
   "metadata": {},
   "outputs": [],
   "source": [
    "pd.DataFrame.from_dict\n",
    "# .from_dict 이런 것은 클래스에 쓸 수 있는 메소드; 클래스메소드(@).\n",
    "# 클래스가 하는 행동임. 위는 딕셔너리로부터 데이터프레임을 만드는 것.\n",
    "# type casting 이 없어서 이런 문법이 있음."
   ]
  },
  {
   "cell_type": "code",
   "execution_count": null,
   "id": "6436b4fb",
   "metadata": {},
   "outputs": [],
   "source": [
    "# 넘파이도 있음. from, as\n",
    "np.from\n",
    "# 넘파이는 함수형으로 지원했음. 그래서 스네이크 방식\n",
    "pd.DataFrame.from_dict\n",
    "# 이것은 함수로 만들어도 되는데 카멜 방식. 네임스페이스 카테고리라이제이션이 좋음\n",
    "# 기존에 있는 데이터 타입을 from 을 사용하는 것. => 이런 것은 관례 => 이런 것은 다 클래스 메소드 혹은 스태틱 메소드로 만든 것\n",
    "# => 구조화하기 쉽기 때문에"
   ]
  },
  {
   "cell_type": "code",
   "execution_count": 80,
   "id": "ec70ad65",
   "metadata": {
    "ExecuteTime": {
     "end_time": "2023-03-20T08:32:22.607921Z",
     "start_time": "2023-03-20T08:32:22.599220Z"
    }
   },
   "outputs": [],
   "source": [
    "# from 짝지가 as\n",
    "a = np.array([1,2,3]) # 이것도 타입 캐스팅. 기존의 list를 ndarray로"
   ]
  },
  {
   "cell_type": "code",
   "execution_count": 81,
   "id": "057c5790",
   "metadata": {
    "ExecuteTime": {
     "end_time": "2023-03-20T08:32:28.182658Z",
     "start_time": "2023-03-20T08:32:28.169430Z"
    }
   },
   "outputs": [
    {
     "data": {
      "text/plain": [
       "array([1., 2., 3.])"
      ]
     },
     "execution_count": 81,
     "metadata": {},
     "output_type": "execute_result"
    }
   ],
   "source": [
    "np.asfarray(a)\n",
    "# a를 float array 로!"
   ]
  },
  {
   "cell_type": "code",
   "execution_count": 82,
   "id": "6e0f9206",
   "metadata": {
    "ExecuteTime": {
     "end_time": "2023-03-20T08:32:51.083920Z",
     "start_time": "2023-03-20T08:32:51.070811Z"
    }
   },
   "outputs": [
    {
     "data": {
      "text/plain": [
       "array([1., 2., 3.], dtype=float32)"
      ]
     },
     "execution_count": 82,
     "metadata": {},
     "output_type": "execute_result"
    }
   ],
   "source": [
    "a.astype('float32')\n",
    "# 데이터 타입을 바꿈"
   ]
  },
  {
   "cell_type": "code",
   "execution_count": 83,
   "id": "432080b5",
   "metadata": {
    "ExecuteTime": {
     "end_time": "2023-03-20T08:34:33.983537Z",
     "start_time": "2023-03-20T08:34:33.975373Z"
    }
   },
   "outputs": [],
   "source": [
    "# 이것도 진짜 많이 씀. 기계학습 할 때 기본데이터 타입을 float32로 많이 씀"
   ]
  },
  {
   "cell_type": "code",
   "execution_count": null,
   "id": "4d706d53",
   "metadata": {},
   "outputs": [],
   "source": [
    "# Mixed precision\n",
    "# 텐서플로, 파이토치 다 똑같음."
   ]
  },
  {
   "cell_type": "code",
   "execution_count": 84,
   "id": "8ae6dbd9",
   "metadata": {
    "ExecuteTime": {
     "end_time": "2023-03-20T08:39:05.289367Z",
     "start_time": "2023-03-20T08:39:05.265382Z"
    }
   },
   "outputs": [
    {
     "data": {
      "text/html": [
       "<div>\n",
       "<style scoped>\n",
       "    .dataframe tbody tr th:only-of-type {\n",
       "        vertical-align: middle;\n",
       "    }\n",
       "\n",
       "    .dataframe tbody tr th {\n",
       "        vertical-align: top;\n",
       "    }\n",
       "\n",
       "    .dataframe thead th {\n",
       "        text-align: right;\n",
       "    }\n",
       "</style>\n",
       "<table border=\"1\" class=\"dataframe\">\n",
       "  <thead>\n",
       "    <tr style=\"text-align: right;\">\n",
       "      <th></th>\n",
       "      <th>total_bill</th>\n",
       "      <th>tip</th>\n",
       "      <th>sex</th>\n",
       "      <th>smoker</th>\n",
       "      <th>day</th>\n",
       "      <th>time</th>\n",
       "      <th>size</th>\n",
       "      <th>study</th>\n",
       "    </tr>\n",
       "  </thead>\n",
       "  <tbody>\n",
       "    <tr>\n",
       "      <th>0</th>\n",
       "      <td>16.99</td>\n",
       "      <td>1.01</td>\n",
       "      <td>Female</td>\n",
       "      <td>No</td>\n",
       "      <td>Sun</td>\n",
       "      <td>Dinner</td>\n",
       "      <td>2</td>\n",
       "      <td>No</td>\n",
       "    </tr>\n",
       "    <tr>\n",
       "      <th>1</th>\n",
       "      <td>10.34</td>\n",
       "      <td>1.66</td>\n",
       "      <td>Male</td>\n",
       "      <td>No</td>\n",
       "      <td>Sun</td>\n",
       "      <td>Dinner</td>\n",
       "      <td>3</td>\n",
       "      <td>No</td>\n",
       "    </tr>\n",
       "    <tr>\n",
       "      <th>2</th>\n",
       "      <td>21.01</td>\n",
       "      <td>3.50</td>\n",
       "      <td>Male</td>\n",
       "      <td>No</td>\n",
       "      <td>Sun</td>\n",
       "      <td>Dinner</td>\n",
       "      <td>3</td>\n",
       "      <td>No</td>\n",
       "    </tr>\n",
       "    <tr>\n",
       "      <th>3</th>\n",
       "      <td>23.68</td>\n",
       "      <td>3.31</td>\n",
       "      <td>Male</td>\n",
       "      <td>No</td>\n",
       "      <td>Sun</td>\n",
       "      <td>Dinner</td>\n",
       "      <td>2</td>\n",
       "      <td>No</td>\n",
       "    </tr>\n",
       "    <tr>\n",
       "      <th>4</th>\n",
       "      <td>24.59</td>\n",
       "      <td>3.61</td>\n",
       "      <td>Female</td>\n",
       "      <td>No</td>\n",
       "      <td>Sun</td>\n",
       "      <td>Dinner</td>\n",
       "      <td>4</td>\n",
       "      <td>No</td>\n",
       "    </tr>\n",
       "    <tr>\n",
       "      <th>...</th>\n",
       "      <td>...</td>\n",
       "      <td>...</td>\n",
       "      <td>...</td>\n",
       "      <td>...</td>\n",
       "      <td>...</td>\n",
       "      <td>...</td>\n",
       "      <td>...</td>\n",
       "      <td>...</td>\n",
       "    </tr>\n",
       "    <tr>\n",
       "      <th>239</th>\n",
       "      <td>29.03</td>\n",
       "      <td>5.92</td>\n",
       "      <td>Male</td>\n",
       "      <td>No</td>\n",
       "      <td>Sat</td>\n",
       "      <td>Dinner</td>\n",
       "      <td>3</td>\n",
       "      <td>No</td>\n",
       "    </tr>\n",
       "    <tr>\n",
       "      <th>240</th>\n",
       "      <td>27.18</td>\n",
       "      <td>2.00</td>\n",
       "      <td>Female</td>\n",
       "      <td>Yes</td>\n",
       "      <td>Sat</td>\n",
       "      <td>Dinner</td>\n",
       "      <td>2</td>\n",
       "      <td>No</td>\n",
       "    </tr>\n",
       "    <tr>\n",
       "      <th>241</th>\n",
       "      <td>22.67</td>\n",
       "      <td>2.00</td>\n",
       "      <td>Male</td>\n",
       "      <td>Yes</td>\n",
       "      <td>Sat</td>\n",
       "      <td>Dinner</td>\n",
       "      <td>2</td>\n",
       "      <td>No</td>\n",
       "    </tr>\n",
       "    <tr>\n",
       "      <th>242</th>\n",
       "      <td>17.82</td>\n",
       "      <td>1.75</td>\n",
       "      <td>Male</td>\n",
       "      <td>No</td>\n",
       "      <td>Sat</td>\n",
       "      <td>Dinner</td>\n",
       "      <td>2</td>\n",
       "      <td>No</td>\n",
       "    </tr>\n",
       "    <tr>\n",
       "      <th>243</th>\n",
       "      <td>18.78</td>\n",
       "      <td>3.00</td>\n",
       "      <td>Female</td>\n",
       "      <td>No</td>\n",
       "      <td>Thur</td>\n",
       "      <td>Dinner</td>\n",
       "      <td>2</td>\n",
       "      <td>No</td>\n",
       "    </tr>\n",
       "  </tbody>\n",
       "</table>\n",
       "<p>244 rows × 8 columns</p>\n",
       "</div>"
      ],
      "text/plain": [
       "     total_bill   tip     sex smoker   day    time  size study\n",
       "0         16.99  1.01  Female     No   Sun  Dinner     2    No\n",
       "1         10.34  1.66    Male     No   Sun  Dinner     3    No\n",
       "2         21.01  3.50    Male     No   Sun  Dinner     3    No\n",
       "3         23.68  3.31    Male     No   Sun  Dinner     2    No\n",
       "4         24.59  3.61  Female     No   Sun  Dinner     4    No\n",
       "..          ...   ...     ...    ...   ...     ...   ...   ...\n",
       "239       29.03  5.92    Male     No   Sat  Dinner     3    No\n",
       "240       27.18  2.00  Female    Yes   Sat  Dinner     2    No\n",
       "241       22.67  2.00    Male    Yes   Sat  Dinner     2    No\n",
       "242       17.82  1.75    Male     No   Sat  Dinner     2    No\n",
       "243       18.78  3.00  Female     No  Thur  Dinner     2    No\n",
       "\n",
       "[244 rows x 8 columns]"
      ]
     },
     "execution_count": 84,
     "metadata": {},
     "output_type": "execute_result"
    }
   ],
   "source": [
    "tips"
   ]
  },
  {
   "cell_type": "code",
   "execution_count": null,
   "id": "77a1be7a",
   "metadata": {},
   "outputs": [],
   "source": [
    "# 불러오고 할 수 있는 것\n",
    "# Dtat Wrangling = Munging\n",
    "# - EDA(Exploratory Data Analysis)\n",
    "# - Aggraegation(basic analysis)\n",
    "# - Data Preprocessing(Structure, Value)\n",
    "# 이것들을 다 판다스가 한다!\n",
    "\n",
    "# 첫번째가 데이터 처리 - 데이터 먼징, 데이터 랭글링 => 이걸로 간단한 분석과 데이터 잘못된 것 수정, 구조 바꾸기.\n",
    "#                   => 간단한 분석, 구조적 관점."
   ]
  }
 ],
 "metadata": {
  "kernelspec": {
   "display_name": "Python 3 (ipykernel)",
   "language": "python",
   "name": "python3"
  },
  "language_info": {
   "codemirror_mode": {
    "name": "ipython",
    "version": 3
   },
   "file_extension": ".py",
   "mimetype": "text/x-python",
   "name": "python",
   "nbconvert_exporter": "python",
   "pygments_lexer": "ipython3",
   "version": "3.10.9"
  },
  "toc": {
   "base_numbering": 1,
   "nav_menu": {},
   "number_sections": true,
   "sideBar": true,
   "skip_h1_title": false,
   "title_cell": "Table of Contents",
   "title_sidebar": "Contents",
   "toc_cell": false,
   "toc_position": {},
   "toc_section_display": true,
   "toc_window_display": false
  },
  "varInspector": {
   "cols": {
    "lenName": 16,
    "lenType": 16,
    "lenVar": 40
   },
   "kernels_config": {
    "python": {
     "delete_cmd_postfix": "",
     "delete_cmd_prefix": "del ",
     "library": "var_list.py",
     "varRefreshCmd": "print(var_dic_list())"
    },
    "r": {
     "delete_cmd_postfix": ") ",
     "delete_cmd_prefix": "rm(",
     "library": "var_list.r",
     "varRefreshCmd": "cat(var_dic_list()) "
    }
   },
   "types_to_exclude": [
    "module",
    "function",
    "builtin_function_or_method",
    "instance",
    "_Feature"
   ],
   "window_display": false
  }
 },
 "nbformat": 4,
 "nbformat_minor": 5
}
