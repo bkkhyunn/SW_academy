{
 "cells": [
  {
   "cell_type": "markdown",
   "id": "32c83000",
   "metadata": {},
   "source": [
    "### 자연어 처리 특강"
   ]
  },
  {
   "cell_type": "code",
   "execution_count": null,
   "id": "98f24dbb",
   "metadata": {},
   "outputs": [],
   "source": [
    "우리가 컴퓨터를 배우는 이유는\n",
    "컴퓨터가 사람의 언어를 이해하지 못하기 때문에."
   ]
  },
  {
   "cell_type": "code",
   "execution_count": null,
   "id": "1419878d",
   "metadata": {},
   "outputs": [],
   "source": [
    "NLU, NLG => NLP"
   ]
  },
  {
   "cell_type": "code",
   "execution_count": null,
   "id": "9595428c",
   "metadata": {},
   "outputs": [],
   "source": [
    "<NLP pipe line>\n",
    "전처리\n",
    "어휘 분석/형태소 분석\n",
    "구문분석\n",
    "의미분석\n",
    "담화분석\n",
    "화용분석\n",
    "의미표현\n",
    "-> 자연어 이해(NLU)\n",
    "\n",
    "의미표현\n",
    "문장구조\n",
    "어휘생성\n",
    "출력문자\n",
    "-> 자연어 생성(NLG)"
   ]
  },
  {
   "cell_type": "code",
   "execution_count": null,
   "id": "b251a881",
   "metadata": {},
   "outputs": [],
   "source": [
    "NLP Two approaches\n",
    "- Symbolic approach\n",
    "- Statistical approach(empirical) - 확률적\n",
    "- hybrid approach"
   ]
  },
  {
   "cell_type": "code",
   "execution_count": null,
   "id": "f05f1ec5",
   "metadata": {},
   "outputs": [],
   "source": [
    "NLP Application\n",
    "- text categorization\n",
    "- spelling & grammar corrections\n",
    "- information extraction\n",
    "- speech recognition\n",
    "- information retrieval(정보검색)\n",
    "- summarization\n",
    "- machine translation\n",
    "- question answering\n",
    "- dialog systems"
   ]
  },
  {
   "cell_type": "code",
   "execution_count": null,
   "id": "e3a0eb83",
   "metadata": {},
   "outputs": [],
   "source": [
    "언어모델?\n",
    "단어게임을 하는 모델\n",
    "사람은 확률적으로 언어를 생성하는 것 같음(문맥에 따라)\n",
    "문맥에 맞춰 무엇이 나올지를 예측해서 게임에 승리할 수 있도록 만드는 것\n",
    "그 모델이 언어모델\n",
    "앞의 말들이 (문맥이)주어진 언어모델이 있는 반면,\n",
    "\n",
    "Auto regressive - 앞에 문맥이 주어지고 그 다음에 무엇이 나올까 예측하는 언어모델\n",
    "Auto Encoding - 좌우에 문맥이 주어졌을 때 그 중간에 있는 말을 예측하도록 하는 언어모델\n",
    "\n",
    "large langauage model(ex. chat GPT)는 여러 많은 언어모델들을 사용한 결과를 주는 것"
   ]
  },
  {
   "cell_type": "code",
   "execution_count": null,
   "id": "d48850ba",
   "metadata": {},
   "outputs": [],
   "source": [
    "이해했다는 것은 전달받은 내용에서 중요한 의미들을 뽑아서 그 의미가 저장되는 상태"
   ]
  },
  {
   "cell_type": "code",
   "execution_count": null,
   "id": "d895a262",
   "metadata": {},
   "outputs": [],
   "source": [
    "신경망 기반 자연어처리\n",
    "- Black Box 모델\n",
    "- End to End 모델\n",
    "- Sqeuence to Sequence 모델\n",
    "\n",
    "=> 입력과 출력 사이에 deep neural network 이 있음\n",
    "입력이 들어가면 원하는 결과가 나오도록 학습을 시켜놓음\n",
    "학습이 잘 안되면 결과가 잘 안나오는 에러값을 계산함\n",
    "원하는 결과값이 나올 수 있도록 신경망의 가중치를 계산함\n",
    "엄청난 반복\n",
    "모든 데이터에 대해 내가 원하는 에러값 이하의 성능을 보일 때까지 학습\n",
    "그 때의 가중치 집합이 모델을 구성하는 최종적인 파라미터가 됨."
   ]
  },
  {
   "cell_type": "code",
   "execution_count": null,
   "id": "95fa5da2",
   "metadata": {},
   "outputs": [],
   "source": [
    "transformer 모델\n",
    "encoder(Bert 계열. 언어이해) + decoder(auto regressive 형태, 언어생성)"
   ]
  },
  {
   "cell_type": "code",
   "execution_count": null,
   "id": "2a19f846",
   "metadata": {},
   "outputs": [],
   "source": [
    "언어이해 모델은 생성은 못함. 언어 생성 모델은 이해도 하고 생성도 함(chat GPT 로 대표됨)."
   ]
  },
  {
   "cell_type": "code",
   "execution_count": null,
   "id": "3016c12a",
   "metadata": {},
   "outputs": [],
   "source": [
    "[Chat-GPT] -> attention 으로 엄청난 발전 + 사용자 의도에 맞는 활용 + 대화형"
   ]
  },
  {
   "cell_type": "code",
   "execution_count": null,
   "id": "b9f4a669",
   "metadata": {},
   "outputs": [],
   "source": [
    "생성기반 AI 논문\n",
    "ChatGPT is not all you need"
   ]
  }
 ],
 "metadata": {
  "kernelspec": {
   "display_name": "Python 3 (ipykernel)",
   "language": "python",
   "name": "python3"
  },
  "language_info": {
   "codemirror_mode": {
    "name": "ipython",
    "version": 3
   },
   "file_extension": ".py",
   "mimetype": "text/x-python",
   "name": "python",
   "nbconvert_exporter": "python",
   "pygments_lexer": "ipython3",
   "version": "3.10.9"
  },
  "toc": {
   "base_numbering": 1,
   "nav_menu": {},
   "number_sections": true,
   "sideBar": true,
   "skip_h1_title": false,
   "title_cell": "Table of Contents",
   "title_sidebar": "Contents",
   "toc_cell": false,
   "toc_position": {},
   "toc_section_display": true,
   "toc_window_display": false
  },
  "varInspector": {
   "cols": {
    "lenName": 16,
    "lenType": 16,
    "lenVar": 40
   },
   "kernels_config": {
    "python": {
     "delete_cmd_postfix": "",
     "delete_cmd_prefix": "del ",
     "library": "var_list.py",
     "varRefreshCmd": "print(var_dic_list())"
    },
    "r": {
     "delete_cmd_postfix": ") ",
     "delete_cmd_prefix": "rm(",
     "library": "var_list.r",
     "varRefreshCmd": "cat(var_dic_list()) "
    }
   },
   "types_to_exclude": [
    "module",
    "function",
    "builtin_function_or_method",
    "instance",
    "_Feature"
   ],
   "window_display": false
  }
 },
 "nbformat": 4,
 "nbformat_minor": 5
}
