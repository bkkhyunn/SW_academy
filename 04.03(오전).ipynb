{
 "cells": [
  {
   "cell_type": "markdown",
   "id": "f24ce37d",
   "metadata": {},
   "source": [
    "### 복습"
   ]
  },
  {
   "cell_type": "code",
   "execution_count": null,
   "id": "9009e7ec",
   "metadata": {},
   "outputs": [],
   "source": [
    "과제로 이렇게 확률을 만들어낼 수 있고 다음 글자를 예측해볼 수 있구나를 알 수 있음\n",
    "\n",
    "지난주 내내 Tokenizing 함 - 여러가지 토큰화 하는 함수들 있었음. stemming(Porter), lemmatization, MA + POS\n",
    "이걸로 안 끝나서 stemming 과 관련지어서 n-gram 했었고 BPE 했었음.\n",
    "토큰화 관련해서는 branch entropy, CS(Perplexity)를 했었음.\n",
    "\n",
    "중요하게 봤어야 하는 것은, 결국에는 문장S가 =ABCD 라면, 우리가 사용하는 언어V = {A, B, C, D, E, F, G, ...}\n",
    "setence1 = ABCDE.., Vocabulary = {A, B, C, D, E, F, G, ...}\n",
    "P(S1) = P(A, B, C, D, E)  # 결합확률 -> 이렇게 동시에 하나의 문장이 되는 경우가 거의 없음.(ABCDE 모두 사용되어)\n",
    "      = P(E|A, B, C, D)P(A, B, C, D)\n",
    "      = P(E|A, B, C, D)P(D|A, B, C)P(C|A, B)P(B|A)P(A)  # 연쇄법칙 - 조건부확률\n",
    "    따라서 결합확률을 구할 수 없으니 조건부확률로. 그러나 조건부확률에서도 결합확률처럼 한 곳이 빵꾸가 나면(없는 것이 있으면) 0이 되버리니까\n",
    "MA(markov assumption, chain rule) 적용\n",
    "1st MA ~= P(E|D)P(D|C)P(C|B)P(B|A)P(A) 유사하다! 이것이 N-gram 그 중에서 bigram 이 의미하는 바였음.\n",
    "이것을 이용해서 띄어쓰기도 해본 것.\n",
    "우리 글 같은 경우는 1음절, 2음절 단어가 매우 많아서 잘 안돌아감.\n",
    "\n",
    "아래의 것들은 sub-word 라는 분절 찾기 위해서 사용. 그러나 꼭 안 그래도 됨. 분절 중 엔트로피가 가장 높은 것을 봤더니 띄어쓰기라면 이것을 활용할\n",
    "수도 있음. 확률값을 만들어 냈기 때문에 LM 로 활용할 수 있음.\n",
    "LM은 확률값을 찾아내고 계산 가능한 형태인 것.\n",
    "Branch Entropy = sum(-p logp) = -sum(p logp)  엔트로피값이 치솟는 부분을 찾음. 이 때 P 를 어떻게 정의하느냐.\n",
    "이 p를 정의하기 위해서 p(s1) = {token ㅌ s1}, sum(p(i|1-i-1) * log p)\n",
    "                i=2, p(2번째나오는 글자|1번부터 바로 앞 글자 = 1)\n",
    "                i=3, p(3번째글자|1번부터 바로 앞 글자 = 1,2) ...\n",
    "        \n",
    "        p(i|1-i-1) * log p 이게 엔트로피. 엔트로피를 구하기 위해서 확률을 이용한 것.\n",
    "\n",
    "CS(Perplexity) = (1/p(s1)) **(1/len(s1))  -> 이 값이 커지거나 작아지거나 함. 보통은 작아지는 것이 좋음(확률을 뒤집어놓은 형태라서)\n",
    "               p(s1) **(1/len(s1))\n",
    "               -> 글자가 길어지면 길어질 수록 패널티를 받는 거라서 (1/len(s1)) 을 1/2 로 봄. 여기서는 응집력이 커질 때 좋은 것\n",
    "        \n",
    "BytesPairEncoding => WordPieceModel(Google) => SentencePieceModel\n",
    "얘는 확률로 계산하지 않음. 같이 나온 쌍(Collocation)을 하나의 토큰으로 보자는 것.\n",
    "여기서는 같이 나온 빈도가 중요. 같이 나온 애들을 계속 합쳐나가는 구조. 그 때 특수한 전략, 특수한 threshold\n",
    "=> 데이터만 있으면 얼마든지 만들 수 있음. 언어적 지석 필요없음. 확률 필요없음. 그래서 이게 DNN 이랑 아주 잘 맞음\n",
    "\n",
    "지식베이스(Rule-based) - (통계)확률기반(Corpus) - 통계 - 추론(NN) - 전이학습(오늘날의 딥러닝)\n",
    "추론이 NN-based 의 Embedding. 전이학습이 Transformer(Attention), Bert, GPT\n",
    "\n",
    "통계 Co-occurence, Matrix, Decomp.\n",
    "NNL(P)M - 뉴럴네트워크 랭귀지 모델 -> 구글에서 이것을 기반으로 한 W2V를 만듦.\n",
    "\n",
    "여기까지 지난주"
   ]
  },
  {
   "cell_type": "code",
   "execution_count": null,
   "id": "00d548eb",
   "metadata": {},
   "outputs": [],
   "source": [
    "지식베이스(Rule-based) - (빈도)확률기반(Corpus) - 통계 - 추론(NN) - 전이학습(*)\n",
    "                                  <----- NN-based Embedding, Attention\n",
    "                                  <----- Co-occurence, Matrix, Decomp.\n",
    "                                                  NNL(P)M - W2V\n",
    "DNN Model - Upstream(사전학습), Downstream(LM - 분류, 군집, ...)\n",
    "\n",
    "Normalization - 대소문자, 구두점, 불용어(사전, 규칙 기반)\n",
    "Edit Distance - 편집거리, 안녕(아녕,안ㄴ녕) => Out Of Voca.(미등록어)"
   ]
  },
  {
   "cell_type": "code",
   "execution_count": null,
   "id": "66d70be4",
   "metadata": {},
   "outputs": [],
   "source": [
    "DNN Model - Upstream(사전학습), Downstream(LM - 분류, 군집, 생성 등등)\n",
    "우리는 사전학습을 할 일이 거의 없다."
   ]
  },
  {
   "cell_type": "markdown",
   "id": "76124908",
   "metadata": {
    "ExecuteTime": {
     "end_time": "2023-04-02T14:35:21.634179Z",
     "start_time": "2023-04-02T14:35:21.626733Z"
    }
   },
   "source": [
    "### 수업"
   ]
  },
  {
   "cell_type": "code",
   "execution_count": null,
   "id": "38ef921f",
   "metadata": {},
   "outputs": [],
   "source": [
    "오늘 할 것은\n",
    "Normalization - 대소문자, 구두점 처리, 불용어(stopwords) 여기까지 (사전, 규칙기반) -> 내 데이터에 적절한 텍스트 조각들을 만들 수 있음.\n",
    "이후에 Edit Distance 볼 것. 편집거리. 안녕(아녕, 안ㄴ녕) - 오타때문에 다 다르게 인식하고 확률값도 다 다름. 미등록어 문제 발생\n",
    "편집거리를 통해서 이를 최대한 보정하는 방법 볼 것.\n",
    "\n",
    "그러면 통계적 방법, 지식베이스 전처리 방법들을 어느정도 해본 것이 됨. 정규식, 지프/힙스의 법칙까지.\n",
    "\n",
    "이것들은 언어라서 전처리가 이렇게 힘든 것."
   ]
  },
  {
   "cell_type": "code",
   "execution_count": null,
   "id": "d18ef3bc",
   "metadata": {},
   "outputs": [],
   "source": [
    "불용어: 지프의 법칙 측면 - 너무 흔해 빠져서 의미를 전달하지 못함. 어디서나 나옴.\n",
    "     비속어, 사전등재되지 않은 단어, 신조어, ...\n",
    "        \n",
    "=> 데이터 전처리하고 피쳐 간 상관관계 보고 데이터 온전한지 보고, missing value 등 이런 과정이랑 똑같은 것.\n",
    "=> 이로써 좋은 feature 가지고 모델을 만들려고 하는 것."
   ]
  },
  {
   "cell_type": "code",
   "execution_count": 1,
   "id": "f15f237c",
   "metadata": {
    "ExecuteTime": {
     "end_time": "2023-04-03T13:06:54.684619Z",
     "start_time": "2023-04-03T13:06:53.951080Z"
    }
   },
   "outputs": [],
   "source": [
    "from nltk.corpus import stopwords"
   ]
  },
  {
   "cell_type": "code",
   "execution_count": 2,
   "id": "7b368b9c",
   "metadata": {
    "ExecuteTime": {
     "end_time": "2023-04-03T13:06:56.344232Z",
     "start_time": "2023-04-03T13:06:56.326461Z"
    },
    "scrolled": true
   },
   "outputs": [
    {
     "data": {
      "text/plain": [
       "['arabic',\n",
       " 'azerbaijani',\n",
       " 'basque',\n",
       " 'bengali',\n",
       " 'catalan',\n",
       " 'chinese',\n",
       " 'danish',\n",
       " 'dutch',\n",
       " 'english',\n",
       " 'finnish',\n",
       " 'french',\n",
       " 'german',\n",
       " 'greek',\n",
       " 'hebrew',\n",
       " 'hinglish',\n",
       " 'hungarian',\n",
       " 'indonesian',\n",
       " 'italian',\n",
       " 'kazakh',\n",
       " 'nepali',\n",
       " 'norwegian',\n",
       " 'portuguese',\n",
       " 'romanian',\n",
       " 'russian',\n",
       " 'slovene',\n",
       " 'spanish',\n",
       " 'swedish',\n",
       " 'tajik',\n",
       " 'turkish']"
      ]
     },
     "execution_count": 2,
     "metadata": {},
     "output_type": "execute_result"
    }
   ],
   "source": [
    "stopwords.fileids()\n",
    "# nltk 에서 쓰는 불용어 리스트."
   ]
  },
  {
   "cell_type": "code",
   "execution_count": 3,
   "id": "a571286f",
   "metadata": {
    "ExecuteTime": {
     "end_time": "2023-04-03T13:07:00.605730Z",
     "start_time": "2023-04-03T13:07:00.594891Z"
    }
   },
   "outputs": [
    {
     "name": "stdout",
     "output_type": "stream",
     "text": [
      "i\n",
      "me\n",
      "my\n",
      "myself\n",
      "we\n",
      "our\n",
      "ours\n",
      "ourselves\n",
      "you\n",
      "you're\n",
      "you've\n",
      "you'll\n",
      "you'd\n",
      "your\n",
      "yours\n",
      "yourself\n",
      "yourselves\n",
      "he\n",
      "him\n",
      "his\n",
      "himself\n",
      "she\n",
      "she's\n",
      "her\n",
      "hers\n",
      "herself\n",
      "it\n",
      "it's\n",
      "its\n",
      "itself\n",
      "they\n",
      "them\n",
      "their\n",
      "theirs\n",
      "themselves\n",
      "what\n",
      "which\n",
      "who\n",
      "whom\n",
      "this\n",
      "that\n",
      "that'll\n",
      "these\n",
      "those\n",
      "am\n",
      "is\n",
      "are\n",
      "was\n",
      "were\n",
      "be\n",
      "been\n",
      "being\n",
      "have\n",
      "has\n",
      "had\n",
      "having\n",
      "do\n",
      "does\n",
      "did\n",
      "doing\n",
      "a\n",
      "an\n",
      "the\n",
      "and\n",
      "but\n",
      "if\n",
      "or\n",
      "because\n",
      "as\n",
      "until\n",
      "while\n",
      "of\n",
      "at\n",
      "by\n",
      "for\n",
      "with\n",
      "about\n",
      "against\n",
      "between\n",
      "into\n",
      "through\n",
      "during\n",
      "before\n",
      "after\n",
      "above\n",
      "below\n",
      "to\n",
      "from\n",
      "up\n",
      "down\n",
      "in\n",
      "out\n",
      "on\n",
      "off\n",
      "over\n",
      "under\n",
      "again\n",
      "further\n",
      "then\n",
      "once\n",
      "here\n",
      "there\n",
      "when\n",
      "where\n",
      "why\n",
      "how\n",
      "all\n",
      "any\n",
      "both\n",
      "each\n",
      "few\n",
      "more\n",
      "most\n",
      "other\n",
      "some\n",
      "such\n",
      "no\n",
      "nor\n",
      "not\n",
      "only\n",
      "own\n",
      "same\n",
      "so\n",
      "than\n",
      "too\n",
      "very\n",
      "s\n",
      "t\n",
      "can\n",
      "will\n",
      "just\n",
      "don\n",
      "don't\n",
      "should\n",
      "should've\n",
      "now\n",
      "d\n",
      "ll\n",
      "m\n",
      "o\n",
      "re\n",
      "ve\n",
      "y\n",
      "ain\n",
      "aren\n",
      "aren't\n",
      "couldn\n",
      "couldn't\n",
      "didn\n",
      "didn't\n",
      "doesn\n",
      "doesn't\n",
      "hadn\n",
      "hadn't\n",
      "hasn\n",
      "hasn't\n",
      "haven\n",
      "haven't\n",
      "isn\n",
      "isn't\n",
      "ma\n",
      "mightn\n",
      "mightn't\n",
      "mustn\n",
      "mustn't\n",
      "needn\n",
      "needn't\n",
      "shan\n",
      "shan't\n",
      "shouldn\n",
      "shouldn't\n",
      "wasn\n",
      "wasn't\n",
      "weren\n",
      "weren't\n",
      "won\n",
      "won't\n",
      "wouldn\n",
      "wouldn't\n",
      "\n"
     ]
    }
   ],
   "source": [
    "# 영어에서 쓰는 불용어\n",
    "print(stopwords.open('english').read())\n",
    "# 대명사, 지시대명사, 접속사, wh- 등등 => 문법상 필요한 애들인데, 의미를 전달하지는 않음. 뒤에 오는 애들이 의미를 전달할 것."
   ]
  },
  {
   "cell_type": "code",
   "execution_count": 4,
   "id": "0fae8f97",
   "metadata": {
    "ExecuteTime": {
     "end_time": "2023-04-03T13:07:03.143621Z",
     "start_time": "2023-04-03T13:07:03.135109Z"
    }
   },
   "outputs": [],
   "source": [
    "stop = stopwords.open('english').read()"
   ]
  },
  {
   "cell_type": "code",
   "execution_count": 5,
   "id": "dc5c2742",
   "metadata": {
    "ExecuteTime": {
     "end_time": "2023-04-03T13:07:04.430918Z",
     "start_time": "2023-04-03T13:07:04.421139Z"
    }
   },
   "outputs": [
    {
     "data": {
      "text/plain": [
       "\"i\\nme\\nmy\\nmyself\\nwe\\nour\\nours\\nourselves\\nyou\\nyou're\\nyou've\\nyou'll\\nyou'd\\nyour\\nyours\\nyourself\\nyourselves\\nhe\\nhim\\nhis\\nhimself\\nshe\\nshe's\\nher\\nhers\\nherself\\nit\\nit's\\nits\\nitself\\nthey\\nthem\\ntheir\\ntheirs\\nthemselves\\nwhat\\nwhich\\nwho\\nwhom\\nthis\\nthat\\nthat'll\\nthese\\nthose\\nam\\nis\\nare\\nwas\\nwere\\nbe\\nbeen\\nbeing\\nhave\\nhas\\nhad\\nhaving\\ndo\\ndoes\\ndid\\ndoing\\na\\nan\\nthe\\nand\\nbut\\nif\\nor\\nbecause\\nas\\nuntil\\nwhile\\nof\\nat\\nby\\nfor\\nwith\\nabout\\nagainst\\nbetween\\ninto\\nthrough\\nduring\\nbefore\\nafter\\nabove\\nbelow\\nto\\nfrom\\nup\\ndown\\nin\\nout\\non\\noff\\nover\\nunder\\nagain\\nfurther\\nthen\\nonce\\nhere\\nthere\\nwhen\\nwhere\\nwhy\\nhow\\nall\\nany\\nboth\\neach\\nfew\\nmore\\nmost\\nother\\nsome\\nsuch\\nno\\nnor\\nnot\\nonly\\nown\\nsame\\nso\\nthan\\ntoo\\nvery\\ns\\nt\\ncan\\nwill\\njust\\ndon\\ndon't\\nshould\\nshould've\\nnow\\nd\\nll\\nm\\no\\nre\\nve\\ny\\nain\\naren\\naren't\\ncouldn\\ncouldn't\\ndidn\\ndidn't\\ndoesn\\ndoesn't\\nhadn\\nhadn't\\nhasn\\nhasn't\\nhaven\\nhaven't\\nisn\\nisn't\\nma\\nmightn\\nmightn't\\nmustn\\nmustn't\\nneedn\\nneedn't\\nshan\\nshan't\\nshouldn\\nshouldn't\\nwasn\\nwasn't\\nweren\\nweren't\\nwon\\nwon't\\nwouldn\\nwouldn't\\n\""
      ]
     },
     "execution_count": 5,
     "metadata": {},
     "output_type": "execute_result"
    }
   ],
   "source": [
    "stop\n",
    "# 어퍼스트로피 살려야됨."
   ]
  },
  {
   "cell_type": "code",
   "execution_count": 6,
   "id": "7ed357e5",
   "metadata": {
    "ExecuteTime": {
     "end_time": "2023-04-03T13:07:12.422538Z",
     "start_time": "2023-04-03T13:07:12.411688Z"
    }
   },
   "outputs": [],
   "source": [
    "s = '''I'd like to learn more somthing.\n",
    "              I'd like to learn more somthing.'''"
   ]
  },
  {
   "cell_type": "code",
   "execution_count": 7,
   "id": "57f2dfd8",
   "metadata": {
    "ExecuteTime": {
     "end_time": "2023-04-03T13:07:13.501470Z",
     "start_time": "2023-04-03T13:07:13.491498Z"
    }
   },
   "outputs": [],
   "source": [
    "from nltk.tokenize import word_tokenize"
   ]
  },
  {
   "cell_type": "code",
   "execution_count": 8,
   "id": "f74b8fbd",
   "metadata": {
    "ExecuteTime": {
     "end_time": "2023-04-03T13:07:14.689765Z",
     "start_time": "2023-04-03T13:07:14.667660Z"
    },
    "scrolled": true
   },
   "outputs": [
    {
     "data": {
      "text/plain": [
       "['I',\n",
       " \"'d\",\n",
       " 'like',\n",
       " 'to',\n",
       " 'learn',\n",
       " 'more',\n",
       " 'somthing',\n",
       " '.',\n",
       " 'I',\n",
       " \"'d\",\n",
       " 'like',\n",
       " 'to',\n",
       " 'learn',\n",
       " 'more',\n",
       " 'somthing',\n",
       " '.']"
      ]
     },
     "execution_count": 8,
     "metadata": {},
     "output_type": "execute_result"
    }
   ],
   "source": [
    "word_tokenize(s)  # 어퍼스트로피로 짜름."
   ]
  },
  {
   "cell_type": "code",
   "execution_count": 9,
   "id": "bc349ede",
   "metadata": {
    "ExecuteTime": {
     "end_time": "2023-04-03T13:07:29.045195Z",
     "start_time": "2023-04-03T13:07:29.031602Z"
    }
   },
   "outputs": [
    {
     "data": {
      "text/plain": [
       "True"
      ]
     },
     "execution_count": 9,
     "metadata": {},
     "output_type": "execute_result"
    }
   ],
   "source": [
    "word_tokenize(s)[1] in stop"
   ]
  },
  {
   "cell_type": "code",
   "execution_count": 10,
   "id": "a8866eb2",
   "metadata": {
    "ExecuteTime": {
     "end_time": "2023-04-03T13:07:34.333420Z",
     "start_time": "2023-04-03T13:07:34.318431Z"
    }
   },
   "outputs": [
    {
     "data": {
      "text/plain": [
       "False"
      ]
     },
     "execution_count": 10,
     "metadata": {},
     "output_type": "execute_result"
    }
   ],
   "source": [
    "word_tokenize(s)[1] in stop.split()"
   ]
  },
  {
   "cell_type": "code",
   "execution_count": 11,
   "id": "6c484dc2",
   "metadata": {
    "ExecuteTime": {
     "end_time": "2023-04-03T13:07:35.958291Z",
     "start_time": "2023-04-03T13:07:35.950337Z"
    }
   },
   "outputs": [
    {
     "data": {
      "text/plain": [
       "True"
      ]
     },
     "execution_count": 11,
     "metadata": {},
     "output_type": "execute_result"
    }
   ],
   "source": [
    "\"'\" in stop"
   ]
  },
  {
   "cell_type": "code",
   "execution_count": 12,
   "id": "a8aaab68",
   "metadata": {
    "ExecuteTime": {
     "end_time": "2023-04-03T13:08:10.149366Z",
     "start_time": "2023-04-03T13:08:10.138040Z"
    }
   },
   "outputs": [
    {
     "data": {
      "text/plain": [
       "False"
      ]
     },
     "execution_count": 12,
     "metadata": {},
     "output_type": "execute_result"
    }
   ],
   "source": [
    "''.join(word_tokenize(s.lower())[:2]) in stop.split()"
   ]
  },
  {
   "cell_type": "code",
   "execution_count": 13,
   "id": "0912be76",
   "metadata": {
    "ExecuteTime": {
     "end_time": "2023-04-03T13:08:12.702527Z",
     "start_time": "2023-04-03T13:08:12.686725Z"
    }
   },
   "outputs": [
    {
     "data": {
      "text/plain": [
       "\"i'd\""
      ]
     },
     "execution_count": 13,
     "metadata": {},
     "output_type": "execute_result"
    }
   ],
   "source": [
    "''.join(word_tokenize(s.lower())[:2])"
   ]
  },
  {
   "cell_type": "code",
   "execution_count": 14,
   "id": "3d98d84f",
   "metadata": {
    "ExecuteTime": {
     "end_time": "2023-04-03T13:08:24.776640Z",
     "start_time": "2023-04-03T13:08:24.763917Z"
    }
   },
   "outputs": [
    {
     "name": "stdout",
     "output_type": "stream",
     "text": [
      "i skipped\n",
      "like\n",
      "you skipped\n",
      ".\n"
     ]
    }
   ],
   "source": [
    "# 여기서 하고 싶은 것은,\n",
    "for t in word_tokenize('I like you.'.lower()):\n",
    "    if t in stop.split():\n",
    "        print(t, 'skipped')\n",
    "    else:\n",
    "        print(t)"
   ]
  },
  {
   "cell_type": "code",
   "execution_count": 15,
   "id": "1fbb99c6",
   "metadata": {
    "ExecuteTime": {
     "end_time": "2023-04-03T13:08:53.477646Z",
     "start_time": "2023-04-03T13:08:53.463792Z"
    }
   },
   "outputs": [
    {
     "name": "stdout",
     "output_type": "stream",
     "text": [
      "i skipped\n",
      "like\n",
      "you skipped\n"
     ]
    }
   ],
   "source": [
    "# 이게 원래 방법\n",
    "# 구두점 날리고, stopwords 날리면 전처리가 끝난 것.\n",
    "\n",
    "import re\n",
    "from string import punctuation\n",
    "\n",
    "for t in word_tokenize(re.sub('[{}]'.format(re.escape(punctuation)),\n",
    "                             '',\n",
    "                             'I like you.'.lower())):\n",
    "    if t in stop.split():\n",
    "        print(t, 'skipped')\n",
    "    else:\n",
    "        print(t)"
   ]
  },
  {
   "cell_type": "code",
   "execution_count": 16,
   "id": "b4700f9f",
   "metadata": {
    "ExecuteTime": {
     "end_time": "2023-04-03T13:09:04.231032Z",
     "start_time": "2023-04-03T13:09:04.210288Z"
    }
   },
   "outputs": [
    {
     "name": "stdout",
     "output_type": "stream",
     "text": [
      "i skipped\n",
      "you skipped\n"
     ]
    },
    {
     "data": {
      "text/plain": [
       "'like'"
      ]
     },
     "execution_count": 16,
     "metadata": {},
     "output_type": "execute_result"
    }
   ],
   "source": [
    "result = list()\n",
    "\n",
    "for t in word_tokenize(re.sub('[{}]'.format(re.escape(punctuation)),\n",
    "                             '',\n",
    "                             'I like you.'.lower())):\n",
    "    if t in stop.split():\n",
    "        print(t, 'skipped')\n",
    "    else:\n",
    "        result.append(t)\n",
    "        \n",
    "' '.join(result)\n",
    "\n",
    "# 이렇게 되면 다 사라지고 like 만 남음."
   ]
  },
  {
   "cell_type": "code",
   "execution_count": 17,
   "id": "c258ad25",
   "metadata": {
    "ExecuteTime": {
     "end_time": "2023-04-03T13:09:15.247899Z",
     "start_time": "2023-04-03T13:09:15.239477Z"
    }
   },
   "outputs": [
    {
     "name": "stdout",
     "output_type": "stream",
     "text": [
      "to skipped\n",
      "be skipped\n",
      "or skipped\n",
      "not skipped\n",
      "to skipped\n",
      "be skipped\n"
     ]
    },
    {
     "data": {
      "text/plain": [
       "''"
      ]
     },
     "execution_count": 17,
     "metadata": {},
     "output_type": "execute_result"
    }
   ],
   "source": [
    "result = list()\n",
    "\n",
    "for t in word_tokenize(re.sub('[{}]'.format(re.escape(punctuation)),\n",
    "                             '',\n",
    "                             'To be or not to be'.lower())):\n",
    "    if t in stop.split():\n",
    "        print(t, 'skipped')\n",
    "    else:\n",
    "        result.append(t)\n",
    "        \n",
    "' '.join(result)"
   ]
  },
  {
   "cell_type": "code",
   "execution_count": null,
   "id": "b16d1a74",
   "metadata": {},
   "outputs": [],
   "source": [
    "# 위의 경우\n",
    "# 아주 유명한 말인데 다 불용어. 얼마든지 사용되는 표현임에도 사라짐.\n",
    "# 대용량 텍스트일 때 안하는 것보다 하는 것이 양질의 피쳐를 골라내는데 좋음.\n",
    "# 다만 특수한 도메인에서는 무조건이 아니라 선택적으로 잘 활용해야 한다."
   ]
  },
  {
   "cell_type": "code",
   "execution_count": 18,
   "id": "49c23c99",
   "metadata": {
    "ExecuteTime": {
     "end_time": "2023-04-03T13:09:35.635977Z",
     "start_time": "2023-04-03T13:09:35.619471Z"
    }
   },
   "outputs": [
    {
     "data": {
      "text/plain": [
       "'어머니는 짜장면이 싫다고 하셨어'"
      ]
     },
     "execution_count": 18,
     "metadata": {},
     "output_type": "execute_result"
    }
   ],
   "source": [
    "# 한글을 보자.\n",
    "# 한글 불용어 사전 - 존재하기는 하지만, 표준은 x.\n",
    "stop = ['은', '는', '이', '가', '을', '를', '께서', '에게', '고', '었어', '다']  # 주로 조사\n",
    "\n",
    "result = list()\n",
    "\n",
    "for t in word_tokenize(re.sub('[{}]'.format(re.escape(punctuation)),\n",
    "                             '',\n",
    "                             '어머니는 짜장면이 싫다고 하셨어.')):  # 여기서 토큰화하는 다른 방식이 필요함\n",
    "    if t in stop:\n",
    "        print(t, 'skipped')\n",
    "    else:\n",
    "        result.append(t)\n",
    "        \n",
    "' '.join(result)"
   ]
  },
  {
   "cell_type": "code",
   "execution_count": 19,
   "id": "2de2fd81",
   "metadata": {
    "ExecuteTime": {
     "end_time": "2023-04-03T13:09:38.745370Z",
     "start_time": "2023-04-03T13:09:38.738170Z"
    }
   },
   "outputs": [],
   "source": [
    "stop = ['은', '는', '이', '가', '을', '를', '께서', '에게', '다고', '시', '었', '어']"
   ]
  },
  {
   "cell_type": "code",
   "execution_count": 20,
   "id": "490006a2",
   "metadata": {
    "ExecuteTime": {
     "end_time": "2023-04-03T13:09:59.382930Z",
     "start_time": "2023-04-03T13:09:55.731574Z"
    }
   },
   "outputs": [
    {
     "name": "stdout",
     "output_type": "stream",
     "text": [
      "는 skipped\n",
      "이 skipped\n",
      "다고 skipped\n",
      "시 skipped\n",
      "었 skipped\n",
      "어 skipped\n"
     ]
    },
    {
     "data": {
      "text/plain": [
       "'어머니 짜장면 싫 하'"
      ]
     },
     "execution_count": 20,
     "metadata": {},
     "output_type": "execute_result"
    }
   ],
   "source": [
    "from konlpy.tag import Komoran\n",
    "ma = Komoran()\n",
    "\n",
    "result = list()\n",
    "for t in ma.morphs(re.sub('[{}]'.format(re.escape(punctuation)),\n",
    "                             '',\n",
    "                             '어머니는 짜장면이 싫다고 하셨어.')):\n",
    "    if t in stop:\n",
    "        print(t, 'skipped')\n",
    "    else:\n",
    "        result.append(t)\n",
    "        \n",
    "' '.join(result)\n",
    "\n",
    "# 의미전달에 큰 의미가 없음. 지워진 것들이 의미를 전달하지 못하는 문법상 형태소.\n",
    "# 우리는 조사, 어미가 없어도 의미를 잘 전달받을 수 있음.  => '어머니 짜장면 싫 하'\n",
    "# 영어는 not을 불용어처리 하기 때문에 어머니 짜장면 이었을 것."
   ]
  },
  {
   "cell_type": "code",
   "execution_count": 27,
   "id": "6def4a1c",
   "metadata": {
    "ExecuteTime": {
     "end_time": "2023-04-03T01:00:05.425894Z",
     "start_time": "2023-04-03T01:00:05.399687Z"
    }
   },
   "outputs": [
    {
     "name": "stdout",
     "output_type": "stream",
     "text": [
      "는 skipped\n",
      "이 skipped\n"
     ]
    },
    {
     "data": {
      "text/plain": [
       "'어머니 짜장면 핵 노 맛 이래'"
      ]
     },
     "execution_count": 27,
     "metadata": {},
     "output_type": "execute_result"
    }
   ],
   "source": [
    "# 문제는 형태소 분석기도 좋은 애로 있어야 하고, 데이터도 표준화된 문법을 잘 지켰어야 함.\n",
    "result = list()\n",
    "for t in ma.morphs(re.sub('[{}]'.format(re.escape(punctuation)),\n",
    "                             '',\n",
    "                             '어머니는 짜장면이 핵노맛이래.')):  # 신조어, 비속어, 사전등재 단어x\n",
    "    if t in stop:\n",
    "        print(t, 'skipped')\n",
    "    else:\n",
    "        result.append(t)\n",
    "        \n",
    "' '.join(result)"
   ]
  },
  {
   "cell_type": "code",
   "execution_count": 28,
   "id": "742cef31",
   "metadata": {
    "ExecuteTime": {
     "end_time": "2023-04-03T01:00:13.581566Z",
     "start_time": "2023-04-03T01:00:13.552018Z"
    }
   },
   "outputs": [
    {
     "data": {
      "text/plain": [
       "[('핵', 'NNG'), ('노', 'NNP'), ('맛', 'NNG')]"
      ]
     },
     "execution_count": 28,
     "metadata": {},
     "output_type": "execute_result"
    }
   ],
   "source": [
    "ma.pos('핵노맛')\n",
    "# 다 명사로 읽음.\n",
    "# 사전에 없다보니 다 하나로 인식을 못함"
   ]
  },
  {
   "cell_type": "code",
   "execution_count": null,
   "id": "6a9e9b33",
   "metadata": {},
   "outputs": [],
   "source": [
    "# 우리글은 표현력이 워낙 풍부해서 stopwords 에서 못 걸러내는 표현들이 많이 생김. 엄청\n",
    "# 또한 stop 안에 얼마나 많은 단어가 있어야 하는지도 문제. 불용어 사전을 어떻게 관리할까"
   ]
  },
  {
   "cell_type": "code",
   "execution_count": 21,
   "id": "71c726e0",
   "metadata": {
    "ExecuteTime": {
     "end_time": "2023-04-03T13:10:37.722282Z",
     "start_time": "2023-04-03T13:10:37.704378Z"
    },
    "scrolled": true
   },
   "outputs": [
    {
     "data": {
      "text/plain": [
       "{'EC': '연결 어미',\n",
       " 'EF': '종결 어미',\n",
       " 'EP': '선어말어미',\n",
       " 'ETM': '관형형 전성 어미',\n",
       " 'ETN': '명사형 전성 어미',\n",
       " 'IC': '감탄사',\n",
       " 'JC': '접속 조사',\n",
       " 'JKB': '부사격 조사',\n",
       " 'JKC': '보격 조사',\n",
       " 'JKG': '관형격 조사',\n",
       " 'JKO': '목적격 조사',\n",
       " 'JKQ': '인용격 조사',\n",
       " 'JKS': '주격 조사',\n",
       " 'JKV': '호격 조사',\n",
       " 'JX': '보조사',\n",
       " 'MAG': '일반 부사',\n",
       " 'MAJ': '접속 부사',\n",
       " 'MM': '관형사',\n",
       " 'NA': '분석불능범주',\n",
       " 'NF': '명사추정범주',\n",
       " 'NNB': '의존 명사',\n",
       " 'NNG': '일반 명사',\n",
       " 'NNP': '고유 명사',\n",
       " 'NP': '대명사',\n",
       " 'NR': '수사',\n",
       " 'NV': '용언추정범주',\n",
       " 'SE': '줄임표',\n",
       " 'SF': '마침표, 물음표, 느낌표',\n",
       " 'SH': '한자',\n",
       " 'SL': '외국어',\n",
       " 'SN': '숫자',\n",
       " 'SO': '붙임표(물결,숨김,빠짐)',\n",
       " 'SP': '쉼표,가운뎃점,콜론,빗금',\n",
       " 'SS': '따옴표,괄호표,줄표',\n",
       " 'SW': '기타기호 (논리수학기호,화폐기호)',\n",
       " 'VA': '형용사',\n",
       " 'VCN': '부정 지정사',\n",
       " 'VCP': '긍정 지정사',\n",
       " 'VV': '동사',\n",
       " 'VX': '보조 용언',\n",
       " 'XPN': '체언 접두사',\n",
       " 'XR': '어근',\n",
       " 'XSA': '형용사 파생 접미사',\n",
       " 'XSN': '명사파생 접미사',\n",
       " 'XSV': '동사 파생 접미사'}"
      ]
     },
     "execution_count": 21,
     "metadata": {},
     "output_type": "execute_result"
    }
   ],
   "source": [
    "# 불용어 리스트를 어떻게 활용? 실질적으로 그렇게 고민할 필요는 x\n",
    "ma.tagset"
   ]
  },
  {
   "cell_type": "code",
   "execution_count": 22,
   "id": "70222d74",
   "metadata": {
    "ExecuteTime": {
     "end_time": "2023-04-03T13:10:40.933962Z",
     "start_time": "2023-04-03T13:10:40.909926Z"
    }
   },
   "outputs": [
    {
     "data": {
      "text/plain": [
       "[('어머니', 'NNG'),\n",
       " ('는', 'JX'),\n",
       " ('짜장면', 'NNP'),\n",
       " ('이', 'JKS'),\n",
       " ('싫', 'VA'),\n",
       " ('다고', 'EC'),\n",
       " ('하', 'VV'),\n",
       " ('았', 'EP'),\n",
       " ('어', 'EF'),\n",
       " ('.', 'SF')]"
      ]
     },
     "execution_count": 22,
     "metadata": {},
     "output_type": "execute_result"
    }
   ],
   "source": [
    "ma.pos('어머니는 짜장면이 싫다고 하였어.')"
   ]
  },
  {
   "cell_type": "code",
   "execution_count": 23,
   "id": "1c18d63c",
   "metadata": {
    "ExecuteTime": {
     "end_time": "2023-04-03T13:11:18.149275Z",
     "start_time": "2023-04-03T13:11:18.108039Z"
    }
   },
   "outputs": [
    {
     "name": "stdout",
     "output_type": "stream",
     "text": [
      "['어머니', '짜장면', '핵', '노', '맛', '이', '.']\n",
      "['어머니', '짜장면', '싫', '하', '.']\n"
     ]
    }
   ],
   "source": [
    "d = '''어머니는 짜장면이 핵노맛이래.\n",
    "어머니는 짜장면이 싫다고 하였어.'''\n",
    "for s in d.splitlines():\n",
    "    print([t[0] for t in ma.pos(s) if t[1][0] not in ['E', 'J']])  # (토큰, 품사)\n",
    "    \n",
    "# 품사 정보를 가지고 걸러낸 것."
   ]
  },
  {
   "cell_type": "code",
   "execution_count": null,
   "id": "32d2bf67",
   "metadata": {},
   "outputs": [],
   "source": [
    "# 문제는 이런 것\n",
    "# 엄마, 어머니, 어무니, 어무이, 아빠 부인 => 이게 다 같은 말.\n",
    "# 그런데 다 다르게 생겼다는 것이 문제.\n",
    "# 엄마, 어머니, 어무니, 어무이, 아빠 부인 이를 불용어 처리할 떄는 어떻게 해야할까?"
   ]
  },
  {
   "cell_type": "code",
   "execution_count": null,
   "id": "08c4ee5a",
   "metadata": {},
   "outputs": [],
   "source": [
    "# 반대 케이스도 가능함.\n",
    "# 특정 분야에서 꼭 있어야 하는 표현.\n",
    "# => 선물포장 => 선물 포장 ; 띄어쓰기 때문에 인식이 안됨."
   ]
  },
  {
   "cell_type": "code",
   "execution_count": null,
   "id": "6262bd66",
   "metadata": {},
   "outputs": [],
   "source": [
    "# 사전을 하나 구축 하고, 사전에 있는 표현들만 가져다가 필터링을 하거나 할 떄."
   ]
  },
  {
   "cell_type": "code",
   "execution_count": 24,
   "id": "ff5a1d0a",
   "metadata": {
    "ExecuteTime": {
     "end_time": "2023-04-03T13:11:52.611155Z",
     "start_time": "2023-04-03T13:11:52.595051Z"
    }
   },
   "outputs": [
    {
     "data": {
      "text/plain": [
       "'어쩌고 저쩌고 **'"
      ]
     },
     "execution_count": 24,
     "metadata": {},
     "output_type": "execute_result"
    }
   ],
   "source": [
    "stop = ['시발']\n",
    "result = list()\n",
    "for t in word_tokenize('어쩌고 저쩌고 시발'):\n",
    "    if t in stop:\n",
    "        result.append('*'*len(t))\n",
    "    else:\n",
    "        result.append(t)\n",
    "        \n",
    "' '.join(result)"
   ]
  },
  {
   "cell_type": "code",
   "execution_count": 25,
   "id": "271f2ae4",
   "metadata": {
    "ExecuteTime": {
     "end_time": "2023-04-03T13:18:25.407313Z",
     "start_time": "2023-04-03T13:18:25.392356Z"
    }
   },
   "outputs": [
    {
     "data": {
      "text/plain": [
       "'어쩌고 저쩌고 씨발놈'"
      ]
     },
     "execution_count": 25,
     "metadata": {},
     "output_type": "execute_result"
    }
   ],
   "source": [
    "stop = ['시발', '씨발']\n",
    "result = list()\n",
    "for t in word_tokenize('어쩌고 저쩌고 씨발놈'):\n",
    "    if t in stop:\n",
    "        result.append('*'*len(t))\n",
    "    else:\n",
    "        result.append(t)\n",
    "        \n",
    "' '.join(result)"
   ]
  },
  {
   "cell_type": "code",
   "execution_count": 26,
   "id": "d3bedae6",
   "metadata": {
    "ExecuteTime": {
     "end_time": "2023-04-03T13:18:28.818803Z",
     "start_time": "2023-04-03T13:18:28.801250Z"
    }
   },
   "outputs": [
    {
     "data": {
      "text/plain": [
       "[('어쩌', 'VV'), ('고', 'EC'), ('어쩌', 'VV'), ('고', 'EC'), ('씨발놈', 'NNG')]"
      ]
     },
     "execution_count": 26,
     "metadata": {},
     "output_type": "execute_result"
    }
   ],
   "source": [
    "ma.pos('어쩌고 저쩌고 씨발놈')"
   ]
  },
  {
   "cell_type": "code",
   "execution_count": 27,
   "id": "3622b32b",
   "metadata": {
    "ExecuteTime": {
     "end_time": "2023-04-03T13:18:32.446366Z",
     "start_time": "2023-04-03T13:18:32.432330Z"
    }
   },
   "outputs": [
    {
     "data": {
      "text/plain": [
       "'어쩌고 저쩌고 ***'"
      ]
     },
     "execution_count": 27,
     "metadata": {},
     "output_type": "execute_result"
    }
   ],
   "source": [
    "stop = ['시발', '씨발', '시발놈', '씨발놈']\n",
    "result = list()\n",
    "for t in word_tokenize('어쩌고 저쩌고 씨발놈'):\n",
    "    if t in stop:\n",
    "        result.append('*'*len(t))\n",
    "    else:\n",
    "        result.append(t)\n",
    "        \n",
    "' '.join(result)"
   ]
  },
  {
   "cell_type": "code",
   "execution_count": 28,
   "id": "215ab964",
   "metadata": {
    "ExecuteTime": {
     "end_time": "2023-04-03T13:18:33.601701Z",
     "start_time": "2023-04-03T13:18:33.580347Z"
    }
   },
   "outputs": [
    {
     "data": {
      "text/plain": [
       "'어쩌고 저쩌고 씨~발'"
      ]
     },
     "execution_count": 28,
     "metadata": {},
     "output_type": "execute_result"
    }
   ],
   "source": [
    "# word_tokenize 를 사용하면 한글자만 틀려도 다 틀려지는 걸 알 수 있음.\n",
    "\n",
    "stop = ['시발', '씨발', '시발놈', '씨발놈']\n",
    "result = list()\n",
    "for t in word_tokenize('어쩌고 저쩌고 씨~발'):\n",
    "    if t in stop:\n",
    "        result.append('*'*len(t))\n",
    "    else:\n",
    "        result.append(t)\n",
    "        \n",
    "' '.join(result)"
   ]
  },
  {
   "cell_type": "code",
   "execution_count": 29,
   "id": "4e329fec",
   "metadata": {
    "ExecuteTime": {
     "end_time": "2023-04-03T13:19:04.497611Z",
     "start_time": "2023-04-03T13:19:04.480092Z"
    }
   },
   "outputs": [
    {
     "data": {
      "text/plain": [
       "'어쩌고 저쩌고 씨이발'"
      ]
     },
     "execution_count": 29,
     "metadata": {},
     "output_type": "execute_result"
    }
   ],
   "source": [
    "stop = ['시발', '씨발', '시발놈', '씨발놈']\n",
    "result = list()\n",
    "for t in word_tokenize(re.sub('[{}]'.format(re.escape(punctuation)),'', '어쩌고 저쩌고 씨이발!!!!')):\n",
    "    if t in stop:\n",
    "        result.append('*'*len(t))\n",
    "    else:\n",
    "        result.append(t)\n",
    "        \n",
    "' '.join(result)"
   ]
  },
  {
   "cell_type": "code",
   "execution_count": null,
   "id": "009a64aa",
   "metadata": {},
   "outputs": [],
   "source": [
    "# BPE 을 이용해서 간단하게 해보자\n",
    "# 사전 만들어놓기"
   ]
  },
  {
   "cell_type": "code",
   "execution_count": 40,
   "id": "165cf24d",
   "metadata": {
    "ExecuteTime": {
     "end_time": "2023-04-03T13:24:31.541350Z",
     "start_time": "2023-04-03T13:24:31.523215Z"
    }
   },
   "outputs": [
    {
     "name": "stdout",
     "output_type": "stream",
     "text": [
      "발</w>\n",
      "<w>시\n",
      "<w>시발</w>\n",
      "<w>C\n",
      "<w>C발</w>\n"
     ]
    }
   ],
   "source": [
    "D = {'시발':5, '시이발':2, 'C발':5, '씨발':3}\n",
    "\n",
    "def preprocessing(d):\n",
    "    result = dict()\n",
    "    # 쪼개고, 단어의 처음에 <w> 마지막에 </w> 붙여주고.\n",
    "    for k,v in d.items():\n",
    "        nk = ' '.join(['<w>']+list(k)+['</w>'])\n",
    "        result[nk] = v\n",
    "    return result\n",
    "\n",
    "\n",
    "d = preprocessing(D)\n",
    "p = list()\n",
    "for _ in range(5):\n",
    "    pairs = dict()\n",
    "    for k,v in d.items():\n",
    "        for i in range(len(k.split())-(2-1)):\n",
    "            bigram = ' '.join(k.split()[i:i+2])\n",
    "            if bigram in pairs:\n",
    "                pairs[bigram] += v\n",
    "            else:\n",
    "                pairs[bigram] = v\n",
    "                \n",
    "    bestkey = max(pairs, key=pairs.get)\n",
    "    \n",
    "    newd = dict()\n",
    "    for k,v in d.items():\n",
    "        nk = re.sub(bestkey, re.sub(' ', '', bestkey), k)\n",
    "        newd[nk] = v\n",
    "    d = newd\n",
    "    print(re.sub(' ', '', bestkey))\n",
    "    p.append(bestkey)"
   ]
  },
  {
   "cell_type": "code",
   "execution_count": 43,
   "id": "25fa9820",
   "metadata": {
    "ExecuteTime": {
     "end_time": "2023-04-03T13:42:15.171721Z",
     "start_time": "2023-04-03T13:42:15.151880Z"
    }
   },
   "outputs": [
    {
     "data": {
      "text/plain": [
       "{'<w>시 이': 2, '이 발</w>': 2, '<w>C 발</w>': 5, '<w> 씨': 3, '씨 발</w>': 3}"
      ]
     },
     "execution_count": 43,
     "metadata": {},
     "output_type": "execute_result"
    }
   ],
   "source": [
    "pairs"
   ]
  },
  {
   "cell_type": "code",
   "execution_count": 41,
   "id": "5c1a1b48",
   "metadata": {
    "ExecuteTime": {
     "end_time": "2023-04-03T13:24:32.330297Z",
     "start_time": "2023-04-03T13:24:32.314099Z"
    }
   },
   "outputs": [
    {
     "data": {
      "text/plain": [
       "{'<w>시발</w>': 5, '<w>시 이 발</w>': 2, '<w>C발</w>': 5, '<w> 씨 발</w>': 3}"
      ]
     },
     "execution_count": 41,
     "metadata": {},
     "output_type": "execute_result"
    }
   ],
   "source": [
    "d"
   ]
  },
  {
   "cell_type": "code",
   "execution_count": 42,
   "id": "c2c13f06",
   "metadata": {
    "ExecuteTime": {
     "end_time": "2023-04-03T13:40:26.361991Z",
     "start_time": "2023-04-03T13:40:26.344732Z"
    }
   },
   "outputs": [
    {
     "data": {
      "text/plain": [
       "['<w>시발</w>']"
      ]
     },
     "execution_count": 42,
     "metadata": {},
     "output_type": "execute_result"
    }
   ],
   "source": [
    "'<w>시발</w>'.split()"
   ]
  },
  {
   "cell_type": "code",
   "execution_count": 31,
   "id": "6bea35be",
   "metadata": {
    "ExecuteTime": {
     "end_time": "2023-04-03T13:20:31.660707Z",
     "start_time": "2023-04-03T13:20:31.647214Z"
    }
   },
   "outputs": [
    {
     "data": {
      "text/plain": [
       "['발 </w>', '<w> 시', '<w>시 발</w>', '<w> C', '<w>C 발</w>']"
      ]
     },
     "execution_count": 31,
     "metadata": {},
     "output_type": "execute_result"
    }
   ],
   "source": [
    "# pattern\n",
    "p"
   ]
  },
  {
   "cell_type": "code",
   "execution_count": 32,
   "id": "14e39603",
   "metadata": {
    "ExecuteTime": {
     "end_time": "2023-04-03T13:21:09.650088Z",
     "start_time": "2023-04-03T13:21:09.637074Z"
    }
   },
   "outputs": [],
   "source": [
    "# 목적을 가지고 시작과 끝 모으기\n",
    "s = list()\n",
    "e = list()\n",
    "\n",
    "for t in p:\n",
    "    if t.split()[0] == '<w>':\n",
    "        s.append(''.join(t.split()[1:]))\n",
    "        \n",
    "    if t.split()[-1] == '</w>':\n",
    "        e.append(''.join(t.split()[:-1]))"
   ]
  },
  {
   "cell_type": "code",
   "execution_count": 33,
   "id": "24a84b47",
   "metadata": {
    "ExecuteTime": {
     "end_time": "2023-04-03T13:21:10.762424Z",
     "start_time": "2023-04-03T13:21:10.751106Z"
    }
   },
   "outputs": [
    {
     "data": {
      "text/plain": [
       "(['시', 'C'], ['발'])"
      ]
     },
     "execution_count": 33,
     "metadata": {},
     "output_type": "execute_result"
    }
   ],
   "source": [
    "s, e"
   ]
  },
  {
   "cell_type": "code",
   "execution_count": 34,
   "id": "fb655b25",
   "metadata": {
    "ExecuteTime": {
     "end_time": "2023-04-03T13:22:14.843546Z",
     "start_time": "2023-04-03T13:22:14.831489Z"
    }
   },
   "outputs": [],
   "source": [
    "pattern = list()\n",
    "for i in s:\n",
    "    for j in e:\n",
    "        pattern.append(re.compile(r'\\b{}.*?{}\\b'.format(i,j)))\n",
    "        # 여기서 워드바운더리\\b\\b를 안쓰면 좀 더 나은 결과가 나올 것. 문장 내에 어디에 있더라도 찾을 것이라서."
   ]
  },
  {
   "cell_type": "code",
   "execution_count": 59,
   "id": "26b1a550",
   "metadata": {
    "ExecuteTime": {
     "end_time": "2023-04-03T01:49:48.140447Z",
     "start_time": "2023-04-03T01:49:48.129448Z"
    }
   },
   "outputs": [
    {
     "data": {
      "text/plain": [
       "[re.compile(r'\\b시.*?발\\b', re.UNICODE), re.compile(r'\\bC.*?발\\b', re.UNICODE)]"
      ]
     },
     "execution_count": 59,
     "metadata": {},
     "output_type": "execute_result"
    }
   ],
   "source": [
    "pattern"
   ]
  },
  {
   "cell_type": "code",
   "execution_count": 35,
   "id": "d26ab9d1",
   "metadata": {
    "ExecuteTime": {
     "end_time": "2023-04-03T13:22:23.956100Z",
     "start_time": "2023-04-03T13:22:23.946958Z"
    }
   },
   "outputs": [
    {
     "data": {
      "text/plain": [
       "{'시발': 5, '시이발': 2, 'C발': 5, '씨발': 3}"
      ]
     },
     "execution_count": 35,
     "metadata": {},
     "output_type": "execute_result"
    }
   ],
   "source": [
    "D"
   ]
  },
  {
   "cell_type": "code",
   "execution_count": 36,
   "id": "e35453f4",
   "metadata": {
    "ExecuteTime": {
     "end_time": "2023-04-03T13:22:32.009616Z",
     "start_time": "2023-04-03T13:22:31.997746Z"
    }
   },
   "outputs": [
    {
     "name": "stdout",
     "output_type": "stream",
     "text": [
      "[<re.Match object; span=(0, 2), match='시발'>, None]\n",
      "[<re.Match object; span=(0, 3), match='시이발'>, None]\n",
      "[None, <re.Match object; span=(0, 2), match='C발'>]\n",
      "[None, None]\n"
     ]
    }
   ],
   "source": [
    "for d in D:\n",
    "    print([p.search(d) for p in pattern])"
   ]
  },
  {
   "cell_type": "code",
   "execution_count": 37,
   "id": "cae72d80",
   "metadata": {
    "ExecuteTime": {
     "end_time": "2023-04-03T13:22:46.732043Z",
     "start_time": "2023-04-03T13:22:46.715069Z"
    }
   },
   "outputs": [
    {
     "name": "stdout",
     "output_type": "stream",
     "text": [
      "1\n",
      "1\n",
      "1\n",
      "0\n"
     ]
    }
   ],
   "source": [
    "for d in D:\n",
    "    print(sum([p.search(d) != None for p in pattern]))"
   ]
  },
  {
   "cell_type": "code",
   "execution_count": 38,
   "id": "e1d2b3cd",
   "metadata": {
    "ExecuteTime": {
     "end_time": "2023-04-03T13:22:49.422000Z",
     "start_time": "2023-04-03T13:22:49.410268Z"
    }
   },
   "outputs": [
    {
     "name": "stdout",
     "output_type": "stream",
     "text": [
      "**\n",
      "***\n",
      "**\n",
      "씨발\n"
     ]
    }
   ],
   "source": [
    "for d in D:\n",
    "    if sum([p.search(d) != None for p in pattern]) > 0:\n",
    "        print('*'*len(d))\n",
    "    else:\n",
    "        print(d)"
   ]
  },
  {
   "cell_type": "code",
   "execution_count": null,
   "id": "0c768d48",
   "metadata": {},
   "outputs": [],
   "source": [
    "# BPE 를 통해서 사전 없이 한 것.\n",
    "# 이렇게 활용할 수 있겠구나 라는 가능성을 느꼈으면 된 것."
   ]
  },
  {
   "cell_type": "code",
   "execution_count": 45,
   "id": "c09c1e8e",
   "metadata": {
    "ExecuteTime": {
     "end_time": "2023-04-03T13:45:34.816027Z",
     "start_time": "2023-04-03T13:45:34.790033Z"
    }
   },
   "outputs": [
    {
     "name": "stdout",
     "output_type": "stream",
     "text": [
      "발</w>\n",
      "<w>씨\n",
      "<w>시\n",
      "이발</w>\n",
      "<w>시발</w>\n",
      "----------\n",
      "**\n",
      "***\n",
      "C발\n",
      "**\n",
      "***\n"
     ]
    }
   ],
   "source": [
    "D = {'시발':5, '시이발':2, 'C발':5, '씨발':3, '씨이발':5}\n",
    "\n",
    "def preprocessing(d):\n",
    "    result = dict()\n",
    "    for k,v in d.items():\n",
    "        nk = ' '.join(['<w>']+list(k)+['</w>'])\n",
    "        result[nk] = v\n",
    "    return result\n",
    "\n",
    "\n",
    "d = preprocessing(D)\n",
    "p = list()\n",
    "for _ in range(5):\n",
    "    pairs = dict()\n",
    "    for k,v in d.items():\n",
    "        for i in range(len(k.split())-(2-1)):\n",
    "            bigram = ' '.join(k.split()[i:i+2])\n",
    "            if bigram in pairs:\n",
    "                pairs[bigram] += v\n",
    "            else:\n",
    "                pairs[bigram] = v\n",
    "                \n",
    "    bestkey = max(pairs, key=pairs.get)\n",
    "    \n",
    "    newd = dict()\n",
    "    for k,v in d.items():\n",
    "        nk = re.sub(bestkey, re.sub(' ', '', bestkey), k)\n",
    "        newd[nk] = v\n",
    "    d = newd\n",
    "    print(re.sub(' ', '', bestkey))\n",
    "    p.append(bestkey)\n",
    "    \n",
    "s = list()\n",
    "e = list()\n",
    "\n",
    "for t in p:\n",
    "    if t.split()[0] == '<w>':\n",
    "        s.append(''.join(t.split()[1:]))\n",
    "        \n",
    "    if t.split()[-1] == '</w>':\n",
    "        e.append(''.join(t.split()[:-1]))\n",
    "        \n",
    "pattern = list()\n",
    "for i in s:\n",
    "    for j in e:\n",
    "        pattern.append(re.compile(r'\\b{}.*?{}\\b'.format(i,j)))\n",
    "\n",
    "print('-'*10)\n",
    "        \n",
    "for d in D:\n",
    "    if sum([p.search(d) != None for p in pattern]) > 0:\n",
    "        print('*'*len(d))\n",
    "    else:\n",
    "        print(d)"
   ]
  },
  {
   "cell_type": "code",
   "execution_count": null,
   "id": "d2368ebe",
   "metadata": {},
   "outputs": [],
   "source": [
    "# 이렇게 해서 edit distance 까지 하면 전처리하는 과정은 끝남."
   ]
  },
  {
   "cell_type": "markdown",
   "id": "d6df23ca",
   "metadata": {},
   "source": [
    "#### edit distance - Hamming distance, Levenshtein distance"
   ]
  },
  {
   "cell_type": "code",
   "execution_count": 47,
   "id": "b4f44619",
   "metadata": {
    "ExecuteTime": {
     "end_time": "2023-04-03T13:47:43.374924Z",
     "start_time": "2023-04-03T13:47:43.363996Z"
    }
   },
   "outputs": [],
   "source": [
    "# NLP 에서 두 개의 스트링이 얼마나 다른지를 나타내는 척도 또는 정량화된 수치.\n",
    "# 크게 Hamming distacne, Levenshtein distance."
   ]
  },
  {
   "cell_type": "code",
   "execution_count": 46,
   "id": "296f55d1",
   "metadata": {
    "ExecuteTime": {
     "end_time": "2023-04-03T13:47:37.286956Z",
     "start_time": "2023-04-03T13:47:37.280462Z"
    }
   },
   "outputs": [],
   "source": [
    "# Hamming distance\n",
    "# 두 문자열을 단순하게 비교해서 틀린 게 몇개나 되는지. 다만 반드시 문자열의 길이가 같아야 함."
   ]
  },
  {
   "cell_type": "code",
   "execution_count": null,
   "id": "153b496a",
   "metadata": {},
   "outputs": [],
   "source": [
    "# 우리말의 경우, \n",
    "# 음절... 어절\n",
    "# 형태소... 품사 ... 어절 => 지금까지 이렇게 봄.\n",
    "\n",
    "# 이제는 글자의 생김새를 볼 것.\n",
    "# 어절(문장), 음절(단어), 음소(자음, 모음)(우리글자를 쪼개야 함)"
   ]
  },
  {
   "cell_type": "code",
   "execution_count": 48,
   "id": "2e97f231",
   "metadata": {
    "ExecuteTime": {
     "end_time": "2023-04-03T13:51:17.815520Z",
     "start_time": "2023-04-03T13:51:17.803512Z"
    }
   },
   "outputs": [
    {
     "data": {
      "text/plain": [
       "('A', 65)"
      ]
     },
     "execution_count": 48,
     "metadata": {},
     "output_type": "execute_result"
    }
   ],
   "source": [
    "chr(65), ord('A')\n",
    "# Signature: chr(i, /)\n",
    "# Docstring: Return a Unicode string of one character with ordinal i; 0 <= i <= 0x10ffff.\n",
    "\n",
    "# Signature: ord(c, /)\n",
    "# Docstring: Return the Unicode code point for a one-character string."
   ]
  },
  {
   "cell_type": "code",
   "execution_count": null,
   "id": "d9037c3a",
   "metadata": {},
   "outputs": [],
   "source": [
    "# 음절: 초성 + 중성 + 종성\n",
    "      1 _ _ _ _ _ _ _ / _ _ _ _ _ _ _ _ = 16bits (Non-ASCII)\n",
    "Trigem (         )(          )(        )  = 조합형 코드(5비트씩 끊어서 초성+중성_종성)\n",
    "완성형  1              #    = 16bits\n",
    "확장완성형1     완성형 + 더 많은 문자\n",
    "98(쀍 x)  -> 확장완성형(쀍 가능) -> 전세계 문자 통합 Unicode(UTF-8, 16, 32, ...)\n",
    "      0 _ _ _ _ _ _ _ = 8bits(ASCII)"
   ]
  },
  {
   "cell_type": "code",
   "execution_count": 49,
   "id": "2e47b248",
   "metadata": {
    "ExecuteTime": {
     "end_time": "2023-04-03T13:53:13.493521Z",
     "start_time": "2023-04-03T13:53:13.481601Z"
    }
   },
   "outputs": [
    {
     "data": {
      "text/plain": [
       "(12593, 12622, 12623)"
      ]
     },
     "execution_count": 49,
     "metadata": {},
     "output_type": "execute_result"
    }
   ],
   "source": [
    "ord('ㄱ'), ord('ㅎ'), ord('ㅏ')"
   ]
  },
  {
   "cell_type": "code",
   "execution_count": 50,
   "id": "7368d0bb",
   "metadata": {
    "ExecuteTime": {
     "end_time": "2023-04-03T13:53:16.191811Z",
     "start_time": "2023-04-03T13:53:16.187333Z"
    }
   },
   "outputs": [
    {
     "data": {
      "text/plain": [
       "29"
      ]
     },
     "execution_count": 50,
     "metadata": {},
     "output_type": "execute_result"
    }
   ],
   "source": [
    "ord('ㅎ') - ord('ㄱ')"
   ]
  },
  {
   "cell_type": "code",
   "execution_count": 51,
   "id": "139b041d",
   "metadata": {
    "ExecuteTime": {
     "end_time": "2023-04-03T13:53:44.023284Z",
     "start_time": "2023-04-03T13:53:44.006181Z"
    }
   },
   "outputs": [
    {
     "data": {
      "text/plain": [
       "'객'"
      ]
     },
     "execution_count": 51,
     "metadata": {},
     "output_type": "execute_result"
    }
   ],
   "source": [
    "chr(ord('가') + 29)  # 초성 중성 종성 = 1음절(같은 초성, 같은 중성, 종성의 순으로 나열됨)"
   ]
  },
  {
   "cell_type": "code",
   "execution_count": 52,
   "id": "480af684",
   "metadata": {
    "ExecuteTime": {
     "end_time": "2023-04-03T13:53:47.224065Z",
     "start_time": "2023-04-03T13:53:47.205763Z"
    }
   },
   "outputs": [
    {
     "data": {
      "text/plain": [
       "('각', '갂')"
      ]
     },
     "execution_count": 52,
     "metadata": {},
     "output_type": "execute_result"
    }
   ],
   "source": [
    "# 종성의 연번. 먼저 종성의 순으로 나열됨.\n",
    "chr(ord('가') + 1), chr(ord('가') + 2)"
   ]
  },
  {
   "cell_type": "code",
   "execution_count": 53,
   "id": "de5a7681",
   "metadata": {
    "ExecuteTime": {
     "end_time": "2023-04-03T13:53:58.478904Z",
     "start_time": "2023-04-03T13:53:58.465435Z"
    }
   },
   "outputs": [
    {
     "data": {
      "text/plain": [
       "(44032, '갞', 1176)"
      ]
     },
     "execution_count": 53,
     "metadata": {},
     "output_type": "execute_result"
    }
   ],
   "source": [
    "ord('가'), chr(ord('가')+30), ord('나')-ord('가')  # ㅏ 다음에 ㅐ\n",
    "#  중성              종성             초성         정보를 뽑을수가 있음."
   ]
  },
  {
   "cell_type": "code",
   "execution_count": 54,
   "id": "86fdf3ac",
   "metadata": {
    "ExecuteTime": {
     "end_time": "2023-04-03T13:54:39.074415Z",
     "start_time": "2023-04-03T13:54:39.065322Z"
    }
   },
   "outputs": [],
   "source": [
    "# 우리글은 2벌식, 3벌식(초중종)으로 나타남. 우리는 2벌식. 자음+모음 으로 한글자\n",
    "# 우리는 두벌식으로부터 3벌식을 뽑아내려고 하는 것.\n",
    "base = ord('가')"
   ]
  },
  {
   "cell_type": "code",
   "execution_count": 56,
   "id": "dc8729c3",
   "metadata": {
    "ExecuteTime": {
     "end_time": "2023-04-03T14:10:01.397164Z",
     "start_time": "2023-04-03T14:10:01.385604Z"
    },
    "scrolled": true
   },
   "outputs": [
    {
     "name": "stdout",
     "output_type": "stream",
     "text": [
      "가\n",
      "각\n",
      "갂\n",
      "갃\n",
      "간\n",
      "갅\n",
      "갆\n",
      "갇\n",
      "갈\n",
      "갉\n",
      "갊\n",
      "갋\n",
      "갌\n",
      "갍\n",
      "갎\n",
      "갏\n",
      "감\n",
      "갑\n",
      "값\n",
      "갓\n",
      "갔\n",
      "강\n",
      "갖\n",
      "갗\n",
      "갘\n",
      "같\n",
      "갚\n",
      "갛\n",
      "개\n"
     ]
    }
   ],
   "source": [
    "for i in range(29):\n",
    "    print(chr(base+i))\n",
    "    \n",
    "# 종성이 28개임을 알 수 있음."
   ]
  },
  {
   "cell_type": "code",
   "execution_count": 57,
   "id": "4adf5810",
   "metadata": {
    "ExecuteTime": {
     "end_time": "2023-04-03T14:10:34.953362Z",
     "start_time": "2023-04-03T14:10:34.946945Z"
    },
    "scrolled": true
   },
   "outputs": [
    {
     "name": "stdout",
     "output_type": "stream",
     "text": [
      "가\n",
      "개\n",
      "갸\n",
      "걔\n",
      "거\n",
      "게\n",
      "겨\n",
      "계\n",
      "고\n",
      "과\n",
      "괘\n",
      "괴\n",
      "교\n",
      "구\n",
      "궈\n",
      "궤\n",
      "귀\n",
      "규\n",
      "그\n",
      "긔\n",
      "기\n"
     ]
    }
   ],
   "source": [
    "# ㅏ 부터 ㅣ 까지 중성이 21개\n",
    "\n",
    "for i in range(21):\n",
    "    print(chr(base+(28*i)))"
   ]
  },
  {
   "cell_type": "code",
   "execution_count": 59,
   "id": "8012c0be",
   "metadata": {
    "ExecuteTime": {
     "end_time": "2023-04-03T14:11:10.898521Z",
     "start_time": "2023-04-03T14:11:10.887852Z"
    },
    "scrolled": false
   },
   "outputs": [
    {
     "name": "stdout",
     "output_type": "stream",
     "text": [
      "가\n",
      "까\n",
      "나\n",
      "다\n",
      "따\n",
      "라\n",
      "마\n",
      "바\n",
      "빠\n",
      "사\n",
      "싸\n",
      "아\n",
      "자\n",
      "짜\n",
      "차\n",
      "카\n",
      "타\n",
      "파\n",
      "하\n"
     ]
    }
   ],
   "source": [
    "for i in range(19):\n",
    "    print(chr(base+(28*21)*i))\n",
    "\n",
    "# 초성 19개"
   ]
  },
  {
   "cell_type": "code",
   "execution_count": null,
   "id": "3667493e",
   "metadata": {},
   "outputs": [],
   "source": [
    "# 초성 19개, 중성 21개, 종성 28개"
   ]
  },
  {
   "cell_type": "code",
   "execution_count": 84,
   "id": "84042199",
   "metadata": {
    "ExecuteTime": {
     "end_time": "2023-04-03T02:19:46.511115Z",
     "start_time": "2023-04-03T02:19:46.497410Z"
    }
   },
   "outputs": [
    {
     "data": {
      "text/plain": [
       "11172"
      ]
     },
     "execution_count": 84,
     "metadata": {},
     "output_type": "execute_result"
    }
   ],
   "source": [
    "# 그래서 우리 글의 음절 수는 초*중*종 해서 11172 자인 것.\n",
    "19 * 21 * 28"
   ]
  },
  {
   "cell_type": "code",
   "execution_count": 69,
   "id": "3b92fa30",
   "metadata": {
    "ExecuteTime": {
     "end_time": "2023-04-03T14:13:28.647658Z",
     "start_time": "2023-04-03T14:13:28.636051Z"
    }
   },
   "outputs": [
    {
     "data": {
      "text/plain": [
       "'ㅏ'"
      ]
     },
     "execution_count": 69,
     "metadata": {},
     "output_type": "execute_result"
    }
   ],
   "source": [
    "chr(ord('ㄱ')+30)"
   ]
  },
  {
   "cell_type": "code",
   "execution_count": 86,
   "id": "56dd491f",
   "metadata": {
    "ExecuteTime": {
     "end_time": "2023-04-03T02:21:08.938910Z",
     "start_time": "2023-04-03T02:21:08.925726Z"
    }
   },
   "outputs": [
    {
     "data": {
      "text/plain": [
       "'ㄱㄲㄳㄴㄵㄶㄷㄸㄹㄺㄻㄼㄽㄾㄿㅀㅁㅂㅃㅄㅅㅆㅇㅈㅉㅊㅋㅌㅍㅎ'"
      ]
     },
     "execution_count": 86,
     "metadata": {},
     "output_type": "execute_result"
    }
   ],
   "source": [
    "''.join([chr(ord('ㄱ')+i) for i in range(30)])"
   ]
  },
  {
   "cell_type": "code",
   "execution_count": 88,
   "id": "7e5bc322",
   "metadata": {
    "ExecuteTime": {
     "end_time": "2023-04-03T02:22:19.426168Z",
     "start_time": "2023-04-03T02:22:19.420126Z"
    }
   },
   "outputs": [
    {
     "data": {
      "text/plain": [
       "'ㅏㅐㅑㅒㅓㅔㅕㅖㅗㅘㅙㅚㅛㅜㅝㅞㅟㅠㅡㅢㅣ'"
      ]
     },
     "execution_count": 88,
     "metadata": {},
     "output_type": "execute_result"
    }
   ],
   "source": [
    "''.join([chr(ord('ㅏ')+i) for i in range(21)])"
   ]
  },
  {
   "cell_type": "code",
   "execution_count": 76,
   "id": "6203ba5d",
   "metadata": {
    "ExecuteTime": {
     "end_time": "2023-04-03T14:15:31.418055Z",
     "start_time": "2023-04-03T14:15:31.402539Z"
    }
   },
   "outputs": [
    {
     "data": {
      "text/plain": [
       "'가까나다따라마바빠사싸아자짜차카타파하'"
      ]
     },
     "execution_count": 76,
     "metadata": {},
     "output_type": "execute_result"
    }
   ],
   "source": [
    "base = ord('가')\n",
    "cho = list('ㄱㄲㄴㄷㄸㄹㅁㅂㅃㅅㅆㅇㅈㅉㅊㅋㅌㅍㅎ')\n",
    "jung = list('ㅏㅐㅑㅒㅓㅔㅕㅖㅗㅘㅙㅚㅛㅜㅝㅞㅟㅠㅡㅢㅣ')\n",
    "jong = list(' ㄱㄲㄳㄴㄵㄶㄷㄹㄺㄻㄼㄽㄾㄿㅀㅁㅂㅄㅅㅆㅇㅈㅊㅋㅌㅍㅎ')\n",
    "\n",
    "# 초성 19개, 중성 21개, 종성 28개\n",
    "''.join([chr(base+(28*21)*i) for i in range(19)])  # 초성\n",
    "#''.join([chr(base+(28*i)) for i in range(21)])    # 중성\n",
    "#''.join([chr(base+i) for i in range(28)])         # 종성"
   ]
  },
  {
   "cell_type": "code",
   "execution_count": 179,
   "id": "75e5d5fe",
   "metadata": {
    "ExecuteTime": {
     "end_time": "2023-04-03T04:28:13.328196Z",
     "start_time": "2023-04-03T04:28:13.315461Z"
    }
   },
   "outputs": [
    {
     "data": {
      "text/plain": [
       "28"
      ]
     },
     "execution_count": 179,
     "metadata": {},
     "output_type": "execute_result"
    }
   ],
   "source": [
    "len('가각갂갃간갅갆갇갈갉갊갋갌갍갎갏감갑값갓갔강갖갗갘같갚갛')"
   ]
  },
  {
   "cell_type": "code",
   "execution_count": 73,
   "id": "86f2615f",
   "metadata": {
    "ExecuteTime": {
     "end_time": "2023-04-03T14:14:52.549649Z",
     "start_time": "2023-04-03T14:14:52.536473Z"
    }
   },
   "outputs": [
    {
     "data": {
      "text/plain": [
       "(19, 21, 28)"
      ]
     },
     "execution_count": 73,
     "metadata": {},
     "output_type": "execute_result"
    }
   ],
   "source": [
    "len(cho), len(jung), len(jong)"
   ]
  },
  {
   "cell_type": "code",
   "execution_count": 74,
   "id": "bf006656",
   "metadata": {
    "ExecuteTime": {
     "end_time": "2023-04-03T14:14:53.918233Z",
     "start_time": "2023-04-03T14:14:53.906374Z"
    }
   },
   "outputs": [
    {
     "data": {
      "text/plain": [
       "44032"
      ]
     },
     "execution_count": 74,
     "metadata": {},
     "output_type": "execute_result"
    }
   ],
   "source": [
    "base"
   ]
  },
  {
   "cell_type": "code",
   "execution_count": 75,
   "id": "21318e44",
   "metadata": {
    "ExecuteTime": {
     "end_time": "2023-04-03T14:15:17.267126Z",
     "start_time": "2023-04-03T14:15:17.247991Z"
    }
   },
   "outputs": [
    {
     "data": {
      "text/plain": [
       "(0, 0)"
      ]
     },
     "execution_count": 75,
     "metadata": {},
     "output_type": "execute_result"
    }
   ],
   "source": [
    "(base-ord('가')) // (21*28), (base-ord('가')) % (21*28)"
   ]
  },
  {
   "cell_type": "code",
   "execution_count": 117,
   "id": "757707e6",
   "metadata": {
    "ExecuteTime": {
     "end_time": "2023-04-03T02:41:17.510600Z",
     "start_time": "2023-04-03T02:41:17.492686Z"
    }
   },
   "outputs": [
    {
     "data": {
      "text/plain": [
       "(2, 0, 0)"
      ]
     },
     "execution_count": 117,
     "metadata": {},
     "output_type": "execute_result"
    }
   ],
   "source": [
    "c = '나'\n",
    "(ord(c)-base) // (21*28), ((ord(c)-base) % (21*28)) // 28, ((ord(c)-base) % (21*28)) % 21"
   ]
  },
  {
   "cell_type": "code",
   "execution_count": 151,
   "id": "283535f2",
   "metadata": {
    "ExecuteTime": {
     "end_time": "2023-04-03T03:07:07.525654Z",
     "start_time": "2023-04-03T03:07:07.513610Z"
    }
   },
   "outputs": [
    {
     "data": {
      "text/plain": [
       "'ㄴ'"
      ]
     },
     "execution_count": 151,
     "metadata": {},
     "output_type": "execute_result"
    }
   ],
   "source": [
    "cho[2]  #ㄴ 나와야함"
   ]
  },
  {
   "cell_type": "code",
   "execution_count": 78,
   "id": "14090589",
   "metadata": {
    "ExecuteTime": {
     "end_time": "2023-04-03T14:18:49.504470Z",
     "start_time": "2023-04-03T14:18:49.485594Z"
    }
   },
   "outputs": [],
   "source": [
    "def str2trigem(s):\n",
    "    base = ord('가')\n",
    "    result = list()\n",
    "    for c in list(s):\n",
    "        if re.match('[가-힣]', c):\n",
    "            c1, c23 = divmod(ord(c)-base, 21*28)  # c1 = 몫(초성),  c23 = 나머지\n",
    "            c2, c3 = divmod(c23, 28)  # c2 = 몫 (중성)\n",
    "            result.append(cho[c1])\n",
    "            result.append(jung[c2])\n",
    "            result.append(jong[c3])\n",
    "        else:\n",
    "            result.append(c)\n",
    "    return ''.join(result)"
   ]
  },
  {
   "cell_type": "code",
   "execution_count": 77,
   "id": "e941aed8",
   "metadata": {
    "ExecuteTime": {
     "end_time": "2023-04-03T14:16:26.915696Z",
     "start_time": "2023-04-03T14:16:26.902460Z"
    }
   },
   "outputs": [
    {
     "data": {
      "text/plain": [
       "(4, 2)"
      ]
     },
     "execution_count": 77,
     "metadata": {},
     "output_type": "execute_result"
    }
   ],
   "source": [
    "divmod(30, 7)\n",
    "# (몫, 나머지)"
   ]
  },
  {
   "cell_type": "code",
   "execution_count": 81,
   "id": "1883c35a",
   "metadata": {
    "ExecuteTime": {
     "end_time": "2023-04-03T14:19:21.880542Z",
     "start_time": "2023-04-03T14:19:21.868349Z"
    }
   },
   "outputs": [
    {
     "data": {
      "text/plain": [
       "'ㄴㅏ '"
      ]
     },
     "execution_count": 81,
     "metadata": {},
     "output_type": "execute_result"
    }
   ],
   "source": [
    "str2trigem('나')"
   ]
  },
  {
   "cell_type": "code",
   "execution_count": 100,
   "id": "c22ff89e",
   "metadata": {
    "ExecuteTime": {
     "end_time": "2023-04-03T14:35:46.503305Z",
     "start_time": "2023-04-03T14:35:46.492571Z"
    }
   },
   "outputs": [
    {
     "data": {
      "text/plain": [
       "'ㄷㅗㅇㅎㅐ ㅁㅜㄹㄱㅘ  ㅂㅐㄱㄷㅜ ㅅㅏㄴㅇㅣ '"
      ]
     },
     "execution_count": 100,
     "metadata": {},
     "output_type": "execute_result"
    }
   ],
   "source": [
    "str2trigem('동해물과 백두산이')"
   ]
  },
  {
   "cell_type": "code",
   "execution_count": 95,
   "id": "42fbc60a",
   "metadata": {
    "ExecuteTime": {
     "end_time": "2023-04-03T14:31:01.426857Z",
     "start_time": "2023-04-03T14:31:01.415694Z"
    }
   },
   "outputs": [
    {
     "data": {
      "text/plain": [
       "25"
      ]
     },
     "execution_count": 95,
     "metadata": {},
     "output_type": "execute_result"
    }
   ],
   "source": [
    "len(str2trigem('동해물과 백두산이'))"
   ]
  },
  {
   "cell_type": "code",
   "execution_count": 83,
   "id": "348a783d",
   "metadata": {
    "ExecuteTime": {
     "end_time": "2023-04-03T14:26:29.540825Z",
     "start_time": "2023-04-03T14:26:29.523077Z"
    }
   },
   "outputs": [],
   "source": [
    "def trigem2str(s):\n",
    "    result = list()\n",
    "    i = 0\n",
    "    while True:\n",
    "#    for i in range(len(s)):\n",
    "        if re.match('[{}]'.format(''.join(cho)), s[i]) and \\\n",
    "        re.match('[{}][{}][{}]'.format(''.join(cho), ''.join(jung), ''.join(jong)), s[i:i+3]):\n",
    "            c1 = cho.index(s[i])\n",
    "            c2 = jung.index(s[i+1])\n",
    "            c3 = jong.index(s[i+2])\n",
    "            c = (28*21)*c1\n",
    "            c += 28*c2\n",
    "            c += c3\n",
    "            result.append(chr(ord('가')+c))\n",
    "            i += 3\n",
    "        else:\n",
    "            result.append(s[i])\n",
    "            i += 1\n",
    "            \n",
    "        if i >= len(s):\n",
    "            break\n",
    "            \n",
    "    return ''.join(result)"
   ]
  },
  {
   "cell_type": "code",
   "execution_count": 84,
   "id": "f652b3e7",
   "metadata": {
    "ExecuteTime": {
     "end_time": "2023-04-03T14:26:30.979814Z",
     "start_time": "2023-04-03T14:26:30.967462Z"
    }
   },
   "outputs": [
    {
     "data": {
      "text/plain": [
       "'ㄷㅗㅇ123ㅎㅐ ㅁㅜㄹㄱㅘ  ㅂㅐㄱㄷㅜ ㅅㅏㄴㅇㅣ '"
      ]
     },
     "execution_count": 84,
     "metadata": {},
     "output_type": "execute_result"
    }
   ],
   "source": [
    "str2trigem('동123해물과 백두산이')"
   ]
  },
  {
   "cell_type": "code",
   "execution_count": 86,
   "id": "716a70ec",
   "metadata": {
    "ExecuteTime": {
     "end_time": "2023-04-03T14:26:42.448397Z",
     "start_time": "2023-04-03T14:26:42.436227Z"
    }
   },
   "outputs": [
    {
     "data": {
      "text/plain": [
       "'동해물과 백두산이'"
      ]
     },
     "execution_count": 86,
     "metadata": {},
     "output_type": "execute_result"
    }
   ],
   "source": [
    "trigem2str(str2trigem('동해물과 백두산이'))"
   ]
  },
  {
   "cell_type": "code",
   "execution_count": 89,
   "id": "744dedbf",
   "metadata": {
    "ExecuteTime": {
     "end_time": "2023-04-03T14:27:41.876246Z",
     "start_time": "2023-04-03T14:27:41.858841Z"
    }
   },
   "outputs": [
    {
     "data": {
      "text/plain": [
       "2"
      ]
     },
     "execution_count": 89,
     "metadata": {},
     "output_type": "execute_result"
    }
   ],
   "source": [
    "def hammingDist(s1, s2, useTrigem=False):\n",
    "    if len(s1) != len(s2):\n",
    "        return '길이가 다름'\n",
    "    \n",
    "    if useTrigem:\n",
    "        s1, s2 = str2trigem(s1), str2trigem(s2)\n",
    "        \n",
    "    return sum([c1 != c2 for c1, c2 in zip(s1, s2)])\n",
    "\n",
    "hammingDist('고려대학교', '연세대학교')"
   ]
  },
  {
   "cell_type": "code",
   "execution_count": null,
   "id": "dc91630b",
   "metadata": {},
   "outputs": [],
   "source": [
    "# 1. 문자열의 길이가 다른 경우 - 체크 못함\n",
    "# 2. 사람이 봤을 때, 문자열이 서로 비슷함에도 불구하고 많이 다르다고 나옴\n",
    "# 3. 음절 = 음소. 분명 음소 틀린게 오타일 것인데 두 개의 차이점을 분간하지 못함. 그래서 바로 밑에서 비율로 본 것."
   ]
  },
  {
   "cell_type": "code",
   "execution_count": 93,
   "id": "21524f1d",
   "metadata": {
    "ExecuteTime": {
     "end_time": "2023-04-03T14:29:40.766923Z",
     "start_time": "2023-04-03T14:29:40.758005Z"
    }
   },
   "outputs": [
    {
     "data": {
      "text/plain": [
       "('길이가 다름', 4, 1, 1)"
      ]
     },
     "execution_count": 93,
     "metadata": {},
     "output_type": "execute_result"
    }
   ],
   "source": [
    "hammingDist('고려대학교', '고구려대학교'), \\\n",
    "hammingDist('고려대학교', '고구려대학'), \\\n",
    "hammingDist('고려대학교', '골려대학교'), \\\n",
    "hammingDist('고려대학교', '골려대학교', True)\n",
    "  # 1번 케이스\n",
    "   # 순서대로 비교해서 4개나 나옴 - 2번 케이스\n",
    "   # 3-1\n",
    "    # 3-2"
   ]
  },
  {
   "cell_type": "code",
   "execution_count": 102,
   "id": "df62a29f",
   "metadata": {
    "ExecuteTime": {
     "end_time": "2023-04-03T14:36:35.889090Z",
     "start_time": "2023-04-03T14:36:35.875566Z"
    }
   },
   "outputs": [
    {
     "data": {
      "text/plain": [
       "' '"
      ]
     },
     "execution_count": 102,
     "metadata": {},
     "output_type": "execute_result"
    }
   ],
   "source": [
    "str2trigem('고려대학교')[2]  # 종성의 맨 처음에 ' '가 있기 때문"
   ]
  },
  {
   "cell_type": "code",
   "execution_count": 98,
   "id": "61fc2e21",
   "metadata": {
    "ExecuteTime": {
     "end_time": "2023-04-03T14:34:29.613490Z",
     "start_time": "2023-04-03T14:34:29.596783Z"
    }
   },
   "outputs": [
    {
     "data": {
      "text/plain": [
       "('ㄱㅗ ㄹㅕ ㄷㅐ ㅎㅏㄱㄱㅛ ', 'ㄱㅗㄹㄹㅕ ㄷㅐ ㅎㅏㄱㄱㅛ ')"
      ]
     },
     "execution_count": 98,
     "metadata": {},
     "output_type": "execute_result"
    }
   ],
   "source": [
    "str2trigem('고려대학교'), str2trigem('골려대학교')"
   ]
  },
  {
   "cell_type": "code",
   "execution_count": 97,
   "id": "a6bf87de",
   "metadata": {
    "ExecuteTime": {
     "end_time": "2023-04-03T14:33:40.381089Z",
     "start_time": "2023-04-03T14:33:40.368945Z"
    }
   },
   "outputs": [
    {
     "name": "stdout",
     "output_type": "stream",
     "text": [
      "ㄱ ㄱ\n",
      "ㅗ ㅗ\n",
      "  ㄹ\n",
      "ㄹ ㄹ\n",
      "ㅕ ㅕ\n",
      "   \n",
      "ㄷ ㄷ\n",
      "ㅐ ㅐ\n",
      "   \n",
      "ㅎ ㅎ\n",
      "ㅏ ㅏ\n",
      "ㄱ ㄱ\n",
      "ㄱ ㄱ\n",
      "ㅛ ㅛ\n",
      "   \n"
     ]
    }
   ],
   "source": [
    "for a, b in zip(str2trigem('고려대학교'), str2trigem('골려대학교')):\n",
    "    print(a, b)"
   ]
  },
  {
   "cell_type": "code",
   "execution_count": 103,
   "id": "dfb05100",
   "metadata": {
    "ExecuteTime": {
     "end_time": "2023-04-03T14:37:33.628663Z",
     "start_time": "2023-04-03T14:37:33.614644Z"
    }
   },
   "outputs": [
    {
     "data": {
      "text/plain": [
       "(0.8, 0.2, 0.06666666666666667)"
      ]
     },
     "execution_count": 103,
     "metadata": {},
     "output_type": "execute_result"
    }
   ],
   "source": [
    "hammingDist('고려대학교', '고구려대학')/len('고려대학교'), \\\n",
    "hammingDist('고려대학교', '골려대학교')/len('고려대학교'), \\\n",
    "hammingDist('고려대학교', '골려대학교', True)/len(str2trigem('고려대학교'))"
   ]
  },
  {
   "cell_type": "code",
   "execution_count": null,
   "id": "5bc88124",
   "metadata": {},
   "outputs": [],
   "source": [
    "# threshold 줘서 특정 값보다 작으면 오타구나! 알 수 있음 -> 서로 얼마나 다른지 비교할 수 있음."
   ]
  },
  {
   "cell_type": "code",
   "execution_count": null,
   "id": "b1386f32",
   "metadata": {},
   "outputs": [],
   "source": [
    "# Levenshtein distance.\n",
    "# 차이를 측정함. 그런데 얘는 3가지로 분류함.\n",
    "# 삽입, 수정, 삭제 -> 연산횟수를 최소를 찾음"
   ]
  },
  {
   "attachments": {
    "image.png": {
     "image/png": "[encoded data removed]"
    }
   },
   "cell_type": "markdown",
   "id": "f02531f4",
   "metadata": {},
   "source": [
    "![image.png](attachment:image.png)"
   ]
  },
  {
   "cell_type": "code",
   "execution_count": 104,
   "id": "9ed1c7c6",
   "metadata": {
    "ExecuteTime": {
     "end_time": "2023-04-03T14:39:36.193592Z",
     "start_time": "2023-04-03T14:39:36.178718Z"
    }
   },
   "outputs": [],
   "source": [
    "def lev(s1, s2):\n",
    "    if len(s1) == 0:   # case 1\n",
    "        return len(s2)\n",
    "    if len(s2) == 0:   # case 2\n",
    "        return len(s1)\n",
    "    if s1[0] == s2[0]: # case 3\n",
    "        return lev(s1[1:], s2[1:])\n",
    "    else:\n",
    "        return min([\n",
    "            .5+lev(s1[1:], s2),    # case 4\n",
    "            .5+lev(s1, s2[1:]),    # case 5\n",
    "            .1+lev(s1[1:], s2[1:]),# case 6\n",
    "        ])"
   ]
  },
  {
   "cell_type": "code",
   "execution_count": 161,
   "id": "2ba2adeb",
   "metadata": {
    "ExecuteTime": {
     "end_time": "2023-04-03T03:24:45.770925Z",
     "start_time": "2023-04-03T03:24:45.760716Z"
    }
   },
   "outputs": [
    {
     "data": {
      "text/plain": [
       "(3.1, 2.3, 0.4)"
      ]
     },
     "execution_count": 161,
     "metadata": {},
     "output_type": "execute_result"
    }
   ],
   "source": [
    "# cost 를 내 마음대로!\n",
    "lev('고대', '고려대학교'), \\\n",
    "lev('고려대학교', '고대'), \\\n",
    "lev('고려대학교', '고구려대학')"
   ]
  },
  {
   "cell_type": "code",
   "execution_count": 105,
   "id": "b926d512",
   "metadata": {
    "ExecuteTime": {
     "end_time": "2023-04-03T14:39:50.351524Z",
     "start_time": "2023-04-03T14:39:50.336281Z"
    }
   },
   "outputs": [
    {
     "data": {
      "text/plain": [
       "0.4"
      ]
     },
     "execution_count": 105,
     "metadata": {},
     "output_type": "execute_result"
    }
   ],
   "source": [
    "lev('고구려대학', '고려대학교')"
   ]
  },
  {
   "cell_type": "code",
   "execution_count": null,
   "id": "9d804caa",
   "metadata": {},
   "outputs": [],
   "source": [
    "  고 려 대 학 교 => s2\n",
    "고 (case3)\n",
    "구   *  (case4 : s1 입장에서 보면 글자가 하나 삭제된 것)   + cost\n",
    "려      (case5 : s2 입장에서 보면 글자가 하나 추가된 것)   + cost\n",
    "대      (case6 : s1, s2에 서로 다른 글자가 들어갔으니 오타 또는 수정)  + cost\n",
    "학\n",
    "s1"
   ]
  },
  {
   "cell_type": "code",
   "execution_count": null,
   "id": "69438d38",
   "metadata": {},
   "outputs": [],
   "source": [
    "  고 려 대 학 교 => s2\n",
    "0\n",
    "s1   # case 1"
   ]
  },
  {
   "cell_type": "code",
   "execution_count": null,
   "id": "fd0b4073",
   "metadata": {},
   "outputs": [],
   "source": [
    "# case1.transpos() => case2"
   ]
  },
  {
   "cell_type": "code",
   "execution_count": 106,
   "id": "f7ede44f",
   "metadata": {
    "ExecuteTime": {
     "end_time": "2023-04-03T14:41:44.312676Z",
     "start_time": "2023-04-03T14:41:43.661017Z"
    }
   },
   "outputs": [
    {
     "data": {
      "text/plain": [
       "0.1"
      ]
     },
     "execution_count": 106,
     "metadata": {},
     "output_type": "execute_result"
    }
   ],
   "source": [
    "# HammingDist 보다 좀 더 자세히 해볼 수 있음\n",
    "lev('Levenshtein', 'levenshtein')"
   ]
  },
  {
   "cell_type": "code",
   "execution_count": 109,
   "id": "3498ff1e",
   "metadata": {
    "ExecuteTime": {
     "end_time": "2023-04-03T14:49:38.973856Z",
     "start_time": "2023-04-03T14:49:38.957903Z"
    }
   },
   "outputs": [
    {
     "data": {
      "text/plain": [
       "(4, 0.4)"
      ]
     },
     "execution_count": 109,
     "metadata": {},
     "output_type": "execute_result"
    }
   ],
   "source": [
    "hammingDist('고려대학교', '고구려대학'), lev('고려대학교', '고구려대학')\n",
    "# lev 가 hammingDist 보다 더 좋음"
   ]
  },
  {
   "cell_type": "code",
   "execution_count": 108,
   "id": "7d2d76b9",
   "metadata": {
    "ExecuteTime": {
     "end_time": "2023-04-03T14:42:18.864576Z",
     "start_time": "2023-04-03T14:42:18.853107Z"
    }
   },
   "outputs": [
    {
     "data": {
      "text/plain": [
       "(1, 0.1)"
      ]
     },
     "execution_count": 108,
     "metadata": {},
     "output_type": "execute_result"
    }
   ],
   "source": [
    "hammingDist('아녕', '안녕'), lev('아녕', '안녕')"
   ]
  },
  {
   "cell_type": "code",
   "execution_count": null,
   "id": "f3bbe429",
   "metadata": {},
   "outputs": [],
   "source": [
    "# Dynamic Programming(재귀적)\n",
    "# 텍스트 오타를 발견하는데 유리"
   ]
  },
  {
   "cell_type": "code",
   "execution_count": null,
   "id": "4c5ab0fd",
   "metadata": {},
   "outputs": [],
   "source": [
    "# 내일부터는 텍스트 마이닝 관련 중 정보검색을 할 거임\n",
    "# 내일은 눈에 안 보이는 것으로 싸울 것. 머리속에 구조가 있어야 함."
   ]
  }
 ],
 "metadata": {
  "kernelspec": {
   "display_name": "Python 3 (ipykernel)",
   "language": "python",
   "name": "python3"
  },
  "language_info": {
   "codemirror_mode": {
    "name": "ipython",
    "version": 3
   },
   "file_extension": ".py",
   "mimetype": "text/x-python",
   "name": "python",
   "nbconvert_exporter": "python",
   "pygments_lexer": "ipython3",
   "version": "3.10.9"
  },
  "toc": {
   "base_numbering": 1,
   "nav_menu": {},
   "number_sections": true,
   "sideBar": true,
   "skip_h1_title": false,
   "title_cell": "Table of Contents",
   "title_sidebar": "Contents",
   "toc_cell": false,
   "toc_position": {},
   "toc_section_display": true,
   "toc_window_display": false
  },
  "varInspector": {
   "cols": {
    "lenName": 16,
    "lenType": 16,
    "lenVar": 40
   },
   "kernels_config": {
    "python": {
     "delete_cmd_postfix": "",
     "delete_cmd_prefix": "del ",
     "library": "var_list.py",
     "varRefreshCmd": "print(var_dic_list())"
    },
    "r": {
     "delete_cmd_postfix": ") ",
     "delete_cmd_prefix": "rm(",
     "library": "var_list.r",
     "varRefreshCmd": "cat(var_dic_list()) "
    }
   },
   "types_to_exclude": [
    "module",
    "function",
    "builtin_function_or_method",
    "instance",
    "_Feature"
   ],
   "window_display": false
  }
 },
 "nbformat": 4,
 "nbformat_minor": 5
}
