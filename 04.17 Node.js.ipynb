{
 "cells": [
  {
   "cell_type": "code",
   "execution_count": null,
   "id": "297d3ff1",
   "metadata": {},
   "outputs": [],
   "source": [
    "# 쿠버네티스의 사용이유\n",
    "# Scheduling - 어느 컨테이너를 어떤 호스트에다가 사용하게 할 것인가.\n",
    "# Controller - 원하는 상태와 실제 상태가 차이가 나면 동기화 시켜주는 것. 모자란 컨테이너를 어딘가에 뜨게 함 (자가 치유 - auto healing)\n",
    "# 이번주에 할 Node.js 도 쿠버네티스 클러스에 배포 가능함"
   ]
  },
  {
   "cell_type": "code",
   "execution_count": null,
   "id": "d429dc60",
   "metadata": {},
   "outputs": [],
   "source": [
    "# 이번주는, 만든 데이터 셋을 누군가 이용해야 함. 사용자가 시각화시켜 볼 수 있게 해야 함. 최근에 많이 쓰는 것이 웹앱(JS+HTML5)\n",
    "# 이 중 가장 유명한 게 React, Vue(Frontend)\n",
    "# 이걸로 목적은 시각화 인 것.\n",
    "# 웹앱이 데이터 혹은 DB에 직접 접근하는 것은 허용되지 앟음(보안 모델 때문에) - SandBox(보안요소; 유일하게 HTTP(S)로만 통신하게 일부 허용)\n",
    "# Backend API 를 Node.js 로 만듦."
   ]
  },
  {
   "cell_type": "code",
   "execution_count": null,
   "id": "4a6f148b",
   "metadata": {},
   "outputs": [],
   "source": [
    "# 웹은 클라이언트가 있고 서버가 있음.\n",
    "# 이 얘기는 항상 요청과 응답의 쌍으로 작업이 이루어짐.\n",
    "# 요청이 있으면 서버가 응답을 함. (Request-Response)\n",
    "# 요청하는 측(사용자와 가까운) - 프론트 => 여기서 가장 유명한 환경이 웹\n",
    "# 응답해주는 측(사용자와 먼) - 백엔드\n",
    "# 어떤 형식으로 요청, 응답하는지 정해진 규칙이 프로토콜 => HTTP, HTTPS\n",
    "# 요청하는 방식, 요청하는 경로 등 일정한 규칙에 따라서 요청하고 응답함(HTTP 프로토콜)\n",
    "# 백엔드에서 데이터를 만들어냄. DB 서버 같은 곳 가서 데이터를 가져옴.\n",
    "# 이를 만들어내기 위해서 Node.js 라는 런타임 엔진을 사용할 것.\n",
    "# 우리가 원하는 것은 데이터를 만들어서 응답하는 것.\n",
    "# 데이터에 응답하는 것이 RESTful API"
   ]
  },
  {
   "cell_type": "code",
   "execution_count": null,
   "id": "b1de9124",
   "metadata": {},
   "outputs": [],
   "source": [
    "# 브라우저 영역 안에서 하는 것은 제약이 있음. 샌드박스 보안\n",
    "# 그래서 로컬 서버에서 실행할 수 있도록 만든 것이 노드js"
   ]
  },
  {
   "cell_type": "code",
   "execution_count": null,
   "id": "24461985",
   "metadata": {},
   "outputs": [],
   "source": [
    "# 우리는 Babel 트랜스파일러 씀(ES6 코드를 쓸 것이기 때문에)"
   ]
  },
  {
   "cell_type": "code",
   "execution_count": null,
   "id": "24e66bff",
   "metadata": {},
   "outputs": [],
   "source": [
    "# 실행중에 데이터 타입이 바뀔 수 있는 것을 동적 타입 => 파이썬"
   ]
  },
  {
   "cell_type": "code",
   "execution_count": null,
   "id": "908651b1",
   "metadata": {},
   "outputs": [],
   "source": []
  },
  {
   "cell_type": "code",
   "execution_count": null,
   "id": "5974e67e",
   "metadata": {},
   "outputs": [],
   "source": []
  },
  {
   "cell_type": "code",
   "execution_count": null,
   "id": "fcde9c48",
   "metadata": {},
   "outputs": [],
   "source": []
  },
  {
   "cell_type": "code",
   "execution_count": null,
   "id": "576265b7",
   "metadata": {},
   "outputs": [],
   "source": []
  },
  {
   "cell_type": "code",
   "execution_count": null,
   "id": "09aab01e",
   "metadata": {},
   "outputs": [],
   "source": []
  },
  {
   "cell_type": "code",
   "execution_count": null,
   "id": "93afff92",
   "metadata": {},
   "outputs": [],
   "source": []
  },
  {
   "cell_type": "code",
   "execution_count": null,
   "id": "0828cec1",
   "metadata": {},
   "outputs": [],
   "source": []
  },
  {
   "cell_type": "code",
   "execution_count": null,
   "id": "6d57722d",
   "metadata": {},
   "outputs": [],
   "source": []
  },
  {
   "cell_type": "code",
   "execution_count": null,
   "id": "845f710d",
   "metadata": {},
   "outputs": [],
   "source": []
  },
  {
   "cell_type": "code",
   "execution_count": null,
   "id": "4e028165",
   "metadata": {},
   "outputs": [],
   "source": []
  },
  {
   "cell_type": "code",
   "execution_count": null,
   "id": "c65c9258",
   "metadata": {},
   "outputs": [],
   "source": []
  },
  {
   "cell_type": "code",
   "execution_count": null,
   "id": "763c5355",
   "metadata": {},
   "outputs": [],
   "source": []
  },
  {
   "cell_type": "code",
   "execution_count": null,
   "id": "55ea37ff",
   "metadata": {},
   "outputs": [],
   "source": []
  },
  {
   "cell_type": "code",
   "execution_count": null,
   "id": "c6f37063",
   "metadata": {},
   "outputs": [],
   "source": []
  },
  {
   "cell_type": "code",
   "execution_count": null,
   "id": "29c410d1",
   "metadata": {},
   "outputs": [],
   "source": []
  },
  {
   "cell_type": "code",
   "execution_count": null,
   "id": "9212ae75",
   "metadata": {},
   "outputs": [],
   "source": []
  },
  {
   "cell_type": "code",
   "execution_count": null,
   "id": "490d1157",
   "metadata": {},
   "outputs": [],
   "source": []
  },
  {
   "cell_type": "code",
   "execution_count": null,
   "id": "78c50383",
   "metadata": {},
   "outputs": [],
   "source": []
  },
  {
   "cell_type": "code",
   "execution_count": null,
   "id": "96397be2",
   "metadata": {},
   "outputs": [],
   "source": []
  },
  {
   "cell_type": "code",
   "execution_count": null,
   "id": "190f96a5",
   "metadata": {},
   "outputs": [],
   "source": []
  },
  {
   "cell_type": "code",
   "execution_count": null,
   "id": "c4880f93",
   "metadata": {},
   "outputs": [],
   "source": []
  },
  {
   "cell_type": "code",
   "execution_count": null,
   "id": "9bf8ef12",
   "metadata": {},
   "outputs": [],
   "source": []
  }
 ],
 "metadata": {
  "kernelspec": {
   "display_name": "Python 3 (ipykernel)",
   "language": "python",
   "name": "python3"
  },
  "language_info": {
   "codemirror_mode": {
    "name": "ipython",
    "version": 3
   },
   "file_extension": ".py",
   "mimetype": "text/x-python",
   "name": "python",
   "nbconvert_exporter": "python",
   "pygments_lexer": "ipython3",
   "version": "3.10.9"
  },
  "toc": {
   "base_numbering": 1,
   "nav_menu": {},
   "number_sections": true,
   "sideBar": true,
   "skip_h1_title": false,
   "title_cell": "Table of Contents",
   "title_sidebar": "Contents",
   "toc_cell": false,
   "toc_position": {},
   "toc_section_display": true,
   "toc_window_display": false
  },
  "varInspector": {
   "cols": {
    "lenName": 16,
    "lenType": 16,
    "lenVar": 40
   },
   "kernels_config": {
    "python": {
     "delete_cmd_postfix": "",
     "delete_cmd_prefix": "del ",
     "library": "var_list.py",
     "varRefreshCmd": "print(var_dic_list())"
    },
    "r": {
     "delete_cmd_postfix": ") ",
     "delete_cmd_prefix": "rm(",
     "library": "var_list.r",
     "varRefreshCmd": "cat(var_dic_list()) "
    }
   },
   "types_to_exclude": [
    "module",
    "function",
    "builtin_function_or_method",
    "instance",
    "_Feature"
   ],
   "window_display": false
  }
 },
 "nbformat": 4,
 "nbformat_minor": 5
}
